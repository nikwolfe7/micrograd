{
  "nbformat": 4,
  "nbformat_minor": 0,
  "metadata": {
    "colab": {
      "provenance": [],
      "authorship_tag": "ABX9TyOy89VLD7Ek0k6ZENptSjpj",
      "include_colab_link": true
    },
    "kernelspec": {
      "name": "python3",
      "display_name": "Python 3"
    },
    "language_info": {
      "name": "python"
    }
  },
  "cells": [
    {
      "cell_type": "markdown",
      "metadata": {
        "id": "view-in-github",
        "colab_type": "text"
      },
      "source": [
        "<a href=\"https://colab.research.google.com/github/nikwolfe7/micrograd/blob/master/micrograd_yay.ipynb\" target=\"_parent\"><img src=\"https://colab.research.google.com/assets/colab-badge.svg\" alt=\"Open In Colab\"/></a>"
      ]
    },
    {
      "cell_type": "code",
      "execution_count": 2,
      "metadata": {
        "id": "4t3r9lDvHB62"
      },
      "outputs": [],
      "source": [
        "import math\n",
        "import numpy as np\n",
        "import matplotlib.pyplot as plt\n",
        "import copy\n",
        "%matplotlib inline"
      ]
    },
    {
      "cell_type": "code",
      "source": [
        "def f(x):\n",
        "  return 3 * x ** 2 - 4 * x + 5"
      ],
      "metadata": {
        "id": "p_9R4vurHgZ5"
      },
      "execution_count": 3,
      "outputs": []
    },
    {
      "cell_type": "code",
      "source": [
        "f(3.0)"
      ],
      "metadata": {
        "colab": {
          "base_uri": "https://localhost:8080/"
        },
        "id": "cab9LHbvHwh9",
        "outputId": "170dfa50-9322-4b7a-ca2d-a366cae6b6c8"
      },
      "execution_count": 4,
      "outputs": [
        {
          "output_type": "execute_result",
          "data": {
            "text/plain": [
              "20.0"
            ]
          },
          "metadata": {},
          "execution_count": 4
        }
      ]
    },
    {
      "cell_type": "code",
      "source": [
        "# range of numbers from -5 to 5, steps of 0.25\n",
        "xs = np.arange(-5, 5, 0.25)\n",
        "# get a set of values for f(x)\n",
        "ys = f(xs)\n",
        "ys"
      ],
      "metadata": {
        "colab": {
          "base_uri": "https://localhost:8080/"
        },
        "id": "nxYN6IDsHxdw",
        "outputId": "c70fc418-919d-4014-a276-d7558ec70dfa"
      },
      "execution_count": 5,
      "outputs": [
        {
          "output_type": "execute_result",
          "data": {
            "text/plain": [
              "array([100.    ,  91.6875,  83.75  ,  76.1875,  69.    ,  62.1875,\n",
              "        55.75  ,  49.6875,  44.    ,  38.6875,  33.75  ,  29.1875,\n",
              "        25.    ,  21.1875,  17.75  ,  14.6875,  12.    ,   9.6875,\n",
              "         7.75  ,   6.1875,   5.    ,   4.1875,   3.75  ,   3.6875,\n",
              "         4.    ,   4.6875,   5.75  ,   7.1875,   9.    ,  11.1875,\n",
              "        13.75  ,  16.6875,  20.    ,  23.6875,  27.75  ,  32.1875,\n",
              "        37.    ,  42.1875,  47.75  ,  53.6875])"
            ]
          },
          "metadata": {},
          "execution_count": 5
        }
      ]
    },
    {
      "cell_type": "code",
      "source": [
        "plt.plot(xs, ys)"
      ],
      "metadata": {
        "colab": {
          "base_uri": "https://localhost:8080/",
          "height": 283
        },
        "id": "4b4WQQ0vH-3k",
        "outputId": "f465ead6-0575-46ce-bf62-86e6202612f3"
      },
      "execution_count": 6,
      "outputs": [
        {
          "output_type": "execute_result",
          "data": {
            "text/plain": [
              "[<matplotlib.lines.Line2D at 0x7f8b0c45f6d0>]"
            ]
          },
          "metadata": {},
          "execution_count": 6
        },
        {
          "output_type": "display_data",
          "data": {
            "text/plain": [
              "<Figure size 432x288 with 1 Axes>"
            ],
            "image/png": "[encoded data removed]"
          },
          "metadata": {
            "needs_background": "light"
          }
        }
      ]
    },
    {
      "cell_type": "markdown",
      "source": [
        "From https://en.wikipedia.org/wiki/Derivative"
      ],
      "metadata": {
        "id": "riNpWcZMK8w5"
      }
    },
    {
      "cell_type": "code",
      "source": [
        "# h = 0.00000000000000001 # note this value is too small, leads to underflow\n",
        "h = 0.00000001\n",
        "x = 3.0\n",
        "\n",
        "# definition of the derivative\n",
        "# (f(x + h) - f(x)) / h"
      ],
      "metadata": {
        "id": "GeLVcz7GIxRi"
      },
      "execution_count": 7,
      "outputs": []
    },
    {
      "cell_type": "markdown",
      "source": [
        "Derivative of the function using power rule"
      ],
      "metadata": {
        "id": "CyB2ww14LvFQ"
      }
    },
    {
      "cell_type": "code",
      "source": [
        "# 3 * x ** 2 - 4 * x + 5\n",
        "def dfdx(x):\n",
        "  return 6 * x - 4"
      ],
      "metadata": {
        "id": "wcm4bjD-K1YC"
      },
      "execution_count": 8,
      "outputs": []
    },
    {
      "cell_type": "markdown",
      "source": [
        "See it's the same value. Yay."
      ],
      "metadata": {
        "id": "6MUj0nIlMH6W"
      }
    },
    {
      "cell_type": "code",
      "source": [
        "dfdx(x)"
      ],
      "metadata": {
        "colab": {
          "base_uri": "https://localhost:8080/"
        },
        "id": "_0B0ALrNMDYm",
        "outputId": "a697468b-f16c-4e34-9427-ea078131fc5c"
      },
      "execution_count": 9,
      "outputs": [
        {
          "output_type": "execute_result",
          "data": {
            "text/plain": [
              "14.0"
            ]
          },
          "metadata": {},
          "execution_count": 9
        }
      ]
    },
    {
      "cell_type": "markdown",
      "source": [
        "Getting more complex..."
      ],
      "metadata": {
        "id": "p0oCBSKFMdw3"
      }
    },
    {
      "cell_type": "code",
      "source": [
        "def fd(a, b, c):\n",
        "  return a * b + c"
      ],
      "metadata": {
        "id": "nU_L6llIN3wx"
      },
      "execution_count": 10,
      "outputs": []
    },
    {
      "cell_type": "code",
      "source": [
        "a = 2.0\n",
        "b = -3.0\n",
        "c = 10.0\n",
        "d = fd(a, b, c)\n",
        "print(d)"
      ],
      "metadata": {
        "colab": {
          "base_uri": "https://localhost:8080/"
        },
        "id": "fjKBb9W5MGHU",
        "outputId": "3ab9a0ec-e025-4551-de8e-594ccb565cf2"
      },
      "execution_count": 11,
      "outputs": [
        {
          "output_type": "stream",
          "name": "stdout",
          "text": [
            "4.0\n"
          ]
        }
      ]
    },
    {
      "cell_type": "markdown",
      "source": [
        "Evaluating the derivative of the function above `a * b + c` with respect to each variable"
      ],
      "metadata": {
        "id": "0dmWnR5kNAJN"
      }
    },
    {
      "cell_type": "code",
      "source": [
        "h = 0.00001\n",
        "\n",
        "# fix the inputs\n",
        "a = 2.0\n",
        "b = -3.0\n",
        "c = 10.0\n",
        "\n",
        "d1 = fd(a, b, c)\n",
        "# increas a by h to get small change in function\n",
        "c += h\n",
        "d2 = fd(a, b, c)\n",
        "\n",
        "print(f\"d1 = {d1}, d2 = {d2}, slope = {(d2 - d1)/h}\")"
      ],
      "metadata": {
        "colab": {
          "base_uri": "https://localhost:8080/"
        },
        "id": "6p-UUlUrMwxs",
        "outputId": "48fc2111-14d9-4bef-9ed6-53ae2e796aa8"
      },
      "execution_count": 12,
      "outputs": [
        {
          "output_type": "stream",
          "name": "stdout",
          "text": [
            "d1 = 4.0, d2 = 4.00001, slope = 0.9999999999621422\n"
          ]
        }
      ]
    },
    {
      "cell_type": "markdown",
      "source": [
        "Making the code above more modular..."
      ],
      "metadata": {
        "id": "l7GE4ZLDQUfq"
      }
    },
    {
      "cell_type": "code",
      "source": [
        "h = 0.00001\n",
        "\n",
        "# fix the inputs\n",
        "a = 2.0\n",
        "b = -3.0\n",
        "c = 10.0\n",
        "\n",
        "# differentiability\n",
        "# L = lim(h -> 0) (f(a + h) - f(a)) / h\n",
        "\n",
        "# Derivative with respect to a\n",
        "df_da = (fd(a+h, b, c) - fd(a, b, c)) / h\n",
        "\n",
        "print(f\"df/da:\\n d1 = {fd(a,b,c)}, d2 = {fd(a+h,b,c)}, slope = {df_da}\")\n",
        "\n",
        "# Derivative with respect to b\n",
        "df_db = (fd(a, b+h, c) - fd(a, b, c)) / h\n",
        "\n",
        "print(f\"df/db:\\n d1 = {fd(a,b,c)}, d2 = {fd(a,b+h,c)}, slope = {df_db}\")\n",
        "\n",
        "# Derivative with respect to c\n",
        "df_dc = (fd(a, b, c+h) - fd(a, b, c)) / h\n",
        "\n",
        "print(f\"df/db:\\n d1 = {fd(a,b,c)}, d2 = {fd(a,b,c+h)}, slope = {df_dc}\")"
      ],
      "metadata": {
        "colab": {
          "base_uri": "https://localhost:8080/"
        },
        "id": "3O8vRWEmQXLA",
        "outputId": "883d94ed-12d8-44d5-b067-44faf49a5ebe"
      },
      "execution_count": 13,
      "outputs": [
        {
          "output_type": "stream",
          "name": "stdout",
          "text": [
            "df/da:\n",
            " d1 = 4.0, d2 = 3.9999699999999994, slope = -3.000000000064062\n",
            "df/db:\n",
            " d1 = 4.0, d2 = 4.00002, slope = 2.0000000000131024\n",
            "df/db:\n",
            " d1 = 4.0, d2 = 4.00001, slope = 0.9999999999621422\n"
          ]
        }
      ]
    },
    {
      "cell_type": "markdown",
      "source": [
        "Test function to compute derivative of arbitrary function w.r.t (with respect to) a variable in the args list"
      ],
      "metadata": {
        "id": "6oIluDyftNfz"
      }
    },
    {
      "cell_type": "code",
      "source": [
        "def gradient(func, args, wrt):\n",
        "    h = 0.00001\n",
        "    # find which arg we're deriving with respect to\n",
        "    h_args = []\n",
        "    for arg in list(args):\n",
        "      if wrt is arg:\n",
        "        arg += h\n",
        "      h_args.append(arg)\n",
        "    h_args = tuple(h_args)\n",
        "    # (f(a+h) - f(a)) / h\n",
        "    g = (func(*h_args) - func(*args)) / h\n",
        "    return g"
      ],
      "metadata": {
        "id": "e8wgdZL9orra"
      },
      "execution_count": 14,
      "outputs": []
    },
    {
      "cell_type": "code",
      "source": [
        "# fix the inputs\n",
        "a = 2.0\n",
        "b = -3.0\n",
        "c = 10.0\n",
        "\n",
        "# Derivative with respect to a\n",
        "df_da = (fd(a+h, b, c) - fd(a, b, c)) / h\n",
        "print(f\"df_da: {df_da}\")\n",
        "\n",
        "# Derivative with respect to b\n",
        "df_db = (fd(a, b+h, c) - fd(a, b, c)) / h\n",
        "print(f\"df_db: {df_db}\")\n",
        "\n",
        "# Derivative with respect to c\n",
        "df_dc = (fd(a, b, c+h) - fd(a, b, c)) / h\n",
        "print(f\"df_dc: {df_dc}\")"
      ],
      "metadata": {
        "colab": {
          "base_uri": "https://localhost:8080/"
        },
        "id": "HVXnQxRHo4kO",
        "outputId": "6ba4213f-3af8-44be-ac40-06d2a9b14e61"
      },
      "execution_count": 15,
      "outputs": [
        {
          "output_type": "stream",
          "name": "stdout",
          "text": [
            "df_da: -3.000000000064062\n",
            "df_db: 2.0000000000131024\n",
            "df_dc: 0.9999999999621422\n"
          ]
        }
      ]
    },
    {
      "cell_type": "code",
      "source": [
        "print(f\"df_da: {gradient(fd, (a,b,c), wrt=a)}\")\n",
        "print(f\"df_db: {gradient(fd, (a,b,c), wrt=b)}\")\n",
        "print(f\"df_dc: {gradient(fd, (a,b,c), wrt=c)}\")"
      ],
      "metadata": {
        "colab": {
          "base_uri": "https://localhost:8080/"
        },
        "id": "_3uinm02pINS",
        "outputId": "d3566e90-79d7-4859-d613-b7cabd8536c9"
      },
      "execution_count": 16,
      "outputs": [
        {
          "output_type": "stream",
          "name": "stdout",
          "text": [
            "df_da: -3.000000000064062\n",
            "df_db: 2.0000000000131024\n",
            "df_dc: 0.9999999999621422\n"
          ]
        }
      ]
    },
    {
      "cell_type": "markdown",
      "source": [
        "# Implementing `Value` Class"
      ],
      "metadata": {
        "id": "Ird1SjTPP8v6"
      }
    },
    {
      "cell_type": "code",
      "source": [
        "import copy\n",
        "\n",
        "class Value:\n",
        "\n",
        "  # used for computing gradients\n",
        "  h = 0.000000001\n",
        "  # TODO(nikwolfe7): Remove autograd flag when we confirm it works\n",
        "  do_autograd = False\n",
        "\n",
        "  def __init__(self, data, _children=(), _op='', label=''):\n",
        "    self.data = data\n",
        "    self.grad = 0.0\n",
        "    self._backward = lambda: None\n",
        "    self._prev = set(_children)\n",
        "    self._op = _op\n",
        "    self.label = label\n",
        "  \n",
        "\n",
        "  def __repr__(self):\n",
        "    return f\"Value(data={self.data})\"\n",
        "\n",
        "  \n",
        "  def _autograd(self, func, args, wrt):\n",
        "    # find which arg we're deriving with respect to\n",
        "    h_args = []\n",
        "    for arg in args:\n",
        "      # must point to same reference\n",
        "      if wrt is arg: \n",
        "        # arg must be a new value object\n",
        "        arg = Value(arg.data)\n",
        "        arg.data += h\n",
        "      h_args.append(arg)\n",
        "    h_args = tuple(h_args)\n",
        "    # definition of derivative\n",
        "    # (f(a+h) - f(a)) / h\n",
        "    g = (func(*h_args) - func(*args)) * (h ** -1)\n",
        "    return g\n",
        "\n",
        "\n",
        "  def __add__(self, other):\n",
        "    other = other if isinstance(other, Value) else Value(other, label=str(other))\n",
        "    def _add(a, b):\n",
        "      return a.data + b.data\n",
        "\n",
        "    v = _add(self, other)\n",
        "    out = Value(v, (self, other), '+')\n",
        "\n",
        "    def _backward():\n",
        "      self.grad += out.grad\n",
        "      other.grad += out.grad\n",
        "    \n",
        "    out._backward = _backward\n",
        "    return out\n",
        "\n",
        "\n",
        "  def __mul__(self, other):\n",
        "    other = other if isinstance(other, Value) else Value(other, label=str(other))\n",
        "    def _mul(a, b):\n",
        "      return a.data * b.data\n",
        "    \n",
        "    v = _mul(self, other)\n",
        "    out = Value(v, (self, other), '*')\n",
        "\n",
        "    def _backward():\n",
        "      if self.do_autograd:\n",
        "        self.grad += self._autograd(_mul, (self, other), wrt=self) * out.grad\n",
        "        other.grad += self._autograd(_mul, (self, other), wrt=other) * out.grad\n",
        "      else:\n",
        "        self.grad += other.data * out.grad\n",
        "        other.grad += self.data * out.grad\n",
        "\n",
        "    out._backward = _backward\n",
        "    return out\n",
        "\n",
        "\n",
        "  def tanh(self):\n",
        "    def _tanh(a):\n",
        "      return (math.exp(2 * a.data) - 1.0) / (math.exp(2 * a.data) + 1.0) \n",
        "    \n",
        "    v = _tanh(self)\n",
        "    out = Value(v, _children=(self, ), _op='tanh')\n",
        "\n",
        "    def _backward():\n",
        "      if self.do_autograd:\n",
        "        self.grad += self._autograd(_tanh, (self,), wrt=self) * out.grad\n",
        "      else:\n",
        "        # d/dx tanh(x) = 1 - tanh(x)^2\n",
        "        self.grad += (1.0 - v ** 2) * out.grad\n",
        "\n",
        "    out._backward = _backward\n",
        "    return out\n",
        "\n",
        "  \n",
        "  def sigmoid(self):\n",
        "    def _sigmoid(a):\n",
        "      # 1 / (1 + e^(-x))\n",
        "      return (1 + math.exp(-a.data)) ** -1\n",
        "    \n",
        "    v = _sigmoid(self)\n",
        "    out = Value(v, _children=(self,), _op='sigmoid')\n",
        "\n",
        "    def _backward():\n",
        "      if self.do_autograd:\n",
        "        self.grad += self._autograd(_sigmoid, (self,), wrt=self) * out.grad\n",
        "      else:\n",
        "        # d/dx sig(x) = sig(x)(1 - sig(x))\n",
        "        self.grad += out.data * (1 - out.data) * out.grad\n",
        "    \n",
        "    out._backward = _backward\n",
        "    return out\n",
        "\n",
        "\n",
        "  def softplus(self):\n",
        "    def _softplus(a):\n",
        "      # f(x) = log(1 + exp(x))\n",
        "      return math.log(1 + math.exp(a.data))\n",
        "    \n",
        "    v = _softplus(self)\n",
        "    out = Value(v, _children=(self,), _op='softplus')\n",
        "\n",
        "    def _backward():\n",
        "      if self.do_autograd:\n",
        "        self.grad += self._autograd(_softplus, (self,), wrt=self) * out.grad\n",
        "      else:\n",
        "        # d/dx softplus(x) = sigmoid(x)\n",
        "        self.grad += self.sigmoid().data * out.grad\n",
        "    \n",
        "    out._backward = _backward\n",
        "    return out\n",
        "  \n",
        "\n",
        "  def relu(self):\n",
        "    def _relu(a):\n",
        "      return max(0, a.data)\n",
        "    \n",
        "    v = _relu(self)\n",
        "    out = Value(v, _children=(self,), _op='ReLU')\n",
        "\n",
        "    def _backward():\n",
        "      if self.do_autograd:\n",
        "        self.grad += self._autograd(_relu, (self,), wrt=self) * out.grad\n",
        "      else:\n",
        "        self.grad += (self.data > 0) * out.grad\n",
        "    \n",
        "    out._backward = _backward\n",
        "    return out\n",
        "\n",
        "\n",
        "  def __pow__(self, other): \n",
        "    assert isinstance(other, (int, float)), \"only supporting int/float powers for now\"\n",
        "    def _pow(a, b):\n",
        "      return a.data ** b\n",
        "\n",
        "    v = _pow(self, other)  \n",
        "    out = Value(v, (self,), f\"**{other}\")\n",
        "\n",
        "    def _backward():\n",
        "      if self.do_autograd:\n",
        "        self.grad += self._autograd(_pow, (self, other), self) * out.grad\n",
        "      else:\n",
        "        # power rule...\n",
        "        self.grad += other * _pow(self, other - 1) * out.grad\n",
        "\n",
        "    out._backward = _backward\n",
        "    return out\n",
        "\n",
        "\n",
        "  def exp(self):\n",
        "    \"\"\"returns e^(data)\"\"\"\n",
        "    def _exp(a):\n",
        "      return math.exp(a.data)\n",
        "    \n",
        "    v = _exp(self)\n",
        "    out = Value(v, (self,), _op='exp')\n",
        "\n",
        "    def _backward():\n",
        "      if self.do_autograd:\n",
        "        self.grad += self._autograd(_exp, (self,), wrt=self) * out.grad\n",
        "      else:\n",
        "        # d/dx e^x = e^x\n",
        "        self.grad += out.data * out.grad\n",
        "    \n",
        "    out._backward = _backward\n",
        "    return out\n",
        "  \n",
        "\n",
        "  def __neg__(self): # -self\n",
        "    return self * -1\n",
        "\n",
        "\n",
        "  def __sub__(self, other): # subtraction\n",
        "    return self + (-other)  \n",
        "\n",
        "\n",
        "  def __rmul__(self, other): # other is self\n",
        "    return self * other\n",
        "\n",
        "  \n",
        "  def __radd__(self, other): # other is self\n",
        "    return self + other\n",
        "\n",
        "\n",
        "  def __truediv__(self, other): # self / other\n",
        "    return self * other ** -1\n",
        "\n",
        "\n",
        "  def backward(self):\n",
        "    topo = []\n",
        "    visited = set()\n",
        "    def build_topo(v):\n",
        "      if v not in visited:\n",
        "        visited.add(v)\n",
        "        for child in v._prev:\n",
        "          build_topo(child)\n",
        "        topo.append(v)\n",
        "    build_topo(self)\n",
        "\n",
        "    # run backprop in reverse topological order\n",
        "    self.grad = 1.0\n",
        "    for val in reversed(topo):\n",
        "      val._backward()\n"
      ],
      "metadata": {
        "id": "g3nTKEOvOh-D"
      },
      "execution_count": 17,
      "outputs": []
    },
    {
      "cell_type": "code",
      "source": [
        "def test():\n",
        "  a = Value(2.0, label='a')\n",
        "  b = Value(4.0, label='b')\n",
        "  a.do_autograd = True\n",
        "  b.do_autograd = True\n",
        "  print(a / b)\n",
        "\n",
        "  a.backward()\n",
        "  print(a.grad)\n",
        "\n",
        "test()"
      ],
      "metadata": {
        "colab": {
          "base_uri": "https://localhost:8080/"
        },
        "id": "BT-HYctOIN29",
        "outputId": "00de5937-96d6-4c6b-bb84-96cc30c25a9a"
      },
      "execution_count": 18,
      "outputs": [
        {
          "output_type": "stream",
          "name": "stdout",
          "text": [
            "Value(data=0.5)\n",
            "1.0\n"
          ]
        }
      ]
    },
    {
      "cell_type": "markdown",
      "source": [
        "# GraphViz Functions to Display Computation Graph"
      ],
      "metadata": {
        "id": "iaUBXttoSJI4"
      }
    },
    {
      "cell_type": "code",
      "source": [
        "from graphviz import Digraph\n",
        "\n",
        "def trace(root):\n",
        "  # builds a set of all nodes and edges in a graph\n",
        "  nodes, edges = set(), set()\n",
        "  def build(v):\n",
        "    if v not in nodes:\n",
        "      nodes.add(v)\n",
        "      for child in v._prev:\n",
        "        edges.add((child, v))\n",
        "        build(child)\n",
        "  build(root)\n",
        "  return nodes, edges\n",
        "\n",
        "def draw_dot(root):\n",
        "  dot = Digraph(format='svg', graph_attr={'rankdir': 'LR'}) # LR = left to right\n",
        "  \n",
        "  nodes, edges = trace(root)\n",
        "  for n in nodes:\n",
        "    uid = str(id(n))\n",
        "    # for any value in the graph, create a rectangular ('record') node for it\n",
        "    dot.node(name = uid, label = \"{ %s | data %.4f | grad %.4f }\" % (n.label, n.data, n.grad), shape = 'record')\n",
        "    if n._op:\n",
        "      # if this value is a result of some operation , create a node op for it\n",
        "      dot.node(name = uid + n._op, label = n._op)\n",
        "      # and connect this node to it\n",
        "      dot.edge(uid + n._op, uid)\n",
        "  \n",
        "  for n1, n2 in edges:\n",
        "    # connect n1 to the op node of n2\n",
        "    dot.edge(str(id(n1)), str(id(n2)) + n2._op)\n",
        "\n",
        "  return dot"
      ],
      "metadata": {
        "id": "04A55Iu5Wei3"
      },
      "execution_count": 19,
      "outputs": []
    },
    {
      "cell_type": "markdown",
      "source": [
        "Let's create some values! And do ops on them!"
      ],
      "metadata": {
        "id": "F23lJHH6fLZV"
      }
    },
    {
      "cell_type": "code",
      "source": [
        "a = Value(2.0, label='a')\n",
        "b = Value(-3.0, label='b')\n",
        "c = Value(10.0, label='c')\n",
        "f = Value(-2.0, label='f')\n",
        "\n",
        "e = a * b; e.label = 'e'\n",
        "d = e + c; d.label = 'd' \n",
        "L = d * f; L.label = 'L'\n",
        "\n",
        "print(a + b)\n",
        "print(a * b)\n",
        "print(a * b + c)\n",
        "\n",
        "# using the function fd() from above\n",
        "# d = fd(a, b, c)\n",
        "\n",
        "print(d._prev)\n",
        "print(d._op)"
      ],
      "metadata": {
        "colab": {
          "base_uri": "https://localhost:8080/"
        },
        "id": "cQoprolkfIPr",
        "outputId": "453248aa-8e39-48be-d222-7192113b36f3"
      },
      "execution_count": 20,
      "outputs": [
        {
          "output_type": "stream",
          "name": "stdout",
          "text": [
            "Value(data=-1.0)\n",
            "Value(data=-6.0)\n",
            "Value(data=4.0)\n",
            "{Value(data=-6.0), Value(data=10.0)}\n",
            "+\n"
          ]
        }
      ]
    },
    {
      "cell_type": "code",
      "source": [
        "draw_dot(L)"
      ],
      "metadata": {
        "colab": {
          "base_uri": "https://localhost:8080/",
          "height": 212
        },
        "id": "B5QQSgvAwKwz",
        "outputId": "3f08b448-5619-4b4e-eee2-4fb1377ad9c2"
      },
      "execution_count": 21,
      "outputs": [
        {
          "output_type": "execute_result",
          "data": {
            "text/plain": [
              "<graphviz.dot.Digraph at 0x7f8b0c423670>"
            ],
            "image/svg+xml": "<?xml version=\"1.0\" encoding=\"UTF-8\" standalone=\"no\"?>\n<!DOCTYPE svg PUBLIC \"-//W3C//DTD SVG 1.1//EN\"\n \"http://www.w3.org/Graphics/SVG/1.1/DTD/svg11.dtd\">\n<!-- Generated by graphviz version 2.43.0 (0)\n -->\n<!-- Title: %3 Pages: 1 -->\n<svg width=\"1148pt\" height=\"128pt\"\n viewBox=\"0.00 0.00 1148.00 128.00\" xmlns=\"http://www.w3.org/2000/svg\" xmlns:xlink=\"http://www.w3.org/1999/xlink\">\n<g id=\"graph0\" class=\"graph\" transform=\"scale(1 1) rotate(0) translate(4 124)\">\n<title>%3</title>\n<polygon fill=\"white\" stroke=\"transparent\" points=\"-4,4 -4,-124 1144,-124 1144,4 -4,4\"/>\n<!-- 140235182890528 -->\n<g id=\"node1\" class=\"node\">\n<title>140235182890528</title>\n<polygon fill=\"none\" stroke=\"black\" points=\"634,-82.5 634,-118.5 822,-118.5 822,-82.5 634,-82.5\"/>\n<text text-anchor=\"middle\" x=\"644.5\" y=\"-96.8\" font-family=\"Times,serif\" font-size=\"14.00\">f</text>\n<polyline fill=\"none\" stroke=\"black\" points=\"655,-82.5 655,-118.5 \"/>\n<text text-anchor=\"middle\" x=\"697.5\" y=\"-96.8\" font-family=\"Times,serif\" font-size=\"14.00\">data &#45;2.0000</text>\n<polyline fill=\"none\" stroke=\"black\" points=\"740,-82.5 740,-118.5 \"/>\n<text text-anchor=\"middle\" x=\"781\" y=\"-96.8\" font-family=\"Times,serif\" font-size=\"14.00\">grad 0.0000</text>\n</g>\n<!-- 140235182890864* -->\n<g id=\"node8\" class=\"node\">\n<title>140235182890864*</title>\n<ellipse fill=\"none\" stroke=\"black\" cx=\"885\" cy=\"-72.5\" rx=\"27\" ry=\"18\"/>\n<text text-anchor=\"middle\" x=\"885\" y=\"-68.8\" font-family=\"Times,serif\" font-size=\"14.00\">*</text>\n</g>\n<!-- 140235182890528&#45;&gt;140235182890864* -->\n<g id=\"edge8\" class=\"edge\">\n<title>140235182890528&#45;&gt;140235182890864*</title>\n<path fill=\"none\" stroke=\"black\" d=\"M822.29,-83.65C831.57,-81.97 840.52,-80.35 848.61,-78.89\"/>\n<polygon fill=\"black\" stroke=\"black\" points=\"849.46,-82.3 858.68,-77.07 848.21,-75.41 849.46,-82.3\"/>\n</g>\n<!-- 140235182887552 -->\n<g id=\"node2\" class=\"node\">\n<title>140235182887552</title>\n<polygon fill=\"none\" stroke=\"black\" points=\"2.5,-83.5 2.5,-119.5 187.5,-119.5 187.5,-83.5 2.5,-83.5\"/>\n<text text-anchor=\"middle\" x=\"14\" y=\"-97.8\" font-family=\"Times,serif\" font-size=\"14.00\">a</text>\n<polyline fill=\"none\" stroke=\"black\" points=\"25.5,-83.5 25.5,-119.5 \"/>\n<text text-anchor=\"middle\" x=\"65.5\" y=\"-97.8\" font-family=\"Times,serif\" font-size=\"14.00\">data 2.0000</text>\n<polyline fill=\"none\" stroke=\"black\" points=\"105.5,-83.5 105.5,-119.5 \"/>\n<text text-anchor=\"middle\" x=\"146.5\" y=\"-97.8\" font-family=\"Times,serif\" font-size=\"14.00\">grad 0.0000</text>\n</g>\n<!-- 140235182887696* -->\n<g id=\"node6\" class=\"node\">\n<title>140235182887696*</title>\n<ellipse fill=\"none\" stroke=\"black\" cx=\"253\" cy=\"-73.5\" rx=\"27\" ry=\"18\"/>\n<text text-anchor=\"middle\" x=\"253\" y=\"-69.8\" font-family=\"Times,serif\" font-size=\"14.00\">*</text>\n</g>\n<!-- 140235182887552&#45;&gt;140235182887696* -->\n<g id=\"edge9\" class=\"edge\">\n<title>140235182887552&#45;&gt;140235182887696*</title>\n<path fill=\"none\" stroke=\"black\" d=\"M187.65,-85.05C197.94,-83.2 207.91,-81.41 216.81,-79.82\"/>\n<polygon fill=\"black\" stroke=\"black\" points=\"217.48,-83.25 226.71,-78.04 216.25,-76.36 217.48,-83.25\"/>\n</g>\n<!-- 140235182888128 -->\n<g id=\"node3\" class=\"node\">\n<title>140235182888128</title>\n<polygon fill=\"none\" stroke=\"black\" points=\"635.5,-27.5 635.5,-63.5 820.5,-63.5 820.5,-27.5 635.5,-27.5\"/>\n<text text-anchor=\"middle\" x=\"647\" y=\"-41.8\" font-family=\"Times,serif\" font-size=\"14.00\">d</text>\n<polyline fill=\"none\" stroke=\"black\" points=\"658.5,-27.5 658.5,-63.5 \"/>\n<text text-anchor=\"middle\" x=\"698.5\" y=\"-41.8\" font-family=\"Times,serif\" font-size=\"14.00\">data 4.0000</text>\n<polyline fill=\"none\" stroke=\"black\" points=\"738.5,-27.5 738.5,-63.5 \"/>\n<text text-anchor=\"middle\" x=\"779.5\" y=\"-41.8\" font-family=\"Times,serif\" font-size=\"14.00\">grad 0.0000</text>\n</g>\n<!-- 140235182888128&#45;&gt;140235182890864* -->\n<g id=\"edge7\" class=\"edge\">\n<title>140235182888128&#45;&gt;140235182890864*</title>\n<path fill=\"none\" stroke=\"black\" d=\"M820.51,-61.44C830.48,-63.18 840.13,-64.86 848.77,-66.36\"/>\n<polygon fill=\"black\" stroke=\"black\" points=\"848.31,-69.84 858.77,-68.1 849.52,-62.94 848.31,-69.84\"/>\n</g>\n<!-- 140235182888128+ -->\n<g id=\"node4\" class=\"node\">\n<title>140235182888128+</title>\n<ellipse fill=\"none\" stroke=\"black\" cx=\"571\" cy=\"-45.5\" rx=\"27\" ry=\"18\"/>\n<text text-anchor=\"middle\" x=\"571\" y=\"-41.8\" font-family=\"Times,serif\" font-size=\"14.00\">+</text>\n</g>\n<!-- 140235182888128+&#45;&gt;140235182888128 -->\n<g id=\"edge1\" class=\"edge\">\n<title>140235182888128+&#45;&gt;140235182888128</title>\n<path fill=\"none\" stroke=\"black\" d=\"M598.29,-45.5C606.26,-45.5 615.54,-45.5 625.39,-45.5\"/>\n<polygon fill=\"black\" stroke=\"black\" points=\"625.41,-49 635.41,-45.5 625.41,-42 625.41,-49\"/>\n</g>\n<!-- 140235182887696 -->\n<g id=\"node5\" class=\"node\">\n<title>140235182887696</title>\n<polygon fill=\"none\" stroke=\"black\" points=\"317,-55.5 317,-91.5 507,-91.5 507,-55.5 317,-55.5\"/>\n<text text-anchor=\"middle\" x=\"328.5\" y=\"-69.8\" font-family=\"Times,serif\" font-size=\"14.00\">e</text>\n<polyline fill=\"none\" stroke=\"black\" points=\"340,-55.5 340,-91.5 \"/>\n<text text-anchor=\"middle\" x=\"382.5\" y=\"-69.8\" font-family=\"Times,serif\" font-size=\"14.00\">data &#45;6.0000</text>\n<polyline fill=\"none\" stroke=\"black\" points=\"425,-55.5 425,-91.5 \"/>\n<text text-anchor=\"middle\" x=\"466\" y=\"-69.8\" font-family=\"Times,serif\" font-size=\"14.00\">grad 0.0000</text>\n</g>\n<!-- 140235182887696&#45;&gt;140235182888128+ -->\n<g id=\"edge5\" class=\"edge\">\n<title>140235182887696&#45;&gt;140235182888128+</title>\n<path fill=\"none\" stroke=\"black\" d=\"M507.05,-56.73C516.89,-54.97 526.39,-53.28 534.9,-51.76\"/>\n<polygon fill=\"black\" stroke=\"black\" points=\"535.52,-55.2 544.75,-50 534.29,-48.31 535.52,-55.2\"/>\n</g>\n<!-- 140235182887696*&#45;&gt;140235182887696 -->\n<g id=\"edge2\" class=\"edge\">\n<title>140235182887696*&#45;&gt;140235182887696</title>\n<path fill=\"none\" stroke=\"black\" d=\"M280.28,-73.5C288.05,-73.5 297.08,-73.5 306.68,-73.5\"/>\n<polygon fill=\"black\" stroke=\"black\" points=\"306.88,-77 316.88,-73.5 306.88,-70 306.88,-77\"/>\n</g>\n<!-- 140235182890864 -->\n<g id=\"node7\" class=\"node\">\n<title>140235182890864</title>\n<polygon fill=\"none\" stroke=\"black\" points=\"948,-54.5 948,-90.5 1140,-90.5 1140,-54.5 948,-54.5\"/>\n<text text-anchor=\"middle\" x=\"960.5\" y=\"-68.8\" font-family=\"Times,serif\" font-size=\"14.00\">L</text>\n<polyline fill=\"none\" stroke=\"black\" points=\"973,-54.5 973,-90.5 \"/>\n<text text-anchor=\"middle\" x=\"1015.5\" y=\"-68.8\" font-family=\"Times,serif\" font-size=\"14.00\">data &#45;8.0000</text>\n<polyline fill=\"none\" stroke=\"black\" points=\"1058,-54.5 1058,-90.5 \"/>\n<text text-anchor=\"middle\" x=\"1099\" y=\"-68.8\" font-family=\"Times,serif\" font-size=\"14.00\">grad 0.0000</text>\n</g>\n<!-- 140235182890864*&#45;&gt;140235182890864 -->\n<g id=\"edge3\" class=\"edge\">\n<title>140235182890864*&#45;&gt;140235182890864</title>\n<path fill=\"none\" stroke=\"black\" d=\"M912.28,-72.5C919.78,-72.5 928.44,-72.5 937.67,-72.5\"/>\n<polygon fill=\"black\" stroke=\"black\" points=\"937.87,-76 947.87,-72.5 937.87,-69 937.87,-76\"/>\n</g>\n<!-- 140235182888896 -->\n<g id=\"node9\" class=\"node\">\n<title>140235182888896</title>\n<polygon fill=\"none\" stroke=\"black\" points=\"316,-0.5 316,-36.5 508,-36.5 508,-0.5 316,-0.5\"/>\n<text text-anchor=\"middle\" x=\"327.5\" y=\"-14.8\" font-family=\"Times,serif\" font-size=\"14.00\">c</text>\n<polyline fill=\"none\" stroke=\"black\" points=\"339,-0.5 339,-36.5 \"/>\n<text text-anchor=\"middle\" x=\"382.5\" y=\"-14.8\" font-family=\"Times,serif\" font-size=\"14.00\">data 10.0000</text>\n<polyline fill=\"none\" stroke=\"black\" points=\"426,-0.5 426,-36.5 \"/>\n<text text-anchor=\"middle\" x=\"467\" y=\"-14.8\" font-family=\"Times,serif\" font-size=\"14.00\">grad 0.0000</text>\n</g>\n<!-- 140235182888896&#45;&gt;140235182888128+ -->\n<g id=\"edge4\" class=\"edge\">\n<title>140235182888896&#45;&gt;140235182888128+</title>\n<path fill=\"none\" stroke=\"black\" d=\"M508.4,-34.91C517.69,-36.5 526.64,-38.04 534.71,-39.43\"/>\n<polygon fill=\"black\" stroke=\"black\" points=\"534.32,-42.91 544.76,-41.16 535.5,-36.02 534.32,-42.91\"/>\n</g>\n<!-- 140235182888944 -->\n<g id=\"node10\" class=\"node\">\n<title>140235182888944</title>\n<polygon fill=\"none\" stroke=\"black\" points=\"0,-28.5 0,-64.5 190,-64.5 190,-28.5 0,-28.5\"/>\n<text text-anchor=\"middle\" x=\"11.5\" y=\"-42.8\" font-family=\"Times,serif\" font-size=\"14.00\">b</text>\n<polyline fill=\"none\" stroke=\"black\" points=\"23,-28.5 23,-64.5 \"/>\n<text text-anchor=\"middle\" x=\"65.5\" y=\"-42.8\" font-family=\"Times,serif\" font-size=\"14.00\">data &#45;3.0000</text>\n<polyline fill=\"none\" stroke=\"black\" points=\"108,-28.5 108,-64.5 \"/>\n<text text-anchor=\"middle\" x=\"149\" y=\"-42.8\" font-family=\"Times,serif\" font-size=\"14.00\">grad 0.0000</text>\n</g>\n<!-- 140235182888944&#45;&gt;140235182887696* -->\n<g id=\"edge6\" class=\"edge\">\n<title>140235182888944&#45;&gt;140235182887696*</title>\n<path fill=\"none\" stroke=\"black\" d=\"M190.34,-62.83C199.62,-64.44 208.58,-65.99 216.66,-67.38\"/>\n<polygon fill=\"black\" stroke=\"black\" points=\"216.27,-70.87 226.72,-69.12 217.46,-63.97 216.27,-70.87\"/>\n</g>\n</g>\n</svg>\n"
          },
          "metadata": {},
          "execution_count": 21
        }
      ]
    },
    {
      "cell_type": "markdown",
      "source": [
        "Adding derivatives... "
      ],
      "metadata": {
        "id": "0Y2oA7r4jG-O"
      }
    },
    {
      "cell_type": "code",
      "source": [
        "L.grad = 1.0\n",
        "d.grad = f.data\n",
        "f.grad = d.data\n",
        "\n",
        "# Applying the chain rule for c.grad and e.grad\n",
        "# dL/dc = (dL/dd) * (dd/dc)\n",
        "# dL/de = (dL/dd) * (dd/de)\n",
        "# since d = c + e, dd/dc = 1.0\n",
        "# since d = c + e, dd/de = 1.0\n",
        "# dL/dd = d.grad\n",
        "c.grad = d.grad * 1.0\n",
        "e.grad = d.grad * 1.0 \n",
        "\n",
        "# Applying the chain rule for a.grad and b.grad\n",
        "# dL/da = (dL/de) * (de/da)\n",
        "# dL/db = (dL/de) * (de/db)\n",
        "# since e = a * b, de/da = b\n",
        "# since e = a * b, de/db = a\n",
        "# dL/de = e.grad\n",
        "a.grad = e.grad * b.data\n",
        "b.grad = e.grad * a.data\n",
        "\n",
        "draw_dot(L)"
      ],
      "metadata": {
        "colab": {
          "base_uri": "https://localhost:8080/",
          "height": 212
        },
        "id": "kDzYhB81jEsY",
        "outputId": "4d41515f-5e90-4233-fc86-01d4b8cee0f4"
      },
      "execution_count": 22,
      "outputs": [
        {
          "output_type": "execute_result",
          "data": {
            "text/plain": [
              "<graphviz.dot.Digraph at 0x7f8b0c42d700>"
            ],
            "image/svg+xml": "<?xml version=\"1.0\" encoding=\"UTF-8\" standalone=\"no\"?>\n<!DOCTYPE svg PUBLIC \"-//W3C//DTD SVG 1.1//EN\"\n \"http://www.w3.org/Graphics/SVG/1.1/DTD/svg11.dtd\">\n<!-- Generated by graphviz version 2.43.0 (0)\n -->\n<!-- Title: %3 Pages: 1 -->\n<svg width=\"1157pt\" height=\"128pt\"\n viewBox=\"0.00 0.00 1157.00 128.00\" xmlns=\"http://www.w3.org/2000/svg\" xmlns:xlink=\"http://www.w3.org/1999/xlink\">\n<g id=\"graph0\" class=\"graph\" transform=\"scale(1 1) rotate(0) translate(4 124)\">\n<title>%3</title>\n<polygon fill=\"white\" stroke=\"transparent\" points=\"-4,4 -4,-124 1153,-124 1153,4 -4,4\"/>\n<!-- 140235182890528 -->\n<g id=\"node1\" class=\"node\">\n<title>140235182890528</title>\n<polygon fill=\"none\" stroke=\"black\" points=\"642.5,-82.5 642.5,-118.5 830.5,-118.5 830.5,-82.5 642.5,-82.5\"/>\n<text text-anchor=\"middle\" x=\"653\" y=\"-96.8\" font-family=\"Times,serif\" font-size=\"14.00\">f</text>\n<polyline fill=\"none\" stroke=\"black\" points=\"663.5,-82.5 663.5,-118.5 \"/>\n<text text-anchor=\"middle\" x=\"706\" y=\"-96.8\" font-family=\"Times,serif\" font-size=\"14.00\">data &#45;2.0000</text>\n<polyline fill=\"none\" stroke=\"black\" points=\"748.5,-82.5 748.5,-118.5 \"/>\n<text text-anchor=\"middle\" x=\"789.5\" y=\"-96.8\" font-family=\"Times,serif\" font-size=\"14.00\">grad 4.0000</text>\n</g>\n<!-- 140235182890864* -->\n<g id=\"node8\" class=\"node\">\n<title>140235182890864*</title>\n<ellipse fill=\"none\" stroke=\"black\" cx=\"894\" cy=\"-72.5\" rx=\"27\" ry=\"18\"/>\n<text text-anchor=\"middle\" x=\"894\" y=\"-68.8\" font-family=\"Times,serif\" font-size=\"14.00\">*</text>\n</g>\n<!-- 140235182890528&#45;&gt;140235182890864* -->\n<g id=\"edge8\" class=\"edge\">\n<title>140235182890528&#45;&gt;140235182890864*</title>\n<path fill=\"none\" stroke=\"black\" d=\"M830.65,-83.73C840.2,-82.01 849.43,-80.35 857.72,-78.85\"/>\n<polygon fill=\"black\" stroke=\"black\" points=\"858.47,-82.27 867.69,-77.06 857.23,-75.39 858.47,-82.27\"/>\n</g>\n<!-- 140235182887552 -->\n<g id=\"node2\" class=\"node\">\n<title>140235182887552</title>\n<polygon fill=\"none\" stroke=\"black\" points=\"4.5,-83.5 4.5,-119.5 189.5,-119.5 189.5,-83.5 4.5,-83.5\"/>\n<text text-anchor=\"middle\" x=\"16\" y=\"-97.8\" font-family=\"Times,serif\" font-size=\"14.00\">a</text>\n<polyline fill=\"none\" stroke=\"black\" points=\"27.5,-83.5 27.5,-119.5 \"/>\n<text text-anchor=\"middle\" x=\"67.5\" y=\"-97.8\" font-family=\"Times,serif\" font-size=\"14.00\">data 2.0000</text>\n<polyline fill=\"none\" stroke=\"black\" points=\"107.5,-83.5 107.5,-119.5 \"/>\n<text text-anchor=\"middle\" x=\"148.5\" y=\"-97.8\" font-family=\"Times,serif\" font-size=\"14.00\">grad 6.0000</text>\n</g>\n<!-- 140235182887696* -->\n<g id=\"node6\" class=\"node\">\n<title>140235182887696*</title>\n<ellipse fill=\"none\" stroke=\"black\" cx=\"257\" cy=\"-73.5\" rx=\"27\" ry=\"18\"/>\n<text text-anchor=\"middle\" x=\"257\" y=\"-69.8\" font-family=\"Times,serif\" font-size=\"14.00\">*</text>\n</g>\n<!-- 140235182887552&#45;&gt;140235182887696* -->\n<g id=\"edge9\" class=\"edge\">\n<title>140235182887552&#45;&gt;140235182887696*</title>\n<path fill=\"none\" stroke=\"black\" d=\"M189.91,-85.21C200.76,-83.29 211.28,-81.43 220.61,-79.77\"/>\n<polygon fill=\"black\" stroke=\"black\" points=\"221.37,-83.19 230.6,-78 220.15,-76.3 221.37,-83.19\"/>\n</g>\n<!-- 140235182888128 -->\n<g id=\"node3\" class=\"node\">\n<title>140235182888128</title>\n<polygon fill=\"none\" stroke=\"black\" points=\"642,-27.5 642,-63.5 831,-63.5 831,-27.5 642,-27.5\"/>\n<text text-anchor=\"middle\" x=\"653.5\" y=\"-41.8\" font-family=\"Times,serif\" font-size=\"14.00\">d</text>\n<polyline fill=\"none\" stroke=\"black\" points=\"665,-27.5 665,-63.5 \"/>\n<text text-anchor=\"middle\" x=\"705\" y=\"-41.8\" font-family=\"Times,serif\" font-size=\"14.00\">data 4.0000</text>\n<polyline fill=\"none\" stroke=\"black\" points=\"745,-27.5 745,-63.5 \"/>\n<text text-anchor=\"middle\" x=\"788\" y=\"-41.8\" font-family=\"Times,serif\" font-size=\"14.00\">grad &#45;2.0000</text>\n</g>\n<!-- 140235182888128&#45;&gt;140235182890864* -->\n<g id=\"edge7\" class=\"edge\">\n<title>140235182888128&#45;&gt;140235182890864*</title>\n<path fill=\"none\" stroke=\"black\" d=\"M831.1,-61.75C840.4,-63.37 849.38,-64.93 857.49,-66.33\"/>\n<polygon fill=\"black\" stroke=\"black\" points=\"857.14,-69.83 867.59,-68.09 858.34,-62.93 857.14,-69.83\"/>\n</g>\n<!-- 140235182888128+ -->\n<g id=\"node4\" class=\"node\">\n<title>140235182888128+</title>\n<ellipse fill=\"none\" stroke=\"black\" cx=\"579\" cy=\"-45.5\" rx=\"27\" ry=\"18\"/>\n<text text-anchor=\"middle\" x=\"579\" y=\"-41.8\" font-family=\"Times,serif\" font-size=\"14.00\">+</text>\n</g>\n<!-- 140235182888128+&#45;&gt;140235182888128 -->\n<g id=\"edge1\" class=\"edge\">\n<title>140235182888128+&#45;&gt;140235182888128</title>\n<path fill=\"none\" stroke=\"black\" d=\"M606.03,-45.5C613.66,-45.5 622.52,-45.5 631.94,-45.5\"/>\n<polygon fill=\"black\" stroke=\"black\" points=\"631.94,-49 641.94,-45.5 631.94,-42 631.94,-49\"/>\n</g>\n<!-- 140235182887696 -->\n<g id=\"node5\" class=\"node\">\n<title>140235182887696</title>\n<polygon fill=\"none\" stroke=\"black\" points=\"321,-55.5 321,-91.5 515,-91.5 515,-55.5 321,-55.5\"/>\n<text text-anchor=\"middle\" x=\"332.5\" y=\"-69.8\" font-family=\"Times,serif\" font-size=\"14.00\">e</text>\n<polyline fill=\"none\" stroke=\"black\" points=\"344,-55.5 344,-91.5 \"/>\n<text text-anchor=\"middle\" x=\"386.5\" y=\"-69.8\" font-family=\"Times,serif\" font-size=\"14.00\">data &#45;6.0000</text>\n<polyline fill=\"none\" stroke=\"black\" points=\"429,-55.5 429,-91.5 \"/>\n<text text-anchor=\"middle\" x=\"472\" y=\"-69.8\" font-family=\"Times,serif\" font-size=\"14.00\">grad &#45;2.0000</text>\n</g>\n<!-- 140235182887696&#45;&gt;140235182888128+ -->\n<g id=\"edge5\" class=\"edge\">\n<title>140235182887696&#45;&gt;140235182888128+</title>\n<path fill=\"none\" stroke=\"black\" d=\"M515.16,-56.57C524.82,-54.87 534.13,-53.23 542.49,-51.75\"/>\n<polygon fill=\"black\" stroke=\"black\" points=\"543.3,-55.17 552.54,-49.98 542.08,-48.27 543.3,-55.17\"/>\n</g>\n<!-- 140235182887696*&#45;&gt;140235182887696 -->\n<g id=\"edge2\" class=\"edge\">\n<title>140235182887696*&#45;&gt;140235182887696</title>\n<path fill=\"none\" stroke=\"black\" d=\"M284.26,-73.5C292.05,-73.5 301.1,-73.5 310.75,-73.5\"/>\n<polygon fill=\"black\" stroke=\"black\" points=\"310.99,-77 320.99,-73.5 310.99,-70 310.99,-77\"/>\n</g>\n<!-- 140235182890864 -->\n<g id=\"node7\" class=\"node\">\n<title>140235182890864</title>\n<polygon fill=\"none\" stroke=\"black\" points=\"957,-54.5 957,-90.5 1149,-90.5 1149,-54.5 957,-54.5\"/>\n<text text-anchor=\"middle\" x=\"969.5\" y=\"-68.8\" font-family=\"Times,serif\" font-size=\"14.00\">L</text>\n<polyline fill=\"none\" stroke=\"black\" points=\"982,-54.5 982,-90.5 \"/>\n<text text-anchor=\"middle\" x=\"1024.5\" y=\"-68.8\" font-family=\"Times,serif\" font-size=\"14.00\">data &#45;8.0000</text>\n<polyline fill=\"none\" stroke=\"black\" points=\"1067,-54.5 1067,-90.5 \"/>\n<text text-anchor=\"middle\" x=\"1108\" y=\"-68.8\" font-family=\"Times,serif\" font-size=\"14.00\">grad 1.0000</text>\n</g>\n<!-- 140235182890864*&#45;&gt;140235182890864 -->\n<g id=\"edge3\" class=\"edge\">\n<title>140235182890864*&#45;&gt;140235182890864</title>\n<path fill=\"none\" stroke=\"black\" d=\"M921.28,-72.5C928.78,-72.5 937.44,-72.5 946.67,-72.5\"/>\n<polygon fill=\"black\" stroke=\"black\" points=\"946.87,-76 956.87,-72.5 946.87,-69 946.87,-76\"/>\n</g>\n<!-- 140235182888896 -->\n<g id=\"node9\" class=\"node\">\n<title>140235182888896</title>\n<polygon fill=\"none\" stroke=\"black\" points=\"320,-0.5 320,-36.5 516,-36.5 516,-0.5 320,-0.5\"/>\n<text text-anchor=\"middle\" x=\"331.5\" y=\"-14.8\" font-family=\"Times,serif\" font-size=\"14.00\">c</text>\n<polyline fill=\"none\" stroke=\"black\" points=\"343,-0.5 343,-36.5 \"/>\n<text text-anchor=\"middle\" x=\"386.5\" y=\"-14.8\" font-family=\"Times,serif\" font-size=\"14.00\">data 10.0000</text>\n<polyline fill=\"none\" stroke=\"black\" points=\"430,-0.5 430,-36.5 \"/>\n<text text-anchor=\"middle\" x=\"473\" y=\"-14.8\" font-family=\"Times,serif\" font-size=\"14.00\">grad &#45;2.0000</text>\n</g>\n<!-- 140235182888896&#45;&gt;140235182888128+ -->\n<g id=\"edge4\" class=\"edge\">\n<title>140235182888896&#45;&gt;140235182888128+</title>\n<path fill=\"none\" stroke=\"black\" d=\"M516.07,-34.98C525.42,-36.57 534.43,-38.1 542.55,-39.48\"/>\n<polygon fill=\"black\" stroke=\"black\" points=\"542.21,-42.97 552.65,-41.2 543.38,-36.07 542.21,-42.97\"/>\n</g>\n<!-- 140235182888944 -->\n<g id=\"node10\" class=\"node\">\n<title>140235182888944</title>\n<polygon fill=\"none\" stroke=\"black\" points=\"0,-28.5 0,-64.5 194,-64.5 194,-28.5 0,-28.5\"/>\n<text text-anchor=\"middle\" x=\"11.5\" y=\"-42.8\" font-family=\"Times,serif\" font-size=\"14.00\">b</text>\n<polyline fill=\"none\" stroke=\"black\" points=\"23,-28.5 23,-64.5 \"/>\n<text text-anchor=\"middle\" x=\"65.5\" y=\"-42.8\" font-family=\"Times,serif\" font-size=\"14.00\">data &#45;3.0000</text>\n<polyline fill=\"none\" stroke=\"black\" points=\"108,-28.5 108,-64.5 \"/>\n<text text-anchor=\"middle\" x=\"151\" y=\"-42.8\" font-family=\"Times,serif\" font-size=\"14.00\">grad &#45;4.0000</text>\n</g>\n<!-- 140235182888944&#45;&gt;140235182887696* -->\n<g id=\"edge6\" class=\"edge\">\n<title>140235182888944&#45;&gt;140235182887696*</title>\n<path fill=\"none\" stroke=\"black\" d=\"M194.01,-62.91C203.35,-64.5 212.37,-66.04 220.49,-67.43\"/>\n<polygon fill=\"black\" stroke=\"black\" points=\"220.16,-70.93 230.6,-69.16 221.34,-64.03 220.16,-70.93\"/>\n</g>\n</g>\n</svg>\n"
          },
          "metadata": {},
          "execution_count": 22
        }
      ]
    },
    {
      "cell_type": "markdown",
      "source": [
        "# Manual Graph Update\n",
        "\n",
        "Applying gradient update rule...\n",
        "\n",
        "The new value should be ... `current value += eta * gradient`"
      ],
      "metadata": {
        "id": "woCJBFz1t_8R"
      }
    },
    {
      "cell_type": "code",
      "source": [
        "eta = 0.01\n",
        "\n",
        "a.data += eta * a.grad\n",
        "b.data += eta * b.grad\n",
        "c.data += eta * c.grad\n",
        "f.data += eta * f.grad\n",
        "\n",
        "# forward pass... \n",
        "e = a * b; e.label = 'e'\n",
        "d = e + c; d.label = 'd'\n",
        "L = d * f; L.label = 'L' \n",
        "\n",
        "draw_dot(L)"
      ],
      "metadata": {
        "colab": {
          "base_uri": "https://localhost:8080/",
          "height": 212
        },
        "id": "Fm8qIbw-ub_P",
        "outputId": "1298657c-1e50-471d-ce88-1611f324ba79"
      },
      "execution_count": 23,
      "outputs": [
        {
          "output_type": "execute_result",
          "data": {
            "text/plain": [
              "<graphviz.dot.Digraph at 0x7f8b0c42ddf0>"
            ],
            "image/svg+xml": "<?xml version=\"1.0\" encoding=\"UTF-8\" standalone=\"no\"?>\n<!DOCTYPE svg PUBLIC \"-//W3C//DTD SVG 1.1//EN\"\n \"http://www.w3.org/Graphics/SVG/1.1/DTD/svg11.dtd\">\n<!-- Generated by graphviz version 2.43.0 (0)\n -->\n<!-- Title: %3 Pages: 1 -->\n<svg width=\"1150pt\" height=\"128pt\"\n viewBox=\"0.00 0.00 1150.00 128.00\" xmlns=\"http://www.w3.org/2000/svg\" xmlns:xlink=\"http://www.w3.org/1999/xlink\">\n<g id=\"graph0\" class=\"graph\" transform=\"scale(1 1) rotate(0) translate(4 124)\">\n<title>%3</title>\n<polygon fill=\"white\" stroke=\"transparent\" points=\"-4,4 -4,-124 1146,-124 1146,4 -4,4\"/>\n<!-- 140235182890528 -->\n<g id=\"node1\" class=\"node\">\n<title>140235182890528</title>\n<polygon fill=\"none\" stroke=\"black\" points=\"636,-82.5 636,-118.5 824,-118.5 824,-82.5 636,-82.5\"/>\n<text text-anchor=\"middle\" x=\"646.5\" y=\"-96.8\" font-family=\"Times,serif\" font-size=\"14.00\">f</text>\n<polyline fill=\"none\" stroke=\"black\" points=\"657,-82.5 657,-118.5 \"/>\n<text text-anchor=\"middle\" x=\"699.5\" y=\"-96.8\" font-family=\"Times,serif\" font-size=\"14.00\">data &#45;1.9600</text>\n<polyline fill=\"none\" stroke=\"black\" points=\"742,-82.5 742,-118.5 \"/>\n<text text-anchor=\"middle\" x=\"783\" y=\"-96.8\" font-family=\"Times,serif\" font-size=\"14.00\">grad 4.0000</text>\n</g>\n<!-- 140235182890576* -->\n<g id=\"node3\" class=\"node\">\n<title>140235182890576*</title>\n<ellipse fill=\"none\" stroke=\"black\" cx=\"887\" cy=\"-72.5\" rx=\"27\" ry=\"18\"/>\n<text text-anchor=\"middle\" x=\"887\" y=\"-68.8\" font-family=\"Times,serif\" font-size=\"14.00\">*</text>\n</g>\n<!-- 140235182890528&#45;&gt;140235182890576* -->\n<g id=\"edge6\" class=\"edge\">\n<title>140235182890528&#45;&gt;140235182890576*</title>\n<path fill=\"none\" stroke=\"black\" d=\"M824.29,-83.65C833.57,-81.97 842.52,-80.35 850.61,-78.89\"/>\n<polygon fill=\"black\" stroke=\"black\" points=\"851.46,-82.3 860.68,-77.07 850.21,-75.41 851.46,-82.3\"/>\n</g>\n<!-- 140235182890576 -->\n<g id=\"node2\" class=\"node\">\n<title>140235182890576</title>\n<polygon fill=\"none\" stroke=\"black\" points=\"950,-54.5 950,-90.5 1142,-90.5 1142,-54.5 950,-54.5\"/>\n<text text-anchor=\"middle\" x=\"962.5\" y=\"-68.8\" font-family=\"Times,serif\" font-size=\"14.00\">L</text>\n<polyline fill=\"none\" stroke=\"black\" points=\"975,-54.5 975,-90.5 \"/>\n<text text-anchor=\"middle\" x=\"1017.5\" y=\"-68.8\" font-family=\"Times,serif\" font-size=\"14.00\">data &#45;7.2865</text>\n<polyline fill=\"none\" stroke=\"black\" points=\"1060,-54.5 1060,-90.5 \"/>\n<text text-anchor=\"middle\" x=\"1101\" y=\"-68.8\" font-family=\"Times,serif\" font-size=\"14.00\">grad 0.0000</text>\n</g>\n<!-- 140235182890576*&#45;&gt;140235182890576 -->\n<g id=\"edge1\" class=\"edge\">\n<title>140235182890576*&#45;&gt;140235182890576</title>\n<path fill=\"none\" stroke=\"black\" d=\"M914.28,-72.5C921.78,-72.5 930.44,-72.5 939.67,-72.5\"/>\n<polygon fill=\"black\" stroke=\"black\" points=\"939.87,-76 949.87,-72.5 939.87,-69 939.87,-76\"/>\n</g>\n<!-- 140235182888560 -->\n<g id=\"node4\" class=\"node\">\n<title>140235182888560</title>\n<polygon fill=\"none\" stroke=\"black\" points=\"637.5,-27.5 637.5,-63.5 822.5,-63.5 822.5,-27.5 637.5,-27.5\"/>\n<text text-anchor=\"middle\" x=\"649\" y=\"-41.8\" font-family=\"Times,serif\" font-size=\"14.00\">d</text>\n<polyline fill=\"none\" stroke=\"black\" points=\"660.5,-27.5 660.5,-63.5 \"/>\n<text text-anchor=\"middle\" x=\"700.5\" y=\"-41.8\" font-family=\"Times,serif\" font-size=\"14.00\">data 3.7176</text>\n<polyline fill=\"none\" stroke=\"black\" points=\"740.5,-27.5 740.5,-63.5 \"/>\n<text text-anchor=\"middle\" x=\"781.5\" y=\"-41.8\" font-family=\"Times,serif\" font-size=\"14.00\">grad 0.0000</text>\n</g>\n<!-- 140235182888560&#45;&gt;140235182890576* -->\n<g id=\"edge8\" class=\"edge\">\n<title>140235182888560&#45;&gt;140235182890576*</title>\n<path fill=\"none\" stroke=\"black\" d=\"M822.51,-61.44C832.48,-63.18 842.13,-64.86 850.77,-66.36\"/>\n<polygon fill=\"black\" stroke=\"black\" points=\"850.31,-69.84 860.77,-68.1 851.52,-62.94 850.31,-69.84\"/>\n</g>\n<!-- 140235182888560+ -->\n<g id=\"node5\" class=\"node\">\n<title>140235182888560+</title>\n<ellipse fill=\"none\" stroke=\"black\" cx=\"573\" cy=\"-45.5\" rx=\"27\" ry=\"18\"/>\n<text text-anchor=\"middle\" x=\"573\" y=\"-41.8\" font-family=\"Times,serif\" font-size=\"14.00\">+</text>\n</g>\n<!-- 140235182888560+&#45;&gt;140235182888560 -->\n<g id=\"edge2\" class=\"edge\">\n<title>140235182888560+&#45;&gt;140235182888560</title>\n<path fill=\"none\" stroke=\"black\" d=\"M600.29,-45.5C608.26,-45.5 617.54,-45.5 627.39,-45.5\"/>\n<polygon fill=\"black\" stroke=\"black\" points=\"627.41,-49 637.41,-45.5 627.41,-42 627.41,-49\"/>\n</g>\n<!-- 140235182887552 -->\n<g id=\"node6\" class=\"node\">\n<title>140235182887552</title>\n<polygon fill=\"none\" stroke=\"black\" points=\"4.5,-83.5 4.5,-119.5 189.5,-119.5 189.5,-83.5 4.5,-83.5\"/>\n<text text-anchor=\"middle\" x=\"16\" y=\"-97.8\" font-family=\"Times,serif\" font-size=\"14.00\">a</text>\n<polyline fill=\"none\" stroke=\"black\" points=\"27.5,-83.5 27.5,-119.5 \"/>\n<text text-anchor=\"middle\" x=\"67.5\" y=\"-97.8\" font-family=\"Times,serif\" font-size=\"14.00\">data 2.0600</text>\n<polyline fill=\"none\" stroke=\"black\" points=\"107.5,-83.5 107.5,-119.5 \"/>\n<text text-anchor=\"middle\" x=\"148.5\" y=\"-97.8\" font-family=\"Times,serif\" font-size=\"14.00\">grad 6.0000</text>\n</g>\n<!-- 140235182887744* -->\n<g id=\"node8\" class=\"node\">\n<title>140235182887744*</title>\n<ellipse fill=\"none\" stroke=\"black\" cx=\"257\" cy=\"-73.5\" rx=\"27\" ry=\"18\"/>\n<text text-anchor=\"middle\" x=\"257\" y=\"-69.8\" font-family=\"Times,serif\" font-size=\"14.00\">*</text>\n</g>\n<!-- 140235182887552&#45;&gt;140235182887744* -->\n<g id=\"edge4\" class=\"edge\">\n<title>140235182887552&#45;&gt;140235182887744*</title>\n<path fill=\"none\" stroke=\"black\" d=\"M189.91,-85.21C200.76,-83.29 211.28,-81.43 220.61,-79.77\"/>\n<polygon fill=\"black\" stroke=\"black\" points=\"221.37,-83.19 230.6,-78 220.15,-76.3 221.37,-83.19\"/>\n</g>\n<!-- 140235182887744 -->\n<g id=\"node7\" class=\"node\">\n<title>140235182887744</title>\n<polygon fill=\"none\" stroke=\"black\" points=\"320,-55.5 320,-91.5 510,-91.5 510,-55.5 320,-55.5\"/>\n<text text-anchor=\"middle\" x=\"331.5\" y=\"-69.8\" font-family=\"Times,serif\" font-size=\"14.00\">e</text>\n<polyline fill=\"none\" stroke=\"black\" points=\"343,-55.5 343,-91.5 \"/>\n<text text-anchor=\"middle\" x=\"385.5\" y=\"-69.8\" font-family=\"Times,serif\" font-size=\"14.00\">data &#45;6.2624</text>\n<polyline fill=\"none\" stroke=\"black\" points=\"428,-55.5 428,-91.5 \"/>\n<text text-anchor=\"middle\" x=\"469\" y=\"-69.8\" font-family=\"Times,serif\" font-size=\"14.00\">grad 0.0000</text>\n</g>\n<!-- 140235182887744&#45;&gt;140235182888560+ -->\n<g id=\"edge5\" class=\"edge\">\n<title>140235182887744&#45;&gt;140235182888560+</title>\n<path fill=\"none\" stroke=\"black\" d=\"M510.34,-56.57C519.62,-54.9 528.58,-53.29 536.66,-51.84\"/>\n<polygon fill=\"black\" stroke=\"black\" points=\"537.49,-55.25 546.72,-50.04 536.26,-48.36 537.49,-55.25\"/>\n</g>\n<!-- 140235182887744*&#45;&gt;140235182887744 -->\n<g id=\"edge3\" class=\"edge\">\n<title>140235182887744*&#45;&gt;140235182887744</title>\n<path fill=\"none\" stroke=\"black\" d=\"M284.11,-73.5C291.63,-73.5 300.32,-73.5 309.58,-73.5\"/>\n<polygon fill=\"black\" stroke=\"black\" points=\"309.81,-77 319.81,-73.5 309.81,-70 309.81,-77\"/>\n</g>\n<!-- 140235182888896 -->\n<g id=\"node9\" class=\"node\">\n<title>140235182888896</title>\n<polygon fill=\"none\" stroke=\"black\" points=\"320.5,-0.5 320.5,-36.5 509.5,-36.5 509.5,-0.5 320.5,-0.5\"/>\n<text text-anchor=\"middle\" x=\"332\" y=\"-14.8\" font-family=\"Times,serif\" font-size=\"14.00\">c</text>\n<polyline fill=\"none\" stroke=\"black\" points=\"343.5,-0.5 343.5,-36.5 \"/>\n<text text-anchor=\"middle\" x=\"383.5\" y=\"-14.8\" font-family=\"Times,serif\" font-size=\"14.00\">data 9.9800</text>\n<polyline fill=\"none\" stroke=\"black\" points=\"423.5,-0.5 423.5,-36.5 \"/>\n<text text-anchor=\"middle\" x=\"466.5\" y=\"-14.8\" font-family=\"Times,serif\" font-size=\"14.00\">grad &#45;2.0000</text>\n</g>\n<!-- 140235182888896&#45;&gt;140235182888560+ -->\n<g id=\"edge9\" class=\"edge\">\n<title>140235182888896&#45;&gt;140235182888560+</title>\n<path fill=\"none\" stroke=\"black\" d=\"M509.9,-34.75C519.33,-36.38 528.45,-37.96 536.65,-39.38\"/>\n<polygon fill=\"black\" stroke=\"black\" points=\"536.06,-42.83 546.51,-41.09 537.26,-35.93 536.06,-42.83\"/>\n</g>\n<!-- 140235182888944 -->\n<g id=\"node10\" class=\"node\">\n<title>140235182888944</title>\n<polygon fill=\"none\" stroke=\"black\" points=\"0,-28.5 0,-64.5 194,-64.5 194,-28.5 0,-28.5\"/>\n<text text-anchor=\"middle\" x=\"11.5\" y=\"-42.8\" font-family=\"Times,serif\" font-size=\"14.00\">b</text>\n<polyline fill=\"none\" stroke=\"black\" points=\"23,-28.5 23,-64.5 \"/>\n<text text-anchor=\"middle\" x=\"65.5\" y=\"-42.8\" font-family=\"Times,serif\" font-size=\"14.00\">data &#45;3.0400</text>\n<polyline fill=\"none\" stroke=\"black\" points=\"108,-28.5 108,-64.5 \"/>\n<text text-anchor=\"middle\" x=\"151\" y=\"-42.8\" font-family=\"Times,serif\" font-size=\"14.00\">grad &#45;4.0000</text>\n</g>\n<!-- 140235182888944&#45;&gt;140235182887744* -->\n<g id=\"edge7\" class=\"edge\">\n<title>140235182888944&#45;&gt;140235182887744*</title>\n<path fill=\"none\" stroke=\"black\" d=\"M194.01,-62.91C203.35,-64.5 212.37,-66.04 220.49,-67.43\"/>\n<polygon fill=\"black\" stroke=\"black\" points=\"220.16,-70.93 230.6,-69.16 221.34,-64.03 220.16,-70.93\"/>\n</g>\n</g>\n</svg>\n"
          },
          "metadata": {},
          "execution_count": 23
        }
      ]
    },
    {
      "cell_type": "markdown",
      "source": [
        "# LOL function for manually computing derivatives\n",
        "\n",
        "Manually computing a derivative... \n",
        "\n",
        "Create all of our variables in a function to keep from polluting the global scope"
      ],
      "metadata": {
        "id": "jbg83G2PfxwS"
      }
    },
    {
      "cell_type": "code",
      "source": [
        "def lol():\n",
        "  # h\n",
        "  h = 0.0000001\n",
        "\n",
        "  # values\n",
        "  a = Value(2.0,  label='a')\n",
        "  b = Value(-3.0, label='b')\n",
        "  c = Value(10.0, label='c')\n",
        "  f = Value(-2.0, label='f')\n",
        "\n",
        "  # ops\n",
        "  e = a * b; e.label = 'e'\n",
        "  d = e + c; d.label = 'd'\n",
        "  L = d * f; L.label = 'L' \n",
        "  L1 = L.data\n",
        "\n",
        "  # add h \n",
        "  # a.data += h\n",
        "  b.data += h\n",
        "  # f.data += h\n",
        "  # c.data += h\n",
        "  \n",
        "\n",
        "  # ops\n",
        "  e = a * b; e.label = 'e'\n",
        "  # e.data += h\n",
        "  d = e + c; d.label = 'd'\n",
        "  # d.data += h\n",
        "  L = d * f; L.label = 'L' \n",
        "  L2 = L.data # + h # adding h to L to take that derivative\n",
        "\n",
        "  print(f\"dL/d? = {(L2 - L1) / h}\")\n",
        "\n",
        "lol()"
      ],
      "metadata": {
        "colab": {
          "base_uri": "https://localhost:8080/"
        },
        "id": "gdzBxGAbf5W_",
        "outputId": "978a63ee-33ad-4b86-9010-66f97eb81404"
      },
      "execution_count": 24,
      "outputs": [
        {
          "output_type": "stream",
          "name": "stdout",
          "text": [
            "dL/d? = -3.9999999934536845\n"
          ]
        }
      ]
    },
    {
      "cell_type": "markdown",
      "source": [
        "A nice quote about the chain rule from https://en.wikipedia.org/wiki/Chain_rule\n",
        "\n",
        "\"if a car travels twice as fast as a bicycle and the bicycle is four times as fast as a walking man, then the car travels 2 × 4 = 8 times as fast as the man.\""
      ],
      "metadata": {
        "id": "EkuZ8DR9meOl"
      }
    },
    {
      "cell_type": "markdown",
      "source": [
        "# Neuron Backprop"
      ],
      "metadata": {
        "id": "7MIk1aQF4v_-"
      }
    },
    {
      "cell_type": "code",
      "source": [
        "plt.plot(np.arange(-5,5,0.2), np.tanh(np.arange(-5,5,0.2))); plt.grid();"
      ],
      "metadata": {
        "id": "CSJ2UNjahgN0",
        "colab": {
          "base_uri": "https://localhost:8080/",
          "height": 265
        },
        "outputId": "e16b36ff-8ab1-4267-b24f-84e8c82cf482"
      },
      "execution_count": 25,
      "outputs": [
        {
          "output_type": "display_data",
          "data": {
            "text/plain": [
              "<Figure size 432x288 with 1 Axes>"
            ],
            "image/png": "[encoded data removed]"
          },
          "metadata": {
            "needs_background": "light"
          }
        }
      ]
    },
    {
      "cell_type": "markdown",
      "source": [
        "Some values for our neuron..."
      ],
      "metadata": {
        "id": "vNluUblb5sBb"
      }
    },
    {
      "cell_type": "code",
      "source": [
        "def build_graph():\n",
        "  # inputs\n",
        "  x1 = Value(2.0, label='x1')\n",
        "  x2 = Value(0.0, label='x2')\n",
        "\n",
        "  # weights\n",
        "  w1 = Value(-3.0, label='w1')\n",
        "  w2 = Value(1.0, label='w2')\n",
        "\n",
        "  # bias\n",
        "  b = Value(6.8813735870195432, label='b')\n",
        "\n",
        "  # weights x inputs\n",
        "  x1w1 = x1 * w1; x1w1.label = 'x1*w1'\n",
        "  x2w2 = x2 * w2; x2w2.label = 'x2*w2'\n",
        "\n",
        "  # dot product\n",
        "  x1w1x2w2 = x1w1 + x2w2; x1w1x2w2.label = 'x1*w1 + x2*w2'\n",
        "\n",
        "  # adding the bias\n",
        "  n = x1w1x2w2 + b; n.label = 'n'\n",
        "\n",
        "  o = n.tanh(); o.label = 'o'\n",
        "\n",
        "  return o\n"
      ],
      "metadata": {
        "id": "K_Yho4815UTG"
      },
      "execution_count": 26,
      "outputs": []
    },
    {
      "cell_type": "code",
      "source": [
        "o = build_graph()"
      ],
      "metadata": {
        "id": "An7O9dBOkb3n"
      },
      "execution_count": 27,
      "outputs": []
    },
    {
      "cell_type": "markdown",
      "source": [
        "Running the backward function on our values..."
      ],
      "metadata": {
        "id": "BzB83meMKSel"
      }
    },
    {
      "cell_type": "code",
      "source": [
        "o.grad = 1.0 # since grad initialized as 0.0"
      ],
      "metadata": {
        "id": "o-6hKE_xLnV1"
      },
      "execution_count": 28,
      "outputs": []
    },
    {
      "cell_type": "markdown",
      "source": [
        "## Example 1:\n",
        "hard coding the gradients..."
      ],
      "metadata": {
        "id": "5SGDLleLAI03"
      }
    },
    {
      "cell_type": "code",
      "source": [
        "# o.grad = 1.0\n",
        "\n",
        "# # o = tanh(n)\n",
        "# # do/dn = 1 - tanh(n)^2\n",
        "# #       = 1 - o^2\n",
        "# n.grad = 1 - o.data ** 2\n",
        "\n",
        "# # do/dx1w1... = do/dn * dn/dx1w1...\n",
        "# # n = x1w1x2w2 + b\n",
        "# # dn/dx1w1... = 1.0\n",
        "# x1w1x2w2.grad = 1.0 * n.grad\n",
        "# b.grad = 1.0 * n.grad\n",
        "\n",
        "# # do/dx1w1 = do/dx1w1x2w2 * dx1w1x2w2/dx1w1\n",
        "# # do/dx1w1x2w2 = x1w1x2w2.grad\n",
        "# # x1w1x2w2 = x1w1 + x2w2\n",
        "# # dx1w1x2w2/dx1w1 = 1.0\n",
        "# # dx1w1x2w2/dx2w2 = 1.0\n",
        "# x1w1.grad = x1w1x2w2.grad * 1.0\n",
        "# x2w2.grad = x1w1x2w2.grad * 1.0\n",
        "\n",
        "# # do/dx2 = do/dx2w2 * dx2w2/dx2\n",
        "# # do/dx2w2 = x2w2.grad\n",
        "# # x2w2 = x2 * w2\n",
        "# # dx2w2/dx2 = w2\n",
        "# # dx2w2/dw2 = x2\n",
        "# x2.grad = x2w2.grad * w2.data\n",
        "# w2.grad = x2w2.grad * x2.data\n",
        "\n",
        "# # do/dx1 = do/dx1w1 * dx1w1/dx1\n",
        "# # do/dx1w1 = x1w1.grad\n",
        "# # x1w1 = x1 * w1\n",
        "# # dx1w1/dx1 = w1\n",
        "# # dx1w1/dw1 = x1\n",
        "# x1.grad = x1w1.grad * w1.data\n",
        "# w1.grad = x1w1.grad * x1.data"
      ],
      "metadata": {
        "id": "SiYpRD_t54OL"
      },
      "execution_count": 29,
      "outputs": []
    },
    {
      "cell_type": "code",
      "source": [
        "# draw_dot(o)"
      ],
      "metadata": {
        "id": "CdzSYcZk97k4"
      },
      "execution_count": 30,
      "outputs": []
    },
    {
      "cell_type": "markdown",
      "source": [
        "## Example 2:\n",
        "Running backprop in topological order manually"
      ],
      "metadata": {
        "id": "nyrhUqsBkov0"
      }
    },
    {
      "cell_type": "code",
      "source": [
        "# inputs\n",
        "x1 = Value(2.0, label='x1')\n",
        "x2 = Value(0.0, label='x2')\n",
        "\n",
        "# weights\n",
        "w1 = Value(-3.0, label='w1')\n",
        "w2 = Value(1.0, label='w2')\n",
        "\n",
        "# bias\n",
        "b = Value(6.8813735870195432, label='b')\n",
        "\n",
        "# weights x inputs\n",
        "x1w1 = x1 * w1; x1w1.label = 'x1*w1'\n",
        "x2w2 = x2 * w2; x2w2.label = 'x2*w2'\n",
        "\n",
        "# dot product\n",
        "x1w1x2w2 = x1w1 + x2w2; x1w1x2w2.label = 'x1*w1 + x2*w2'\n",
        "\n",
        "# adding the bias\n",
        "n = x1w1x2w2 + b; n.label = 'n'\n",
        "\n",
        "o = n.tanh(); o.label = 'o'\n",
        "o.grad = 1.0\n",
        "\n",
        "# Run the backprop in order on the graph\n",
        "o._backward()\n",
        "n._backward()\n",
        "x1w1x2w2._backward()\n",
        "b._backward()\n",
        "x1w1._backward()\n",
        "x2w2._backward()\n",
        "w1._backward()\n",
        "x1._backward()\n",
        "w2._backward()\n",
        "x2._backward()"
      ],
      "metadata": {
        "id": "OCYA016sKV48"
      },
      "execution_count": 31,
      "outputs": []
    },
    {
      "cell_type": "code",
      "source": [
        "draw_dot(o)"
      ],
      "metadata": {
        "colab": {
          "base_uri": "https://localhost:8080/",
          "height": 321
        },
        "id": "VgJgULkYKl9P",
        "outputId": "763b4ee7-5eb4-4b55-d4dc-7c4ff3b8e493"
      },
      "execution_count": 32,
      "outputs": [
        {
          "output_type": "execute_result",
          "data": {
            "text/plain": [
              "<graphviz.dot.Digraph at 0x7f8b0c434310>"
            ],
            "image/svg+xml": "<?xml version=\"1.0\" encoding=\"UTF-8\" standalone=\"no\"?>\n<!DOCTYPE svg PUBLIC \"-//W3C//DTD SVG 1.1//EN\"\n \"http://www.w3.org/Graphics/SVG/1.1/DTD/svg11.dtd\">\n<!-- Generated by graphviz version 2.43.0 (0)\n -->\n<!-- Title: %3 Pages: 1 -->\n<svg width=\"1575pt\" height=\"210pt\"\n viewBox=\"0.00 0.00 1575.00 210.00\" xmlns=\"http://www.w3.org/2000/svg\" xmlns:xlink=\"http://www.w3.org/1999/xlink\">\n<g id=\"graph0\" class=\"graph\" transform=\"scale(1 1) rotate(0) translate(4 206)\">\n<title>%3</title>\n<polygon fill=\"white\" stroke=\"transparent\" points=\"-4,4 -4,-206 1571,-206 1571,4 -4,4\"/>\n<!-- 140235182887456 -->\n<g id=\"node1\" class=\"node\">\n<title>140235182887456</title>\n<polygon fill=\"none\" stroke=\"black\" points=\"672,-82.5 672,-118.5 945,-118.5 945,-82.5 672,-82.5\"/>\n<text text-anchor=\"middle\" x=\"725\" y=\"-96.8\" font-family=\"Times,serif\" font-size=\"14.00\">x1*w1 + x2*w2</text>\n<polyline fill=\"none\" stroke=\"black\" points=\"778,-82.5 778,-118.5 \"/>\n<text text-anchor=\"middle\" x=\"820.5\" y=\"-96.8\" font-family=\"Times,serif\" font-size=\"14.00\">data &#45;6.0000</text>\n<polyline fill=\"none\" stroke=\"black\" points=\"863,-82.5 863,-118.5 \"/>\n<text text-anchor=\"middle\" x=\"904\" y=\"-96.8\" font-family=\"Times,serif\" font-size=\"14.00\">grad 0.5000</text>\n</g>\n<!-- 140235182888608+ -->\n<g id=\"node11\" class=\"node\">\n<title>140235182888608+</title>\n<ellipse fill=\"none\" stroke=\"black\" cx=\"1008\" cy=\"-127.5\" rx=\"27\" ry=\"18\"/>\n<text text-anchor=\"middle\" x=\"1008\" y=\"-123.8\" font-family=\"Times,serif\" font-size=\"14.00\">+</text>\n</g>\n<!-- 140235182887456&#45;&gt;140235182888608+ -->\n<g id=\"edge11\" class=\"edge\">\n<title>140235182887456&#45;&gt;140235182888608+</title>\n<path fill=\"none\" stroke=\"black\" d=\"M941.24,-118.51C952.12,-120 962.4,-121.4 971.45,-122.64\"/>\n<polygon fill=\"black\" stroke=\"black\" points=\"971.11,-126.13 981.49,-124.01 972.05,-119.19 971.11,-126.13\"/>\n</g>\n<!-- 140235182887456+ -->\n<g id=\"node2\" class=\"node\">\n<title>140235182887456+</title>\n<ellipse fill=\"none\" stroke=\"black\" cx=\"609\" cy=\"-100.5\" rx=\"27\" ry=\"18\"/>\n<text text-anchor=\"middle\" x=\"609\" y=\"-96.8\" font-family=\"Times,serif\" font-size=\"14.00\">+</text>\n</g>\n<!-- 140235182887456+&#45;&gt;140235182887456 -->\n<g id=\"edge1\" class=\"edge\">\n<title>140235182887456+&#45;&gt;140235182887456</title>\n<path fill=\"none\" stroke=\"black\" d=\"M636.23,-100.5C643.7,-100.5 652.41,-100.5 661.87,-100.5\"/>\n<polygon fill=\"black\" stroke=\"black\" points=\"661.98,-104 671.98,-100.5 661.98,-97 661.98,-104\"/>\n</g>\n<!-- 140235182713392 -->\n<g id=\"node3\" class=\"node\">\n<title>140235182713392</title>\n<polygon fill=\"none\" stroke=\"black\" points=\"2.5,-165.5 2.5,-201.5 197.5,-201.5 197.5,-165.5 2.5,-165.5\"/>\n<text text-anchor=\"middle\" x=\"19\" y=\"-179.8\" font-family=\"Times,serif\" font-size=\"14.00\">w2</text>\n<polyline fill=\"none\" stroke=\"black\" points=\"35.5,-165.5 35.5,-201.5 \"/>\n<text text-anchor=\"middle\" x=\"75.5\" y=\"-179.8\" font-family=\"Times,serif\" font-size=\"14.00\">data 1.0000</text>\n<polyline fill=\"none\" stroke=\"black\" points=\"115.5,-165.5 115.5,-201.5 \"/>\n<text text-anchor=\"middle\" x=\"156.5\" y=\"-179.8\" font-family=\"Times,serif\" font-size=\"14.00\">grad 0.0000</text>\n</g>\n<!-- 140235182889616* -->\n<g id=\"node7\" class=\"node\">\n<title>140235182889616*</title>\n<ellipse fill=\"none\" stroke=\"black\" cx=\"263\" cy=\"-128.5\" rx=\"27\" ry=\"18\"/>\n<text text-anchor=\"middle\" x=\"263\" y=\"-124.8\" font-family=\"Times,serif\" font-size=\"14.00\">*</text>\n</g>\n<!-- 140235182713392&#45;&gt;140235182889616* -->\n<g id=\"edge14\" class=\"edge\">\n<title>140235182713392&#45;&gt;140235182889616*</title>\n<path fill=\"none\" stroke=\"black\" d=\"M172.53,-165.44C181.84,-162.67 191.2,-159.67 200,-156.5 210.53,-152.71 221.75,-147.9 231.72,-143.33\"/>\n<polygon fill=\"black\" stroke=\"black\" points=\"233.25,-146.48 240.82,-139.07 230.28,-140.14 233.25,-146.48\"/>\n</g>\n<!-- 140235182889520 -->\n<g id=\"node4\" class=\"node\">\n<title>140235182889520</title>\n<polygon fill=\"none\" stroke=\"black\" points=\"716,-137.5 716,-173.5 901,-173.5 901,-137.5 716,-137.5\"/>\n<text text-anchor=\"middle\" x=\"727.5\" y=\"-151.8\" font-family=\"Times,serif\" font-size=\"14.00\">b</text>\n<polyline fill=\"none\" stroke=\"black\" points=\"739,-137.5 739,-173.5 \"/>\n<text text-anchor=\"middle\" x=\"779\" y=\"-151.8\" font-family=\"Times,serif\" font-size=\"14.00\">data 6.8814</text>\n<polyline fill=\"none\" stroke=\"black\" points=\"819,-137.5 819,-173.5 \"/>\n<text text-anchor=\"middle\" x=\"860\" y=\"-151.8\" font-family=\"Times,serif\" font-size=\"14.00\">grad 0.5000</text>\n</g>\n<!-- 140235182889520&#45;&gt;140235182888608+ -->\n<g id=\"edge6\" class=\"edge\">\n<title>140235182889520&#45;&gt;140235182888608+</title>\n<path fill=\"none\" stroke=\"black\" d=\"M901.02,-142.52C926,-138.98 951.59,-135.36 971.37,-132.55\"/>\n<polygon fill=\"black\" stroke=\"black\" points=\"972.03,-135.99 981.43,-131.12 971.04,-129.06 972.03,-135.99\"/>\n</g>\n<!-- 140235182714496 -->\n<g id=\"node5\" class=\"node\">\n<title>140235182714496</title>\n<polygon fill=\"none\" stroke=\"black\" points=\"2,-55.5 2,-91.5 198,-91.5 198,-55.5 2,-55.5\"/>\n<text text-anchor=\"middle\" x=\"17\" y=\"-69.8\" font-family=\"Times,serif\" font-size=\"14.00\">x1</text>\n<polyline fill=\"none\" stroke=\"black\" points=\"32,-55.5 32,-91.5 \"/>\n<text text-anchor=\"middle\" x=\"72\" y=\"-69.8\" font-family=\"Times,serif\" font-size=\"14.00\">data 2.0000</text>\n<polyline fill=\"none\" stroke=\"black\" points=\"112,-55.5 112,-91.5 \"/>\n<text text-anchor=\"middle\" x=\"155\" y=\"-69.8\" font-family=\"Times,serif\" font-size=\"14.00\">grad &#45;1.5000</text>\n</g>\n<!-- 140235182887792* -->\n<g id=\"node15\" class=\"node\">\n<title>140235182887792*</title>\n<ellipse fill=\"none\" stroke=\"black\" cx=\"263\" cy=\"-73.5\" rx=\"27\" ry=\"18\"/>\n<text text-anchor=\"middle\" x=\"263\" y=\"-69.8\" font-family=\"Times,serif\" font-size=\"14.00\">*</text>\n</g>\n<!-- 140235182714496&#45;&gt;140235182887792* -->\n<g id=\"edge10\" class=\"edge\">\n<title>140235182714496&#45;&gt;140235182887792*</title>\n<path fill=\"none\" stroke=\"black\" d=\"M198.37,-73.5C208.05,-73.5 217.4,-73.5 225.8,-73.5\"/>\n<polygon fill=\"black\" stroke=\"black\" points=\"225.91,-77 235.91,-73.5 225.91,-70 225.91,-77\"/>\n</g>\n<!-- 140235182889616 -->\n<g id=\"node6\" class=\"node\">\n<title>140235182889616</title>\n<polygon fill=\"none\" stroke=\"black\" points=\"328.5,-110.5 328.5,-146.5 543.5,-146.5 543.5,-110.5 328.5,-110.5\"/>\n<text text-anchor=\"middle\" x=\"355\" y=\"-124.8\" font-family=\"Times,serif\" font-size=\"14.00\">x2*w2</text>\n<polyline fill=\"none\" stroke=\"black\" points=\"381.5,-110.5 381.5,-146.5 \"/>\n<text text-anchor=\"middle\" x=\"421.5\" y=\"-124.8\" font-family=\"Times,serif\" font-size=\"14.00\">data 0.0000</text>\n<polyline fill=\"none\" stroke=\"black\" points=\"461.5,-110.5 461.5,-146.5 \"/>\n<text text-anchor=\"middle\" x=\"502.5\" y=\"-124.8\" font-family=\"Times,serif\" font-size=\"14.00\">grad 0.5000</text>\n</g>\n<!-- 140235182889616&#45;&gt;140235182887456+ -->\n<g id=\"edge8\" class=\"edge\">\n<title>140235182889616&#45;&gt;140235182887456+</title>\n<path fill=\"none\" stroke=\"black\" d=\"M543.84,-111.01C554.01,-109.34 563.76,-107.74 572.44,-106.32\"/>\n<polygon fill=\"black\" stroke=\"black\" points=\"573.17,-109.75 582.47,-104.68 572.04,-102.84 573.17,-109.75\"/>\n</g>\n<!-- 140235182889616*&#45;&gt;140235182889616 -->\n<g id=\"edge2\" class=\"edge\">\n<title>140235182889616*&#45;&gt;140235182889616</title>\n<path fill=\"none\" stroke=\"black\" d=\"M290.34,-128.5C298.51,-128.5 308.08,-128.5 318.36,-128.5\"/>\n<polygon fill=\"black\" stroke=\"black\" points=\"318.39,-132 328.39,-128.5 318.39,-125 318.39,-132\"/>\n</g>\n<!-- 140235182887072 -->\n<g id=\"node8\" class=\"node\">\n<title>140235182887072</title>\n<polygon fill=\"none\" stroke=\"black\" points=\"1382,-109.5 1382,-145.5 1567,-145.5 1567,-109.5 1382,-109.5\"/>\n<text text-anchor=\"middle\" x=\"1393.5\" y=\"-123.8\" font-family=\"Times,serif\" font-size=\"14.00\">o</text>\n<polyline fill=\"none\" stroke=\"black\" points=\"1405,-109.5 1405,-145.5 \"/>\n<text text-anchor=\"middle\" x=\"1445\" y=\"-123.8\" font-family=\"Times,serif\" font-size=\"14.00\">data 0.7071</text>\n<polyline fill=\"none\" stroke=\"black\" points=\"1485,-109.5 1485,-145.5 \"/>\n<text text-anchor=\"middle\" x=\"1526\" y=\"-123.8\" font-family=\"Times,serif\" font-size=\"14.00\">grad 1.0000</text>\n</g>\n<!-- 140235182887072tanh -->\n<g id=\"node9\" class=\"node\">\n<title>140235182887072tanh</title>\n<ellipse fill=\"none\" stroke=\"black\" cx=\"1319\" cy=\"-127.5\" rx=\"27\" ry=\"18\"/>\n<text text-anchor=\"middle\" x=\"1319\" y=\"-123.8\" font-family=\"Times,serif\" font-size=\"14.00\">tanh</text>\n</g>\n<!-- 140235182887072tanh&#45;&gt;140235182887072 -->\n<g id=\"edge3\" class=\"edge\">\n<title>140235182887072tanh&#45;&gt;140235182887072</title>\n<path fill=\"none\" stroke=\"black\" d=\"M1346.04,-127.5C1353.58,-127.5 1362.3,-127.5 1371.57,-127.5\"/>\n<polygon fill=\"black\" stroke=\"black\" points=\"1371.81,-131 1381.81,-127.5 1371.81,-124 1371.81,-131\"/>\n</g>\n<!-- 140235182888608 -->\n<g id=\"node10\" class=\"node\">\n<title>140235182888608</title>\n<polygon fill=\"none\" stroke=\"black\" points=\"1071,-109.5 1071,-145.5 1256,-145.5 1256,-109.5 1071,-109.5\"/>\n<text text-anchor=\"middle\" x=\"1082.5\" y=\"-123.8\" font-family=\"Times,serif\" font-size=\"14.00\">n</text>\n<polyline fill=\"none\" stroke=\"black\" points=\"1094,-109.5 1094,-145.5 \"/>\n<text text-anchor=\"middle\" x=\"1134\" y=\"-123.8\" font-family=\"Times,serif\" font-size=\"14.00\">data 0.8814</text>\n<polyline fill=\"none\" stroke=\"black\" points=\"1174,-109.5 1174,-145.5 \"/>\n<text text-anchor=\"middle\" x=\"1215\" y=\"-123.8\" font-family=\"Times,serif\" font-size=\"14.00\">grad 0.5000</text>\n</g>\n<!-- 140235182888608&#45;&gt;140235182887072tanh -->\n<g id=\"edge13\" class=\"edge\">\n<title>140235182888608&#45;&gt;140235182887072tanh</title>\n<path fill=\"none\" stroke=\"black\" d=\"M1256.01,-127.5C1265.01,-127.5 1273.74,-127.5 1281.66,-127.5\"/>\n<polygon fill=\"black\" stroke=\"black\" points=\"1281.91,-131 1291.91,-127.5 1281.91,-124 1281.91,-131\"/>\n</g>\n<!-- 140235182888608+&#45;&gt;140235182888608 -->\n<g id=\"edge4\" class=\"edge\">\n<title>140235182888608+&#45;&gt;140235182888608</title>\n<path fill=\"none\" stroke=\"black\" d=\"M1035.04,-127.5C1042.58,-127.5 1051.3,-127.5 1060.57,-127.5\"/>\n<polygon fill=\"black\" stroke=\"black\" points=\"1060.81,-131 1070.81,-127.5 1060.81,-124 1060.81,-131\"/>\n</g>\n<!-- 140235182890192 -->\n<g id=\"node12\" class=\"node\">\n<title>140235182890192</title>\n<polygon fill=\"none\" stroke=\"black\" points=\"0,-0.5 0,-36.5 200,-36.5 200,-0.5 0,-0.5\"/>\n<text text-anchor=\"middle\" x=\"16.5\" y=\"-14.8\" font-family=\"Times,serif\" font-size=\"14.00\">w1</text>\n<polyline fill=\"none\" stroke=\"black\" points=\"33,-0.5 33,-36.5 \"/>\n<text text-anchor=\"middle\" x=\"75.5\" y=\"-14.8\" font-family=\"Times,serif\" font-size=\"14.00\">data &#45;3.0000</text>\n<polyline fill=\"none\" stroke=\"black\" points=\"118,-0.5 118,-36.5 \"/>\n<text text-anchor=\"middle\" x=\"159\" y=\"-14.8\" font-family=\"Times,serif\" font-size=\"14.00\">grad 1.0000</text>\n</g>\n<!-- 140235182890192&#45;&gt;140235182887792* -->\n<g id=\"edge12\" class=\"edge\">\n<title>140235182890192&#45;&gt;140235182887792*</title>\n<path fill=\"none\" stroke=\"black\" d=\"M169.28,-36.5C179.65,-39.61 190.16,-42.98 200,-46.5 210.28,-50.17 221.28,-54.74 231.11,-59.07\"/>\n<polygon fill=\"black\" stroke=\"black\" points=\"229.93,-62.37 240.48,-63.27 232.79,-55.99 229.93,-62.37\"/>\n</g>\n<!-- 140235182713152 -->\n<g id=\"node13\" class=\"node\">\n<title>140235182713152</title>\n<polygon fill=\"none\" stroke=\"black\" points=\"4,-110.5 4,-146.5 196,-146.5 196,-110.5 4,-110.5\"/>\n<text text-anchor=\"middle\" x=\"19\" y=\"-124.8\" font-family=\"Times,serif\" font-size=\"14.00\">x2</text>\n<polyline fill=\"none\" stroke=\"black\" points=\"34,-110.5 34,-146.5 \"/>\n<text text-anchor=\"middle\" x=\"74\" y=\"-124.8\" font-family=\"Times,serif\" font-size=\"14.00\">data 0.0000</text>\n<polyline fill=\"none\" stroke=\"black\" points=\"114,-110.5 114,-146.5 \"/>\n<text text-anchor=\"middle\" x=\"155\" y=\"-124.8\" font-family=\"Times,serif\" font-size=\"14.00\">grad 0.5000</text>\n</g>\n<!-- 140235182713152&#45;&gt;140235182889616* -->\n<g id=\"edge9\" class=\"edge\">\n<title>140235182713152&#45;&gt;140235182889616*</title>\n<path fill=\"none\" stroke=\"black\" d=\"M196.05,-128.5C206.52,-128.5 216.65,-128.5 225.71,-128.5\"/>\n<polygon fill=\"black\" stroke=\"black\" points=\"225.79,-132 235.79,-128.5 225.79,-125 225.79,-132\"/>\n</g>\n<!-- 140235182887792 -->\n<g id=\"node14\" class=\"node\">\n<title>140235182887792</title>\n<polygon fill=\"none\" stroke=\"black\" points=\"326,-55.5 326,-91.5 546,-91.5 546,-55.5 326,-55.5\"/>\n<text text-anchor=\"middle\" x=\"352.5\" y=\"-69.8\" font-family=\"Times,serif\" font-size=\"14.00\">x1*w1</text>\n<polyline fill=\"none\" stroke=\"black\" points=\"379,-55.5 379,-91.5 \"/>\n<text text-anchor=\"middle\" x=\"421.5\" y=\"-69.8\" font-family=\"Times,serif\" font-size=\"14.00\">data &#45;6.0000</text>\n<polyline fill=\"none\" stroke=\"black\" points=\"464,-55.5 464,-91.5 \"/>\n<text text-anchor=\"middle\" x=\"505\" y=\"-69.8\" font-family=\"Times,serif\" font-size=\"14.00\">grad 0.5000</text>\n</g>\n<!-- 140235182887792&#45;&gt;140235182887456+ -->\n<g id=\"edge7\" class=\"edge\">\n<title>140235182887792&#45;&gt;140235182887456+</title>\n<path fill=\"none\" stroke=\"black\" d=\"M546.27,-90.75C555.64,-92.23 564.6,-93.65 572.65,-94.92\"/>\n<polygon fill=\"black\" stroke=\"black\" points=\"572.23,-98.4 582.65,-96.5 573.32,-91.48 572.23,-98.4\"/>\n</g>\n<!-- 140235182887792*&#45;&gt;140235182887792 -->\n<g id=\"edge5\" class=\"edge\">\n<title>140235182887792*&#45;&gt;140235182887792</title>\n<path fill=\"none\" stroke=\"black\" d=\"M290.34,-73.5C297.77,-73.5 306.37,-73.5 315.6,-73.5\"/>\n<polygon fill=\"black\" stroke=\"black\" points=\"315.84,-77 325.84,-73.5 315.84,-70 315.84,-77\"/>\n</g>\n</g>\n</svg>\n"
          },
          "metadata": {},
          "execution_count": 32
        }
      ]
    },
    {
      "cell_type": "code",
      "source": [
        "# draw_dot(o)"
      ],
      "metadata": {
        "id": "moiMc8dPAdGQ"
      },
      "execution_count": 33,
      "outputs": []
    },
    {
      "cell_type": "markdown",
      "source": [
        "# Topologically Sorting Graph for Backprop\n"
      ],
      "metadata": {
        "id": "zysRHrmyijea"
      }
    },
    {
      "cell_type": "code",
      "source": [
        "# Function to topologically sort a graph of values\n",
        "def topological_sort(val):\n",
        "  topo = []\n",
        "  visited = set()\n",
        "  def build_topo(v):\n",
        "    if v not in visited:\n",
        "      visited.add(v)\n",
        "      for child in v._prev:\n",
        "        build_topo(child)\n",
        "      topo.append(v)\n",
        "  build_topo(val)\n",
        "  return topo"
      ],
      "metadata": {
        "id": "N2akEhgHAaIn"
      },
      "execution_count": 34,
      "outputs": []
    },
    {
      "cell_type": "code",
      "source": [
        "o = build_graph() # reset the graph\n",
        "o.grad = 1.0 # default gradient for output"
      ],
      "metadata": {
        "id": "F5ptU4lFku7L"
      },
      "execution_count": 35,
      "outputs": []
    },
    {
      "cell_type": "code",
      "source": [
        "topological_sort(o)"
      ],
      "metadata": {
        "colab": {
          "base_uri": "https://localhost:8080/"
        },
        "id": "faEVCZngjcHS",
        "outputId": "c6f4a2b8-3cd6-4974-f3b2-22d273bceead"
      },
      "execution_count": 36,
      "outputs": [
        {
          "output_type": "execute_result",
          "data": {
            "text/plain": [
              "[Value(data=6.881373587019543),\n",
              " Value(data=-3.0),\n",
              " Value(data=2.0),\n",
              " Value(data=-6.0),\n",
              " Value(data=1.0),\n",
              " Value(data=0.0),\n",
              " Value(data=0.0),\n",
              " Value(data=-6.0),\n",
              " Value(data=0.8813735870195432),\n",
              " Value(data=0.7071067811865476)]"
            ]
          },
          "metadata": {},
          "execution_count": 36
        }
      ]
    },
    {
      "cell_type": "code",
      "source": [
        "draw_dot(o)"
      ],
      "metadata": {
        "colab": {
          "base_uri": "https://localhost:8080/",
          "height": 321
        },
        "id": "_wX5Joytjd34",
        "outputId": "ea380095-f5c0-4431-9273-fe1bf312512b"
      },
      "execution_count": 37,
      "outputs": [
        {
          "output_type": "execute_result",
          "data": {
            "text/plain": [
              "<graphviz.dot.Digraph at 0x7f8b0c16f3d0>"
            ],
            "image/svg+xml": "<?xml version=\"1.0\" encoding=\"UTF-8\" standalone=\"no\"?>\n<!DOCTYPE svg PUBLIC \"-//W3C//DTD SVG 1.1//EN\"\n \"http://www.w3.org/Graphics/SVG/1.1/DTD/svg11.dtd\">\n<!-- Generated by graphviz version 2.43.0 (0)\n -->\n<!-- Title: %3 Pages: 1 -->\n<svg width=\"1575pt\" height=\"210pt\"\n viewBox=\"0.00 0.00 1575.00 210.00\" xmlns=\"http://www.w3.org/2000/svg\" xmlns:xlink=\"http://www.w3.org/1999/xlink\">\n<g id=\"graph0\" class=\"graph\" transform=\"scale(1 1) rotate(0) translate(4 206)\">\n<title>%3</title>\n<polygon fill=\"white\" stroke=\"transparent\" points=\"-4,4 -4,-206 1571,-206 1571,4 -4,4\"/>\n<!-- 140235180012544 -->\n<g id=\"node1\" class=\"node\">\n<title>140235180012544</title>\n<polygon fill=\"none\" stroke=\"black\" points=\"2.5,-165.5 2.5,-201.5 197.5,-201.5 197.5,-165.5 2.5,-165.5\"/>\n<text text-anchor=\"middle\" x=\"19\" y=\"-179.8\" font-family=\"Times,serif\" font-size=\"14.00\">w2</text>\n<polyline fill=\"none\" stroke=\"black\" points=\"35.5,-165.5 35.5,-201.5 \"/>\n<text text-anchor=\"middle\" x=\"75.5\" y=\"-179.8\" font-family=\"Times,serif\" font-size=\"14.00\">data 1.0000</text>\n<polyline fill=\"none\" stroke=\"black\" points=\"115.5,-165.5 115.5,-201.5 \"/>\n<text text-anchor=\"middle\" x=\"156.5\" y=\"-179.8\" font-family=\"Times,serif\" font-size=\"14.00\">grad 0.0000</text>\n</g>\n<!-- 140235180012112* -->\n<g id=\"node7\" class=\"node\">\n<title>140235180012112*</title>\n<ellipse fill=\"none\" stroke=\"black\" cx=\"263\" cy=\"-128.5\" rx=\"27\" ry=\"18\"/>\n<text text-anchor=\"middle\" x=\"263\" y=\"-124.8\" font-family=\"Times,serif\" font-size=\"14.00\">*</text>\n</g>\n<!-- 140235180012544&#45;&gt;140235180012112* -->\n<g id=\"edge13\" class=\"edge\">\n<title>140235180012544&#45;&gt;140235180012112*</title>\n<path fill=\"none\" stroke=\"black\" d=\"M172.53,-165.44C181.84,-162.67 191.2,-159.67 200,-156.5 210.53,-152.71 221.75,-147.9 231.72,-143.33\"/>\n<polygon fill=\"black\" stroke=\"black\" points=\"233.25,-146.48 240.82,-139.07 230.28,-140.14 233.25,-146.48\"/>\n</g>\n<!-- 140235180012592 -->\n<g id=\"node2\" class=\"node\">\n<title>140235180012592</title>\n<polygon fill=\"none\" stroke=\"black\" points=\"326,-55.5 326,-91.5 546,-91.5 546,-55.5 326,-55.5\"/>\n<text text-anchor=\"middle\" x=\"352.5\" y=\"-69.8\" font-family=\"Times,serif\" font-size=\"14.00\">x1*w1</text>\n<polyline fill=\"none\" stroke=\"black\" points=\"379,-55.5 379,-91.5 \"/>\n<text text-anchor=\"middle\" x=\"421.5\" y=\"-69.8\" font-family=\"Times,serif\" font-size=\"14.00\">data &#45;6.0000</text>\n<polyline fill=\"none\" stroke=\"black\" points=\"464,-55.5 464,-91.5 \"/>\n<text text-anchor=\"middle\" x=\"505\" y=\"-69.8\" font-family=\"Times,serif\" font-size=\"14.00\">grad 0.0000</text>\n</g>\n<!-- 140235179863152+ -->\n<g id=\"node9\" class=\"node\">\n<title>140235179863152+</title>\n<ellipse fill=\"none\" stroke=\"black\" cx=\"609\" cy=\"-100.5\" rx=\"27\" ry=\"18\"/>\n<text text-anchor=\"middle\" x=\"609\" y=\"-96.8\" font-family=\"Times,serif\" font-size=\"14.00\">+</text>\n</g>\n<!-- 140235180012592&#45;&gt;140235179863152+ -->\n<g id=\"edge7\" class=\"edge\">\n<title>140235180012592&#45;&gt;140235179863152+</title>\n<path fill=\"none\" stroke=\"black\" d=\"M546.27,-90.75C555.64,-92.23 564.6,-93.65 572.65,-94.92\"/>\n<polygon fill=\"black\" stroke=\"black\" points=\"572.23,-98.4 582.65,-96.5 573.32,-91.48 572.23,-98.4\"/>\n</g>\n<!-- 140235180012592* -->\n<g id=\"node3\" class=\"node\">\n<title>140235180012592*</title>\n<ellipse fill=\"none\" stroke=\"black\" cx=\"263\" cy=\"-73.5\" rx=\"27\" ry=\"18\"/>\n<text text-anchor=\"middle\" x=\"263\" y=\"-69.8\" font-family=\"Times,serif\" font-size=\"14.00\">*</text>\n</g>\n<!-- 140235180012592*&#45;&gt;140235180012592 -->\n<g id=\"edge1\" class=\"edge\">\n<title>140235180012592*&#45;&gt;140235180012592</title>\n<path fill=\"none\" stroke=\"black\" d=\"M290.34,-73.5C297.77,-73.5 306.37,-73.5 315.6,-73.5\"/>\n<polygon fill=\"black\" stroke=\"black\" points=\"315.84,-77 325.84,-73.5 315.84,-70 315.84,-77\"/>\n</g>\n<!-- 140235179862576 -->\n<g id=\"node4\" class=\"node\">\n<title>140235179862576</title>\n<polygon fill=\"none\" stroke=\"black\" points=\"1382,-54.5 1382,-90.5 1567,-90.5 1567,-54.5 1382,-54.5\"/>\n<text text-anchor=\"middle\" x=\"1393.5\" y=\"-68.8\" font-family=\"Times,serif\" font-size=\"14.00\">o</text>\n<polyline fill=\"none\" stroke=\"black\" points=\"1405,-54.5 1405,-90.5 \"/>\n<text text-anchor=\"middle\" x=\"1445\" y=\"-68.8\" font-family=\"Times,serif\" font-size=\"14.00\">data 0.7071</text>\n<polyline fill=\"none\" stroke=\"black\" points=\"1485,-54.5 1485,-90.5 \"/>\n<text text-anchor=\"middle\" x=\"1526\" y=\"-68.8\" font-family=\"Times,serif\" font-size=\"14.00\">grad 1.0000</text>\n</g>\n<!-- 140235179862576tanh -->\n<g id=\"node5\" class=\"node\">\n<title>140235179862576tanh</title>\n<ellipse fill=\"none\" stroke=\"black\" cx=\"1319\" cy=\"-72.5\" rx=\"27\" ry=\"18\"/>\n<text text-anchor=\"middle\" x=\"1319\" y=\"-68.8\" font-family=\"Times,serif\" font-size=\"14.00\">tanh</text>\n</g>\n<!-- 140235179862576tanh&#45;&gt;140235179862576 -->\n<g id=\"edge2\" class=\"edge\">\n<title>140235179862576tanh&#45;&gt;140235179862576</title>\n<path fill=\"none\" stroke=\"black\" d=\"M1346.04,-72.5C1353.58,-72.5 1362.3,-72.5 1371.57,-72.5\"/>\n<polygon fill=\"black\" stroke=\"black\" points=\"1371.81,-76 1381.81,-72.5 1371.81,-69 1371.81,-76\"/>\n</g>\n<!-- 140235180012112 -->\n<g id=\"node6\" class=\"node\">\n<title>140235180012112</title>\n<polygon fill=\"none\" stroke=\"black\" points=\"328.5,-110.5 328.5,-146.5 543.5,-146.5 543.5,-110.5 328.5,-110.5\"/>\n<text text-anchor=\"middle\" x=\"355\" y=\"-124.8\" font-family=\"Times,serif\" font-size=\"14.00\">x2*w2</text>\n<polyline fill=\"none\" stroke=\"black\" points=\"381.5,-110.5 381.5,-146.5 \"/>\n<text text-anchor=\"middle\" x=\"421.5\" y=\"-124.8\" font-family=\"Times,serif\" font-size=\"14.00\">data 0.0000</text>\n<polyline fill=\"none\" stroke=\"black\" points=\"461.5,-110.5 461.5,-146.5 \"/>\n<text text-anchor=\"middle\" x=\"502.5\" y=\"-124.8\" font-family=\"Times,serif\" font-size=\"14.00\">grad 0.0000</text>\n</g>\n<!-- 140235180012112&#45;&gt;140235179863152+ -->\n<g id=\"edge8\" class=\"edge\">\n<title>140235180012112&#45;&gt;140235179863152+</title>\n<path fill=\"none\" stroke=\"black\" d=\"M543.84,-111.01C554.01,-109.34 563.76,-107.74 572.44,-106.32\"/>\n<polygon fill=\"black\" stroke=\"black\" points=\"573.17,-109.75 582.47,-104.68 572.04,-102.84 573.17,-109.75\"/>\n</g>\n<!-- 140235180012112*&#45;&gt;140235180012112 -->\n<g id=\"edge3\" class=\"edge\">\n<title>140235180012112*&#45;&gt;140235180012112</title>\n<path fill=\"none\" stroke=\"black\" d=\"M290.34,-128.5C298.51,-128.5 308.08,-128.5 318.36,-128.5\"/>\n<polygon fill=\"black\" stroke=\"black\" points=\"318.39,-132 328.39,-128.5 318.39,-125 318.39,-132\"/>\n</g>\n<!-- 140235179863152 -->\n<g id=\"node8\" class=\"node\">\n<title>140235179863152</title>\n<polygon fill=\"none\" stroke=\"black\" points=\"672,-82.5 672,-118.5 945,-118.5 945,-82.5 672,-82.5\"/>\n<text text-anchor=\"middle\" x=\"725\" y=\"-96.8\" font-family=\"Times,serif\" font-size=\"14.00\">x1*w1 + x2*w2</text>\n<polyline fill=\"none\" stroke=\"black\" points=\"778,-82.5 778,-118.5 \"/>\n<text text-anchor=\"middle\" x=\"820.5\" y=\"-96.8\" font-family=\"Times,serif\" font-size=\"14.00\">data &#45;6.0000</text>\n<polyline fill=\"none\" stroke=\"black\" points=\"863,-82.5 863,-118.5 \"/>\n<text text-anchor=\"middle\" x=\"904\" y=\"-96.8\" font-family=\"Times,serif\" font-size=\"14.00\">grad 0.0000</text>\n</g>\n<!-- 140235179860080+ -->\n<g id=\"node11\" class=\"node\">\n<title>140235179860080+</title>\n<ellipse fill=\"none\" stroke=\"black\" cx=\"1008\" cy=\"-72.5\" rx=\"27\" ry=\"18\"/>\n<text text-anchor=\"middle\" x=\"1008\" y=\"-68.8\" font-family=\"Times,serif\" font-size=\"14.00\">+</text>\n</g>\n<!-- 140235179863152&#45;&gt;140235179860080+ -->\n<g id=\"edge14\" class=\"edge\">\n<title>140235179863152&#45;&gt;140235179860080+</title>\n<path fill=\"none\" stroke=\"black\" d=\"M936.53,-82.49C949.09,-80.71 960.99,-79.02 971.3,-77.56\"/>\n<polygon fill=\"black\" stroke=\"black\" points=\"972.03,-80.99 981.44,-76.12 971.05,-74.06 972.03,-80.99\"/>\n</g>\n<!-- 140235179863152+&#45;&gt;140235179863152 -->\n<g id=\"edge4\" class=\"edge\">\n<title>140235179863152+&#45;&gt;140235179863152</title>\n<path fill=\"none\" stroke=\"black\" d=\"M636.23,-100.5C643.7,-100.5 652.41,-100.5 661.87,-100.5\"/>\n<polygon fill=\"black\" stroke=\"black\" points=\"661.98,-104 671.98,-100.5 661.98,-97 661.98,-104\"/>\n</g>\n<!-- 140235179860080 -->\n<g id=\"node10\" class=\"node\">\n<title>140235179860080</title>\n<polygon fill=\"none\" stroke=\"black\" points=\"1071,-54.5 1071,-90.5 1256,-90.5 1256,-54.5 1071,-54.5\"/>\n<text text-anchor=\"middle\" x=\"1082.5\" y=\"-68.8\" font-family=\"Times,serif\" font-size=\"14.00\">n</text>\n<polyline fill=\"none\" stroke=\"black\" points=\"1094,-54.5 1094,-90.5 \"/>\n<text text-anchor=\"middle\" x=\"1134\" y=\"-68.8\" font-family=\"Times,serif\" font-size=\"14.00\">data 0.8814</text>\n<polyline fill=\"none\" stroke=\"black\" points=\"1174,-54.5 1174,-90.5 \"/>\n<text text-anchor=\"middle\" x=\"1215\" y=\"-68.8\" font-family=\"Times,serif\" font-size=\"14.00\">grad 0.0000</text>\n</g>\n<!-- 140235179860080&#45;&gt;140235179862576tanh -->\n<g id=\"edge10\" class=\"edge\">\n<title>140235179860080&#45;&gt;140235179862576tanh</title>\n<path fill=\"none\" stroke=\"black\" d=\"M1256.01,-72.5C1265.01,-72.5 1273.74,-72.5 1281.66,-72.5\"/>\n<polygon fill=\"black\" stroke=\"black\" points=\"1281.91,-76 1291.91,-72.5 1281.91,-69 1281.91,-76\"/>\n</g>\n<!-- 140235179860080+&#45;&gt;140235179860080 -->\n<g id=\"edge5\" class=\"edge\">\n<title>140235179860080+&#45;&gt;140235179860080</title>\n<path fill=\"none\" stroke=\"black\" d=\"M1035.04,-72.5C1042.58,-72.5 1051.3,-72.5 1060.57,-72.5\"/>\n<polygon fill=\"black\" stroke=\"black\" points=\"1060.81,-76 1070.81,-72.5 1060.81,-69 1060.81,-76\"/>\n</g>\n<!-- 140235180013216 -->\n<g id=\"node12\" class=\"node\">\n<title>140235180013216</title>\n<polygon fill=\"none\" stroke=\"black\" points=\"4,-55.5 4,-91.5 196,-91.5 196,-55.5 4,-55.5\"/>\n<text text-anchor=\"middle\" x=\"19\" y=\"-69.8\" font-family=\"Times,serif\" font-size=\"14.00\">x1</text>\n<polyline fill=\"none\" stroke=\"black\" points=\"34,-55.5 34,-91.5 \"/>\n<text text-anchor=\"middle\" x=\"74\" y=\"-69.8\" font-family=\"Times,serif\" font-size=\"14.00\">data 2.0000</text>\n<polyline fill=\"none\" stroke=\"black\" points=\"114,-55.5 114,-91.5 \"/>\n<text text-anchor=\"middle\" x=\"155\" y=\"-69.8\" font-family=\"Times,serif\" font-size=\"14.00\">grad 0.0000</text>\n</g>\n<!-- 140235180013216&#45;&gt;140235180012592* -->\n<g id=\"edge11\" class=\"edge\">\n<title>140235180013216&#45;&gt;140235180012592*</title>\n<path fill=\"none\" stroke=\"black\" d=\"M196.05,-73.5C206.52,-73.5 216.65,-73.5 225.71,-73.5\"/>\n<polygon fill=\"black\" stroke=\"black\" points=\"225.79,-77 235.79,-73.5 225.79,-70 225.79,-77\"/>\n</g>\n<!-- 140235180012880 -->\n<g id=\"node13\" class=\"node\">\n<title>140235180012880</title>\n<polygon fill=\"none\" stroke=\"black\" points=\"4,-110.5 4,-146.5 196,-146.5 196,-110.5 4,-110.5\"/>\n<text text-anchor=\"middle\" x=\"19\" y=\"-124.8\" font-family=\"Times,serif\" font-size=\"14.00\">x2</text>\n<polyline fill=\"none\" stroke=\"black\" points=\"34,-110.5 34,-146.5 \"/>\n<text text-anchor=\"middle\" x=\"74\" y=\"-124.8\" font-family=\"Times,serif\" font-size=\"14.00\">data 0.0000</text>\n<polyline fill=\"none\" stroke=\"black\" points=\"114,-110.5 114,-146.5 \"/>\n<text text-anchor=\"middle\" x=\"155\" y=\"-124.8\" font-family=\"Times,serif\" font-size=\"14.00\">grad 0.0000</text>\n</g>\n<!-- 140235180012880&#45;&gt;140235180012112* -->\n<g id=\"edge12\" class=\"edge\">\n<title>140235180012880&#45;&gt;140235180012112*</title>\n<path fill=\"none\" stroke=\"black\" d=\"M196.05,-128.5C206.52,-128.5 216.65,-128.5 225.71,-128.5\"/>\n<polygon fill=\"black\" stroke=\"black\" points=\"225.79,-132 235.79,-128.5 225.79,-125 225.79,-132\"/>\n</g>\n<!-- 140235180013408 -->\n<g id=\"node14\" class=\"node\">\n<title>140235180013408</title>\n<polygon fill=\"none\" stroke=\"black\" points=\"716,-27.5 716,-63.5 901,-63.5 901,-27.5 716,-27.5\"/>\n<text text-anchor=\"middle\" x=\"727.5\" y=\"-41.8\" font-family=\"Times,serif\" font-size=\"14.00\">b</text>\n<polyline fill=\"none\" stroke=\"black\" points=\"739,-27.5 739,-63.5 \"/>\n<text text-anchor=\"middle\" x=\"779\" y=\"-41.8\" font-family=\"Times,serif\" font-size=\"14.00\">data 6.8814</text>\n<polyline fill=\"none\" stroke=\"black\" points=\"819,-27.5 819,-63.5 \"/>\n<text text-anchor=\"middle\" x=\"860\" y=\"-41.8\" font-family=\"Times,serif\" font-size=\"14.00\">grad 0.0000</text>\n</g>\n<!-- 140235180013408&#45;&gt;140235179860080+ -->\n<g id=\"edge6\" class=\"edge\">\n<title>140235180013408&#45;&gt;140235179860080+</title>\n<path fill=\"none\" stroke=\"black\" d=\"M901.02,-58.01C926,-61.43 951.59,-64.93 971.37,-67.63\"/>\n<polygon fill=\"black\" stroke=\"black\" points=\"971.05,-71.12 981.43,-69.01 972,-64.18 971.05,-71.12\"/>\n</g>\n<!-- 140235180013456 -->\n<g id=\"node15\" class=\"node\">\n<title>140235180013456</title>\n<polygon fill=\"none\" stroke=\"black\" points=\"0,-0.5 0,-36.5 200,-36.5 200,-0.5 0,-0.5\"/>\n<text text-anchor=\"middle\" x=\"16.5\" y=\"-14.8\" font-family=\"Times,serif\" font-size=\"14.00\">w1</text>\n<polyline fill=\"none\" stroke=\"black\" points=\"33,-0.5 33,-36.5 \"/>\n<text text-anchor=\"middle\" x=\"75.5\" y=\"-14.8\" font-family=\"Times,serif\" font-size=\"14.00\">data &#45;3.0000</text>\n<polyline fill=\"none\" stroke=\"black\" points=\"118,-0.5 118,-36.5 \"/>\n<text text-anchor=\"middle\" x=\"159\" y=\"-14.8\" font-family=\"Times,serif\" font-size=\"14.00\">grad 0.0000</text>\n</g>\n<!-- 140235180013456&#45;&gt;140235180012592* -->\n<g id=\"edge9\" class=\"edge\">\n<title>140235180013456&#45;&gt;140235180012592*</title>\n<path fill=\"none\" stroke=\"black\" d=\"M169.28,-36.5C179.65,-39.61 190.16,-42.98 200,-46.5 210.28,-50.17 221.28,-54.74 231.11,-59.07\"/>\n<polygon fill=\"black\" stroke=\"black\" points=\"229.93,-62.37 240.48,-63.27 232.79,-55.99 229.93,-62.37\"/>\n</g>\n</g>\n</svg>\n"
          },
          "metadata": {},
          "execution_count": 37
        }
      ]
    },
    {
      "cell_type": "markdown",
      "source": [
        "Run backprop in reversed topological order"
      ],
      "metadata": {
        "id": "OhZgNIx1lCIw"
      }
    },
    {
      "cell_type": "code",
      "source": [
        "for val in reversed(topological_sort(o)):\n",
        "  val._backward()"
      ],
      "metadata": {
        "id": "SC5LEaEJk9DQ"
      },
      "execution_count": 38,
      "outputs": []
    },
    {
      "cell_type": "code",
      "source": [
        "draw_dot(o)"
      ],
      "metadata": {
        "colab": {
          "base_uri": "https://localhost:8080/",
          "height": 321
        },
        "id": "0zTZF3VxlROw",
        "outputId": "6f87f22b-ea55-4364-ea4c-130175309a24"
      },
      "execution_count": 39,
      "outputs": [
        {
          "output_type": "execute_result",
          "data": {
            "text/plain": [
              "<graphviz.dot.Digraph at 0x7f8b0c174d60>"
            ],
            "image/svg+xml": "<?xml version=\"1.0\" encoding=\"UTF-8\" standalone=\"no\"?>\n<!DOCTYPE svg PUBLIC \"-//W3C//DTD SVG 1.1//EN\"\n \"http://www.w3.org/Graphics/SVG/1.1/DTD/svg11.dtd\">\n<!-- Generated by graphviz version 2.43.0 (0)\n -->\n<!-- Title: %3 Pages: 1 -->\n<svg width=\"1575pt\" height=\"210pt\"\n viewBox=\"0.00 0.00 1575.00 210.00\" xmlns=\"http://www.w3.org/2000/svg\" xmlns:xlink=\"http://www.w3.org/1999/xlink\">\n<g id=\"graph0\" class=\"graph\" transform=\"scale(1 1) rotate(0) translate(4 206)\">\n<title>%3</title>\n<polygon fill=\"white\" stroke=\"transparent\" points=\"-4,4 -4,-206 1571,-206 1571,4 -4,4\"/>\n<!-- 140235180012544 -->\n<g id=\"node1\" class=\"node\">\n<title>140235180012544</title>\n<polygon fill=\"none\" stroke=\"black\" points=\"2.5,-165.5 2.5,-201.5 197.5,-201.5 197.5,-165.5 2.5,-165.5\"/>\n<text text-anchor=\"middle\" x=\"19\" y=\"-179.8\" font-family=\"Times,serif\" font-size=\"14.00\">w2</text>\n<polyline fill=\"none\" stroke=\"black\" points=\"35.5,-165.5 35.5,-201.5 \"/>\n<text text-anchor=\"middle\" x=\"75.5\" y=\"-179.8\" font-family=\"Times,serif\" font-size=\"14.00\">data 1.0000</text>\n<polyline fill=\"none\" stroke=\"black\" points=\"115.5,-165.5 115.5,-201.5 \"/>\n<text text-anchor=\"middle\" x=\"156.5\" y=\"-179.8\" font-family=\"Times,serif\" font-size=\"14.00\">grad 0.0000</text>\n</g>\n<!-- 140235180012112* -->\n<g id=\"node7\" class=\"node\">\n<title>140235180012112*</title>\n<ellipse fill=\"none\" stroke=\"black\" cx=\"263\" cy=\"-128.5\" rx=\"27\" ry=\"18\"/>\n<text text-anchor=\"middle\" x=\"263\" y=\"-124.8\" font-family=\"Times,serif\" font-size=\"14.00\">*</text>\n</g>\n<!-- 140235180012544&#45;&gt;140235180012112* -->\n<g id=\"edge13\" class=\"edge\">\n<title>140235180012544&#45;&gt;140235180012112*</title>\n<path fill=\"none\" stroke=\"black\" d=\"M172.53,-165.44C181.84,-162.67 191.2,-159.67 200,-156.5 210.53,-152.71 221.75,-147.9 231.72,-143.33\"/>\n<polygon fill=\"black\" stroke=\"black\" points=\"233.25,-146.48 240.82,-139.07 230.28,-140.14 233.25,-146.48\"/>\n</g>\n<!-- 140235180012592 -->\n<g id=\"node2\" class=\"node\">\n<title>140235180012592</title>\n<polygon fill=\"none\" stroke=\"black\" points=\"326,-55.5 326,-91.5 546,-91.5 546,-55.5 326,-55.5\"/>\n<text text-anchor=\"middle\" x=\"352.5\" y=\"-69.8\" font-family=\"Times,serif\" font-size=\"14.00\">x1*w1</text>\n<polyline fill=\"none\" stroke=\"black\" points=\"379,-55.5 379,-91.5 \"/>\n<text text-anchor=\"middle\" x=\"421.5\" y=\"-69.8\" font-family=\"Times,serif\" font-size=\"14.00\">data &#45;6.0000</text>\n<polyline fill=\"none\" stroke=\"black\" points=\"464,-55.5 464,-91.5 \"/>\n<text text-anchor=\"middle\" x=\"505\" y=\"-69.8\" font-family=\"Times,serif\" font-size=\"14.00\">grad 0.5000</text>\n</g>\n<!-- 140235179863152+ -->\n<g id=\"node9\" class=\"node\">\n<title>140235179863152+</title>\n<ellipse fill=\"none\" stroke=\"black\" cx=\"609\" cy=\"-100.5\" rx=\"27\" ry=\"18\"/>\n<text text-anchor=\"middle\" x=\"609\" y=\"-96.8\" font-family=\"Times,serif\" font-size=\"14.00\">+</text>\n</g>\n<!-- 140235180012592&#45;&gt;140235179863152+ -->\n<g id=\"edge7\" class=\"edge\">\n<title>140235180012592&#45;&gt;140235179863152+</title>\n<path fill=\"none\" stroke=\"black\" d=\"M546.27,-90.75C555.64,-92.23 564.6,-93.65 572.65,-94.92\"/>\n<polygon fill=\"black\" stroke=\"black\" points=\"572.23,-98.4 582.65,-96.5 573.32,-91.48 572.23,-98.4\"/>\n</g>\n<!-- 140235180012592* -->\n<g id=\"node3\" class=\"node\">\n<title>140235180012592*</title>\n<ellipse fill=\"none\" stroke=\"black\" cx=\"263\" cy=\"-73.5\" rx=\"27\" ry=\"18\"/>\n<text text-anchor=\"middle\" x=\"263\" y=\"-69.8\" font-family=\"Times,serif\" font-size=\"14.00\">*</text>\n</g>\n<!-- 140235180012592*&#45;&gt;140235180012592 -->\n<g id=\"edge1\" class=\"edge\">\n<title>140235180012592*&#45;&gt;140235180012592</title>\n<path fill=\"none\" stroke=\"black\" d=\"M290.34,-73.5C297.77,-73.5 306.37,-73.5 315.6,-73.5\"/>\n<polygon fill=\"black\" stroke=\"black\" points=\"315.84,-77 325.84,-73.5 315.84,-70 315.84,-77\"/>\n</g>\n<!-- 140235179862576 -->\n<g id=\"node4\" class=\"node\">\n<title>140235179862576</title>\n<polygon fill=\"none\" stroke=\"black\" points=\"1382,-54.5 1382,-90.5 1567,-90.5 1567,-54.5 1382,-54.5\"/>\n<text text-anchor=\"middle\" x=\"1393.5\" y=\"-68.8\" font-family=\"Times,serif\" font-size=\"14.00\">o</text>\n<polyline fill=\"none\" stroke=\"black\" points=\"1405,-54.5 1405,-90.5 \"/>\n<text text-anchor=\"middle\" x=\"1445\" y=\"-68.8\" font-family=\"Times,serif\" font-size=\"14.00\">data 0.7071</text>\n<polyline fill=\"none\" stroke=\"black\" points=\"1485,-54.5 1485,-90.5 \"/>\n<text text-anchor=\"middle\" x=\"1526\" y=\"-68.8\" font-family=\"Times,serif\" font-size=\"14.00\">grad 1.0000</text>\n</g>\n<!-- 140235179862576tanh -->\n<g id=\"node5\" class=\"node\">\n<title>140235179862576tanh</title>\n<ellipse fill=\"none\" stroke=\"black\" cx=\"1319\" cy=\"-72.5\" rx=\"27\" ry=\"18\"/>\n<text text-anchor=\"middle\" x=\"1319\" y=\"-68.8\" font-family=\"Times,serif\" font-size=\"14.00\">tanh</text>\n</g>\n<!-- 140235179862576tanh&#45;&gt;140235179862576 -->\n<g id=\"edge2\" class=\"edge\">\n<title>140235179862576tanh&#45;&gt;140235179862576</title>\n<path fill=\"none\" stroke=\"black\" d=\"M1346.04,-72.5C1353.58,-72.5 1362.3,-72.5 1371.57,-72.5\"/>\n<polygon fill=\"black\" stroke=\"black\" points=\"1371.81,-76 1381.81,-72.5 1371.81,-69 1371.81,-76\"/>\n</g>\n<!-- 140235180012112 -->\n<g id=\"node6\" class=\"node\">\n<title>140235180012112</title>\n<polygon fill=\"none\" stroke=\"black\" points=\"328.5,-110.5 328.5,-146.5 543.5,-146.5 543.5,-110.5 328.5,-110.5\"/>\n<text text-anchor=\"middle\" x=\"355\" y=\"-124.8\" font-family=\"Times,serif\" font-size=\"14.00\">x2*w2</text>\n<polyline fill=\"none\" stroke=\"black\" points=\"381.5,-110.5 381.5,-146.5 \"/>\n<text text-anchor=\"middle\" x=\"421.5\" y=\"-124.8\" font-family=\"Times,serif\" font-size=\"14.00\">data 0.0000</text>\n<polyline fill=\"none\" stroke=\"black\" points=\"461.5,-110.5 461.5,-146.5 \"/>\n<text text-anchor=\"middle\" x=\"502.5\" y=\"-124.8\" font-family=\"Times,serif\" font-size=\"14.00\">grad 0.5000</text>\n</g>\n<!-- 140235180012112&#45;&gt;140235179863152+ -->\n<g id=\"edge8\" class=\"edge\">\n<title>140235180012112&#45;&gt;140235179863152+</title>\n<path fill=\"none\" stroke=\"black\" d=\"M543.84,-111.01C554.01,-109.34 563.76,-107.74 572.44,-106.32\"/>\n<polygon fill=\"black\" stroke=\"black\" points=\"573.17,-109.75 582.47,-104.68 572.04,-102.84 573.17,-109.75\"/>\n</g>\n<!-- 140235180012112*&#45;&gt;140235180012112 -->\n<g id=\"edge3\" class=\"edge\">\n<title>140235180012112*&#45;&gt;140235180012112</title>\n<path fill=\"none\" stroke=\"black\" d=\"M290.34,-128.5C298.51,-128.5 308.08,-128.5 318.36,-128.5\"/>\n<polygon fill=\"black\" stroke=\"black\" points=\"318.39,-132 328.39,-128.5 318.39,-125 318.39,-132\"/>\n</g>\n<!-- 140235179863152 -->\n<g id=\"node8\" class=\"node\">\n<title>140235179863152</title>\n<polygon fill=\"none\" stroke=\"black\" points=\"672,-82.5 672,-118.5 945,-118.5 945,-82.5 672,-82.5\"/>\n<text text-anchor=\"middle\" x=\"725\" y=\"-96.8\" font-family=\"Times,serif\" font-size=\"14.00\">x1*w1 + x2*w2</text>\n<polyline fill=\"none\" stroke=\"black\" points=\"778,-82.5 778,-118.5 \"/>\n<text text-anchor=\"middle\" x=\"820.5\" y=\"-96.8\" font-family=\"Times,serif\" font-size=\"14.00\">data &#45;6.0000</text>\n<polyline fill=\"none\" stroke=\"black\" points=\"863,-82.5 863,-118.5 \"/>\n<text text-anchor=\"middle\" x=\"904\" y=\"-96.8\" font-family=\"Times,serif\" font-size=\"14.00\">grad 0.5000</text>\n</g>\n<!-- 140235179860080+ -->\n<g id=\"node11\" class=\"node\">\n<title>140235179860080+</title>\n<ellipse fill=\"none\" stroke=\"black\" cx=\"1008\" cy=\"-72.5\" rx=\"27\" ry=\"18\"/>\n<text text-anchor=\"middle\" x=\"1008\" y=\"-68.8\" font-family=\"Times,serif\" font-size=\"14.00\">+</text>\n</g>\n<!-- 140235179863152&#45;&gt;140235179860080+ -->\n<g id=\"edge14\" class=\"edge\">\n<title>140235179863152&#45;&gt;140235179860080+</title>\n<path fill=\"none\" stroke=\"black\" d=\"M936.53,-82.49C949.09,-80.71 960.99,-79.02 971.3,-77.56\"/>\n<polygon fill=\"black\" stroke=\"black\" points=\"972.03,-80.99 981.44,-76.12 971.05,-74.06 972.03,-80.99\"/>\n</g>\n<!-- 140235179863152+&#45;&gt;140235179863152 -->\n<g id=\"edge4\" class=\"edge\">\n<title>140235179863152+&#45;&gt;140235179863152</title>\n<path fill=\"none\" stroke=\"black\" d=\"M636.23,-100.5C643.7,-100.5 652.41,-100.5 661.87,-100.5\"/>\n<polygon fill=\"black\" stroke=\"black\" points=\"661.98,-104 671.98,-100.5 661.98,-97 661.98,-104\"/>\n</g>\n<!-- 140235179860080 -->\n<g id=\"node10\" class=\"node\">\n<title>140235179860080</title>\n<polygon fill=\"none\" stroke=\"black\" points=\"1071,-54.5 1071,-90.5 1256,-90.5 1256,-54.5 1071,-54.5\"/>\n<text text-anchor=\"middle\" x=\"1082.5\" y=\"-68.8\" font-family=\"Times,serif\" font-size=\"14.00\">n</text>\n<polyline fill=\"none\" stroke=\"black\" points=\"1094,-54.5 1094,-90.5 \"/>\n<text text-anchor=\"middle\" x=\"1134\" y=\"-68.8\" font-family=\"Times,serif\" font-size=\"14.00\">data 0.8814</text>\n<polyline fill=\"none\" stroke=\"black\" points=\"1174,-54.5 1174,-90.5 \"/>\n<text text-anchor=\"middle\" x=\"1215\" y=\"-68.8\" font-family=\"Times,serif\" font-size=\"14.00\">grad 0.5000</text>\n</g>\n<!-- 140235179860080&#45;&gt;140235179862576tanh -->\n<g id=\"edge10\" class=\"edge\">\n<title>140235179860080&#45;&gt;140235179862576tanh</title>\n<path fill=\"none\" stroke=\"black\" d=\"M1256.01,-72.5C1265.01,-72.5 1273.74,-72.5 1281.66,-72.5\"/>\n<polygon fill=\"black\" stroke=\"black\" points=\"1281.91,-76 1291.91,-72.5 1281.91,-69 1281.91,-76\"/>\n</g>\n<!-- 140235179860080+&#45;&gt;140235179860080 -->\n<g id=\"edge5\" class=\"edge\">\n<title>140235179860080+&#45;&gt;140235179860080</title>\n<path fill=\"none\" stroke=\"black\" d=\"M1035.04,-72.5C1042.58,-72.5 1051.3,-72.5 1060.57,-72.5\"/>\n<polygon fill=\"black\" stroke=\"black\" points=\"1060.81,-76 1070.81,-72.5 1060.81,-69 1060.81,-76\"/>\n</g>\n<!-- 140235180013216 -->\n<g id=\"node12\" class=\"node\">\n<title>140235180013216</title>\n<polygon fill=\"none\" stroke=\"black\" points=\"2,-55.5 2,-91.5 198,-91.5 198,-55.5 2,-55.5\"/>\n<text text-anchor=\"middle\" x=\"17\" y=\"-69.8\" font-family=\"Times,serif\" font-size=\"14.00\">x1</text>\n<polyline fill=\"none\" stroke=\"black\" points=\"32,-55.5 32,-91.5 \"/>\n<text text-anchor=\"middle\" x=\"72\" y=\"-69.8\" font-family=\"Times,serif\" font-size=\"14.00\">data 2.0000</text>\n<polyline fill=\"none\" stroke=\"black\" points=\"112,-55.5 112,-91.5 \"/>\n<text text-anchor=\"middle\" x=\"155\" y=\"-69.8\" font-family=\"Times,serif\" font-size=\"14.00\">grad &#45;1.5000</text>\n</g>\n<!-- 140235180013216&#45;&gt;140235180012592* -->\n<g id=\"edge11\" class=\"edge\">\n<title>140235180013216&#45;&gt;140235180012592*</title>\n<path fill=\"none\" stroke=\"black\" d=\"M198.37,-73.5C208.05,-73.5 217.4,-73.5 225.8,-73.5\"/>\n<polygon fill=\"black\" stroke=\"black\" points=\"225.91,-77 235.91,-73.5 225.91,-70 225.91,-77\"/>\n</g>\n<!-- 140235180012880 -->\n<g id=\"node13\" class=\"node\">\n<title>140235180012880</title>\n<polygon fill=\"none\" stroke=\"black\" points=\"4,-110.5 4,-146.5 196,-146.5 196,-110.5 4,-110.5\"/>\n<text text-anchor=\"middle\" x=\"19\" y=\"-124.8\" font-family=\"Times,serif\" font-size=\"14.00\">x2</text>\n<polyline fill=\"none\" stroke=\"black\" points=\"34,-110.5 34,-146.5 \"/>\n<text text-anchor=\"middle\" x=\"74\" y=\"-124.8\" font-family=\"Times,serif\" font-size=\"14.00\">data 0.0000</text>\n<polyline fill=\"none\" stroke=\"black\" points=\"114,-110.5 114,-146.5 \"/>\n<text text-anchor=\"middle\" x=\"155\" y=\"-124.8\" font-family=\"Times,serif\" font-size=\"14.00\">grad 0.5000</text>\n</g>\n<!-- 140235180012880&#45;&gt;140235180012112* -->\n<g id=\"edge12\" class=\"edge\">\n<title>140235180012880&#45;&gt;140235180012112*</title>\n<path fill=\"none\" stroke=\"black\" d=\"M196.05,-128.5C206.52,-128.5 216.65,-128.5 225.71,-128.5\"/>\n<polygon fill=\"black\" stroke=\"black\" points=\"225.79,-132 235.79,-128.5 225.79,-125 225.79,-132\"/>\n</g>\n<!-- 140235180013408 -->\n<g id=\"node14\" class=\"node\">\n<title>140235180013408</title>\n<polygon fill=\"none\" stroke=\"black\" points=\"716,-27.5 716,-63.5 901,-63.5 901,-27.5 716,-27.5\"/>\n<text text-anchor=\"middle\" x=\"727.5\" y=\"-41.8\" font-family=\"Times,serif\" font-size=\"14.00\">b</text>\n<polyline fill=\"none\" stroke=\"black\" points=\"739,-27.5 739,-63.5 \"/>\n<text text-anchor=\"middle\" x=\"779\" y=\"-41.8\" font-family=\"Times,serif\" font-size=\"14.00\">data 6.8814</text>\n<polyline fill=\"none\" stroke=\"black\" points=\"819,-27.5 819,-63.5 \"/>\n<text text-anchor=\"middle\" x=\"860\" y=\"-41.8\" font-family=\"Times,serif\" font-size=\"14.00\">grad 0.5000</text>\n</g>\n<!-- 140235180013408&#45;&gt;140235179860080+ -->\n<g id=\"edge6\" class=\"edge\">\n<title>140235180013408&#45;&gt;140235179860080+</title>\n<path fill=\"none\" stroke=\"black\" d=\"M901.02,-58.01C926,-61.43 951.59,-64.93 971.37,-67.63\"/>\n<polygon fill=\"black\" stroke=\"black\" points=\"971.05,-71.12 981.43,-69.01 972,-64.18 971.05,-71.12\"/>\n</g>\n<!-- 140235180013456 -->\n<g id=\"node15\" class=\"node\">\n<title>140235180013456</title>\n<polygon fill=\"none\" stroke=\"black\" points=\"0,-0.5 0,-36.5 200,-36.5 200,-0.5 0,-0.5\"/>\n<text text-anchor=\"middle\" x=\"16.5\" y=\"-14.8\" font-family=\"Times,serif\" font-size=\"14.00\">w1</text>\n<polyline fill=\"none\" stroke=\"black\" points=\"33,-0.5 33,-36.5 \"/>\n<text text-anchor=\"middle\" x=\"75.5\" y=\"-14.8\" font-family=\"Times,serif\" font-size=\"14.00\">data &#45;3.0000</text>\n<polyline fill=\"none\" stroke=\"black\" points=\"118,-0.5 118,-36.5 \"/>\n<text text-anchor=\"middle\" x=\"159\" y=\"-14.8\" font-family=\"Times,serif\" font-size=\"14.00\">grad 1.0000</text>\n</g>\n<!-- 140235180013456&#45;&gt;140235180012592* -->\n<g id=\"edge9\" class=\"edge\">\n<title>140235180013456&#45;&gt;140235180012592*</title>\n<path fill=\"none\" stroke=\"black\" d=\"M169.28,-36.5C179.65,-39.61 190.16,-42.98 200,-46.5 210.28,-50.17 221.28,-54.74 231.11,-59.07\"/>\n<polygon fill=\"black\" stroke=\"black\" points=\"229.93,-62.37 240.48,-63.27 232.79,-55.99 229.93,-62.37\"/>\n</g>\n</g>\n</svg>\n"
          },
          "metadata": {},
          "execution_count": 39
        }
      ]
    },
    {
      "cell_type": "markdown",
      "source": [
        "# Using Backprop From The Value Class"
      ],
      "metadata": {
        "id": "tGMkt7UUOVsf"
      }
    },
    {
      "cell_type": "code",
      "source": [
        "o = build_graph() # reset the graph\n",
        "draw_dot(o)"
      ],
      "metadata": {
        "colab": {
          "base_uri": "https://localhost:8080/",
          "height": 321
        },
        "id": "VAr-sGuZlS-S",
        "outputId": "3050a9bd-4a50-4403-e464-5ff400e5b628"
      },
      "execution_count": 40,
      "outputs": [
        {
          "output_type": "execute_result",
          "data": {
            "text/plain": [
              "<graphviz.dot.Digraph at 0x7f8b0c174f40>"
            ],
            "image/svg+xml": "<?xml version=\"1.0\" encoding=\"UTF-8\" standalone=\"no\"?>\n<!DOCTYPE svg PUBLIC \"-//W3C//DTD SVG 1.1//EN\"\n \"http://www.w3.org/Graphics/SVG/1.1/DTD/svg11.dtd\">\n<!-- Generated by graphviz version 2.43.0 (0)\n -->\n<!-- Title: %3 Pages: 1 -->\n<svg width=\"1575pt\" height=\"210pt\"\n viewBox=\"0.00 0.00 1575.00 210.00\" xmlns=\"http://www.w3.org/2000/svg\" xmlns:xlink=\"http://www.w3.org/1999/xlink\">\n<g id=\"graph0\" class=\"graph\" transform=\"scale(1 1) rotate(0) translate(4 206)\">\n<title>%3</title>\n<polygon fill=\"white\" stroke=\"transparent\" points=\"-4,4 -4,-206 1571,-206 1571,4 -4,4\"/>\n<!-- 140235182714304 -->\n<g id=\"node1\" class=\"node\">\n<title>140235182714304</title>\n<polygon fill=\"none\" stroke=\"black\" points=\"1071,-54.5 1071,-90.5 1256,-90.5 1256,-54.5 1071,-54.5\"/>\n<text text-anchor=\"middle\" x=\"1082.5\" y=\"-68.8\" font-family=\"Times,serif\" font-size=\"14.00\">n</text>\n<polyline fill=\"none\" stroke=\"black\" points=\"1094,-54.5 1094,-90.5 \"/>\n<text text-anchor=\"middle\" x=\"1134\" y=\"-68.8\" font-family=\"Times,serif\" font-size=\"14.00\">data 0.8814</text>\n<polyline fill=\"none\" stroke=\"black\" points=\"1174,-54.5 1174,-90.5 \"/>\n<text text-anchor=\"middle\" x=\"1215\" y=\"-68.8\" font-family=\"Times,serif\" font-size=\"14.00\">grad 0.0000</text>\n</g>\n<!-- 140235182710944tanh -->\n<g id=\"node6\" class=\"node\">\n<title>140235182710944tanh</title>\n<ellipse fill=\"none\" stroke=\"black\" cx=\"1319\" cy=\"-72.5\" rx=\"27\" ry=\"18\"/>\n<text text-anchor=\"middle\" x=\"1319\" y=\"-68.8\" font-family=\"Times,serif\" font-size=\"14.00\">tanh</text>\n</g>\n<!-- 140235182714304&#45;&gt;140235182710944tanh -->\n<g id=\"edge7\" class=\"edge\">\n<title>140235182714304&#45;&gt;140235182710944tanh</title>\n<path fill=\"none\" stroke=\"black\" d=\"M1256.01,-72.5C1265.01,-72.5 1273.74,-72.5 1281.66,-72.5\"/>\n<polygon fill=\"black\" stroke=\"black\" points=\"1281.91,-76 1291.91,-72.5 1281.91,-69 1281.91,-76\"/>\n</g>\n<!-- 140235182714304+ -->\n<g id=\"node2\" class=\"node\">\n<title>140235182714304+</title>\n<ellipse fill=\"none\" stroke=\"black\" cx=\"1008\" cy=\"-72.5\" rx=\"27\" ry=\"18\"/>\n<text text-anchor=\"middle\" x=\"1008\" y=\"-68.8\" font-family=\"Times,serif\" font-size=\"14.00\">+</text>\n</g>\n<!-- 140235182714304+&#45;&gt;140235182714304 -->\n<g id=\"edge1\" class=\"edge\">\n<title>140235182714304+&#45;&gt;140235182714304</title>\n<path fill=\"none\" stroke=\"black\" d=\"M1035.04,-72.5C1042.58,-72.5 1051.3,-72.5 1060.57,-72.5\"/>\n<polygon fill=\"black\" stroke=\"black\" points=\"1060.81,-76 1070.81,-72.5 1060.81,-69 1060.81,-76\"/>\n</g>\n<!-- 140235182899264 -->\n<g id=\"node3\" class=\"node\">\n<title>140235182899264</title>\n<polygon fill=\"none\" stroke=\"black\" points=\"326,-110.5 326,-146.5 546,-146.5 546,-110.5 326,-110.5\"/>\n<text text-anchor=\"middle\" x=\"352.5\" y=\"-124.8\" font-family=\"Times,serif\" font-size=\"14.00\">x1*w1</text>\n<polyline fill=\"none\" stroke=\"black\" points=\"379,-110.5 379,-146.5 \"/>\n<text text-anchor=\"middle\" x=\"421.5\" y=\"-124.8\" font-family=\"Times,serif\" font-size=\"14.00\">data &#45;6.0000</text>\n<polyline fill=\"none\" stroke=\"black\" points=\"464,-110.5 464,-146.5 \"/>\n<text text-anchor=\"middle\" x=\"505\" y=\"-124.8\" font-family=\"Times,serif\" font-size=\"14.00\">grad 0.0000</text>\n</g>\n<!-- 140235182819600+ -->\n<g id=\"node9\" class=\"node\">\n<title>140235182819600+</title>\n<ellipse fill=\"none\" stroke=\"black\" cx=\"609\" cy=\"-100.5\" rx=\"27\" ry=\"18\"/>\n<text text-anchor=\"middle\" x=\"609\" y=\"-96.8\" font-family=\"Times,serif\" font-size=\"14.00\">+</text>\n</g>\n<!-- 140235182899264&#45;&gt;140235182819600+ -->\n<g id=\"edge14\" class=\"edge\">\n<title>140235182899264&#45;&gt;140235182819600+</title>\n<path fill=\"none\" stroke=\"black\" d=\"M546.27,-110.61C555.64,-109.07 564.6,-107.61 572.65,-106.29\"/>\n<polygon fill=\"black\" stroke=\"black\" points=\"573.35,-109.72 582.65,-104.65 572.22,-102.81 573.35,-109.72\"/>\n</g>\n<!-- 140235182899264* -->\n<g id=\"node4\" class=\"node\">\n<title>140235182899264*</title>\n<ellipse fill=\"none\" stroke=\"black\" cx=\"263\" cy=\"-128.5\" rx=\"27\" ry=\"18\"/>\n<text text-anchor=\"middle\" x=\"263\" y=\"-124.8\" font-family=\"Times,serif\" font-size=\"14.00\">*</text>\n</g>\n<!-- 140235182899264*&#45;&gt;140235182899264 -->\n<g id=\"edge2\" class=\"edge\">\n<title>140235182899264*&#45;&gt;140235182899264</title>\n<path fill=\"none\" stroke=\"black\" d=\"M290.34,-128.5C297.77,-128.5 306.37,-128.5 315.6,-128.5\"/>\n<polygon fill=\"black\" stroke=\"black\" points=\"315.84,-132 325.84,-128.5 315.84,-125 315.84,-132\"/>\n</g>\n<!-- 140235182710944 -->\n<g id=\"node5\" class=\"node\">\n<title>140235182710944</title>\n<polygon fill=\"none\" stroke=\"black\" points=\"1382,-54.5 1382,-90.5 1567,-90.5 1567,-54.5 1382,-54.5\"/>\n<text text-anchor=\"middle\" x=\"1393.5\" y=\"-68.8\" font-family=\"Times,serif\" font-size=\"14.00\">o</text>\n<polyline fill=\"none\" stroke=\"black\" points=\"1405,-54.5 1405,-90.5 \"/>\n<text text-anchor=\"middle\" x=\"1445\" y=\"-68.8\" font-family=\"Times,serif\" font-size=\"14.00\">data 0.7071</text>\n<polyline fill=\"none\" stroke=\"black\" points=\"1485,-54.5 1485,-90.5 \"/>\n<text text-anchor=\"middle\" x=\"1526\" y=\"-68.8\" font-family=\"Times,serif\" font-size=\"14.00\">grad 0.0000</text>\n</g>\n<!-- 140235182710944tanh&#45;&gt;140235182710944 -->\n<g id=\"edge3\" class=\"edge\">\n<title>140235182710944tanh&#45;&gt;140235182710944</title>\n<path fill=\"none\" stroke=\"black\" d=\"M1346.04,-72.5C1353.58,-72.5 1362.3,-72.5 1371.57,-72.5\"/>\n<polygon fill=\"black\" stroke=\"black\" points=\"1371.81,-76 1381.81,-72.5 1371.81,-69 1371.81,-76\"/>\n</g>\n<!-- 140235182899408 -->\n<g id=\"node7\" class=\"node\">\n<title>140235182899408</title>\n<polygon fill=\"none\" stroke=\"black\" points=\"4,-165.5 4,-201.5 196,-201.5 196,-165.5 4,-165.5\"/>\n<text text-anchor=\"middle\" x=\"19\" y=\"-179.8\" font-family=\"Times,serif\" font-size=\"14.00\">x1</text>\n<polyline fill=\"none\" stroke=\"black\" points=\"34,-165.5 34,-201.5 \"/>\n<text text-anchor=\"middle\" x=\"74\" y=\"-179.8\" font-family=\"Times,serif\" font-size=\"14.00\">data 2.0000</text>\n<polyline fill=\"none\" stroke=\"black\" points=\"114,-165.5 114,-201.5 \"/>\n<text text-anchor=\"middle\" x=\"155\" y=\"-179.8\" font-family=\"Times,serif\" font-size=\"14.00\">grad 0.0000</text>\n</g>\n<!-- 140235182899408&#45;&gt;140235182899264* -->\n<g id=\"edge13\" class=\"edge\">\n<title>140235182899408&#45;&gt;140235182899264*</title>\n<path fill=\"none\" stroke=\"black\" d=\"M172.53,-165.44C181.84,-162.67 191.2,-159.67 200,-156.5 210.53,-152.71 221.75,-147.9 231.72,-143.33\"/>\n<polygon fill=\"black\" stroke=\"black\" points=\"233.25,-146.48 240.82,-139.07 230.28,-140.14 233.25,-146.48\"/>\n</g>\n<!-- 140235182819600 -->\n<g id=\"node8\" class=\"node\">\n<title>140235182819600</title>\n<polygon fill=\"none\" stroke=\"black\" points=\"672,-82.5 672,-118.5 945,-118.5 945,-82.5 672,-82.5\"/>\n<text text-anchor=\"middle\" x=\"725\" y=\"-96.8\" font-family=\"Times,serif\" font-size=\"14.00\">x1*w1 + x2*w2</text>\n<polyline fill=\"none\" stroke=\"black\" points=\"778,-82.5 778,-118.5 \"/>\n<text text-anchor=\"middle\" x=\"820.5\" y=\"-96.8\" font-family=\"Times,serif\" font-size=\"14.00\">data &#45;6.0000</text>\n<polyline fill=\"none\" stroke=\"black\" points=\"863,-82.5 863,-118.5 \"/>\n<text text-anchor=\"middle\" x=\"904\" y=\"-96.8\" font-family=\"Times,serif\" font-size=\"14.00\">grad 0.0000</text>\n</g>\n<!-- 140235182819600&#45;&gt;140235182714304+ -->\n<g id=\"edge8\" class=\"edge\">\n<title>140235182819600&#45;&gt;140235182714304+</title>\n<path fill=\"none\" stroke=\"black\" d=\"M936.53,-82.49C949.09,-80.71 960.99,-79.02 971.3,-77.56\"/>\n<polygon fill=\"black\" stroke=\"black\" points=\"972.03,-80.99 981.44,-76.12 971.05,-74.06 972.03,-80.99\"/>\n</g>\n<!-- 140235182819600+&#45;&gt;140235182819600 -->\n<g id=\"edge4\" class=\"edge\">\n<title>140235182819600+&#45;&gt;140235182819600</title>\n<path fill=\"none\" stroke=\"black\" d=\"M636.23,-100.5C643.7,-100.5 652.41,-100.5 661.87,-100.5\"/>\n<polygon fill=\"black\" stroke=\"black\" points=\"661.98,-104 671.98,-100.5 661.98,-97 661.98,-104\"/>\n</g>\n<!-- 140235182899552 -->\n<g id=\"node10\" class=\"node\">\n<title>140235182899552</title>\n<polygon fill=\"none\" stroke=\"black\" points=\"2.5,-55.5 2.5,-91.5 197.5,-91.5 197.5,-55.5 2.5,-55.5\"/>\n<text text-anchor=\"middle\" x=\"19\" y=\"-69.8\" font-family=\"Times,serif\" font-size=\"14.00\">w2</text>\n<polyline fill=\"none\" stroke=\"black\" points=\"35.5,-55.5 35.5,-91.5 \"/>\n<text text-anchor=\"middle\" x=\"75.5\" y=\"-69.8\" font-family=\"Times,serif\" font-size=\"14.00\">data 1.0000</text>\n<polyline fill=\"none\" stroke=\"black\" points=\"115.5,-55.5 115.5,-91.5 \"/>\n<text text-anchor=\"middle\" x=\"156.5\" y=\"-69.8\" font-family=\"Times,serif\" font-size=\"14.00\">grad 0.0000</text>\n</g>\n<!-- 140235182820800* -->\n<g id=\"node14\" class=\"node\">\n<title>140235182820800*</title>\n<ellipse fill=\"none\" stroke=\"black\" cx=\"263\" cy=\"-73.5\" rx=\"27\" ry=\"18\"/>\n<text text-anchor=\"middle\" x=\"263\" y=\"-69.8\" font-family=\"Times,serif\" font-size=\"14.00\">*</text>\n</g>\n<!-- 140235182899552&#45;&gt;140235182820800* -->\n<g id=\"edge9\" class=\"edge\">\n<title>140235182899552&#45;&gt;140235182820800*</title>\n<path fill=\"none\" stroke=\"black\" d=\"M197.91,-73.5C207.65,-73.5 217.05,-73.5 225.52,-73.5\"/>\n<polygon fill=\"black\" stroke=\"black\" points=\"225.7,-77 235.7,-73.5 225.7,-70 225.7,-77\"/>\n</g>\n<!-- 140235182900128 -->\n<g id=\"node11\" class=\"node\">\n<title>140235182900128</title>\n<polygon fill=\"none\" stroke=\"black\" points=\"0,-110.5 0,-146.5 200,-146.5 200,-110.5 0,-110.5\"/>\n<text text-anchor=\"middle\" x=\"16.5\" y=\"-124.8\" font-family=\"Times,serif\" font-size=\"14.00\">w1</text>\n<polyline fill=\"none\" stroke=\"black\" points=\"33,-110.5 33,-146.5 \"/>\n<text text-anchor=\"middle\" x=\"75.5\" y=\"-124.8\" font-family=\"Times,serif\" font-size=\"14.00\">data &#45;3.0000</text>\n<polyline fill=\"none\" stroke=\"black\" points=\"118,-110.5 118,-146.5 \"/>\n<text text-anchor=\"middle\" x=\"159\" y=\"-124.8\" font-family=\"Times,serif\" font-size=\"14.00\">grad 0.0000</text>\n</g>\n<!-- 140235182900128&#45;&gt;140235182899264* -->\n<g id=\"edge12\" class=\"edge\">\n<title>140235182900128&#45;&gt;140235182899264*</title>\n<path fill=\"none\" stroke=\"black\" d=\"M200.21,-128.5C209.2,-128.5 217.86,-128.5 225.7,-128.5\"/>\n<polygon fill=\"black\" stroke=\"black\" points=\"225.85,-132 235.85,-128.5 225.85,-125 225.85,-132\"/>\n</g>\n<!-- 140235182900656 -->\n<g id=\"node12\" class=\"node\">\n<title>140235182900656</title>\n<polygon fill=\"none\" stroke=\"black\" points=\"716,-27.5 716,-63.5 901,-63.5 901,-27.5 716,-27.5\"/>\n<text text-anchor=\"middle\" x=\"727.5\" y=\"-41.8\" font-family=\"Times,serif\" font-size=\"14.00\">b</text>\n<polyline fill=\"none\" stroke=\"black\" points=\"739,-27.5 739,-63.5 \"/>\n<text text-anchor=\"middle\" x=\"779\" y=\"-41.8\" font-family=\"Times,serif\" font-size=\"14.00\">data 6.8814</text>\n<polyline fill=\"none\" stroke=\"black\" points=\"819,-27.5 819,-63.5 \"/>\n<text text-anchor=\"middle\" x=\"860\" y=\"-41.8\" font-family=\"Times,serif\" font-size=\"14.00\">grad 0.0000</text>\n</g>\n<!-- 140235182900656&#45;&gt;140235182714304+ -->\n<g id=\"edge10\" class=\"edge\">\n<title>140235182900656&#45;&gt;140235182714304+</title>\n<path fill=\"none\" stroke=\"black\" d=\"M901.02,-58.01C926,-61.43 951.59,-64.93 971.37,-67.63\"/>\n<polygon fill=\"black\" stroke=\"black\" points=\"971.05,-71.12 981.43,-69.01 972,-64.18 971.05,-71.12\"/>\n</g>\n<!-- 140235182820800 -->\n<g id=\"node13\" class=\"node\">\n<title>140235182820800</title>\n<polygon fill=\"none\" stroke=\"black\" points=\"328.5,-55.5 328.5,-91.5 543.5,-91.5 543.5,-55.5 328.5,-55.5\"/>\n<text text-anchor=\"middle\" x=\"355\" y=\"-69.8\" font-family=\"Times,serif\" font-size=\"14.00\">x2*w2</text>\n<polyline fill=\"none\" stroke=\"black\" points=\"381.5,-55.5 381.5,-91.5 \"/>\n<text text-anchor=\"middle\" x=\"421.5\" y=\"-69.8\" font-family=\"Times,serif\" font-size=\"14.00\">data 0.0000</text>\n<polyline fill=\"none\" stroke=\"black\" points=\"461.5,-55.5 461.5,-91.5 \"/>\n<text text-anchor=\"middle\" x=\"502.5\" y=\"-69.8\" font-family=\"Times,serif\" font-size=\"14.00\">grad 0.0000</text>\n</g>\n<!-- 140235182820800&#45;&gt;140235182819600+ -->\n<g id=\"edge11\" class=\"edge\">\n<title>140235182820800&#45;&gt;140235182819600+</title>\n<path fill=\"none\" stroke=\"black\" d=\"M543.84,-90.37C554.01,-91.98 563.76,-93.51 572.44,-94.89\"/>\n<polygon fill=\"black\" stroke=\"black\" points=\"572.05,-98.37 582.47,-96.47 573.14,-91.45 572.05,-98.37\"/>\n</g>\n<!-- 140235182820800*&#45;&gt;140235182820800 -->\n<g id=\"edge5\" class=\"edge\">\n<title>140235182820800*&#45;&gt;140235182820800</title>\n<path fill=\"none\" stroke=\"black\" d=\"M290.34,-73.5C298.51,-73.5 308.08,-73.5 318.36,-73.5\"/>\n<polygon fill=\"black\" stroke=\"black\" points=\"318.39,-77 328.39,-73.5 318.39,-70 318.39,-77\"/>\n</g>\n<!-- 140235182899696 -->\n<g id=\"node15\" class=\"node\">\n<title>140235182899696</title>\n<polygon fill=\"none\" stroke=\"black\" points=\"4,-0.5 4,-36.5 196,-36.5 196,-0.5 4,-0.5\"/>\n<text text-anchor=\"middle\" x=\"19\" y=\"-14.8\" font-family=\"Times,serif\" font-size=\"14.00\">x2</text>\n<polyline fill=\"none\" stroke=\"black\" points=\"34,-0.5 34,-36.5 \"/>\n<text text-anchor=\"middle\" x=\"74\" y=\"-14.8\" font-family=\"Times,serif\" font-size=\"14.00\">data 0.0000</text>\n<polyline fill=\"none\" stroke=\"black\" points=\"114,-0.5 114,-36.5 \"/>\n<text text-anchor=\"middle\" x=\"155\" y=\"-14.8\" font-family=\"Times,serif\" font-size=\"14.00\">grad 0.0000</text>\n</g>\n<!-- 140235182899696&#45;&gt;140235182820800* -->\n<g id=\"edge6\" class=\"edge\">\n<title>140235182899696&#45;&gt;140235182820800*</title>\n<path fill=\"none\" stroke=\"black\" d=\"M172.53,-36.56C181.84,-39.33 191.2,-42.33 200,-45.5 210.53,-49.29 221.75,-54.1 231.72,-58.67\"/>\n<polygon fill=\"black\" stroke=\"black\" points=\"230.28,-61.86 240.82,-62.93 233.25,-55.52 230.28,-61.86\"/>\n</g>\n</g>\n</svg>\n"
          },
          "metadata": {},
          "execution_count": 40
        }
      ]
    },
    {
      "cell_type": "markdown",
      "source": [
        "Calling `backward` now is one line"
      ],
      "metadata": {
        "id": "dG2Fejf1Oz9U"
      }
    },
    {
      "cell_type": "code",
      "source": [
        "o.backward()\n",
        "draw_dot(o)"
      ],
      "metadata": {
        "colab": {
          "base_uri": "https://localhost:8080/",
          "height": 321
        },
        "id": "0PDIBTsROf-c",
        "outputId": "16058c1e-fd4b-40f1-e143-bd423dfbcaff"
      },
      "execution_count": 41,
      "outputs": [
        {
          "output_type": "execute_result",
          "data": {
            "text/plain": [
              "<graphviz.dot.Digraph at 0x7f8b0c1457f0>"
            ],
            "image/svg+xml": "<?xml version=\"1.0\" encoding=\"UTF-8\" standalone=\"no\"?>\n<!DOCTYPE svg PUBLIC \"-//W3C//DTD SVG 1.1//EN\"\n \"http://www.w3.org/Graphics/SVG/1.1/DTD/svg11.dtd\">\n<!-- Generated by graphviz version 2.43.0 (0)\n -->\n<!-- Title: %3 Pages: 1 -->\n<svg width=\"1575pt\" height=\"210pt\"\n viewBox=\"0.00 0.00 1575.00 210.00\" xmlns=\"http://www.w3.org/2000/svg\" xmlns:xlink=\"http://www.w3.org/1999/xlink\">\n<g id=\"graph0\" class=\"graph\" transform=\"scale(1 1) rotate(0) translate(4 206)\">\n<title>%3</title>\n<polygon fill=\"white\" stroke=\"transparent\" points=\"-4,4 -4,-206 1571,-206 1571,4 -4,4\"/>\n<!-- 140235182714304 -->\n<g id=\"node1\" class=\"node\">\n<title>140235182714304</title>\n<polygon fill=\"none\" stroke=\"black\" points=\"1071,-54.5 1071,-90.5 1256,-90.5 1256,-54.5 1071,-54.5\"/>\n<text text-anchor=\"middle\" x=\"1082.5\" y=\"-68.8\" font-family=\"Times,serif\" font-size=\"14.00\">n</text>\n<polyline fill=\"none\" stroke=\"black\" points=\"1094,-54.5 1094,-90.5 \"/>\n<text text-anchor=\"middle\" x=\"1134\" y=\"-68.8\" font-family=\"Times,serif\" font-size=\"14.00\">data 0.8814</text>\n<polyline fill=\"none\" stroke=\"black\" points=\"1174,-54.5 1174,-90.5 \"/>\n<text text-anchor=\"middle\" x=\"1215\" y=\"-68.8\" font-family=\"Times,serif\" font-size=\"14.00\">grad 0.5000</text>\n</g>\n<!-- 140235182710944tanh -->\n<g id=\"node6\" class=\"node\">\n<title>140235182710944tanh</title>\n<ellipse fill=\"none\" stroke=\"black\" cx=\"1319\" cy=\"-72.5\" rx=\"27\" ry=\"18\"/>\n<text text-anchor=\"middle\" x=\"1319\" y=\"-68.8\" font-family=\"Times,serif\" font-size=\"14.00\">tanh</text>\n</g>\n<!-- 140235182714304&#45;&gt;140235182710944tanh -->\n<g id=\"edge7\" class=\"edge\">\n<title>140235182714304&#45;&gt;140235182710944tanh</title>\n<path fill=\"none\" stroke=\"black\" d=\"M1256.01,-72.5C1265.01,-72.5 1273.74,-72.5 1281.66,-72.5\"/>\n<polygon fill=\"black\" stroke=\"black\" points=\"1281.91,-76 1291.91,-72.5 1281.91,-69 1281.91,-76\"/>\n</g>\n<!-- 140235182714304+ -->\n<g id=\"node2\" class=\"node\">\n<title>140235182714304+</title>\n<ellipse fill=\"none\" stroke=\"black\" cx=\"1008\" cy=\"-72.5\" rx=\"27\" ry=\"18\"/>\n<text text-anchor=\"middle\" x=\"1008\" y=\"-68.8\" font-family=\"Times,serif\" font-size=\"14.00\">+</text>\n</g>\n<!-- 140235182714304+&#45;&gt;140235182714304 -->\n<g id=\"edge1\" class=\"edge\">\n<title>140235182714304+&#45;&gt;140235182714304</title>\n<path fill=\"none\" stroke=\"black\" d=\"M1035.04,-72.5C1042.58,-72.5 1051.3,-72.5 1060.57,-72.5\"/>\n<polygon fill=\"black\" stroke=\"black\" points=\"1060.81,-76 1070.81,-72.5 1060.81,-69 1060.81,-76\"/>\n</g>\n<!-- 140235182899264 -->\n<g id=\"node3\" class=\"node\">\n<title>140235182899264</title>\n<polygon fill=\"none\" stroke=\"black\" points=\"326,-110.5 326,-146.5 546,-146.5 546,-110.5 326,-110.5\"/>\n<text text-anchor=\"middle\" x=\"352.5\" y=\"-124.8\" font-family=\"Times,serif\" font-size=\"14.00\">x1*w1</text>\n<polyline fill=\"none\" stroke=\"black\" points=\"379,-110.5 379,-146.5 \"/>\n<text text-anchor=\"middle\" x=\"421.5\" y=\"-124.8\" font-family=\"Times,serif\" font-size=\"14.00\">data &#45;6.0000</text>\n<polyline fill=\"none\" stroke=\"black\" points=\"464,-110.5 464,-146.5 \"/>\n<text text-anchor=\"middle\" x=\"505\" y=\"-124.8\" font-family=\"Times,serif\" font-size=\"14.00\">grad 0.5000</text>\n</g>\n<!-- 140235182819600+ -->\n<g id=\"node9\" class=\"node\">\n<title>140235182819600+</title>\n<ellipse fill=\"none\" stroke=\"black\" cx=\"609\" cy=\"-100.5\" rx=\"27\" ry=\"18\"/>\n<text text-anchor=\"middle\" x=\"609\" y=\"-96.8\" font-family=\"Times,serif\" font-size=\"14.00\">+</text>\n</g>\n<!-- 140235182899264&#45;&gt;140235182819600+ -->\n<g id=\"edge14\" class=\"edge\">\n<title>140235182899264&#45;&gt;140235182819600+</title>\n<path fill=\"none\" stroke=\"black\" d=\"M546.27,-110.61C555.64,-109.07 564.6,-107.61 572.65,-106.29\"/>\n<polygon fill=\"black\" stroke=\"black\" points=\"573.35,-109.72 582.65,-104.65 572.22,-102.81 573.35,-109.72\"/>\n</g>\n<!-- 140235182899264* -->\n<g id=\"node4\" class=\"node\">\n<title>140235182899264*</title>\n<ellipse fill=\"none\" stroke=\"black\" cx=\"263\" cy=\"-128.5\" rx=\"27\" ry=\"18\"/>\n<text text-anchor=\"middle\" x=\"263\" y=\"-124.8\" font-family=\"Times,serif\" font-size=\"14.00\">*</text>\n</g>\n<!-- 140235182899264*&#45;&gt;140235182899264 -->\n<g id=\"edge2\" class=\"edge\">\n<title>140235182899264*&#45;&gt;140235182899264</title>\n<path fill=\"none\" stroke=\"black\" d=\"M290.34,-128.5C297.77,-128.5 306.37,-128.5 315.6,-128.5\"/>\n<polygon fill=\"black\" stroke=\"black\" points=\"315.84,-132 325.84,-128.5 315.84,-125 315.84,-132\"/>\n</g>\n<!-- 140235182710944 -->\n<g id=\"node5\" class=\"node\">\n<title>140235182710944</title>\n<polygon fill=\"none\" stroke=\"black\" points=\"1382,-54.5 1382,-90.5 1567,-90.5 1567,-54.5 1382,-54.5\"/>\n<text text-anchor=\"middle\" x=\"1393.5\" y=\"-68.8\" font-family=\"Times,serif\" font-size=\"14.00\">o</text>\n<polyline fill=\"none\" stroke=\"black\" points=\"1405,-54.5 1405,-90.5 \"/>\n<text text-anchor=\"middle\" x=\"1445\" y=\"-68.8\" font-family=\"Times,serif\" font-size=\"14.00\">data 0.7071</text>\n<polyline fill=\"none\" stroke=\"black\" points=\"1485,-54.5 1485,-90.5 \"/>\n<text text-anchor=\"middle\" x=\"1526\" y=\"-68.8\" font-family=\"Times,serif\" font-size=\"14.00\">grad 1.0000</text>\n</g>\n<!-- 140235182710944tanh&#45;&gt;140235182710944 -->\n<g id=\"edge3\" class=\"edge\">\n<title>140235182710944tanh&#45;&gt;140235182710944</title>\n<path fill=\"none\" stroke=\"black\" d=\"M1346.04,-72.5C1353.58,-72.5 1362.3,-72.5 1371.57,-72.5\"/>\n<polygon fill=\"black\" stroke=\"black\" points=\"1371.81,-76 1381.81,-72.5 1371.81,-69 1371.81,-76\"/>\n</g>\n<!-- 140235182899408 -->\n<g id=\"node7\" class=\"node\">\n<title>140235182899408</title>\n<polygon fill=\"none\" stroke=\"black\" points=\"2,-165.5 2,-201.5 198,-201.5 198,-165.5 2,-165.5\"/>\n<text text-anchor=\"middle\" x=\"17\" y=\"-179.8\" font-family=\"Times,serif\" font-size=\"14.00\">x1</text>\n<polyline fill=\"none\" stroke=\"black\" points=\"32,-165.5 32,-201.5 \"/>\n<text text-anchor=\"middle\" x=\"72\" y=\"-179.8\" font-family=\"Times,serif\" font-size=\"14.00\">data 2.0000</text>\n<polyline fill=\"none\" stroke=\"black\" points=\"112,-165.5 112,-201.5 \"/>\n<text text-anchor=\"middle\" x=\"155\" y=\"-179.8\" font-family=\"Times,serif\" font-size=\"14.00\">grad &#45;1.5000</text>\n</g>\n<!-- 140235182899408&#45;&gt;140235182899264* -->\n<g id=\"edge13\" class=\"edge\">\n<title>140235182899408&#45;&gt;140235182899264*</title>\n<path fill=\"none\" stroke=\"black\" d=\"M172.53,-165.44C181.84,-162.67 191.2,-159.67 200,-156.5 210.53,-152.71 221.75,-147.9 231.72,-143.33\"/>\n<polygon fill=\"black\" stroke=\"black\" points=\"233.25,-146.48 240.82,-139.07 230.28,-140.14 233.25,-146.48\"/>\n</g>\n<!-- 140235182819600 -->\n<g id=\"node8\" class=\"node\">\n<title>140235182819600</title>\n<polygon fill=\"none\" stroke=\"black\" points=\"672,-82.5 672,-118.5 945,-118.5 945,-82.5 672,-82.5\"/>\n<text text-anchor=\"middle\" x=\"725\" y=\"-96.8\" font-family=\"Times,serif\" font-size=\"14.00\">x1*w1 + x2*w2</text>\n<polyline fill=\"none\" stroke=\"black\" points=\"778,-82.5 778,-118.5 \"/>\n<text text-anchor=\"middle\" x=\"820.5\" y=\"-96.8\" font-family=\"Times,serif\" font-size=\"14.00\">data &#45;6.0000</text>\n<polyline fill=\"none\" stroke=\"black\" points=\"863,-82.5 863,-118.5 \"/>\n<text text-anchor=\"middle\" x=\"904\" y=\"-96.8\" font-family=\"Times,serif\" font-size=\"14.00\">grad 0.5000</text>\n</g>\n<!-- 140235182819600&#45;&gt;140235182714304+ -->\n<g id=\"edge8\" class=\"edge\">\n<title>140235182819600&#45;&gt;140235182714304+</title>\n<path fill=\"none\" stroke=\"black\" d=\"M936.53,-82.49C949.09,-80.71 960.99,-79.02 971.3,-77.56\"/>\n<polygon fill=\"black\" stroke=\"black\" points=\"972.03,-80.99 981.44,-76.12 971.05,-74.06 972.03,-80.99\"/>\n</g>\n<!-- 140235182819600+&#45;&gt;140235182819600 -->\n<g id=\"edge4\" class=\"edge\">\n<title>140235182819600+&#45;&gt;140235182819600</title>\n<path fill=\"none\" stroke=\"black\" d=\"M636.23,-100.5C643.7,-100.5 652.41,-100.5 661.87,-100.5\"/>\n<polygon fill=\"black\" stroke=\"black\" points=\"661.98,-104 671.98,-100.5 661.98,-97 661.98,-104\"/>\n</g>\n<!-- 140235182899552 -->\n<g id=\"node10\" class=\"node\">\n<title>140235182899552</title>\n<polygon fill=\"none\" stroke=\"black\" points=\"2.5,-55.5 2.5,-91.5 197.5,-91.5 197.5,-55.5 2.5,-55.5\"/>\n<text text-anchor=\"middle\" x=\"19\" y=\"-69.8\" font-family=\"Times,serif\" font-size=\"14.00\">w2</text>\n<polyline fill=\"none\" stroke=\"black\" points=\"35.5,-55.5 35.5,-91.5 \"/>\n<text text-anchor=\"middle\" x=\"75.5\" y=\"-69.8\" font-family=\"Times,serif\" font-size=\"14.00\">data 1.0000</text>\n<polyline fill=\"none\" stroke=\"black\" points=\"115.5,-55.5 115.5,-91.5 \"/>\n<text text-anchor=\"middle\" x=\"156.5\" y=\"-69.8\" font-family=\"Times,serif\" font-size=\"14.00\">grad 0.0000</text>\n</g>\n<!-- 140235182820800* -->\n<g id=\"node14\" class=\"node\">\n<title>140235182820800*</title>\n<ellipse fill=\"none\" stroke=\"black\" cx=\"263\" cy=\"-73.5\" rx=\"27\" ry=\"18\"/>\n<text text-anchor=\"middle\" x=\"263\" y=\"-69.8\" font-family=\"Times,serif\" font-size=\"14.00\">*</text>\n</g>\n<!-- 140235182899552&#45;&gt;140235182820800* -->\n<g id=\"edge9\" class=\"edge\">\n<title>140235182899552&#45;&gt;140235182820800*</title>\n<path fill=\"none\" stroke=\"black\" d=\"M197.91,-73.5C207.65,-73.5 217.05,-73.5 225.52,-73.5\"/>\n<polygon fill=\"black\" stroke=\"black\" points=\"225.7,-77 235.7,-73.5 225.7,-70 225.7,-77\"/>\n</g>\n<!-- 140235182900128 -->\n<g id=\"node11\" class=\"node\">\n<title>140235182900128</title>\n<polygon fill=\"none\" stroke=\"black\" points=\"0,-110.5 0,-146.5 200,-146.5 200,-110.5 0,-110.5\"/>\n<text text-anchor=\"middle\" x=\"16.5\" y=\"-124.8\" font-family=\"Times,serif\" font-size=\"14.00\">w1</text>\n<polyline fill=\"none\" stroke=\"black\" points=\"33,-110.5 33,-146.5 \"/>\n<text text-anchor=\"middle\" x=\"75.5\" y=\"-124.8\" font-family=\"Times,serif\" font-size=\"14.00\">data &#45;3.0000</text>\n<polyline fill=\"none\" stroke=\"black\" points=\"118,-110.5 118,-146.5 \"/>\n<text text-anchor=\"middle\" x=\"159\" y=\"-124.8\" font-family=\"Times,serif\" font-size=\"14.00\">grad 1.0000</text>\n</g>\n<!-- 140235182900128&#45;&gt;140235182899264* -->\n<g id=\"edge12\" class=\"edge\">\n<title>140235182900128&#45;&gt;140235182899264*</title>\n<path fill=\"none\" stroke=\"black\" d=\"M200.21,-128.5C209.2,-128.5 217.86,-128.5 225.7,-128.5\"/>\n<polygon fill=\"black\" stroke=\"black\" points=\"225.85,-132 235.85,-128.5 225.85,-125 225.85,-132\"/>\n</g>\n<!-- 140235182900656 -->\n<g id=\"node12\" class=\"node\">\n<title>140235182900656</title>\n<polygon fill=\"none\" stroke=\"black\" points=\"716,-27.5 716,-63.5 901,-63.5 901,-27.5 716,-27.5\"/>\n<text text-anchor=\"middle\" x=\"727.5\" y=\"-41.8\" font-family=\"Times,serif\" font-size=\"14.00\">b</text>\n<polyline fill=\"none\" stroke=\"black\" points=\"739,-27.5 739,-63.5 \"/>\n<text text-anchor=\"middle\" x=\"779\" y=\"-41.8\" font-family=\"Times,serif\" font-size=\"14.00\">data 6.8814</text>\n<polyline fill=\"none\" stroke=\"black\" points=\"819,-27.5 819,-63.5 \"/>\n<text text-anchor=\"middle\" x=\"860\" y=\"-41.8\" font-family=\"Times,serif\" font-size=\"14.00\">grad 0.5000</text>\n</g>\n<!-- 140235182900656&#45;&gt;140235182714304+ -->\n<g id=\"edge10\" class=\"edge\">\n<title>140235182900656&#45;&gt;140235182714304+</title>\n<path fill=\"none\" stroke=\"black\" d=\"M901.02,-58.01C926,-61.43 951.59,-64.93 971.37,-67.63\"/>\n<polygon fill=\"black\" stroke=\"black\" points=\"971.05,-71.12 981.43,-69.01 972,-64.18 971.05,-71.12\"/>\n</g>\n<!-- 140235182820800 -->\n<g id=\"node13\" class=\"node\">\n<title>140235182820800</title>\n<polygon fill=\"none\" stroke=\"black\" points=\"328.5,-55.5 328.5,-91.5 543.5,-91.5 543.5,-55.5 328.5,-55.5\"/>\n<text text-anchor=\"middle\" x=\"355\" y=\"-69.8\" font-family=\"Times,serif\" font-size=\"14.00\">x2*w2</text>\n<polyline fill=\"none\" stroke=\"black\" points=\"381.5,-55.5 381.5,-91.5 \"/>\n<text text-anchor=\"middle\" x=\"421.5\" y=\"-69.8\" font-family=\"Times,serif\" font-size=\"14.00\">data 0.0000</text>\n<polyline fill=\"none\" stroke=\"black\" points=\"461.5,-55.5 461.5,-91.5 \"/>\n<text text-anchor=\"middle\" x=\"502.5\" y=\"-69.8\" font-family=\"Times,serif\" font-size=\"14.00\">grad 0.5000</text>\n</g>\n<!-- 140235182820800&#45;&gt;140235182819600+ -->\n<g id=\"edge11\" class=\"edge\">\n<title>140235182820800&#45;&gt;140235182819600+</title>\n<path fill=\"none\" stroke=\"black\" d=\"M543.84,-90.37C554.01,-91.98 563.76,-93.51 572.44,-94.89\"/>\n<polygon fill=\"black\" stroke=\"black\" points=\"572.05,-98.37 582.47,-96.47 573.14,-91.45 572.05,-98.37\"/>\n</g>\n<!-- 140235182820800*&#45;&gt;140235182820800 -->\n<g id=\"edge5\" class=\"edge\">\n<title>140235182820800*&#45;&gt;140235182820800</title>\n<path fill=\"none\" stroke=\"black\" d=\"M290.34,-73.5C298.51,-73.5 308.08,-73.5 318.36,-73.5\"/>\n<polygon fill=\"black\" stroke=\"black\" points=\"318.39,-77 328.39,-73.5 318.39,-70 318.39,-77\"/>\n</g>\n<!-- 140235182899696 -->\n<g id=\"node15\" class=\"node\">\n<title>140235182899696</title>\n<polygon fill=\"none\" stroke=\"black\" points=\"4,-0.5 4,-36.5 196,-36.5 196,-0.5 4,-0.5\"/>\n<text text-anchor=\"middle\" x=\"19\" y=\"-14.8\" font-family=\"Times,serif\" font-size=\"14.00\">x2</text>\n<polyline fill=\"none\" stroke=\"black\" points=\"34,-0.5 34,-36.5 \"/>\n<text text-anchor=\"middle\" x=\"74\" y=\"-14.8\" font-family=\"Times,serif\" font-size=\"14.00\">data 0.0000</text>\n<polyline fill=\"none\" stroke=\"black\" points=\"114,-0.5 114,-36.5 \"/>\n<text text-anchor=\"middle\" x=\"155\" y=\"-14.8\" font-family=\"Times,serif\" font-size=\"14.00\">grad 0.5000</text>\n</g>\n<!-- 140235182899696&#45;&gt;140235182820800* -->\n<g id=\"edge6\" class=\"edge\">\n<title>140235182899696&#45;&gt;140235182820800*</title>\n<path fill=\"none\" stroke=\"black\" d=\"M172.53,-36.56C181.84,-39.33 191.2,-42.33 200,-45.5 210.53,-49.29 221.75,-54.1 231.72,-58.67\"/>\n<polygon fill=\"black\" stroke=\"black\" points=\"230.28,-61.86 240.82,-62.93 233.25,-55.52 230.28,-61.86\"/>\n</g>\n</g>\n</svg>\n"
          },
          "metadata": {},
          "execution_count": 41
        }
      ]
    },
    {
      "cell_type": "markdown",
      "source": [
        "Testing a bug stated in the video..."
      ],
      "metadata": {
        "id": "MaRtoKDsQJ2y"
      }
    },
    {
      "cell_type": "code",
      "source": [
        "def test0():\n",
        "  a = Value(3.0, label='a')\n",
        "  b = a + a; b.label = 'b'\n",
        "  b.backward()\n",
        "  return b\n",
        "draw_dot(test0())"
      ],
      "metadata": {
        "colab": {
          "base_uri": "https://localhost:8080/",
          "height": 81
        },
        "id": "uU0wCPv1OkRR",
        "outputId": "d2ef9d42-4648-4df4-cb0c-c90f5c3aecad"
      },
      "execution_count": 42,
      "outputs": [
        {
          "output_type": "execute_result",
          "data": {
            "text/plain": [
              "<graphviz.dot.Digraph at 0x7f8b0c163d60>"
            ],
            "image/svg+xml": "<?xml version=\"1.0\" encoding=\"UTF-8\" standalone=\"no\"?>\n<!DOCTYPE svg PUBLIC \"-//W3C//DTD SVG 1.1//EN\"\n \"http://www.w3.org/Graphics/SVG/1.1/DTD/svg11.dtd\">\n<!-- Generated by graphviz version 2.43.0 (0)\n -->\n<!-- Title: %3 Pages: 1 -->\n<svg width=\"504pt\" height=\"45pt\"\n viewBox=\"0.00 0.00 504.00 45.00\" xmlns=\"http://www.w3.org/2000/svg\" xmlns:xlink=\"http://www.w3.org/1999/xlink\">\n<g id=\"graph0\" class=\"graph\" transform=\"scale(1 1) rotate(0) translate(4 41)\">\n<title>%3</title>\n<polygon fill=\"white\" stroke=\"transparent\" points=\"-4,4 -4,-41 500,-41 500,4 -4,4\"/>\n<!-- 140235179964208 -->\n<g id=\"node1\" class=\"node\">\n<title>140235179964208</title>\n<polygon fill=\"none\" stroke=\"black\" points=\"311,-0.5 311,-36.5 496,-36.5 496,-0.5 311,-0.5\"/>\n<text text-anchor=\"middle\" x=\"322.5\" y=\"-14.8\" font-family=\"Times,serif\" font-size=\"14.00\">b</text>\n<polyline fill=\"none\" stroke=\"black\" points=\"334,-0.5 334,-36.5 \"/>\n<text text-anchor=\"middle\" x=\"374\" y=\"-14.8\" font-family=\"Times,serif\" font-size=\"14.00\">data 6.0000</text>\n<polyline fill=\"none\" stroke=\"black\" points=\"414,-0.5 414,-36.5 \"/>\n<text text-anchor=\"middle\" x=\"455\" y=\"-14.8\" font-family=\"Times,serif\" font-size=\"14.00\">grad 1.0000</text>\n</g>\n<!-- 140235179964208+ -->\n<g id=\"node2\" class=\"node\">\n<title>140235179964208+</title>\n<ellipse fill=\"none\" stroke=\"black\" cx=\"248\" cy=\"-18.5\" rx=\"27\" ry=\"18\"/>\n<text text-anchor=\"middle\" x=\"248\" y=\"-14.8\" font-family=\"Times,serif\" font-size=\"14.00\">+</text>\n</g>\n<!-- 140235179964208+&#45;&gt;140235179964208 -->\n<g id=\"edge1\" class=\"edge\">\n<title>140235179964208+&#45;&gt;140235179964208</title>\n<path fill=\"none\" stroke=\"black\" d=\"M275.04,-18.5C282.58,-18.5 291.3,-18.5 300.57,-18.5\"/>\n<polygon fill=\"black\" stroke=\"black\" points=\"300.81,-22 310.81,-18.5 300.81,-15 300.81,-22\"/>\n</g>\n<!-- 140235179962960 -->\n<g id=\"node3\" class=\"node\">\n<title>140235179962960</title>\n<polygon fill=\"none\" stroke=\"black\" points=\"0,-0.5 0,-36.5 185,-36.5 185,-0.5 0,-0.5\"/>\n<text text-anchor=\"middle\" x=\"11.5\" y=\"-14.8\" font-family=\"Times,serif\" font-size=\"14.00\">a</text>\n<polyline fill=\"none\" stroke=\"black\" points=\"23,-0.5 23,-36.5 \"/>\n<text text-anchor=\"middle\" x=\"63\" y=\"-14.8\" font-family=\"Times,serif\" font-size=\"14.00\">data 3.0000</text>\n<polyline fill=\"none\" stroke=\"black\" points=\"103,-0.5 103,-36.5 \"/>\n<text text-anchor=\"middle\" x=\"144\" y=\"-14.8\" font-family=\"Times,serif\" font-size=\"14.00\">grad 2.0000</text>\n</g>\n<!-- 140235179962960&#45;&gt;140235179964208+ -->\n<g id=\"edge2\" class=\"edge\">\n<title>140235179962960&#45;&gt;140235179964208+</title>\n<path fill=\"none\" stroke=\"black\" d=\"M185.01,-18.5C194.01,-18.5 202.74,-18.5 210.66,-18.5\"/>\n<polygon fill=\"black\" stroke=\"black\" points=\"210.91,-22 220.91,-18.5 210.91,-15 210.91,-22\"/>\n</g>\n</g>\n</svg>\n"
          },
          "metadata": {},
          "execution_count": 42
        }
      ]
    },
    {
      "cell_type": "code",
      "source": [
        "def test1():\n",
        "  a = Value(3.0, label='a')\n",
        "  b = a * 2; b.label = 'b'\n",
        "  b.backward()\n",
        "  return b\n",
        "draw_dot(test1())"
      ],
      "metadata": {
        "colab": {
          "base_uri": "https://localhost:8080/",
          "height": 154
        },
        "id": "Ok_uq7gDLaAt",
        "outputId": "fe64ca7e-2b74-455e-b895-533bdd1f3f58"
      },
      "execution_count": 43,
      "outputs": [
        {
          "output_type": "execute_result",
          "data": {
            "text/plain": [
              "<graphviz.dot.Digraph at 0x7f8b0c168e50>"
            ],
            "image/svg+xml": "<?xml version=\"1.0\" encoding=\"UTF-8\" standalone=\"no\"?>\n<!DOCTYPE svg PUBLIC \"-//W3C//DTD SVG 1.1//EN\"\n \"http://www.w3.org/Graphics/SVG/1.1/DTD/svg11.dtd\">\n<!-- Generated by graphviz version 2.43.0 (0)\n -->\n<!-- Title: %3 Pages: 1 -->\n<svg width=\"504pt\" height=\"100pt\"\n viewBox=\"0.00 0.00 504.00 100.00\" xmlns=\"http://www.w3.org/2000/svg\" xmlns:xlink=\"http://www.w3.org/1999/xlink\">\n<g id=\"graph0\" class=\"graph\" transform=\"scale(1 1) rotate(0) translate(4 96)\">\n<title>%3</title>\n<polygon fill=\"white\" stroke=\"transparent\" points=\"-4,4 -4,-96 500,-96 500,4 -4,4\"/>\n<!-- 140235179965264 -->\n<g id=\"node1\" class=\"node\">\n<title>140235179965264</title>\n<polygon fill=\"none\" stroke=\"black\" points=\"0,-55.5 0,-91.5 185,-91.5 185,-55.5 0,-55.5\"/>\n<text text-anchor=\"middle\" x=\"11.5\" y=\"-69.8\" font-family=\"Times,serif\" font-size=\"14.00\">2</text>\n<polyline fill=\"none\" stroke=\"black\" points=\"23,-55.5 23,-91.5 \"/>\n<text text-anchor=\"middle\" x=\"63\" y=\"-69.8\" font-family=\"Times,serif\" font-size=\"14.00\">data 2.0000</text>\n<polyline fill=\"none\" stroke=\"black\" points=\"103,-55.5 103,-91.5 \"/>\n<text text-anchor=\"middle\" x=\"144\" y=\"-69.8\" font-family=\"Times,serif\" font-size=\"14.00\">grad 3.0000</text>\n</g>\n<!-- 140235179963632* -->\n<g id=\"node4\" class=\"node\">\n<title>140235179963632*</title>\n<ellipse fill=\"none\" stroke=\"black\" cx=\"248\" cy=\"-45.5\" rx=\"27\" ry=\"18\"/>\n<text text-anchor=\"middle\" x=\"248\" y=\"-41.8\" font-family=\"Times,serif\" font-size=\"14.00\">*</text>\n</g>\n<!-- 140235179965264&#45;&gt;140235179963632* -->\n<g id=\"edge3\" class=\"edge\">\n<title>140235179965264&#45;&gt;140235179963632*</title>\n<path fill=\"none\" stroke=\"black\" d=\"M185.01,-56.81C194.49,-55.08 203.66,-53.41 211.9,-51.9\"/>\n<polygon fill=\"black\" stroke=\"black\" points=\"212.6,-55.33 221.81,-50.09 211.35,-48.45 212.6,-55.33\"/>\n</g>\n<!-- 140235179963344 -->\n<g id=\"node2\" class=\"node\">\n<title>140235179963344</title>\n<polygon fill=\"none\" stroke=\"black\" points=\"0,-0.5 0,-36.5 185,-36.5 185,-0.5 0,-0.5\"/>\n<text text-anchor=\"middle\" x=\"11.5\" y=\"-14.8\" font-family=\"Times,serif\" font-size=\"14.00\">a</text>\n<polyline fill=\"none\" stroke=\"black\" points=\"23,-0.5 23,-36.5 \"/>\n<text text-anchor=\"middle\" x=\"63\" y=\"-14.8\" font-family=\"Times,serif\" font-size=\"14.00\">data 3.0000</text>\n<polyline fill=\"none\" stroke=\"black\" points=\"103,-0.5 103,-36.5 \"/>\n<text text-anchor=\"middle\" x=\"144\" y=\"-14.8\" font-family=\"Times,serif\" font-size=\"14.00\">grad 2.0000</text>\n</g>\n<!-- 140235179963344&#45;&gt;140235179963632* -->\n<g id=\"edge2\" class=\"edge\">\n<title>140235179963344&#45;&gt;140235179963632*</title>\n<path fill=\"none\" stroke=\"black\" d=\"M185.01,-34.6C194.49,-36.26 203.66,-37.88 211.9,-39.33\"/>\n<polygon fill=\"black\" stroke=\"black\" points=\"211.36,-42.78 221.81,-41.07 212.57,-35.89 211.36,-42.78\"/>\n</g>\n<!-- 140235179963632 -->\n<g id=\"node3\" class=\"node\">\n<title>140235179963632</title>\n<polygon fill=\"none\" stroke=\"black\" points=\"311,-27.5 311,-63.5 496,-63.5 496,-27.5 311,-27.5\"/>\n<text text-anchor=\"middle\" x=\"322.5\" y=\"-41.8\" font-family=\"Times,serif\" font-size=\"14.00\">b</text>\n<polyline fill=\"none\" stroke=\"black\" points=\"334,-27.5 334,-63.5 \"/>\n<text text-anchor=\"middle\" x=\"374\" y=\"-41.8\" font-family=\"Times,serif\" font-size=\"14.00\">data 6.0000</text>\n<polyline fill=\"none\" stroke=\"black\" points=\"414,-27.5 414,-63.5 \"/>\n<text text-anchor=\"middle\" x=\"455\" y=\"-41.8\" font-family=\"Times,serif\" font-size=\"14.00\">grad 1.0000</text>\n</g>\n<!-- 140235179963632*&#45;&gt;140235179963632 -->\n<g id=\"edge1\" class=\"edge\">\n<title>140235179963632*&#45;&gt;140235179963632</title>\n<path fill=\"none\" stroke=\"black\" d=\"M275.04,-45.5C282.58,-45.5 291.3,-45.5 300.57,-45.5\"/>\n<polygon fill=\"black\" stroke=\"black\" points=\"300.81,-49 310.81,-45.5 300.81,-42 300.81,-49\"/>\n</g>\n</g>\n</svg>\n"
          },
          "metadata": {},
          "execution_count": 43
        }
      ]
    },
    {
      "cell_type": "code",
      "source": [
        "def test2():\n",
        "  a = Value(-2.0, label='a')\n",
        "  b = Value(3.0, label='b')\n",
        "  d = a * b; d.label = 'd'\n",
        "  e = a + b; e.label = 'e'\n",
        "  f = d * e; f.label = 'f'\n",
        "\n",
        "  f.backward()\n",
        "  return f\n",
        "\n",
        "draw_dot(test2())"
      ],
      "metadata": {
        "colab": {
          "base_uri": "https://localhost:8080/",
          "height": 154
        },
        "id": "_tvKYqIgQXsB",
        "outputId": "92dbc88f-4f3d-4bde-9a66-ced6f46c4e08"
      },
      "execution_count": 44,
      "outputs": [
        {
          "output_type": "execute_result",
          "data": {
            "text/plain": [
              "<graphviz.dot.Digraph at 0x7f8b0c168eb0>"
            ],
            "image/svg+xml": "<?xml version=\"1.0\" encoding=\"UTF-8\" standalone=\"no\"?>\n<!DOCTYPE svg PUBLIC \"-//W3C//DTD SVG 1.1//EN\"\n \"http://www.w3.org/Graphics/SVG/1.1/DTD/svg11.dtd\">\n<!-- Generated by graphviz version 2.43.0 (0)\n -->\n<!-- Title: %3 Pages: 1 -->\n<svg width=\"832pt\" height=\"100pt\"\n viewBox=\"0.00 0.00 832.00 100.00\" xmlns=\"http://www.w3.org/2000/svg\" xmlns:xlink=\"http://www.w3.org/1999/xlink\">\n<g id=\"graph0\" class=\"graph\" transform=\"scale(1 1) rotate(0) translate(4 96)\">\n<title>%3</title>\n<polygon fill=\"white\" stroke=\"transparent\" points=\"-4,4 -4,-96 828,-96 828,4 -4,4\"/>\n<!-- 140235179986032 -->\n<g id=\"node1\" class=\"node\">\n<title>140235179986032</title>\n<polygon fill=\"none\" stroke=\"black\" points=\"320.5,-55.5 320.5,-91.5 509.5,-91.5 509.5,-55.5 320.5,-55.5\"/>\n<text text-anchor=\"middle\" x=\"332\" y=\"-69.8\" font-family=\"Times,serif\" font-size=\"14.00\">e</text>\n<polyline fill=\"none\" stroke=\"black\" points=\"343.5,-55.5 343.5,-91.5 \"/>\n<text text-anchor=\"middle\" x=\"383.5\" y=\"-69.8\" font-family=\"Times,serif\" font-size=\"14.00\">data 1.0000</text>\n<polyline fill=\"none\" stroke=\"black\" points=\"423.5,-55.5 423.5,-91.5 \"/>\n<text text-anchor=\"middle\" x=\"466.5\" y=\"-69.8\" font-family=\"Times,serif\" font-size=\"14.00\">grad &#45;6.0000</text>\n</g>\n<!-- 140235179983584* -->\n<g id=\"node6\" class=\"node\">\n<title>140235179983584*</title>\n<ellipse fill=\"none\" stroke=\"black\" cx=\"573\" cy=\"-45.5\" rx=\"27\" ry=\"18\"/>\n<text text-anchor=\"middle\" x=\"573\" y=\"-41.8\" font-family=\"Times,serif\" font-size=\"14.00\">*</text>\n</g>\n<!-- 140235179986032&#45;&gt;140235179983584* -->\n<g id=\"edge4\" class=\"edge\">\n<title>140235179986032&#45;&gt;140235179983584*</title>\n<path fill=\"none\" stroke=\"black\" d=\"M509.9,-56.65C519.42,-54.94 528.62,-53.29 536.89,-51.8\"/>\n<polygon fill=\"black\" stroke=\"black\" points=\"537.59,-55.23 546.81,-50.02 536.35,-48.34 537.59,-55.23\"/>\n</g>\n<!-- 140235179986032+ -->\n<g id=\"node2\" class=\"node\">\n<title>140235179986032+</title>\n<ellipse fill=\"none\" stroke=\"black\" cx=\"257\" cy=\"-73.5\" rx=\"27\" ry=\"18\"/>\n<text text-anchor=\"middle\" x=\"257\" y=\"-69.8\" font-family=\"Times,serif\" font-size=\"14.00\">+</text>\n</g>\n<!-- 140235179986032+&#45;&gt;140235179986032 -->\n<g id=\"edge1\" class=\"edge\">\n<title>140235179986032+&#45;&gt;140235179986032</title>\n<path fill=\"none\" stroke=\"black\" d=\"M284.11,-73.5C291.84,-73.5 300.8,-73.5 310.35,-73.5\"/>\n<polygon fill=\"black\" stroke=\"black\" points=\"310.48,-77 320.48,-73.5 310.48,-70 310.48,-77\"/>\n</g>\n<!-- 140235179983536 -->\n<g id=\"node3\" class=\"node\">\n<title>140235179983536</title>\n<polygon fill=\"none\" stroke=\"black\" points=\"320,-0.5 320,-36.5 510,-36.5 510,-0.5 320,-0.5\"/>\n<text text-anchor=\"middle\" x=\"331.5\" y=\"-14.8\" font-family=\"Times,serif\" font-size=\"14.00\">d</text>\n<polyline fill=\"none\" stroke=\"black\" points=\"343,-0.5 343,-36.5 \"/>\n<text text-anchor=\"middle\" x=\"385.5\" y=\"-14.8\" font-family=\"Times,serif\" font-size=\"14.00\">data &#45;6.0000</text>\n<polyline fill=\"none\" stroke=\"black\" points=\"428,-0.5 428,-36.5 \"/>\n<text text-anchor=\"middle\" x=\"469\" y=\"-14.8\" font-family=\"Times,serif\" font-size=\"14.00\">grad 1.0000</text>\n</g>\n<!-- 140235179983536&#45;&gt;140235179983584* -->\n<g id=\"edge9\" class=\"edge\">\n<title>140235179983536&#45;&gt;140235179983584*</title>\n<path fill=\"none\" stroke=\"black\" d=\"M510.34,-34.83C519.62,-36.44 528.58,-37.99 536.66,-39.38\"/>\n<polygon fill=\"black\" stroke=\"black\" points=\"536.27,-42.87 546.72,-41.12 537.46,-35.97 536.27,-42.87\"/>\n</g>\n<!-- 140235179983536* -->\n<g id=\"node4\" class=\"node\">\n<title>140235179983536*</title>\n<ellipse fill=\"none\" stroke=\"black\" cx=\"257\" cy=\"-18.5\" rx=\"27\" ry=\"18\"/>\n<text text-anchor=\"middle\" x=\"257\" y=\"-14.8\" font-family=\"Times,serif\" font-size=\"14.00\">*</text>\n</g>\n<!-- 140235179983536*&#45;&gt;140235179983536 -->\n<g id=\"edge2\" class=\"edge\">\n<title>140235179983536*&#45;&gt;140235179983536</title>\n<path fill=\"none\" stroke=\"black\" d=\"M284.11,-18.5C291.63,-18.5 300.32,-18.5 309.58,-18.5\"/>\n<polygon fill=\"black\" stroke=\"black\" points=\"309.81,-22 319.81,-18.5 309.81,-15 309.81,-22\"/>\n</g>\n<!-- 140235179983584 -->\n<g id=\"node5\" class=\"node\">\n<title>140235179983584</title>\n<polygon fill=\"none\" stroke=\"black\" points=\"636,-27.5 636,-63.5 824,-63.5 824,-27.5 636,-27.5\"/>\n<text text-anchor=\"middle\" x=\"646.5\" y=\"-41.8\" font-family=\"Times,serif\" font-size=\"14.00\">f</text>\n<polyline fill=\"none\" stroke=\"black\" points=\"657,-27.5 657,-63.5 \"/>\n<text text-anchor=\"middle\" x=\"699.5\" y=\"-41.8\" font-family=\"Times,serif\" font-size=\"14.00\">data &#45;6.0000</text>\n<polyline fill=\"none\" stroke=\"black\" points=\"742,-27.5 742,-63.5 \"/>\n<text text-anchor=\"middle\" x=\"783\" y=\"-41.8\" font-family=\"Times,serif\" font-size=\"14.00\">grad 1.0000</text>\n</g>\n<!-- 140235179983584*&#45;&gt;140235179983584 -->\n<g id=\"edge3\" class=\"edge\">\n<title>140235179983584*&#45;&gt;140235179983584</title>\n<path fill=\"none\" stroke=\"black\" d=\"M600.29,-45.5C607.78,-45.5 616.42,-45.5 625.6,-45.5\"/>\n<polygon fill=\"black\" stroke=\"black\" points=\"625.76,-49 635.76,-45.5 625.76,-42 625.76,-49\"/>\n</g>\n<!-- 140235179983104 -->\n<g id=\"node7\" class=\"node\">\n<title>140235179983104</title>\n<polygon fill=\"none\" stroke=\"black\" points=\"0,-55.5 0,-91.5 194,-91.5 194,-55.5 0,-55.5\"/>\n<text text-anchor=\"middle\" x=\"11.5\" y=\"-69.8\" font-family=\"Times,serif\" font-size=\"14.00\">a</text>\n<polyline fill=\"none\" stroke=\"black\" points=\"23,-55.5 23,-91.5 \"/>\n<text text-anchor=\"middle\" x=\"65.5\" y=\"-69.8\" font-family=\"Times,serif\" font-size=\"14.00\">data &#45;2.0000</text>\n<polyline fill=\"none\" stroke=\"black\" points=\"108,-55.5 108,-91.5 \"/>\n<text text-anchor=\"middle\" x=\"151\" y=\"-69.8\" font-family=\"Times,serif\" font-size=\"14.00\">grad &#45;3.0000</text>\n</g>\n<!-- 140235179983104&#45;&gt;140235179986032+ -->\n<g id=\"edge5\" class=\"edge\">\n<title>140235179983104&#45;&gt;140235179986032+</title>\n<path fill=\"none\" stroke=\"black\" d=\"M194.01,-73.5C202.98,-73.5 211.65,-73.5 219.51,-73.5\"/>\n<polygon fill=\"black\" stroke=\"black\" points=\"219.7,-77 229.7,-73.5 219.7,-70 219.7,-77\"/>\n</g>\n<!-- 140235179983104&#45;&gt;140235179983536* -->\n<g id=\"edge8\" class=\"edge\">\n<title>140235179983104&#45;&gt;140235179983536*</title>\n<path fill=\"none\" stroke=\"black\" d=\"M166.84,-55.49C176.04,-52.69 185.3,-49.67 194,-46.5 204.51,-42.67 215.73,-37.84 225.7,-33.28\"/>\n<polygon fill=\"black\" stroke=\"black\" points=\"227.23,-36.43 234.81,-29.02 224.27,-30.09 227.23,-36.43\"/>\n</g>\n<!-- 140235179985888 -->\n<g id=\"node8\" class=\"node\">\n<title>140235179985888</title>\n<polygon fill=\"none\" stroke=\"black\" points=\"2.5,-0.5 2.5,-36.5 191.5,-36.5 191.5,-0.5 2.5,-0.5\"/>\n<text text-anchor=\"middle\" x=\"14\" y=\"-14.8\" font-family=\"Times,serif\" font-size=\"14.00\">b</text>\n<polyline fill=\"none\" stroke=\"black\" points=\"25.5,-0.5 25.5,-36.5 \"/>\n<text text-anchor=\"middle\" x=\"65.5\" y=\"-14.8\" font-family=\"Times,serif\" font-size=\"14.00\">data 3.0000</text>\n<polyline fill=\"none\" stroke=\"black\" points=\"105.5,-0.5 105.5,-36.5 \"/>\n<text text-anchor=\"middle\" x=\"148.5\" y=\"-14.8\" font-family=\"Times,serif\" font-size=\"14.00\">grad &#45;8.0000</text>\n</g>\n<!-- 140235179985888&#45;&gt;140235179986032+ -->\n<g id=\"edge6\" class=\"edge\">\n<title>140235179985888&#45;&gt;140235179986032+</title>\n<path fill=\"none\" stroke=\"black\" d=\"M163.94,-36.53C174.08,-39.65 184.37,-43.01 194,-46.5 204.27,-50.22 215.26,-54.8 225.09,-59.12\"/>\n<polygon fill=\"black\" stroke=\"black\" points=\"223.91,-62.43 234.47,-63.32 226.77,-56.04 223.91,-62.43\"/>\n</g>\n<!-- 140235179985888&#45;&gt;140235179983536* -->\n<g id=\"edge7\" class=\"edge\">\n<title>140235179985888&#45;&gt;140235179983536*</title>\n<path fill=\"none\" stroke=\"black\" d=\"M191.74,-18.5C201.55,-18.5 211.04,-18.5 219.59,-18.5\"/>\n<polygon fill=\"black\" stroke=\"black\" points=\"219.87,-22 229.87,-18.5 219.87,-15 219.87,-22\"/>\n</g>\n</g>\n</svg>\n"
          },
          "metadata": {},
          "execution_count": 44
        }
      ]
    },
    {
      "cell_type": "code",
      "source": [
        "def test3():\n",
        "  a = Value(-2.0, label='a')\n",
        "  b = Value(3.0, label='b')\n",
        "  c = Value(10.0, label='c')\n",
        "  d = a * b + a; d.label = 'd'\n",
        "  e = a + b * c; e.label = 'e'\n",
        "  f = d * e * c * c; f.label = 'f'\n",
        "\n",
        "  f.backward()\n",
        "  return f\n",
        "\n",
        "draw_dot(test3())"
      ],
      "metadata": {
        "colab": {
          "base_uri": "https://localhost:8080/",
          "height": 360
        },
        "id": "NvRamCrVCCVW",
        "outputId": "84d27e5f-a7a2-4712-f8ec-e70ef97f3815"
      },
      "execution_count": 45,
      "outputs": [
        {
          "output_type": "execute_result",
          "data": {
            "text/plain": [
              "<graphviz.dot.Digraph at 0x7f8b0c122c70>"
            ],
            "image/svg+xml": "<?xml version=\"1.0\" encoding=\"UTF-8\" standalone=\"no\"?>\n<!DOCTYPE svg PUBLIC \"-//W3C//DTD SVG 1.1//EN\"\n \"http://www.w3.org/Graphics/SVG/1.1/DTD/svg11.dtd\">\n<!-- Generated by graphviz version 2.43.0 (0)\n -->\n<!-- Title: %3 Pages: 1 -->\n<svg width=\"1914pt\" height=\"239pt\"\n viewBox=\"0.00 0.00 1914.00 238.93\" xmlns=\"http://www.w3.org/2000/svg\" xmlns:xlink=\"http://www.w3.org/1999/xlink\">\n<g id=\"graph0\" class=\"graph\" transform=\"scale(1 1) rotate(0) translate(4 234.93)\">\n<title>%3</title>\n<polygon fill=\"white\" stroke=\"transparent\" points=\"-4,4 -4,-234.93 1910,-234.93 1910,4 -4,4\"/>\n<!-- 140235179698688 -->\n<g id=\"node1\" class=\"node\">\n<title>140235179698688</title>\n<polygon fill=\"none\" stroke=\"black\" points=\"1012,-67 1012,-103 1225,-103 1225,-67 1012,-67\"/>\n<text text-anchor=\"middle\" x=\"1022\" y=\"-81.3\" font-family=\"Times,serif\" font-size=\"14.00\"> </text>\n<polyline fill=\"none\" stroke=\"black\" points=\"1032,-67 1032,-103 \"/>\n<text text-anchor=\"middle\" x=\"1081\" y=\"-81.3\" font-family=\"Times,serif\" font-size=\"14.00\">data &#45;224.0000</text>\n<polyline fill=\"none\" stroke=\"black\" points=\"1130,-67 1130,-103 \"/>\n<text text-anchor=\"middle\" x=\"1177.5\" y=\"-81.3\" font-family=\"Times,serif\" font-size=\"14.00\">grad 100.0000</text>\n</g>\n<!-- 140235179698928* -->\n<g id=\"node8\" class=\"node\">\n<title>140235179698928*</title>\n<ellipse fill=\"none\" stroke=\"black\" cx=\"1288\" cy=\"-47\" rx=\"27\" ry=\"18\"/>\n<text text-anchor=\"middle\" x=\"1288\" y=\"-43.3\" font-family=\"Times,serif\" font-size=\"14.00\">*</text>\n</g>\n<!-- 140235179698688&#45;&gt;140235179698928* -->\n<g id=\"edge16\" class=\"edge\">\n<title>140235179698688&#45;&gt;140235179698928*</title>\n<path fill=\"none\" stroke=\"black\" d=\"M1199.33,-66.89C1217.81,-62.7 1236.55,-58.45 1251.93,-54.96\"/>\n<polygon fill=\"black\" stroke=\"black\" points=\"1253.02,-58.3 1262,-52.67 1251.48,-51.47 1253.02,-58.3\"/>\n</g>\n<!-- 140235179698688* -->\n<g id=\"node2\" class=\"node\">\n<title>140235179698688*</title>\n<ellipse fill=\"none\" stroke=\"black\" cx=\"949\" cy=\"-85\" rx=\"27\" ry=\"18\"/>\n<text text-anchor=\"middle\" x=\"949\" y=\"-81.3\" font-family=\"Times,serif\" font-size=\"14.00\">*</text>\n</g>\n<!-- 140235179698688*&#45;&gt;140235179698688 -->\n<g id=\"edge1\" class=\"edge\">\n<title>140235179698688*&#45;&gt;140235179698688</title>\n<path fill=\"none\" stroke=\"black\" d=\"M976.17,-85C983.6,-85 992.21,-85 1001.43,-85\"/>\n<polygon fill=\"black\" stroke=\"black\" points=\"1001.66,-88.5 1011.66,-85 1001.66,-81.5 1001.66,-88.5\"/>\n</g>\n<!-- 140235179697680 -->\n<g id=\"node3\" class=\"node\">\n<title>140235179697680</title>\n<polygon fill=\"none\" stroke=\"black\" points=\"0.5,-95 0.5,-131 216.5,-131 216.5,-95 0.5,-95\"/>\n<text text-anchor=\"middle\" x=\"12\" y=\"-109.3\" font-family=\"Times,serif\" font-size=\"14.00\">b</text>\n<polyline fill=\"none\" stroke=\"black\" points=\"23.5,-95 23.5,-131 \"/>\n<text text-anchor=\"middle\" x=\"63.5\" y=\"-109.3\" font-family=\"Times,serif\" font-size=\"14.00\">data 3.0000</text>\n<polyline fill=\"none\" stroke=\"black\" points=\"103.5,-95 103.5,-131 \"/>\n<text text-anchor=\"middle\" x=\"160\" y=\"-109.3\" font-family=\"Times,serif\" font-size=\"14.00\">grad &#45;13600.0000</text>\n</g>\n<!-- 140235179697824* -->\n<g id=\"node5\" class=\"node\">\n<title>140235179697824*</title>\n<ellipse fill=\"none\" stroke=\"black\" cx=\"280\" cy=\"-140\" rx=\"27\" ry=\"18\"/>\n<text text-anchor=\"middle\" x=\"280\" y=\"-136.3\" font-family=\"Times,serif\" font-size=\"14.00\">*</text>\n</g>\n<!-- 140235179697680&#45;&gt;140235179697824* -->\n<g id=\"edge11\" class=\"edge\">\n<title>140235179697680&#45;&gt;140235179697824*</title>\n<path fill=\"none\" stroke=\"black\" d=\"M216.85,-130.1C226.26,-131.6 235.27,-133.03 243.36,-134.32\"/>\n<polygon fill=\"black\" stroke=\"black\" points=\"243.01,-137.81 253.44,-135.93 244.11,-130.9 243.01,-137.81\"/>\n</g>\n<!-- 140235179698160* -->\n<g id=\"node17\" class=\"node\">\n<title>140235179698160*</title>\n<ellipse fill=\"none\" stroke=\"black\" cx=\"280\" cy=\"-85\" rx=\"27\" ry=\"18\"/>\n<text text-anchor=\"middle\" x=\"280\" y=\"-81.3\" font-family=\"Times,serif\" font-size=\"14.00\">*</text>\n</g>\n<!-- 140235179697680&#45;&gt;140235179698160* -->\n<g id=\"edge17\" class=\"edge\">\n<title>140235179697680&#45;&gt;140235179698160*</title>\n<path fill=\"none\" stroke=\"black\" d=\"M216.85,-95.27C226.26,-93.71 235.27,-92.22 243.36,-90.89\"/>\n<polygon fill=\"black\" stroke=\"black\" points=\"244.14,-94.31 253.44,-89.22 243,-87.4 244.14,-94.31\"/>\n</g>\n<!-- 140235179697824 -->\n<g id=\"node4\" class=\"node\">\n<title>140235179697824</title>\n<polygon fill=\"none\" stroke=\"black\" points=\"343,-122 343,-158 550,-158 550,-122 343,-122\"/>\n<text text-anchor=\"middle\" x=\"353\" y=\"-136.3\" font-family=\"Times,serif\" font-size=\"14.00\"> </text>\n<polyline fill=\"none\" stroke=\"black\" points=\"363,-122 363,-158 \"/>\n<text text-anchor=\"middle\" x=\"405.5\" y=\"-136.3\" font-family=\"Times,serif\" font-size=\"14.00\">data &#45;6.0000</text>\n<polyline fill=\"none\" stroke=\"black\" points=\"448,-122 448,-158 \"/>\n<text text-anchor=\"middle\" x=\"499\" y=\"-136.3\" font-family=\"Times,serif\" font-size=\"14.00\">grad 2800.0000</text>\n</g>\n<!-- 140235179698016+ -->\n<g id=\"node13\" class=\"node\">\n<title>140235179698016+</title>\n<ellipse fill=\"none\" stroke=\"black\" cx=\"613\" cy=\"-140\" rx=\"27\" ry=\"18\"/>\n<text text-anchor=\"middle\" x=\"613\" y=\"-136.3\" font-family=\"Times,serif\" font-size=\"14.00\">+</text>\n</g>\n<!-- 140235179697824&#45;&gt;140235179698016+ -->\n<g id=\"edge14\" class=\"edge\">\n<title>140235179697824&#45;&gt;140235179698016+</title>\n<path fill=\"none\" stroke=\"black\" d=\"M550.28,-140C559.3,-140 567.96,-140 575.81,-140\"/>\n<polygon fill=\"black\" stroke=\"black\" points=\"575.95,-143.5 585.95,-140 575.95,-136.5 575.95,-143.5\"/>\n</g>\n<!-- 140235179697824*&#45;&gt;140235179697824 -->\n<g id=\"edge2\" class=\"edge\">\n<title>140235179697824*&#45;&gt;140235179697824</title>\n<path fill=\"none\" stroke=\"black\" d=\"M307.07,-140C314.66,-140 323.49,-140 332.93,-140\"/>\n<polygon fill=\"black\" stroke=\"black\" points=\"332.97,-143.5 342.97,-140 332.97,-136.5 332.97,-143.5\"/>\n</g>\n<!-- 140235179697344 -->\n<g id=\"node6\" class=\"node\">\n<title>140235179697344</title>\n<polygon fill=\"none\" stroke=\"black\" points=\"0,-169 0,-205 217,-205 217,-169 0,-169\"/>\n<text text-anchor=\"middle\" x=\"11.5\" y=\"-183.3\" font-family=\"Times,serif\" font-size=\"14.00\">a</text>\n<polyline fill=\"none\" stroke=\"black\" points=\"23,-169 23,-205 \"/>\n<text text-anchor=\"middle\" x=\"65.5\" y=\"-183.3\" font-family=\"Times,serif\" font-size=\"14.00\">data &#45;2.0000</text>\n<polyline fill=\"none\" stroke=\"black\" points=\"108,-169 108,-205 \"/>\n<text text-anchor=\"middle\" x=\"162.5\" y=\"-183.3\" font-family=\"Times,serif\" font-size=\"14.00\">grad 10400.0000</text>\n</g>\n<!-- 140235179697344&#45;&gt;140235179697824* -->\n<g id=\"edge12\" class=\"edge\">\n<title>140235179697344&#45;&gt;140235179697824*</title>\n<path fill=\"none\" stroke=\"black\" d=\"M174.55,-168.96C198.51,-162.32 224.69,-155.06 244.85,-149.47\"/>\n<polygon fill=\"black\" stroke=\"black\" points=\"245.81,-152.84 254.51,-146.79 243.94,-146.09 245.81,-152.84\"/>\n</g>\n<!-- 140235179698448+ -->\n<g id=\"node11\" class=\"node\">\n<title>140235179698448+</title>\n<ellipse fill=\"none\" stroke=\"black\" cx=\"613\" cy=\"-85\" rx=\"27\" ry=\"18\"/>\n<text text-anchor=\"middle\" x=\"613\" y=\"-81.3\" font-family=\"Times,serif\" font-size=\"14.00\">+</text>\n</g>\n<!-- 140235179697344&#45;&gt;140235179698448+ -->\n<g id=\"edge8\" class=\"edge\">\n<title>140235179697344&#45;&gt;140235179698448+</title>\n<path fill=\"none\" stroke=\"black\" d=\"M217.08,-193.03C328.92,-197.39 495.17,-197.96 550,-167 575.12,-152.82 568.13,-135.64 586,-113 587.4,-111.22 588.89,-109.42 590.42,-107.64\"/>\n<polygon fill=\"black\" stroke=\"black\" points=\"593.18,-109.8 597.24,-100.01 587.96,-105.14 593.18,-109.8\"/>\n</g>\n<!-- 140235179697344&#45;&gt;140235179698016+ -->\n<g id=\"edge15\" class=\"edge\">\n<title>140235179697344&#45;&gt;140235179698016+</title>\n<path fill=\"none\" stroke=\"black\" d=\"M174.4,-205.02C262.99,-226.13 425.02,-252.17 550,-201 568.17,-193.56 583.87,-177.94 594.93,-164.37\"/>\n<polygon fill=\"black\" stroke=\"black\" points=\"597.84,-166.33 601.2,-156.28 592.31,-162.05 597.84,-166.33\"/>\n</g>\n<!-- 140235179698928 -->\n<g id=\"node7\" class=\"node\">\n<title>140235179698928</title>\n<polygon fill=\"none\" stroke=\"black\" points=\"1351,-29 1351,-65 1565,-65 1565,-29 1351,-29\"/>\n<text text-anchor=\"middle\" x=\"1361\" y=\"-43.3\" font-family=\"Times,serif\" font-size=\"14.00\"> </text>\n<polyline fill=\"none\" stroke=\"black\" points=\"1371,-29 1371,-65 \"/>\n<text text-anchor=\"middle\" x=\"1423.5\" y=\"-43.3\" font-family=\"Times,serif\" font-size=\"14.00\">data &#45;2240.0000</text>\n<polyline fill=\"none\" stroke=\"black\" points=\"1476,-29 1476,-65 \"/>\n<text text-anchor=\"middle\" x=\"1520.5\" y=\"-43.3\" font-family=\"Times,serif\" font-size=\"14.00\">grad 10.0000</text>\n</g>\n<!-- 140235179699120* -->\n<g id=\"node15\" class=\"node\">\n<title>140235179699120*</title>\n<ellipse fill=\"none\" stroke=\"black\" cx=\"1628\" cy=\"-23\" rx=\"27\" ry=\"18\"/>\n<text text-anchor=\"middle\" x=\"1628\" y=\"-19.3\" font-family=\"Times,serif\" font-size=\"14.00\">*</text>\n</g>\n<!-- 140235179698928&#45;&gt;140235179699120* -->\n<g id=\"edge21\" class=\"edge\">\n<title>140235179698928&#45;&gt;140235179699120*</title>\n<path fill=\"none\" stroke=\"black\" d=\"M1565.4,-31.8C1574.63,-30.48 1583.48,-29.22 1591.44,-28.08\"/>\n<polygon fill=\"black\" stroke=\"black\" points=\"1591.96,-31.54 1601.36,-26.66 1590.97,-24.61 1591.96,-31.54\"/>\n</g>\n<!-- 140235179698928*&#45;&gt;140235179698928 -->\n<g id=\"edge3\" class=\"edge\">\n<title>140235179698928*&#45;&gt;140235179698928</title>\n<path fill=\"none\" stroke=\"black\" d=\"M1315.25,-47C1322.7,-47 1331.34,-47 1340.59,-47\"/>\n<polygon fill=\"black\" stroke=\"black\" points=\"1340.84,-50.5 1350.84,-47 1340.84,-43.5 1340.84,-50.5\"/>\n</g>\n<!-- 140235179697392 -->\n<g id=\"node9\" class=\"node\">\n<title>140235179697392</title>\n<polygon fill=\"none\" stroke=\"black\" points=\"0,-20 0,-56 217,-56 217,-20 0,-20\"/>\n<text text-anchor=\"middle\" x=\"11.5\" y=\"-34.3\" font-family=\"Times,serif\" font-size=\"14.00\">c</text>\n<polyline fill=\"none\" stroke=\"black\" points=\"23,-20 23,-56 \"/>\n<text text-anchor=\"middle\" x=\"66.5\" y=\"-34.3\" font-family=\"Times,serif\" font-size=\"14.00\">data 10.0000</text>\n<polyline fill=\"none\" stroke=\"black\" points=\"110,-20 110,-56 \"/>\n<text text-anchor=\"middle\" x=\"163.5\" y=\"-34.3\" font-family=\"Times,serif\" font-size=\"14.00\">grad &#45;6880.0000</text>\n</g>\n<!-- 140235179697392&#45;&gt;140235179698928* -->\n<g id=\"edge9\" class=\"edge\">\n<title>140235179697392&#45;&gt;140235179698928*</title>\n<path fill=\"none\" stroke=\"black\" d=\"M217.32,-38C283.22,-38 369.23,-38 445.5,-38 445.5,-38 445.5,-38 950,-38 1059.55,-38 1189.05,-42.81 1250.77,-45.4\"/>\n<polygon fill=\"black\" stroke=\"black\" points=\"1250.65,-48.9 1260.79,-45.82 1250.95,-41.9 1250.65,-48.9\"/>\n</g>\n<!-- 140235179697392&#45;&gt;140235179699120* -->\n<g id=\"edge10\" class=\"edge\">\n<title>140235179697392&#45;&gt;140235179699120*</title>\n<path fill=\"none\" stroke=\"black\" d=\"M214.71,-19.95C280.77,-10.14 367.86,0 445.5,0 445.5,0 445.5,0 1289,0 1399.37,0 1529.54,-12.36 1591.18,-18.96\"/>\n<polygon fill=\"black\" stroke=\"black\" points=\"1590.86,-22.44 1601.17,-20.04 1591.61,-15.48 1590.86,-22.44\"/>\n</g>\n<!-- 140235179697392&#45;&gt;140235179698160* -->\n<g id=\"edge20\" class=\"edge\">\n<title>140235179697392&#45;&gt;140235179698160*</title>\n<path fill=\"none\" stroke=\"black\" d=\"M174.55,-56.04C198.51,-62.68 224.69,-69.94 244.85,-75.53\"/>\n<polygon fill=\"black\" stroke=\"black\" points=\"243.94,-78.91 254.51,-78.21 245.81,-72.16 243.94,-78.91\"/>\n</g>\n<!-- 140235179698448 -->\n<g id=\"node10\" class=\"node\">\n<title>140235179698448</title>\n<polygon fill=\"none\" stroke=\"black\" points=\"676,-67 676,-103 886,-103 886,-67 676,-67\"/>\n<text text-anchor=\"middle\" x=\"687.5\" y=\"-81.3\" font-family=\"Times,serif\" font-size=\"14.00\">e</text>\n<polyline fill=\"none\" stroke=\"black\" points=\"699,-67 699,-103 \"/>\n<text text-anchor=\"middle\" x=\"742.5\" y=\"-81.3\" font-family=\"Times,serif\" font-size=\"14.00\">data 28.0000</text>\n<polyline fill=\"none\" stroke=\"black\" points=\"786,-67 786,-103 \"/>\n<text text-anchor=\"middle\" x=\"836\" y=\"-81.3\" font-family=\"Times,serif\" font-size=\"14.00\">grad &#45;800.0000</text>\n</g>\n<!-- 140235179698448&#45;&gt;140235179698688* -->\n<g id=\"edge18\" class=\"edge\">\n<title>140235179698448&#45;&gt;140235179698688*</title>\n<path fill=\"none\" stroke=\"black\" d=\"M886.19,-85C895.23,-85 903.92,-85 911.78,-85\"/>\n<polygon fill=\"black\" stroke=\"black\" points=\"911.93,-88.5 921.93,-85 911.93,-81.5 911.93,-88.5\"/>\n</g>\n<!-- 140235179698448+&#45;&gt;140235179698448 -->\n<g id=\"edge4\" class=\"edge\">\n<title>140235179698448+&#45;&gt;140235179698448</title>\n<path fill=\"none\" stroke=\"black\" d=\"M640.3,-85C647.76,-85 656.38,-85 665.6,-85\"/>\n<polygon fill=\"black\" stroke=\"black\" points=\"665.83,-88.5 675.83,-85 665.83,-81.5 665.83,-88.5\"/>\n</g>\n<!-- 140235179698016 -->\n<g id=\"node12\" class=\"node\">\n<title>140235179698016</title>\n<polygon fill=\"none\" stroke=\"black\" points=\"676,-122 676,-158 886,-158 886,-122 676,-122\"/>\n<text text-anchor=\"middle\" x=\"687.5\" y=\"-136.3\" font-family=\"Times,serif\" font-size=\"14.00\">d</text>\n<polyline fill=\"none\" stroke=\"black\" points=\"699,-122 699,-158 \"/>\n<text text-anchor=\"middle\" x=\"741.5\" y=\"-136.3\" font-family=\"Times,serif\" font-size=\"14.00\">data &#45;8.0000</text>\n<polyline fill=\"none\" stroke=\"black\" points=\"784,-122 784,-158 \"/>\n<text text-anchor=\"middle\" x=\"835\" y=\"-136.3\" font-family=\"Times,serif\" font-size=\"14.00\">grad 2800.0000</text>\n</g>\n<!-- 140235179698016&#45;&gt;140235179698688* -->\n<g id=\"edge13\" class=\"edge\">\n<title>140235179698016&#45;&gt;140235179698688*</title>\n<path fill=\"none\" stroke=\"black\" d=\"M854.59,-121.93C865.21,-118.86 875.94,-115.52 886,-112 896.3,-108.39 907.3,-103.84 917.14,-99.51\"/>\n<polygon fill=\"black\" stroke=\"black\" points=\"918.82,-102.59 926.51,-95.29 915.95,-96.21 918.82,-102.59\"/>\n</g>\n<!-- 140235179698016+&#45;&gt;140235179698016 -->\n<g id=\"edge5\" class=\"edge\">\n<title>140235179698016+&#45;&gt;140235179698016</title>\n<path fill=\"none\" stroke=\"black\" d=\"M640.3,-140C647.76,-140 656.38,-140 665.6,-140\"/>\n<polygon fill=\"black\" stroke=\"black\" points=\"665.83,-143.5 675.83,-140 665.83,-136.5 665.83,-143.5\"/>\n</g>\n<!-- 140235179699120 -->\n<g id=\"node14\" class=\"node\">\n<title>140235179699120</title>\n<polygon fill=\"none\" stroke=\"black\" points=\"1691,-5 1691,-41 1906,-41 1906,-5 1691,-5\"/>\n<text text-anchor=\"middle\" x=\"1701.5\" y=\"-19.3\" font-family=\"Times,serif\" font-size=\"14.00\">f</text>\n<polyline fill=\"none\" stroke=\"black\" points=\"1712,-5 1712,-41 \"/>\n<text text-anchor=\"middle\" x=\"1768\" y=\"-19.3\" font-family=\"Times,serif\" font-size=\"14.00\">data &#45;22400.0000</text>\n<polyline fill=\"none\" stroke=\"black\" points=\"1824,-5 1824,-41 \"/>\n<text text-anchor=\"middle\" x=\"1865\" y=\"-19.3\" font-family=\"Times,serif\" font-size=\"14.00\">grad 1.0000</text>\n</g>\n<!-- 140235179699120*&#45;&gt;140235179699120 -->\n<g id=\"edge6\" class=\"edge\">\n<title>140235179699120*&#45;&gt;140235179699120</title>\n<path fill=\"none\" stroke=\"black\" d=\"M1655.33,-23C1662.74,-23 1671.3,-23 1680.49,-23\"/>\n<polygon fill=\"black\" stroke=\"black\" points=\"1680.67,-26.5 1690.67,-23 1680.67,-19.5 1680.67,-26.5\"/>\n</g>\n<!-- 140235179698160 -->\n<g id=\"node16\" class=\"node\">\n<title>140235179698160</title>\n<polygon fill=\"none\" stroke=\"black\" points=\"343,-67 343,-103 550,-103 550,-67 343,-67\"/>\n<text text-anchor=\"middle\" x=\"353\" y=\"-81.3\" font-family=\"Times,serif\" font-size=\"14.00\"> </text>\n<polyline fill=\"none\" stroke=\"black\" points=\"363,-67 363,-103 \"/>\n<text text-anchor=\"middle\" x=\"406.5\" y=\"-81.3\" font-family=\"Times,serif\" font-size=\"14.00\">data 30.0000</text>\n<polyline fill=\"none\" stroke=\"black\" points=\"450,-67 450,-103 \"/>\n<text text-anchor=\"middle\" x=\"500\" y=\"-81.3\" font-family=\"Times,serif\" font-size=\"14.00\">grad &#45;800.0000</text>\n</g>\n<!-- 140235179698160&#45;&gt;140235179698448+ -->\n<g id=\"edge19\" class=\"edge\">\n<title>140235179698160&#45;&gt;140235179698448+</title>\n<path fill=\"none\" stroke=\"black\" d=\"M550.28,-85C559.3,-85 567.96,-85 575.81,-85\"/>\n<polygon fill=\"black\" stroke=\"black\" points=\"575.95,-88.5 585.95,-85 575.95,-81.5 575.95,-88.5\"/>\n</g>\n<!-- 140235179698160*&#45;&gt;140235179698160 -->\n<g id=\"edge7\" class=\"edge\">\n<title>140235179698160*&#45;&gt;140235179698160</title>\n<path fill=\"none\" stroke=\"black\" d=\"M307.07,-85C314.66,-85 323.49,-85 332.93,-85\"/>\n<polygon fill=\"black\" stroke=\"black\" points=\"332.97,-88.5 342.97,-85 332.97,-81.5 332.97,-88.5\"/>\n</g>\n</g>\n</svg>\n"
          },
          "metadata": {},
          "execution_count": 45
        }
      ]
    },
    {
      "cell_type": "code",
      "source": [
        "# set autograd to False/True \n",
        "draw_dot(test3())"
      ],
      "metadata": {
        "colab": {
          "base_uri": "https://localhost:8080/",
          "height": 360
        },
        "id": "T1ZOc_tnAQRZ",
        "outputId": "7e42cd68-c2f8-44dc-a675-00fbc0051ac6"
      },
      "execution_count": 46,
      "outputs": [
        {
          "output_type": "execute_result",
          "data": {
            "text/plain": [
              "<graphviz.dot.Digraph at 0x7f8b0c163190>"
            ],
            "image/svg+xml": "<?xml version=\"1.0\" encoding=\"UTF-8\" standalone=\"no\"?>\n<!DOCTYPE svg PUBLIC \"-//W3C//DTD SVG 1.1//EN\"\n \"http://www.w3.org/Graphics/SVG/1.1/DTD/svg11.dtd\">\n<!-- Generated by graphviz version 2.43.0 (0)\n -->\n<!-- Title: %3 Pages: 1 -->\n<svg width=\"1914pt\" height=\"239pt\"\n viewBox=\"0.00 0.00 1914.00 238.93\" xmlns=\"http://www.w3.org/2000/svg\" xmlns:xlink=\"http://www.w3.org/1999/xlink\">\n<g id=\"graph0\" class=\"graph\" transform=\"scale(1 1) rotate(0) translate(4 234.93)\">\n<title>%3</title>\n<polygon fill=\"white\" stroke=\"transparent\" points=\"-4,4 -4,-234.93 1910,-234.93 1910,4 -4,4\"/>\n<!-- 140235179983968 -->\n<g id=\"node1\" class=\"node\">\n<title>140235179983968</title>\n<polygon fill=\"none\" stroke=\"black\" points=\"676,-72.93 676,-108.93 886,-108.93 886,-72.93 676,-72.93\"/>\n<text text-anchor=\"middle\" x=\"687.5\" y=\"-87.23\" font-family=\"Times,serif\" font-size=\"14.00\">d</text>\n<polyline fill=\"none\" stroke=\"black\" points=\"699,-72.93 699,-108.93 \"/>\n<text text-anchor=\"middle\" x=\"741.5\" y=\"-87.23\" font-family=\"Times,serif\" font-size=\"14.00\">data &#45;8.0000</text>\n<polyline fill=\"none\" stroke=\"black\" points=\"784,-72.93 784,-108.93 \"/>\n<text text-anchor=\"middle\" x=\"835\" y=\"-87.23\" font-family=\"Times,serif\" font-size=\"14.00\">grad 2800.0000</text>\n</g>\n<!-- 140235179966368* -->\n<g id=\"node15\" class=\"node\">\n<title>140235179966368*</title>\n<ellipse fill=\"none\" stroke=\"black\" cx=\"949\" cy=\"-145.93\" rx=\"27\" ry=\"18\"/>\n<text text-anchor=\"middle\" x=\"949\" y=\"-142.23\" font-family=\"Times,serif\" font-size=\"14.00\">*</text>\n</g>\n<!-- 140235179983968&#45;&gt;140235179966368* -->\n<g id=\"edge8\" class=\"edge\">\n<title>140235179983968&#45;&gt;140235179966368*</title>\n<path fill=\"none\" stroke=\"black\" d=\"M857.72,-108.97C867.32,-111.73 876.94,-114.73 886,-117.93 896.55,-121.65 907.78,-126.45 917.75,-131.02\"/>\n<polygon fill=\"black\" stroke=\"black\" points=\"916.31,-134.21 926.85,-135.29 919.28,-127.88 916.31,-134.21\"/>\n</g>\n<!-- 140235179983968+ -->\n<g id=\"node2\" class=\"node\">\n<title>140235179983968+</title>\n<ellipse fill=\"none\" stroke=\"black\" cx=\"613\" cy=\"-90.93\" rx=\"27\" ry=\"18\"/>\n<text text-anchor=\"middle\" x=\"613\" y=\"-87.23\" font-family=\"Times,serif\" font-size=\"14.00\">+</text>\n</g>\n<!-- 140235179983968+&#45;&gt;140235179983968 -->\n<g id=\"edge1\" class=\"edge\">\n<title>140235179983968+&#45;&gt;140235179983968</title>\n<path fill=\"none\" stroke=\"black\" d=\"M640.3,-90.93C647.76,-90.93 656.38,-90.93 665.6,-90.93\"/>\n<polygon fill=\"black\" stroke=\"black\" points=\"665.83,-94.43 675.83,-90.93 665.83,-87.43 665.83,-94.43\"/>\n</g>\n<!-- 140235179963056 -->\n<g id=\"node3\" class=\"node\">\n<title>140235179963056</title>\n<polygon fill=\"none\" stroke=\"black\" points=\"1691,-188.93 1691,-224.93 1906,-224.93 1906,-188.93 1691,-188.93\"/>\n<text text-anchor=\"middle\" x=\"1701.5\" y=\"-203.23\" font-family=\"Times,serif\" font-size=\"14.00\">f</text>\n<polyline fill=\"none\" stroke=\"black\" points=\"1712,-188.93 1712,-224.93 \"/>\n<text text-anchor=\"middle\" x=\"1768\" y=\"-203.23\" font-family=\"Times,serif\" font-size=\"14.00\">data &#45;22400.0000</text>\n<polyline fill=\"none\" stroke=\"black\" points=\"1824,-188.93 1824,-224.93 \"/>\n<text text-anchor=\"middle\" x=\"1865\" y=\"-203.23\" font-family=\"Times,serif\" font-size=\"14.00\">grad 1.0000</text>\n</g>\n<!-- 140235179963056* -->\n<g id=\"node4\" class=\"node\">\n<title>140235179963056*</title>\n<ellipse fill=\"none\" stroke=\"black\" cx=\"1628\" cy=\"-206.93\" rx=\"27\" ry=\"18\"/>\n<text text-anchor=\"middle\" x=\"1628\" y=\"-203.23\" font-family=\"Times,serif\" font-size=\"14.00\">*</text>\n</g>\n<!-- 140235179963056*&#45;&gt;140235179963056 -->\n<g id=\"edge2\" class=\"edge\">\n<title>140235179963056*&#45;&gt;140235179963056</title>\n<path fill=\"none\" stroke=\"black\" d=\"M1655.33,-206.93C1662.74,-206.93 1671.3,-206.93 1680.49,-206.93\"/>\n<polygon fill=\"black\" stroke=\"black\" points=\"1680.67,-210.43 1690.67,-206.93 1680.67,-203.43 1680.67,-210.43\"/>\n</g>\n<!-- 140235179983056 -->\n<g id=\"node5\" class=\"node\">\n<title>140235179983056</title>\n<polygon fill=\"none\" stroke=\"black\" points=\"0,-174.93 0,-210.93 217,-210.93 217,-174.93 0,-174.93\"/>\n<text text-anchor=\"middle\" x=\"11.5\" y=\"-189.23\" font-family=\"Times,serif\" font-size=\"14.00\">c</text>\n<polyline fill=\"none\" stroke=\"black\" points=\"23,-174.93 23,-210.93 \"/>\n<text text-anchor=\"middle\" x=\"66.5\" y=\"-189.23\" font-family=\"Times,serif\" font-size=\"14.00\">data 10.0000</text>\n<polyline fill=\"none\" stroke=\"black\" points=\"110,-174.93 110,-210.93 \"/>\n<text text-anchor=\"middle\" x=\"163.5\" y=\"-189.23\" font-family=\"Times,serif\" font-size=\"14.00\">grad &#45;6880.0000</text>\n</g>\n<!-- 140235179983056&#45;&gt;140235179963056* -->\n<g id=\"edge11\" class=\"edge\">\n<title>140235179983056&#45;&gt;140235179963056*</title>\n<path fill=\"none\" stroke=\"black\" d=\"M214.71,-210.98C280.77,-220.79 367.86,-230.93 445.5,-230.93 445.5,-230.93 445.5,-230.93 1289,-230.93 1399.39,-230.93 1529.55,-218.03 1591.19,-211.15\"/>\n<polygon fill=\"black\" stroke=\"black\" points=\"1591.64,-214.62 1601.18,-210.02 1590.85,-207.66 1591.64,-214.62\"/>\n</g>\n<!-- 140235179965408* -->\n<g id=\"node10\" class=\"node\">\n<title>140235179965408*</title>\n<ellipse fill=\"none\" stroke=\"black\" cx=\"280\" cy=\"-145.93\" rx=\"27\" ry=\"18\"/>\n<text text-anchor=\"middle\" x=\"280\" y=\"-142.23\" font-family=\"Times,serif\" font-size=\"14.00\">*</text>\n</g>\n<!-- 140235179983056&#45;&gt;140235179965408* -->\n<g id=\"edge18\" class=\"edge\">\n<title>140235179983056&#45;&gt;140235179965408*</title>\n<path fill=\"none\" stroke=\"black\" d=\"M174.55,-174.89C198.51,-168.25 224.69,-160.99 244.85,-155.4\"/>\n<polygon fill=\"black\" stroke=\"black\" points=\"245.81,-158.76 254.51,-152.72 243.94,-152.02 245.81,-158.76\"/>\n</g>\n<!-- 140235179963872* -->\n<g id=\"node17\" class=\"node\">\n<title>140235179963872*</title>\n<ellipse fill=\"none\" stroke=\"black\" cx=\"1288\" cy=\"-183.93\" rx=\"27\" ry=\"18\"/>\n<text text-anchor=\"middle\" x=\"1288\" y=\"-180.23\" font-family=\"Times,serif\" font-size=\"14.00\">*</text>\n</g>\n<!-- 140235179983056&#45;&gt;140235179963872* -->\n<g id=\"edge17\" class=\"edge\">\n<title>140235179983056&#45;&gt;140235179963872*</title>\n<path fill=\"none\" stroke=\"black\" d=\"M217.32,-192.93C283.22,-192.93 369.23,-192.93 445.5,-192.93 445.5,-192.93 445.5,-192.93 950,-192.93 1059.55,-192.93 1189.05,-188.12 1250.77,-185.53\"/>\n<polygon fill=\"black\" stroke=\"black\" points=\"1250.95,-189.02 1260.79,-185.1 1250.65,-182.03 1250.95,-189.02\"/>\n</g>\n<!-- 140235179986704 -->\n<g id=\"node6\" class=\"node\">\n<title>140235179986704</title>\n<polygon fill=\"none\" stroke=\"black\" points=\"343,-72.93 343,-108.93 550,-108.93 550,-72.93 343,-72.93\"/>\n<text text-anchor=\"middle\" x=\"353\" y=\"-87.23\" font-family=\"Times,serif\" font-size=\"14.00\"> </text>\n<polyline fill=\"none\" stroke=\"black\" points=\"363,-72.93 363,-108.93 \"/>\n<text text-anchor=\"middle\" x=\"405.5\" y=\"-87.23\" font-family=\"Times,serif\" font-size=\"14.00\">data &#45;6.0000</text>\n<polyline fill=\"none\" stroke=\"black\" points=\"448,-72.93 448,-108.93 \"/>\n<text text-anchor=\"middle\" x=\"499\" y=\"-87.23\" font-family=\"Times,serif\" font-size=\"14.00\">grad 2800.0000</text>\n</g>\n<!-- 140235179986704&#45;&gt;140235179983968+ -->\n<g id=\"edge19\" class=\"edge\">\n<title>140235179986704&#45;&gt;140235179983968+</title>\n<path fill=\"none\" stroke=\"black\" d=\"M550.28,-90.93C559.3,-90.93 567.96,-90.93 575.81,-90.93\"/>\n<polygon fill=\"black\" stroke=\"black\" points=\"575.95,-94.43 585.95,-90.93 575.95,-87.43 575.95,-94.43\"/>\n</g>\n<!-- 140235179986704* -->\n<g id=\"node7\" class=\"node\">\n<title>140235179986704*</title>\n<ellipse fill=\"none\" stroke=\"black\" cx=\"280\" cy=\"-90.93\" rx=\"27\" ry=\"18\"/>\n<text text-anchor=\"middle\" x=\"280\" y=\"-87.23\" font-family=\"Times,serif\" font-size=\"14.00\">*</text>\n</g>\n<!-- 140235179986704*&#45;&gt;140235179986704 -->\n<g id=\"edge3\" class=\"edge\">\n<title>140235179986704*&#45;&gt;140235179986704</title>\n<path fill=\"none\" stroke=\"black\" d=\"M307.07,-90.93C314.66,-90.93 323.49,-90.93 332.93,-90.93\"/>\n<polygon fill=\"black\" stroke=\"black\" points=\"332.97,-94.43 342.97,-90.93 332.97,-87.43 332.97,-94.43\"/>\n</g>\n<!-- 140235179986752 -->\n<g id=\"node8\" class=\"node\">\n<title>140235179986752</title>\n<polygon fill=\"none\" stroke=\"black\" points=\"0,-25.93 0,-61.93 217,-61.93 217,-25.93 0,-25.93\"/>\n<text text-anchor=\"middle\" x=\"11.5\" y=\"-40.23\" font-family=\"Times,serif\" font-size=\"14.00\">a</text>\n<polyline fill=\"none\" stroke=\"black\" points=\"23,-25.93 23,-61.93 \"/>\n<text text-anchor=\"middle\" x=\"65.5\" y=\"-40.23\" font-family=\"Times,serif\" font-size=\"14.00\">data &#45;2.0000</text>\n<polyline fill=\"none\" stroke=\"black\" points=\"108,-25.93 108,-61.93 \"/>\n<text text-anchor=\"middle\" x=\"162.5\" y=\"-40.23\" font-family=\"Times,serif\" font-size=\"14.00\">grad 10400.0000</text>\n</g>\n<!-- 140235179986752&#45;&gt;140235179983968+ -->\n<g id=\"edge15\" class=\"edge\">\n<title>140235179986752&#45;&gt;140235179983968+</title>\n<path fill=\"none\" stroke=\"black\" d=\"M174.4,-25.91C262.99,-4.8 425.02,21.25 550,-29.93 568.17,-37.37 583.87,-52.98 594.93,-66.55\"/>\n<polygon fill=\"black\" stroke=\"black\" points=\"592.31,-68.88 601.2,-74.65 597.84,-64.6 592.31,-68.88\"/>\n</g>\n<!-- 140235179986752&#45;&gt;140235179986704* -->\n<g id=\"edge10\" class=\"edge\">\n<title>140235179986752&#45;&gt;140235179986704*</title>\n<path fill=\"none\" stroke=\"black\" d=\"M174.55,-61.96C198.51,-68.61 224.69,-75.87 244.85,-81.46\"/>\n<polygon fill=\"black\" stroke=\"black\" points=\"243.94,-84.84 254.51,-84.14 245.81,-78.09 243.94,-84.84\"/>\n</g>\n<!-- 140235179963776+ -->\n<g id=\"node13\" class=\"node\">\n<title>140235179963776+</title>\n<ellipse fill=\"none\" stroke=\"black\" cx=\"613\" cy=\"-145.93\" rx=\"27\" ry=\"18\"/>\n<text text-anchor=\"middle\" x=\"613\" y=\"-142.23\" font-family=\"Times,serif\" font-size=\"14.00\">+</text>\n</g>\n<!-- 140235179986752&#45;&gt;140235179963776+ -->\n<g id=\"edge21\" class=\"edge\">\n<title>140235179986752&#45;&gt;140235179963776+</title>\n<path fill=\"none\" stroke=\"black\" d=\"M217.12,-37.54C328.99,-32.83 495.27,-31.8 550,-62.93 575.39,-77.37 568,-94.92 586,-117.93 587.4,-119.71 588.88,-121.51 590.41,-123.3\"/>\n<polygon fill=\"black\" stroke=\"black\" points=\"587.94,-125.8 597.21,-130.94 593.17,-121.14 587.94,-125.8\"/>\n</g>\n<!-- 140235179965408 -->\n<g id=\"node9\" class=\"node\">\n<title>140235179965408</title>\n<polygon fill=\"none\" stroke=\"black\" points=\"343,-127.93 343,-163.93 550,-163.93 550,-127.93 343,-127.93\"/>\n<text text-anchor=\"middle\" x=\"353\" y=\"-142.23\" font-family=\"Times,serif\" font-size=\"14.00\"> </text>\n<polyline fill=\"none\" stroke=\"black\" points=\"363,-127.93 363,-163.93 \"/>\n<text text-anchor=\"middle\" x=\"406.5\" y=\"-142.23\" font-family=\"Times,serif\" font-size=\"14.00\">data 30.0000</text>\n<polyline fill=\"none\" stroke=\"black\" points=\"450,-127.93 450,-163.93 \"/>\n<text text-anchor=\"middle\" x=\"500\" y=\"-142.23\" font-family=\"Times,serif\" font-size=\"14.00\">grad &#45;800.0000</text>\n</g>\n<!-- 140235179965408&#45;&gt;140235179963776+ -->\n<g id=\"edge9\" class=\"edge\">\n<title>140235179965408&#45;&gt;140235179963776+</title>\n<path fill=\"none\" stroke=\"black\" d=\"M550.28,-145.93C559.3,-145.93 567.96,-145.93 575.81,-145.93\"/>\n<polygon fill=\"black\" stroke=\"black\" points=\"575.95,-149.43 585.95,-145.93 575.95,-142.43 575.95,-149.43\"/>\n</g>\n<!-- 140235179965408*&#45;&gt;140235179965408 -->\n<g id=\"edge4\" class=\"edge\">\n<title>140235179965408*&#45;&gt;140235179965408</title>\n<path fill=\"none\" stroke=\"black\" d=\"M307.07,-145.93C314.66,-145.93 323.49,-145.93 332.93,-145.93\"/>\n<polygon fill=\"black\" stroke=\"black\" points=\"332.97,-149.43 342.97,-145.93 332.97,-142.43 332.97,-149.43\"/>\n</g>\n<!-- 140235179986800 -->\n<g id=\"node11\" class=\"node\">\n<title>140235179986800</title>\n<polygon fill=\"none\" stroke=\"black\" points=\"0.5,-100.93 0.5,-136.93 216.5,-136.93 216.5,-100.93 0.5,-100.93\"/>\n<text text-anchor=\"middle\" x=\"12\" y=\"-115.23\" font-family=\"Times,serif\" font-size=\"14.00\">b</text>\n<polyline fill=\"none\" stroke=\"black\" points=\"23.5,-100.93 23.5,-136.93 \"/>\n<text text-anchor=\"middle\" x=\"63.5\" y=\"-115.23\" font-family=\"Times,serif\" font-size=\"14.00\">data 3.0000</text>\n<polyline fill=\"none\" stroke=\"black\" points=\"103.5,-100.93 103.5,-136.93 \"/>\n<text text-anchor=\"middle\" x=\"160\" y=\"-115.23\" font-family=\"Times,serif\" font-size=\"14.00\">grad &#45;13600.0000</text>\n</g>\n<!-- 140235179986800&#45;&gt;140235179986704* -->\n<g id=\"edge12\" class=\"edge\">\n<title>140235179986800&#45;&gt;140235179986704*</title>\n<path fill=\"none\" stroke=\"black\" d=\"M216.85,-101.19C226.26,-99.64 235.27,-98.15 243.36,-96.81\"/>\n<polygon fill=\"black\" stroke=\"black\" points=\"244.14,-100.23 253.44,-95.15 243,-93.33 244.14,-100.23\"/>\n</g>\n<!-- 140235179986800&#45;&gt;140235179965408* -->\n<g id=\"edge14\" class=\"edge\">\n<title>140235179986800&#45;&gt;140235179965408*</title>\n<path fill=\"none\" stroke=\"black\" d=\"M216.85,-136.03C226.26,-137.53 235.27,-138.96 243.36,-140.25\"/>\n<polygon fill=\"black\" stroke=\"black\" points=\"243.01,-143.74 253.44,-141.86 244.11,-136.83 243.01,-143.74\"/>\n</g>\n<!-- 140235179963776 -->\n<g id=\"node12\" class=\"node\">\n<title>140235179963776</title>\n<polygon fill=\"none\" stroke=\"black\" points=\"676,-127.93 676,-163.93 886,-163.93 886,-127.93 676,-127.93\"/>\n<text text-anchor=\"middle\" x=\"687.5\" y=\"-142.23\" font-family=\"Times,serif\" font-size=\"14.00\">e</text>\n<polyline fill=\"none\" stroke=\"black\" points=\"699,-127.93 699,-163.93 \"/>\n<text text-anchor=\"middle\" x=\"742.5\" y=\"-142.23\" font-family=\"Times,serif\" font-size=\"14.00\">data 28.0000</text>\n<polyline fill=\"none\" stroke=\"black\" points=\"786,-127.93 786,-163.93 \"/>\n<text text-anchor=\"middle\" x=\"836\" y=\"-142.23\" font-family=\"Times,serif\" font-size=\"14.00\">grad &#45;800.0000</text>\n</g>\n<!-- 140235179963776&#45;&gt;140235179966368* -->\n<g id=\"edge20\" class=\"edge\">\n<title>140235179963776&#45;&gt;140235179966368*</title>\n<path fill=\"none\" stroke=\"black\" d=\"M886.19,-145.93C895.23,-145.93 903.92,-145.93 911.78,-145.93\"/>\n<polygon fill=\"black\" stroke=\"black\" points=\"911.93,-149.43 921.93,-145.93 911.93,-142.43 911.93,-149.43\"/>\n</g>\n<!-- 140235179963776+&#45;&gt;140235179963776 -->\n<g id=\"edge5\" class=\"edge\">\n<title>140235179963776+&#45;&gt;140235179963776</title>\n<path fill=\"none\" stroke=\"black\" d=\"M640.3,-145.93C647.76,-145.93 656.38,-145.93 665.6,-145.93\"/>\n<polygon fill=\"black\" stroke=\"black\" points=\"665.83,-149.43 675.83,-145.93 665.83,-142.43 665.83,-149.43\"/>\n</g>\n<!-- 140235179966368 -->\n<g id=\"node14\" class=\"node\">\n<title>140235179966368</title>\n<polygon fill=\"none\" stroke=\"black\" points=\"1012,-127.93 1012,-163.93 1225,-163.93 1225,-127.93 1012,-127.93\"/>\n<text text-anchor=\"middle\" x=\"1022\" y=\"-142.23\" font-family=\"Times,serif\" font-size=\"14.00\"> </text>\n<polyline fill=\"none\" stroke=\"black\" points=\"1032,-127.93 1032,-163.93 \"/>\n<text text-anchor=\"middle\" x=\"1081\" y=\"-142.23\" font-family=\"Times,serif\" font-size=\"14.00\">data &#45;224.0000</text>\n<polyline fill=\"none\" stroke=\"black\" points=\"1130,-127.93 1130,-163.93 \"/>\n<text text-anchor=\"middle\" x=\"1177.5\" y=\"-142.23\" font-family=\"Times,serif\" font-size=\"14.00\">grad 100.0000</text>\n</g>\n<!-- 140235179966368&#45;&gt;140235179963872* -->\n<g id=\"edge16\" class=\"edge\">\n<title>140235179966368&#45;&gt;140235179963872*</title>\n<path fill=\"none\" stroke=\"black\" d=\"M1199.33,-164.04C1217.81,-168.23 1236.55,-172.48 1251.93,-175.97\"/>\n<polygon fill=\"black\" stroke=\"black\" points=\"1251.48,-179.46 1262,-178.26 1253.02,-172.63 1251.48,-179.46\"/>\n</g>\n<!-- 140235179966368*&#45;&gt;140235179966368 -->\n<g id=\"edge6\" class=\"edge\">\n<title>140235179966368*&#45;&gt;140235179966368</title>\n<path fill=\"none\" stroke=\"black\" d=\"M976.17,-145.93C983.6,-145.93 992.21,-145.93 1001.43,-145.93\"/>\n<polygon fill=\"black\" stroke=\"black\" points=\"1001.66,-149.43 1011.66,-145.93 1001.66,-142.43 1001.66,-149.43\"/>\n</g>\n<!-- 140235179963872 -->\n<g id=\"node16\" class=\"node\">\n<title>140235179963872</title>\n<polygon fill=\"none\" stroke=\"black\" points=\"1351,-165.93 1351,-201.93 1565,-201.93 1565,-165.93 1351,-165.93\"/>\n<text text-anchor=\"middle\" x=\"1361\" y=\"-180.23\" font-family=\"Times,serif\" font-size=\"14.00\"> </text>\n<polyline fill=\"none\" stroke=\"black\" points=\"1371,-165.93 1371,-201.93 \"/>\n<text text-anchor=\"middle\" x=\"1423.5\" y=\"-180.23\" font-family=\"Times,serif\" font-size=\"14.00\">data &#45;2240.0000</text>\n<polyline fill=\"none\" stroke=\"black\" points=\"1476,-165.93 1476,-201.93 \"/>\n<text text-anchor=\"middle\" x=\"1520.5\" y=\"-180.23\" font-family=\"Times,serif\" font-size=\"14.00\">grad 10.0000</text>\n</g>\n<!-- 140235179963872&#45;&gt;140235179963056* -->\n<g id=\"edge13\" class=\"edge\">\n<title>140235179963872&#45;&gt;140235179963056*</title>\n<path fill=\"none\" stroke=\"black\" d=\"M1565.4,-198.49C1574.63,-199.76 1583.48,-200.97 1591.44,-202.06\"/>\n<polygon fill=\"black\" stroke=\"black\" points=\"1590.98,-205.53 1601.36,-203.42 1591.93,-198.59 1590.98,-205.53\"/>\n</g>\n<!-- 140235179963872*&#45;&gt;140235179963872 -->\n<g id=\"edge7\" class=\"edge\">\n<title>140235179963872*&#45;&gt;140235179963872</title>\n<path fill=\"none\" stroke=\"black\" d=\"M1315.25,-183.93C1322.7,-183.93 1331.34,-183.93 1340.59,-183.93\"/>\n<polygon fill=\"black\" stroke=\"black\" points=\"1340.84,-187.43 1350.84,-183.93 1340.84,-180.43 1340.84,-187.43\"/>\n</g>\n</g>\n</svg>\n"
          },
          "metadata": {},
          "execution_count": 46
        }
      ]
    },
    {
      "cell_type": "markdown",
      "source": [
        "# Playing with Division & Power Operations"
      ],
      "metadata": {
        "id": "ptEBwCB_LkM1"
      }
    },
    {
      "cell_type": "code",
      "source": [
        "def build_graph_tanh():\n",
        "  # inputs\n",
        "  x1 = Value(2.0, label='x1')\n",
        "  x2 = Value(0.0, label='x2')\n",
        "\n",
        "  # weights\n",
        "  w1 = Value(-3.0, label='w1')\n",
        "  w2 = Value(1.0, label='w2')\n",
        "\n",
        "  # bias\n",
        "  b = Value(6.8813735870195432, label='b')\n",
        "\n",
        "  # weights x inputs\n",
        "  x1w1 = x1 * w1; x1w1.label = 'x1*w1'\n",
        "  x2w2 = x2 * w2; x2w2.label = 'x2*w2'\n",
        "\n",
        "  # dot product\n",
        "  x1w1x2w2 = x1w1 + x2w2; x1w1x2w2.label = 'x1*w1 + x2*w2'\n",
        "\n",
        "  # adding the bias\n",
        "  n = x1w1x2w2 + b; n.label = 'n'\n",
        "\n",
        "  # implement tanh expression exactly...\n",
        "  # (e^2x - 1) / (e^2x + 1)\n",
        "  e = (2 * n).exp(); e.label = 'e'\n",
        "  o = (e - 1) / (e + 1)\n",
        "  o.label = 'o'\n",
        "\n",
        "  return o"
      ],
      "metadata": {
        "id": "YVJrFuN1MFWL"
      },
      "execution_count": 47,
      "outputs": []
    },
    {
      "cell_type": "code",
      "source": [
        "o = build_graph()\n",
        "o.backward()\n",
        "draw_dot(o)"
      ],
      "metadata": {
        "colab": {
          "base_uri": "https://localhost:8080/",
          "height": 321
        },
        "id": "oICk6X9mEWtz",
        "outputId": "95f51399-499b-4120-c88f-612a5585d793"
      },
      "execution_count": 48,
      "outputs": [
        {
          "output_type": "execute_result",
          "data": {
            "text/plain": [
              "<graphviz.dot.Digraph at 0x7f8b0c1747f0>"
            ],
            "image/svg+xml": "<?xml version=\"1.0\" encoding=\"UTF-8\" standalone=\"no\"?>\n<!DOCTYPE svg PUBLIC \"-//W3C//DTD SVG 1.1//EN\"\n \"http://www.w3.org/Graphics/SVG/1.1/DTD/svg11.dtd\">\n<!-- Generated by graphviz version 2.43.0 (0)\n -->\n<!-- Title: %3 Pages: 1 -->\n<svg width=\"1575pt\" height=\"210pt\"\n viewBox=\"0.00 0.00 1575.00 210.00\" xmlns=\"http://www.w3.org/2000/svg\" xmlns:xlink=\"http://www.w3.org/1999/xlink\">\n<g id=\"graph0\" class=\"graph\" transform=\"scale(1 1) rotate(0) translate(4 206)\">\n<title>%3</title>\n<polygon fill=\"white\" stroke=\"transparent\" points=\"-4,4 -4,-206 1571,-206 1571,4 -4,4\"/>\n<!-- 140235179962960 -->\n<g id=\"node1\" class=\"node\">\n<title>140235179962960</title>\n<polygon fill=\"none\" stroke=\"black\" points=\"4,-165.5 4,-201.5 196,-201.5 196,-165.5 4,-165.5\"/>\n<text text-anchor=\"middle\" x=\"19\" y=\"-179.8\" font-family=\"Times,serif\" font-size=\"14.00\">x2</text>\n<polyline fill=\"none\" stroke=\"black\" points=\"34,-165.5 34,-201.5 \"/>\n<text text-anchor=\"middle\" x=\"74\" y=\"-179.8\" font-family=\"Times,serif\" font-size=\"14.00\">data 0.0000</text>\n<polyline fill=\"none\" stroke=\"black\" points=\"114,-165.5 114,-201.5 \"/>\n<text text-anchor=\"middle\" x=\"155\" y=\"-179.8\" font-family=\"Times,serif\" font-size=\"14.00\">grad 0.5000</text>\n</g>\n<!-- 140235179983104* -->\n<g id=\"node6\" class=\"node\">\n<title>140235179983104*</title>\n<ellipse fill=\"none\" stroke=\"black\" cx=\"263\" cy=\"-128.5\" rx=\"27\" ry=\"18\"/>\n<text text-anchor=\"middle\" x=\"263\" y=\"-124.8\" font-family=\"Times,serif\" font-size=\"14.00\">*</text>\n</g>\n<!-- 140235179962960&#45;&gt;140235179983104* -->\n<g id=\"edge9\" class=\"edge\">\n<title>140235179962960&#45;&gt;140235179983104*</title>\n<path fill=\"none\" stroke=\"black\" d=\"M172.53,-165.44C181.84,-162.67 191.2,-159.67 200,-156.5 210.53,-152.71 221.75,-147.9 231.72,-143.33\"/>\n<polygon fill=\"black\" stroke=\"black\" points=\"233.25,-146.48 240.82,-139.07 230.28,-140.14 233.25,-146.48\"/>\n</g>\n<!-- 140235179966032 -->\n<g id=\"node2\" class=\"node\">\n<title>140235179966032</title>\n<polygon fill=\"none\" stroke=\"black\" points=\"0,-55.5 0,-91.5 200,-91.5 200,-55.5 0,-55.5\"/>\n<text text-anchor=\"middle\" x=\"16.5\" y=\"-69.8\" font-family=\"Times,serif\" font-size=\"14.00\">w1</text>\n<polyline fill=\"none\" stroke=\"black\" points=\"33,-55.5 33,-91.5 \"/>\n<text text-anchor=\"middle\" x=\"75.5\" y=\"-69.8\" font-family=\"Times,serif\" font-size=\"14.00\">data &#45;3.0000</text>\n<polyline fill=\"none\" stroke=\"black\" points=\"118,-55.5 118,-91.5 \"/>\n<text text-anchor=\"middle\" x=\"159\" y=\"-69.8\" font-family=\"Times,serif\" font-size=\"14.00\">grad 1.0000</text>\n</g>\n<!-- 140235179983536* -->\n<g id=\"node4\" class=\"node\">\n<title>140235179983536*</title>\n<ellipse fill=\"none\" stroke=\"black\" cx=\"263\" cy=\"-73.5\" rx=\"27\" ry=\"18\"/>\n<text text-anchor=\"middle\" x=\"263\" y=\"-69.8\" font-family=\"Times,serif\" font-size=\"14.00\">*</text>\n</g>\n<!-- 140235179966032&#45;&gt;140235179983536* -->\n<g id=\"edge7\" class=\"edge\">\n<title>140235179966032&#45;&gt;140235179983536*</title>\n<path fill=\"none\" stroke=\"black\" d=\"M200.21,-73.5C209.2,-73.5 217.86,-73.5 225.7,-73.5\"/>\n<polygon fill=\"black\" stroke=\"black\" points=\"225.85,-77 235.85,-73.5 225.85,-70 225.85,-77\"/>\n</g>\n<!-- 140235179983536 -->\n<g id=\"node3\" class=\"node\">\n<title>140235179983536</title>\n<polygon fill=\"none\" stroke=\"black\" points=\"326,-55.5 326,-91.5 546,-91.5 546,-55.5 326,-55.5\"/>\n<text text-anchor=\"middle\" x=\"352.5\" y=\"-69.8\" font-family=\"Times,serif\" font-size=\"14.00\">x1*w1</text>\n<polyline fill=\"none\" stroke=\"black\" points=\"379,-55.5 379,-91.5 \"/>\n<text text-anchor=\"middle\" x=\"421.5\" y=\"-69.8\" font-family=\"Times,serif\" font-size=\"14.00\">data &#45;6.0000</text>\n<polyline fill=\"none\" stroke=\"black\" points=\"464,-55.5 464,-91.5 \"/>\n<text text-anchor=\"middle\" x=\"505\" y=\"-69.8\" font-family=\"Times,serif\" font-size=\"14.00\">grad 0.5000</text>\n</g>\n<!-- 140235179983344+ -->\n<g id=\"node15\" class=\"node\">\n<title>140235179983344+</title>\n<ellipse fill=\"none\" stroke=\"black\" cx=\"609\" cy=\"-100.5\" rx=\"27\" ry=\"18\"/>\n<text text-anchor=\"middle\" x=\"609\" y=\"-96.8\" font-family=\"Times,serif\" font-size=\"14.00\">+</text>\n</g>\n<!-- 140235179983536&#45;&gt;140235179983344+ -->\n<g id=\"edge12\" class=\"edge\">\n<title>140235179983536&#45;&gt;140235179983344+</title>\n<path fill=\"none\" stroke=\"black\" d=\"M546.27,-90.75C555.64,-92.23 564.6,-93.65 572.65,-94.92\"/>\n<polygon fill=\"black\" stroke=\"black\" points=\"572.23,-98.4 582.65,-96.5 573.32,-91.48 572.23,-98.4\"/>\n</g>\n<!-- 140235179983536*&#45;&gt;140235179983536 -->\n<g id=\"edge1\" class=\"edge\">\n<title>140235179983536*&#45;&gt;140235179983536</title>\n<path fill=\"none\" stroke=\"black\" d=\"M290.34,-73.5C297.77,-73.5 306.37,-73.5 315.6,-73.5\"/>\n<polygon fill=\"black\" stroke=\"black\" points=\"315.84,-77 325.84,-73.5 315.84,-70 315.84,-77\"/>\n</g>\n<!-- 140235179983104 -->\n<g id=\"node5\" class=\"node\">\n<title>140235179983104</title>\n<polygon fill=\"none\" stroke=\"black\" points=\"328.5,-110.5 328.5,-146.5 543.5,-146.5 543.5,-110.5 328.5,-110.5\"/>\n<text text-anchor=\"middle\" x=\"355\" y=\"-124.8\" font-family=\"Times,serif\" font-size=\"14.00\">x2*w2</text>\n<polyline fill=\"none\" stroke=\"black\" points=\"381.5,-110.5 381.5,-146.5 \"/>\n<text text-anchor=\"middle\" x=\"421.5\" y=\"-124.8\" font-family=\"Times,serif\" font-size=\"14.00\">data 0.0000</text>\n<polyline fill=\"none\" stroke=\"black\" points=\"461.5,-110.5 461.5,-146.5 \"/>\n<text text-anchor=\"middle\" x=\"502.5\" y=\"-124.8\" font-family=\"Times,serif\" font-size=\"14.00\">grad 0.5000</text>\n</g>\n<!-- 140235179983104&#45;&gt;140235179983344+ -->\n<g id=\"edge11\" class=\"edge\">\n<title>140235179983104&#45;&gt;140235179983344+</title>\n<path fill=\"none\" stroke=\"black\" d=\"M543.84,-111.01C554.01,-109.34 563.76,-107.74 572.44,-106.32\"/>\n<polygon fill=\"black\" stroke=\"black\" points=\"573.17,-109.75 582.47,-104.68 572.04,-102.84 573.17,-109.75\"/>\n</g>\n<!-- 140235179983104*&#45;&gt;140235179983104 -->\n<g id=\"edge2\" class=\"edge\">\n<title>140235179983104*&#45;&gt;140235179983104</title>\n<path fill=\"none\" stroke=\"black\" d=\"M290.34,-128.5C298.51,-128.5 308.08,-128.5 318.36,-128.5\"/>\n<polygon fill=\"black\" stroke=\"black\" points=\"318.39,-132 328.39,-128.5 318.39,-125 318.39,-132\"/>\n</g>\n<!-- 140235179986224 -->\n<g id=\"node7\" class=\"node\">\n<title>140235179986224</title>\n<polygon fill=\"none\" stroke=\"black\" points=\"716,-27.5 716,-63.5 901,-63.5 901,-27.5 716,-27.5\"/>\n<text text-anchor=\"middle\" x=\"727.5\" y=\"-41.8\" font-family=\"Times,serif\" font-size=\"14.00\">b</text>\n<polyline fill=\"none\" stroke=\"black\" points=\"739,-27.5 739,-63.5 \"/>\n<text text-anchor=\"middle\" x=\"779\" y=\"-41.8\" font-family=\"Times,serif\" font-size=\"14.00\">data 6.8814</text>\n<polyline fill=\"none\" stroke=\"black\" points=\"819,-27.5 819,-63.5 \"/>\n<text text-anchor=\"middle\" x=\"860\" y=\"-41.8\" font-family=\"Times,serif\" font-size=\"14.00\">grad 0.5000</text>\n</g>\n<!-- 140235180034896+ -->\n<g id=\"node11\" class=\"node\">\n<title>140235180034896+</title>\n<ellipse fill=\"none\" stroke=\"black\" cx=\"1008\" cy=\"-72.5\" rx=\"27\" ry=\"18\"/>\n<text text-anchor=\"middle\" x=\"1008\" y=\"-68.8\" font-family=\"Times,serif\" font-size=\"14.00\">+</text>\n</g>\n<!-- 140235179986224&#45;&gt;140235180034896+ -->\n<g id=\"edge14\" class=\"edge\">\n<title>140235179986224&#45;&gt;140235180034896+</title>\n<path fill=\"none\" stroke=\"black\" d=\"M901.02,-58.01C926,-61.43 951.59,-64.93 971.37,-67.63\"/>\n<polygon fill=\"black\" stroke=\"black\" points=\"971.05,-71.12 981.43,-69.01 972,-64.18 971.05,-71.12\"/>\n</g>\n<!-- 140235180032832 -->\n<g id=\"node8\" class=\"node\">\n<title>140235180032832</title>\n<polygon fill=\"none\" stroke=\"black\" points=\"1382,-54.5 1382,-90.5 1567,-90.5 1567,-54.5 1382,-54.5\"/>\n<text text-anchor=\"middle\" x=\"1393.5\" y=\"-68.8\" font-family=\"Times,serif\" font-size=\"14.00\">o</text>\n<polyline fill=\"none\" stroke=\"black\" points=\"1405,-54.5 1405,-90.5 \"/>\n<text text-anchor=\"middle\" x=\"1445\" y=\"-68.8\" font-family=\"Times,serif\" font-size=\"14.00\">data 0.7071</text>\n<polyline fill=\"none\" stroke=\"black\" points=\"1485,-54.5 1485,-90.5 \"/>\n<text text-anchor=\"middle\" x=\"1526\" y=\"-68.8\" font-family=\"Times,serif\" font-size=\"14.00\">grad 1.0000</text>\n</g>\n<!-- 140235180032832tanh -->\n<g id=\"node9\" class=\"node\">\n<title>140235180032832tanh</title>\n<ellipse fill=\"none\" stroke=\"black\" cx=\"1319\" cy=\"-72.5\" rx=\"27\" ry=\"18\"/>\n<text text-anchor=\"middle\" x=\"1319\" y=\"-68.8\" font-family=\"Times,serif\" font-size=\"14.00\">tanh</text>\n</g>\n<!-- 140235180032832tanh&#45;&gt;140235180032832 -->\n<g id=\"edge3\" class=\"edge\">\n<title>140235180032832tanh&#45;&gt;140235180032832</title>\n<path fill=\"none\" stroke=\"black\" d=\"M1346.04,-72.5C1353.58,-72.5 1362.3,-72.5 1371.57,-72.5\"/>\n<polygon fill=\"black\" stroke=\"black\" points=\"1371.81,-76 1381.81,-72.5 1371.81,-69 1371.81,-76\"/>\n</g>\n<!-- 140235180034896 -->\n<g id=\"node10\" class=\"node\">\n<title>140235180034896</title>\n<polygon fill=\"none\" stroke=\"black\" points=\"1071,-54.5 1071,-90.5 1256,-90.5 1256,-54.5 1071,-54.5\"/>\n<text text-anchor=\"middle\" x=\"1082.5\" y=\"-68.8\" font-family=\"Times,serif\" font-size=\"14.00\">n</text>\n<polyline fill=\"none\" stroke=\"black\" points=\"1094,-54.5 1094,-90.5 \"/>\n<text text-anchor=\"middle\" x=\"1134\" y=\"-68.8\" font-family=\"Times,serif\" font-size=\"14.00\">data 0.8814</text>\n<polyline fill=\"none\" stroke=\"black\" points=\"1174,-54.5 1174,-90.5 \"/>\n<text text-anchor=\"middle\" x=\"1215\" y=\"-68.8\" font-family=\"Times,serif\" font-size=\"14.00\">grad 0.5000</text>\n</g>\n<!-- 140235180034896&#45;&gt;140235180032832tanh -->\n<g id=\"edge6\" class=\"edge\">\n<title>140235180034896&#45;&gt;140235180032832tanh</title>\n<path fill=\"none\" stroke=\"black\" d=\"M1256.01,-72.5C1265.01,-72.5 1273.74,-72.5 1281.66,-72.5\"/>\n<polygon fill=\"black\" stroke=\"black\" points=\"1281.91,-76 1291.91,-72.5 1281.91,-69 1281.91,-76\"/>\n</g>\n<!-- 140235180034896+&#45;&gt;140235180034896 -->\n<g id=\"edge4\" class=\"edge\">\n<title>140235180034896+&#45;&gt;140235180034896</title>\n<path fill=\"none\" stroke=\"black\" d=\"M1035.04,-72.5C1042.58,-72.5 1051.3,-72.5 1060.57,-72.5\"/>\n<polygon fill=\"black\" stroke=\"black\" points=\"1060.81,-76 1070.81,-72.5 1060.81,-69 1060.81,-76\"/>\n</g>\n<!-- 140235179965264 -->\n<g id=\"node12\" class=\"node\">\n<title>140235179965264</title>\n<polygon fill=\"none\" stroke=\"black\" points=\"2.5,-110.5 2.5,-146.5 197.5,-146.5 197.5,-110.5 2.5,-110.5\"/>\n<text text-anchor=\"middle\" x=\"19\" y=\"-124.8\" font-family=\"Times,serif\" font-size=\"14.00\">w2</text>\n<polyline fill=\"none\" stroke=\"black\" points=\"35.5,-110.5 35.5,-146.5 \"/>\n<text text-anchor=\"middle\" x=\"75.5\" y=\"-124.8\" font-family=\"Times,serif\" font-size=\"14.00\">data 1.0000</text>\n<polyline fill=\"none\" stroke=\"black\" points=\"115.5,-110.5 115.5,-146.5 \"/>\n<text text-anchor=\"middle\" x=\"156.5\" y=\"-124.8\" font-family=\"Times,serif\" font-size=\"14.00\">grad 0.0000</text>\n</g>\n<!-- 140235179965264&#45;&gt;140235179983104* -->\n<g id=\"edge10\" class=\"edge\">\n<title>140235179965264&#45;&gt;140235179983104*</title>\n<path fill=\"none\" stroke=\"black\" d=\"M197.91,-128.5C207.65,-128.5 217.05,-128.5 225.52,-128.5\"/>\n<polygon fill=\"black\" stroke=\"black\" points=\"225.7,-132 235.7,-128.5 225.7,-125 225.7,-132\"/>\n</g>\n<!-- 140235179964352 -->\n<g id=\"node13\" class=\"node\">\n<title>140235179964352</title>\n<polygon fill=\"none\" stroke=\"black\" points=\"2,-0.5 2,-36.5 198,-36.5 198,-0.5 2,-0.5\"/>\n<text text-anchor=\"middle\" x=\"17\" y=\"-14.8\" font-family=\"Times,serif\" font-size=\"14.00\">x1</text>\n<polyline fill=\"none\" stroke=\"black\" points=\"32,-0.5 32,-36.5 \"/>\n<text text-anchor=\"middle\" x=\"72\" y=\"-14.8\" font-family=\"Times,serif\" font-size=\"14.00\">data 2.0000</text>\n<polyline fill=\"none\" stroke=\"black\" points=\"112,-0.5 112,-36.5 \"/>\n<text text-anchor=\"middle\" x=\"155\" y=\"-14.8\" font-family=\"Times,serif\" font-size=\"14.00\">grad &#45;1.5000</text>\n</g>\n<!-- 140235179964352&#45;&gt;140235179983536* -->\n<g id=\"edge13\" class=\"edge\">\n<title>140235179964352&#45;&gt;140235179983536*</title>\n<path fill=\"none\" stroke=\"black\" d=\"M169.28,-36.5C179.65,-39.61 190.16,-42.98 200,-46.5 210.28,-50.17 221.28,-54.74 231.11,-59.07\"/>\n<polygon fill=\"black\" stroke=\"black\" points=\"229.93,-62.37 240.48,-63.27 232.79,-55.99 229.93,-62.37\"/>\n</g>\n<!-- 140235179983344 -->\n<g id=\"node14\" class=\"node\">\n<title>140235179983344</title>\n<polygon fill=\"none\" stroke=\"black\" points=\"672,-82.5 672,-118.5 945,-118.5 945,-82.5 672,-82.5\"/>\n<text text-anchor=\"middle\" x=\"725\" y=\"-96.8\" font-family=\"Times,serif\" font-size=\"14.00\">x1*w1 + x2*w2</text>\n<polyline fill=\"none\" stroke=\"black\" points=\"778,-82.5 778,-118.5 \"/>\n<text text-anchor=\"middle\" x=\"820.5\" y=\"-96.8\" font-family=\"Times,serif\" font-size=\"14.00\">data &#45;6.0000</text>\n<polyline fill=\"none\" stroke=\"black\" points=\"863,-82.5 863,-118.5 \"/>\n<text text-anchor=\"middle\" x=\"904\" y=\"-96.8\" font-family=\"Times,serif\" font-size=\"14.00\">grad 0.5000</text>\n</g>\n<!-- 140235179983344&#45;&gt;140235180034896+ -->\n<g id=\"edge8\" class=\"edge\">\n<title>140235179983344&#45;&gt;140235180034896+</title>\n<path fill=\"none\" stroke=\"black\" d=\"M936.53,-82.49C949.09,-80.71 960.99,-79.02 971.3,-77.56\"/>\n<polygon fill=\"black\" stroke=\"black\" points=\"972.03,-80.99 981.44,-76.12 971.05,-74.06 972.03,-80.99\"/>\n</g>\n<!-- 140235179983344+&#45;&gt;140235179983344 -->\n<g id=\"edge5\" class=\"edge\">\n<title>140235179983344+&#45;&gt;140235179983344</title>\n<path fill=\"none\" stroke=\"black\" d=\"M636.23,-100.5C643.7,-100.5 652.41,-100.5 661.87,-100.5\"/>\n<polygon fill=\"black\" stroke=\"black\" points=\"661.98,-104 671.98,-100.5 661.98,-97 661.98,-104\"/>\n</g>\n</g>\n</svg>\n"
          },
          "metadata": {},
          "execution_count": 48
        }
      ]
    },
    {
      "cell_type": "code",
      "source": [
        "o = build_graph_tanh()\n",
        "o.backward()\n",
        "draw_dot(o)"
      ],
      "metadata": {
        "colab": {
          "base_uri": "https://localhost:8080/",
          "height": 321
        },
        "id": "TtK0hpCPLqaN",
        "outputId": "ff207abf-a9b8-4981-a259-c97f3ddc4ca5"
      },
      "execution_count": 49,
      "outputs": [
        {
          "output_type": "execute_result",
          "data": {
            "text/plain": [
              "<graphviz.dot.Digraph at 0x7f8b0c122d90>"
            ],
            "image/svg+xml": "<?xml version=\"1.0\" encoding=\"UTF-8\" standalone=\"no\"?>\n<!DOCTYPE svg PUBLIC \"-//W3C//DTD SVG 1.1//EN\"\n \"http://www.w3.org/Graphics/SVG/1.1/DTD/svg11.dtd\">\n<!-- Generated by graphviz version 2.43.0 (0)\n -->\n<!-- Title: %3 Pages: 1 -->\n<svg width=\"2952pt\" height=\"210pt\"\n viewBox=\"0.00 0.00 2952.00 210.00\" xmlns=\"http://www.w3.org/2000/svg\" xmlns:xlink=\"http://www.w3.org/1999/xlink\">\n<g id=\"graph0\" class=\"graph\" transform=\"scale(1 1) rotate(0) translate(4 206)\">\n<title>%3</title>\n<polygon fill=\"white\" stroke=\"transparent\" points=\"-4,4 -4,-206 2948,-206 2948,4 -4,4\"/>\n<!-- 140235179697152 -->\n<g id=\"node1\" class=\"node\">\n<title>140235179697152</title>\n<polygon fill=\"none\" stroke=\"black\" points=\"716,-137.5 716,-173.5 901,-173.5 901,-137.5 716,-137.5\"/>\n<text text-anchor=\"middle\" x=\"727.5\" y=\"-151.8\" font-family=\"Times,serif\" font-size=\"14.00\">b</text>\n<polyline fill=\"none\" stroke=\"black\" points=\"739,-137.5 739,-173.5 \"/>\n<text text-anchor=\"middle\" x=\"779\" y=\"-151.8\" font-family=\"Times,serif\" font-size=\"14.00\">data 6.8814</text>\n<polyline fill=\"none\" stroke=\"black\" points=\"819,-137.5 819,-173.5 \"/>\n<text text-anchor=\"middle\" x=\"860\" y=\"-151.8\" font-family=\"Times,serif\" font-size=\"14.00\">grad 0.5000</text>\n</g>\n<!-- 140235179697392+ -->\n<g id=\"node15\" class=\"node\">\n<title>140235179697392+</title>\n<ellipse fill=\"none\" stroke=\"black\" cx=\"1008\" cy=\"-127.5\" rx=\"27\" ry=\"18\"/>\n<text text-anchor=\"middle\" x=\"1008\" y=\"-123.8\" font-family=\"Times,serif\" font-size=\"14.00\">+</text>\n</g>\n<!-- 140235179697152&#45;&gt;140235179697392+ -->\n<g id=\"edge22\" class=\"edge\">\n<title>140235179697152&#45;&gt;140235179697392+</title>\n<path fill=\"none\" stroke=\"black\" d=\"M901.02,-142.52C926,-138.98 951.59,-135.36 971.37,-132.55\"/>\n<polygon fill=\"black\" stroke=\"black\" points=\"972.03,-135.99 981.43,-131.12 971.04,-129.06 972.03,-135.99\"/>\n</g>\n<!-- 140235179699216 -->\n<g id=\"node2\" class=\"node\">\n<title>140235179699216</title>\n<polygon fill=\"none\" stroke=\"black\" points=\"1071,-54.5 1071,-90.5 1256,-90.5 1256,-54.5 1071,-54.5\"/>\n<text text-anchor=\"middle\" x=\"1082.5\" y=\"-68.8\" font-family=\"Times,serif\" font-size=\"14.00\">2</text>\n<polyline fill=\"none\" stroke=\"black\" points=\"1094,-54.5 1094,-90.5 \"/>\n<text text-anchor=\"middle\" x=\"1134\" y=\"-68.8\" font-family=\"Times,serif\" font-size=\"14.00\">data 2.0000</text>\n<polyline fill=\"none\" stroke=\"black\" points=\"1174,-54.5 1174,-90.5 \"/>\n<text text-anchor=\"middle\" x=\"1215\" y=\"-68.8\" font-family=\"Times,serif\" font-size=\"14.00\">grad 0.2203</text>\n</g>\n<!-- 140235179699264* -->\n<g id=\"node5\" class=\"node\">\n<title>140235179699264*</title>\n<ellipse fill=\"none\" stroke=\"black\" cx=\"1319\" cy=\"-99.5\" rx=\"27\" ry=\"18\"/>\n<text text-anchor=\"middle\" x=\"1319\" y=\"-95.8\" font-family=\"Times,serif\" font-size=\"14.00\">*</text>\n</g>\n<!-- 140235179699216&#45;&gt;140235179699264* -->\n<g id=\"edge16\" class=\"edge\">\n<title>140235179699216&#45;&gt;140235179699264*</title>\n<path fill=\"none\" stroke=\"black\" d=\"M1256.01,-88.6C1265.49,-90.26 1274.66,-91.88 1282.9,-93.33\"/>\n<polygon fill=\"black\" stroke=\"black\" points=\"1282.36,-96.78 1292.81,-95.07 1283.57,-89.89 1282.36,-96.78\"/>\n</g>\n<!-- 140235179697200 -->\n<g id=\"node3\" class=\"node\">\n<title>140235179697200</title>\n<polygon fill=\"none\" stroke=\"black\" points=\"2,-55.5 2,-91.5 198,-91.5 198,-55.5 2,-55.5\"/>\n<text text-anchor=\"middle\" x=\"17\" y=\"-69.8\" font-family=\"Times,serif\" font-size=\"14.00\">x1</text>\n<polyline fill=\"none\" stroke=\"black\" points=\"32,-55.5 32,-91.5 \"/>\n<text text-anchor=\"middle\" x=\"72\" y=\"-69.8\" font-family=\"Times,serif\" font-size=\"14.00\">data 2.0000</text>\n<polyline fill=\"none\" stroke=\"black\" points=\"112,-55.5 112,-91.5 \"/>\n<text text-anchor=\"middle\" x=\"155\" y=\"-69.8\" font-family=\"Times,serif\" font-size=\"14.00\">grad &#45;1.5000</text>\n</g>\n<!-- 140235179696912* -->\n<g id=\"node17\" class=\"node\">\n<title>140235179696912*</title>\n<ellipse fill=\"none\" stroke=\"black\" cx=\"263\" cy=\"-73.5\" rx=\"27\" ry=\"18\"/>\n<text text-anchor=\"middle\" x=\"263\" y=\"-69.8\" font-family=\"Times,serif\" font-size=\"14.00\">*</text>\n</g>\n<!-- 140235179697200&#45;&gt;140235179696912* -->\n<g id=\"edge12\" class=\"edge\">\n<title>140235179697200&#45;&gt;140235179696912*</title>\n<path fill=\"none\" stroke=\"black\" d=\"M198.37,-73.5C208.05,-73.5 217.4,-73.5 225.8,-73.5\"/>\n<polygon fill=\"black\" stroke=\"black\" points=\"225.91,-77 235.91,-73.5 225.91,-70 225.91,-77\"/>\n</g>\n<!-- 140235179699264 -->\n<g id=\"node4\" class=\"node\">\n<title>140235179699264</title>\n<polygon fill=\"none\" stroke=\"black\" points=\"1382,-81.5 1382,-117.5 1564,-117.5 1564,-81.5 1382,-81.5\"/>\n<text text-anchor=\"middle\" x=\"1392\" y=\"-95.8\" font-family=\"Times,serif\" font-size=\"14.00\"> </text>\n<polyline fill=\"none\" stroke=\"black\" points=\"1402,-81.5 1402,-117.5 \"/>\n<text text-anchor=\"middle\" x=\"1442\" y=\"-95.8\" font-family=\"Times,serif\" font-size=\"14.00\">data 1.7627</text>\n<polyline fill=\"none\" stroke=\"black\" points=\"1482,-81.5 1482,-117.5 \"/>\n<text text-anchor=\"middle\" x=\"1523\" y=\"-95.8\" font-family=\"Times,serif\" font-size=\"14.00\">grad 0.2500</text>\n</g>\n<!-- 140235179698832exp -->\n<g id=\"node10\" class=\"node\">\n<title>140235179698832exp</title>\n<ellipse fill=\"none\" stroke=\"black\" cx=\"1627\" cy=\"-99.5\" rx=\"27\" ry=\"18\"/>\n<text text-anchor=\"middle\" x=\"1627\" y=\"-95.8\" font-family=\"Times,serif\" font-size=\"14.00\">exp</text>\n</g>\n<!-- 140235179699264&#45;&gt;140235179698832exp -->\n<g id=\"edge25\" class=\"edge\">\n<title>140235179699264&#45;&gt;140235179698832exp</title>\n<path fill=\"none\" stroke=\"black\" d=\"M1564.18,-99.5C1573.14,-99.5 1581.83,-99.5 1589.73,-99.5\"/>\n<polygon fill=\"black\" stroke=\"black\" points=\"1589.96,-103 1599.96,-99.5 1589.96,-96 1589.96,-103\"/>\n</g>\n<!-- 140235179699264*&#45;&gt;140235179699264 -->\n<g id=\"edge1\" class=\"edge\">\n<title>140235179699264*&#45;&gt;140235179699264</title>\n<path fill=\"none\" stroke=\"black\" d=\"M1346.13,-99.5C1353.67,-99.5 1362.39,-99.5 1371.64,-99.5\"/>\n<polygon fill=\"black\" stroke=\"black\" points=\"1371.87,-103 1381.87,-99.5 1371.87,-96 1371.87,-103\"/>\n</g>\n<!-- 140235179697776 -->\n<g id=\"node6\" class=\"node\">\n<title>140235179697776</title>\n<polygon fill=\"none\" stroke=\"black\" points=\"2759,-80.5 2759,-116.5 2944,-116.5 2944,-80.5 2759,-80.5\"/>\n<text text-anchor=\"middle\" x=\"2770.5\" y=\"-94.8\" font-family=\"Times,serif\" font-size=\"14.00\">o</text>\n<polyline fill=\"none\" stroke=\"black\" points=\"2782,-80.5 2782,-116.5 \"/>\n<text text-anchor=\"middle\" x=\"2822\" y=\"-94.8\" font-family=\"Times,serif\" font-size=\"14.00\">data 0.7071</text>\n<polyline fill=\"none\" stroke=\"black\" points=\"2862,-80.5 2862,-116.5 \"/>\n<text text-anchor=\"middle\" x=\"2903\" y=\"-94.8\" font-family=\"Times,serif\" font-size=\"14.00\">grad 1.0000</text>\n</g>\n<!-- 140235179697776* -->\n<g id=\"node7\" class=\"node\">\n<title>140235179697776*</title>\n<ellipse fill=\"none\" stroke=\"black\" cx=\"2696\" cy=\"-98.5\" rx=\"27\" ry=\"18\"/>\n<text text-anchor=\"middle\" x=\"2696\" y=\"-94.8\" font-family=\"Times,serif\" font-size=\"14.00\">*</text>\n</g>\n<!-- 140235179697776*&#45;&gt;140235179697776 -->\n<g id=\"edge2\" class=\"edge\">\n<title>140235179697776*&#45;&gt;140235179697776</title>\n<path fill=\"none\" stroke=\"black\" d=\"M2723.04,-98.5C2730.58,-98.5 2739.3,-98.5 2748.57,-98.5\"/>\n<polygon fill=\"black\" stroke=\"black\" points=\"2748.81,-102 2758.81,-98.5 2748.81,-95 2748.81,-102\"/>\n</g>\n<!-- 140235179696768 -->\n<g id=\"node8\" class=\"node\">\n<title>140235179696768</title>\n<polygon fill=\"none\" stroke=\"black\" points=\"2.5,-165.5 2.5,-201.5 197.5,-201.5 197.5,-165.5 2.5,-165.5\"/>\n<text text-anchor=\"middle\" x=\"19\" y=\"-179.8\" font-family=\"Times,serif\" font-size=\"14.00\">w2</text>\n<polyline fill=\"none\" stroke=\"black\" points=\"35.5,-165.5 35.5,-201.5 \"/>\n<text text-anchor=\"middle\" x=\"75.5\" y=\"-179.8\" font-family=\"Times,serif\" font-size=\"14.00\">data 1.0000</text>\n<polyline fill=\"none\" stroke=\"black\" points=\"115.5,-165.5 115.5,-201.5 \"/>\n<text text-anchor=\"middle\" x=\"156.5\" y=\"-179.8\" font-family=\"Times,serif\" font-size=\"14.00\">grad 0.0000</text>\n</g>\n<!-- 140235179699408* -->\n<g id=\"node12\" class=\"node\">\n<title>140235179699408*</title>\n<ellipse fill=\"none\" stroke=\"black\" cx=\"263\" cy=\"-128.5\" rx=\"27\" ry=\"18\"/>\n<text text-anchor=\"middle\" x=\"263\" y=\"-124.8\" font-family=\"Times,serif\" font-size=\"14.00\">*</text>\n</g>\n<!-- 140235179696768&#45;&gt;140235179699408* -->\n<g id=\"edge13\" class=\"edge\">\n<title>140235179696768&#45;&gt;140235179699408*</title>\n<path fill=\"none\" stroke=\"black\" d=\"M172.53,-165.44C181.84,-162.67 191.2,-159.67 200,-156.5 210.53,-152.71 221.75,-147.9 231.72,-143.33\"/>\n<polygon fill=\"black\" stroke=\"black\" points=\"233.25,-146.48 240.82,-139.07 230.28,-140.14 233.25,-146.48\"/>\n</g>\n<!-- 140235179698832 -->\n<g id=\"node9\" class=\"node\">\n<title>140235179698832</title>\n<polygon fill=\"none\" stroke=\"black\" points=\"1695,-81.5 1695,-117.5 1880,-117.5 1880,-81.5 1695,-81.5\"/>\n<text text-anchor=\"middle\" x=\"1706.5\" y=\"-95.8\" font-family=\"Times,serif\" font-size=\"14.00\">e</text>\n<polyline fill=\"none\" stroke=\"black\" points=\"1718,-81.5 1718,-117.5 \"/>\n<text text-anchor=\"middle\" x=\"1758\" y=\"-95.8\" font-family=\"Times,serif\" font-size=\"14.00\">data 5.8284</text>\n<polyline fill=\"none\" stroke=\"black\" points=\"1798,-81.5 1798,-117.5 \"/>\n<text text-anchor=\"middle\" x=\"1839\" y=\"-95.8\" font-family=\"Times,serif\" font-size=\"14.00\">grad 0.0429</text>\n</g>\n<!-- 140235179698112+ -->\n<g id=\"node25\" class=\"node\">\n<title>140235179698112+</title>\n<ellipse fill=\"none\" stroke=\"black\" cx=\"1948\" cy=\"-126.5\" rx=\"27\" ry=\"18\"/>\n<text text-anchor=\"middle\" x=\"1948\" y=\"-122.8\" font-family=\"Times,serif\" font-size=\"14.00\">+</text>\n</g>\n<!-- 140235179698832&#45;&gt;140235179698112+ -->\n<g id=\"edge26\" class=\"edge\">\n<title>140235179698832&#45;&gt;140235179698112+</title>\n<path fill=\"none\" stroke=\"black\" d=\"M1880.24,-115.13C1891.28,-117.01 1901.99,-118.83 1911.49,-120.45\"/>\n<polygon fill=\"black\" stroke=\"black\" points=\"1911.19,-123.95 1921.64,-122.18 1912.37,-117.05 1911.19,-123.95\"/>\n</g>\n<!-- 140235179698640+ -->\n<g id=\"node27\" class=\"node\">\n<title>140235179698640+</title>\n<ellipse fill=\"none\" stroke=\"black\" cx=\"1948\" cy=\"-71.5\" rx=\"27\" ry=\"18\"/>\n<text text-anchor=\"middle\" x=\"1948\" y=\"-67.8\" font-family=\"Times,serif\" font-size=\"14.00\">+</text>\n</g>\n<!-- 140235179698832&#45;&gt;140235179698640+ -->\n<g id=\"edge19\" class=\"edge\">\n<title>140235179698832&#45;&gt;140235179698640+</title>\n<path fill=\"none\" stroke=\"black\" d=\"M1880.24,-83.29C1891.28,-81.34 1901.99,-79.45 1911.49,-77.77\"/>\n<polygon fill=\"black\" stroke=\"black\" points=\"1912.4,-81.17 1921.64,-75.98 1911.18,-74.27 1912.4,-81.17\"/>\n</g>\n<!-- 140235179698832exp&#45;&gt;140235179698832 -->\n<g id=\"edge3\" class=\"edge\">\n<title>140235179698832exp&#45;&gt;140235179698832</title>\n<path fill=\"none\" stroke=\"black\" d=\"M1654.17,-99.5C1662.99,-99.5 1673.43,-99.5 1684.52,-99.5\"/>\n<polygon fill=\"black\" stroke=\"black\" points=\"1684.86,-103 1694.86,-99.5 1684.86,-96 1684.86,-103\"/>\n</g>\n<!-- 140235179699408 -->\n<g id=\"node11\" class=\"node\">\n<title>140235179699408</title>\n<polygon fill=\"none\" stroke=\"black\" points=\"328.5,-110.5 328.5,-146.5 543.5,-146.5 543.5,-110.5 328.5,-110.5\"/>\n<text text-anchor=\"middle\" x=\"355\" y=\"-124.8\" font-family=\"Times,serif\" font-size=\"14.00\">x2*w2</text>\n<polyline fill=\"none\" stroke=\"black\" points=\"381.5,-110.5 381.5,-146.5 \"/>\n<text text-anchor=\"middle\" x=\"421.5\" y=\"-124.8\" font-family=\"Times,serif\" font-size=\"14.00\">data 0.0000</text>\n<polyline fill=\"none\" stroke=\"black\" points=\"461.5,-110.5 461.5,-146.5 \"/>\n<text text-anchor=\"middle\" x=\"502.5\" y=\"-124.8\" font-family=\"Times,serif\" font-size=\"14.00\">grad 0.5000</text>\n</g>\n<!-- 140235179697488+ -->\n<g id=\"node21\" class=\"node\">\n<title>140235179697488+</title>\n<ellipse fill=\"none\" stroke=\"black\" cx=\"609\" cy=\"-100.5\" rx=\"27\" ry=\"18\"/>\n<text text-anchor=\"middle\" x=\"609\" y=\"-96.8\" font-family=\"Times,serif\" font-size=\"14.00\">+</text>\n</g>\n<!-- 140235179699408&#45;&gt;140235179697488+ -->\n<g id=\"edge24\" class=\"edge\">\n<title>140235179699408&#45;&gt;140235179697488+</title>\n<path fill=\"none\" stroke=\"black\" d=\"M543.84,-111.01C554.01,-109.34 563.76,-107.74 572.44,-106.32\"/>\n<polygon fill=\"black\" stroke=\"black\" points=\"573.17,-109.75 582.47,-104.68 572.04,-102.84 573.17,-109.75\"/>\n</g>\n<!-- 140235179699408*&#45;&gt;140235179699408 -->\n<g id=\"edge4\" class=\"edge\">\n<title>140235179699408*&#45;&gt;140235179699408</title>\n<path fill=\"none\" stroke=\"black\" d=\"M290.34,-128.5C298.51,-128.5 308.08,-128.5 318.36,-128.5\"/>\n<polygon fill=\"black\" stroke=\"black\" points=\"318.39,-132 328.39,-128.5 318.39,-125 318.39,-132\"/>\n</g>\n<!-- 140235179696864 -->\n<g id=\"node13\" class=\"node\">\n<title>140235179696864</title>\n<polygon fill=\"none\" stroke=\"black\" points=\"0,-0.5 0,-36.5 200,-36.5 200,-0.5 0,-0.5\"/>\n<text text-anchor=\"middle\" x=\"16.5\" y=\"-14.8\" font-family=\"Times,serif\" font-size=\"14.00\">w1</text>\n<polyline fill=\"none\" stroke=\"black\" points=\"33,-0.5 33,-36.5 \"/>\n<text text-anchor=\"middle\" x=\"75.5\" y=\"-14.8\" font-family=\"Times,serif\" font-size=\"14.00\">data &#45;3.0000</text>\n<polyline fill=\"none\" stroke=\"black\" points=\"118,-0.5 118,-36.5 \"/>\n<text text-anchor=\"middle\" x=\"159\" y=\"-14.8\" font-family=\"Times,serif\" font-size=\"14.00\">grad 1.0000</text>\n</g>\n<!-- 140235179696864&#45;&gt;140235179696912* -->\n<g id=\"edge14\" class=\"edge\">\n<title>140235179696864&#45;&gt;140235179696912*</title>\n<path fill=\"none\" stroke=\"black\" d=\"M172.53,-36.56C181.84,-39.33 191.2,-42.33 200,-45.5 210.53,-49.29 221.75,-54.1 231.72,-58.67\"/>\n<polygon fill=\"black\" stroke=\"black\" points=\"230.28,-61.86 240.82,-62.93 233.25,-55.52 230.28,-61.86\"/>\n</g>\n<!-- 140235179697392 -->\n<g id=\"node14\" class=\"node\">\n<title>140235179697392</title>\n<polygon fill=\"none\" stroke=\"black\" points=\"1071,-109.5 1071,-145.5 1256,-145.5 1256,-109.5 1071,-109.5\"/>\n<text text-anchor=\"middle\" x=\"1082.5\" y=\"-123.8\" font-family=\"Times,serif\" font-size=\"14.00\">n</text>\n<polyline fill=\"none\" stroke=\"black\" points=\"1094,-109.5 1094,-145.5 \"/>\n<text text-anchor=\"middle\" x=\"1134\" y=\"-123.8\" font-family=\"Times,serif\" font-size=\"14.00\">data 0.8814</text>\n<polyline fill=\"none\" stroke=\"black\" points=\"1174,-109.5 1174,-145.5 \"/>\n<text text-anchor=\"middle\" x=\"1215\" y=\"-123.8\" font-family=\"Times,serif\" font-size=\"14.00\">grad 0.5000</text>\n</g>\n<!-- 140235179697392&#45;&gt;140235179699264* -->\n<g id=\"edge23\" class=\"edge\">\n<title>140235179697392&#45;&gt;140235179699264*</title>\n<path fill=\"none\" stroke=\"black\" d=\"M1256.01,-110.81C1265.49,-109.08 1274.66,-107.41 1282.9,-105.9\"/>\n<polygon fill=\"black\" stroke=\"black\" points=\"1283.6,-109.33 1292.81,-104.09 1282.35,-102.45 1283.6,-109.33\"/>\n</g>\n<!-- 140235179697392+&#45;&gt;140235179697392 -->\n<g id=\"edge5\" class=\"edge\">\n<title>140235179697392+&#45;&gt;140235179697392</title>\n<path fill=\"none\" stroke=\"black\" d=\"M1035.04,-127.5C1042.58,-127.5 1051.3,-127.5 1060.57,-127.5\"/>\n<polygon fill=\"black\" stroke=\"black\" points=\"1060.81,-131 1070.81,-127.5 1060.81,-124 1060.81,-131\"/>\n</g>\n<!-- 140235179696912 -->\n<g id=\"node16\" class=\"node\">\n<title>140235179696912</title>\n<polygon fill=\"none\" stroke=\"black\" points=\"326,-55.5 326,-91.5 546,-91.5 546,-55.5 326,-55.5\"/>\n<text text-anchor=\"middle\" x=\"352.5\" y=\"-69.8\" font-family=\"Times,serif\" font-size=\"14.00\">x1*w1</text>\n<polyline fill=\"none\" stroke=\"black\" points=\"379,-55.5 379,-91.5 \"/>\n<text text-anchor=\"middle\" x=\"421.5\" y=\"-69.8\" font-family=\"Times,serif\" font-size=\"14.00\">data &#45;6.0000</text>\n<polyline fill=\"none\" stroke=\"black\" points=\"464,-55.5 464,-91.5 \"/>\n<text text-anchor=\"middle\" x=\"505\" y=\"-69.8\" font-family=\"Times,serif\" font-size=\"14.00\">grad 0.5000</text>\n</g>\n<!-- 140235179696912&#45;&gt;140235179697488+ -->\n<g id=\"edge28\" class=\"edge\">\n<title>140235179696912&#45;&gt;140235179697488+</title>\n<path fill=\"none\" stroke=\"black\" d=\"M546.27,-90.75C555.64,-92.23 564.6,-93.65 572.65,-94.92\"/>\n<polygon fill=\"black\" stroke=\"black\" points=\"572.23,-98.4 582.65,-96.5 573.32,-91.48 572.23,-98.4\"/>\n</g>\n<!-- 140235179696912*&#45;&gt;140235179696912 -->\n<g id=\"edge6\" class=\"edge\">\n<title>140235179696912*&#45;&gt;140235179696912</title>\n<path fill=\"none\" stroke=\"black\" d=\"M290.34,-73.5C297.77,-73.5 306.37,-73.5 315.6,-73.5\"/>\n<polygon fill=\"black\" stroke=\"black\" points=\"315.84,-77 325.84,-73.5 315.84,-70 315.84,-77\"/>\n</g>\n<!-- 140235179697968 -->\n<g id=\"node18\" class=\"node\">\n<title>140235179697968</title>\n<polygon fill=\"none\" stroke=\"black\" points=\"2451,-106.5 2451,-142.5 2633,-142.5 2633,-106.5 2451,-106.5\"/>\n<text text-anchor=\"middle\" x=\"2461\" y=\"-120.8\" font-family=\"Times,serif\" font-size=\"14.00\"> </text>\n<polyline fill=\"none\" stroke=\"black\" points=\"2471,-106.5 2471,-142.5 \"/>\n<text text-anchor=\"middle\" x=\"2511\" y=\"-120.8\" font-family=\"Times,serif\" font-size=\"14.00\">data 0.1464</text>\n<polyline fill=\"none\" stroke=\"black\" points=\"2551,-106.5 2551,-142.5 \"/>\n<text text-anchor=\"middle\" x=\"2592\" y=\"-120.8\" font-family=\"Times,serif\" font-size=\"14.00\">grad 4.8284</text>\n</g>\n<!-- 140235179697968&#45;&gt;140235179697776* -->\n<g id=\"edge27\" class=\"edge\">\n<title>140235179697968&#45;&gt;140235179697776*</title>\n<path fill=\"none\" stroke=\"black\" d=\"M2633.18,-109.08C2642.42,-107.49 2651.38,-105.96 2659.47,-104.58\"/>\n<polygon fill=\"black\" stroke=\"black\" points=\"2660.29,-107.99 2669.56,-102.85 2659.11,-101.09 2660.29,-107.99\"/>\n</g>\n<!-- 140235179697968**&#45;1 -->\n<g id=\"node19\" class=\"node\">\n<title>140235179697968**&#45;1</title>\n<ellipse fill=\"none\" stroke=\"black\" cx=\"2324\" cy=\"-126.5\" rx=\"27\" ry=\"18\"/>\n<text text-anchor=\"middle\" x=\"2324\" y=\"-122.8\" font-family=\"Times,serif\" font-size=\"14.00\">**&#45;1</text>\n</g>\n<!-- 140235179697968**&#45;1&#45;&gt;140235179697968 -->\n<g id=\"edge7\" class=\"edge\">\n<title>140235179697968**&#45;1&#45;&gt;140235179697968</title>\n<path fill=\"none\" stroke=\"black\" d=\"M2351.05,-126.26C2373.53,-126.05 2407.48,-125.74 2440.5,-125.43\"/>\n<polygon fill=\"black\" stroke=\"black\" points=\"2440.74,-128.93 2450.7,-125.34 2440.67,-121.93 2440.74,-128.93\"/>\n</g>\n<!-- 140235179697488 -->\n<g id=\"node20\" class=\"node\">\n<title>140235179697488</title>\n<polygon fill=\"none\" stroke=\"black\" points=\"672,-82.5 672,-118.5 945,-118.5 945,-82.5 672,-82.5\"/>\n<text text-anchor=\"middle\" x=\"725\" y=\"-96.8\" font-family=\"Times,serif\" font-size=\"14.00\">x1*w1 + x2*w2</text>\n<polyline fill=\"none\" stroke=\"black\" points=\"778,-82.5 778,-118.5 \"/>\n<text text-anchor=\"middle\" x=\"820.5\" y=\"-96.8\" font-family=\"Times,serif\" font-size=\"14.00\">data &#45;6.0000</text>\n<polyline fill=\"none\" stroke=\"black\" points=\"863,-82.5 863,-118.5 \"/>\n<text text-anchor=\"middle\" x=\"904\" y=\"-96.8\" font-family=\"Times,serif\" font-size=\"14.00\">grad 0.5000</text>\n</g>\n<!-- 140235179697488&#45;&gt;140235179697392+ -->\n<g id=\"edge20\" class=\"edge\">\n<title>140235179697488&#45;&gt;140235179697392+</title>\n<path fill=\"none\" stroke=\"black\" d=\"M941.24,-118.51C952.12,-120 962.4,-121.4 971.45,-122.64\"/>\n<polygon fill=\"black\" stroke=\"black\" points=\"971.11,-126.13 981.49,-124.01 972.05,-119.19 971.11,-126.13\"/>\n</g>\n<!-- 140235179697488+&#45;&gt;140235179697488 -->\n<g id=\"edge8\" class=\"edge\">\n<title>140235179697488+&#45;&gt;140235179697488</title>\n<path fill=\"none\" stroke=\"black\" d=\"M636.23,-100.5C643.7,-100.5 652.41,-100.5 661.87,-100.5\"/>\n<polygon fill=\"black\" stroke=\"black\" points=\"661.98,-104 671.98,-100.5 661.98,-97 661.98,-104\"/>\n</g>\n<!-- 140235179698016 -->\n<g id=\"node22\" class=\"node\">\n<title>140235179698016</title>\n<polygon fill=\"none\" stroke=\"black\" points=\"4,-110.5 4,-146.5 196,-146.5 196,-110.5 4,-110.5\"/>\n<text text-anchor=\"middle\" x=\"19\" y=\"-124.8\" font-family=\"Times,serif\" font-size=\"14.00\">x2</text>\n<polyline fill=\"none\" stroke=\"black\" points=\"34,-110.5 34,-146.5 \"/>\n<text text-anchor=\"middle\" x=\"74\" y=\"-124.8\" font-family=\"Times,serif\" font-size=\"14.00\">data 0.0000</text>\n<polyline fill=\"none\" stroke=\"black\" points=\"114,-110.5 114,-146.5 \"/>\n<text text-anchor=\"middle\" x=\"155\" y=\"-124.8\" font-family=\"Times,serif\" font-size=\"14.00\">grad 0.5000</text>\n</g>\n<!-- 140235179698016&#45;&gt;140235179699408* -->\n<g id=\"edge17\" class=\"edge\">\n<title>140235179698016&#45;&gt;140235179699408*</title>\n<path fill=\"none\" stroke=\"black\" d=\"M196.05,-128.5C206.52,-128.5 216.65,-128.5 225.71,-128.5\"/>\n<polygon fill=\"black\" stroke=\"black\" points=\"225.79,-132 235.79,-128.5 225.79,-125 225.79,-132\"/>\n</g>\n<!-- 140235179698592 -->\n<g id=\"node23\" class=\"node\">\n<title>140235179698592</title>\n<polygon fill=\"none\" stroke=\"black\" points=\"1690,-26.5 1690,-62.5 1885,-62.5 1885,-26.5 1690,-26.5\"/>\n<text text-anchor=\"middle\" x=\"1704\" y=\"-40.8\" font-family=\"Times,serif\" font-size=\"14.00\">&#45;1</text>\n<polyline fill=\"none\" stroke=\"black\" points=\"1718,-26.5 1718,-62.5 \"/>\n<text text-anchor=\"middle\" x=\"1760.5\" y=\"-40.8\" font-family=\"Times,serif\" font-size=\"14.00\">data &#45;1.0000</text>\n<polyline fill=\"none\" stroke=\"black\" points=\"1803,-26.5 1803,-62.5 \"/>\n<text text-anchor=\"middle\" x=\"1844\" y=\"-40.8\" font-family=\"Times,serif\" font-size=\"14.00\">grad 0.1464</text>\n</g>\n<!-- 140235179698592&#45;&gt;140235179698640+ -->\n<g id=\"edge21\" class=\"edge\">\n<title>140235179698592&#45;&gt;140235179698640+</title>\n<path fill=\"none\" stroke=\"black\" d=\"M1885.27,-60.98C1894.59,-62.57 1903.57,-64.1 1911.66,-65.48\"/>\n<polygon fill=\"black\" stroke=\"black\" points=\"1911.29,-68.97 1921.73,-67.2 1912.46,-62.07 1911.29,-68.97\"/>\n</g>\n<!-- 140235179698112 -->\n<g id=\"node24\" class=\"node\">\n<title>140235179698112</title>\n<polygon fill=\"none\" stroke=\"black\" points=\"2011,-108.5 2011,-144.5 2197,-144.5 2197,-108.5 2011,-108.5\"/>\n<text text-anchor=\"middle\" x=\"2021\" y=\"-122.8\" font-family=\"Times,serif\" font-size=\"14.00\"> </text>\n<polyline fill=\"none\" stroke=\"black\" points=\"2031,-108.5 2031,-144.5 \"/>\n<text text-anchor=\"middle\" x=\"2071\" y=\"-122.8\" font-family=\"Times,serif\" font-size=\"14.00\">data 6.8284</text>\n<polyline fill=\"none\" stroke=\"black\" points=\"2111,-108.5 2111,-144.5 \"/>\n<text text-anchor=\"middle\" x=\"2154\" y=\"-122.8\" font-family=\"Times,serif\" font-size=\"14.00\">grad &#45;0.1036</text>\n</g>\n<!-- 140235179698112&#45;&gt;140235179697968**&#45;1 -->\n<g id=\"edge18\" class=\"edge\">\n<title>140235179698112&#45;&gt;140235179697968**&#45;1</title>\n<path fill=\"none\" stroke=\"black\" d=\"M2197.14,-126.5C2228.72,-126.5 2262.24,-126.5 2286.74,-126.5\"/>\n<polygon fill=\"black\" stroke=\"black\" points=\"2286.98,-130 2296.98,-126.5 2286.98,-123 2286.98,-130\"/>\n</g>\n<!-- 140235179698112+&#45;&gt;140235179698112 -->\n<g id=\"edge9\" class=\"edge\">\n<title>140235179698112+&#45;&gt;140235179698112</title>\n<path fill=\"none\" stroke=\"black\" d=\"M1975.12,-126.5C1982.62,-126.5 1991.29,-126.5 2000.5,-126.5\"/>\n<polygon fill=\"black\" stroke=\"black\" points=\"2000.69,-130 2010.69,-126.5 2000.69,-123 2000.69,-130\"/>\n</g>\n<!-- 140235179698640 -->\n<g id=\"node26\" class=\"node\">\n<title>140235179698640</title>\n<polygon fill=\"none\" stroke=\"black\" points=\"2233,-53.5 2233,-89.5 2415,-89.5 2415,-53.5 2233,-53.5\"/>\n<text text-anchor=\"middle\" x=\"2243\" y=\"-67.8\" font-family=\"Times,serif\" font-size=\"14.00\"> </text>\n<polyline fill=\"none\" stroke=\"black\" points=\"2253,-53.5 2253,-89.5 \"/>\n<text text-anchor=\"middle\" x=\"2293\" y=\"-67.8\" font-family=\"Times,serif\" font-size=\"14.00\">data 4.8284</text>\n<polyline fill=\"none\" stroke=\"black\" points=\"2333,-53.5 2333,-89.5 \"/>\n<text text-anchor=\"middle\" x=\"2374\" y=\"-67.8\" font-family=\"Times,serif\" font-size=\"14.00\">grad 0.1464</text>\n</g>\n<!-- 140235179698640&#45;&gt;140235179697776* -->\n<g id=\"edge11\" class=\"edge\">\n<title>140235179698640&#45;&gt;140235179697776*</title>\n<path fill=\"none\" stroke=\"black\" d=\"M2415.04,-78.07C2493.41,-83.79 2602.98,-91.79 2658.96,-95.87\"/>\n<polygon fill=\"black\" stroke=\"black\" points=\"2658.87,-99.37 2669.1,-96.61 2659.38,-92.39 2658.87,-99.37\"/>\n</g>\n<!-- 140235179698640+&#45;&gt;140235179698640 -->\n<g id=\"edge10\" class=\"edge\">\n<title>140235179698640+&#45;&gt;140235179698640</title>\n<path fill=\"none\" stroke=\"black\" d=\"M1975,-71.5C2025.46,-71.5 2139.06,-71.5 2222.81,-71.5\"/>\n<polygon fill=\"black\" stroke=\"black\" points=\"2222.87,-75 2232.87,-71.5 2222.87,-68 2222.87,-75\"/>\n</g>\n<!-- 140235179697632 -->\n<g id=\"node28\" class=\"node\">\n<title>140235179697632</title>\n<polygon fill=\"none\" stroke=\"black\" points=\"1693,-136.5 1693,-172.5 1882,-172.5 1882,-136.5 1693,-136.5\"/>\n<text text-anchor=\"middle\" x=\"1704.5\" y=\"-150.8\" font-family=\"Times,serif\" font-size=\"14.00\">1</text>\n<polyline fill=\"none\" stroke=\"black\" points=\"1716,-136.5 1716,-172.5 \"/>\n<text text-anchor=\"middle\" x=\"1756\" y=\"-150.8\" font-family=\"Times,serif\" font-size=\"14.00\">data 1.0000</text>\n<polyline fill=\"none\" stroke=\"black\" points=\"1796,-136.5 1796,-172.5 \"/>\n<text text-anchor=\"middle\" x=\"1839\" y=\"-150.8\" font-family=\"Times,serif\" font-size=\"14.00\">grad &#45;0.1036</text>\n</g>\n<!-- 140235179697632&#45;&gt;140235179698112+ -->\n<g id=\"edge15\" class=\"edge\">\n<title>140235179697632&#45;&gt;140235179698112+</title>\n<path fill=\"none\" stroke=\"black\" d=\"M1882.07,-137.97C1892.58,-136.11 1902.73,-134.32 1911.77,-132.72\"/>\n<polygon fill=\"black\" stroke=\"black\" points=\"1912.58,-136.14 1921.82,-130.95 1911.36,-129.24 1912.58,-136.14\"/>\n</g>\n</g>\n</svg>\n"
          },
          "metadata": {},
          "execution_count": 49
        }
      ]
    },
    {
      "cell_type": "code",
      "source": [
        "o = build_graph_tanh()\n",
        "o.backward()\n",
        "draw_dot(o)"
      ],
      "metadata": {
        "colab": {
          "base_uri": "https://localhost:8080/",
          "height": 321
        },
        "id": "aaAthC04Mo-e",
        "outputId": "1733a605-4c7c-4d9e-9084-6dc6a73c4e21"
      },
      "execution_count": 50,
      "outputs": [
        {
          "output_type": "execute_result",
          "data": {
            "text/plain": [
              "<graphviz.dot.Digraph at 0x7f8b0c0b6940>"
            ],
            "image/svg+xml": "<?xml version=\"1.0\" encoding=\"UTF-8\" standalone=\"no\"?>\n<!DOCTYPE svg PUBLIC \"-//W3C//DTD SVG 1.1//EN\"\n \"http://www.w3.org/Graphics/SVG/1.1/DTD/svg11.dtd\">\n<!-- Generated by graphviz version 2.43.0 (0)\n -->\n<!-- Title: %3 Pages: 1 -->\n<svg width=\"2952pt\" height=\"210pt\"\n viewBox=\"0.00 0.00 2952.00 210.00\" xmlns=\"http://www.w3.org/2000/svg\" xmlns:xlink=\"http://www.w3.org/1999/xlink\">\n<g id=\"graph0\" class=\"graph\" transform=\"scale(1 1) rotate(0) translate(4 206)\">\n<title>%3</title>\n<polygon fill=\"white\" stroke=\"transparent\" points=\"-4,4 -4,-206 2948,-206 2948,4 -4,4\"/>\n<!-- 140235179255312 -->\n<g id=\"node1\" class=\"node\">\n<title>140235179255312</title>\n<polygon fill=\"none\" stroke=\"black\" points=\"1690,-136.5 1690,-172.5 1885,-172.5 1885,-136.5 1690,-136.5\"/>\n<text text-anchor=\"middle\" x=\"1704\" y=\"-150.8\" font-family=\"Times,serif\" font-size=\"14.00\">&#45;1</text>\n<polyline fill=\"none\" stroke=\"black\" points=\"1718,-136.5 1718,-172.5 \"/>\n<text text-anchor=\"middle\" x=\"1760.5\" y=\"-150.8\" font-family=\"Times,serif\" font-size=\"14.00\">data &#45;1.0000</text>\n<polyline fill=\"none\" stroke=\"black\" points=\"1803,-136.5 1803,-172.5 \"/>\n<text text-anchor=\"middle\" x=\"1844\" y=\"-150.8\" font-family=\"Times,serif\" font-size=\"14.00\">grad 0.1464</text>\n</g>\n<!-- 140235179255360+ -->\n<g id=\"node5\" class=\"node\">\n<title>140235179255360+</title>\n<ellipse fill=\"none\" stroke=\"black\" cx=\"1948\" cy=\"-126.5\" rx=\"27\" ry=\"18\"/>\n<text text-anchor=\"middle\" x=\"1948\" y=\"-122.8\" font-family=\"Times,serif\" font-size=\"14.00\">+</text>\n</g>\n<!-- 140235179255312&#45;&gt;140235179255360+ -->\n<g id=\"edge25\" class=\"edge\">\n<title>140235179255312&#45;&gt;140235179255360+</title>\n<path fill=\"none\" stroke=\"black\" d=\"M1885.27,-137.41C1894.59,-135.76 1903.57,-134.17 1911.66,-132.74\"/>\n<polygon fill=\"black\" stroke=\"black\" points=\"1912.49,-136.15 1921.73,-130.96 1911.28,-129.26 1912.49,-136.15\"/>\n</g>\n<!-- 140235179255840 -->\n<g id=\"node2\" class=\"node\">\n<title>140235179255840</title>\n<polygon fill=\"none\" stroke=\"black\" points=\"2451,-57.5 2451,-93.5 2633,-93.5 2633,-57.5 2451,-57.5\"/>\n<text text-anchor=\"middle\" x=\"2461\" y=\"-71.8\" font-family=\"Times,serif\" font-size=\"14.00\"> </text>\n<polyline fill=\"none\" stroke=\"black\" points=\"2471,-57.5 2471,-93.5 \"/>\n<text text-anchor=\"middle\" x=\"2511\" y=\"-71.8\" font-family=\"Times,serif\" font-size=\"14.00\">data 0.1464</text>\n<polyline fill=\"none\" stroke=\"black\" points=\"2551,-57.5 2551,-93.5 \"/>\n<text text-anchor=\"middle\" x=\"2592\" y=\"-71.8\" font-family=\"Times,serif\" font-size=\"14.00\">grad 4.8284</text>\n</g>\n<!-- 140235179256080* -->\n<g id=\"node16\" class=\"node\">\n<title>140235179256080*</title>\n<ellipse fill=\"none\" stroke=\"black\" cx=\"2696\" cy=\"-98.5\" rx=\"27\" ry=\"18\"/>\n<text text-anchor=\"middle\" x=\"2696\" y=\"-94.8\" font-family=\"Times,serif\" font-size=\"14.00\">*</text>\n</g>\n<!-- 140235179255840&#45;&gt;140235179256080* -->\n<g id=\"edge21\" class=\"edge\">\n<title>140235179255840&#45;&gt;140235179256080*</title>\n<path fill=\"none\" stroke=\"black\" d=\"M2633.18,-89.15C2642.42,-90.54 2651.38,-91.9 2659.47,-93.12\"/>\n<polygon fill=\"black\" stroke=\"black\" points=\"2659.15,-96.61 2669.56,-94.65 2660.19,-89.69 2659.15,-96.61\"/>\n</g>\n<!-- 140235179255840**&#45;1 -->\n<g id=\"node3\" class=\"node\">\n<title>140235179255840**&#45;1</title>\n<ellipse fill=\"none\" stroke=\"black\" cx=\"2324\" cy=\"-71.5\" rx=\"27\" ry=\"18\"/>\n<text text-anchor=\"middle\" x=\"2324\" y=\"-67.8\" font-family=\"Times,serif\" font-size=\"14.00\">**&#45;1</text>\n</g>\n<!-- 140235179255840**&#45;1&#45;&gt;140235179255840 -->\n<g id=\"edge1\" class=\"edge\">\n<title>140235179255840**&#45;1&#45;&gt;140235179255840</title>\n<path fill=\"none\" stroke=\"black\" d=\"M2351.05,-71.98C2373.53,-72.4 2407.48,-73.03 2440.5,-73.64\"/>\n<polygon fill=\"black\" stroke=\"black\" points=\"2440.64,-77.14 2450.7,-73.83 2440.77,-70.14 2440.64,-77.14\"/>\n</g>\n<!-- 140235179255360 -->\n<g id=\"node4\" class=\"node\">\n<title>140235179255360</title>\n<polygon fill=\"none\" stroke=\"black\" points=\"2233,-108.5 2233,-144.5 2415,-144.5 2415,-108.5 2233,-108.5\"/>\n<text text-anchor=\"middle\" x=\"2243\" y=\"-122.8\" font-family=\"Times,serif\" font-size=\"14.00\"> </text>\n<polyline fill=\"none\" stroke=\"black\" points=\"2253,-108.5 2253,-144.5 \"/>\n<text text-anchor=\"middle\" x=\"2293\" y=\"-122.8\" font-family=\"Times,serif\" font-size=\"14.00\">data 4.8284</text>\n<polyline fill=\"none\" stroke=\"black\" points=\"2333,-108.5 2333,-144.5 \"/>\n<text text-anchor=\"middle\" x=\"2374\" y=\"-122.8\" font-family=\"Times,serif\" font-size=\"14.00\">grad 0.1464</text>\n</g>\n<!-- 140235179255360&#45;&gt;140235179256080* -->\n<g id=\"edge24\" class=\"edge\">\n<title>140235179255360&#45;&gt;140235179256080*</title>\n<path fill=\"none\" stroke=\"black\" d=\"M2415.31,-119.9C2476.7,-115.37 2559.76,-109.19 2633,-103.5 2641.42,-102.85 2650.48,-102.13 2659.01,-101.44\"/>\n<polygon fill=\"black\" stroke=\"black\" points=\"2659.37,-104.92 2669.06,-100.63 2658.81,-97.94 2659.37,-104.92\"/>\n</g>\n<!-- 140235179255360+&#45;&gt;140235179255360 -->\n<g id=\"edge2\" class=\"edge\">\n<title>140235179255360+&#45;&gt;140235179255360</title>\n<path fill=\"none\" stroke=\"black\" d=\"M1975,-126.5C2025.46,-126.5 2139.06,-126.5 2222.81,-126.5\"/>\n<polygon fill=\"black\" stroke=\"black\" points=\"2222.87,-130 2232.87,-126.5 2222.87,-123 2222.87,-130\"/>\n</g>\n<!-- 140235179254880 -->\n<g id=\"node6\" class=\"node\">\n<title>140235179254880</title>\n<polygon fill=\"none\" stroke=\"black\" points=\"1071,-109.5 1071,-145.5 1256,-145.5 1256,-109.5 1071,-109.5\"/>\n<text text-anchor=\"middle\" x=\"1082.5\" y=\"-123.8\" font-family=\"Times,serif\" font-size=\"14.00\">2</text>\n<polyline fill=\"none\" stroke=\"black\" points=\"1094,-109.5 1094,-145.5 \"/>\n<text text-anchor=\"middle\" x=\"1134\" y=\"-123.8\" font-family=\"Times,serif\" font-size=\"14.00\">data 2.0000</text>\n<polyline fill=\"none\" stroke=\"black\" points=\"1174,-109.5 1174,-145.5 \"/>\n<text text-anchor=\"middle\" x=\"1215\" y=\"-123.8\" font-family=\"Times,serif\" font-size=\"14.00\">grad 0.2203</text>\n</g>\n<!-- 140235179254928* -->\n<g id=\"node9\" class=\"node\">\n<title>140235179254928*</title>\n<ellipse fill=\"none\" stroke=\"black\" cx=\"1319\" cy=\"-99.5\" rx=\"27\" ry=\"18\"/>\n<text text-anchor=\"middle\" x=\"1319\" y=\"-95.8\" font-family=\"Times,serif\" font-size=\"14.00\">*</text>\n</g>\n<!-- 140235179254880&#45;&gt;140235179254928* -->\n<g id=\"edge20\" class=\"edge\">\n<title>140235179254880&#45;&gt;140235179254928*</title>\n<path fill=\"none\" stroke=\"black\" d=\"M1256.01,-110.81C1265.49,-109.08 1274.66,-107.41 1282.9,-105.9\"/>\n<polygon fill=\"black\" stroke=\"black\" points=\"1283.6,-109.33 1292.81,-104.09 1282.35,-102.45 1283.6,-109.33\"/>\n</g>\n<!-- 140235179698784 -->\n<g id=\"node7\" class=\"node\">\n<title>140235179698784</title>\n<polygon fill=\"none\" stroke=\"black\" points=\"2.5,-165.5 2.5,-201.5 197.5,-201.5 197.5,-165.5 2.5,-165.5\"/>\n<text text-anchor=\"middle\" x=\"19\" y=\"-179.8\" font-family=\"Times,serif\" font-size=\"14.00\">w2</text>\n<polyline fill=\"none\" stroke=\"black\" points=\"35.5,-165.5 35.5,-201.5 \"/>\n<text text-anchor=\"middle\" x=\"75.5\" y=\"-179.8\" font-family=\"Times,serif\" font-size=\"14.00\">data 1.0000</text>\n<polyline fill=\"none\" stroke=\"black\" points=\"115.5,-165.5 115.5,-201.5 \"/>\n<text text-anchor=\"middle\" x=\"156.5\" y=\"-179.8\" font-family=\"Times,serif\" font-size=\"14.00\">grad 0.0000</text>\n</g>\n<!-- 140235179254256* -->\n<g id=\"node13\" class=\"node\">\n<title>140235179254256*</title>\n<ellipse fill=\"none\" stroke=\"black\" cx=\"263\" cy=\"-128.5\" rx=\"27\" ry=\"18\"/>\n<text text-anchor=\"middle\" x=\"263\" y=\"-124.8\" font-family=\"Times,serif\" font-size=\"14.00\">*</text>\n</g>\n<!-- 140235179698784&#45;&gt;140235179254256* -->\n<g id=\"edge12\" class=\"edge\">\n<title>140235179698784&#45;&gt;140235179254256*</title>\n<path fill=\"none\" stroke=\"black\" d=\"M172.53,-165.44C181.84,-162.67 191.2,-159.67 200,-156.5 210.53,-152.71 221.75,-147.9 231.72,-143.33\"/>\n<polygon fill=\"black\" stroke=\"black\" points=\"233.25,-146.48 240.82,-139.07 230.28,-140.14 233.25,-146.48\"/>\n</g>\n<!-- 140235179254928 -->\n<g id=\"node8\" class=\"node\">\n<title>140235179254928</title>\n<polygon fill=\"none\" stroke=\"black\" points=\"1382,-81.5 1382,-117.5 1564,-117.5 1564,-81.5 1382,-81.5\"/>\n<text text-anchor=\"middle\" x=\"1392\" y=\"-95.8\" font-family=\"Times,serif\" font-size=\"14.00\"> </text>\n<polyline fill=\"none\" stroke=\"black\" points=\"1402,-81.5 1402,-117.5 \"/>\n<text text-anchor=\"middle\" x=\"1442\" y=\"-95.8\" font-family=\"Times,serif\" font-size=\"14.00\">data 1.7627</text>\n<polyline fill=\"none\" stroke=\"black\" points=\"1482,-81.5 1482,-117.5 \"/>\n<text text-anchor=\"middle\" x=\"1523\" y=\"-95.8\" font-family=\"Times,serif\" font-size=\"14.00\">grad 0.2500</text>\n</g>\n<!-- 140235179255120exp -->\n<g id=\"node23\" class=\"node\">\n<title>140235179255120exp</title>\n<ellipse fill=\"none\" stroke=\"black\" cx=\"1627\" cy=\"-99.5\" rx=\"27\" ry=\"18\"/>\n<text text-anchor=\"middle\" x=\"1627\" y=\"-95.8\" font-family=\"Times,serif\" font-size=\"14.00\">exp</text>\n</g>\n<!-- 140235179254928&#45;&gt;140235179255120exp -->\n<g id=\"edge22\" class=\"edge\">\n<title>140235179254928&#45;&gt;140235179255120exp</title>\n<path fill=\"none\" stroke=\"black\" d=\"M1564.18,-99.5C1573.14,-99.5 1581.83,-99.5 1589.73,-99.5\"/>\n<polygon fill=\"black\" stroke=\"black\" points=\"1589.96,-103 1599.96,-99.5 1589.96,-96 1589.96,-103\"/>\n</g>\n<!-- 140235179254928*&#45;&gt;140235179254928 -->\n<g id=\"edge3\" class=\"edge\">\n<title>140235179254928*&#45;&gt;140235179254928</title>\n<path fill=\"none\" stroke=\"black\" d=\"M1346.13,-99.5C1353.67,-99.5 1362.39,-99.5 1371.64,-99.5\"/>\n<polygon fill=\"black\" stroke=\"black\" points=\"1371.87,-103 1381.87,-99.5 1371.87,-96 1371.87,-103\"/>\n</g>\n<!-- 140235179254448 -->\n<g id=\"node10\" class=\"node\">\n<title>140235179254448</title>\n<polygon fill=\"none\" stroke=\"black\" points=\"672,-82.5 672,-118.5 945,-118.5 945,-82.5 672,-82.5\"/>\n<text text-anchor=\"middle\" x=\"725\" y=\"-96.8\" font-family=\"Times,serif\" font-size=\"14.00\">x1*w1 + x2*w2</text>\n<polyline fill=\"none\" stroke=\"black\" points=\"778,-82.5 778,-118.5 \"/>\n<text text-anchor=\"middle\" x=\"820.5\" y=\"-96.8\" font-family=\"Times,serif\" font-size=\"14.00\">data &#45;6.0000</text>\n<polyline fill=\"none\" stroke=\"black\" points=\"863,-82.5 863,-118.5 \"/>\n<text text-anchor=\"middle\" x=\"904\" y=\"-96.8\" font-family=\"Times,serif\" font-size=\"14.00\">grad 0.5000</text>\n</g>\n<!-- 140235179254640+ -->\n<g id=\"node26\" class=\"node\">\n<title>140235179254640+</title>\n<ellipse fill=\"none\" stroke=\"black\" cx=\"1008\" cy=\"-72.5\" rx=\"27\" ry=\"18\"/>\n<text text-anchor=\"middle\" x=\"1008\" y=\"-68.8\" font-family=\"Times,serif\" font-size=\"14.00\">+</text>\n</g>\n<!-- 140235179254448&#45;&gt;140235179254640+ -->\n<g id=\"edge27\" class=\"edge\">\n<title>140235179254448&#45;&gt;140235179254640+</title>\n<path fill=\"none\" stroke=\"black\" d=\"M936.53,-82.49C949.09,-80.71 960.99,-79.02 971.3,-77.56\"/>\n<polygon fill=\"black\" stroke=\"black\" points=\"972.03,-80.99 981.44,-76.12 971.05,-74.06 972.03,-80.99\"/>\n</g>\n<!-- 140235179254448+ -->\n<g id=\"node11\" class=\"node\">\n<title>140235179254448+</title>\n<ellipse fill=\"none\" stroke=\"black\" cx=\"609\" cy=\"-100.5\" rx=\"27\" ry=\"18\"/>\n<text text-anchor=\"middle\" x=\"609\" y=\"-96.8\" font-family=\"Times,serif\" font-size=\"14.00\">+</text>\n</g>\n<!-- 140235179254448+&#45;&gt;140235179254448 -->\n<g id=\"edge4\" class=\"edge\">\n<title>140235179254448+&#45;&gt;140235179254448</title>\n<path fill=\"none\" stroke=\"black\" d=\"M636.23,-100.5C643.7,-100.5 652.41,-100.5 661.87,-100.5\"/>\n<polygon fill=\"black\" stroke=\"black\" points=\"661.98,-104 671.98,-100.5 661.98,-97 661.98,-104\"/>\n</g>\n<!-- 140235179254256 -->\n<g id=\"node12\" class=\"node\">\n<title>140235179254256</title>\n<polygon fill=\"none\" stroke=\"black\" points=\"328.5,-110.5 328.5,-146.5 543.5,-146.5 543.5,-110.5 328.5,-110.5\"/>\n<text text-anchor=\"middle\" x=\"355\" y=\"-124.8\" font-family=\"Times,serif\" font-size=\"14.00\">x2*w2</text>\n<polyline fill=\"none\" stroke=\"black\" points=\"381.5,-110.5 381.5,-146.5 \"/>\n<text text-anchor=\"middle\" x=\"421.5\" y=\"-124.8\" font-family=\"Times,serif\" font-size=\"14.00\">data 0.0000</text>\n<polyline fill=\"none\" stroke=\"black\" points=\"461.5,-110.5 461.5,-146.5 \"/>\n<text text-anchor=\"middle\" x=\"502.5\" y=\"-124.8\" font-family=\"Times,serif\" font-size=\"14.00\">grad 0.5000</text>\n</g>\n<!-- 140235179254256&#45;&gt;140235179254448+ -->\n<g id=\"edge23\" class=\"edge\">\n<title>140235179254256&#45;&gt;140235179254448+</title>\n<path fill=\"none\" stroke=\"black\" d=\"M543.84,-111.01C554.01,-109.34 563.76,-107.74 572.44,-106.32\"/>\n<polygon fill=\"black\" stroke=\"black\" points=\"573.17,-109.75 582.47,-104.68 572.04,-102.84 573.17,-109.75\"/>\n</g>\n<!-- 140235179254256*&#45;&gt;140235179254256 -->\n<g id=\"edge5\" class=\"edge\">\n<title>140235179254256*&#45;&gt;140235179254256</title>\n<path fill=\"none\" stroke=\"black\" d=\"M290.34,-128.5C298.51,-128.5 308.08,-128.5 318.36,-128.5\"/>\n<polygon fill=\"black\" stroke=\"black\" points=\"318.39,-132 328.39,-128.5 318.39,-125 318.39,-132\"/>\n</g>\n<!-- 140235179255552 -->\n<g id=\"node14\" class=\"node\">\n<title>140235179255552</title>\n<polygon fill=\"none\" stroke=\"black\" points=\"1693,-26.5 1693,-62.5 1882,-62.5 1882,-26.5 1693,-26.5\"/>\n<text text-anchor=\"middle\" x=\"1704.5\" y=\"-40.8\" font-family=\"Times,serif\" font-size=\"14.00\">1</text>\n<polyline fill=\"none\" stroke=\"black\" points=\"1716,-26.5 1716,-62.5 \"/>\n<text text-anchor=\"middle\" x=\"1756\" y=\"-40.8\" font-family=\"Times,serif\" font-size=\"14.00\">data 1.0000</text>\n<polyline fill=\"none\" stroke=\"black\" points=\"1796,-26.5 1796,-62.5 \"/>\n<text text-anchor=\"middle\" x=\"1839\" y=\"-40.8\" font-family=\"Times,serif\" font-size=\"14.00\">grad &#45;0.1036</text>\n</g>\n<!-- 140235179255600+ -->\n<g id=\"node19\" class=\"node\">\n<title>140235179255600+</title>\n<ellipse fill=\"none\" stroke=\"black\" cx=\"1948\" cy=\"-71.5\" rx=\"27\" ry=\"18\"/>\n<text text-anchor=\"middle\" x=\"1948\" y=\"-67.8\" font-family=\"Times,serif\" font-size=\"14.00\">+</text>\n</g>\n<!-- 140235179255552&#45;&gt;140235179255600+ -->\n<g id=\"edge15\" class=\"edge\">\n<title>140235179255552&#45;&gt;140235179255600+</title>\n<path fill=\"none\" stroke=\"black\" d=\"M1882.07,-60.44C1892.48,-62.21 1902.54,-63.93 1911.52,-65.46\"/>\n<polygon fill=\"black\" stroke=\"black\" points=\"1911.06,-68.93 1921.51,-67.16 1912.24,-62.03 1911.06,-68.93\"/>\n</g>\n<!-- 140235179256080 -->\n<g id=\"node15\" class=\"node\">\n<title>140235179256080</title>\n<polygon fill=\"none\" stroke=\"black\" points=\"2759,-80.5 2759,-116.5 2944,-116.5 2944,-80.5 2759,-80.5\"/>\n<text text-anchor=\"middle\" x=\"2770.5\" y=\"-94.8\" font-family=\"Times,serif\" font-size=\"14.00\">o</text>\n<polyline fill=\"none\" stroke=\"black\" points=\"2782,-80.5 2782,-116.5 \"/>\n<text text-anchor=\"middle\" x=\"2822\" y=\"-94.8\" font-family=\"Times,serif\" font-size=\"14.00\">data 0.7071</text>\n<polyline fill=\"none\" stroke=\"black\" points=\"2862,-80.5 2862,-116.5 \"/>\n<text text-anchor=\"middle\" x=\"2903\" y=\"-94.8\" font-family=\"Times,serif\" font-size=\"14.00\">grad 1.0000</text>\n</g>\n<!-- 140235179256080*&#45;&gt;140235179256080 -->\n<g id=\"edge6\" class=\"edge\">\n<title>140235179256080*&#45;&gt;140235179256080</title>\n<path fill=\"none\" stroke=\"black\" d=\"M2723.04,-98.5C2730.58,-98.5 2739.3,-98.5 2748.57,-98.5\"/>\n<polygon fill=\"black\" stroke=\"black\" points=\"2748.81,-102 2758.81,-98.5 2748.81,-95 2748.81,-102\"/>\n</g>\n<!-- 140235179699456 -->\n<g id=\"node17\" class=\"node\">\n<title>140235179699456</title>\n<polygon fill=\"none\" stroke=\"black\" points=\"716,-27.5 716,-63.5 901,-63.5 901,-27.5 716,-27.5\"/>\n<text text-anchor=\"middle\" x=\"727.5\" y=\"-41.8\" font-family=\"Times,serif\" font-size=\"14.00\">b</text>\n<polyline fill=\"none\" stroke=\"black\" points=\"739,-27.5 739,-63.5 \"/>\n<text text-anchor=\"middle\" x=\"779\" y=\"-41.8\" font-family=\"Times,serif\" font-size=\"14.00\">data 6.8814</text>\n<polyline fill=\"none\" stroke=\"black\" points=\"819,-27.5 819,-63.5 \"/>\n<text text-anchor=\"middle\" x=\"860\" y=\"-41.8\" font-family=\"Times,serif\" font-size=\"14.00\">grad 0.5000</text>\n</g>\n<!-- 140235179699456&#45;&gt;140235179254640+ -->\n<g id=\"edge18\" class=\"edge\">\n<title>140235179699456&#45;&gt;140235179254640+</title>\n<path fill=\"none\" stroke=\"black\" d=\"M901.02,-58.01C926,-61.43 951.59,-64.93 971.37,-67.63\"/>\n<polygon fill=\"black\" stroke=\"black\" points=\"971.05,-71.12 981.43,-69.01 972,-64.18 971.05,-71.12\"/>\n</g>\n<!-- 140235179255600 -->\n<g id=\"node18\" class=\"node\">\n<title>140235179255600</title>\n<polygon fill=\"none\" stroke=\"black\" points=\"2011,-53.5 2011,-89.5 2197,-89.5 2197,-53.5 2011,-53.5\"/>\n<text text-anchor=\"middle\" x=\"2021\" y=\"-67.8\" font-family=\"Times,serif\" font-size=\"14.00\"> </text>\n<polyline fill=\"none\" stroke=\"black\" points=\"2031,-53.5 2031,-89.5 \"/>\n<text text-anchor=\"middle\" x=\"2071\" y=\"-67.8\" font-family=\"Times,serif\" font-size=\"14.00\">data 6.8284</text>\n<polyline fill=\"none\" stroke=\"black\" points=\"2111,-53.5 2111,-89.5 \"/>\n<text text-anchor=\"middle\" x=\"2154\" y=\"-67.8\" font-family=\"Times,serif\" font-size=\"14.00\">grad &#45;0.1036</text>\n</g>\n<!-- 140235179255600&#45;&gt;140235179255840**&#45;1 -->\n<g id=\"edge26\" class=\"edge\">\n<title>140235179255600&#45;&gt;140235179255840**&#45;1</title>\n<path fill=\"none\" stroke=\"black\" d=\"M2197.14,-71.5C2228.72,-71.5 2262.24,-71.5 2286.74,-71.5\"/>\n<polygon fill=\"black\" stroke=\"black\" points=\"2286.98,-75 2296.98,-71.5 2286.98,-68 2286.98,-75\"/>\n</g>\n<!-- 140235179255600+&#45;&gt;140235179255600 -->\n<g id=\"edge7\" class=\"edge\">\n<title>140235179255600+&#45;&gt;140235179255600</title>\n<path fill=\"none\" stroke=\"black\" d=\"M1975.12,-71.5C1982.62,-71.5 1991.29,-71.5 2000.5,-71.5\"/>\n<polygon fill=\"black\" stroke=\"black\" points=\"2000.69,-75 2010.69,-71.5 2000.69,-68 2000.69,-75\"/>\n</g>\n<!-- 140235179254016 -->\n<g id=\"node20\" class=\"node\">\n<title>140235179254016</title>\n<polygon fill=\"none\" stroke=\"black\" points=\"326,-55.5 326,-91.5 546,-91.5 546,-55.5 326,-55.5\"/>\n<text text-anchor=\"middle\" x=\"352.5\" y=\"-69.8\" font-family=\"Times,serif\" font-size=\"14.00\">x1*w1</text>\n<polyline fill=\"none\" stroke=\"black\" points=\"379,-55.5 379,-91.5 \"/>\n<text text-anchor=\"middle\" x=\"421.5\" y=\"-69.8\" font-family=\"Times,serif\" font-size=\"14.00\">data &#45;6.0000</text>\n<polyline fill=\"none\" stroke=\"black\" points=\"464,-55.5 464,-91.5 \"/>\n<text text-anchor=\"middle\" x=\"505\" y=\"-69.8\" font-family=\"Times,serif\" font-size=\"14.00\">grad 0.5000</text>\n</g>\n<!-- 140235179254016&#45;&gt;140235179254448+ -->\n<g id=\"edge19\" class=\"edge\">\n<title>140235179254016&#45;&gt;140235179254448+</title>\n<path fill=\"none\" stroke=\"black\" d=\"M546.27,-90.75C555.64,-92.23 564.6,-93.65 572.65,-94.92\"/>\n<polygon fill=\"black\" stroke=\"black\" points=\"572.23,-98.4 582.65,-96.5 573.32,-91.48 572.23,-98.4\"/>\n</g>\n<!-- 140235179254016* -->\n<g id=\"node21\" class=\"node\">\n<title>140235179254016*</title>\n<ellipse fill=\"none\" stroke=\"black\" cx=\"263\" cy=\"-73.5\" rx=\"27\" ry=\"18\"/>\n<text text-anchor=\"middle\" x=\"263\" y=\"-69.8\" font-family=\"Times,serif\" font-size=\"14.00\">*</text>\n</g>\n<!-- 140235179254016*&#45;&gt;140235179254016 -->\n<g id=\"edge8\" class=\"edge\">\n<title>140235179254016*&#45;&gt;140235179254016</title>\n<path fill=\"none\" stroke=\"black\" d=\"M290.34,-73.5C297.77,-73.5 306.37,-73.5 315.6,-73.5\"/>\n<polygon fill=\"black\" stroke=\"black\" points=\"315.84,-77 325.84,-73.5 315.84,-70 315.84,-77\"/>\n</g>\n<!-- 140235179255120 -->\n<g id=\"node22\" class=\"node\">\n<title>140235179255120</title>\n<polygon fill=\"none\" stroke=\"black\" points=\"1695,-81.5 1695,-117.5 1880,-117.5 1880,-81.5 1695,-81.5\"/>\n<text text-anchor=\"middle\" x=\"1706.5\" y=\"-95.8\" font-family=\"Times,serif\" font-size=\"14.00\">e</text>\n<polyline fill=\"none\" stroke=\"black\" points=\"1718,-81.5 1718,-117.5 \"/>\n<text text-anchor=\"middle\" x=\"1758\" y=\"-95.8\" font-family=\"Times,serif\" font-size=\"14.00\">data 5.8284</text>\n<polyline fill=\"none\" stroke=\"black\" points=\"1798,-81.5 1798,-117.5 \"/>\n<text text-anchor=\"middle\" x=\"1839\" y=\"-95.8\" font-family=\"Times,serif\" font-size=\"14.00\">grad 0.0429</text>\n</g>\n<!-- 140235179255120&#45;&gt;140235179255360+ -->\n<g id=\"edge11\" class=\"edge\">\n<title>140235179255120&#45;&gt;140235179255360+</title>\n<path fill=\"none\" stroke=\"black\" d=\"M1880.24,-115.13C1891.28,-117.01 1901.99,-118.83 1911.49,-120.45\"/>\n<polygon fill=\"black\" stroke=\"black\" points=\"1911.19,-123.95 1921.64,-122.18 1912.37,-117.05 1911.19,-123.95\"/>\n</g>\n<!-- 140235179255120&#45;&gt;140235179255600+ -->\n<g id=\"edge14\" class=\"edge\">\n<title>140235179255120&#45;&gt;140235179255600+</title>\n<path fill=\"none\" stroke=\"black\" d=\"M1880.24,-83.29C1891.28,-81.34 1901.99,-79.45 1911.49,-77.77\"/>\n<polygon fill=\"black\" stroke=\"black\" points=\"1912.4,-81.17 1921.64,-75.98 1911.18,-74.27 1912.4,-81.17\"/>\n</g>\n<!-- 140235179255120exp&#45;&gt;140235179255120 -->\n<g id=\"edge9\" class=\"edge\">\n<title>140235179255120exp&#45;&gt;140235179255120</title>\n<path fill=\"none\" stroke=\"black\" d=\"M1654.17,-99.5C1662.99,-99.5 1673.43,-99.5 1684.52,-99.5\"/>\n<polygon fill=\"black\" stroke=\"black\" points=\"1684.86,-103 1694.86,-99.5 1684.86,-96 1684.86,-103\"/>\n</g>\n<!-- 140235179696960 -->\n<g id=\"node24\" class=\"node\">\n<title>140235179696960</title>\n<polygon fill=\"none\" stroke=\"black\" points=\"0,-55.5 0,-91.5 200,-91.5 200,-55.5 0,-55.5\"/>\n<text text-anchor=\"middle\" x=\"16.5\" y=\"-69.8\" font-family=\"Times,serif\" font-size=\"14.00\">w1</text>\n<polyline fill=\"none\" stroke=\"black\" points=\"33,-55.5 33,-91.5 \"/>\n<text text-anchor=\"middle\" x=\"75.5\" y=\"-69.8\" font-family=\"Times,serif\" font-size=\"14.00\">data &#45;3.0000</text>\n<polyline fill=\"none\" stroke=\"black\" points=\"118,-55.5 118,-91.5 \"/>\n<text text-anchor=\"middle\" x=\"159\" y=\"-69.8\" font-family=\"Times,serif\" font-size=\"14.00\">grad 1.0000</text>\n</g>\n<!-- 140235179696960&#45;&gt;140235179254016* -->\n<g id=\"edge16\" class=\"edge\">\n<title>140235179696960&#45;&gt;140235179254016*</title>\n<path fill=\"none\" stroke=\"black\" d=\"M200.21,-73.5C209.2,-73.5 217.86,-73.5 225.7,-73.5\"/>\n<polygon fill=\"black\" stroke=\"black\" points=\"225.85,-77 235.85,-73.5 225.85,-70 225.85,-77\"/>\n</g>\n<!-- 140235179254640 -->\n<g id=\"node25\" class=\"node\">\n<title>140235179254640</title>\n<polygon fill=\"none\" stroke=\"black\" points=\"1071,-54.5 1071,-90.5 1256,-90.5 1256,-54.5 1071,-54.5\"/>\n<text text-anchor=\"middle\" x=\"1082.5\" y=\"-68.8\" font-family=\"Times,serif\" font-size=\"14.00\">n</text>\n<polyline fill=\"none\" stroke=\"black\" points=\"1094,-54.5 1094,-90.5 \"/>\n<text text-anchor=\"middle\" x=\"1134\" y=\"-68.8\" font-family=\"Times,serif\" font-size=\"14.00\">data 0.8814</text>\n<polyline fill=\"none\" stroke=\"black\" points=\"1174,-54.5 1174,-90.5 \"/>\n<text text-anchor=\"middle\" x=\"1215\" y=\"-68.8\" font-family=\"Times,serif\" font-size=\"14.00\">grad 0.5000</text>\n</g>\n<!-- 140235179254640&#45;&gt;140235179254928* -->\n<g id=\"edge13\" class=\"edge\">\n<title>140235179254640&#45;&gt;140235179254928*</title>\n<path fill=\"none\" stroke=\"black\" d=\"M1256.01,-88.6C1265.49,-90.26 1274.66,-91.88 1282.9,-93.33\"/>\n<polygon fill=\"black\" stroke=\"black\" points=\"1282.36,-96.78 1292.81,-95.07 1283.57,-89.89 1282.36,-96.78\"/>\n</g>\n<!-- 140235179254640+&#45;&gt;140235179254640 -->\n<g id=\"edge10\" class=\"edge\">\n<title>140235179254640+&#45;&gt;140235179254640</title>\n<path fill=\"none\" stroke=\"black\" d=\"M1035.04,-72.5C1042.58,-72.5 1051.3,-72.5 1060.57,-72.5\"/>\n<polygon fill=\"black\" stroke=\"black\" points=\"1060.81,-76 1070.81,-72.5 1060.81,-69 1060.81,-76\"/>\n</g>\n<!-- 140235179696528 -->\n<g id=\"node27\" class=\"node\">\n<title>140235179696528</title>\n<polygon fill=\"none\" stroke=\"black\" points=\"4,-110.5 4,-146.5 196,-146.5 196,-110.5 4,-110.5\"/>\n<text text-anchor=\"middle\" x=\"19\" y=\"-124.8\" font-family=\"Times,serif\" font-size=\"14.00\">x2</text>\n<polyline fill=\"none\" stroke=\"black\" points=\"34,-110.5 34,-146.5 \"/>\n<text text-anchor=\"middle\" x=\"74\" y=\"-124.8\" font-family=\"Times,serif\" font-size=\"14.00\">data 0.0000</text>\n<polyline fill=\"none\" stroke=\"black\" points=\"114,-110.5 114,-146.5 \"/>\n<text text-anchor=\"middle\" x=\"155\" y=\"-124.8\" font-family=\"Times,serif\" font-size=\"14.00\">grad 0.5000</text>\n</g>\n<!-- 140235179696528&#45;&gt;140235179254256* -->\n<g id=\"edge28\" class=\"edge\">\n<title>140235179696528&#45;&gt;140235179254256*</title>\n<path fill=\"none\" stroke=\"black\" d=\"M196.05,-128.5C206.52,-128.5 216.65,-128.5 225.71,-128.5\"/>\n<polygon fill=\"black\" stroke=\"black\" points=\"225.79,-132 235.79,-128.5 225.79,-125 225.79,-132\"/>\n</g>\n<!-- 140235179699696 -->\n<g id=\"node28\" class=\"node\">\n<title>140235179699696</title>\n<polygon fill=\"none\" stroke=\"black\" points=\"2,-0.5 2,-36.5 198,-36.5 198,-0.5 2,-0.5\"/>\n<text text-anchor=\"middle\" x=\"17\" y=\"-14.8\" font-family=\"Times,serif\" font-size=\"14.00\">x1</text>\n<polyline fill=\"none\" stroke=\"black\" points=\"32,-0.5 32,-36.5 \"/>\n<text text-anchor=\"middle\" x=\"72\" y=\"-14.8\" font-family=\"Times,serif\" font-size=\"14.00\">data 2.0000</text>\n<polyline fill=\"none\" stroke=\"black\" points=\"112,-0.5 112,-36.5 \"/>\n<text text-anchor=\"middle\" x=\"155\" y=\"-14.8\" font-family=\"Times,serif\" font-size=\"14.00\">grad &#45;1.5000</text>\n</g>\n<!-- 140235179699696&#45;&gt;140235179254016* -->\n<g id=\"edge17\" class=\"edge\">\n<title>140235179699696&#45;&gt;140235179254016*</title>\n<path fill=\"none\" stroke=\"black\" d=\"M172.53,-36.56C181.84,-39.33 191.2,-42.33 200,-45.5 210.53,-49.29 221.75,-54.1 231.72,-58.67\"/>\n<polygon fill=\"black\" stroke=\"black\" points=\"230.28,-61.86 240.82,-62.93 233.25,-55.52 230.28,-61.86\"/>\n</g>\n</g>\n</svg>\n"
          },
          "metadata": {},
          "execution_count": 50
        }
      ]
    },
    {
      "cell_type": "code",
      "source": [
        "def build_graph_sigmoid():\n",
        "  # inputs\n",
        "  x1 = Value(2.0, label='x1')\n",
        "  x2 = Value(0.0, label='x2')\n",
        "\n",
        "  # weights\n",
        "  w1 = Value(-3.0, label='w1')\n",
        "  w2 = Value(1.0, label='w2')\n",
        "\n",
        "  # bias\n",
        "  b = Value(6.8813735870195432, label='b')\n",
        "\n",
        "  # weights x inputs\n",
        "  x1w1 = x1 * w1; x1w1.label = 'x1*w1'\n",
        "  x2w2 = x2 * w2; x2w2.label = 'x2*w2'\n",
        "\n",
        "  # dot product\n",
        "  x1w1x2w2 = x1w1 + x2w2; x1w1x2w2.label = 'x1*w1 + x2*w2'\n",
        "\n",
        "  # adding the bias\n",
        "  n = x1w1x2w2 + b; n.label = 'n'\n",
        "\n",
        "  o = n.sigmoid()\n",
        "  o.label = 'o'\n",
        "  return o\n",
        "\n",
        "def build_graph_softplus():\n",
        "  # inputs\n",
        "  x1 = Value(2.0, label='x1')\n",
        "  x2 = Value(0.0, label='x2')\n",
        "\n",
        "  # weights\n",
        "  w1 = Value(-3.0, label='w1')\n",
        "  w2 = Value(1.0, label='w2')\n",
        "\n",
        "  # bias\n",
        "  b = Value(6.8813735870195432, label='b')\n",
        "\n",
        "  # weights x inputs\n",
        "  x1w1 = x1 * w1; x1w1.label = 'x1*w1'\n",
        "  x2w2 = x2 * w2; x2w2.label = 'x2*w2'\n",
        "\n",
        "  # dot product\n",
        "  x1w1x2w2 = x1w1 + x2w2; x1w1x2w2.label = 'x1*w1 + x2*w2'\n",
        "\n",
        "  # adding the bias\n",
        "  n = x1w1x2w2 + b; n.label = 'n'\n",
        "\n",
        "  o = n.softplus()\n",
        "  o.label = 'o'\n",
        "  return o\n",
        "\n",
        "def build_graph_relu():\n",
        "  # inputs\n",
        "  x1 = Value(2.0, label='x1')\n",
        "  x2 = Value(0.0, label='x2')\n",
        "\n",
        "  # weights\n",
        "  w1 = Value(-3.0, label='w1')\n",
        "  w2 = Value(1.0, label='w2')\n",
        "\n",
        "  # bias\n",
        "  b = Value(6.8813735870195432, label='b')\n",
        "\n",
        "  # weights x inputs\n",
        "  x1w1 = x1 * w1; x1w1.label = 'x1*w1'\n",
        "  x2w2 = x2 * w2; x2w2.label = 'x2*w2'\n",
        "\n",
        "  # dot product\n",
        "  x1w1x2w2 = x1w1 + x2w2; x1w1x2w2.label = 'x1*w1 + x2*w2'\n",
        "\n",
        "  # adding the bias\n",
        "  n = x1w1x2w2 + b; n.label = 'n'\n",
        "\n",
        "  o = n.relu()\n",
        "  o.label = 'o'\n",
        "  return o"
      ],
      "metadata": {
        "id": "NHMCejwyRi0T"
      },
      "execution_count": 51,
      "outputs": []
    },
    {
      "cell_type": "code",
      "source": [
        "o = build_graph_softplus()\n",
        "o.backward()\n",
        "draw_dot(o)"
      ],
      "metadata": {
        "colab": {
          "base_uri": "https://localhost:8080/",
          "height": 321
        },
        "id": "7Hgr6_z2WEdo",
        "outputId": "8e6fbbd2-67b1-4c34-ec79-98797fcd3ac8"
      },
      "execution_count": 52,
      "outputs": [
        {
          "output_type": "execute_result",
          "data": {
            "text/plain": [
              "<graphviz.dot.Digraph at 0x7f8b0c1636a0>"
            ],
            "image/svg+xml": "<?xml version=\"1.0\" encoding=\"UTF-8\" standalone=\"no\"?>\n<!DOCTYPE svg PUBLIC \"-//W3C//DTD SVG 1.1//EN\"\n \"http://www.w3.org/Graphics/SVG/1.1/DTD/svg11.dtd\">\n<!-- Generated by graphviz version 2.43.0 (0)\n -->\n<!-- Title: %3 Pages: 1 -->\n<svg width=\"1598pt\" height=\"210pt\"\n viewBox=\"0.00 0.00 1597.69 210.00\" xmlns=\"http://www.w3.org/2000/svg\" xmlns:xlink=\"http://www.w3.org/1999/xlink\">\n<g id=\"graph0\" class=\"graph\" transform=\"scale(1 1) rotate(0) translate(4 206)\">\n<title>%3</title>\n<polygon fill=\"white\" stroke=\"transparent\" points=\"-4,4 -4,-206 1593.69,-206 1593.69,4 -4,4\"/>\n<!-- 140235179985936 -->\n<g id=\"node1\" class=\"node\">\n<title>140235179985936</title>\n<polygon fill=\"none\" stroke=\"black\" points=\"2.5,-165.5 2.5,-201.5 197.5,-201.5 197.5,-165.5 2.5,-165.5\"/>\n<text text-anchor=\"middle\" x=\"19\" y=\"-179.8\" font-family=\"Times,serif\" font-size=\"14.00\">w2</text>\n<polyline fill=\"none\" stroke=\"black\" points=\"35.5,-165.5 35.5,-201.5 \"/>\n<text text-anchor=\"middle\" x=\"75.5\" y=\"-179.8\" font-family=\"Times,serif\" font-size=\"14.00\">data 1.0000</text>\n<polyline fill=\"none\" stroke=\"black\" points=\"115.5,-165.5 115.5,-201.5 \"/>\n<text text-anchor=\"middle\" x=\"156.5\" y=\"-179.8\" font-family=\"Times,serif\" font-size=\"14.00\">grad 0.0000</text>\n</g>\n<!-- 140235179962480* -->\n<g id=\"node3\" class=\"node\">\n<title>140235179962480*</title>\n<ellipse fill=\"none\" stroke=\"black\" cx=\"263\" cy=\"-128.5\" rx=\"27\" ry=\"18\"/>\n<text text-anchor=\"middle\" x=\"263\" y=\"-124.8\" font-family=\"Times,serif\" font-size=\"14.00\">*</text>\n</g>\n<!-- 140235179985936&#45;&gt;140235179962480* -->\n<g id=\"edge11\" class=\"edge\">\n<title>140235179985936&#45;&gt;140235179962480*</title>\n<path fill=\"none\" stroke=\"black\" d=\"M172.53,-165.44C181.84,-162.67 191.2,-159.67 200,-156.5 210.53,-152.71 221.75,-147.9 231.72,-143.33\"/>\n<polygon fill=\"black\" stroke=\"black\" points=\"233.25,-146.48 240.82,-139.07 230.28,-140.14 233.25,-146.48\"/>\n</g>\n<!-- 140235179962480 -->\n<g id=\"node2\" class=\"node\">\n<title>140235179962480</title>\n<polygon fill=\"none\" stroke=\"black\" points=\"328.5,-110.5 328.5,-146.5 543.5,-146.5 543.5,-110.5 328.5,-110.5\"/>\n<text text-anchor=\"middle\" x=\"355\" y=\"-124.8\" font-family=\"Times,serif\" font-size=\"14.00\">x2*w2</text>\n<polyline fill=\"none\" stroke=\"black\" points=\"381.5,-110.5 381.5,-146.5 \"/>\n<text text-anchor=\"middle\" x=\"421.5\" y=\"-124.8\" font-family=\"Times,serif\" font-size=\"14.00\">data 0.0000</text>\n<polyline fill=\"none\" stroke=\"black\" points=\"461.5,-110.5 461.5,-146.5 \"/>\n<text text-anchor=\"middle\" x=\"502.5\" y=\"-124.8\" font-family=\"Times,serif\" font-size=\"14.00\">grad 0.7071</text>\n</g>\n<!-- 140235179966320+ -->\n<g id=\"node8\" class=\"node\">\n<title>140235179966320+</title>\n<ellipse fill=\"none\" stroke=\"black\" cx=\"609\" cy=\"-100.5\" rx=\"27\" ry=\"18\"/>\n<text text-anchor=\"middle\" x=\"609\" y=\"-96.8\" font-family=\"Times,serif\" font-size=\"14.00\">+</text>\n</g>\n<!-- 140235179962480&#45;&gt;140235179966320+ -->\n<g id=\"edge7\" class=\"edge\">\n<title>140235179962480&#45;&gt;140235179966320+</title>\n<path fill=\"none\" stroke=\"black\" d=\"M543.84,-111.01C554.01,-109.34 563.76,-107.74 572.44,-106.32\"/>\n<polygon fill=\"black\" stroke=\"black\" points=\"573.17,-109.75 582.47,-104.68 572.04,-102.84 573.17,-109.75\"/>\n</g>\n<!-- 140235179962480*&#45;&gt;140235179962480 -->\n<g id=\"edge1\" class=\"edge\">\n<title>140235179962480*&#45;&gt;140235179962480</title>\n<path fill=\"none\" stroke=\"black\" d=\"M290.34,-128.5C298.51,-128.5 308.08,-128.5 318.36,-128.5\"/>\n<polygon fill=\"black\" stroke=\"black\" points=\"318.39,-132 328.39,-128.5 318.39,-125 318.39,-132\"/>\n</g>\n<!-- 140235179983488 -->\n<g id=\"node4\" class=\"node\">\n<title>140235179983488</title>\n<polygon fill=\"none\" stroke=\"black\" points=\"326,-55.5 326,-91.5 546,-91.5 546,-55.5 326,-55.5\"/>\n<text text-anchor=\"middle\" x=\"352.5\" y=\"-69.8\" font-family=\"Times,serif\" font-size=\"14.00\">x1*w1</text>\n<polyline fill=\"none\" stroke=\"black\" points=\"379,-55.5 379,-91.5 \"/>\n<text text-anchor=\"middle\" x=\"421.5\" y=\"-69.8\" font-family=\"Times,serif\" font-size=\"14.00\">data &#45;6.0000</text>\n<polyline fill=\"none\" stroke=\"black\" points=\"464,-55.5 464,-91.5 \"/>\n<text text-anchor=\"middle\" x=\"505\" y=\"-69.8\" font-family=\"Times,serif\" font-size=\"14.00\">grad 0.7071</text>\n</g>\n<!-- 140235179983488&#45;&gt;140235179966320+ -->\n<g id=\"edge13\" class=\"edge\">\n<title>140235179983488&#45;&gt;140235179966320+</title>\n<path fill=\"none\" stroke=\"black\" d=\"M546.27,-90.75C555.64,-92.23 564.6,-93.65 572.65,-94.92\"/>\n<polygon fill=\"black\" stroke=\"black\" points=\"572.23,-98.4 582.65,-96.5 573.32,-91.48 572.23,-98.4\"/>\n</g>\n<!-- 140235179983488* -->\n<g id=\"node5\" class=\"node\">\n<title>140235179983488*</title>\n<ellipse fill=\"none\" stroke=\"black\" cx=\"263\" cy=\"-73.5\" rx=\"27\" ry=\"18\"/>\n<text text-anchor=\"middle\" x=\"263\" y=\"-69.8\" font-family=\"Times,serif\" font-size=\"14.00\">*</text>\n</g>\n<!-- 140235179983488*&#45;&gt;140235179983488 -->\n<g id=\"edge2\" class=\"edge\">\n<title>140235179983488*&#45;&gt;140235179983488</title>\n<path fill=\"none\" stroke=\"black\" d=\"M290.34,-73.5C297.77,-73.5 306.37,-73.5 315.6,-73.5\"/>\n<polygon fill=\"black\" stroke=\"black\" points=\"315.84,-77 325.84,-73.5 315.84,-70 315.84,-77\"/>\n</g>\n<!-- 140235179983104 -->\n<g id=\"node6\" class=\"node\">\n<title>140235179983104</title>\n<polygon fill=\"none\" stroke=\"black\" points=\"4,-110.5 4,-146.5 196,-146.5 196,-110.5 4,-110.5\"/>\n<text text-anchor=\"middle\" x=\"19\" y=\"-124.8\" font-family=\"Times,serif\" font-size=\"14.00\">x2</text>\n<polyline fill=\"none\" stroke=\"black\" points=\"34,-110.5 34,-146.5 \"/>\n<text text-anchor=\"middle\" x=\"74\" y=\"-124.8\" font-family=\"Times,serif\" font-size=\"14.00\">data 0.0000</text>\n<polyline fill=\"none\" stroke=\"black\" points=\"114,-110.5 114,-146.5 \"/>\n<text text-anchor=\"middle\" x=\"155\" y=\"-124.8\" font-family=\"Times,serif\" font-size=\"14.00\">grad 0.7071</text>\n</g>\n<!-- 140235179983104&#45;&gt;140235179962480* -->\n<g id=\"edge10\" class=\"edge\">\n<title>140235179983104&#45;&gt;140235179962480*</title>\n<path fill=\"none\" stroke=\"black\" d=\"M196.05,-128.5C206.52,-128.5 216.65,-128.5 225.71,-128.5\"/>\n<polygon fill=\"black\" stroke=\"black\" points=\"225.79,-132 235.79,-128.5 225.79,-125 225.79,-132\"/>\n</g>\n<!-- 140235179966320 -->\n<g id=\"node7\" class=\"node\">\n<title>140235179966320</title>\n<polygon fill=\"none\" stroke=\"black\" points=\"672,-82.5 672,-118.5 945,-118.5 945,-82.5 672,-82.5\"/>\n<text text-anchor=\"middle\" x=\"725\" y=\"-96.8\" font-family=\"Times,serif\" font-size=\"14.00\">x1*w1 + x2*w2</text>\n<polyline fill=\"none\" stroke=\"black\" points=\"778,-82.5 778,-118.5 \"/>\n<text text-anchor=\"middle\" x=\"820.5\" y=\"-96.8\" font-family=\"Times,serif\" font-size=\"14.00\">data &#45;6.0000</text>\n<polyline fill=\"none\" stroke=\"black\" points=\"863,-82.5 863,-118.5 \"/>\n<text text-anchor=\"middle\" x=\"904\" y=\"-96.8\" font-family=\"Times,serif\" font-size=\"14.00\">grad 0.7071</text>\n</g>\n<!-- 140235179965936+ -->\n<g id=\"node15\" class=\"node\">\n<title>140235179965936+</title>\n<ellipse fill=\"none\" stroke=\"black\" cx=\"1008\" cy=\"-72.5\" rx=\"27\" ry=\"18\"/>\n<text text-anchor=\"middle\" x=\"1008\" y=\"-68.8\" font-family=\"Times,serif\" font-size=\"14.00\">+</text>\n</g>\n<!-- 140235179966320&#45;&gt;140235179965936+ -->\n<g id=\"edge9\" class=\"edge\">\n<title>140235179966320&#45;&gt;140235179965936+</title>\n<path fill=\"none\" stroke=\"black\" d=\"M936.53,-82.49C949.09,-80.71 960.99,-79.02 971.3,-77.56\"/>\n<polygon fill=\"black\" stroke=\"black\" points=\"972.03,-80.99 981.44,-76.12 971.05,-74.06 972.03,-80.99\"/>\n</g>\n<!-- 140235179966320+&#45;&gt;140235179966320 -->\n<g id=\"edge3\" class=\"edge\">\n<title>140235179966320+&#45;&gt;140235179966320</title>\n<path fill=\"none\" stroke=\"black\" d=\"M636.23,-100.5C643.7,-100.5 652.41,-100.5 661.87,-100.5\"/>\n<polygon fill=\"black\" stroke=\"black\" points=\"661.98,-104 671.98,-100.5 661.98,-97 661.98,-104\"/>\n</g>\n<!-- 140235179983248 -->\n<g id=\"node9\" class=\"node\">\n<title>140235179983248</title>\n<polygon fill=\"none\" stroke=\"black\" points=\"2,-55.5 2,-91.5 198,-91.5 198,-55.5 2,-55.5\"/>\n<text text-anchor=\"middle\" x=\"17\" y=\"-69.8\" font-family=\"Times,serif\" font-size=\"14.00\">x1</text>\n<polyline fill=\"none\" stroke=\"black\" points=\"32,-55.5 32,-91.5 \"/>\n<text text-anchor=\"middle\" x=\"72\" y=\"-69.8\" font-family=\"Times,serif\" font-size=\"14.00\">data 2.0000</text>\n<polyline fill=\"none\" stroke=\"black\" points=\"112,-55.5 112,-91.5 \"/>\n<text text-anchor=\"middle\" x=\"155\" y=\"-69.8\" font-family=\"Times,serif\" font-size=\"14.00\">grad &#45;2.1213</text>\n</g>\n<!-- 140235179983248&#45;&gt;140235179983488* -->\n<g id=\"edge6\" class=\"edge\">\n<title>140235179983248&#45;&gt;140235179983488*</title>\n<path fill=\"none\" stroke=\"black\" d=\"M198.37,-73.5C208.05,-73.5 217.4,-73.5 225.8,-73.5\"/>\n<polygon fill=\"black\" stroke=\"black\" points=\"225.91,-77 235.91,-73.5 225.91,-70 225.91,-77\"/>\n</g>\n<!-- 140235179986800 -->\n<g id=\"node10\" class=\"node\">\n<title>140235179986800</title>\n<polygon fill=\"none\" stroke=\"black\" points=\"0,-0.5 0,-36.5 200,-36.5 200,-0.5 0,-0.5\"/>\n<text text-anchor=\"middle\" x=\"16.5\" y=\"-14.8\" font-family=\"Times,serif\" font-size=\"14.00\">w1</text>\n<polyline fill=\"none\" stroke=\"black\" points=\"33,-0.5 33,-36.5 \"/>\n<text text-anchor=\"middle\" x=\"75.5\" y=\"-14.8\" font-family=\"Times,serif\" font-size=\"14.00\">data &#45;3.0000</text>\n<polyline fill=\"none\" stroke=\"black\" points=\"118,-0.5 118,-36.5 \"/>\n<text text-anchor=\"middle\" x=\"159\" y=\"-14.8\" font-family=\"Times,serif\" font-size=\"14.00\">grad 1.4142</text>\n</g>\n<!-- 140235179986800&#45;&gt;140235179983488* -->\n<g id=\"edge14\" class=\"edge\">\n<title>140235179986800&#45;&gt;140235179983488*</title>\n<path fill=\"none\" stroke=\"black\" d=\"M169.28,-36.5C179.65,-39.61 190.16,-42.98 200,-46.5 210.28,-50.17 221.28,-54.74 231.11,-59.07\"/>\n<polygon fill=\"black\" stroke=\"black\" points=\"229.93,-62.37 240.48,-63.27 232.79,-55.99 229.93,-62.37\"/>\n</g>\n<!-- 140235179983824 -->\n<g id=\"node11\" class=\"node\">\n<title>140235179983824</title>\n<polygon fill=\"none\" stroke=\"black\" points=\"716,-27.5 716,-63.5 901,-63.5 901,-27.5 716,-27.5\"/>\n<text text-anchor=\"middle\" x=\"727.5\" y=\"-41.8\" font-family=\"Times,serif\" font-size=\"14.00\">b</text>\n<polyline fill=\"none\" stroke=\"black\" points=\"739,-27.5 739,-63.5 \"/>\n<text text-anchor=\"middle\" x=\"779\" y=\"-41.8\" font-family=\"Times,serif\" font-size=\"14.00\">data 6.8814</text>\n<polyline fill=\"none\" stroke=\"black\" points=\"819,-27.5 819,-63.5 \"/>\n<text text-anchor=\"middle\" x=\"860\" y=\"-41.8\" font-family=\"Times,serif\" font-size=\"14.00\">grad 0.7071</text>\n</g>\n<!-- 140235179983824&#45;&gt;140235179965936+ -->\n<g id=\"edge8\" class=\"edge\">\n<title>140235179983824&#45;&gt;140235179965936+</title>\n<path fill=\"none\" stroke=\"black\" d=\"M901.02,-58.01C926,-61.43 951.59,-64.93 971.37,-67.63\"/>\n<polygon fill=\"black\" stroke=\"black\" points=\"971.05,-71.12 981.43,-69.01 972,-64.18 971.05,-71.12\"/>\n</g>\n<!-- 140235179965408 -->\n<g id=\"node12\" class=\"node\">\n<title>140235179965408</title>\n<polygon fill=\"none\" stroke=\"black\" points=\"1404.69,-54.5 1404.69,-90.5 1589.69,-90.5 1589.69,-54.5 1404.69,-54.5\"/>\n<text text-anchor=\"middle\" x=\"1416.19\" y=\"-68.8\" font-family=\"Times,serif\" font-size=\"14.00\">o</text>\n<polyline fill=\"none\" stroke=\"black\" points=\"1427.69,-54.5 1427.69,-90.5 \"/>\n<text text-anchor=\"middle\" x=\"1467.69\" y=\"-68.8\" font-family=\"Times,serif\" font-size=\"14.00\">data 1.2279</text>\n<polyline fill=\"none\" stroke=\"black\" points=\"1507.69,-54.5 1507.69,-90.5 \"/>\n<text text-anchor=\"middle\" x=\"1548.69\" y=\"-68.8\" font-family=\"Times,serif\" font-size=\"14.00\">grad 1.0000</text>\n</g>\n<!-- 140235179965408softplus -->\n<g id=\"node13\" class=\"node\">\n<title>140235179965408softplus</title>\n<ellipse fill=\"none\" stroke=\"black\" cx=\"1330.35\" cy=\"-72.5\" rx=\"38.19\" ry=\"18\"/>\n<text text-anchor=\"middle\" x=\"1330.35\" y=\"-68.8\" font-family=\"Times,serif\" font-size=\"14.00\">softplus</text>\n</g>\n<!-- 140235179965408softplus&#45;&gt;140235179965408 -->\n<g id=\"edge4\" class=\"edge\">\n<title>140235179965408softplus&#45;&gt;140235179965408</title>\n<path fill=\"none\" stroke=\"black\" d=\"M1368.75,-72.5C1376.62,-72.5 1385.28,-72.5 1394.26,-72.5\"/>\n<polygon fill=\"black\" stroke=\"black\" points=\"1394.52,-76 1404.52,-72.5 1394.52,-69 1394.52,-76\"/>\n</g>\n<!-- 140235179965936 -->\n<g id=\"node14\" class=\"node\">\n<title>140235179965936</title>\n<polygon fill=\"none\" stroke=\"black\" points=\"1071,-54.5 1071,-90.5 1256,-90.5 1256,-54.5 1071,-54.5\"/>\n<text text-anchor=\"middle\" x=\"1082.5\" y=\"-68.8\" font-family=\"Times,serif\" font-size=\"14.00\">n</text>\n<polyline fill=\"none\" stroke=\"black\" points=\"1094,-54.5 1094,-90.5 \"/>\n<text text-anchor=\"middle\" x=\"1134\" y=\"-68.8\" font-family=\"Times,serif\" font-size=\"14.00\">data 0.8814</text>\n<polyline fill=\"none\" stroke=\"black\" points=\"1174,-54.5 1174,-90.5 \"/>\n<text text-anchor=\"middle\" x=\"1215\" y=\"-68.8\" font-family=\"Times,serif\" font-size=\"14.00\">grad 0.7071</text>\n</g>\n<!-- 140235179965936&#45;&gt;140235179965408softplus -->\n<g id=\"edge12\" class=\"edge\">\n<title>140235179965936&#45;&gt;140235179965408softplus</title>\n<path fill=\"none\" stroke=\"black\" d=\"M1256.08,-72.5C1264.94,-72.5 1273.66,-72.5 1281.81,-72.5\"/>\n<polygon fill=\"black\" stroke=\"black\" points=\"1281.81,-76 1291.81,-72.5 1281.81,-69 1281.81,-76\"/>\n</g>\n<!-- 140235179965936+&#45;&gt;140235179965936 -->\n<g id=\"edge5\" class=\"edge\">\n<title>140235179965936+&#45;&gt;140235179965936</title>\n<path fill=\"none\" stroke=\"black\" d=\"M1035.04,-72.5C1042.58,-72.5 1051.3,-72.5 1060.57,-72.5\"/>\n<polygon fill=\"black\" stroke=\"black\" points=\"1060.81,-76 1070.81,-72.5 1060.81,-69 1060.81,-76\"/>\n</g>\n</g>\n</svg>\n"
          },
          "metadata": {},
          "execution_count": 52
        }
      ]
    },
    {
      "cell_type": "code",
      "source": [
        "o = build_graph_relu()\n",
        "o.backward()\n",
        "draw_dot(o)"
      ],
      "metadata": {
        "colab": {
          "base_uri": "https://localhost:8080/",
          "height": 321
        },
        "id": "KbH0zYXfWKgx",
        "outputId": "2eed83c2-bb8e-43e3-c95e-e9fc07e9c902"
      },
      "execution_count": 53,
      "outputs": [
        {
          "output_type": "execute_result",
          "data": {
            "text/plain": [
              "<graphviz.dot.Digraph at 0x7f8b0c122fd0>"
            ],
            "image/svg+xml": "<?xml version=\"1.0\" encoding=\"UTF-8\" standalone=\"no\"?>\n<!DOCTYPE svg PUBLIC \"-//W3C//DTD SVG 1.1//EN\"\n \"http://www.w3.org/Graphics/SVG/1.1/DTD/svg11.dtd\">\n<!-- Generated by graphviz version 2.43.0 (0)\n -->\n<!-- Title: %3 Pages: 1 -->\n<svg width=\"1586pt\" height=\"210pt\"\n viewBox=\"0.00 0.00 1585.99 210.00\" xmlns=\"http://www.w3.org/2000/svg\" xmlns:xlink=\"http://www.w3.org/1999/xlink\">\n<g id=\"graph0\" class=\"graph\" transform=\"scale(1 1) rotate(0) translate(4 206)\">\n<title>%3</title>\n<polygon fill=\"white\" stroke=\"transparent\" points=\"-4,4 -4,-206 1581.99,-206 1581.99,4 -4,4\"/>\n<!-- 140235179887632 -->\n<g id=\"node1\" class=\"node\">\n<title>140235179887632</title>\n<polygon fill=\"none\" stroke=\"black\" points=\"328.5,-55.5 328.5,-91.5 543.5,-91.5 543.5,-55.5 328.5,-55.5\"/>\n<text text-anchor=\"middle\" x=\"355\" y=\"-69.8\" font-family=\"Times,serif\" font-size=\"14.00\">x2*w2</text>\n<polyline fill=\"none\" stroke=\"black\" points=\"381.5,-55.5 381.5,-91.5 \"/>\n<text text-anchor=\"middle\" x=\"421.5\" y=\"-69.8\" font-family=\"Times,serif\" font-size=\"14.00\">data 0.0000</text>\n<polyline fill=\"none\" stroke=\"black\" points=\"461.5,-55.5 461.5,-91.5 \"/>\n<text text-anchor=\"middle\" x=\"502.5\" y=\"-69.8\" font-family=\"Times,serif\" font-size=\"14.00\">grad 1.0000</text>\n</g>\n<!-- 140235179886240+ -->\n<g id=\"node8\" class=\"node\">\n<title>140235179886240+</title>\n<ellipse fill=\"none\" stroke=\"black\" cx=\"609\" cy=\"-100.5\" rx=\"27\" ry=\"18\"/>\n<text text-anchor=\"middle\" x=\"609\" y=\"-96.8\" font-family=\"Times,serif\" font-size=\"14.00\">+</text>\n</g>\n<!-- 140235179887632&#45;&gt;140235179886240+ -->\n<g id=\"edge13\" class=\"edge\">\n<title>140235179887632&#45;&gt;140235179886240+</title>\n<path fill=\"none\" stroke=\"black\" d=\"M543.84,-90.37C554.01,-91.98 563.76,-93.51 572.44,-94.89\"/>\n<polygon fill=\"black\" stroke=\"black\" points=\"572.05,-98.37 582.47,-96.47 573.14,-91.45 572.05,-98.37\"/>\n</g>\n<!-- 140235179887632* -->\n<g id=\"node2\" class=\"node\">\n<title>140235179887632*</title>\n<ellipse fill=\"none\" stroke=\"black\" cx=\"263\" cy=\"-73.5\" rx=\"27\" ry=\"18\"/>\n<text text-anchor=\"middle\" x=\"263\" y=\"-69.8\" font-family=\"Times,serif\" font-size=\"14.00\">*</text>\n</g>\n<!-- 140235179887632*&#45;&gt;140235179887632 -->\n<g id=\"edge1\" class=\"edge\">\n<title>140235179887632*&#45;&gt;140235179887632</title>\n<path fill=\"none\" stroke=\"black\" d=\"M290.34,-73.5C298.51,-73.5 308.08,-73.5 318.36,-73.5\"/>\n<polygon fill=\"black\" stroke=\"black\" points=\"318.39,-77 328.39,-73.5 318.39,-70 318.39,-77\"/>\n</g>\n<!-- 140235179696240 -->\n<g id=\"node3\" class=\"node\">\n<title>140235179696240</title>\n<polygon fill=\"none\" stroke=\"black\" points=\"1392.99,-109.5 1392.99,-145.5 1577.99,-145.5 1577.99,-109.5 1392.99,-109.5\"/>\n<text text-anchor=\"middle\" x=\"1404.49\" y=\"-123.8\" font-family=\"Times,serif\" font-size=\"14.00\">o</text>\n<polyline fill=\"none\" stroke=\"black\" points=\"1415.99,-109.5 1415.99,-145.5 \"/>\n<text text-anchor=\"middle\" x=\"1455.99\" y=\"-123.8\" font-family=\"Times,serif\" font-size=\"14.00\">data 0.8814</text>\n<polyline fill=\"none\" stroke=\"black\" points=\"1495.99,-109.5 1495.99,-145.5 \"/>\n<text text-anchor=\"middle\" x=\"1536.99\" y=\"-123.8\" font-family=\"Times,serif\" font-size=\"14.00\">grad 1.0000</text>\n</g>\n<!-- 140235179696240ReLU -->\n<g id=\"node4\" class=\"node\">\n<title>140235179696240ReLU</title>\n<ellipse fill=\"none\" stroke=\"black\" cx=\"1324.5\" cy=\"-127.5\" rx=\"32.49\" ry=\"18\"/>\n<text text-anchor=\"middle\" x=\"1324.5\" y=\"-123.8\" font-family=\"Times,serif\" font-size=\"14.00\">ReLU</text>\n</g>\n<!-- 140235179696240ReLU&#45;&gt;140235179696240 -->\n<g id=\"edge2\" class=\"edge\">\n<title>140235179696240ReLU&#45;&gt;140235179696240</title>\n<path fill=\"none\" stroke=\"black\" d=\"M1357.29,-127.5C1365.01,-127.5 1373.68,-127.5 1382.78,-127.5\"/>\n<polygon fill=\"black\" stroke=\"black\" points=\"1382.79,-131 1392.79,-127.5 1382.79,-124 1382.79,-131\"/>\n</g>\n<!-- 140235179256464 -->\n<g id=\"node5\" class=\"node\">\n<title>140235179256464</title>\n<polygon fill=\"none\" stroke=\"black\" points=\"326,-110.5 326,-146.5 546,-146.5 546,-110.5 326,-110.5\"/>\n<text text-anchor=\"middle\" x=\"352.5\" y=\"-124.8\" font-family=\"Times,serif\" font-size=\"14.00\">x1*w1</text>\n<polyline fill=\"none\" stroke=\"black\" points=\"379,-110.5 379,-146.5 \"/>\n<text text-anchor=\"middle\" x=\"421.5\" y=\"-124.8\" font-family=\"Times,serif\" font-size=\"14.00\">data &#45;6.0000</text>\n<polyline fill=\"none\" stroke=\"black\" points=\"464,-110.5 464,-146.5 \"/>\n<text text-anchor=\"middle\" x=\"505\" y=\"-124.8\" font-family=\"Times,serif\" font-size=\"14.00\">grad 1.0000</text>\n</g>\n<!-- 140235179256464&#45;&gt;140235179886240+ -->\n<g id=\"edge8\" class=\"edge\">\n<title>140235179256464&#45;&gt;140235179886240+</title>\n<path fill=\"none\" stroke=\"black\" d=\"M546.27,-110.61C555.64,-109.07 564.6,-107.61 572.65,-106.29\"/>\n<polygon fill=\"black\" stroke=\"black\" points=\"573.35,-109.72 582.65,-104.65 572.22,-102.81 573.35,-109.72\"/>\n</g>\n<!-- 140235179256464* -->\n<g id=\"node6\" class=\"node\">\n<title>140235179256464*</title>\n<ellipse fill=\"none\" stroke=\"black\" cx=\"263\" cy=\"-128.5\" rx=\"27\" ry=\"18\"/>\n<text text-anchor=\"middle\" x=\"263\" y=\"-124.8\" font-family=\"Times,serif\" font-size=\"14.00\">*</text>\n</g>\n<!-- 140235179256464*&#45;&gt;140235179256464 -->\n<g id=\"edge3\" class=\"edge\">\n<title>140235179256464*&#45;&gt;140235179256464</title>\n<path fill=\"none\" stroke=\"black\" d=\"M290.34,-128.5C297.77,-128.5 306.37,-128.5 315.6,-128.5\"/>\n<polygon fill=\"black\" stroke=\"black\" points=\"315.84,-132 325.84,-128.5 315.84,-125 315.84,-132\"/>\n</g>\n<!-- 140235179886240 -->\n<g id=\"node7\" class=\"node\">\n<title>140235179886240</title>\n<polygon fill=\"none\" stroke=\"black\" points=\"672,-82.5 672,-118.5 945,-118.5 945,-82.5 672,-82.5\"/>\n<text text-anchor=\"middle\" x=\"725\" y=\"-96.8\" font-family=\"Times,serif\" font-size=\"14.00\">x1*w1 + x2*w2</text>\n<polyline fill=\"none\" stroke=\"black\" points=\"778,-82.5 778,-118.5 \"/>\n<text text-anchor=\"middle\" x=\"820.5\" y=\"-96.8\" font-family=\"Times,serif\" font-size=\"14.00\">data &#45;6.0000</text>\n<polyline fill=\"none\" stroke=\"black\" points=\"863,-82.5 863,-118.5 \"/>\n<text text-anchor=\"middle\" x=\"904\" y=\"-96.8\" font-family=\"Times,serif\" font-size=\"14.00\">grad 1.0000</text>\n</g>\n<!-- 140235179700032+ -->\n<g id=\"node12\" class=\"node\">\n<title>140235179700032+</title>\n<ellipse fill=\"none\" stroke=\"black\" cx=\"1008\" cy=\"-127.5\" rx=\"27\" ry=\"18\"/>\n<text text-anchor=\"middle\" x=\"1008\" y=\"-123.8\" font-family=\"Times,serif\" font-size=\"14.00\">+</text>\n</g>\n<!-- 140235179886240&#45;&gt;140235179700032+ -->\n<g id=\"edge7\" class=\"edge\">\n<title>140235179886240&#45;&gt;140235179700032+</title>\n<path fill=\"none\" stroke=\"black\" d=\"M941.24,-118.51C952.12,-120 962.4,-121.4 971.45,-122.64\"/>\n<polygon fill=\"black\" stroke=\"black\" points=\"971.11,-126.13 981.49,-124.01 972.05,-119.19 971.11,-126.13\"/>\n</g>\n<!-- 140235179886240+&#45;&gt;140235179886240 -->\n<g id=\"edge4\" class=\"edge\">\n<title>140235179886240+&#45;&gt;140235179886240</title>\n<path fill=\"none\" stroke=\"black\" d=\"M636.23,-100.5C643.7,-100.5 652.41,-100.5 661.87,-100.5\"/>\n<polygon fill=\"black\" stroke=\"black\" points=\"661.98,-104 671.98,-100.5 661.98,-97 661.98,-104\"/>\n</g>\n<!-- 140235179256992 -->\n<g id=\"node9\" class=\"node\">\n<title>140235179256992</title>\n<polygon fill=\"none\" stroke=\"black\" points=\"4,-55.5 4,-91.5 196,-91.5 196,-55.5 4,-55.5\"/>\n<text text-anchor=\"middle\" x=\"19\" y=\"-69.8\" font-family=\"Times,serif\" font-size=\"14.00\">x2</text>\n<polyline fill=\"none\" stroke=\"black\" points=\"34,-55.5 34,-91.5 \"/>\n<text text-anchor=\"middle\" x=\"74\" y=\"-69.8\" font-family=\"Times,serif\" font-size=\"14.00\">data 0.0000</text>\n<polyline fill=\"none\" stroke=\"black\" points=\"114,-55.5 114,-91.5 \"/>\n<text text-anchor=\"middle\" x=\"155\" y=\"-69.8\" font-family=\"Times,serif\" font-size=\"14.00\">grad 1.0000</text>\n</g>\n<!-- 140235179256992&#45;&gt;140235179887632* -->\n<g id=\"edge10\" class=\"edge\">\n<title>140235179256992&#45;&gt;140235179887632*</title>\n<path fill=\"none\" stroke=\"black\" d=\"M196.05,-73.5C206.52,-73.5 216.65,-73.5 225.71,-73.5\"/>\n<polygon fill=\"black\" stroke=\"black\" points=\"225.79,-77 235.79,-73.5 225.79,-70 225.79,-77\"/>\n</g>\n<!-- 140235179256608 -->\n<g id=\"node10\" class=\"node\">\n<title>140235179256608</title>\n<polygon fill=\"none\" stroke=\"black\" points=\"716,-137.5 716,-173.5 901,-173.5 901,-137.5 716,-137.5\"/>\n<text text-anchor=\"middle\" x=\"727.5\" y=\"-151.8\" font-family=\"Times,serif\" font-size=\"14.00\">b</text>\n<polyline fill=\"none\" stroke=\"black\" points=\"739,-137.5 739,-173.5 \"/>\n<text text-anchor=\"middle\" x=\"779\" y=\"-151.8\" font-family=\"Times,serif\" font-size=\"14.00\">data 6.8814</text>\n<polyline fill=\"none\" stroke=\"black\" points=\"819,-137.5 819,-173.5 \"/>\n<text text-anchor=\"middle\" x=\"860\" y=\"-151.8\" font-family=\"Times,serif\" font-size=\"14.00\">grad 1.0000</text>\n</g>\n<!-- 140235179256608&#45;&gt;140235179700032+ -->\n<g id=\"edge12\" class=\"edge\">\n<title>140235179256608&#45;&gt;140235179700032+</title>\n<path fill=\"none\" stroke=\"black\" d=\"M901.02,-142.52C926,-138.98 951.59,-135.36 971.37,-132.55\"/>\n<polygon fill=\"black\" stroke=\"black\" points=\"972.03,-135.99 981.43,-131.12 971.04,-129.06 972.03,-135.99\"/>\n</g>\n<!-- 140235179700032 -->\n<g id=\"node11\" class=\"node\">\n<title>140235179700032</title>\n<polygon fill=\"none\" stroke=\"black\" points=\"1071,-109.5 1071,-145.5 1256,-145.5 1256,-109.5 1071,-109.5\"/>\n<text text-anchor=\"middle\" x=\"1082.5\" y=\"-123.8\" font-family=\"Times,serif\" font-size=\"14.00\">n</text>\n<polyline fill=\"none\" stroke=\"black\" points=\"1094,-109.5 1094,-145.5 \"/>\n<text text-anchor=\"middle\" x=\"1134\" y=\"-123.8\" font-family=\"Times,serif\" font-size=\"14.00\">data 0.8814</text>\n<polyline fill=\"none\" stroke=\"black\" points=\"1174,-109.5 1174,-145.5 \"/>\n<text text-anchor=\"middle\" x=\"1215\" y=\"-123.8\" font-family=\"Times,serif\" font-size=\"14.00\">grad 1.0000</text>\n</g>\n<!-- 140235179700032&#45;&gt;140235179696240ReLU -->\n<g id=\"edge14\" class=\"edge\">\n<title>140235179700032&#45;&gt;140235179696240ReLU</title>\n<path fill=\"none\" stroke=\"black\" d=\"M1256.07,-127.5C1265,-127.5 1273.72,-127.5 1281.76,-127.5\"/>\n<polygon fill=\"black\" stroke=\"black\" points=\"1281.92,-131 1291.92,-127.5 1281.92,-124 1281.92,-131\"/>\n</g>\n<!-- 140235179700032+&#45;&gt;140235179700032 -->\n<g id=\"edge5\" class=\"edge\">\n<title>140235179700032+&#45;&gt;140235179700032</title>\n<path fill=\"none\" stroke=\"black\" d=\"M1035.04,-127.5C1042.58,-127.5 1051.3,-127.5 1060.57,-127.5\"/>\n<polygon fill=\"black\" stroke=\"black\" points=\"1060.81,-131 1070.81,-127.5 1060.81,-124 1060.81,-131\"/>\n</g>\n<!-- 140235179257664 -->\n<g id=\"node13\" class=\"node\">\n<title>140235179257664</title>\n<polygon fill=\"none\" stroke=\"black\" points=\"0,-165.5 0,-201.5 200,-201.5 200,-165.5 0,-165.5\"/>\n<text text-anchor=\"middle\" x=\"16.5\" y=\"-179.8\" font-family=\"Times,serif\" font-size=\"14.00\">w1</text>\n<polyline fill=\"none\" stroke=\"black\" points=\"33,-165.5 33,-201.5 \"/>\n<text text-anchor=\"middle\" x=\"75.5\" y=\"-179.8\" font-family=\"Times,serif\" font-size=\"14.00\">data &#45;3.0000</text>\n<polyline fill=\"none\" stroke=\"black\" points=\"118,-165.5 118,-201.5 \"/>\n<text text-anchor=\"middle\" x=\"159\" y=\"-179.8\" font-family=\"Times,serif\" font-size=\"14.00\">grad 2.0000</text>\n</g>\n<!-- 140235179257664&#45;&gt;140235179256464* -->\n<g id=\"edge11\" class=\"edge\">\n<title>140235179257664&#45;&gt;140235179256464*</title>\n<path fill=\"none\" stroke=\"black\" d=\"M172.53,-165.44C181.84,-162.67 191.2,-159.67 200,-156.5 210.53,-152.71 221.75,-147.9 231.72,-143.33\"/>\n<polygon fill=\"black\" stroke=\"black\" points=\"233.25,-146.48 240.82,-139.07 230.28,-140.14 233.25,-146.48\"/>\n</g>\n<!-- 140235179257808 -->\n<g id=\"node14\" class=\"node\">\n<title>140235179257808</title>\n<polygon fill=\"none\" stroke=\"black\" points=\"2.5,-0.5 2.5,-36.5 197.5,-36.5 197.5,-0.5 2.5,-0.5\"/>\n<text text-anchor=\"middle\" x=\"19\" y=\"-14.8\" font-family=\"Times,serif\" font-size=\"14.00\">w2</text>\n<polyline fill=\"none\" stroke=\"black\" points=\"35.5,-0.5 35.5,-36.5 \"/>\n<text text-anchor=\"middle\" x=\"75.5\" y=\"-14.8\" font-family=\"Times,serif\" font-size=\"14.00\">data 1.0000</text>\n<polyline fill=\"none\" stroke=\"black\" points=\"115.5,-0.5 115.5,-36.5 \"/>\n<text text-anchor=\"middle\" x=\"156.5\" y=\"-14.8\" font-family=\"Times,serif\" font-size=\"14.00\">grad 0.0000</text>\n</g>\n<!-- 140235179257808&#45;&gt;140235179887632* -->\n<g id=\"edge6\" class=\"edge\">\n<title>140235179257808&#45;&gt;140235179887632*</title>\n<path fill=\"none\" stroke=\"black\" d=\"M169.28,-36.5C179.65,-39.61 190.16,-42.98 200,-46.5 210.28,-50.17 221.28,-54.74 231.11,-59.07\"/>\n<polygon fill=\"black\" stroke=\"black\" points=\"229.93,-62.37 240.48,-63.27 232.79,-55.99 229.93,-62.37\"/>\n</g>\n<!-- 140235179257328 -->\n<g id=\"node15\" class=\"node\">\n<title>140235179257328</title>\n<polygon fill=\"none\" stroke=\"black\" points=\"2,-110.5 2,-146.5 198,-146.5 198,-110.5 2,-110.5\"/>\n<text text-anchor=\"middle\" x=\"17\" y=\"-124.8\" font-family=\"Times,serif\" font-size=\"14.00\">x1</text>\n<polyline fill=\"none\" stroke=\"black\" points=\"32,-110.5 32,-146.5 \"/>\n<text text-anchor=\"middle\" x=\"72\" y=\"-124.8\" font-family=\"Times,serif\" font-size=\"14.00\">data 2.0000</text>\n<polyline fill=\"none\" stroke=\"black\" points=\"112,-110.5 112,-146.5 \"/>\n<text text-anchor=\"middle\" x=\"155\" y=\"-124.8\" font-family=\"Times,serif\" font-size=\"14.00\">grad &#45;3.0000</text>\n</g>\n<!-- 140235179257328&#45;&gt;140235179256464* -->\n<g id=\"edge9\" class=\"edge\">\n<title>140235179257328&#45;&gt;140235179256464*</title>\n<path fill=\"none\" stroke=\"black\" d=\"M198.37,-128.5C208.05,-128.5 217.4,-128.5 225.8,-128.5\"/>\n<polygon fill=\"black\" stroke=\"black\" points=\"225.91,-132 235.91,-128.5 225.91,-125 225.91,-132\"/>\n</g>\n</g>\n</svg>\n"
          },
          "metadata": {},
          "execution_count": 53
        }
      ]
    },
    {
      "cell_type": "code",
      "source": [
        "# swap autograd True/False\n",
        "o = build_graph_relu()\n",
        "o.backward()\n",
        "draw_dot(o)"
      ],
      "metadata": {
        "colab": {
          "base_uri": "https://localhost:8080/",
          "height": 321
        },
        "id": "kv_KHadgX_Hf",
        "outputId": "67dd200b-90b4-490c-cbc3-45e67bd70964"
      },
      "execution_count": 54,
      "outputs": [
        {
          "output_type": "execute_result",
          "data": {
            "text/plain": [
              "<graphviz.dot.Digraph at 0x7f8b0c122580>"
            ],
            "image/svg+xml": "<?xml version=\"1.0\" encoding=\"UTF-8\" standalone=\"no\"?>\n<!DOCTYPE svg PUBLIC \"-//W3C//DTD SVG 1.1//EN\"\n \"http://www.w3.org/Graphics/SVG/1.1/DTD/svg11.dtd\">\n<!-- Generated by graphviz version 2.43.0 (0)\n -->\n<!-- Title: %3 Pages: 1 -->\n<svg width=\"1586pt\" height=\"210pt\"\n viewBox=\"0.00 0.00 1585.99 210.00\" xmlns=\"http://www.w3.org/2000/svg\" xmlns:xlink=\"http://www.w3.org/1999/xlink\">\n<g id=\"graph0\" class=\"graph\" transform=\"scale(1 1) rotate(0) translate(4 206)\">\n<title>%3</title>\n<polygon fill=\"white\" stroke=\"transparent\" points=\"-4,4 -4,-206 1581.99,-206 1581.99,4 -4,4\"/>\n<!-- 140235179696672 -->\n<g id=\"node1\" class=\"node\">\n<title>140235179696672</title>\n<polygon fill=\"none\" stroke=\"black\" points=\"716,-137.5 716,-173.5 901,-173.5 901,-137.5 716,-137.5\"/>\n<text text-anchor=\"middle\" x=\"727.5\" y=\"-151.8\" font-family=\"Times,serif\" font-size=\"14.00\">b</text>\n<polyline fill=\"none\" stroke=\"black\" points=\"739,-137.5 739,-173.5 \"/>\n<text text-anchor=\"middle\" x=\"779\" y=\"-151.8\" font-family=\"Times,serif\" font-size=\"14.00\">data 6.8814</text>\n<polyline fill=\"none\" stroke=\"black\" points=\"819,-137.5 819,-173.5 \"/>\n<text text-anchor=\"middle\" x=\"860\" y=\"-151.8\" font-family=\"Times,serif\" font-size=\"14.00\">grad 1.0000</text>\n</g>\n<!-- 140235179699840+ -->\n<g id=\"node6\" class=\"node\">\n<title>140235179699840+</title>\n<ellipse fill=\"none\" stroke=\"black\" cx=\"1008\" cy=\"-127.5\" rx=\"27\" ry=\"18\"/>\n<text text-anchor=\"middle\" x=\"1008\" y=\"-123.8\" font-family=\"Times,serif\" font-size=\"14.00\">+</text>\n</g>\n<!-- 140235179696672&#45;&gt;140235179699840+ -->\n<g id=\"edge8\" class=\"edge\">\n<title>140235179696672&#45;&gt;140235179699840+</title>\n<path fill=\"none\" stroke=\"black\" d=\"M901.02,-142.52C926,-138.98 951.59,-135.36 971.37,-132.55\"/>\n<polygon fill=\"black\" stroke=\"black\" points=\"972.03,-135.99 981.43,-131.12 971.04,-129.06 972.03,-135.99\"/>\n</g>\n<!-- 140235179699264 -->\n<g id=\"node2\" class=\"node\">\n<title>140235179699264</title>\n<polygon fill=\"none\" stroke=\"black\" points=\"326,-110.5 326,-146.5 546,-146.5 546,-110.5 326,-110.5\"/>\n<text text-anchor=\"middle\" x=\"352.5\" y=\"-124.8\" font-family=\"Times,serif\" font-size=\"14.00\">x1*w1</text>\n<polyline fill=\"none\" stroke=\"black\" points=\"379,-110.5 379,-146.5 \"/>\n<text text-anchor=\"middle\" x=\"421.5\" y=\"-124.8\" font-family=\"Times,serif\" font-size=\"14.00\">data &#45;6.0000</text>\n<polyline fill=\"none\" stroke=\"black\" points=\"464,-110.5 464,-146.5 \"/>\n<text text-anchor=\"middle\" x=\"505\" y=\"-124.8\" font-family=\"Times,serif\" font-size=\"14.00\">grad 1.0000</text>\n</g>\n<!-- 140235179696864+ -->\n<g id=\"node8\" class=\"node\">\n<title>140235179696864+</title>\n<ellipse fill=\"none\" stroke=\"black\" cx=\"609\" cy=\"-100.5\" rx=\"27\" ry=\"18\"/>\n<text text-anchor=\"middle\" x=\"609\" y=\"-96.8\" font-family=\"Times,serif\" font-size=\"14.00\">+</text>\n</g>\n<!-- 140235179699264&#45;&gt;140235179696864+ -->\n<g id=\"edge14\" class=\"edge\">\n<title>140235179699264&#45;&gt;140235179696864+</title>\n<path fill=\"none\" stroke=\"black\" d=\"M546.27,-110.61C555.64,-109.07 564.6,-107.61 572.65,-106.29\"/>\n<polygon fill=\"black\" stroke=\"black\" points=\"573.35,-109.72 582.65,-104.65 572.22,-102.81 573.35,-109.72\"/>\n</g>\n<!-- 140235179699264* -->\n<g id=\"node3\" class=\"node\">\n<title>140235179699264*</title>\n<ellipse fill=\"none\" stroke=\"black\" cx=\"263\" cy=\"-128.5\" rx=\"27\" ry=\"18\"/>\n<text text-anchor=\"middle\" x=\"263\" y=\"-124.8\" font-family=\"Times,serif\" font-size=\"14.00\">*</text>\n</g>\n<!-- 140235179699264*&#45;&gt;140235179699264 -->\n<g id=\"edge1\" class=\"edge\">\n<title>140235179699264*&#45;&gt;140235179699264</title>\n<path fill=\"none\" stroke=\"black\" d=\"M290.34,-128.5C297.77,-128.5 306.37,-128.5 315.6,-128.5\"/>\n<polygon fill=\"black\" stroke=\"black\" points=\"315.84,-132 325.84,-128.5 315.84,-125 315.84,-132\"/>\n</g>\n<!-- 140235179699792 -->\n<g id=\"node4\" class=\"node\">\n<title>140235179699792</title>\n<polygon fill=\"none\" stroke=\"black\" points=\"4,-55.5 4,-91.5 196,-91.5 196,-55.5 4,-55.5\"/>\n<text text-anchor=\"middle\" x=\"19\" y=\"-69.8\" font-family=\"Times,serif\" font-size=\"14.00\">x2</text>\n<polyline fill=\"none\" stroke=\"black\" points=\"34,-55.5 34,-91.5 \"/>\n<text text-anchor=\"middle\" x=\"74\" y=\"-69.8\" font-family=\"Times,serif\" font-size=\"14.00\">data 0.0000</text>\n<polyline fill=\"none\" stroke=\"black\" points=\"114,-55.5 114,-91.5 \"/>\n<text text-anchor=\"middle\" x=\"155\" y=\"-69.8\" font-family=\"Times,serif\" font-size=\"14.00\">grad 1.0000</text>\n</g>\n<!-- 140235179698016* -->\n<g id=\"node13\" class=\"node\">\n<title>140235179698016*</title>\n<ellipse fill=\"none\" stroke=\"black\" cx=\"263\" cy=\"-73.5\" rx=\"27\" ry=\"18\"/>\n<text text-anchor=\"middle\" x=\"263\" y=\"-69.8\" font-family=\"Times,serif\" font-size=\"14.00\">*</text>\n</g>\n<!-- 140235179699792&#45;&gt;140235179698016* -->\n<g id=\"edge11\" class=\"edge\">\n<title>140235179699792&#45;&gt;140235179698016*</title>\n<path fill=\"none\" stroke=\"black\" d=\"M196.05,-73.5C206.52,-73.5 216.65,-73.5 225.71,-73.5\"/>\n<polygon fill=\"black\" stroke=\"black\" points=\"225.79,-77 235.79,-73.5 225.79,-70 225.79,-77\"/>\n</g>\n<!-- 140235179699840 -->\n<g id=\"node5\" class=\"node\">\n<title>140235179699840</title>\n<polygon fill=\"none\" stroke=\"black\" points=\"1071,-109.5 1071,-145.5 1256,-145.5 1256,-109.5 1071,-109.5\"/>\n<text text-anchor=\"middle\" x=\"1082.5\" y=\"-123.8\" font-family=\"Times,serif\" font-size=\"14.00\">n</text>\n<polyline fill=\"none\" stroke=\"black\" points=\"1094,-109.5 1094,-145.5 \"/>\n<text text-anchor=\"middle\" x=\"1134\" y=\"-123.8\" font-family=\"Times,serif\" font-size=\"14.00\">data 0.8814</text>\n<polyline fill=\"none\" stroke=\"black\" points=\"1174,-109.5 1174,-145.5 \"/>\n<text text-anchor=\"middle\" x=\"1215\" y=\"-123.8\" font-family=\"Times,serif\" font-size=\"14.00\">grad 1.0000</text>\n</g>\n<!-- 140235179697056ReLU -->\n<g id=\"node15\" class=\"node\">\n<title>140235179697056ReLU</title>\n<ellipse fill=\"none\" stroke=\"black\" cx=\"1324.5\" cy=\"-127.5\" rx=\"32.49\" ry=\"18\"/>\n<text text-anchor=\"middle\" x=\"1324.5\" y=\"-123.8\" font-family=\"Times,serif\" font-size=\"14.00\">ReLU</text>\n</g>\n<!-- 140235179699840&#45;&gt;140235179697056ReLU -->\n<g id=\"edge6\" class=\"edge\">\n<title>140235179699840&#45;&gt;140235179697056ReLU</title>\n<path fill=\"none\" stroke=\"black\" d=\"M1256.07,-127.5C1265,-127.5 1273.72,-127.5 1281.76,-127.5\"/>\n<polygon fill=\"black\" stroke=\"black\" points=\"1281.92,-131 1291.92,-127.5 1281.92,-124 1281.92,-131\"/>\n</g>\n<!-- 140235179699840+&#45;&gt;140235179699840 -->\n<g id=\"edge2\" class=\"edge\">\n<title>140235179699840+&#45;&gt;140235179699840</title>\n<path fill=\"none\" stroke=\"black\" d=\"M1035.04,-127.5C1042.58,-127.5 1051.3,-127.5 1060.57,-127.5\"/>\n<polygon fill=\"black\" stroke=\"black\" points=\"1060.81,-131 1070.81,-127.5 1060.81,-124 1060.81,-131\"/>\n</g>\n<!-- 140235179696864 -->\n<g id=\"node7\" class=\"node\">\n<title>140235179696864</title>\n<polygon fill=\"none\" stroke=\"black\" points=\"672,-82.5 672,-118.5 945,-118.5 945,-82.5 672,-82.5\"/>\n<text text-anchor=\"middle\" x=\"725\" y=\"-96.8\" font-family=\"Times,serif\" font-size=\"14.00\">x1*w1 + x2*w2</text>\n<polyline fill=\"none\" stroke=\"black\" points=\"778,-82.5 778,-118.5 \"/>\n<text text-anchor=\"middle\" x=\"820.5\" y=\"-96.8\" font-family=\"Times,serif\" font-size=\"14.00\">data &#45;6.0000</text>\n<polyline fill=\"none\" stroke=\"black\" points=\"863,-82.5 863,-118.5 \"/>\n<text text-anchor=\"middle\" x=\"904\" y=\"-96.8\" font-family=\"Times,serif\" font-size=\"14.00\">grad 1.0000</text>\n</g>\n<!-- 140235179696864&#45;&gt;140235179699840+ -->\n<g id=\"edge9\" class=\"edge\">\n<title>140235179696864&#45;&gt;140235179699840+</title>\n<path fill=\"none\" stroke=\"black\" d=\"M941.24,-118.51C952.12,-120 962.4,-121.4 971.45,-122.64\"/>\n<polygon fill=\"black\" stroke=\"black\" points=\"971.11,-126.13 981.49,-124.01 972.05,-119.19 971.11,-126.13\"/>\n</g>\n<!-- 140235179696864+&#45;&gt;140235179696864 -->\n<g id=\"edge3\" class=\"edge\">\n<title>140235179696864+&#45;&gt;140235179696864</title>\n<path fill=\"none\" stroke=\"black\" d=\"M636.23,-100.5C643.7,-100.5 652.41,-100.5 661.87,-100.5\"/>\n<polygon fill=\"black\" stroke=\"black\" points=\"661.98,-104 671.98,-100.5 661.98,-97 661.98,-104\"/>\n</g>\n<!-- 140235179699936 -->\n<g id=\"node9\" class=\"node\">\n<title>140235179699936</title>\n<polygon fill=\"none\" stroke=\"black\" points=\"0,-165.5 0,-201.5 200,-201.5 200,-165.5 0,-165.5\"/>\n<text text-anchor=\"middle\" x=\"16.5\" y=\"-179.8\" font-family=\"Times,serif\" font-size=\"14.00\">w1</text>\n<polyline fill=\"none\" stroke=\"black\" points=\"33,-165.5 33,-201.5 \"/>\n<text text-anchor=\"middle\" x=\"75.5\" y=\"-179.8\" font-family=\"Times,serif\" font-size=\"14.00\">data &#45;3.0000</text>\n<polyline fill=\"none\" stroke=\"black\" points=\"118,-165.5 118,-201.5 \"/>\n<text text-anchor=\"middle\" x=\"159\" y=\"-179.8\" font-family=\"Times,serif\" font-size=\"14.00\">grad 2.0000</text>\n</g>\n<!-- 140235179699936&#45;&gt;140235179699264* -->\n<g id=\"edge12\" class=\"edge\">\n<title>140235179699936&#45;&gt;140235179699264*</title>\n<path fill=\"none\" stroke=\"black\" d=\"M172.53,-165.44C181.84,-162.67 191.2,-159.67 200,-156.5 210.53,-152.71 221.75,-147.9 231.72,-143.33\"/>\n<polygon fill=\"black\" stroke=\"black\" points=\"233.25,-146.48 240.82,-139.07 230.28,-140.14 233.25,-146.48\"/>\n</g>\n<!-- 140235179696384 -->\n<g id=\"node10\" class=\"node\">\n<title>140235179696384</title>\n<polygon fill=\"none\" stroke=\"black\" points=\"2,-110.5 2,-146.5 198,-146.5 198,-110.5 2,-110.5\"/>\n<text text-anchor=\"middle\" x=\"17\" y=\"-124.8\" font-family=\"Times,serif\" font-size=\"14.00\">x1</text>\n<polyline fill=\"none\" stroke=\"black\" points=\"32,-110.5 32,-146.5 \"/>\n<text text-anchor=\"middle\" x=\"72\" y=\"-124.8\" font-family=\"Times,serif\" font-size=\"14.00\">data 2.0000</text>\n<polyline fill=\"none\" stroke=\"black\" points=\"112,-110.5 112,-146.5 \"/>\n<text text-anchor=\"middle\" x=\"155\" y=\"-124.8\" font-family=\"Times,serif\" font-size=\"14.00\">grad &#45;3.0000</text>\n</g>\n<!-- 140235179696384&#45;&gt;140235179699264* -->\n<g id=\"edge7\" class=\"edge\">\n<title>140235179696384&#45;&gt;140235179699264*</title>\n<path fill=\"none\" stroke=\"black\" d=\"M198.37,-128.5C208.05,-128.5 217.4,-128.5 225.8,-128.5\"/>\n<polygon fill=\"black\" stroke=\"black\" points=\"225.91,-132 235.91,-128.5 225.91,-125 225.91,-132\"/>\n</g>\n<!-- 140235179696432 -->\n<g id=\"node11\" class=\"node\">\n<title>140235179696432</title>\n<polygon fill=\"none\" stroke=\"black\" points=\"2.5,-0.5 2.5,-36.5 197.5,-36.5 197.5,-0.5 2.5,-0.5\"/>\n<text text-anchor=\"middle\" x=\"19\" y=\"-14.8\" font-family=\"Times,serif\" font-size=\"14.00\">w2</text>\n<polyline fill=\"none\" stroke=\"black\" points=\"35.5,-0.5 35.5,-36.5 \"/>\n<text text-anchor=\"middle\" x=\"75.5\" y=\"-14.8\" font-family=\"Times,serif\" font-size=\"14.00\">data 1.0000</text>\n<polyline fill=\"none\" stroke=\"black\" points=\"115.5,-0.5 115.5,-36.5 \"/>\n<text text-anchor=\"middle\" x=\"156.5\" y=\"-14.8\" font-family=\"Times,serif\" font-size=\"14.00\">grad 0.0000</text>\n</g>\n<!-- 140235179696432&#45;&gt;140235179698016* -->\n<g id=\"edge10\" class=\"edge\">\n<title>140235179696432&#45;&gt;140235179698016*</title>\n<path fill=\"none\" stroke=\"black\" d=\"M169.28,-36.5C179.65,-39.61 190.16,-42.98 200,-46.5 210.28,-50.17 221.28,-54.74 231.11,-59.07\"/>\n<polygon fill=\"black\" stroke=\"black\" points=\"229.93,-62.37 240.48,-63.27 232.79,-55.99 229.93,-62.37\"/>\n</g>\n<!-- 140235179698016 -->\n<g id=\"node12\" class=\"node\">\n<title>140235179698016</title>\n<polygon fill=\"none\" stroke=\"black\" points=\"328.5,-55.5 328.5,-91.5 543.5,-91.5 543.5,-55.5 328.5,-55.5\"/>\n<text text-anchor=\"middle\" x=\"355\" y=\"-69.8\" font-family=\"Times,serif\" font-size=\"14.00\">x2*w2</text>\n<polyline fill=\"none\" stroke=\"black\" points=\"381.5,-55.5 381.5,-91.5 \"/>\n<text text-anchor=\"middle\" x=\"421.5\" y=\"-69.8\" font-family=\"Times,serif\" font-size=\"14.00\">data 0.0000</text>\n<polyline fill=\"none\" stroke=\"black\" points=\"461.5,-55.5 461.5,-91.5 \"/>\n<text text-anchor=\"middle\" x=\"502.5\" y=\"-69.8\" font-family=\"Times,serif\" font-size=\"14.00\">grad 1.0000</text>\n</g>\n<!-- 140235179698016&#45;&gt;140235179696864+ -->\n<g id=\"edge13\" class=\"edge\">\n<title>140235179698016&#45;&gt;140235179696864+</title>\n<path fill=\"none\" stroke=\"black\" d=\"M543.84,-90.37C554.01,-91.98 563.76,-93.51 572.44,-94.89\"/>\n<polygon fill=\"black\" stroke=\"black\" points=\"572.05,-98.37 582.47,-96.47 573.14,-91.45 572.05,-98.37\"/>\n</g>\n<!-- 140235179698016*&#45;&gt;140235179698016 -->\n<g id=\"edge4\" class=\"edge\">\n<title>140235179698016*&#45;&gt;140235179698016</title>\n<path fill=\"none\" stroke=\"black\" d=\"M290.34,-73.5C298.51,-73.5 308.08,-73.5 318.36,-73.5\"/>\n<polygon fill=\"black\" stroke=\"black\" points=\"318.39,-77 328.39,-73.5 318.39,-70 318.39,-77\"/>\n</g>\n<!-- 140235179697056 -->\n<g id=\"node14\" class=\"node\">\n<title>140235179697056</title>\n<polygon fill=\"none\" stroke=\"black\" points=\"1392.99,-109.5 1392.99,-145.5 1577.99,-145.5 1577.99,-109.5 1392.99,-109.5\"/>\n<text text-anchor=\"middle\" x=\"1404.49\" y=\"-123.8\" font-family=\"Times,serif\" font-size=\"14.00\">o</text>\n<polyline fill=\"none\" stroke=\"black\" points=\"1415.99,-109.5 1415.99,-145.5 \"/>\n<text text-anchor=\"middle\" x=\"1455.99\" y=\"-123.8\" font-family=\"Times,serif\" font-size=\"14.00\">data 0.8814</text>\n<polyline fill=\"none\" stroke=\"black\" points=\"1495.99,-109.5 1495.99,-145.5 \"/>\n<text text-anchor=\"middle\" x=\"1536.99\" y=\"-123.8\" font-family=\"Times,serif\" font-size=\"14.00\">grad 1.0000</text>\n</g>\n<!-- 140235179697056ReLU&#45;&gt;140235179697056 -->\n<g id=\"edge5\" class=\"edge\">\n<title>140235179697056ReLU&#45;&gt;140235179697056</title>\n<path fill=\"none\" stroke=\"black\" d=\"M1357.29,-127.5C1365.01,-127.5 1373.68,-127.5 1382.78,-127.5\"/>\n<polygon fill=\"black\" stroke=\"black\" points=\"1382.79,-131 1392.79,-127.5 1382.79,-124 1382.79,-131\"/>\n</g>\n</g>\n</svg>\n"
          },
          "metadata": {},
          "execution_count": 54
        }
      ]
    },
    {
      "cell_type": "code",
      "source": [
        "o = build_graph_sigmoid()\n",
        "o.backward()\n",
        "draw_dot(o)"
      ],
      "metadata": {
        "colab": {
          "base_uri": "https://localhost:8080/",
          "height": 321
        },
        "id": "IE9hAMT5lXdv",
        "outputId": "0c91f713-7005-4298-bec7-e6dc62a0aa7d"
      },
      "execution_count": 55,
      "outputs": [
        {
          "output_type": "execute_result",
          "data": {
            "text/plain": [
              "<graphviz.dot.Digraph at 0x7f8b0c174910>"
            ],
            "image/svg+xml": "<?xml version=\"1.0\" encoding=\"UTF-8\" standalone=\"no\"?>\n<!DOCTYPE svg PUBLIC \"-//W3C//DTD SVG 1.1//EN\"\n \"http://www.w3.org/Graphics/SVG/1.1/DTD/svg11.dtd\">\n<!-- Generated by graphviz version 2.43.0 (0)\n -->\n<!-- Title: %3 Pages: 1 -->\n<svg width=\"1600pt\" height=\"210pt\"\n viewBox=\"0.00 0.00 1600.29 210.00\" xmlns=\"http://www.w3.org/2000/svg\" xmlns:xlink=\"http://www.w3.org/1999/xlink\">\n<g id=\"graph0\" class=\"graph\" transform=\"scale(1 1) rotate(0) translate(4 206)\">\n<title>%3</title>\n<polygon fill=\"white\" stroke=\"transparent\" points=\"-4,4 -4,-206 1596.29,-206 1596.29,4 -4,4\"/>\n<!-- 140235179699744 -->\n<g id=\"node1\" class=\"node\">\n<title>140235179699744</title>\n<polygon fill=\"none\" stroke=\"black\" points=\"4,-165.5 4,-201.5 196,-201.5 196,-165.5 4,-165.5\"/>\n<text text-anchor=\"middle\" x=\"19\" y=\"-179.8\" font-family=\"Times,serif\" font-size=\"14.00\">x2</text>\n<polyline fill=\"none\" stroke=\"black\" points=\"34,-165.5 34,-201.5 \"/>\n<text text-anchor=\"middle\" x=\"74\" y=\"-179.8\" font-family=\"Times,serif\" font-size=\"14.00\">data 0.0000</text>\n<polyline fill=\"none\" stroke=\"black\" points=\"114,-165.5 114,-201.5 \"/>\n<text text-anchor=\"middle\" x=\"155\" y=\"-179.8\" font-family=\"Times,serif\" font-size=\"14.00\">grad 0.2071</text>\n</g>\n<!-- 140235179986272* -->\n<g id=\"node12\" class=\"node\">\n<title>140235179986272*</title>\n<ellipse fill=\"none\" stroke=\"black\" cx=\"263\" cy=\"-128.5\" rx=\"27\" ry=\"18\"/>\n<text text-anchor=\"middle\" x=\"263\" y=\"-124.8\" font-family=\"Times,serif\" font-size=\"14.00\">*</text>\n</g>\n<!-- 140235179699744&#45;&gt;140235179986272* -->\n<g id=\"edge13\" class=\"edge\">\n<title>140235179699744&#45;&gt;140235179986272*</title>\n<path fill=\"none\" stroke=\"black\" d=\"M172.53,-165.44C181.84,-162.67 191.2,-159.67 200,-156.5 210.53,-152.71 221.75,-147.9 231.72,-143.33\"/>\n<polygon fill=\"black\" stroke=\"black\" points=\"233.25,-146.48 240.82,-139.07 230.28,-140.14 233.25,-146.48\"/>\n</g>\n<!-- 140235179698736 -->\n<g id=\"node2\" class=\"node\">\n<title>140235179698736</title>\n<polygon fill=\"none\" stroke=\"black\" points=\"2.5,-110.5 2.5,-146.5 197.5,-146.5 197.5,-110.5 2.5,-110.5\"/>\n<text text-anchor=\"middle\" x=\"19\" y=\"-124.8\" font-family=\"Times,serif\" font-size=\"14.00\">w2</text>\n<polyline fill=\"none\" stroke=\"black\" points=\"35.5,-110.5 35.5,-146.5 \"/>\n<text text-anchor=\"middle\" x=\"75.5\" y=\"-124.8\" font-family=\"Times,serif\" font-size=\"14.00\">data 1.0000</text>\n<polyline fill=\"none\" stroke=\"black\" points=\"115.5,-110.5 115.5,-146.5 \"/>\n<text text-anchor=\"middle\" x=\"156.5\" y=\"-124.8\" font-family=\"Times,serif\" font-size=\"14.00\">grad 0.0000</text>\n</g>\n<!-- 140235179698736&#45;&gt;140235179986272* -->\n<g id=\"edge10\" class=\"edge\">\n<title>140235179698736&#45;&gt;140235179986272*</title>\n<path fill=\"none\" stroke=\"black\" d=\"M197.91,-128.5C207.65,-128.5 217.05,-128.5 225.52,-128.5\"/>\n<polygon fill=\"black\" stroke=\"black\" points=\"225.7,-132 235.7,-128.5 225.7,-125 225.7,-132\"/>\n</g>\n<!-- 140235179982912 -->\n<g id=\"node3\" class=\"node\">\n<title>140235179982912</title>\n<polygon fill=\"none\" stroke=\"black\" points=\"672,-82.5 672,-118.5 945,-118.5 945,-82.5 672,-82.5\"/>\n<text text-anchor=\"middle\" x=\"725\" y=\"-96.8\" font-family=\"Times,serif\" font-size=\"14.00\">x1*w1 + x2*w2</text>\n<polyline fill=\"none\" stroke=\"black\" points=\"778,-82.5 778,-118.5 \"/>\n<text text-anchor=\"middle\" x=\"820.5\" y=\"-96.8\" font-family=\"Times,serif\" font-size=\"14.00\">data &#45;6.0000</text>\n<polyline fill=\"none\" stroke=\"black\" points=\"863,-82.5 863,-118.5 \"/>\n<text text-anchor=\"middle\" x=\"904\" y=\"-96.8\" font-family=\"Times,serif\" font-size=\"14.00\">grad 0.2071</text>\n</g>\n<!-- 140235180032832+ -->\n<g id=\"node8\" class=\"node\">\n<title>140235180032832+</title>\n<ellipse fill=\"none\" stroke=\"black\" cx=\"1008\" cy=\"-72.5\" rx=\"27\" ry=\"18\"/>\n<text text-anchor=\"middle\" x=\"1008\" y=\"-68.8\" font-family=\"Times,serif\" font-size=\"14.00\">+</text>\n</g>\n<!-- 140235179982912&#45;&gt;140235180032832+ -->\n<g id=\"edge8\" class=\"edge\">\n<title>140235179982912&#45;&gt;140235180032832+</title>\n<path fill=\"none\" stroke=\"black\" d=\"M936.53,-82.49C949.09,-80.71 960.99,-79.02 971.3,-77.56\"/>\n<polygon fill=\"black\" stroke=\"black\" points=\"972.03,-80.99 981.44,-76.12 971.05,-74.06 972.03,-80.99\"/>\n</g>\n<!-- 140235179982912+ -->\n<g id=\"node4\" class=\"node\">\n<title>140235179982912+</title>\n<ellipse fill=\"none\" stroke=\"black\" cx=\"609\" cy=\"-100.5\" rx=\"27\" ry=\"18\"/>\n<text text-anchor=\"middle\" x=\"609\" y=\"-96.8\" font-family=\"Times,serif\" font-size=\"14.00\">+</text>\n</g>\n<!-- 140235179982912+&#45;&gt;140235179982912 -->\n<g id=\"edge1\" class=\"edge\">\n<title>140235179982912+&#45;&gt;140235179982912</title>\n<path fill=\"none\" stroke=\"black\" d=\"M636.23,-100.5C643.7,-100.5 652.41,-100.5 661.87,-100.5\"/>\n<polygon fill=\"black\" stroke=\"black\" points=\"661.98,-104 671.98,-100.5 661.98,-97 661.98,-104\"/>\n</g>\n<!-- 140235179697248 -->\n<g id=\"node5\" class=\"node\">\n<title>140235179697248</title>\n<polygon fill=\"none\" stroke=\"black\" points=\"716,-27.5 716,-63.5 901,-63.5 901,-27.5 716,-27.5\"/>\n<text text-anchor=\"middle\" x=\"727.5\" y=\"-41.8\" font-family=\"Times,serif\" font-size=\"14.00\">b</text>\n<polyline fill=\"none\" stroke=\"black\" points=\"739,-27.5 739,-63.5 \"/>\n<text text-anchor=\"middle\" x=\"779\" y=\"-41.8\" font-family=\"Times,serif\" font-size=\"14.00\">data 6.8814</text>\n<polyline fill=\"none\" stroke=\"black\" points=\"819,-27.5 819,-63.5 \"/>\n<text text-anchor=\"middle\" x=\"860\" y=\"-41.8\" font-family=\"Times,serif\" font-size=\"14.00\">grad 0.2071</text>\n</g>\n<!-- 140235179697248&#45;&gt;140235180032832+ -->\n<g id=\"edge9\" class=\"edge\">\n<title>140235179697248&#45;&gt;140235180032832+</title>\n<path fill=\"none\" stroke=\"black\" d=\"M901.02,-58.01C926,-61.43 951.59,-64.93 971.37,-67.63\"/>\n<polygon fill=\"black\" stroke=\"black\" points=\"971.05,-71.12 981.43,-69.01 972,-64.18 971.05,-71.12\"/>\n</g>\n<!-- 140235179697824 -->\n<g id=\"node6\" class=\"node\">\n<title>140235179697824</title>\n<polygon fill=\"none\" stroke=\"black\" points=\"0,-55.5 0,-91.5 200,-91.5 200,-55.5 0,-55.5\"/>\n<text text-anchor=\"middle\" x=\"16.5\" y=\"-69.8\" font-family=\"Times,serif\" font-size=\"14.00\">w1</text>\n<polyline fill=\"none\" stroke=\"black\" points=\"33,-55.5 33,-91.5 \"/>\n<text text-anchor=\"middle\" x=\"75.5\" y=\"-69.8\" font-family=\"Times,serif\" font-size=\"14.00\">data &#45;3.0000</text>\n<polyline fill=\"none\" stroke=\"black\" points=\"118,-55.5 118,-91.5 \"/>\n<text text-anchor=\"middle\" x=\"159\" y=\"-69.8\" font-family=\"Times,serif\" font-size=\"14.00\">grad 0.4142</text>\n</g>\n<!-- 140235179985792* -->\n<g id=\"node14\" class=\"node\">\n<title>140235179985792*</title>\n<ellipse fill=\"none\" stroke=\"black\" cx=\"263\" cy=\"-73.5\" rx=\"27\" ry=\"18\"/>\n<text text-anchor=\"middle\" x=\"263\" y=\"-69.8\" font-family=\"Times,serif\" font-size=\"14.00\">*</text>\n</g>\n<!-- 140235179697824&#45;&gt;140235179985792* -->\n<g id=\"edge11\" class=\"edge\">\n<title>140235179697824&#45;&gt;140235179985792*</title>\n<path fill=\"none\" stroke=\"black\" d=\"M200.21,-73.5C209.2,-73.5 217.86,-73.5 225.7,-73.5\"/>\n<polygon fill=\"black\" stroke=\"black\" points=\"225.85,-77 235.85,-73.5 225.85,-70 225.85,-77\"/>\n</g>\n<!-- 140235180032832 -->\n<g id=\"node7\" class=\"node\">\n<title>140235180032832</title>\n<polygon fill=\"none\" stroke=\"black\" points=\"1071,-54.5 1071,-90.5 1256,-90.5 1256,-54.5 1071,-54.5\"/>\n<text text-anchor=\"middle\" x=\"1082.5\" y=\"-68.8\" font-family=\"Times,serif\" font-size=\"14.00\">n</text>\n<polyline fill=\"none\" stroke=\"black\" points=\"1094,-54.5 1094,-90.5 \"/>\n<text text-anchor=\"middle\" x=\"1134\" y=\"-68.8\" font-family=\"Times,serif\" font-size=\"14.00\">data 0.8814</text>\n<polyline fill=\"none\" stroke=\"black\" points=\"1174,-54.5 1174,-90.5 \"/>\n<text text-anchor=\"middle\" x=\"1215\" y=\"-68.8\" font-family=\"Times,serif\" font-size=\"14.00\">grad 0.2071</text>\n</g>\n<!-- 140235180034896sigmoid -->\n<g id=\"node10\" class=\"node\">\n<title>140235180034896sigmoid</title>\n<ellipse fill=\"none\" stroke=\"black\" cx=\"1331.65\" cy=\"-72.5\" rx=\"39.79\" ry=\"18\"/>\n<text text-anchor=\"middle\" x=\"1331.65\" y=\"-68.8\" font-family=\"Times,serif\" font-size=\"14.00\">sigmoid</text>\n</g>\n<!-- 140235180032832&#45;&gt;140235180034896sigmoid -->\n<g id=\"edge12\" class=\"edge\">\n<title>140235180032832&#45;&gt;140235180034896sigmoid</title>\n<path fill=\"none\" stroke=\"black\" d=\"M1256.32,-72.5C1264.98,-72.5 1273.52,-72.5 1281.54,-72.5\"/>\n<polygon fill=\"black\" stroke=\"black\" points=\"1281.76,-76 1291.76,-72.5 1281.76,-69 1281.76,-76\"/>\n</g>\n<!-- 140235180032832+&#45;&gt;140235180032832 -->\n<g id=\"edge2\" class=\"edge\">\n<title>140235180032832+&#45;&gt;140235180032832</title>\n<path fill=\"none\" stroke=\"black\" d=\"M1035.04,-72.5C1042.58,-72.5 1051.3,-72.5 1060.57,-72.5\"/>\n<polygon fill=\"black\" stroke=\"black\" points=\"1060.81,-76 1070.81,-72.5 1060.81,-69 1060.81,-76\"/>\n</g>\n<!-- 140235180034896 -->\n<g id=\"node9\" class=\"node\">\n<title>140235180034896</title>\n<polygon fill=\"none\" stroke=\"black\" points=\"1407.29,-54.5 1407.29,-90.5 1592.29,-90.5 1592.29,-54.5 1407.29,-54.5\"/>\n<text text-anchor=\"middle\" x=\"1418.79\" y=\"-68.8\" font-family=\"Times,serif\" font-size=\"14.00\">o</text>\n<polyline fill=\"none\" stroke=\"black\" points=\"1430.29,-54.5 1430.29,-90.5 \"/>\n<text text-anchor=\"middle\" x=\"1470.29\" y=\"-68.8\" font-family=\"Times,serif\" font-size=\"14.00\">data 0.7071</text>\n<polyline fill=\"none\" stroke=\"black\" points=\"1510.29,-54.5 1510.29,-90.5 \"/>\n<text text-anchor=\"middle\" x=\"1551.29\" y=\"-68.8\" font-family=\"Times,serif\" font-size=\"14.00\">grad 1.0000</text>\n</g>\n<!-- 140235180034896sigmoid&#45;&gt;140235180034896 -->\n<g id=\"edge3\" class=\"edge\">\n<title>140235180034896sigmoid&#45;&gt;140235180034896</title>\n<path fill=\"none\" stroke=\"black\" d=\"M1371.6,-72.5C1379.48,-72.5 1388.09,-72.5 1397.02,-72.5\"/>\n<polygon fill=\"black\" stroke=\"black\" points=\"1397.2,-76 1407.2,-72.5 1397.2,-69 1397.2,-76\"/>\n</g>\n<!-- 140235179986272 -->\n<g id=\"node11\" class=\"node\">\n<title>140235179986272</title>\n<polygon fill=\"none\" stroke=\"black\" points=\"328.5,-110.5 328.5,-146.5 543.5,-146.5 543.5,-110.5 328.5,-110.5\"/>\n<text text-anchor=\"middle\" x=\"355\" y=\"-124.8\" font-family=\"Times,serif\" font-size=\"14.00\">x2*w2</text>\n<polyline fill=\"none\" stroke=\"black\" points=\"381.5,-110.5 381.5,-146.5 \"/>\n<text text-anchor=\"middle\" x=\"421.5\" y=\"-124.8\" font-family=\"Times,serif\" font-size=\"14.00\">data 0.0000</text>\n<polyline fill=\"none\" stroke=\"black\" points=\"461.5,-110.5 461.5,-146.5 \"/>\n<text text-anchor=\"middle\" x=\"502.5\" y=\"-124.8\" font-family=\"Times,serif\" font-size=\"14.00\">grad 0.2071</text>\n</g>\n<!-- 140235179986272&#45;&gt;140235179982912+ -->\n<g id=\"edge7\" class=\"edge\">\n<title>140235179986272&#45;&gt;140235179982912+</title>\n<path fill=\"none\" stroke=\"black\" d=\"M543.84,-111.01C554.01,-109.34 563.76,-107.74 572.44,-106.32\"/>\n<polygon fill=\"black\" stroke=\"black\" points=\"573.17,-109.75 582.47,-104.68 572.04,-102.84 573.17,-109.75\"/>\n</g>\n<!-- 140235179986272*&#45;&gt;140235179986272 -->\n<g id=\"edge4\" class=\"edge\">\n<title>140235179986272*&#45;&gt;140235179986272</title>\n<path fill=\"none\" stroke=\"black\" d=\"M290.34,-128.5C298.51,-128.5 308.08,-128.5 318.36,-128.5\"/>\n<polygon fill=\"black\" stroke=\"black\" points=\"318.39,-132 328.39,-128.5 318.39,-125 318.39,-132\"/>\n</g>\n<!-- 140235179985792 -->\n<g id=\"node13\" class=\"node\">\n<title>140235179985792</title>\n<polygon fill=\"none\" stroke=\"black\" points=\"326,-55.5 326,-91.5 546,-91.5 546,-55.5 326,-55.5\"/>\n<text text-anchor=\"middle\" x=\"352.5\" y=\"-69.8\" font-family=\"Times,serif\" font-size=\"14.00\">x1*w1</text>\n<polyline fill=\"none\" stroke=\"black\" points=\"379,-55.5 379,-91.5 \"/>\n<text text-anchor=\"middle\" x=\"421.5\" y=\"-69.8\" font-family=\"Times,serif\" font-size=\"14.00\">data &#45;6.0000</text>\n<polyline fill=\"none\" stroke=\"black\" points=\"464,-55.5 464,-91.5 \"/>\n<text text-anchor=\"middle\" x=\"505\" y=\"-69.8\" font-family=\"Times,serif\" font-size=\"14.00\">grad 0.2071</text>\n</g>\n<!-- 140235179985792&#45;&gt;140235179982912+ -->\n<g id=\"edge14\" class=\"edge\">\n<title>140235179985792&#45;&gt;140235179982912+</title>\n<path fill=\"none\" stroke=\"black\" d=\"M546.27,-90.75C555.64,-92.23 564.6,-93.65 572.65,-94.92\"/>\n<polygon fill=\"black\" stroke=\"black\" points=\"572.23,-98.4 582.65,-96.5 573.32,-91.48 572.23,-98.4\"/>\n</g>\n<!-- 140235179985792*&#45;&gt;140235179985792 -->\n<g id=\"edge5\" class=\"edge\">\n<title>140235179985792*&#45;&gt;140235179985792</title>\n<path fill=\"none\" stroke=\"black\" d=\"M290.34,-73.5C297.77,-73.5 306.37,-73.5 315.6,-73.5\"/>\n<polygon fill=\"black\" stroke=\"black\" points=\"315.84,-77 325.84,-73.5 315.84,-70 315.84,-77\"/>\n</g>\n<!-- 140235179698064 -->\n<g id=\"node15\" class=\"node\">\n<title>140235179698064</title>\n<polygon fill=\"none\" stroke=\"black\" points=\"2,-0.5 2,-36.5 198,-36.5 198,-0.5 2,-0.5\"/>\n<text text-anchor=\"middle\" x=\"17\" y=\"-14.8\" font-family=\"Times,serif\" font-size=\"14.00\">x1</text>\n<polyline fill=\"none\" stroke=\"black\" points=\"32,-0.5 32,-36.5 \"/>\n<text text-anchor=\"middle\" x=\"72\" y=\"-14.8\" font-family=\"Times,serif\" font-size=\"14.00\">data 2.0000</text>\n<polyline fill=\"none\" stroke=\"black\" points=\"112,-0.5 112,-36.5 \"/>\n<text text-anchor=\"middle\" x=\"155\" y=\"-14.8\" font-family=\"Times,serif\" font-size=\"14.00\">grad &#45;0.6213</text>\n</g>\n<!-- 140235179698064&#45;&gt;140235179985792* -->\n<g id=\"edge6\" class=\"edge\">\n<title>140235179698064&#45;&gt;140235179985792*</title>\n<path fill=\"none\" stroke=\"black\" d=\"M169.28,-36.5C179.65,-39.61 190.16,-42.98 200,-46.5 210.28,-50.17 221.28,-54.74 231.11,-59.07\"/>\n<polygon fill=\"black\" stroke=\"black\" points=\"229.93,-62.37 240.48,-63.27 232.79,-55.99 229.93,-62.37\"/>\n</g>\n</g>\n</svg>\n"
          },
          "metadata": {},
          "execution_count": 55
        }
      ]
    },
    {
      "cell_type": "markdown",
      "source": [
        "# Trying This With Torch"
      ],
      "metadata": {
        "id": "_zPvPNs8htQn"
      }
    },
    {
      "cell_type": "code",
      "source": [
        "import torch\n",
        "torch.version"
      ],
      "metadata": {
        "colab": {
          "base_uri": "https://localhost:8080/"
        },
        "id": "IHx-_KiUhKTB",
        "outputId": "f2cc762b-c18d-4dc1-a87d-7d82cb597fdc"
      },
      "execution_count": 56,
      "outputs": [
        {
          "output_type": "execute_result",
          "data": {
            "text/plain": [
              "<module 'torch.version' from '/usr/local/lib/python3.8/dist-packages/torch/version.py'>"
            ]
          },
          "metadata": {},
          "execution_count": 56
        }
      ]
    },
    {
      "cell_type": "code",
      "source": [
        "rg = True\n",
        "x1 = torch.Tensor([2.0]).double();                x1.requires_grad = rg\n",
        "x2 = torch.Tensor([0.0]).double();                x2.requires_grad = rg\n",
        "w1 = torch.Tensor([-3.0]).double();               w1.requires_grad = rg\n",
        "w2 = torch.Tensor([1.0]).double();                w2.requires_grad = rg\n",
        "b = torch.Tensor([6.8813735870195432]).double();  b.requires_grad = rg\n",
        "\n",
        "n = x1 * w1 + x2 * w2 + b\n",
        "# o = torch.sigmoid(n)\n",
        "# o = torch.relu(n)\n",
        "o = torch.tanh(n)\n",
        "\n",
        "print(o.data.item())\n",
        "o.backward()\n",
        "\n",
        "print(\"------\")\n",
        "print(f\"x1: {x1.grad.item()}\")\n",
        "print(f\"w1: {w1.grad.item()}\")\n",
        "print(f\"x2: {x2.grad.item()}\")\n",
        "print(f\"w2: {w2.grad.item()}\")"
      ],
      "metadata": {
        "colab": {
          "base_uri": "https://localhost:8080/"
        },
        "id": "PjQVSl4Dhrr0",
        "outputId": "be1a6687-ea4b-4986-b72c-ccabdbb969f8"
      },
      "execution_count": 57,
      "outputs": [
        {
          "output_type": "stream",
          "name": "stdout",
          "text": [
            "0.7071066904050358\n",
            "------\n",
            "x1: -1.5000003851533106\n",
            "w1: 1.0000002567688737\n",
            "x2: 0.5000001283844369\n",
            "w2: 0.0\n"
          ]
        }
      ]
    },
    {
      "cell_type": "code",
      "source": [
        "torch.Tensor([[1,2,3],[4,5,6]]).dtype"
      ],
      "metadata": {
        "colab": {
          "base_uri": "https://localhost:8080/"
        },
        "id": "vrQFdUwcjWe-",
        "outputId": "58d59f73-e575-4f25-be99-69b6319158d0"
      },
      "execution_count": 58,
      "outputs": [
        {
          "output_type": "execute_result",
          "data": {
            "text/plain": [
              "torch.float32"
            ]
          },
          "metadata": {},
          "execution_count": 58
        }
      ]
    },
    {
      "cell_type": "code",
      "source": [
        "# def test3():\n",
        "#   a = Value(-2.0, label='a')\n",
        "#   b = Value(3.0, label='b')\n",
        "#   c = Value(10.0, label='c')\n",
        "#   d = a * b + a; d.label = 'd'\n",
        "#   e = a + b * c; e.label = 'e'\n",
        "#   f = d * e * c * c; f.label = 'f'\n",
        "\n",
        "#   f.backward()\n",
        "#   return f\n",
        "\n",
        "# draw_dot(test3())\n",
        "a = torch.Tensor([-2.0]).double(); a.requires_grad = True\n",
        "b = torch.Tensor([3.0]).double(); b.requires_grad = True\n",
        "c = torch.Tensor([10.0]).double(); c.requires_grad = True\n",
        "\n",
        "d = a * b + a\n",
        "e = a + b * c\n",
        "f = d * e * c * c\n",
        "\n",
        "f.backward()\n",
        "print(f.data.item())\n",
        "\n",
        "print(\"----\")\n",
        "print(f\"a: {a.grad.item()}\")\n",
        "print(f\"b: {b.grad.item()}\")\n",
        "print(f\"c: {c.grad.item()}\")"
      ],
      "metadata": {
        "colab": {
          "base_uri": "https://localhost:8080/"
        },
        "id": "Mxlqbu_fksj_",
        "outputId": "123a87fb-01bb-4c08-bf59-0f898fd75edc"
      },
      "execution_count": 59,
      "outputs": [
        {
          "output_type": "stream",
          "name": "stdout",
          "text": [
            "-22400.0\n",
            "----\n",
            "a: 10400.0\n",
            "b: -13600.0\n",
            "c: -6880.0\n"
          ]
        }
      ]
    },
    {
      "cell_type": "code",
      "source": [
        "draw_dot(test3())"
      ],
      "metadata": {
        "colab": {
          "base_uri": "https://localhost:8080/",
          "height": 360
        },
        "id": "JwRI1YXFq7HO",
        "outputId": "5ebe00d0-e13e-449f-a440-74d634eb9546"
      },
      "execution_count": 60,
      "outputs": [
        {
          "output_type": "execute_result",
          "data": {
            "text/plain": [
              "<graphviz.dot.Digraph at 0x7f8ae8718220>"
            ],
            "image/svg+xml": "<?xml version=\"1.0\" encoding=\"UTF-8\" standalone=\"no\"?>\n<!DOCTYPE svg PUBLIC \"-//W3C//DTD SVG 1.1//EN\"\n \"http://www.w3.org/Graphics/SVG/1.1/DTD/svg11.dtd\">\n<!-- Generated by graphviz version 2.43.0 (0)\n -->\n<!-- Title: %3 Pages: 1 -->\n<svg width=\"1914pt\" height=\"239pt\"\n viewBox=\"0.00 0.00 1914.00 238.93\" xmlns=\"http://www.w3.org/2000/svg\" xmlns:xlink=\"http://www.w3.org/1999/xlink\">\n<g id=\"graph0\" class=\"graph\" transform=\"scale(1 1) rotate(0) translate(4 234.93)\">\n<title>%3</title>\n<polygon fill=\"white\" stroke=\"transparent\" points=\"-4,4 -4,-234.93 1910,-234.93 1910,4 -4,4\"/>\n<!-- 140234581969936 -->\n<g id=\"node1\" class=\"node\">\n<title>140234581969936</title>\n<polygon fill=\"none\" stroke=\"black\" points=\"676,-127.93 676,-163.93 886,-163.93 886,-127.93 676,-127.93\"/>\n<text text-anchor=\"middle\" x=\"687.5\" y=\"-142.23\" font-family=\"Times,serif\" font-size=\"14.00\">e</text>\n<polyline fill=\"none\" stroke=\"black\" points=\"699,-127.93 699,-163.93 \"/>\n<text text-anchor=\"middle\" x=\"742.5\" y=\"-142.23\" font-family=\"Times,serif\" font-size=\"14.00\">data 28.0000</text>\n<polyline fill=\"none\" stroke=\"black\" points=\"786,-127.93 786,-163.93 \"/>\n<text text-anchor=\"middle\" x=\"836\" y=\"-142.23\" font-family=\"Times,serif\" font-size=\"14.00\">grad &#45;800.0000</text>\n</g>\n<!-- 140234581970224* -->\n<g id=\"node13\" class=\"node\">\n<title>140234581970224*</title>\n<ellipse fill=\"none\" stroke=\"black\" cx=\"949\" cy=\"-145.93\" rx=\"27\" ry=\"18\"/>\n<text text-anchor=\"middle\" x=\"949\" y=\"-142.23\" font-family=\"Times,serif\" font-size=\"14.00\">*</text>\n</g>\n<!-- 140234581969936&#45;&gt;140234581970224* -->\n<g id=\"edge11\" class=\"edge\">\n<title>140234581969936&#45;&gt;140234581970224*</title>\n<path fill=\"none\" stroke=\"black\" d=\"M886.19,-145.93C895.23,-145.93 903.92,-145.93 911.78,-145.93\"/>\n<polygon fill=\"black\" stroke=\"black\" points=\"911.93,-149.43 921.93,-145.93 911.93,-142.43 911.93,-149.43\"/>\n</g>\n<!-- 140234581969936+ -->\n<g id=\"node2\" class=\"node\">\n<title>140234581969936+</title>\n<ellipse fill=\"none\" stroke=\"black\" cx=\"613\" cy=\"-145.93\" rx=\"27\" ry=\"18\"/>\n<text text-anchor=\"middle\" x=\"613\" y=\"-142.23\" font-family=\"Times,serif\" font-size=\"14.00\">+</text>\n</g>\n<!-- 140234581969936+&#45;&gt;140234581969936 -->\n<g id=\"edge1\" class=\"edge\">\n<title>140234581969936+&#45;&gt;140234581969936</title>\n<path fill=\"none\" stroke=\"black\" d=\"M640.3,-145.93C647.76,-145.93 656.38,-145.93 665.6,-145.93\"/>\n<polygon fill=\"black\" stroke=\"black\" points=\"665.83,-149.43 675.83,-145.93 665.83,-142.43 665.83,-149.43\"/>\n</g>\n<!-- 140235179323936 -->\n<g id=\"node3\" class=\"node\">\n<title>140235179323936</title>\n<polygon fill=\"none\" stroke=\"black\" points=\"0.5,-100.93 0.5,-136.93 216.5,-136.93 216.5,-100.93 0.5,-100.93\"/>\n<text text-anchor=\"middle\" x=\"12\" y=\"-115.23\" font-family=\"Times,serif\" font-size=\"14.00\">b</text>\n<polyline fill=\"none\" stroke=\"black\" points=\"23.5,-100.93 23.5,-136.93 \"/>\n<text text-anchor=\"middle\" x=\"63.5\" y=\"-115.23\" font-family=\"Times,serif\" font-size=\"14.00\">data 3.0000</text>\n<polyline fill=\"none\" stroke=\"black\" points=\"103.5,-100.93 103.5,-136.93 \"/>\n<text text-anchor=\"middle\" x=\"160\" y=\"-115.23\" font-family=\"Times,serif\" font-size=\"14.00\">grad &#45;13600.0000</text>\n</g>\n<!-- 140234582432784* -->\n<g id=\"node5\" class=\"node\">\n<title>140234582432784*</title>\n<ellipse fill=\"none\" stroke=\"black\" cx=\"280\" cy=\"-90.93\" rx=\"27\" ry=\"18\"/>\n<text text-anchor=\"middle\" x=\"280\" y=\"-87.23\" font-family=\"Times,serif\" font-size=\"14.00\">*</text>\n</g>\n<!-- 140235179323936&#45;&gt;140234582432784* -->\n<g id=\"edge9\" class=\"edge\">\n<title>140235179323936&#45;&gt;140234582432784*</title>\n<path fill=\"none\" stroke=\"black\" d=\"M216.85,-101.19C226.26,-99.64 235.27,-98.15 243.36,-96.81\"/>\n<polygon fill=\"black\" stroke=\"black\" points=\"244.14,-100.23 253.44,-95.15 243,-93.33 244.14,-100.23\"/>\n</g>\n<!-- 140234582433120* -->\n<g id=\"node15\" class=\"node\">\n<title>140234582433120*</title>\n<ellipse fill=\"none\" stroke=\"black\" cx=\"280\" cy=\"-145.93\" rx=\"27\" ry=\"18\"/>\n<text text-anchor=\"middle\" x=\"280\" y=\"-142.23\" font-family=\"Times,serif\" font-size=\"14.00\">*</text>\n</g>\n<!-- 140235179323936&#45;&gt;140234582433120* -->\n<g id=\"edge16\" class=\"edge\">\n<title>140235179323936&#45;&gt;140234582433120*</title>\n<path fill=\"none\" stroke=\"black\" d=\"M216.85,-136.03C226.26,-137.53 235.27,-138.96 243.36,-140.25\"/>\n<polygon fill=\"black\" stroke=\"black\" points=\"243.01,-143.74 253.44,-141.86 244.11,-136.83 243.01,-143.74\"/>\n</g>\n<!-- 140234582432784 -->\n<g id=\"node4\" class=\"node\">\n<title>140234582432784</title>\n<polygon fill=\"none\" stroke=\"black\" points=\"343,-72.93 343,-108.93 550,-108.93 550,-72.93 343,-72.93\"/>\n<text text-anchor=\"middle\" x=\"353\" y=\"-87.23\" font-family=\"Times,serif\" font-size=\"14.00\"> </text>\n<polyline fill=\"none\" stroke=\"black\" points=\"363,-72.93 363,-108.93 \"/>\n<text text-anchor=\"middle\" x=\"405.5\" y=\"-87.23\" font-family=\"Times,serif\" font-size=\"14.00\">data &#45;6.0000</text>\n<polyline fill=\"none\" stroke=\"black\" points=\"448,-72.93 448,-108.93 \"/>\n<text text-anchor=\"middle\" x=\"499\" y=\"-87.23\" font-family=\"Times,serif\" font-size=\"14.00\">grad 2800.0000</text>\n</g>\n<!-- 140234582433504+ -->\n<g id=\"node11\" class=\"node\">\n<title>140234582433504+</title>\n<ellipse fill=\"none\" stroke=\"black\" cx=\"613\" cy=\"-90.93\" rx=\"27\" ry=\"18\"/>\n<text text-anchor=\"middle\" x=\"613\" y=\"-87.23\" font-family=\"Times,serif\" font-size=\"14.00\">+</text>\n</g>\n<!-- 140234582432784&#45;&gt;140234582433504+ -->\n<g id=\"edge15\" class=\"edge\">\n<title>140234582432784&#45;&gt;140234582433504+</title>\n<path fill=\"none\" stroke=\"black\" d=\"M550.28,-90.93C559.3,-90.93 567.96,-90.93 575.81,-90.93\"/>\n<polygon fill=\"black\" stroke=\"black\" points=\"575.95,-94.43 585.95,-90.93 575.95,-87.43 575.95,-94.43\"/>\n</g>\n<!-- 140234582432784*&#45;&gt;140234582432784 -->\n<g id=\"edge2\" class=\"edge\">\n<title>140234582432784*&#45;&gt;140234582432784</title>\n<path fill=\"none\" stroke=\"black\" d=\"M307.07,-90.93C314.66,-90.93 323.49,-90.93 332.93,-90.93\"/>\n<polygon fill=\"black\" stroke=\"black\" points=\"332.97,-94.43 342.97,-90.93 332.97,-87.43 332.97,-94.43\"/>\n</g>\n<!-- 140234581966960 -->\n<g id=\"node6\" class=\"node\">\n<title>140234581966960</title>\n<polygon fill=\"none\" stroke=\"black\" points=\"1691,-188.93 1691,-224.93 1906,-224.93 1906,-188.93 1691,-188.93\"/>\n<text text-anchor=\"middle\" x=\"1701.5\" y=\"-203.23\" font-family=\"Times,serif\" font-size=\"14.00\">f</text>\n<polyline fill=\"none\" stroke=\"black\" points=\"1712,-188.93 1712,-224.93 \"/>\n<text text-anchor=\"middle\" x=\"1768\" y=\"-203.23\" font-family=\"Times,serif\" font-size=\"14.00\">data &#45;22400.0000</text>\n<polyline fill=\"none\" stroke=\"black\" points=\"1824,-188.93 1824,-224.93 \"/>\n<text text-anchor=\"middle\" x=\"1865\" y=\"-203.23\" font-family=\"Times,serif\" font-size=\"14.00\">grad 1.0000</text>\n</g>\n<!-- 140234581966960* -->\n<g id=\"node7\" class=\"node\">\n<title>140234581966960*</title>\n<ellipse fill=\"none\" stroke=\"black\" cx=\"1628\" cy=\"-206.93\" rx=\"27\" ry=\"18\"/>\n<text text-anchor=\"middle\" x=\"1628\" y=\"-203.23\" font-family=\"Times,serif\" font-size=\"14.00\">*</text>\n</g>\n<!-- 140234581966960*&#45;&gt;140234581966960 -->\n<g id=\"edge3\" class=\"edge\">\n<title>140234581966960*&#45;&gt;140234581966960</title>\n<path fill=\"none\" stroke=\"black\" d=\"M1655.33,-206.93C1662.74,-206.93 1671.3,-206.93 1680.49,-206.93\"/>\n<polygon fill=\"black\" stroke=\"black\" points=\"1680.67,-210.43 1690.67,-206.93 1680.67,-203.43 1680.67,-210.43\"/>\n</g>\n<!-- 140234581970608 -->\n<g id=\"node8\" class=\"node\">\n<title>140234581970608</title>\n<polygon fill=\"none\" stroke=\"black\" points=\"1351,-165.93 1351,-201.93 1565,-201.93 1565,-165.93 1351,-165.93\"/>\n<text text-anchor=\"middle\" x=\"1361\" y=\"-180.23\" font-family=\"Times,serif\" font-size=\"14.00\"> </text>\n<polyline fill=\"none\" stroke=\"black\" points=\"1371,-165.93 1371,-201.93 \"/>\n<text text-anchor=\"middle\" x=\"1423.5\" y=\"-180.23\" font-family=\"Times,serif\" font-size=\"14.00\">data &#45;2240.0000</text>\n<polyline fill=\"none\" stroke=\"black\" points=\"1476,-165.93 1476,-201.93 \"/>\n<text text-anchor=\"middle\" x=\"1520.5\" y=\"-180.23\" font-family=\"Times,serif\" font-size=\"14.00\">grad 10.0000</text>\n</g>\n<!-- 140234581970608&#45;&gt;140234581966960* -->\n<g id=\"edge21\" class=\"edge\">\n<title>140234581970608&#45;&gt;140234581966960*</title>\n<path fill=\"none\" stroke=\"black\" d=\"M1565.4,-198.49C1574.63,-199.76 1583.48,-200.97 1591.44,-202.06\"/>\n<polygon fill=\"black\" stroke=\"black\" points=\"1590.98,-205.53 1601.36,-203.42 1591.93,-198.59 1590.98,-205.53\"/>\n</g>\n<!-- 140234581970608* -->\n<g id=\"node9\" class=\"node\">\n<title>140234581970608*</title>\n<ellipse fill=\"none\" stroke=\"black\" cx=\"1288\" cy=\"-183.93\" rx=\"27\" ry=\"18\"/>\n<text text-anchor=\"middle\" x=\"1288\" y=\"-180.23\" font-family=\"Times,serif\" font-size=\"14.00\">*</text>\n</g>\n<!-- 140234581970608*&#45;&gt;140234581970608 -->\n<g id=\"edge4\" class=\"edge\">\n<title>140234581970608*&#45;&gt;140234581970608</title>\n<path fill=\"none\" stroke=\"black\" d=\"M1315.25,-183.93C1322.7,-183.93 1331.34,-183.93 1340.59,-183.93\"/>\n<polygon fill=\"black\" stroke=\"black\" points=\"1340.84,-187.43 1350.84,-183.93 1340.84,-180.43 1340.84,-187.43\"/>\n</g>\n<!-- 140234582433504 -->\n<g id=\"node10\" class=\"node\">\n<title>140234582433504</title>\n<polygon fill=\"none\" stroke=\"black\" points=\"676,-72.93 676,-108.93 886,-108.93 886,-72.93 676,-72.93\"/>\n<text text-anchor=\"middle\" x=\"687.5\" y=\"-87.23\" font-family=\"Times,serif\" font-size=\"14.00\">d</text>\n<polyline fill=\"none\" stroke=\"black\" points=\"699,-72.93 699,-108.93 \"/>\n<text text-anchor=\"middle\" x=\"741.5\" y=\"-87.23\" font-family=\"Times,serif\" font-size=\"14.00\">data &#45;8.0000</text>\n<polyline fill=\"none\" stroke=\"black\" points=\"784,-72.93 784,-108.93 \"/>\n<text text-anchor=\"middle\" x=\"835\" y=\"-87.23\" font-family=\"Times,serif\" font-size=\"14.00\">grad 2800.0000</text>\n</g>\n<!-- 140234582433504&#45;&gt;140234581970224* -->\n<g id=\"edge20\" class=\"edge\">\n<title>140234582433504&#45;&gt;140234581970224*</title>\n<path fill=\"none\" stroke=\"black\" d=\"M854.59,-108.99C865.21,-112.06 875.94,-115.4 886,-118.93 896.3,-122.54 907.3,-127.09 917.14,-131.42\"/>\n<polygon fill=\"black\" stroke=\"black\" points=\"915.95,-134.72 926.51,-135.63 918.82,-128.34 915.95,-134.72\"/>\n</g>\n<!-- 140234582433504+&#45;&gt;140234582433504 -->\n<g id=\"edge5\" class=\"edge\">\n<title>140234582433504+&#45;&gt;140234582433504</title>\n<path fill=\"none\" stroke=\"black\" d=\"M640.3,-90.93C647.76,-90.93 656.38,-90.93 665.6,-90.93\"/>\n<polygon fill=\"black\" stroke=\"black\" points=\"665.83,-94.43 675.83,-90.93 665.83,-87.43 665.83,-94.43\"/>\n</g>\n<!-- 140234581970224 -->\n<g id=\"node12\" class=\"node\">\n<title>140234581970224</title>\n<polygon fill=\"none\" stroke=\"black\" points=\"1012,-127.93 1012,-163.93 1225,-163.93 1225,-127.93 1012,-127.93\"/>\n<text text-anchor=\"middle\" x=\"1022\" y=\"-142.23\" font-family=\"Times,serif\" font-size=\"14.00\"> </text>\n<polyline fill=\"none\" stroke=\"black\" points=\"1032,-127.93 1032,-163.93 \"/>\n<text text-anchor=\"middle\" x=\"1081\" y=\"-142.23\" font-family=\"Times,serif\" font-size=\"14.00\">data &#45;224.0000</text>\n<polyline fill=\"none\" stroke=\"black\" points=\"1130,-127.93 1130,-163.93 \"/>\n<text text-anchor=\"middle\" x=\"1177.5\" y=\"-142.23\" font-family=\"Times,serif\" font-size=\"14.00\">grad 100.0000</text>\n</g>\n<!-- 140234581970224&#45;&gt;140234581970608* -->\n<g id=\"edge19\" class=\"edge\">\n<title>140234581970224&#45;&gt;140234581970608*</title>\n<path fill=\"none\" stroke=\"black\" d=\"M1199.33,-164.04C1217.81,-168.23 1236.55,-172.48 1251.93,-175.97\"/>\n<polygon fill=\"black\" stroke=\"black\" points=\"1251.48,-179.46 1262,-178.26 1253.02,-172.63 1251.48,-179.46\"/>\n</g>\n<!-- 140234581970224*&#45;&gt;140234581970224 -->\n<g id=\"edge6\" class=\"edge\">\n<title>140234581970224*&#45;&gt;140234581970224</title>\n<path fill=\"none\" stroke=\"black\" d=\"M976.17,-145.93C983.6,-145.93 992.21,-145.93 1001.43,-145.93\"/>\n<polygon fill=\"black\" stroke=\"black\" points=\"1001.66,-149.43 1011.66,-145.93 1001.66,-142.43 1001.66,-149.43\"/>\n</g>\n<!-- 140234582433120 -->\n<g id=\"node14\" class=\"node\">\n<title>140234582433120</title>\n<polygon fill=\"none\" stroke=\"black\" points=\"343,-127.93 343,-163.93 550,-163.93 550,-127.93 343,-127.93\"/>\n<text text-anchor=\"middle\" x=\"353\" y=\"-142.23\" font-family=\"Times,serif\" font-size=\"14.00\"> </text>\n<polyline fill=\"none\" stroke=\"black\" points=\"363,-127.93 363,-163.93 \"/>\n<text text-anchor=\"middle\" x=\"406.5\" y=\"-142.23\" font-family=\"Times,serif\" font-size=\"14.00\">data 30.0000</text>\n<polyline fill=\"none\" stroke=\"black\" points=\"450,-127.93 450,-163.93 \"/>\n<text text-anchor=\"middle\" x=\"500\" y=\"-142.23\" font-family=\"Times,serif\" font-size=\"14.00\">grad &#45;800.0000</text>\n</g>\n<!-- 140234582433120&#45;&gt;140234581969936+ -->\n<g id=\"edge12\" class=\"edge\">\n<title>140234582433120&#45;&gt;140234581969936+</title>\n<path fill=\"none\" stroke=\"black\" d=\"M550.28,-145.93C559.3,-145.93 567.96,-145.93 575.81,-145.93\"/>\n<polygon fill=\"black\" stroke=\"black\" points=\"575.95,-149.43 585.95,-145.93 575.95,-142.43 575.95,-149.43\"/>\n</g>\n<!-- 140234582433120*&#45;&gt;140234582433120 -->\n<g id=\"edge7\" class=\"edge\">\n<title>140234582433120*&#45;&gt;140234582433120</title>\n<path fill=\"none\" stroke=\"black\" d=\"M307.07,-145.93C314.66,-145.93 323.49,-145.93 332.93,-145.93\"/>\n<polygon fill=\"black\" stroke=\"black\" points=\"332.97,-149.43 342.97,-145.93 332.97,-142.43 332.97,-149.43\"/>\n</g>\n<!-- 140234582433744 -->\n<g id=\"node16\" class=\"node\">\n<title>140234582433744</title>\n<polygon fill=\"none\" stroke=\"black\" points=\"0,-174.93 0,-210.93 217,-210.93 217,-174.93 0,-174.93\"/>\n<text text-anchor=\"middle\" x=\"11.5\" y=\"-189.23\" font-family=\"Times,serif\" font-size=\"14.00\">c</text>\n<polyline fill=\"none\" stroke=\"black\" points=\"23,-174.93 23,-210.93 \"/>\n<text text-anchor=\"middle\" x=\"66.5\" y=\"-189.23\" font-family=\"Times,serif\" font-size=\"14.00\">data 10.0000</text>\n<polyline fill=\"none\" stroke=\"black\" points=\"110,-174.93 110,-210.93 \"/>\n<text text-anchor=\"middle\" x=\"163.5\" y=\"-189.23\" font-family=\"Times,serif\" font-size=\"14.00\">grad &#45;6880.0000</text>\n</g>\n<!-- 140234582433744&#45;&gt;140234581966960* -->\n<g id=\"edge10\" class=\"edge\">\n<title>140234582433744&#45;&gt;140234581966960*</title>\n<path fill=\"none\" stroke=\"black\" d=\"M214.71,-210.98C280.77,-220.79 367.86,-230.93 445.5,-230.93 445.5,-230.93 445.5,-230.93 1289,-230.93 1399.39,-230.93 1529.55,-218.03 1591.19,-211.15\"/>\n<polygon fill=\"black\" stroke=\"black\" points=\"1591.64,-214.62 1601.18,-210.02 1590.85,-207.66 1591.64,-214.62\"/>\n</g>\n<!-- 140234582433744&#45;&gt;140234581970608* -->\n<g id=\"edge13\" class=\"edge\">\n<title>140234582433744&#45;&gt;140234581970608*</title>\n<path fill=\"none\" stroke=\"black\" d=\"M217.32,-192.93C283.22,-192.93 369.23,-192.93 445.5,-192.93 445.5,-192.93 445.5,-192.93 950,-192.93 1059.55,-192.93 1189.05,-188.12 1250.77,-185.53\"/>\n<polygon fill=\"black\" stroke=\"black\" points=\"1250.95,-189.02 1260.79,-185.1 1250.65,-182.03 1250.95,-189.02\"/>\n</g>\n<!-- 140234582433744&#45;&gt;140234582433120* -->\n<g id=\"edge8\" class=\"edge\">\n<title>140234582433744&#45;&gt;140234582433120*</title>\n<path fill=\"none\" stroke=\"black\" d=\"M174.55,-174.89C198.51,-168.25 224.69,-160.99 244.85,-155.4\"/>\n<polygon fill=\"black\" stroke=\"black\" points=\"245.81,-158.76 254.51,-152.72 243.94,-152.02 245.81,-158.76\"/>\n</g>\n<!-- 140235179323888 -->\n<g id=\"node17\" class=\"node\">\n<title>140235179323888</title>\n<polygon fill=\"none\" stroke=\"black\" points=\"0,-25.93 0,-61.93 217,-61.93 217,-25.93 0,-25.93\"/>\n<text text-anchor=\"middle\" x=\"11.5\" y=\"-40.23\" font-family=\"Times,serif\" font-size=\"14.00\">a</text>\n<polyline fill=\"none\" stroke=\"black\" points=\"23,-25.93 23,-61.93 \"/>\n<text text-anchor=\"middle\" x=\"65.5\" y=\"-40.23\" font-family=\"Times,serif\" font-size=\"14.00\">data &#45;2.0000</text>\n<polyline fill=\"none\" stroke=\"black\" points=\"108,-25.93 108,-61.93 \"/>\n<text text-anchor=\"middle\" x=\"162.5\" y=\"-40.23\" font-family=\"Times,serif\" font-size=\"14.00\">grad 10400.0000</text>\n</g>\n<!-- 140235179323888&#45;&gt;140234581969936+ -->\n<g id=\"edge14\" class=\"edge\">\n<title>140235179323888&#45;&gt;140234581969936+</title>\n<path fill=\"none\" stroke=\"black\" d=\"M217.12,-37.54C328.99,-32.83 495.27,-31.8 550,-62.93 575.39,-77.37 568,-94.92 586,-117.93 587.4,-119.71 588.88,-121.51 590.41,-123.3\"/>\n<polygon fill=\"black\" stroke=\"black\" points=\"587.94,-125.8 597.21,-130.94 593.17,-121.14 587.94,-125.8\"/>\n</g>\n<!-- 140235179323888&#45;&gt;140234582432784* -->\n<g id=\"edge17\" class=\"edge\">\n<title>140235179323888&#45;&gt;140234582432784*</title>\n<path fill=\"none\" stroke=\"black\" d=\"M174.55,-61.96C198.51,-68.61 224.69,-75.87 244.85,-81.46\"/>\n<polygon fill=\"black\" stroke=\"black\" points=\"243.94,-84.84 254.51,-84.14 245.81,-78.09 243.94,-84.84\"/>\n</g>\n<!-- 140235179323888&#45;&gt;140234582433504+ -->\n<g id=\"edge18\" class=\"edge\">\n<title>140235179323888&#45;&gt;140234582433504+</title>\n<path fill=\"none\" stroke=\"black\" d=\"M174.4,-25.91C262.99,-4.8 425.02,21.25 550,-29.93 568.17,-37.37 583.87,-52.98 594.93,-66.55\"/>\n<polygon fill=\"black\" stroke=\"black\" points=\"592.31,-68.88 601.2,-74.65 597.84,-64.6 592.31,-68.88\"/>\n</g>\n</g>\n</svg>\n"
          },
          "metadata": {},
          "execution_count": 60
        }
      ]
    },
    {
      "cell_type": "markdown",
      "source": [
        "# Implementing `Neuron` Class"
      ],
      "metadata": {
        "id": "5JI1Jz0Im3Oc"
      }
    },
    {
      "cell_type": "code",
      "source": [
        "import random\n",
        "from typing import Any, List\n",
        "\n",
        "class Neuron:\n",
        "\n",
        "  def __init__(self, nin: int) -> None:\n",
        "    self.w = [Value(random.uniform(-1, 1)) for _ in range(nin)]\n",
        "    self.b = Value(random.uniform(-1, 1)) # bias\n",
        "  \n",
        "  def _activation(self, v: Value) -> Value:\n",
        "    return v.tanh()\n",
        "\n",
        "  def __call__(self, x: Any) -> Value:\n",
        "    # activation(w * x + b)\n",
        "    act = np.dot(self.w, x) + self.b\n",
        "    out = self._activation(act)\n",
        "    return out\n",
        "  \n",
        "  def parameters(self) -> List[Value]:\n",
        "    return self.w + [self.b]"
      ],
      "metadata": {
        "id": "HOIrwm1rq-6a"
      },
      "execution_count": 61,
      "outputs": []
    },
    {
      "cell_type": "code",
      "source": [
        "x = [2.0, 3.0]\n",
        "n = Neuron(len(x))\n",
        "n(x)"
      ],
      "metadata": {
        "colab": {
          "base_uri": "https://localhost:8080/"
        },
        "id": "tMCTLsvyySdG",
        "outputId": "8fc25e9e-ba82-4235-94e0-fa9cc2b4a2f5"
      },
      "execution_count": 62,
      "outputs": [
        {
          "output_type": "execute_result",
          "data": {
            "text/plain": [
              "Value(data=0.9954918821128473)"
            ]
          },
          "metadata": {},
          "execution_count": 62
        }
      ]
    },
    {
      "cell_type": "markdown",
      "source": [
        "# `Layer` Class"
      ],
      "metadata": {
        "id": "5RKZ6Yt_-JxT"
      }
    },
    {
      "cell_type": "code",
      "source": [
        "class Layer:\n",
        "\n",
        "  def __init__(self, nin, nout) -> None:\n",
        "    self.neurons = [Neuron(nin) for _ in range(nout)]\n",
        "  \n",
        "  def __call__(self, x):\n",
        "    outs = [n(x) for n in self.neurons]\n",
        "    return outs[0] if len(outs) == 1 else outs\n",
        "  \n",
        "  def parameters(self):\n",
        "    return [p for n in self.neurons for p in n.parameters()]\n",
        "    \n",
        "  "
      ],
      "metadata": {
        "id": "5uaLA1Kh-Ows"
      },
      "execution_count": 63,
      "outputs": []
    },
    {
      "cell_type": "code",
      "source": [
        "x = [2.0, 3.0]\n",
        "n = Layer(len(x), 3)\n",
        "n(x)"
      ],
      "metadata": {
        "id": "s_KlVCAN2heL",
        "colab": {
          "base_uri": "https://localhost:8080/"
        },
        "outputId": "f98c2833-2324-4bb8-92d3-70749526fd5e"
      },
      "execution_count": 64,
      "outputs": [
        {
          "output_type": "execute_result",
          "data": {
            "text/plain": [
              "[Value(data=-0.9113451994554701),\n",
              " Value(data=-0.998975079076491),\n",
              " Value(data=0.9991948680821865)]"
            ]
          },
          "metadata": {},
          "execution_count": 64
        }
      ]
    },
    {
      "cell_type": "markdown",
      "source": [
        "# `MLP` Class"
      ],
      "metadata": {
        "id": "nD7VlirVcClm"
      }
    },
    {
      "cell_type": "code",
      "source": [
        "from typing import List\n",
        "\n",
        "class MLP:\n",
        "\n",
        "  def __init__(self, nin: int, nouts: List[int]):\n",
        "    sz = [nin] + nouts\n",
        "    self.layers = [Layer(sz[i], sz[i+1]) for i in range(len(nouts))]\n",
        "\n",
        "  def __call__(self, x):\n",
        "    for layer in self.layers:\n",
        "      x = layer(x)\n",
        "    return x\n",
        "  \n",
        "  def parameters(self):\n",
        "    return [p for l in self.layers for p in l.parameters()]\n"
      ],
      "metadata": {
        "id": "jj3BVHNCbs_H"
      },
      "execution_count": 65,
      "outputs": []
    },
    {
      "cell_type": "markdown",
      "source": [
        "# Loss Functions"
      ],
      "metadata": {
        "id": "Q2HBqOb-yRDj"
      }
    },
    {
      "cell_type": "code",
      "source": [
        "class LossFunction:\n",
        "\n",
        "  def __call__(self, outputs: List[Value], targets: List[Value]):\n",
        "    raise NotImplementedError(\"Loss function not implemented by sublcass\")\n",
        "\n",
        "class MSE(LossFunction):\n",
        "\n",
        "  def _mse(self, outputs: List[Value], targets: List[Value]):\n",
        "    \"\"\"Implements MSE loss function for a list of outputs & targets\"\"\"\n",
        "    return sum((yout - ygt)**2 for ygt, yout in zip(targets, outputs))\n",
        "\n",
        "  def __call__(self, outputs: List[Value], targets: List[Value]):\n",
        "    return self._mse(outputs, targets)"
      ],
      "metadata": {
        "id": "Kry5bhwCyWFL"
      },
      "execution_count": 66,
      "outputs": []
    },
    {
      "cell_type": "code",
      "source": [
        "x = [2.0, 3.0, -1.0]\n",
        "n = MLP(len(x), [4, 4, 1])\n",
        "loss_func = MSE()\n",
        "n(x)"
      ],
      "metadata": {
        "colab": {
          "base_uri": "https://localhost:8080/"
        },
        "id": "Nhbtyw1ZcenK",
        "outputId": "2648080c-3925-4c86-ad42-11cf3b92b93c"
      },
      "execution_count": 67,
      "outputs": [
        {
          "output_type": "execute_result",
          "data": {
            "text/plain": [
              "Value(data=0.3892228569314445)"
            ]
          },
          "metadata": {},
          "execution_count": 67
        }
      ]
    },
    {
      "cell_type": "code",
      "source": [
        "n.parameters()"
      ],
      "metadata": {
        "colab": {
          "base_uri": "https://localhost:8080/"
        },
        "id": "JXxQVfWHMq9i",
        "outputId": "ecadef66-1261-4364-caf3-8e9159008ac0"
      },
      "execution_count": 68,
      "outputs": [
        {
          "output_type": "execute_result",
          "data": {
            "text/plain": [
              "[Value(data=0.5503103129321469),\n",
              " Value(data=-0.48610192857091694),\n",
              " Value(data=0.7563153689887954),\n",
              " Value(data=-0.6882291313610138),\n",
              " Value(data=0.12320434625931842),\n",
              " Value(data=0.09266521084966906),\n",
              " Value(data=-0.9152707580147865),\n",
              " Value(data=0.670467037415611),\n",
              " Value(data=-0.5871298826249025),\n",
              " Value(data=-0.7305458374360418),\n",
              " Value(data=-0.12359557560946177),\n",
              " Value(data=-0.03993166820406824),\n",
              " Value(data=0.6932805712423549),\n",
              " Value(data=0.8152055169413013),\n",
              " Value(data=0.9113251865412746),\n",
              " Value(data=-0.22814187712400136),\n",
              " Value(data=-0.14661110314326065),\n",
              " Value(data=-0.16305111462025645),\n",
              " Value(data=0.32488577518796546),\n",
              " Value(data=-0.5733879710533414),\n",
              " Value(data=-0.8082274921336712),\n",
              " Value(data=-0.1426767797631674),\n",
              " Value(data=-0.293626223412647),\n",
              " Value(data=0.035634865492377266),\n",
              " Value(data=-0.3797890734422338),\n",
              " Value(data=-0.5596830114654363),\n",
              " Value(data=-0.505779305203103),\n",
              " Value(data=0.3080021544819467),\n",
              " Value(data=-0.9882661425936041),\n",
              " Value(data=0.0030046799182743555),\n",
              " Value(data=0.3485288123980774),\n",
              " Value(data=-0.6204999598828962),\n",
              " Value(data=0.808402574797209),\n",
              " Value(data=0.39442467457628116),\n",
              " Value(data=0.27565228410425746),\n",
              " Value(data=-0.3844273192280203),\n",
              " Value(data=0.4355221261776636),\n",
              " Value(data=-0.10779368983487614),\n",
              " Value(data=-0.19018948633989963),\n",
              " Value(data=0.09810741385784327),\n",
              " Value(data=0.8482497299627856)]"
            ]
          },
          "metadata": {},
          "execution_count": 68
        }
      ]
    },
    {
      "cell_type": "code",
      "source": [
        "draw_dot(n(x))"
      ],
      "metadata": {
        "colab": {
          "base_uri": "https://localhost:8080/",
          "height": 1000
        },
        "id": "GMeLLONQcj51",
        "outputId": "b26308e1-d7dd-4d5f-a5b1-2f736f45e40b"
      },
      "execution_count": 69,
      "outputs": [
        {
          "output_type": "execute_result",
          "data": {
            "text/plain": [
              "<graphviz.dot.Digraph at 0x7f8ae874bb20>"
            ],
            "image/svg+xml": "<?xml version=\"1.0\" encoding=\"UTF-8\" standalone=\"no\"?>\n<!DOCTYPE svg PUBLIC \"-//W3C//DTD SVG 1.1//EN\"\n \"http://www.w3.org/Graphics/SVG/1.1/DTD/svg11.dtd\">\n<!-- Generated by graphviz version 2.43.0 (0)\n -->\n<!-- Title: %3 Pages: 1 -->\n<svg width=\"5697pt\" height=\"939pt\"\n viewBox=\"0.00 0.00 5697.00 939.00\" xmlns=\"http://www.w3.org/2000/svg\" xmlns:xlink=\"http://www.w3.org/1999/xlink\">\n<g id=\"graph0\" class=\"graph\" transform=\"scale(1 1) rotate(0) translate(4 935)\">\n<title>%3</title>\n<polygon fill=\"white\" stroke=\"transparent\" points=\"-4,4 -4,-935 5693,-935 5693,4 -4,4\"/>\n<!-- 140234581729344 -->\n<g id=\"node1\" class=\"node\">\n<title>140234581729344</title>\n<polygon fill=\"none\" stroke=\"black\" points=\"2256.5,-95.5 2256.5,-131.5 2438.5,-131.5 2438.5,-95.5 2256.5,-95.5\"/>\n<text text-anchor=\"middle\" x=\"2266.5\" y=\"-109.8\" font-family=\"Times,serif\" font-size=\"14.00\"> </text>\n<polyline fill=\"none\" stroke=\"black\" points=\"2276.5,-95.5 2276.5,-131.5 \"/>\n<text text-anchor=\"middle\" x=\"2316.5\" y=\"-109.8\" font-family=\"Times,serif\" font-size=\"14.00\">data 1.3726</text>\n<polyline fill=\"none\" stroke=\"black\" points=\"2356.5,-95.5 2356.5,-131.5 \"/>\n<text text-anchor=\"middle\" x=\"2397.5\" y=\"-109.8\" font-family=\"Times,serif\" font-size=\"14.00\">grad 0.0000</text>\n</g>\n<!-- 140234581729776+ -->\n<g id=\"node17\" class=\"node\">\n<title>140234581729776+</title>\n<ellipse fill=\"none\" stroke=\"black\" cx=\"2504\" cy=\"-251.5\" rx=\"27\" ry=\"18\"/>\n<text text-anchor=\"middle\" x=\"2504\" y=\"-247.8\" font-family=\"Times,serif\" font-size=\"14.00\">+</text>\n</g>\n<!-- 140234581729344&#45;&gt;140234581729776+ -->\n<g id=\"edge186\" class=\"edge\">\n<title>140234581729344&#45;&gt;140234581729776+</title>\n<path fill=\"none\" stroke=\"black\" d=\"M2386.33,-131.6C2404.03,-141.13 2424.75,-153.88 2441,-168.5 2459.67,-185.3 2476.42,-208.47 2487.79,-226.07\"/>\n<polygon fill=\"black\" stroke=\"black\" points=\"2484.94,-228.1 2493.23,-234.69 2490.86,-224.37 2484.94,-228.1\"/>\n</g>\n<!-- 140234581729344+ -->\n<g id=\"node2\" class=\"node\">\n<title>140234581729344+</title>\n<ellipse fill=\"none\" stroke=\"black\" cx=\"2191\" cy=\"-86.5\" rx=\"27\" ry=\"18\"/>\n<text text-anchor=\"middle\" x=\"2191\" y=\"-82.8\" font-family=\"Times,serif\" font-size=\"14.00\">+</text>\n</g>\n<!-- 140234581729344+&#45;&gt;140234581729344 -->\n<g id=\"edge1\" class=\"edge\">\n<title>140234581729344+&#45;&gt;140234581729344</title>\n<path fill=\"none\" stroke=\"black\" d=\"M2217.51,-90.96C2225.83,-92.41 2235.62,-94.12 2246.03,-95.94\"/>\n<polygon fill=\"black\" stroke=\"black\" points=\"2245.73,-99.44 2256.18,-97.72 2246.93,-92.55 2245.73,-99.44\"/>\n</g>\n<!-- 140234581696624 -->\n<g id=\"node3\" class=\"node\">\n<title>140234581696624</title>\n<polygon fill=\"none\" stroke=\"black\" points=\"657.5,-894.5 657.5,-930.5 853.5,-930.5 853.5,-894.5 657.5,-894.5\"/>\n<text text-anchor=\"middle\" x=\"674.5\" y=\"-908.8\" font-family=\"Times,serif\" font-size=\"14.00\">2.0</text>\n<polyline fill=\"none\" stroke=\"black\" points=\"691.5,-894.5 691.5,-930.5 \"/>\n<text text-anchor=\"middle\" x=\"731.5\" y=\"-908.8\" font-family=\"Times,serif\" font-size=\"14.00\">data 2.0000</text>\n<polyline fill=\"none\" stroke=\"black\" points=\"771.5,-894.5 771.5,-930.5 \"/>\n<text text-anchor=\"middle\" x=\"812.5\" y=\"-908.8\" font-family=\"Times,serif\" font-size=\"14.00\">grad 0.0000</text>\n</g>\n<!-- 140234581696672* -->\n<g id=\"node7\" class=\"node\">\n<title>140234581696672*</title>\n<ellipse fill=\"none\" stroke=\"black\" cx=\"921\" cy=\"-857.5\" rx=\"27\" ry=\"18\"/>\n<text text-anchor=\"middle\" x=\"921\" y=\"-853.8\" font-family=\"Times,serif\" font-size=\"14.00\">*</text>\n</g>\n<!-- 140234581696624&#45;&gt;140234581696672* -->\n<g id=\"edge203\" class=\"edge\">\n<title>140234581696624&#45;&gt;140234581696672*</title>\n<path fill=\"none\" stroke=\"black\" d=\"M830.12,-894.45C839.58,-891.68 849.07,-888.68 858,-885.5 868.54,-881.75 879.77,-876.94 889.73,-872.37\"/>\n<polygon fill=\"black\" stroke=\"black\" points=\"891.27,-875.51 898.84,-868.1 888.3,-869.18 891.27,-875.51\"/>\n</g>\n<!-- 140234581680240 -->\n<g id=\"node4\" class=\"node\">\n<title>140234581680240</title>\n<polygon fill=\"none\" stroke=\"black\" points=\"993,-378.5 993,-414.5 1180,-414.5 1180,-378.5 993,-378.5\"/>\n<text text-anchor=\"middle\" x=\"1003\" y=\"-392.8\" font-family=\"Times,serif\" font-size=\"14.00\"> </text>\n<polyline fill=\"none\" stroke=\"black\" points=\"1013,-378.5 1013,-414.5 \"/>\n<text text-anchor=\"middle\" x=\"1055.5\" y=\"-392.8\" font-family=\"Times,serif\" font-size=\"14.00\">data &#45;1.1140</text>\n<polyline fill=\"none\" stroke=\"black\" points=\"1098,-378.5 1098,-414.5 \"/>\n<text text-anchor=\"middle\" x=\"1139\" y=\"-392.8\" font-family=\"Times,serif\" font-size=\"14.00\">grad 0.0000</text>\n</g>\n<!-- 140234581680432+ -->\n<g id=\"node11\" class=\"node\">\n<title>140234581680432+</title>\n<ellipse fill=\"none\" stroke=\"black\" cx=\"1252\" cy=\"-361.5\" rx=\"27\" ry=\"18\"/>\n<text text-anchor=\"middle\" x=\"1252\" y=\"-357.8\" font-family=\"Times,serif\" font-size=\"14.00\">+</text>\n</g>\n<!-- 140234581680240&#45;&gt;140234581680432+ -->\n<g id=\"edge132\" class=\"edge\">\n<title>140234581680240&#45;&gt;140234581680432+</title>\n<path fill=\"none\" stroke=\"black\" d=\"M1171.64,-378.49C1187.33,-375.13 1202.89,-371.8 1216.03,-368.99\"/>\n<polygon fill=\"black\" stroke=\"black\" points=\"1216.95,-372.37 1226,-366.85 1215.49,-365.52 1216.95,-372.37\"/>\n</g>\n<!-- 140234581680240+ -->\n<g id=\"node5\" class=\"node\">\n<title>140234581680240+</title>\n<ellipse fill=\"none\" stroke=\"black\" cx=\"921\" cy=\"-396.5\" rx=\"27\" ry=\"18\"/>\n<text text-anchor=\"middle\" x=\"921\" y=\"-392.8\" font-family=\"Times,serif\" font-size=\"14.00\">+</text>\n</g>\n<!-- 140234581680240+&#45;&gt;140234581680240 -->\n<g id=\"edge2\" class=\"edge\">\n<title>140234581680240+&#45;&gt;140234581680240</title>\n<path fill=\"none\" stroke=\"black\" d=\"M948.27,-396.5C958.1,-396.5 969.95,-396.5 982.53,-396.5\"/>\n<polygon fill=\"black\" stroke=\"black\" points=\"982.74,-400 992.74,-396.5 982.74,-393 982.74,-400\"/>\n</g>\n<!-- 140234581696672 -->\n<g id=\"node6\" class=\"node\">\n<title>140234581696672</title>\n<polygon fill=\"none\" stroke=\"black\" points=\"995.5,-839.5 995.5,-875.5 1177.5,-875.5 1177.5,-839.5 995.5,-839.5\"/>\n<text text-anchor=\"middle\" x=\"1005.5\" y=\"-853.8\" font-family=\"Times,serif\" font-size=\"14.00\"> </text>\n<polyline fill=\"none\" stroke=\"black\" points=\"1015.5,-839.5 1015.5,-875.5 \"/>\n<text text-anchor=\"middle\" x=\"1055.5\" y=\"-853.8\" font-family=\"Times,serif\" font-size=\"14.00\">data 1.3866</text>\n<polyline fill=\"none\" stroke=\"black\" points=\"1095.5,-839.5 1095.5,-875.5 \"/>\n<text text-anchor=\"middle\" x=\"1136.5\" y=\"-853.8\" font-family=\"Times,serif\" font-size=\"14.00\">grad 0.0000</text>\n</g>\n<!-- 140234581697152+ -->\n<g id=\"node21\" class=\"node\">\n<title>140234581697152+</title>\n<ellipse fill=\"none\" stroke=\"black\" cx=\"1252\" cy=\"-802.5\" rx=\"27\" ry=\"18\"/>\n<text text-anchor=\"middle\" x=\"1252\" y=\"-798.8\" font-family=\"Times,serif\" font-size=\"14.00\">+</text>\n</g>\n<!-- 140234581696672&#45;&gt;140234581697152+ -->\n<g id=\"edge196\" class=\"edge\">\n<title>140234581696672&#45;&gt;140234581697152+</title>\n<path fill=\"none\" stroke=\"black\" d=\"M1161.12,-839.45C1170.58,-836.68 1180.07,-833.68 1189,-830.5 1199.54,-826.75 1210.77,-821.94 1220.73,-817.37\"/>\n<polygon fill=\"black\" stroke=\"black\" points=\"1222.27,-820.51 1229.84,-813.1 1219.3,-814.18 1222.27,-820.51\"/>\n</g>\n<!-- 140234581696672*&#45;&gt;140234581696672 -->\n<g id=\"edge3\" class=\"edge\">\n<title>140234581696672*&#45;&gt;140234581696672</title>\n<path fill=\"none\" stroke=\"black\" d=\"M948.27,-857.5C958.7,-857.5 971.41,-857.5 984.84,-857.5\"/>\n<polygon fill=\"black\" stroke=\"black\" points=\"985.23,-861 995.23,-857.5 985.23,-854 985.23,-861\"/>\n</g>\n<!-- 140234581729584 -->\n<g id=\"node8\" class=\"node\">\n<title>140234581729584</title>\n<polygon fill=\"none\" stroke=\"black\" points=\"2254,-233.5 2254,-269.5 2441,-269.5 2441,-233.5 2254,-233.5\"/>\n<text text-anchor=\"middle\" x=\"2264\" y=\"-247.8\" font-family=\"Times,serif\" font-size=\"14.00\"> </text>\n<polyline fill=\"none\" stroke=\"black\" points=\"2274,-233.5 2274,-269.5 \"/>\n<text text-anchor=\"middle\" x=\"2316.5\" y=\"-247.8\" font-family=\"Times,serif\" font-size=\"14.00\">data &#45;0.3933</text>\n<polyline fill=\"none\" stroke=\"black\" points=\"2359,-233.5 2359,-269.5 \"/>\n<text text-anchor=\"middle\" x=\"2400\" y=\"-247.8\" font-family=\"Times,serif\" font-size=\"14.00\">grad 0.0000</text>\n</g>\n<!-- 140234581729584&#45;&gt;140234581729776+ -->\n<g id=\"edge190\" class=\"edge\">\n<title>140234581729584&#45;&gt;140234581729776+</title>\n<path fill=\"none\" stroke=\"black\" d=\"M2441.05,-251.5C2450.06,-251.5 2458.79,-251.5 2466.7,-251.5\"/>\n<polygon fill=\"black\" stroke=\"black\" points=\"2466.95,-255 2476.95,-251.5 2466.95,-248 2466.95,-255\"/>\n</g>\n<!-- 140234581729584* -->\n<g id=\"node9\" class=\"node\">\n<title>140234581729584*</title>\n<ellipse fill=\"none\" stroke=\"black\" cx=\"2191\" cy=\"-251.5\" rx=\"27\" ry=\"18\"/>\n<text text-anchor=\"middle\" x=\"2191\" y=\"-247.8\" font-family=\"Times,serif\" font-size=\"14.00\">*</text>\n</g>\n<!-- 140234581729584*&#45;&gt;140234581729584 -->\n<g id=\"edge4\" class=\"edge\">\n<title>140234581729584*&#45;&gt;140234581729584</title>\n<path fill=\"none\" stroke=\"black\" d=\"M2218.21,-251.5C2225.73,-251.5 2234.43,-251.5 2243.67,-251.5\"/>\n<polygon fill=\"black\" stroke=\"black\" points=\"2243.89,-255 2253.89,-251.5 2243.89,-248 2243.89,-255\"/>\n</g>\n<!-- 140234581680432 -->\n<g id=\"node10\" class=\"node\">\n<title>140234581680432</title>\n<polygon fill=\"none\" stroke=\"black\" points=\"1315,-343.5 1315,-379.5 1502,-379.5 1502,-343.5 1315,-343.5\"/>\n<text text-anchor=\"middle\" x=\"1325\" y=\"-357.8\" font-family=\"Times,serif\" font-size=\"14.00\"> </text>\n<polyline fill=\"none\" stroke=\"black\" points=\"1335,-343.5 1335,-379.5 \"/>\n<text text-anchor=\"middle\" x=\"1377.5\" y=\"-357.8\" font-family=\"Times,serif\" font-size=\"14.00\">data &#45;1.8022</text>\n<polyline fill=\"none\" stroke=\"black\" points=\"1420,-343.5 1420,-379.5 \"/>\n<text text-anchor=\"middle\" x=\"1461\" y=\"-357.8\" font-family=\"Times,serif\" font-size=\"14.00\">grad 0.0000</text>\n</g>\n<!-- 140234581680672tanh -->\n<g id=\"node19\" class=\"node\">\n<title>140234581680672tanh</title>\n<ellipse fill=\"none\" stroke=\"black\" cx=\"1565\" cy=\"-361.5\" rx=\"27\" ry=\"18\"/>\n<text text-anchor=\"middle\" x=\"1565\" y=\"-357.8\" font-family=\"Times,serif\" font-size=\"14.00\">tanh</text>\n</g>\n<!-- 140234581680432&#45;&gt;140234581680672tanh -->\n<g id=\"edge153\" class=\"edge\">\n<title>140234581680432&#45;&gt;140234581680672tanh</title>\n<path fill=\"none\" stroke=\"black\" d=\"M1502.05,-361.5C1511.06,-361.5 1519.79,-361.5 1527.7,-361.5\"/>\n<polygon fill=\"black\" stroke=\"black\" points=\"1527.95,-365 1537.95,-361.5 1527.95,-358 1527.95,-365\"/>\n</g>\n<!-- 140234581680432+&#45;&gt;140234581680432 -->\n<g id=\"edge5\" class=\"edge\">\n<title>140234581680432+&#45;&gt;140234581680432</title>\n<path fill=\"none\" stroke=\"black\" d=\"M1279.21,-361.5C1286.73,-361.5 1295.43,-361.5 1304.67,-361.5\"/>\n<polygon fill=\"black\" stroke=\"black\" points=\"1304.89,-365 1314.89,-361.5 1304.89,-358 1304.89,-365\"/>\n</g>\n<!-- 140234582073696 -->\n<g id=\"node12\" class=\"node\">\n<title>140234582073696</title>\n<polygon fill=\"none\" stroke=\"black\" points=\"1628,-605.5 1628,-641.5 1815,-641.5 1815,-605.5 1628,-605.5\"/>\n<text text-anchor=\"middle\" x=\"1638\" y=\"-619.8\" font-family=\"Times,serif\" font-size=\"14.00\"> </text>\n<polyline fill=\"none\" stroke=\"black\" points=\"1648,-605.5 1648,-641.5 \"/>\n<text text-anchor=\"middle\" x=\"1690.5\" y=\"-619.8\" font-family=\"Times,serif\" font-size=\"14.00\">data &#45;0.5058</text>\n<polyline fill=\"none\" stroke=\"black\" points=\"1733,-605.5 1733,-641.5 \"/>\n<text text-anchor=\"middle\" x=\"1774\" y=\"-619.8\" font-family=\"Times,serif\" font-size=\"14.00\">grad 0.0000</text>\n</g>\n<!-- 140234581710496* -->\n<g id=\"node154\" class=\"node\">\n<title>140234581710496*</title>\n<ellipse fill=\"none\" stroke=\"black\" cx=\"1878\" cy=\"-623.5\" rx=\"27\" ry=\"18\"/>\n<text text-anchor=\"middle\" x=\"1878\" y=\"-619.8\" font-family=\"Times,serif\" font-size=\"14.00\">*</text>\n</g>\n<!-- 140234582073696&#45;&gt;140234581710496* -->\n<g id=\"edge205\" class=\"edge\">\n<title>140234582073696&#45;&gt;140234581710496*</title>\n<path fill=\"none\" stroke=\"black\" d=\"M1815.05,-623.5C1824.06,-623.5 1832.79,-623.5 1840.7,-623.5\"/>\n<polygon fill=\"black\" stroke=\"black\" points=\"1840.95,-627 1850.95,-623.5 1840.95,-620 1840.95,-627\"/>\n</g>\n<!-- 140234581696912 -->\n<g id=\"node13\" class=\"node\">\n<title>140234581696912</title>\n<polygon fill=\"none\" stroke=\"black\" points=\"657.5,-784.5 657.5,-820.5 853.5,-820.5 853.5,-784.5 657.5,-784.5\"/>\n<text text-anchor=\"middle\" x=\"674.5\" y=\"-798.8\" font-family=\"Times,serif\" font-size=\"14.00\">3.0</text>\n<polyline fill=\"none\" stroke=\"black\" points=\"691.5,-784.5 691.5,-820.5 \"/>\n<text text-anchor=\"middle\" x=\"731.5\" y=\"-798.8\" font-family=\"Times,serif\" font-size=\"14.00\">data 3.0000</text>\n<polyline fill=\"none\" stroke=\"black\" points=\"771.5,-784.5 771.5,-820.5 \"/>\n<text text-anchor=\"middle\" x=\"812.5\" y=\"-798.8\" font-family=\"Times,serif\" font-size=\"14.00\">grad 0.0000</text>\n</g>\n<!-- 140234581696960* -->\n<g id=\"node15\" class=\"node\">\n<title>140234581696960*</title>\n<ellipse fill=\"none\" stroke=\"black\" cx=\"921\" cy=\"-802.5\" rx=\"27\" ry=\"18\"/>\n<text text-anchor=\"middle\" x=\"921\" y=\"-798.8\" font-family=\"Times,serif\" font-size=\"14.00\">*</text>\n</g>\n<!-- 140234581696912&#45;&gt;140234581696960* -->\n<g id=\"edge94\" class=\"edge\">\n<title>140234581696912&#45;&gt;140234581696960*</title>\n<path fill=\"none\" stroke=\"black\" d=\"M853.97,-802.5C864.49,-802.5 874.65,-802.5 883.71,-802.5\"/>\n<polygon fill=\"black\" stroke=\"black\" points=\"883.81,-806 893.81,-802.5 883.81,-799 883.81,-806\"/>\n</g>\n<!-- 140234581696960 -->\n<g id=\"node14\" class=\"node\">\n<title>140234581696960</title>\n<polygon fill=\"none\" stroke=\"black\" points=\"995.5,-784.5 995.5,-820.5 1177.5,-820.5 1177.5,-784.5 995.5,-784.5\"/>\n<text text-anchor=\"middle\" x=\"1005.5\" y=\"-798.8\" font-family=\"Times,serif\" font-size=\"14.00\"> </text>\n<polyline fill=\"none\" stroke=\"black\" points=\"1015.5,-784.5 1015.5,-820.5 \"/>\n<text text-anchor=\"middle\" x=\"1055.5\" y=\"-798.8\" font-family=\"Times,serif\" font-size=\"14.00\">data 2.4456</text>\n<polyline fill=\"none\" stroke=\"black\" points=\"1095.5,-784.5 1095.5,-820.5 \"/>\n<text text-anchor=\"middle\" x=\"1136.5\" y=\"-798.8\" font-family=\"Times,serif\" font-size=\"14.00\">grad 0.0000</text>\n</g>\n<!-- 140234581696960&#45;&gt;140234581697152+ -->\n<g id=\"edge117\" class=\"edge\">\n<title>140234581696960&#45;&gt;140234581697152+</title>\n<path fill=\"none\" stroke=\"black\" d=\"M1177.86,-802.5C1190.84,-802.5 1203.53,-802.5 1214.6,-802.5\"/>\n<polygon fill=\"black\" stroke=\"black\" points=\"1214.67,-806 1224.67,-802.5 1214.67,-799 1214.67,-806\"/>\n</g>\n<!-- 140234581696960*&#45;&gt;140234581696960 -->\n<g id=\"edge6\" class=\"edge\">\n<title>140234581696960*&#45;&gt;140234581696960</title>\n<path fill=\"none\" stroke=\"black\" d=\"M948.27,-802.5C958.7,-802.5 971.41,-802.5 984.84,-802.5\"/>\n<polygon fill=\"black\" stroke=\"black\" points=\"985.23,-806 995.23,-802.5 985.23,-799 985.23,-806\"/>\n</g>\n<!-- 140234581729776 -->\n<g id=\"node16\" class=\"node\">\n<title>140234581729776</title>\n<polygon fill=\"none\" stroke=\"black\" points=\"2569.5,-261.5 2569.5,-297.5 2751.5,-297.5 2751.5,-261.5 2569.5,-261.5\"/>\n<text text-anchor=\"middle\" x=\"2579.5\" y=\"-275.8\" font-family=\"Times,serif\" font-size=\"14.00\"> </text>\n<polyline fill=\"none\" stroke=\"black\" points=\"2589.5,-261.5 2589.5,-297.5 \"/>\n<text text-anchor=\"middle\" x=\"2629.5\" y=\"-275.8\" font-family=\"Times,serif\" font-size=\"14.00\">data 0.9793</text>\n<polyline fill=\"none\" stroke=\"black\" points=\"2669.5,-261.5 2669.5,-297.5 \"/>\n<text text-anchor=\"middle\" x=\"2710.5\" y=\"-275.8\" font-family=\"Times,serif\" font-size=\"14.00\">grad 0.0000</text>\n</g>\n<!-- 140234581730208+ -->\n<g id=\"node32\" class=\"node\">\n<title>140234581730208+</title>\n<ellipse fill=\"none\" stroke=\"black\" cx=\"2817\" cy=\"-361.5\" rx=\"27\" ry=\"18\"/>\n<text text-anchor=\"middle\" x=\"2817\" y=\"-357.8\" font-family=\"Times,serif\" font-size=\"14.00\">+</text>\n</g>\n<!-- 140234581729776&#45;&gt;140234581730208+ -->\n<g id=\"edge149\" class=\"edge\">\n<title>140234581729776&#45;&gt;140234581730208+</title>\n<path fill=\"none\" stroke=\"black\" d=\"M2695.79,-297.7C2722.87,-312.07 2760.27,-331.92 2786.13,-345.65\"/>\n<polygon fill=\"black\" stroke=\"black\" points=\"2784.62,-348.81 2795.1,-350.41 2787.91,-342.63 2784.62,-348.81\"/>\n</g>\n<!-- 140234581729776+&#45;&gt;140234581729776 -->\n<g id=\"edge7\" class=\"edge\">\n<title>140234581729776+&#45;&gt;140234581729776</title>\n<path fill=\"none\" stroke=\"black\" d=\"M2530.17,-256.06C2538.61,-257.59 2548.61,-259.4 2559.25,-261.33\"/>\n<polygon fill=\"black\" stroke=\"black\" points=\"2558.71,-264.79 2569.18,-263.13 2559.96,-257.9 2558.71,-264.79\"/>\n</g>\n<!-- 140234581680672 -->\n<g id=\"node18\" class=\"node\">\n<title>140234581680672</title>\n<polygon fill=\"none\" stroke=\"black\" points=\"1628,-343.5 1628,-379.5 1815,-379.5 1815,-343.5 1628,-343.5\"/>\n<text text-anchor=\"middle\" x=\"1638\" y=\"-357.8\" font-family=\"Times,serif\" font-size=\"14.00\"> </text>\n<polyline fill=\"none\" stroke=\"black\" points=\"1648,-343.5 1648,-379.5 \"/>\n<text text-anchor=\"middle\" x=\"1690.5\" y=\"-357.8\" font-family=\"Times,serif\" font-size=\"14.00\">data &#45;0.9470</text>\n<polyline fill=\"none\" stroke=\"black\" points=\"1733,-343.5 1733,-379.5 \"/>\n<text text-anchor=\"middle\" x=\"1774\" y=\"-357.8\" font-family=\"Times,serif\" font-size=\"14.00\">grad 0.0000</text>\n</g>\n<!-- 140234581698304* -->\n<g id=\"node72\" class=\"node\">\n<title>140234581698304*</title>\n<ellipse fill=\"none\" stroke=\"black\" cx=\"1878\" cy=\"-416.5\" rx=\"27\" ry=\"18\"/>\n<text text-anchor=\"middle\" x=\"1878\" y=\"-412.8\" font-family=\"Times,serif\" font-size=\"14.00\">*</text>\n</g>\n<!-- 140234581680672&#45;&gt;140234581698304* -->\n<g id=\"edge84\" class=\"edge\">\n<title>140234581680672&#45;&gt;140234581698304*</title>\n<path fill=\"none\" stroke=\"black\" d=\"M1786.02,-379.65C1795.79,-382.76 1805.71,-386.08 1815,-389.5 1825.25,-393.27 1836.23,-397.86 1846.07,-402.18\"/>\n<polygon fill=\"black\" stroke=\"black\" points=\"1844.89,-405.49 1855.45,-406.37 1847.74,-399.1 1844.89,-405.49\"/>\n</g>\n<!-- 140234581700272* -->\n<g id=\"node125\" class=\"node\">\n<title>140234581700272*</title>\n<ellipse fill=\"none\" stroke=\"black\" cx=\"1878\" cy=\"-306.5\" rx=\"27\" ry=\"18\"/>\n<text text-anchor=\"middle\" x=\"1878\" y=\"-302.8\" font-family=\"Times,serif\" font-size=\"14.00\">*</text>\n</g>\n<!-- 140234581680672&#45;&gt;140234581700272* -->\n<g id=\"edge109\" class=\"edge\">\n<title>140234581680672&#45;&gt;140234581700272*</title>\n<path fill=\"none\" stroke=\"black\" d=\"M1788.56,-343.45C1797.51,-340.64 1806.53,-337.63 1815,-334.5 1825.49,-330.62 1836.71,-325.78 1846.68,-321.22\"/>\n<polygon fill=\"black\" stroke=\"black\" points=\"1848.2,-324.37 1855.79,-316.97 1845.25,-318.02 1848.2,-324.37\"/>\n</g>\n<!-- 140234581680672&#45;&gt;140234581710496* -->\n<g id=\"edge200\" class=\"edge\">\n<title>140234581680672&#45;&gt;140234581710496*</title>\n<path fill=\"none\" stroke=\"black\" d=\"M1803.66,-379.65C1807.82,-382.48 1811.65,-385.74 1815,-389.5 1874.8,-456.6 1815.26,-506.03 1851,-588.5 1852.69,-592.41 1854.9,-596.29 1857.31,-599.96\"/>\n<polygon fill=\"black\" stroke=\"black\" points=\"1854.47,-602.02 1863.16,-608.09 1860.15,-597.93 1854.47,-602.02\"/>\n</g>\n<!-- 140234581712464* -->\n<g id=\"node188\" class=\"node\">\n<title>140234581712464*</title>\n<ellipse fill=\"none\" stroke=\"black\" cx=\"1878\" cy=\"-251.5\" rx=\"27\" ry=\"18\"/>\n<text text-anchor=\"middle\" x=\"1878\" y=\"-247.8\" font-family=\"Times,serif\" font-size=\"14.00\">*</text>\n</g>\n<!-- 140234581680672&#45;&gt;140234581712464* -->\n<g id=\"edge82\" class=\"edge\">\n<title>140234581680672&#45;&gt;140234581712464*</title>\n<path fill=\"none\" stroke=\"black\" d=\"M1800.23,-343.44C1805.44,-340.85 1810.43,-337.89 1815,-334.5 1838.47,-317.11 1833,-302.51 1851,-279.5 1852.4,-277.72 1853.88,-275.91 1855.41,-274.12\"/>\n<polygon fill=\"black\" stroke=\"black\" points=\"1858.17,-276.28 1862.21,-266.49 1852.94,-271.63 1858.17,-276.28\"/>\n</g>\n<!-- 140234581680672tanh&#45;&gt;140234581680672 -->\n<g id=\"edge8\" class=\"edge\">\n<title>140234581680672tanh&#45;&gt;140234581680672</title>\n<path fill=\"none\" stroke=\"black\" d=\"M1592.21,-361.5C1599.73,-361.5 1608.43,-361.5 1617.67,-361.5\"/>\n<polygon fill=\"black\" stroke=\"black\" points=\"1617.89,-365 1627.89,-361.5 1617.89,-358 1617.89,-365\"/>\n</g>\n<!-- 140234581697152 -->\n<g id=\"node20\" class=\"node\">\n<title>140234581697152</title>\n<polygon fill=\"none\" stroke=\"black\" points=\"1317.5,-784.5 1317.5,-820.5 1499.5,-820.5 1499.5,-784.5 1317.5,-784.5\"/>\n<text text-anchor=\"middle\" x=\"1327.5\" y=\"-798.8\" font-family=\"Times,serif\" font-size=\"14.00\"> </text>\n<polyline fill=\"none\" stroke=\"black\" points=\"1337.5,-784.5 1337.5,-820.5 \"/>\n<text text-anchor=\"middle\" x=\"1377.5\" y=\"-798.8\" font-family=\"Times,serif\" font-size=\"14.00\">data 3.8322</text>\n<polyline fill=\"none\" stroke=\"black\" points=\"1417.5,-784.5 1417.5,-820.5 \"/>\n<text text-anchor=\"middle\" x=\"1458.5\" y=\"-798.8\" font-family=\"Times,serif\" font-size=\"14.00\">grad 0.0000</text>\n</g>\n<!-- 140234581697632+ -->\n<g id=\"node42\" class=\"node\">\n<title>140234581697632+</title>\n<ellipse fill=\"none\" stroke=\"black\" cx=\"1565\" cy=\"-774.5\" rx=\"27\" ry=\"18\"/>\n<text text-anchor=\"middle\" x=\"1565\" y=\"-770.8\" font-family=\"Times,serif\" font-size=\"14.00\">+</text>\n</g>\n<!-- 140234581697152&#45;&gt;140234581697632+ -->\n<g id=\"edge77\" class=\"edge\">\n<title>140234581697152&#45;&gt;140234581697632+</title>\n<path fill=\"none\" stroke=\"black\" d=\"M1499.82,-786.13C1510.07,-784.27 1520.01,-782.47 1528.88,-780.87\"/>\n<polygon fill=\"black\" stroke=\"black\" points=\"1529.54,-784.3 1538.75,-779.08 1528.29,-777.42 1529.54,-784.3\"/>\n</g>\n<!-- 140234581697152+&#45;&gt;140234581697152 -->\n<g id=\"edge9\" class=\"edge\">\n<title>140234581697152+&#45;&gt;140234581697152</title>\n<path fill=\"none\" stroke=\"black\" d=\"M1279.21,-802.5C1287.34,-802.5 1296.85,-802.5 1306.94,-802.5\"/>\n<polygon fill=\"black\" stroke=\"black\" points=\"1307.19,-806 1317.19,-802.5 1307.19,-799 1307.19,-806\"/>\n</g>\n<!-- 140234581730016 -->\n<g id=\"node22\" class=\"node\">\n<title>140234581730016</title>\n<polygon fill=\"none\" stroke=\"black\" points=\"2569.5,-343.5 2569.5,-379.5 2751.5,-379.5 2751.5,-343.5 2569.5,-343.5\"/>\n<text text-anchor=\"middle\" x=\"2579.5\" y=\"-357.8\" font-family=\"Times,serif\" font-size=\"14.00\"> </text>\n<polyline fill=\"none\" stroke=\"black\" points=\"2589.5,-343.5 2589.5,-379.5 \"/>\n<text text-anchor=\"middle\" x=\"2629.5\" y=\"-357.8\" font-family=\"Times,serif\" font-size=\"14.00\">data 0.2731</text>\n<polyline fill=\"none\" stroke=\"black\" points=\"2669.5,-343.5 2669.5,-379.5 \"/>\n<text text-anchor=\"middle\" x=\"2710.5\" y=\"-357.8\" font-family=\"Times,serif\" font-size=\"14.00\">grad 0.0000</text>\n</g>\n<!-- 140234581730016&#45;&gt;140234581730208+ -->\n<g id=\"edge195\" class=\"edge\">\n<title>140234581730016&#45;&gt;140234581730208+</title>\n<path fill=\"none\" stroke=\"black\" d=\"M2751.82,-361.5C2761.57,-361.5 2771.04,-361.5 2779.57,-361.5\"/>\n<polygon fill=\"black\" stroke=\"black\" points=\"2779.83,-365 2789.83,-361.5 2779.83,-358 2779.83,-365\"/>\n</g>\n<!-- 140234581730016* -->\n<g id=\"node23\" class=\"node\">\n<title>140234581730016*</title>\n<ellipse fill=\"none\" stroke=\"black\" cx=\"2504\" cy=\"-361.5\" rx=\"27\" ry=\"18\"/>\n<text text-anchor=\"middle\" x=\"2504\" y=\"-357.8\" font-family=\"Times,serif\" font-size=\"14.00\">*</text>\n</g>\n<!-- 140234581730016*&#45;&gt;140234581730016 -->\n<g id=\"edge10\" class=\"edge\">\n<title>140234581730016*&#45;&gt;140234581730016</title>\n<path fill=\"none\" stroke=\"black\" d=\"M2531.21,-361.5C2539.34,-361.5 2548.85,-361.5 2558.94,-361.5\"/>\n<polygon fill=\"black\" stroke=\"black\" points=\"2559.19,-365 2569.19,-361.5 2559.19,-358 2559.19,-365\"/>\n</g>\n<!-- 140234582074080 -->\n<g id=\"node24\" class=\"node\">\n<title>140234582074080</title>\n<polygon fill=\"none\" stroke=\"black\" points=\"3506,-453.5 3506,-489.5 3693,-489.5 3693,-453.5 3506,-453.5\"/>\n<text text-anchor=\"middle\" x=\"3516\" y=\"-467.8\" font-family=\"Times,serif\" font-size=\"14.00\"> </text>\n<polyline fill=\"none\" stroke=\"black\" points=\"3526,-453.5 3526,-489.5 \"/>\n<text text-anchor=\"middle\" x=\"3568.5\" y=\"-467.8\" font-family=\"Times,serif\" font-size=\"14.00\">data &#45;0.1078</text>\n<polyline fill=\"none\" stroke=\"black\" points=\"3611,-453.5 3611,-489.5 \"/>\n<text text-anchor=\"middle\" x=\"3652\" y=\"-467.8\" font-family=\"Times,serif\" font-size=\"14.00\">grad 0.0000</text>\n</g>\n<!-- 140234581731120* -->\n<g id=\"node74\" class=\"node\">\n<title>140234581731120*</title>\n<ellipse fill=\"none\" stroke=\"black\" cx=\"3756\" cy=\"-471.5\" rx=\"27\" ry=\"18\"/>\n<text text-anchor=\"middle\" x=\"3756\" y=\"-467.8\" font-family=\"Times,serif\" font-size=\"14.00\">*</text>\n</g>\n<!-- 140234582074080&#45;&gt;140234581731120* -->\n<g id=\"edge85\" class=\"edge\">\n<title>140234582074080&#45;&gt;140234581731120*</title>\n<path fill=\"none\" stroke=\"black\" d=\"M3693.05,-471.5C3702.06,-471.5 3710.79,-471.5 3718.7,-471.5\"/>\n<polygon fill=\"black\" stroke=\"black\" points=\"3718.95,-475 3728.95,-471.5 3718.95,-468 3718.95,-475\"/>\n</g>\n<!-- 140234581680912 -->\n<g id=\"node25\" class=\"node\">\n<title>140234581680912</title>\n<polygon fill=\"none\" stroke=\"black\" points=\"0,-220.5 0,-256.5 196,-256.5 196,-220.5 0,-220.5\"/>\n<text text-anchor=\"middle\" x=\"17\" y=\"-234.8\" font-family=\"Times,serif\" font-size=\"14.00\">2.0</text>\n<polyline fill=\"none\" stroke=\"black\" points=\"34,-220.5 34,-256.5 \"/>\n<text text-anchor=\"middle\" x=\"74\" y=\"-234.8\" font-family=\"Times,serif\" font-size=\"14.00\">data 2.0000</text>\n<polyline fill=\"none\" stroke=\"black\" points=\"114,-220.5 114,-256.5 \"/>\n<text text-anchor=\"middle\" x=\"155\" y=\"-234.8\" font-family=\"Times,serif\" font-size=\"14.00\">grad 0.0000</text>\n</g>\n<!-- 140234581680960* -->\n<g id=\"node28\" class=\"node\">\n<title>140234581680960*</title>\n<ellipse fill=\"none\" stroke=\"black\" cx=\"259\" cy=\"-183.5\" rx=\"27\" ry=\"18\"/>\n<text text-anchor=\"middle\" x=\"259\" y=\"-179.8\" font-family=\"Times,serif\" font-size=\"14.00\">*</text>\n</g>\n<!-- 140234581680912&#45;&gt;140234581680960* -->\n<g id=\"edge166\" class=\"edge\">\n<title>140234581680912&#45;&gt;140234581680960*</title>\n<path fill=\"none\" stroke=\"black\" d=\"M165.89,-220.43C176.05,-217.33 186.35,-213.98 196,-210.5 206.27,-206.8 217.26,-202.22 227.1,-197.9\"/>\n<polygon fill=\"black\" stroke=\"black\" points=\"228.78,-200.98 236.47,-193.7 225.91,-194.59 228.78,-200.98\"/>\n</g>\n<!-- 140234582074128 -->\n<g id=\"node26\" class=\"node\">\n<title>140234582074128</title>\n<polygon fill=\"none\" stroke=\"black\" points=\"1630.5,-543.5 1630.5,-579.5 1812.5,-579.5 1812.5,-543.5 1630.5,-543.5\"/>\n<text text-anchor=\"middle\" x=\"1640.5\" y=\"-557.8\" font-family=\"Times,serif\" font-size=\"14.00\"> </text>\n<polyline fill=\"none\" stroke=\"black\" points=\"1650.5,-543.5 1650.5,-579.5 \"/>\n<text text-anchor=\"middle\" x=\"1690.5\" y=\"-557.8\" font-family=\"Times,serif\" font-size=\"14.00\">data 0.3080</text>\n<polyline fill=\"none\" stroke=\"black\" points=\"1730.5,-543.5 1730.5,-579.5 \"/>\n<text text-anchor=\"middle\" x=\"1771.5\" y=\"-557.8\" font-family=\"Times,serif\" font-size=\"14.00\">grad 0.0000</text>\n</g>\n<!-- 140234581710736* -->\n<g id=\"node157\" class=\"node\">\n<title>140234581710736*</title>\n<ellipse fill=\"none\" stroke=\"black\" cx=\"1878\" cy=\"-561.5\" rx=\"27\" ry=\"18\"/>\n<text text-anchor=\"middle\" x=\"1878\" y=\"-557.8\" font-family=\"Times,serif\" font-size=\"14.00\">*</text>\n</g>\n<!-- 140234582074128&#45;&gt;140234581710736* -->\n<g id=\"edge96\" class=\"edge\">\n<title>140234582074128&#45;&gt;140234581710736*</title>\n<path fill=\"none\" stroke=\"black\" d=\"M1812.82,-561.5C1822.57,-561.5 1832.04,-561.5 1840.57,-561.5\"/>\n<polygon fill=\"black\" stroke=\"black\" points=\"1840.83,-565 1850.83,-561.5 1840.83,-558 1840.83,-565\"/>\n</g>\n<!-- 140234581680960 -->\n<g id=\"node27\" class=\"node\">\n<title>140234581680960</title>\n<polygon fill=\"none\" stroke=\"black\" points=\"333.5,-165.5 333.5,-201.5 515.5,-201.5 515.5,-165.5 333.5,-165.5\"/>\n<text text-anchor=\"middle\" x=\"343.5\" y=\"-179.8\" font-family=\"Times,serif\" font-size=\"14.00\"> </text>\n<polyline fill=\"none\" stroke=\"black\" points=\"353.5,-165.5 353.5,-201.5 \"/>\n<text text-anchor=\"middle\" x=\"393.5\" y=\"-179.8\" font-family=\"Times,serif\" font-size=\"14.00\">data 0.2464</text>\n<polyline fill=\"none\" stroke=\"black\" points=\"433.5,-165.5 433.5,-201.5 \"/>\n<text text-anchor=\"middle\" x=\"474.5\" y=\"-179.8\" font-family=\"Times,serif\" font-size=\"14.00\">grad 0.0000</text>\n</g>\n<!-- 140234581681440+ -->\n<g id=\"node51\" class=\"node\">\n<title>140234581681440+</title>\n<ellipse fill=\"none\" stroke=\"black\" cx=\"590\" cy=\"-131.5\" rx=\"27\" ry=\"18\"/>\n<text text-anchor=\"middle\" x=\"590\" y=\"-127.8\" font-family=\"Times,serif\" font-size=\"14.00\">+</text>\n</g>\n<!-- 140234581680960&#45;&gt;140234581681440+ -->\n<g id=\"edge193\" class=\"edge\">\n<title>140234581680960&#45;&gt;140234581681440+</title>\n<path fill=\"none\" stroke=\"black\" d=\"M494.57,-165.45C505.48,-162.31 516.59,-158.94 527,-155.5 536.84,-152.25 547.41,-148.32 556.98,-144.6\"/>\n<polygon fill=\"black\" stroke=\"black\" points=\"558.51,-147.76 566.52,-140.83 555.94,-141.25 558.51,-147.76\"/>\n</g>\n<!-- 140234581680960*&#45;&gt;140234581680960 -->\n<g id=\"edge11\" class=\"edge\">\n<title>140234581680960*&#45;&gt;140234581680960</title>\n<path fill=\"none\" stroke=\"black\" d=\"M286.27,-183.5C296.7,-183.5 309.41,-183.5 322.84,-183.5\"/>\n<polygon fill=\"black\" stroke=\"black\" points=\"323.23,-187 333.23,-183.5 323.23,-180 323.23,-187\"/>\n</g>\n<!-- 140234582074176 -->\n<g id=\"node29\" class=\"node\">\n<title>140234582074176</title>\n<polygon fill=\"none\" stroke=\"black\" points=\"1941,-673.5 1941,-709.5 2128,-709.5 2128,-673.5 1941,-673.5\"/>\n<text text-anchor=\"middle\" x=\"1951\" y=\"-687.8\" font-family=\"Times,serif\" font-size=\"14.00\"> </text>\n<polyline fill=\"none\" stroke=\"black\" points=\"1961,-673.5 1961,-709.5 \"/>\n<text text-anchor=\"middle\" x=\"2003.5\" y=\"-687.8\" font-family=\"Times,serif\" font-size=\"14.00\">data &#45;0.9883</text>\n<polyline fill=\"none\" stroke=\"black\" points=\"2046,-673.5 2046,-709.5 \"/>\n<text text-anchor=\"middle\" x=\"2087\" y=\"-687.8\" font-family=\"Times,serif\" font-size=\"14.00\">grad 0.0000</text>\n</g>\n<!-- 140234581711168* -->\n<g id=\"node161\" class=\"node\">\n<title>140234581711168*</title>\n<ellipse fill=\"none\" stroke=\"black\" cx=\"2191\" cy=\"-636.5\" rx=\"27\" ry=\"18\"/>\n<text text-anchor=\"middle\" x=\"2191\" y=\"-632.8\" font-family=\"Times,serif\" font-size=\"14.00\">*</text>\n</g>\n<!-- 140234582074176&#45;&gt;140234581711168* -->\n<g id=\"edge185\" class=\"edge\">\n<title>140234582074176&#45;&gt;140234581711168*</title>\n<path fill=\"none\" stroke=\"black\" d=\"M2101.56,-673.45C2110.51,-670.64 2119.53,-667.63 2128,-664.5 2138.49,-660.62 2149.71,-655.78 2159.68,-651.22\"/>\n<polygon fill=\"black\" stroke=\"black\" points=\"2161.2,-654.37 2168.79,-646.97 2158.25,-648.02 2161.2,-654.37\"/>\n</g>\n<!-- 140234581697392 -->\n<g id=\"node30\" class=\"node\">\n<title>140234581697392</title>\n<polygon fill=\"none\" stroke=\"black\" points=\"984,-729.5 984,-765.5 1189,-765.5 1189,-729.5 984,-729.5\"/>\n<text text-anchor=\"middle\" x=\"1003\" y=\"-743.8\" font-family=\"Times,serif\" font-size=\"14.00\">&#45;1.0</text>\n<polyline fill=\"none\" stroke=\"black\" points=\"1022,-729.5 1022,-765.5 \"/>\n<text text-anchor=\"middle\" x=\"1064.5\" y=\"-743.8\" font-family=\"Times,serif\" font-size=\"14.00\">data &#45;1.0000</text>\n<polyline fill=\"none\" stroke=\"black\" points=\"1107,-729.5 1107,-765.5 \"/>\n<text text-anchor=\"middle\" x=\"1148\" y=\"-743.8\" font-family=\"Times,serif\" font-size=\"14.00\">grad 0.0000</text>\n</g>\n<!-- 140234581697440* -->\n<g id=\"node34\" class=\"node\">\n<title>140234581697440*</title>\n<ellipse fill=\"none\" stroke=\"black\" cx=\"1252\" cy=\"-747.5\" rx=\"27\" ry=\"18\"/>\n<text text-anchor=\"middle\" x=\"1252\" y=\"-743.8\" font-family=\"Times,serif\" font-size=\"14.00\">*</text>\n</g>\n<!-- 140234581697392&#45;&gt;140234581697440* -->\n<g id=\"edge80\" class=\"edge\">\n<title>140234581697392&#45;&gt;140234581697440*</title>\n<path fill=\"none\" stroke=\"black\" d=\"M1189.19,-747.5C1198.21,-747.5 1206.88,-747.5 1214.73,-747.5\"/>\n<polygon fill=\"black\" stroke=\"black\" points=\"1214.89,-751 1224.89,-747.5 1214.89,-744 1214.89,-751\"/>\n</g>\n<!-- 140234581730208 -->\n<g id=\"node31\" class=\"node\">\n<title>140234581730208</title>\n<polygon fill=\"none\" stroke=\"black\" points=\"2882.5,-343.5 2882.5,-379.5 3064.5,-379.5 3064.5,-343.5 2882.5,-343.5\"/>\n<text text-anchor=\"middle\" x=\"2892.5\" y=\"-357.8\" font-family=\"Times,serif\" font-size=\"14.00\"> </text>\n<polyline fill=\"none\" stroke=\"black\" points=\"2902.5,-343.5 2902.5,-379.5 \"/>\n<text text-anchor=\"middle\" x=\"2942.5\" y=\"-357.8\" font-family=\"Times,serif\" font-size=\"14.00\">data 1.2524</text>\n<polyline fill=\"none\" stroke=\"black\" points=\"2982.5,-343.5 2982.5,-379.5 \"/>\n<text text-anchor=\"middle\" x=\"3023.5\" y=\"-357.8\" font-family=\"Times,serif\" font-size=\"14.00\">grad 0.0000</text>\n</g>\n<!-- 140234581730400+ -->\n<g id=\"node40\" class=\"node\">\n<title>140234581730400+</title>\n<ellipse fill=\"none\" stroke=\"black\" cx=\"3130\" cy=\"-361.5\" rx=\"27\" ry=\"18\"/>\n<text text-anchor=\"middle\" x=\"3130\" y=\"-357.8\" font-family=\"Times,serif\" font-size=\"14.00\">+</text>\n</g>\n<!-- 140234581730208&#45;&gt;140234581730400+ -->\n<g id=\"edge116\" class=\"edge\">\n<title>140234581730208&#45;&gt;140234581730400+</title>\n<path fill=\"none\" stroke=\"black\" d=\"M3064.82,-361.5C3074.57,-361.5 3084.04,-361.5 3092.57,-361.5\"/>\n<polygon fill=\"black\" stroke=\"black\" points=\"3092.83,-365 3102.83,-361.5 3092.83,-358 3092.83,-365\"/>\n</g>\n<!-- 140234581730208+&#45;&gt;140234581730208 -->\n<g id=\"edge12\" class=\"edge\">\n<title>140234581730208+&#45;&gt;140234581730208</title>\n<path fill=\"none\" stroke=\"black\" d=\"M2844.21,-361.5C2852.34,-361.5 2861.85,-361.5 2871.94,-361.5\"/>\n<polygon fill=\"black\" stroke=\"black\" points=\"2872.19,-365 2882.19,-361.5 2872.19,-358 2872.19,-365\"/>\n</g>\n<!-- 140234581697440 -->\n<g id=\"node33\" class=\"node\">\n<title>140234581697440</title>\n<polygon fill=\"none\" stroke=\"black\" points=\"1315,-729.5 1315,-765.5 1502,-765.5 1502,-729.5 1315,-729.5\"/>\n<text text-anchor=\"middle\" x=\"1325\" y=\"-743.8\" font-family=\"Times,serif\" font-size=\"14.00\"> </text>\n<polyline fill=\"none\" stroke=\"black\" points=\"1335,-729.5 1335,-765.5 \"/>\n<text text-anchor=\"middle\" x=\"1377.5\" y=\"-743.8\" font-family=\"Times,serif\" font-size=\"14.00\">data &#45;0.9113</text>\n<polyline fill=\"none\" stroke=\"black\" points=\"1420,-729.5 1420,-765.5 \"/>\n<text text-anchor=\"middle\" x=\"1461\" y=\"-743.8\" font-family=\"Times,serif\" font-size=\"14.00\">grad 0.0000</text>\n</g>\n<!-- 140234581697440&#45;&gt;140234581697632+ -->\n<g id=\"edge105\" class=\"edge\">\n<title>140234581697440&#45;&gt;140234581697632+</title>\n<path fill=\"none\" stroke=\"black\" d=\"M1502.05,-763.67C1511.34,-765.3 1520.33,-766.87 1528.44,-768.29\"/>\n<polygon fill=\"black\" stroke=\"black\" points=\"1528.1,-771.78 1538.55,-770.05 1529.3,-764.88 1528.1,-771.78\"/>\n</g>\n<!-- 140234581697440*&#45;&gt;140234581697440 -->\n<g id=\"edge13\" class=\"edge\">\n<title>140234581697440*&#45;&gt;140234581697440</title>\n<path fill=\"none\" stroke=\"black\" d=\"M1279.21,-747.5C1286.73,-747.5 1295.43,-747.5 1304.67,-747.5\"/>\n<polygon fill=\"black\" stroke=\"black\" points=\"1304.89,-751 1314.89,-747.5 1304.89,-744 1304.89,-751\"/>\n</g>\n<!-- 140234582074272 -->\n<g id=\"node35\" class=\"node\">\n<title>140234582074272</title>\n<polygon fill=\"none\" stroke=\"black\" points=\"2256.5,-783.5 2256.5,-819.5 2438.5,-819.5 2438.5,-783.5 2256.5,-783.5\"/>\n<text text-anchor=\"middle\" x=\"2266.5\" y=\"-797.8\" font-family=\"Times,serif\" font-size=\"14.00\"> </text>\n<polyline fill=\"none\" stroke=\"black\" points=\"2276.5,-783.5 2276.5,-819.5 \"/>\n<text text-anchor=\"middle\" x=\"2316.5\" y=\"-797.8\" font-family=\"Times,serif\" font-size=\"14.00\">data 0.0030</text>\n<polyline fill=\"none\" stroke=\"black\" points=\"2356.5,-783.5 2356.5,-819.5 \"/>\n<text text-anchor=\"middle\" x=\"2397.5\" y=\"-797.8\" font-family=\"Times,serif\" font-size=\"14.00\">grad 0.0000</text>\n</g>\n<!-- 140234581711600* -->\n<g id=\"node169\" class=\"node\">\n<title>140234581711600*</title>\n<ellipse fill=\"none\" stroke=\"black\" cx=\"2504\" cy=\"-744.5\" rx=\"27\" ry=\"18\"/>\n<text text-anchor=\"middle\" x=\"2504\" y=\"-740.8\" font-family=\"Times,serif\" font-size=\"14.00\">*</text>\n</g>\n<!-- 140234582074272&#45;&gt;140234581711600* -->\n<g id=\"edge168\" class=\"edge\">\n<title>140234582074272&#45;&gt;140234581711600*</title>\n<path fill=\"none\" stroke=\"black\" d=\"M2415.14,-783.5C2423.91,-780.71 2432.73,-777.68 2441,-774.5 2451.74,-770.37 2463.17,-765.1 2473.25,-760.14\"/>\n<polygon fill=\"black\" stroke=\"black\" points=\"2475.07,-763.14 2482.43,-755.52 2471.93,-756.89 2475.07,-763.14\"/>\n</g>\n<!-- 140234582074320 -->\n<g id=\"node36\" class=\"node\">\n<title>140234582074320</title>\n<polygon fill=\"none\" stroke=\"black\" points=\"2882.5,-673.5 2882.5,-709.5 3064.5,-709.5 3064.5,-673.5 2882.5,-673.5\"/>\n<text text-anchor=\"middle\" x=\"2892.5\" y=\"-687.8\" font-family=\"Times,serif\" font-size=\"14.00\"> </text>\n<polyline fill=\"none\" stroke=\"black\" points=\"2902.5,-673.5 2902.5,-709.5 \"/>\n<text text-anchor=\"middle\" x=\"2942.5\" y=\"-687.8\" font-family=\"Times,serif\" font-size=\"14.00\">data 0.3485</text>\n<polyline fill=\"none\" stroke=\"black\" points=\"2982.5,-673.5 2982.5,-709.5 \"/>\n<text text-anchor=\"middle\" x=\"3023.5\" y=\"-687.8\" font-family=\"Times,serif\" font-size=\"14.00\">grad 0.0000</text>\n</g>\n<!-- 140234581711984+ -->\n<g id=\"node176\" class=\"node\">\n<title>140234581711984+</title>\n<ellipse fill=\"none\" stroke=\"black\" cx=\"3130\" cy=\"-636.5\" rx=\"27\" ry=\"18\"/>\n<text text-anchor=\"middle\" x=\"3130\" y=\"-632.8\" font-family=\"Times,serif\" font-size=\"14.00\">+</text>\n</g>\n<!-- 140234582074320&#45;&gt;140234581711984+ -->\n<g id=\"edge161\" class=\"edge\">\n<title>140234582074320&#45;&gt;140234581711984+</title>\n<path fill=\"none\" stroke=\"black\" d=\"M3040.56,-673.45C3049.51,-670.64 3058.53,-667.63 3067,-664.5 3077.49,-660.62 3088.71,-655.78 3098.68,-651.22\"/>\n<polygon fill=\"black\" stroke=\"black\" points=\"3100.2,-654.37 3107.79,-646.97 3097.25,-648.02 3100.2,-654.37\"/>\n</g>\n<!-- 140234581681200 -->\n<g id=\"node37\" class=\"node\">\n<title>140234581681200</title>\n<polygon fill=\"none\" stroke=\"black\" points=\"0,-110.5 0,-146.5 196,-146.5 196,-110.5 0,-110.5\"/>\n<text text-anchor=\"middle\" x=\"17\" y=\"-124.8\" font-family=\"Times,serif\" font-size=\"14.00\">3.0</text>\n<polyline fill=\"none\" stroke=\"black\" points=\"34,-110.5 34,-146.5 \"/>\n<text text-anchor=\"middle\" x=\"74\" y=\"-124.8\" font-family=\"Times,serif\" font-size=\"14.00\">data 3.0000</text>\n<polyline fill=\"none\" stroke=\"black\" points=\"114,-110.5 114,-146.5 \"/>\n<text text-anchor=\"middle\" x=\"155\" y=\"-124.8\" font-family=\"Times,serif\" font-size=\"14.00\">grad 0.0000</text>\n</g>\n<!-- 140234581681248* -->\n<g id=\"node44\" class=\"node\">\n<title>140234581681248*</title>\n<ellipse fill=\"none\" stroke=\"black\" cx=\"259\" cy=\"-128.5\" rx=\"27\" ry=\"18\"/>\n<text text-anchor=\"middle\" x=\"259\" y=\"-124.8\" font-family=\"Times,serif\" font-size=\"14.00\">*</text>\n</g>\n<!-- 140234581681200&#45;&gt;140234581681248* -->\n<g id=\"edge91\" class=\"edge\">\n<title>140234581681200&#45;&gt;140234581681248*</title>\n<path fill=\"none\" stroke=\"black\" d=\"M196.07,-128.5C205.05,-128.5 213.71,-128.5 221.57,-128.5\"/>\n<polygon fill=\"black\" stroke=\"black\" points=\"221.75,-132 231.75,-128.5 221.75,-125 221.75,-132\"/>\n</g>\n<!-- 140234582074416 -->\n<g id=\"node38\" class=\"node\">\n<title>140234582074416</title>\n<polygon fill=\"none\" stroke=\"black\" points=\"1628,-233.5 1628,-269.5 1815,-269.5 1815,-233.5 1628,-233.5\"/>\n<text text-anchor=\"middle\" x=\"1638\" y=\"-247.8\" font-family=\"Times,serif\" font-size=\"14.00\"> </text>\n<polyline fill=\"none\" stroke=\"black\" points=\"1648,-233.5 1648,-269.5 \"/>\n<text text-anchor=\"middle\" x=\"1690.5\" y=\"-247.8\" font-family=\"Times,serif\" font-size=\"14.00\">data &#45;0.6205</text>\n<polyline fill=\"none\" stroke=\"black\" points=\"1733,-233.5 1733,-269.5 \"/>\n<text text-anchor=\"middle\" x=\"1774\" y=\"-247.8\" font-family=\"Times,serif\" font-size=\"14.00\">grad 0.0000</text>\n</g>\n<!-- 140234582074416&#45;&gt;140234581712464* -->\n<g id=\"edge75\" class=\"edge\">\n<title>140234582074416&#45;&gt;140234581712464*</title>\n<path fill=\"none\" stroke=\"black\" d=\"M1815.05,-251.5C1824.06,-251.5 1832.79,-251.5 1840.7,-251.5\"/>\n<polygon fill=\"black\" stroke=\"black\" points=\"1840.95,-255 1850.95,-251.5 1840.95,-248 1840.95,-255\"/>\n</g>\n<!-- 140234581730400 -->\n<g id=\"node39\" class=\"node\">\n<title>140234581730400</title>\n<polygon fill=\"none\" stroke=\"black\" points=\"3195.5,-343.5 3195.5,-379.5 3377.5,-379.5 3377.5,-343.5 3195.5,-343.5\"/>\n<text text-anchor=\"middle\" x=\"3205.5\" y=\"-357.8\" font-family=\"Times,serif\" font-size=\"14.00\"> </text>\n<polyline fill=\"none\" stroke=\"black\" points=\"3215.5,-343.5 3215.5,-379.5 \"/>\n<text text-anchor=\"middle\" x=\"3255.5\" y=\"-357.8\" font-family=\"Times,serif\" font-size=\"14.00\">data 0.8680</text>\n<polyline fill=\"none\" stroke=\"black\" points=\"3295.5,-343.5 3295.5,-379.5 \"/>\n<text text-anchor=\"middle\" x=\"3336.5\" y=\"-357.8\" font-family=\"Times,serif\" font-size=\"14.00\">grad 0.0000</text>\n</g>\n<!-- 140234581730640tanh -->\n<g id=\"node54\" class=\"node\">\n<title>140234581730640tanh</title>\n<ellipse fill=\"none\" stroke=\"black\" cx=\"3443\" cy=\"-361.5\" rx=\"27\" ry=\"18\"/>\n<text text-anchor=\"middle\" x=\"3443\" y=\"-357.8\" font-family=\"Times,serif\" font-size=\"14.00\">tanh</text>\n</g>\n<!-- 140234581730400&#45;&gt;140234581730640tanh -->\n<g id=\"edge102\" class=\"edge\">\n<title>140234581730400&#45;&gt;140234581730640tanh</title>\n<path fill=\"none\" stroke=\"black\" d=\"M3377.82,-361.5C3387.57,-361.5 3397.04,-361.5 3405.57,-361.5\"/>\n<polygon fill=\"black\" stroke=\"black\" points=\"3405.83,-365 3415.83,-361.5 3405.83,-358 3405.83,-365\"/>\n</g>\n<!-- 140234581730400+&#45;&gt;140234581730400 -->\n<g id=\"edge14\" class=\"edge\">\n<title>140234581730400+&#45;&gt;140234581730400</title>\n<path fill=\"none\" stroke=\"black\" d=\"M3157.21,-361.5C3165.34,-361.5 3174.85,-361.5 3184.94,-361.5\"/>\n<polygon fill=\"black\" stroke=\"black\" points=\"3185.19,-365 3195.19,-361.5 3185.19,-358 3185.19,-365\"/>\n</g>\n<!-- 140234581697632 -->\n<g id=\"node41\" class=\"node\">\n<title>140234581697632</title>\n<polygon fill=\"none\" stroke=\"black\" points=\"1630.5,-756.5 1630.5,-792.5 1812.5,-792.5 1812.5,-756.5 1630.5,-756.5\"/>\n<text text-anchor=\"middle\" x=\"1640.5\" y=\"-770.8\" font-family=\"Times,serif\" font-size=\"14.00\"> </text>\n<polyline fill=\"none\" stroke=\"black\" points=\"1650.5,-756.5 1650.5,-792.5 \"/>\n<text text-anchor=\"middle\" x=\"1690.5\" y=\"-770.8\" font-family=\"Times,serif\" font-size=\"14.00\">data 2.9209</text>\n<polyline fill=\"none\" stroke=\"black\" points=\"1730.5,-756.5 1730.5,-792.5 \"/>\n<text text-anchor=\"middle\" x=\"1771.5\" y=\"-770.8\" font-family=\"Times,serif\" font-size=\"14.00\">grad 0.0000</text>\n</g>\n<!-- 140234581697824+ -->\n<g id=\"node49\" class=\"node\">\n<title>140234581697824+</title>\n<ellipse fill=\"none\" stroke=\"black\" cx=\"1878\" cy=\"-746.5\" rx=\"27\" ry=\"18\"/>\n<text text-anchor=\"middle\" x=\"1878\" y=\"-742.8\" font-family=\"Times,serif\" font-size=\"14.00\">+</text>\n</g>\n<!-- 140234581697632&#45;&gt;140234581697824+ -->\n<g id=\"edge156\" class=\"edge\">\n<title>140234581697632&#45;&gt;140234581697824+</title>\n<path fill=\"none\" stroke=\"black\" d=\"M1812.82,-758.13C1823.07,-756.27 1833.01,-754.47 1841.88,-752.87\"/>\n<polygon fill=\"black\" stroke=\"black\" points=\"1842.54,-756.3 1851.75,-751.08 1841.29,-749.42 1842.54,-756.3\"/>\n</g>\n<!-- 140234581697632+&#45;&gt;140234581697632 -->\n<g id=\"edge15\" class=\"edge\">\n<title>140234581697632+&#45;&gt;140234581697632</title>\n<path fill=\"none\" stroke=\"black\" d=\"M1592.21,-774.5C1600.34,-774.5 1609.85,-774.5 1619.94,-774.5\"/>\n<polygon fill=\"black\" stroke=\"black\" points=\"1620.19,-778 1630.19,-774.5 1620.19,-771 1620.19,-778\"/>\n</g>\n<!-- 140234581681248 -->\n<g id=\"node43\" class=\"node\">\n<title>140234581681248</title>\n<polygon fill=\"none\" stroke=\"black\" points=\"333.5,-110.5 333.5,-146.5 515.5,-146.5 515.5,-110.5 333.5,-110.5\"/>\n<text text-anchor=\"middle\" x=\"343.5\" y=\"-124.8\" font-family=\"Times,serif\" font-size=\"14.00\"> </text>\n<polyline fill=\"none\" stroke=\"black\" points=\"353.5,-110.5 353.5,-146.5 \"/>\n<text text-anchor=\"middle\" x=\"393.5\" y=\"-124.8\" font-family=\"Times,serif\" font-size=\"14.00\">data 0.2780</text>\n<polyline fill=\"none\" stroke=\"black\" points=\"433.5,-110.5 433.5,-146.5 \"/>\n<text text-anchor=\"middle\" x=\"474.5\" y=\"-124.8\" font-family=\"Times,serif\" font-size=\"14.00\">grad 0.0000</text>\n</g>\n<!-- 140234581681248&#45;&gt;140234581681440+ -->\n<g id=\"edge126\" class=\"edge\">\n<title>140234581681248&#45;&gt;140234581681440+</title>\n<path fill=\"none\" stroke=\"black\" d=\"M515.86,-130.16C528.84,-130.4 541.53,-130.63 552.6,-130.83\"/>\n<polygon fill=\"black\" stroke=\"black\" points=\"552.61,-134.33 562.67,-131.02 552.74,-127.33 552.61,-134.33\"/>\n</g>\n<!-- 140234581681248*&#45;&gt;140234581681248 -->\n<g id=\"edge16\" class=\"edge\">\n<title>140234581681248*&#45;&gt;140234581681248</title>\n<path fill=\"none\" stroke=\"black\" d=\"M286.27,-128.5C296.7,-128.5 309.41,-128.5 322.84,-128.5\"/>\n<polygon fill=\"black\" stroke=\"black\" points=\"323.23,-132 333.23,-128.5 323.23,-125 323.23,-132\"/>\n</g>\n<!-- 140234582074512 -->\n<g id=\"node45\" class=\"node\">\n<title>140234582074512</title>\n<polygon fill=\"none\" stroke=\"black\" points=\"1630.5,-13.5 1630.5,-49.5 1812.5,-49.5 1812.5,-13.5 1630.5,-13.5\"/>\n<text text-anchor=\"middle\" x=\"1640.5\" y=\"-27.8\" font-family=\"Times,serif\" font-size=\"14.00\"> </text>\n<polyline fill=\"none\" stroke=\"black\" points=\"1650.5,-13.5 1650.5,-49.5 \"/>\n<text text-anchor=\"middle\" x=\"1690.5\" y=\"-27.8\" font-family=\"Times,serif\" font-size=\"14.00\">data 0.8084</text>\n<polyline fill=\"none\" stroke=\"black\" points=\"1730.5,-13.5 1730.5,-49.5 \"/>\n<text text-anchor=\"middle\" x=\"1771.5\" y=\"-27.8\" font-family=\"Times,serif\" font-size=\"14.00\">grad 0.0000</text>\n</g>\n<!-- 140234581712704* -->\n<g id=\"node196\" class=\"node\">\n<title>140234581712704*</title>\n<ellipse fill=\"none\" stroke=\"black\" cx=\"1878\" cy=\"-31.5\" rx=\"27\" ry=\"18\"/>\n<text text-anchor=\"middle\" x=\"1878\" y=\"-27.8\" font-family=\"Times,serif\" font-size=\"14.00\">*</text>\n</g>\n<!-- 140234582074512&#45;&gt;140234581712704* -->\n<g id=\"edge154\" class=\"edge\">\n<title>140234582074512&#45;&gt;140234581712704*</title>\n<path fill=\"none\" stroke=\"black\" d=\"M1812.82,-31.5C1822.57,-31.5 1832.04,-31.5 1840.57,-31.5\"/>\n<polygon fill=\"black\" stroke=\"black\" points=\"1840.83,-35 1850.83,-31.5 1840.83,-28 1840.83,-35\"/>\n</g>\n<!-- 140234582074560 -->\n<g id=\"node46\" class=\"node\">\n<title>140234582074560</title>\n<polygon fill=\"none\" stroke=\"black\" points=\"1943.5,-233.5 1943.5,-269.5 2125.5,-269.5 2125.5,-233.5 1943.5,-233.5\"/>\n<text text-anchor=\"middle\" x=\"1953.5\" y=\"-247.8\" font-family=\"Times,serif\" font-size=\"14.00\"> </text>\n<polyline fill=\"none\" stroke=\"black\" points=\"1963.5,-233.5 1963.5,-269.5 \"/>\n<text text-anchor=\"middle\" x=\"2003.5\" y=\"-247.8\" font-family=\"Times,serif\" font-size=\"14.00\">data 0.3944</text>\n<polyline fill=\"none\" stroke=\"black\" points=\"2043.5,-233.5 2043.5,-269.5 \"/>\n<text text-anchor=\"middle\" x=\"2084.5\" y=\"-247.8\" font-family=\"Times,serif\" font-size=\"14.00\">grad 0.0000</text>\n</g>\n<!-- 140234582074560&#45;&gt;140234581729584* -->\n<g id=\"edge113\" class=\"edge\">\n<title>140234582074560&#45;&gt;140234581729584*</title>\n<path fill=\"none\" stroke=\"black\" d=\"M2125.82,-251.5C2135.57,-251.5 2145.04,-251.5 2153.57,-251.5\"/>\n<polygon fill=\"black\" stroke=\"black\" points=\"2153.83,-255 2163.83,-251.5 2153.83,-248 2153.83,-255\"/>\n</g>\n<!-- 140234582074608 -->\n<g id=\"node47\" class=\"node\">\n<title>140234582074608</title>\n<polygon fill=\"none\" stroke=\"black\" points=\"2256.5,-343.5 2256.5,-379.5 2438.5,-379.5 2438.5,-343.5 2256.5,-343.5\"/>\n<text text-anchor=\"middle\" x=\"2266.5\" y=\"-357.8\" font-family=\"Times,serif\" font-size=\"14.00\"> </text>\n<polyline fill=\"none\" stroke=\"black\" points=\"2276.5,-343.5 2276.5,-379.5 \"/>\n<text text-anchor=\"middle\" x=\"2316.5\" y=\"-357.8\" font-family=\"Times,serif\" font-size=\"14.00\">data 0.2757</text>\n<polyline fill=\"none\" stroke=\"black\" points=\"2356.5,-343.5 2356.5,-379.5 \"/>\n<text text-anchor=\"middle\" x=\"2397.5\" y=\"-357.8\" font-family=\"Times,serif\" font-size=\"14.00\">grad 0.0000</text>\n</g>\n<!-- 140234582074608&#45;&gt;140234581730016* -->\n<g id=\"edge173\" class=\"edge\">\n<title>140234582074608&#45;&gt;140234581730016*</title>\n<path fill=\"none\" stroke=\"black\" d=\"M2438.82,-361.5C2448.57,-361.5 2458.04,-361.5 2466.57,-361.5\"/>\n<polygon fill=\"black\" stroke=\"black\" points=\"2466.83,-365 2476.83,-361.5 2466.83,-358 2466.83,-365\"/>\n</g>\n<!-- 140234581697824 -->\n<g id=\"node48\" class=\"node\">\n<title>140234581697824</title>\n<polygon fill=\"none\" stroke=\"black\" points=\"1943.5,-728.5 1943.5,-764.5 2125.5,-764.5 2125.5,-728.5 1943.5,-728.5\"/>\n<text text-anchor=\"middle\" x=\"1953.5\" y=\"-742.8\" font-family=\"Times,serif\" font-size=\"14.00\"> </text>\n<polyline fill=\"none\" stroke=\"black\" points=\"1963.5,-728.5 1963.5,-764.5 \"/>\n<text text-anchor=\"middle\" x=\"2003.5\" y=\"-742.8\" font-family=\"Times,serif\" font-size=\"14.00\">data 2.6927</text>\n<polyline fill=\"none\" stroke=\"black\" points=\"2043.5,-728.5 2043.5,-764.5 \"/>\n<text text-anchor=\"middle\" x=\"2084.5\" y=\"-742.8\" font-family=\"Times,serif\" font-size=\"14.00\">grad 0.0000</text>\n</g>\n<!-- 140234581698064tanh -->\n<g id=\"node57\" class=\"node\">\n<title>140234581698064tanh</title>\n<ellipse fill=\"none\" stroke=\"black\" cx=\"2191\" cy=\"-718.5\" rx=\"27\" ry=\"18\"/>\n<text text-anchor=\"middle\" x=\"2191\" y=\"-714.8\" font-family=\"Times,serif\" font-size=\"14.00\">tanh</text>\n</g>\n<!-- 140234581697824&#45;&gt;140234581698064tanh -->\n<g id=\"edge79\" class=\"edge\">\n<title>140234581697824&#45;&gt;140234581698064tanh</title>\n<path fill=\"none\" stroke=\"black\" d=\"M2125.82,-730.13C2136.07,-728.27 2146.01,-726.47 2154.88,-724.87\"/>\n<polygon fill=\"black\" stroke=\"black\" points=\"2155.54,-728.3 2164.75,-723.08 2154.29,-721.42 2155.54,-728.3\"/>\n</g>\n<!-- 140234581697824+&#45;&gt;140234581697824 -->\n<g id=\"edge17\" class=\"edge\">\n<title>140234581697824+&#45;&gt;140234581697824</title>\n<path fill=\"none\" stroke=\"black\" d=\"M1905.21,-746.5C1913.34,-746.5 1922.85,-746.5 1932.94,-746.5\"/>\n<polygon fill=\"black\" stroke=\"black\" points=\"1933.19,-750 1943.19,-746.5 1933.19,-743 1933.19,-750\"/>\n</g>\n<!-- 140234581681440 -->\n<g id=\"node50\" class=\"node\">\n<title>140234581681440</title>\n<polygon fill=\"none\" stroke=\"black\" points=\"664.5,-113.5 664.5,-149.5 846.5,-149.5 846.5,-113.5 664.5,-113.5\"/>\n<text text-anchor=\"middle\" x=\"674.5\" y=\"-127.8\" font-family=\"Times,serif\" font-size=\"14.00\"> </text>\n<polyline fill=\"none\" stroke=\"black\" points=\"684.5,-113.5 684.5,-149.5 \"/>\n<text text-anchor=\"middle\" x=\"724.5\" y=\"-127.8\" font-family=\"Times,serif\" font-size=\"14.00\">data 0.5244</text>\n<polyline fill=\"none\" stroke=\"black\" points=\"764.5,-113.5 764.5,-149.5 \"/>\n<text text-anchor=\"middle\" x=\"805.5\" y=\"-127.8\" font-family=\"Times,serif\" font-size=\"14.00\">grad 0.0000</text>\n</g>\n<!-- 140234581681920+ -->\n<g id=\"node69\" class=\"node\">\n<title>140234581681920+</title>\n<ellipse fill=\"none\" stroke=\"black\" cx=\"921\" cy=\"-131.5\" rx=\"27\" ry=\"18\"/>\n<text text-anchor=\"middle\" x=\"921\" y=\"-127.8\" font-family=\"Times,serif\" font-size=\"14.00\">+</text>\n</g>\n<!-- 140234581681440&#45;&gt;140234581681920+ -->\n<g id=\"edge81\" class=\"edge\">\n<title>140234581681440&#45;&gt;140234581681920+</title>\n<path fill=\"none\" stroke=\"black\" d=\"M846.86,-131.5C859.84,-131.5 872.53,-131.5 883.6,-131.5\"/>\n<polygon fill=\"black\" stroke=\"black\" points=\"883.67,-135 893.67,-131.5 883.67,-128 883.67,-135\"/>\n</g>\n<!-- 140234581681440+&#45;&gt;140234581681440 -->\n<g id=\"edge18\" class=\"edge\">\n<title>140234581681440+&#45;&gt;140234581681440</title>\n<path fill=\"none\" stroke=\"black\" d=\"M617.27,-131.5C627.7,-131.5 640.41,-131.5 653.84,-131.5\"/>\n<polygon fill=\"black\" stroke=\"black\" points=\"654.23,-135 664.23,-131.5 654.23,-128 654.23,-135\"/>\n</g>\n<!-- 140234582074656 -->\n<g id=\"node52\" class=\"node\">\n<title>140234582074656</title>\n<polygon fill=\"none\" stroke=\"black\" points=\"2880,-288.5 2880,-324.5 3067,-324.5 3067,-288.5 2880,-288.5\"/>\n<text text-anchor=\"middle\" x=\"2890\" y=\"-302.8\" font-family=\"Times,serif\" font-size=\"14.00\"> </text>\n<polyline fill=\"none\" stroke=\"black\" points=\"2900,-288.5 2900,-324.5 \"/>\n<text text-anchor=\"middle\" x=\"2942.5\" y=\"-302.8\" font-family=\"Times,serif\" font-size=\"14.00\">data &#45;0.3844</text>\n<polyline fill=\"none\" stroke=\"black\" points=\"2985,-288.5 2985,-324.5 \"/>\n<text text-anchor=\"middle\" x=\"3026\" y=\"-302.8\" font-family=\"Times,serif\" font-size=\"14.00\">grad 0.0000</text>\n</g>\n<!-- 140234582074656&#45;&gt;140234581730400+ -->\n<g id=\"edge204\" class=\"edge\">\n<title>140234582074656&#45;&gt;140234581730400+</title>\n<path fill=\"none\" stroke=\"black\" d=\"M3038.02,-324.65C3047.79,-327.76 3057.71,-331.08 3067,-334.5 3077.25,-338.27 3088.23,-342.86 3098.07,-347.18\"/>\n<polygon fill=\"black\" stroke=\"black\" points=\"3096.89,-350.49 3107.45,-351.37 3099.74,-344.1 3096.89,-350.49\"/>\n</g>\n<!-- 140234581730640 -->\n<g id=\"node53\" class=\"node\">\n<title>140234581730640</title>\n<polygon fill=\"none\" stroke=\"black\" points=\"3508.5,-343.5 3508.5,-379.5 3690.5,-379.5 3690.5,-343.5 3508.5,-343.5\"/>\n<text text-anchor=\"middle\" x=\"3518.5\" y=\"-357.8\" font-family=\"Times,serif\" font-size=\"14.00\"> </text>\n<polyline fill=\"none\" stroke=\"black\" points=\"3528.5,-343.5 3528.5,-379.5 \"/>\n<text text-anchor=\"middle\" x=\"3568.5\" y=\"-357.8\" font-family=\"Times,serif\" font-size=\"14.00\">data 0.7004</text>\n<polyline fill=\"none\" stroke=\"black\" points=\"3608.5,-343.5 3608.5,-379.5 \"/>\n<text text-anchor=\"middle\" x=\"3649.5\" y=\"-357.8\" font-family=\"Times,serif\" font-size=\"14.00\">grad 0.0000</text>\n</g>\n<!-- 140234581731984* -->\n<g id=\"node97\" class=\"node\">\n<title>140234581731984*</title>\n<ellipse fill=\"none\" stroke=\"black\" cx=\"3756\" cy=\"-361.5\" rx=\"27\" ry=\"18\"/>\n<text text-anchor=\"middle\" x=\"3756\" y=\"-357.8\" font-family=\"Times,serif\" font-size=\"14.00\">*</text>\n</g>\n<!-- 140234581730640&#45;&gt;140234581731984* -->\n<g id=\"edge121\" class=\"edge\">\n<title>140234581730640&#45;&gt;140234581731984*</title>\n<path fill=\"none\" stroke=\"black\" d=\"M3690.82,-361.5C3700.57,-361.5 3710.04,-361.5 3718.57,-361.5\"/>\n<polygon fill=\"black\" stroke=\"black\" points=\"3718.83,-365 3728.83,-361.5 3718.83,-358 3718.83,-365\"/>\n</g>\n<!-- 140234581730640tanh&#45;&gt;140234581730640 -->\n<g id=\"edge19\" class=\"edge\">\n<title>140234581730640tanh&#45;&gt;140234581730640</title>\n<path fill=\"none\" stroke=\"black\" d=\"M3470.21,-361.5C3478.34,-361.5 3487.85,-361.5 3497.94,-361.5\"/>\n<polygon fill=\"black\" stroke=\"black\" points=\"3498.19,-365 3508.19,-361.5 3498.19,-358 3498.19,-365\"/>\n</g>\n<!-- 140234582074800 -->\n<g id=\"node55\" class=\"node\">\n<title>140234582074800</title>\n<polygon fill=\"none\" stroke=\"black\" points=\"3508.5,-563.5 3508.5,-599.5 3690.5,-599.5 3690.5,-563.5 3508.5,-563.5\"/>\n<text text-anchor=\"middle\" x=\"3518.5\" y=\"-577.8\" font-family=\"Times,serif\" font-size=\"14.00\"> </text>\n<polyline fill=\"none\" stroke=\"black\" points=\"3528.5,-563.5 3528.5,-599.5 \"/>\n<text text-anchor=\"middle\" x=\"3568.5\" y=\"-577.8\" font-family=\"Times,serif\" font-size=\"14.00\">data 0.4355</text>\n<polyline fill=\"none\" stroke=\"black\" points=\"3608.5,-563.5 3608.5,-599.5 \"/>\n<text text-anchor=\"middle\" x=\"3649.5\" y=\"-577.8\" font-family=\"Times,serif\" font-size=\"14.00\">grad 0.0000</text>\n</g>\n<!-- 140234581730880* -->\n<g id=\"node64\" class=\"node\">\n<title>140234581730880*</title>\n<ellipse fill=\"none\" stroke=\"black\" cx=\"3756\" cy=\"-526.5\" rx=\"27\" ry=\"18\"/>\n<text text-anchor=\"middle\" x=\"3756\" y=\"-522.8\" font-family=\"Times,serif\" font-size=\"14.00\">*</text>\n</g>\n<!-- 140234582074800&#45;&gt;140234581730880* -->\n<g id=\"edge208\" class=\"edge\">\n<title>140234582074800&#45;&gt;140234581730880*</title>\n<path fill=\"none\" stroke=\"black\" d=\"M3666.56,-563.45C3675.51,-560.64 3684.53,-557.63 3693,-554.5 3703.49,-550.62 3714.71,-545.78 3724.68,-541.22\"/>\n<polygon fill=\"black\" stroke=\"black\" points=\"3726.2,-544.37 3733.79,-536.97 3723.25,-538.02 3726.2,-544.37\"/>\n</g>\n<!-- 140234581698064 -->\n<g id=\"node56\" class=\"node\">\n<title>140234581698064</title>\n<polygon fill=\"none\" stroke=\"black\" points=\"2256.5,-673.5 2256.5,-709.5 2438.5,-709.5 2438.5,-673.5 2256.5,-673.5\"/>\n<text text-anchor=\"middle\" x=\"2266.5\" y=\"-687.8\" font-family=\"Times,serif\" font-size=\"14.00\"> </text>\n<polyline fill=\"none\" stroke=\"black\" points=\"2276.5,-673.5 2276.5,-709.5 \"/>\n<text text-anchor=\"middle\" x=\"2316.5\" y=\"-687.8\" font-family=\"Times,serif\" font-size=\"14.00\">data 0.9909</text>\n<polyline fill=\"none\" stroke=\"black\" points=\"2356.5,-673.5 2356.5,-709.5 \"/>\n<text text-anchor=\"middle\" x=\"2397.5\" y=\"-687.8\" font-family=\"Times,serif\" font-size=\"14.00\">grad 0.0000</text>\n</g>\n<!-- 140234581698064&#45;&gt;140234581730016* -->\n<g id=\"edge133\" class=\"edge\">\n<title>140234581698064&#45;&gt;140234581730016*</title>\n<path fill=\"none\" stroke=\"black\" d=\"M2430.94,-673.46C2434.62,-670.85 2438.01,-667.88 2441,-664.5 2506.66,-590.31 2454.13,-540.9 2477,-444.5 2481.46,-425.7 2487.96,-404.95 2493.34,-388.91\"/>\n<polygon fill=\"black\" stroke=\"black\" points=\"2496.77,-389.7 2496.69,-379.11 2490.14,-387.44 2496.77,-389.7\"/>\n</g>\n<!-- 140234581699408* -->\n<g id=\"node104\" class=\"node\">\n<title>140234581699408*</title>\n<ellipse fill=\"none\" stroke=\"black\" cx=\"2504\" cy=\"-690.5\" rx=\"27\" ry=\"18\"/>\n<text text-anchor=\"middle\" x=\"2504\" y=\"-686.8\" font-family=\"Times,serif\" font-size=\"14.00\">*</text>\n</g>\n<!-- 140234581698064&#45;&gt;140234581699408* -->\n<g id=\"edge100\" class=\"edge\">\n<title>140234581698064&#45;&gt;140234581699408*</title>\n<path fill=\"none\" stroke=\"black\" d=\"M2438.82,-690.92C2448.57,-690.85 2458.04,-690.79 2466.57,-690.74\"/>\n<polygon fill=\"black\" stroke=\"black\" points=\"2466.85,-694.23 2476.83,-690.67 2466.81,-687.23 2466.85,-694.23\"/>\n</g>\n<!-- 140234581709632* -->\n<g id=\"node140\" class=\"node\">\n<title>140234581709632*</title>\n<ellipse fill=\"none\" stroke=\"black\" cx=\"2504\" cy=\"-526.5\" rx=\"27\" ry=\"18\"/>\n<text text-anchor=\"middle\" x=\"2504\" y=\"-522.8\" font-family=\"Times,serif\" font-size=\"14.00\">*</text>\n</g>\n<!-- 140234581698064&#45;&gt;140234581709632* -->\n<g id=\"edge151\" class=\"edge\">\n<title>140234581698064&#45;&gt;140234581709632*</title>\n<path fill=\"none\" stroke=\"black\" d=\"M2428.19,-673.48C2432.77,-670.88 2437.09,-667.91 2441,-664.5 2458.44,-649.31 2481.23,-589.71 2493.75,-553.99\"/>\n<polygon fill=\"black\" stroke=\"black\" points=\"2497.19,-554.77 2497.15,-544.18 2490.57,-552.48 2497.19,-554.77\"/>\n</g>\n<!-- 140234581698064&#45;&gt;140234581711600* -->\n<g id=\"edge76\" class=\"edge\">\n<title>140234581698064&#45;&gt;140234581711600*</title>\n<path fill=\"none\" stroke=\"black\" d=\"M2410.94,-709.57C2421.04,-712.73 2431.35,-716.1 2441,-719.5 2451.02,-723.03 2461.79,-727.23 2471.51,-731.17\"/>\n<polygon fill=\"black\" stroke=\"black\" points=\"2470.22,-734.42 2480.8,-734.99 2472.88,-727.95 2470.22,-734.42\"/>\n</g>\n<!-- 140234581698064tanh&#45;&gt;140234581698064 -->\n<g id=\"edge20\" class=\"edge\">\n<title>140234581698064tanh&#45;&gt;140234581698064</title>\n<path fill=\"none\" stroke=\"black\" d=\"M2217.51,-714.04C2225.83,-712.59 2235.62,-710.88 2246.03,-709.06\"/>\n<polygon fill=\"black\" stroke=\"black\" points=\"2246.93,-712.45 2256.18,-707.28 2245.73,-705.56 2246.93,-712.45\"/>\n</g>\n<!-- 140234581681680 -->\n<g id=\"node58\" class=\"node\">\n<title>140234581681680</title>\n<polygon fill=\"none\" stroke=\"black\" points=\"322,-55.5 322,-91.5 527,-91.5 527,-55.5 322,-55.5\"/>\n<text text-anchor=\"middle\" x=\"341\" y=\"-69.8\" font-family=\"Times,serif\" font-size=\"14.00\">&#45;1.0</text>\n<polyline fill=\"none\" stroke=\"black\" points=\"360,-55.5 360,-91.5 \"/>\n<text text-anchor=\"middle\" x=\"402.5\" y=\"-69.8\" font-family=\"Times,serif\" font-size=\"14.00\">data &#45;1.0000</text>\n<polyline fill=\"none\" stroke=\"black\" points=\"445,-55.5 445,-91.5 \"/>\n<text text-anchor=\"middle\" x=\"486\" y=\"-69.8\" font-family=\"Times,serif\" font-size=\"14.00\">grad 0.0000</text>\n</g>\n<!-- 140234581681728* -->\n<g id=\"node62\" class=\"node\">\n<title>140234581681728*</title>\n<ellipse fill=\"none\" stroke=\"black\" cx=\"590\" cy=\"-73.5\" rx=\"27\" ry=\"18\"/>\n<text text-anchor=\"middle\" x=\"590\" y=\"-69.8\" font-family=\"Times,serif\" font-size=\"14.00\">*</text>\n</g>\n<!-- 140234581681680&#45;&gt;140234581681728* -->\n<g id=\"edge78\" class=\"edge\">\n<title>140234581681680&#45;&gt;140234581681728*</title>\n<path fill=\"none\" stroke=\"black\" d=\"M527.19,-73.5C536.21,-73.5 544.88,-73.5 552.73,-73.5\"/>\n<polygon fill=\"black\" stroke=\"black\" points=\"552.89,-77 562.89,-73.5 552.89,-70 552.89,-77\"/>\n</g>\n<!-- 140234582074896 -->\n<g id=\"node59\" class=\"node\">\n<title>140234582074896</title>\n<polygon fill=\"none\" stroke=\"black\" points=\"3506,-673.5 3506,-709.5 3693,-709.5 3693,-673.5 3506,-673.5\"/>\n<text text-anchor=\"middle\" x=\"3516\" y=\"-687.8\" font-family=\"Times,serif\" font-size=\"14.00\"> </text>\n<polyline fill=\"none\" stroke=\"black\" points=\"3526,-673.5 3526,-709.5 \"/>\n<text text-anchor=\"middle\" x=\"3568.5\" y=\"-687.8\" font-family=\"Times,serif\" font-size=\"14.00\">data &#45;0.1902</text>\n<polyline fill=\"none\" stroke=\"black\" points=\"3611,-673.5 3611,-709.5 \"/>\n<text text-anchor=\"middle\" x=\"3652\" y=\"-687.8\" font-family=\"Times,serif\" font-size=\"14.00\">grad 0.0000</text>\n</g>\n<!-- 140234581731552* -->\n<g id=\"node86\" class=\"node\">\n<title>140234581731552*</title>\n<ellipse fill=\"none\" stroke=\"black\" cx=\"3756\" cy=\"-636.5\" rx=\"27\" ry=\"18\"/>\n<text text-anchor=\"middle\" x=\"3756\" y=\"-632.8\" font-family=\"Times,serif\" font-size=\"14.00\">*</text>\n</g>\n<!-- 140234582074896&#45;&gt;140234581731552* -->\n<g id=\"edge119\" class=\"edge\">\n<title>140234582074896&#45;&gt;140234581731552*</title>\n<path fill=\"none\" stroke=\"black\" d=\"M3666.56,-673.45C3675.51,-670.64 3684.53,-667.63 3693,-664.5 3703.49,-660.62 3714.71,-655.78 3724.68,-651.22\"/>\n<polygon fill=\"black\" stroke=\"black\" points=\"3726.2,-654.37 3733.79,-646.97 3723.25,-648.02 3726.2,-654.37\"/>\n</g>\n<!-- 140234582074944 -->\n<g id=\"node60\" class=\"node\">\n<title>140234582074944</title>\n<polygon fill=\"none\" stroke=\"black\" points=\"3508.5,-288.5 3508.5,-324.5 3690.5,-324.5 3690.5,-288.5 3508.5,-288.5\"/>\n<text text-anchor=\"middle\" x=\"3518.5\" y=\"-302.8\" font-family=\"Times,serif\" font-size=\"14.00\"> </text>\n<polyline fill=\"none\" stroke=\"black\" points=\"3528.5,-288.5 3528.5,-324.5 \"/>\n<text text-anchor=\"middle\" x=\"3568.5\" y=\"-302.8\" font-family=\"Times,serif\" font-size=\"14.00\">data 0.0981</text>\n<polyline fill=\"none\" stroke=\"black\" points=\"3608.5,-288.5 3608.5,-324.5 \"/>\n<text text-anchor=\"middle\" x=\"3649.5\" y=\"-302.8\" font-family=\"Times,serif\" font-size=\"14.00\">grad 0.0000</text>\n</g>\n<!-- 140234582074944&#45;&gt;140234581731984* -->\n<g id=\"edge74\" class=\"edge\">\n<title>140234582074944&#45;&gt;140234581731984*</title>\n<path fill=\"none\" stroke=\"black\" d=\"M3664.02,-324.65C3673.79,-327.76 3683.71,-331.08 3693,-334.5 3703.25,-338.27 3714.23,-342.86 3724.07,-347.18\"/>\n<polygon fill=\"black\" stroke=\"black\" points=\"3722.89,-350.49 3733.45,-351.37 3725.74,-344.1 3722.89,-350.49\"/>\n</g>\n<!-- 140234581681728 -->\n<g id=\"node61\" class=\"node\">\n<title>140234581681728</title>\n<polygon fill=\"none\" stroke=\"black\" points=\"664.5,-57.5 664.5,-93.5 846.5,-93.5 846.5,-57.5 664.5,-57.5\"/>\n<text text-anchor=\"middle\" x=\"674.5\" y=\"-71.8\" font-family=\"Times,serif\" font-size=\"14.00\"> </text>\n<polyline fill=\"none\" stroke=\"black\" points=\"684.5,-57.5 684.5,-93.5 \"/>\n<text text-anchor=\"middle\" x=\"724.5\" y=\"-71.8\" font-family=\"Times,serif\" font-size=\"14.00\">data 0.9153</text>\n<polyline fill=\"none\" stroke=\"black\" points=\"764.5,-57.5 764.5,-93.5 \"/>\n<text text-anchor=\"middle\" x=\"805.5\" y=\"-71.8\" font-family=\"Times,serif\" font-size=\"14.00\">grad 0.0000</text>\n</g>\n<!-- 140234581681728&#45;&gt;140234581681920+ -->\n<g id=\"edge104\" class=\"edge\">\n<title>140234581681728&#45;&gt;140234581681920+</title>\n<path fill=\"none\" stroke=\"black\" d=\"M827.38,-93.54C837.73,-96.61 848.2,-99.96 858,-103.5 868.52,-107.3 879.75,-112.12 889.71,-116.69\"/>\n<polygon fill=\"black\" stroke=\"black\" points=\"888.28,-119.88 898.82,-120.95 891.24,-113.54 888.28,-119.88\"/>\n</g>\n<!-- 140234581681728*&#45;&gt;140234581681728 -->\n<g id=\"edge21\" class=\"edge\">\n<title>140234581681728*&#45;&gt;140234581681728</title>\n<path fill=\"none\" stroke=\"black\" d=\"M617.27,-73.82C627.7,-73.95 640.41,-74.1 653.84,-74.27\"/>\n<polygon fill=\"black\" stroke=\"black\" points=\"654.19,-77.77 664.23,-74.4 654.27,-70.77 654.19,-77.77\"/>\n</g>\n<!-- 140234581730880 -->\n<g id=\"node63\" class=\"node\">\n<title>140234581730880</title>\n<polygon fill=\"none\" stroke=\"black\" points=\"3819,-508.5 3819,-544.5 4006,-544.5 4006,-508.5 3819,-508.5\"/>\n<text text-anchor=\"middle\" x=\"3829\" y=\"-522.8\" font-family=\"Times,serif\" font-size=\"14.00\"> </text>\n<polyline fill=\"none\" stroke=\"black\" points=\"3839,-508.5 3839,-544.5 \"/>\n<text text-anchor=\"middle\" x=\"3881.5\" y=\"-522.8\" font-family=\"Times,serif\" font-size=\"14.00\">data &#45;0.4085</text>\n<polyline fill=\"none\" stroke=\"black\" points=\"3924,-508.5 3924,-544.5 \"/>\n<text text-anchor=\"middle\" x=\"3965\" y=\"-522.8\" font-family=\"Times,serif\" font-size=\"14.00\">grad 0.0000</text>\n</g>\n<!-- 140234581731312+ -->\n<g id=\"node78\" class=\"node\">\n<title>140234581731312+</title>\n<ellipse fill=\"none\" stroke=\"black\" cx=\"4133\" cy=\"-492.5\" rx=\"27\" ry=\"18\"/>\n<text text-anchor=\"middle\" x=\"4133\" y=\"-488.8\" font-family=\"Times,serif\" font-size=\"14.00\">+</text>\n</g>\n<!-- 140234581730880&#45;&gt;140234581731312+ -->\n<g id=\"edge83\" class=\"edge\">\n<title>140234581730880&#45;&gt;140234581731312+</title>\n<path fill=\"none\" stroke=\"black\" d=\"M4006.16,-512.08C4038.12,-507.11 4072.02,-501.83 4096.57,-498.01\"/>\n<polygon fill=\"black\" stroke=\"black\" points=\"4097.14,-501.47 4106.48,-496.47 4096.06,-494.55 4097.14,-501.47\"/>\n</g>\n<!-- 140234581730880*&#45;&gt;140234581730880 -->\n<g id=\"edge22\" class=\"edge\">\n<title>140234581730880*&#45;&gt;140234581730880</title>\n<path fill=\"none\" stroke=\"black\" d=\"M3783.21,-526.5C3790.73,-526.5 3799.43,-526.5 3808.67,-526.5\"/>\n<polygon fill=\"black\" stroke=\"black\" points=\"3808.89,-530 3818.89,-526.5 3808.89,-523 3808.89,-530\"/>\n</g>\n<!-- 140234582017648 -->\n<g id=\"node65\" class=\"node\">\n<title>140234582017648</title>\n<polygon fill=\"none\" stroke=\"black\" points=\"662,-413.5 662,-449.5 849,-449.5 849,-413.5 662,-413.5\"/>\n<text text-anchor=\"middle\" x=\"672\" y=\"-427.8\" font-family=\"Times,serif\" font-size=\"14.00\"> </text>\n<polyline fill=\"none\" stroke=\"black\" points=\"682,-413.5 682,-449.5 \"/>\n<text text-anchor=\"middle\" x=\"724.5\" y=\"-427.8\" font-family=\"Times,serif\" font-size=\"14.00\">data &#45;0.7563</text>\n<polyline fill=\"none\" stroke=\"black\" points=\"767,-413.5 767,-449.5 \"/>\n<text text-anchor=\"middle\" x=\"808\" y=\"-427.8\" font-family=\"Times,serif\" font-size=\"14.00\">grad 0.0000</text>\n</g>\n<!-- 140234582017648&#45;&gt;140234581680240+ -->\n<g id=\"edge118\" class=\"edge\">\n<title>140234582017648&#45;&gt;140234581680240+</title>\n<path fill=\"none\" stroke=\"black\" d=\"M840.64,-413.49C856.33,-410.13 871.89,-406.8 885.03,-403.99\"/>\n<polygon fill=\"black\" stroke=\"black\" points=\"885.95,-407.37 895,-401.85 884.49,-400.52 885.95,-407.37\"/>\n</g>\n<!-- 140234582017648* -->\n<g id=\"node66\" class=\"node\">\n<title>140234582017648*</title>\n<ellipse fill=\"none\" stroke=\"black\" cx=\"590\" cy=\"-431.5\" rx=\"27\" ry=\"18\"/>\n<text text-anchor=\"middle\" x=\"590\" y=\"-427.8\" font-family=\"Times,serif\" font-size=\"14.00\">*</text>\n</g>\n<!-- 140234582017648*&#45;&gt;140234582017648 -->\n<g id=\"edge23\" class=\"edge\">\n<title>140234582017648*&#45;&gt;140234582017648</title>\n<path fill=\"none\" stroke=\"black\" d=\"M617.27,-431.5C627.1,-431.5 638.95,-431.5 651.53,-431.5\"/>\n<polygon fill=\"black\" stroke=\"black\" points=\"651.74,-435 661.74,-431.5 651.74,-428 651.74,-435\"/>\n</g>\n<!-- 140234582074992 -->\n<g id=\"node67\" class=\"node\">\n<title>140234582074992</title>\n<polygon fill=\"none\" stroke=\"black\" points=\"4888.5,-501.5 4888.5,-537.5 5070.5,-537.5 5070.5,-501.5 4888.5,-501.5\"/>\n<text text-anchor=\"middle\" x=\"4898.5\" y=\"-515.8\" font-family=\"Times,serif\" font-size=\"14.00\"> </text>\n<polyline fill=\"none\" stroke=\"black\" points=\"4908.5,-501.5 4908.5,-537.5 \"/>\n<text text-anchor=\"middle\" x=\"4948.5\" y=\"-515.8\" font-family=\"Times,serif\" font-size=\"14.00\">data 0.8482</text>\n<polyline fill=\"none\" stroke=\"black\" points=\"4988.5,-501.5 4988.5,-537.5 \"/>\n<text text-anchor=\"middle\" x=\"5029.5\" y=\"-515.8\" font-family=\"Times,serif\" font-size=\"14.00\">grad 0.0000</text>\n</g>\n<!-- 140234581732368+ -->\n<g id=\"node108\" class=\"node\">\n<title>140234581732368+</title>\n<ellipse fill=\"none\" stroke=\"black\" cx=\"5136\" cy=\"-491.5\" rx=\"27\" ry=\"18\"/>\n<text text-anchor=\"middle\" x=\"5136\" y=\"-487.8\" font-family=\"Times,serif\" font-size=\"14.00\">+</text>\n</g>\n<!-- 140234582074992&#45;&gt;140234581732368+ -->\n<g id=\"edge210\" class=\"edge\">\n<title>140234582074992&#45;&gt;140234581732368+</title>\n<path fill=\"none\" stroke=\"black\" d=\"M5070.82,-503.13C5081.07,-501.27 5091.01,-499.47 5099.88,-497.87\"/>\n<polygon fill=\"black\" stroke=\"black\" points=\"5100.54,-501.3 5109.75,-496.08 5099.29,-494.42 5100.54,-501.3\"/>\n</g>\n<!-- 140234581681920 -->\n<g id=\"node68\" class=\"node\">\n<title>140234581681920</title>\n<polygon fill=\"none\" stroke=\"black\" points=\"995.5,-113.5 995.5,-149.5 1177.5,-149.5 1177.5,-113.5 995.5,-113.5\"/>\n<text text-anchor=\"middle\" x=\"1005.5\" y=\"-127.8\" font-family=\"Times,serif\" font-size=\"14.00\"> </text>\n<polyline fill=\"none\" stroke=\"black\" points=\"1015.5,-113.5 1015.5,-149.5 \"/>\n<text text-anchor=\"middle\" x=\"1055.5\" y=\"-127.8\" font-family=\"Times,serif\" font-size=\"14.00\">data 1.4397</text>\n<polyline fill=\"none\" stroke=\"black\" points=\"1095.5,-113.5 1095.5,-149.5 \"/>\n<text text-anchor=\"middle\" x=\"1136.5\" y=\"-127.8\" font-family=\"Times,serif\" font-size=\"14.00\">grad 0.0000</text>\n</g>\n<!-- 140234581682112+ -->\n<g id=\"node76\" class=\"node\">\n<title>140234581682112+</title>\n<ellipse fill=\"none\" stroke=\"black\" cx=\"1252\" cy=\"-131.5\" rx=\"27\" ry=\"18\"/>\n<text text-anchor=\"middle\" x=\"1252\" y=\"-127.8\" font-family=\"Times,serif\" font-size=\"14.00\">+</text>\n</g>\n<!-- 140234581681920&#45;&gt;140234581682112+ -->\n<g id=\"edge191\" class=\"edge\">\n<title>140234581681920&#45;&gt;140234581682112+</title>\n<path fill=\"none\" stroke=\"black\" d=\"M1177.86,-131.5C1190.84,-131.5 1203.53,-131.5 1214.6,-131.5\"/>\n<polygon fill=\"black\" stroke=\"black\" points=\"1214.67,-135 1224.67,-131.5 1214.67,-128 1214.67,-135\"/>\n</g>\n<!-- 140234581681920+&#45;&gt;140234581681920 -->\n<g id=\"edge24\" class=\"edge\">\n<title>140234581681920+&#45;&gt;140234581681920</title>\n<path fill=\"none\" stroke=\"black\" d=\"M948.27,-131.5C958.7,-131.5 971.41,-131.5 984.84,-131.5\"/>\n<polygon fill=\"black\" stroke=\"black\" points=\"985.23,-135 995.23,-131.5 985.23,-128 985.23,-135\"/>\n</g>\n<!-- 140234582017792 -->\n<g id=\"node70\" class=\"node\">\n<title>140234582017792</title>\n<polygon fill=\"none\" stroke=\"black\" points=\"322,-468.5 322,-504.5 527,-504.5 527,-468.5 322,-468.5\"/>\n<text text-anchor=\"middle\" x=\"341\" y=\"-482.8\" font-family=\"Times,serif\" font-size=\"14.00\">&#45;1.0</text>\n<polyline fill=\"none\" stroke=\"black\" points=\"360,-468.5 360,-504.5 \"/>\n<text text-anchor=\"middle\" x=\"402.5\" y=\"-482.8\" font-family=\"Times,serif\" font-size=\"14.00\">data &#45;1.0000</text>\n<polyline fill=\"none\" stroke=\"black\" points=\"445,-468.5 445,-504.5 \"/>\n<text text-anchor=\"middle\" x=\"486\" y=\"-482.8\" font-family=\"Times,serif\" font-size=\"14.00\">grad 0.0000</text>\n</g>\n<!-- 140234582017792&#45;&gt;140234582017648* -->\n<g id=\"edge209\" class=\"edge\">\n<title>140234582017792&#45;&gt;140234582017648*</title>\n<path fill=\"none\" stroke=\"black\" d=\"M499.12,-468.45C508.58,-465.68 518.07,-462.68 527,-459.5 537.54,-455.75 548.77,-450.94 558.73,-446.37\"/>\n<polygon fill=\"black\" stroke=\"black\" points=\"560.27,-449.51 567.84,-442.1 557.3,-443.18 560.27,-449.51\"/>\n</g>\n<!-- 140234581698304 -->\n<g id=\"node71\" class=\"node\">\n<title>140234581698304</title>\n<polygon fill=\"none\" stroke=\"black\" points=\"1943.5,-398.5 1943.5,-434.5 2125.5,-434.5 2125.5,-398.5 1943.5,-398.5\"/>\n<text text-anchor=\"middle\" x=\"1953.5\" y=\"-412.8\" font-family=\"Times,serif\" font-size=\"14.00\"> </text>\n<polyline fill=\"none\" stroke=\"black\" points=\"1963.5,-398.5 1963.5,-434.5 \"/>\n<text text-anchor=\"middle\" x=\"2003.5\" y=\"-412.8\" font-family=\"Times,serif\" font-size=\"14.00\">data 0.1388</text>\n<polyline fill=\"none\" stroke=\"black\" points=\"2043.5,-398.5 2043.5,-434.5 \"/>\n<text text-anchor=\"middle\" x=\"2084.5\" y=\"-412.8\" font-family=\"Times,serif\" font-size=\"14.00\">grad 0.0000</text>\n</g>\n<!-- 140234581698736+ -->\n<g id=\"node84\" class=\"node\">\n<title>140234581698736+</title>\n<ellipse fill=\"none\" stroke=\"black\" cx=\"2191\" cy=\"-416.5\" rx=\"27\" ry=\"18\"/>\n<text text-anchor=\"middle\" x=\"2191\" y=\"-412.8\" font-family=\"Times,serif\" font-size=\"14.00\">+</text>\n</g>\n<!-- 140234581698304&#45;&gt;140234581698736+ -->\n<g id=\"edge136\" class=\"edge\">\n<title>140234581698304&#45;&gt;140234581698736+</title>\n<path fill=\"none\" stroke=\"black\" d=\"M2125.82,-416.5C2135.57,-416.5 2145.04,-416.5 2153.57,-416.5\"/>\n<polygon fill=\"black\" stroke=\"black\" points=\"2153.83,-420 2163.83,-416.5 2153.83,-413 2153.83,-420\"/>\n</g>\n<!-- 140234581698304*&#45;&gt;140234581698304 -->\n<g id=\"edge25\" class=\"edge\">\n<title>140234581698304*&#45;&gt;140234581698304</title>\n<path fill=\"none\" stroke=\"black\" d=\"M1905.21,-416.5C1913.34,-416.5 1922.85,-416.5 1932.94,-416.5\"/>\n<polygon fill=\"black\" stroke=\"black\" points=\"1933.19,-420 1943.19,-416.5 1933.19,-413 1933.19,-420\"/>\n</g>\n<!-- 140234581731120 -->\n<g id=\"node73\" class=\"node\">\n<title>140234581731120</title>\n<polygon fill=\"none\" stroke=\"black\" points=\"3821.5,-453.5 3821.5,-489.5 4003.5,-489.5 4003.5,-453.5 3821.5,-453.5\"/>\n<text text-anchor=\"middle\" x=\"3831.5\" y=\"-467.8\" font-family=\"Times,serif\" font-size=\"14.00\"> </text>\n<polyline fill=\"none\" stroke=\"black\" points=\"3841.5,-453.5 3841.5,-489.5 \"/>\n<text text-anchor=\"middle\" x=\"3881.5\" y=\"-467.8\" font-family=\"Times,serif\" font-size=\"14.00\">data 0.0871</text>\n<polyline fill=\"none\" stroke=\"black\" points=\"3921.5,-453.5 3921.5,-489.5 \"/>\n<text text-anchor=\"middle\" x=\"3962.5\" y=\"-467.8\" font-family=\"Times,serif\" font-size=\"14.00\">grad 0.0000</text>\n</g>\n<!-- 140234581731120&#45;&gt;140234581731312+ -->\n<g id=\"edge189\" class=\"edge\">\n<title>140234581731120&#45;&gt;140234581731312+</title>\n<path fill=\"none\" stroke=\"black\" d=\"M4003.63,-480.16C4035.93,-483.27 4070.53,-486.59 4095.66,-489.01\"/>\n<polygon fill=\"black\" stroke=\"black\" points=\"4095.53,-492.51 4105.82,-489.98 4096.2,-485.54 4095.53,-492.51\"/>\n</g>\n<!-- 140234581731120*&#45;&gt;140234581731120 -->\n<g id=\"edge26\" class=\"edge\">\n<title>140234581731120*&#45;&gt;140234581731120</title>\n<path fill=\"none\" stroke=\"black\" d=\"M3783.21,-471.5C3791.34,-471.5 3800.85,-471.5 3810.94,-471.5\"/>\n<polygon fill=\"black\" stroke=\"black\" points=\"3811.19,-475 3821.19,-471.5 3811.19,-468 3811.19,-475\"/>\n</g>\n<!-- 140234581682112 -->\n<g id=\"node75\" class=\"node\">\n<title>140234581682112</title>\n<polygon fill=\"none\" stroke=\"black\" points=\"1317.5,-120.5 1317.5,-156.5 1499.5,-156.5 1499.5,-120.5 1317.5,-120.5\"/>\n<text text-anchor=\"middle\" x=\"1327.5\" y=\"-134.8\" font-family=\"Times,serif\" font-size=\"14.00\"> </text>\n<polyline fill=\"none\" stroke=\"black\" points=\"1337.5,-120.5 1337.5,-156.5 \"/>\n<text text-anchor=\"middle\" x=\"1377.5\" y=\"-134.8\" font-family=\"Times,serif\" font-size=\"14.00\">data 2.1101</text>\n<polyline fill=\"none\" stroke=\"black\" points=\"1417.5,-120.5 1417.5,-156.5 \"/>\n<text text-anchor=\"middle\" x=\"1458.5\" y=\"-134.8\" font-family=\"Times,serif\" font-size=\"14.00\">grad 0.0000</text>\n</g>\n<!-- 140234581682352tanh -->\n<g id=\"node82\" class=\"node\">\n<title>140234581682352tanh</title>\n<ellipse fill=\"none\" stroke=\"black\" cx=\"1565\" cy=\"-141.5\" rx=\"27\" ry=\"18\"/>\n<text text-anchor=\"middle\" x=\"1565\" y=\"-137.8\" font-family=\"Times,serif\" font-size=\"14.00\">tanh</text>\n</g>\n<!-- 140234581682112&#45;&gt;140234581682352tanh -->\n<g id=\"edge183\" class=\"edge\">\n<title>140234581682112&#45;&gt;140234581682352tanh</title>\n<path fill=\"none\" stroke=\"black\" d=\"M1499.82,-140.25C1509.57,-140.44 1519.04,-140.63 1527.57,-140.79\"/>\n<polygon fill=\"black\" stroke=\"black\" points=\"1527.76,-144.3 1537.83,-140.99 1527.9,-137.3 1527.76,-144.3\"/>\n</g>\n<!-- 140234581682112+&#45;&gt;140234581682112 -->\n<g id=\"edge27\" class=\"edge\">\n<title>140234581682112+&#45;&gt;140234581682112</title>\n<path fill=\"none\" stroke=\"black\" d=\"M1279.21,-132.69C1287.34,-133.06 1296.85,-133.49 1306.94,-133.94\"/>\n<polygon fill=\"black\" stroke=\"black\" points=\"1307.04,-137.45 1317.19,-134.41 1307.36,-130.46 1307.04,-137.45\"/>\n</g>\n<!-- 140234581731312 -->\n<g id=\"node77\" class=\"node\">\n<title>140234581731312</title>\n<polygon fill=\"none\" stroke=\"black\" points=\"4260,-474.5 4260,-510.5 4447,-510.5 4447,-474.5 4260,-474.5\"/>\n<text text-anchor=\"middle\" x=\"4270\" y=\"-488.8\" font-family=\"Times,serif\" font-size=\"14.00\"> </text>\n<polyline fill=\"none\" stroke=\"black\" points=\"4280,-474.5 4280,-510.5 \"/>\n<text text-anchor=\"middle\" x=\"4322.5\" y=\"-488.8\" font-family=\"Times,serif\" font-size=\"14.00\">data &#45;0.3213</text>\n<polyline fill=\"none\" stroke=\"black\" points=\"4365,-474.5 4365,-510.5 \"/>\n<text text-anchor=\"middle\" x=\"4406\" y=\"-488.8\" font-family=\"Times,serif\" font-size=\"14.00\">grad 0.0000</text>\n</g>\n<!-- 140234581731744+ -->\n<g id=\"node89\" class=\"node\">\n<title>140234581731744+</title>\n<ellipse fill=\"none\" stroke=\"black\" cx=\"4510\" cy=\"-492.5\" rx=\"27\" ry=\"18\"/>\n<text text-anchor=\"middle\" x=\"4510\" y=\"-488.8\" font-family=\"Times,serif\" font-size=\"14.00\">+</text>\n</g>\n<!-- 140234581731312&#45;&gt;140234581731744+ -->\n<g id=\"edge181\" class=\"edge\">\n<title>140234581731312&#45;&gt;140234581731744+</title>\n<path fill=\"none\" stroke=\"black\" d=\"M4447.05,-492.5C4456.06,-492.5 4464.79,-492.5 4472.7,-492.5\"/>\n<polygon fill=\"black\" stroke=\"black\" points=\"4472.95,-496 4482.95,-492.5 4472.95,-489 4472.95,-496\"/>\n</g>\n<!-- 140234581731312+&#45;&gt;140234581731312 -->\n<g id=\"edge28\" class=\"edge\">\n<title>140234581731312+&#45;&gt;140234581731312</title>\n<path fill=\"none\" stroke=\"black\" d=\"M4160.36,-492.5C4182.78,-492.5 4216.51,-492.5 4249.48,-492.5\"/>\n<polygon fill=\"black\" stroke=\"black\" points=\"4249.67,-496 4259.67,-492.5 4249.67,-489 4249.67,-496\"/>\n</g>\n<!-- 140234581698544 -->\n<g id=\"node79\" class=\"node\">\n<title>140234581698544</title>\n<polygon fill=\"none\" stroke=\"black\" points=\"1941,-343.5 1941,-379.5 2128,-379.5 2128,-343.5 1941,-343.5\"/>\n<text text-anchor=\"middle\" x=\"1951\" y=\"-357.8\" font-family=\"Times,serif\" font-size=\"14.00\"> </text>\n<polyline fill=\"none\" stroke=\"black\" points=\"1961,-343.5 1961,-379.5 \"/>\n<text text-anchor=\"middle\" x=\"2003.5\" y=\"-357.8\" font-family=\"Times,serif\" font-size=\"14.00\">data &#45;0.1583</text>\n<polyline fill=\"none\" stroke=\"black\" points=\"2046,-343.5 2046,-379.5 \"/>\n<text text-anchor=\"middle\" x=\"2087\" y=\"-357.8\" font-family=\"Times,serif\" font-size=\"14.00\">grad 0.0000</text>\n</g>\n<!-- 140234581698544&#45;&gt;140234581698736+ -->\n<g id=\"edge172\" class=\"edge\">\n<title>140234581698544&#45;&gt;140234581698736+</title>\n<path fill=\"none\" stroke=\"black\" d=\"M2099.02,-379.65C2108.79,-382.76 2118.71,-386.08 2128,-389.5 2138.25,-393.27 2149.23,-397.86 2159.07,-402.18\"/>\n<polygon fill=\"black\" stroke=\"black\" points=\"2157.89,-405.49 2168.45,-406.37 2160.74,-399.1 2157.89,-405.49\"/>\n</g>\n<!-- 140234581698544* -->\n<g id=\"node80\" class=\"node\">\n<title>140234581698544*</title>\n<ellipse fill=\"none\" stroke=\"black\" cx=\"1878\" cy=\"-196.5\" rx=\"27\" ry=\"18\"/>\n<text text-anchor=\"middle\" x=\"1878\" y=\"-192.8\" font-family=\"Times,serif\" font-size=\"14.00\">*</text>\n</g>\n<!-- 140234581698544*&#45;&gt;140234581698544 -->\n<g id=\"edge29\" class=\"edge\">\n<title>140234581698544*&#45;&gt;140234581698544</title>\n<path fill=\"none\" stroke=\"black\" d=\"M1894.61,-210.93C1898.4,-215.03 1902.17,-219.7 1905,-224.5 1931.11,-268.82 1904.04,-298.72 1941,-334.5 1942.09,-335.55 1943.22,-336.57 1944.38,-337.54\"/>\n<polygon fill=\"black\" stroke=\"black\" points=\"1942.36,-340.4 1952.51,-343.42 1946.46,-334.73 1942.36,-340.4\"/>\n</g>\n<!-- 140234581682352 -->\n<g id=\"node81\" class=\"node\">\n<title>140234581682352</title>\n<polygon fill=\"none\" stroke=\"black\" points=\"1630.5,-123.5 1630.5,-159.5 1812.5,-159.5 1812.5,-123.5 1630.5,-123.5\"/>\n<text text-anchor=\"middle\" x=\"1640.5\" y=\"-137.8\" font-family=\"Times,serif\" font-size=\"14.00\"> </text>\n<polyline fill=\"none\" stroke=\"black\" points=\"1650.5,-123.5 1650.5,-159.5 \"/>\n<text text-anchor=\"middle\" x=\"1690.5\" y=\"-137.8\" font-family=\"Times,serif\" font-size=\"14.00\">data 0.9710</text>\n<polyline fill=\"none\" stroke=\"black\" points=\"1730.5,-123.5 1730.5,-159.5 \"/>\n<text text-anchor=\"middle\" x=\"1771.5\" y=\"-137.8\" font-family=\"Times,serif\" font-size=\"14.00\">grad 0.0000</text>\n</g>\n<!-- 140234581682352&#45;&gt;140234581698544* -->\n<g id=\"edge99\" class=\"edge\">\n<title>140234581682352&#45;&gt;140234581698544*</title>\n<path fill=\"none\" stroke=\"black\" d=\"M1788.56,-159.55C1797.51,-162.36 1806.53,-165.37 1815,-168.5 1825.49,-172.38 1836.71,-177.22 1846.68,-181.78\"/>\n<polygon fill=\"black\" stroke=\"black\" points=\"1845.25,-184.98 1855.79,-186.03 1848.2,-178.63 1845.25,-184.98\"/>\n</g>\n<!-- 140234581700512* -->\n<g id=\"node129\" class=\"node\">\n<title>140234581700512*</title>\n<ellipse fill=\"none\" stroke=\"black\" cx=\"1878\" cy=\"-141.5\" rx=\"27\" ry=\"18\"/>\n<text text-anchor=\"middle\" x=\"1878\" y=\"-137.8\" font-family=\"Times,serif\" font-size=\"14.00\">*</text>\n</g>\n<!-- 140234581682352&#45;&gt;140234581700512* -->\n<g id=\"edge123\" class=\"edge\">\n<title>140234581682352&#45;&gt;140234581700512*</title>\n<path fill=\"none\" stroke=\"black\" d=\"M1812.82,-141.5C1822.57,-141.5 1832.04,-141.5 1840.57,-141.5\"/>\n<polygon fill=\"black\" stroke=\"black\" points=\"1840.83,-145 1850.83,-141.5 1840.83,-138 1840.83,-145\"/>\n</g>\n<!-- 140234581682352&#45;&gt;140234581710736* -->\n<g id=\"edge171\" class=\"edge\">\n<title>140234581682352&#45;&gt;140234581710736*</title>\n<path fill=\"none\" stroke=\"black\" d=\"M1805.57,-159.65C1809.03,-162.23 1812.21,-165.17 1815,-168.5 1862.53,-225.21 1832.5,-427.86 1851,-499.5 1854.13,-511.61 1859.19,-524.45 1864.03,-535.29\"/>\n<polygon fill=\"black\" stroke=\"black\" points=\"1860.96,-536.99 1868.34,-544.59 1867.31,-534.05 1860.96,-536.99\"/>\n</g>\n<!-- 140234581682352&#45;&gt;140234581712704* -->\n<g id=\"edge198\" class=\"edge\">\n<title>140234581682352&#45;&gt;140234581712704*</title>\n<path fill=\"none\" stroke=\"black\" d=\"M1797.64,-123.32C1803.75,-120.49 1809.63,-117.24 1815,-113.5 1835.7,-99.07 1852.44,-75.58 1863.29,-57.43\"/>\n<polygon fill=\"black\" stroke=\"black\" points=\"1866.47,-58.91 1868.41,-48.5 1860.4,-55.43 1866.47,-58.91\"/>\n</g>\n<!-- 140234581682352tanh&#45;&gt;140234581682352 -->\n<g id=\"edge30\" class=\"edge\">\n<title>140234581682352tanh&#45;&gt;140234581682352</title>\n<path fill=\"none\" stroke=\"black\" d=\"M1592.21,-141.5C1600.34,-141.5 1609.85,-141.5 1619.94,-141.5\"/>\n<polygon fill=\"black\" stroke=\"black\" points=\"1620.19,-145 1630.19,-141.5 1620.19,-138 1620.19,-145\"/>\n</g>\n<!-- 140234581698736 -->\n<g id=\"node83\" class=\"node\">\n<title>140234581698736</title>\n<polygon fill=\"none\" stroke=\"black\" points=\"2254,-398.5 2254,-434.5 2441,-434.5 2441,-398.5 2254,-398.5\"/>\n<text text-anchor=\"middle\" x=\"2264\" y=\"-412.8\" font-family=\"Times,serif\" font-size=\"14.00\"> </text>\n<polyline fill=\"none\" stroke=\"black\" points=\"2274,-398.5 2274,-434.5 \"/>\n<text text-anchor=\"middle\" x=\"2316.5\" y=\"-412.8\" font-family=\"Times,serif\" font-size=\"14.00\">data &#45;0.0195</text>\n<polyline fill=\"none\" stroke=\"black\" points=\"2359,-398.5 2359,-434.5 \"/>\n<text text-anchor=\"middle\" x=\"2400\" y=\"-412.8\" font-family=\"Times,serif\" font-size=\"14.00\">grad 0.0000</text>\n</g>\n<!-- 140234581699168+ -->\n<g id=\"node95\" class=\"node\">\n<title>140234581699168+</title>\n<ellipse fill=\"none\" stroke=\"black\" cx=\"2504\" cy=\"-471.5\" rx=\"27\" ry=\"18\"/>\n<text text-anchor=\"middle\" x=\"2504\" y=\"-467.8\" font-family=\"Times,serif\" font-size=\"14.00\">+</text>\n</g>\n<!-- 140234581698736&#45;&gt;140234581699168+ -->\n<g id=\"edge129\" class=\"edge\">\n<title>140234581698736&#45;&gt;140234581699168+</title>\n<path fill=\"none\" stroke=\"black\" d=\"M2412.02,-434.65C2421.79,-437.76 2431.71,-441.08 2441,-444.5 2451.25,-448.27 2462.23,-452.86 2472.07,-457.18\"/>\n<polygon fill=\"black\" stroke=\"black\" points=\"2470.89,-460.49 2481.45,-461.37 2473.74,-454.1 2470.89,-460.49\"/>\n</g>\n<!-- 140234581698736+&#45;&gt;140234581698736 -->\n<g id=\"edge31\" class=\"edge\">\n<title>140234581698736+&#45;&gt;140234581698736</title>\n<path fill=\"none\" stroke=\"black\" d=\"M2218.21,-416.5C2225.73,-416.5 2234.43,-416.5 2243.67,-416.5\"/>\n<polygon fill=\"black\" stroke=\"black\" points=\"2243.89,-420 2253.89,-416.5 2243.89,-413 2243.89,-420\"/>\n</g>\n<!-- 140234581731552 -->\n<g id=\"node85\" class=\"node\">\n<title>140234581731552</title>\n<polygon fill=\"none\" stroke=\"black\" points=\"4260,-548.5 4260,-584.5 4447,-584.5 4447,-548.5 4260,-548.5\"/>\n<text text-anchor=\"middle\" x=\"4270\" y=\"-562.8\" font-family=\"Times,serif\" font-size=\"14.00\"> </text>\n<polyline fill=\"none\" stroke=\"black\" points=\"4280,-548.5 4280,-584.5 \"/>\n<text text-anchor=\"middle\" x=\"4322.5\" y=\"-562.8\" font-family=\"Times,serif\" font-size=\"14.00\">data &#45;0.1847</text>\n<polyline fill=\"none\" stroke=\"black\" points=\"4365,-548.5 4365,-584.5 \"/>\n<text text-anchor=\"middle\" x=\"4406\" y=\"-562.8\" font-family=\"Times,serif\" font-size=\"14.00\">grad 0.0000</text>\n</g>\n<!-- 140234581731552&#45;&gt;140234581731744+ -->\n<g id=\"edge87\" class=\"edge\">\n<title>140234581731552&#45;&gt;140234581731744+</title>\n<path fill=\"none\" stroke=\"black\" d=\"M4392.29,-548.4C4418.64,-535.78 4453.34,-519.16 4478.05,-507.33\"/>\n<polygon fill=\"black\" stroke=\"black\" points=\"4479.8,-510.37 4487.31,-502.89 4476.78,-504.05 4479.8,-510.37\"/>\n</g>\n<!-- 140234581731552*&#45;&gt;140234581731552 -->\n<g id=\"edge32\" class=\"edge\">\n<title>140234581731552*&#45;&gt;140234581731552</title>\n<path fill=\"none\" stroke=\"black\" d=\"M3782.97,-633.45C3862.98,-624.04 4108.83,-595.14 4249.99,-578.55\"/>\n<polygon fill=\"black\" stroke=\"black\" points=\"4250.44,-582.02 4259.97,-577.38 4249.63,-575.07 4250.44,-582.02\"/>\n</g>\n<!-- 140234581682592 -->\n<g id=\"node87\" class=\"node\">\n<title>140234581682592</title>\n<polygon fill=\"none\" stroke=\"black\" points=\"326.5,-688.5 326.5,-724.5 522.5,-724.5 522.5,-688.5 326.5,-688.5\"/>\n<text text-anchor=\"middle\" x=\"343.5\" y=\"-702.8\" font-family=\"Times,serif\" font-size=\"14.00\">2.0</text>\n<polyline fill=\"none\" stroke=\"black\" points=\"360.5,-688.5 360.5,-724.5 \"/>\n<text text-anchor=\"middle\" x=\"400.5\" y=\"-702.8\" font-family=\"Times,serif\" font-size=\"14.00\">data 2.0000</text>\n<polyline fill=\"none\" stroke=\"black\" points=\"440.5,-688.5 440.5,-724.5 \"/>\n<text text-anchor=\"middle\" x=\"481.5\" y=\"-702.8\" font-family=\"Times,serif\" font-size=\"14.00\">grad 0.0000</text>\n</g>\n<!-- 140234581682640* -->\n<g id=\"node93\" class=\"node\">\n<title>140234581682640*</title>\n<ellipse fill=\"none\" stroke=\"black\" cx=\"590\" cy=\"-651.5\" rx=\"27\" ry=\"18\"/>\n<text text-anchor=\"middle\" x=\"590\" y=\"-647.8\" font-family=\"Times,serif\" font-size=\"14.00\">*</text>\n</g>\n<!-- 140234581682592&#45;&gt;140234581682640* -->\n<g id=\"edge98\" class=\"edge\">\n<title>140234581682592&#45;&gt;140234581682640*</title>\n<path fill=\"none\" stroke=\"black\" d=\"M499.12,-688.45C508.58,-685.68 518.07,-682.68 527,-679.5 537.54,-675.75 548.77,-670.94 558.73,-666.37\"/>\n<polygon fill=\"black\" stroke=\"black\" points=\"560.27,-669.51 567.84,-662.1 557.3,-663.18 560.27,-669.51\"/>\n</g>\n<!-- 140234581731744 -->\n<g id=\"node88\" class=\"node\">\n<title>140234581731744</title>\n<polygon fill=\"none\" stroke=\"black\" points=\"4573,-470.5 4573,-506.5 4760,-506.5 4760,-470.5 4573,-470.5\"/>\n<text text-anchor=\"middle\" x=\"4583\" y=\"-484.8\" font-family=\"Times,serif\" font-size=\"14.00\"> </text>\n<polyline fill=\"none\" stroke=\"black\" points=\"4593,-470.5 4593,-506.5 \"/>\n<text text-anchor=\"middle\" x=\"4635.5\" y=\"-484.8\" font-family=\"Times,serif\" font-size=\"14.00\">data &#45;0.5061</text>\n<polyline fill=\"none\" stroke=\"black\" points=\"4678,-470.5 4678,-506.5 \"/>\n<text text-anchor=\"middle\" x=\"4719\" y=\"-484.8\" font-family=\"Times,serif\" font-size=\"14.00\">grad 0.0000</text>\n</g>\n<!-- 140234581732176+ -->\n<g id=\"node102\" class=\"node\">\n<title>140234581732176+</title>\n<ellipse fill=\"none\" stroke=\"black\" cx=\"4823\" cy=\"-464.5\" rx=\"27\" ry=\"18\"/>\n<text text-anchor=\"middle\" x=\"4823\" y=\"-460.8\" font-family=\"Times,serif\" font-size=\"14.00\">+</text>\n</g>\n<!-- 140234581731744&#45;&gt;140234581732176+ -->\n<g id=\"edge177\" class=\"edge\">\n<title>140234581731744&#45;&gt;140234581732176+</title>\n<path fill=\"none\" stroke=\"black\" d=\"M4760.05,-474.12C4769.34,-472.68 4778.33,-471.28 4786.44,-470.02\"/>\n<polygon fill=\"black\" stroke=\"black\" points=\"4787.21,-473.45 4796.55,-468.45 4786.13,-466.53 4787.21,-473.45\"/>\n</g>\n<!-- 140234581731744+&#45;&gt;140234581731744 -->\n<g id=\"edge33\" class=\"edge\">\n<title>140234581731744+&#45;&gt;140234581731744</title>\n<path fill=\"none\" stroke=\"black\" d=\"M4537.21,-491.82C4544.73,-491.63 4553.43,-491.4 4562.67,-491.16\"/>\n<polygon fill=\"black\" stroke=\"black\" points=\"4562.98,-494.66 4572.89,-490.9 4562.8,-487.66 4562.98,-494.66\"/>\n</g>\n<!-- 140234581698976 -->\n<g id=\"node90\" class=\"node\">\n<title>140234581698976</title>\n<polygon fill=\"none\" stroke=\"black\" points=\"2254,-453.5 2254,-489.5 2441,-489.5 2441,-453.5 2254,-453.5\"/>\n<text text-anchor=\"middle\" x=\"2264\" y=\"-467.8\" font-family=\"Times,serif\" font-size=\"14.00\"> </text>\n<polyline fill=\"none\" stroke=\"black\" points=\"2274,-453.5 2274,-489.5 \"/>\n<text text-anchor=\"middle\" x=\"2316.5\" y=\"-467.8\" font-family=\"Times,serif\" font-size=\"14.00\">data &#45;0.3240</text>\n<polyline fill=\"none\" stroke=\"black\" points=\"2359,-453.5 2359,-489.5 \"/>\n<text text-anchor=\"middle\" x=\"2400\" y=\"-467.8\" font-family=\"Times,serif\" font-size=\"14.00\">grad 0.0000</text>\n</g>\n<!-- 140234581698976&#45;&gt;140234581699168+ -->\n<g id=\"edge103\" class=\"edge\">\n<title>140234581698976&#45;&gt;140234581699168+</title>\n<path fill=\"none\" stroke=\"black\" d=\"M2441.05,-471.5C2450.06,-471.5 2458.79,-471.5 2466.7,-471.5\"/>\n<polygon fill=\"black\" stroke=\"black\" points=\"2466.95,-475 2476.95,-471.5 2466.95,-468 2466.95,-475\"/>\n</g>\n<!-- 140234581698976* -->\n<g id=\"node91\" class=\"node\">\n<title>140234581698976*</title>\n<ellipse fill=\"none\" stroke=\"black\" cx=\"2191\" cy=\"-471.5\" rx=\"27\" ry=\"18\"/>\n<text text-anchor=\"middle\" x=\"2191\" y=\"-467.8\" font-family=\"Times,serif\" font-size=\"14.00\">*</text>\n</g>\n<!-- 140234581698976*&#45;&gt;140234581698976 -->\n<g id=\"edge34\" class=\"edge\">\n<title>140234581698976*&#45;&gt;140234581698976</title>\n<path fill=\"none\" stroke=\"black\" d=\"M2218.21,-471.5C2225.73,-471.5 2234.43,-471.5 2243.67,-471.5\"/>\n<polygon fill=\"black\" stroke=\"black\" points=\"2243.89,-475 2253.89,-471.5 2243.89,-468 2243.89,-475\"/>\n</g>\n<!-- 140234581682640 -->\n<g id=\"node92\" class=\"node\">\n<title>140234581682640</title>\n<polygon fill=\"none\" stroke=\"black\" points=\"662,-633.5 662,-669.5 849,-669.5 849,-633.5 662,-633.5\"/>\n<text text-anchor=\"middle\" x=\"672\" y=\"-647.8\" font-family=\"Times,serif\" font-size=\"14.00\"> </text>\n<polyline fill=\"none\" stroke=\"black\" points=\"682,-633.5 682,-669.5 \"/>\n<text text-anchor=\"middle\" x=\"724.5\" y=\"-647.8\" font-family=\"Times,serif\" font-size=\"14.00\">data &#45;1.1743</text>\n<polyline fill=\"none\" stroke=\"black\" points=\"767,-633.5 767,-669.5 \"/>\n<text text-anchor=\"middle\" x=\"808\" y=\"-647.8\" font-family=\"Times,serif\" font-size=\"14.00\">grad 0.0000</text>\n</g>\n<!-- 140234581683120+ -->\n<g id=\"node106\" class=\"node\">\n<title>140234581683120+</title>\n<ellipse fill=\"none\" stroke=\"black\" cx=\"921\" cy=\"-596.5\" rx=\"27\" ry=\"18\"/>\n<text text-anchor=\"middle\" x=\"921\" y=\"-592.8\" font-family=\"Times,serif\" font-size=\"14.00\">+</text>\n</g>\n<!-- 140234581682640&#45;&gt;140234581683120+ -->\n<g id=\"edge124\" class=\"edge\">\n<title>140234581682640&#45;&gt;140234581683120+</title>\n<path fill=\"none\" stroke=\"black\" d=\"M830.12,-633.45C839.58,-630.68 849.07,-627.68 858,-624.5 868.54,-620.75 879.77,-615.94 889.73,-611.37\"/>\n<polygon fill=\"black\" stroke=\"black\" points=\"891.27,-614.51 898.84,-607.1 888.3,-608.18 891.27,-614.51\"/>\n</g>\n<!-- 140234581682640*&#45;&gt;140234581682640 -->\n<g id=\"edge35\" class=\"edge\">\n<title>140234581682640*&#45;&gt;140234581682640</title>\n<path fill=\"none\" stroke=\"black\" d=\"M617.27,-651.5C627.1,-651.5 638.95,-651.5 651.53,-651.5\"/>\n<polygon fill=\"black\" stroke=\"black\" points=\"651.74,-655 661.74,-651.5 651.74,-648 651.74,-655\"/>\n</g>\n<!-- 140234581699168 -->\n<g id=\"node94\" class=\"node\">\n<title>140234581699168</title>\n<polygon fill=\"none\" stroke=\"black\" points=\"2567,-508.5 2567,-544.5 2754,-544.5 2754,-508.5 2567,-508.5\"/>\n<text text-anchor=\"middle\" x=\"2577\" y=\"-522.8\" font-family=\"Times,serif\" font-size=\"14.00\"> </text>\n<polyline fill=\"none\" stroke=\"black\" points=\"2587,-508.5 2587,-544.5 \"/>\n<text text-anchor=\"middle\" x=\"2629.5\" y=\"-522.8\" font-family=\"Times,serif\" font-size=\"14.00\">data &#45;0.3435</text>\n<polyline fill=\"none\" stroke=\"black\" points=\"2672,-508.5 2672,-544.5 \"/>\n<text text-anchor=\"middle\" x=\"2713\" y=\"-522.8\" font-family=\"Times,serif\" font-size=\"14.00\">grad 0.0000</text>\n</g>\n<!-- 140234581699600+ -->\n<g id=\"node110\" class=\"node\">\n<title>140234581699600+</title>\n<ellipse fill=\"none\" stroke=\"black\" cx=\"2817\" cy=\"-581.5\" rx=\"27\" ry=\"18\"/>\n<text text-anchor=\"middle\" x=\"2817\" y=\"-577.8\" font-family=\"Times,serif\" font-size=\"14.00\">+</text>\n</g>\n<!-- 140234581699168&#45;&gt;140234581699600+ -->\n<g id=\"edge90\" class=\"edge\">\n<title>140234581699168&#45;&gt;140234581699600+</title>\n<path fill=\"none\" stroke=\"black\" d=\"M2725.02,-544.65C2734.79,-547.76 2744.71,-551.08 2754,-554.5 2764.25,-558.27 2775.23,-562.86 2785.07,-567.18\"/>\n<polygon fill=\"black\" stroke=\"black\" points=\"2783.89,-570.49 2794.45,-571.37 2786.74,-564.1 2783.89,-570.49\"/>\n</g>\n<!-- 140234581699168+&#45;&gt;140234581699168 -->\n<g id=\"edge36\" class=\"edge\">\n<title>140234581699168+&#45;&gt;140234581699168</title>\n<path fill=\"none\" stroke=\"black\" d=\"M2526.21,-481.97C2538.05,-487.59 2553.15,-494.38 2567,-499.5 2572.43,-501.51 2578.08,-503.46 2583.79,-505.35\"/>\n<polygon fill=\"black\" stroke=\"black\" points=\"2582.85,-508.72 2593.44,-508.45 2584.99,-502.06 2582.85,-508.72\"/>\n</g>\n<!-- 140234581731984 -->\n<g id=\"node96\" class=\"node\">\n<title>140234581731984</title>\n<polygon fill=\"none\" stroke=\"black\" points=\"4042,-409.5 4042,-445.5 4224,-445.5 4224,-409.5 4042,-409.5\"/>\n<text text-anchor=\"middle\" x=\"4052\" y=\"-423.8\" font-family=\"Times,serif\" font-size=\"14.00\"> </text>\n<polyline fill=\"none\" stroke=\"black\" points=\"4062,-409.5 4062,-445.5 \"/>\n<text text-anchor=\"middle\" x=\"4102\" y=\"-423.8\" font-family=\"Times,serif\" font-size=\"14.00\">data 0.0687</text>\n<polyline fill=\"none\" stroke=\"black\" points=\"4142,-409.5 4142,-445.5 \"/>\n<text text-anchor=\"middle\" x=\"4183\" y=\"-423.8\" font-family=\"Times,serif\" font-size=\"14.00\">grad 0.0000</text>\n</g>\n<!-- 140234581731984&#45;&gt;140234581732176+ -->\n<g id=\"edge152\" class=\"edge\">\n<title>140234581731984&#45;&gt;140234581732176+</title>\n<path fill=\"none\" stroke=\"black\" d=\"M4224.3,-432.36C4377.44,-440.59 4681.63,-456.95 4785.93,-462.56\"/>\n<polygon fill=\"black\" stroke=\"black\" points=\"4785.78,-466.06 4795.95,-463.1 4786.15,-459.07 4785.78,-466.06\"/>\n</g>\n<!-- 140234581731984*&#45;&gt;140234581731984 -->\n<g id=\"edge37\" class=\"edge\">\n<title>140234581731984*&#45;&gt;140234581731984</title>\n<path fill=\"none\" stroke=\"black\" d=\"M3782.19,-365.93C3832.42,-374.77 3947.49,-395.03 4032,-409.9\"/>\n<polygon fill=\"black\" stroke=\"black\" points=\"4031.43,-413.35 4041.88,-411.64 4032.64,-406.46 4031.43,-413.35\"/>\n</g>\n<!-- 140234581682880 -->\n<g id=\"node98\" class=\"node\">\n<title>140234581682880</title>\n<polygon fill=\"none\" stroke=\"black\" points=\"326.5,-578.5 326.5,-614.5 522.5,-614.5 522.5,-578.5 326.5,-578.5\"/>\n<text text-anchor=\"middle\" x=\"343.5\" y=\"-592.8\" font-family=\"Times,serif\" font-size=\"14.00\">3.0</text>\n<polyline fill=\"none\" stroke=\"black\" points=\"360.5,-578.5 360.5,-614.5 \"/>\n<text text-anchor=\"middle\" x=\"400.5\" y=\"-592.8\" font-family=\"Times,serif\" font-size=\"14.00\">data 3.0000</text>\n<polyline fill=\"none\" stroke=\"black\" points=\"440.5,-578.5 440.5,-614.5 \"/>\n<text text-anchor=\"middle\" x=\"481.5\" y=\"-592.8\" font-family=\"Times,serif\" font-size=\"14.00\">grad 0.0000</text>\n</g>\n<!-- 140234581682928* -->\n<g id=\"node100\" class=\"node\">\n<title>140234581682928*</title>\n<ellipse fill=\"none\" stroke=\"black\" cx=\"590\" cy=\"-596.5\" rx=\"27\" ry=\"18\"/>\n<text text-anchor=\"middle\" x=\"590\" y=\"-592.8\" font-family=\"Times,serif\" font-size=\"14.00\">*</text>\n</g>\n<!-- 140234581682880&#45;&gt;140234581682928* -->\n<g id=\"edge163\" class=\"edge\">\n<title>140234581682880&#45;&gt;140234581682928*</title>\n<path fill=\"none\" stroke=\"black\" d=\"M522.97,-596.5C533.49,-596.5 543.65,-596.5 552.71,-596.5\"/>\n<polygon fill=\"black\" stroke=\"black\" points=\"552.81,-600 562.81,-596.5 552.81,-593 552.81,-600\"/>\n</g>\n<!-- 140234581682928 -->\n<g id=\"node99\" class=\"node\">\n<title>140234581682928</title>\n<polygon fill=\"none\" stroke=\"black\" points=\"662,-578.5 662,-614.5 849,-614.5 849,-578.5 662,-578.5\"/>\n<text text-anchor=\"middle\" x=\"672\" y=\"-592.8\" font-family=\"Times,serif\" font-size=\"14.00\"> </text>\n<polyline fill=\"none\" stroke=\"black\" points=\"682,-578.5 682,-614.5 \"/>\n<text text-anchor=\"middle\" x=\"724.5\" y=\"-592.8\" font-family=\"Times,serif\" font-size=\"14.00\">data &#45;2.1916</text>\n<polyline fill=\"none\" stroke=\"black\" points=\"767,-578.5 767,-614.5 \"/>\n<text text-anchor=\"middle\" x=\"808\" y=\"-592.8\" font-family=\"Times,serif\" font-size=\"14.00\">grad 0.0000</text>\n</g>\n<!-- 140234581682928&#45;&gt;140234581683120+ -->\n<g id=\"edge86\" class=\"edge\">\n<title>140234581682928&#45;&gt;140234581683120+</title>\n<path fill=\"none\" stroke=\"black\" d=\"M849.24,-596.5C861.33,-596.5 873.09,-596.5 883.44,-596.5\"/>\n<polygon fill=\"black\" stroke=\"black\" points=\"883.68,-600 893.68,-596.5 883.68,-593 883.68,-600\"/>\n</g>\n<!-- 140234581682928*&#45;&gt;140234581682928 -->\n<g id=\"edge38\" class=\"edge\">\n<title>140234581682928*&#45;&gt;140234581682928</title>\n<path fill=\"none\" stroke=\"black\" d=\"M617.27,-596.5C627.1,-596.5 638.95,-596.5 651.53,-596.5\"/>\n<polygon fill=\"black\" stroke=\"black\" points=\"651.74,-600 661.74,-596.5 651.74,-593 651.74,-600\"/>\n</g>\n<!-- 140234581732176 -->\n<g id=\"node101\" class=\"node\">\n<title>140234581732176</title>\n<polygon fill=\"none\" stroke=\"black\" points=\"4886,-446.5 4886,-482.5 5073,-482.5 5073,-446.5 4886,-446.5\"/>\n<text text-anchor=\"middle\" x=\"4896\" y=\"-460.8\" font-family=\"Times,serif\" font-size=\"14.00\"> </text>\n<polyline fill=\"none\" stroke=\"black\" points=\"4906,-446.5 4906,-482.5 \"/>\n<text text-anchor=\"middle\" x=\"4948.5\" y=\"-460.8\" font-family=\"Times,serif\" font-size=\"14.00\">data &#45;0.4374</text>\n<polyline fill=\"none\" stroke=\"black\" points=\"4991,-446.5 4991,-482.5 \"/>\n<text text-anchor=\"middle\" x=\"5032\" y=\"-460.8\" font-family=\"Times,serif\" font-size=\"14.00\">grad 0.0000</text>\n</g>\n<!-- 140234581732176&#45;&gt;140234581732368+ -->\n<g id=\"edge206\" class=\"edge\">\n<title>140234581732176&#45;&gt;140234581732368+</title>\n<path fill=\"none\" stroke=\"black\" d=\"M5073.05,-480.67C5082.34,-482.3 5091.33,-483.87 5099.44,-485.29\"/>\n<polygon fill=\"black\" stroke=\"black\" points=\"5099.1,-488.78 5109.55,-487.05 5100.3,-481.88 5099.1,-488.78\"/>\n</g>\n<!-- 140234581732176+&#45;&gt;140234581732176 -->\n<g id=\"edge39\" class=\"edge\">\n<title>140234581732176+&#45;&gt;140234581732176</title>\n<path fill=\"none\" stroke=\"black\" d=\"M4850.21,-464.5C4857.73,-464.5 4866.43,-464.5 4875.67,-464.5\"/>\n<polygon fill=\"black\" stroke=\"black\" points=\"4875.89,-468 4885.89,-464.5 4875.89,-461 4875.89,-468\"/>\n</g>\n<!-- 140234581699408 -->\n<g id=\"node103\" class=\"node\">\n<title>140234581699408</title>\n<polygon fill=\"none\" stroke=\"black\" points=\"2567,-563.5 2567,-599.5 2754,-599.5 2754,-563.5 2567,-563.5\"/>\n<text text-anchor=\"middle\" x=\"2577\" y=\"-577.8\" font-family=\"Times,serif\" font-size=\"14.00\"> </text>\n<polyline fill=\"none\" stroke=\"black\" points=\"2587,-563.5 2587,-599.5 \"/>\n<text text-anchor=\"middle\" x=\"2629.5\" y=\"-577.8\" font-family=\"Times,serif\" font-size=\"14.00\">data &#45;0.5682</text>\n<polyline fill=\"none\" stroke=\"black\" points=\"2672,-563.5 2672,-599.5 \"/>\n<text text-anchor=\"middle\" x=\"2713\" y=\"-577.8\" font-family=\"Times,serif\" font-size=\"14.00\">grad 0.0000</text>\n</g>\n<!-- 140234581699408&#45;&gt;140234581699600+ -->\n<g id=\"edge135\" class=\"edge\">\n<title>140234581699408&#45;&gt;140234581699600+</title>\n<path fill=\"none\" stroke=\"black\" d=\"M2754.05,-581.5C2763.06,-581.5 2771.79,-581.5 2779.7,-581.5\"/>\n<polygon fill=\"black\" stroke=\"black\" points=\"2779.95,-585 2789.95,-581.5 2779.95,-578 2779.95,-585\"/>\n</g>\n<!-- 140234581699408*&#45;&gt;140234581699408 -->\n<g id=\"edge40\" class=\"edge\">\n<title>140234581699408*&#45;&gt;140234581699408</title>\n<path fill=\"none\" stroke=\"black\" d=\"M2520.07,-675.8C2523.79,-671.92 2527.66,-667.66 2531,-663.5 2549.08,-641.02 2543.84,-626.69 2567,-609.5 2569.48,-607.66 2572.08,-605.94 2574.77,-604.33\"/>\n<polygon fill=\"black\" stroke=\"black\" points=\"2576.49,-607.38 2583.65,-599.57 2573.18,-601.21 2576.49,-607.38\"/>\n</g>\n<!-- 140234581683120 -->\n<g id=\"node105\" class=\"node\">\n<title>140234581683120</title>\n<polygon fill=\"none\" stroke=\"black\" points=\"993,-578.5 993,-614.5 1180,-614.5 1180,-578.5 993,-578.5\"/>\n<text text-anchor=\"middle\" x=\"1003\" y=\"-592.8\" font-family=\"Times,serif\" font-size=\"14.00\"> </text>\n<polyline fill=\"none\" stroke=\"black\" points=\"1013,-578.5 1013,-614.5 \"/>\n<text text-anchor=\"middle\" x=\"1055.5\" y=\"-592.8\" font-family=\"Times,serif\" font-size=\"14.00\">data &#45;3.3659</text>\n<polyline fill=\"none\" stroke=\"black\" points=\"1098,-578.5 1098,-614.5 \"/>\n<text text-anchor=\"middle\" x=\"1139\" y=\"-592.8\" font-family=\"Times,serif\" font-size=\"14.00\">grad 0.0000</text>\n</g>\n<!-- 140234581683600+ -->\n<g id=\"node119\" class=\"node\">\n<title>140234581683600+</title>\n<ellipse fill=\"none\" stroke=\"black\" cx=\"1252\" cy=\"-541.5\" rx=\"27\" ry=\"18\"/>\n<text text-anchor=\"middle\" x=\"1252\" y=\"-537.8\" font-family=\"Times,serif\" font-size=\"14.00\">+</text>\n</g>\n<!-- 140234581683120&#45;&gt;140234581683600+ -->\n<g id=\"edge143\" class=\"edge\">\n<title>140234581683120&#45;&gt;140234581683600+</title>\n<path fill=\"none\" stroke=\"black\" d=\"M1161.12,-578.45C1170.58,-575.68 1180.07,-572.68 1189,-569.5 1199.54,-565.75 1210.77,-560.94 1220.73,-556.37\"/>\n<polygon fill=\"black\" stroke=\"black\" points=\"1222.27,-559.51 1229.84,-552.1 1219.3,-553.18 1222.27,-559.51\"/>\n</g>\n<!-- 140234581683120+&#45;&gt;140234581683120 -->\n<g id=\"edge41\" class=\"edge\">\n<title>140234581683120+&#45;&gt;140234581683120</title>\n<path fill=\"none\" stroke=\"black\" d=\"M948.27,-596.5C958.1,-596.5 969.95,-596.5 982.53,-596.5\"/>\n<polygon fill=\"black\" stroke=\"black\" points=\"982.74,-600 992.74,-596.5 982.74,-593 982.74,-600\"/>\n</g>\n<!-- 140234581732368 -->\n<g id=\"node107\" class=\"node\">\n<title>140234581732368</title>\n<polygon fill=\"none\" stroke=\"black\" points=\"5199,-473.5 5199,-509.5 5381,-509.5 5381,-473.5 5199,-473.5\"/>\n<text text-anchor=\"middle\" x=\"5209\" y=\"-487.8\" font-family=\"Times,serif\" font-size=\"14.00\"> </text>\n<polyline fill=\"none\" stroke=\"black\" points=\"5219,-473.5 5219,-509.5 \"/>\n<text text-anchor=\"middle\" x=\"5259\" y=\"-487.8\" font-family=\"Times,serif\" font-size=\"14.00\">data 0.4109</text>\n<polyline fill=\"none\" stroke=\"black\" points=\"5299,-473.5 5299,-509.5 \"/>\n<text text-anchor=\"middle\" x=\"5340\" y=\"-487.8\" font-family=\"Times,serif\" font-size=\"14.00\">grad 0.0000</text>\n</g>\n<!-- 140234581732608tanh -->\n<g id=\"node117\" class=\"node\">\n<title>140234581732608tanh</title>\n<ellipse fill=\"none\" stroke=\"black\" cx=\"5444\" cy=\"-491.5\" rx=\"27\" ry=\"18\"/>\n<text text-anchor=\"middle\" x=\"5444\" y=\"-487.8\" font-family=\"Times,serif\" font-size=\"14.00\">tanh</text>\n</g>\n<!-- 140234581732368&#45;&gt;140234581732608tanh -->\n<g id=\"edge130\" class=\"edge\">\n<title>140234581732368&#45;&gt;140234581732608tanh</title>\n<path fill=\"none\" stroke=\"black\" d=\"M5381.18,-491.5C5390.14,-491.5 5398.83,-491.5 5406.73,-491.5\"/>\n<polygon fill=\"black\" stroke=\"black\" points=\"5406.96,-495 5416.96,-491.5 5406.96,-488 5406.96,-495\"/>\n</g>\n<!-- 140234581732368+&#45;&gt;140234581732368 -->\n<g id=\"edge42\" class=\"edge\">\n<title>140234581732368+&#45;&gt;140234581732368</title>\n<path fill=\"none\" stroke=\"black\" d=\"M5163.13,-491.5C5170.67,-491.5 5179.39,-491.5 5188.64,-491.5\"/>\n<polygon fill=\"black\" stroke=\"black\" points=\"5188.87,-495 5198.87,-491.5 5188.87,-488 5188.87,-495\"/>\n</g>\n<!-- 140234581699600 -->\n<g id=\"node109\" class=\"node\">\n<title>140234581699600</title>\n<polygon fill=\"none\" stroke=\"black\" points=\"2880,-563.5 2880,-599.5 3067,-599.5 3067,-563.5 2880,-563.5\"/>\n<text text-anchor=\"middle\" x=\"2890\" y=\"-577.8\" font-family=\"Times,serif\" font-size=\"14.00\"> </text>\n<polyline fill=\"none\" stroke=\"black\" points=\"2900,-563.5 2900,-599.5 \"/>\n<text text-anchor=\"middle\" x=\"2942.5\" y=\"-577.8\" font-family=\"Times,serif\" font-size=\"14.00\">data &#45;0.9116</text>\n<polyline fill=\"none\" stroke=\"black\" points=\"2985,-563.5 2985,-599.5 \"/>\n<text text-anchor=\"middle\" x=\"3026\" y=\"-577.8\" font-family=\"Times,serif\" font-size=\"14.00\">grad 0.0000</text>\n</g>\n<!-- 140234581699792+ -->\n<g id=\"node115\" class=\"node\">\n<title>140234581699792+</title>\n<ellipse fill=\"none\" stroke=\"black\" cx=\"3130\" cy=\"-526.5\" rx=\"27\" ry=\"18\"/>\n<text text-anchor=\"middle\" x=\"3130\" y=\"-522.8\" font-family=\"Times,serif\" font-size=\"14.00\">+</text>\n</g>\n<!-- 140234581699600&#45;&gt;140234581699792+ -->\n<g id=\"edge184\" class=\"edge\">\n<title>140234581699600&#45;&gt;140234581699792+</title>\n<path fill=\"none\" stroke=\"black\" d=\"M3040.56,-563.45C3049.51,-560.64 3058.53,-557.63 3067,-554.5 3077.49,-550.62 3088.71,-545.78 3098.68,-541.22\"/>\n<polygon fill=\"black\" stroke=\"black\" points=\"3100.2,-544.37 3107.79,-536.97 3097.25,-538.02 3100.2,-544.37\"/>\n</g>\n<!-- 140234581699600+&#45;&gt;140234581699600 -->\n<g id=\"edge43\" class=\"edge\">\n<title>140234581699600+&#45;&gt;140234581699600</title>\n<path fill=\"none\" stroke=\"black\" d=\"M2844.21,-581.5C2851.73,-581.5 2860.43,-581.5 2869.67,-581.5\"/>\n<polygon fill=\"black\" stroke=\"black\" points=\"2869.89,-585 2879.89,-581.5 2869.89,-578 2869.89,-585\"/>\n</g>\n<!-- 140234581683360 -->\n<g id=\"node111\" class=\"node\">\n<title>140234581683360</title>\n<polygon fill=\"none\" stroke=\"black\" points=\"653,-523.5 653,-559.5 858,-559.5 858,-523.5 653,-523.5\"/>\n<text text-anchor=\"middle\" x=\"672\" y=\"-537.8\" font-family=\"Times,serif\" font-size=\"14.00\">&#45;1.0</text>\n<polyline fill=\"none\" stroke=\"black\" points=\"691,-523.5 691,-559.5 \"/>\n<text text-anchor=\"middle\" x=\"733.5\" y=\"-537.8\" font-family=\"Times,serif\" font-size=\"14.00\">data &#45;1.0000</text>\n<polyline fill=\"none\" stroke=\"black\" points=\"776,-523.5 776,-559.5 \"/>\n<text text-anchor=\"middle\" x=\"817\" y=\"-537.8\" font-family=\"Times,serif\" font-size=\"14.00\">grad 0.0000</text>\n</g>\n<!-- 140234581683408* -->\n<g id=\"node113\" class=\"node\">\n<title>140234581683408*</title>\n<ellipse fill=\"none\" stroke=\"black\" cx=\"921\" cy=\"-541.5\" rx=\"27\" ry=\"18\"/>\n<text text-anchor=\"middle\" x=\"921\" y=\"-537.8\" font-family=\"Times,serif\" font-size=\"14.00\">*</text>\n</g>\n<!-- 140234581683360&#45;&gt;140234581683408* -->\n<g id=\"edge178\" class=\"edge\">\n<title>140234581683360&#45;&gt;140234581683408*</title>\n<path fill=\"none\" stroke=\"black\" d=\"M858.19,-541.5C867.21,-541.5 875.88,-541.5 883.73,-541.5\"/>\n<polygon fill=\"black\" stroke=\"black\" points=\"883.89,-545 893.89,-541.5 883.89,-538 883.89,-545\"/>\n</g>\n<!-- 140234581683408 -->\n<g id=\"node112\" class=\"node\">\n<title>140234581683408</title>\n<polygon fill=\"none\" stroke=\"black\" points=\"995.5,-523.5 995.5,-559.5 1177.5,-559.5 1177.5,-523.5 995.5,-523.5\"/>\n<text text-anchor=\"middle\" x=\"1005.5\" y=\"-537.8\" font-family=\"Times,serif\" font-size=\"14.00\"> </text>\n<polyline fill=\"none\" stroke=\"black\" points=\"1015.5,-523.5 1015.5,-559.5 \"/>\n<text text-anchor=\"middle\" x=\"1055.5\" y=\"-537.8\" font-family=\"Times,serif\" font-size=\"14.00\">data 0.1236</text>\n<polyline fill=\"none\" stroke=\"black\" points=\"1095.5,-523.5 1095.5,-559.5 \"/>\n<text text-anchor=\"middle\" x=\"1136.5\" y=\"-537.8\" font-family=\"Times,serif\" font-size=\"14.00\">grad 0.0000</text>\n</g>\n<!-- 140234581683408&#45;&gt;140234581683600+ -->\n<g id=\"edge165\" class=\"edge\">\n<title>140234581683408&#45;&gt;140234581683600+</title>\n<path fill=\"none\" stroke=\"black\" d=\"M1177.86,-541.5C1190.84,-541.5 1203.53,-541.5 1214.6,-541.5\"/>\n<polygon fill=\"black\" stroke=\"black\" points=\"1214.67,-545 1224.67,-541.5 1214.67,-538 1214.67,-545\"/>\n</g>\n<!-- 140234581683408*&#45;&gt;140234581683408 -->\n<g id=\"edge44\" class=\"edge\">\n<title>140234581683408*&#45;&gt;140234581683408</title>\n<path fill=\"none\" stroke=\"black\" d=\"M948.27,-541.5C958.7,-541.5 971.41,-541.5 984.84,-541.5\"/>\n<polygon fill=\"black\" stroke=\"black\" points=\"985.23,-545 995.23,-541.5 985.23,-538 985.23,-545\"/>\n</g>\n<!-- 140234581699792 -->\n<g id=\"node114\" class=\"node\">\n<title>140234581699792</title>\n<polygon fill=\"none\" stroke=\"black\" points=\"3193,-508.5 3193,-544.5 3380,-544.5 3380,-508.5 3193,-508.5\"/>\n<text text-anchor=\"middle\" x=\"3203\" y=\"-522.8\" font-family=\"Times,serif\" font-size=\"14.00\"> </text>\n<polyline fill=\"none\" stroke=\"black\" points=\"3213,-508.5 3213,-544.5 \"/>\n<text text-anchor=\"middle\" x=\"3255.5\" y=\"-522.8\" font-family=\"Times,serif\" font-size=\"14.00\">data &#45;1.7198</text>\n<polyline fill=\"none\" stroke=\"black\" points=\"3298,-508.5 3298,-544.5 \"/>\n<text text-anchor=\"middle\" x=\"3339\" y=\"-522.8\" font-family=\"Times,serif\" font-size=\"14.00\">grad 0.0000</text>\n</g>\n<!-- 140234581700032tanh -->\n<g id=\"node121\" class=\"node\">\n<title>140234581700032tanh</title>\n<ellipse fill=\"none\" stroke=\"black\" cx=\"3443\" cy=\"-526.5\" rx=\"27\" ry=\"18\"/>\n<text text-anchor=\"middle\" x=\"3443\" y=\"-522.8\" font-family=\"Times,serif\" font-size=\"14.00\">tanh</text>\n</g>\n<!-- 140234581699792&#45;&gt;140234581700032tanh -->\n<g id=\"edge169\" class=\"edge\">\n<title>140234581699792&#45;&gt;140234581700032tanh</title>\n<path fill=\"none\" stroke=\"black\" d=\"M3380.05,-526.5C3389.06,-526.5 3397.79,-526.5 3405.7,-526.5\"/>\n<polygon fill=\"black\" stroke=\"black\" points=\"3405.95,-530 3415.95,-526.5 3405.95,-523 3405.95,-530\"/>\n</g>\n<!-- 140234581699792+&#45;&gt;140234581699792 -->\n<g id=\"edge45\" class=\"edge\">\n<title>140234581699792+&#45;&gt;140234581699792</title>\n<path fill=\"none\" stroke=\"black\" d=\"M3157.21,-526.5C3164.73,-526.5 3173.43,-526.5 3182.67,-526.5\"/>\n<polygon fill=\"black\" stroke=\"black\" points=\"3182.89,-530 3192.89,-526.5 3182.89,-523 3182.89,-530\"/>\n</g>\n<!-- 140234581732608 -->\n<g id=\"node116\" class=\"node\">\n<title>140234581732608</title>\n<polygon fill=\"none\" stroke=\"black\" points=\"5507,-473.5 5507,-509.5 5689,-509.5 5689,-473.5 5507,-473.5\"/>\n<text text-anchor=\"middle\" x=\"5517\" y=\"-487.8\" font-family=\"Times,serif\" font-size=\"14.00\"> </text>\n<polyline fill=\"none\" stroke=\"black\" points=\"5527,-473.5 5527,-509.5 \"/>\n<text text-anchor=\"middle\" x=\"5567\" y=\"-487.8\" font-family=\"Times,serif\" font-size=\"14.00\">data 0.3892</text>\n<polyline fill=\"none\" stroke=\"black\" points=\"5607,-473.5 5607,-509.5 \"/>\n<text text-anchor=\"middle\" x=\"5648\" y=\"-487.8\" font-family=\"Times,serif\" font-size=\"14.00\">grad 0.0000</text>\n</g>\n<!-- 140234581732608tanh&#45;&gt;140234581732608 -->\n<g id=\"edge46\" class=\"edge\">\n<title>140234581732608tanh&#45;&gt;140234581732608</title>\n<path fill=\"none\" stroke=\"black\" d=\"M5471.13,-491.5C5478.67,-491.5 5487.39,-491.5 5496.64,-491.5\"/>\n<polygon fill=\"black\" stroke=\"black\" points=\"5496.87,-495 5506.87,-491.5 5496.87,-488 5496.87,-495\"/>\n</g>\n<!-- 140234581683600 -->\n<g id=\"node118\" class=\"node\">\n<title>140234581683600</title>\n<polygon fill=\"none\" stroke=\"black\" points=\"1315,-523.5 1315,-559.5 1502,-559.5 1502,-523.5 1315,-523.5\"/>\n<text text-anchor=\"middle\" x=\"1325\" y=\"-537.8\" font-family=\"Times,serif\" font-size=\"14.00\"> </text>\n<polyline fill=\"none\" stroke=\"black\" points=\"1335,-523.5 1335,-559.5 \"/>\n<text text-anchor=\"middle\" x=\"1377.5\" y=\"-537.8\" font-family=\"Times,serif\" font-size=\"14.00\">data &#45;3.2423</text>\n<polyline fill=\"none\" stroke=\"black\" points=\"1420,-523.5 1420,-559.5 \"/>\n<text text-anchor=\"middle\" x=\"1461\" y=\"-537.8\" font-family=\"Times,serif\" font-size=\"14.00\">grad 0.0000</text>\n</g>\n<!-- 140234581683792+ -->\n<g id=\"node123\" class=\"node\">\n<title>140234581683792+</title>\n<ellipse fill=\"none\" stroke=\"black\" cx=\"1565\" cy=\"-472.5\" rx=\"27\" ry=\"18\"/>\n<text text-anchor=\"middle\" x=\"1565\" y=\"-468.8\" font-family=\"Times,serif\" font-size=\"14.00\">+</text>\n</g>\n<!-- 140234581683600&#45;&gt;140234581683792+ -->\n<g id=\"edge88\" class=\"edge\">\n<title>140234581683600&#45;&gt;140234581683792+</title>\n<path fill=\"none\" stroke=\"black\" d=\"M1450.51,-523.4C1466.58,-516.28 1485.16,-508.03 1502,-500.5 1512.03,-496.01 1522.95,-491.09 1532.8,-486.64\"/>\n<polygon fill=\"black\" stroke=\"black\" points=\"1534.54,-489.7 1542.21,-482.39 1531.66,-483.32 1534.54,-489.7\"/>\n</g>\n<!-- 140234581683600+&#45;&gt;140234581683600 -->\n<g id=\"edge47\" class=\"edge\">\n<title>140234581683600+&#45;&gt;140234581683600</title>\n<path fill=\"none\" stroke=\"black\" d=\"M1279.21,-541.5C1286.73,-541.5 1295.43,-541.5 1304.67,-541.5\"/>\n<polygon fill=\"black\" stroke=\"black\" points=\"1304.89,-545 1314.89,-541.5 1304.89,-538 1304.89,-545\"/>\n</g>\n<!-- 140234581700032 -->\n<g id=\"node120\" class=\"node\">\n<title>140234581700032</title>\n<polygon fill=\"none\" stroke=\"black\" points=\"3506,-508.5 3506,-544.5 3693,-544.5 3693,-508.5 3506,-508.5\"/>\n<text text-anchor=\"middle\" x=\"3516\" y=\"-522.8\" font-family=\"Times,serif\" font-size=\"14.00\"> </text>\n<polyline fill=\"none\" stroke=\"black\" points=\"3526,-508.5 3526,-544.5 \"/>\n<text text-anchor=\"middle\" x=\"3568.5\" y=\"-522.8\" font-family=\"Times,serif\" font-size=\"14.00\">data &#45;0.9378</text>\n<polyline fill=\"none\" stroke=\"black\" points=\"3611,-508.5 3611,-544.5 \"/>\n<text text-anchor=\"middle\" x=\"3652\" y=\"-522.8\" font-family=\"Times,serif\" font-size=\"14.00\">grad 0.0000</text>\n</g>\n<!-- 140234581700032&#45;&gt;140234581730880* -->\n<g id=\"edge148\" class=\"edge\">\n<title>140234581700032&#45;&gt;140234581730880*</title>\n<path fill=\"none\" stroke=\"black\" d=\"M3693.05,-526.5C3702.06,-526.5 3710.79,-526.5 3718.7,-526.5\"/>\n<polygon fill=\"black\" stroke=\"black\" points=\"3718.95,-530 3728.95,-526.5 3718.95,-523 3718.95,-530\"/>\n</g>\n<!-- 140234581700032tanh&#45;&gt;140234581700032 -->\n<g id=\"edge48\" class=\"edge\">\n<title>140234581700032tanh&#45;&gt;140234581700032</title>\n<path fill=\"none\" stroke=\"black\" d=\"M3470.21,-526.5C3477.73,-526.5 3486.43,-526.5 3495.67,-526.5\"/>\n<polygon fill=\"black\" stroke=\"black\" points=\"3495.89,-530 3505.89,-526.5 3495.89,-523 3495.89,-530\"/>\n</g>\n<!-- 140234581683792 -->\n<g id=\"node122\" class=\"node\">\n<title>140234581683792</title>\n<polygon fill=\"none\" stroke=\"black\" points=\"1628,-454.5 1628,-490.5 1815,-490.5 1815,-454.5 1628,-454.5\"/>\n<text text-anchor=\"middle\" x=\"1638\" y=\"-468.8\" font-family=\"Times,serif\" font-size=\"14.00\"> </text>\n<polyline fill=\"none\" stroke=\"black\" points=\"1648,-454.5 1648,-490.5 \"/>\n<text text-anchor=\"middle\" x=\"1690.5\" y=\"-468.8\" font-family=\"Times,serif\" font-size=\"14.00\">data &#45;3.2822</text>\n<polyline fill=\"none\" stroke=\"black\" points=\"1733,-454.5 1733,-490.5 \"/>\n<text text-anchor=\"middle\" x=\"1774\" y=\"-468.8\" font-family=\"Times,serif\" font-size=\"14.00\">grad 0.0000</text>\n</g>\n<!-- 140234581684032tanh -->\n<g id=\"node127\" class=\"node\">\n<title>140234581684032tanh</title>\n<ellipse fill=\"none\" stroke=\"black\" cx=\"1878\" cy=\"-472.5\" rx=\"27\" ry=\"18\"/>\n<text text-anchor=\"middle\" x=\"1878\" y=\"-468.8\" font-family=\"Times,serif\" font-size=\"14.00\">tanh</text>\n</g>\n<!-- 140234581683792&#45;&gt;140234581684032tanh -->\n<g id=\"edge114\" class=\"edge\">\n<title>140234581683792&#45;&gt;140234581684032tanh</title>\n<path fill=\"none\" stroke=\"black\" d=\"M1815.05,-472.5C1824.06,-472.5 1832.79,-472.5 1840.7,-472.5\"/>\n<polygon fill=\"black\" stroke=\"black\" points=\"1840.95,-476 1850.95,-472.5 1840.95,-469 1840.95,-476\"/>\n</g>\n<!-- 140234581683792+&#45;&gt;140234581683792 -->\n<g id=\"edge49\" class=\"edge\">\n<title>140234581683792+&#45;&gt;140234581683792</title>\n<path fill=\"none\" stroke=\"black\" d=\"M1592.21,-472.5C1599.73,-472.5 1608.43,-472.5 1617.67,-472.5\"/>\n<polygon fill=\"black\" stroke=\"black\" points=\"1617.89,-476 1627.89,-472.5 1617.89,-469 1617.89,-476\"/>\n</g>\n<!-- 140234581700272 -->\n<g id=\"node124\" class=\"node\">\n<title>140234581700272</title>\n<polygon fill=\"none\" stroke=\"black\" points=\"1943.5,-178.5 1943.5,-214.5 2125.5,-214.5 2125.5,-178.5 1943.5,-178.5\"/>\n<text text-anchor=\"middle\" x=\"1953.5\" y=\"-192.8\" font-family=\"Times,serif\" font-size=\"14.00\"> </text>\n<polyline fill=\"none\" stroke=\"black\" points=\"1963.5,-178.5 1963.5,-214.5 \"/>\n<text text-anchor=\"middle\" x=\"2003.5\" y=\"-192.8\" font-family=\"Times,serif\" font-size=\"14.00\">data 0.1351</text>\n<polyline fill=\"none\" stroke=\"black\" points=\"2043.5,-178.5 2043.5,-214.5 \"/>\n<text text-anchor=\"middle\" x=\"2084.5\" y=\"-192.8\" font-family=\"Times,serif\" font-size=\"14.00\">grad 0.0000</text>\n</g>\n<!-- 140234581708960+ -->\n<g id=\"node132\" class=\"node\">\n<title>140234581708960+</title>\n<ellipse fill=\"none\" stroke=\"black\" cx=\"2191\" cy=\"-196.5\" rx=\"27\" ry=\"18\"/>\n<text text-anchor=\"middle\" x=\"2191\" y=\"-192.8\" font-family=\"Times,serif\" font-size=\"14.00\">+</text>\n</g>\n<!-- 140234581700272&#45;&gt;140234581708960+ -->\n<g id=\"edge188\" class=\"edge\">\n<title>140234581700272&#45;&gt;140234581708960+</title>\n<path fill=\"none\" stroke=\"black\" d=\"M2125.82,-196.5C2135.57,-196.5 2145.04,-196.5 2153.57,-196.5\"/>\n<polygon fill=\"black\" stroke=\"black\" points=\"2153.83,-200 2163.83,-196.5 2153.83,-193 2153.83,-200\"/>\n</g>\n<!-- 140234581700272*&#45;&gt;140234581700272 -->\n<g id=\"edge50\" class=\"edge\">\n<title>140234581700272*&#45;&gt;140234581700272</title>\n<path fill=\"none\" stroke=\"black\" d=\"M1893.79,-291.51C1897.59,-287.41 1901.57,-282.89 1905,-278.5 1923,-255.49 1917.53,-240.89 1941,-223.5 1942.86,-222.12 1944.78,-220.82 1946.76,-219.58\"/>\n<polygon fill=\"black\" stroke=\"black\" points=\"1948.74,-222.48 1955.77,-214.56 1945.33,-216.37 1948.74,-222.48\"/>\n</g>\n<!-- 140234581684032 -->\n<g id=\"node126\" class=\"node\">\n<title>140234581684032</title>\n<polygon fill=\"none\" stroke=\"black\" points=\"1941,-453.5 1941,-489.5 2128,-489.5 2128,-453.5 1941,-453.5\"/>\n<text text-anchor=\"middle\" x=\"1951\" y=\"-467.8\" font-family=\"Times,serif\" font-size=\"14.00\"> </text>\n<polyline fill=\"none\" stroke=\"black\" points=\"1961,-453.5 1961,-489.5 \"/>\n<text text-anchor=\"middle\" x=\"2003.5\" y=\"-467.8\" font-family=\"Times,serif\" font-size=\"14.00\">data &#45;0.9972</text>\n<polyline fill=\"none\" stroke=\"black\" points=\"2046,-453.5 2046,-489.5 \"/>\n<text text-anchor=\"middle\" x=\"2087\" y=\"-467.8\" font-family=\"Times,serif\" font-size=\"14.00\">grad 0.0000</text>\n</g>\n<!-- 140234581684032&#45;&gt;140234581729584* -->\n<g id=\"edge176\" class=\"edge\">\n<title>140234581684032&#45;&gt;140234581729584*</title>\n<path fill=\"none\" stroke=\"black\" d=\"M2117.73,-453.27C2121.46,-450.71 2124.92,-447.8 2128,-444.5 2179.21,-389.62 2129.23,-346.02 2164,-279.5 2165.05,-277.49 2166.28,-275.52 2167.63,-273.62\"/>\n<polygon fill=\"black\" stroke=\"black\" points=\"2170.44,-275.71 2174.06,-265.75 2165.02,-271.28 2170.44,-275.71\"/>\n</g>\n<!-- 140234581684032&#45;&gt;140234581698976* -->\n<g id=\"edge179\" class=\"edge\">\n<title>140234581684032&#45;&gt;140234581698976*</title>\n<path fill=\"none\" stroke=\"black\" d=\"M2128.05,-471.5C2137.06,-471.5 2145.79,-471.5 2153.7,-471.5\"/>\n<polygon fill=\"black\" stroke=\"black\" points=\"2153.95,-475 2163.95,-471.5 2153.95,-468 2153.95,-475\"/>\n</g>\n<!-- 140234581709200* -->\n<g id=\"node134\" class=\"node\">\n<title>140234581709200*</title>\n<ellipse fill=\"none\" stroke=\"black\" cx=\"2191\" cy=\"-306.5\" rx=\"27\" ry=\"18\"/>\n<text text-anchor=\"middle\" x=\"2191\" y=\"-302.8\" font-family=\"Times,serif\" font-size=\"14.00\">*</text>\n</g>\n<!-- 140234581684032&#45;&gt;140234581709200* -->\n<g id=\"edge97\" class=\"edge\">\n<title>140234581684032&#45;&gt;140234581709200*</title>\n<path fill=\"none\" stroke=\"black\" d=\"M2115.19,-453.48C2119.77,-450.88 2124.09,-447.91 2128,-444.5 2145.44,-429.31 2168.23,-369.71 2180.75,-333.99\"/>\n<polygon fill=\"black\" stroke=\"black\" points=\"2184.19,-334.77 2184.15,-324.18 2177.57,-332.48 2184.19,-334.77\"/>\n</g>\n<!-- 140234581684032&#45;&gt;140234581711168* -->\n<g id=\"edge122\" class=\"edge\">\n<title>140234581684032&#45;&gt;140234581711168*</title>\n<path fill=\"none\" stroke=\"black\" d=\"M2115.2,-489.69C2119.83,-492.5 2124.16,-495.75 2128,-499.5 2164.52,-535.12 2138.05,-564.58 2164,-608.5 2165.15,-610.45 2166.46,-612.38 2167.86,-614.25\"/>\n<polygon fill=\"black\" stroke=\"black\" points=\"2165.3,-616.64 2174.4,-622.06 2170.66,-612.15 2165.3,-616.64\"/>\n</g>\n<!-- 140234581684032tanh&#45;&gt;140234581684032 -->\n<g id=\"edge51\" class=\"edge\">\n<title>140234581684032tanh&#45;&gt;140234581684032</title>\n<path fill=\"none\" stroke=\"black\" d=\"M1905.21,-472.33C1912.73,-472.28 1921.43,-472.23 1930.67,-472.17\"/>\n<polygon fill=\"black\" stroke=\"black\" points=\"1930.91,-475.66 1940.89,-472.1 1930.86,-468.66 1930.91,-475.66\"/>\n</g>\n<!-- 140234581700512 -->\n<g id=\"node128\" class=\"node\">\n<title>140234581700512</title>\n<polygon fill=\"none\" stroke=\"black\" points=\"1941,-123.5 1941,-159.5 2128,-159.5 2128,-123.5 1941,-123.5\"/>\n<text text-anchor=\"middle\" x=\"1951\" y=\"-137.8\" font-family=\"Times,serif\" font-size=\"14.00\"> </text>\n<polyline fill=\"none\" stroke=\"black\" points=\"1961,-123.5 1961,-159.5 \"/>\n<text text-anchor=\"middle\" x=\"2003.5\" y=\"-137.8\" font-family=\"Times,serif\" font-size=\"14.00\">data &#45;0.2851</text>\n<polyline fill=\"none\" stroke=\"black\" points=\"2046,-123.5 2046,-159.5 \"/>\n<text text-anchor=\"middle\" x=\"2087\" y=\"-137.8\" font-family=\"Times,serif\" font-size=\"14.00\">grad 0.0000</text>\n</g>\n<!-- 140234581700512&#45;&gt;140234581708960+ -->\n<g id=\"edge192\" class=\"edge\">\n<title>140234581700512&#45;&gt;140234581708960+</title>\n<path fill=\"none\" stroke=\"black\" d=\"M2101.56,-159.55C2110.51,-162.36 2119.53,-165.37 2128,-168.5 2138.49,-172.38 2149.71,-177.22 2159.68,-181.78\"/>\n<polygon fill=\"black\" stroke=\"black\" points=\"2158.25,-184.98 2168.79,-186.03 2161.2,-178.63 2158.25,-184.98\"/>\n</g>\n<!-- 140234581700512*&#45;&gt;140234581700512 -->\n<g id=\"edge52\" class=\"edge\">\n<title>140234581700512*&#45;&gt;140234581700512</title>\n<path fill=\"none\" stroke=\"black\" d=\"M1905.21,-141.5C1912.73,-141.5 1921.43,-141.5 1930.67,-141.5\"/>\n<polygon fill=\"black\" stroke=\"black\" points=\"1930.89,-145 1940.89,-141.5 1930.89,-138 1930.89,-145\"/>\n</g>\n<!-- 140234582077552 -->\n<g id=\"node130\" class=\"node\">\n<title>140234582077552</title>\n<polygon fill=\"none\" stroke=\"black\" points=\"2880,-453.5 2880,-489.5 3067,-489.5 3067,-453.5 2880,-453.5\"/>\n<text text-anchor=\"middle\" x=\"2890\" y=\"-467.8\" font-family=\"Times,serif\" font-size=\"14.00\"> </text>\n<polyline fill=\"none\" stroke=\"black\" points=\"2900,-453.5 2900,-489.5 \"/>\n<text text-anchor=\"middle\" x=\"2942.5\" y=\"-467.8\" font-family=\"Times,serif\" font-size=\"14.00\">data &#45;0.5597</text>\n<polyline fill=\"none\" stroke=\"black\" points=\"2985,-453.5 2985,-489.5 \"/>\n<text text-anchor=\"middle\" x=\"3026\" y=\"-467.8\" font-family=\"Times,serif\" font-size=\"14.00\">grad 0.0000</text>\n</g>\n<!-- 140234581710016+ -->\n<g id=\"node146\" class=\"node\">\n<title>140234581710016+</title>\n<ellipse fill=\"none\" stroke=\"black\" cx=\"3130\" cy=\"-416.5\" rx=\"27\" ry=\"18\"/>\n<text text-anchor=\"middle\" x=\"3130\" y=\"-412.8\" font-family=\"Times,serif\" font-size=\"14.00\">+</text>\n</g>\n<!-- 140234582077552&#45;&gt;140234581710016+ -->\n<g id=\"edge110\" class=\"edge\">\n<title>140234582077552&#45;&gt;140234581710016+</title>\n<path fill=\"none\" stroke=\"black\" d=\"M3040.56,-453.45C3049.51,-450.64 3058.53,-447.63 3067,-444.5 3077.49,-440.62 3088.71,-435.78 3098.68,-431.22\"/>\n<polygon fill=\"black\" stroke=\"black\" points=\"3100.2,-434.37 3107.79,-426.97 3097.25,-428.02 3100.2,-434.37\"/>\n</g>\n<!-- 140234581708960 -->\n<g id=\"node131\" class=\"node\">\n<title>140234581708960</title>\n<polygon fill=\"none\" stroke=\"black\" points=\"2254,-178.5 2254,-214.5 2441,-214.5 2441,-178.5 2254,-178.5\"/>\n<text text-anchor=\"middle\" x=\"2264\" y=\"-192.8\" font-family=\"Times,serif\" font-size=\"14.00\"> </text>\n<polyline fill=\"none\" stroke=\"black\" points=\"2274,-178.5 2274,-214.5 \"/>\n<text text-anchor=\"middle\" x=\"2316.5\" y=\"-192.8\" font-family=\"Times,serif\" font-size=\"14.00\">data &#45;0.1500</text>\n<polyline fill=\"none\" stroke=\"black\" points=\"2359,-178.5 2359,-214.5 \"/>\n<text text-anchor=\"middle\" x=\"2400\" y=\"-192.8\" font-family=\"Times,serif\" font-size=\"14.00\">grad 0.0000</text>\n</g>\n<!-- 140234581709392+ -->\n<g id=\"node136\" class=\"node\">\n<title>140234581709392+</title>\n<ellipse fill=\"none\" stroke=\"black\" cx=\"2504\" cy=\"-306.5\" rx=\"27\" ry=\"18\"/>\n<text text-anchor=\"middle\" x=\"2504\" y=\"-302.8\" font-family=\"Times,serif\" font-size=\"14.00\">+</text>\n</g>\n<!-- 140234581708960&#45;&gt;140234581709392+ -->\n<g id=\"edge139\" class=\"edge\">\n<title>140234581708960&#45;&gt;140234581709392+</title>\n<path fill=\"none\" stroke=\"black\" d=\"M2426.23,-214.56C2431.44,-217.15 2436.43,-220.11 2441,-223.5 2464.47,-240.89 2459,-255.49 2477,-278.5 2478.4,-280.28 2479.88,-282.09 2481.41,-283.88\"/>\n<polygon fill=\"black\" stroke=\"black\" points=\"2478.94,-286.37 2488.21,-291.51 2484.17,-281.72 2478.94,-286.37\"/>\n</g>\n<!-- 140234581708960+&#45;&gt;140234581708960 -->\n<g id=\"edge53\" class=\"edge\">\n<title>140234581708960+&#45;&gt;140234581708960</title>\n<path fill=\"none\" stroke=\"black\" d=\"M2218.21,-196.5C2225.73,-196.5 2234.43,-196.5 2243.67,-196.5\"/>\n<polygon fill=\"black\" stroke=\"black\" points=\"2243.89,-200 2253.89,-196.5 2243.89,-193 2243.89,-200\"/>\n</g>\n<!-- 140234581709200 -->\n<g id=\"node133\" class=\"node\">\n<title>140234581709200</title>\n<polygon fill=\"none\" stroke=\"black\" points=\"2254,-288.5 2254,-324.5 2441,-324.5 2441,-288.5 2254,-288.5\"/>\n<text text-anchor=\"middle\" x=\"2264\" y=\"-302.8\" font-family=\"Times,serif\" font-size=\"14.00\"> </text>\n<polyline fill=\"none\" stroke=\"black\" points=\"2274,-288.5 2274,-324.5 \"/>\n<text text-anchor=\"middle\" x=\"2316.5\" y=\"-302.8\" font-family=\"Times,serif\" font-size=\"14.00\">data &#45;0.0355</text>\n<polyline fill=\"none\" stroke=\"black\" points=\"2359,-288.5 2359,-324.5 \"/>\n<text text-anchor=\"middle\" x=\"2400\" y=\"-302.8\" font-family=\"Times,serif\" font-size=\"14.00\">grad 0.0000</text>\n</g>\n<!-- 140234581709200&#45;&gt;140234581709392+ -->\n<g id=\"edge107\" class=\"edge\">\n<title>140234581709200&#45;&gt;140234581709392+</title>\n<path fill=\"none\" stroke=\"black\" d=\"M2441.05,-306.5C2450.06,-306.5 2458.79,-306.5 2466.7,-306.5\"/>\n<polygon fill=\"black\" stroke=\"black\" points=\"2466.95,-310 2476.95,-306.5 2466.95,-303 2466.95,-310\"/>\n</g>\n<!-- 140234581709200*&#45;&gt;140234581709200 -->\n<g id=\"edge54\" class=\"edge\">\n<title>140234581709200*&#45;&gt;140234581709200</title>\n<path fill=\"none\" stroke=\"black\" d=\"M2218.21,-306.5C2225.73,-306.5 2234.43,-306.5 2243.67,-306.5\"/>\n<polygon fill=\"black\" stroke=\"black\" points=\"2243.89,-310 2253.89,-306.5 2243.89,-303 2243.89,-310\"/>\n</g>\n<!-- 140234581709392 -->\n<g id=\"node135\" class=\"node\">\n<title>140234581709392</title>\n<polygon fill=\"none\" stroke=\"black\" points=\"2567,-398.5 2567,-434.5 2754,-434.5 2754,-398.5 2567,-398.5\"/>\n<text text-anchor=\"middle\" x=\"2577\" y=\"-412.8\" font-family=\"Times,serif\" font-size=\"14.00\"> </text>\n<polyline fill=\"none\" stroke=\"black\" points=\"2587,-398.5 2587,-434.5 \"/>\n<text text-anchor=\"middle\" x=\"2629.5\" y=\"-412.8\" font-family=\"Times,serif\" font-size=\"14.00\">data &#45;0.1855</text>\n<polyline fill=\"none\" stroke=\"black\" points=\"2672,-398.5 2672,-434.5 \"/>\n<text text-anchor=\"middle\" x=\"2713\" y=\"-412.8\" font-family=\"Times,serif\" font-size=\"14.00\">grad 0.0000</text>\n</g>\n<!-- 140234581709824+ -->\n<g id=\"node143\" class=\"node\">\n<title>140234581709824+</title>\n<ellipse fill=\"none\" stroke=\"black\" cx=\"2817\" cy=\"-416.5\" rx=\"27\" ry=\"18\"/>\n<text text-anchor=\"middle\" x=\"2817\" y=\"-412.8\" font-family=\"Times,serif\" font-size=\"14.00\">+</text>\n</g>\n<!-- 140234581709392&#45;&gt;140234581709824+ -->\n<g id=\"edge95\" class=\"edge\">\n<title>140234581709392&#45;&gt;140234581709824+</title>\n<path fill=\"none\" stroke=\"black\" d=\"M2754.05,-416.5C2763.06,-416.5 2771.79,-416.5 2779.7,-416.5\"/>\n<polygon fill=\"black\" stroke=\"black\" points=\"2779.95,-420 2789.95,-416.5 2779.95,-413 2779.95,-420\"/>\n</g>\n<!-- 140234581709392+&#45;&gt;140234581709392 -->\n<g id=\"edge55\" class=\"edge\">\n<title>140234581709392+&#45;&gt;140234581709392</title>\n<path fill=\"none\" stroke=\"black\" d=\"M2519.79,-321.49C2523.59,-325.59 2527.57,-330.11 2531,-334.5 2549,-357.51 2543.53,-372.11 2567,-389.5 2568.86,-390.88 2570.78,-392.18 2572.76,-393.42\"/>\n<polygon fill=\"black\" stroke=\"black\" points=\"2571.33,-396.63 2581.77,-398.44 2574.74,-390.52 2571.33,-396.63\"/>\n</g>\n<!-- 140234582078128 -->\n<g id=\"node137\" class=\"node\">\n<title>140234582078128</title>\n<polygon fill=\"none\" stroke=\"black\" points=\"1628,-288.5 1628,-324.5 1815,-324.5 1815,-288.5 1628,-288.5\"/>\n<text text-anchor=\"middle\" x=\"1638\" y=\"-302.8\" font-family=\"Times,serif\" font-size=\"14.00\"> </text>\n<polyline fill=\"none\" stroke=\"black\" points=\"1648,-288.5 1648,-324.5 \"/>\n<text text-anchor=\"middle\" x=\"1690.5\" y=\"-302.8\" font-family=\"Times,serif\" font-size=\"14.00\">data &#45;0.1427</text>\n<polyline fill=\"none\" stroke=\"black\" points=\"1733,-288.5 1733,-324.5 \"/>\n<text text-anchor=\"middle\" x=\"1774\" y=\"-302.8\" font-family=\"Times,serif\" font-size=\"14.00\">grad 0.0000</text>\n</g>\n<!-- 140234582078128&#45;&gt;140234581700272* -->\n<g id=\"edge157\" class=\"edge\">\n<title>140234582078128&#45;&gt;140234581700272*</title>\n<path fill=\"none\" stroke=\"black\" d=\"M1815.05,-306.5C1824.06,-306.5 1832.79,-306.5 1840.7,-306.5\"/>\n<polygon fill=\"black\" stroke=\"black\" points=\"1840.95,-310 1850.95,-306.5 1840.95,-303 1840.95,-310\"/>\n</g>\n<!-- 140234582078272 -->\n<g id=\"node138\" class=\"node\">\n<title>140234582078272</title>\n<polygon fill=\"none\" stroke=\"black\" points=\"7,-165.5 7,-201.5 189,-201.5 189,-165.5 7,-165.5\"/>\n<text text-anchor=\"middle\" x=\"17\" y=\"-179.8\" font-family=\"Times,serif\" font-size=\"14.00\"> </text>\n<polyline fill=\"none\" stroke=\"black\" points=\"27,-165.5 27,-201.5 \"/>\n<text text-anchor=\"middle\" x=\"67\" y=\"-179.8\" font-family=\"Times,serif\" font-size=\"14.00\">data 0.1232</text>\n<polyline fill=\"none\" stroke=\"black\" points=\"107,-165.5 107,-201.5 \"/>\n<text text-anchor=\"middle\" x=\"148\" y=\"-179.8\" font-family=\"Times,serif\" font-size=\"14.00\">grad 0.0000</text>\n</g>\n<!-- 140234582078272&#45;&gt;140234581680960* -->\n<g id=\"edge106\" class=\"edge\">\n<title>140234582078272&#45;&gt;140234581680960*</title>\n<path fill=\"none\" stroke=\"black\" d=\"M189.19,-183.5C200.61,-183.5 211.74,-183.5 221.6,-183.5\"/>\n<polygon fill=\"black\" stroke=\"black\" points=\"221.75,-187 231.75,-183.5 221.75,-180 221.75,-187\"/>\n</g>\n<!-- 140234581709632 -->\n<g id=\"node139\" class=\"node\">\n<title>140234581709632</title>\n<polygon fill=\"none\" stroke=\"black\" points=\"2567,-453.5 2567,-489.5 2754,-489.5 2754,-453.5 2567,-453.5\"/>\n<text text-anchor=\"middle\" x=\"2577\" y=\"-467.8\" font-family=\"Times,serif\" font-size=\"14.00\"> </text>\n<polyline fill=\"none\" stroke=\"black\" points=\"2587,-453.5 2587,-489.5 \"/>\n<text text-anchor=\"middle\" x=\"2629.5\" y=\"-467.8\" font-family=\"Times,serif\" font-size=\"14.00\">data &#45;0.3763</text>\n<polyline fill=\"none\" stroke=\"black\" points=\"2672,-453.5 2672,-489.5 \"/>\n<text text-anchor=\"middle\" x=\"2713\" y=\"-467.8\" font-family=\"Times,serif\" font-size=\"14.00\">grad 0.0000</text>\n</g>\n<!-- 140234581709632&#45;&gt;140234581709824+ -->\n<g id=\"edge108\" class=\"edge\">\n<title>140234581709632&#45;&gt;140234581709824+</title>\n<path fill=\"none\" stroke=\"black\" d=\"M2727.56,-453.45C2736.51,-450.64 2745.53,-447.63 2754,-444.5 2764.49,-440.62 2775.71,-435.78 2785.68,-431.22\"/>\n<polygon fill=\"black\" stroke=\"black\" points=\"2787.2,-434.37 2794.79,-426.97 2784.25,-428.02 2787.2,-434.37\"/>\n</g>\n<!-- 140234581709632*&#45;&gt;140234581709632 -->\n<g id=\"edge56\" class=\"edge\">\n<title>140234581709632*&#45;&gt;140234581709632</title>\n<path fill=\"none\" stroke=\"black\" d=\"M2526.55,-516.37C2538.36,-511.02 2553.34,-504.52 2567,-499.5 2573.24,-497.2 2579.77,-494.95 2586.34,-492.78\"/>\n<polygon fill=\"black\" stroke=\"black\" points=\"2587.55,-496.07 2595.98,-489.65 2585.39,-489.41 2587.55,-496.07\"/>\n</g>\n<!-- 140234582078368 -->\n<g id=\"node141\" class=\"node\">\n<title>140234582078368</title>\n<polygon fill=\"none\" stroke=\"black\" points=\"7,-440.5 7,-476.5 189,-476.5 189,-440.5 7,-440.5\"/>\n<text text-anchor=\"middle\" x=\"17\" y=\"-454.8\" font-family=\"Times,serif\" font-size=\"14.00\"> </text>\n<polyline fill=\"none\" stroke=\"black\" points=\"27,-440.5 27,-476.5 \"/>\n<text text-anchor=\"middle\" x=\"67\" y=\"-454.8\" font-family=\"Times,serif\" font-size=\"14.00\">data 0.5503</text>\n<polyline fill=\"none\" stroke=\"black\" points=\"107,-440.5 107,-476.5 \"/>\n<text text-anchor=\"middle\" x=\"148\" y=\"-454.8\" font-family=\"Times,serif\" font-size=\"14.00\">grad 0.0000</text>\n</g>\n<!-- 140234582179312* -->\n<g id=\"node184\" class=\"node\">\n<title>140234582179312*</title>\n<ellipse fill=\"none\" stroke=\"black\" cx=\"259\" cy=\"-403.5\" rx=\"27\" ry=\"18\"/>\n<text text-anchor=\"middle\" x=\"259\" y=\"-399.8\" font-family=\"Times,serif\" font-size=\"14.00\">*</text>\n</g>\n<!-- 140234582078368&#45;&gt;140234582179312* -->\n<g id=\"edge207\" class=\"edge\">\n<title>140234582078368&#45;&gt;140234582179312*</title>\n<path fill=\"none\" stroke=\"black\" d=\"M168.82,-440.45C178.03,-437.67 187.29,-434.66 196,-431.5 206.52,-427.69 217.74,-422.86 227.71,-418.3\"/>\n<polygon fill=\"black\" stroke=\"black\" points=\"229.24,-421.44 236.81,-414.04 226.27,-415.1 229.24,-421.44\"/>\n</g>\n<!-- 140234581709824 -->\n<g id=\"node142\" class=\"node\">\n<title>140234581709824</title>\n<polygon fill=\"none\" stroke=\"black\" points=\"2880,-398.5 2880,-434.5 3067,-434.5 3067,-398.5 2880,-398.5\"/>\n<text text-anchor=\"middle\" x=\"2890\" y=\"-412.8\" font-family=\"Times,serif\" font-size=\"14.00\"> </text>\n<polyline fill=\"none\" stroke=\"black\" points=\"2900,-398.5 2900,-434.5 \"/>\n<text text-anchor=\"middle\" x=\"2942.5\" y=\"-412.8\" font-family=\"Times,serif\" font-size=\"14.00\">data &#45;0.5619</text>\n<polyline fill=\"none\" stroke=\"black\" points=\"2985,-398.5 2985,-434.5 \"/>\n<text text-anchor=\"middle\" x=\"3026\" y=\"-412.8\" font-family=\"Times,serif\" font-size=\"14.00\">grad 0.0000</text>\n</g>\n<!-- 140234581709824&#45;&gt;140234581710016+ -->\n<g id=\"edge160\" class=\"edge\">\n<title>140234581709824&#45;&gt;140234581710016+</title>\n<path fill=\"none\" stroke=\"black\" d=\"M3067.05,-416.5C3076.06,-416.5 3084.79,-416.5 3092.7,-416.5\"/>\n<polygon fill=\"black\" stroke=\"black\" points=\"3092.95,-420 3102.95,-416.5 3092.95,-413 3092.95,-420\"/>\n</g>\n<!-- 140234581709824+&#45;&gt;140234581709824 -->\n<g id=\"edge57\" class=\"edge\">\n<title>140234581709824+&#45;&gt;140234581709824</title>\n<path fill=\"none\" stroke=\"black\" d=\"M2844.21,-416.5C2851.73,-416.5 2860.43,-416.5 2869.67,-416.5\"/>\n<polygon fill=\"black\" stroke=\"black\" points=\"2869.89,-420 2879.89,-416.5 2869.89,-413 2869.89,-420\"/>\n</g>\n<!-- 140234582078608 -->\n<g id=\"node144\" class=\"node\">\n<title>140234582078608</title>\n<polygon fill=\"none\" stroke=\"black\" points=\"4.5,-330.5 4.5,-366.5 191.5,-366.5 191.5,-330.5 4.5,-330.5\"/>\n<text text-anchor=\"middle\" x=\"14.5\" y=\"-344.8\" font-family=\"Times,serif\" font-size=\"14.00\"> </text>\n<polyline fill=\"none\" stroke=\"black\" points=\"24.5,-330.5 24.5,-366.5 \"/>\n<text text-anchor=\"middle\" x=\"67\" y=\"-344.8\" font-family=\"Times,serif\" font-size=\"14.00\">data &#45;0.4861</text>\n<polyline fill=\"none\" stroke=\"black\" points=\"109.5,-330.5 109.5,-366.5 \"/>\n<text text-anchor=\"middle\" x=\"150.5\" y=\"-344.8\" font-family=\"Times,serif\" font-size=\"14.00\">grad 0.0000</text>\n</g>\n<!-- 140234582179600* -->\n<g id=\"node193\" class=\"node\">\n<title>140234582179600*</title>\n<ellipse fill=\"none\" stroke=\"black\" cx=\"259\" cy=\"-321.5\" rx=\"27\" ry=\"18\"/>\n<text text-anchor=\"middle\" x=\"259\" y=\"-317.8\" font-family=\"Times,serif\" font-size=\"14.00\">*</text>\n</g>\n<!-- 140234582078608&#45;&gt;140234582179600* -->\n<g id=\"edge150\" class=\"edge\">\n<title>140234582078608&#45;&gt;140234582179600*</title>\n<path fill=\"none\" stroke=\"black\" d=\"M191.95,-332.72C202.81,-330.87 213.33,-329.09 222.66,-327.5\"/>\n<polygon fill=\"black\" stroke=\"black\" points=\"223.37,-330.93 232.64,-325.81 222.2,-324.03 223.37,-330.93\"/>\n</g>\n<!-- 140234581710016 -->\n<g id=\"node145\" class=\"node\">\n<title>140234581710016</title>\n<polygon fill=\"none\" stroke=\"black\" points=\"3193,-398.5 3193,-434.5 3380,-434.5 3380,-398.5 3193,-398.5\"/>\n<text text-anchor=\"middle\" x=\"3203\" y=\"-412.8\" font-family=\"Times,serif\" font-size=\"14.00\"> </text>\n<polyline fill=\"none\" stroke=\"black\" points=\"3213,-398.5 3213,-434.5 \"/>\n<text text-anchor=\"middle\" x=\"3255.5\" y=\"-412.8\" font-family=\"Times,serif\" font-size=\"14.00\">data &#45;1.1215</text>\n<polyline fill=\"none\" stroke=\"black\" points=\"3298,-398.5 3298,-434.5 \"/>\n<text text-anchor=\"middle\" x=\"3339\" y=\"-412.8\" font-family=\"Times,serif\" font-size=\"14.00\">grad 0.0000</text>\n</g>\n<!-- 140234581710256tanh -->\n<g id=\"node152\" class=\"node\">\n<title>140234581710256tanh</title>\n<ellipse fill=\"none\" stroke=\"black\" cx=\"3443\" cy=\"-416.5\" rx=\"27\" ry=\"18\"/>\n<text text-anchor=\"middle\" x=\"3443\" y=\"-412.8\" font-family=\"Times,serif\" font-size=\"14.00\">tanh</text>\n</g>\n<!-- 140234581710016&#45;&gt;140234581710256tanh -->\n<g id=\"edge147\" class=\"edge\">\n<title>140234581710016&#45;&gt;140234581710256tanh</title>\n<path fill=\"none\" stroke=\"black\" d=\"M3380.05,-416.5C3389.06,-416.5 3397.79,-416.5 3405.7,-416.5\"/>\n<polygon fill=\"black\" stroke=\"black\" points=\"3405.95,-420 3415.95,-416.5 3405.95,-413 3405.95,-420\"/>\n</g>\n<!-- 140234581710016+&#45;&gt;140234581710016 -->\n<g id=\"edge58\" class=\"edge\">\n<title>140234581710016+&#45;&gt;140234581710016</title>\n<path fill=\"none\" stroke=\"black\" d=\"M3157.21,-416.5C3164.73,-416.5 3173.43,-416.5 3182.67,-416.5\"/>\n<polygon fill=\"black\" stroke=\"black\" points=\"3182.89,-420 3192.89,-416.5 3182.89,-413 3182.89,-420\"/>\n</g>\n<!-- 140234582078704 -->\n<g id=\"node147\" class=\"node\">\n<title>140234582078704</title>\n<polygon fill=\"none\" stroke=\"black\" points=\"2880,-508.5 2880,-544.5 3067,-544.5 3067,-508.5 2880,-508.5\"/>\n<text text-anchor=\"middle\" x=\"2890\" y=\"-522.8\" font-family=\"Times,serif\" font-size=\"14.00\"> </text>\n<polyline fill=\"none\" stroke=\"black\" points=\"2900,-508.5 2900,-544.5 \"/>\n<text text-anchor=\"middle\" x=\"2942.5\" y=\"-522.8\" font-family=\"Times,serif\" font-size=\"14.00\">data &#45;0.8082</text>\n<polyline fill=\"none\" stroke=\"black\" points=\"2985,-508.5 2985,-544.5 \"/>\n<text text-anchor=\"middle\" x=\"3026\" y=\"-522.8\" font-family=\"Times,serif\" font-size=\"14.00\">grad 0.0000</text>\n</g>\n<!-- 140234582078704&#45;&gt;140234581699792+ -->\n<g id=\"edge167\" class=\"edge\">\n<title>140234582078704&#45;&gt;140234581699792+</title>\n<path fill=\"none\" stroke=\"black\" d=\"M3067.05,-526.5C3076.06,-526.5 3084.79,-526.5 3092.7,-526.5\"/>\n<polygon fill=\"black\" stroke=\"black\" points=\"3092.95,-530 3102.95,-526.5 3092.95,-523 3092.95,-530\"/>\n</g>\n<!-- 140234582078800 -->\n<g id=\"node148\" class=\"node\">\n<title>140234582078800</title>\n<polygon fill=\"none\" stroke=\"black\" points=\"333.5,-413.5 333.5,-449.5 515.5,-449.5 515.5,-413.5 333.5,-413.5\"/>\n<text text-anchor=\"middle\" x=\"343.5\" y=\"-427.8\" font-family=\"Times,serif\" font-size=\"14.00\"> </text>\n<polyline fill=\"none\" stroke=\"black\" points=\"353.5,-413.5 353.5,-449.5 \"/>\n<text text-anchor=\"middle\" x=\"393.5\" y=\"-427.8\" font-family=\"Times,serif\" font-size=\"14.00\">data 0.7563</text>\n<polyline fill=\"none\" stroke=\"black\" points=\"433.5,-413.5 433.5,-449.5 \"/>\n<text text-anchor=\"middle\" x=\"474.5\" y=\"-427.8\" font-family=\"Times,serif\" font-size=\"14.00\">grad 0.0000</text>\n</g>\n<!-- 140234582078800&#45;&gt;140234582017648* -->\n<g id=\"edge125\" class=\"edge\">\n<title>140234582078800&#45;&gt;140234582017648*</title>\n<path fill=\"none\" stroke=\"black\" d=\"M515.86,-431.5C528.84,-431.5 541.53,-431.5 552.6,-431.5\"/>\n<polygon fill=\"black\" stroke=\"black\" points=\"552.67,-435 562.67,-431.5 552.67,-428 552.67,-435\"/>\n</g>\n<!-- 140234582078848 -->\n<g id=\"node149\" class=\"node\">\n<title>140234582078848</title>\n<polygon fill=\"none\" stroke=\"black\" points=\"7,-55.5 7,-91.5 189,-91.5 189,-55.5 7,-55.5\"/>\n<text text-anchor=\"middle\" x=\"17\" y=\"-69.8\" font-family=\"Times,serif\" font-size=\"14.00\"> </text>\n<polyline fill=\"none\" stroke=\"black\" points=\"27,-55.5 27,-91.5 \"/>\n<text text-anchor=\"middle\" x=\"67\" y=\"-69.8\" font-family=\"Times,serif\" font-size=\"14.00\">data 0.0927</text>\n<polyline fill=\"none\" stroke=\"black\" points=\"107,-55.5 107,-91.5 \"/>\n<text text-anchor=\"middle\" x=\"148\" y=\"-69.8\" font-family=\"Times,serif\" font-size=\"14.00\">grad 0.0000</text>\n</g>\n<!-- 140234582078848&#45;&gt;140234581681248* -->\n<g id=\"edge202\" class=\"edge\">\n<title>140234582078848&#45;&gt;140234581681248*</title>\n<path fill=\"none\" stroke=\"black\" d=\"M168.82,-91.55C178.03,-94.33 187.29,-97.34 196,-100.5 206.52,-104.31 217.74,-109.14 227.71,-113.7\"/>\n<polygon fill=\"black\" stroke=\"black\" points=\"226.27,-116.9 236.81,-117.96 229.24,-110.56 226.27,-116.9\"/>\n</g>\n<!-- 140234582078896 -->\n<g id=\"node150\" class=\"node\">\n<title>140234582078896</title>\n<polygon fill=\"none\" stroke=\"black\" points=\"993,-323.5 993,-359.5 1180,-359.5 1180,-323.5 993,-323.5\"/>\n<text text-anchor=\"middle\" x=\"1003\" y=\"-337.8\" font-family=\"Times,serif\" font-size=\"14.00\"> </text>\n<polyline fill=\"none\" stroke=\"black\" points=\"1013,-323.5 1013,-359.5 \"/>\n<text text-anchor=\"middle\" x=\"1055.5\" y=\"-337.8\" font-family=\"Times,serif\" font-size=\"14.00\">data &#45;0.6882</text>\n<polyline fill=\"none\" stroke=\"black\" points=\"1098,-323.5 1098,-359.5 \"/>\n<text text-anchor=\"middle\" x=\"1139\" y=\"-337.8\" font-family=\"Times,serif\" font-size=\"14.00\">grad 0.0000</text>\n</g>\n<!-- 140234582078896&#45;&gt;140234581680432+ -->\n<g id=\"edge174\" class=\"edge\">\n<title>140234582078896&#45;&gt;140234581680432+</title>\n<path fill=\"none\" stroke=\"black\" d=\"M1180.24,-352.84C1192.67,-354.36 1204.76,-355.84 1215.32,-357.14\"/>\n<polygon fill=\"black\" stroke=\"black\" points=\"1214.98,-360.62 1225.33,-358.36 1215.83,-353.67 1214.98,-360.62\"/>\n</g>\n<!-- 140234581710256 -->\n<g id=\"node151\" class=\"node\">\n<title>140234581710256</title>\n<polygon fill=\"none\" stroke=\"black\" points=\"3506,-398.5 3506,-434.5 3693,-434.5 3693,-398.5 3506,-398.5\"/>\n<text text-anchor=\"middle\" x=\"3516\" y=\"-412.8\" font-family=\"Times,serif\" font-size=\"14.00\"> </text>\n<polyline fill=\"none\" stroke=\"black\" points=\"3526,-398.5 3526,-434.5 \"/>\n<text text-anchor=\"middle\" x=\"3568.5\" y=\"-412.8\" font-family=\"Times,serif\" font-size=\"14.00\">data &#45;0.8081</text>\n<polyline fill=\"none\" stroke=\"black\" points=\"3611,-398.5 3611,-434.5 \"/>\n<text text-anchor=\"middle\" x=\"3652\" y=\"-412.8\" font-family=\"Times,serif\" font-size=\"14.00\">grad 0.0000</text>\n</g>\n<!-- 140234581710256&#45;&gt;140234581731120* -->\n<g id=\"edge142\" class=\"edge\">\n<title>140234581710256&#45;&gt;140234581731120*</title>\n<path fill=\"none\" stroke=\"black\" d=\"M3664.02,-434.65C3673.79,-437.76 3683.71,-441.08 3693,-444.5 3703.25,-448.27 3714.23,-452.86 3724.07,-457.18\"/>\n<polygon fill=\"black\" stroke=\"black\" points=\"3722.89,-460.49 3733.45,-461.37 3725.74,-454.1 3722.89,-460.49\"/>\n</g>\n<!-- 140234581710256tanh&#45;&gt;140234581710256 -->\n<g id=\"edge59\" class=\"edge\">\n<title>140234581710256tanh&#45;&gt;140234581710256</title>\n<path fill=\"none\" stroke=\"black\" d=\"M3470.21,-416.5C3477.73,-416.5 3486.43,-416.5 3495.67,-416.5\"/>\n<polygon fill=\"black\" stroke=\"black\" points=\"3495.89,-420 3505.89,-416.5 3495.89,-413 3495.89,-420\"/>\n</g>\n<!-- 140234581710496 -->\n<g id=\"node153\" class=\"node\">\n<title>140234581710496</title>\n<polygon fill=\"none\" stroke=\"black\" points=\"1943.5,-618.5 1943.5,-654.5 2125.5,-654.5 2125.5,-618.5 1943.5,-618.5\"/>\n<text text-anchor=\"middle\" x=\"1953.5\" y=\"-632.8\" font-family=\"Times,serif\" font-size=\"14.00\"> </text>\n<polyline fill=\"none\" stroke=\"black\" points=\"1963.5,-618.5 1963.5,-654.5 \"/>\n<text text-anchor=\"middle\" x=\"2003.5\" y=\"-632.8\" font-family=\"Times,serif\" font-size=\"14.00\">data 0.4790</text>\n<polyline fill=\"none\" stroke=\"black\" points=\"2043.5,-618.5 2043.5,-654.5 \"/>\n<text text-anchor=\"middle\" x=\"2084.5\" y=\"-632.8\" font-family=\"Times,serif\" font-size=\"14.00\">grad 0.0000</text>\n</g>\n<!-- 140234581710928+ -->\n<g id=\"node159\" class=\"node\">\n<title>140234581710928+</title>\n<ellipse fill=\"none\" stroke=\"black\" cx=\"2191\" cy=\"-581.5\" rx=\"27\" ry=\"18\"/>\n<text text-anchor=\"middle\" x=\"2191\" y=\"-577.8\" font-family=\"Times,serif\" font-size=\"14.00\">+</text>\n</g>\n<!-- 140234581710496&#45;&gt;140234581710928+ -->\n<g id=\"edge138\" class=\"edge\">\n<title>140234581710496&#45;&gt;140234581710928+</title>\n<path fill=\"none\" stroke=\"black\" d=\"M2101.56,-618.45C2110.51,-615.64 2119.53,-612.63 2128,-609.5 2138.49,-605.62 2149.71,-600.78 2159.68,-596.22\"/>\n<polygon fill=\"black\" stroke=\"black\" points=\"2161.2,-599.37 2168.79,-591.97 2158.25,-593.02 2161.2,-599.37\"/>\n</g>\n<!-- 140234581710496*&#45;&gt;140234581710496 -->\n<g id=\"edge60\" class=\"edge\">\n<title>140234581710496*&#45;&gt;140234581710496</title>\n<path fill=\"none\" stroke=\"black\" d=\"M1904.86,-625.68C1913.13,-626.37 1922.83,-627.19 1933.14,-628.06\"/>\n<polygon fill=\"black\" stroke=\"black\" points=\"1932.93,-631.55 1943.18,-628.9 1933.51,-624.57 1932.93,-631.55\"/>\n</g>\n<!-- 140234582079280 -->\n<g id=\"node155\" class=\"node\">\n<title>140234582079280</title>\n<polygon fill=\"none\" stroke=\"black\" points=\"331,-0.5 331,-36.5 518,-36.5 518,-0.5 331,-0.5\"/>\n<text text-anchor=\"middle\" x=\"341\" y=\"-14.8\" font-family=\"Times,serif\" font-size=\"14.00\"> </text>\n<polyline fill=\"none\" stroke=\"black\" points=\"351,-0.5 351,-36.5 \"/>\n<text text-anchor=\"middle\" x=\"393.5\" y=\"-14.8\" font-family=\"Times,serif\" font-size=\"14.00\">data &#45;0.9153</text>\n<polyline fill=\"none\" stroke=\"black\" points=\"436,-0.5 436,-36.5 \"/>\n<text text-anchor=\"middle\" x=\"477\" y=\"-14.8\" font-family=\"Times,serif\" font-size=\"14.00\">grad 0.0000</text>\n</g>\n<!-- 140234582079280&#45;&gt;140234581681728* -->\n<g id=\"edge162\" class=\"edge\">\n<title>140234582079280&#45;&gt;140234581681728*</title>\n<path fill=\"none\" stroke=\"black\" d=\"M499.12,-36.55C508.58,-39.32 518.07,-42.32 527,-45.5 537.54,-49.25 548.77,-54.06 558.73,-58.63\"/>\n<polygon fill=\"black\" stroke=\"black\" points=\"557.3,-61.82 567.84,-62.9 560.27,-55.49 557.3,-61.82\"/>\n</g>\n<!-- 140234581710736 -->\n<g id=\"node156\" class=\"node\">\n<title>140234581710736</title>\n<polygon fill=\"none\" stroke=\"black\" points=\"1943.5,-563.5 1943.5,-599.5 2125.5,-599.5 2125.5,-563.5 1943.5,-563.5\"/>\n<text text-anchor=\"middle\" x=\"1953.5\" y=\"-577.8\" font-family=\"Times,serif\" font-size=\"14.00\"> </text>\n<polyline fill=\"none\" stroke=\"black\" points=\"1963.5,-563.5 1963.5,-599.5 \"/>\n<text text-anchor=\"middle\" x=\"2003.5\" y=\"-577.8\" font-family=\"Times,serif\" font-size=\"14.00\">data 0.2991</text>\n<polyline fill=\"none\" stroke=\"black\" points=\"2043.5,-563.5 2043.5,-599.5 \"/>\n<text text-anchor=\"middle\" x=\"2084.5\" y=\"-577.8\" font-family=\"Times,serif\" font-size=\"14.00\">grad 0.0000</text>\n</g>\n<!-- 140234581710736&#45;&gt;140234581710928+ -->\n<g id=\"edge141\" class=\"edge\">\n<title>140234581710736&#45;&gt;140234581710928+</title>\n<path fill=\"none\" stroke=\"black\" d=\"M2125.82,-581.5C2135.57,-581.5 2145.04,-581.5 2153.57,-581.5\"/>\n<polygon fill=\"black\" stroke=\"black\" points=\"2153.83,-585 2163.83,-581.5 2153.83,-578 2153.83,-585\"/>\n</g>\n<!-- 140234581710736*&#45;&gt;140234581710736 -->\n<g id=\"edge61\" class=\"edge\">\n<title>140234581710736*&#45;&gt;140234581710736</title>\n<path fill=\"none\" stroke=\"black\" d=\"M1904.86,-564.85C1913.13,-565.92 1922.83,-567.17 1933.14,-568.51\"/>\n<polygon fill=\"black\" stroke=\"black\" points=\"1932.82,-572 1943.18,-569.81 1933.72,-565.05 1932.82,-572\"/>\n</g>\n<!-- 140234581710928 -->\n<g id=\"node158\" class=\"node\">\n<title>140234581710928</title>\n<polygon fill=\"none\" stroke=\"black\" points=\"2256.5,-563.5 2256.5,-599.5 2438.5,-599.5 2438.5,-563.5 2256.5,-563.5\"/>\n<text text-anchor=\"middle\" x=\"2266.5\" y=\"-577.8\" font-family=\"Times,serif\" font-size=\"14.00\"> </text>\n<polyline fill=\"none\" stroke=\"black\" points=\"2276.5,-563.5 2276.5,-599.5 \"/>\n<text text-anchor=\"middle\" x=\"2316.5\" y=\"-577.8\" font-family=\"Times,serif\" font-size=\"14.00\">data 0.7781</text>\n<polyline fill=\"none\" stroke=\"black\" points=\"2356.5,-563.5 2356.5,-599.5 \"/>\n<text text-anchor=\"middle\" x=\"2397.5\" y=\"-577.8\" font-family=\"Times,serif\" font-size=\"14.00\">grad 0.0000</text>\n</g>\n<!-- 140234581711360+ -->\n<g id=\"node164\" class=\"node\">\n<title>140234581711360+</title>\n<ellipse fill=\"none\" stroke=\"black\" cx=\"2504\" cy=\"-636.5\" rx=\"27\" ry=\"18\"/>\n<text text-anchor=\"middle\" x=\"2504\" y=\"-632.8\" font-family=\"Times,serif\" font-size=\"14.00\">+</text>\n</g>\n<!-- 140234581710928&#45;&gt;140234581711360+ -->\n<g id=\"edge92\" class=\"edge\">\n<title>140234581710928&#45;&gt;140234581711360+</title>\n<path fill=\"none\" stroke=\"black\" d=\"M2412.02,-599.65C2421.79,-602.76 2431.71,-606.08 2441,-609.5 2451.25,-613.27 2462.23,-617.86 2472.07,-622.18\"/>\n<polygon fill=\"black\" stroke=\"black\" points=\"2470.89,-625.49 2481.45,-626.37 2473.74,-619.1 2470.89,-625.49\"/>\n</g>\n<!-- 140234581710928+&#45;&gt;140234581710928 -->\n<g id=\"edge62\" class=\"edge\">\n<title>140234581710928+&#45;&gt;140234581710928</title>\n<path fill=\"none\" stroke=\"black\" d=\"M2218.21,-581.5C2226.34,-581.5 2235.85,-581.5 2245.94,-581.5\"/>\n<polygon fill=\"black\" stroke=\"black\" points=\"2246.19,-585 2256.19,-581.5 2246.19,-578 2246.19,-585\"/>\n</g>\n<!-- 140234581711168 -->\n<g id=\"node160\" class=\"node\">\n<title>140234581711168</title>\n<polygon fill=\"none\" stroke=\"black\" points=\"2256.5,-618.5 2256.5,-654.5 2438.5,-654.5 2438.5,-618.5 2256.5,-618.5\"/>\n<text text-anchor=\"middle\" x=\"2266.5\" y=\"-632.8\" font-family=\"Times,serif\" font-size=\"14.00\"> </text>\n<polyline fill=\"none\" stroke=\"black\" points=\"2276.5,-618.5 2276.5,-654.5 \"/>\n<text text-anchor=\"middle\" x=\"2316.5\" y=\"-632.8\" font-family=\"Times,serif\" font-size=\"14.00\">data 0.9855</text>\n<polyline fill=\"none\" stroke=\"black\" points=\"2356.5,-618.5 2356.5,-654.5 \"/>\n<text text-anchor=\"middle\" x=\"2397.5\" y=\"-632.8\" font-family=\"Times,serif\" font-size=\"14.00\">grad 0.0000</text>\n</g>\n<!-- 140234581711168&#45;&gt;140234581711360+ -->\n<g id=\"edge137\" class=\"edge\">\n<title>140234581711168&#45;&gt;140234581711360+</title>\n<path fill=\"none\" stroke=\"black\" d=\"M2438.82,-636.5C2448.57,-636.5 2458.04,-636.5 2466.57,-636.5\"/>\n<polygon fill=\"black\" stroke=\"black\" points=\"2466.83,-640 2476.83,-636.5 2466.83,-633 2466.83,-640\"/>\n</g>\n<!-- 140234581711168*&#45;&gt;140234581711168 -->\n<g id=\"edge63\" class=\"edge\">\n<title>140234581711168*&#45;&gt;140234581711168</title>\n<path fill=\"none\" stroke=\"black\" d=\"M2218.21,-636.5C2226.34,-636.5 2235.85,-636.5 2245.94,-636.5\"/>\n<polygon fill=\"black\" stroke=\"black\" points=\"2246.19,-640 2256.19,-636.5 2246.19,-633 2246.19,-640\"/>\n</g>\n<!-- 140234582080000 -->\n<g id=\"node162\" class=\"node\">\n<title>140234582080000</title>\n<polygon fill=\"none\" stroke=\"black\" points=\"995.5,-58.5 995.5,-94.5 1177.5,-94.5 1177.5,-58.5 995.5,-58.5\"/>\n<text text-anchor=\"middle\" x=\"1005.5\" y=\"-72.8\" font-family=\"Times,serif\" font-size=\"14.00\"> </text>\n<polyline fill=\"none\" stroke=\"black\" points=\"1015.5,-58.5 1015.5,-94.5 \"/>\n<text text-anchor=\"middle\" x=\"1055.5\" y=\"-72.8\" font-family=\"Times,serif\" font-size=\"14.00\">data 0.6705</text>\n<polyline fill=\"none\" stroke=\"black\" points=\"1095.5,-58.5 1095.5,-94.5 \"/>\n<text text-anchor=\"middle\" x=\"1136.5\" y=\"-72.8\" font-family=\"Times,serif\" font-size=\"14.00\">grad 0.0000</text>\n</g>\n<!-- 140234582080000&#45;&gt;140234581682112+ -->\n<g id=\"edge120\" class=\"edge\">\n<title>140234582080000&#45;&gt;140234581682112+</title>\n<path fill=\"none\" stroke=\"black\" d=\"M1161.12,-94.55C1170.58,-97.32 1180.07,-100.32 1189,-103.5 1199.54,-107.25 1210.77,-112.06 1220.73,-116.63\"/>\n<polygon fill=\"black\" stroke=\"black\" points=\"1219.3,-119.82 1229.84,-120.9 1222.27,-113.49 1219.3,-119.82\"/>\n</g>\n<!-- 140234581711360 -->\n<g id=\"node163\" class=\"node\">\n<title>140234581711360</title>\n<polygon fill=\"none\" stroke=\"black\" points=\"2569.5,-618.5 2569.5,-654.5 2751.5,-654.5 2751.5,-618.5 2569.5,-618.5\"/>\n<text text-anchor=\"middle\" x=\"2579.5\" y=\"-632.8\" font-family=\"Times,serif\" font-size=\"14.00\"> </text>\n<polyline fill=\"none\" stroke=\"black\" points=\"2589.5,-618.5 2589.5,-654.5 \"/>\n<text text-anchor=\"middle\" x=\"2629.5\" y=\"-632.8\" font-family=\"Times,serif\" font-size=\"14.00\">data 1.7636</text>\n<polyline fill=\"none\" stroke=\"black\" points=\"2669.5,-618.5 2669.5,-654.5 \"/>\n<text text-anchor=\"middle\" x=\"2710.5\" y=\"-632.8\" font-family=\"Times,serif\" font-size=\"14.00\">grad 0.0000</text>\n</g>\n<!-- 140234581711792+ -->\n<g id=\"node172\" class=\"node\">\n<title>140234581711792+</title>\n<ellipse fill=\"none\" stroke=\"black\" cx=\"2817\" cy=\"-636.5\" rx=\"27\" ry=\"18\"/>\n<text text-anchor=\"middle\" x=\"2817\" y=\"-632.8\" font-family=\"Times,serif\" font-size=\"14.00\">+</text>\n</g>\n<!-- 140234581711360&#45;&gt;140234581711792+ -->\n<g id=\"edge127\" class=\"edge\">\n<title>140234581711360&#45;&gt;140234581711792+</title>\n<path fill=\"none\" stroke=\"black\" d=\"M2751.82,-636.5C2761.57,-636.5 2771.04,-636.5 2779.57,-636.5\"/>\n<polygon fill=\"black\" stroke=\"black\" points=\"2779.83,-640 2789.83,-636.5 2779.83,-633 2779.83,-640\"/>\n</g>\n<!-- 140234581711360+&#45;&gt;140234581711360 -->\n<g id=\"edge64\" class=\"edge\">\n<title>140234581711360+&#45;&gt;140234581711360</title>\n<path fill=\"none\" stroke=\"black\" d=\"M2531.21,-636.5C2539.34,-636.5 2548.85,-636.5 2558.94,-636.5\"/>\n<polygon fill=\"black\" stroke=\"black\" points=\"2559.19,-640 2569.19,-636.5 2559.19,-633 2559.19,-640\"/>\n</g>\n<!-- 140234582080048 -->\n<g id=\"node165\" class=\"node\">\n<title>140234582080048</title>\n<polygon fill=\"none\" stroke=\"black\" points=\"664.5,-839.5 664.5,-875.5 846.5,-875.5 846.5,-839.5 664.5,-839.5\"/>\n<text text-anchor=\"middle\" x=\"674.5\" y=\"-853.8\" font-family=\"Times,serif\" font-size=\"14.00\"> </text>\n<polyline fill=\"none\" stroke=\"black\" points=\"684.5,-839.5 684.5,-875.5 \"/>\n<text text-anchor=\"middle\" x=\"724.5\" y=\"-853.8\" font-family=\"Times,serif\" font-size=\"14.00\">data 0.6933</text>\n<polyline fill=\"none\" stroke=\"black\" points=\"764.5,-839.5 764.5,-875.5 \"/>\n<text text-anchor=\"middle\" x=\"805.5\" y=\"-853.8\" font-family=\"Times,serif\" font-size=\"14.00\">grad 0.0000</text>\n</g>\n<!-- 140234582080048&#45;&gt;140234581696672* -->\n<g id=\"edge159\" class=\"edge\">\n<title>140234582080048&#45;&gt;140234581696672*</title>\n<path fill=\"none\" stroke=\"black\" d=\"M846.86,-857.5C859.84,-857.5 872.53,-857.5 883.6,-857.5\"/>\n<polygon fill=\"black\" stroke=\"black\" points=\"883.67,-861 893.67,-857.5 883.67,-854 883.67,-861\"/>\n</g>\n<!-- 140234582080144 -->\n<g id=\"node166\" class=\"node\">\n<title>140234582080144</title>\n<polygon fill=\"none\" stroke=\"black\" points=\"2254,-508.5 2254,-544.5 2441,-544.5 2441,-508.5 2254,-508.5\"/>\n<text text-anchor=\"middle\" x=\"2264\" y=\"-522.8\" font-family=\"Times,serif\" font-size=\"14.00\"> </text>\n<polyline fill=\"none\" stroke=\"black\" points=\"2274,-508.5 2274,-544.5 \"/>\n<text text-anchor=\"middle\" x=\"2316.5\" y=\"-522.8\" font-family=\"Times,serif\" font-size=\"14.00\">data &#45;0.3798</text>\n<polyline fill=\"none\" stroke=\"black\" points=\"2359,-508.5 2359,-544.5 \"/>\n<text text-anchor=\"middle\" x=\"2400\" y=\"-522.8\" font-family=\"Times,serif\" font-size=\"14.00\">grad 0.0000</text>\n</g>\n<!-- 140234582080144&#45;&gt;140234581709632* -->\n<g id=\"edge89\" class=\"edge\">\n<title>140234582080144&#45;&gt;140234581709632*</title>\n<path fill=\"none\" stroke=\"black\" d=\"M2441.05,-526.5C2450.06,-526.5 2458.79,-526.5 2466.7,-526.5\"/>\n<polygon fill=\"black\" stroke=\"black\" points=\"2466.95,-530 2476.95,-526.5 2466.95,-523 2466.95,-530\"/>\n</g>\n<!-- 140234582080192 -->\n<g id=\"node167\" class=\"node\">\n<title>140234582080192</title>\n<polygon fill=\"none\" stroke=\"black\" points=\"664.5,-729.5 664.5,-765.5 846.5,-765.5 846.5,-729.5 664.5,-729.5\"/>\n<text text-anchor=\"middle\" x=\"674.5\" y=\"-743.8\" font-family=\"Times,serif\" font-size=\"14.00\"> </text>\n<polyline fill=\"none\" stroke=\"black\" points=\"684.5,-729.5 684.5,-765.5 \"/>\n<text text-anchor=\"middle\" x=\"724.5\" y=\"-743.8\" font-family=\"Times,serif\" font-size=\"14.00\">data 0.8152</text>\n<polyline fill=\"none\" stroke=\"black\" points=\"764.5,-729.5 764.5,-765.5 \"/>\n<text text-anchor=\"middle\" x=\"805.5\" y=\"-743.8\" font-family=\"Times,serif\" font-size=\"14.00\">grad 0.0000</text>\n</g>\n<!-- 140234582080192&#45;&gt;140234581696960* -->\n<g id=\"edge197\" class=\"edge\">\n<title>140234582080192&#45;&gt;140234581696960*</title>\n<path fill=\"none\" stroke=\"black\" d=\"M827.07,-765.58C837.51,-768.65 848.09,-772 858,-775.5 868.29,-779.14 879.29,-783.7 889.12,-788.03\"/>\n<polygon fill=\"black\" stroke=\"black\" points=\"887.94,-791.33 898.49,-792.24 890.81,-784.95 887.94,-791.33\"/>\n</g>\n<!-- 140234581711600 -->\n<g id=\"node168\" class=\"node\">\n<title>140234581711600</title>\n<polygon fill=\"none\" stroke=\"black\" points=\"2569.5,-699.5 2569.5,-735.5 2751.5,-735.5 2751.5,-699.5 2569.5,-699.5\"/>\n<text text-anchor=\"middle\" x=\"2579.5\" y=\"-713.8\" font-family=\"Times,serif\" font-size=\"14.00\"> </text>\n<polyline fill=\"none\" stroke=\"black\" points=\"2589.5,-699.5 2589.5,-735.5 \"/>\n<text text-anchor=\"middle\" x=\"2629.5\" y=\"-713.8\" font-family=\"Times,serif\" font-size=\"14.00\">data 0.0030</text>\n<polyline fill=\"none\" stroke=\"black\" points=\"2669.5,-699.5 2669.5,-735.5 \"/>\n<text text-anchor=\"middle\" x=\"2710.5\" y=\"-713.8\" font-family=\"Times,serif\" font-size=\"14.00\">grad 0.0000</text>\n</g>\n<!-- 140234581711600&#45;&gt;140234581711792+ -->\n<g id=\"edge101\" class=\"edge\">\n<title>140234581711600&#45;&gt;140234581711792+</title>\n<path fill=\"none\" stroke=\"black\" d=\"M2696.17,-699.32C2723.27,-685.11 2760.54,-665.58 2786.28,-652.08\"/>\n<polygon fill=\"black\" stroke=\"black\" points=\"2787.97,-655.15 2795.2,-647.4 2784.72,-648.95 2787.97,-655.15\"/>\n</g>\n<!-- 140234581711600*&#45;&gt;140234581711600 -->\n<g id=\"edge65\" class=\"edge\">\n<title>140234581711600*&#45;&gt;140234581711600</title>\n<path fill=\"none\" stroke=\"black\" d=\"M2530.51,-740.04C2538.83,-738.59 2548.62,-736.88 2559.03,-735.06\"/>\n<polygon fill=\"black\" stroke=\"black\" points=\"2559.93,-738.45 2569.18,-733.28 2558.73,-731.56 2559.93,-738.45\"/>\n</g>\n<!-- 140234582080288 -->\n<g id=\"node170\" class=\"node\">\n<title>140234582080288</title>\n<polygon fill=\"none\" stroke=\"black\" points=\"995.5,-674.5 995.5,-710.5 1177.5,-710.5 1177.5,-674.5 995.5,-674.5\"/>\n<text text-anchor=\"middle\" x=\"1005.5\" y=\"-688.8\" font-family=\"Times,serif\" font-size=\"14.00\"> </text>\n<polyline fill=\"none\" stroke=\"black\" points=\"1015.5,-674.5 1015.5,-710.5 \"/>\n<text text-anchor=\"middle\" x=\"1055.5\" y=\"-688.8\" font-family=\"Times,serif\" font-size=\"14.00\">data 0.9113</text>\n<polyline fill=\"none\" stroke=\"black\" points=\"1095.5,-674.5 1095.5,-710.5 \"/>\n<text text-anchor=\"middle\" x=\"1136.5\" y=\"-688.8\" font-family=\"Times,serif\" font-size=\"14.00\">grad 0.0000</text>\n</g>\n<!-- 140234582080288&#45;&gt;140234581697440* -->\n<g id=\"edge144\" class=\"edge\">\n<title>140234582080288&#45;&gt;140234581697440*</title>\n<path fill=\"none\" stroke=\"black\" d=\"M1158.07,-710.58C1168.51,-713.65 1179.09,-717 1189,-720.5 1199.29,-724.14 1210.29,-728.7 1220.12,-733.03\"/>\n<polygon fill=\"black\" stroke=\"black\" points=\"1218.94,-736.33 1229.49,-737.24 1221.81,-729.95 1218.94,-736.33\"/>\n</g>\n<!-- 140234581711792 -->\n<g id=\"node171\" class=\"node\">\n<title>140234581711792</title>\n<polygon fill=\"none\" stroke=\"black\" points=\"2882.5,-618.5 2882.5,-654.5 3064.5,-654.5 3064.5,-618.5 2882.5,-618.5\"/>\n<text text-anchor=\"middle\" x=\"2892.5\" y=\"-632.8\" font-family=\"Times,serif\" font-size=\"14.00\"> </text>\n<polyline fill=\"none\" stroke=\"black\" points=\"2902.5,-618.5 2902.5,-654.5 \"/>\n<text text-anchor=\"middle\" x=\"2942.5\" y=\"-632.8\" font-family=\"Times,serif\" font-size=\"14.00\">data 1.7665</text>\n<polyline fill=\"none\" stroke=\"black\" points=\"2982.5,-618.5 2982.5,-654.5 \"/>\n<text text-anchor=\"middle\" x=\"3023.5\" y=\"-632.8\" font-family=\"Times,serif\" font-size=\"14.00\">grad 0.0000</text>\n</g>\n<!-- 140234581711792&#45;&gt;140234581711984+ -->\n<g id=\"edge187\" class=\"edge\">\n<title>140234581711792&#45;&gt;140234581711984+</title>\n<path fill=\"none\" stroke=\"black\" d=\"M3064.82,-636.5C3074.57,-636.5 3084.04,-636.5 3092.57,-636.5\"/>\n<polygon fill=\"black\" stroke=\"black\" points=\"3092.83,-640 3102.83,-636.5 3092.83,-633 3092.83,-640\"/>\n</g>\n<!-- 140234581711792+&#45;&gt;140234581711792 -->\n<g id=\"edge66\" class=\"edge\">\n<title>140234581711792+&#45;&gt;140234581711792</title>\n<path fill=\"none\" stroke=\"black\" d=\"M2844.21,-636.5C2852.34,-636.5 2861.85,-636.5 2871.94,-636.5\"/>\n<polygon fill=\"black\" stroke=\"black\" points=\"2872.19,-640 2882.19,-636.5 2872.19,-633 2872.19,-640\"/>\n</g>\n<!-- 140234582080432 -->\n<g id=\"node173\" class=\"node\">\n<title>140234582080432</title>\n<polygon fill=\"none\" stroke=\"black\" points=\"1628,-68.5 1628,-104.5 1815,-104.5 1815,-68.5 1628,-68.5\"/>\n<text text-anchor=\"middle\" x=\"1638\" y=\"-82.8\" font-family=\"Times,serif\" font-size=\"14.00\"> </text>\n<polyline fill=\"none\" stroke=\"black\" points=\"1648,-68.5 1648,-104.5 \"/>\n<text text-anchor=\"middle\" x=\"1690.5\" y=\"-82.8\" font-family=\"Times,serif\" font-size=\"14.00\">data &#45;0.2936</text>\n<polyline fill=\"none\" stroke=\"black\" points=\"1733,-68.5 1733,-104.5 \"/>\n<text text-anchor=\"middle\" x=\"1774\" y=\"-82.8\" font-family=\"Times,serif\" font-size=\"14.00\">grad 0.0000</text>\n</g>\n<!-- 140234582080432&#45;&gt;140234581700512* -->\n<g id=\"edge170\" class=\"edge\">\n<title>140234582080432&#45;&gt;140234581700512*</title>\n<path fill=\"none\" stroke=\"black\" d=\"M1788.56,-104.55C1797.51,-107.36 1806.53,-110.37 1815,-113.5 1825.49,-117.38 1836.71,-122.22 1846.68,-126.78\"/>\n<polygon fill=\"black\" stroke=\"black\" points=\"1845.25,-129.98 1855.79,-131.03 1848.2,-123.63 1845.25,-129.98\"/>\n</g>\n<!-- 140234582080576 -->\n<g id=\"node174\" class=\"node\">\n<title>140234582080576</title>\n<polygon fill=\"none\" stroke=\"black\" points=\"1628,-701.5 1628,-737.5 1815,-737.5 1815,-701.5 1628,-701.5\"/>\n<text text-anchor=\"middle\" x=\"1638\" y=\"-715.8\" font-family=\"Times,serif\" font-size=\"14.00\"> </text>\n<polyline fill=\"none\" stroke=\"black\" points=\"1648,-701.5 1648,-737.5 \"/>\n<text text-anchor=\"middle\" x=\"1690.5\" y=\"-715.8\" font-family=\"Times,serif\" font-size=\"14.00\">data &#45;0.2281</text>\n<polyline fill=\"none\" stroke=\"black\" points=\"1733,-701.5 1733,-737.5 \"/>\n<text text-anchor=\"middle\" x=\"1774\" y=\"-715.8\" font-family=\"Times,serif\" font-size=\"14.00\">grad 0.0000</text>\n</g>\n<!-- 140234582080576&#45;&gt;140234581697824+ -->\n<g id=\"edge140\" class=\"edge\">\n<title>140234582080576&#45;&gt;140234581697824+</title>\n<path fill=\"none\" stroke=\"black\" d=\"M1815.05,-735.67C1824.34,-737.3 1833.33,-738.87 1841.44,-740.29\"/>\n<polygon fill=\"black\" stroke=\"black\" points=\"1841.1,-743.78 1851.55,-742.05 1842.3,-736.88 1841.1,-743.78\"/>\n</g>\n<!-- 140234581711984 -->\n<g id=\"node175\" class=\"node\">\n<title>140234581711984</title>\n<polygon fill=\"none\" stroke=\"black\" points=\"3195.5,-618.5 3195.5,-654.5 3377.5,-654.5 3377.5,-618.5 3195.5,-618.5\"/>\n<text text-anchor=\"middle\" x=\"3205.5\" y=\"-632.8\" font-family=\"Times,serif\" font-size=\"14.00\"> </text>\n<polyline fill=\"none\" stroke=\"black\" points=\"3215.5,-618.5 3215.5,-654.5 \"/>\n<text text-anchor=\"middle\" x=\"3255.5\" y=\"-632.8\" font-family=\"Times,serif\" font-size=\"14.00\">data 2.1151</text>\n<polyline fill=\"none\" stroke=\"black\" points=\"3295.5,-618.5 3295.5,-654.5 \"/>\n<text text-anchor=\"middle\" x=\"3336.5\" y=\"-632.8\" font-family=\"Times,serif\" font-size=\"14.00\">grad 0.0000</text>\n</g>\n<!-- 140234581712224tanh -->\n<g id=\"node181\" class=\"node\">\n<title>140234581712224tanh</title>\n<ellipse fill=\"none\" stroke=\"black\" cx=\"3443\" cy=\"-636.5\" rx=\"27\" ry=\"18\"/>\n<text text-anchor=\"middle\" x=\"3443\" y=\"-632.8\" font-family=\"Times,serif\" font-size=\"14.00\">tanh</text>\n</g>\n<!-- 140234581711984&#45;&gt;140234581712224tanh -->\n<g id=\"edge175\" class=\"edge\">\n<title>140234581711984&#45;&gt;140234581712224tanh</title>\n<path fill=\"none\" stroke=\"black\" d=\"M3377.82,-636.5C3387.57,-636.5 3397.04,-636.5 3405.57,-636.5\"/>\n<polygon fill=\"black\" stroke=\"black\" points=\"3405.83,-640 3415.83,-636.5 3405.83,-633 3405.83,-640\"/>\n</g>\n<!-- 140234581711984+&#45;&gt;140234581711984 -->\n<g id=\"edge67\" class=\"edge\">\n<title>140234581711984+&#45;&gt;140234581711984</title>\n<path fill=\"none\" stroke=\"black\" d=\"M3157.21,-636.5C3165.34,-636.5 3174.85,-636.5 3184.94,-636.5\"/>\n<polygon fill=\"black\" stroke=\"black\" points=\"3185.19,-640 3195.19,-636.5 3185.19,-633 3185.19,-640\"/>\n</g>\n<!-- 140234582080768 -->\n<g id=\"node177\" class=\"node\">\n<title>140234582080768</title>\n<polygon fill=\"none\" stroke=\"black\" points=\"1628,-398.5 1628,-434.5 1815,-434.5 1815,-398.5 1628,-398.5\"/>\n<text text-anchor=\"middle\" x=\"1638\" y=\"-412.8\" font-family=\"Times,serif\" font-size=\"14.00\"> </text>\n<polyline fill=\"none\" stroke=\"black\" points=\"1648,-398.5 1648,-434.5 \"/>\n<text text-anchor=\"middle\" x=\"1690.5\" y=\"-412.8\" font-family=\"Times,serif\" font-size=\"14.00\">data &#45;0.1466</text>\n<polyline fill=\"none\" stroke=\"black\" points=\"1733,-398.5 1733,-434.5 \"/>\n<text text-anchor=\"middle\" x=\"1774\" y=\"-412.8\" font-family=\"Times,serif\" font-size=\"14.00\">grad 0.0000</text>\n</g>\n<!-- 140234582080768&#45;&gt;140234581698304* -->\n<g id=\"edge201\" class=\"edge\">\n<title>140234582080768&#45;&gt;140234581698304*</title>\n<path fill=\"none\" stroke=\"black\" d=\"M1815.05,-416.5C1824.06,-416.5 1832.79,-416.5 1840.7,-416.5\"/>\n<polygon fill=\"black\" stroke=\"black\" points=\"1840.95,-420 1850.95,-416.5 1840.95,-413 1840.95,-420\"/>\n</g>\n<!-- 140234582080816 -->\n<g id=\"node178\" class=\"node\">\n<title>140234582080816</title>\n<polygon fill=\"none\" stroke=\"black\" points=\"1943.5,-288.5 1943.5,-324.5 2125.5,-324.5 2125.5,-288.5 1943.5,-288.5\"/>\n<text text-anchor=\"middle\" x=\"1953.5\" y=\"-302.8\" font-family=\"Times,serif\" font-size=\"14.00\"> </text>\n<polyline fill=\"none\" stroke=\"black\" points=\"1963.5,-288.5 1963.5,-324.5 \"/>\n<text text-anchor=\"middle\" x=\"2003.5\" y=\"-302.8\" font-family=\"Times,serif\" font-size=\"14.00\">data 0.0356</text>\n<polyline fill=\"none\" stroke=\"black\" points=\"2043.5,-288.5 2043.5,-324.5 \"/>\n<text text-anchor=\"middle\" x=\"2084.5\" y=\"-302.8\" font-family=\"Times,serif\" font-size=\"14.00\">grad 0.0000</text>\n</g>\n<!-- 140234582080816&#45;&gt;140234581709200* -->\n<g id=\"edge180\" class=\"edge\">\n<title>140234582080816&#45;&gt;140234581709200*</title>\n<path fill=\"none\" stroke=\"black\" d=\"M2125.82,-306.5C2135.57,-306.5 2145.04,-306.5 2153.57,-306.5\"/>\n<polygon fill=\"black\" stroke=\"black\" points=\"2153.83,-310 2163.83,-306.5 2153.83,-303 2153.83,-310\"/>\n</g>\n<!-- 140234582179168 -->\n<g id=\"node179\" class=\"node\">\n<title>140234582179168</title>\n<polygon fill=\"none\" stroke=\"black\" points=\"0,-385.5 0,-421.5 196,-421.5 196,-385.5 0,-385.5\"/>\n<text text-anchor=\"middle\" x=\"17\" y=\"-399.8\" font-family=\"Times,serif\" font-size=\"14.00\">2.0</text>\n<polyline fill=\"none\" stroke=\"black\" points=\"34,-385.5 34,-421.5 \"/>\n<text text-anchor=\"middle\" x=\"74\" y=\"-399.8\" font-family=\"Times,serif\" font-size=\"14.00\">data 2.0000</text>\n<polyline fill=\"none\" stroke=\"black\" points=\"114,-385.5 114,-421.5 \"/>\n<text text-anchor=\"middle\" x=\"155\" y=\"-399.8\" font-family=\"Times,serif\" font-size=\"14.00\">grad 0.0000</text>\n</g>\n<!-- 140234582179168&#45;&gt;140234582179312* -->\n<g id=\"edge93\" class=\"edge\">\n<title>140234582179168&#45;&gt;140234582179312*</title>\n<path fill=\"none\" stroke=\"black\" d=\"M196.07,-403.5C205.05,-403.5 213.71,-403.5 221.57,-403.5\"/>\n<polygon fill=\"black\" stroke=\"black\" points=\"221.75,-407 231.75,-403.5 221.75,-400 221.75,-407\"/>\n</g>\n<!-- 140234581712224 -->\n<g id=\"node180\" class=\"node\">\n<title>140234581712224</title>\n<polygon fill=\"none\" stroke=\"black\" points=\"3508.5,-618.5 3508.5,-654.5 3690.5,-654.5 3690.5,-618.5 3508.5,-618.5\"/>\n<text text-anchor=\"middle\" x=\"3518.5\" y=\"-632.8\" font-family=\"Times,serif\" font-size=\"14.00\"> </text>\n<polyline fill=\"none\" stroke=\"black\" points=\"3528.5,-618.5 3528.5,-654.5 \"/>\n<text text-anchor=\"middle\" x=\"3568.5\" y=\"-632.8\" font-family=\"Times,serif\" font-size=\"14.00\">data 0.9713</text>\n<polyline fill=\"none\" stroke=\"black\" points=\"3608.5,-618.5 3608.5,-654.5 \"/>\n<text text-anchor=\"middle\" x=\"3649.5\" y=\"-632.8\" font-family=\"Times,serif\" font-size=\"14.00\">grad 0.0000</text>\n</g>\n<!-- 140234581712224&#45;&gt;140234581731552* -->\n<g id=\"edge115\" class=\"edge\">\n<title>140234581712224&#45;&gt;140234581731552*</title>\n<path fill=\"none\" stroke=\"black\" d=\"M3690.82,-636.5C3700.57,-636.5 3710.04,-636.5 3718.57,-636.5\"/>\n<polygon fill=\"black\" stroke=\"black\" points=\"3718.83,-640 3728.83,-636.5 3718.83,-633 3718.83,-640\"/>\n</g>\n<!-- 140234581712224tanh&#45;&gt;140234581712224 -->\n<g id=\"edge68\" class=\"edge\">\n<title>140234581712224tanh&#45;&gt;140234581712224</title>\n<path fill=\"none\" stroke=\"black\" d=\"M3470.21,-636.5C3478.34,-636.5 3487.85,-636.5 3497.94,-636.5\"/>\n<polygon fill=\"black\" stroke=\"black\" points=\"3498.19,-640 3508.19,-636.5 3498.19,-633 3498.19,-640\"/>\n</g>\n<!-- 140234582080960 -->\n<g id=\"node182\" class=\"node\">\n<title>140234582080960</title>\n<polygon fill=\"none\" stroke=\"black\" points=\"2254,-728.5 2254,-764.5 2441,-764.5 2441,-728.5 2254,-728.5\"/>\n<text text-anchor=\"middle\" x=\"2264\" y=\"-742.8\" font-family=\"Times,serif\" font-size=\"14.00\"> </text>\n<polyline fill=\"none\" stroke=\"black\" points=\"2274,-728.5 2274,-764.5 \"/>\n<text text-anchor=\"middle\" x=\"2316.5\" y=\"-742.8\" font-family=\"Times,serif\" font-size=\"14.00\">data &#45;0.5734</text>\n<polyline fill=\"none\" stroke=\"black\" points=\"2359,-728.5 2359,-764.5 \"/>\n<text text-anchor=\"middle\" x=\"2400\" y=\"-742.8\" font-family=\"Times,serif\" font-size=\"14.00\">grad 0.0000</text>\n</g>\n<!-- 140234582080960&#45;&gt;140234581699408* -->\n<g id=\"edge128\" class=\"edge\">\n<title>140234582080960&#45;&gt;140234581699408*</title>\n<path fill=\"none\" stroke=\"black\" d=\"M2415.1,-728.4C2423.88,-725.62 2432.7,-722.63 2441,-719.5 2451.62,-715.49 2462.94,-710.44 2472.96,-705.68\"/>\n<polygon fill=\"black\" stroke=\"black\" points=\"2474.64,-708.76 2482.11,-701.25 2471.59,-702.46 2474.64,-708.76\"/>\n</g>\n<!-- 140234582179312 -->\n<g id=\"node183\" class=\"node\">\n<title>140234582179312</title>\n<polygon fill=\"none\" stroke=\"black\" points=\"333.5,-358.5 333.5,-394.5 515.5,-394.5 515.5,-358.5 333.5,-358.5\"/>\n<text text-anchor=\"middle\" x=\"343.5\" y=\"-372.8\" font-family=\"Times,serif\" font-size=\"14.00\"> </text>\n<polyline fill=\"none\" stroke=\"black\" points=\"353.5,-358.5 353.5,-394.5 \"/>\n<text text-anchor=\"middle\" x=\"393.5\" y=\"-372.8\" font-family=\"Times,serif\" font-size=\"14.00\">data 1.1006</text>\n<polyline fill=\"none\" stroke=\"black\" points=\"433.5,-358.5 433.5,-394.5 \"/>\n<text text-anchor=\"middle\" x=\"474.5\" y=\"-372.8\" font-family=\"Times,serif\" font-size=\"14.00\">grad 0.0000</text>\n</g>\n<!-- 140234582179792+ -->\n<g id=\"node199\" class=\"node\">\n<title>140234582179792+</title>\n<ellipse fill=\"none\" stroke=\"black\" cx=\"590\" cy=\"-376.5\" rx=\"27\" ry=\"18\"/>\n<text text-anchor=\"middle\" x=\"590\" y=\"-372.8\" font-family=\"Times,serif\" font-size=\"14.00\">+</text>\n</g>\n<!-- 140234582179312&#45;&gt;140234582179792+ -->\n<g id=\"edge194\" class=\"edge\">\n<title>140234582179312&#45;&gt;140234582179792+</title>\n<path fill=\"none\" stroke=\"black\" d=\"M515.86,-376.5C528.84,-376.5 541.53,-376.5 552.6,-376.5\"/>\n<polygon fill=\"black\" stroke=\"black\" points=\"552.67,-380 562.67,-376.5 552.67,-373 552.67,-380\"/>\n</g>\n<!-- 140234582179312*&#45;&gt;140234582179312 -->\n<g id=\"edge69\" class=\"edge\">\n<title>140234582179312*&#45;&gt;140234582179312</title>\n<path fill=\"none\" stroke=\"black\" d=\"M285.55,-399.28C296.17,-397.53 309.25,-395.37 323.08,-393.08\"/>\n<polygon fill=\"black\" stroke=\"black\" points=\"323.97,-396.48 333.26,-391.4 322.82,-389.58 323.97,-396.48\"/>\n</g>\n<!-- 140234582081008 -->\n<g id=\"node185\" class=\"node\">\n<title>140234582081008</title>\n<polygon fill=\"none\" stroke=\"black\" points=\"1628,-178.5 1628,-214.5 1815,-214.5 1815,-178.5 1628,-178.5\"/>\n<text text-anchor=\"middle\" x=\"1638\" y=\"-192.8\" font-family=\"Times,serif\" font-size=\"14.00\"> </text>\n<polyline fill=\"none\" stroke=\"black\" points=\"1648,-178.5 1648,-214.5 \"/>\n<text text-anchor=\"middle\" x=\"1690.5\" y=\"-192.8\" font-family=\"Times,serif\" font-size=\"14.00\">data &#45;0.1631</text>\n<polyline fill=\"none\" stroke=\"black\" points=\"1733,-178.5 1733,-214.5 \"/>\n<text text-anchor=\"middle\" x=\"1774\" y=\"-192.8\" font-family=\"Times,serif\" font-size=\"14.00\">grad 0.0000</text>\n</g>\n<!-- 140234582081008&#45;&gt;140234581698544* -->\n<g id=\"edge146\" class=\"edge\">\n<title>140234582081008&#45;&gt;140234581698544*</title>\n<path fill=\"none\" stroke=\"black\" d=\"M1815.05,-196.5C1824.06,-196.5 1832.79,-196.5 1840.7,-196.5\"/>\n<polygon fill=\"black\" stroke=\"black\" points=\"1840.95,-200 1850.95,-196.5 1840.95,-193 1840.95,-200\"/>\n</g>\n<!-- 140234582081104 -->\n<g id=\"node186\" class=\"node\">\n<title>140234582081104</title>\n<polygon fill=\"none\" stroke=\"black\" points=\"331,-633.5 331,-669.5 518,-669.5 518,-633.5 331,-633.5\"/>\n<text text-anchor=\"middle\" x=\"341\" y=\"-647.8\" font-family=\"Times,serif\" font-size=\"14.00\"> </text>\n<polyline fill=\"none\" stroke=\"black\" points=\"351,-633.5 351,-669.5 \"/>\n<text text-anchor=\"middle\" x=\"393.5\" y=\"-647.8\" font-family=\"Times,serif\" font-size=\"14.00\">data &#45;0.5871</text>\n<polyline fill=\"none\" stroke=\"black\" points=\"436,-633.5 436,-669.5 \"/>\n<text text-anchor=\"middle\" x=\"477\" y=\"-647.8\" font-family=\"Times,serif\" font-size=\"14.00\">grad 0.0000</text>\n</g>\n<!-- 140234582081104&#45;&gt;140234581682640* -->\n<g id=\"edge111\" class=\"edge\">\n<title>140234582081104&#45;&gt;140234581682640*</title>\n<path fill=\"none\" stroke=\"black\" d=\"M518.24,-651.5C530.33,-651.5 542.09,-651.5 552.44,-651.5\"/>\n<polygon fill=\"black\" stroke=\"black\" points=\"552.68,-655 562.68,-651.5 552.68,-648 552.68,-655\"/>\n</g>\n<!-- 140234581712464 -->\n<g id=\"node187\" class=\"node\">\n<title>140234581712464</title>\n<polygon fill=\"none\" stroke=\"black\" points=\"1943.5,-68.5 1943.5,-104.5 2125.5,-104.5 2125.5,-68.5 1943.5,-68.5\"/>\n<text text-anchor=\"middle\" x=\"1953.5\" y=\"-82.8\" font-family=\"Times,serif\" font-size=\"14.00\"> </text>\n<polyline fill=\"none\" stroke=\"black\" points=\"1963.5,-68.5 1963.5,-104.5 \"/>\n<text text-anchor=\"middle\" x=\"2003.5\" y=\"-82.8\" font-family=\"Times,serif\" font-size=\"14.00\">data 0.5876</text>\n<polyline fill=\"none\" stroke=\"black\" points=\"2043.5,-68.5 2043.5,-104.5 \"/>\n<text text-anchor=\"middle\" x=\"2084.5\" y=\"-82.8\" font-family=\"Times,serif\" font-size=\"14.00\">grad 0.0000</text>\n</g>\n<!-- 140234581712464&#45;&gt;140234581729344+ -->\n<g id=\"edge158\" class=\"edge\">\n<title>140234581712464&#45;&gt;140234581729344+</title>\n<path fill=\"none\" stroke=\"black\" d=\"M2125.82,-86.5C2135.57,-86.5 2145.04,-86.5 2153.57,-86.5\"/>\n<polygon fill=\"black\" stroke=\"black\" points=\"2153.83,-90 2163.83,-86.5 2153.83,-83 2153.83,-90\"/>\n</g>\n<!-- 140234581712464*&#45;&gt;140234581712464 -->\n<g id=\"edge70\" class=\"edge\">\n<title>140234581712464*&#45;&gt;140234581712464</title>\n<path fill=\"none\" stroke=\"black\" d=\"M1894.61,-237.07C1898.4,-232.97 1902.17,-228.3 1905,-223.5 1931.11,-179.18 1904.04,-149.28 1941,-113.5 1942.09,-112.45 1943.22,-111.43 1944.38,-110.46\"/>\n<polygon fill=\"black\" stroke=\"black\" points=\"1946.46,-113.27 1952.51,-104.58 1942.36,-107.6 1946.46,-113.27\"/>\n</g>\n<!-- 140234582081152 -->\n<g id=\"node189\" class=\"node\">\n<title>140234582081152</title>\n<polygon fill=\"none\" stroke=\"black\" points=\"1943.5,-508.5 1943.5,-544.5 2125.5,-544.5 2125.5,-508.5 1943.5,-508.5\"/>\n<text text-anchor=\"middle\" x=\"1953.5\" y=\"-522.8\" font-family=\"Times,serif\" font-size=\"14.00\"> </text>\n<polyline fill=\"none\" stroke=\"black\" points=\"1963.5,-508.5 1963.5,-544.5 \"/>\n<text text-anchor=\"middle\" x=\"2003.5\" y=\"-522.8\" font-family=\"Times,serif\" font-size=\"14.00\">data 0.3249</text>\n<polyline fill=\"none\" stroke=\"black\" points=\"2043.5,-508.5 2043.5,-544.5 \"/>\n<text text-anchor=\"middle\" x=\"2084.5\" y=\"-522.8\" font-family=\"Times,serif\" font-size=\"14.00\">grad 0.0000</text>\n</g>\n<!-- 140234582081152&#45;&gt;140234581698976* -->\n<g id=\"edge112\" class=\"edge\">\n<title>140234582081152&#45;&gt;140234581698976*</title>\n<path fill=\"none\" stroke=\"black\" d=\"M2101.56,-508.45C2110.51,-505.64 2119.53,-502.63 2128,-499.5 2138.49,-495.62 2149.71,-490.78 2159.68,-486.22\"/>\n<polygon fill=\"black\" stroke=\"black\" points=\"2161.2,-489.37 2168.79,-481.97 2158.25,-483.02 2161.2,-489.37\"/>\n</g>\n<!-- 140234582081248 -->\n<g id=\"node190\" class=\"node\">\n<title>140234582081248</title>\n<polygon fill=\"none\" stroke=\"black\" points=\"331,-523.5 331,-559.5 518,-559.5 518,-523.5 331,-523.5\"/>\n<text text-anchor=\"middle\" x=\"341\" y=\"-537.8\" font-family=\"Times,serif\" font-size=\"14.00\"> </text>\n<polyline fill=\"none\" stroke=\"black\" points=\"351,-523.5 351,-559.5 \"/>\n<text text-anchor=\"middle\" x=\"393.5\" y=\"-537.8\" font-family=\"Times,serif\" font-size=\"14.00\">data &#45;0.7305</text>\n<polyline fill=\"none\" stroke=\"black\" points=\"436,-523.5 436,-559.5 \"/>\n<text text-anchor=\"middle\" x=\"477\" y=\"-537.8\" font-family=\"Times,serif\" font-size=\"14.00\">grad 0.0000</text>\n</g>\n<!-- 140234582081248&#45;&gt;140234581682928* -->\n<g id=\"edge145\" class=\"edge\">\n<title>140234582081248&#45;&gt;140234581682928*</title>\n<path fill=\"none\" stroke=\"black\" d=\"M496.07,-559.58C506.51,-562.65 517.09,-566 527,-569.5 537.29,-573.14 548.29,-577.7 558.12,-582.03\"/>\n<polygon fill=\"black\" stroke=\"black\" points=\"556.94,-585.33 567.49,-586.24 559.81,-578.95 556.94,-585.33\"/>\n</g>\n<!-- 140234582179552 -->\n<g id=\"node191\" class=\"node\">\n<title>140234582179552</title>\n<polygon fill=\"none\" stroke=\"black\" points=\"0,-275.5 0,-311.5 196,-311.5 196,-275.5 0,-275.5\"/>\n<text text-anchor=\"middle\" x=\"17\" y=\"-289.8\" font-family=\"Times,serif\" font-size=\"14.00\">3.0</text>\n<polyline fill=\"none\" stroke=\"black\" points=\"34,-275.5 34,-311.5 \"/>\n<text text-anchor=\"middle\" x=\"74\" y=\"-289.8\" font-family=\"Times,serif\" font-size=\"14.00\">data 3.0000</text>\n<polyline fill=\"none\" stroke=\"black\" points=\"114,-275.5 114,-311.5 \"/>\n<text text-anchor=\"middle\" x=\"155\" y=\"-289.8\" font-family=\"Times,serif\" font-size=\"14.00\">grad 0.0000</text>\n</g>\n<!-- 140234582179552&#45;&gt;140234582179600* -->\n<g id=\"edge134\" class=\"edge\">\n<title>140234582179552&#45;&gt;140234582179600*</title>\n<path fill=\"none\" stroke=\"black\" d=\"M196.07,-310.59C205.42,-312.24 214.43,-313.83 222.55,-315.26\"/>\n<polygon fill=\"black\" stroke=\"black\" points=\"222.2,-318.75 232.65,-317.04 223.41,-311.85 222.2,-318.75\"/>\n</g>\n<!-- 140234582179600 -->\n<g id=\"node192\" class=\"node\">\n<title>140234582179600</title>\n<polygon fill=\"none\" stroke=\"black\" points=\"331,-303.5 331,-339.5 518,-339.5 518,-303.5 331,-303.5\"/>\n<text text-anchor=\"middle\" x=\"341\" y=\"-317.8\" font-family=\"Times,serif\" font-size=\"14.00\"> </text>\n<polyline fill=\"none\" stroke=\"black\" points=\"351,-303.5 351,-339.5 \"/>\n<text text-anchor=\"middle\" x=\"393.5\" y=\"-317.8\" font-family=\"Times,serif\" font-size=\"14.00\">data &#45;1.4583</text>\n<polyline fill=\"none\" stroke=\"black\" points=\"436,-303.5 436,-339.5 \"/>\n<text text-anchor=\"middle\" x=\"477\" y=\"-317.8\" font-family=\"Times,serif\" font-size=\"14.00\">grad 0.0000</text>\n</g>\n<!-- 140234582179600&#45;&gt;140234582179792+ -->\n<g id=\"edge155\" class=\"edge\">\n<title>140234582179600&#45;&gt;140234582179792+</title>\n<path fill=\"none\" stroke=\"black\" d=\"M496.07,-339.58C506.51,-342.65 517.09,-346 527,-349.5 537.29,-353.14 548.29,-357.7 558.12,-362.03\"/>\n<polygon fill=\"black\" stroke=\"black\" points=\"556.94,-365.33 567.49,-366.24 559.81,-358.95 556.94,-365.33\"/>\n</g>\n<!-- 140234582179600*&#45;&gt;140234582179600 -->\n<g id=\"edge71\" class=\"edge\">\n<title>140234582179600*&#45;&gt;140234582179600</title>\n<path fill=\"none\" stroke=\"black\" d=\"M286.27,-321.5C296.1,-321.5 307.95,-321.5 320.53,-321.5\"/>\n<polygon fill=\"black\" stroke=\"black\" points=\"320.74,-325 330.74,-321.5 320.74,-318 320.74,-325\"/>\n</g>\n<!-- 140234582081344 -->\n<g id=\"node194\" class=\"node\">\n<title>140234582081344</title>\n<polygon fill=\"none\" stroke=\"black\" points=\"1315,-454.5 1315,-490.5 1502,-490.5 1502,-454.5 1315,-454.5\"/>\n<text text-anchor=\"middle\" x=\"1325\" y=\"-468.8\" font-family=\"Times,serif\" font-size=\"14.00\"> </text>\n<polyline fill=\"none\" stroke=\"black\" points=\"1335,-454.5 1335,-490.5 \"/>\n<text text-anchor=\"middle\" x=\"1377.5\" y=\"-468.8\" font-family=\"Times,serif\" font-size=\"14.00\">data &#45;0.0399</text>\n<polyline fill=\"none\" stroke=\"black\" points=\"1420,-454.5 1420,-490.5 \"/>\n<text text-anchor=\"middle\" x=\"1461\" y=\"-468.8\" font-family=\"Times,serif\" font-size=\"14.00\">grad 0.0000</text>\n</g>\n<!-- 140234582081344&#45;&gt;140234581683792+ -->\n<g id=\"edge199\" class=\"edge\">\n<title>140234582081344&#45;&gt;140234581683792+</title>\n<path fill=\"none\" stroke=\"black\" d=\"M1502.05,-472.5C1511.06,-472.5 1519.79,-472.5 1527.7,-472.5\"/>\n<polygon fill=\"black\" stroke=\"black\" points=\"1527.95,-476 1537.95,-472.5 1527.95,-469 1527.95,-476\"/>\n</g>\n<!-- 140234581712704 -->\n<g id=\"node195\" class=\"node\">\n<title>140234581712704</title>\n<polygon fill=\"none\" stroke=\"black\" points=\"1943.5,-13.5 1943.5,-49.5 2125.5,-49.5 2125.5,-13.5 1943.5,-13.5\"/>\n<text text-anchor=\"middle\" x=\"1953.5\" y=\"-27.8\" font-family=\"Times,serif\" font-size=\"14.00\"> </text>\n<polyline fill=\"none\" stroke=\"black\" points=\"1963.5,-13.5 1963.5,-49.5 \"/>\n<text text-anchor=\"middle\" x=\"2003.5\" y=\"-27.8\" font-family=\"Times,serif\" font-size=\"14.00\">data 0.7850</text>\n<polyline fill=\"none\" stroke=\"black\" points=\"2043.5,-13.5 2043.5,-49.5 \"/>\n<text text-anchor=\"middle\" x=\"2084.5\" y=\"-27.8\" font-family=\"Times,serif\" font-size=\"14.00\">grad 0.0000</text>\n</g>\n<!-- 140234581712704&#45;&gt;140234581729344+ -->\n<g id=\"edge164\" class=\"edge\">\n<title>140234581712704&#45;&gt;140234581729344+</title>\n<path fill=\"none\" stroke=\"black\" d=\"M2101.56,-49.55C2110.51,-52.36 2119.53,-55.37 2128,-58.5 2138.49,-62.38 2149.71,-67.22 2159.68,-71.78\"/>\n<polygon fill=\"black\" stroke=\"black\" points=\"2158.25,-74.98 2168.79,-76.03 2161.2,-68.63 2158.25,-74.98\"/>\n</g>\n<!-- 140234581712704*&#45;&gt;140234581712704 -->\n<g id=\"edge72\" class=\"edge\">\n<title>140234581712704*&#45;&gt;140234581712704</title>\n<path fill=\"none\" stroke=\"black\" d=\"M1905.21,-31.5C1913.34,-31.5 1922.85,-31.5 1932.94,-31.5\"/>\n<polygon fill=\"black\" stroke=\"black\" points=\"1933.19,-35 1943.19,-31.5 1933.19,-28 1933.19,-35\"/>\n</g>\n<!-- 140234582081392 -->\n<g id=\"node197\" class=\"node\">\n<title>140234582081392</title>\n<polygon fill=\"none\" stroke=\"black\" points=\"662,-468.5 662,-504.5 849,-504.5 849,-468.5 662,-468.5\"/>\n<text text-anchor=\"middle\" x=\"672\" y=\"-482.8\" font-family=\"Times,serif\" font-size=\"14.00\"> </text>\n<polyline fill=\"none\" stroke=\"black\" points=\"682,-468.5 682,-504.5 \"/>\n<text text-anchor=\"middle\" x=\"724.5\" y=\"-482.8\" font-family=\"Times,serif\" font-size=\"14.00\">data &#45;0.1236</text>\n<polyline fill=\"none\" stroke=\"black\" points=\"767,-468.5 767,-504.5 \"/>\n<text text-anchor=\"middle\" x=\"808\" y=\"-482.8\" font-family=\"Times,serif\" font-size=\"14.00\">grad 0.0000</text>\n</g>\n<!-- 140234582081392&#45;&gt;140234581683408* -->\n<g id=\"edge182\" class=\"edge\">\n<title>140234582081392&#45;&gt;140234581683408*</title>\n<path fill=\"none\" stroke=\"black\" d=\"M827.07,-504.58C837.51,-507.65 848.09,-511 858,-514.5 868.29,-518.14 879.29,-522.7 889.12,-527.03\"/>\n<polygon fill=\"black\" stroke=\"black\" points=\"887.94,-530.33 898.49,-531.24 890.81,-523.95 887.94,-530.33\"/>\n</g>\n<!-- 140234582179792 -->\n<g id=\"node198\" class=\"node\">\n<title>140234582179792</title>\n<polygon fill=\"none\" stroke=\"black\" points=\"662,-358.5 662,-394.5 849,-394.5 849,-358.5 662,-358.5\"/>\n<text text-anchor=\"middle\" x=\"672\" y=\"-372.8\" font-family=\"Times,serif\" font-size=\"14.00\"> </text>\n<polyline fill=\"none\" stroke=\"black\" points=\"682,-358.5 682,-394.5 \"/>\n<text text-anchor=\"middle\" x=\"724.5\" y=\"-372.8\" font-family=\"Times,serif\" font-size=\"14.00\">data &#45;0.3577</text>\n<polyline fill=\"none\" stroke=\"black\" points=\"767,-358.5 767,-394.5 \"/>\n<text text-anchor=\"middle\" x=\"808\" y=\"-372.8\" font-family=\"Times,serif\" font-size=\"14.00\">grad 0.0000</text>\n</g>\n<!-- 140234582179792&#45;&gt;140234581680240+ -->\n<g id=\"edge131\" class=\"edge\">\n<title>140234582179792&#45;&gt;140234581680240+</title>\n<path fill=\"none\" stroke=\"black\" d=\"M849.24,-387.84C861.67,-389.36 873.76,-390.84 884.32,-392.14\"/>\n<polygon fill=\"black\" stroke=\"black\" points=\"883.98,-395.62 894.33,-393.36 884.83,-388.67 883.98,-395.62\"/>\n</g>\n<!-- 140234582179792+&#45;&gt;140234582179792 -->\n<g id=\"edge73\" class=\"edge\">\n<title>140234582179792+&#45;&gt;140234582179792</title>\n<path fill=\"none\" stroke=\"black\" d=\"M617.27,-376.5C627.1,-376.5 638.95,-376.5 651.53,-376.5\"/>\n<polygon fill=\"black\" stroke=\"black\" points=\"651.74,-380 661.74,-376.5 651.74,-373 651.74,-380\"/>\n</g>\n</g>\n</svg>\n"
          },
          "metadata": {},
          "execution_count": 69
        }
      ]
    },
    {
      "cell_type": "markdown",
      "source": [
        "# Toy Dataset"
      ],
      "metadata": {
        "id": "AjdhTDWwfa5E"
      }
    },
    {
      "cell_type": "code",
      "source": [
        "xs = [\n",
        "    [2.0, 3.0, -1.0],\n",
        "    [3.0, -1.0, 0.5],\n",
        "    [0.5, 1.0, 1.0],\n",
        "    [1.0, 1.0, -1.0],\n",
        "]\n",
        "\n",
        "ys = [1.0, -1.0, -1.0, 1.0] # desired targets"
      ],
      "metadata": {
        "id": "VRB_r6UUeRfB"
      },
      "execution_count": 70,
      "outputs": []
    },
    {
      "cell_type": "code",
      "source": [
        "ypred = [n(x) for x in xs]"
      ],
      "metadata": {
        "id": "igUxAzUvfjDP"
      },
      "execution_count": 71,
      "outputs": []
    },
    {
      "cell_type": "code",
      "source": [
        "ypred"
      ],
      "metadata": {
        "colab": {
          "base_uri": "https://localhost:8080/"
        },
        "id": "Re5ViH9Ufx9n",
        "outputId": "db8695f7-2b3f-4a7a-ac51-c8a696511a16"
      },
      "execution_count": 72,
      "outputs": [
        {
          "output_type": "execute_result",
          "data": {
            "text/plain": [
              "[Value(data=0.3892228569314445),\n",
              " Value(data=0.32752627602429046),\n",
              " Value(data=0.31446911908689085),\n",
              " Value(data=0.40062309053538)]"
            ]
          },
          "metadata": {},
          "execution_count": 72
        }
      ]
    },
    {
      "cell_type": "code",
      "source": [
        "loss = loss_func(ypred, ys)\n",
        "loss"
      ],
      "metadata": {
        "colab": {
          "base_uri": "https://localhost:8080/"
        },
        "id": "cvsaQuTmfy-J",
        "outputId": "da06c266-6938-4248-d9ba-ca2612b493c1"
      },
      "execution_count": 73,
      "outputs": [
        {
          "output_type": "execute_result",
          "data": {
            "text/plain": [
              "Value(data=4.222456476662334)"
            ]
          },
          "metadata": {},
          "execution_count": 73
        }
      ]
    },
    {
      "cell_type": "code",
      "source": [
        "loss.backward()"
      ],
      "metadata": {
        "id": "O1nWMSEggdzQ"
      },
      "execution_count": 74,
      "outputs": []
    },
    {
      "cell_type": "markdown",
      "source": [
        "## Massive Comp Graph for Entire Dataset Forward Pass"
      ],
      "metadata": {
        "id": "ZE6fBCkbTmGf"
      }
    },
    {
      "cell_type": "code",
      "source": [
        "# draw_dot(loss)"
      ],
      "metadata": {
        "id": "RcwDEXruhhp1"
      },
      "execution_count": 75,
      "outputs": []
    },
    {
      "cell_type": "code",
      "source": [
        "n.layers[0].neurons[0].w[0].grad"
      ],
      "metadata": {
        "id": "V-KsN4aVhjQV",
        "colab": {
          "base_uri": "https://localhost:8080/"
        },
        "outputId": "b8edde50-48bc-49a0-e888-dd9cf72091d0"
      },
      "execution_count": 76,
      "outputs": [
        {
          "output_type": "execute_result",
          "data": {
            "text/plain": [
              "-0.005662324911126525"
            ]
          },
          "metadata": {},
          "execution_count": 76
        }
      ]
    },
    {
      "cell_type": "code",
      "source": [
        "n.layers[0].neurons[0].w[0].data"
      ],
      "metadata": {
        "colab": {
          "base_uri": "https://localhost:8080/"
        },
        "id": "URzRaRIhJ8yi",
        "outputId": "ce166681-82dc-494d-b94b-96421cf79362"
      },
      "execution_count": 77,
      "outputs": [
        {
          "output_type": "execute_result",
          "data": {
            "text/plain": [
              "0.5503103129321469"
            ]
          },
          "metadata": {},
          "execution_count": 77
        }
      ]
    },
    {
      "cell_type": "markdown",
      "source": [
        "# Manually Implementing Gradient Descent"
      ],
      "metadata": {
        "id": "Em1Dlj0_RXTU"
      }
    },
    {
      "cell_type": "code",
      "source": [
        "eta = 0.1 \n",
        "for p in n.parameters():\n",
        "  # update = val + -eta * grad\n",
        "  p.data += -eta * p.grad\n",
        "\n",
        "n.layers[0].neurons[0].w[0].data"
      ],
      "metadata": {
        "colab": {
          "base_uri": "https://localhost:8080/"
        },
        "id": "jvM66v9qQXH7",
        "outputId": "a4522c2e-67b3-4fad-c01c-1e5cb5cff7cf"
      },
      "execution_count": 78,
      "outputs": [
        {
          "output_type": "execute_result",
          "data": {
            "text/plain": [
              "0.5508765454232596"
            ]
          },
          "metadata": {},
          "execution_count": 78
        }
      ]
    },
    {
      "cell_type": "markdown",
      "source": [
        "# Making a Training Loop"
      ],
      "metadata": {
        "id": "7RoT1E-4wq_F"
      }
    },
    {
      "cell_type": "code",
      "source": [
        "import sys\n",
        "import copy\n",
        "from typing import Callable, Any\n",
        "\n",
        "class MLPTrainer:\n",
        "\n",
        "  def __init__(self, nn: MLP, loss: LossFunction):\n",
        "    self.nn = nn\n",
        "    self.best_checkpoint = nn\n",
        "    self.loss_func = loss\n",
        "  \n",
        "  def model(self) -> MLP:\n",
        "    return self.best_checkpoint\n",
        "  \n",
        "  def zero_grad(self) -> None:\n",
        "    for p in self.nn.parameters():\n",
        "      p.grad = 0.0\n",
        "  \n",
        "  def update(self, eta):\n",
        "    for p in self.nn.parameters():\n",
        "      p.data += -eta * p.grad\n",
        "  \n",
        "  def curr_loss(self, \n",
        "                ypred: List[Any],\n",
        "                labels: List[Any]):\n",
        "    return self.loss_func(ypred, labels)\n",
        "  \n",
        "  def train_stats(self,\n",
        "                  training_data: List[Any],\n",
        "                  labels: List[Any]):\n",
        "    # Final stats\n",
        "    final_pred = [self.best_checkpoint(x) for x in training_data]\n",
        "    final_loss = self.curr_loss(final_pred, labels)\n",
        "\n",
        "    # final outputs\n",
        "    print(f\"Training complete! Final loss: {final_loss.data}\")\n",
        "\n",
        "  def train(self, \n",
        "            training_data: List[Any],\n",
        "            labels: List[Any],\n",
        "            learning_rate: float = 0.01, \n",
        "            learning_rate_decay: float = 0.0,\n",
        "            max_training_steps: int = 100,\n",
        "            early_stopping_loss: float = 1.0e-5):\n",
        "    \n",
        "    # sanity check\n",
        "    assert len(labels) == len(training_data)\n",
        "    \n",
        "    # min loss\n",
        "    init_pred = [self.best_checkpoint(x) for x in training_data]\n",
        "    min_loss = self.curr_loss(init_pred, labels).data\n",
        "\n",
        "    # Training loop\n",
        "    for k in range(max_training_steps):\n",
        "      \n",
        "      # forward pass\n",
        "      ypred = [self.nn(x) for x in training_data]\n",
        "\n",
        "      # calculate loss\n",
        "      loss = self.curr_loss(ypred, labels)\n",
        "      print(f\"Iteration {k+1}: LR: {learning_rate}, Loss: {loss.data}\")\n",
        "      \n",
        "      # update pointer to best model\n",
        "      if loss.data < min_loss:\n",
        "        self.best_checkpoint = copy.deepcopy(self.nn)\n",
        "        min_loss = loss.data\n",
        "\n",
        "      if loss.data <= early_stopping_loss:\n",
        "        print(f\"loss <= {early_stopping_loss}... Exiting!\")\n",
        "        break\n",
        "\n",
        "      # zero out the grad\n",
        "      self.zero_grad()\n",
        "\n",
        "      # Backward pass\n",
        "      loss.backward()\n",
        "\n",
        "      # Weight update\n",
        "      self.update(eta=learning_rate)\n",
        "\n",
        "      # update/decay learning rate\n",
        "      learning_rate -= learning_rate * learning_rate_decay\n"
      ],
      "metadata": {
        "id": "SUSEf7xVNO4l"
      },
      "execution_count": 79,
      "outputs": []
    },
    {
      "cell_type": "markdown",
      "source": [
        "# Use Trainer to Train MLP"
      ],
      "metadata": {
        "id": "6msrvVCC6swL"
      }
    },
    {
      "cell_type": "code",
      "source": [
        "# Random mapping onto outputs\n",
        "# xs = [\n",
        "#     [2.0, 3.0, -1.0],\n",
        "#     [3.0, -1.0, 0.5],\n",
        "#     [0.5, 1.0, 1.0],\n",
        "#     [1.0, 1.0, -1.0],\n",
        "# ]\n",
        "\n",
        "# ys = [1.0, -1.0, -1.0, 1.0] # desired targets\n",
        "\n",
        "# Learn the Cosine Function\n",
        "xs = [[x] for x in np.linspace(-(2 * np.pi), 2 * np.pi, 100).tolist()]\n",
        "random.shuffle(xs)\n",
        "\n",
        "ys = [math.cos(x[0]) for x in xs] # targets\n",
        "\n",
        "# example of the training data\n",
        "input_dim = 1 if not isinstance(xs[0], List) else len(xs[0])\n",
        "\n",
        "# initialize MLP\n",
        "nn = MLP(input_dim, [10, 1])\n",
        "\n",
        "# initialize MLP trainer\n",
        "trainer = MLPTrainer(nn=nn, loss=MSE())\n",
        "\n",
        "# Run training\n",
        "trainer.train(training_data=xs, \n",
        "              labels=ys,\n",
        "              max_training_steps=100, \n",
        "              learning_rate=0.000125, \n",
        "              learning_rate_decay=0.0001)\n",
        "\n",
        "trainer.train_stats(training_data=xs, labels=ys)"
      ],
      "metadata": {
        "colab": {
          "base_uri": "https://localhost:8080/"
        },
        "id": "edCaE5hsS8oe",
        "outputId": "68577d41-6eff-4ff0-ef9a-4b7eaa187922"
      },
      "execution_count": 80,
      "outputs": [
        {
          "output_type": "stream",
          "name": "stdout",
          "text": [
            "Iteration 1: LR: 0.000125, Loss: 100.02016252379333\n",
            "Iteration 2: LR: 0.0001249875, Loss: 99.51418219153885\n",
            "Iteration 3: LR: 0.00012497500124999998, Loss: 99.04742561443456\n",
            "Iteration 4: LR: 0.00012496250374987498, Loss: 98.61147017851918\n",
            "Iteration 5: LR: 0.0001249500074995, Loss: 98.199822270266\n",
            "Iteration 6: LR: 0.00012493751249875005, Loss: 97.80747809956395\n",
            "Iteration 7: LR: 0.00012492501874750018, Loss: 97.43057811577796\n",
            "Iteration 8: LR: 0.00012491252624562542, Loss: 97.06614058622637\n",
            "Iteration 9: LR: 0.00012490003499300085, Loss: 96.7118580276385\n",
            "Iteration 10: LR: 0.00012488754498950154, Loss: 96.3659419948246\n",
            "Iteration 11: LR: 0.0001248750562350026, Loss: 96.02700452479591\n",
            "Iteration 12: LR: 0.0001248625687293791, Loss: 95.69396722296437\n",
            "Iteration 13: LR: 0.00012485008247250617, Loss: 95.36599121106737\n",
            "Iteration 14: LR: 0.00012483759746425893, Loss: 95.04242288955798\n",
            "Iteration 15: LR: 0.0001248251137045125, Loss: 94.7227517651356\n",
            "Iteration 16: LR: 0.00012481263119314205, Loss: 94.40657754776409\n",
            "Iteration 17: LR: 0.00012480014993002274, Loss: 94.09358441610686\n",
            "Iteration 18: LR: 0.00012478766991502974, Loss: 93.78352085553327\n",
            "Iteration 19: LR: 0.00012477519114803824, Loss: 93.47618384216337\n",
            "Iteration 20: LR: 0.00012476271362892345, Loss: 93.17140641921367\n",
            "Iteration 21: LR: 0.00012475023735756055, Loss: 92.86904791644783\n",
            "Iteration 22: LR: 0.0001247377623338248, Loss: 92.56898621966731\n",
            "Iteration 23: LR: 0.0001247252885575914, Loss: 92.27111161863924\n",
            "Iteration 24: LR: 0.00012471281602873565, Loss: 91.9753218579862\n",
            "Iteration 25: LR: 0.00012470034474713277, Loss: 91.68151809269489\n",
            "Iteration 26: LR: 0.00012468787471265805, Loss: 91.38960151232016\n",
            "Iteration 27: LR: 0.00012467540592518678, Loss: 91.09947044860931\n",
            "Iteration 28: LR: 0.00012466293838459425, Loss: 90.8110178222179\n",
            "Iteration 29: LR: 0.0001246504720907558, Loss: 90.52412881697701\n",
            "Iteration 30: LR: 0.00012463800704354673, Loss: 90.23867869598486\n",
            "Iteration 31: LR: 0.00012462554324284237, Loss: 89.95453069362486\n",
            "Iteration 32: LR: 0.00012461308068851808, Loss: 89.67153393227781\n",
            "Iteration 33: LR: 0.0001246006193804492, Loss: 89.38952132273468\n",
            "Iteration 34: LR: 0.00012458815931851118, Loss: 89.10830741375517\n",
            "Iteration 35: LR: 0.00012457570050257932, Loss: 88.82768615940078\n",
            "Iteration 36: LR: 0.00012456324293252905, Loss: 88.54742857315526\n",
            "Iteration 37: LR: 0.0001245507866082358, Loss: 88.26728023580327\n",
            "Iteration 38: LR: 0.00012453833152957497, Loss: 87.98695861982492\n",
            "Iteration 39: LR: 0.000124525877696422, Loss: 87.706150186868\n",
            "Iteration 40: LR: 0.00012451342510865236, Loss: 87.4245072067249\n",
            "Iteration 41: LR: 0.0001245009737661415, Loss: 87.14164423613698\n",
            "Iteration 42: LR: 0.0001244885236687649, Loss: 86.85713418348128\n",
            "Iteration 43: LR: 0.00012447607481639802, Loss: 86.57050387066197\n",
            "Iteration 44: LR: 0.00012446362720891637, Loss: 86.28122898585372\n",
            "Iteration 45: LR: 0.00012445118084619547, Loss: 85.98872829946198\n",
            "Iteration 46: LR: 0.00012443873572811086, Loss: 85.69235698989463\n",
            "Iteration 47: LR: 0.00012442629185453806, Loss: 85.39139889431011\n",
            "Iteration 48: LR: 0.0001244138492253526, Loss: 85.08505746090806\n",
            "Iteration 49: LR: 0.00012440140784043008, Loss: 84.7724451315998\n",
            "Iteration 50: LR: 0.00012438896769964604, Loss: 84.45257082451761\n",
            "Iteration 51: LR: 0.00012437652880287607, Loss: 84.12432511152258\n",
            "Iteration 52: LR: 0.00012436409114999577, Loss: 83.786462592447\n",
            "Iteration 53: LR: 0.00012435165474088076, Loss: 83.43758084979676\n",
            "Iteration 54: LR: 0.0001243392195754067, Loss: 83.0760952179741\n",
            "Iteration 55: LR: 0.00012432678565344916, Loss: 82.70020841061408\n",
            "Iteration 56: LR: 0.00012431435297488382, Loss: 82.30787380653359\n",
            "Iteration 57: LR: 0.00012430192153958634, Loss: 81.89675088387096\n",
            "Iteration 58: LR: 0.0001242894913474324, Loss: 81.46415089391033\n",
            "Iteration 59: LR: 0.00012427706239829763, Loss: 81.00697035661972\n",
            "Iteration 60: LR: 0.0001242646346920578, Loss: 80.52160930965816\n",
            "Iteration 61: LR: 0.0001242522082285886, Loss: 80.00387041758378\n",
            "Iteration 62: LR: 0.00012423978300776575, Loss: 79.44883401303328\n",
            "Iteration 63: LR: 0.000124227359029465, Loss: 78.85070286914376\n",
            "Iteration 64: LR: 0.00012421493629356204, Loss: 78.20260899308437\n",
            "Iteration 65: LR: 0.00012420251479993268, Loss: 77.4963730578268\n",
            "Iteration 66: LR: 0.0001241900945484527, Loss: 76.722205493322\n",
            "Iteration 67: LR: 0.00012417767553899784, Loss: 75.86833733651228\n",
            "Iteration 68: LR: 0.00012416525777144395, Loss: 74.92057002991442\n",
            "Iteration 69: LR: 0.0001241528412456668, Loss: 73.86173929511011\n",
            "Iteration 70: LR: 0.00012414042596154223, Loss: 72.6711047835454\n",
            "Iteration 71: LR: 0.00012412801191894607, Loss: 71.32371591246931\n",
            "Iteration 72: LR: 0.0001241155991177542, Loss: 69.7898871418218\n",
            "Iteration 73: LR: 0.0001241031875578424, Loss: 68.03508296993223\n",
            "Iteration 74: LR: 0.00012409077723908664, Loss: 66.02083025928125\n",
            "Iteration 75: LR: 0.00012407836816136274, Loss: 63.70783066636328\n",
            "Iteration 76: LR: 0.0001240659603245466, Loss: 61.06328074046919\n",
            "Iteration 77: LR: 0.00012405355372851416, Loss: 58.07525170038756\n",
            "Iteration 78: LR: 0.0001240411483731413, Loss: 54.77654607962259\n",
            "Iteration 79: LR: 0.00012402874425830398, Loss: 51.27535970139473\n",
            "Iteration 80: LR: 0.00012401634138387816, Loss: 47.775877892625545\n",
            "Iteration 81: LR: 0.00012400393974973978, Loss: 44.55354023070228\n",
            "Iteration 82: LR: 0.0001239915393557648, Loss: 41.86013283425854\n",
            "Iteration 83: LR: 0.00012397914020182923, Loss: 39.80681938329366\n",
            "Iteration 84: LR: 0.00012396674228780906, Loss: 38.33325655101783\n",
            "Iteration 85: LR: 0.00012395434561358028, Loss: 37.28821109097461\n",
            "Iteration 86: LR: 0.0001239419501790189, Loss: 36.52564286776883\n",
            "Iteration 87: LR: 0.000123929555984001, Loss: 35.94440545901785\n",
            "Iteration 88: LR: 0.0001239171630284026, Loss: 35.4839326284941\n",
            "Iteration 89: LR: 0.00012390477131209976, Loss: 35.108833164170825\n",
            "Iteration 90: LR: 0.00012389238083496855, Loss: 34.79723360854372\n",
            "Iteration 91: LR: 0.00012387999159688506, Loss: 34.53438554464828\n",
            "Iteration 92: LR: 0.00012386760359772538, Loss: 34.30957582357547\n",
            "Iteration 93: LR: 0.0001238552168373656, Loss: 34.11466011228306\n",
            "Iteration 94: LR: 0.00012384283131568186, Loss: 33.94331228176051\n",
            "Iteration 95: LR: 0.00012383044703255028, Loss: 33.7905810969787\n",
            "Iteration 96: LR: 0.00012381806398784702, Loss: 33.652587281338164\n",
            "Iteration 97: LR: 0.00012380568218144824, Loss: 33.52629563182266\n",
            "Iteration 98: LR: 0.0001237933016132301, Loss: 33.409335853569374\n",
            "Iteration 99: LR: 0.00012378092228306877, Loss: 33.29985981362957\n",
            "Iteration 100: LR: 0.00012376854419084046, Loss: 33.19642785101976\n",
            "Training complete! Final loss: 33.19642785101976\n"
          ]
        }
      ]
    },
    {
      "cell_type": "code",
      "source": [
        "# Print final outputs\n",
        "print(\"Summary outputs:\\n-----------------\")\n",
        "model = trainer.model()\n",
        "model_pred = [model(x) for x in xs]\n",
        "model_loss = trainer.curr_loss(model_pred, ys)\n",
        "print(f\"Final Training Loss: {model_loss.data}\")\n",
        "for o, t in zip(model_pred, ys):\n",
        "  print(\"---------------------\\n\"\\\n",
        "        f\"Truth: {t:.3f}\\n\"\\\n",
        "        f\"Model: {o.data:.3f}\")"
      ],
      "metadata": {
        "id": "sLBplLw1k4_q",
        "colab": {
          "base_uri": "https://localhost:8080/"
        },
        "outputId": "3d6fb5a4-07bf-463c-af15-5f7594d02982"
      },
      "execution_count": 81,
      "outputs": [
        {
          "output_type": "stream",
          "name": "stdout",
          "text": [
            "Summary outputs:\n",
            "-----------------\n",
            "Final Training Loss: 33.19642785101976\n",
            "---------------------\n",
            "Truth: 1.000\n",
            "Model: 0.127\n",
            "---------------------\n",
            "Truth: -0.999\n",
            "Model: -0.113\n",
            "---------------------\n",
            "Truth: 0.415\n",
            "Model: 0.070\n",
            "---------------------\n",
            "Truth: -0.987\n",
            "Model: -0.113\n",
            "---------------------\n",
            "Truth: -0.940\n",
            "Model: -0.101\n",
            "---------------------\n",
            "Truth: 0.415\n",
            "Model: 0.053\n",
            "---------------------\n",
            "Truth: -0.940\n",
            "Model: -0.077\n",
            "---------------------\n",
            "Truth: -0.916\n",
            "Model: -0.111\n",
            "---------------------\n",
            "Truth: -0.786\n",
            "Model: -0.099\n",
            "---------------------\n",
            "Truth: 0.928\n",
            "Model: 0.180\n",
            "---------------------\n",
            "Truth: -0.554\n",
            "Model: -0.054\n",
            "---------------------\n",
            "Truth: 0.805\n",
            "Model: 0.088\n",
            "---------------------\n",
            "Truth: -0.745\n",
            "Model: -0.046\n",
            "---------------------\n",
            "Truth: 0.903\n",
            "Model: 0.431\n",
            "---------------------\n",
            "Truth: -0.995\n",
            "Model: -0.111\n",
            "---------------------\n",
            "Truth: 0.928\n",
            "Model: 0.104\n",
            "---------------------\n",
            "Truth: 0.527\n",
            "Model: 0.088\n",
            "---------------------\n",
            "Truth: 0.992\n",
            "Model: 0.120\n",
            "---------------------\n",
            "Truth: 0.174\n",
            "Model: 0.035\n",
            "---------------------\n",
            "Truth: 0.998\n",
            "Model: 0.432\n",
            "---------------------\n",
            "Truth: 0.679\n",
            "Model: 0.230\n",
            "---------------------\n",
            "Truth: -0.824\n",
            "Model: -0.086\n",
            "---------------------\n",
            "Truth: -0.786\n",
            "Model: -0.130\n",
            "---------------------\n",
            "Truth: 0.950\n",
            "Model: 0.381\n",
            "---------------------\n",
            "Truth: 0.950\n",
            "Model: 0.447\n",
            "---------------------\n",
            "Truth: 0.111\n",
            "Model: 0.032\n",
            "---------------------\n",
            "Truth: 0.968\n",
            "Model: 0.112\n",
            "---------------------\n",
            "Truth: -0.824\n",
            "Model: -0.057\n",
            "---------------------\n",
            "Truth: 0.874\n",
            "Model: 0.096\n",
            "---------------------\n",
            "Truth: 0.631\n",
            "Model: 0.071\n",
            "---------------------\n",
            "Truth: 0.982\n",
            "Model: 0.410\n",
            "---------------------\n",
            "Truth: -0.079\n",
            "Model: 0.015\n",
            "---------------------\n",
            "Truth: 0.805\n",
            "Model: 0.143\n",
            "---------------------\n",
            "Truth: 0.766\n",
            "Model: 0.365\n",
            "---------------------\n",
            "Truth: -0.655\n",
            "Model: -0.066\n",
            "---------------------\n",
            "Truth: 0.357\n",
            "Model: 0.114\n",
            "---------------------\n",
            "Truth: 0.357\n",
            "Model: 0.141\n",
            "---------------------\n",
            "Truth: -0.606\n",
            "Model: -0.078\n",
            "---------------------\n",
            "Truth: -0.500\n",
            "Model: -0.114\n",
            "---------------------\n",
            "Truth: 1.000\n",
            "Model: 0.236\n",
            "---------------------\n",
            "Truth: -0.858\n",
            "Model: -0.106\n",
            "---------------------\n",
            "Truth: 0.048\n",
            "Model: 0.019\n",
            "---------------------\n",
            "Truth: 0.992\n",
            "Model: 0.217\n",
            "---------------------\n",
            "Truth: 0.903\n",
            "Model: 0.348\n",
            "---------------------\n",
            "Truth: 0.580\n",
            "Model: 0.190\n",
            "---------------------\n",
            "Truth: 0.527\n",
            "Model: 0.062\n",
            "---------------------\n",
            "Truth: 0.174\n",
            "Model: 0.034\n",
            "---------------------\n",
            "Truth: -0.858\n",
            "Model: -0.129\n",
            "---------------------\n",
            "Truth: -0.079\n",
            "Model: 0.003\n",
            "---------------------\n",
            "Truth: 0.968\n",
            "Model: 0.199\n",
            "---------------------\n",
            "Truth: -0.016\n",
            "Model: 0.020\n",
            "---------------------\n",
            "Truth: 0.236\n",
            "Model: 0.080\n",
            "---------------------\n",
            "Truth: -0.987\n",
            "Model: -0.114\n",
            "---------------------\n",
            "Truth: -0.266\n",
            "Model: -0.028\n",
            "---------------------\n",
            "Truth: 0.472\n",
            "Model: 0.202\n",
            "---------------------\n",
            "Truth: -0.327\n",
            "Model: -0.005\n",
            "---------------------\n",
            "Truth: 0.724\n",
            "Model: 0.079\n",
            "---------------------\n",
            "Truth: -0.959\n",
            "Model: -0.120\n",
            "---------------------\n",
            "Truth: 0.580\n",
            "Model: 0.262\n",
            "---------------------\n",
            "Truth: -0.916\n",
            "Model: -0.125\n",
            "---------------------\n",
            "Truth: -0.444\n",
            "Model: -0.041\n",
            "---------------------\n",
            "Truth: -0.995\n",
            "Model: -0.096\n",
            "---------------------\n",
            "Truth: -0.745\n",
            "Model: -0.076\n",
            "---------------------\n",
            "Truth: 0.297\n",
            "Model: 0.044\n",
            "---------------------\n",
            "Truth: -0.386\n",
            "Model: -0.099\n",
            "---------------------\n",
            "Truth: 0.297\n",
            "Model: 0.052\n",
            "---------------------\n",
            "Truth: 0.236\n",
            "Model: 0.084\n",
            "---------------------\n",
            "Truth: -0.889\n",
            "Model: -0.067\n",
            "---------------------\n",
            "Truth: 0.679\n",
            "Model: 0.317\n",
            "---------------------\n",
            "Truth: -0.205\n",
            "Model: -0.013\n",
            "---------------------\n",
            "Truth: -0.142\n",
            "Model: -0.005\n",
            "---------------------\n",
            "Truth: -0.655\n",
            "Model: -0.036\n",
            "---------------------\n",
            "Truth: 0.724\n",
            "Model: 0.124\n",
            "---------------------\n",
            "Truth: -0.016\n",
            "Model: -0.013\n",
            "---------------------\n",
            "Truth: -0.959\n",
            "Model: -0.113\n",
            "---------------------\n",
            "Truth: -0.701\n",
            "Model: -0.090\n",
            "---------------------\n",
            "Truth: 0.998\n",
            "Model: 0.447\n",
            "---------------------\n",
            "Truth: 0.048\n",
            "Model: 0.025\n",
            "---------------------\n",
            "Truth: 0.472\n",
            "Model: 0.151\n",
            "---------------------\n",
            "Truth: -0.606\n",
            "Model: -0.124\n",
            "---------------------\n",
            "Truth: 0.874\n",
            "Model: 0.162\n",
            "---------------------\n",
            "Truth: 0.841\n",
            "Model: 0.310\n",
            "---------------------\n",
            "Truth: 0.841\n",
            "Model: 0.404\n",
            "---------------------\n",
            "Truth: 0.631\n",
            "Model: 0.106\n",
            "---------------------\n",
            "Truth: -0.205\n",
            "Model: 0.005\n",
            "---------------------\n",
            "Truth: 0.111\n",
            "Model: 0.049\n",
            "---------------------\n",
            "Truth: -0.500\n",
            "Model: -0.064\n",
            "---------------------\n",
            "Truth: 0.982\n",
            "Model: 0.452\n",
            "---------------------\n",
            "Truth: -0.701\n",
            "Model: -0.129\n",
            "---------------------\n",
            "Truth: -0.999\n",
            "Model: -0.105\n",
            "---------------------\n",
            "Truth: -0.327\n",
            "Model: -0.027\n",
            "---------------------\n",
            "Truth: 0.766\n",
            "Model: 0.271\n",
            "---------------------\n",
            "Truth: -0.142\n",
            "Model: -0.049\n",
            "---------------------\n",
            "Truth: -0.889\n",
            "Model: -0.094\n",
            "---------------------\n",
            "Truth: -0.975\n",
            "Model: -0.107\n",
            "---------------------\n",
            "Truth: -0.444\n",
            "Model: -0.015\n",
            "---------------------\n",
            "Truth: -0.266\n",
            "Model: -0.078\n",
            "---------------------\n",
            "Truth: -0.554\n",
            "Model: -0.026\n",
            "---------------------\n",
            "Truth: -0.975\n",
            "Model: -0.087\n",
            "---------------------\n",
            "Truth: -0.386\n",
            "Model: -0.047\n"
          ]
        }
      ]
    },
    {
      "cell_type": "code",
      "source": [
        "len(x[:1])"
      ],
      "metadata": {
        "colab": {
          "base_uri": "https://localhost:8080/"
        },
        "id": "rRoo5nmr_nrf",
        "outputId": "2a0c1648-c7c2-49b8-a58d-b0137ffab9b7"
      },
      "execution_count": 82,
      "outputs": [
        {
          "output_type": "execute_result",
          "data": {
            "text/plain": [
              "1"
            ]
          },
          "metadata": {},
          "execution_count": 82
        }
      ]
    },
    {
      "cell_type": "code",
      "source": [
        "model_pred = model(xs[0])\n",
        "model_loss = trainer.curr_loss([model_pred], [ys[0]])\n",
        "model_loss.backward()\n",
        "# draw_dot(model_loss)"
      ],
      "metadata": {
        "id": "M2uZIkqBaFAn"
      },
      "execution_count": 83,
      "outputs": []
    },
    {
      "cell_type": "markdown",
      "source": [
        "# Trying a Different Problem & Loss Function"
      ],
      "metadata": {
        "id": "T8j6S-vsfxWy"
      }
    },
    {
      "cell_type": "markdown",
      "source": [
        "Initialize a model"
      ],
      "metadata": {
        "id": "ujINfB62gSX9"
      }
    },
    {
      "cell_type": "code",
      "source": [
        "# initialize a model \n",
        "model = MLP(2, [16, 16, 1]) # 2-layer neural network\n",
        "print(model)\n",
        "print(\"number of parameters\", len(model.parameters()))"
      ],
      "metadata": {
        "colab": {
          "base_uri": "https://localhost:8080/"
        },
        "id": "pvhSKE-nf4CL",
        "outputId": "0b60859b-6e75-44fc-a889-c92ec1a85732"
      },
      "execution_count": 84,
      "outputs": [
        {
          "output_type": "stream",
          "name": "stdout",
          "text": [
            "<__main__.MLP object at 0x7f8b0c1c5250>\n",
            "number of parameters 337\n"
          ]
        }
      ]
    },
    {
      "cell_type": "code",
      "source": [
        "np.random.seed(1337)\n",
        "random.seed(1337)\n",
        "\n",
        "# make up a dataset\n",
        "\n",
        "from sklearn.datasets import make_moons, make_blobs\n",
        "X, y = make_moons(n_samples=100, noise=0.1)\n",
        "\n",
        "y = y*2 - 1 # make y be -1 or 1\n",
        "# visualize in 2D\n",
        "plt.figure(figsize=(5,5))\n",
        "plt.scatter(X[:,0], X[:,1], c=y, s=20, cmap='jet')"
      ],
      "metadata": {
        "colab": {
          "base_uri": "https://localhost:8080/",
          "height": 338
        },
        "id": "Ss2V-ny0f1cY",
        "outputId": "eaf82be2-d323-4ece-d5e5-e78f472234df"
      },
      "execution_count": 85,
      "outputs": [
        {
          "output_type": "execute_result",
          "data": {
            "text/plain": [
              "<matplotlib.collections.PathCollection at 0x7f8a67e1f580>"
            ]
          },
          "metadata": {},
          "execution_count": 85
        },
        {
          "output_type": "display_data",
          "data": {
            "text/plain": [
              "<Figure size 360x360 with 1 Axes>"
            ],
            "image/png": "[encoded data removed]"
          },
          "metadata": {
            "needs_background": "light"
          }
        }
      ]
    },
    {
      "cell_type": "code",
      "source": [
        "y"
      ],
      "metadata": {
        "colab": {
          "base_uri": "https://localhost:8080/"
        },
        "id": "aUQ2FsSagUwc",
        "outputId": "5b51083f-72cc-412f-f5ae-97f7ba723843"
      },
      "execution_count": 86,
      "outputs": [
        {
          "output_type": "execute_result",
          "data": {
            "text/plain": [
              "array([-1, -1,  1, -1,  1,  1,  1,  1,  1, -1,  1, -1, -1,  1, -1, -1,  1,\n",
              "        1, -1, -1, -1,  1,  1,  1,  1, -1, -1,  1, -1,  1, -1, -1, -1, -1,\n",
              "        1, -1,  1,  1,  1, -1, -1, -1, -1, -1, -1,  1,  1, -1,  1, -1, -1,\n",
              "        1, -1,  1,  1, -1, -1,  1, -1, -1, -1, -1, -1, -1, -1,  1, -1,  1,\n",
              "        1,  1,  1, -1, -1,  1,  1,  1, -1,  1,  1,  1,  1, -1,  1, -1, -1,\n",
              "       -1,  1,  1, -1, -1,  1,  1,  1,  1,  1,  1, -1,  1,  1, -1])"
            ]
          },
          "metadata": {},
          "execution_count": 86
        }
      ]
    },
    {
      "cell_type": "code",
      "source": [
        "type(X[:3])"
      ],
      "metadata": {
        "colab": {
          "base_uri": "https://localhost:8080/"
        },
        "id": "AbiyN43fggBw",
        "outputId": "7862ad51-f718-45c0-9b7a-76ecc0f8d830"
      },
      "execution_count": 87,
      "outputs": [
        {
          "output_type": "execute_result",
          "data": {
            "text/plain": [
              "numpy.ndarray"
            ]
          },
          "metadata": {},
          "execution_count": 87
        }
      ]
    },
    {
      "cell_type": "code",
      "source": [
        "def loss(batch_size=None):\n",
        "\n",
        "  # Data loader\n",
        "  if batch_size is None:\n",
        "    Xb, yb = X, y\n",
        "  else:\n",
        "    ri = np.random.permutation(X.shape[0])[:batch_size]\n",
        "    Xb, yb = X[ri], y[ri]\n",
        "\n",
        "  inputs = [list(map(Value, xrow)) for xrow in Xb]\n",
        "\n",
        "  # forward pass\n",
        "  scores = list(map(model, inputs))\n",
        "\n",
        "  # SVM max-margin loss\n",
        "  losses = [(1 + -yi * scorei).relu() for yi, scorei in zip(yb, scores)]\n",
        "  data_loss = sum(losses) * (1.0 / len(losses))\n",
        "\n",
        "  # L2 regularization\n",
        "  # alpha * ||w||_2^2\n",
        "  alpha = 1e-4\n",
        "  reg_loss = alpha * sum((p * p for p in model.parameters()))\n",
        "  total_loss = data_loss + reg_loss\n",
        "\n",
        "  # also get accuracy\n",
        "  accuracy = [(yi > 0) == (scorei.data > 0) for yi, scorei in zip(yb, scores)]\n",
        "  return total_loss, sum(accuracy) / len(accuracy)\n"
      ],
      "metadata": {
        "id": "R9qlDG9aZGsM"
      },
      "execution_count": 88,
      "outputs": []
    },
    {
      "cell_type": "code",
      "source": [
        "total_loss, acc = loss()\n",
        "print(f\"total_loss: {total_loss}, accuracy: {acc}\")"
      ],
      "metadata": {
        "colab": {
          "base_uri": "https://localhost:8080/"
        },
        "id": "je4fn4beqMwf",
        "outputId": "aded6030-4954-4156-820c-841d4a50d079"
      },
      "execution_count": 89,
      "outputs": [
        {
          "output_type": "stream",
          "name": "stdout",
          "text": [
            "total_loss: Value(data=1.0454168154834744), accuracy: 0.5\n"
          ]
        }
      ]
    },
    {
      "cell_type": "code",
      "source": [
        "# optimization\n",
        "for k in range(100):\n",
        "\n",
        "  # forward\n",
        "  total_loss, acc = loss()\n",
        "  print(f\"ITER {k} -- total_loss: {total_loss.data:.6f}, accuracy: {acc}\")\n",
        "\n",
        "  # backward\n",
        "  # model.zero_grad()\n",
        "  for p in model.parameters():\n",
        "    p.grad = 0.0\n",
        "  \n",
        "  total_loss.backward()\n",
        "\n",
        "  # update (with learning rate decay)\n",
        "  learning_rate = 1.0 - 0.9*k/100\n",
        "  for p in model.parameters():\n",
        "    p.data += -learning_rate * p.grad\n",
        "  \n",
        "  # break early if acc is 100%\n",
        "  if acc >= 1.0:\n",
        "    print(f\"Acc reached: {acc}, breaking early!\")\n",
        "    break\n"
      ],
      "metadata": {
        "colab": {
          "base_uri": "https://localhost:8080/"
        },
        "id": "cNDnilXqqYmL",
        "outputId": "c96ab36f-8456-4e7f-a57d-a287949e5946"
      },
      "execution_count": 90,
      "outputs": [
        {
          "output_type": "stream",
          "name": "stdout",
          "text": [
            "ITER 0 -- total_loss: 1.045417, accuracy: 0.5\n",
            "ITER 1 -- total_loss: 1.008880, accuracy: 0.5\n",
            "ITER 2 -- total_loss: 1.007704, accuracy: 0.5\n",
            "ITER 3 -- total_loss: 1.005500, accuracy: 0.5\n",
            "ITER 4 -- total_loss: 1.000159, accuracy: 0.5\n",
            "ITER 5 -- total_loss: 0.978981, accuracy: 0.5\n",
            "ITER 6 -- total_loss: 0.772626, accuracy: 0.63\n",
            "ITER 7 -- total_loss: 0.523581, accuracy: 0.81\n",
            "ITER 8 -- total_loss: 0.413428, accuracy: 0.81\n",
            "ITER 9 -- total_loss: 0.389927, accuracy: 0.82\n",
            "ITER 10 -- total_loss: 0.373036, accuracy: 0.82\n",
            "ITER 11 -- total_loss: 0.355420, accuracy: 0.82\n",
            "ITER 12 -- total_loss: 0.328897, accuracy: 0.84\n",
            "ITER 13 -- total_loss: 0.300648, accuracy: 0.86\n",
            "ITER 14 -- total_loss: 0.277859, accuracy: 0.89\n",
            "ITER 15 -- total_loss: 0.271830, accuracy: 0.89\n",
            "ITER 16 -- total_loss: 0.268380, accuracy: 0.89\n",
            "ITER 17 -- total_loss: 0.265756, accuracy: 0.89\n",
            "ITER 18 -- total_loss: 0.264608, accuracy: 0.88\n",
            "ITER 19 -- total_loss: 0.262489, accuracy: 0.91\n",
            "ITER 20 -- total_loss: 0.263958, accuracy: 0.87\n",
            "ITER 21 -- total_loss: 0.257215, accuracy: 0.91\n",
            "ITER 22 -- total_loss: 0.258443, accuracy: 0.88\n",
            "ITER 23 -- total_loss: 0.252786, accuracy: 0.91\n",
            "ITER 24 -- total_loss: 0.253935, accuracy: 0.88\n",
            "ITER 25 -- total_loss: 0.248384, accuracy: 0.91\n",
            "ITER 26 -- total_loss: 0.249224, accuracy: 0.88\n",
            "ITER 27 -- total_loss: 0.244236, accuracy: 0.91\n",
            "ITER 28 -- total_loss: 0.244778, accuracy: 0.9\n",
            "ITER 29 -- total_loss: 0.240104, accuracy: 0.91\n",
            "ITER 30 -- total_loss: 0.240277, accuracy: 0.9\n",
            "ITER 31 -- total_loss: 0.235975, accuracy: 0.91\n",
            "ITER 32 -- total_loss: 0.235745, accuracy: 0.9\n",
            "ITER 33 -- total_loss: 0.231794, accuracy: 0.91\n",
            "ITER 34 -- total_loss: 0.231128, accuracy: 0.9\n",
            "ITER 35 -- total_loss: 0.227531, accuracy: 0.91\n",
            "ITER 36 -- total_loss: 0.226415, accuracy: 0.9\n",
            "ITER 37 -- total_loss: 0.223161, accuracy: 0.91\n",
            "ITER 38 -- total_loss: 0.221614, accuracy: 0.9\n",
            "ITER 39 -- total_loss: 0.218666, accuracy: 0.91\n",
            "ITER 40 -- total_loss: 0.216747, accuracy: 0.9\n",
            "ITER 41 -- total_loss: 0.214038, accuracy: 0.92\n",
            "ITER 42 -- total_loss: 0.211840, accuracy: 0.91\n",
            "ITER 43 -- total_loss: 0.209273, accuracy: 0.92\n",
            "ITER 44 -- total_loss: 0.206880, accuracy: 0.92\n",
            "ITER 45 -- total_loss: 0.204328, accuracy: 0.92\n",
            "ITER 46 -- total_loss: 0.201764, accuracy: 0.92\n",
            "ITER 47 -- total_loss: 0.199081, accuracy: 0.92\n",
            "ITER 48 -- total_loss: 0.196290, accuracy: 0.92\n",
            "ITER 49 -- total_loss: 0.193357, accuracy: 0.92\n",
            "ITER 50 -- total_loss: 0.190286, accuracy: 0.92\n",
            "ITER 51 -- total_loss: 0.187081, accuracy: 0.92\n",
            "ITER 52 -- total_loss: 0.183767, accuracy: 0.93\n",
            "ITER 53 -- total_loss: 0.180365, accuracy: 0.94\n",
            "ITER 54 -- total_loss: 0.176892, accuracy: 0.94\n",
            "ITER 55 -- total_loss: 0.173360, accuracy: 0.94\n",
            "ITER 56 -- total_loss: 0.169775, accuracy: 0.94\n",
            "ITER 57 -- total_loss: 0.166144, accuracy: 0.94\n",
            "ITER 58 -- total_loss: 0.162475, accuracy: 0.94\n",
            "ITER 59 -- total_loss: 0.158784, accuracy: 0.94\n",
            "ITER 60 -- total_loss: 0.155088, accuracy: 0.94\n",
            "ITER 61 -- total_loss: 0.151408, accuracy: 0.94\n",
            "ITER 62 -- total_loss: 0.147766, accuracy: 0.94\n",
            "ITER 63 -- total_loss: 0.144184, accuracy: 0.94\n",
            "ITER 64 -- total_loss: 0.140680, accuracy: 0.95\n",
            "ITER 65 -- total_loss: 0.137270, accuracy: 0.97\n",
            "ITER 66 -- total_loss: 0.133966, accuracy: 0.97\n",
            "ITER 67 -- total_loss: 0.130777, accuracy: 0.97\n",
            "ITER 68 -- total_loss: 0.127709, accuracy: 0.97\n",
            "ITER 69 -- total_loss: 0.124764, accuracy: 0.97\n",
            "ITER 70 -- total_loss: 0.121944, accuracy: 0.97\n",
            "ITER 71 -- total_loss: 0.119248, accuracy: 0.97\n",
            "ITER 72 -- total_loss: 0.116674, accuracy: 0.97\n",
            "ITER 73 -- total_loss: 0.114220, accuracy: 0.97\n",
            "ITER 74 -- total_loss: 0.111882, accuracy: 0.97\n",
            "ITER 75 -- total_loss: 0.109656, accuracy: 0.97\n",
            "ITER 76 -- total_loss: 0.107539, accuracy: 0.97\n",
            "ITER 77 -- total_loss: 0.105526, accuracy: 0.97\n",
            "ITER 78 -- total_loss: 0.103613, accuracy: 0.97\n",
            "ITER 79 -- total_loss: 0.101797, accuracy: 0.97\n",
            "ITER 80 -- total_loss: 0.100074, accuracy: 0.97\n",
            "ITER 81 -- total_loss: 0.098440, accuracy: 0.97\n",
            "ITER 82 -- total_loss: 0.096891, accuracy: 0.98\n",
            "ITER 83 -- total_loss: 0.095424, accuracy: 0.98\n",
            "ITER 84 -- total_loss: 0.094036, accuracy: 0.98\n",
            "ITER 85 -- total_loss: 0.092723, accuracy: 0.98\n",
            "ITER 86 -- total_loss: 0.091482, accuracy: 0.98\n",
            "ITER 87 -- total_loss: 0.090311, accuracy: 0.98\n",
            "ITER 88 -- total_loss: 0.089207, accuracy: 0.98\n",
            "ITER 89 -- total_loss: 0.088167, accuracy: 0.99\n",
            "ITER 90 -- total_loss: 0.087188, accuracy: 0.99\n",
            "ITER 91 -- total_loss: 0.086269, accuracy: 0.99\n",
            "ITER 92 -- total_loss: 0.085407, accuracy: 0.99\n",
            "ITER 93 -- total_loss: 0.084600, accuracy: 0.99\n",
            "ITER 94 -- total_loss: 0.083847, accuracy: 0.99\n",
            "ITER 95 -- total_loss: 0.083144, accuracy: 0.99\n",
            "ITER 96 -- total_loss: 0.082491, accuracy: 0.99\n",
            "ITER 97 -- total_loss: 0.081886, accuracy: 0.99\n",
            "ITER 98 -- total_loss: 0.081328, accuracy: 0.99\n",
            "ITER 99 -- total_loss: 0.080815, accuracy: 0.99\n"
          ]
        }
      ]
    },
    {
      "cell_type": "code",
      "source": [
        " # visualize decision boundary\n",
        "\n",
        "h = 0.25\n",
        "x_min, x_max = X[:, 0].min() - 1, X[:, 0].max() + 1\n",
        "y_min, y_max = X[:, 1].min() - 1, X[:, 1].max() + 1\n",
        "xx, yy = np.meshgrid(np.arange(x_min, x_max, h),\n",
        "                     np.arange(y_min, y_max, h))\n",
        "Xmesh = np.c_[xx.ravel(), yy.ravel()]\n",
        "inputs = [list(map(Value, xrow)) for xrow in Xmesh]\n",
        "scores = list(map(model, inputs))\n",
        "Z = np.array([s.data > 0 for s in scores])\n",
        "Z = Z.reshape(xx.shape)\n",
        "\n",
        "fig = plt.figure()\n",
        "plt.contourf(xx, yy, Z, cmap=plt.cm.Spectral, alpha=0.8)\n",
        "plt.scatter(X[:, 0], X[:, 1], c=y, s=40, cmap=plt.cm.Spectral)\n",
        "plt.xlim(xx.min(), xx.max())\n",
        "plt.ylim(yy.min(), yy.max())"
      ],
      "metadata": {
        "colab": {
          "base_uri": "https://localhost:8080/",
          "height": 283
        },
        "id": "uWtNqk6try9K",
        "outputId": "788ddd43-bd17-4a0d-c4ca-ada0a6c32fbf"
      },
      "execution_count": 91,
      "outputs": [
        {
          "output_type": "execute_result",
          "data": {
            "text/plain": [
              "(-1.548639298268643, 1.951360701731357)"
            ]
          },
          "metadata": {},
          "execution_count": 91
        },
        {
          "output_type": "display_data",
          "data": {
            "text/plain": [
              "<Figure size 432x288 with 1 Axes>"
            ],
            "image/png": "[encoded data removed]"
          },
          "metadata": {
            "needs_background": "light"
          }
        }
      ]
    },
    {
      "cell_type": "code",
      "source": [
        "def test_sanity_check():\n",
        "\n",
        "    x = Value(-4.0)\n",
        "    z = 2 * x + 2 + x\n",
        "    q = z.tanh() + z * x\n",
        "    h = (z * z).tanh()\n",
        "    # q = z.relu() + z * x\n",
        "    # h = (z * z).relu()\n",
        "    # q = z.softplus() + z * x\n",
        "    # h = (z * z).softplus()\n",
        "    y = h + q + q * x\n",
        "    y.backward()\n",
        "    xmg, ymg = x, y\n",
        "\n",
        "    x = torch.Tensor([-4.0]).double()\n",
        "    x.requires_grad = True\n",
        "    z = 2 * x + 2 + x\n",
        "    # q = z.relu() + z * x\n",
        "    # h = (z * z).relu()\n",
        "    q = z.tanh() + z * x\n",
        "    h = (z * z).tanh()\n",
        "    y = h + q + q * x\n",
        "    y.backward()\n",
        "    xpt, ypt = x, y\n",
        "\n",
        "    tolerance = 1e-3\n",
        "    # forward pass went well\n",
        "    print(f\"ymg.data: {ymg.data}, ypt.data: {ypt.data.item()}\")\n",
        "    assert abs(ymg.data - ypt.data.item()) <= tolerance\n",
        "    # backward pass went well\n",
        "    print(f\"xmg.grad: {xmg.grad}, xpt.grad: {xpt.grad.item()}\")\n",
        "    assert abs(xmg.grad - xpt.grad.item()) <= tolerance\n",
        "\n",
        "test_sanity_check()"
      ],
      "metadata": {
        "colab": {
          "base_uri": "https://localhost:8080/"
        },
        "id": "Cb7_fhDA16ei",
        "outputId": "1d3852e6-6771-4e80-ff37-8e49762f13c6"
      },
      "execution_count": 92,
      "outputs": [
        {
          "output_type": "stream",
          "name": "stdout",
          "text": [
            "ymg.data: -116.00000001236691, ypt.data: -116.00000001236691\n",
            "xmg.grad: 104.99999992992078, xpt.grad: 104.99999992992078\n"
          ]
        }
      ]
    },
    {
      "cell_type": "code",
      "source": [
        "def test_more_ops():\n",
        "\n",
        "    a = Value(-4.0)\n",
        "    b = Value(2.0)\n",
        "    c = a + b\n",
        "    d = a * b + b**3\n",
        "    c += c + 1\n",
        "    c += 1 + c + (-a)\n",
        "    # d += d * 2 + (b + a).relu()\n",
        "    # d += 3 * d + (b - a).relu()\n",
        "    d += d * 2 + (b + a).tanh()\n",
        "    d += 3 * d + (b - a).tanh()\n",
        "    e = c - d\n",
        "    f = e**2\n",
        "    g = f / 2.0\n",
        "    g += Value(10.0) / f\n",
        "    g.backward()\n",
        "    amg, bmg, gmg = a, b, g\n",
        "\n",
        "    a = torch.Tensor([-4.0]).double()\n",
        "    b = torch.Tensor([2.0]).double()\n",
        "    a.requires_grad = True\n",
        "    b.requires_grad = True\n",
        "    c = a + b\n",
        "    d = a * b + b**3\n",
        "    c = c + c + 1\n",
        "    c = c + 1 + c + (-a)\n",
        "    # d = d + d * 2 + (b + a).relu()\n",
        "    # d = d + 3 * d + (b - a).relu()\n",
        "    d = d + d * 2 + (b + a).tanh()\n",
        "    d = d + 3 * d + (b - a).tanh()\n",
        "    e = c - d\n",
        "    f = e**2\n",
        "    g = f / 2.0\n",
        "    g = g + 10.0 / f\n",
        "    g.backward()\n",
        "    apt, bpt, gpt = a, b, g\n",
        "\n",
        "    tol = 1e-6\n",
        "    # forward pass went well\n",
        "    print(f\"gmg.data: {gmg.data}, gpt.data: {gpt.data.item()}\")\n",
        "    assert abs(gmg.data - gpt.data.item()) < tol\n",
        "    \n",
        "    # backward pass went well\n",
        "    print(f\"amg.grad: {amg.grad}, apt.grad: {apt.grad.item()}\")\n",
        "    # assert abs(amg.grad - apt.grad.item()) < tol\n",
        "\n",
        "    print(f\"bmg.grad: {bmg.grad}, bpt.grad: {bpt.grad.item()}\")\n",
        "    assert abs(bmg.grad - bpt.grad.item()) < tol\n",
        "\n",
        "test_more_ops()"
      ],
      "metadata": {
        "colab": {
          "base_uri": "https://localhost:8080/"
        },
        "id": "fd3qWtp2MeEX",
        "outputId": "a2eddf66-b1f7-4039-ec73-c6b358c92cba"
      },
      "execution_count": 93,
      "outputs": [
        {
          "output_type": "stream",
          "name": "stdout",
          "text": [
            "gmg.data: 4.625192144640556, gpt.data: 4.625192144640555\n",
            "amg.grad: 27.060135135849574, apt.grad: 27.060135135849503\n",
            "bmg.grad: 117.3344834539207, bpt.grad: 117.33448345392043\n"
          ]
        }
      ]
    },
    {
      "cell_type": "code",
      "source": [],
      "metadata": {
        "id": "3miMoyu9Rmij"
      },
      "execution_count": 93,
      "outputs": []
    }
  ]
}