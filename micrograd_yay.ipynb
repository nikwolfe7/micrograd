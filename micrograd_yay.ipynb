{
  "nbformat": 4,
  "nbformat_minor": 0,
  "metadata": {
    "colab": {
      "provenance": [],
      "authorship_tag": "ABX9TyMbnDs4vCa5S2TKDH/A1mvN",
      "include_colab_link": true
    },
    "kernelspec": {
      "name": "python3",
      "display_name": "Python 3"
    },
    "language_info": {
      "name": "python"
    }
  },
  "cells": [
    {
      "cell_type": "markdown",
      "metadata": {
        "id": "view-in-github",
        "colab_type": "text"
      },
      "source": [
        "<a href=\"https://colab.research.google.com/github/nikwolfe7/micrograd/blob/master/micrograd_yay.ipynb\" target=\"_parent\"><img src=\"https://colab.research.google.com/assets/colab-badge.svg\" alt=\"Open In Colab\"/></a>"
      ]
    },
    {
      "cell_type": "code",
      "execution_count": 81,
      "metadata": {
        "id": "4t3r9lDvHB62"
      },
      "outputs": [],
      "source": [
        "import math\n",
        "import numpy as np\n",
        "import matplotlib.pyplot as plt\n",
        "import copy\n",
        "%matplotlib inline"
      ]
    },
    {
      "cell_type": "code",
      "source": [
        "def f(x):\n",
        "  return 3 * x ** 2 - 4 * x + 5"
      ],
      "metadata": {
        "id": "p_9R4vurHgZ5"
      },
      "execution_count": 82,
      "outputs": []
    },
    {
      "cell_type": "code",
      "source": [
        "f(3.0)"
      ],
      "metadata": {
        "colab": {
          "base_uri": "https://localhost:8080/"
        },
        "id": "cab9LHbvHwh9",
        "outputId": "c6aed900-6840-4d25-c7d6-0b51f9b36e2c"
      },
      "execution_count": 83,
      "outputs": [
        {
          "output_type": "execute_result",
          "data": {
            "text/plain": [
              "20.0"
            ]
          },
          "metadata": {},
          "execution_count": 83
        }
      ]
    },
    {
      "cell_type": "code",
      "source": [
        "# range of numbers from -5 to 5, steps of 0.25\n",
        "xs = np.arange(-5, 5, 0.25)\n",
        "# get a set of values for f(x)\n",
        "ys = f(xs)\n",
        "ys"
      ],
      "metadata": {
        "colab": {
          "base_uri": "https://localhost:8080/"
        },
        "id": "nxYN6IDsHxdw",
        "outputId": "55deadba-2ae8-4dc2-de02-56246a5f8636"
      },
      "execution_count": 84,
      "outputs": [
        {
          "output_type": "execute_result",
          "data": {
            "text/plain": [
              "array([100.    ,  91.6875,  83.75  ,  76.1875,  69.    ,  62.1875,\n",
              "        55.75  ,  49.6875,  44.    ,  38.6875,  33.75  ,  29.1875,\n",
              "        25.    ,  21.1875,  17.75  ,  14.6875,  12.    ,   9.6875,\n",
              "         7.75  ,   6.1875,   5.    ,   4.1875,   3.75  ,   3.6875,\n",
              "         4.    ,   4.6875,   5.75  ,   7.1875,   9.    ,  11.1875,\n",
              "        13.75  ,  16.6875,  20.    ,  23.6875,  27.75  ,  32.1875,\n",
              "        37.    ,  42.1875,  47.75  ,  53.6875])"
            ]
          },
          "metadata": {},
          "execution_count": 84
        }
      ]
    },
    {
      "cell_type": "code",
      "source": [
        "plt.plot(xs, ys)"
      ],
      "metadata": {
        "colab": {
          "base_uri": "https://localhost:8080/",
          "height": 283
        },
        "id": "4b4WQQ0vH-3k",
        "outputId": "547a3108-c50f-48db-bedf-a7bc3b02ba41"
      },
      "execution_count": 85,
      "outputs": [
        {
          "output_type": "execute_result",
          "data": {
            "text/plain": [
              "[<matplotlib.lines.Line2D at 0x7f79080d2670>]"
            ]
          },
          "metadata": {},
          "execution_count": 85
        },
        {
          "output_type": "display_data",
          "data": {
            "text/plain": [
              "<Figure size 432x288 with 1 Axes>"
            ],
            "image/png": "[encoded data removed]"
          },
          "metadata": {
            "needs_background": "light"
          }
        }
      ]
    },
    {
      "cell_type": "markdown",
      "source": [
        "From https://en.wikipedia.org/wiki/Derivative"
      ],
      "metadata": {
        "id": "riNpWcZMK8w5"
      }
    },
    {
      "cell_type": "code",
      "source": [
        "# h = 0.00000000000000001 # note this value is too small, leads to underflow\n",
        "h = 0.00000001\n",
        "x = 3.0\n",
        "\n",
        "# fundamental theorem of calculus\n",
        "# (f(x + h) - f(x)) / h"
      ],
      "metadata": {
        "id": "GeLVcz7GIxRi"
      },
      "execution_count": 86,
      "outputs": []
    },
    {
      "cell_type": "markdown",
      "source": [
        "Derivative of the function using power rule"
      ],
      "metadata": {
        "id": "CyB2ww14LvFQ"
      }
    },
    {
      "cell_type": "code",
      "source": [
        "# 3 * x ** 2 - 4 * x + 5\n",
        "def dfdx(x):\n",
        "  return 6 * x - 4"
      ],
      "metadata": {
        "id": "wcm4bjD-K1YC"
      },
      "execution_count": 87,
      "outputs": []
    },
    {
      "cell_type": "markdown",
      "source": [
        "See it's the same value. Yay."
      ],
      "metadata": {
        "id": "6MUj0nIlMH6W"
      }
    },
    {
      "cell_type": "code",
      "source": [
        "dfdx(x)"
      ],
      "metadata": {
        "colab": {
          "base_uri": "https://localhost:8080/"
        },
        "id": "_0B0ALrNMDYm",
        "outputId": "8468b72b-c412-47c2-8b51-21a0723b5234"
      },
      "execution_count": 88,
      "outputs": [
        {
          "output_type": "execute_result",
          "data": {
            "text/plain": [
              "14.0"
            ]
          },
          "metadata": {},
          "execution_count": 88
        }
      ]
    },
    {
      "cell_type": "markdown",
      "source": [
        "Getting more complex..."
      ],
      "metadata": {
        "id": "p0oCBSKFMdw3"
      }
    },
    {
      "cell_type": "code",
      "source": [
        "def fd(a, b, c):\n",
        "  return a * b + c"
      ],
      "metadata": {
        "id": "nU_L6llIN3wx"
      },
      "execution_count": 89,
      "outputs": []
    },
    {
      "cell_type": "code",
      "source": [
        "a = 2.0\n",
        "b = -3.0\n",
        "c = 10.0\n",
        "d = fd(a, b, c)\n",
        "print(d)"
      ],
      "metadata": {
        "colab": {
          "base_uri": "https://localhost:8080/"
        },
        "id": "fjKBb9W5MGHU",
        "outputId": "b0a3e703-4003-44bc-c736-e55fadf8f352"
      },
      "execution_count": 90,
      "outputs": [
        {
          "output_type": "stream",
          "name": "stdout",
          "text": [
            "4.0\n"
          ]
        }
      ]
    },
    {
      "cell_type": "markdown",
      "source": [
        "Evaluating the derivative of the function above `a * b + c` with respect to each variable"
      ],
      "metadata": {
        "id": "0dmWnR5kNAJN"
      }
    },
    {
      "cell_type": "code",
      "source": [
        "h = 0.00001\n",
        "\n",
        "# fix the inputs\n",
        "a = 2.0\n",
        "b = -3.0\n",
        "c = 10.0\n",
        "\n",
        "d1 = fd(a, b, c)\n",
        "# increas a by h to get small change in function\n",
        "c += h\n",
        "d2 = fd(a, b, c)\n",
        "\n",
        "print(f\"d1 = {d1}, d2 = {d2}, slope = {(d2 - d1)/h}\")"
      ],
      "metadata": {
        "colab": {
          "base_uri": "https://localhost:8080/"
        },
        "id": "6p-UUlUrMwxs",
        "outputId": "7188d7ad-97bd-4c74-e30c-392597e92d13"
      },
      "execution_count": 91,
      "outputs": [
        {
          "output_type": "stream",
          "name": "stdout",
          "text": [
            "d1 = 4.0, d2 = 4.00001, slope = 0.9999999999621422\n"
          ]
        }
      ]
    },
    {
      "cell_type": "markdown",
      "source": [
        "Making the code above more modular..."
      ],
      "metadata": {
        "id": "l7GE4ZLDQUfq"
      }
    },
    {
      "cell_type": "code",
      "source": [
        "h = 0.00001\n",
        "\n",
        "# fix the inputs\n",
        "a = 2.0\n",
        "b = -3.0\n",
        "c = 10.0\n",
        "\n",
        "# differentiability\n",
        "# L = lim(h -> 0) (f(a + h) - f(a)) / h\n",
        "\n",
        "# Derivative with respect to a\n",
        "df_da = (fd(a+h, b, c) - fd(a, b, c)) / h\n",
        "\n",
        "print(f\"df/da:\\n d1 = {fd(a,b,c)}, d2 = {fd(a+h,b,c)}, slope = {df_da}\")\n",
        "\n",
        "# Derivative with respect to b\n",
        "df_db = (fd(a, b+h, c) - fd(a, b, c)) / h\n",
        "\n",
        "print(f\"df/db:\\n d1 = {fd(a,b,c)}, d2 = {fd(a,b+h,c)}, slope = {df_db}\")\n",
        "\n",
        "# Derivative with respect to c\n",
        "df_dc = (fd(a, b, c+h) - fd(a, b, c)) / h\n",
        "\n",
        "print(f\"df/db:\\n d1 = {fd(a,b,c)}, d2 = {fd(a,b,c+h)}, slope = {df_dc}\")"
      ],
      "metadata": {
        "colab": {
          "base_uri": "https://localhost:8080/"
        },
        "id": "3O8vRWEmQXLA",
        "outputId": "313fe4ec-9850-48cf-c2c2-2f46f1100470"
      },
      "execution_count": 92,
      "outputs": [
        {
          "output_type": "stream",
          "name": "stdout",
          "text": [
            "df/da:\n",
            " d1 = 4.0, d2 = 3.9999699999999994, slope = -3.000000000064062\n",
            "df/db:\n",
            " d1 = 4.0, d2 = 4.00002, slope = 2.0000000000131024\n",
            "df/db:\n",
            " d1 = 4.0, d2 = 4.00001, slope = 0.9999999999621422\n"
          ]
        }
      ]
    },
    {
      "cell_type": "markdown",
      "source": [
        "Test function to compute derivative of arbitrary function w.r.t (with respect to) a variable in the args list"
      ],
      "metadata": {
        "id": "6oIluDyftNfz"
      }
    },
    {
      "cell_type": "code",
      "source": [
        "def gradient(func, args, wrt):\n",
        "    h = 0.00001\n",
        "    # find which arg we're deriving with respect to\n",
        "    h_args = []\n",
        "    for arg in list(args):\n",
        "      if wrt is arg:\n",
        "        arg += h\n",
        "      h_args.append(arg)\n",
        "    h_args = tuple(h_args)\n",
        "    # (f(a+h) - f(a)) / h\n",
        "    g = (func(*h_args) - func(*args)) / h\n",
        "    return g"
      ],
      "metadata": {
        "id": "e8wgdZL9orra"
      },
      "execution_count": 93,
      "outputs": []
    },
    {
      "cell_type": "code",
      "source": [
        "# fix the inputs\n",
        "a = 2.0\n",
        "b = -3.0\n",
        "c = 10.0\n",
        "\n",
        "# Derivative with respect to a\n",
        "df_da = (fd(a+h, b, c) - fd(a, b, c)) / h\n",
        "print(f\"df_da: {df_da}\")\n",
        "\n",
        "# Derivative with respect to b\n",
        "df_db = (fd(a, b+h, c) - fd(a, b, c)) / h\n",
        "print(f\"df_db: {df_db}\")\n",
        "\n",
        "# Derivative with respect to c\n",
        "df_dc = (fd(a, b, c+h) - fd(a, b, c)) / h\n",
        "print(f\"df_dc: {df_dc}\")"
      ],
      "metadata": {
        "colab": {
          "base_uri": "https://localhost:8080/"
        },
        "id": "HVXnQxRHo4kO",
        "outputId": "38c9a5ff-0515-474d-fb57-a9532206c0bc"
      },
      "execution_count": 94,
      "outputs": [
        {
          "output_type": "stream",
          "name": "stdout",
          "text": [
            "df_da: -3.000000000064062\n",
            "df_db: 2.0000000000131024\n",
            "df_dc: 0.9999999999621422\n"
          ]
        }
      ]
    },
    {
      "cell_type": "code",
      "source": [
        "print(f\"df_da: {gradient(fd, (a,b,c), wrt=a)}\")\n",
        "print(f\"df_db: {gradient(fd, (a,b,c), wrt=b)}\")\n",
        "print(f\"df_dc: {gradient(fd, (a,b,c), wrt=c)}\")"
      ],
      "metadata": {
        "colab": {
          "base_uri": "https://localhost:8080/"
        },
        "id": "_3uinm02pINS",
        "outputId": "b032b07f-6b49-450c-bff2-591cf150ab1f"
      },
      "execution_count": 95,
      "outputs": [
        {
          "output_type": "stream",
          "name": "stdout",
          "text": [
            "df_da: -3.000000000064062\n",
            "df_db: 2.0000000000131024\n",
            "df_dc: 0.9999999999621422\n"
          ]
        }
      ]
    },
    {
      "cell_type": "markdown",
      "source": [
        "# Implementing `Value` Class"
      ],
      "metadata": {
        "id": "Ird1SjTPP8v6"
      }
    },
    {
      "cell_type": "code",
      "source": [
        "import copy\n",
        "\n",
        "class Value:\n",
        "\n",
        "  # used for computing gradients\n",
        "  h = 0.000000001\n",
        "  # TODO(nikwolfe7): Remove autograd flag when we confirm it works\n",
        "  do_autograd = False\n",
        "\n",
        "  def __init__(self, data, _children=(), _op='', label=''):\n",
        "    self.data = data\n",
        "    self.grad = 0.0\n",
        "    self._backward = lambda: None\n",
        "    self._prev = set(_children)\n",
        "    self._op = _op\n",
        "    self.label = label\n",
        "  \n",
        "\n",
        "  def __repr__(self):\n",
        "    return f\"Value(data={self.data})\"\n",
        "\n",
        "  \n",
        "  def _autograd(self, func, args, wrt):\n",
        "    # find which arg we're deriving with respect to\n",
        "    h_args = []\n",
        "    for arg in args:\n",
        "      # must point to same reference\n",
        "      if wrt is arg: \n",
        "        # arg must be a new value object\n",
        "        arg = Value(arg.data)\n",
        "        arg.data += h\n",
        "      h_args.append(arg)\n",
        "    h_args = tuple(h_args)\n",
        "    # definition of derivative\n",
        "    # (f(a+h) - f(a)) / h\n",
        "    g = (func(*h_args) - func(*args)) * (h ** -1)\n",
        "    return g\n",
        "\n",
        "\n",
        "  def __add__(self, other):\n",
        "    other = other if isinstance(other, Value) else Value(other, label=str(other))\n",
        "    def _add(a, b):\n",
        "      return a.data + b.data\n",
        "\n",
        "    v = _add(self, other)\n",
        "    out = Value(v, (self, other), '+')\n",
        "\n",
        "    def _backward():\n",
        "      self.grad += out.grad\n",
        "      other.grad += out.grad\n",
        "    \n",
        "    out._backward = _backward\n",
        "    return out\n",
        "\n",
        "\n",
        "  def __mul__(self, other):\n",
        "    other = other if isinstance(other, Value) else Value(other, label=str(other))\n",
        "    def _mul(a, b):\n",
        "      return a.data * b.data\n",
        "    \n",
        "    v = _mul(self, other)\n",
        "    out = Value(v, (self, other), '*')\n",
        "\n",
        "    def _backward():\n",
        "      if self.do_autograd:\n",
        "        self.grad += self._autograd(_mul, (self, other), wrt=self) * out.grad\n",
        "        other.grad += self._autograd(_mul, (self, other), wrt=other) * out.grad\n",
        "      else:\n",
        "        self.grad += other.data * out.grad\n",
        "        other.grad += self.data * out.grad\n",
        "\n",
        "    out._backward = _backward\n",
        "    return out\n",
        "\n",
        "\n",
        "  def tanh(self):\n",
        "    def _tanh(a):\n",
        "      return (math.exp(2 * a.data) - 1.0) / (math.exp(2 * a.data) + 1.0) \n",
        "    \n",
        "    v = _tanh(self)\n",
        "    out = Value(v, _children=(self, ), _op='tanh')\n",
        "\n",
        "    def _backward():\n",
        "      if self.do_autograd:\n",
        "        self.grad += self._autograd(_tanh, (self,), wrt=self) * out.grad\n",
        "      else:\n",
        "        # d/dx tanh(x) = 1 - tanh(x)^2\n",
        "        self.grad += (1.0 - v ** 2) * out.grad\n",
        "\n",
        "    out._backward = _backward\n",
        "    return out\n",
        "\n",
        "  \n",
        "  def sigmoid(self):\n",
        "    def _sigmoid(a):\n",
        "      # 1 / (1 + e^(-x))\n",
        "      return (1 + math.exp(-a.data)) ** -1\n",
        "    \n",
        "    v = _sigmoid(self)\n",
        "    out = Value(v, _children=(self,), _op='sigmoid')\n",
        "\n",
        "    def _backward():\n",
        "      if self.do_autograd:\n",
        "        self.grad += self._autograd(_sigmoid, (self,), wrt=self) * out.grad\n",
        "      else:\n",
        "        # d/dx sig(x) = sig(x)(1 - sig(x))\n",
        "        self.grad += out.data * (1 - out.data) * out.grad\n",
        "    \n",
        "    out._backward = _backward\n",
        "    return out\n",
        "\n",
        "\n",
        "  def softplus(self):\n",
        "    def _softplus(a):\n",
        "      # f(x) = log(1 + exp(x))\n",
        "      return math.log(1 + math.exp(a.data))\n",
        "    \n",
        "    v = _softplus(self)\n",
        "    out = Value(v, _children=(self,), _op='softplus')\n",
        "\n",
        "    def _backward():\n",
        "      if self.do_autograd:\n",
        "        self.grad += self._autograd(_softplus, (self,), wrt=self) * out.grad\n",
        "      else:\n",
        "        # d/dx softplus(x) = sigmoid(x)\n",
        "        self.grad += self.sigmoid().data * out.grad\n",
        "    \n",
        "    out._backward = _backward\n",
        "    return out\n",
        "  \n",
        "\n",
        "  def relu(self):\n",
        "    def _relu(a):\n",
        "      return max(0, a.data)\n",
        "    \n",
        "    v = _relu(self)\n",
        "    out = Value(v, _children=(self,), _op='ReLU')\n",
        "\n",
        "    def _backward():\n",
        "      if self.do_autograd:\n",
        "        self.grad += self._autograd(_relu, (self,), wrt=self) * out.grad\n",
        "      else:\n",
        "        self.grad += (self.data > 0) * out.grad\n",
        "    \n",
        "    out._backward = _backward\n",
        "    return out\n",
        "\n",
        "\n",
        "  def __pow__(self, other): \n",
        "    assert isinstance(other, (int, float)), \"only supporting int/float powers for now\"\n",
        "    def _pow(a, b):\n",
        "      return a.data ** b\n",
        "\n",
        "    v = _pow(self, other)  \n",
        "    out = Value(v, (self,), f\"**{other}\")\n",
        "\n",
        "    def _backward():\n",
        "      if self.do_autograd:\n",
        "        self.grad += self._autograd(_pow, (self, other), self) * out.grad\n",
        "      else:\n",
        "        # power rule...\n",
        "        self.grad += other * _pow(self, other - 1) * out.grad\n",
        "\n",
        "    out._backward = _backward\n",
        "    return out\n",
        "\n",
        "\n",
        "  def exp(self):\n",
        "    \"\"\"returns e^(data)\"\"\"\n",
        "    def _exp(a):\n",
        "      return math.exp(a.data)\n",
        "    \n",
        "    v = _exp(self)\n",
        "    out = Value(v, (self,), _op='exp')\n",
        "\n",
        "    def _backward():\n",
        "      if self.do_autograd:\n",
        "        self.grad += self._autograd(_exp, (self,), wrt=self) * out.grad\n",
        "      else:\n",
        "        # d/dx e^x = e^x\n",
        "        self.grad += out.data * out.grad\n",
        "    \n",
        "    out._backward = _backward\n",
        "    return out\n",
        "  \n",
        "\n",
        "  def __neg__(self): # -self\n",
        "    return self * -1\n",
        "\n",
        "\n",
        "  def __sub__(self, other): # subtraction\n",
        "    return self + (-other)  \n",
        "\n",
        "\n",
        "  def __rmul__(self, other): # other is self\n",
        "    return self * other\n",
        "\n",
        "  \n",
        "  def __radd__(self, other): # other is self\n",
        "    return self + other\n",
        "\n",
        "\n",
        "  def __truediv__(self, other): # self / other\n",
        "    return self * other ** -1\n",
        "\n",
        "\n",
        "  def backward(self):\n",
        "    topo = []\n",
        "    visited = set()\n",
        "    def build_topo(v):\n",
        "      if v not in visited:\n",
        "        visited.add(v)\n",
        "        for child in v._prev:\n",
        "          build_topo(child)\n",
        "        topo.append(v)\n",
        "    build_topo(self)\n",
        "\n",
        "    # run backprop in reverse topological order\n",
        "    self.grad = 1.0\n",
        "    for val in reversed(topo):\n",
        "      val._backward()\n"
      ],
      "metadata": {
        "id": "g3nTKEOvOh-D"
      },
      "execution_count": 303,
      "outputs": []
    },
    {
      "cell_type": "code",
      "source": [
        "def test():\n",
        "  a = Value(2.0, label='a')\n",
        "  b = Value(4.0, label='b')\n",
        "  a.do_autograd = True\n",
        "  b.do_autograd = True\n",
        "  print(a / b)\n",
        "\n",
        "  a.backward()\n",
        "  print(a.grad)\n",
        "\n",
        "test()"
      ],
      "metadata": {
        "colab": {
          "base_uri": "https://localhost:8080/"
        },
        "id": "BT-HYctOIN29",
        "outputId": "55cffa91-6d9f-464c-f2bb-d6b1ac86d754"
      },
      "execution_count": 177,
      "outputs": [
        {
          "output_type": "stream",
          "name": "stdout",
          "text": [
            "Value(data=0.5)\n",
            "1.0\n"
          ]
        }
      ]
    },
    {
      "cell_type": "markdown",
      "source": [
        "# GraphViz Functions to Display Computation Graph"
      ],
      "metadata": {
        "id": "iaUBXttoSJI4"
      }
    },
    {
      "cell_type": "code",
      "source": [
        "from graphviz import Digraph\n",
        "\n",
        "def trace(root):\n",
        "  # builds a set of all nodes and edges in a graph\n",
        "  nodes, edges = set(), set()\n",
        "  def build(v):\n",
        "    if v not in nodes:\n",
        "      nodes.add(v)\n",
        "      for child in v._prev:\n",
        "        edges.add((child, v))\n",
        "        build(child)\n",
        "  build(root)\n",
        "  return nodes, edges\n",
        "\n",
        "def draw_dot(root):\n",
        "  dot = Digraph(format='svg', graph_attr={'rankdir': 'LR'}) # LR = left to right\n",
        "  \n",
        "  nodes, edges = trace(root)\n",
        "  for n in nodes:\n",
        "    uid = str(id(n))\n",
        "    # for any value in the graph, create a rectangular ('record') node for it\n",
        "    dot.node(name = uid, label = \"{ %s | data %.4f | grad %.4f }\" % (n.label, n.data, n.grad), shape = 'record')\n",
        "    if n._op:\n",
        "      # if this value is a result of some operation , create a node op for it\n",
        "      dot.node(name = uid + n._op, label = n._op)\n",
        "      # and connect this node to it\n",
        "      dot.edge(uid + n._op, uid)\n",
        "  \n",
        "  for n1, n2 in edges:\n",
        "    # connect n1 to the op node of n2\n",
        "    dot.edge(str(id(n1)), str(id(n2)) + n2._op)\n",
        "\n",
        "  return dot"
      ],
      "metadata": {
        "id": "04A55Iu5Wei3"
      },
      "execution_count": 178,
      "outputs": []
    },
    {
      "cell_type": "markdown",
      "source": [
        "Let's create some values! And do ops on them!"
      ],
      "metadata": {
        "id": "F23lJHH6fLZV"
      }
    },
    {
      "cell_type": "code",
      "source": [
        "a = Value(2.0, label='a')\n",
        "b = Value(-3.0, label='b')\n",
        "c = Value(10.0, label='c')\n",
        "f = Value(-2.0, label='f')\n",
        "\n",
        "e = a * b; e.label = 'e'\n",
        "d = e + c; d.label = 'd' \n",
        "L = d * f; L.label = 'L'\n",
        "\n",
        "print(a + b)\n",
        "print(a * b)\n",
        "print(a * b + c)\n",
        "\n",
        "# using the function fd() from above\n",
        "# d = fd(a, b, c)\n",
        "\n",
        "print(d._prev)\n",
        "print(d._op)"
      ],
      "metadata": {
        "colab": {
          "base_uri": "https://localhost:8080/"
        },
        "id": "cQoprolkfIPr",
        "outputId": "3d47d2c3-9cae-4dbc-838b-93aadf0168e1"
      },
      "execution_count": 179,
      "outputs": [
        {
          "output_type": "stream",
          "name": "stdout",
          "text": [
            "Value(data=-1.0)\n",
            "Value(data=-6.0)\n",
            "Value(data=4.0)\n",
            "{Value(data=-6.0), Value(data=10.0)}\n",
            "+\n"
          ]
        }
      ]
    },
    {
      "cell_type": "code",
      "source": [
        "draw_dot(L)"
      ],
      "metadata": {
        "colab": {
          "base_uri": "https://localhost:8080/",
          "height": 249
        },
        "id": "B5QQSgvAwKwz",
        "outputId": "87d9532f-e88b-4659-f201-00411a28190b"
      },
      "execution_count": 180,
      "outputs": [
        {
          "output_type": "execute_result",
          "data": {
            "text/plain": [
              "<graphviz.dot.Digraph at 0x7f78e42871f0>"
            ],
            "image/svg+xml": "<?xml version=\"1.0\" encoding=\"UTF-8\" standalone=\"no\"?>\n<!DOCTYPE svg PUBLIC \"-//W3C//DTD SVG 1.1//EN\"\n \"http://www.w3.org/Graphics/SVG/1.1/DTD/svg11.dtd\">\n<!-- Generated by graphviz version 2.43.0 (0)\n -->\n<!-- Title: %3 Pages: 1 -->\n<svg width=\"1148pt\" height=\"156pt\"\n viewBox=\"0.00 0.00 1148.00 156.00\" xmlns=\"http://www.w3.org/2000/svg\" xmlns:xlink=\"http://www.w3.org/1999/xlink\">\n<g id=\"graph0\" class=\"graph\" transform=\"scale(1 1) rotate(0) translate(4 152)\">\n<title>%3</title>\n<polygon fill=\"white\" stroke=\"transparent\" points=\"-4,4 -4,-152 1144,-152 1144,4 -4,4\"/>\n<!-- 140155176140320 -->\n<g id=\"node1\" class=\"node\">\n<title>140155176140320</title>\n<polygon fill=\"none\" stroke=\"black\" points=\"2.5,-111.5 2.5,-147.5 187.5,-147.5 187.5,-111.5 2.5,-111.5\"/>\n<text text-anchor=\"middle\" x=\"14\" y=\"-125.8\" font-family=\"Times,serif\" font-size=\"14.00\">a</text>\n<polyline fill=\"none\" stroke=\"black\" points=\"25.5,-111.5 25.5,-147.5 \"/>\n<text text-anchor=\"middle\" x=\"65.5\" y=\"-125.8\" font-family=\"Times,serif\" font-size=\"14.00\">data 2.0000</text>\n<polyline fill=\"none\" stroke=\"black\" points=\"105.5,-111.5 105.5,-147.5 \"/>\n<text text-anchor=\"middle\" x=\"146.5\" y=\"-125.8\" font-family=\"Times,serif\" font-size=\"14.00\">grad 0.0000</text>\n</g>\n<!-- 140154814665104* -->\n<g id=\"node10\" class=\"node\">\n<title>140154814665104*</title>\n<ellipse fill=\"none\" stroke=\"black\" cx=\"253\" cy=\"-101.5\" rx=\"27\" ry=\"18\"/>\n<text text-anchor=\"middle\" x=\"253\" y=\"-97.8\" font-family=\"Times,serif\" font-size=\"14.00\">*</text>\n</g>\n<!-- 140155176140320&#45;&gt;140154814665104* -->\n<g id=\"edge7\" class=\"edge\">\n<title>140155176140320&#45;&gt;140154814665104*</title>\n<path fill=\"none\" stroke=\"black\" d=\"M187.65,-113.05C197.94,-111.2 207.91,-109.41 216.81,-107.82\"/>\n<polygon fill=\"black\" stroke=\"black\" points=\"217.48,-111.25 226.71,-106.04 216.25,-104.36 217.48,-111.25\"/>\n</g>\n<!-- 140154814665920 -->\n<g id=\"node2\" class=\"node\">\n<title>140154814665920</title>\n<polygon fill=\"none\" stroke=\"black\" points=\"948,-27.5 948,-63.5 1140,-63.5 1140,-27.5 948,-27.5\"/>\n<text text-anchor=\"middle\" x=\"960.5\" y=\"-41.8\" font-family=\"Times,serif\" font-size=\"14.00\">L</text>\n<polyline fill=\"none\" stroke=\"black\" points=\"973,-27.5 973,-63.5 \"/>\n<text text-anchor=\"middle\" x=\"1015.5\" y=\"-41.8\" font-family=\"Times,serif\" font-size=\"14.00\">data &#45;8.0000</text>\n<polyline fill=\"none\" stroke=\"black\" points=\"1058,-27.5 1058,-63.5 \"/>\n<text text-anchor=\"middle\" x=\"1099\" y=\"-41.8\" font-family=\"Times,serif\" font-size=\"14.00\">grad 0.0000</text>\n</g>\n<!-- 140154814665920* -->\n<g id=\"node3\" class=\"node\">\n<title>140154814665920*</title>\n<ellipse fill=\"none\" stroke=\"black\" cx=\"885\" cy=\"-45.5\" rx=\"27\" ry=\"18\"/>\n<text text-anchor=\"middle\" x=\"885\" y=\"-41.8\" font-family=\"Times,serif\" font-size=\"14.00\">*</text>\n</g>\n<!-- 140154814665920*&#45;&gt;140154814665920 -->\n<g id=\"edge1\" class=\"edge\">\n<title>140154814665920*&#45;&gt;140154814665920</title>\n<path fill=\"none\" stroke=\"black\" d=\"M912.28,-45.5C919.78,-45.5 928.44,-45.5 937.67,-45.5\"/>\n<polygon fill=\"black\" stroke=\"black\" points=\"937.87,-49 947.87,-45.5 937.87,-42 937.87,-49\"/>\n</g>\n<!-- 140154969798880 -->\n<g id=\"node4\" class=\"node\">\n<title>140154969798880</title>\n<polygon fill=\"none\" stroke=\"black\" points=\"0,-56.5 0,-92.5 190,-92.5 190,-56.5 0,-56.5\"/>\n<text text-anchor=\"middle\" x=\"11.5\" y=\"-70.8\" font-family=\"Times,serif\" font-size=\"14.00\">b</text>\n<polyline fill=\"none\" stroke=\"black\" points=\"23,-56.5 23,-92.5 \"/>\n<text text-anchor=\"middle\" x=\"65.5\" y=\"-70.8\" font-family=\"Times,serif\" font-size=\"14.00\">data &#45;3.0000</text>\n<polyline fill=\"none\" stroke=\"black\" points=\"108,-56.5 108,-92.5 \"/>\n<text text-anchor=\"middle\" x=\"149\" y=\"-70.8\" font-family=\"Times,serif\" font-size=\"14.00\">grad 0.0000</text>\n</g>\n<!-- 140154969798880&#45;&gt;140154814665104* -->\n<g id=\"edge4\" class=\"edge\">\n<title>140154969798880&#45;&gt;140154814665104*</title>\n<path fill=\"none\" stroke=\"black\" d=\"M190.34,-90.83C199.62,-92.44 208.58,-93.99 216.66,-95.38\"/>\n<polygon fill=\"black\" stroke=\"black\" points=\"216.27,-98.87 226.72,-97.12 217.46,-91.97 216.27,-98.87\"/>\n</g>\n<!-- 140155176137968 -->\n<g id=\"node5\" class=\"node\">\n<title>140155176137968</title>\n<polygon fill=\"none\" stroke=\"black\" points=\"316,-28.5 316,-64.5 508,-64.5 508,-28.5 316,-28.5\"/>\n<text text-anchor=\"middle\" x=\"327.5\" y=\"-42.8\" font-family=\"Times,serif\" font-size=\"14.00\">c</text>\n<polyline fill=\"none\" stroke=\"black\" points=\"339,-28.5 339,-64.5 \"/>\n<text text-anchor=\"middle\" x=\"382.5\" y=\"-42.8\" font-family=\"Times,serif\" font-size=\"14.00\">data 10.0000</text>\n<polyline fill=\"none\" stroke=\"black\" points=\"426,-28.5 426,-64.5 \"/>\n<text text-anchor=\"middle\" x=\"467\" y=\"-42.8\" font-family=\"Times,serif\" font-size=\"14.00\">grad 0.0000</text>\n</g>\n<!-- 140154814665488+ -->\n<g id=\"node7\" class=\"node\">\n<title>140154814665488+</title>\n<ellipse fill=\"none\" stroke=\"black\" cx=\"571\" cy=\"-73.5\" rx=\"27\" ry=\"18\"/>\n<text text-anchor=\"middle\" x=\"571\" y=\"-69.8\" font-family=\"Times,serif\" font-size=\"14.00\">+</text>\n</g>\n<!-- 140155176137968&#45;&gt;140154814665488+ -->\n<g id=\"edge9\" class=\"edge\">\n<title>140155176137968&#45;&gt;140154814665488+</title>\n<path fill=\"none\" stroke=\"black\" d=\"M508.4,-62.91C517.69,-64.5 526.64,-66.04 534.71,-67.43\"/>\n<polygon fill=\"black\" stroke=\"black\" points=\"534.32,-70.91 544.76,-69.16 535.5,-64.02 534.32,-70.91\"/>\n</g>\n<!-- 140154814665488 -->\n<g id=\"node6\" class=\"node\">\n<title>140154814665488</title>\n<polygon fill=\"none\" stroke=\"black\" points=\"635.5,-55.5 635.5,-91.5 820.5,-91.5 820.5,-55.5 635.5,-55.5\"/>\n<text text-anchor=\"middle\" x=\"647\" y=\"-69.8\" font-family=\"Times,serif\" font-size=\"14.00\">d</text>\n<polyline fill=\"none\" stroke=\"black\" points=\"658.5,-55.5 658.5,-91.5 \"/>\n<text text-anchor=\"middle\" x=\"698.5\" y=\"-69.8\" font-family=\"Times,serif\" font-size=\"14.00\">data 4.0000</text>\n<polyline fill=\"none\" stroke=\"black\" points=\"738.5,-55.5 738.5,-91.5 \"/>\n<text text-anchor=\"middle\" x=\"779.5\" y=\"-69.8\" font-family=\"Times,serif\" font-size=\"14.00\">grad 0.0000</text>\n</g>\n<!-- 140154814665488&#45;&gt;140154814665920* -->\n<g id=\"edge5\" class=\"edge\">\n<title>140154814665488&#45;&gt;140154814665920*</title>\n<path fill=\"none\" stroke=\"black\" d=\"M820.51,-56.97C830.48,-55.17 840.13,-53.42 848.77,-51.86\"/>\n<polygon fill=\"black\" stroke=\"black\" points=\"849.55,-55.28 858.77,-50.06 848.3,-48.39 849.55,-55.28\"/>\n</g>\n<!-- 140154814665488+&#45;&gt;140154814665488 -->\n<g id=\"edge2\" class=\"edge\">\n<title>140154814665488+&#45;&gt;140154814665488</title>\n<path fill=\"none\" stroke=\"black\" d=\"M598.29,-73.5C606.26,-73.5 615.54,-73.5 625.39,-73.5\"/>\n<polygon fill=\"black\" stroke=\"black\" points=\"625.41,-77 635.41,-73.5 625.41,-70 625.41,-77\"/>\n</g>\n<!-- 140154969798448 -->\n<g id=\"node8\" class=\"node\">\n<title>140154969798448</title>\n<polygon fill=\"none\" stroke=\"black\" points=\"634,-0.5 634,-36.5 822,-36.5 822,-0.5 634,-0.5\"/>\n<text text-anchor=\"middle\" x=\"644.5\" y=\"-14.8\" font-family=\"Times,serif\" font-size=\"14.00\">f</text>\n<polyline fill=\"none\" stroke=\"black\" points=\"655,-0.5 655,-36.5 \"/>\n<text text-anchor=\"middle\" x=\"697.5\" y=\"-14.8\" font-family=\"Times,serif\" font-size=\"14.00\">data &#45;2.0000</text>\n<polyline fill=\"none\" stroke=\"black\" points=\"740,-0.5 740,-36.5 \"/>\n<text text-anchor=\"middle\" x=\"781\" y=\"-14.8\" font-family=\"Times,serif\" font-size=\"14.00\">grad 0.0000</text>\n</g>\n<!-- 140154969798448&#45;&gt;140154814665920* -->\n<g id=\"edge8\" class=\"edge\">\n<title>140154969798448&#45;&gt;140154814665920*</title>\n<path fill=\"none\" stroke=\"black\" d=\"M822.29,-34.75C831.57,-36.37 840.52,-37.93 848.61,-39.33\"/>\n<polygon fill=\"black\" stroke=\"black\" points=\"848.22,-42.82 858.68,-41.09 849.42,-35.92 848.22,-42.82\"/>\n</g>\n<!-- 140154814665104 -->\n<g id=\"node9\" class=\"node\">\n<title>140154814665104</title>\n<polygon fill=\"none\" stroke=\"black\" points=\"317,-83.5 317,-119.5 507,-119.5 507,-83.5 317,-83.5\"/>\n<text text-anchor=\"middle\" x=\"328.5\" y=\"-97.8\" font-family=\"Times,serif\" font-size=\"14.00\">e</text>\n<polyline fill=\"none\" stroke=\"black\" points=\"340,-83.5 340,-119.5 \"/>\n<text text-anchor=\"middle\" x=\"382.5\" y=\"-97.8\" font-family=\"Times,serif\" font-size=\"14.00\">data &#45;6.0000</text>\n<polyline fill=\"none\" stroke=\"black\" points=\"425,-83.5 425,-119.5 \"/>\n<text text-anchor=\"middle\" x=\"466\" y=\"-97.8\" font-family=\"Times,serif\" font-size=\"14.00\">grad 0.0000</text>\n</g>\n<!-- 140154814665104&#45;&gt;140154814665488+ -->\n<g id=\"edge6\" class=\"edge\">\n<title>140154814665104&#45;&gt;140154814665488+</title>\n<path fill=\"none\" stroke=\"black\" d=\"M507.05,-84.73C516.89,-82.97 526.39,-81.28 534.9,-79.76\"/>\n<polygon fill=\"black\" stroke=\"black\" points=\"535.52,-83.2 544.75,-78 534.29,-76.31 535.52,-83.2\"/>\n</g>\n<!-- 140154814665104*&#45;&gt;140154814665104 -->\n<g id=\"edge3\" class=\"edge\">\n<title>140154814665104*&#45;&gt;140154814665104</title>\n<path fill=\"none\" stroke=\"black\" d=\"M280.28,-101.5C288.05,-101.5 297.08,-101.5 306.68,-101.5\"/>\n<polygon fill=\"black\" stroke=\"black\" points=\"306.88,-105 316.88,-101.5 306.88,-98 306.88,-105\"/>\n</g>\n</g>\n</svg>\n"
          },
          "metadata": {},
          "execution_count": 180
        }
      ]
    },
    {
      "cell_type": "markdown",
      "source": [
        "Adding derivatives... "
      ],
      "metadata": {
        "id": "0Y2oA7r4jG-O"
      }
    },
    {
      "cell_type": "code",
      "source": [
        "L.grad = 1.0\n",
        "d.grad = f.data\n",
        "f.grad = d.data\n",
        "\n",
        "# Applying the chain rule for c.grad and e.grad\n",
        "# dL/dc = (dL/dd) * (dd/dc)\n",
        "# dL/de = (dL/dd) * (dd/de)\n",
        "# since d = c + e, dd/dc = 1.0\n",
        "# since d = c + e, dd/de = 1.0\n",
        "# dL/dd = d.grad\n",
        "c.grad = d.grad * 1.0\n",
        "e.grad = d.grad * 1.0 \n",
        "\n",
        "# Applying the chain rule for a.grad and b.grad\n",
        "# dL/da = (dL/de) * (de/da)\n",
        "# dL/db = (dL/de) * (de/db)\n",
        "# since e = a * b, de/da = b\n",
        "# since e = a * b, de/db = a\n",
        "# dL/de = e.grad\n",
        "a.grad = e.grad * b.data\n",
        "b.grad = e.grad * a.data\n",
        "\n",
        "draw_dot(L)"
      ],
      "metadata": {
        "colab": {
          "base_uri": "https://localhost:8080/",
          "height": 249
        },
        "id": "kDzYhB81jEsY",
        "outputId": "2cb893e0-1c39-4415-ccad-ffc87b3f03af"
      },
      "execution_count": 181,
      "outputs": [
        {
          "output_type": "execute_result",
          "data": {
            "text/plain": [
              "<graphviz.dot.Digraph at 0x7f785f3033d0>"
            ],
            "image/svg+xml": "<?xml version=\"1.0\" encoding=\"UTF-8\" standalone=\"no\"?>\n<!DOCTYPE svg PUBLIC \"-//W3C//DTD SVG 1.1//EN\"\n \"http://www.w3.org/Graphics/SVG/1.1/DTD/svg11.dtd\">\n<!-- Generated by graphviz version 2.43.0 (0)\n -->\n<!-- Title: %3 Pages: 1 -->\n<svg width=\"1157pt\" height=\"156pt\"\n viewBox=\"0.00 0.00 1157.00 156.00\" xmlns=\"http://www.w3.org/2000/svg\" xmlns:xlink=\"http://www.w3.org/1999/xlink\">\n<g id=\"graph0\" class=\"graph\" transform=\"scale(1 1) rotate(0) translate(4 152)\">\n<title>%3</title>\n<polygon fill=\"white\" stroke=\"transparent\" points=\"-4,4 -4,-152 1153,-152 1153,4 -4,4\"/>\n<!-- 140155176140320 -->\n<g id=\"node1\" class=\"node\">\n<title>140155176140320</title>\n<polygon fill=\"none\" stroke=\"black\" points=\"4.5,-111.5 4.5,-147.5 189.5,-147.5 189.5,-111.5 4.5,-111.5\"/>\n<text text-anchor=\"middle\" x=\"16\" y=\"-125.8\" font-family=\"Times,serif\" font-size=\"14.00\">a</text>\n<polyline fill=\"none\" stroke=\"black\" points=\"27.5,-111.5 27.5,-147.5 \"/>\n<text text-anchor=\"middle\" x=\"67.5\" y=\"-125.8\" font-family=\"Times,serif\" font-size=\"14.00\">data 2.0000</text>\n<polyline fill=\"none\" stroke=\"black\" points=\"107.5,-111.5 107.5,-147.5 \"/>\n<text text-anchor=\"middle\" x=\"148.5\" y=\"-125.8\" font-family=\"Times,serif\" font-size=\"14.00\">grad 6.0000</text>\n</g>\n<!-- 140154814665104* -->\n<g id=\"node10\" class=\"node\">\n<title>140154814665104*</title>\n<ellipse fill=\"none\" stroke=\"black\" cx=\"257\" cy=\"-101.5\" rx=\"27\" ry=\"18\"/>\n<text text-anchor=\"middle\" x=\"257\" y=\"-97.8\" font-family=\"Times,serif\" font-size=\"14.00\">*</text>\n</g>\n<!-- 140155176140320&#45;&gt;140154814665104* -->\n<g id=\"edge7\" class=\"edge\">\n<title>140155176140320&#45;&gt;140154814665104*</title>\n<path fill=\"none\" stroke=\"black\" d=\"M189.91,-113.21C200.76,-111.29 211.28,-109.43 220.61,-107.77\"/>\n<polygon fill=\"black\" stroke=\"black\" points=\"221.37,-111.19 230.6,-106 220.15,-104.3 221.37,-111.19\"/>\n</g>\n<!-- 140154814665920 -->\n<g id=\"node2\" class=\"node\">\n<title>140154814665920</title>\n<polygon fill=\"none\" stroke=\"black\" points=\"957,-27.5 957,-63.5 1149,-63.5 1149,-27.5 957,-27.5\"/>\n<text text-anchor=\"middle\" x=\"969.5\" y=\"-41.8\" font-family=\"Times,serif\" font-size=\"14.00\">L</text>\n<polyline fill=\"none\" stroke=\"black\" points=\"982,-27.5 982,-63.5 \"/>\n<text text-anchor=\"middle\" x=\"1024.5\" y=\"-41.8\" font-family=\"Times,serif\" font-size=\"14.00\">data &#45;8.0000</text>\n<polyline fill=\"none\" stroke=\"black\" points=\"1067,-27.5 1067,-63.5 \"/>\n<text text-anchor=\"middle\" x=\"1108\" y=\"-41.8\" font-family=\"Times,serif\" font-size=\"14.00\">grad 1.0000</text>\n</g>\n<!-- 140154814665920* -->\n<g id=\"node3\" class=\"node\">\n<title>140154814665920*</title>\n<ellipse fill=\"none\" stroke=\"black\" cx=\"894\" cy=\"-45.5\" rx=\"27\" ry=\"18\"/>\n<text text-anchor=\"middle\" x=\"894\" y=\"-41.8\" font-family=\"Times,serif\" font-size=\"14.00\">*</text>\n</g>\n<!-- 140154814665920*&#45;&gt;140154814665920 -->\n<g id=\"edge1\" class=\"edge\">\n<title>140154814665920*&#45;&gt;140154814665920</title>\n<path fill=\"none\" stroke=\"black\" d=\"M921.28,-45.5C928.78,-45.5 937.44,-45.5 946.67,-45.5\"/>\n<polygon fill=\"black\" stroke=\"black\" points=\"946.87,-49 956.87,-45.5 946.87,-42 946.87,-49\"/>\n</g>\n<!-- 140154969798880 -->\n<g id=\"node4\" class=\"node\">\n<title>140154969798880</title>\n<polygon fill=\"none\" stroke=\"black\" points=\"0,-56.5 0,-92.5 194,-92.5 194,-56.5 0,-56.5\"/>\n<text text-anchor=\"middle\" x=\"11.5\" y=\"-70.8\" font-family=\"Times,serif\" font-size=\"14.00\">b</text>\n<polyline fill=\"none\" stroke=\"black\" points=\"23,-56.5 23,-92.5 \"/>\n<text text-anchor=\"middle\" x=\"65.5\" y=\"-70.8\" font-family=\"Times,serif\" font-size=\"14.00\">data &#45;3.0000</text>\n<polyline fill=\"none\" stroke=\"black\" points=\"108,-56.5 108,-92.5 \"/>\n<text text-anchor=\"middle\" x=\"151\" y=\"-70.8\" font-family=\"Times,serif\" font-size=\"14.00\">grad &#45;4.0000</text>\n</g>\n<!-- 140154969798880&#45;&gt;140154814665104* -->\n<g id=\"edge4\" class=\"edge\">\n<title>140154969798880&#45;&gt;140154814665104*</title>\n<path fill=\"none\" stroke=\"black\" d=\"M194.01,-90.91C203.35,-92.5 212.37,-94.04 220.49,-95.43\"/>\n<polygon fill=\"black\" stroke=\"black\" points=\"220.16,-98.93 230.6,-97.16 221.34,-92.03 220.16,-98.93\"/>\n</g>\n<!-- 140155176137968 -->\n<g id=\"node5\" class=\"node\">\n<title>140155176137968</title>\n<polygon fill=\"none\" stroke=\"black\" points=\"320,-28.5 320,-64.5 516,-64.5 516,-28.5 320,-28.5\"/>\n<text text-anchor=\"middle\" x=\"331.5\" y=\"-42.8\" font-family=\"Times,serif\" font-size=\"14.00\">c</text>\n<polyline fill=\"none\" stroke=\"black\" points=\"343,-28.5 343,-64.5 \"/>\n<text text-anchor=\"middle\" x=\"386.5\" y=\"-42.8\" font-family=\"Times,serif\" font-size=\"14.00\">data 10.0000</text>\n<polyline fill=\"none\" stroke=\"black\" points=\"430,-28.5 430,-64.5 \"/>\n<text text-anchor=\"middle\" x=\"473\" y=\"-42.8\" font-family=\"Times,serif\" font-size=\"14.00\">grad &#45;2.0000</text>\n</g>\n<!-- 140154814665488+ -->\n<g id=\"node7\" class=\"node\">\n<title>140154814665488+</title>\n<ellipse fill=\"none\" stroke=\"black\" cx=\"579\" cy=\"-73.5\" rx=\"27\" ry=\"18\"/>\n<text text-anchor=\"middle\" x=\"579\" y=\"-69.8\" font-family=\"Times,serif\" font-size=\"14.00\">+</text>\n</g>\n<!-- 140155176137968&#45;&gt;140154814665488+ -->\n<g id=\"edge9\" class=\"edge\">\n<title>140155176137968&#45;&gt;140154814665488+</title>\n<path fill=\"none\" stroke=\"black\" d=\"M516.07,-62.98C525.42,-64.57 534.43,-66.1 542.55,-67.48\"/>\n<polygon fill=\"black\" stroke=\"black\" points=\"542.21,-70.97 552.65,-69.2 543.38,-64.07 542.21,-70.97\"/>\n</g>\n<!-- 140154814665488 -->\n<g id=\"node6\" class=\"node\">\n<title>140154814665488</title>\n<polygon fill=\"none\" stroke=\"black\" points=\"642,-55.5 642,-91.5 831,-91.5 831,-55.5 642,-55.5\"/>\n<text text-anchor=\"middle\" x=\"653.5\" y=\"-69.8\" font-family=\"Times,serif\" font-size=\"14.00\">d</text>\n<polyline fill=\"none\" stroke=\"black\" points=\"665,-55.5 665,-91.5 \"/>\n<text text-anchor=\"middle\" x=\"705\" y=\"-69.8\" font-family=\"Times,serif\" font-size=\"14.00\">data 4.0000</text>\n<polyline fill=\"none\" stroke=\"black\" points=\"745,-55.5 745,-91.5 \"/>\n<text text-anchor=\"middle\" x=\"788\" y=\"-69.8\" font-family=\"Times,serif\" font-size=\"14.00\">grad &#45;2.0000</text>\n</g>\n<!-- 140154814665488&#45;&gt;140154814665920* -->\n<g id=\"edge5\" class=\"edge\">\n<title>140154814665488&#45;&gt;140154814665920*</title>\n<path fill=\"none\" stroke=\"black\" d=\"M831.1,-56.65C840.4,-54.97 849.38,-53.35 857.49,-51.89\"/>\n<polygon fill=\"black\" stroke=\"black\" points=\"858.37,-55.29 867.59,-50.07 857.13,-48.4 858.37,-55.29\"/>\n</g>\n<!-- 140154814665488+&#45;&gt;140154814665488 -->\n<g id=\"edge2\" class=\"edge\">\n<title>140154814665488+&#45;&gt;140154814665488</title>\n<path fill=\"none\" stroke=\"black\" d=\"M606.03,-73.5C613.66,-73.5 622.52,-73.5 631.94,-73.5\"/>\n<polygon fill=\"black\" stroke=\"black\" points=\"631.94,-77 641.94,-73.5 631.94,-70 631.94,-77\"/>\n</g>\n<!-- 140154969798448 -->\n<g id=\"node8\" class=\"node\">\n<title>140154969798448</title>\n<polygon fill=\"none\" stroke=\"black\" points=\"642.5,-0.5 642.5,-36.5 830.5,-36.5 830.5,-0.5 642.5,-0.5\"/>\n<text text-anchor=\"middle\" x=\"653\" y=\"-14.8\" font-family=\"Times,serif\" font-size=\"14.00\">f</text>\n<polyline fill=\"none\" stroke=\"black\" points=\"663.5,-0.5 663.5,-36.5 \"/>\n<text text-anchor=\"middle\" x=\"706\" y=\"-14.8\" font-family=\"Times,serif\" font-size=\"14.00\">data &#45;2.0000</text>\n<polyline fill=\"none\" stroke=\"black\" points=\"748.5,-0.5 748.5,-36.5 \"/>\n<text text-anchor=\"middle\" x=\"789.5\" y=\"-14.8\" font-family=\"Times,serif\" font-size=\"14.00\">grad 4.0000</text>\n</g>\n<!-- 140154969798448&#45;&gt;140154814665920* -->\n<g id=\"edge8\" class=\"edge\">\n<title>140154969798448&#45;&gt;140154814665920*</title>\n<path fill=\"none\" stroke=\"black\" d=\"M830.65,-34.67C840.2,-36.33 849.43,-37.93 857.72,-39.37\"/>\n<polygon fill=\"black\" stroke=\"black\" points=\"857.24,-42.84 867.69,-41.11 858.44,-35.95 857.24,-42.84\"/>\n</g>\n<!-- 140154814665104 -->\n<g id=\"node9\" class=\"node\">\n<title>140154814665104</title>\n<polygon fill=\"none\" stroke=\"black\" points=\"321,-83.5 321,-119.5 515,-119.5 515,-83.5 321,-83.5\"/>\n<text text-anchor=\"middle\" x=\"332.5\" y=\"-97.8\" font-family=\"Times,serif\" font-size=\"14.00\">e</text>\n<polyline fill=\"none\" stroke=\"black\" points=\"344,-83.5 344,-119.5 \"/>\n<text text-anchor=\"middle\" x=\"386.5\" y=\"-97.8\" font-family=\"Times,serif\" font-size=\"14.00\">data &#45;6.0000</text>\n<polyline fill=\"none\" stroke=\"black\" points=\"429,-83.5 429,-119.5 \"/>\n<text text-anchor=\"middle\" x=\"472\" y=\"-97.8\" font-family=\"Times,serif\" font-size=\"14.00\">grad &#45;2.0000</text>\n</g>\n<!-- 140154814665104&#45;&gt;140154814665488+ -->\n<g id=\"edge6\" class=\"edge\">\n<title>140154814665104&#45;&gt;140154814665488+</title>\n<path fill=\"none\" stroke=\"black\" d=\"M515.16,-84.57C524.82,-82.87 534.13,-81.23 542.49,-79.75\"/>\n<polygon fill=\"black\" stroke=\"black\" points=\"543.3,-83.17 552.54,-77.98 542.08,-76.27 543.3,-83.17\"/>\n</g>\n<!-- 140154814665104*&#45;&gt;140154814665104 -->\n<g id=\"edge3\" class=\"edge\">\n<title>140154814665104*&#45;&gt;140154814665104</title>\n<path fill=\"none\" stroke=\"black\" d=\"M284.26,-101.5C292.05,-101.5 301.1,-101.5 310.75,-101.5\"/>\n<polygon fill=\"black\" stroke=\"black\" points=\"310.99,-105 320.99,-101.5 310.99,-98 310.99,-105\"/>\n</g>\n</g>\n</svg>\n"
          },
          "metadata": {},
          "execution_count": 181
        }
      ]
    },
    {
      "cell_type": "markdown",
      "source": [
        "# Manual Graph Update\n",
        "\n",
        "Applying gradient update rule...\n",
        "\n",
        "The new value should be ... `current value += eta * gradient`"
      ],
      "metadata": {
        "id": "woCJBFz1t_8R"
      }
    },
    {
      "cell_type": "code",
      "source": [
        "eta = 0.01\n",
        "\n",
        "a.data += eta * a.grad\n",
        "b.data += eta * b.grad\n",
        "c.data += eta * c.grad\n",
        "f.data += eta * f.grad\n",
        "\n",
        "# forward pass... \n",
        "e = a * b; e.label = 'e'\n",
        "d = e + c; d.label = 'd'\n",
        "L = d * f; L.label = 'L' \n",
        "\n",
        "draw_dot(L)"
      ],
      "metadata": {
        "colab": {
          "base_uri": "https://localhost:8080/",
          "height": 246
        },
        "id": "Fm8qIbw-ub_P",
        "outputId": "bc67f302-2a51-4d9e-df55-343a1a44c2c9"
      },
      "execution_count": 182,
      "outputs": [
        {
          "output_type": "execute_result",
          "data": {
            "text/plain": [
              "<graphviz.dot.Digraph at 0x7f7855f1cac0>"
            ],
            "image/svg+xml": "<?xml version=\"1.0\" encoding=\"UTF-8\" standalone=\"no\"?>\n<!DOCTYPE svg PUBLIC \"-//W3C//DTD SVG 1.1//EN\"\n \"http://www.w3.org/Graphics/SVG/1.1/DTD/svg11.dtd\">\n<!-- Generated by graphviz version 2.43.0 (0)\n -->\n<!-- Title: %3 Pages: 1 -->\n<svg width=\"1150pt\" height=\"154pt\"\n viewBox=\"0.00 0.00 1150.00 154.00\" xmlns=\"http://www.w3.org/2000/svg\" xmlns:xlink=\"http://www.w3.org/1999/xlink\">\n<g id=\"graph0\" class=\"graph\" transform=\"scale(1 1) rotate(0) translate(4 150)\">\n<title>%3</title>\n<polygon fill=\"white\" stroke=\"transparent\" points=\"-4,4 -4,-150 1146,-150 1146,4 -4,4\"/>\n<!-- 140154814712320 -->\n<g id=\"node1\" class=\"node\">\n<title>140154814712320</title>\n<polygon fill=\"none\" stroke=\"black\" points=\"950,-81.5 950,-117.5 1142,-117.5 1142,-81.5 950,-81.5\"/>\n<text text-anchor=\"middle\" x=\"962.5\" y=\"-95.8\" font-family=\"Times,serif\" font-size=\"14.00\">L</text>\n<polyline fill=\"none\" stroke=\"black\" points=\"975,-81.5 975,-117.5 \"/>\n<text text-anchor=\"middle\" x=\"1017.5\" y=\"-95.8\" font-family=\"Times,serif\" font-size=\"14.00\">data &#45;7.2865</text>\n<polyline fill=\"none\" stroke=\"black\" points=\"1060,-81.5 1060,-117.5 \"/>\n<text text-anchor=\"middle\" x=\"1101\" y=\"-95.8\" font-family=\"Times,serif\" font-size=\"14.00\">grad 0.0000</text>\n</g>\n<!-- 140154814712320* -->\n<g id=\"node2\" class=\"node\">\n<title>140154814712320*</title>\n<ellipse fill=\"none\" stroke=\"black\" cx=\"887\" cy=\"-99.5\" rx=\"27\" ry=\"18\"/>\n<text text-anchor=\"middle\" x=\"887\" y=\"-95.8\" font-family=\"Times,serif\" font-size=\"14.00\">*</text>\n</g>\n<!-- 140154814712320*&#45;&gt;140154814712320 -->\n<g id=\"edge1\" class=\"edge\">\n<title>140154814712320*&#45;&gt;140154814712320</title>\n<path fill=\"none\" stroke=\"black\" d=\"M914.28,-99.5C921.78,-99.5 930.44,-99.5 939.67,-99.5\"/>\n<polygon fill=\"black\" stroke=\"black\" points=\"939.87,-103 949.87,-99.5 939.87,-96 939.87,-103\"/>\n</g>\n<!-- 140155176140320 -->\n<g id=\"node3\" class=\"node\">\n<title>140155176140320</title>\n<polygon fill=\"none\" stroke=\"black\" points=\"4.5,-55.5 4.5,-91.5 189.5,-91.5 189.5,-55.5 4.5,-55.5\"/>\n<text text-anchor=\"middle\" x=\"16\" y=\"-69.8\" font-family=\"Times,serif\" font-size=\"14.00\">a</text>\n<polyline fill=\"none\" stroke=\"black\" points=\"27.5,-55.5 27.5,-91.5 \"/>\n<text text-anchor=\"middle\" x=\"67.5\" y=\"-69.8\" font-family=\"Times,serif\" font-size=\"14.00\">data 2.0600</text>\n<polyline fill=\"none\" stroke=\"black\" points=\"107.5,-55.5 107.5,-91.5 \"/>\n<text text-anchor=\"middle\" x=\"148.5\" y=\"-69.8\" font-family=\"Times,serif\" font-size=\"14.00\">grad 6.0000</text>\n</g>\n<!-- 140154814667552* -->\n<g id=\"node7\" class=\"node\">\n<title>140154814667552*</title>\n<ellipse fill=\"none\" stroke=\"black\" cx=\"257\" cy=\"-45.5\" rx=\"27\" ry=\"18\"/>\n<text text-anchor=\"middle\" x=\"257\" y=\"-41.8\" font-family=\"Times,serif\" font-size=\"14.00\">*</text>\n</g>\n<!-- 140155176140320&#45;&gt;140154814667552* -->\n<g id=\"edge7\" class=\"edge\">\n<title>140155176140320&#45;&gt;140154814667552*</title>\n<path fill=\"none\" stroke=\"black\" d=\"M189.91,-57.21C200.76,-55.29 211.28,-53.43 220.61,-51.77\"/>\n<polygon fill=\"black\" stroke=\"black\" points=\"221.37,-55.19 230.6,-50 220.15,-48.3 221.37,-55.19\"/>\n</g>\n<!-- 140154969798880 -->\n<g id=\"node4\" class=\"node\">\n<title>140154969798880</title>\n<polygon fill=\"none\" stroke=\"black\" points=\"0,-0.5 0,-36.5 194,-36.5 194,-0.5 0,-0.5\"/>\n<text text-anchor=\"middle\" x=\"11.5\" y=\"-14.8\" font-family=\"Times,serif\" font-size=\"14.00\">b</text>\n<polyline fill=\"none\" stroke=\"black\" points=\"23,-0.5 23,-36.5 \"/>\n<text text-anchor=\"middle\" x=\"65.5\" y=\"-14.8\" font-family=\"Times,serif\" font-size=\"14.00\">data &#45;3.0400</text>\n<polyline fill=\"none\" stroke=\"black\" points=\"108,-0.5 108,-36.5 \"/>\n<text text-anchor=\"middle\" x=\"151\" y=\"-14.8\" font-family=\"Times,serif\" font-size=\"14.00\">grad &#45;4.0000</text>\n</g>\n<!-- 140154969798880&#45;&gt;140154814667552* -->\n<g id=\"edge5\" class=\"edge\">\n<title>140154969798880&#45;&gt;140154814667552*</title>\n<path fill=\"none\" stroke=\"black\" d=\"M194.01,-34.91C203.35,-36.5 212.37,-38.04 220.49,-39.43\"/>\n<polygon fill=\"black\" stroke=\"black\" points=\"220.16,-42.93 230.6,-41.16 221.34,-36.03 220.16,-42.93\"/>\n</g>\n<!-- 140155176137968 -->\n<g id=\"node5\" class=\"node\">\n<title>140155176137968</title>\n<polygon fill=\"none\" stroke=\"black\" points=\"320.5,-82.5 320.5,-118.5 509.5,-118.5 509.5,-82.5 320.5,-82.5\"/>\n<text text-anchor=\"middle\" x=\"332\" y=\"-96.8\" font-family=\"Times,serif\" font-size=\"14.00\">c</text>\n<polyline fill=\"none\" stroke=\"black\" points=\"343.5,-82.5 343.5,-118.5 \"/>\n<text text-anchor=\"middle\" x=\"383.5\" y=\"-96.8\" font-family=\"Times,serif\" font-size=\"14.00\">data 9.9800</text>\n<polyline fill=\"none\" stroke=\"black\" points=\"423.5,-82.5 423.5,-118.5 \"/>\n<text text-anchor=\"middle\" x=\"466.5\" y=\"-96.8\" font-family=\"Times,serif\" font-size=\"14.00\">grad &#45;2.0000</text>\n</g>\n<!-- 140154814667120+ -->\n<g id=\"node10\" class=\"node\">\n<title>140154814667120+</title>\n<ellipse fill=\"none\" stroke=\"black\" cx=\"573\" cy=\"-72.5\" rx=\"27\" ry=\"18\"/>\n<text text-anchor=\"middle\" x=\"573\" y=\"-68.8\" font-family=\"Times,serif\" font-size=\"14.00\">+</text>\n</g>\n<!-- 140155176137968&#45;&gt;140154814667120+ -->\n<g id=\"edge4\" class=\"edge\">\n<title>140155176137968&#45;&gt;140154814667120+</title>\n<path fill=\"none\" stroke=\"black\" d=\"M509.9,-83.65C519.42,-81.94 528.62,-80.29 536.89,-78.8\"/>\n<polygon fill=\"black\" stroke=\"black\" points=\"537.59,-82.23 546.81,-77.02 536.35,-75.34 537.59,-82.23\"/>\n</g>\n<!-- 140154814667552 -->\n<g id=\"node6\" class=\"node\">\n<title>140154814667552</title>\n<polygon fill=\"none\" stroke=\"black\" points=\"320,-27.5 320,-63.5 510,-63.5 510,-27.5 320,-27.5\"/>\n<text text-anchor=\"middle\" x=\"331.5\" y=\"-41.8\" font-family=\"Times,serif\" font-size=\"14.00\">e</text>\n<polyline fill=\"none\" stroke=\"black\" points=\"343,-27.5 343,-63.5 \"/>\n<text text-anchor=\"middle\" x=\"385.5\" y=\"-41.8\" font-family=\"Times,serif\" font-size=\"14.00\">data &#45;6.2624</text>\n<polyline fill=\"none\" stroke=\"black\" points=\"428,-27.5 428,-63.5 \"/>\n<text text-anchor=\"middle\" x=\"469\" y=\"-41.8\" font-family=\"Times,serif\" font-size=\"14.00\">grad 0.0000</text>\n</g>\n<!-- 140154814667552&#45;&gt;140154814667120+ -->\n<g id=\"edge8\" class=\"edge\">\n<title>140154814667552&#45;&gt;140154814667120+</title>\n<path fill=\"none\" stroke=\"black\" d=\"M510.34,-61.83C519.62,-63.44 528.58,-64.99 536.66,-66.38\"/>\n<polygon fill=\"black\" stroke=\"black\" points=\"536.27,-69.87 546.72,-68.12 537.46,-62.97 536.27,-69.87\"/>\n</g>\n<!-- 140154814667552*&#45;&gt;140154814667552 -->\n<g id=\"edge2\" class=\"edge\">\n<title>140154814667552*&#45;&gt;140154814667552</title>\n<path fill=\"none\" stroke=\"black\" d=\"M284.11,-45.5C291.63,-45.5 300.32,-45.5 309.58,-45.5\"/>\n<polygon fill=\"black\" stroke=\"black\" points=\"309.81,-49 319.81,-45.5 309.81,-42 309.81,-49\"/>\n</g>\n<!-- 140154969798448 -->\n<g id=\"node8\" class=\"node\">\n<title>140154969798448</title>\n<polygon fill=\"none\" stroke=\"black\" points=\"636,-109.5 636,-145.5 824,-145.5 824,-109.5 636,-109.5\"/>\n<text text-anchor=\"middle\" x=\"646.5\" y=\"-123.8\" font-family=\"Times,serif\" font-size=\"14.00\">f</text>\n<polyline fill=\"none\" stroke=\"black\" points=\"657,-109.5 657,-145.5 \"/>\n<text text-anchor=\"middle\" x=\"699.5\" y=\"-123.8\" font-family=\"Times,serif\" font-size=\"14.00\">data &#45;1.9600</text>\n<polyline fill=\"none\" stroke=\"black\" points=\"742,-109.5 742,-145.5 \"/>\n<text text-anchor=\"middle\" x=\"783\" y=\"-123.8\" font-family=\"Times,serif\" font-size=\"14.00\">grad 4.0000</text>\n</g>\n<!-- 140154969798448&#45;&gt;140154814712320* -->\n<g id=\"edge6\" class=\"edge\">\n<title>140154969798448&#45;&gt;140154814712320*</title>\n<path fill=\"none\" stroke=\"black\" d=\"M824.29,-110.65C833.57,-108.97 842.52,-107.35 850.61,-105.89\"/>\n<polygon fill=\"black\" stroke=\"black\" points=\"851.46,-109.3 860.68,-104.07 850.21,-102.41 851.46,-109.3\"/>\n</g>\n<!-- 140154814667120 -->\n<g id=\"node9\" class=\"node\">\n<title>140154814667120</title>\n<polygon fill=\"none\" stroke=\"black\" points=\"637.5,-54.5 637.5,-90.5 822.5,-90.5 822.5,-54.5 637.5,-54.5\"/>\n<text text-anchor=\"middle\" x=\"649\" y=\"-68.8\" font-family=\"Times,serif\" font-size=\"14.00\">d</text>\n<polyline fill=\"none\" stroke=\"black\" points=\"660.5,-54.5 660.5,-90.5 \"/>\n<text text-anchor=\"middle\" x=\"700.5\" y=\"-68.8\" font-family=\"Times,serif\" font-size=\"14.00\">data 3.7176</text>\n<polyline fill=\"none\" stroke=\"black\" points=\"740.5,-54.5 740.5,-90.5 \"/>\n<text text-anchor=\"middle\" x=\"781.5\" y=\"-68.8\" font-family=\"Times,serif\" font-size=\"14.00\">grad 0.0000</text>\n</g>\n<!-- 140154814667120&#45;&gt;140154814712320* -->\n<g id=\"edge9\" class=\"edge\">\n<title>140154814667120&#45;&gt;140154814712320*</title>\n<path fill=\"none\" stroke=\"black\" d=\"M822.51,-88.44C832.48,-90.18 842.13,-91.86 850.77,-93.36\"/>\n<polygon fill=\"black\" stroke=\"black\" points=\"850.31,-96.84 860.77,-95.1 851.52,-89.94 850.31,-96.84\"/>\n</g>\n<!-- 140154814667120+&#45;&gt;140154814667120 -->\n<g id=\"edge3\" class=\"edge\">\n<title>140154814667120+&#45;&gt;140154814667120</title>\n<path fill=\"none\" stroke=\"black\" d=\"M600.29,-72.5C608.26,-72.5 617.54,-72.5 627.39,-72.5\"/>\n<polygon fill=\"black\" stroke=\"black\" points=\"627.41,-76 637.41,-72.5 627.41,-69 627.41,-76\"/>\n</g>\n</g>\n</svg>\n"
          },
          "metadata": {},
          "execution_count": 182
        }
      ]
    },
    {
      "cell_type": "markdown",
      "source": [
        "# LOL function for manually computing derivatives\n",
        "\n",
        "Manually computing a derivative... \n",
        "\n",
        "Create all of our variables in a function to keep from polluting the global scope"
      ],
      "metadata": {
        "id": "jbg83G2PfxwS"
      }
    },
    {
      "cell_type": "code",
      "source": [
        "def lol():\n",
        "  # h\n",
        "  h = 0.0000001\n",
        "\n",
        "  # values\n",
        "  a = Value(2.0,  label='a')\n",
        "  b = Value(-3.0, label='b')\n",
        "  c = Value(10.0, label='c')\n",
        "  f = Value(-2.0, label='f')\n",
        "\n",
        "  # ops\n",
        "  e = a * b; e.label = 'e'\n",
        "  d = e + c; d.label = 'd'\n",
        "  L = d * f; L.label = 'L' \n",
        "  L1 = L.data\n",
        "\n",
        "  # add h \n",
        "  # a.data += h\n",
        "  b.data += h\n",
        "  # f.data += h\n",
        "  # c.data += h\n",
        "  \n",
        "\n",
        "  # ops\n",
        "  e = a * b; e.label = 'e'\n",
        "  # e.data += h\n",
        "  d = e + c; d.label = 'd'\n",
        "  # d.data += h\n",
        "  L = d * f; L.label = 'L' \n",
        "  L2 = L.data # + h # adding h to L to take that derivative\n",
        "\n",
        "  print(f\"dL/d? = {(L2 - L1) / h}\")\n",
        "\n",
        "lol()"
      ],
      "metadata": {
        "colab": {
          "base_uri": "https://localhost:8080/"
        },
        "id": "gdzBxGAbf5W_",
        "outputId": "ebfe59db-e96d-44c0-9766-d9e279655ac4"
      },
      "execution_count": 183,
      "outputs": [
        {
          "output_type": "stream",
          "name": "stdout",
          "text": [
            "dL/d? = -3.9999999934536845\n"
          ]
        }
      ]
    },
    {
      "cell_type": "markdown",
      "source": [
        "A nice quote about the chain rule from https://en.wikipedia.org/wiki/Chain_rule\n",
        "\n",
        "\"if a car travels twice as fast as a bicycle and the bicycle is four times as fast as a walking man, then the car travels 2 × 4 = 8 times as fast as the man.\""
      ],
      "metadata": {
        "id": "EkuZ8DR9meOl"
      }
    },
    {
      "cell_type": "markdown",
      "source": [
        "# Neuron Backprop"
      ],
      "metadata": {
        "id": "7MIk1aQF4v_-"
      }
    },
    {
      "cell_type": "code",
      "source": [
        "plt.plot(np.arange(-5,5,0.2), np.tanh(np.arange(-5,5,0.2))); plt.grid();"
      ],
      "metadata": {
        "id": "CSJ2UNjahgN0",
        "colab": {
          "base_uri": "https://localhost:8080/",
          "height": 265
        },
        "outputId": "18337ff8-b0ff-4663-cce2-ada39ae8b951"
      },
      "execution_count": 184,
      "outputs": [
        {
          "output_type": "display_data",
          "data": {
            "text/plain": [
              "<Figure size 432x288 with 1 Axes>"
            ],
            "image/png": "[encoded data removed]"
          },
          "metadata": {
            "needs_background": "light"
          }
        }
      ]
    },
    {
      "cell_type": "markdown",
      "source": [
        "Some values for our neuron..."
      ],
      "metadata": {
        "id": "vNluUblb5sBb"
      }
    },
    {
      "cell_type": "code",
      "source": [
        "def build_graph():\n",
        "  # inputs\n",
        "  x1 = Value(2.0, label='x1')\n",
        "  x2 = Value(0.0, label='x2')\n",
        "\n",
        "  # weights\n",
        "  w1 = Value(-3.0, label='w1')\n",
        "  w2 = Value(1.0, label='w2')\n",
        "\n",
        "  # bias\n",
        "  b = Value(6.8813735870195432, label='b')\n",
        "\n",
        "  # weights x inputs\n",
        "  x1w1 = x1 * w1; x1w1.label = 'x1*w1'\n",
        "  x2w2 = x2 * w2; x2w2.label = 'x2*w2'\n",
        "\n",
        "  # dot product\n",
        "  x1w1x2w2 = x1w1 + x2w2; x1w1x2w2.label = 'x1*w1 + x2*w2'\n",
        "\n",
        "  # adding the bias\n",
        "  n = x1w1x2w2 + b; n.label = 'n'\n",
        "\n",
        "  o = n.tanh(); o.label = 'o'\n",
        "\n",
        "  return o\n"
      ],
      "metadata": {
        "id": "K_Yho4815UTG"
      },
      "execution_count": 185,
      "outputs": []
    },
    {
      "cell_type": "code",
      "source": [
        "o = build_graph()"
      ],
      "metadata": {
        "id": "An7O9dBOkb3n"
      },
      "execution_count": 186,
      "outputs": []
    },
    {
      "cell_type": "markdown",
      "source": [
        "Running the backward function on our values..."
      ],
      "metadata": {
        "id": "BzB83meMKSel"
      }
    },
    {
      "cell_type": "code",
      "source": [
        "o.grad = 1.0 # since grad initialized as 0.0"
      ],
      "metadata": {
        "id": "o-6hKE_xLnV1"
      },
      "execution_count": 187,
      "outputs": []
    },
    {
      "cell_type": "markdown",
      "source": [
        "## Example 1:\n",
        "hard coding the gradients..."
      ],
      "metadata": {
        "id": "5SGDLleLAI03"
      }
    },
    {
      "cell_type": "code",
      "source": [
        "# o.grad = 1.0\n",
        "\n",
        "# # o = tanh(n)\n",
        "# # do/dn = 1 - tanh(n)^2\n",
        "# #       = 1 - o^2\n",
        "# n.grad = 1 - o.data ** 2\n",
        "\n",
        "# # do/dx1w1... = do/dn * dn/dx1w1...\n",
        "# # n = x1w1x2w2 + b\n",
        "# # dn/dx1w1... = 1.0\n",
        "# x1w1x2w2.grad = 1.0 * n.grad\n",
        "# b.grad = 1.0 * n.grad\n",
        "\n",
        "# # do/dx1w1 = do/dx1w1x2w2 * dx1w1x2w2/dx1w1\n",
        "# # do/dx1w1x2w2 = x1w1x2w2.grad\n",
        "# # x1w1x2w2 = x1w1 + x2w2\n",
        "# # dx1w1x2w2/dx1w1 = 1.0\n",
        "# # dx1w1x2w2/dx2w2 = 1.0\n",
        "# x1w1.grad = x1w1x2w2.grad * 1.0\n",
        "# x2w2.grad = x1w1x2w2.grad * 1.0\n",
        "\n",
        "# # do/dx2 = do/dx2w2 * dx2w2/dx2\n",
        "# # do/dx2w2 = x2w2.grad\n",
        "# # x2w2 = x2 * w2\n",
        "# # dx2w2/dx2 = w2\n",
        "# # dx2w2/dw2 = x2\n",
        "# x2.grad = x2w2.grad * w2.data\n",
        "# w2.grad = x2w2.grad * x2.data\n",
        "\n",
        "# # do/dx1 = do/dx1w1 * dx1w1/dx1\n",
        "# # do/dx1w1 = x1w1.grad\n",
        "# # x1w1 = x1 * w1\n",
        "# # dx1w1/dx1 = w1\n",
        "# # dx1w1/dw1 = x1\n",
        "# x1.grad = x1w1.grad * w1.data\n",
        "# w1.grad = x1w1.grad * x1.data"
      ],
      "metadata": {
        "id": "SiYpRD_t54OL"
      },
      "execution_count": 188,
      "outputs": []
    },
    {
      "cell_type": "code",
      "source": [
        "# draw_dot(o)"
      ],
      "metadata": {
        "id": "CdzSYcZk97k4"
      },
      "execution_count": 189,
      "outputs": []
    },
    {
      "cell_type": "markdown",
      "source": [
        "## Example 2:\n",
        "Running backprop in topological order manually"
      ],
      "metadata": {
        "id": "nyrhUqsBkov0"
      }
    },
    {
      "cell_type": "code",
      "source": [
        "# inputs\n",
        "x1 = Value(2.0, label='x1')\n",
        "x2 = Value(0.0, label='x2')\n",
        "\n",
        "# weights\n",
        "w1 = Value(-3.0, label='w1')\n",
        "w2 = Value(1.0, label='w2')\n",
        "\n",
        "# bias\n",
        "b = Value(6.8813735870195432, label='b')\n",
        "\n",
        "# weights x inputs\n",
        "x1w1 = x1 * w1; x1w1.label = 'x1*w1'\n",
        "x2w2 = x2 * w2; x2w2.label = 'x2*w2'\n",
        "\n",
        "# dot product\n",
        "x1w1x2w2 = x1w1 + x2w2; x1w1x2w2.label = 'x1*w1 + x2*w2'\n",
        "\n",
        "# adding the bias\n",
        "n = x1w1x2w2 + b; n.label = 'n'\n",
        "\n",
        "o = n.tanh(); o.label = 'o'\n",
        "o.grad = 1.0\n",
        "\n",
        "# Run the backprop in order on the graph\n",
        "o._backward()\n",
        "n._backward()\n",
        "x1w1x2w2._backward()\n",
        "b._backward()\n",
        "x1w1._backward()\n",
        "x2w2._backward()\n",
        "w1._backward()\n",
        "x1._backward()\n",
        "w2._backward()\n",
        "x2._backward()"
      ],
      "metadata": {
        "id": "OCYA016sKV48"
      },
      "execution_count": 190,
      "outputs": []
    },
    {
      "cell_type": "code",
      "source": [
        "draw_dot(o)"
      ],
      "metadata": {
        "colab": {
          "base_uri": "https://localhost:8080/",
          "height": 321
        },
        "id": "VgJgULkYKl9P",
        "outputId": "e96db5be-28ee-40a3-f444-b560df1fcaed"
      },
      "execution_count": 191,
      "outputs": [
        {
          "output_type": "execute_result",
          "data": {
            "text/plain": [
              "<graphviz.dot.Digraph at 0x7f7855352cd0>"
            ],
            "image/svg+xml": "<?xml version=\"1.0\" encoding=\"UTF-8\" standalone=\"no\"?>\n<!DOCTYPE svg PUBLIC \"-//W3C//DTD SVG 1.1//EN\"\n \"http://www.w3.org/Graphics/SVG/1.1/DTD/svg11.dtd\">\n<!-- Generated by graphviz version 2.43.0 (0)\n -->\n<!-- Title: %3 Pages: 1 -->\n<svg width=\"1575pt\" height=\"210pt\"\n viewBox=\"0.00 0.00 1575.00 210.00\" xmlns=\"http://www.w3.org/2000/svg\" xmlns:xlink=\"http://www.w3.org/1999/xlink\">\n<g id=\"graph0\" class=\"graph\" transform=\"scale(1 1) rotate(0) translate(4 206)\">\n<title>%3</title>\n<polygon fill=\"white\" stroke=\"transparent\" points=\"-4,4 -4,-206 1571,-206 1571,4 -4,4\"/>\n<!-- 140154802373152 -->\n<g id=\"node1\" class=\"node\">\n<title>140154802373152</title>\n<polygon fill=\"none\" stroke=\"black\" points=\"1382,-54.5 1382,-90.5 1567,-90.5 1567,-54.5 1382,-54.5\"/>\n<text text-anchor=\"middle\" x=\"1393.5\" y=\"-68.8\" font-family=\"Times,serif\" font-size=\"14.00\">o</text>\n<polyline fill=\"none\" stroke=\"black\" points=\"1405,-54.5 1405,-90.5 \"/>\n<text text-anchor=\"middle\" x=\"1445\" y=\"-68.8\" font-family=\"Times,serif\" font-size=\"14.00\">data 0.7071</text>\n<polyline fill=\"none\" stroke=\"black\" points=\"1485,-54.5 1485,-90.5 \"/>\n<text text-anchor=\"middle\" x=\"1526\" y=\"-68.8\" font-family=\"Times,serif\" font-size=\"14.00\">grad 1.0000</text>\n</g>\n<!-- 140154802373152tanh -->\n<g id=\"node2\" class=\"node\">\n<title>140154802373152tanh</title>\n<ellipse fill=\"none\" stroke=\"black\" cx=\"1319\" cy=\"-72.5\" rx=\"27\" ry=\"18\"/>\n<text text-anchor=\"middle\" x=\"1319\" y=\"-68.8\" font-family=\"Times,serif\" font-size=\"14.00\">tanh</text>\n</g>\n<!-- 140154802373152tanh&#45;&gt;140154802373152 -->\n<g id=\"edge1\" class=\"edge\">\n<title>140154802373152tanh&#45;&gt;140154802373152</title>\n<path fill=\"none\" stroke=\"black\" d=\"M1346.04,-72.5C1353.58,-72.5 1362.3,-72.5 1371.57,-72.5\"/>\n<polygon fill=\"black\" stroke=\"black\" points=\"1371.81,-76 1381.81,-72.5 1371.81,-69 1371.81,-76\"/>\n</g>\n<!-- 140154802237008 -->\n<g id=\"node3\" class=\"node\">\n<title>140154802237008</title>\n<polygon fill=\"none\" stroke=\"black\" points=\"2.5,-165.5 2.5,-201.5 197.5,-201.5 197.5,-165.5 2.5,-165.5\"/>\n<text text-anchor=\"middle\" x=\"19\" y=\"-179.8\" font-family=\"Times,serif\" font-size=\"14.00\">w2</text>\n<polyline fill=\"none\" stroke=\"black\" points=\"35.5,-165.5 35.5,-201.5 \"/>\n<text text-anchor=\"middle\" x=\"75.5\" y=\"-179.8\" font-family=\"Times,serif\" font-size=\"14.00\">data 1.0000</text>\n<polyline fill=\"none\" stroke=\"black\" points=\"115.5,-165.5 115.5,-201.5 \"/>\n<text text-anchor=\"middle\" x=\"156.5\" y=\"-179.8\" font-family=\"Times,serif\" font-size=\"14.00\">grad 0.0000</text>\n</g>\n<!-- 140154814636720* -->\n<g id=\"node8\" class=\"node\">\n<title>140154814636720*</title>\n<ellipse fill=\"none\" stroke=\"black\" cx=\"263\" cy=\"-128.5\" rx=\"27\" ry=\"18\"/>\n<text text-anchor=\"middle\" x=\"263\" y=\"-124.8\" font-family=\"Times,serif\" font-size=\"14.00\">*</text>\n</g>\n<!-- 140154802237008&#45;&gt;140154814636720* -->\n<g id=\"edge6\" class=\"edge\">\n<title>140154802237008&#45;&gt;140154814636720*</title>\n<path fill=\"none\" stroke=\"black\" d=\"M172.53,-165.44C181.84,-162.67 191.2,-159.67 200,-156.5 210.53,-152.71 221.75,-147.9 231.72,-143.33\"/>\n<polygon fill=\"black\" stroke=\"black\" points=\"233.25,-146.48 240.82,-139.07 230.28,-140.14 233.25,-146.48\"/>\n</g>\n<!-- 140154802372720 -->\n<g id=\"node4\" class=\"node\">\n<title>140154802372720</title>\n<polygon fill=\"none\" stroke=\"black\" points=\"672,-82.5 672,-118.5 945,-118.5 945,-82.5 672,-82.5\"/>\n<text text-anchor=\"middle\" x=\"725\" y=\"-96.8\" font-family=\"Times,serif\" font-size=\"14.00\">x1*w1 + x2*w2</text>\n<polyline fill=\"none\" stroke=\"black\" points=\"778,-82.5 778,-118.5 \"/>\n<text text-anchor=\"middle\" x=\"820.5\" y=\"-96.8\" font-family=\"Times,serif\" font-size=\"14.00\">data &#45;6.0000</text>\n<polyline fill=\"none\" stroke=\"black\" points=\"863,-82.5 863,-118.5 \"/>\n<text text-anchor=\"middle\" x=\"904\" y=\"-96.8\" font-family=\"Times,serif\" font-size=\"14.00\">grad 0.5000</text>\n</g>\n<!-- 140154802372816+ -->\n<g id=\"node10\" class=\"node\">\n<title>140154802372816+</title>\n<ellipse fill=\"none\" stroke=\"black\" cx=\"1008\" cy=\"-72.5\" rx=\"27\" ry=\"18\"/>\n<text text-anchor=\"middle\" x=\"1008\" y=\"-68.8\" font-family=\"Times,serif\" font-size=\"14.00\">+</text>\n</g>\n<!-- 140154802372720&#45;&gt;140154802372816+ -->\n<g id=\"edge9\" class=\"edge\">\n<title>140154802372720&#45;&gt;140154802372816+</title>\n<path fill=\"none\" stroke=\"black\" d=\"M936.53,-82.49C949.09,-80.71 960.99,-79.02 971.3,-77.56\"/>\n<polygon fill=\"black\" stroke=\"black\" points=\"972.03,-80.99 981.44,-76.12 971.05,-74.06 972.03,-80.99\"/>\n</g>\n<!-- 140154802372720+ -->\n<g id=\"node5\" class=\"node\">\n<title>140154802372720+</title>\n<ellipse fill=\"none\" stroke=\"black\" cx=\"609\" cy=\"-100.5\" rx=\"27\" ry=\"18\"/>\n<text text-anchor=\"middle\" x=\"609\" y=\"-96.8\" font-family=\"Times,serif\" font-size=\"14.00\">+</text>\n</g>\n<!-- 140154802372720+&#45;&gt;140154802372720 -->\n<g id=\"edge2\" class=\"edge\">\n<title>140154802372720+&#45;&gt;140154802372720</title>\n<path fill=\"none\" stroke=\"black\" d=\"M636.23,-100.5C643.7,-100.5 652.41,-100.5 661.87,-100.5\"/>\n<polygon fill=\"black\" stroke=\"black\" points=\"661.98,-104 671.98,-100.5 661.98,-97 661.98,-104\"/>\n</g>\n<!-- 140157804024496 -->\n<g id=\"node6\" class=\"node\">\n<title>140157804024496</title>\n<polygon fill=\"none\" stroke=\"black\" points=\"2,-55.5 2,-91.5 198,-91.5 198,-55.5 2,-55.5\"/>\n<text text-anchor=\"middle\" x=\"17\" y=\"-69.8\" font-family=\"Times,serif\" font-size=\"14.00\">x1</text>\n<polyline fill=\"none\" stroke=\"black\" points=\"32,-55.5 32,-91.5 \"/>\n<text text-anchor=\"middle\" x=\"72\" y=\"-69.8\" font-family=\"Times,serif\" font-size=\"14.00\">data 2.0000</text>\n<polyline fill=\"none\" stroke=\"black\" points=\"112,-55.5 112,-91.5 \"/>\n<text text-anchor=\"middle\" x=\"155\" y=\"-69.8\" font-family=\"Times,serif\" font-size=\"14.00\">grad &#45;1.5000</text>\n</g>\n<!-- 140157200659216* -->\n<g id=\"node12\" class=\"node\">\n<title>140157200659216*</title>\n<ellipse fill=\"none\" stroke=\"black\" cx=\"263\" cy=\"-73.5\" rx=\"27\" ry=\"18\"/>\n<text text-anchor=\"middle\" x=\"263\" y=\"-69.8\" font-family=\"Times,serif\" font-size=\"14.00\">*</text>\n</g>\n<!-- 140157804024496&#45;&gt;140157200659216* -->\n<g id=\"edge14\" class=\"edge\">\n<title>140157804024496&#45;&gt;140157200659216*</title>\n<path fill=\"none\" stroke=\"black\" d=\"M198.37,-73.5C208.05,-73.5 217.4,-73.5 225.8,-73.5\"/>\n<polygon fill=\"black\" stroke=\"black\" points=\"225.91,-77 235.91,-73.5 225.91,-70 225.91,-77\"/>\n</g>\n<!-- 140154814636720 -->\n<g id=\"node7\" class=\"node\">\n<title>140154814636720</title>\n<polygon fill=\"none\" stroke=\"black\" points=\"328.5,-110.5 328.5,-146.5 543.5,-146.5 543.5,-110.5 328.5,-110.5\"/>\n<text text-anchor=\"middle\" x=\"355\" y=\"-124.8\" font-family=\"Times,serif\" font-size=\"14.00\">x2*w2</text>\n<polyline fill=\"none\" stroke=\"black\" points=\"381.5,-110.5 381.5,-146.5 \"/>\n<text text-anchor=\"middle\" x=\"421.5\" y=\"-124.8\" font-family=\"Times,serif\" font-size=\"14.00\">data 0.0000</text>\n<polyline fill=\"none\" stroke=\"black\" points=\"461.5,-110.5 461.5,-146.5 \"/>\n<text text-anchor=\"middle\" x=\"502.5\" y=\"-124.8\" font-family=\"Times,serif\" font-size=\"14.00\">grad 0.5000</text>\n</g>\n<!-- 140154814636720&#45;&gt;140154802372720+ -->\n<g id=\"edge8\" class=\"edge\">\n<title>140154814636720&#45;&gt;140154802372720+</title>\n<path fill=\"none\" stroke=\"black\" d=\"M543.84,-111.01C554.01,-109.34 563.76,-107.74 572.44,-106.32\"/>\n<polygon fill=\"black\" stroke=\"black\" points=\"573.17,-109.75 582.47,-104.68 572.04,-102.84 573.17,-109.75\"/>\n</g>\n<!-- 140154814636720*&#45;&gt;140154814636720 -->\n<g id=\"edge3\" class=\"edge\">\n<title>140154814636720*&#45;&gt;140154814636720</title>\n<path fill=\"none\" stroke=\"black\" d=\"M290.34,-128.5C298.51,-128.5 308.08,-128.5 318.36,-128.5\"/>\n<polygon fill=\"black\" stroke=\"black\" points=\"318.39,-132 328.39,-128.5 318.39,-125 318.39,-132\"/>\n</g>\n<!-- 140154802372816 -->\n<g id=\"node9\" class=\"node\">\n<title>140154802372816</title>\n<polygon fill=\"none\" stroke=\"black\" points=\"1071,-54.5 1071,-90.5 1256,-90.5 1256,-54.5 1071,-54.5\"/>\n<text text-anchor=\"middle\" x=\"1082.5\" y=\"-68.8\" font-family=\"Times,serif\" font-size=\"14.00\">n</text>\n<polyline fill=\"none\" stroke=\"black\" points=\"1094,-54.5 1094,-90.5 \"/>\n<text text-anchor=\"middle\" x=\"1134\" y=\"-68.8\" font-family=\"Times,serif\" font-size=\"14.00\">data 0.8814</text>\n<polyline fill=\"none\" stroke=\"black\" points=\"1174,-54.5 1174,-90.5 \"/>\n<text text-anchor=\"middle\" x=\"1215\" y=\"-68.8\" font-family=\"Times,serif\" font-size=\"14.00\">grad 0.5000</text>\n</g>\n<!-- 140154802372816&#45;&gt;140154802373152tanh -->\n<g id=\"edge7\" class=\"edge\">\n<title>140154802372816&#45;&gt;140154802373152tanh</title>\n<path fill=\"none\" stroke=\"black\" d=\"M1256.01,-72.5C1265.01,-72.5 1273.74,-72.5 1281.66,-72.5\"/>\n<polygon fill=\"black\" stroke=\"black\" points=\"1281.91,-76 1291.91,-72.5 1281.91,-69 1281.91,-76\"/>\n</g>\n<!-- 140154802372816+&#45;&gt;140154802372816 -->\n<g id=\"edge4\" class=\"edge\">\n<title>140154802372816+&#45;&gt;140154802372816</title>\n<path fill=\"none\" stroke=\"black\" d=\"M1035.04,-72.5C1042.58,-72.5 1051.3,-72.5 1060.57,-72.5\"/>\n<polygon fill=\"black\" stroke=\"black\" points=\"1060.81,-76 1070.81,-72.5 1060.81,-69 1060.81,-76\"/>\n</g>\n<!-- 140157200659216 -->\n<g id=\"node11\" class=\"node\">\n<title>140157200659216</title>\n<polygon fill=\"none\" stroke=\"black\" points=\"326,-55.5 326,-91.5 546,-91.5 546,-55.5 326,-55.5\"/>\n<text text-anchor=\"middle\" x=\"352.5\" y=\"-69.8\" font-family=\"Times,serif\" font-size=\"14.00\">x1*w1</text>\n<polyline fill=\"none\" stroke=\"black\" points=\"379,-55.5 379,-91.5 \"/>\n<text text-anchor=\"middle\" x=\"421.5\" y=\"-69.8\" font-family=\"Times,serif\" font-size=\"14.00\">data &#45;6.0000</text>\n<polyline fill=\"none\" stroke=\"black\" points=\"464,-55.5 464,-91.5 \"/>\n<text text-anchor=\"middle\" x=\"505\" y=\"-69.8\" font-family=\"Times,serif\" font-size=\"14.00\">grad 0.5000</text>\n</g>\n<!-- 140157200659216&#45;&gt;140154802372720+ -->\n<g id=\"edge13\" class=\"edge\">\n<title>140157200659216&#45;&gt;140154802372720+</title>\n<path fill=\"none\" stroke=\"black\" d=\"M546.27,-90.75C555.64,-92.23 564.6,-93.65 572.65,-94.92\"/>\n<polygon fill=\"black\" stroke=\"black\" points=\"572.23,-98.4 582.65,-96.5 573.32,-91.48 572.23,-98.4\"/>\n</g>\n<!-- 140157200659216*&#45;&gt;140157200659216 -->\n<g id=\"edge5\" class=\"edge\">\n<title>140157200659216*&#45;&gt;140157200659216</title>\n<path fill=\"none\" stroke=\"black\" d=\"M290.34,-73.5C297.77,-73.5 306.37,-73.5 315.6,-73.5\"/>\n<polygon fill=\"black\" stroke=\"black\" points=\"315.84,-77 325.84,-73.5 315.84,-70 315.84,-77\"/>\n</g>\n<!-- 140154802315568 -->\n<g id=\"node13\" class=\"node\">\n<title>140154802315568</title>\n<polygon fill=\"none\" stroke=\"black\" points=\"0,-0.5 0,-36.5 200,-36.5 200,-0.5 0,-0.5\"/>\n<text text-anchor=\"middle\" x=\"16.5\" y=\"-14.8\" font-family=\"Times,serif\" font-size=\"14.00\">w1</text>\n<polyline fill=\"none\" stroke=\"black\" points=\"33,-0.5 33,-36.5 \"/>\n<text text-anchor=\"middle\" x=\"75.5\" y=\"-14.8\" font-family=\"Times,serif\" font-size=\"14.00\">data &#45;3.0000</text>\n<polyline fill=\"none\" stroke=\"black\" points=\"118,-0.5 118,-36.5 \"/>\n<text text-anchor=\"middle\" x=\"159\" y=\"-14.8\" font-family=\"Times,serif\" font-size=\"14.00\">grad 1.0000</text>\n</g>\n<!-- 140154802315568&#45;&gt;140157200659216* -->\n<g id=\"edge12\" class=\"edge\">\n<title>140154802315568&#45;&gt;140157200659216*</title>\n<path fill=\"none\" stroke=\"black\" d=\"M172.53,-36.56C181.84,-39.33 191.2,-42.33 200,-45.5 210.53,-49.29 221.75,-54.1 231.72,-58.67\"/>\n<polygon fill=\"black\" stroke=\"black\" points=\"230.28,-61.86 240.82,-62.93 233.25,-55.52 230.28,-61.86\"/>\n</g>\n<!-- 140154802316096 -->\n<g id=\"node14\" class=\"node\">\n<title>140154802316096</title>\n<polygon fill=\"none\" stroke=\"black\" points=\"716,-27.5 716,-63.5 901,-63.5 901,-27.5 716,-27.5\"/>\n<text text-anchor=\"middle\" x=\"727.5\" y=\"-41.8\" font-family=\"Times,serif\" font-size=\"14.00\">b</text>\n<polyline fill=\"none\" stroke=\"black\" points=\"739,-27.5 739,-63.5 \"/>\n<text text-anchor=\"middle\" x=\"779\" y=\"-41.8\" font-family=\"Times,serif\" font-size=\"14.00\">data 6.8814</text>\n<polyline fill=\"none\" stroke=\"black\" points=\"819,-27.5 819,-63.5 \"/>\n<text text-anchor=\"middle\" x=\"860\" y=\"-41.8\" font-family=\"Times,serif\" font-size=\"14.00\">grad 0.5000</text>\n</g>\n<!-- 140154802316096&#45;&gt;140154802372816+ -->\n<g id=\"edge11\" class=\"edge\">\n<title>140154802316096&#45;&gt;140154802372816+</title>\n<path fill=\"none\" stroke=\"black\" d=\"M901.02,-58.01C926,-61.43 951.59,-64.93 971.37,-67.63\"/>\n<polygon fill=\"black\" stroke=\"black\" points=\"971.05,-71.12 981.43,-69.01 972,-64.18 971.05,-71.12\"/>\n</g>\n<!-- 140154802236720 -->\n<g id=\"node15\" class=\"node\">\n<title>140154802236720</title>\n<polygon fill=\"none\" stroke=\"black\" points=\"4,-110.5 4,-146.5 196,-146.5 196,-110.5 4,-110.5\"/>\n<text text-anchor=\"middle\" x=\"19\" y=\"-124.8\" font-family=\"Times,serif\" font-size=\"14.00\">x2</text>\n<polyline fill=\"none\" stroke=\"black\" points=\"34,-110.5 34,-146.5 \"/>\n<text text-anchor=\"middle\" x=\"74\" y=\"-124.8\" font-family=\"Times,serif\" font-size=\"14.00\">data 0.0000</text>\n<polyline fill=\"none\" stroke=\"black\" points=\"114,-110.5 114,-146.5 \"/>\n<text text-anchor=\"middle\" x=\"155\" y=\"-124.8\" font-family=\"Times,serif\" font-size=\"14.00\">grad 0.5000</text>\n</g>\n<!-- 140154802236720&#45;&gt;140154814636720* -->\n<g id=\"edge10\" class=\"edge\">\n<title>140154802236720&#45;&gt;140154814636720*</title>\n<path fill=\"none\" stroke=\"black\" d=\"M196.05,-128.5C206.52,-128.5 216.65,-128.5 225.71,-128.5\"/>\n<polygon fill=\"black\" stroke=\"black\" points=\"225.79,-132 235.79,-128.5 225.79,-125 225.79,-132\"/>\n</g>\n</g>\n</svg>\n"
          },
          "metadata": {},
          "execution_count": 191
        }
      ]
    },
    {
      "cell_type": "code",
      "source": [
        "# draw_dot(o)"
      ],
      "metadata": {
        "id": "moiMc8dPAdGQ"
      },
      "execution_count": 192,
      "outputs": []
    },
    {
      "cell_type": "markdown",
      "source": [
        "# Topologically Sorting Graph for Backprop\n"
      ],
      "metadata": {
        "id": "zysRHrmyijea"
      }
    },
    {
      "cell_type": "code",
      "source": [
        "# Function to topologically sort a graph of values\n",
        "def topological_sort(val):\n",
        "  topo = []\n",
        "  visited = set()\n",
        "  def build_topo(v):\n",
        "    if v not in visited:\n",
        "      visited.add(v)\n",
        "      for child in v._prev:\n",
        "        build_topo(child)\n",
        "      topo.append(v)\n",
        "  build_topo(val)\n",
        "  return topo"
      ],
      "metadata": {
        "id": "N2akEhgHAaIn"
      },
      "execution_count": 193,
      "outputs": []
    },
    {
      "cell_type": "code",
      "source": [
        "o = build_graph() # reset the graph\n",
        "o.grad = 1.0 # default gradient for output"
      ],
      "metadata": {
        "id": "F5ptU4lFku7L"
      },
      "execution_count": 194,
      "outputs": []
    },
    {
      "cell_type": "code",
      "source": [
        "topological_sort(o)"
      ],
      "metadata": {
        "colab": {
          "base_uri": "https://localhost:8080/"
        },
        "id": "faEVCZngjcHS",
        "outputId": "6863a4aa-1317-46c4-cd3c-1be82b05e2ce"
      },
      "execution_count": 195,
      "outputs": [
        {
          "output_type": "execute_result",
          "data": {
            "text/plain": [
              "[Value(data=6.881373587019543),\n",
              " Value(data=-3.0),\n",
              " Value(data=2.0),\n",
              " Value(data=-6.0),\n",
              " Value(data=1.0),\n",
              " Value(data=0.0),\n",
              " Value(data=0.0),\n",
              " Value(data=-6.0),\n",
              " Value(data=0.8813735870195432),\n",
              " Value(data=0.7071067811865476)]"
            ]
          },
          "metadata": {},
          "execution_count": 195
        }
      ]
    },
    {
      "cell_type": "code",
      "source": [
        "draw_dot(o)"
      ],
      "metadata": {
        "colab": {
          "base_uri": "https://localhost:8080/",
          "height": 321
        },
        "id": "_wX5Joytjd34",
        "outputId": "030ca342-50e2-4ee7-939e-07cd59b30cc7"
      },
      "execution_count": 196,
      "outputs": [
        {
          "output_type": "execute_result",
          "data": {
            "text/plain": [
              "<graphviz.dot.Digraph at 0x7f7855355790>"
            ],
            "image/svg+xml": "<?xml version=\"1.0\" encoding=\"UTF-8\" standalone=\"no\"?>\n<!DOCTYPE svg PUBLIC \"-//W3C//DTD SVG 1.1//EN\"\n \"http://www.w3.org/Graphics/SVG/1.1/DTD/svg11.dtd\">\n<!-- Generated by graphviz version 2.43.0 (0)\n -->\n<!-- Title: %3 Pages: 1 -->\n<svg width=\"1575pt\" height=\"210pt\"\n viewBox=\"0.00 0.00 1575.00 210.00\" xmlns=\"http://www.w3.org/2000/svg\" xmlns:xlink=\"http://www.w3.org/1999/xlink\">\n<g id=\"graph0\" class=\"graph\" transform=\"scale(1 1) rotate(0) translate(4 206)\">\n<title>%3</title>\n<polygon fill=\"white\" stroke=\"transparent\" points=\"-4,4 -4,-206 1571,-206 1571,4 -4,4\"/>\n<!-- 140154802350688 -->\n<g id=\"node1\" class=\"node\">\n<title>140154802350688</title>\n<polygon fill=\"none\" stroke=\"black\" points=\"4,-165.5 4,-201.5 196,-201.5 196,-165.5 4,-165.5\"/>\n<text text-anchor=\"middle\" x=\"19\" y=\"-179.8\" font-family=\"Times,serif\" font-size=\"14.00\">x2</text>\n<polyline fill=\"none\" stroke=\"black\" points=\"34,-165.5 34,-201.5 \"/>\n<text text-anchor=\"middle\" x=\"74\" y=\"-179.8\" font-family=\"Times,serif\" font-size=\"14.00\">data 0.0000</text>\n<polyline fill=\"none\" stroke=\"black\" points=\"114,-165.5 114,-201.5 \"/>\n<text text-anchor=\"middle\" x=\"155\" y=\"-179.8\" font-family=\"Times,serif\" font-size=\"14.00\">grad 0.0000</text>\n</g>\n<!-- 140154802362736* -->\n<g id=\"node14\" class=\"node\">\n<title>140154802362736*</title>\n<ellipse fill=\"none\" stroke=\"black\" cx=\"263\" cy=\"-128.5\" rx=\"27\" ry=\"18\"/>\n<text text-anchor=\"middle\" x=\"263\" y=\"-124.8\" font-family=\"Times,serif\" font-size=\"14.00\">*</text>\n</g>\n<!-- 140154802350688&#45;&gt;140154802362736* -->\n<g id=\"edge6\" class=\"edge\">\n<title>140154802350688&#45;&gt;140154802362736*</title>\n<path fill=\"none\" stroke=\"black\" d=\"M172.53,-165.44C181.84,-162.67 191.2,-159.67 200,-156.5 210.53,-152.71 221.75,-147.9 231.72,-143.33\"/>\n<polygon fill=\"black\" stroke=\"black\" points=\"233.25,-146.48 240.82,-139.07 230.28,-140.14 233.25,-146.48\"/>\n</g>\n<!-- 140154802351744 -->\n<g id=\"node2\" class=\"node\">\n<title>140154802351744</title>\n<polygon fill=\"none\" stroke=\"black\" points=\"0,-55.5 0,-91.5 200,-91.5 200,-55.5 0,-55.5\"/>\n<text text-anchor=\"middle\" x=\"16.5\" y=\"-69.8\" font-family=\"Times,serif\" font-size=\"14.00\">w1</text>\n<polyline fill=\"none\" stroke=\"black\" points=\"33,-55.5 33,-91.5 \"/>\n<text text-anchor=\"middle\" x=\"75.5\" y=\"-69.8\" font-family=\"Times,serif\" font-size=\"14.00\">data &#45;3.0000</text>\n<polyline fill=\"none\" stroke=\"black\" points=\"118,-55.5 118,-91.5 \"/>\n<text text-anchor=\"middle\" x=\"159\" y=\"-69.8\" font-family=\"Times,serif\" font-size=\"14.00\">grad 0.0000</text>\n</g>\n<!-- 140154802362688* -->\n<g id=\"node12\" class=\"node\">\n<title>140154802362688*</title>\n<ellipse fill=\"none\" stroke=\"black\" cx=\"263\" cy=\"-73.5\" rx=\"27\" ry=\"18\"/>\n<text text-anchor=\"middle\" x=\"263\" y=\"-69.8\" font-family=\"Times,serif\" font-size=\"14.00\">*</text>\n</g>\n<!-- 140154802351744&#45;&gt;140154802362688* -->\n<g id=\"edge14\" class=\"edge\">\n<title>140154802351744&#45;&gt;140154802362688*</title>\n<path fill=\"none\" stroke=\"black\" d=\"M200.21,-73.5C209.2,-73.5 217.86,-73.5 225.7,-73.5\"/>\n<polygon fill=\"black\" stroke=\"black\" points=\"225.85,-77 235.85,-73.5 225.85,-70 225.85,-77\"/>\n</g>\n<!-- 140154802360480 -->\n<g id=\"node3\" class=\"node\">\n<title>140154802360480</title>\n<polygon fill=\"none\" stroke=\"black\" points=\"1382,-54.5 1382,-90.5 1567,-90.5 1567,-54.5 1382,-54.5\"/>\n<text text-anchor=\"middle\" x=\"1393.5\" y=\"-68.8\" font-family=\"Times,serif\" font-size=\"14.00\">o</text>\n<polyline fill=\"none\" stroke=\"black\" points=\"1405,-54.5 1405,-90.5 \"/>\n<text text-anchor=\"middle\" x=\"1445\" y=\"-68.8\" font-family=\"Times,serif\" font-size=\"14.00\">data 0.7071</text>\n<polyline fill=\"none\" stroke=\"black\" points=\"1485,-54.5 1485,-90.5 \"/>\n<text text-anchor=\"middle\" x=\"1526\" y=\"-68.8\" font-family=\"Times,serif\" font-size=\"14.00\">grad 1.0000</text>\n</g>\n<!-- 140154802360480tanh -->\n<g id=\"node4\" class=\"node\">\n<title>140154802360480tanh</title>\n<ellipse fill=\"none\" stroke=\"black\" cx=\"1319\" cy=\"-72.5\" rx=\"27\" ry=\"18\"/>\n<text text-anchor=\"middle\" x=\"1319\" y=\"-68.8\" font-family=\"Times,serif\" font-size=\"14.00\">tanh</text>\n</g>\n<!-- 140154802360480tanh&#45;&gt;140154802360480 -->\n<g id=\"edge1\" class=\"edge\">\n<title>140154802360480tanh&#45;&gt;140154802360480</title>\n<path fill=\"none\" stroke=\"black\" d=\"M1346.04,-72.5C1353.58,-72.5 1362.3,-72.5 1371.57,-72.5\"/>\n<polygon fill=\"black\" stroke=\"black\" points=\"1371.81,-76 1381.81,-72.5 1371.81,-69 1371.81,-76\"/>\n</g>\n<!-- 140154802361056 -->\n<g id=\"node5\" class=\"node\">\n<title>140154802361056</title>\n<polygon fill=\"none\" stroke=\"black\" points=\"672,-82.5 672,-118.5 945,-118.5 945,-82.5 672,-82.5\"/>\n<text text-anchor=\"middle\" x=\"725\" y=\"-96.8\" font-family=\"Times,serif\" font-size=\"14.00\">x1*w1 + x2*w2</text>\n<polyline fill=\"none\" stroke=\"black\" points=\"778,-82.5 778,-118.5 \"/>\n<text text-anchor=\"middle\" x=\"820.5\" y=\"-96.8\" font-family=\"Times,serif\" font-size=\"14.00\">data &#45;6.0000</text>\n<polyline fill=\"none\" stroke=\"black\" points=\"863,-82.5 863,-118.5 \"/>\n<text text-anchor=\"middle\" x=\"904\" y=\"-96.8\" font-family=\"Times,serif\" font-size=\"14.00\">grad 0.0000</text>\n</g>\n<!-- 140154802362592+ -->\n<g id=\"node8\" class=\"node\">\n<title>140154802362592+</title>\n<ellipse fill=\"none\" stroke=\"black\" cx=\"1008\" cy=\"-72.5\" rx=\"27\" ry=\"18\"/>\n<text text-anchor=\"middle\" x=\"1008\" y=\"-68.8\" font-family=\"Times,serif\" font-size=\"14.00\">+</text>\n</g>\n<!-- 140154802361056&#45;&gt;140154802362592+ -->\n<g id=\"edge10\" class=\"edge\">\n<title>140154802361056&#45;&gt;140154802362592+</title>\n<path fill=\"none\" stroke=\"black\" d=\"M936.53,-82.49C949.09,-80.71 960.99,-79.02 971.3,-77.56\"/>\n<polygon fill=\"black\" stroke=\"black\" points=\"972.03,-80.99 981.44,-76.12 971.05,-74.06 972.03,-80.99\"/>\n</g>\n<!-- 140154802361056+ -->\n<g id=\"node6\" class=\"node\">\n<title>140154802361056+</title>\n<ellipse fill=\"none\" stroke=\"black\" cx=\"609\" cy=\"-100.5\" rx=\"27\" ry=\"18\"/>\n<text text-anchor=\"middle\" x=\"609\" y=\"-96.8\" font-family=\"Times,serif\" font-size=\"14.00\">+</text>\n</g>\n<!-- 140154802361056+&#45;&gt;140154802361056 -->\n<g id=\"edge2\" class=\"edge\">\n<title>140154802361056+&#45;&gt;140154802361056</title>\n<path fill=\"none\" stroke=\"black\" d=\"M636.23,-100.5C643.7,-100.5 652.41,-100.5 661.87,-100.5\"/>\n<polygon fill=\"black\" stroke=\"black\" points=\"661.98,-104 671.98,-100.5 661.98,-97 661.98,-104\"/>\n</g>\n<!-- 140154802362592 -->\n<g id=\"node7\" class=\"node\">\n<title>140154802362592</title>\n<polygon fill=\"none\" stroke=\"black\" points=\"1071,-54.5 1071,-90.5 1256,-90.5 1256,-54.5 1071,-54.5\"/>\n<text text-anchor=\"middle\" x=\"1082.5\" y=\"-68.8\" font-family=\"Times,serif\" font-size=\"14.00\">n</text>\n<polyline fill=\"none\" stroke=\"black\" points=\"1094,-54.5 1094,-90.5 \"/>\n<text text-anchor=\"middle\" x=\"1134\" y=\"-68.8\" font-family=\"Times,serif\" font-size=\"14.00\">data 0.8814</text>\n<polyline fill=\"none\" stroke=\"black\" points=\"1174,-54.5 1174,-90.5 \"/>\n<text text-anchor=\"middle\" x=\"1215\" y=\"-68.8\" font-family=\"Times,serif\" font-size=\"14.00\">grad 0.0000</text>\n</g>\n<!-- 140154802362592&#45;&gt;140154802360480tanh -->\n<g id=\"edge8\" class=\"edge\">\n<title>140154802362592&#45;&gt;140154802360480tanh</title>\n<path fill=\"none\" stroke=\"black\" d=\"M1256.01,-72.5C1265.01,-72.5 1273.74,-72.5 1281.66,-72.5\"/>\n<polygon fill=\"black\" stroke=\"black\" points=\"1281.91,-76 1291.91,-72.5 1281.91,-69 1281.91,-76\"/>\n</g>\n<!-- 140154802362592+&#45;&gt;140154802362592 -->\n<g id=\"edge3\" class=\"edge\">\n<title>140154802362592+&#45;&gt;140154802362592</title>\n<path fill=\"none\" stroke=\"black\" d=\"M1035.04,-72.5C1042.58,-72.5 1051.3,-72.5 1060.57,-72.5\"/>\n<polygon fill=\"black\" stroke=\"black\" points=\"1060.81,-76 1070.81,-72.5 1060.81,-69 1060.81,-76\"/>\n</g>\n<!-- 140154802350880 -->\n<g id=\"node9\" class=\"node\">\n<title>140154802350880</title>\n<polygon fill=\"none\" stroke=\"black\" points=\"2.5,-110.5 2.5,-146.5 197.5,-146.5 197.5,-110.5 2.5,-110.5\"/>\n<text text-anchor=\"middle\" x=\"19\" y=\"-124.8\" font-family=\"Times,serif\" font-size=\"14.00\">w2</text>\n<polyline fill=\"none\" stroke=\"black\" points=\"35.5,-110.5 35.5,-146.5 \"/>\n<text text-anchor=\"middle\" x=\"75.5\" y=\"-124.8\" font-family=\"Times,serif\" font-size=\"14.00\">data 1.0000</text>\n<polyline fill=\"none\" stroke=\"black\" points=\"115.5,-110.5 115.5,-146.5 \"/>\n<text text-anchor=\"middle\" x=\"156.5\" y=\"-124.8\" font-family=\"Times,serif\" font-size=\"14.00\">grad 0.0000</text>\n</g>\n<!-- 140154802350880&#45;&gt;140154802362736* -->\n<g id=\"edge7\" class=\"edge\">\n<title>140154802350880&#45;&gt;140154802362736*</title>\n<path fill=\"none\" stroke=\"black\" d=\"M197.91,-128.5C207.65,-128.5 217.05,-128.5 225.52,-128.5\"/>\n<polygon fill=\"black\" stroke=\"black\" points=\"225.7,-132 235.7,-128.5 225.7,-125 225.7,-132\"/>\n</g>\n<!-- 140154802348336 -->\n<g id=\"node10\" class=\"node\">\n<title>140154802348336</title>\n<polygon fill=\"none\" stroke=\"black\" points=\"716,-27.5 716,-63.5 901,-63.5 901,-27.5 716,-27.5\"/>\n<text text-anchor=\"middle\" x=\"727.5\" y=\"-41.8\" font-family=\"Times,serif\" font-size=\"14.00\">b</text>\n<polyline fill=\"none\" stroke=\"black\" points=\"739,-27.5 739,-63.5 \"/>\n<text text-anchor=\"middle\" x=\"779\" y=\"-41.8\" font-family=\"Times,serif\" font-size=\"14.00\">data 6.8814</text>\n<polyline fill=\"none\" stroke=\"black\" points=\"819,-27.5 819,-63.5 \"/>\n<text text-anchor=\"middle\" x=\"860\" y=\"-41.8\" font-family=\"Times,serif\" font-size=\"14.00\">grad 0.0000</text>\n</g>\n<!-- 140154802348336&#45;&gt;140154802362592+ -->\n<g id=\"edge12\" class=\"edge\">\n<title>140154802348336&#45;&gt;140154802362592+</title>\n<path fill=\"none\" stroke=\"black\" d=\"M901.02,-58.01C926,-61.43 951.59,-64.93 971.37,-67.63\"/>\n<polygon fill=\"black\" stroke=\"black\" points=\"971.05,-71.12 981.43,-69.01 972,-64.18 971.05,-71.12\"/>\n</g>\n<!-- 140154802362688 -->\n<g id=\"node11\" class=\"node\">\n<title>140154802362688</title>\n<polygon fill=\"none\" stroke=\"black\" points=\"326,-55.5 326,-91.5 546,-91.5 546,-55.5 326,-55.5\"/>\n<text text-anchor=\"middle\" x=\"352.5\" y=\"-69.8\" font-family=\"Times,serif\" font-size=\"14.00\">x1*w1</text>\n<polyline fill=\"none\" stroke=\"black\" points=\"379,-55.5 379,-91.5 \"/>\n<text text-anchor=\"middle\" x=\"421.5\" y=\"-69.8\" font-family=\"Times,serif\" font-size=\"14.00\">data &#45;6.0000</text>\n<polyline fill=\"none\" stroke=\"black\" points=\"464,-55.5 464,-91.5 \"/>\n<text text-anchor=\"middle\" x=\"505\" y=\"-69.8\" font-family=\"Times,serif\" font-size=\"14.00\">grad 0.0000</text>\n</g>\n<!-- 140154802362688&#45;&gt;140154802361056+ -->\n<g id=\"edge9\" class=\"edge\">\n<title>140154802362688&#45;&gt;140154802361056+</title>\n<path fill=\"none\" stroke=\"black\" d=\"M546.27,-90.75C555.64,-92.23 564.6,-93.65 572.65,-94.92\"/>\n<polygon fill=\"black\" stroke=\"black\" points=\"572.23,-98.4 582.65,-96.5 573.32,-91.48 572.23,-98.4\"/>\n</g>\n<!-- 140154802362688*&#45;&gt;140154802362688 -->\n<g id=\"edge4\" class=\"edge\">\n<title>140154802362688*&#45;&gt;140154802362688</title>\n<path fill=\"none\" stroke=\"black\" d=\"M290.34,-73.5C297.77,-73.5 306.37,-73.5 315.6,-73.5\"/>\n<polygon fill=\"black\" stroke=\"black\" points=\"315.84,-77 325.84,-73.5 315.84,-70 315.84,-77\"/>\n</g>\n<!-- 140154802362736 -->\n<g id=\"node13\" class=\"node\">\n<title>140154802362736</title>\n<polygon fill=\"none\" stroke=\"black\" points=\"328.5,-110.5 328.5,-146.5 543.5,-146.5 543.5,-110.5 328.5,-110.5\"/>\n<text text-anchor=\"middle\" x=\"355\" y=\"-124.8\" font-family=\"Times,serif\" font-size=\"14.00\">x2*w2</text>\n<polyline fill=\"none\" stroke=\"black\" points=\"381.5,-110.5 381.5,-146.5 \"/>\n<text text-anchor=\"middle\" x=\"421.5\" y=\"-124.8\" font-family=\"Times,serif\" font-size=\"14.00\">data 0.0000</text>\n<polyline fill=\"none\" stroke=\"black\" points=\"461.5,-110.5 461.5,-146.5 \"/>\n<text text-anchor=\"middle\" x=\"502.5\" y=\"-124.8\" font-family=\"Times,serif\" font-size=\"14.00\">grad 0.0000</text>\n</g>\n<!-- 140154802362736&#45;&gt;140154802361056+ -->\n<g id=\"edge13\" class=\"edge\">\n<title>140154802362736&#45;&gt;140154802361056+</title>\n<path fill=\"none\" stroke=\"black\" d=\"M543.84,-111.01C554.01,-109.34 563.76,-107.74 572.44,-106.32\"/>\n<polygon fill=\"black\" stroke=\"black\" points=\"573.17,-109.75 582.47,-104.68 572.04,-102.84 573.17,-109.75\"/>\n</g>\n<!-- 140154802362736*&#45;&gt;140154802362736 -->\n<g id=\"edge5\" class=\"edge\">\n<title>140154802362736*&#45;&gt;140154802362736</title>\n<path fill=\"none\" stroke=\"black\" d=\"M290.34,-128.5C298.51,-128.5 308.08,-128.5 318.36,-128.5\"/>\n<polygon fill=\"black\" stroke=\"black\" points=\"318.39,-132 328.39,-128.5 318.39,-125 318.39,-132\"/>\n</g>\n<!-- 140154802350496 -->\n<g id=\"node15\" class=\"node\">\n<title>140154802350496</title>\n<polygon fill=\"none\" stroke=\"black\" points=\"4,-0.5 4,-36.5 196,-36.5 196,-0.5 4,-0.5\"/>\n<text text-anchor=\"middle\" x=\"19\" y=\"-14.8\" font-family=\"Times,serif\" font-size=\"14.00\">x1</text>\n<polyline fill=\"none\" stroke=\"black\" points=\"34,-0.5 34,-36.5 \"/>\n<text text-anchor=\"middle\" x=\"74\" y=\"-14.8\" font-family=\"Times,serif\" font-size=\"14.00\">data 2.0000</text>\n<polyline fill=\"none\" stroke=\"black\" points=\"114,-0.5 114,-36.5 \"/>\n<text text-anchor=\"middle\" x=\"155\" y=\"-14.8\" font-family=\"Times,serif\" font-size=\"14.00\">grad 0.0000</text>\n</g>\n<!-- 140154802350496&#45;&gt;140154802362688* -->\n<g id=\"edge11\" class=\"edge\">\n<title>140154802350496&#45;&gt;140154802362688*</title>\n<path fill=\"none\" stroke=\"black\" d=\"M169.28,-36.5C179.65,-39.61 190.16,-42.98 200,-46.5 210.28,-50.17 221.28,-54.74 231.11,-59.07\"/>\n<polygon fill=\"black\" stroke=\"black\" points=\"229.93,-62.37 240.48,-63.27 232.79,-55.99 229.93,-62.37\"/>\n</g>\n</g>\n</svg>\n"
          },
          "metadata": {},
          "execution_count": 196
        }
      ]
    },
    {
      "cell_type": "markdown",
      "source": [
        "Run backprop in reversed topological order"
      ],
      "metadata": {
        "id": "OhZgNIx1lCIw"
      }
    },
    {
      "cell_type": "code",
      "source": [
        "for val in reversed(topological_sort(o)):\n",
        "  val._backward()"
      ],
      "metadata": {
        "id": "SC5LEaEJk9DQ"
      },
      "execution_count": 197,
      "outputs": []
    },
    {
      "cell_type": "code",
      "source": [
        "draw_dot(o)"
      ],
      "metadata": {
        "colab": {
          "base_uri": "https://localhost:8080/",
          "height": 321
        },
        "id": "0zTZF3VxlROw",
        "outputId": "4ff1ace0-bbd9-452b-bb20-830e0e7d8324"
      },
      "execution_count": 198,
      "outputs": [
        {
          "output_type": "execute_result",
          "data": {
            "text/plain": [
              "<graphviz.dot.Digraph at 0x7f7855355e20>"
            ],
            "image/svg+xml": "<?xml version=\"1.0\" encoding=\"UTF-8\" standalone=\"no\"?>\n<!DOCTYPE svg PUBLIC \"-//W3C//DTD SVG 1.1//EN\"\n \"http://www.w3.org/Graphics/SVG/1.1/DTD/svg11.dtd\">\n<!-- Generated by graphviz version 2.43.0 (0)\n -->\n<!-- Title: %3 Pages: 1 -->\n<svg width=\"1575pt\" height=\"210pt\"\n viewBox=\"0.00 0.00 1575.00 210.00\" xmlns=\"http://www.w3.org/2000/svg\" xmlns:xlink=\"http://www.w3.org/1999/xlink\">\n<g id=\"graph0\" class=\"graph\" transform=\"scale(1 1) rotate(0) translate(4 206)\">\n<title>%3</title>\n<polygon fill=\"white\" stroke=\"transparent\" points=\"-4,4 -4,-206 1571,-206 1571,4 -4,4\"/>\n<!-- 140154802350688 -->\n<g id=\"node1\" class=\"node\">\n<title>140154802350688</title>\n<polygon fill=\"none\" stroke=\"black\" points=\"4,-165.5 4,-201.5 196,-201.5 196,-165.5 4,-165.5\"/>\n<text text-anchor=\"middle\" x=\"19\" y=\"-179.8\" font-family=\"Times,serif\" font-size=\"14.00\">x2</text>\n<polyline fill=\"none\" stroke=\"black\" points=\"34,-165.5 34,-201.5 \"/>\n<text text-anchor=\"middle\" x=\"74\" y=\"-179.8\" font-family=\"Times,serif\" font-size=\"14.00\">data 0.0000</text>\n<polyline fill=\"none\" stroke=\"black\" points=\"114,-165.5 114,-201.5 \"/>\n<text text-anchor=\"middle\" x=\"155\" y=\"-179.8\" font-family=\"Times,serif\" font-size=\"14.00\">grad 0.5000</text>\n</g>\n<!-- 140154802362736* -->\n<g id=\"node14\" class=\"node\">\n<title>140154802362736*</title>\n<ellipse fill=\"none\" stroke=\"black\" cx=\"263\" cy=\"-128.5\" rx=\"27\" ry=\"18\"/>\n<text text-anchor=\"middle\" x=\"263\" y=\"-124.8\" font-family=\"Times,serif\" font-size=\"14.00\">*</text>\n</g>\n<!-- 140154802350688&#45;&gt;140154802362736* -->\n<g id=\"edge6\" class=\"edge\">\n<title>140154802350688&#45;&gt;140154802362736*</title>\n<path fill=\"none\" stroke=\"black\" d=\"M172.53,-165.44C181.84,-162.67 191.2,-159.67 200,-156.5 210.53,-152.71 221.75,-147.9 231.72,-143.33\"/>\n<polygon fill=\"black\" stroke=\"black\" points=\"233.25,-146.48 240.82,-139.07 230.28,-140.14 233.25,-146.48\"/>\n</g>\n<!-- 140154802351744 -->\n<g id=\"node2\" class=\"node\">\n<title>140154802351744</title>\n<polygon fill=\"none\" stroke=\"black\" points=\"0,-55.5 0,-91.5 200,-91.5 200,-55.5 0,-55.5\"/>\n<text text-anchor=\"middle\" x=\"16.5\" y=\"-69.8\" font-family=\"Times,serif\" font-size=\"14.00\">w1</text>\n<polyline fill=\"none\" stroke=\"black\" points=\"33,-55.5 33,-91.5 \"/>\n<text text-anchor=\"middle\" x=\"75.5\" y=\"-69.8\" font-family=\"Times,serif\" font-size=\"14.00\">data &#45;3.0000</text>\n<polyline fill=\"none\" stroke=\"black\" points=\"118,-55.5 118,-91.5 \"/>\n<text text-anchor=\"middle\" x=\"159\" y=\"-69.8\" font-family=\"Times,serif\" font-size=\"14.00\">grad 1.0000</text>\n</g>\n<!-- 140154802362688* -->\n<g id=\"node12\" class=\"node\">\n<title>140154802362688*</title>\n<ellipse fill=\"none\" stroke=\"black\" cx=\"263\" cy=\"-73.5\" rx=\"27\" ry=\"18\"/>\n<text text-anchor=\"middle\" x=\"263\" y=\"-69.8\" font-family=\"Times,serif\" font-size=\"14.00\">*</text>\n</g>\n<!-- 140154802351744&#45;&gt;140154802362688* -->\n<g id=\"edge14\" class=\"edge\">\n<title>140154802351744&#45;&gt;140154802362688*</title>\n<path fill=\"none\" stroke=\"black\" d=\"M200.21,-73.5C209.2,-73.5 217.86,-73.5 225.7,-73.5\"/>\n<polygon fill=\"black\" stroke=\"black\" points=\"225.85,-77 235.85,-73.5 225.85,-70 225.85,-77\"/>\n</g>\n<!-- 140154802360480 -->\n<g id=\"node3\" class=\"node\">\n<title>140154802360480</title>\n<polygon fill=\"none\" stroke=\"black\" points=\"1382,-54.5 1382,-90.5 1567,-90.5 1567,-54.5 1382,-54.5\"/>\n<text text-anchor=\"middle\" x=\"1393.5\" y=\"-68.8\" font-family=\"Times,serif\" font-size=\"14.00\">o</text>\n<polyline fill=\"none\" stroke=\"black\" points=\"1405,-54.5 1405,-90.5 \"/>\n<text text-anchor=\"middle\" x=\"1445\" y=\"-68.8\" font-family=\"Times,serif\" font-size=\"14.00\">data 0.7071</text>\n<polyline fill=\"none\" stroke=\"black\" points=\"1485,-54.5 1485,-90.5 \"/>\n<text text-anchor=\"middle\" x=\"1526\" y=\"-68.8\" font-family=\"Times,serif\" font-size=\"14.00\">grad 1.0000</text>\n</g>\n<!-- 140154802360480tanh -->\n<g id=\"node4\" class=\"node\">\n<title>140154802360480tanh</title>\n<ellipse fill=\"none\" stroke=\"black\" cx=\"1319\" cy=\"-72.5\" rx=\"27\" ry=\"18\"/>\n<text text-anchor=\"middle\" x=\"1319\" y=\"-68.8\" font-family=\"Times,serif\" font-size=\"14.00\">tanh</text>\n</g>\n<!-- 140154802360480tanh&#45;&gt;140154802360480 -->\n<g id=\"edge1\" class=\"edge\">\n<title>140154802360480tanh&#45;&gt;140154802360480</title>\n<path fill=\"none\" stroke=\"black\" d=\"M1346.04,-72.5C1353.58,-72.5 1362.3,-72.5 1371.57,-72.5\"/>\n<polygon fill=\"black\" stroke=\"black\" points=\"1371.81,-76 1381.81,-72.5 1371.81,-69 1371.81,-76\"/>\n</g>\n<!-- 140154802361056 -->\n<g id=\"node5\" class=\"node\">\n<title>140154802361056</title>\n<polygon fill=\"none\" stroke=\"black\" points=\"672,-82.5 672,-118.5 945,-118.5 945,-82.5 672,-82.5\"/>\n<text text-anchor=\"middle\" x=\"725\" y=\"-96.8\" font-family=\"Times,serif\" font-size=\"14.00\">x1*w1 + x2*w2</text>\n<polyline fill=\"none\" stroke=\"black\" points=\"778,-82.5 778,-118.5 \"/>\n<text text-anchor=\"middle\" x=\"820.5\" y=\"-96.8\" font-family=\"Times,serif\" font-size=\"14.00\">data &#45;6.0000</text>\n<polyline fill=\"none\" stroke=\"black\" points=\"863,-82.5 863,-118.5 \"/>\n<text text-anchor=\"middle\" x=\"904\" y=\"-96.8\" font-family=\"Times,serif\" font-size=\"14.00\">grad 0.5000</text>\n</g>\n<!-- 140154802362592+ -->\n<g id=\"node8\" class=\"node\">\n<title>140154802362592+</title>\n<ellipse fill=\"none\" stroke=\"black\" cx=\"1008\" cy=\"-72.5\" rx=\"27\" ry=\"18\"/>\n<text text-anchor=\"middle\" x=\"1008\" y=\"-68.8\" font-family=\"Times,serif\" font-size=\"14.00\">+</text>\n</g>\n<!-- 140154802361056&#45;&gt;140154802362592+ -->\n<g id=\"edge10\" class=\"edge\">\n<title>140154802361056&#45;&gt;140154802362592+</title>\n<path fill=\"none\" stroke=\"black\" d=\"M936.53,-82.49C949.09,-80.71 960.99,-79.02 971.3,-77.56\"/>\n<polygon fill=\"black\" stroke=\"black\" points=\"972.03,-80.99 981.44,-76.12 971.05,-74.06 972.03,-80.99\"/>\n</g>\n<!-- 140154802361056+ -->\n<g id=\"node6\" class=\"node\">\n<title>140154802361056+</title>\n<ellipse fill=\"none\" stroke=\"black\" cx=\"609\" cy=\"-100.5\" rx=\"27\" ry=\"18\"/>\n<text text-anchor=\"middle\" x=\"609\" y=\"-96.8\" font-family=\"Times,serif\" font-size=\"14.00\">+</text>\n</g>\n<!-- 140154802361056+&#45;&gt;140154802361056 -->\n<g id=\"edge2\" class=\"edge\">\n<title>140154802361056+&#45;&gt;140154802361056</title>\n<path fill=\"none\" stroke=\"black\" d=\"M636.23,-100.5C643.7,-100.5 652.41,-100.5 661.87,-100.5\"/>\n<polygon fill=\"black\" stroke=\"black\" points=\"661.98,-104 671.98,-100.5 661.98,-97 661.98,-104\"/>\n</g>\n<!-- 140154802362592 -->\n<g id=\"node7\" class=\"node\">\n<title>140154802362592</title>\n<polygon fill=\"none\" stroke=\"black\" points=\"1071,-54.5 1071,-90.5 1256,-90.5 1256,-54.5 1071,-54.5\"/>\n<text text-anchor=\"middle\" x=\"1082.5\" y=\"-68.8\" font-family=\"Times,serif\" font-size=\"14.00\">n</text>\n<polyline fill=\"none\" stroke=\"black\" points=\"1094,-54.5 1094,-90.5 \"/>\n<text text-anchor=\"middle\" x=\"1134\" y=\"-68.8\" font-family=\"Times,serif\" font-size=\"14.00\">data 0.8814</text>\n<polyline fill=\"none\" stroke=\"black\" points=\"1174,-54.5 1174,-90.5 \"/>\n<text text-anchor=\"middle\" x=\"1215\" y=\"-68.8\" font-family=\"Times,serif\" font-size=\"14.00\">grad 0.5000</text>\n</g>\n<!-- 140154802362592&#45;&gt;140154802360480tanh -->\n<g id=\"edge8\" class=\"edge\">\n<title>140154802362592&#45;&gt;140154802360480tanh</title>\n<path fill=\"none\" stroke=\"black\" d=\"M1256.01,-72.5C1265.01,-72.5 1273.74,-72.5 1281.66,-72.5\"/>\n<polygon fill=\"black\" stroke=\"black\" points=\"1281.91,-76 1291.91,-72.5 1281.91,-69 1281.91,-76\"/>\n</g>\n<!-- 140154802362592+&#45;&gt;140154802362592 -->\n<g id=\"edge3\" class=\"edge\">\n<title>140154802362592+&#45;&gt;140154802362592</title>\n<path fill=\"none\" stroke=\"black\" d=\"M1035.04,-72.5C1042.58,-72.5 1051.3,-72.5 1060.57,-72.5\"/>\n<polygon fill=\"black\" stroke=\"black\" points=\"1060.81,-76 1070.81,-72.5 1060.81,-69 1060.81,-76\"/>\n</g>\n<!-- 140154802350880 -->\n<g id=\"node9\" class=\"node\">\n<title>140154802350880</title>\n<polygon fill=\"none\" stroke=\"black\" points=\"2.5,-110.5 2.5,-146.5 197.5,-146.5 197.5,-110.5 2.5,-110.5\"/>\n<text text-anchor=\"middle\" x=\"19\" y=\"-124.8\" font-family=\"Times,serif\" font-size=\"14.00\">w2</text>\n<polyline fill=\"none\" stroke=\"black\" points=\"35.5,-110.5 35.5,-146.5 \"/>\n<text text-anchor=\"middle\" x=\"75.5\" y=\"-124.8\" font-family=\"Times,serif\" font-size=\"14.00\">data 1.0000</text>\n<polyline fill=\"none\" stroke=\"black\" points=\"115.5,-110.5 115.5,-146.5 \"/>\n<text text-anchor=\"middle\" x=\"156.5\" y=\"-124.8\" font-family=\"Times,serif\" font-size=\"14.00\">grad 0.0000</text>\n</g>\n<!-- 140154802350880&#45;&gt;140154802362736* -->\n<g id=\"edge7\" class=\"edge\">\n<title>140154802350880&#45;&gt;140154802362736*</title>\n<path fill=\"none\" stroke=\"black\" d=\"M197.91,-128.5C207.65,-128.5 217.05,-128.5 225.52,-128.5\"/>\n<polygon fill=\"black\" stroke=\"black\" points=\"225.7,-132 235.7,-128.5 225.7,-125 225.7,-132\"/>\n</g>\n<!-- 140154802348336 -->\n<g id=\"node10\" class=\"node\">\n<title>140154802348336</title>\n<polygon fill=\"none\" stroke=\"black\" points=\"716,-27.5 716,-63.5 901,-63.5 901,-27.5 716,-27.5\"/>\n<text text-anchor=\"middle\" x=\"727.5\" y=\"-41.8\" font-family=\"Times,serif\" font-size=\"14.00\">b</text>\n<polyline fill=\"none\" stroke=\"black\" points=\"739,-27.5 739,-63.5 \"/>\n<text text-anchor=\"middle\" x=\"779\" y=\"-41.8\" font-family=\"Times,serif\" font-size=\"14.00\">data 6.8814</text>\n<polyline fill=\"none\" stroke=\"black\" points=\"819,-27.5 819,-63.5 \"/>\n<text text-anchor=\"middle\" x=\"860\" y=\"-41.8\" font-family=\"Times,serif\" font-size=\"14.00\">grad 0.5000</text>\n</g>\n<!-- 140154802348336&#45;&gt;140154802362592+ -->\n<g id=\"edge12\" class=\"edge\">\n<title>140154802348336&#45;&gt;140154802362592+</title>\n<path fill=\"none\" stroke=\"black\" d=\"M901.02,-58.01C926,-61.43 951.59,-64.93 971.37,-67.63\"/>\n<polygon fill=\"black\" stroke=\"black\" points=\"971.05,-71.12 981.43,-69.01 972,-64.18 971.05,-71.12\"/>\n</g>\n<!-- 140154802362688 -->\n<g id=\"node11\" class=\"node\">\n<title>140154802362688</title>\n<polygon fill=\"none\" stroke=\"black\" points=\"326,-55.5 326,-91.5 546,-91.5 546,-55.5 326,-55.5\"/>\n<text text-anchor=\"middle\" x=\"352.5\" y=\"-69.8\" font-family=\"Times,serif\" font-size=\"14.00\">x1*w1</text>\n<polyline fill=\"none\" stroke=\"black\" points=\"379,-55.5 379,-91.5 \"/>\n<text text-anchor=\"middle\" x=\"421.5\" y=\"-69.8\" font-family=\"Times,serif\" font-size=\"14.00\">data &#45;6.0000</text>\n<polyline fill=\"none\" stroke=\"black\" points=\"464,-55.5 464,-91.5 \"/>\n<text text-anchor=\"middle\" x=\"505\" y=\"-69.8\" font-family=\"Times,serif\" font-size=\"14.00\">grad 0.5000</text>\n</g>\n<!-- 140154802362688&#45;&gt;140154802361056+ -->\n<g id=\"edge9\" class=\"edge\">\n<title>140154802362688&#45;&gt;140154802361056+</title>\n<path fill=\"none\" stroke=\"black\" d=\"M546.27,-90.75C555.64,-92.23 564.6,-93.65 572.65,-94.92\"/>\n<polygon fill=\"black\" stroke=\"black\" points=\"572.23,-98.4 582.65,-96.5 573.32,-91.48 572.23,-98.4\"/>\n</g>\n<!-- 140154802362688*&#45;&gt;140154802362688 -->\n<g id=\"edge4\" class=\"edge\">\n<title>140154802362688*&#45;&gt;140154802362688</title>\n<path fill=\"none\" stroke=\"black\" d=\"M290.34,-73.5C297.77,-73.5 306.37,-73.5 315.6,-73.5\"/>\n<polygon fill=\"black\" stroke=\"black\" points=\"315.84,-77 325.84,-73.5 315.84,-70 315.84,-77\"/>\n</g>\n<!-- 140154802362736 -->\n<g id=\"node13\" class=\"node\">\n<title>140154802362736</title>\n<polygon fill=\"none\" stroke=\"black\" points=\"328.5,-110.5 328.5,-146.5 543.5,-146.5 543.5,-110.5 328.5,-110.5\"/>\n<text text-anchor=\"middle\" x=\"355\" y=\"-124.8\" font-family=\"Times,serif\" font-size=\"14.00\">x2*w2</text>\n<polyline fill=\"none\" stroke=\"black\" points=\"381.5,-110.5 381.5,-146.5 \"/>\n<text text-anchor=\"middle\" x=\"421.5\" y=\"-124.8\" font-family=\"Times,serif\" font-size=\"14.00\">data 0.0000</text>\n<polyline fill=\"none\" stroke=\"black\" points=\"461.5,-110.5 461.5,-146.5 \"/>\n<text text-anchor=\"middle\" x=\"502.5\" y=\"-124.8\" font-family=\"Times,serif\" font-size=\"14.00\">grad 0.5000</text>\n</g>\n<!-- 140154802362736&#45;&gt;140154802361056+ -->\n<g id=\"edge13\" class=\"edge\">\n<title>140154802362736&#45;&gt;140154802361056+</title>\n<path fill=\"none\" stroke=\"black\" d=\"M543.84,-111.01C554.01,-109.34 563.76,-107.74 572.44,-106.32\"/>\n<polygon fill=\"black\" stroke=\"black\" points=\"573.17,-109.75 582.47,-104.68 572.04,-102.84 573.17,-109.75\"/>\n</g>\n<!-- 140154802362736*&#45;&gt;140154802362736 -->\n<g id=\"edge5\" class=\"edge\">\n<title>140154802362736*&#45;&gt;140154802362736</title>\n<path fill=\"none\" stroke=\"black\" d=\"M290.34,-128.5C298.51,-128.5 308.08,-128.5 318.36,-128.5\"/>\n<polygon fill=\"black\" stroke=\"black\" points=\"318.39,-132 328.39,-128.5 318.39,-125 318.39,-132\"/>\n</g>\n<!-- 140154802350496 -->\n<g id=\"node15\" class=\"node\">\n<title>140154802350496</title>\n<polygon fill=\"none\" stroke=\"black\" points=\"2,-0.5 2,-36.5 198,-36.5 198,-0.5 2,-0.5\"/>\n<text text-anchor=\"middle\" x=\"17\" y=\"-14.8\" font-family=\"Times,serif\" font-size=\"14.00\">x1</text>\n<polyline fill=\"none\" stroke=\"black\" points=\"32,-0.5 32,-36.5 \"/>\n<text text-anchor=\"middle\" x=\"72\" y=\"-14.8\" font-family=\"Times,serif\" font-size=\"14.00\">data 2.0000</text>\n<polyline fill=\"none\" stroke=\"black\" points=\"112,-0.5 112,-36.5 \"/>\n<text text-anchor=\"middle\" x=\"155\" y=\"-14.8\" font-family=\"Times,serif\" font-size=\"14.00\">grad &#45;1.5000</text>\n</g>\n<!-- 140154802350496&#45;&gt;140154802362688* -->\n<g id=\"edge11\" class=\"edge\">\n<title>140154802350496&#45;&gt;140154802362688*</title>\n<path fill=\"none\" stroke=\"black\" d=\"M169.28,-36.5C179.65,-39.61 190.16,-42.98 200,-46.5 210.28,-50.17 221.28,-54.74 231.11,-59.07\"/>\n<polygon fill=\"black\" stroke=\"black\" points=\"229.93,-62.37 240.48,-63.27 232.79,-55.99 229.93,-62.37\"/>\n</g>\n</g>\n</svg>\n"
          },
          "metadata": {},
          "execution_count": 198
        }
      ]
    },
    {
      "cell_type": "markdown",
      "source": [
        "# Using Backprop From The Value Class"
      ],
      "metadata": {
        "id": "tGMkt7UUOVsf"
      }
    },
    {
      "cell_type": "code",
      "source": [
        "o = build_graph() # reset the graph\n",
        "draw_dot(o)"
      ],
      "metadata": {
        "colab": {
          "base_uri": "https://localhost:8080/",
          "height": 321
        },
        "id": "VAr-sGuZlS-S",
        "outputId": "6f7e8d56-8a1c-498e-c925-309120fdf4a5"
      },
      "execution_count": 199,
      "outputs": [
        {
          "output_type": "execute_result",
          "data": {
            "text/plain": [
              "<graphviz.dot.Digraph at 0x7f78e4bf7d30>"
            ],
            "image/svg+xml": "<?xml version=\"1.0\" encoding=\"UTF-8\" standalone=\"no\"?>\n<!DOCTYPE svg PUBLIC \"-//W3C//DTD SVG 1.1//EN\"\n \"http://www.w3.org/Graphics/SVG/1.1/DTD/svg11.dtd\">\n<!-- Generated by graphviz version 2.43.0 (0)\n -->\n<!-- Title: %3 Pages: 1 -->\n<svg width=\"1575pt\" height=\"210pt\"\n viewBox=\"0.00 0.00 1575.00 210.00\" xmlns=\"http://www.w3.org/2000/svg\" xmlns:xlink=\"http://www.w3.org/1999/xlink\">\n<g id=\"graph0\" class=\"graph\" transform=\"scale(1 1) rotate(0) translate(4 206)\">\n<title>%3</title>\n<polygon fill=\"white\" stroke=\"transparent\" points=\"-4,4 -4,-206 1571,-206 1571,4 -4,4\"/>\n<!-- 140154802349056 -->\n<g id=\"node1\" class=\"node\">\n<title>140154802349056</title>\n<polygon fill=\"none\" stroke=\"black\" points=\"326,-55.5 326,-91.5 546,-91.5 546,-55.5 326,-55.5\"/>\n<text text-anchor=\"middle\" x=\"352.5\" y=\"-69.8\" font-family=\"Times,serif\" font-size=\"14.00\">x1*w1</text>\n<polyline fill=\"none\" stroke=\"black\" points=\"379,-55.5 379,-91.5 \"/>\n<text text-anchor=\"middle\" x=\"421.5\" y=\"-69.8\" font-family=\"Times,serif\" font-size=\"14.00\">data &#45;6.0000</text>\n<polyline fill=\"none\" stroke=\"black\" points=\"464,-55.5 464,-91.5 \"/>\n<text text-anchor=\"middle\" x=\"505\" y=\"-69.8\" font-family=\"Times,serif\" font-size=\"14.00\">grad 0.0000</text>\n</g>\n<!-- 140154802242800+ -->\n<g id=\"node11\" class=\"node\">\n<title>140154802242800+</title>\n<ellipse fill=\"none\" stroke=\"black\" cx=\"609\" cy=\"-100.5\" rx=\"27\" ry=\"18\"/>\n<text text-anchor=\"middle\" x=\"609\" y=\"-96.8\" font-family=\"Times,serif\" font-size=\"14.00\">+</text>\n</g>\n<!-- 140154802349056&#45;&gt;140154802242800+ -->\n<g id=\"edge8\" class=\"edge\">\n<title>140154802349056&#45;&gt;140154802242800+</title>\n<path fill=\"none\" stroke=\"black\" d=\"M546.27,-90.75C555.64,-92.23 564.6,-93.65 572.65,-94.92\"/>\n<polygon fill=\"black\" stroke=\"black\" points=\"572.23,-98.4 582.65,-96.5 573.32,-91.48 572.23,-98.4\"/>\n</g>\n<!-- 140154802349056* -->\n<g id=\"node2\" class=\"node\">\n<title>140154802349056*</title>\n<ellipse fill=\"none\" stroke=\"black\" cx=\"263\" cy=\"-73.5\" rx=\"27\" ry=\"18\"/>\n<text text-anchor=\"middle\" x=\"263\" y=\"-69.8\" font-family=\"Times,serif\" font-size=\"14.00\">*</text>\n</g>\n<!-- 140154802349056*&#45;&gt;140154802349056 -->\n<g id=\"edge1\" class=\"edge\">\n<title>140154802349056*&#45;&gt;140154802349056</title>\n<path fill=\"none\" stroke=\"black\" d=\"M290.34,-73.5C297.77,-73.5 306.37,-73.5 315.6,-73.5\"/>\n<polygon fill=\"black\" stroke=\"black\" points=\"315.84,-77 325.84,-73.5 315.84,-70 315.84,-77\"/>\n</g>\n<!-- 140154802242608 -->\n<g id=\"node3\" class=\"node\">\n<title>140154802242608</title>\n<polygon fill=\"none\" stroke=\"black\" points=\"328.5,-110.5 328.5,-146.5 543.5,-146.5 543.5,-110.5 328.5,-110.5\"/>\n<text text-anchor=\"middle\" x=\"355\" y=\"-124.8\" font-family=\"Times,serif\" font-size=\"14.00\">x2*w2</text>\n<polyline fill=\"none\" stroke=\"black\" points=\"381.5,-110.5 381.5,-146.5 \"/>\n<text text-anchor=\"middle\" x=\"421.5\" y=\"-124.8\" font-family=\"Times,serif\" font-size=\"14.00\">data 0.0000</text>\n<polyline fill=\"none\" stroke=\"black\" points=\"461.5,-110.5 461.5,-146.5 \"/>\n<text text-anchor=\"middle\" x=\"502.5\" y=\"-124.8\" font-family=\"Times,serif\" font-size=\"14.00\">grad 0.0000</text>\n</g>\n<!-- 140154802242608&#45;&gt;140154802242800+ -->\n<g id=\"edge9\" class=\"edge\">\n<title>140154802242608&#45;&gt;140154802242800+</title>\n<path fill=\"none\" stroke=\"black\" d=\"M543.84,-111.01C554.01,-109.34 563.76,-107.74 572.44,-106.32\"/>\n<polygon fill=\"black\" stroke=\"black\" points=\"573.17,-109.75 582.47,-104.68 572.04,-102.84 573.17,-109.75\"/>\n</g>\n<!-- 140154802242608* -->\n<g id=\"node4\" class=\"node\">\n<title>140154802242608*</title>\n<ellipse fill=\"none\" stroke=\"black\" cx=\"263\" cy=\"-128.5\" rx=\"27\" ry=\"18\"/>\n<text text-anchor=\"middle\" x=\"263\" y=\"-124.8\" font-family=\"Times,serif\" font-size=\"14.00\">*</text>\n</g>\n<!-- 140154802242608*&#45;&gt;140154802242608 -->\n<g id=\"edge2\" class=\"edge\">\n<title>140154802242608*&#45;&gt;140154802242608</title>\n<path fill=\"none\" stroke=\"black\" d=\"M290.34,-128.5C298.51,-128.5 308.08,-128.5 318.36,-128.5\"/>\n<polygon fill=\"black\" stroke=\"black\" points=\"318.39,-132 328.39,-128.5 318.39,-125 318.39,-132\"/>\n</g>\n<!-- 140154802363984 -->\n<g id=\"node5\" class=\"node\">\n<title>140154802363984</title>\n<polygon fill=\"none\" stroke=\"black\" points=\"716,-137.5 716,-173.5 901,-173.5 901,-137.5 716,-137.5\"/>\n<text text-anchor=\"middle\" x=\"727.5\" y=\"-151.8\" font-family=\"Times,serif\" font-size=\"14.00\">b</text>\n<polyline fill=\"none\" stroke=\"black\" points=\"739,-137.5 739,-173.5 \"/>\n<text text-anchor=\"middle\" x=\"779\" y=\"-151.8\" font-family=\"Times,serif\" font-size=\"14.00\">data 6.8814</text>\n<polyline fill=\"none\" stroke=\"black\" points=\"819,-137.5 819,-173.5 \"/>\n<text text-anchor=\"middle\" x=\"860\" y=\"-151.8\" font-family=\"Times,serif\" font-size=\"14.00\">grad 0.0000</text>\n</g>\n<!-- 140154802242128+ -->\n<g id=\"node7\" class=\"node\">\n<title>140154802242128+</title>\n<ellipse fill=\"none\" stroke=\"black\" cx=\"1008\" cy=\"-127.5\" rx=\"27\" ry=\"18\"/>\n<text text-anchor=\"middle\" x=\"1008\" y=\"-123.8\" font-family=\"Times,serif\" font-size=\"14.00\">+</text>\n</g>\n<!-- 140154802363984&#45;&gt;140154802242128+ -->\n<g id=\"edge6\" class=\"edge\">\n<title>140154802363984&#45;&gt;140154802242128+</title>\n<path fill=\"none\" stroke=\"black\" d=\"M901.02,-142.52C926,-138.98 951.59,-135.36 971.37,-132.55\"/>\n<polygon fill=\"black\" stroke=\"black\" points=\"972.03,-135.99 981.43,-131.12 971.04,-129.06 972.03,-135.99\"/>\n</g>\n<!-- 140154802242128 -->\n<g id=\"node6\" class=\"node\">\n<title>140154802242128</title>\n<polygon fill=\"none\" stroke=\"black\" points=\"1071,-109.5 1071,-145.5 1256,-145.5 1256,-109.5 1071,-109.5\"/>\n<text text-anchor=\"middle\" x=\"1082.5\" y=\"-123.8\" font-family=\"Times,serif\" font-size=\"14.00\">n</text>\n<polyline fill=\"none\" stroke=\"black\" points=\"1094,-109.5 1094,-145.5 \"/>\n<text text-anchor=\"middle\" x=\"1134\" y=\"-123.8\" font-family=\"Times,serif\" font-size=\"14.00\">data 0.8814</text>\n<polyline fill=\"none\" stroke=\"black\" points=\"1174,-109.5 1174,-145.5 \"/>\n<text text-anchor=\"middle\" x=\"1215\" y=\"-123.8\" font-family=\"Times,serif\" font-size=\"14.00\">grad 0.0000</text>\n</g>\n<!-- 140157210524448tanh -->\n<g id=\"node13\" class=\"node\">\n<title>140157210524448tanh</title>\n<ellipse fill=\"none\" stroke=\"black\" cx=\"1319\" cy=\"-127.5\" rx=\"27\" ry=\"18\"/>\n<text text-anchor=\"middle\" x=\"1319\" y=\"-123.8\" font-family=\"Times,serif\" font-size=\"14.00\">tanh</text>\n</g>\n<!-- 140154802242128&#45;&gt;140157210524448tanh -->\n<g id=\"edge7\" class=\"edge\">\n<title>140154802242128&#45;&gt;140157210524448tanh</title>\n<path fill=\"none\" stroke=\"black\" d=\"M1256.01,-127.5C1265.01,-127.5 1273.74,-127.5 1281.66,-127.5\"/>\n<polygon fill=\"black\" stroke=\"black\" points=\"1281.91,-131 1291.91,-127.5 1281.91,-124 1281.91,-131\"/>\n</g>\n<!-- 140154802242128+&#45;&gt;140154802242128 -->\n<g id=\"edge3\" class=\"edge\">\n<title>140154802242128+&#45;&gt;140154802242128</title>\n<path fill=\"none\" stroke=\"black\" d=\"M1035.04,-127.5C1042.58,-127.5 1051.3,-127.5 1060.57,-127.5\"/>\n<polygon fill=\"black\" stroke=\"black\" points=\"1060.81,-131 1070.81,-127.5 1060.81,-124 1060.81,-131\"/>\n</g>\n<!-- 140154802362976 -->\n<g id=\"node8\" class=\"node\">\n<title>140154802362976</title>\n<polygon fill=\"none\" stroke=\"black\" points=\"4,-165.5 4,-201.5 196,-201.5 196,-165.5 4,-165.5\"/>\n<text text-anchor=\"middle\" x=\"19\" y=\"-179.8\" font-family=\"Times,serif\" font-size=\"14.00\">x2</text>\n<polyline fill=\"none\" stroke=\"black\" points=\"34,-165.5 34,-201.5 \"/>\n<text text-anchor=\"middle\" x=\"74\" y=\"-179.8\" font-family=\"Times,serif\" font-size=\"14.00\">data 0.0000</text>\n<polyline fill=\"none\" stroke=\"black\" points=\"114,-165.5 114,-201.5 \"/>\n<text text-anchor=\"middle\" x=\"155\" y=\"-179.8\" font-family=\"Times,serif\" font-size=\"14.00\">grad 0.0000</text>\n</g>\n<!-- 140154802362976&#45;&gt;140154802242608* -->\n<g id=\"edge10\" class=\"edge\">\n<title>140154802362976&#45;&gt;140154802242608*</title>\n<path fill=\"none\" stroke=\"black\" d=\"M172.53,-165.44C181.84,-162.67 191.2,-159.67 200,-156.5 210.53,-152.71 221.75,-147.9 231.72,-143.33\"/>\n<polygon fill=\"black\" stroke=\"black\" points=\"233.25,-146.48 240.82,-139.07 230.28,-140.14 233.25,-146.48\"/>\n</g>\n<!-- 140154802362496 -->\n<g id=\"node9\" class=\"node\">\n<title>140154802362496</title>\n<polygon fill=\"none\" stroke=\"black\" points=\"0,-55.5 0,-91.5 200,-91.5 200,-55.5 0,-55.5\"/>\n<text text-anchor=\"middle\" x=\"16.5\" y=\"-69.8\" font-family=\"Times,serif\" font-size=\"14.00\">w1</text>\n<polyline fill=\"none\" stroke=\"black\" points=\"33,-55.5 33,-91.5 \"/>\n<text text-anchor=\"middle\" x=\"75.5\" y=\"-69.8\" font-family=\"Times,serif\" font-size=\"14.00\">data &#45;3.0000</text>\n<polyline fill=\"none\" stroke=\"black\" points=\"118,-55.5 118,-91.5 \"/>\n<text text-anchor=\"middle\" x=\"159\" y=\"-69.8\" font-family=\"Times,serif\" font-size=\"14.00\">grad 0.0000</text>\n</g>\n<!-- 140154802362496&#45;&gt;140154802349056* -->\n<g id=\"edge13\" class=\"edge\">\n<title>140154802362496&#45;&gt;140154802349056*</title>\n<path fill=\"none\" stroke=\"black\" d=\"M200.21,-73.5C209.2,-73.5 217.86,-73.5 225.7,-73.5\"/>\n<polygon fill=\"black\" stroke=\"black\" points=\"225.85,-77 235.85,-73.5 225.85,-70 225.85,-77\"/>\n</g>\n<!-- 140154802242800 -->\n<g id=\"node10\" class=\"node\">\n<title>140154802242800</title>\n<polygon fill=\"none\" stroke=\"black\" points=\"672,-82.5 672,-118.5 945,-118.5 945,-82.5 672,-82.5\"/>\n<text text-anchor=\"middle\" x=\"725\" y=\"-96.8\" font-family=\"Times,serif\" font-size=\"14.00\">x1*w1 + x2*w2</text>\n<polyline fill=\"none\" stroke=\"black\" points=\"778,-82.5 778,-118.5 \"/>\n<text text-anchor=\"middle\" x=\"820.5\" y=\"-96.8\" font-family=\"Times,serif\" font-size=\"14.00\">data &#45;6.0000</text>\n<polyline fill=\"none\" stroke=\"black\" points=\"863,-82.5 863,-118.5 \"/>\n<text text-anchor=\"middle\" x=\"904\" y=\"-96.8\" font-family=\"Times,serif\" font-size=\"14.00\">grad 0.0000</text>\n</g>\n<!-- 140154802242800&#45;&gt;140154802242128+ -->\n<g id=\"edge11\" class=\"edge\">\n<title>140154802242800&#45;&gt;140154802242128+</title>\n<path fill=\"none\" stroke=\"black\" d=\"M941.24,-118.51C952.12,-120 962.4,-121.4 971.45,-122.64\"/>\n<polygon fill=\"black\" stroke=\"black\" points=\"971.11,-126.13 981.49,-124.01 972.05,-119.19 971.11,-126.13\"/>\n</g>\n<!-- 140154802242800+&#45;&gt;140154802242800 -->\n<g id=\"edge4\" class=\"edge\">\n<title>140154802242800+&#45;&gt;140154802242800</title>\n<path fill=\"none\" stroke=\"black\" d=\"M636.23,-100.5C643.7,-100.5 652.41,-100.5 661.87,-100.5\"/>\n<polygon fill=\"black\" stroke=\"black\" points=\"661.98,-104 671.98,-100.5 661.98,-97 661.98,-104\"/>\n</g>\n<!-- 140157210524448 -->\n<g id=\"node12\" class=\"node\">\n<title>140157210524448</title>\n<polygon fill=\"none\" stroke=\"black\" points=\"1382,-109.5 1382,-145.5 1567,-145.5 1567,-109.5 1382,-109.5\"/>\n<text text-anchor=\"middle\" x=\"1393.5\" y=\"-123.8\" font-family=\"Times,serif\" font-size=\"14.00\">o</text>\n<polyline fill=\"none\" stroke=\"black\" points=\"1405,-109.5 1405,-145.5 \"/>\n<text text-anchor=\"middle\" x=\"1445\" y=\"-123.8\" font-family=\"Times,serif\" font-size=\"14.00\">data 0.7071</text>\n<polyline fill=\"none\" stroke=\"black\" points=\"1485,-109.5 1485,-145.5 \"/>\n<text text-anchor=\"middle\" x=\"1526\" y=\"-123.8\" font-family=\"Times,serif\" font-size=\"14.00\">grad 0.0000</text>\n</g>\n<!-- 140157210524448tanh&#45;&gt;140157210524448 -->\n<g id=\"edge5\" class=\"edge\">\n<title>140157210524448tanh&#45;&gt;140157210524448</title>\n<path fill=\"none\" stroke=\"black\" d=\"M1346.04,-127.5C1353.58,-127.5 1362.3,-127.5 1371.57,-127.5\"/>\n<polygon fill=\"black\" stroke=\"black\" points=\"1371.81,-131 1381.81,-127.5 1371.81,-124 1371.81,-131\"/>\n</g>\n<!-- 140154802363840 -->\n<g id=\"node14\" class=\"node\">\n<title>140154802363840</title>\n<polygon fill=\"none\" stroke=\"black\" points=\"4,-0.5 4,-36.5 196,-36.5 196,-0.5 4,-0.5\"/>\n<text text-anchor=\"middle\" x=\"19\" y=\"-14.8\" font-family=\"Times,serif\" font-size=\"14.00\">x1</text>\n<polyline fill=\"none\" stroke=\"black\" points=\"34,-0.5 34,-36.5 \"/>\n<text text-anchor=\"middle\" x=\"74\" y=\"-14.8\" font-family=\"Times,serif\" font-size=\"14.00\">data 2.0000</text>\n<polyline fill=\"none\" stroke=\"black\" points=\"114,-0.5 114,-36.5 \"/>\n<text text-anchor=\"middle\" x=\"155\" y=\"-14.8\" font-family=\"Times,serif\" font-size=\"14.00\">grad 0.0000</text>\n</g>\n<!-- 140154802363840&#45;&gt;140154802349056* -->\n<g id=\"edge14\" class=\"edge\">\n<title>140154802363840&#45;&gt;140154802349056*</title>\n<path fill=\"none\" stroke=\"black\" d=\"M169.28,-36.5C179.65,-39.61 190.16,-42.98 200,-46.5 210.28,-50.17 221.28,-54.74 231.11,-59.07\"/>\n<polygon fill=\"black\" stroke=\"black\" points=\"229.93,-62.37 240.48,-63.27 232.79,-55.99 229.93,-62.37\"/>\n</g>\n<!-- 140154802363888 -->\n<g id=\"node15\" class=\"node\">\n<title>140154802363888</title>\n<polygon fill=\"none\" stroke=\"black\" points=\"2.5,-110.5 2.5,-146.5 197.5,-146.5 197.5,-110.5 2.5,-110.5\"/>\n<text text-anchor=\"middle\" x=\"19\" y=\"-124.8\" font-family=\"Times,serif\" font-size=\"14.00\">w2</text>\n<polyline fill=\"none\" stroke=\"black\" points=\"35.5,-110.5 35.5,-146.5 \"/>\n<text text-anchor=\"middle\" x=\"75.5\" y=\"-124.8\" font-family=\"Times,serif\" font-size=\"14.00\">data 1.0000</text>\n<polyline fill=\"none\" stroke=\"black\" points=\"115.5,-110.5 115.5,-146.5 \"/>\n<text text-anchor=\"middle\" x=\"156.5\" y=\"-124.8\" font-family=\"Times,serif\" font-size=\"14.00\">grad 0.0000</text>\n</g>\n<!-- 140154802363888&#45;&gt;140154802242608* -->\n<g id=\"edge12\" class=\"edge\">\n<title>140154802363888&#45;&gt;140154802242608*</title>\n<path fill=\"none\" stroke=\"black\" d=\"M197.91,-128.5C207.65,-128.5 217.05,-128.5 225.52,-128.5\"/>\n<polygon fill=\"black\" stroke=\"black\" points=\"225.7,-132 235.7,-128.5 225.7,-125 225.7,-132\"/>\n</g>\n</g>\n</svg>\n"
          },
          "metadata": {},
          "execution_count": 199
        }
      ]
    },
    {
      "cell_type": "markdown",
      "source": [
        "Calling `backward` now is one line"
      ],
      "metadata": {
        "id": "dG2Fejf1Oz9U"
      }
    },
    {
      "cell_type": "code",
      "source": [
        "o.backward()\n",
        "draw_dot(o)"
      ],
      "metadata": {
        "colab": {
          "base_uri": "https://localhost:8080/",
          "height": 321
        },
        "id": "0PDIBTsROf-c",
        "outputId": "801318e9-bf93-4ad4-85cf-5a5176b30e78"
      },
      "execution_count": 200,
      "outputs": [
        {
          "output_type": "execute_result",
          "data": {
            "text/plain": [
              "<graphviz.dot.Digraph at 0x7f7855355d00>"
            ],
            "image/svg+xml": "<?xml version=\"1.0\" encoding=\"UTF-8\" standalone=\"no\"?>\n<!DOCTYPE svg PUBLIC \"-//W3C//DTD SVG 1.1//EN\"\n \"http://www.w3.org/Graphics/SVG/1.1/DTD/svg11.dtd\">\n<!-- Generated by graphviz version 2.43.0 (0)\n -->\n<!-- Title: %3 Pages: 1 -->\n<svg width=\"1575pt\" height=\"210pt\"\n viewBox=\"0.00 0.00 1575.00 210.00\" xmlns=\"http://www.w3.org/2000/svg\" xmlns:xlink=\"http://www.w3.org/1999/xlink\">\n<g id=\"graph0\" class=\"graph\" transform=\"scale(1 1) rotate(0) translate(4 206)\">\n<title>%3</title>\n<polygon fill=\"white\" stroke=\"transparent\" points=\"-4,4 -4,-206 1571,-206 1571,4 -4,4\"/>\n<!-- 140154802349056 -->\n<g id=\"node1\" class=\"node\">\n<title>140154802349056</title>\n<polygon fill=\"none\" stroke=\"black\" points=\"326,-55.5 326,-91.5 546,-91.5 546,-55.5 326,-55.5\"/>\n<text text-anchor=\"middle\" x=\"352.5\" y=\"-69.8\" font-family=\"Times,serif\" font-size=\"14.00\">x1*w1</text>\n<polyline fill=\"none\" stroke=\"black\" points=\"379,-55.5 379,-91.5 \"/>\n<text text-anchor=\"middle\" x=\"421.5\" y=\"-69.8\" font-family=\"Times,serif\" font-size=\"14.00\">data &#45;6.0000</text>\n<polyline fill=\"none\" stroke=\"black\" points=\"464,-55.5 464,-91.5 \"/>\n<text text-anchor=\"middle\" x=\"505\" y=\"-69.8\" font-family=\"Times,serif\" font-size=\"14.00\">grad 0.5000</text>\n</g>\n<!-- 140154802242800+ -->\n<g id=\"node11\" class=\"node\">\n<title>140154802242800+</title>\n<ellipse fill=\"none\" stroke=\"black\" cx=\"609\" cy=\"-100.5\" rx=\"27\" ry=\"18\"/>\n<text text-anchor=\"middle\" x=\"609\" y=\"-96.8\" font-family=\"Times,serif\" font-size=\"14.00\">+</text>\n</g>\n<!-- 140154802349056&#45;&gt;140154802242800+ -->\n<g id=\"edge8\" class=\"edge\">\n<title>140154802349056&#45;&gt;140154802242800+</title>\n<path fill=\"none\" stroke=\"black\" d=\"M546.27,-90.75C555.64,-92.23 564.6,-93.65 572.65,-94.92\"/>\n<polygon fill=\"black\" stroke=\"black\" points=\"572.23,-98.4 582.65,-96.5 573.32,-91.48 572.23,-98.4\"/>\n</g>\n<!-- 140154802349056* -->\n<g id=\"node2\" class=\"node\">\n<title>140154802349056*</title>\n<ellipse fill=\"none\" stroke=\"black\" cx=\"263\" cy=\"-73.5\" rx=\"27\" ry=\"18\"/>\n<text text-anchor=\"middle\" x=\"263\" y=\"-69.8\" font-family=\"Times,serif\" font-size=\"14.00\">*</text>\n</g>\n<!-- 140154802349056*&#45;&gt;140154802349056 -->\n<g id=\"edge1\" class=\"edge\">\n<title>140154802349056*&#45;&gt;140154802349056</title>\n<path fill=\"none\" stroke=\"black\" d=\"M290.34,-73.5C297.77,-73.5 306.37,-73.5 315.6,-73.5\"/>\n<polygon fill=\"black\" stroke=\"black\" points=\"315.84,-77 325.84,-73.5 315.84,-70 315.84,-77\"/>\n</g>\n<!-- 140154802242608 -->\n<g id=\"node3\" class=\"node\">\n<title>140154802242608</title>\n<polygon fill=\"none\" stroke=\"black\" points=\"328.5,-110.5 328.5,-146.5 543.5,-146.5 543.5,-110.5 328.5,-110.5\"/>\n<text text-anchor=\"middle\" x=\"355\" y=\"-124.8\" font-family=\"Times,serif\" font-size=\"14.00\">x2*w2</text>\n<polyline fill=\"none\" stroke=\"black\" points=\"381.5,-110.5 381.5,-146.5 \"/>\n<text text-anchor=\"middle\" x=\"421.5\" y=\"-124.8\" font-family=\"Times,serif\" font-size=\"14.00\">data 0.0000</text>\n<polyline fill=\"none\" stroke=\"black\" points=\"461.5,-110.5 461.5,-146.5 \"/>\n<text text-anchor=\"middle\" x=\"502.5\" y=\"-124.8\" font-family=\"Times,serif\" font-size=\"14.00\">grad 0.5000</text>\n</g>\n<!-- 140154802242608&#45;&gt;140154802242800+ -->\n<g id=\"edge9\" class=\"edge\">\n<title>140154802242608&#45;&gt;140154802242800+</title>\n<path fill=\"none\" stroke=\"black\" d=\"M543.84,-111.01C554.01,-109.34 563.76,-107.74 572.44,-106.32\"/>\n<polygon fill=\"black\" stroke=\"black\" points=\"573.17,-109.75 582.47,-104.68 572.04,-102.84 573.17,-109.75\"/>\n</g>\n<!-- 140154802242608* -->\n<g id=\"node4\" class=\"node\">\n<title>140154802242608*</title>\n<ellipse fill=\"none\" stroke=\"black\" cx=\"263\" cy=\"-128.5\" rx=\"27\" ry=\"18\"/>\n<text text-anchor=\"middle\" x=\"263\" y=\"-124.8\" font-family=\"Times,serif\" font-size=\"14.00\">*</text>\n</g>\n<!-- 140154802242608*&#45;&gt;140154802242608 -->\n<g id=\"edge2\" class=\"edge\">\n<title>140154802242608*&#45;&gt;140154802242608</title>\n<path fill=\"none\" stroke=\"black\" d=\"M290.34,-128.5C298.51,-128.5 308.08,-128.5 318.36,-128.5\"/>\n<polygon fill=\"black\" stroke=\"black\" points=\"318.39,-132 328.39,-128.5 318.39,-125 318.39,-132\"/>\n</g>\n<!-- 140154802363984 -->\n<g id=\"node5\" class=\"node\">\n<title>140154802363984</title>\n<polygon fill=\"none\" stroke=\"black\" points=\"716,-137.5 716,-173.5 901,-173.5 901,-137.5 716,-137.5\"/>\n<text text-anchor=\"middle\" x=\"727.5\" y=\"-151.8\" font-family=\"Times,serif\" font-size=\"14.00\">b</text>\n<polyline fill=\"none\" stroke=\"black\" points=\"739,-137.5 739,-173.5 \"/>\n<text text-anchor=\"middle\" x=\"779\" y=\"-151.8\" font-family=\"Times,serif\" font-size=\"14.00\">data 6.8814</text>\n<polyline fill=\"none\" stroke=\"black\" points=\"819,-137.5 819,-173.5 \"/>\n<text text-anchor=\"middle\" x=\"860\" y=\"-151.8\" font-family=\"Times,serif\" font-size=\"14.00\">grad 0.5000</text>\n</g>\n<!-- 140154802242128+ -->\n<g id=\"node7\" class=\"node\">\n<title>140154802242128+</title>\n<ellipse fill=\"none\" stroke=\"black\" cx=\"1008\" cy=\"-127.5\" rx=\"27\" ry=\"18\"/>\n<text text-anchor=\"middle\" x=\"1008\" y=\"-123.8\" font-family=\"Times,serif\" font-size=\"14.00\">+</text>\n</g>\n<!-- 140154802363984&#45;&gt;140154802242128+ -->\n<g id=\"edge6\" class=\"edge\">\n<title>140154802363984&#45;&gt;140154802242128+</title>\n<path fill=\"none\" stroke=\"black\" d=\"M901.02,-142.52C926,-138.98 951.59,-135.36 971.37,-132.55\"/>\n<polygon fill=\"black\" stroke=\"black\" points=\"972.03,-135.99 981.43,-131.12 971.04,-129.06 972.03,-135.99\"/>\n</g>\n<!-- 140154802242128 -->\n<g id=\"node6\" class=\"node\">\n<title>140154802242128</title>\n<polygon fill=\"none\" stroke=\"black\" points=\"1071,-109.5 1071,-145.5 1256,-145.5 1256,-109.5 1071,-109.5\"/>\n<text text-anchor=\"middle\" x=\"1082.5\" y=\"-123.8\" font-family=\"Times,serif\" font-size=\"14.00\">n</text>\n<polyline fill=\"none\" stroke=\"black\" points=\"1094,-109.5 1094,-145.5 \"/>\n<text text-anchor=\"middle\" x=\"1134\" y=\"-123.8\" font-family=\"Times,serif\" font-size=\"14.00\">data 0.8814</text>\n<polyline fill=\"none\" stroke=\"black\" points=\"1174,-109.5 1174,-145.5 \"/>\n<text text-anchor=\"middle\" x=\"1215\" y=\"-123.8\" font-family=\"Times,serif\" font-size=\"14.00\">grad 0.5000</text>\n</g>\n<!-- 140157210524448tanh -->\n<g id=\"node13\" class=\"node\">\n<title>140157210524448tanh</title>\n<ellipse fill=\"none\" stroke=\"black\" cx=\"1319\" cy=\"-127.5\" rx=\"27\" ry=\"18\"/>\n<text text-anchor=\"middle\" x=\"1319\" y=\"-123.8\" font-family=\"Times,serif\" font-size=\"14.00\">tanh</text>\n</g>\n<!-- 140154802242128&#45;&gt;140157210524448tanh -->\n<g id=\"edge7\" class=\"edge\">\n<title>140154802242128&#45;&gt;140157210524448tanh</title>\n<path fill=\"none\" stroke=\"black\" d=\"M1256.01,-127.5C1265.01,-127.5 1273.74,-127.5 1281.66,-127.5\"/>\n<polygon fill=\"black\" stroke=\"black\" points=\"1281.91,-131 1291.91,-127.5 1281.91,-124 1281.91,-131\"/>\n</g>\n<!-- 140154802242128+&#45;&gt;140154802242128 -->\n<g id=\"edge3\" class=\"edge\">\n<title>140154802242128+&#45;&gt;140154802242128</title>\n<path fill=\"none\" stroke=\"black\" d=\"M1035.04,-127.5C1042.58,-127.5 1051.3,-127.5 1060.57,-127.5\"/>\n<polygon fill=\"black\" stroke=\"black\" points=\"1060.81,-131 1070.81,-127.5 1060.81,-124 1060.81,-131\"/>\n</g>\n<!-- 140154802362976 -->\n<g id=\"node8\" class=\"node\">\n<title>140154802362976</title>\n<polygon fill=\"none\" stroke=\"black\" points=\"4,-165.5 4,-201.5 196,-201.5 196,-165.5 4,-165.5\"/>\n<text text-anchor=\"middle\" x=\"19\" y=\"-179.8\" font-family=\"Times,serif\" font-size=\"14.00\">x2</text>\n<polyline fill=\"none\" stroke=\"black\" points=\"34,-165.5 34,-201.5 \"/>\n<text text-anchor=\"middle\" x=\"74\" y=\"-179.8\" font-family=\"Times,serif\" font-size=\"14.00\">data 0.0000</text>\n<polyline fill=\"none\" stroke=\"black\" points=\"114,-165.5 114,-201.5 \"/>\n<text text-anchor=\"middle\" x=\"155\" y=\"-179.8\" font-family=\"Times,serif\" font-size=\"14.00\">grad 0.5000</text>\n</g>\n<!-- 140154802362976&#45;&gt;140154802242608* -->\n<g id=\"edge10\" class=\"edge\">\n<title>140154802362976&#45;&gt;140154802242608*</title>\n<path fill=\"none\" stroke=\"black\" d=\"M172.53,-165.44C181.84,-162.67 191.2,-159.67 200,-156.5 210.53,-152.71 221.75,-147.9 231.72,-143.33\"/>\n<polygon fill=\"black\" stroke=\"black\" points=\"233.25,-146.48 240.82,-139.07 230.28,-140.14 233.25,-146.48\"/>\n</g>\n<!-- 140154802362496 -->\n<g id=\"node9\" class=\"node\">\n<title>140154802362496</title>\n<polygon fill=\"none\" stroke=\"black\" points=\"0,-55.5 0,-91.5 200,-91.5 200,-55.5 0,-55.5\"/>\n<text text-anchor=\"middle\" x=\"16.5\" y=\"-69.8\" font-family=\"Times,serif\" font-size=\"14.00\">w1</text>\n<polyline fill=\"none\" stroke=\"black\" points=\"33,-55.5 33,-91.5 \"/>\n<text text-anchor=\"middle\" x=\"75.5\" y=\"-69.8\" font-family=\"Times,serif\" font-size=\"14.00\">data &#45;3.0000</text>\n<polyline fill=\"none\" stroke=\"black\" points=\"118,-55.5 118,-91.5 \"/>\n<text text-anchor=\"middle\" x=\"159\" y=\"-69.8\" font-family=\"Times,serif\" font-size=\"14.00\">grad 1.0000</text>\n</g>\n<!-- 140154802362496&#45;&gt;140154802349056* -->\n<g id=\"edge13\" class=\"edge\">\n<title>140154802362496&#45;&gt;140154802349056*</title>\n<path fill=\"none\" stroke=\"black\" d=\"M200.21,-73.5C209.2,-73.5 217.86,-73.5 225.7,-73.5\"/>\n<polygon fill=\"black\" stroke=\"black\" points=\"225.85,-77 235.85,-73.5 225.85,-70 225.85,-77\"/>\n</g>\n<!-- 140154802242800 -->\n<g id=\"node10\" class=\"node\">\n<title>140154802242800</title>\n<polygon fill=\"none\" stroke=\"black\" points=\"672,-82.5 672,-118.5 945,-118.5 945,-82.5 672,-82.5\"/>\n<text text-anchor=\"middle\" x=\"725\" y=\"-96.8\" font-family=\"Times,serif\" font-size=\"14.00\">x1*w1 + x2*w2</text>\n<polyline fill=\"none\" stroke=\"black\" points=\"778,-82.5 778,-118.5 \"/>\n<text text-anchor=\"middle\" x=\"820.5\" y=\"-96.8\" font-family=\"Times,serif\" font-size=\"14.00\">data &#45;6.0000</text>\n<polyline fill=\"none\" stroke=\"black\" points=\"863,-82.5 863,-118.5 \"/>\n<text text-anchor=\"middle\" x=\"904\" y=\"-96.8\" font-family=\"Times,serif\" font-size=\"14.00\">grad 0.5000</text>\n</g>\n<!-- 140154802242800&#45;&gt;140154802242128+ -->\n<g id=\"edge11\" class=\"edge\">\n<title>140154802242800&#45;&gt;140154802242128+</title>\n<path fill=\"none\" stroke=\"black\" d=\"M941.24,-118.51C952.12,-120 962.4,-121.4 971.45,-122.64\"/>\n<polygon fill=\"black\" stroke=\"black\" points=\"971.11,-126.13 981.49,-124.01 972.05,-119.19 971.11,-126.13\"/>\n</g>\n<!-- 140154802242800+&#45;&gt;140154802242800 -->\n<g id=\"edge4\" class=\"edge\">\n<title>140154802242800+&#45;&gt;140154802242800</title>\n<path fill=\"none\" stroke=\"black\" d=\"M636.23,-100.5C643.7,-100.5 652.41,-100.5 661.87,-100.5\"/>\n<polygon fill=\"black\" stroke=\"black\" points=\"661.98,-104 671.98,-100.5 661.98,-97 661.98,-104\"/>\n</g>\n<!-- 140157210524448 -->\n<g id=\"node12\" class=\"node\">\n<title>140157210524448</title>\n<polygon fill=\"none\" stroke=\"black\" points=\"1382,-109.5 1382,-145.5 1567,-145.5 1567,-109.5 1382,-109.5\"/>\n<text text-anchor=\"middle\" x=\"1393.5\" y=\"-123.8\" font-family=\"Times,serif\" font-size=\"14.00\">o</text>\n<polyline fill=\"none\" stroke=\"black\" points=\"1405,-109.5 1405,-145.5 \"/>\n<text text-anchor=\"middle\" x=\"1445\" y=\"-123.8\" font-family=\"Times,serif\" font-size=\"14.00\">data 0.7071</text>\n<polyline fill=\"none\" stroke=\"black\" points=\"1485,-109.5 1485,-145.5 \"/>\n<text text-anchor=\"middle\" x=\"1526\" y=\"-123.8\" font-family=\"Times,serif\" font-size=\"14.00\">grad 1.0000</text>\n</g>\n<!-- 140157210524448tanh&#45;&gt;140157210524448 -->\n<g id=\"edge5\" class=\"edge\">\n<title>140157210524448tanh&#45;&gt;140157210524448</title>\n<path fill=\"none\" stroke=\"black\" d=\"M1346.04,-127.5C1353.58,-127.5 1362.3,-127.5 1371.57,-127.5\"/>\n<polygon fill=\"black\" stroke=\"black\" points=\"1371.81,-131 1381.81,-127.5 1371.81,-124 1371.81,-131\"/>\n</g>\n<!-- 140154802363840 -->\n<g id=\"node14\" class=\"node\">\n<title>140154802363840</title>\n<polygon fill=\"none\" stroke=\"black\" points=\"2,-0.5 2,-36.5 198,-36.5 198,-0.5 2,-0.5\"/>\n<text text-anchor=\"middle\" x=\"17\" y=\"-14.8\" font-family=\"Times,serif\" font-size=\"14.00\">x1</text>\n<polyline fill=\"none\" stroke=\"black\" points=\"32,-0.5 32,-36.5 \"/>\n<text text-anchor=\"middle\" x=\"72\" y=\"-14.8\" font-family=\"Times,serif\" font-size=\"14.00\">data 2.0000</text>\n<polyline fill=\"none\" stroke=\"black\" points=\"112,-0.5 112,-36.5 \"/>\n<text text-anchor=\"middle\" x=\"155\" y=\"-14.8\" font-family=\"Times,serif\" font-size=\"14.00\">grad &#45;1.5000</text>\n</g>\n<!-- 140154802363840&#45;&gt;140154802349056* -->\n<g id=\"edge14\" class=\"edge\">\n<title>140154802363840&#45;&gt;140154802349056*</title>\n<path fill=\"none\" stroke=\"black\" d=\"M169.28,-36.5C179.65,-39.61 190.16,-42.98 200,-46.5 210.28,-50.17 221.28,-54.74 231.11,-59.07\"/>\n<polygon fill=\"black\" stroke=\"black\" points=\"229.93,-62.37 240.48,-63.27 232.79,-55.99 229.93,-62.37\"/>\n</g>\n<!-- 140154802363888 -->\n<g id=\"node15\" class=\"node\">\n<title>140154802363888</title>\n<polygon fill=\"none\" stroke=\"black\" points=\"2.5,-110.5 2.5,-146.5 197.5,-146.5 197.5,-110.5 2.5,-110.5\"/>\n<text text-anchor=\"middle\" x=\"19\" y=\"-124.8\" font-family=\"Times,serif\" font-size=\"14.00\">w2</text>\n<polyline fill=\"none\" stroke=\"black\" points=\"35.5,-110.5 35.5,-146.5 \"/>\n<text text-anchor=\"middle\" x=\"75.5\" y=\"-124.8\" font-family=\"Times,serif\" font-size=\"14.00\">data 1.0000</text>\n<polyline fill=\"none\" stroke=\"black\" points=\"115.5,-110.5 115.5,-146.5 \"/>\n<text text-anchor=\"middle\" x=\"156.5\" y=\"-124.8\" font-family=\"Times,serif\" font-size=\"14.00\">grad 0.0000</text>\n</g>\n<!-- 140154802363888&#45;&gt;140154802242608* -->\n<g id=\"edge12\" class=\"edge\">\n<title>140154802363888&#45;&gt;140154802242608*</title>\n<path fill=\"none\" stroke=\"black\" d=\"M197.91,-128.5C207.65,-128.5 217.05,-128.5 225.52,-128.5\"/>\n<polygon fill=\"black\" stroke=\"black\" points=\"225.7,-132 235.7,-128.5 225.7,-125 225.7,-132\"/>\n</g>\n</g>\n</svg>\n"
          },
          "metadata": {},
          "execution_count": 200
        }
      ]
    },
    {
      "cell_type": "markdown",
      "source": [
        "Testing a bug stated in the video..."
      ],
      "metadata": {
        "id": "MaRtoKDsQJ2y"
      }
    },
    {
      "cell_type": "code",
      "source": [
        "def test0():\n",
        "  a = Value(3.0, label='a')\n",
        "  b = a + a; b.label = 'b'\n",
        "  b.backward()\n",
        "  return b\n",
        "draw_dot(test0())"
      ],
      "metadata": {
        "colab": {
          "base_uri": "https://localhost:8080/",
          "height": 81
        },
        "id": "uU0wCPv1OkRR",
        "outputId": "0b28c1a9-a6d4-436a-a935-cd7056f7a788"
      },
      "execution_count": 201,
      "outputs": [
        {
          "output_type": "execute_result",
          "data": {
            "text/plain": [
              "<graphviz.dot.Digraph at 0x7f7855358970>"
            ],
            "image/svg+xml": "<?xml version=\"1.0\" encoding=\"UTF-8\" standalone=\"no\"?>\n<!DOCTYPE svg PUBLIC \"-//W3C//DTD SVG 1.1//EN\"\n \"http://www.w3.org/Graphics/SVG/1.1/DTD/svg11.dtd\">\n<!-- Generated by graphviz version 2.43.0 (0)\n -->\n<!-- Title: %3 Pages: 1 -->\n<svg width=\"504pt\" height=\"45pt\"\n viewBox=\"0.00 0.00 504.00 45.00\" xmlns=\"http://www.w3.org/2000/svg\" xmlns:xlink=\"http://www.w3.org/1999/xlink\">\n<g id=\"graph0\" class=\"graph\" transform=\"scale(1 1) rotate(0) translate(4 41)\">\n<title>%3</title>\n<polygon fill=\"white\" stroke=\"transparent\" points=\"-4,4 -4,-41 500,-41 500,4 -4,4\"/>\n<!-- 140154802374736 -->\n<g id=\"node1\" class=\"node\">\n<title>140154802374736</title>\n<polygon fill=\"none\" stroke=\"black\" points=\"311,-0.5 311,-36.5 496,-36.5 496,-0.5 311,-0.5\"/>\n<text text-anchor=\"middle\" x=\"322.5\" y=\"-14.8\" font-family=\"Times,serif\" font-size=\"14.00\">b</text>\n<polyline fill=\"none\" stroke=\"black\" points=\"334,-0.5 334,-36.5 \"/>\n<text text-anchor=\"middle\" x=\"374\" y=\"-14.8\" font-family=\"Times,serif\" font-size=\"14.00\">data 6.0000</text>\n<polyline fill=\"none\" stroke=\"black\" points=\"414,-0.5 414,-36.5 \"/>\n<text text-anchor=\"middle\" x=\"455\" y=\"-14.8\" font-family=\"Times,serif\" font-size=\"14.00\">grad 1.0000</text>\n</g>\n<!-- 140154802374736+ -->\n<g id=\"node2\" class=\"node\">\n<title>140154802374736+</title>\n<ellipse fill=\"none\" stroke=\"black\" cx=\"248\" cy=\"-18.5\" rx=\"27\" ry=\"18\"/>\n<text text-anchor=\"middle\" x=\"248\" y=\"-14.8\" font-family=\"Times,serif\" font-size=\"14.00\">+</text>\n</g>\n<!-- 140154802374736+&#45;&gt;140154802374736 -->\n<g id=\"edge1\" class=\"edge\">\n<title>140154802374736+&#45;&gt;140154802374736</title>\n<path fill=\"none\" stroke=\"black\" d=\"M275.04,-18.5C282.58,-18.5 291.3,-18.5 300.57,-18.5\"/>\n<polygon fill=\"black\" stroke=\"black\" points=\"300.81,-22 310.81,-18.5 300.81,-15 300.81,-22\"/>\n</g>\n<!-- 140154802374496 -->\n<g id=\"node3\" class=\"node\">\n<title>140154802374496</title>\n<polygon fill=\"none\" stroke=\"black\" points=\"0,-0.5 0,-36.5 185,-36.5 185,-0.5 0,-0.5\"/>\n<text text-anchor=\"middle\" x=\"11.5\" y=\"-14.8\" font-family=\"Times,serif\" font-size=\"14.00\">a</text>\n<polyline fill=\"none\" stroke=\"black\" points=\"23,-0.5 23,-36.5 \"/>\n<text text-anchor=\"middle\" x=\"63\" y=\"-14.8\" font-family=\"Times,serif\" font-size=\"14.00\">data 3.0000</text>\n<polyline fill=\"none\" stroke=\"black\" points=\"103,-0.5 103,-36.5 \"/>\n<text text-anchor=\"middle\" x=\"144\" y=\"-14.8\" font-family=\"Times,serif\" font-size=\"14.00\">grad 2.0000</text>\n</g>\n<!-- 140154802374496&#45;&gt;140154802374736+ -->\n<g id=\"edge2\" class=\"edge\">\n<title>140154802374496&#45;&gt;140154802374736+</title>\n<path fill=\"none\" stroke=\"black\" d=\"M185.01,-18.5C194.01,-18.5 202.74,-18.5 210.66,-18.5\"/>\n<polygon fill=\"black\" stroke=\"black\" points=\"210.91,-22 220.91,-18.5 210.91,-15 210.91,-22\"/>\n</g>\n</g>\n</svg>\n"
          },
          "metadata": {},
          "execution_count": 201
        }
      ]
    },
    {
      "cell_type": "code",
      "source": [
        "def test1():\n",
        "  a = Value(3.0, label='a')\n",
        "  b = a * 2; b.label = 'b'\n",
        "  b.backward()\n",
        "  return b\n",
        "draw_dot(test1())"
      ],
      "metadata": {
        "colab": {
          "base_uri": "https://localhost:8080/",
          "height": 154
        },
        "id": "Ok_uq7gDLaAt",
        "outputId": "6d1f2eb4-4871-4106-e5e4-1629683ef1a6"
      },
      "execution_count": 202,
      "outputs": [
        {
          "output_type": "execute_result",
          "data": {
            "text/plain": [
              "<graphviz.dot.Digraph at 0x7f78553585e0>"
            ],
            "image/svg+xml": "<?xml version=\"1.0\" encoding=\"UTF-8\" standalone=\"no\"?>\n<!DOCTYPE svg PUBLIC \"-//W3C//DTD SVG 1.1//EN\"\n \"http://www.w3.org/Graphics/SVG/1.1/DTD/svg11.dtd\">\n<!-- Generated by graphviz version 2.43.0 (0)\n -->\n<!-- Title: %3 Pages: 1 -->\n<svg width=\"504pt\" height=\"100pt\"\n viewBox=\"0.00 0.00 504.00 100.00\" xmlns=\"http://www.w3.org/2000/svg\" xmlns:xlink=\"http://www.w3.org/1999/xlink\">\n<g id=\"graph0\" class=\"graph\" transform=\"scale(1 1) rotate(0) translate(4 96)\">\n<title>%3</title>\n<polygon fill=\"white\" stroke=\"transparent\" points=\"-4,4 -4,-96 500,-96 500,4 -4,4\"/>\n<!-- 140154802373248 -->\n<g id=\"node1\" class=\"node\">\n<title>140154802373248</title>\n<polygon fill=\"none\" stroke=\"black\" points=\"0,-55.5 0,-91.5 185,-91.5 185,-55.5 0,-55.5\"/>\n<text text-anchor=\"middle\" x=\"11.5\" y=\"-69.8\" font-family=\"Times,serif\" font-size=\"14.00\">2</text>\n<polyline fill=\"none\" stroke=\"black\" points=\"23,-55.5 23,-91.5 \"/>\n<text text-anchor=\"middle\" x=\"63\" y=\"-69.8\" font-family=\"Times,serif\" font-size=\"14.00\">data 2.0000</text>\n<polyline fill=\"none\" stroke=\"black\" points=\"103,-55.5 103,-91.5 \"/>\n<text text-anchor=\"middle\" x=\"144\" y=\"-69.8\" font-family=\"Times,serif\" font-size=\"14.00\">grad 3.0000</text>\n</g>\n<!-- 140154802374256* -->\n<g id=\"node4\" class=\"node\">\n<title>140154802374256*</title>\n<ellipse fill=\"none\" stroke=\"black\" cx=\"248\" cy=\"-45.5\" rx=\"27\" ry=\"18\"/>\n<text text-anchor=\"middle\" x=\"248\" y=\"-41.8\" font-family=\"Times,serif\" font-size=\"14.00\">*</text>\n</g>\n<!-- 140154802373248&#45;&gt;140154802374256* -->\n<g id=\"edge2\" class=\"edge\">\n<title>140154802373248&#45;&gt;140154802374256*</title>\n<path fill=\"none\" stroke=\"black\" d=\"M185.01,-56.81C194.49,-55.08 203.66,-53.41 211.9,-51.9\"/>\n<polygon fill=\"black\" stroke=\"black\" points=\"212.6,-55.33 221.81,-50.09 211.35,-48.45 212.6,-55.33\"/>\n</g>\n<!-- 140154802373440 -->\n<g id=\"node2\" class=\"node\">\n<title>140154802373440</title>\n<polygon fill=\"none\" stroke=\"black\" points=\"0,-0.5 0,-36.5 185,-36.5 185,-0.5 0,-0.5\"/>\n<text text-anchor=\"middle\" x=\"11.5\" y=\"-14.8\" font-family=\"Times,serif\" font-size=\"14.00\">a</text>\n<polyline fill=\"none\" stroke=\"black\" points=\"23,-0.5 23,-36.5 \"/>\n<text text-anchor=\"middle\" x=\"63\" y=\"-14.8\" font-family=\"Times,serif\" font-size=\"14.00\">data 3.0000</text>\n<polyline fill=\"none\" stroke=\"black\" points=\"103,-0.5 103,-36.5 \"/>\n<text text-anchor=\"middle\" x=\"144\" y=\"-14.8\" font-family=\"Times,serif\" font-size=\"14.00\">grad 2.0000</text>\n</g>\n<!-- 140154802373440&#45;&gt;140154802374256* -->\n<g id=\"edge3\" class=\"edge\">\n<title>140154802373440&#45;&gt;140154802374256*</title>\n<path fill=\"none\" stroke=\"black\" d=\"M185.01,-34.6C194.49,-36.26 203.66,-37.88 211.9,-39.33\"/>\n<polygon fill=\"black\" stroke=\"black\" points=\"211.36,-42.78 221.81,-41.07 212.57,-35.89 211.36,-42.78\"/>\n</g>\n<!-- 140154802374256 -->\n<g id=\"node3\" class=\"node\">\n<title>140154802374256</title>\n<polygon fill=\"none\" stroke=\"black\" points=\"311,-27.5 311,-63.5 496,-63.5 496,-27.5 311,-27.5\"/>\n<text text-anchor=\"middle\" x=\"322.5\" y=\"-41.8\" font-family=\"Times,serif\" font-size=\"14.00\">b</text>\n<polyline fill=\"none\" stroke=\"black\" points=\"334,-27.5 334,-63.5 \"/>\n<text text-anchor=\"middle\" x=\"374\" y=\"-41.8\" font-family=\"Times,serif\" font-size=\"14.00\">data 6.0000</text>\n<polyline fill=\"none\" stroke=\"black\" points=\"414,-27.5 414,-63.5 \"/>\n<text text-anchor=\"middle\" x=\"455\" y=\"-41.8\" font-family=\"Times,serif\" font-size=\"14.00\">grad 1.0000</text>\n</g>\n<!-- 140154802374256*&#45;&gt;140154802374256 -->\n<g id=\"edge1\" class=\"edge\">\n<title>140154802374256*&#45;&gt;140154802374256</title>\n<path fill=\"none\" stroke=\"black\" d=\"M275.04,-45.5C282.58,-45.5 291.3,-45.5 300.57,-45.5\"/>\n<polygon fill=\"black\" stroke=\"black\" points=\"300.81,-49 310.81,-45.5 300.81,-42 300.81,-49\"/>\n</g>\n</g>\n</svg>\n"
          },
          "metadata": {},
          "execution_count": 202
        }
      ]
    },
    {
      "cell_type": "code",
      "source": [
        "def test2():\n",
        "  a = Value(-2.0, label='a')\n",
        "  b = Value(3.0, label='b')\n",
        "  d = a * b; d.label = 'd'\n",
        "  e = a + b; e.label = 'e'\n",
        "  f = d * e; f.label = 'f'\n",
        "\n",
        "  f.backward()\n",
        "  return f\n",
        "\n",
        "draw_dot(test2())"
      ],
      "metadata": {
        "colab": {
          "base_uri": "https://localhost:8080/",
          "height": 154
        },
        "id": "_tvKYqIgQXsB",
        "outputId": "8f5692ed-d2db-45e2-ec74-01deb95aa9f5"
      },
      "execution_count": 203,
      "outputs": [
        {
          "output_type": "execute_result",
          "data": {
            "text/plain": [
              "<graphviz.dot.Digraph at 0x7f78552f2490>"
            ],
            "image/svg+xml": "<?xml version=\"1.0\" encoding=\"UTF-8\" standalone=\"no\"?>\n<!DOCTYPE svg PUBLIC \"-//W3C//DTD SVG 1.1//EN\"\n \"http://www.w3.org/Graphics/SVG/1.1/DTD/svg11.dtd\">\n<!-- Generated by graphviz version 2.43.0 (0)\n -->\n<!-- Title: %3 Pages: 1 -->\n<svg width=\"832pt\" height=\"100pt\"\n viewBox=\"0.00 0.00 832.00 100.00\" xmlns=\"http://www.w3.org/2000/svg\" xmlns:xlink=\"http://www.w3.org/1999/xlink\">\n<g id=\"graph0\" class=\"graph\" transform=\"scale(1 1) rotate(0) translate(4 96)\">\n<title>%3</title>\n<polygon fill=\"white\" stroke=\"transparent\" points=\"-4,4 -4,-96 828,-96 828,4 -4,4\"/>\n<!-- 140154801955360 -->\n<g id=\"node1\" class=\"node\">\n<title>140154801955360</title>\n<polygon fill=\"none\" stroke=\"black\" points=\"320,-55.5 320,-91.5 510,-91.5 510,-55.5 320,-55.5\"/>\n<text text-anchor=\"middle\" x=\"331.5\" y=\"-69.8\" font-family=\"Times,serif\" font-size=\"14.00\">d</text>\n<polyline fill=\"none\" stroke=\"black\" points=\"343,-55.5 343,-91.5 \"/>\n<text text-anchor=\"middle\" x=\"385.5\" y=\"-69.8\" font-family=\"Times,serif\" font-size=\"14.00\">data &#45;6.0000</text>\n<polyline fill=\"none\" stroke=\"black\" points=\"428,-55.5 428,-91.5 \"/>\n<text text-anchor=\"middle\" x=\"469\" y=\"-69.8\" font-family=\"Times,serif\" font-size=\"14.00\">grad 1.0000</text>\n</g>\n<!-- 140154801955792* -->\n<g id=\"node8\" class=\"node\">\n<title>140154801955792*</title>\n<ellipse fill=\"none\" stroke=\"black\" cx=\"573\" cy=\"-45.5\" rx=\"27\" ry=\"18\"/>\n<text text-anchor=\"middle\" x=\"573\" y=\"-41.8\" font-family=\"Times,serif\" font-size=\"14.00\">*</text>\n</g>\n<!-- 140154801955360&#45;&gt;140154801955792* -->\n<g id=\"edge5\" class=\"edge\">\n<title>140154801955360&#45;&gt;140154801955792*</title>\n<path fill=\"none\" stroke=\"black\" d=\"M510.34,-56.57C519.62,-54.9 528.58,-53.29 536.66,-51.84\"/>\n<polygon fill=\"black\" stroke=\"black\" points=\"537.49,-55.25 546.72,-50.04 536.26,-48.36 537.49,-55.25\"/>\n</g>\n<!-- 140154801955360* -->\n<g id=\"node2\" class=\"node\">\n<title>140154801955360*</title>\n<ellipse fill=\"none\" stroke=\"black\" cx=\"257\" cy=\"-73.5\" rx=\"27\" ry=\"18\"/>\n<text text-anchor=\"middle\" x=\"257\" y=\"-69.8\" font-family=\"Times,serif\" font-size=\"14.00\">*</text>\n</g>\n<!-- 140154801955360*&#45;&gt;140154801955360 -->\n<g id=\"edge1\" class=\"edge\">\n<title>140154801955360*&#45;&gt;140154801955360</title>\n<path fill=\"none\" stroke=\"black\" d=\"M284.11,-73.5C291.63,-73.5 300.32,-73.5 309.58,-73.5\"/>\n<polygon fill=\"black\" stroke=\"black\" points=\"309.81,-77 319.81,-73.5 309.81,-70 309.81,-77\"/>\n</g>\n<!-- 140154801954928 -->\n<g id=\"node3\" class=\"node\">\n<title>140154801954928</title>\n<polygon fill=\"none\" stroke=\"black\" points=\"0,-55.5 0,-91.5 194,-91.5 194,-55.5 0,-55.5\"/>\n<text text-anchor=\"middle\" x=\"11.5\" y=\"-69.8\" font-family=\"Times,serif\" font-size=\"14.00\">a</text>\n<polyline fill=\"none\" stroke=\"black\" points=\"23,-55.5 23,-91.5 \"/>\n<text text-anchor=\"middle\" x=\"65.5\" y=\"-69.8\" font-family=\"Times,serif\" font-size=\"14.00\">data &#45;2.0000</text>\n<polyline fill=\"none\" stroke=\"black\" points=\"108,-55.5 108,-91.5 \"/>\n<text text-anchor=\"middle\" x=\"151\" y=\"-69.8\" font-family=\"Times,serif\" font-size=\"14.00\">grad &#45;3.0000</text>\n</g>\n<!-- 140154801954928&#45;&gt;140154801955360* -->\n<g id=\"edge9\" class=\"edge\">\n<title>140154801954928&#45;&gt;140154801955360*</title>\n<path fill=\"none\" stroke=\"black\" d=\"M194.01,-73.5C202.98,-73.5 211.65,-73.5 219.51,-73.5\"/>\n<polygon fill=\"black\" stroke=\"black\" points=\"219.7,-77 229.7,-73.5 219.7,-70 219.7,-77\"/>\n</g>\n<!-- 140154801955552+ -->\n<g id=\"node5\" class=\"node\">\n<title>140154801955552+</title>\n<ellipse fill=\"none\" stroke=\"black\" cx=\"257\" cy=\"-18.5\" rx=\"27\" ry=\"18\"/>\n<text text-anchor=\"middle\" x=\"257\" y=\"-14.8\" font-family=\"Times,serif\" font-size=\"14.00\">+</text>\n</g>\n<!-- 140154801954928&#45;&gt;140154801955552+ -->\n<g id=\"edge6\" class=\"edge\">\n<title>140154801954928&#45;&gt;140154801955552+</title>\n<path fill=\"none\" stroke=\"black\" d=\"M166.84,-55.49C176.04,-52.69 185.3,-49.67 194,-46.5 204.51,-42.67 215.73,-37.84 225.7,-33.28\"/>\n<polygon fill=\"black\" stroke=\"black\" points=\"227.23,-36.43 234.81,-29.02 224.27,-30.09 227.23,-36.43\"/>\n</g>\n<!-- 140154801955552 -->\n<g id=\"node4\" class=\"node\">\n<title>140154801955552</title>\n<polygon fill=\"none\" stroke=\"black\" points=\"320.5,-0.5 320.5,-36.5 509.5,-36.5 509.5,-0.5 320.5,-0.5\"/>\n<text text-anchor=\"middle\" x=\"332\" y=\"-14.8\" font-family=\"Times,serif\" font-size=\"14.00\">e</text>\n<polyline fill=\"none\" stroke=\"black\" points=\"343.5,-0.5 343.5,-36.5 \"/>\n<text text-anchor=\"middle\" x=\"383.5\" y=\"-14.8\" font-family=\"Times,serif\" font-size=\"14.00\">data 1.0000</text>\n<polyline fill=\"none\" stroke=\"black\" points=\"423.5,-0.5 423.5,-36.5 \"/>\n<text text-anchor=\"middle\" x=\"466.5\" y=\"-14.8\" font-family=\"Times,serif\" font-size=\"14.00\">grad &#45;6.0000</text>\n</g>\n<!-- 140154801955552&#45;&gt;140154801955792* -->\n<g id=\"edge8\" class=\"edge\">\n<title>140154801955552&#45;&gt;140154801955792*</title>\n<path fill=\"none\" stroke=\"black\" d=\"M509.9,-34.75C519.33,-36.38 528.45,-37.96 536.65,-39.38\"/>\n<polygon fill=\"black\" stroke=\"black\" points=\"536.06,-42.83 546.51,-41.09 537.26,-35.93 536.06,-42.83\"/>\n</g>\n<!-- 140154801955552+&#45;&gt;140154801955552 -->\n<g id=\"edge2\" class=\"edge\">\n<title>140154801955552+&#45;&gt;140154801955552</title>\n<path fill=\"none\" stroke=\"black\" d=\"M284.11,-18.5C291.84,-18.5 300.8,-18.5 310.35,-18.5\"/>\n<polygon fill=\"black\" stroke=\"black\" points=\"310.48,-22 320.48,-18.5 310.48,-15 310.48,-22\"/>\n</g>\n<!-- 140154801955216 -->\n<g id=\"node6\" class=\"node\">\n<title>140154801955216</title>\n<polygon fill=\"none\" stroke=\"black\" points=\"2.5,-0.5 2.5,-36.5 191.5,-36.5 191.5,-0.5 2.5,-0.5\"/>\n<text text-anchor=\"middle\" x=\"14\" y=\"-14.8\" font-family=\"Times,serif\" font-size=\"14.00\">b</text>\n<polyline fill=\"none\" stroke=\"black\" points=\"25.5,-0.5 25.5,-36.5 \"/>\n<text text-anchor=\"middle\" x=\"65.5\" y=\"-14.8\" font-family=\"Times,serif\" font-size=\"14.00\">data 3.0000</text>\n<polyline fill=\"none\" stroke=\"black\" points=\"105.5,-0.5 105.5,-36.5 \"/>\n<text text-anchor=\"middle\" x=\"148.5\" y=\"-14.8\" font-family=\"Times,serif\" font-size=\"14.00\">grad &#45;8.0000</text>\n</g>\n<!-- 140154801955216&#45;&gt;140154801955360* -->\n<g id=\"edge4\" class=\"edge\">\n<title>140154801955216&#45;&gt;140154801955360*</title>\n<path fill=\"none\" stroke=\"black\" d=\"M163.94,-36.53C174.08,-39.65 184.37,-43.01 194,-46.5 204.27,-50.22 215.26,-54.8 225.09,-59.12\"/>\n<polygon fill=\"black\" stroke=\"black\" points=\"223.91,-62.43 234.47,-63.32 226.77,-56.04 223.91,-62.43\"/>\n</g>\n<!-- 140154801955216&#45;&gt;140154801955552+ -->\n<g id=\"edge7\" class=\"edge\">\n<title>140154801955216&#45;&gt;140154801955552+</title>\n<path fill=\"none\" stroke=\"black\" d=\"M191.74,-18.5C201.55,-18.5 211.04,-18.5 219.59,-18.5\"/>\n<polygon fill=\"black\" stroke=\"black\" points=\"219.87,-22 229.87,-18.5 219.87,-15 219.87,-22\"/>\n</g>\n<!-- 140154801955792 -->\n<g id=\"node7\" class=\"node\">\n<title>140154801955792</title>\n<polygon fill=\"none\" stroke=\"black\" points=\"636,-27.5 636,-63.5 824,-63.5 824,-27.5 636,-27.5\"/>\n<text text-anchor=\"middle\" x=\"646.5\" y=\"-41.8\" font-family=\"Times,serif\" font-size=\"14.00\">f</text>\n<polyline fill=\"none\" stroke=\"black\" points=\"657,-27.5 657,-63.5 \"/>\n<text text-anchor=\"middle\" x=\"699.5\" y=\"-41.8\" font-family=\"Times,serif\" font-size=\"14.00\">data &#45;6.0000</text>\n<polyline fill=\"none\" stroke=\"black\" points=\"742,-27.5 742,-63.5 \"/>\n<text text-anchor=\"middle\" x=\"783\" y=\"-41.8\" font-family=\"Times,serif\" font-size=\"14.00\">grad 1.0000</text>\n</g>\n<!-- 140154801955792*&#45;&gt;140154801955792 -->\n<g id=\"edge3\" class=\"edge\">\n<title>140154801955792*&#45;&gt;140154801955792</title>\n<path fill=\"none\" stroke=\"black\" d=\"M600.29,-45.5C607.78,-45.5 616.42,-45.5 625.6,-45.5\"/>\n<polygon fill=\"black\" stroke=\"black\" points=\"625.76,-49 635.76,-45.5 625.76,-42 625.76,-49\"/>\n</g>\n</g>\n</svg>\n"
          },
          "metadata": {},
          "execution_count": 203
        }
      ]
    },
    {
      "cell_type": "code",
      "source": [
        "def test3():\n",
        "  a = Value(-2.0, label='a')\n",
        "  b = Value(3.0, label='b')\n",
        "  c = Value(10.0, label='c')\n",
        "  d = a * b + a; d.label = 'd'\n",
        "  e = a + b * c; e.label = 'e'\n",
        "  f = d * e * c * c; f.label = 'f'\n",
        "\n",
        "  f.backward()\n",
        "  return f\n",
        "\n",
        "draw_dot(test3())"
      ],
      "metadata": {
        "colab": {
          "base_uri": "https://localhost:8080/",
          "height": 360
        },
        "id": "NvRamCrVCCVW",
        "outputId": "2b29891e-a785-4288-b397-eaf5f9caa4a8"
      },
      "execution_count": 204,
      "outputs": [
        {
          "output_type": "execute_result",
          "data": {
            "text/plain": [
              "<graphviz.dot.Digraph at 0x7f7855358c70>"
            ],
            "image/svg+xml": "<?xml version=\"1.0\" encoding=\"UTF-8\" standalone=\"no\"?>\n<!DOCTYPE svg PUBLIC \"-//W3C//DTD SVG 1.1//EN\"\n \"http://www.w3.org/Graphics/SVG/1.1/DTD/svg11.dtd\">\n<!-- Generated by graphviz version 2.43.0 (0)\n -->\n<!-- Title: %3 Pages: 1 -->\n<svg width=\"1914pt\" height=\"239pt\"\n viewBox=\"0.00 0.00 1914.00 238.93\" xmlns=\"http://www.w3.org/2000/svg\" xmlns:xlink=\"http://www.w3.org/1999/xlink\">\n<g id=\"graph0\" class=\"graph\" transform=\"scale(1 1) rotate(0) translate(4 234.93)\">\n<title>%3</title>\n<polygon fill=\"white\" stroke=\"transparent\" points=\"-4,4 -4,-234.93 1910,-234.93 1910,4 -4,4\"/>\n<!-- 140154802350592 -->\n<g id=\"node1\" class=\"node\">\n<title>140154802350592</title>\n<polygon fill=\"none\" stroke=\"black\" points=\"676,-122 676,-158 886,-158 886,-122 676,-122\"/>\n<text text-anchor=\"middle\" x=\"687.5\" y=\"-136.3\" font-family=\"Times,serif\" font-size=\"14.00\">d</text>\n<polyline fill=\"none\" stroke=\"black\" points=\"699,-122 699,-158 \"/>\n<text text-anchor=\"middle\" x=\"741.5\" y=\"-136.3\" font-family=\"Times,serif\" font-size=\"14.00\">data &#45;8.0000</text>\n<polyline fill=\"none\" stroke=\"black\" points=\"784,-122 784,-158 \"/>\n<text text-anchor=\"middle\" x=\"835\" y=\"-136.3\" font-family=\"Times,serif\" font-size=\"14.00\">grad 2800.0000</text>\n</g>\n<!-- 140157202024768* -->\n<g id=\"node12\" class=\"node\">\n<title>140157202024768*</title>\n<ellipse fill=\"none\" stroke=\"black\" cx=\"949\" cy=\"-85\" rx=\"27\" ry=\"18\"/>\n<text text-anchor=\"middle\" x=\"949\" y=\"-81.3\" font-family=\"Times,serif\" font-size=\"14.00\">*</text>\n</g>\n<!-- 140154802350592&#45;&gt;140157202024768* -->\n<g id=\"edge11\" class=\"edge\">\n<title>140154802350592&#45;&gt;140157202024768*</title>\n<path fill=\"none\" stroke=\"black\" d=\"M857.72,-121.96C867.32,-119.2 876.94,-116.2 886,-113 896.55,-109.28 907.78,-104.48 917.75,-99.91\"/>\n<polygon fill=\"black\" stroke=\"black\" points=\"919.28,-103.05 926.85,-95.63 916.31,-96.71 919.28,-103.05\"/>\n</g>\n<!-- 140154802350592+ -->\n<g id=\"node2\" class=\"node\">\n<title>140154802350592+</title>\n<ellipse fill=\"none\" stroke=\"black\" cx=\"613\" cy=\"-140\" rx=\"27\" ry=\"18\"/>\n<text text-anchor=\"middle\" x=\"613\" y=\"-136.3\" font-family=\"Times,serif\" font-size=\"14.00\">+</text>\n</g>\n<!-- 140154802350592+&#45;&gt;140154802350592 -->\n<g id=\"edge1\" class=\"edge\">\n<title>140154802350592+&#45;&gt;140154802350592</title>\n<path fill=\"none\" stroke=\"black\" d=\"M640.3,-140C647.76,-140 656.38,-140 665.6,-140\"/>\n<polygon fill=\"black\" stroke=\"black\" points=\"665.83,-143.5 675.83,-140 665.83,-136.5 665.83,-143.5\"/>\n</g>\n<!-- 140154802375264 -->\n<g id=\"node3\" class=\"node\">\n<title>140154802375264</title>\n<polygon fill=\"none\" stroke=\"black\" points=\"1691,-5 1691,-41 1906,-41 1906,-5 1691,-5\"/>\n<text text-anchor=\"middle\" x=\"1701.5\" y=\"-19.3\" font-family=\"Times,serif\" font-size=\"14.00\">f</text>\n<polyline fill=\"none\" stroke=\"black\" points=\"1712,-5 1712,-41 \"/>\n<text text-anchor=\"middle\" x=\"1768\" y=\"-19.3\" font-family=\"Times,serif\" font-size=\"14.00\">data &#45;22400.0000</text>\n<polyline fill=\"none\" stroke=\"black\" points=\"1824,-5 1824,-41 \"/>\n<text text-anchor=\"middle\" x=\"1865\" y=\"-19.3\" font-family=\"Times,serif\" font-size=\"14.00\">grad 1.0000</text>\n</g>\n<!-- 140154802375264* -->\n<g id=\"node4\" class=\"node\">\n<title>140154802375264*</title>\n<ellipse fill=\"none\" stroke=\"black\" cx=\"1628\" cy=\"-23\" rx=\"27\" ry=\"18\"/>\n<text text-anchor=\"middle\" x=\"1628\" y=\"-19.3\" font-family=\"Times,serif\" font-size=\"14.00\">*</text>\n</g>\n<!-- 140154802375264*&#45;&gt;140154802375264 -->\n<g id=\"edge2\" class=\"edge\">\n<title>140154802375264*&#45;&gt;140154802375264</title>\n<path fill=\"none\" stroke=\"black\" d=\"M1655.33,-23C1662.74,-23 1671.3,-23 1680.49,-23\"/>\n<polygon fill=\"black\" stroke=\"black\" points=\"1680.67,-26.5 1690.67,-23 1680.67,-19.5 1680.67,-26.5\"/>\n</g>\n<!-- 140154802349200 -->\n<g id=\"node5\" class=\"node\">\n<title>140154802349200</title>\n<polygon fill=\"none\" stroke=\"black\" points=\"343,-122 343,-158 550,-158 550,-122 343,-122\"/>\n<text text-anchor=\"middle\" x=\"353\" y=\"-136.3\" font-family=\"Times,serif\" font-size=\"14.00\"> </text>\n<polyline fill=\"none\" stroke=\"black\" points=\"363,-122 363,-158 \"/>\n<text text-anchor=\"middle\" x=\"405.5\" y=\"-136.3\" font-family=\"Times,serif\" font-size=\"14.00\">data &#45;6.0000</text>\n<polyline fill=\"none\" stroke=\"black\" points=\"448,-122 448,-158 \"/>\n<text text-anchor=\"middle\" x=\"499\" y=\"-136.3\" font-family=\"Times,serif\" font-size=\"14.00\">grad 2800.0000</text>\n</g>\n<!-- 140154802349200&#45;&gt;140154802350592+ -->\n<g id=\"edge12\" class=\"edge\">\n<title>140154802349200&#45;&gt;140154802350592+</title>\n<path fill=\"none\" stroke=\"black\" d=\"M550.28,-140C559.3,-140 567.96,-140 575.81,-140\"/>\n<polygon fill=\"black\" stroke=\"black\" points=\"575.95,-143.5 585.95,-140 575.95,-136.5 575.95,-143.5\"/>\n</g>\n<!-- 140154802349200* -->\n<g id=\"node6\" class=\"node\">\n<title>140154802349200*</title>\n<ellipse fill=\"none\" stroke=\"black\" cx=\"280\" cy=\"-140\" rx=\"27\" ry=\"18\"/>\n<text text-anchor=\"middle\" x=\"280\" y=\"-136.3\" font-family=\"Times,serif\" font-size=\"14.00\">*</text>\n</g>\n<!-- 140154802349200*&#45;&gt;140154802349200 -->\n<g id=\"edge3\" class=\"edge\">\n<title>140154802349200*&#45;&gt;140154802349200</title>\n<path fill=\"none\" stroke=\"black\" d=\"M307.07,-140C314.66,-140 323.49,-140 332.93,-140\"/>\n<polygon fill=\"black\" stroke=\"black\" points=\"332.97,-143.5 342.97,-140 332.97,-136.5 332.97,-143.5\"/>\n</g>\n<!-- 140154802373392 -->\n<g id=\"node7\" class=\"node\">\n<title>140154802373392</title>\n<polygon fill=\"none\" stroke=\"black\" points=\"1351,-29 1351,-65 1565,-65 1565,-29 1351,-29\"/>\n<text text-anchor=\"middle\" x=\"1361\" y=\"-43.3\" font-family=\"Times,serif\" font-size=\"14.00\"> </text>\n<polyline fill=\"none\" stroke=\"black\" points=\"1371,-29 1371,-65 \"/>\n<text text-anchor=\"middle\" x=\"1423.5\" y=\"-43.3\" font-family=\"Times,serif\" font-size=\"14.00\">data &#45;2240.0000</text>\n<polyline fill=\"none\" stroke=\"black\" points=\"1476,-29 1476,-65 \"/>\n<text text-anchor=\"middle\" x=\"1520.5\" y=\"-43.3\" font-family=\"Times,serif\" font-size=\"14.00\">grad 10.0000</text>\n</g>\n<!-- 140154802373392&#45;&gt;140154802375264* -->\n<g id=\"edge13\" class=\"edge\">\n<title>140154802373392&#45;&gt;140154802375264*</title>\n<path fill=\"none\" stroke=\"black\" d=\"M1565.4,-31.8C1574.63,-30.48 1583.48,-29.22 1591.44,-28.08\"/>\n<polygon fill=\"black\" stroke=\"black\" points=\"1591.96,-31.54 1601.36,-26.66 1590.97,-24.61 1591.96,-31.54\"/>\n</g>\n<!-- 140154802373392* -->\n<g id=\"node8\" class=\"node\">\n<title>140154802373392*</title>\n<ellipse fill=\"none\" stroke=\"black\" cx=\"1288\" cy=\"-47\" rx=\"27\" ry=\"18\"/>\n<text text-anchor=\"middle\" x=\"1288\" y=\"-43.3\" font-family=\"Times,serif\" font-size=\"14.00\">*</text>\n</g>\n<!-- 140154802373392*&#45;&gt;140154802373392 -->\n<g id=\"edge4\" class=\"edge\">\n<title>140154802373392*&#45;&gt;140154802373392</title>\n<path fill=\"none\" stroke=\"black\" d=\"M1315.25,-47C1322.7,-47 1331.34,-47 1340.59,-47\"/>\n<polygon fill=\"black\" stroke=\"black\" points=\"1340.84,-50.5 1350.84,-47 1340.84,-43.5 1340.84,-50.5\"/>\n</g>\n<!-- 140154802351888 -->\n<g id=\"node9\" class=\"node\">\n<title>140154802351888</title>\n<polygon fill=\"none\" stroke=\"black\" points=\"0,-169 0,-205 217,-205 217,-169 0,-169\"/>\n<text text-anchor=\"middle\" x=\"11.5\" y=\"-183.3\" font-family=\"Times,serif\" font-size=\"14.00\">a</text>\n<polyline fill=\"none\" stroke=\"black\" points=\"23,-169 23,-205 \"/>\n<text text-anchor=\"middle\" x=\"65.5\" y=\"-183.3\" font-family=\"Times,serif\" font-size=\"14.00\">data &#45;2.0000</text>\n<polyline fill=\"none\" stroke=\"black\" points=\"108,-169 108,-205 \"/>\n<text text-anchor=\"middle\" x=\"162.5\" y=\"-183.3\" font-family=\"Times,serif\" font-size=\"14.00\">grad 10400.0000</text>\n</g>\n<!-- 140154802351888&#45;&gt;140154802350592+ -->\n<g id=\"edge21\" class=\"edge\">\n<title>140154802351888&#45;&gt;140154802350592+</title>\n<path fill=\"none\" stroke=\"black\" d=\"M174.4,-205.02C262.99,-226.13 425.02,-252.17 550,-201 568.17,-193.56 583.87,-177.94 594.93,-164.37\"/>\n<polygon fill=\"black\" stroke=\"black\" points=\"597.84,-166.33 601.2,-156.28 592.31,-162.05 597.84,-166.33\"/>\n</g>\n<!-- 140154802351888&#45;&gt;140154802349200* -->\n<g id=\"edge9\" class=\"edge\">\n<title>140154802351888&#45;&gt;140154802349200*</title>\n<path fill=\"none\" stroke=\"black\" d=\"M174.55,-168.96C198.51,-162.32 224.69,-155.06 244.85,-149.47\"/>\n<polygon fill=\"black\" stroke=\"black\" points=\"245.81,-152.84 254.51,-146.79 243.94,-146.09 245.81,-152.84\"/>\n</g>\n<!-- 140154802316624+ -->\n<g id=\"node14\" class=\"node\">\n<title>140154802316624+</title>\n<ellipse fill=\"none\" stroke=\"black\" cx=\"613\" cy=\"-85\" rx=\"27\" ry=\"18\"/>\n<text text-anchor=\"middle\" x=\"613\" y=\"-81.3\" font-family=\"Times,serif\" font-size=\"14.00\">+</text>\n</g>\n<!-- 140154802351888&#45;&gt;140154802316624+ -->\n<g id=\"edge17\" class=\"edge\">\n<title>140154802351888&#45;&gt;140154802316624+</title>\n<path fill=\"none\" stroke=\"black\" d=\"M217.12,-193.38C328.99,-198.1 495.27,-199.13 550,-168 575.39,-153.56 568,-136.01 586,-113 587.4,-111.22 588.88,-109.41 590.41,-107.62\"/>\n<polygon fill=\"black\" stroke=\"black\" points=\"593.17,-109.78 597.21,-99.99 587.94,-105.13 593.17,-109.78\"/>\n</g>\n<!-- 140154802349872 -->\n<g id=\"node10\" class=\"node\">\n<title>140154802349872</title>\n<polygon fill=\"none\" stroke=\"black\" points=\"0.5,-95 0.5,-131 216.5,-131 216.5,-95 0.5,-95\"/>\n<text text-anchor=\"middle\" x=\"12\" y=\"-109.3\" font-family=\"Times,serif\" font-size=\"14.00\">b</text>\n<polyline fill=\"none\" stroke=\"black\" points=\"23.5,-95 23.5,-131 \"/>\n<text text-anchor=\"middle\" x=\"63.5\" y=\"-109.3\" font-family=\"Times,serif\" font-size=\"14.00\">data 3.0000</text>\n<polyline fill=\"none\" stroke=\"black\" points=\"103.5,-95 103.5,-131 \"/>\n<text text-anchor=\"middle\" x=\"160\" y=\"-109.3\" font-family=\"Times,serif\" font-size=\"14.00\">grad &#45;13600.0000</text>\n</g>\n<!-- 140154802349872&#45;&gt;140154802349200* -->\n<g id=\"edge8\" class=\"edge\">\n<title>140154802349872&#45;&gt;140154802349200*</title>\n<path fill=\"none\" stroke=\"black\" d=\"M216.85,-130.1C226.26,-131.6 235.27,-133.03 243.36,-134.32\"/>\n<polygon fill=\"black\" stroke=\"black\" points=\"243.01,-137.81 253.44,-135.93 244.11,-130.9 243.01,-137.81\"/>\n</g>\n<!-- 140154802315712* -->\n<g id=\"node17\" class=\"node\">\n<title>140154802315712*</title>\n<ellipse fill=\"none\" stroke=\"black\" cx=\"280\" cy=\"-85\" rx=\"27\" ry=\"18\"/>\n<text text-anchor=\"middle\" x=\"280\" y=\"-81.3\" font-family=\"Times,serif\" font-size=\"14.00\">*</text>\n</g>\n<!-- 140154802349872&#45;&gt;140154802315712* -->\n<g id=\"edge14\" class=\"edge\">\n<title>140154802349872&#45;&gt;140154802315712*</title>\n<path fill=\"none\" stroke=\"black\" d=\"M216.85,-95.27C226.26,-93.71 235.27,-92.22 243.36,-90.89\"/>\n<polygon fill=\"black\" stroke=\"black\" points=\"244.14,-94.31 253.44,-89.22 243,-87.4 244.14,-94.31\"/>\n</g>\n<!-- 140157202024768 -->\n<g id=\"node11\" class=\"node\">\n<title>140157202024768</title>\n<polygon fill=\"none\" stroke=\"black\" points=\"1012,-67 1012,-103 1225,-103 1225,-67 1012,-67\"/>\n<text text-anchor=\"middle\" x=\"1022\" y=\"-81.3\" font-family=\"Times,serif\" font-size=\"14.00\"> </text>\n<polyline fill=\"none\" stroke=\"black\" points=\"1032,-67 1032,-103 \"/>\n<text text-anchor=\"middle\" x=\"1081\" y=\"-81.3\" font-family=\"Times,serif\" font-size=\"14.00\">data &#45;224.0000</text>\n<polyline fill=\"none\" stroke=\"black\" points=\"1130,-67 1130,-103 \"/>\n<text text-anchor=\"middle\" x=\"1177.5\" y=\"-81.3\" font-family=\"Times,serif\" font-size=\"14.00\">grad 100.0000</text>\n</g>\n<!-- 140157202024768&#45;&gt;140154802373392* -->\n<g id=\"edge18\" class=\"edge\">\n<title>140157202024768&#45;&gt;140154802373392*</title>\n<path fill=\"none\" stroke=\"black\" d=\"M1199.33,-66.89C1217.81,-62.7 1236.55,-58.45 1251.93,-54.96\"/>\n<polygon fill=\"black\" stroke=\"black\" points=\"1253.02,-58.3 1262,-52.67 1251.48,-51.47 1253.02,-58.3\"/>\n</g>\n<!-- 140157202024768*&#45;&gt;140157202024768 -->\n<g id=\"edge5\" class=\"edge\">\n<title>140157202024768*&#45;&gt;140157202024768</title>\n<path fill=\"none\" stroke=\"black\" d=\"M976.17,-85C983.6,-85 992.21,-85 1001.43,-85\"/>\n<polygon fill=\"black\" stroke=\"black\" points=\"1001.66,-88.5 1011.66,-85 1001.66,-81.5 1001.66,-88.5\"/>\n</g>\n<!-- 140154802316624 -->\n<g id=\"node13\" class=\"node\">\n<title>140154802316624</title>\n<polygon fill=\"none\" stroke=\"black\" points=\"676,-67 676,-103 886,-103 886,-67 676,-67\"/>\n<text text-anchor=\"middle\" x=\"687.5\" y=\"-81.3\" font-family=\"Times,serif\" font-size=\"14.00\">e</text>\n<polyline fill=\"none\" stroke=\"black\" points=\"699,-67 699,-103 \"/>\n<text text-anchor=\"middle\" x=\"742.5\" y=\"-81.3\" font-family=\"Times,serif\" font-size=\"14.00\">data 28.0000</text>\n<polyline fill=\"none\" stroke=\"black\" points=\"786,-67 786,-103 \"/>\n<text text-anchor=\"middle\" x=\"836\" y=\"-81.3\" font-family=\"Times,serif\" font-size=\"14.00\">grad &#45;800.0000</text>\n</g>\n<!-- 140154802316624&#45;&gt;140157202024768* -->\n<g id=\"edge20\" class=\"edge\">\n<title>140154802316624&#45;&gt;140157202024768*</title>\n<path fill=\"none\" stroke=\"black\" d=\"M886.19,-85C895.23,-85 903.92,-85 911.78,-85\"/>\n<polygon fill=\"black\" stroke=\"black\" points=\"911.93,-88.5 921.93,-85 911.93,-81.5 911.93,-88.5\"/>\n</g>\n<!-- 140154802316624+&#45;&gt;140154802316624 -->\n<g id=\"edge6\" class=\"edge\">\n<title>140154802316624+&#45;&gt;140154802316624</title>\n<path fill=\"none\" stroke=\"black\" d=\"M640.3,-85C647.76,-85 656.38,-85 665.6,-85\"/>\n<polygon fill=\"black\" stroke=\"black\" points=\"665.83,-88.5 675.83,-85 665.83,-81.5 665.83,-88.5\"/>\n</g>\n<!-- 140154802351024 -->\n<g id=\"node15\" class=\"node\">\n<title>140154802351024</title>\n<polygon fill=\"none\" stroke=\"black\" points=\"0,-20 0,-56 217,-56 217,-20 0,-20\"/>\n<text text-anchor=\"middle\" x=\"11.5\" y=\"-34.3\" font-family=\"Times,serif\" font-size=\"14.00\">c</text>\n<polyline fill=\"none\" stroke=\"black\" points=\"23,-20 23,-56 \"/>\n<text text-anchor=\"middle\" x=\"66.5\" y=\"-34.3\" font-family=\"Times,serif\" font-size=\"14.00\">data 10.0000</text>\n<polyline fill=\"none\" stroke=\"black\" points=\"110,-20 110,-56 \"/>\n<text text-anchor=\"middle\" x=\"163.5\" y=\"-34.3\" font-family=\"Times,serif\" font-size=\"14.00\">grad &#45;6880.0000</text>\n</g>\n<!-- 140154802351024&#45;&gt;140154802375264* -->\n<g id=\"edge15\" class=\"edge\">\n<title>140154802351024&#45;&gt;140154802375264*</title>\n<path fill=\"none\" stroke=\"black\" d=\"M214.71,-19.95C280.77,-10.14 367.86,0 445.5,0 445.5,0 445.5,0 1289,0 1399.37,0 1529.54,-12.36 1591.18,-18.96\"/>\n<polygon fill=\"black\" stroke=\"black\" points=\"1590.86,-22.44 1601.17,-20.04 1591.61,-15.48 1590.86,-22.44\"/>\n</g>\n<!-- 140154802351024&#45;&gt;140154802373392* -->\n<g id=\"edge19\" class=\"edge\">\n<title>140154802351024&#45;&gt;140154802373392*</title>\n<path fill=\"none\" stroke=\"black\" d=\"M217.32,-38C283.22,-38 369.23,-38 445.5,-38 445.5,-38 445.5,-38 950,-38 1059.55,-38 1189.05,-42.81 1250.77,-45.4\"/>\n<polygon fill=\"black\" stroke=\"black\" points=\"1250.65,-48.9 1260.79,-45.82 1250.95,-41.9 1250.65,-48.9\"/>\n</g>\n<!-- 140154802351024&#45;&gt;140154802315712* -->\n<g id=\"edge16\" class=\"edge\">\n<title>140154802351024&#45;&gt;140154802315712*</title>\n<path fill=\"none\" stroke=\"black\" d=\"M174.55,-56.04C198.51,-62.68 224.69,-69.94 244.85,-75.53\"/>\n<polygon fill=\"black\" stroke=\"black\" points=\"243.94,-78.91 254.51,-78.21 245.81,-72.16 243.94,-78.91\"/>\n</g>\n<!-- 140154802315712 -->\n<g id=\"node16\" class=\"node\">\n<title>140154802315712</title>\n<polygon fill=\"none\" stroke=\"black\" points=\"343,-67 343,-103 550,-103 550,-67 343,-67\"/>\n<text text-anchor=\"middle\" x=\"353\" y=\"-81.3\" font-family=\"Times,serif\" font-size=\"14.00\"> </text>\n<polyline fill=\"none\" stroke=\"black\" points=\"363,-67 363,-103 \"/>\n<text text-anchor=\"middle\" x=\"406.5\" y=\"-81.3\" font-family=\"Times,serif\" font-size=\"14.00\">data 30.0000</text>\n<polyline fill=\"none\" stroke=\"black\" points=\"450,-67 450,-103 \"/>\n<text text-anchor=\"middle\" x=\"500\" y=\"-81.3\" font-family=\"Times,serif\" font-size=\"14.00\">grad &#45;800.0000</text>\n</g>\n<!-- 140154802315712&#45;&gt;140154802316624+ -->\n<g id=\"edge10\" class=\"edge\">\n<title>140154802315712&#45;&gt;140154802316624+</title>\n<path fill=\"none\" stroke=\"black\" d=\"M550.28,-85C559.3,-85 567.96,-85 575.81,-85\"/>\n<polygon fill=\"black\" stroke=\"black\" points=\"575.95,-88.5 585.95,-85 575.95,-81.5 575.95,-88.5\"/>\n</g>\n<!-- 140154802315712*&#45;&gt;140154802315712 -->\n<g id=\"edge7\" class=\"edge\">\n<title>140154802315712*&#45;&gt;140154802315712</title>\n<path fill=\"none\" stroke=\"black\" d=\"M307.07,-85C314.66,-85 323.49,-85 332.93,-85\"/>\n<polygon fill=\"black\" stroke=\"black\" points=\"332.97,-88.5 342.97,-85 332.97,-81.5 332.97,-88.5\"/>\n</g>\n</g>\n</svg>\n"
          },
          "metadata": {},
          "execution_count": 204
        }
      ]
    },
    {
      "cell_type": "code",
      "source": [
        "# set autograd to False/True \n",
        "draw_dot(test3())"
      ],
      "metadata": {
        "colab": {
          "base_uri": "https://localhost:8080/",
          "height": 393
        },
        "id": "T1ZOc_tnAQRZ",
        "outputId": "a2afe731-76dd-434a-93e6-7d84618b295a"
      },
      "execution_count": 205,
      "outputs": [
        {
          "output_type": "execute_result",
          "data": {
            "text/plain": [
              "<graphviz.dot.Digraph at 0x7f7855355f70>"
            ],
            "image/svg+xml": "<?xml version=\"1.0\" encoding=\"UTF-8\" standalone=\"no\"?>\n<!DOCTYPE svg PUBLIC \"-//W3C//DTD SVG 1.1//EN\"\n \"http://www.w3.org/Graphics/SVG/1.1/DTD/svg11.dtd\">\n<!-- Generated by graphviz version 2.43.0 (0)\n -->\n<!-- Title: %3 Pages: 1 -->\n<svg width=\"1914pt\" height=\"264pt\"\n viewBox=\"0.00 0.00 1914.00 264.06\" xmlns=\"http://www.w3.org/2000/svg\" xmlns:xlink=\"http://www.w3.org/1999/xlink\">\n<g id=\"graph0\" class=\"graph\" transform=\"scale(1 1) rotate(0) translate(4 260.06)\">\n<title>%3</title>\n<polygon fill=\"white\" stroke=\"transparent\" points=\"-4,4 -4,-260.06 1910,-260.06 1910,4 -4,4\"/>\n<!-- 140157209938432 -->\n<g id=\"node1\" class=\"node\">\n<title>140157209938432</title>\n<polygon fill=\"none\" stroke=\"black\" points=\"0.5,-127.06 0.5,-163.06 216.5,-163.06 216.5,-127.06 0.5,-127.06\"/>\n<text text-anchor=\"middle\" x=\"12\" y=\"-141.36\" font-family=\"Times,serif\" font-size=\"14.00\">b</text>\n<polyline fill=\"none\" stroke=\"black\" points=\"23.5,-127.06 23.5,-163.06 \"/>\n<text text-anchor=\"middle\" x=\"63.5\" y=\"-141.36\" font-family=\"Times,serif\" font-size=\"14.00\">data 3.0000</text>\n<polyline fill=\"none\" stroke=\"black\" points=\"103.5,-127.06 103.5,-163.06 \"/>\n<text text-anchor=\"middle\" x=\"160\" y=\"-141.36\" font-family=\"Times,serif\" font-size=\"14.00\">grad &#45;13600.0000</text>\n</g>\n<!-- 140157209936560* -->\n<g id=\"node6\" class=\"node\">\n<title>140157209936560*</title>\n<ellipse fill=\"none\" stroke=\"black\" cx=\"280\" cy=\"-118.06\" rx=\"27\" ry=\"18\"/>\n<text text-anchor=\"middle\" x=\"280\" y=\"-114.36\" font-family=\"Times,serif\" font-size=\"14.00\">*</text>\n</g>\n<!-- 140157209938432&#45;&gt;140157209936560* -->\n<g id=\"edge15\" class=\"edge\">\n<title>140157209938432&#45;&gt;140157209936560*</title>\n<path fill=\"none\" stroke=\"black\" d=\"M216.85,-127.96C226.26,-126.47 235.27,-125.03 243.36,-123.74\"/>\n<polygon fill=\"black\" stroke=\"black\" points=\"244.11,-127.17 253.44,-122.14 243.01,-120.25 244.11,-127.17\"/>\n</g>\n<!-- 140157200574832* -->\n<g id=\"node15\" class=\"node\">\n<title>140157200574832*</title>\n<ellipse fill=\"none\" stroke=\"black\" cx=\"280\" cy=\"-172.06\" rx=\"27\" ry=\"18\"/>\n<text text-anchor=\"middle\" x=\"280\" y=\"-168.36\" font-family=\"Times,serif\" font-size=\"14.00\">*</text>\n</g>\n<!-- 140157209938432&#45;&gt;140157200574832* -->\n<g id=\"edge11\" class=\"edge\">\n<title>140157209938432&#45;&gt;140157200574832*</title>\n<path fill=\"none\" stroke=\"black\" d=\"M216.85,-162.16C226.26,-163.66 235.27,-165.1 243.36,-166.39\"/>\n<polygon fill=\"black\" stroke=\"black\" points=\"243.01,-169.88 253.44,-167.99 244.11,-162.96 243.01,-169.88\"/>\n</g>\n<!-- 140154802236048 -->\n<g id=\"node2\" class=\"node\">\n<title>140154802236048</title>\n<polygon fill=\"none\" stroke=\"black\" points=\"676,-37.06 676,-73.06 886,-73.06 886,-37.06 676,-37.06\"/>\n<text text-anchor=\"middle\" x=\"687.5\" y=\"-51.36\" font-family=\"Times,serif\" font-size=\"14.00\">d</text>\n<polyline fill=\"none\" stroke=\"black\" points=\"699,-37.06 699,-73.06 \"/>\n<text text-anchor=\"middle\" x=\"741.5\" y=\"-51.36\" font-family=\"Times,serif\" font-size=\"14.00\">data &#45;8.0000</text>\n<polyline fill=\"none\" stroke=\"black\" points=\"784,-37.06 784,-73.06 \"/>\n<text text-anchor=\"middle\" x=\"835\" y=\"-51.36\" font-family=\"Times,serif\" font-size=\"14.00\">grad 2800.0000</text>\n</g>\n<!-- 140154802362640* -->\n<g id=\"node11\" class=\"node\">\n<title>140154802362640*</title>\n<ellipse fill=\"none\" stroke=\"black\" cx=\"949\" cy=\"-126.06\" rx=\"27\" ry=\"18\"/>\n<text text-anchor=\"middle\" x=\"949\" y=\"-122.36\" font-family=\"Times,serif\" font-size=\"14.00\">*</text>\n</g>\n<!-- 140154802236048&#45;&gt;140154802362640* -->\n<g id=\"edge9\" class=\"edge\">\n<title>140154802236048&#45;&gt;140154802362640*</title>\n<path fill=\"none\" stroke=\"black\" d=\"M825.05,-73.16C843.79,-81.07 866,-90.48 886,-99.06 895.95,-103.34 906.78,-108.04 916.57,-112.3\"/>\n<polygon fill=\"black\" stroke=\"black\" points=\"915.36,-115.59 925.93,-116.39 918.16,-109.18 915.36,-115.59\"/>\n</g>\n<!-- 140154802236048+ -->\n<g id=\"node3\" class=\"node\">\n<title>140154802236048+</title>\n<ellipse fill=\"none\" stroke=\"black\" cx=\"613\" cy=\"-38.06\" rx=\"27\" ry=\"18\"/>\n<text text-anchor=\"middle\" x=\"613\" y=\"-34.36\" font-family=\"Times,serif\" font-size=\"14.00\">+</text>\n</g>\n<!-- 140154802236048+&#45;&gt;140154802236048 -->\n<g id=\"edge1\" class=\"edge\">\n<title>140154802236048+&#45;&gt;140154802236048</title>\n<path fill=\"none\" stroke=\"black\" d=\"M639.94,-40.72C647.52,-41.5 656.33,-42.4 665.77,-43.37\"/>\n<polygon fill=\"black\" stroke=\"black\" points=\"665.51,-46.86 675.81,-44.39 666.22,-39.89 665.51,-46.86\"/>\n</g>\n<!-- 140157209936032 -->\n<g id=\"node4\" class=\"node\">\n<title>140157209936032</title>\n<polygon fill=\"none\" stroke=\"black\" points=\"0,-200.06 0,-236.06 217,-236.06 217,-200.06 0,-200.06\"/>\n<text text-anchor=\"middle\" x=\"11.5\" y=\"-214.36\" font-family=\"Times,serif\" font-size=\"14.00\">c</text>\n<polyline fill=\"none\" stroke=\"black\" points=\"23,-200.06 23,-236.06 \"/>\n<text text-anchor=\"middle\" x=\"66.5\" y=\"-214.36\" font-family=\"Times,serif\" font-size=\"14.00\">data 10.0000</text>\n<polyline fill=\"none\" stroke=\"black\" points=\"110,-200.06 110,-236.06 \"/>\n<text text-anchor=\"middle\" x=\"163.5\" y=\"-214.36\" font-family=\"Times,serif\" font-size=\"14.00\">grad &#45;6880.0000</text>\n</g>\n<!-- 140154802364128* -->\n<g id=\"node8\" class=\"node\">\n<title>140154802364128*</title>\n<ellipse fill=\"none\" stroke=\"black\" cx=\"1288\" cy=\"-209.06\" rx=\"27\" ry=\"18\"/>\n<text text-anchor=\"middle\" x=\"1288\" y=\"-205.36\" font-family=\"Times,serif\" font-size=\"14.00\">*</text>\n</g>\n<!-- 140157209936032&#45;&gt;140154802364128* -->\n<g id=\"edge18\" class=\"edge\">\n<title>140157209936032&#45;&gt;140154802364128*</title>\n<path fill=\"none\" stroke=\"black\" d=\"M217.32,-218.06C283.22,-218.06 369.23,-218.06 445.5,-218.06 445.5,-218.06 445.5,-218.06 950,-218.06 1059.55,-218.06 1189.05,-213.25 1250.77,-210.67\"/>\n<polygon fill=\"black\" stroke=\"black\" points=\"1250.95,-214.16 1260.79,-210.24 1250.65,-207.17 1250.95,-214.16\"/>\n</g>\n<!-- 140154802362208* -->\n<g id=\"node13\" class=\"node\">\n<title>140154802362208*</title>\n<ellipse fill=\"none\" stroke=\"black\" cx=\"1628\" cy=\"-232.06\" rx=\"27\" ry=\"18\"/>\n<text text-anchor=\"middle\" x=\"1628\" y=\"-228.36\" font-family=\"Times,serif\" font-size=\"14.00\">*</text>\n</g>\n<!-- 140157209936032&#45;&gt;140154802362208* -->\n<g id=\"edge21\" class=\"edge\">\n<title>140157209936032&#45;&gt;140154802362208*</title>\n<path fill=\"none\" stroke=\"black\" d=\"M214.71,-236.12C280.77,-245.92 367.86,-256.06 445.5,-256.06 445.5,-256.06 445.5,-256.06 1289,-256.06 1399.39,-256.06 1529.55,-243.17 1591.19,-236.28\"/>\n<polygon fill=\"black\" stroke=\"black\" points=\"1591.64,-239.76 1601.18,-235.15 1590.85,-232.8 1591.64,-239.76\"/>\n</g>\n<!-- 140157209936032&#45;&gt;140157200574832* -->\n<g id=\"edge8\" class=\"edge\">\n<title>140157209936032&#45;&gt;140157200574832*</title>\n<path fill=\"none\" stroke=\"black\" d=\"M176,-200.02C199.54,-193.63 225.05,-186.71 244.79,-181.35\"/>\n<polygon fill=\"black\" stroke=\"black\" points=\"245.81,-184.7 254.55,-178.7 243.98,-177.94 245.81,-184.7\"/>\n</g>\n<!-- 140157209936560 -->\n<g id=\"node5\" class=\"node\">\n<title>140157209936560</title>\n<polygon fill=\"none\" stroke=\"black\" points=\"343,-20.06 343,-56.06 550,-56.06 550,-20.06 343,-20.06\"/>\n<text text-anchor=\"middle\" x=\"353\" y=\"-34.36\" font-family=\"Times,serif\" font-size=\"14.00\"> </text>\n<polyline fill=\"none\" stroke=\"black\" points=\"363,-20.06 363,-56.06 \"/>\n<text text-anchor=\"middle\" x=\"405.5\" y=\"-34.36\" font-family=\"Times,serif\" font-size=\"14.00\">data &#45;6.0000</text>\n<polyline fill=\"none\" stroke=\"black\" points=\"448,-20.06 448,-56.06 \"/>\n<text text-anchor=\"middle\" x=\"499\" y=\"-34.36\" font-family=\"Times,serif\" font-size=\"14.00\">grad 2800.0000</text>\n</g>\n<!-- 140157209936560&#45;&gt;140154802236048+ -->\n<g id=\"edge19\" class=\"edge\">\n<title>140157209936560&#45;&gt;140154802236048+</title>\n<path fill=\"none\" stroke=\"black\" d=\"M550.28,-38.06C559.3,-38.06 567.96,-38.06 575.81,-38.06\"/>\n<polygon fill=\"black\" stroke=\"black\" points=\"575.95,-41.56 585.95,-38.06 575.95,-34.56 575.95,-41.56\"/>\n</g>\n<!-- 140157209936560*&#45;&gt;140157209936560 -->\n<g id=\"edge2\" class=\"edge\">\n<title>140157209936560*&#45;&gt;140157209936560</title>\n<path fill=\"none\" stroke=\"black\" d=\"M302.17,-107.77C326.57,-95.9 367.41,-76.04 399.27,-60.55\"/>\n<polygon fill=\"black\" stroke=\"black\" points=\"400.95,-63.62 408.42,-56.1 397.89,-57.32 400.95,-63.62\"/>\n</g>\n<!-- 140154802364128 -->\n<g id=\"node7\" class=\"node\">\n<title>140154802364128</title>\n<polygon fill=\"none\" stroke=\"black\" points=\"1351,-191.06 1351,-227.06 1565,-227.06 1565,-191.06 1351,-191.06\"/>\n<text text-anchor=\"middle\" x=\"1361\" y=\"-205.36\" font-family=\"Times,serif\" font-size=\"14.00\"> </text>\n<polyline fill=\"none\" stroke=\"black\" points=\"1371,-191.06 1371,-227.06 \"/>\n<text text-anchor=\"middle\" x=\"1423.5\" y=\"-205.36\" font-family=\"Times,serif\" font-size=\"14.00\">data &#45;2240.0000</text>\n<polyline fill=\"none\" stroke=\"black\" points=\"1476,-191.06 1476,-227.06 \"/>\n<text text-anchor=\"middle\" x=\"1520.5\" y=\"-205.36\" font-family=\"Times,serif\" font-size=\"14.00\">grad 10.0000</text>\n</g>\n<!-- 140154802364128&#45;&gt;140154802362208* -->\n<g id=\"edge20\" class=\"edge\">\n<title>140154802364128&#45;&gt;140154802362208*</title>\n<path fill=\"none\" stroke=\"black\" d=\"M1565.4,-223.63C1574.63,-224.89 1583.48,-226.11 1591.44,-227.2\"/>\n<polygon fill=\"black\" stroke=\"black\" points=\"1590.98,-230.67 1601.36,-228.55 1591.93,-223.73 1590.98,-230.67\"/>\n</g>\n<!-- 140154802364128*&#45;&gt;140154802364128 -->\n<g id=\"edge3\" class=\"edge\">\n<title>140154802364128*&#45;&gt;140154802364128</title>\n<path fill=\"none\" stroke=\"black\" d=\"M1315.25,-209.06C1322.7,-209.06 1331.34,-209.06 1340.59,-209.06\"/>\n<polygon fill=\"black\" stroke=\"black\" points=\"1340.84,-212.56 1350.84,-209.06 1340.84,-205.56 1340.84,-212.56\"/>\n</g>\n<!-- 140157209937136 -->\n<g id=\"node9\" class=\"node\">\n<title>140157209937136</title>\n<polygon fill=\"none\" stroke=\"black\" points=\"0,-54.06 0,-90.06 217,-90.06 217,-54.06 0,-54.06\"/>\n<text text-anchor=\"middle\" x=\"11.5\" y=\"-68.36\" font-family=\"Times,serif\" font-size=\"14.00\">a</text>\n<polyline fill=\"none\" stroke=\"black\" points=\"23,-54.06 23,-90.06 \"/>\n<text text-anchor=\"middle\" x=\"65.5\" y=\"-68.36\" font-family=\"Times,serif\" font-size=\"14.00\">data &#45;2.0000</text>\n<polyline fill=\"none\" stroke=\"black\" points=\"108,-54.06 108,-90.06 \"/>\n<text text-anchor=\"middle\" x=\"162.5\" y=\"-68.36\" font-family=\"Times,serif\" font-size=\"14.00\">grad 10400.0000</text>\n</g>\n<!-- 140157209937136&#45;&gt;140154802236048+ -->\n<g id=\"edge16\" class=\"edge\">\n<title>140157209937136&#45;&gt;140154802236048+</title>\n<path fill=\"none\" stroke=\"black\" d=\"M158.47,-54.02C240.21,-26.38 409.38,20.22 550,-10.06 561.2,-12.48 572.81,-17.08 582.92,-21.87\"/>\n<polygon fill=\"black\" stroke=\"black\" points=\"581.57,-25.11 592.08,-26.45 584.71,-18.85 581.57,-25.11\"/>\n</g>\n<!-- 140157209937136&#45;&gt;140157209936560* -->\n<g id=\"edge10\" class=\"edge\">\n<title>140157209937136&#45;&gt;140157209936560*</title>\n<path fill=\"none\" stroke=\"black\" d=\"M176,-90.11C199.54,-96.5 225.05,-103.42 244.79,-108.78\"/>\n<polygon fill=\"black\" stroke=\"black\" points=\"243.98,-112.19 254.55,-111.43 245.81,-105.43 243.98,-112.19\"/>\n</g>\n<!-- 140157200574880+ -->\n<g id=\"node17\" class=\"node\">\n<title>140157200574880+</title>\n<ellipse fill=\"none\" stroke=\"black\" cx=\"613\" cy=\"-126.06\" rx=\"27\" ry=\"18\"/>\n<text text-anchor=\"middle\" x=\"613\" y=\"-122.36\" font-family=\"Times,serif\" font-size=\"14.00\">+</text>\n</g>\n<!-- 140157209937136&#45;&gt;140157200574880+ -->\n<g id=\"edge13\" class=\"edge\">\n<title>140157209937136&#45;&gt;140157200574880+</title>\n<path fill=\"none\" stroke=\"black\" d=\"M217.16,-82.06C246.33,-84.87 277.88,-87.99 307,-91.06 404.55,-101.35 519.48,-114.94 576.38,-121.76\"/>\n<polygon fill=\"black\" stroke=\"black\" points=\"575.96,-125.24 586.31,-122.95 576.8,-118.29 575.96,-125.24\"/>\n</g>\n<!-- 140154802362640 -->\n<g id=\"node10\" class=\"node\">\n<title>140154802362640</title>\n<polygon fill=\"none\" stroke=\"black\" points=\"1012,-131.06 1012,-167.06 1225,-167.06 1225,-131.06 1012,-131.06\"/>\n<text text-anchor=\"middle\" x=\"1022\" y=\"-145.36\" font-family=\"Times,serif\" font-size=\"14.00\"> </text>\n<polyline fill=\"none\" stroke=\"black\" points=\"1032,-131.06 1032,-167.06 \"/>\n<text text-anchor=\"middle\" x=\"1081\" y=\"-145.36\" font-family=\"Times,serif\" font-size=\"14.00\">data &#45;224.0000</text>\n<polyline fill=\"none\" stroke=\"black\" points=\"1130,-131.06 1130,-167.06 \"/>\n<text text-anchor=\"middle\" x=\"1177.5\" y=\"-145.36\" font-family=\"Times,serif\" font-size=\"14.00\">grad 100.0000</text>\n</g>\n<!-- 140154802362640&#45;&gt;140154802364128* -->\n<g id=\"edge17\" class=\"edge\">\n<title>140154802362640&#45;&gt;140154802364128*</title>\n<path fill=\"none\" stroke=\"black\" d=\"M1169.76,-167.07C1197.07,-176.85 1230.09,-188.68 1254.11,-197.28\"/>\n<polygon fill=\"black\" stroke=\"black\" points=\"1253.22,-200.68 1263.81,-200.76 1255.58,-194.09 1253.22,-200.68\"/>\n</g>\n<!-- 140154802362640*&#45;&gt;140154802362640 -->\n<g id=\"edge4\" class=\"edge\">\n<title>140154802362640*&#45;&gt;140154802362640</title>\n<path fill=\"none\" stroke=\"black\" d=\"M975.8,-129.61C983.43,-130.65 992.32,-131.87 1001.85,-133.18\"/>\n<polygon fill=\"black\" stroke=\"black\" points=\"1001.62,-136.68 1012,-134.58 1002.57,-129.75 1001.62,-136.68\"/>\n</g>\n<!-- 140154802362208 -->\n<g id=\"node12\" class=\"node\">\n<title>140154802362208</title>\n<polygon fill=\"none\" stroke=\"black\" points=\"1691,-214.06 1691,-250.06 1906,-250.06 1906,-214.06 1691,-214.06\"/>\n<text text-anchor=\"middle\" x=\"1701.5\" y=\"-228.36\" font-family=\"Times,serif\" font-size=\"14.00\">f</text>\n<polyline fill=\"none\" stroke=\"black\" points=\"1712,-214.06 1712,-250.06 \"/>\n<text text-anchor=\"middle\" x=\"1768\" y=\"-228.36\" font-family=\"Times,serif\" font-size=\"14.00\">data &#45;22400.0000</text>\n<polyline fill=\"none\" stroke=\"black\" points=\"1824,-214.06 1824,-250.06 \"/>\n<text text-anchor=\"middle\" x=\"1865\" y=\"-228.36\" font-family=\"Times,serif\" font-size=\"14.00\">grad 1.0000</text>\n</g>\n<!-- 140154802362208*&#45;&gt;140154802362208 -->\n<g id=\"edge5\" class=\"edge\">\n<title>140154802362208*&#45;&gt;140154802362208</title>\n<path fill=\"none\" stroke=\"black\" d=\"M1655.33,-232.06C1662.74,-232.06 1671.3,-232.06 1680.49,-232.06\"/>\n<polygon fill=\"black\" stroke=\"black\" points=\"1680.67,-235.56 1690.67,-232.06 1680.67,-228.56 1680.67,-235.56\"/>\n</g>\n<!-- 140157200574832 -->\n<g id=\"node14\" class=\"node\">\n<title>140157200574832</title>\n<polygon fill=\"none\" stroke=\"black\" points=\"343,-140.06 343,-176.06 550,-176.06 550,-140.06 343,-140.06\"/>\n<text text-anchor=\"middle\" x=\"353\" y=\"-154.36\" font-family=\"Times,serif\" font-size=\"14.00\"> </text>\n<polyline fill=\"none\" stroke=\"black\" points=\"363,-140.06 363,-176.06 \"/>\n<text text-anchor=\"middle\" x=\"406.5\" y=\"-154.36\" font-family=\"Times,serif\" font-size=\"14.00\">data 30.0000</text>\n<polyline fill=\"none\" stroke=\"black\" points=\"450,-140.06 450,-176.06 \"/>\n<text text-anchor=\"middle\" x=\"500\" y=\"-154.36\" font-family=\"Times,serif\" font-size=\"14.00\">grad &#45;800.0000</text>\n</g>\n<!-- 140157200574832&#45;&gt;140157200574880+ -->\n<g id=\"edge14\" class=\"edge\">\n<title>140157200574832&#45;&gt;140157200574880+</title>\n<path fill=\"none\" stroke=\"black\" d=\"M540.33,-140.01C553.36,-137.47 566.03,-135.01 577.01,-132.87\"/>\n<polygon fill=\"black\" stroke=\"black\" points=\"577.82,-136.28 586.97,-130.93 576.48,-129.41 577.82,-136.28\"/>\n</g>\n<!-- 140157200574832*&#45;&gt;140157200574832 -->\n<g id=\"edge6\" class=\"edge\">\n<title>140157200574832*&#45;&gt;140157200574832</title>\n<path fill=\"none\" stroke=\"black\" d=\"M307.07,-169.85C314.66,-169.2 323.49,-168.45 332.93,-167.64\"/>\n<polygon fill=\"black\" stroke=\"black\" points=\"333.3,-171.13 342.97,-166.79 332.71,-164.15 333.3,-171.13\"/>\n</g>\n<!-- 140157200574880 -->\n<g id=\"node16\" class=\"node\">\n<title>140157200574880</title>\n<polygon fill=\"none\" stroke=\"black\" points=\"676,-108.06 676,-144.06 886,-144.06 886,-108.06 676,-108.06\"/>\n<text text-anchor=\"middle\" x=\"687.5\" y=\"-122.36\" font-family=\"Times,serif\" font-size=\"14.00\">e</text>\n<polyline fill=\"none\" stroke=\"black\" points=\"699,-108.06 699,-144.06 \"/>\n<text text-anchor=\"middle\" x=\"742.5\" y=\"-122.36\" font-family=\"Times,serif\" font-size=\"14.00\">data 28.0000</text>\n<polyline fill=\"none\" stroke=\"black\" points=\"786,-108.06 786,-144.06 \"/>\n<text text-anchor=\"middle\" x=\"836\" y=\"-122.36\" font-family=\"Times,serif\" font-size=\"14.00\">grad &#45;800.0000</text>\n</g>\n<!-- 140157200574880&#45;&gt;140154802362640* -->\n<g id=\"edge12\" class=\"edge\">\n<title>140157200574880&#45;&gt;140154802362640*</title>\n<path fill=\"none\" stroke=\"black\" d=\"M886.19,-126.06C895.23,-126.06 903.92,-126.06 911.78,-126.06\"/>\n<polygon fill=\"black\" stroke=\"black\" points=\"911.93,-129.56 921.93,-126.06 911.93,-122.56 911.93,-129.56\"/>\n</g>\n<!-- 140157200574880+&#45;&gt;140157200574880 -->\n<g id=\"edge7\" class=\"edge\">\n<title>140157200574880+&#45;&gt;140157200574880</title>\n<path fill=\"none\" stroke=\"black\" d=\"M640.3,-126.06C647.76,-126.06 656.38,-126.06 665.6,-126.06\"/>\n<polygon fill=\"black\" stroke=\"black\" points=\"665.83,-129.56 675.83,-126.06 665.83,-122.56 665.83,-129.56\"/>\n</g>\n</g>\n</svg>\n"
          },
          "metadata": {},
          "execution_count": 205
        }
      ]
    },
    {
      "cell_type": "markdown",
      "source": [
        "# Playing with Division & Power Operations"
      ],
      "metadata": {
        "id": "ptEBwCB_LkM1"
      }
    },
    {
      "cell_type": "code",
      "source": [
        "def build_graph_tanh():\n",
        "  # inputs\n",
        "  x1 = Value(2.0, label='x1')\n",
        "  x2 = Value(0.0, label='x2')\n",
        "\n",
        "  # weights\n",
        "  w1 = Value(-3.0, label='w1')\n",
        "  w2 = Value(1.0, label='w2')\n",
        "\n",
        "  # bias\n",
        "  b = Value(6.8813735870195432, label='b')\n",
        "\n",
        "  # weights x inputs\n",
        "  x1w1 = x1 * w1; x1w1.label = 'x1*w1'\n",
        "  x2w2 = x2 * w2; x2w2.label = 'x2*w2'\n",
        "\n",
        "  # dot product\n",
        "  x1w1x2w2 = x1w1 + x2w2; x1w1x2w2.label = 'x1*w1 + x2*w2'\n",
        "\n",
        "  # adding the bias\n",
        "  n = x1w1x2w2 + b; n.label = 'n'\n",
        "\n",
        "  # implement tanh expression exactly...\n",
        "  # (e^2x - 1) / (e^2x + 1)\n",
        "  e = (2 * n).exp(); e.label = 'e'\n",
        "  o = (e - 1) / (e + 1)\n",
        "  o.label = 'o'\n",
        "\n",
        "  return o"
      ],
      "metadata": {
        "id": "YVJrFuN1MFWL"
      },
      "execution_count": 206,
      "outputs": []
    },
    {
      "cell_type": "code",
      "source": [
        "o = build_graph()\n",
        "o.backward()\n",
        "draw_dot(o)"
      ],
      "metadata": {
        "colab": {
          "base_uri": "https://localhost:8080/",
          "height": 321
        },
        "id": "oICk6X9mEWtz",
        "outputId": "10d32499-64bd-4565-f2f3-3392d411ded2"
      },
      "execution_count": 207,
      "outputs": [
        {
          "output_type": "execute_result",
          "data": {
            "text/plain": [
              "<graphviz.dot.Digraph at 0x7f7855358d30>"
            ],
            "image/svg+xml": "<?xml version=\"1.0\" encoding=\"UTF-8\" standalone=\"no\"?>\n<!DOCTYPE svg PUBLIC \"-//W3C//DTD SVG 1.1//EN\"\n \"http://www.w3.org/Graphics/SVG/1.1/DTD/svg11.dtd\">\n<!-- Generated by graphviz version 2.43.0 (0)\n -->\n<!-- Title: %3 Pages: 1 -->\n<svg width=\"1575pt\" height=\"210pt\"\n viewBox=\"0.00 0.00 1575.00 210.00\" xmlns=\"http://www.w3.org/2000/svg\" xmlns:xlink=\"http://www.w3.org/1999/xlink\">\n<g id=\"graph0\" class=\"graph\" transform=\"scale(1 1) rotate(0) translate(4 206)\">\n<title>%3</title>\n<polygon fill=\"white\" stroke=\"transparent\" points=\"-4,4 -4,-206 1571,-206 1571,4 -4,4\"/>\n<!-- 140154802349632 -->\n<g id=\"node1\" class=\"node\">\n<title>140154802349632</title>\n<polygon fill=\"none\" stroke=\"black\" points=\"4,-165.5 4,-201.5 196,-201.5 196,-165.5 4,-165.5\"/>\n<text text-anchor=\"middle\" x=\"19\" y=\"-179.8\" font-family=\"Times,serif\" font-size=\"14.00\">x2</text>\n<polyline fill=\"none\" stroke=\"black\" points=\"34,-165.5 34,-201.5 \"/>\n<text text-anchor=\"middle\" x=\"74\" y=\"-179.8\" font-family=\"Times,serif\" font-size=\"14.00\">data 0.0000</text>\n<polyline fill=\"none\" stroke=\"black\" points=\"114,-165.5 114,-201.5 \"/>\n<text text-anchor=\"middle\" x=\"155\" y=\"-179.8\" font-family=\"Times,serif\" font-size=\"14.00\">grad 0.5000</text>\n</g>\n<!-- 140154802348288* -->\n<g id=\"node9\" class=\"node\">\n<title>140154802348288*</title>\n<ellipse fill=\"none\" stroke=\"black\" cx=\"263\" cy=\"-128.5\" rx=\"27\" ry=\"18\"/>\n<text text-anchor=\"middle\" x=\"263\" y=\"-124.8\" font-family=\"Times,serif\" font-size=\"14.00\">*</text>\n</g>\n<!-- 140154802349632&#45;&gt;140154802348288* -->\n<g id=\"edge8\" class=\"edge\">\n<title>140154802349632&#45;&gt;140154802348288*</title>\n<path fill=\"none\" stroke=\"black\" d=\"M172.53,-165.44C181.84,-162.67 191.2,-159.67 200,-156.5 210.53,-152.71 221.75,-147.9 231.72,-143.33\"/>\n<polygon fill=\"black\" stroke=\"black\" points=\"233.25,-146.48 240.82,-139.07 230.28,-140.14 233.25,-146.48\"/>\n</g>\n<!-- 140154802349152 -->\n<g id=\"node2\" class=\"node\">\n<title>140154802349152</title>\n<polygon fill=\"none\" stroke=\"black\" points=\"0,-55.5 0,-91.5 200,-91.5 200,-55.5 0,-55.5\"/>\n<text text-anchor=\"middle\" x=\"16.5\" y=\"-69.8\" font-family=\"Times,serif\" font-size=\"14.00\">w1</text>\n<polyline fill=\"none\" stroke=\"black\" points=\"33,-55.5 33,-91.5 \"/>\n<text text-anchor=\"middle\" x=\"75.5\" y=\"-69.8\" font-family=\"Times,serif\" font-size=\"14.00\">data &#45;3.0000</text>\n<polyline fill=\"none\" stroke=\"black\" points=\"118,-55.5 118,-91.5 \"/>\n<text text-anchor=\"middle\" x=\"159\" y=\"-69.8\" font-family=\"Times,serif\" font-size=\"14.00\">grad 1.0000</text>\n</g>\n<!-- 140154802350352* -->\n<g id=\"node11\" class=\"node\">\n<title>140154802350352*</title>\n<ellipse fill=\"none\" stroke=\"black\" cx=\"263\" cy=\"-73.5\" rx=\"27\" ry=\"18\"/>\n<text text-anchor=\"middle\" x=\"263\" y=\"-69.8\" font-family=\"Times,serif\" font-size=\"14.00\">*</text>\n</g>\n<!-- 140154802349152&#45;&gt;140154802350352* -->\n<g id=\"edge10\" class=\"edge\">\n<title>140154802349152&#45;&gt;140154802350352*</title>\n<path fill=\"none\" stroke=\"black\" d=\"M200.21,-73.5C209.2,-73.5 217.86,-73.5 225.7,-73.5\"/>\n<polygon fill=\"black\" stroke=\"black\" points=\"225.85,-77 235.85,-73.5 225.85,-70 225.85,-77\"/>\n</g>\n<!-- 140154802374352 -->\n<g id=\"node3\" class=\"node\">\n<title>140154802374352</title>\n<polygon fill=\"none\" stroke=\"black\" points=\"1382,-54.5 1382,-90.5 1567,-90.5 1567,-54.5 1382,-54.5\"/>\n<text text-anchor=\"middle\" x=\"1393.5\" y=\"-68.8\" font-family=\"Times,serif\" font-size=\"14.00\">o</text>\n<polyline fill=\"none\" stroke=\"black\" points=\"1405,-54.5 1405,-90.5 \"/>\n<text text-anchor=\"middle\" x=\"1445\" y=\"-68.8\" font-family=\"Times,serif\" font-size=\"14.00\">data 0.7071</text>\n<polyline fill=\"none\" stroke=\"black\" points=\"1485,-54.5 1485,-90.5 \"/>\n<text text-anchor=\"middle\" x=\"1526\" y=\"-68.8\" font-family=\"Times,serif\" font-size=\"14.00\">grad 1.0000</text>\n</g>\n<!-- 140154802374352tanh -->\n<g id=\"node4\" class=\"node\">\n<title>140154802374352tanh</title>\n<ellipse fill=\"none\" stroke=\"black\" cx=\"1319\" cy=\"-72.5\" rx=\"27\" ry=\"18\"/>\n<text text-anchor=\"middle\" x=\"1319\" y=\"-68.8\" font-family=\"Times,serif\" font-size=\"14.00\">tanh</text>\n</g>\n<!-- 140154802374352tanh&#45;&gt;140154802374352 -->\n<g id=\"edge1\" class=\"edge\">\n<title>140154802374352tanh&#45;&gt;140154802374352</title>\n<path fill=\"none\" stroke=\"black\" d=\"M1346.04,-72.5C1353.58,-72.5 1362.3,-72.5 1371.57,-72.5\"/>\n<polygon fill=\"black\" stroke=\"black\" points=\"1371.81,-76 1381.81,-72.5 1371.81,-69 1371.81,-76\"/>\n</g>\n<!-- 140154802350832 -->\n<g id=\"node5\" class=\"node\">\n<title>140154802350832</title>\n<polygon fill=\"none\" stroke=\"black\" points=\"716,-27.5 716,-63.5 901,-63.5 901,-27.5 716,-27.5\"/>\n<text text-anchor=\"middle\" x=\"727.5\" y=\"-41.8\" font-family=\"Times,serif\" font-size=\"14.00\">b</text>\n<polyline fill=\"none\" stroke=\"black\" points=\"739,-27.5 739,-63.5 \"/>\n<text text-anchor=\"middle\" x=\"779\" y=\"-41.8\" font-family=\"Times,serif\" font-size=\"14.00\">data 6.8814</text>\n<polyline fill=\"none\" stroke=\"black\" points=\"819,-27.5 819,-63.5 \"/>\n<text text-anchor=\"middle\" x=\"860\" y=\"-41.8\" font-family=\"Times,serif\" font-size=\"14.00\">grad 0.5000</text>\n</g>\n<!-- 140154802373440+ -->\n<g id=\"node14\" class=\"node\">\n<title>140154802373440+</title>\n<ellipse fill=\"none\" stroke=\"black\" cx=\"1008\" cy=\"-72.5\" rx=\"27\" ry=\"18\"/>\n<text text-anchor=\"middle\" x=\"1008\" y=\"-68.8\" font-family=\"Times,serif\" font-size=\"14.00\">+</text>\n</g>\n<!-- 140154802350832&#45;&gt;140154802373440+ -->\n<g id=\"edge11\" class=\"edge\">\n<title>140154802350832&#45;&gt;140154802373440+</title>\n<path fill=\"none\" stroke=\"black\" d=\"M901.02,-58.01C926,-61.43 951.59,-64.93 971.37,-67.63\"/>\n<polygon fill=\"black\" stroke=\"black\" points=\"971.05,-71.12 981.43,-69.01 972,-64.18 971.05,-71.12\"/>\n</g>\n<!-- 140154802374400 -->\n<g id=\"node6\" class=\"node\">\n<title>140154802374400</title>\n<polygon fill=\"none\" stroke=\"black\" points=\"672,-82.5 672,-118.5 945,-118.5 945,-82.5 672,-82.5\"/>\n<text text-anchor=\"middle\" x=\"725\" y=\"-96.8\" font-family=\"Times,serif\" font-size=\"14.00\">x1*w1 + x2*w2</text>\n<polyline fill=\"none\" stroke=\"black\" points=\"778,-82.5 778,-118.5 \"/>\n<text text-anchor=\"middle\" x=\"820.5\" y=\"-96.8\" font-family=\"Times,serif\" font-size=\"14.00\">data &#45;6.0000</text>\n<polyline fill=\"none\" stroke=\"black\" points=\"863,-82.5 863,-118.5 \"/>\n<text text-anchor=\"middle\" x=\"904\" y=\"-96.8\" font-family=\"Times,serif\" font-size=\"14.00\">grad 0.5000</text>\n</g>\n<!-- 140154802374400&#45;&gt;140154802373440+ -->\n<g id=\"edge9\" class=\"edge\">\n<title>140154802374400&#45;&gt;140154802373440+</title>\n<path fill=\"none\" stroke=\"black\" d=\"M936.53,-82.49C949.09,-80.71 960.99,-79.02 971.3,-77.56\"/>\n<polygon fill=\"black\" stroke=\"black\" points=\"972.03,-80.99 981.44,-76.12 971.05,-74.06 972.03,-80.99\"/>\n</g>\n<!-- 140154802374400+ -->\n<g id=\"node7\" class=\"node\">\n<title>140154802374400+</title>\n<ellipse fill=\"none\" stroke=\"black\" cx=\"609\" cy=\"-100.5\" rx=\"27\" ry=\"18\"/>\n<text text-anchor=\"middle\" x=\"609\" y=\"-96.8\" font-family=\"Times,serif\" font-size=\"14.00\">+</text>\n</g>\n<!-- 140154802374400+&#45;&gt;140154802374400 -->\n<g id=\"edge2\" class=\"edge\">\n<title>140154802374400+&#45;&gt;140154802374400</title>\n<path fill=\"none\" stroke=\"black\" d=\"M636.23,-100.5C643.7,-100.5 652.41,-100.5 661.87,-100.5\"/>\n<polygon fill=\"black\" stroke=\"black\" points=\"661.98,-104 671.98,-100.5 661.98,-97 661.98,-104\"/>\n</g>\n<!-- 140154802348288 -->\n<g id=\"node8\" class=\"node\">\n<title>140154802348288</title>\n<polygon fill=\"none\" stroke=\"black\" points=\"328.5,-110.5 328.5,-146.5 543.5,-146.5 543.5,-110.5 328.5,-110.5\"/>\n<text text-anchor=\"middle\" x=\"355\" y=\"-124.8\" font-family=\"Times,serif\" font-size=\"14.00\">x2*w2</text>\n<polyline fill=\"none\" stroke=\"black\" points=\"381.5,-110.5 381.5,-146.5 \"/>\n<text text-anchor=\"middle\" x=\"421.5\" y=\"-124.8\" font-family=\"Times,serif\" font-size=\"14.00\">data 0.0000</text>\n<polyline fill=\"none\" stroke=\"black\" points=\"461.5,-110.5 461.5,-146.5 \"/>\n<text text-anchor=\"middle\" x=\"502.5\" y=\"-124.8\" font-family=\"Times,serif\" font-size=\"14.00\">grad 0.5000</text>\n</g>\n<!-- 140154802348288&#45;&gt;140154802374400+ -->\n<g id=\"edge6\" class=\"edge\">\n<title>140154802348288&#45;&gt;140154802374400+</title>\n<path fill=\"none\" stroke=\"black\" d=\"M543.84,-111.01C554.01,-109.34 563.76,-107.74 572.44,-106.32\"/>\n<polygon fill=\"black\" stroke=\"black\" points=\"573.17,-109.75 582.47,-104.68 572.04,-102.84 573.17,-109.75\"/>\n</g>\n<!-- 140154802348288*&#45;&gt;140154802348288 -->\n<g id=\"edge3\" class=\"edge\">\n<title>140154802348288*&#45;&gt;140154802348288</title>\n<path fill=\"none\" stroke=\"black\" d=\"M290.34,-128.5C298.51,-128.5 308.08,-128.5 318.36,-128.5\"/>\n<polygon fill=\"black\" stroke=\"black\" points=\"318.39,-132 328.39,-128.5 318.39,-125 318.39,-132\"/>\n</g>\n<!-- 140154802350352 -->\n<g id=\"node10\" class=\"node\">\n<title>140154802350352</title>\n<polygon fill=\"none\" stroke=\"black\" points=\"326,-55.5 326,-91.5 546,-91.5 546,-55.5 326,-55.5\"/>\n<text text-anchor=\"middle\" x=\"352.5\" y=\"-69.8\" font-family=\"Times,serif\" font-size=\"14.00\">x1*w1</text>\n<polyline fill=\"none\" stroke=\"black\" points=\"379,-55.5 379,-91.5 \"/>\n<text text-anchor=\"middle\" x=\"421.5\" y=\"-69.8\" font-family=\"Times,serif\" font-size=\"14.00\">data &#45;6.0000</text>\n<polyline fill=\"none\" stroke=\"black\" points=\"464,-55.5 464,-91.5 \"/>\n<text text-anchor=\"middle\" x=\"505\" y=\"-69.8\" font-family=\"Times,serif\" font-size=\"14.00\">grad 0.5000</text>\n</g>\n<!-- 140154802350352&#45;&gt;140154802374400+ -->\n<g id=\"edge7\" class=\"edge\">\n<title>140154802350352&#45;&gt;140154802374400+</title>\n<path fill=\"none\" stroke=\"black\" d=\"M546.27,-90.75C555.64,-92.23 564.6,-93.65 572.65,-94.92\"/>\n<polygon fill=\"black\" stroke=\"black\" points=\"572.23,-98.4 582.65,-96.5 573.32,-91.48 572.23,-98.4\"/>\n</g>\n<!-- 140154802350352*&#45;&gt;140154802350352 -->\n<g id=\"edge4\" class=\"edge\">\n<title>140154802350352*&#45;&gt;140154802350352</title>\n<path fill=\"none\" stroke=\"black\" d=\"M290.34,-73.5C297.77,-73.5 306.37,-73.5 315.6,-73.5\"/>\n<polygon fill=\"black\" stroke=\"black\" points=\"315.84,-77 325.84,-73.5 315.84,-70 315.84,-77\"/>\n</g>\n<!-- 140154802349824 -->\n<g id=\"node12\" class=\"node\">\n<title>140154802349824</title>\n<polygon fill=\"none\" stroke=\"black\" points=\"2,-0.5 2,-36.5 198,-36.5 198,-0.5 2,-0.5\"/>\n<text text-anchor=\"middle\" x=\"17\" y=\"-14.8\" font-family=\"Times,serif\" font-size=\"14.00\">x1</text>\n<polyline fill=\"none\" stroke=\"black\" points=\"32,-0.5 32,-36.5 \"/>\n<text text-anchor=\"middle\" x=\"72\" y=\"-14.8\" font-family=\"Times,serif\" font-size=\"14.00\">data 2.0000</text>\n<polyline fill=\"none\" stroke=\"black\" points=\"112,-0.5 112,-36.5 \"/>\n<text text-anchor=\"middle\" x=\"155\" y=\"-14.8\" font-family=\"Times,serif\" font-size=\"14.00\">grad &#45;1.5000</text>\n</g>\n<!-- 140154802349824&#45;&gt;140154802350352* -->\n<g id=\"edge13\" class=\"edge\">\n<title>140154802349824&#45;&gt;140154802350352*</title>\n<path fill=\"none\" stroke=\"black\" d=\"M169.28,-36.5C179.65,-39.61 190.16,-42.98 200,-46.5 210.28,-50.17 221.28,-54.74 231.11,-59.07\"/>\n<polygon fill=\"black\" stroke=\"black\" points=\"229.93,-62.37 240.48,-63.27 232.79,-55.99 229.93,-62.37\"/>\n</g>\n<!-- 140154802373440 -->\n<g id=\"node13\" class=\"node\">\n<title>140154802373440</title>\n<polygon fill=\"none\" stroke=\"black\" points=\"1071,-54.5 1071,-90.5 1256,-90.5 1256,-54.5 1071,-54.5\"/>\n<text text-anchor=\"middle\" x=\"1082.5\" y=\"-68.8\" font-family=\"Times,serif\" font-size=\"14.00\">n</text>\n<polyline fill=\"none\" stroke=\"black\" points=\"1094,-54.5 1094,-90.5 \"/>\n<text text-anchor=\"middle\" x=\"1134\" y=\"-68.8\" font-family=\"Times,serif\" font-size=\"14.00\">data 0.8814</text>\n<polyline fill=\"none\" stroke=\"black\" points=\"1174,-54.5 1174,-90.5 \"/>\n<text text-anchor=\"middle\" x=\"1215\" y=\"-68.8\" font-family=\"Times,serif\" font-size=\"14.00\">grad 0.5000</text>\n</g>\n<!-- 140154802373440&#45;&gt;140154802374352tanh -->\n<g id=\"edge14\" class=\"edge\">\n<title>140154802373440&#45;&gt;140154802374352tanh</title>\n<path fill=\"none\" stroke=\"black\" d=\"M1256.01,-72.5C1265.01,-72.5 1273.74,-72.5 1281.66,-72.5\"/>\n<polygon fill=\"black\" stroke=\"black\" points=\"1281.91,-76 1291.91,-72.5 1281.91,-69 1281.91,-76\"/>\n</g>\n<!-- 140154802373440+&#45;&gt;140154802373440 -->\n<g id=\"edge5\" class=\"edge\">\n<title>140154802373440+&#45;&gt;140154802373440</title>\n<path fill=\"none\" stroke=\"black\" d=\"M1035.04,-72.5C1042.58,-72.5 1051.3,-72.5 1060.57,-72.5\"/>\n<polygon fill=\"black\" stroke=\"black\" points=\"1060.81,-76 1070.81,-72.5 1060.81,-69 1060.81,-76\"/>\n</g>\n<!-- 140154802351552 -->\n<g id=\"node15\" class=\"node\">\n<title>140154802351552</title>\n<polygon fill=\"none\" stroke=\"black\" points=\"2.5,-110.5 2.5,-146.5 197.5,-146.5 197.5,-110.5 2.5,-110.5\"/>\n<text text-anchor=\"middle\" x=\"19\" y=\"-124.8\" font-family=\"Times,serif\" font-size=\"14.00\">w2</text>\n<polyline fill=\"none\" stroke=\"black\" points=\"35.5,-110.5 35.5,-146.5 \"/>\n<text text-anchor=\"middle\" x=\"75.5\" y=\"-124.8\" font-family=\"Times,serif\" font-size=\"14.00\">data 1.0000</text>\n<polyline fill=\"none\" stroke=\"black\" points=\"115.5,-110.5 115.5,-146.5 \"/>\n<text text-anchor=\"middle\" x=\"156.5\" y=\"-124.8\" font-family=\"Times,serif\" font-size=\"14.00\">grad 0.0000</text>\n</g>\n<!-- 140154802351552&#45;&gt;140154802348288* -->\n<g id=\"edge12\" class=\"edge\">\n<title>140154802351552&#45;&gt;140154802348288*</title>\n<path fill=\"none\" stroke=\"black\" d=\"M197.91,-128.5C207.65,-128.5 217.05,-128.5 225.52,-128.5\"/>\n<polygon fill=\"black\" stroke=\"black\" points=\"225.7,-132 235.7,-128.5 225.7,-125 225.7,-132\"/>\n</g>\n</g>\n</svg>\n"
          },
          "metadata": {},
          "execution_count": 207
        }
      ]
    },
    {
      "cell_type": "code",
      "source": [
        "o = build_graph_tanh()\n",
        "o.backward()\n",
        "draw_dot(o)"
      ],
      "metadata": {
        "colab": {
          "base_uri": "https://localhost:8080/",
          "height": 356
        },
        "id": "TtK0hpCPLqaN",
        "outputId": "e2b2c9d3-90d8-4dc5-c5d3-bdefdac5d53b"
      },
      "execution_count": 208,
      "outputs": [
        {
          "output_type": "execute_result",
          "data": {
            "text/plain": [
              "<graphviz.dot.Digraph at 0x7f78552f2640>"
            ],
            "image/svg+xml": "<?xml version=\"1.0\" encoding=\"UTF-8\" standalone=\"no\"?>\n<!DOCTYPE svg PUBLIC \"-//W3C//DTD SVG 1.1//EN\"\n \"http://www.w3.org/Graphics/SVG/1.1/DTD/svg11.dtd\">\n<!-- Generated by graphviz version 2.43.0 (0)\n -->\n<!-- Title: %3 Pages: 1 -->\n<svg width=\"2952pt\" height=\"236pt\"\n viewBox=\"0.00 0.00 2952.00 236.00\" xmlns=\"http://www.w3.org/2000/svg\" xmlns:xlink=\"http://www.w3.org/1999/xlink\">\n<g id=\"graph0\" class=\"graph\" transform=\"scale(1 1) rotate(0) translate(4 232)\">\n<title>%3</title>\n<polygon fill=\"white\" stroke=\"transparent\" points=\"-4,4 -4,-232 2948,-232 2948,4 -4,4\"/>\n<!-- 140154801955840 -->\n<g id=\"node1\" class=\"node\">\n<title>140154801955840</title>\n<polygon fill=\"none\" stroke=\"black\" points=\"1071,-164.5 1071,-200.5 1256,-200.5 1256,-164.5 1071,-164.5\"/>\n<text text-anchor=\"middle\" x=\"1082.5\" y=\"-178.8\" font-family=\"Times,serif\" font-size=\"14.00\">2</text>\n<polyline fill=\"none\" stroke=\"black\" points=\"1094,-164.5 1094,-200.5 \"/>\n<text text-anchor=\"middle\" x=\"1134\" y=\"-178.8\" font-family=\"Times,serif\" font-size=\"14.00\">data 2.0000</text>\n<polyline fill=\"none\" stroke=\"black\" points=\"1174,-164.5 1174,-200.5 \"/>\n<text text-anchor=\"middle\" x=\"1215\" y=\"-178.8\" font-family=\"Times,serif\" font-size=\"14.00\">grad 0.2203</text>\n</g>\n<!-- 140154801956080* -->\n<g id=\"node11\" class=\"node\">\n<title>140154801956080*</title>\n<ellipse fill=\"none\" stroke=\"black\" cx=\"1319\" cy=\"-154.5\" rx=\"27\" ry=\"18\"/>\n<text text-anchor=\"middle\" x=\"1319\" y=\"-150.8\" font-family=\"Times,serif\" font-size=\"14.00\">*</text>\n</g>\n<!-- 140154801955840&#45;&gt;140154801956080* -->\n<g id=\"edge13\" class=\"edge\">\n<title>140154801955840&#45;&gt;140154801956080*</title>\n<path fill=\"none\" stroke=\"black\" d=\"M1256.01,-165.81C1265.49,-164.08 1274.66,-162.41 1282.9,-160.9\"/>\n<polygon fill=\"black\" stroke=\"black\" points=\"1283.6,-164.33 1292.81,-159.09 1282.35,-157.45 1283.6,-164.33\"/>\n</g>\n<!-- 140154802375696 -->\n<g id=\"node2\" class=\"node\">\n<title>140154802375696</title>\n<polygon fill=\"none\" stroke=\"black\" points=\"2.5,-55.5 2.5,-91.5 197.5,-91.5 197.5,-55.5 2.5,-55.5\"/>\n<text text-anchor=\"middle\" x=\"19\" y=\"-69.8\" font-family=\"Times,serif\" font-size=\"14.00\">w2</text>\n<polyline fill=\"none\" stroke=\"black\" points=\"35.5,-55.5 35.5,-91.5 \"/>\n<text text-anchor=\"middle\" x=\"75.5\" y=\"-69.8\" font-family=\"Times,serif\" font-size=\"14.00\">data 1.0000</text>\n<polyline fill=\"none\" stroke=\"black\" points=\"115.5,-55.5 115.5,-91.5 \"/>\n<text text-anchor=\"middle\" x=\"156.5\" y=\"-69.8\" font-family=\"Times,serif\" font-size=\"14.00\">grad 0.0000</text>\n</g>\n<!-- 140154802373104* -->\n<g id=\"node28\" class=\"node\">\n<title>140154802373104*</title>\n<ellipse fill=\"none\" stroke=\"black\" cx=\"263\" cy=\"-73.5\" rx=\"27\" ry=\"18\"/>\n<text text-anchor=\"middle\" x=\"263\" y=\"-69.8\" font-family=\"Times,serif\" font-size=\"14.00\">*</text>\n</g>\n<!-- 140154802375696&#45;&gt;140154802373104* -->\n<g id=\"edge18\" class=\"edge\">\n<title>140154802375696&#45;&gt;140154802373104*</title>\n<path fill=\"none\" stroke=\"black\" d=\"M197.91,-73.5C207.65,-73.5 217.05,-73.5 225.52,-73.5\"/>\n<polygon fill=\"black\" stroke=\"black\" points=\"225.7,-77 235.7,-73.5 225.7,-70 225.7,-77\"/>\n</g>\n<!-- 140154802376080 -->\n<g id=\"node3\" class=\"node\">\n<title>140154802376080</title>\n<polygon fill=\"none\" stroke=\"black\" points=\"716,-137.5 716,-173.5 901,-173.5 901,-137.5 716,-137.5\"/>\n<text text-anchor=\"middle\" x=\"727.5\" y=\"-151.8\" font-family=\"Times,serif\" font-size=\"14.00\">b</text>\n<polyline fill=\"none\" stroke=\"black\" points=\"739,-137.5 739,-173.5 \"/>\n<text text-anchor=\"middle\" x=\"779\" y=\"-151.8\" font-family=\"Times,serif\" font-size=\"14.00\">data 6.8814</text>\n<polyline fill=\"none\" stroke=\"black\" points=\"819,-137.5 819,-173.5 \"/>\n<text text-anchor=\"middle\" x=\"860\" y=\"-151.8\" font-family=\"Times,serif\" font-size=\"14.00\">grad 0.5000</text>\n</g>\n<!-- 140154802376608+ -->\n<g id=\"node26\" class=\"node\">\n<title>140154802376608+</title>\n<ellipse fill=\"none\" stroke=\"black\" cx=\"1008\" cy=\"-127.5\" rx=\"27\" ry=\"18\"/>\n<text text-anchor=\"middle\" x=\"1008\" y=\"-123.8\" font-family=\"Times,serif\" font-size=\"14.00\">+</text>\n</g>\n<!-- 140154802376080&#45;&gt;140154802376608+ -->\n<g id=\"edge28\" class=\"edge\">\n<title>140154802376080&#45;&gt;140154802376608+</title>\n<path fill=\"none\" stroke=\"black\" d=\"M901.02,-142.52C926,-138.98 951.59,-135.36 971.37,-132.55\"/>\n<polygon fill=\"black\" stroke=\"black\" points=\"972.03,-135.99 981.43,-131.12 971.04,-129.06 972.03,-135.99\"/>\n</g>\n<!-- 140154802373200 -->\n<g id=\"node4\" class=\"node\">\n<title>140154802373200</title>\n<polygon fill=\"none\" stroke=\"black\" points=\"2,-165.5 2,-201.5 198,-201.5 198,-165.5 2,-165.5\"/>\n<text text-anchor=\"middle\" x=\"17\" y=\"-179.8\" font-family=\"Times,serif\" font-size=\"14.00\">x1</text>\n<polyline fill=\"none\" stroke=\"black\" points=\"32,-165.5 32,-201.5 \"/>\n<text text-anchor=\"middle\" x=\"72\" y=\"-179.8\" font-family=\"Times,serif\" font-size=\"14.00\">data 2.0000</text>\n<polyline fill=\"none\" stroke=\"black\" points=\"112,-165.5 112,-201.5 \"/>\n<text text-anchor=\"middle\" x=\"155\" y=\"-179.8\" font-family=\"Times,serif\" font-size=\"14.00\">grad &#45;1.5000</text>\n</g>\n<!-- 140154802373344* -->\n<g id=\"node13\" class=\"node\">\n<title>140154802373344*</title>\n<ellipse fill=\"none\" stroke=\"black\" cx=\"263\" cy=\"-128.5\" rx=\"27\" ry=\"18\"/>\n<text text-anchor=\"middle\" x=\"263\" y=\"-124.8\" font-family=\"Times,serif\" font-size=\"14.00\">*</text>\n</g>\n<!-- 140154802373200&#45;&gt;140154802373344* -->\n<g id=\"edge21\" class=\"edge\">\n<title>140154802373200&#45;&gt;140154802373344*</title>\n<path fill=\"none\" stroke=\"black\" d=\"M172.53,-165.44C181.84,-162.67 191.2,-159.67 200,-156.5 210.53,-152.71 221.75,-147.9 231.72,-143.33\"/>\n<polygon fill=\"black\" stroke=\"black\" points=\"233.25,-146.48 240.82,-139.07 230.28,-140.14 233.25,-146.48\"/>\n</g>\n<!-- 140154802374256 -->\n<g id=\"node5\" class=\"node\">\n<title>140154802374256</title>\n<polygon fill=\"none\" stroke=\"black\" points=\"0,-110.5 0,-146.5 200,-146.5 200,-110.5 0,-110.5\"/>\n<text text-anchor=\"middle\" x=\"16.5\" y=\"-124.8\" font-family=\"Times,serif\" font-size=\"14.00\">w1</text>\n<polyline fill=\"none\" stroke=\"black\" points=\"33,-110.5 33,-146.5 \"/>\n<text text-anchor=\"middle\" x=\"75.5\" y=\"-124.8\" font-family=\"Times,serif\" font-size=\"14.00\">data &#45;3.0000</text>\n<polyline fill=\"none\" stroke=\"black\" points=\"118,-110.5 118,-146.5 \"/>\n<text text-anchor=\"middle\" x=\"159\" y=\"-124.8\" font-family=\"Times,serif\" font-size=\"14.00\">grad 1.0000</text>\n</g>\n<!-- 140154802374256&#45;&gt;140154802373344* -->\n<g id=\"edge22\" class=\"edge\">\n<title>140154802374256&#45;&gt;140154802373344*</title>\n<path fill=\"none\" stroke=\"black\" d=\"M200.21,-128.5C209.2,-128.5 217.86,-128.5 225.7,-128.5\"/>\n<polygon fill=\"black\" stroke=\"black\" points=\"225.85,-132 235.85,-128.5 225.85,-125 225.85,-132\"/>\n</g>\n<!-- 140154802375840 -->\n<g id=\"node6\" class=\"node\">\n<title>140154802375840</title>\n<polygon fill=\"none\" stroke=\"black\" points=\"672,-82.5 672,-118.5 945,-118.5 945,-82.5 672,-82.5\"/>\n<text text-anchor=\"middle\" x=\"725\" y=\"-96.8\" font-family=\"Times,serif\" font-size=\"14.00\">x1*w1 + x2*w2</text>\n<polyline fill=\"none\" stroke=\"black\" points=\"778,-82.5 778,-118.5 \"/>\n<text text-anchor=\"middle\" x=\"820.5\" y=\"-96.8\" font-family=\"Times,serif\" font-size=\"14.00\">data &#45;6.0000</text>\n<polyline fill=\"none\" stroke=\"black\" points=\"863,-82.5 863,-118.5 \"/>\n<text text-anchor=\"middle\" x=\"904\" y=\"-96.8\" font-family=\"Times,serif\" font-size=\"14.00\">grad 0.5000</text>\n</g>\n<!-- 140154802375840&#45;&gt;140154802376608+ -->\n<g id=\"edge11\" class=\"edge\">\n<title>140154802375840&#45;&gt;140154802376608+</title>\n<path fill=\"none\" stroke=\"black\" d=\"M941.24,-118.51C952.12,-120 962.4,-121.4 971.45,-122.64\"/>\n<polygon fill=\"black\" stroke=\"black\" points=\"971.11,-126.13 981.49,-124.01 972.05,-119.19 971.11,-126.13\"/>\n</g>\n<!-- 140154802375840+ -->\n<g id=\"node7\" class=\"node\">\n<title>140154802375840+</title>\n<ellipse fill=\"none\" stroke=\"black\" cx=\"609\" cy=\"-100.5\" rx=\"27\" ry=\"18\"/>\n<text text-anchor=\"middle\" x=\"609\" y=\"-96.8\" font-family=\"Times,serif\" font-size=\"14.00\">+</text>\n</g>\n<!-- 140154802375840+&#45;&gt;140154802375840 -->\n<g id=\"edge1\" class=\"edge\">\n<title>140154802375840+&#45;&gt;140154802375840</title>\n<path fill=\"none\" stroke=\"black\" d=\"M636.23,-100.5C643.7,-100.5 652.41,-100.5 661.87,-100.5\"/>\n<polygon fill=\"black\" stroke=\"black\" points=\"661.98,-104 671.98,-100.5 661.98,-97 661.98,-104\"/>\n</g>\n<!-- 140154801955216 -->\n<g id=\"node8\" class=\"node\">\n<title>140154801955216</title>\n<polygon fill=\"none\" stroke=\"black\" points=\"1695,-136.5 1695,-172.5 1880,-172.5 1880,-136.5 1695,-136.5\"/>\n<text text-anchor=\"middle\" x=\"1706.5\" y=\"-150.8\" font-family=\"Times,serif\" font-size=\"14.00\">e</text>\n<polyline fill=\"none\" stroke=\"black\" points=\"1718,-136.5 1718,-172.5 \"/>\n<text text-anchor=\"middle\" x=\"1758\" y=\"-150.8\" font-family=\"Times,serif\" font-size=\"14.00\">data 5.8284</text>\n<polyline fill=\"none\" stroke=\"black\" points=\"1798,-136.5 1798,-172.5 \"/>\n<text text-anchor=\"middle\" x=\"1839\" y=\"-150.8\" font-family=\"Times,serif\" font-size=\"14.00\">grad 0.0429</text>\n</g>\n<!-- 140154801955168+ -->\n<g id=\"node18\" class=\"node\">\n<title>140154801955168+</title>\n<ellipse fill=\"none\" stroke=\"black\" cx=\"1948\" cy=\"-181.5\" rx=\"27\" ry=\"18\"/>\n<text text-anchor=\"middle\" x=\"1948\" y=\"-177.8\" font-family=\"Times,serif\" font-size=\"14.00\">+</text>\n</g>\n<!-- 140154801955216&#45;&gt;140154801955168+ -->\n<g id=\"edge24\" class=\"edge\">\n<title>140154801955216&#45;&gt;140154801955168+</title>\n<path fill=\"none\" stroke=\"black\" d=\"M1880.24,-170.13C1891.28,-172.01 1901.99,-173.83 1911.49,-175.45\"/>\n<polygon fill=\"black\" stroke=\"black\" points=\"1911.19,-178.95 1921.64,-177.18 1912.37,-172.05 1911.19,-178.95\"/>\n</g>\n<!-- 140154801955696+ -->\n<g id=\"node20\" class=\"node\">\n<title>140154801955696+</title>\n<ellipse fill=\"none\" stroke=\"black\" cx=\"1948\" cy=\"-126.5\" rx=\"27\" ry=\"18\"/>\n<text text-anchor=\"middle\" x=\"1948\" y=\"-122.8\" font-family=\"Times,serif\" font-size=\"14.00\">+</text>\n</g>\n<!-- 140154801955216&#45;&gt;140154801955696+ -->\n<g id=\"edge19\" class=\"edge\">\n<title>140154801955216&#45;&gt;140154801955696+</title>\n<path fill=\"none\" stroke=\"black\" d=\"M1880.24,-138.29C1891.28,-136.34 1901.99,-134.45 1911.49,-132.77\"/>\n<polygon fill=\"black\" stroke=\"black\" points=\"1912.4,-136.17 1921.64,-130.98 1911.18,-129.27 1912.4,-136.17\"/>\n</g>\n<!-- 140154801955216exp -->\n<g id=\"node9\" class=\"node\">\n<title>140154801955216exp</title>\n<ellipse fill=\"none\" stroke=\"black\" cx=\"1627\" cy=\"-154.5\" rx=\"27\" ry=\"18\"/>\n<text text-anchor=\"middle\" x=\"1627\" y=\"-150.8\" font-family=\"Times,serif\" font-size=\"14.00\">exp</text>\n</g>\n<!-- 140154801955216exp&#45;&gt;140154801955216 -->\n<g id=\"edge2\" class=\"edge\">\n<title>140154801955216exp&#45;&gt;140154801955216</title>\n<path fill=\"none\" stroke=\"black\" d=\"M1654.17,-154.5C1662.99,-154.5 1673.43,-154.5 1684.52,-154.5\"/>\n<polygon fill=\"black\" stroke=\"black\" points=\"1684.86,-158 1694.86,-154.5 1684.86,-151 1684.86,-158\"/>\n</g>\n<!-- 140154801956080 -->\n<g id=\"node10\" class=\"node\">\n<title>140154801956080</title>\n<polygon fill=\"none\" stroke=\"black\" points=\"1382,-136.5 1382,-172.5 1564,-172.5 1564,-136.5 1382,-136.5\"/>\n<text text-anchor=\"middle\" x=\"1392\" y=\"-150.8\" font-family=\"Times,serif\" font-size=\"14.00\"> </text>\n<polyline fill=\"none\" stroke=\"black\" points=\"1402,-136.5 1402,-172.5 \"/>\n<text text-anchor=\"middle\" x=\"1442\" y=\"-150.8\" font-family=\"Times,serif\" font-size=\"14.00\">data 1.7627</text>\n<polyline fill=\"none\" stroke=\"black\" points=\"1482,-136.5 1482,-172.5 \"/>\n<text text-anchor=\"middle\" x=\"1523\" y=\"-150.8\" font-family=\"Times,serif\" font-size=\"14.00\">grad 0.2500</text>\n</g>\n<!-- 140154801956080&#45;&gt;140154801955216exp -->\n<g id=\"edge16\" class=\"edge\">\n<title>140154801956080&#45;&gt;140154801955216exp</title>\n<path fill=\"none\" stroke=\"black\" d=\"M1564.18,-154.5C1573.14,-154.5 1581.83,-154.5 1589.73,-154.5\"/>\n<polygon fill=\"black\" stroke=\"black\" points=\"1589.96,-158 1599.96,-154.5 1589.96,-151 1589.96,-158\"/>\n</g>\n<!-- 140154801956080*&#45;&gt;140154801956080 -->\n<g id=\"edge3\" class=\"edge\">\n<title>140154801956080*&#45;&gt;140154801956080</title>\n<path fill=\"none\" stroke=\"black\" d=\"M1346.13,-154.5C1353.67,-154.5 1362.39,-154.5 1371.64,-154.5\"/>\n<polygon fill=\"black\" stroke=\"black\" points=\"1371.87,-158 1381.87,-154.5 1371.87,-151 1371.87,-158\"/>\n</g>\n<!-- 140154802373344 -->\n<g id=\"node12\" class=\"node\">\n<title>140154802373344</title>\n<polygon fill=\"none\" stroke=\"black\" points=\"326,-110.5 326,-146.5 546,-146.5 546,-110.5 326,-110.5\"/>\n<text text-anchor=\"middle\" x=\"352.5\" y=\"-124.8\" font-family=\"Times,serif\" font-size=\"14.00\">x1*w1</text>\n<polyline fill=\"none\" stroke=\"black\" points=\"379,-110.5 379,-146.5 \"/>\n<text text-anchor=\"middle\" x=\"421.5\" y=\"-124.8\" font-family=\"Times,serif\" font-size=\"14.00\">data &#45;6.0000</text>\n<polyline fill=\"none\" stroke=\"black\" points=\"464,-110.5 464,-146.5 \"/>\n<text text-anchor=\"middle\" x=\"505\" y=\"-124.8\" font-family=\"Times,serif\" font-size=\"14.00\">grad 0.5000</text>\n</g>\n<!-- 140154802373344&#45;&gt;140154802375840+ -->\n<g id=\"edge25\" class=\"edge\">\n<title>140154802373344&#45;&gt;140154802375840+</title>\n<path fill=\"none\" stroke=\"black\" d=\"M546.27,-110.61C555.64,-109.07 564.6,-107.61 572.65,-106.29\"/>\n<polygon fill=\"black\" stroke=\"black\" points=\"573.35,-109.72 582.65,-104.65 572.22,-102.81 573.35,-109.72\"/>\n</g>\n<!-- 140154802373344*&#45;&gt;140154802373344 -->\n<g id=\"edge4\" class=\"edge\">\n<title>140154802373344*&#45;&gt;140154802373344</title>\n<path fill=\"none\" stroke=\"black\" d=\"M290.34,-128.5C297.77,-128.5 306.37,-128.5 315.6,-128.5\"/>\n<polygon fill=\"black\" stroke=\"black\" points=\"315.84,-132 325.84,-128.5 315.84,-125 315.84,-132\"/>\n</g>\n<!-- 140154802374928 -->\n<g id=\"node14\" class=\"node\">\n<title>140154802374928</title>\n<polygon fill=\"none\" stroke=\"black\" points=\"4,-0.5 4,-36.5 196,-36.5 196,-0.5 4,-0.5\"/>\n<text text-anchor=\"middle\" x=\"19\" y=\"-14.8\" font-family=\"Times,serif\" font-size=\"14.00\">x2</text>\n<polyline fill=\"none\" stroke=\"black\" points=\"34,-0.5 34,-36.5 \"/>\n<text text-anchor=\"middle\" x=\"74\" y=\"-14.8\" font-family=\"Times,serif\" font-size=\"14.00\">data 0.0000</text>\n<polyline fill=\"none\" stroke=\"black\" points=\"114,-0.5 114,-36.5 \"/>\n<text text-anchor=\"middle\" x=\"155\" y=\"-14.8\" font-family=\"Times,serif\" font-size=\"14.00\">grad 0.5000</text>\n</g>\n<!-- 140154802374928&#45;&gt;140154802373104* -->\n<g id=\"edge12\" class=\"edge\">\n<title>140154802374928&#45;&gt;140154802373104*</title>\n<path fill=\"none\" stroke=\"black\" d=\"M172.53,-36.56C181.84,-39.33 191.2,-42.33 200,-45.5 210.53,-49.29 221.75,-54.1 231.72,-58.67\"/>\n<polygon fill=\"black\" stroke=\"black\" points=\"230.28,-61.86 240.82,-62.93 233.25,-55.52 230.28,-61.86\"/>\n</g>\n<!-- 140154801955120 -->\n<g id=\"node15\" class=\"node\">\n<title>140154801955120</title>\n<polygon fill=\"none\" stroke=\"black\" points=\"1693,-191.5 1693,-227.5 1882,-227.5 1882,-191.5 1693,-191.5\"/>\n<text text-anchor=\"middle\" x=\"1704.5\" y=\"-205.8\" font-family=\"Times,serif\" font-size=\"14.00\">1</text>\n<polyline fill=\"none\" stroke=\"black\" points=\"1716,-191.5 1716,-227.5 \"/>\n<text text-anchor=\"middle\" x=\"1756\" y=\"-205.8\" font-family=\"Times,serif\" font-size=\"14.00\">data 1.0000</text>\n<polyline fill=\"none\" stroke=\"black\" points=\"1796,-191.5 1796,-227.5 \"/>\n<text text-anchor=\"middle\" x=\"1839\" y=\"-205.8\" font-family=\"Times,serif\" font-size=\"14.00\">grad &#45;0.1036</text>\n</g>\n<!-- 140154801955120&#45;&gt;140154801955168+ -->\n<g id=\"edge23\" class=\"edge\">\n<title>140154801955120&#45;&gt;140154801955168+</title>\n<path fill=\"none\" stroke=\"black\" d=\"M1882.07,-192.97C1892.58,-191.11 1902.73,-189.32 1911.77,-187.72\"/>\n<polygon fill=\"black\" stroke=\"black\" points=\"1912.58,-191.14 1921.82,-185.95 1911.36,-184.24 1912.58,-191.14\"/>\n</g>\n<!-- 140154801955648 -->\n<g id=\"node16\" class=\"node\">\n<title>140154801955648</title>\n<polygon fill=\"none\" stroke=\"black\" points=\"1690,-81.5 1690,-117.5 1885,-117.5 1885,-81.5 1690,-81.5\"/>\n<text text-anchor=\"middle\" x=\"1704\" y=\"-95.8\" font-family=\"Times,serif\" font-size=\"14.00\">&#45;1</text>\n<polyline fill=\"none\" stroke=\"black\" points=\"1718,-81.5 1718,-117.5 \"/>\n<text text-anchor=\"middle\" x=\"1760.5\" y=\"-95.8\" font-family=\"Times,serif\" font-size=\"14.00\">data &#45;1.0000</text>\n<polyline fill=\"none\" stroke=\"black\" points=\"1803,-81.5 1803,-117.5 \"/>\n<text text-anchor=\"middle\" x=\"1844\" y=\"-95.8\" font-family=\"Times,serif\" font-size=\"14.00\">grad 0.1464</text>\n</g>\n<!-- 140154801955648&#45;&gt;140154801955696+ -->\n<g id=\"edge20\" class=\"edge\">\n<title>140154801955648&#45;&gt;140154801955696+</title>\n<path fill=\"none\" stroke=\"black\" d=\"M1885.27,-115.98C1894.59,-117.57 1903.57,-119.1 1911.66,-120.48\"/>\n<polygon fill=\"black\" stroke=\"black\" points=\"1911.29,-123.97 1921.73,-122.2 1912.46,-117.07 1911.29,-123.97\"/>\n</g>\n<!-- 140154801955168 -->\n<g id=\"node17\" class=\"node\">\n<title>140154801955168</title>\n<polygon fill=\"none\" stroke=\"black\" points=\"2011,-163.5 2011,-199.5 2197,-199.5 2197,-163.5 2011,-163.5\"/>\n<text text-anchor=\"middle\" x=\"2021\" y=\"-177.8\" font-family=\"Times,serif\" font-size=\"14.00\"> </text>\n<polyline fill=\"none\" stroke=\"black\" points=\"2031,-163.5 2031,-199.5 \"/>\n<text text-anchor=\"middle\" x=\"2071\" y=\"-177.8\" font-family=\"Times,serif\" font-size=\"14.00\">data 6.8284</text>\n<polyline fill=\"none\" stroke=\"black\" points=\"2111,-163.5 2111,-199.5 \"/>\n<text text-anchor=\"middle\" x=\"2154\" y=\"-177.8\" font-family=\"Times,serif\" font-size=\"14.00\">grad &#45;0.1036</text>\n</g>\n<!-- 140154801956224**&#45;1 -->\n<g id=\"node22\" class=\"node\">\n<title>140154801956224**&#45;1</title>\n<ellipse fill=\"none\" stroke=\"black\" cx=\"2324\" cy=\"-181.5\" rx=\"27\" ry=\"18\"/>\n<text text-anchor=\"middle\" x=\"2324\" y=\"-177.8\" font-family=\"Times,serif\" font-size=\"14.00\">**&#45;1</text>\n</g>\n<!-- 140154801955168&#45;&gt;140154801956224**&#45;1 -->\n<g id=\"edge17\" class=\"edge\">\n<title>140154801955168&#45;&gt;140154801956224**&#45;1</title>\n<path fill=\"none\" stroke=\"black\" d=\"M2197.14,-181.5C2228.72,-181.5 2262.24,-181.5 2286.74,-181.5\"/>\n<polygon fill=\"black\" stroke=\"black\" points=\"2286.98,-185 2296.98,-181.5 2286.98,-178 2286.98,-185\"/>\n</g>\n<!-- 140154801955168+&#45;&gt;140154801955168 -->\n<g id=\"edge5\" class=\"edge\">\n<title>140154801955168+&#45;&gt;140154801955168</title>\n<path fill=\"none\" stroke=\"black\" d=\"M1975.12,-181.5C1982.62,-181.5 1991.29,-181.5 2000.5,-181.5\"/>\n<polygon fill=\"black\" stroke=\"black\" points=\"2000.69,-185 2010.69,-181.5 2000.69,-178 2000.69,-185\"/>\n</g>\n<!-- 140154801955696 -->\n<g id=\"node19\" class=\"node\">\n<title>140154801955696</title>\n<polygon fill=\"none\" stroke=\"black\" points=\"2233,-108.5 2233,-144.5 2415,-144.5 2415,-108.5 2233,-108.5\"/>\n<text text-anchor=\"middle\" x=\"2243\" y=\"-122.8\" font-family=\"Times,serif\" font-size=\"14.00\"> </text>\n<polyline fill=\"none\" stroke=\"black\" points=\"2253,-108.5 2253,-144.5 \"/>\n<text text-anchor=\"middle\" x=\"2293\" y=\"-122.8\" font-family=\"Times,serif\" font-size=\"14.00\">data 4.8284</text>\n<polyline fill=\"none\" stroke=\"black\" points=\"2333,-108.5 2333,-144.5 \"/>\n<text text-anchor=\"middle\" x=\"2374\" y=\"-122.8\" font-family=\"Times,serif\" font-size=\"14.00\">grad 0.1464</text>\n</g>\n<!-- 140154801956752* -->\n<g id=\"node24\" class=\"node\">\n<title>140154801956752*</title>\n<ellipse fill=\"none\" stroke=\"black\" cx=\"2696\" cy=\"-153.5\" rx=\"27\" ry=\"18\"/>\n<text text-anchor=\"middle\" x=\"2696\" y=\"-149.8\" font-family=\"Times,serif\" font-size=\"14.00\">*</text>\n</g>\n<!-- 140154801955696&#45;&gt;140154801956752* -->\n<g id=\"edge14\" class=\"edge\">\n<title>140154801955696&#45;&gt;140154801956752*</title>\n<path fill=\"none\" stroke=\"black\" d=\"M2415.04,-133.07C2493.41,-138.79 2602.98,-146.79 2658.96,-150.87\"/>\n<polygon fill=\"black\" stroke=\"black\" points=\"2658.87,-154.37 2669.1,-151.61 2659.38,-147.39 2658.87,-154.37\"/>\n</g>\n<!-- 140154801955696+&#45;&gt;140154801955696 -->\n<g id=\"edge6\" class=\"edge\">\n<title>140154801955696+&#45;&gt;140154801955696</title>\n<path fill=\"none\" stroke=\"black\" d=\"M1975,-126.5C2025.46,-126.5 2139.06,-126.5 2222.81,-126.5\"/>\n<polygon fill=\"black\" stroke=\"black\" points=\"2222.87,-130 2232.87,-126.5 2222.87,-123 2222.87,-130\"/>\n</g>\n<!-- 140154801956224 -->\n<g id=\"node21\" class=\"node\">\n<title>140154801956224</title>\n<polygon fill=\"none\" stroke=\"black\" points=\"2451,-161.5 2451,-197.5 2633,-197.5 2633,-161.5 2451,-161.5\"/>\n<text text-anchor=\"middle\" x=\"2461\" y=\"-175.8\" font-family=\"Times,serif\" font-size=\"14.00\"> </text>\n<polyline fill=\"none\" stroke=\"black\" points=\"2471,-161.5 2471,-197.5 \"/>\n<text text-anchor=\"middle\" x=\"2511\" y=\"-175.8\" font-family=\"Times,serif\" font-size=\"14.00\">data 0.1464</text>\n<polyline fill=\"none\" stroke=\"black\" points=\"2551,-161.5 2551,-197.5 \"/>\n<text text-anchor=\"middle\" x=\"2592\" y=\"-175.8\" font-family=\"Times,serif\" font-size=\"14.00\">grad 4.8284</text>\n</g>\n<!-- 140154801956224&#45;&gt;140154801956752* -->\n<g id=\"edge15\" class=\"edge\">\n<title>140154801956224&#45;&gt;140154801956752*</title>\n<path fill=\"none\" stroke=\"black\" d=\"M2633.18,-164.08C2642.42,-162.49 2651.38,-160.96 2659.47,-159.58\"/>\n<polygon fill=\"black\" stroke=\"black\" points=\"2660.29,-162.99 2669.56,-157.85 2659.11,-156.09 2660.29,-162.99\"/>\n</g>\n<!-- 140154801956224**&#45;1&#45;&gt;140154801956224 -->\n<g id=\"edge7\" class=\"edge\">\n<title>140154801956224**&#45;1&#45;&gt;140154801956224</title>\n<path fill=\"none\" stroke=\"black\" d=\"M2351.05,-181.26C2373.53,-181.05 2407.48,-180.74 2440.5,-180.43\"/>\n<polygon fill=\"black\" stroke=\"black\" points=\"2440.74,-183.93 2450.7,-180.34 2440.67,-176.93 2440.74,-183.93\"/>\n</g>\n<!-- 140154801956752 -->\n<g id=\"node23\" class=\"node\">\n<title>140154801956752</title>\n<polygon fill=\"none\" stroke=\"black\" points=\"2759,-135.5 2759,-171.5 2944,-171.5 2944,-135.5 2759,-135.5\"/>\n<text text-anchor=\"middle\" x=\"2770.5\" y=\"-149.8\" font-family=\"Times,serif\" font-size=\"14.00\">o</text>\n<polyline fill=\"none\" stroke=\"black\" points=\"2782,-135.5 2782,-171.5 \"/>\n<text text-anchor=\"middle\" x=\"2822\" y=\"-149.8\" font-family=\"Times,serif\" font-size=\"14.00\">data 0.7071</text>\n<polyline fill=\"none\" stroke=\"black\" points=\"2862,-135.5 2862,-171.5 \"/>\n<text text-anchor=\"middle\" x=\"2903\" y=\"-149.8\" font-family=\"Times,serif\" font-size=\"14.00\">grad 1.0000</text>\n</g>\n<!-- 140154801956752*&#45;&gt;140154801956752 -->\n<g id=\"edge8\" class=\"edge\">\n<title>140154801956752*&#45;&gt;140154801956752</title>\n<path fill=\"none\" stroke=\"black\" d=\"M2723.04,-153.5C2730.58,-153.5 2739.3,-153.5 2748.57,-153.5\"/>\n<polygon fill=\"black\" stroke=\"black\" points=\"2748.81,-157 2758.81,-153.5 2748.81,-150 2748.81,-157\"/>\n</g>\n<!-- 140154802376608 -->\n<g id=\"node25\" class=\"node\">\n<title>140154802376608</title>\n<polygon fill=\"none\" stroke=\"black\" points=\"1071,-109.5 1071,-145.5 1256,-145.5 1256,-109.5 1071,-109.5\"/>\n<text text-anchor=\"middle\" x=\"1082.5\" y=\"-123.8\" font-family=\"Times,serif\" font-size=\"14.00\">n</text>\n<polyline fill=\"none\" stroke=\"black\" points=\"1094,-109.5 1094,-145.5 \"/>\n<text text-anchor=\"middle\" x=\"1134\" y=\"-123.8\" font-family=\"Times,serif\" font-size=\"14.00\">data 0.8814</text>\n<polyline fill=\"none\" stroke=\"black\" points=\"1174,-109.5 1174,-145.5 \"/>\n<text text-anchor=\"middle\" x=\"1215\" y=\"-123.8\" font-family=\"Times,serif\" font-size=\"14.00\">grad 0.5000</text>\n</g>\n<!-- 140154802376608&#45;&gt;140154801956080* -->\n<g id=\"edge26\" class=\"edge\">\n<title>140154802376608&#45;&gt;140154801956080*</title>\n<path fill=\"none\" stroke=\"black\" d=\"M1256.01,-143.6C1265.49,-145.26 1274.66,-146.88 1282.9,-148.33\"/>\n<polygon fill=\"black\" stroke=\"black\" points=\"1282.36,-151.78 1292.81,-150.07 1283.57,-144.89 1282.36,-151.78\"/>\n</g>\n<!-- 140154802376608+&#45;&gt;140154802376608 -->\n<g id=\"edge9\" class=\"edge\">\n<title>140154802376608+&#45;&gt;140154802376608</title>\n<path fill=\"none\" stroke=\"black\" d=\"M1035.04,-127.5C1042.58,-127.5 1051.3,-127.5 1060.57,-127.5\"/>\n<polygon fill=\"black\" stroke=\"black\" points=\"1060.81,-131 1070.81,-127.5 1060.81,-124 1060.81,-131\"/>\n</g>\n<!-- 140154802373104 -->\n<g id=\"node27\" class=\"node\">\n<title>140154802373104</title>\n<polygon fill=\"none\" stroke=\"black\" points=\"328.5,-55.5 328.5,-91.5 543.5,-91.5 543.5,-55.5 328.5,-55.5\"/>\n<text text-anchor=\"middle\" x=\"355\" y=\"-69.8\" font-family=\"Times,serif\" font-size=\"14.00\">x2*w2</text>\n<polyline fill=\"none\" stroke=\"black\" points=\"381.5,-55.5 381.5,-91.5 \"/>\n<text text-anchor=\"middle\" x=\"421.5\" y=\"-69.8\" font-family=\"Times,serif\" font-size=\"14.00\">data 0.0000</text>\n<polyline fill=\"none\" stroke=\"black\" points=\"461.5,-55.5 461.5,-91.5 \"/>\n<text text-anchor=\"middle\" x=\"502.5\" y=\"-69.8\" font-family=\"Times,serif\" font-size=\"14.00\">grad 0.5000</text>\n</g>\n<!-- 140154802373104&#45;&gt;140154802375840+ -->\n<g id=\"edge27\" class=\"edge\">\n<title>140154802373104&#45;&gt;140154802375840+</title>\n<path fill=\"none\" stroke=\"black\" d=\"M543.84,-90.37C554.01,-91.98 563.76,-93.51 572.44,-94.89\"/>\n<polygon fill=\"black\" stroke=\"black\" points=\"572.05,-98.37 582.47,-96.47 573.14,-91.45 572.05,-98.37\"/>\n</g>\n<!-- 140154802373104*&#45;&gt;140154802373104 -->\n<g id=\"edge10\" class=\"edge\">\n<title>140154802373104*&#45;&gt;140154802373104</title>\n<path fill=\"none\" stroke=\"black\" d=\"M290.34,-73.5C298.51,-73.5 308.08,-73.5 318.36,-73.5\"/>\n<polygon fill=\"black\" stroke=\"black\" points=\"318.39,-77 328.39,-73.5 318.39,-70 318.39,-77\"/>\n</g>\n</g>\n</svg>\n"
          },
          "metadata": {},
          "execution_count": 208
        }
      ]
    },
    {
      "cell_type": "code",
      "source": [
        "o = build_graph_tanh()\n",
        "o.backward()\n",
        "draw_dot(o)"
      ],
      "metadata": {
        "colab": {
          "base_uri": "https://localhost:8080/",
          "height": 356
        },
        "id": "aaAthC04Mo-e",
        "outputId": "fbb3f96f-6f7d-470a-8946-ab8db85226b5"
      },
      "execution_count": 209,
      "outputs": [
        {
          "output_type": "execute_result",
          "data": {
            "text/plain": [
              "<graphviz.dot.Digraph at 0x7f78553110a0>"
            ],
            "image/svg+xml": "<?xml version=\"1.0\" encoding=\"UTF-8\" standalone=\"no\"?>\n<!DOCTYPE svg PUBLIC \"-//W3C//DTD SVG 1.1//EN\"\n \"http://www.w3.org/Graphics/SVG/1.1/DTD/svg11.dtd\">\n<!-- Generated by graphviz version 2.43.0 (0)\n -->\n<!-- Title: %3 Pages: 1 -->\n<svg width=\"2952pt\" height=\"236pt\"\n viewBox=\"0.00 0.00 2952.00 236.00\" xmlns=\"http://www.w3.org/2000/svg\" xmlns:xlink=\"http://www.w3.org/1999/xlink\">\n<g id=\"graph0\" class=\"graph\" transform=\"scale(1 1) rotate(0) translate(4 232)\">\n<title>%3</title>\n<polygon fill=\"white\" stroke=\"transparent\" points=\"-4,4 -4,-232 2948,-232 2948,4 -4,4\"/>\n<!-- 140154801957376 -->\n<g id=\"node1\" class=\"node\">\n<title>140154801957376</title>\n<polygon fill=\"none\" stroke=\"black\" points=\"672,-82.5 672,-118.5 945,-118.5 945,-82.5 672,-82.5\"/>\n<text text-anchor=\"middle\" x=\"725\" y=\"-96.8\" font-family=\"Times,serif\" font-size=\"14.00\">x1*w1 + x2*w2</text>\n<polyline fill=\"none\" stroke=\"black\" points=\"778,-82.5 778,-118.5 \"/>\n<text text-anchor=\"middle\" x=\"820.5\" y=\"-96.8\" font-family=\"Times,serif\" font-size=\"14.00\">data &#45;6.0000</text>\n<polyline fill=\"none\" stroke=\"black\" points=\"863,-82.5 863,-118.5 \"/>\n<text text-anchor=\"middle\" x=\"904\" y=\"-96.8\" font-family=\"Times,serif\" font-size=\"14.00\">grad 0.5000</text>\n</g>\n<!-- 140154801957472+ -->\n<g id=\"node10\" class=\"node\">\n<title>140154801957472+</title>\n<ellipse fill=\"none\" stroke=\"black\" cx=\"1008\" cy=\"-127.5\" rx=\"27\" ry=\"18\"/>\n<text text-anchor=\"middle\" x=\"1008\" y=\"-123.8\" font-family=\"Times,serif\" font-size=\"14.00\">+</text>\n</g>\n<!-- 140154801957376&#45;&gt;140154801957472+ -->\n<g id=\"edge26\" class=\"edge\">\n<title>140154801957376&#45;&gt;140154801957472+</title>\n<path fill=\"none\" stroke=\"black\" d=\"M941.24,-118.51C952.12,-120 962.4,-121.4 971.45,-122.64\"/>\n<polygon fill=\"black\" stroke=\"black\" points=\"971.11,-126.13 981.49,-124.01 972.05,-119.19 971.11,-126.13\"/>\n</g>\n<!-- 140154801957376+ -->\n<g id=\"node2\" class=\"node\">\n<title>140154801957376+</title>\n<ellipse fill=\"none\" stroke=\"black\" cx=\"609\" cy=\"-100.5\" rx=\"27\" ry=\"18\"/>\n<text text-anchor=\"middle\" x=\"609\" y=\"-96.8\" font-family=\"Times,serif\" font-size=\"14.00\">+</text>\n</g>\n<!-- 140154801957376+&#45;&gt;140154801957376 -->\n<g id=\"edge1\" class=\"edge\">\n<title>140154801957376+&#45;&gt;140154801957376</title>\n<path fill=\"none\" stroke=\"black\" d=\"M636.23,-100.5C643.7,-100.5 652.41,-100.5 661.87,-100.5\"/>\n<polygon fill=\"black\" stroke=\"black\" points=\"661.98,-104 671.98,-100.5 661.98,-97 661.98,-104\"/>\n</g>\n<!-- 140154801956896 -->\n<g id=\"node3\" class=\"node\">\n<title>140154801956896</title>\n<polygon fill=\"none\" stroke=\"black\" points=\"326,-110.5 326,-146.5 546,-146.5 546,-110.5 326,-110.5\"/>\n<text text-anchor=\"middle\" x=\"352.5\" y=\"-124.8\" font-family=\"Times,serif\" font-size=\"14.00\">x1*w1</text>\n<polyline fill=\"none\" stroke=\"black\" points=\"379,-110.5 379,-146.5 \"/>\n<text text-anchor=\"middle\" x=\"421.5\" y=\"-124.8\" font-family=\"Times,serif\" font-size=\"14.00\">data &#45;6.0000</text>\n<polyline fill=\"none\" stroke=\"black\" points=\"464,-110.5 464,-146.5 \"/>\n<text text-anchor=\"middle\" x=\"505\" y=\"-124.8\" font-family=\"Times,serif\" font-size=\"14.00\">grad 0.5000</text>\n</g>\n<!-- 140154801956896&#45;&gt;140154801957376+ -->\n<g id=\"edge12\" class=\"edge\">\n<title>140154801956896&#45;&gt;140154801957376+</title>\n<path fill=\"none\" stroke=\"black\" d=\"M546.27,-110.61C555.64,-109.07 564.6,-107.61 572.65,-106.29\"/>\n<polygon fill=\"black\" stroke=\"black\" points=\"573.35,-109.72 582.65,-104.65 572.22,-102.81 573.35,-109.72\"/>\n</g>\n<!-- 140154801956896* -->\n<g id=\"node4\" class=\"node\">\n<title>140154801956896*</title>\n<ellipse fill=\"none\" stroke=\"black\" cx=\"263\" cy=\"-128.5\" rx=\"27\" ry=\"18\"/>\n<text text-anchor=\"middle\" x=\"263\" y=\"-124.8\" font-family=\"Times,serif\" font-size=\"14.00\">*</text>\n</g>\n<!-- 140154801956896*&#45;&gt;140154801956896 -->\n<g id=\"edge2\" class=\"edge\">\n<title>140154801956896*&#45;&gt;140154801956896</title>\n<path fill=\"none\" stroke=\"black\" d=\"M290.34,-128.5C297.77,-128.5 306.37,-128.5 315.6,-128.5\"/>\n<polygon fill=\"black\" stroke=\"black\" points=\"315.84,-132 325.84,-128.5 315.84,-125 315.84,-132\"/>\n</g>\n<!-- 140154801957952 -->\n<g id=\"node5\" class=\"node\">\n<title>140154801957952</title>\n<polygon fill=\"none\" stroke=\"black\" points=\"1382,-136.5 1382,-172.5 1564,-172.5 1564,-136.5 1382,-136.5\"/>\n<text text-anchor=\"middle\" x=\"1392\" y=\"-150.8\" font-family=\"Times,serif\" font-size=\"14.00\"> </text>\n<polyline fill=\"none\" stroke=\"black\" points=\"1402,-136.5 1402,-172.5 \"/>\n<text text-anchor=\"middle\" x=\"1442\" y=\"-150.8\" font-family=\"Times,serif\" font-size=\"14.00\">data 1.7627</text>\n<polyline fill=\"none\" stroke=\"black\" points=\"1482,-136.5 1482,-172.5 \"/>\n<text text-anchor=\"middle\" x=\"1523\" y=\"-150.8\" font-family=\"Times,serif\" font-size=\"14.00\">grad 0.2500</text>\n</g>\n<!-- 140154801958480exp -->\n<g id=\"node8\" class=\"node\">\n<title>140154801958480exp</title>\n<ellipse fill=\"none\" stroke=\"black\" cx=\"1627\" cy=\"-154.5\" rx=\"27\" ry=\"18\"/>\n<text text-anchor=\"middle\" x=\"1627\" y=\"-150.8\" font-family=\"Times,serif\" font-size=\"14.00\">exp</text>\n</g>\n<!-- 140154801957952&#45;&gt;140154801958480exp -->\n<g id=\"edge18\" class=\"edge\">\n<title>140154801957952&#45;&gt;140154801958480exp</title>\n<path fill=\"none\" stroke=\"black\" d=\"M1564.18,-154.5C1573.14,-154.5 1581.83,-154.5 1589.73,-154.5\"/>\n<polygon fill=\"black\" stroke=\"black\" points=\"1589.96,-158 1599.96,-154.5 1589.96,-151 1589.96,-158\"/>\n</g>\n<!-- 140154801957952* -->\n<g id=\"node6\" class=\"node\">\n<title>140154801957952*</title>\n<ellipse fill=\"none\" stroke=\"black\" cx=\"1319\" cy=\"-154.5\" rx=\"27\" ry=\"18\"/>\n<text text-anchor=\"middle\" x=\"1319\" y=\"-150.8\" font-family=\"Times,serif\" font-size=\"14.00\">*</text>\n</g>\n<!-- 140154801957952*&#45;&gt;140154801957952 -->\n<g id=\"edge3\" class=\"edge\">\n<title>140154801957952*&#45;&gt;140154801957952</title>\n<path fill=\"none\" stroke=\"black\" d=\"M1346.13,-154.5C1353.67,-154.5 1362.39,-154.5 1371.64,-154.5\"/>\n<polygon fill=\"black\" stroke=\"black\" points=\"1371.87,-158 1381.87,-154.5 1371.87,-151 1371.87,-158\"/>\n</g>\n<!-- 140154801958480 -->\n<g id=\"node7\" class=\"node\">\n<title>140154801958480</title>\n<polygon fill=\"none\" stroke=\"black\" points=\"1695,-136.5 1695,-172.5 1880,-172.5 1880,-136.5 1695,-136.5\"/>\n<text text-anchor=\"middle\" x=\"1706.5\" y=\"-150.8\" font-family=\"Times,serif\" font-size=\"14.00\">e</text>\n<polyline fill=\"none\" stroke=\"black\" points=\"1718,-136.5 1718,-172.5 \"/>\n<text text-anchor=\"middle\" x=\"1758\" y=\"-150.8\" font-family=\"Times,serif\" font-size=\"14.00\">data 5.8284</text>\n<polyline fill=\"none\" stroke=\"black\" points=\"1798,-136.5 1798,-172.5 \"/>\n<text text-anchor=\"middle\" x=\"1839\" y=\"-150.8\" font-family=\"Times,serif\" font-size=\"14.00\">grad 0.0429</text>\n</g>\n<!-- 140154801957136+ -->\n<g id=\"node20\" class=\"node\">\n<title>140154801957136+</title>\n<ellipse fill=\"none\" stroke=\"black\" cx=\"1948\" cy=\"-126.5\" rx=\"27\" ry=\"18\"/>\n<text text-anchor=\"middle\" x=\"1948\" y=\"-122.8\" font-family=\"Times,serif\" font-size=\"14.00\">+</text>\n</g>\n<!-- 140154801958480&#45;&gt;140154801957136+ -->\n<g id=\"edge13\" class=\"edge\">\n<title>140154801958480&#45;&gt;140154801957136+</title>\n<path fill=\"none\" stroke=\"black\" d=\"M1880.24,-138.29C1891.28,-136.34 1901.99,-134.45 1911.49,-132.77\"/>\n<polygon fill=\"black\" stroke=\"black\" points=\"1912.4,-136.17 1921.64,-130.98 1911.18,-129.27 1912.4,-136.17\"/>\n</g>\n<!-- 140154801958864+ -->\n<g id=\"node26\" class=\"node\">\n<title>140154801958864+</title>\n<ellipse fill=\"none\" stroke=\"black\" cx=\"1948\" cy=\"-181.5\" rx=\"27\" ry=\"18\"/>\n<text text-anchor=\"middle\" x=\"1948\" y=\"-177.8\" font-family=\"Times,serif\" font-size=\"14.00\">+</text>\n</g>\n<!-- 140154801958480&#45;&gt;140154801958864+ -->\n<g id=\"edge23\" class=\"edge\">\n<title>140154801958480&#45;&gt;140154801958864+</title>\n<path fill=\"none\" stroke=\"black\" d=\"M1880.24,-170.13C1891.28,-172.01 1901.99,-173.83 1911.49,-175.45\"/>\n<polygon fill=\"black\" stroke=\"black\" points=\"1911.19,-178.95 1921.64,-177.18 1912.37,-172.05 1911.19,-178.95\"/>\n</g>\n<!-- 140154801958480exp&#45;&gt;140154801958480 -->\n<g id=\"edge4\" class=\"edge\">\n<title>140154801958480exp&#45;&gt;140154801958480</title>\n<path fill=\"none\" stroke=\"black\" d=\"M1654.17,-154.5C1662.99,-154.5 1673.43,-154.5 1684.52,-154.5\"/>\n<polygon fill=\"black\" stroke=\"black\" points=\"1684.86,-158 1694.86,-154.5 1684.86,-151 1684.86,-158\"/>\n</g>\n<!-- 140154801957472 -->\n<g id=\"node9\" class=\"node\">\n<title>140154801957472</title>\n<polygon fill=\"none\" stroke=\"black\" points=\"1071,-109.5 1071,-145.5 1256,-145.5 1256,-109.5 1071,-109.5\"/>\n<text text-anchor=\"middle\" x=\"1082.5\" y=\"-123.8\" font-family=\"Times,serif\" font-size=\"14.00\">n</text>\n<polyline fill=\"none\" stroke=\"black\" points=\"1094,-109.5 1094,-145.5 \"/>\n<text text-anchor=\"middle\" x=\"1134\" y=\"-123.8\" font-family=\"Times,serif\" font-size=\"14.00\">data 0.8814</text>\n<polyline fill=\"none\" stroke=\"black\" points=\"1174,-109.5 1174,-145.5 \"/>\n<text text-anchor=\"middle\" x=\"1215\" y=\"-123.8\" font-family=\"Times,serif\" font-size=\"14.00\">grad 0.5000</text>\n</g>\n<!-- 140154801957472&#45;&gt;140154801957952* -->\n<g id=\"edge20\" class=\"edge\">\n<title>140154801957472&#45;&gt;140154801957952*</title>\n<path fill=\"none\" stroke=\"black\" d=\"M1256.01,-143.6C1265.49,-145.26 1274.66,-146.88 1282.9,-148.33\"/>\n<polygon fill=\"black\" stroke=\"black\" points=\"1282.36,-151.78 1292.81,-150.07 1283.57,-144.89 1282.36,-151.78\"/>\n</g>\n<!-- 140154801957472+&#45;&gt;140154801957472 -->\n<g id=\"edge5\" class=\"edge\">\n<title>140154801957472+&#45;&gt;140154801957472</title>\n<path fill=\"none\" stroke=\"black\" d=\"M1035.04,-127.5C1042.58,-127.5 1051.3,-127.5 1060.57,-127.5\"/>\n<polygon fill=\"black\" stroke=\"black\" points=\"1060.81,-131 1070.81,-127.5 1060.81,-124 1060.81,-131\"/>\n</g>\n<!-- 140154802081904 -->\n<g id=\"node11\" class=\"node\">\n<title>140154802081904</title>\n<polygon fill=\"none\" stroke=\"black\" points=\"2759,-135.5 2759,-171.5 2944,-171.5 2944,-135.5 2759,-135.5\"/>\n<text text-anchor=\"middle\" x=\"2770.5\" y=\"-149.8\" font-family=\"Times,serif\" font-size=\"14.00\">o</text>\n<polyline fill=\"none\" stroke=\"black\" points=\"2782,-135.5 2782,-171.5 \"/>\n<text text-anchor=\"middle\" x=\"2822\" y=\"-149.8\" font-family=\"Times,serif\" font-size=\"14.00\">data 0.7071</text>\n<polyline fill=\"none\" stroke=\"black\" points=\"2862,-135.5 2862,-171.5 \"/>\n<text text-anchor=\"middle\" x=\"2903\" y=\"-149.8\" font-family=\"Times,serif\" font-size=\"14.00\">grad 1.0000</text>\n</g>\n<!-- 140154802081904* -->\n<g id=\"node12\" class=\"node\">\n<title>140154802081904*</title>\n<ellipse fill=\"none\" stroke=\"black\" cx=\"2696\" cy=\"-153.5\" rx=\"27\" ry=\"18\"/>\n<text text-anchor=\"middle\" x=\"2696\" y=\"-149.8\" font-family=\"Times,serif\" font-size=\"14.00\">*</text>\n</g>\n<!-- 140154802081904*&#45;&gt;140154802081904 -->\n<g id=\"edge6\" class=\"edge\">\n<title>140154802081904*&#45;&gt;140154802081904</title>\n<path fill=\"none\" stroke=\"black\" d=\"M2723.04,-153.5C2730.58,-153.5 2739.3,-153.5 2748.57,-153.5\"/>\n<polygon fill=\"black\" stroke=\"black\" points=\"2748.81,-157 2758.81,-153.5 2748.81,-150 2748.81,-157\"/>\n</g>\n<!-- 140154801955456 -->\n<g id=\"node13\" class=\"node\">\n<title>140154801955456</title>\n<polygon fill=\"none\" stroke=\"black\" points=\"328.5,-55.5 328.5,-91.5 543.5,-91.5 543.5,-55.5 328.5,-55.5\"/>\n<text text-anchor=\"middle\" x=\"355\" y=\"-69.8\" font-family=\"Times,serif\" font-size=\"14.00\">x2*w2</text>\n<polyline fill=\"none\" stroke=\"black\" points=\"381.5,-55.5 381.5,-91.5 \"/>\n<text text-anchor=\"middle\" x=\"421.5\" y=\"-69.8\" font-family=\"Times,serif\" font-size=\"14.00\">data 0.0000</text>\n<polyline fill=\"none\" stroke=\"black\" points=\"461.5,-55.5 461.5,-91.5 \"/>\n<text text-anchor=\"middle\" x=\"502.5\" y=\"-69.8\" font-family=\"Times,serif\" font-size=\"14.00\">grad 0.5000</text>\n</g>\n<!-- 140154801955456&#45;&gt;140154801957376+ -->\n<g id=\"edge25\" class=\"edge\">\n<title>140154801955456&#45;&gt;140154801957376+</title>\n<path fill=\"none\" stroke=\"black\" d=\"M543.84,-90.37C554.01,-91.98 563.76,-93.51 572.44,-94.89\"/>\n<polygon fill=\"black\" stroke=\"black\" points=\"572.05,-98.37 582.47,-96.47 573.14,-91.45 572.05,-98.37\"/>\n</g>\n<!-- 140154801955456* -->\n<g id=\"node14\" class=\"node\">\n<title>140154801955456*</title>\n<ellipse fill=\"none\" stroke=\"black\" cx=\"263\" cy=\"-73.5\" rx=\"27\" ry=\"18\"/>\n<text text-anchor=\"middle\" x=\"263\" y=\"-69.8\" font-family=\"Times,serif\" font-size=\"14.00\">*</text>\n</g>\n<!-- 140154801955456*&#45;&gt;140154801955456 -->\n<g id=\"edge7\" class=\"edge\">\n<title>140154801955456*&#45;&gt;140154801955456</title>\n<path fill=\"none\" stroke=\"black\" d=\"M290.34,-73.5C298.51,-73.5 308.08,-73.5 318.36,-73.5\"/>\n<polygon fill=\"black\" stroke=\"black\" points=\"318.39,-77 328.39,-73.5 318.39,-70 318.39,-77\"/>\n</g>\n<!-- 140154801956944 -->\n<g id=\"node15\" class=\"node\">\n<title>140154801956944</title>\n<polygon fill=\"none\" stroke=\"black\" points=\"716,-137.5 716,-173.5 901,-173.5 901,-137.5 716,-137.5\"/>\n<text text-anchor=\"middle\" x=\"727.5\" y=\"-151.8\" font-family=\"Times,serif\" font-size=\"14.00\">b</text>\n<polyline fill=\"none\" stroke=\"black\" points=\"739,-137.5 739,-173.5 \"/>\n<text text-anchor=\"middle\" x=\"779\" y=\"-151.8\" font-family=\"Times,serif\" font-size=\"14.00\">data 6.8814</text>\n<polyline fill=\"none\" stroke=\"black\" points=\"819,-137.5 819,-173.5 \"/>\n<text text-anchor=\"middle\" x=\"860\" y=\"-151.8\" font-family=\"Times,serif\" font-size=\"14.00\">grad 0.5000</text>\n</g>\n<!-- 140154801956944&#45;&gt;140154801957472+ -->\n<g id=\"edge27\" class=\"edge\">\n<title>140154801956944&#45;&gt;140154801957472+</title>\n<path fill=\"none\" stroke=\"black\" d=\"M901.02,-142.52C926,-138.98 951.59,-135.36 971.37,-132.55\"/>\n<polygon fill=\"black\" stroke=\"black\" points=\"972.03,-135.99 981.43,-131.12 971.04,-129.06 972.03,-135.99\"/>\n</g>\n<!-- 140154801958048 -->\n<g id=\"node16\" class=\"node\">\n<title>140154801958048</title>\n<polygon fill=\"none\" stroke=\"black\" points=\"2.5,-55.5 2.5,-91.5 197.5,-91.5 197.5,-55.5 2.5,-55.5\"/>\n<text text-anchor=\"middle\" x=\"19\" y=\"-69.8\" font-family=\"Times,serif\" font-size=\"14.00\">w2</text>\n<polyline fill=\"none\" stroke=\"black\" points=\"35.5,-55.5 35.5,-91.5 \"/>\n<text text-anchor=\"middle\" x=\"75.5\" y=\"-69.8\" font-family=\"Times,serif\" font-size=\"14.00\">data 1.0000</text>\n<polyline fill=\"none\" stroke=\"black\" points=\"115.5,-55.5 115.5,-91.5 \"/>\n<text text-anchor=\"middle\" x=\"156.5\" y=\"-69.8\" font-family=\"Times,serif\" font-size=\"14.00\">grad 0.0000</text>\n</g>\n<!-- 140154801958048&#45;&gt;140154801955456* -->\n<g id=\"edge15\" class=\"edge\">\n<title>140154801958048&#45;&gt;140154801955456*</title>\n<path fill=\"none\" stroke=\"black\" d=\"M197.91,-73.5C207.65,-73.5 217.05,-73.5 225.52,-73.5\"/>\n<polygon fill=\"black\" stroke=\"black\" points=\"225.7,-77 235.7,-73.5 225.7,-70 225.7,-77\"/>\n</g>\n<!-- 140154802374832 -->\n<g id=\"node17\" class=\"node\">\n<title>140154802374832</title>\n<polygon fill=\"none\" stroke=\"black\" points=\"4,-0.5 4,-36.5 196,-36.5 196,-0.5 4,-0.5\"/>\n<text text-anchor=\"middle\" x=\"19\" y=\"-14.8\" font-family=\"Times,serif\" font-size=\"14.00\">x2</text>\n<polyline fill=\"none\" stroke=\"black\" points=\"34,-0.5 34,-36.5 \"/>\n<text text-anchor=\"middle\" x=\"74\" y=\"-14.8\" font-family=\"Times,serif\" font-size=\"14.00\">data 0.0000</text>\n<polyline fill=\"none\" stroke=\"black\" points=\"114,-0.5 114,-36.5 \"/>\n<text text-anchor=\"middle\" x=\"155\" y=\"-14.8\" font-family=\"Times,serif\" font-size=\"14.00\">grad 0.5000</text>\n</g>\n<!-- 140154802374832&#45;&gt;140154801955456* -->\n<g id=\"edge17\" class=\"edge\">\n<title>140154802374832&#45;&gt;140154801955456*</title>\n<path fill=\"none\" stroke=\"black\" d=\"M172.53,-36.56C181.84,-39.33 191.2,-42.33 200,-45.5 210.53,-49.29 221.75,-54.1 231.72,-58.67\"/>\n<polygon fill=\"black\" stroke=\"black\" points=\"230.28,-61.86 240.82,-62.93 233.25,-55.52 230.28,-61.86\"/>\n</g>\n<!-- 140154802376416 -->\n<g id=\"node18\" class=\"node\">\n<title>140154802376416</title>\n<polygon fill=\"none\" stroke=\"black\" points=\"2,-165.5 2,-201.5 198,-201.5 198,-165.5 2,-165.5\"/>\n<text text-anchor=\"middle\" x=\"17\" y=\"-179.8\" font-family=\"Times,serif\" font-size=\"14.00\">x1</text>\n<polyline fill=\"none\" stroke=\"black\" points=\"32,-165.5 32,-201.5 \"/>\n<text text-anchor=\"middle\" x=\"72\" y=\"-179.8\" font-family=\"Times,serif\" font-size=\"14.00\">data 2.0000</text>\n<polyline fill=\"none\" stroke=\"black\" points=\"112,-165.5 112,-201.5 \"/>\n<text text-anchor=\"middle\" x=\"155\" y=\"-179.8\" font-family=\"Times,serif\" font-size=\"14.00\">grad &#45;1.5000</text>\n</g>\n<!-- 140154802376416&#45;&gt;140154801956896* -->\n<g id=\"edge11\" class=\"edge\">\n<title>140154802376416&#45;&gt;140154801956896*</title>\n<path fill=\"none\" stroke=\"black\" d=\"M172.53,-165.44C181.84,-162.67 191.2,-159.67 200,-156.5 210.53,-152.71 221.75,-147.9 231.72,-143.33\"/>\n<polygon fill=\"black\" stroke=\"black\" points=\"233.25,-146.48 240.82,-139.07 230.28,-140.14 233.25,-146.48\"/>\n</g>\n<!-- 140154801957136 -->\n<g id=\"node19\" class=\"node\">\n<title>140154801957136</title>\n<polygon fill=\"none\" stroke=\"black\" points=\"2233,-108.5 2233,-144.5 2415,-144.5 2415,-108.5 2233,-108.5\"/>\n<text text-anchor=\"middle\" x=\"2243\" y=\"-122.8\" font-family=\"Times,serif\" font-size=\"14.00\"> </text>\n<polyline fill=\"none\" stroke=\"black\" points=\"2253,-108.5 2253,-144.5 \"/>\n<text text-anchor=\"middle\" x=\"2293\" y=\"-122.8\" font-family=\"Times,serif\" font-size=\"14.00\">data 4.8284</text>\n<polyline fill=\"none\" stroke=\"black\" points=\"2333,-108.5 2333,-144.5 \"/>\n<text text-anchor=\"middle\" x=\"2374\" y=\"-122.8\" font-family=\"Times,serif\" font-size=\"14.00\">grad 0.1464</text>\n</g>\n<!-- 140154801957136&#45;&gt;140154802081904* -->\n<g id=\"edge22\" class=\"edge\">\n<title>140154801957136&#45;&gt;140154802081904*</title>\n<path fill=\"none\" stroke=\"black\" d=\"M2415.04,-133.07C2493.41,-138.79 2602.98,-146.79 2658.96,-150.87\"/>\n<polygon fill=\"black\" stroke=\"black\" points=\"2658.87,-154.37 2669.1,-151.61 2659.38,-147.39 2658.87,-154.37\"/>\n</g>\n<!-- 140154801957136+&#45;&gt;140154801957136 -->\n<g id=\"edge8\" class=\"edge\">\n<title>140154801957136+&#45;&gt;140154801957136</title>\n<path fill=\"none\" stroke=\"black\" d=\"M1975,-126.5C2025.46,-126.5 2139.06,-126.5 2222.81,-126.5\"/>\n<polygon fill=\"black\" stroke=\"black\" points=\"2222.87,-130 2232.87,-126.5 2222.87,-123 2222.87,-130\"/>\n</g>\n<!-- 140154801958672 -->\n<g id=\"node21\" class=\"node\">\n<title>140154801958672</title>\n<polygon fill=\"none\" stroke=\"black\" points=\"1690,-81.5 1690,-117.5 1885,-117.5 1885,-81.5 1690,-81.5\"/>\n<text text-anchor=\"middle\" x=\"1704\" y=\"-95.8\" font-family=\"Times,serif\" font-size=\"14.00\">&#45;1</text>\n<polyline fill=\"none\" stroke=\"black\" points=\"1718,-81.5 1718,-117.5 \"/>\n<text text-anchor=\"middle\" x=\"1760.5\" y=\"-95.8\" font-family=\"Times,serif\" font-size=\"14.00\">data &#45;1.0000</text>\n<polyline fill=\"none\" stroke=\"black\" points=\"1803,-81.5 1803,-117.5 \"/>\n<text text-anchor=\"middle\" x=\"1844\" y=\"-95.8\" font-family=\"Times,serif\" font-size=\"14.00\">grad 0.1464</text>\n</g>\n<!-- 140154801958672&#45;&gt;140154801957136+ -->\n<g id=\"edge16\" class=\"edge\">\n<title>140154801958672&#45;&gt;140154801957136+</title>\n<path fill=\"none\" stroke=\"black\" d=\"M1885.27,-115.98C1894.59,-117.57 1903.57,-119.1 1911.66,-120.48\"/>\n<polygon fill=\"black\" stroke=\"black\" points=\"1911.29,-123.97 1921.73,-122.2 1912.46,-117.07 1911.29,-123.97\"/>\n</g>\n<!-- 140154801958288 -->\n<g id=\"node22\" class=\"node\">\n<title>140154801958288</title>\n<polygon fill=\"none\" stroke=\"black\" points=\"2451,-161.5 2451,-197.5 2633,-197.5 2633,-161.5 2451,-161.5\"/>\n<text text-anchor=\"middle\" x=\"2461\" y=\"-175.8\" font-family=\"Times,serif\" font-size=\"14.00\"> </text>\n<polyline fill=\"none\" stroke=\"black\" points=\"2471,-161.5 2471,-197.5 \"/>\n<text text-anchor=\"middle\" x=\"2511\" y=\"-175.8\" font-family=\"Times,serif\" font-size=\"14.00\">data 0.1464</text>\n<polyline fill=\"none\" stroke=\"black\" points=\"2551,-161.5 2551,-197.5 \"/>\n<text text-anchor=\"middle\" x=\"2592\" y=\"-175.8\" font-family=\"Times,serif\" font-size=\"14.00\">grad 4.8284</text>\n</g>\n<!-- 140154801958288&#45;&gt;140154802081904* -->\n<g id=\"edge19\" class=\"edge\">\n<title>140154801958288&#45;&gt;140154802081904*</title>\n<path fill=\"none\" stroke=\"black\" d=\"M2633.18,-164.08C2642.42,-162.49 2651.38,-160.96 2659.47,-159.58\"/>\n<polygon fill=\"black\" stroke=\"black\" points=\"2660.29,-162.99 2669.56,-157.85 2659.11,-156.09 2660.29,-162.99\"/>\n</g>\n<!-- 140154801958288**&#45;1 -->\n<g id=\"node23\" class=\"node\">\n<title>140154801958288**&#45;1</title>\n<ellipse fill=\"none\" stroke=\"black\" cx=\"2324\" cy=\"-181.5\" rx=\"27\" ry=\"18\"/>\n<text text-anchor=\"middle\" x=\"2324\" y=\"-177.8\" font-family=\"Times,serif\" font-size=\"14.00\">**&#45;1</text>\n</g>\n<!-- 140154801958288**&#45;1&#45;&gt;140154801958288 -->\n<g id=\"edge9\" class=\"edge\">\n<title>140154801958288**&#45;1&#45;&gt;140154801958288</title>\n<path fill=\"none\" stroke=\"black\" d=\"M2351.05,-181.26C2373.53,-181.05 2407.48,-180.74 2440.5,-180.43\"/>\n<polygon fill=\"black\" stroke=\"black\" points=\"2440.74,-183.93 2450.7,-180.34 2440.67,-176.93 2440.74,-183.93\"/>\n</g>\n<!-- 140154801958816 -->\n<g id=\"node24\" class=\"node\">\n<title>140154801958816</title>\n<polygon fill=\"none\" stroke=\"black\" points=\"1693,-191.5 1693,-227.5 1882,-227.5 1882,-191.5 1693,-191.5\"/>\n<text text-anchor=\"middle\" x=\"1704.5\" y=\"-205.8\" font-family=\"Times,serif\" font-size=\"14.00\">1</text>\n<polyline fill=\"none\" stroke=\"black\" points=\"1716,-191.5 1716,-227.5 \"/>\n<text text-anchor=\"middle\" x=\"1756\" y=\"-205.8\" font-family=\"Times,serif\" font-size=\"14.00\">data 1.0000</text>\n<polyline fill=\"none\" stroke=\"black\" points=\"1796,-191.5 1796,-227.5 \"/>\n<text text-anchor=\"middle\" x=\"1839\" y=\"-205.8\" font-family=\"Times,serif\" font-size=\"14.00\">grad &#45;0.1036</text>\n</g>\n<!-- 140154801958816&#45;&gt;140154801958864+ -->\n<g id=\"edge21\" class=\"edge\">\n<title>140154801958816&#45;&gt;140154801958864+</title>\n<path fill=\"none\" stroke=\"black\" d=\"M1882.07,-192.97C1892.58,-191.11 1902.73,-189.32 1911.77,-187.72\"/>\n<polygon fill=\"black\" stroke=\"black\" points=\"1912.58,-191.14 1921.82,-185.95 1911.36,-184.24 1912.58,-191.14\"/>\n</g>\n<!-- 140154801958864 -->\n<g id=\"node25\" class=\"node\">\n<title>140154801958864</title>\n<polygon fill=\"none\" stroke=\"black\" points=\"2011,-163.5 2011,-199.5 2197,-199.5 2197,-163.5 2011,-163.5\"/>\n<text text-anchor=\"middle\" x=\"2021\" y=\"-177.8\" font-family=\"Times,serif\" font-size=\"14.00\"> </text>\n<polyline fill=\"none\" stroke=\"black\" points=\"2031,-163.5 2031,-199.5 \"/>\n<text text-anchor=\"middle\" x=\"2071\" y=\"-177.8\" font-family=\"Times,serif\" font-size=\"14.00\">data 6.8284</text>\n<polyline fill=\"none\" stroke=\"black\" points=\"2111,-163.5 2111,-199.5 \"/>\n<text text-anchor=\"middle\" x=\"2154\" y=\"-177.8\" font-family=\"Times,serif\" font-size=\"14.00\">grad &#45;0.1036</text>\n</g>\n<!-- 140154801958864&#45;&gt;140154801958288**&#45;1 -->\n<g id=\"edge28\" class=\"edge\">\n<title>140154801958864&#45;&gt;140154801958288**&#45;1</title>\n<path fill=\"none\" stroke=\"black\" d=\"M2197.14,-181.5C2228.72,-181.5 2262.24,-181.5 2286.74,-181.5\"/>\n<polygon fill=\"black\" stroke=\"black\" points=\"2286.98,-185 2296.98,-181.5 2286.98,-178 2286.98,-185\"/>\n</g>\n<!-- 140154801958864+&#45;&gt;140154801958864 -->\n<g id=\"edge10\" class=\"edge\">\n<title>140154801958864+&#45;&gt;140154801958864</title>\n<path fill=\"none\" stroke=\"black\" d=\"M1975.12,-181.5C1982.62,-181.5 1991.29,-181.5 2000.5,-181.5\"/>\n<polygon fill=\"black\" stroke=\"black\" points=\"2000.69,-185 2010.69,-181.5 2000.69,-178 2000.69,-185\"/>\n</g>\n<!-- 140154801957856 -->\n<g id=\"node27\" class=\"node\">\n<title>140154801957856</title>\n<polygon fill=\"none\" stroke=\"black\" points=\"1071,-164.5 1071,-200.5 1256,-200.5 1256,-164.5 1071,-164.5\"/>\n<text text-anchor=\"middle\" x=\"1082.5\" y=\"-178.8\" font-family=\"Times,serif\" font-size=\"14.00\">2</text>\n<polyline fill=\"none\" stroke=\"black\" points=\"1094,-164.5 1094,-200.5 \"/>\n<text text-anchor=\"middle\" x=\"1134\" y=\"-178.8\" font-family=\"Times,serif\" font-size=\"14.00\">data 2.0000</text>\n<polyline fill=\"none\" stroke=\"black\" points=\"1174,-164.5 1174,-200.5 \"/>\n<text text-anchor=\"middle\" x=\"1215\" y=\"-178.8\" font-family=\"Times,serif\" font-size=\"14.00\">grad 0.2203</text>\n</g>\n<!-- 140154801957856&#45;&gt;140154801957952* -->\n<g id=\"edge24\" class=\"edge\">\n<title>140154801957856&#45;&gt;140154801957952*</title>\n<path fill=\"none\" stroke=\"black\" d=\"M1256.01,-165.81C1265.49,-164.08 1274.66,-162.41 1282.9,-160.9\"/>\n<polygon fill=\"black\" stroke=\"black\" points=\"1283.6,-164.33 1292.81,-159.09 1282.35,-157.45 1283.6,-164.33\"/>\n</g>\n<!-- 140154801958384 -->\n<g id=\"node28\" class=\"node\">\n<title>140154801958384</title>\n<polygon fill=\"none\" stroke=\"black\" points=\"0,-110.5 0,-146.5 200,-146.5 200,-110.5 0,-110.5\"/>\n<text text-anchor=\"middle\" x=\"16.5\" y=\"-124.8\" font-family=\"Times,serif\" font-size=\"14.00\">w1</text>\n<polyline fill=\"none\" stroke=\"black\" points=\"33,-110.5 33,-146.5 \"/>\n<text text-anchor=\"middle\" x=\"75.5\" y=\"-124.8\" font-family=\"Times,serif\" font-size=\"14.00\">data &#45;3.0000</text>\n<polyline fill=\"none\" stroke=\"black\" points=\"118,-110.5 118,-146.5 \"/>\n<text text-anchor=\"middle\" x=\"159\" y=\"-124.8\" font-family=\"Times,serif\" font-size=\"14.00\">grad 1.0000</text>\n</g>\n<!-- 140154801958384&#45;&gt;140154801956896* -->\n<g id=\"edge14\" class=\"edge\">\n<title>140154801958384&#45;&gt;140154801956896*</title>\n<path fill=\"none\" stroke=\"black\" d=\"M200.21,-128.5C209.2,-128.5 217.86,-128.5 225.7,-128.5\"/>\n<polygon fill=\"black\" stroke=\"black\" points=\"225.85,-132 235.85,-128.5 225.85,-125 225.85,-132\"/>\n</g>\n</g>\n</svg>\n"
          },
          "metadata": {},
          "execution_count": 209
        }
      ]
    },
    {
      "cell_type": "code",
      "source": [
        "def build_graph_sigmoid():\n",
        "  # inputs\n",
        "  x1 = Value(2.0, label='x1')\n",
        "  x2 = Value(0.0, label='x2')\n",
        "\n",
        "  # weights\n",
        "  w1 = Value(-3.0, label='w1')\n",
        "  w2 = Value(1.0, label='w2')\n",
        "\n",
        "  # bias\n",
        "  b = Value(6.8813735870195432, label='b')\n",
        "\n",
        "  # weights x inputs\n",
        "  x1w1 = x1 * w1; x1w1.label = 'x1*w1'\n",
        "  x2w2 = x2 * w2; x2w2.label = 'x2*w2'\n",
        "\n",
        "  # dot product\n",
        "  x1w1x2w2 = x1w1 + x2w2; x1w1x2w2.label = 'x1*w1 + x2*w2'\n",
        "\n",
        "  # adding the bias\n",
        "  n = x1w1x2w2 + b; n.label = 'n'\n",
        "\n",
        "  o = n.sigmoid()\n",
        "  o.label = 'o'\n",
        "  return o\n",
        "\n",
        "def build_graph_softplus():\n",
        "  # inputs\n",
        "  x1 = Value(2.0, label='x1')\n",
        "  x2 = Value(0.0, label='x2')\n",
        "\n",
        "  # weights\n",
        "  w1 = Value(-3.0, label='w1')\n",
        "  w2 = Value(1.0, label='w2')\n",
        "\n",
        "  # bias\n",
        "  b = Value(6.8813735870195432, label='b')\n",
        "\n",
        "  # weights x inputs\n",
        "  x1w1 = x1 * w1; x1w1.label = 'x1*w1'\n",
        "  x2w2 = x2 * w2; x2w2.label = 'x2*w2'\n",
        "\n",
        "  # dot product\n",
        "  x1w1x2w2 = x1w1 + x2w2; x1w1x2w2.label = 'x1*w1 + x2*w2'\n",
        "\n",
        "  # adding the bias\n",
        "  n = x1w1x2w2 + b; n.label = 'n'\n",
        "\n",
        "  o = n.softplus()\n",
        "  o.label = 'o'\n",
        "  return o\n",
        "\n",
        "def build_graph_relu():\n",
        "  # inputs\n",
        "  x1 = Value(2.0, label='x1')\n",
        "  x2 = Value(0.0, label='x2')\n",
        "\n",
        "  # weights\n",
        "  w1 = Value(-3.0, label='w1')\n",
        "  w2 = Value(1.0, label='w2')\n",
        "\n",
        "  # bias\n",
        "  b = Value(6.8813735870195432, label='b')\n",
        "\n",
        "  # weights x inputs\n",
        "  x1w1 = x1 * w1; x1w1.label = 'x1*w1'\n",
        "  x2w2 = x2 * w2; x2w2.label = 'x2*w2'\n",
        "\n",
        "  # dot product\n",
        "  x1w1x2w2 = x1w1 + x2w2; x1w1x2w2.label = 'x1*w1 + x2*w2'\n",
        "\n",
        "  # adding the bias\n",
        "  n = x1w1x2w2 + b; n.label = 'n'\n",
        "\n",
        "  o = n.relu()\n",
        "  o.label = 'o'\n",
        "  return o"
      ],
      "metadata": {
        "id": "NHMCejwyRi0T"
      },
      "execution_count": 210,
      "outputs": []
    },
    {
      "cell_type": "code",
      "source": [
        "o = build_graph_softplus()\n",
        "o.backward()\n",
        "draw_dot(o)"
      ],
      "metadata": {
        "colab": {
          "base_uri": "https://localhost:8080/",
          "height": 321
        },
        "id": "7Hgr6_z2WEdo",
        "outputId": "27bef3b5-1c4c-46ef-fd92-d4978c306bae"
      },
      "execution_count": 211,
      "outputs": [
        {
          "output_type": "execute_result",
          "data": {
            "text/plain": [
              "<graphviz.dot.Digraph at 0x7f7855358340>"
            ],
            "image/svg+xml": "<?xml version=\"1.0\" encoding=\"UTF-8\" standalone=\"no\"?>\n<!DOCTYPE svg PUBLIC \"-//W3C//DTD SVG 1.1//EN\"\n \"http://www.w3.org/Graphics/SVG/1.1/DTD/svg11.dtd\">\n<!-- Generated by graphviz version 2.43.0 (0)\n -->\n<!-- Title: %3 Pages: 1 -->\n<svg width=\"1598pt\" height=\"210pt\"\n viewBox=\"0.00 0.00 1597.69 210.00\" xmlns=\"http://www.w3.org/2000/svg\" xmlns:xlink=\"http://www.w3.org/1999/xlink\">\n<g id=\"graph0\" class=\"graph\" transform=\"scale(1 1) rotate(0) translate(4 206)\">\n<title>%3</title>\n<polygon fill=\"white\" stroke=\"transparent\" points=\"-4,4 -4,-206 1593.69,-206 1593.69,4 -4,4\"/>\n<!-- 140154802374208 -->\n<g id=\"node1\" class=\"node\">\n<title>140154802374208</title>\n<polygon fill=\"none\" stroke=\"black\" points=\"1404.69,-54.5 1404.69,-90.5 1589.69,-90.5 1589.69,-54.5 1404.69,-54.5\"/>\n<text text-anchor=\"middle\" x=\"1416.19\" y=\"-68.8\" font-family=\"Times,serif\" font-size=\"14.00\">o</text>\n<polyline fill=\"none\" stroke=\"black\" points=\"1427.69,-54.5 1427.69,-90.5 \"/>\n<text text-anchor=\"middle\" x=\"1467.69\" y=\"-68.8\" font-family=\"Times,serif\" font-size=\"14.00\">data 1.2279</text>\n<polyline fill=\"none\" stroke=\"black\" points=\"1507.69,-54.5 1507.69,-90.5 \"/>\n<text text-anchor=\"middle\" x=\"1548.69\" y=\"-68.8\" font-family=\"Times,serif\" font-size=\"14.00\">grad 1.0000</text>\n</g>\n<!-- 140154802374208softplus -->\n<g id=\"node2\" class=\"node\">\n<title>140154802374208softplus</title>\n<ellipse fill=\"none\" stroke=\"black\" cx=\"1330.35\" cy=\"-72.5\" rx=\"38.19\" ry=\"18\"/>\n<text text-anchor=\"middle\" x=\"1330.35\" y=\"-68.8\" font-family=\"Times,serif\" font-size=\"14.00\">softplus</text>\n</g>\n<!-- 140154802374208softplus&#45;&gt;140154802374208 -->\n<g id=\"edge1\" class=\"edge\">\n<title>140154802374208softplus&#45;&gt;140154802374208</title>\n<path fill=\"none\" stroke=\"black\" d=\"M1368.75,-72.5C1376.62,-72.5 1385.28,-72.5 1394.26,-72.5\"/>\n<polygon fill=\"black\" stroke=\"black\" points=\"1394.52,-76 1404.52,-72.5 1394.52,-69 1394.52,-76\"/>\n</g>\n<!-- 140154802374736 -->\n<g id=\"node3\" class=\"node\">\n<title>140154802374736</title>\n<polygon fill=\"none\" stroke=\"black\" points=\"672,-82.5 672,-118.5 945,-118.5 945,-82.5 672,-82.5\"/>\n<text text-anchor=\"middle\" x=\"725\" y=\"-96.8\" font-family=\"Times,serif\" font-size=\"14.00\">x1*w1 + x2*w2</text>\n<polyline fill=\"none\" stroke=\"black\" points=\"778,-82.5 778,-118.5 \"/>\n<text text-anchor=\"middle\" x=\"820.5\" y=\"-96.8\" font-family=\"Times,serif\" font-size=\"14.00\">data &#45;6.0000</text>\n<polyline fill=\"none\" stroke=\"black\" points=\"863,-82.5 863,-118.5 \"/>\n<text text-anchor=\"middle\" x=\"904\" y=\"-96.8\" font-family=\"Times,serif\" font-size=\"14.00\">grad 0.7071</text>\n</g>\n<!-- 140154802375360+ -->\n<g id=\"node11\" class=\"node\">\n<title>140154802375360+</title>\n<ellipse fill=\"none\" stroke=\"black\" cx=\"1008\" cy=\"-72.5\" rx=\"27\" ry=\"18\"/>\n<text text-anchor=\"middle\" x=\"1008\" y=\"-68.8\" font-family=\"Times,serif\" font-size=\"14.00\">+</text>\n</g>\n<!-- 140154802374736&#45;&gt;140154802375360+ -->\n<g id=\"edge8\" class=\"edge\">\n<title>140154802374736&#45;&gt;140154802375360+</title>\n<path fill=\"none\" stroke=\"black\" d=\"M936.53,-82.49C949.09,-80.71 960.99,-79.02 971.3,-77.56\"/>\n<polygon fill=\"black\" stroke=\"black\" points=\"972.03,-80.99 981.44,-76.12 971.05,-74.06 972.03,-80.99\"/>\n</g>\n<!-- 140154802374736+ -->\n<g id=\"node4\" class=\"node\">\n<title>140154802374736+</title>\n<ellipse fill=\"none\" stroke=\"black\" cx=\"609\" cy=\"-100.5\" rx=\"27\" ry=\"18\"/>\n<text text-anchor=\"middle\" x=\"609\" y=\"-96.8\" font-family=\"Times,serif\" font-size=\"14.00\">+</text>\n</g>\n<!-- 140154802374736+&#45;&gt;140154802374736 -->\n<g id=\"edge2\" class=\"edge\">\n<title>140154802374736+&#45;&gt;140154802374736</title>\n<path fill=\"none\" stroke=\"black\" d=\"M636.23,-100.5C643.7,-100.5 652.41,-100.5 661.87,-100.5\"/>\n<polygon fill=\"black\" stroke=\"black\" points=\"661.98,-104 671.98,-100.5 661.98,-97 661.98,-104\"/>\n</g>\n<!-- 140154802351168 -->\n<g id=\"node5\" class=\"node\">\n<title>140154802351168</title>\n<polygon fill=\"none\" stroke=\"black\" points=\"4,-165.5 4,-201.5 196,-201.5 196,-165.5 4,-165.5\"/>\n<text text-anchor=\"middle\" x=\"19\" y=\"-179.8\" font-family=\"Times,serif\" font-size=\"14.00\">x2</text>\n<polyline fill=\"none\" stroke=\"black\" points=\"34,-165.5 34,-201.5 \"/>\n<text text-anchor=\"middle\" x=\"74\" y=\"-179.8\" font-family=\"Times,serif\" font-size=\"14.00\">data 0.0000</text>\n<polyline fill=\"none\" stroke=\"black\" points=\"114,-165.5 114,-201.5 \"/>\n<text text-anchor=\"middle\" x=\"155\" y=\"-179.8\" font-family=\"Times,serif\" font-size=\"14.00\">grad 0.7071</text>\n</g>\n<!-- 140154802373248* -->\n<g id=\"node8\" class=\"node\">\n<title>140154802373248*</title>\n<ellipse fill=\"none\" stroke=\"black\" cx=\"263\" cy=\"-128.5\" rx=\"27\" ry=\"18\"/>\n<text text-anchor=\"middle\" x=\"263\" y=\"-124.8\" font-family=\"Times,serif\" font-size=\"14.00\">*</text>\n</g>\n<!-- 140154802351168&#45;&gt;140154802373248* -->\n<g id=\"edge11\" class=\"edge\">\n<title>140154802351168&#45;&gt;140154802373248*</title>\n<path fill=\"none\" stroke=\"black\" d=\"M172.53,-165.44C181.84,-162.67 191.2,-159.67 200,-156.5 210.53,-152.71 221.75,-147.9 231.72,-143.33\"/>\n<polygon fill=\"black\" stroke=\"black\" points=\"233.25,-146.48 240.82,-139.07 230.28,-140.14 233.25,-146.48\"/>\n</g>\n<!-- 140154802348144 -->\n<g id=\"node6\" class=\"node\">\n<title>140154802348144</title>\n<polygon fill=\"none\" stroke=\"black\" points=\"2.5,-110.5 2.5,-146.5 197.5,-146.5 197.5,-110.5 2.5,-110.5\"/>\n<text text-anchor=\"middle\" x=\"19\" y=\"-124.8\" font-family=\"Times,serif\" font-size=\"14.00\">w2</text>\n<polyline fill=\"none\" stroke=\"black\" points=\"35.5,-110.5 35.5,-146.5 \"/>\n<text text-anchor=\"middle\" x=\"75.5\" y=\"-124.8\" font-family=\"Times,serif\" font-size=\"14.00\">data 1.0000</text>\n<polyline fill=\"none\" stroke=\"black\" points=\"115.5,-110.5 115.5,-146.5 \"/>\n<text text-anchor=\"middle\" x=\"156.5\" y=\"-124.8\" font-family=\"Times,serif\" font-size=\"14.00\">grad 0.0000</text>\n</g>\n<!-- 140154802348144&#45;&gt;140154802373248* -->\n<g id=\"edge10\" class=\"edge\">\n<title>140154802348144&#45;&gt;140154802373248*</title>\n<path fill=\"none\" stroke=\"black\" d=\"M197.91,-128.5C207.65,-128.5 217.05,-128.5 225.52,-128.5\"/>\n<polygon fill=\"black\" stroke=\"black\" points=\"225.7,-132 235.7,-128.5 225.7,-125 225.7,-132\"/>\n</g>\n<!-- 140154802373248 -->\n<g id=\"node7\" class=\"node\">\n<title>140154802373248</title>\n<polygon fill=\"none\" stroke=\"black\" points=\"328.5,-110.5 328.5,-146.5 543.5,-146.5 543.5,-110.5 328.5,-110.5\"/>\n<text text-anchor=\"middle\" x=\"355\" y=\"-124.8\" font-family=\"Times,serif\" font-size=\"14.00\">x2*w2</text>\n<polyline fill=\"none\" stroke=\"black\" points=\"381.5,-110.5 381.5,-146.5 \"/>\n<text text-anchor=\"middle\" x=\"421.5\" y=\"-124.8\" font-family=\"Times,serif\" font-size=\"14.00\">data 0.0000</text>\n<polyline fill=\"none\" stroke=\"black\" points=\"461.5,-110.5 461.5,-146.5 \"/>\n<text text-anchor=\"middle\" x=\"502.5\" y=\"-124.8\" font-family=\"Times,serif\" font-size=\"14.00\">grad 0.7071</text>\n</g>\n<!-- 140154802373248&#45;&gt;140154802374736+ -->\n<g id=\"edge7\" class=\"edge\">\n<title>140154802373248&#45;&gt;140154802374736+</title>\n<path fill=\"none\" stroke=\"black\" d=\"M543.84,-111.01C554.01,-109.34 563.76,-107.74 572.44,-106.32\"/>\n<polygon fill=\"black\" stroke=\"black\" points=\"573.17,-109.75 582.47,-104.68 572.04,-102.84 573.17,-109.75\"/>\n</g>\n<!-- 140154802373248*&#45;&gt;140154802373248 -->\n<g id=\"edge3\" class=\"edge\">\n<title>140154802373248*&#45;&gt;140154802373248</title>\n<path fill=\"none\" stroke=\"black\" d=\"M290.34,-128.5C298.51,-128.5 308.08,-128.5 318.36,-128.5\"/>\n<polygon fill=\"black\" stroke=\"black\" points=\"318.39,-132 328.39,-128.5 318.39,-125 318.39,-132\"/>\n</g>\n<!-- 140154802349728 -->\n<g id=\"node9\" class=\"node\">\n<title>140154802349728</title>\n<polygon fill=\"none\" stroke=\"black\" points=\"2,-55.5 2,-91.5 198,-91.5 198,-55.5 2,-55.5\"/>\n<text text-anchor=\"middle\" x=\"17\" y=\"-69.8\" font-family=\"Times,serif\" font-size=\"14.00\">x1</text>\n<polyline fill=\"none\" stroke=\"black\" points=\"32,-55.5 32,-91.5 \"/>\n<text text-anchor=\"middle\" x=\"72\" y=\"-69.8\" font-family=\"Times,serif\" font-size=\"14.00\">data 2.0000</text>\n<polyline fill=\"none\" stroke=\"black\" points=\"112,-55.5 112,-91.5 \"/>\n<text text-anchor=\"middle\" x=\"155\" y=\"-69.8\" font-family=\"Times,serif\" font-size=\"14.00\">grad &#45;2.1213</text>\n</g>\n<!-- 140154802348288* -->\n<g id=\"node13\" class=\"node\">\n<title>140154802348288*</title>\n<ellipse fill=\"none\" stroke=\"black\" cx=\"263\" cy=\"-73.5\" rx=\"27\" ry=\"18\"/>\n<text text-anchor=\"middle\" x=\"263\" y=\"-69.8\" font-family=\"Times,serif\" font-size=\"14.00\">*</text>\n</g>\n<!-- 140154802349728&#45;&gt;140154802348288* -->\n<g id=\"edge14\" class=\"edge\">\n<title>140154802349728&#45;&gt;140154802348288*</title>\n<path fill=\"none\" stroke=\"black\" d=\"M198.37,-73.5C208.05,-73.5 217.4,-73.5 225.8,-73.5\"/>\n<polygon fill=\"black\" stroke=\"black\" points=\"225.91,-77 235.91,-73.5 225.91,-70 225.91,-77\"/>\n</g>\n<!-- 140154802375360 -->\n<g id=\"node10\" class=\"node\">\n<title>140154802375360</title>\n<polygon fill=\"none\" stroke=\"black\" points=\"1071,-54.5 1071,-90.5 1256,-90.5 1256,-54.5 1071,-54.5\"/>\n<text text-anchor=\"middle\" x=\"1082.5\" y=\"-68.8\" font-family=\"Times,serif\" font-size=\"14.00\">n</text>\n<polyline fill=\"none\" stroke=\"black\" points=\"1094,-54.5 1094,-90.5 \"/>\n<text text-anchor=\"middle\" x=\"1134\" y=\"-68.8\" font-family=\"Times,serif\" font-size=\"14.00\">data 0.8814</text>\n<polyline fill=\"none\" stroke=\"black\" points=\"1174,-54.5 1174,-90.5 \"/>\n<text text-anchor=\"middle\" x=\"1215\" y=\"-68.8\" font-family=\"Times,serif\" font-size=\"14.00\">grad 0.7071</text>\n</g>\n<!-- 140154802375360&#45;&gt;140154802374208softplus -->\n<g id=\"edge6\" class=\"edge\">\n<title>140154802375360&#45;&gt;140154802374208softplus</title>\n<path fill=\"none\" stroke=\"black\" d=\"M1256.08,-72.5C1264.94,-72.5 1273.66,-72.5 1281.81,-72.5\"/>\n<polygon fill=\"black\" stroke=\"black\" points=\"1281.81,-76 1291.81,-72.5 1281.81,-69 1281.81,-76\"/>\n</g>\n<!-- 140154802375360+&#45;&gt;140154802375360 -->\n<g id=\"edge4\" class=\"edge\">\n<title>140154802375360+&#45;&gt;140154802375360</title>\n<path fill=\"none\" stroke=\"black\" d=\"M1035.04,-72.5C1042.58,-72.5 1051.3,-72.5 1060.57,-72.5\"/>\n<polygon fill=\"black\" stroke=\"black\" points=\"1060.81,-76 1070.81,-72.5 1060.81,-69 1060.81,-76\"/>\n</g>\n<!-- 140154802348288 -->\n<g id=\"node12\" class=\"node\">\n<title>140154802348288</title>\n<polygon fill=\"none\" stroke=\"black\" points=\"326,-55.5 326,-91.5 546,-91.5 546,-55.5 326,-55.5\"/>\n<text text-anchor=\"middle\" x=\"352.5\" y=\"-69.8\" font-family=\"Times,serif\" font-size=\"14.00\">x1*w1</text>\n<polyline fill=\"none\" stroke=\"black\" points=\"379,-55.5 379,-91.5 \"/>\n<text text-anchor=\"middle\" x=\"421.5\" y=\"-69.8\" font-family=\"Times,serif\" font-size=\"14.00\">data &#45;6.0000</text>\n<polyline fill=\"none\" stroke=\"black\" points=\"464,-55.5 464,-91.5 \"/>\n<text text-anchor=\"middle\" x=\"505\" y=\"-69.8\" font-family=\"Times,serif\" font-size=\"14.00\">grad 0.7071</text>\n</g>\n<!-- 140154802348288&#45;&gt;140154802374736+ -->\n<g id=\"edge9\" class=\"edge\">\n<title>140154802348288&#45;&gt;140154802374736+</title>\n<path fill=\"none\" stroke=\"black\" d=\"M546.27,-90.75C555.64,-92.23 564.6,-93.65 572.65,-94.92\"/>\n<polygon fill=\"black\" stroke=\"black\" points=\"572.23,-98.4 582.65,-96.5 573.32,-91.48 572.23,-98.4\"/>\n</g>\n<!-- 140154802348288*&#45;&gt;140154802348288 -->\n<g id=\"edge5\" class=\"edge\">\n<title>140154802348288*&#45;&gt;140154802348288</title>\n<path fill=\"none\" stroke=\"black\" d=\"M290.34,-73.5C297.77,-73.5 306.37,-73.5 315.6,-73.5\"/>\n<polygon fill=\"black\" stroke=\"black\" points=\"315.84,-77 325.84,-73.5 315.84,-70 315.84,-77\"/>\n</g>\n<!-- 140154802348384 -->\n<g id=\"node14\" class=\"node\">\n<title>140154802348384</title>\n<polygon fill=\"none\" stroke=\"black\" points=\"716,-27.5 716,-63.5 901,-63.5 901,-27.5 716,-27.5\"/>\n<text text-anchor=\"middle\" x=\"727.5\" y=\"-41.8\" font-family=\"Times,serif\" font-size=\"14.00\">b</text>\n<polyline fill=\"none\" stroke=\"black\" points=\"739,-27.5 739,-63.5 \"/>\n<text text-anchor=\"middle\" x=\"779\" y=\"-41.8\" font-family=\"Times,serif\" font-size=\"14.00\">data 6.8814</text>\n<polyline fill=\"none\" stroke=\"black\" points=\"819,-27.5 819,-63.5 \"/>\n<text text-anchor=\"middle\" x=\"860\" y=\"-41.8\" font-family=\"Times,serif\" font-size=\"14.00\">grad 0.7071</text>\n</g>\n<!-- 140154802348384&#45;&gt;140154802375360+ -->\n<g id=\"edge13\" class=\"edge\">\n<title>140154802348384&#45;&gt;140154802375360+</title>\n<path fill=\"none\" stroke=\"black\" d=\"M901.02,-58.01C926,-61.43 951.59,-64.93 971.37,-67.63\"/>\n<polygon fill=\"black\" stroke=\"black\" points=\"971.05,-71.12 981.43,-69.01 972,-64.18 971.05,-71.12\"/>\n</g>\n<!-- 140154802350016 -->\n<g id=\"node15\" class=\"node\">\n<title>140154802350016</title>\n<polygon fill=\"none\" stroke=\"black\" points=\"0,-0.5 0,-36.5 200,-36.5 200,-0.5 0,-0.5\"/>\n<text text-anchor=\"middle\" x=\"16.5\" y=\"-14.8\" font-family=\"Times,serif\" font-size=\"14.00\">w1</text>\n<polyline fill=\"none\" stroke=\"black\" points=\"33,-0.5 33,-36.5 \"/>\n<text text-anchor=\"middle\" x=\"75.5\" y=\"-14.8\" font-family=\"Times,serif\" font-size=\"14.00\">data &#45;3.0000</text>\n<polyline fill=\"none\" stroke=\"black\" points=\"118,-0.5 118,-36.5 \"/>\n<text text-anchor=\"middle\" x=\"159\" y=\"-14.8\" font-family=\"Times,serif\" font-size=\"14.00\">grad 1.4142</text>\n</g>\n<!-- 140154802350016&#45;&gt;140154802348288* -->\n<g id=\"edge12\" class=\"edge\">\n<title>140154802350016&#45;&gt;140154802348288*</title>\n<path fill=\"none\" stroke=\"black\" d=\"M172.53,-36.56C181.84,-39.33 191.2,-42.33 200,-45.5 210.53,-49.29 221.75,-54.1 231.72,-58.67\"/>\n<polygon fill=\"black\" stroke=\"black\" points=\"230.28,-61.86 240.82,-62.93 233.25,-55.52 230.28,-61.86\"/>\n</g>\n</g>\n</svg>\n"
          },
          "metadata": {},
          "execution_count": 211
        }
      ]
    },
    {
      "cell_type": "code",
      "source": [
        "o = build_graph_relu()\n",
        "o.backward()\n",
        "draw_dot(o)"
      ],
      "metadata": {
        "colab": {
          "base_uri": "https://localhost:8080/",
          "height": 321
        },
        "id": "KbH0zYXfWKgx",
        "outputId": "374ad7eb-6c89-43cb-a268-152ab786612f"
      },
      "execution_count": 212,
      "outputs": [
        {
          "output_type": "execute_result",
          "data": {
            "text/plain": [
              "<graphviz.dot.Digraph at 0x7f7855311700>"
            ],
            "image/svg+xml": "<?xml version=\"1.0\" encoding=\"UTF-8\" standalone=\"no\"?>\n<!DOCTYPE svg PUBLIC \"-//W3C//DTD SVG 1.1//EN\"\n \"http://www.w3.org/Graphics/SVG/1.1/DTD/svg11.dtd\">\n<!-- Generated by graphviz version 2.43.0 (0)\n -->\n<!-- Title: %3 Pages: 1 -->\n<svg width=\"1586pt\" height=\"210pt\"\n viewBox=\"0.00 0.00 1585.99 210.00\" xmlns=\"http://www.w3.org/2000/svg\" xmlns:xlink=\"http://www.w3.org/1999/xlink\">\n<g id=\"graph0\" class=\"graph\" transform=\"scale(1 1) rotate(0) translate(4 206)\">\n<title>%3</title>\n<polygon fill=\"white\" stroke=\"transparent\" points=\"-4,4 -4,-206 1581.99,-206 1581.99,4 -4,4\"/>\n<!-- 140154802082384 -->\n<g id=\"node1\" class=\"node\">\n<title>140154802082384</title>\n<polygon fill=\"none\" stroke=\"black\" points=\"672,-82.5 672,-118.5 945,-118.5 945,-82.5 672,-82.5\"/>\n<text text-anchor=\"middle\" x=\"725\" y=\"-96.8\" font-family=\"Times,serif\" font-size=\"14.00\">x1*w1 + x2*w2</text>\n<polyline fill=\"none\" stroke=\"black\" points=\"778,-82.5 778,-118.5 \"/>\n<text text-anchor=\"middle\" x=\"820.5\" y=\"-96.8\" font-family=\"Times,serif\" font-size=\"14.00\">data &#45;6.0000</text>\n<polyline fill=\"none\" stroke=\"black\" points=\"863,-82.5 863,-118.5 \"/>\n<text text-anchor=\"middle\" x=\"904\" y=\"-96.8\" font-family=\"Times,serif\" font-size=\"14.00\">grad 1.0000</text>\n</g>\n<!-- 140154802082048+ -->\n<g id=\"node6\" class=\"node\">\n<title>140154802082048+</title>\n<ellipse fill=\"none\" stroke=\"black\" cx=\"1008\" cy=\"-127.5\" rx=\"27\" ry=\"18\"/>\n<text text-anchor=\"middle\" x=\"1008\" y=\"-123.8\" font-family=\"Times,serif\" font-size=\"14.00\">+</text>\n</g>\n<!-- 140154802082384&#45;&gt;140154802082048+ -->\n<g id=\"edge12\" class=\"edge\">\n<title>140154802082384&#45;&gt;140154802082048+</title>\n<path fill=\"none\" stroke=\"black\" d=\"M941.24,-118.51C952.12,-120 962.4,-121.4 971.45,-122.64\"/>\n<polygon fill=\"black\" stroke=\"black\" points=\"971.11,-126.13 981.49,-124.01 972.05,-119.19 971.11,-126.13\"/>\n</g>\n<!-- 140154802082384+ -->\n<g id=\"node2\" class=\"node\">\n<title>140154802082384+</title>\n<ellipse fill=\"none\" stroke=\"black\" cx=\"609\" cy=\"-100.5\" rx=\"27\" ry=\"18\"/>\n<text text-anchor=\"middle\" x=\"609\" y=\"-96.8\" font-family=\"Times,serif\" font-size=\"14.00\">+</text>\n</g>\n<!-- 140154802082384+&#45;&gt;140154802082384 -->\n<g id=\"edge1\" class=\"edge\">\n<title>140154802082384+&#45;&gt;140154802082384</title>\n<path fill=\"none\" stroke=\"black\" d=\"M636.23,-100.5C643.7,-100.5 652.41,-100.5 661.87,-100.5\"/>\n<polygon fill=\"black\" stroke=\"black\" points=\"661.98,-104 671.98,-100.5 661.98,-97 661.98,-104\"/>\n</g>\n<!-- 140154802082528 -->\n<g id=\"node3\" class=\"node\">\n<title>140154802082528</title>\n<polygon fill=\"none\" stroke=\"black\" points=\"326,-110.5 326,-146.5 546,-146.5 546,-110.5 326,-110.5\"/>\n<text text-anchor=\"middle\" x=\"352.5\" y=\"-124.8\" font-family=\"Times,serif\" font-size=\"14.00\">x1*w1</text>\n<polyline fill=\"none\" stroke=\"black\" points=\"379,-110.5 379,-146.5 \"/>\n<text text-anchor=\"middle\" x=\"421.5\" y=\"-124.8\" font-family=\"Times,serif\" font-size=\"14.00\">data &#45;6.0000</text>\n<polyline fill=\"none\" stroke=\"black\" points=\"464,-110.5 464,-146.5 \"/>\n<text text-anchor=\"middle\" x=\"505\" y=\"-124.8\" font-family=\"Times,serif\" font-size=\"14.00\">grad 1.0000</text>\n</g>\n<!-- 140154802082528&#45;&gt;140154802082384+ -->\n<g id=\"edge8\" class=\"edge\">\n<title>140154802082528&#45;&gt;140154802082384+</title>\n<path fill=\"none\" stroke=\"black\" d=\"M546.27,-110.61C555.64,-109.07 564.6,-107.61 572.65,-106.29\"/>\n<polygon fill=\"black\" stroke=\"black\" points=\"573.35,-109.72 582.65,-104.65 572.22,-102.81 573.35,-109.72\"/>\n</g>\n<!-- 140154802082528* -->\n<g id=\"node4\" class=\"node\">\n<title>140154802082528*</title>\n<ellipse fill=\"none\" stroke=\"black\" cx=\"263\" cy=\"-128.5\" rx=\"27\" ry=\"18\"/>\n<text text-anchor=\"middle\" x=\"263\" y=\"-124.8\" font-family=\"Times,serif\" font-size=\"14.00\">*</text>\n</g>\n<!-- 140154802082528*&#45;&gt;140154802082528 -->\n<g id=\"edge2\" class=\"edge\">\n<title>140154802082528*&#45;&gt;140154802082528</title>\n<path fill=\"none\" stroke=\"black\" d=\"M290.34,-128.5C297.77,-128.5 306.37,-128.5 315.6,-128.5\"/>\n<polygon fill=\"black\" stroke=\"black\" points=\"315.84,-132 325.84,-128.5 315.84,-125 315.84,-132\"/>\n</g>\n<!-- 140154802082048 -->\n<g id=\"node5\" class=\"node\">\n<title>140154802082048</title>\n<polygon fill=\"none\" stroke=\"black\" points=\"1071,-109.5 1071,-145.5 1256,-145.5 1256,-109.5 1071,-109.5\"/>\n<text text-anchor=\"middle\" x=\"1082.5\" y=\"-123.8\" font-family=\"Times,serif\" font-size=\"14.00\">n</text>\n<polyline fill=\"none\" stroke=\"black\" points=\"1094,-109.5 1094,-145.5 \"/>\n<text text-anchor=\"middle\" x=\"1134\" y=\"-123.8\" font-family=\"Times,serif\" font-size=\"14.00\">data 0.8814</text>\n<polyline fill=\"none\" stroke=\"black\" points=\"1174,-109.5 1174,-145.5 \"/>\n<text text-anchor=\"middle\" x=\"1215\" y=\"-123.8\" font-family=\"Times,serif\" font-size=\"14.00\">grad 1.0000</text>\n</g>\n<!-- 140154802082720ReLU -->\n<g id=\"node13\" class=\"node\">\n<title>140154802082720ReLU</title>\n<ellipse fill=\"none\" stroke=\"black\" cx=\"1324.5\" cy=\"-127.5\" rx=\"32.49\" ry=\"18\"/>\n<text text-anchor=\"middle\" x=\"1324.5\" y=\"-123.8\" font-family=\"Times,serif\" font-size=\"14.00\">ReLU</text>\n</g>\n<!-- 140154802082048&#45;&gt;140154802082720ReLU -->\n<g id=\"edge13\" class=\"edge\">\n<title>140154802082048&#45;&gt;140154802082720ReLU</title>\n<path fill=\"none\" stroke=\"black\" d=\"M1256.07,-127.5C1265,-127.5 1273.72,-127.5 1281.76,-127.5\"/>\n<polygon fill=\"black\" stroke=\"black\" points=\"1281.92,-131 1291.92,-127.5 1281.92,-124 1281.92,-131\"/>\n</g>\n<!-- 140154802082048+&#45;&gt;140154802082048 -->\n<g id=\"edge3\" class=\"edge\">\n<title>140154802082048+&#45;&gt;140154802082048</title>\n<path fill=\"none\" stroke=\"black\" d=\"M1035.04,-127.5C1042.58,-127.5 1051.3,-127.5 1060.57,-127.5\"/>\n<polygon fill=\"black\" stroke=\"black\" points=\"1060.81,-131 1070.81,-127.5 1060.81,-124 1060.81,-131\"/>\n</g>\n<!-- 140154802082576 -->\n<g id=\"node7\" class=\"node\">\n<title>140154802082576</title>\n<polygon fill=\"none\" stroke=\"black\" points=\"328.5,-55.5 328.5,-91.5 543.5,-91.5 543.5,-55.5 328.5,-55.5\"/>\n<text text-anchor=\"middle\" x=\"355\" y=\"-69.8\" font-family=\"Times,serif\" font-size=\"14.00\">x2*w2</text>\n<polyline fill=\"none\" stroke=\"black\" points=\"381.5,-55.5 381.5,-91.5 \"/>\n<text text-anchor=\"middle\" x=\"421.5\" y=\"-69.8\" font-family=\"Times,serif\" font-size=\"14.00\">data 0.0000</text>\n<polyline fill=\"none\" stroke=\"black\" points=\"461.5,-55.5 461.5,-91.5 \"/>\n<text text-anchor=\"middle\" x=\"502.5\" y=\"-69.8\" font-family=\"Times,serif\" font-size=\"14.00\">grad 1.0000</text>\n</g>\n<!-- 140154802082576&#45;&gt;140154802082384+ -->\n<g id=\"edge9\" class=\"edge\">\n<title>140154802082576&#45;&gt;140154802082384+</title>\n<path fill=\"none\" stroke=\"black\" d=\"M543.84,-90.37C554.01,-91.98 563.76,-93.51 572.44,-94.89\"/>\n<polygon fill=\"black\" stroke=\"black\" points=\"572.05,-98.37 582.47,-96.47 573.14,-91.45 572.05,-98.37\"/>\n</g>\n<!-- 140154802082576* -->\n<g id=\"node8\" class=\"node\">\n<title>140154802082576*</title>\n<ellipse fill=\"none\" stroke=\"black\" cx=\"263\" cy=\"-73.5\" rx=\"27\" ry=\"18\"/>\n<text text-anchor=\"middle\" x=\"263\" y=\"-69.8\" font-family=\"Times,serif\" font-size=\"14.00\">*</text>\n</g>\n<!-- 140154802082576*&#45;&gt;140154802082576 -->\n<g id=\"edge4\" class=\"edge\">\n<title>140154802082576*&#45;&gt;140154802082576</title>\n<path fill=\"none\" stroke=\"black\" d=\"M290.34,-73.5C298.51,-73.5 308.08,-73.5 318.36,-73.5\"/>\n<polygon fill=\"black\" stroke=\"black\" points=\"318.39,-77 328.39,-73.5 318.39,-70 318.39,-77\"/>\n</g>\n<!-- 140154802375936 -->\n<g id=\"node9\" class=\"node\">\n<title>140154802375936</title>\n<polygon fill=\"none\" stroke=\"black\" points=\"4,-55.5 4,-91.5 196,-91.5 196,-55.5 4,-55.5\"/>\n<text text-anchor=\"middle\" x=\"19\" y=\"-69.8\" font-family=\"Times,serif\" font-size=\"14.00\">x2</text>\n<polyline fill=\"none\" stroke=\"black\" points=\"34,-55.5 34,-91.5 \"/>\n<text text-anchor=\"middle\" x=\"74\" y=\"-69.8\" font-family=\"Times,serif\" font-size=\"14.00\">data 0.0000</text>\n<polyline fill=\"none\" stroke=\"black\" points=\"114,-55.5 114,-91.5 \"/>\n<text text-anchor=\"middle\" x=\"155\" y=\"-69.8\" font-family=\"Times,serif\" font-size=\"14.00\">grad 1.0000</text>\n</g>\n<!-- 140154802375936&#45;&gt;140154802082576* -->\n<g id=\"edge14\" class=\"edge\">\n<title>140154802375936&#45;&gt;140154802082576*</title>\n<path fill=\"none\" stroke=\"black\" d=\"M196.05,-73.5C206.52,-73.5 216.65,-73.5 225.71,-73.5\"/>\n<polygon fill=\"black\" stroke=\"black\" points=\"225.79,-77 235.79,-73.5 225.79,-70 225.79,-77\"/>\n</g>\n<!-- 140154802376560 -->\n<g id=\"node10\" class=\"node\">\n<title>140154802376560</title>\n<polygon fill=\"none\" stroke=\"black\" points=\"0,-165.5 0,-201.5 200,-201.5 200,-165.5 0,-165.5\"/>\n<text text-anchor=\"middle\" x=\"16.5\" y=\"-179.8\" font-family=\"Times,serif\" font-size=\"14.00\">w1</text>\n<polyline fill=\"none\" stroke=\"black\" points=\"33,-165.5 33,-201.5 \"/>\n<text text-anchor=\"middle\" x=\"75.5\" y=\"-179.8\" font-family=\"Times,serif\" font-size=\"14.00\">data &#45;3.0000</text>\n<polyline fill=\"none\" stroke=\"black\" points=\"118,-165.5 118,-201.5 \"/>\n<text text-anchor=\"middle\" x=\"159\" y=\"-179.8\" font-family=\"Times,serif\" font-size=\"14.00\">grad 2.0000</text>\n</g>\n<!-- 140154802376560&#45;&gt;140154802082528* -->\n<g id=\"edge10\" class=\"edge\">\n<title>140154802376560&#45;&gt;140154802082528*</title>\n<path fill=\"none\" stroke=\"black\" d=\"M172.53,-165.44C181.84,-162.67 191.2,-159.67 200,-156.5 210.53,-152.71 221.75,-147.9 231.72,-143.33\"/>\n<polygon fill=\"black\" stroke=\"black\" points=\"233.25,-146.48 240.82,-139.07 230.28,-140.14 233.25,-146.48\"/>\n</g>\n<!-- 140154802374016 -->\n<g id=\"node11\" class=\"node\">\n<title>140154802374016</title>\n<polygon fill=\"none\" stroke=\"black\" points=\"716,-137.5 716,-173.5 901,-173.5 901,-137.5 716,-137.5\"/>\n<text text-anchor=\"middle\" x=\"727.5\" y=\"-151.8\" font-family=\"Times,serif\" font-size=\"14.00\">b</text>\n<polyline fill=\"none\" stroke=\"black\" points=\"739,-137.5 739,-173.5 \"/>\n<text text-anchor=\"middle\" x=\"779\" y=\"-151.8\" font-family=\"Times,serif\" font-size=\"14.00\">data 6.8814</text>\n<polyline fill=\"none\" stroke=\"black\" points=\"819,-137.5 819,-173.5 \"/>\n<text text-anchor=\"middle\" x=\"860\" y=\"-151.8\" font-family=\"Times,serif\" font-size=\"14.00\">grad 1.0000</text>\n</g>\n<!-- 140154802374016&#45;&gt;140154802082048+ -->\n<g id=\"edge11\" class=\"edge\">\n<title>140154802374016&#45;&gt;140154802082048+</title>\n<path fill=\"none\" stroke=\"black\" d=\"M901.02,-142.52C926,-138.98 951.59,-135.36 971.37,-132.55\"/>\n<polygon fill=\"black\" stroke=\"black\" points=\"972.03,-135.99 981.43,-131.12 971.04,-129.06 972.03,-135.99\"/>\n</g>\n<!-- 140154802082720 -->\n<g id=\"node12\" class=\"node\">\n<title>140154802082720</title>\n<polygon fill=\"none\" stroke=\"black\" points=\"1392.99,-109.5 1392.99,-145.5 1577.99,-145.5 1577.99,-109.5 1392.99,-109.5\"/>\n<text text-anchor=\"middle\" x=\"1404.49\" y=\"-123.8\" font-family=\"Times,serif\" font-size=\"14.00\">o</text>\n<polyline fill=\"none\" stroke=\"black\" points=\"1415.99,-109.5 1415.99,-145.5 \"/>\n<text text-anchor=\"middle\" x=\"1455.99\" y=\"-123.8\" font-family=\"Times,serif\" font-size=\"14.00\">data 0.8814</text>\n<polyline fill=\"none\" stroke=\"black\" points=\"1495.99,-109.5 1495.99,-145.5 \"/>\n<text text-anchor=\"middle\" x=\"1536.99\" y=\"-123.8\" font-family=\"Times,serif\" font-size=\"14.00\">grad 1.0000</text>\n</g>\n<!-- 140154802082720ReLU&#45;&gt;140154802082720 -->\n<g id=\"edge5\" class=\"edge\">\n<title>140154802082720ReLU&#45;&gt;140154802082720</title>\n<path fill=\"none\" stroke=\"black\" d=\"M1357.29,-127.5C1365.01,-127.5 1373.68,-127.5 1382.78,-127.5\"/>\n<polygon fill=\"black\" stroke=\"black\" points=\"1382.79,-131 1392.79,-127.5 1382.79,-124 1382.79,-131\"/>\n</g>\n<!-- 140154802375600 -->\n<g id=\"node14\" class=\"node\">\n<title>140154802375600</title>\n<polygon fill=\"none\" stroke=\"black\" points=\"2,-110.5 2,-146.5 198,-146.5 198,-110.5 2,-110.5\"/>\n<text text-anchor=\"middle\" x=\"17\" y=\"-124.8\" font-family=\"Times,serif\" font-size=\"14.00\">x1</text>\n<polyline fill=\"none\" stroke=\"black\" points=\"32,-110.5 32,-146.5 \"/>\n<text text-anchor=\"middle\" x=\"72\" y=\"-124.8\" font-family=\"Times,serif\" font-size=\"14.00\">data 2.0000</text>\n<polyline fill=\"none\" stroke=\"black\" points=\"112,-110.5 112,-146.5 \"/>\n<text text-anchor=\"middle\" x=\"155\" y=\"-124.8\" font-family=\"Times,serif\" font-size=\"14.00\">grad &#45;3.0000</text>\n</g>\n<!-- 140154802375600&#45;&gt;140154802082528* -->\n<g id=\"edge7\" class=\"edge\">\n<title>140154802375600&#45;&gt;140154802082528*</title>\n<path fill=\"none\" stroke=\"black\" d=\"M198.37,-128.5C208.05,-128.5 217.4,-128.5 225.8,-128.5\"/>\n<polygon fill=\"black\" stroke=\"black\" points=\"225.91,-132 235.91,-128.5 225.91,-125 225.91,-132\"/>\n</g>\n<!-- 140154802376128 -->\n<g id=\"node15\" class=\"node\">\n<title>140154802376128</title>\n<polygon fill=\"none\" stroke=\"black\" points=\"2.5,-0.5 2.5,-36.5 197.5,-36.5 197.5,-0.5 2.5,-0.5\"/>\n<text text-anchor=\"middle\" x=\"19\" y=\"-14.8\" font-family=\"Times,serif\" font-size=\"14.00\">w2</text>\n<polyline fill=\"none\" stroke=\"black\" points=\"35.5,-0.5 35.5,-36.5 \"/>\n<text text-anchor=\"middle\" x=\"75.5\" y=\"-14.8\" font-family=\"Times,serif\" font-size=\"14.00\">data 1.0000</text>\n<polyline fill=\"none\" stroke=\"black\" points=\"115.5,-0.5 115.5,-36.5 \"/>\n<text text-anchor=\"middle\" x=\"156.5\" y=\"-14.8\" font-family=\"Times,serif\" font-size=\"14.00\">grad 0.0000</text>\n</g>\n<!-- 140154802376128&#45;&gt;140154802082576* -->\n<g id=\"edge6\" class=\"edge\">\n<title>140154802376128&#45;&gt;140154802082576*</title>\n<path fill=\"none\" stroke=\"black\" d=\"M169.28,-36.5C179.65,-39.61 190.16,-42.98 200,-46.5 210.28,-50.17 221.28,-54.74 231.11,-59.07\"/>\n<polygon fill=\"black\" stroke=\"black\" points=\"229.93,-62.37 240.48,-63.27 232.79,-55.99 229.93,-62.37\"/>\n</g>\n</g>\n</svg>\n"
          },
          "metadata": {},
          "execution_count": 212
        }
      ]
    },
    {
      "cell_type": "code",
      "source": [
        "# swap autograd True/False\n",
        "o = build_graph_relu()\n",
        "o.backward()\n",
        "draw_dot(o)"
      ],
      "metadata": {
        "colab": {
          "base_uri": "https://localhost:8080/",
          "height": 321
        },
        "id": "kv_KHadgX_Hf",
        "outputId": "1cb86fc8-c907-4125-b1bb-54a40481d5fe"
      },
      "execution_count": 213,
      "outputs": [
        {
          "output_type": "execute_result",
          "data": {
            "text/plain": [
              "<graphviz.dot.Digraph at 0x7f7855311d60>"
            ],
            "image/svg+xml": "<?xml version=\"1.0\" encoding=\"UTF-8\" standalone=\"no\"?>\n<!DOCTYPE svg PUBLIC \"-//W3C//DTD SVG 1.1//EN\"\n \"http://www.w3.org/Graphics/SVG/1.1/DTD/svg11.dtd\">\n<!-- Generated by graphviz version 2.43.0 (0)\n -->\n<!-- Title: %3 Pages: 1 -->\n<svg width=\"1586pt\" height=\"210pt\"\n viewBox=\"0.00 0.00 1585.99 210.00\" xmlns=\"http://www.w3.org/2000/svg\" xmlns:xlink=\"http://www.w3.org/1999/xlink\">\n<g id=\"graph0\" class=\"graph\" transform=\"scale(1 1) rotate(0) translate(4 206)\">\n<title>%3</title>\n<polygon fill=\"white\" stroke=\"transparent\" points=\"-4,4 -4,-206 1581.99,-206 1581.99,4 -4,4\"/>\n<!-- 140154802082816 -->\n<g id=\"node1\" class=\"node\">\n<title>140154802082816</title>\n<polygon fill=\"none\" stroke=\"black\" points=\"326,-55.5 326,-91.5 546,-91.5 546,-55.5 326,-55.5\"/>\n<text text-anchor=\"middle\" x=\"352.5\" y=\"-69.8\" font-family=\"Times,serif\" font-size=\"14.00\">x1*w1</text>\n<polyline fill=\"none\" stroke=\"black\" points=\"379,-55.5 379,-91.5 \"/>\n<text text-anchor=\"middle\" x=\"421.5\" y=\"-69.8\" font-family=\"Times,serif\" font-size=\"14.00\">data &#45;6.0000</text>\n<polyline fill=\"none\" stroke=\"black\" points=\"464,-55.5 464,-91.5 \"/>\n<text text-anchor=\"middle\" x=\"505\" y=\"-69.8\" font-family=\"Times,serif\" font-size=\"14.00\">grad 1.0000</text>\n</g>\n<!-- 140154802085264+ -->\n<g id=\"node15\" class=\"node\">\n<title>140154802085264+</title>\n<ellipse fill=\"none\" stroke=\"black\" cx=\"609\" cy=\"-100.5\" rx=\"27\" ry=\"18\"/>\n<text text-anchor=\"middle\" x=\"609\" y=\"-96.8\" font-family=\"Times,serif\" font-size=\"14.00\">+</text>\n</g>\n<!-- 140154802082816&#45;&gt;140154802085264+ -->\n<g id=\"edge14\" class=\"edge\">\n<title>140154802082816&#45;&gt;140154802085264+</title>\n<path fill=\"none\" stroke=\"black\" d=\"M546.27,-90.75C555.64,-92.23 564.6,-93.65 572.65,-94.92\"/>\n<polygon fill=\"black\" stroke=\"black\" points=\"572.23,-98.4 582.65,-96.5 573.32,-91.48 572.23,-98.4\"/>\n</g>\n<!-- 140154802082816* -->\n<g id=\"node2\" class=\"node\">\n<title>140154802082816*</title>\n<ellipse fill=\"none\" stroke=\"black\" cx=\"263\" cy=\"-73.5\" rx=\"27\" ry=\"18\"/>\n<text text-anchor=\"middle\" x=\"263\" y=\"-69.8\" font-family=\"Times,serif\" font-size=\"14.00\">*</text>\n</g>\n<!-- 140154802082816*&#45;&gt;140154802082816 -->\n<g id=\"edge1\" class=\"edge\">\n<title>140154802082816*&#45;&gt;140154802082816</title>\n<path fill=\"none\" stroke=\"black\" d=\"M290.34,-73.5C297.77,-73.5 306.37,-73.5 315.6,-73.5\"/>\n<polygon fill=\"black\" stroke=\"black\" points=\"315.84,-77 325.84,-73.5 315.84,-70 315.84,-77\"/>\n</g>\n<!-- 140154802084208 -->\n<g id=\"node3\" class=\"node\">\n<title>140154802084208</title>\n<polygon fill=\"none\" stroke=\"black\" points=\"4,-165.5 4,-201.5 196,-201.5 196,-165.5 4,-165.5\"/>\n<text text-anchor=\"middle\" x=\"19\" y=\"-179.8\" font-family=\"Times,serif\" font-size=\"14.00\">x2</text>\n<polyline fill=\"none\" stroke=\"black\" points=\"34,-165.5 34,-201.5 \"/>\n<text text-anchor=\"middle\" x=\"74\" y=\"-179.8\" font-family=\"Times,serif\" font-size=\"14.00\">data 0.0000</text>\n<polyline fill=\"none\" stroke=\"black\" points=\"114,-165.5 114,-201.5 \"/>\n<text text-anchor=\"middle\" x=\"155\" y=\"-179.8\" font-family=\"Times,serif\" font-size=\"14.00\">grad 1.0000</text>\n</g>\n<!-- 140154802083440* -->\n<g id=\"node8\" class=\"node\">\n<title>140154802083440*</title>\n<ellipse fill=\"none\" stroke=\"black\" cx=\"263\" cy=\"-128.5\" rx=\"27\" ry=\"18\"/>\n<text text-anchor=\"middle\" x=\"263\" y=\"-124.8\" font-family=\"Times,serif\" font-size=\"14.00\">*</text>\n</g>\n<!-- 140154802084208&#45;&gt;140154802083440* -->\n<g id=\"edge11\" class=\"edge\">\n<title>140154802084208&#45;&gt;140154802083440*</title>\n<path fill=\"none\" stroke=\"black\" d=\"M172.53,-165.44C181.84,-162.67 191.2,-159.67 200,-156.5 210.53,-152.71 221.75,-147.9 231.72,-143.33\"/>\n<polygon fill=\"black\" stroke=\"black\" points=\"233.25,-146.48 240.82,-139.07 230.28,-140.14 233.25,-146.48\"/>\n</g>\n<!-- 140154802085408 -->\n<g id=\"node4\" class=\"node\">\n<title>140154802085408</title>\n<polygon fill=\"none\" stroke=\"black\" points=\"1071,-109.5 1071,-145.5 1256,-145.5 1256,-109.5 1071,-109.5\"/>\n<text text-anchor=\"middle\" x=\"1082.5\" y=\"-123.8\" font-family=\"Times,serif\" font-size=\"14.00\">n</text>\n<polyline fill=\"none\" stroke=\"black\" points=\"1094,-109.5 1094,-145.5 \"/>\n<text text-anchor=\"middle\" x=\"1134\" y=\"-123.8\" font-family=\"Times,serif\" font-size=\"14.00\">data 0.8814</text>\n<polyline fill=\"none\" stroke=\"black\" points=\"1174,-109.5 1174,-145.5 \"/>\n<text text-anchor=\"middle\" x=\"1215\" y=\"-123.8\" font-family=\"Times,serif\" font-size=\"14.00\">grad 1.0000</text>\n</g>\n<!-- 140154802085744ReLU -->\n<g id=\"node13\" class=\"node\">\n<title>140154802085744ReLU</title>\n<ellipse fill=\"none\" stroke=\"black\" cx=\"1324.5\" cy=\"-127.5\" rx=\"32.49\" ry=\"18\"/>\n<text text-anchor=\"middle\" x=\"1324.5\" y=\"-123.8\" font-family=\"Times,serif\" font-size=\"14.00\">ReLU</text>\n</g>\n<!-- 140154802085408&#45;&gt;140154802085744ReLU -->\n<g id=\"edge12\" class=\"edge\">\n<title>140154802085408&#45;&gt;140154802085744ReLU</title>\n<path fill=\"none\" stroke=\"black\" d=\"M1256.07,-127.5C1265,-127.5 1273.72,-127.5 1281.76,-127.5\"/>\n<polygon fill=\"black\" stroke=\"black\" points=\"1281.92,-131 1291.92,-127.5 1281.92,-124 1281.92,-131\"/>\n</g>\n<!-- 140154802085408+ -->\n<g id=\"node5\" class=\"node\">\n<title>140154802085408+</title>\n<ellipse fill=\"none\" stroke=\"black\" cx=\"1008\" cy=\"-127.5\" rx=\"27\" ry=\"18\"/>\n<text text-anchor=\"middle\" x=\"1008\" y=\"-123.8\" font-family=\"Times,serif\" font-size=\"14.00\">+</text>\n</g>\n<!-- 140154802085408+&#45;&gt;140154802085408 -->\n<g id=\"edge2\" class=\"edge\">\n<title>140154802085408+&#45;&gt;140154802085408</title>\n<path fill=\"none\" stroke=\"black\" d=\"M1035.04,-127.5C1042.58,-127.5 1051.3,-127.5 1060.57,-127.5\"/>\n<polygon fill=\"black\" stroke=\"black\" points=\"1060.81,-131 1070.81,-127.5 1060.81,-124 1060.81,-131\"/>\n</g>\n<!-- 140154802084448 -->\n<g id=\"node6\" class=\"node\">\n<title>140154802084448</title>\n<polygon fill=\"none\" stroke=\"black\" points=\"0,-55.5 0,-91.5 200,-91.5 200,-55.5 0,-55.5\"/>\n<text text-anchor=\"middle\" x=\"16.5\" y=\"-69.8\" font-family=\"Times,serif\" font-size=\"14.00\">w1</text>\n<polyline fill=\"none\" stroke=\"black\" points=\"33,-55.5 33,-91.5 \"/>\n<text text-anchor=\"middle\" x=\"75.5\" y=\"-69.8\" font-family=\"Times,serif\" font-size=\"14.00\">data &#45;3.0000</text>\n<polyline fill=\"none\" stroke=\"black\" points=\"118,-55.5 118,-91.5 \"/>\n<text text-anchor=\"middle\" x=\"159\" y=\"-69.8\" font-family=\"Times,serif\" font-size=\"14.00\">grad 2.0000</text>\n</g>\n<!-- 140154802084448&#45;&gt;140154802082816* -->\n<g id=\"edge13\" class=\"edge\">\n<title>140154802084448&#45;&gt;140154802082816*</title>\n<path fill=\"none\" stroke=\"black\" d=\"M200.21,-73.5C209.2,-73.5 217.86,-73.5 225.7,-73.5\"/>\n<polygon fill=\"black\" stroke=\"black\" points=\"225.85,-77 235.85,-73.5 225.85,-70 225.85,-77\"/>\n</g>\n<!-- 140154802083440 -->\n<g id=\"node7\" class=\"node\">\n<title>140154802083440</title>\n<polygon fill=\"none\" stroke=\"black\" points=\"328.5,-110.5 328.5,-146.5 543.5,-146.5 543.5,-110.5 328.5,-110.5\"/>\n<text text-anchor=\"middle\" x=\"355\" y=\"-124.8\" font-family=\"Times,serif\" font-size=\"14.00\">x2*w2</text>\n<polyline fill=\"none\" stroke=\"black\" points=\"381.5,-110.5 381.5,-146.5 \"/>\n<text text-anchor=\"middle\" x=\"421.5\" y=\"-124.8\" font-family=\"Times,serif\" font-size=\"14.00\">data 0.0000</text>\n<polyline fill=\"none\" stroke=\"black\" points=\"461.5,-110.5 461.5,-146.5 \"/>\n<text text-anchor=\"middle\" x=\"502.5\" y=\"-124.8\" font-family=\"Times,serif\" font-size=\"14.00\">grad 1.0000</text>\n</g>\n<!-- 140154802083440&#45;&gt;140154802085264+ -->\n<g id=\"edge6\" class=\"edge\">\n<title>140154802083440&#45;&gt;140154802085264+</title>\n<path fill=\"none\" stroke=\"black\" d=\"M543.84,-111.01C554.01,-109.34 563.76,-107.74 572.44,-106.32\"/>\n<polygon fill=\"black\" stroke=\"black\" points=\"573.17,-109.75 582.47,-104.68 572.04,-102.84 573.17,-109.75\"/>\n</g>\n<!-- 140154802083440*&#45;&gt;140154802083440 -->\n<g id=\"edge3\" class=\"edge\">\n<title>140154802083440*&#45;&gt;140154802083440</title>\n<path fill=\"none\" stroke=\"black\" d=\"M290.34,-128.5C298.51,-128.5 308.08,-128.5 318.36,-128.5\"/>\n<polygon fill=\"black\" stroke=\"black\" points=\"318.39,-132 328.39,-128.5 318.39,-125 318.39,-132\"/>\n</g>\n<!-- 140154802084496 -->\n<g id=\"node9\" class=\"node\">\n<title>140154802084496</title>\n<polygon fill=\"none\" stroke=\"black\" points=\"2.5,-110.5 2.5,-146.5 197.5,-146.5 197.5,-110.5 2.5,-110.5\"/>\n<text text-anchor=\"middle\" x=\"19\" y=\"-124.8\" font-family=\"Times,serif\" font-size=\"14.00\">w2</text>\n<polyline fill=\"none\" stroke=\"black\" points=\"35.5,-110.5 35.5,-146.5 \"/>\n<text text-anchor=\"middle\" x=\"75.5\" y=\"-124.8\" font-family=\"Times,serif\" font-size=\"14.00\">data 1.0000</text>\n<polyline fill=\"none\" stroke=\"black\" points=\"115.5,-110.5 115.5,-146.5 \"/>\n<text text-anchor=\"middle\" x=\"156.5\" y=\"-124.8\" font-family=\"Times,serif\" font-size=\"14.00\">grad 0.0000</text>\n</g>\n<!-- 140154802084496&#45;&gt;140154802083440* -->\n<g id=\"edge8\" class=\"edge\">\n<title>140154802084496&#45;&gt;140154802083440*</title>\n<path fill=\"none\" stroke=\"black\" d=\"M197.91,-128.5C207.65,-128.5 217.05,-128.5 225.52,-128.5\"/>\n<polygon fill=\"black\" stroke=\"black\" points=\"225.7,-132 235.7,-128.5 225.7,-125 225.7,-132\"/>\n</g>\n<!-- 140154802084544 -->\n<g id=\"node10\" class=\"node\">\n<title>140154802084544</title>\n<polygon fill=\"none\" stroke=\"black\" points=\"716,-137.5 716,-173.5 901,-173.5 901,-137.5 716,-137.5\"/>\n<text text-anchor=\"middle\" x=\"727.5\" y=\"-151.8\" font-family=\"Times,serif\" font-size=\"14.00\">b</text>\n<polyline fill=\"none\" stroke=\"black\" points=\"739,-137.5 739,-173.5 \"/>\n<text text-anchor=\"middle\" x=\"779\" y=\"-151.8\" font-family=\"Times,serif\" font-size=\"14.00\">data 6.8814</text>\n<polyline fill=\"none\" stroke=\"black\" points=\"819,-137.5 819,-173.5 \"/>\n<text text-anchor=\"middle\" x=\"860\" y=\"-151.8\" font-family=\"Times,serif\" font-size=\"14.00\">grad 1.0000</text>\n</g>\n<!-- 140154802084544&#45;&gt;140154802085408+ -->\n<g id=\"edge7\" class=\"edge\">\n<title>140154802084544&#45;&gt;140154802085408+</title>\n<path fill=\"none\" stroke=\"black\" d=\"M901.02,-142.52C926,-138.98 951.59,-135.36 971.37,-132.55\"/>\n<polygon fill=\"black\" stroke=\"black\" points=\"972.03,-135.99 981.43,-131.12 971.04,-129.06 972.03,-135.99\"/>\n</g>\n<!-- 140154802083536 -->\n<g id=\"node11\" class=\"node\">\n<title>140154802083536</title>\n<polygon fill=\"none\" stroke=\"black\" points=\"2,-0.5 2,-36.5 198,-36.5 198,-0.5 2,-0.5\"/>\n<text text-anchor=\"middle\" x=\"17\" y=\"-14.8\" font-family=\"Times,serif\" font-size=\"14.00\">x1</text>\n<polyline fill=\"none\" stroke=\"black\" points=\"32,-0.5 32,-36.5 \"/>\n<text text-anchor=\"middle\" x=\"72\" y=\"-14.8\" font-family=\"Times,serif\" font-size=\"14.00\">data 2.0000</text>\n<polyline fill=\"none\" stroke=\"black\" points=\"112,-0.5 112,-36.5 \"/>\n<text text-anchor=\"middle\" x=\"155\" y=\"-14.8\" font-family=\"Times,serif\" font-size=\"14.00\">grad &#45;3.0000</text>\n</g>\n<!-- 140154802083536&#45;&gt;140154802082816* -->\n<g id=\"edge10\" class=\"edge\">\n<title>140154802083536&#45;&gt;140154802082816*</title>\n<path fill=\"none\" stroke=\"black\" d=\"M169.28,-36.5C179.65,-39.61 190.16,-42.98 200,-46.5 210.28,-50.17 221.28,-54.74 231.11,-59.07\"/>\n<polygon fill=\"black\" stroke=\"black\" points=\"229.93,-62.37 240.48,-63.27 232.79,-55.99 229.93,-62.37\"/>\n</g>\n<!-- 140154802085744 -->\n<g id=\"node12\" class=\"node\">\n<title>140154802085744</title>\n<polygon fill=\"none\" stroke=\"black\" points=\"1392.99,-109.5 1392.99,-145.5 1577.99,-145.5 1577.99,-109.5 1392.99,-109.5\"/>\n<text text-anchor=\"middle\" x=\"1404.49\" y=\"-123.8\" font-family=\"Times,serif\" font-size=\"14.00\">o</text>\n<polyline fill=\"none\" stroke=\"black\" points=\"1415.99,-109.5 1415.99,-145.5 \"/>\n<text text-anchor=\"middle\" x=\"1455.99\" y=\"-123.8\" font-family=\"Times,serif\" font-size=\"14.00\">data 0.8814</text>\n<polyline fill=\"none\" stroke=\"black\" points=\"1495.99,-109.5 1495.99,-145.5 \"/>\n<text text-anchor=\"middle\" x=\"1536.99\" y=\"-123.8\" font-family=\"Times,serif\" font-size=\"14.00\">grad 1.0000</text>\n</g>\n<!-- 140154802085744ReLU&#45;&gt;140154802085744 -->\n<g id=\"edge4\" class=\"edge\">\n<title>140154802085744ReLU&#45;&gt;140154802085744</title>\n<path fill=\"none\" stroke=\"black\" d=\"M1357.29,-127.5C1365.01,-127.5 1373.68,-127.5 1382.78,-127.5\"/>\n<polygon fill=\"black\" stroke=\"black\" points=\"1382.79,-131 1392.79,-127.5 1382.79,-124 1382.79,-131\"/>\n</g>\n<!-- 140154802085264 -->\n<g id=\"node14\" class=\"node\">\n<title>140154802085264</title>\n<polygon fill=\"none\" stroke=\"black\" points=\"672,-82.5 672,-118.5 945,-118.5 945,-82.5 672,-82.5\"/>\n<text text-anchor=\"middle\" x=\"725\" y=\"-96.8\" font-family=\"Times,serif\" font-size=\"14.00\">x1*w1 + x2*w2</text>\n<polyline fill=\"none\" stroke=\"black\" points=\"778,-82.5 778,-118.5 \"/>\n<text text-anchor=\"middle\" x=\"820.5\" y=\"-96.8\" font-family=\"Times,serif\" font-size=\"14.00\">data &#45;6.0000</text>\n<polyline fill=\"none\" stroke=\"black\" points=\"863,-82.5 863,-118.5 \"/>\n<text text-anchor=\"middle\" x=\"904\" y=\"-96.8\" font-family=\"Times,serif\" font-size=\"14.00\">grad 1.0000</text>\n</g>\n<!-- 140154802085264&#45;&gt;140154802085408+ -->\n<g id=\"edge9\" class=\"edge\">\n<title>140154802085264&#45;&gt;140154802085408+</title>\n<path fill=\"none\" stroke=\"black\" d=\"M941.24,-118.51C952.12,-120 962.4,-121.4 971.45,-122.64\"/>\n<polygon fill=\"black\" stroke=\"black\" points=\"971.11,-126.13 981.49,-124.01 972.05,-119.19 971.11,-126.13\"/>\n</g>\n<!-- 140154802085264+&#45;&gt;140154802085264 -->\n<g id=\"edge5\" class=\"edge\">\n<title>140154802085264+&#45;&gt;140154802085264</title>\n<path fill=\"none\" stroke=\"black\" d=\"M636.23,-100.5C643.7,-100.5 652.41,-100.5 661.87,-100.5\"/>\n<polygon fill=\"black\" stroke=\"black\" points=\"661.98,-104 671.98,-100.5 661.98,-97 661.98,-104\"/>\n</g>\n</g>\n</svg>\n"
          },
          "metadata": {},
          "execution_count": 213
        }
      ]
    },
    {
      "cell_type": "code",
      "source": [
        "o = build_graph_sigmoid()\n",
        "o.backward()\n",
        "draw_dot(o)"
      ],
      "metadata": {
        "colab": {
          "base_uri": "https://localhost:8080/",
          "height": 321
        },
        "id": "IE9hAMT5lXdv",
        "outputId": "c052f036-b78a-43a7-be4c-69b05db270ea"
      },
      "execution_count": 214,
      "outputs": [
        {
          "output_type": "execute_result",
          "data": {
            "text/plain": [
              "<graphviz.dot.Digraph at 0x7f7855324400>"
            ],
            "image/svg+xml": "<?xml version=\"1.0\" encoding=\"UTF-8\" standalone=\"no\"?>\n<!DOCTYPE svg PUBLIC \"-//W3C//DTD SVG 1.1//EN\"\n \"http://www.w3.org/Graphics/SVG/1.1/DTD/svg11.dtd\">\n<!-- Generated by graphviz version 2.43.0 (0)\n -->\n<!-- Title: %3 Pages: 1 -->\n<svg width=\"1600pt\" height=\"210pt\"\n viewBox=\"0.00 0.00 1600.29 210.00\" xmlns=\"http://www.w3.org/2000/svg\" xmlns:xlink=\"http://www.w3.org/1999/xlink\">\n<g id=\"graph0\" class=\"graph\" transform=\"scale(1 1) rotate(0) translate(4 206)\">\n<title>%3</title>\n<polygon fill=\"white\" stroke=\"transparent\" points=\"-4,4 -4,-206 1596.29,-206 1596.29,4 -4,4\"/>\n<!-- 140154802160208 -->\n<g id=\"node1\" class=\"node\">\n<title>140154802160208</title>\n<polygon fill=\"none\" stroke=\"black\" points=\"672,-82.5 672,-118.5 945,-118.5 945,-82.5 672,-82.5\"/>\n<text text-anchor=\"middle\" x=\"725\" y=\"-96.8\" font-family=\"Times,serif\" font-size=\"14.00\">x1*w1 + x2*w2</text>\n<polyline fill=\"none\" stroke=\"black\" points=\"778,-82.5 778,-118.5 \"/>\n<text text-anchor=\"middle\" x=\"820.5\" y=\"-96.8\" font-family=\"Times,serif\" font-size=\"14.00\">data &#45;6.0000</text>\n<polyline fill=\"none\" stroke=\"black\" points=\"863,-82.5 863,-118.5 \"/>\n<text text-anchor=\"middle\" x=\"904\" y=\"-96.8\" font-family=\"Times,serif\" font-size=\"14.00\">grad 0.2071</text>\n</g>\n<!-- 140154802160400+ -->\n<g id=\"node9\" class=\"node\">\n<title>140154802160400+</title>\n<ellipse fill=\"none\" stroke=\"black\" cx=\"1008\" cy=\"-127.5\" rx=\"27\" ry=\"18\"/>\n<text text-anchor=\"middle\" x=\"1008\" y=\"-123.8\" font-family=\"Times,serif\" font-size=\"14.00\">+</text>\n</g>\n<!-- 140154802160208&#45;&gt;140154802160400+ -->\n<g id=\"edge9\" class=\"edge\">\n<title>140154802160208&#45;&gt;140154802160400+</title>\n<path fill=\"none\" stroke=\"black\" d=\"M941.24,-118.51C952.12,-120 962.4,-121.4 971.45,-122.64\"/>\n<polygon fill=\"black\" stroke=\"black\" points=\"971.11,-126.13 981.49,-124.01 972.05,-119.19 971.11,-126.13\"/>\n</g>\n<!-- 140154802160208+ -->\n<g id=\"node2\" class=\"node\">\n<title>140154802160208+</title>\n<ellipse fill=\"none\" stroke=\"black\" cx=\"609\" cy=\"-100.5\" rx=\"27\" ry=\"18\"/>\n<text text-anchor=\"middle\" x=\"609\" y=\"-96.8\" font-family=\"Times,serif\" font-size=\"14.00\">+</text>\n</g>\n<!-- 140154802160208+&#45;&gt;140154802160208 -->\n<g id=\"edge1\" class=\"edge\">\n<title>140154802160208+&#45;&gt;140154802160208</title>\n<path fill=\"none\" stroke=\"black\" d=\"M636.23,-100.5C643.7,-100.5 652.41,-100.5 661.87,-100.5\"/>\n<polygon fill=\"black\" stroke=\"black\" points=\"661.98,-104 671.98,-100.5 661.98,-97 661.98,-104\"/>\n</g>\n<!-- 140154802349152 -->\n<g id=\"node3\" class=\"node\">\n<title>140154802349152</title>\n<polygon fill=\"none\" stroke=\"black\" points=\"0,-165.5 0,-201.5 200,-201.5 200,-165.5 0,-165.5\"/>\n<text text-anchor=\"middle\" x=\"16.5\" y=\"-179.8\" font-family=\"Times,serif\" font-size=\"14.00\">w1</text>\n<polyline fill=\"none\" stroke=\"black\" points=\"33,-165.5 33,-201.5 \"/>\n<text text-anchor=\"middle\" x=\"75.5\" y=\"-179.8\" font-family=\"Times,serif\" font-size=\"14.00\">data &#45;3.0000</text>\n<polyline fill=\"none\" stroke=\"black\" points=\"118,-165.5 118,-201.5 \"/>\n<text text-anchor=\"middle\" x=\"159\" y=\"-179.8\" font-family=\"Times,serif\" font-size=\"14.00\">grad 0.4142</text>\n</g>\n<!-- 140154802159776* -->\n<g id=\"node6\" class=\"node\">\n<title>140154802159776*</title>\n<ellipse fill=\"none\" stroke=\"black\" cx=\"263\" cy=\"-128.5\" rx=\"27\" ry=\"18\"/>\n<text text-anchor=\"middle\" x=\"263\" y=\"-124.8\" font-family=\"Times,serif\" font-size=\"14.00\">*</text>\n</g>\n<!-- 140154802349152&#45;&gt;140154802159776* -->\n<g id=\"edge6\" class=\"edge\">\n<title>140154802349152&#45;&gt;140154802159776*</title>\n<path fill=\"none\" stroke=\"black\" d=\"M172.53,-165.44C181.84,-162.67 191.2,-159.67 200,-156.5 210.53,-152.71 221.75,-147.9 231.72,-143.33\"/>\n<polygon fill=\"black\" stroke=\"black\" points=\"233.25,-146.48 240.82,-139.07 230.28,-140.14 233.25,-146.48\"/>\n</g>\n<!-- 140154802350544 -->\n<g id=\"node4\" class=\"node\">\n<title>140154802350544</title>\n<polygon fill=\"none\" stroke=\"black\" points=\"2.5,-55.5 2.5,-91.5 197.5,-91.5 197.5,-55.5 2.5,-55.5\"/>\n<text text-anchor=\"middle\" x=\"19\" y=\"-69.8\" font-family=\"Times,serif\" font-size=\"14.00\">w2</text>\n<polyline fill=\"none\" stroke=\"black\" points=\"35.5,-55.5 35.5,-91.5 \"/>\n<text text-anchor=\"middle\" x=\"75.5\" y=\"-69.8\" font-family=\"Times,serif\" font-size=\"14.00\">data 1.0000</text>\n<polyline fill=\"none\" stroke=\"black\" points=\"115.5,-55.5 115.5,-91.5 \"/>\n<text text-anchor=\"middle\" x=\"156.5\" y=\"-69.8\" font-family=\"Times,serif\" font-size=\"14.00\">grad 0.0000</text>\n</g>\n<!-- 140154802159968* -->\n<g id=\"node12\" class=\"node\">\n<title>140154802159968*</title>\n<ellipse fill=\"none\" stroke=\"black\" cx=\"263\" cy=\"-73.5\" rx=\"27\" ry=\"18\"/>\n<text text-anchor=\"middle\" x=\"263\" y=\"-69.8\" font-family=\"Times,serif\" font-size=\"14.00\">*</text>\n</g>\n<!-- 140154802350544&#45;&gt;140154802159968* -->\n<g id=\"edge14\" class=\"edge\">\n<title>140154802350544&#45;&gt;140154802159968*</title>\n<path fill=\"none\" stroke=\"black\" d=\"M197.91,-73.5C207.65,-73.5 217.05,-73.5 225.52,-73.5\"/>\n<polygon fill=\"black\" stroke=\"black\" points=\"225.7,-77 235.7,-73.5 225.7,-70 225.7,-77\"/>\n</g>\n<!-- 140154802159776 -->\n<g id=\"node5\" class=\"node\">\n<title>140154802159776</title>\n<polygon fill=\"none\" stroke=\"black\" points=\"326,-110.5 326,-146.5 546,-146.5 546,-110.5 326,-110.5\"/>\n<text text-anchor=\"middle\" x=\"352.5\" y=\"-124.8\" font-family=\"Times,serif\" font-size=\"14.00\">x1*w1</text>\n<polyline fill=\"none\" stroke=\"black\" points=\"379,-110.5 379,-146.5 \"/>\n<text text-anchor=\"middle\" x=\"421.5\" y=\"-124.8\" font-family=\"Times,serif\" font-size=\"14.00\">data &#45;6.0000</text>\n<polyline fill=\"none\" stroke=\"black\" points=\"464,-110.5 464,-146.5 \"/>\n<text text-anchor=\"middle\" x=\"505\" y=\"-124.8\" font-family=\"Times,serif\" font-size=\"14.00\">grad 0.2071</text>\n</g>\n<!-- 140154802159776&#45;&gt;140154802160208+ -->\n<g id=\"edge11\" class=\"edge\">\n<title>140154802159776&#45;&gt;140154802160208+</title>\n<path fill=\"none\" stroke=\"black\" d=\"M546.27,-110.61C555.64,-109.07 564.6,-107.61 572.65,-106.29\"/>\n<polygon fill=\"black\" stroke=\"black\" points=\"573.35,-109.72 582.65,-104.65 572.22,-102.81 573.35,-109.72\"/>\n</g>\n<!-- 140154802159776*&#45;&gt;140154802159776 -->\n<g id=\"edge2\" class=\"edge\">\n<title>140154802159776*&#45;&gt;140154802159776</title>\n<path fill=\"none\" stroke=\"black\" d=\"M290.34,-128.5C297.77,-128.5 306.37,-128.5 315.6,-128.5\"/>\n<polygon fill=\"black\" stroke=\"black\" points=\"315.84,-132 325.84,-128.5 315.84,-125 315.84,-132\"/>\n</g>\n<!-- 140154802348720 -->\n<g id=\"node7\" class=\"node\">\n<title>140154802348720</title>\n<polygon fill=\"none\" stroke=\"black\" points=\"2,-110.5 2,-146.5 198,-146.5 198,-110.5 2,-110.5\"/>\n<text text-anchor=\"middle\" x=\"17\" y=\"-124.8\" font-family=\"Times,serif\" font-size=\"14.00\">x1</text>\n<polyline fill=\"none\" stroke=\"black\" points=\"32,-110.5 32,-146.5 \"/>\n<text text-anchor=\"middle\" x=\"72\" y=\"-124.8\" font-family=\"Times,serif\" font-size=\"14.00\">data 2.0000</text>\n<polyline fill=\"none\" stroke=\"black\" points=\"112,-110.5 112,-146.5 \"/>\n<text text-anchor=\"middle\" x=\"155\" y=\"-124.8\" font-family=\"Times,serif\" font-size=\"14.00\">grad &#45;0.6213</text>\n</g>\n<!-- 140154802348720&#45;&gt;140154802159776* -->\n<g id=\"edge10\" class=\"edge\">\n<title>140154802348720&#45;&gt;140154802159776*</title>\n<path fill=\"none\" stroke=\"black\" d=\"M198.37,-128.5C208.05,-128.5 217.4,-128.5 225.8,-128.5\"/>\n<polygon fill=\"black\" stroke=\"black\" points=\"225.91,-132 235.91,-128.5 225.91,-125 225.91,-132\"/>\n</g>\n<!-- 140154802160400 -->\n<g id=\"node8\" class=\"node\">\n<title>140154802160400</title>\n<polygon fill=\"none\" stroke=\"black\" points=\"1071,-109.5 1071,-145.5 1256,-145.5 1256,-109.5 1071,-109.5\"/>\n<text text-anchor=\"middle\" x=\"1082.5\" y=\"-123.8\" font-family=\"Times,serif\" font-size=\"14.00\">n</text>\n<polyline fill=\"none\" stroke=\"black\" points=\"1094,-109.5 1094,-145.5 \"/>\n<text text-anchor=\"middle\" x=\"1134\" y=\"-123.8\" font-family=\"Times,serif\" font-size=\"14.00\">data 0.8814</text>\n<polyline fill=\"none\" stroke=\"black\" points=\"1174,-109.5 1174,-145.5 \"/>\n<text text-anchor=\"middle\" x=\"1215\" y=\"-123.8\" font-family=\"Times,serif\" font-size=\"14.00\">grad 0.2071</text>\n</g>\n<!-- 140154802160592sigmoid -->\n<g id=\"node15\" class=\"node\">\n<title>140154802160592sigmoid</title>\n<ellipse fill=\"none\" stroke=\"black\" cx=\"1331.65\" cy=\"-127.5\" rx=\"39.79\" ry=\"18\"/>\n<text text-anchor=\"middle\" x=\"1331.65\" y=\"-123.8\" font-family=\"Times,serif\" font-size=\"14.00\">sigmoid</text>\n</g>\n<!-- 140154802160400&#45;&gt;140154802160592sigmoid -->\n<g id=\"edge7\" class=\"edge\">\n<title>140154802160400&#45;&gt;140154802160592sigmoid</title>\n<path fill=\"none\" stroke=\"black\" d=\"M1256.32,-127.5C1264.98,-127.5 1273.52,-127.5 1281.54,-127.5\"/>\n<polygon fill=\"black\" stroke=\"black\" points=\"1281.76,-131 1291.76,-127.5 1281.76,-124 1281.76,-131\"/>\n</g>\n<!-- 140154802160400+&#45;&gt;140154802160400 -->\n<g id=\"edge3\" class=\"edge\">\n<title>140154802160400+&#45;&gt;140154802160400</title>\n<path fill=\"none\" stroke=\"black\" d=\"M1035.04,-127.5C1042.58,-127.5 1051.3,-127.5 1060.57,-127.5\"/>\n<polygon fill=\"black\" stroke=\"black\" points=\"1060.81,-131 1070.81,-127.5 1060.81,-124 1060.81,-131\"/>\n</g>\n<!-- 140154802160976 -->\n<g id=\"node10\" class=\"node\">\n<title>140154802160976</title>\n<polygon fill=\"none\" stroke=\"black\" points=\"716,-137.5 716,-173.5 901,-173.5 901,-137.5 716,-137.5\"/>\n<text text-anchor=\"middle\" x=\"727.5\" y=\"-151.8\" font-family=\"Times,serif\" font-size=\"14.00\">b</text>\n<polyline fill=\"none\" stroke=\"black\" points=\"739,-137.5 739,-173.5 \"/>\n<text text-anchor=\"middle\" x=\"779\" y=\"-151.8\" font-family=\"Times,serif\" font-size=\"14.00\">data 6.8814</text>\n<polyline fill=\"none\" stroke=\"black\" points=\"819,-137.5 819,-173.5 \"/>\n<text text-anchor=\"middle\" x=\"860\" y=\"-151.8\" font-family=\"Times,serif\" font-size=\"14.00\">grad 0.2071</text>\n</g>\n<!-- 140154802160976&#45;&gt;140154802160400+ -->\n<g id=\"edge8\" class=\"edge\">\n<title>140154802160976&#45;&gt;140154802160400+</title>\n<path fill=\"none\" stroke=\"black\" d=\"M901.02,-142.52C926,-138.98 951.59,-135.36 971.37,-132.55\"/>\n<polygon fill=\"black\" stroke=\"black\" points=\"972.03,-135.99 981.43,-131.12 971.04,-129.06 972.03,-135.99\"/>\n</g>\n<!-- 140154802159968 -->\n<g id=\"node11\" class=\"node\">\n<title>140154802159968</title>\n<polygon fill=\"none\" stroke=\"black\" points=\"328.5,-55.5 328.5,-91.5 543.5,-91.5 543.5,-55.5 328.5,-55.5\"/>\n<text text-anchor=\"middle\" x=\"355\" y=\"-69.8\" font-family=\"Times,serif\" font-size=\"14.00\">x2*w2</text>\n<polyline fill=\"none\" stroke=\"black\" points=\"381.5,-55.5 381.5,-91.5 \"/>\n<text text-anchor=\"middle\" x=\"421.5\" y=\"-69.8\" font-family=\"Times,serif\" font-size=\"14.00\">data 0.0000</text>\n<polyline fill=\"none\" stroke=\"black\" points=\"461.5,-55.5 461.5,-91.5 \"/>\n<text text-anchor=\"middle\" x=\"502.5\" y=\"-69.8\" font-family=\"Times,serif\" font-size=\"14.00\">grad 0.2071</text>\n</g>\n<!-- 140154802159968&#45;&gt;140154802160208+ -->\n<g id=\"edge13\" class=\"edge\">\n<title>140154802159968&#45;&gt;140154802160208+</title>\n<path fill=\"none\" stroke=\"black\" d=\"M543.84,-90.37C554.01,-91.98 563.76,-93.51 572.44,-94.89\"/>\n<polygon fill=\"black\" stroke=\"black\" points=\"572.05,-98.37 582.47,-96.47 573.14,-91.45 572.05,-98.37\"/>\n</g>\n<!-- 140154802159968*&#45;&gt;140154802159968 -->\n<g id=\"edge4\" class=\"edge\">\n<title>140154802159968*&#45;&gt;140154802159968</title>\n<path fill=\"none\" stroke=\"black\" d=\"M290.34,-73.5C298.51,-73.5 308.08,-73.5 318.36,-73.5\"/>\n<polygon fill=\"black\" stroke=\"black\" points=\"318.39,-77 328.39,-73.5 318.39,-70 318.39,-77\"/>\n</g>\n<!-- 140154802351504 -->\n<g id=\"node13\" class=\"node\">\n<title>140154802351504</title>\n<polygon fill=\"none\" stroke=\"black\" points=\"4,-0.5 4,-36.5 196,-36.5 196,-0.5 4,-0.5\"/>\n<text text-anchor=\"middle\" x=\"19\" y=\"-14.8\" font-family=\"Times,serif\" font-size=\"14.00\">x2</text>\n<polyline fill=\"none\" stroke=\"black\" points=\"34,-0.5 34,-36.5 \"/>\n<text text-anchor=\"middle\" x=\"74\" y=\"-14.8\" font-family=\"Times,serif\" font-size=\"14.00\">data 0.0000</text>\n<polyline fill=\"none\" stroke=\"black\" points=\"114,-0.5 114,-36.5 \"/>\n<text text-anchor=\"middle\" x=\"155\" y=\"-14.8\" font-family=\"Times,serif\" font-size=\"14.00\">grad 0.2071</text>\n</g>\n<!-- 140154802351504&#45;&gt;140154802159968* -->\n<g id=\"edge12\" class=\"edge\">\n<title>140154802351504&#45;&gt;140154802159968*</title>\n<path fill=\"none\" stroke=\"black\" d=\"M169.28,-36.5C179.65,-39.61 190.16,-42.98 200,-46.5 210.28,-50.17 221.28,-54.74 231.11,-59.07\"/>\n<polygon fill=\"black\" stroke=\"black\" points=\"229.93,-62.37 240.48,-63.27 232.79,-55.99 229.93,-62.37\"/>\n</g>\n<!-- 140154802160592 -->\n<g id=\"node14\" class=\"node\">\n<title>140154802160592</title>\n<polygon fill=\"none\" stroke=\"black\" points=\"1407.29,-109.5 1407.29,-145.5 1592.29,-145.5 1592.29,-109.5 1407.29,-109.5\"/>\n<text text-anchor=\"middle\" x=\"1418.79\" y=\"-123.8\" font-family=\"Times,serif\" font-size=\"14.00\">o</text>\n<polyline fill=\"none\" stroke=\"black\" points=\"1430.29,-109.5 1430.29,-145.5 \"/>\n<text text-anchor=\"middle\" x=\"1470.29\" y=\"-123.8\" font-family=\"Times,serif\" font-size=\"14.00\">data 0.7071</text>\n<polyline fill=\"none\" stroke=\"black\" points=\"1510.29,-109.5 1510.29,-145.5 \"/>\n<text text-anchor=\"middle\" x=\"1551.29\" y=\"-123.8\" font-family=\"Times,serif\" font-size=\"14.00\">grad 1.0000</text>\n</g>\n<!-- 140154802160592sigmoid&#45;&gt;140154802160592 -->\n<g id=\"edge5\" class=\"edge\">\n<title>140154802160592sigmoid&#45;&gt;140154802160592</title>\n<path fill=\"none\" stroke=\"black\" d=\"M1371.6,-127.5C1379.48,-127.5 1388.09,-127.5 1397.02,-127.5\"/>\n<polygon fill=\"black\" stroke=\"black\" points=\"1397.2,-131 1407.2,-127.5 1397.2,-124 1397.2,-131\"/>\n</g>\n</g>\n</svg>\n"
          },
          "metadata": {},
          "execution_count": 214
        }
      ]
    },
    {
      "cell_type": "markdown",
      "source": [
        "# Trying This With Torch"
      ],
      "metadata": {
        "id": "_zPvPNs8htQn"
      }
    },
    {
      "cell_type": "code",
      "source": [
        "import torch\n",
        "torch.version"
      ],
      "metadata": {
        "colab": {
          "base_uri": "https://localhost:8080/"
        },
        "id": "IHx-_KiUhKTB",
        "outputId": "d09fc90d-726b-4de8-c693-fc811abeefd6"
      },
      "execution_count": 215,
      "outputs": [
        {
          "output_type": "execute_result",
          "data": {
            "text/plain": [
              "<module 'torch.version' from '/usr/local/lib/python3.8/dist-packages/torch/version.py'>"
            ]
          },
          "metadata": {},
          "execution_count": 215
        }
      ]
    },
    {
      "cell_type": "code",
      "source": [
        "rg = True\n",
        "x1 = torch.Tensor([2.0]).double();                x1.requires_grad = rg\n",
        "x2 = torch.Tensor([0.0]).double();                x2.requires_grad = rg\n",
        "w1 = torch.Tensor([-3.0]).double();               w1.requires_grad = rg\n",
        "w2 = torch.Tensor([1.0]).double();                w2.requires_grad = rg\n",
        "b = torch.Tensor([6.8813735870195432]).double();  b.requires_grad = rg\n",
        "\n",
        "n = x1 * w1 + x2 * w2 + b\n",
        "# o = torch.sigmoid(n)\n",
        "# o = torch.relu(n)\n",
        "o = torch.tanh(n)\n",
        "\n",
        "print(o.data.item())\n",
        "o.backward()\n",
        "\n",
        "print(\"------\")\n",
        "print(f\"x1: {x1.grad.item()}\")\n",
        "print(f\"w1: {w1.grad.item()}\")\n",
        "print(f\"x2: {x2.grad.item()}\")\n",
        "print(f\"w2: {w2.grad.item()}\")"
      ],
      "metadata": {
        "colab": {
          "base_uri": "https://localhost:8080/"
        },
        "id": "PjQVSl4Dhrr0",
        "outputId": "c6119849-42cb-43e9-8613-15895c771556"
      },
      "execution_count": 216,
      "outputs": [
        {
          "output_type": "stream",
          "name": "stdout",
          "text": [
            "0.7071066904050358\n",
            "------\n",
            "x1: -1.5000003851533106\n",
            "w1: 1.0000002567688737\n",
            "x2: 0.5000001283844369\n",
            "w2: 0.0\n"
          ]
        }
      ]
    },
    {
      "cell_type": "code",
      "source": [
        "torch.Tensor([[1,2,3],[4,5,6]]).dtype"
      ],
      "metadata": {
        "colab": {
          "base_uri": "https://localhost:8080/"
        },
        "id": "vrQFdUwcjWe-",
        "outputId": "32ca409a-9bd8-4224-eb7a-6f3409e92214"
      },
      "execution_count": 217,
      "outputs": [
        {
          "output_type": "execute_result",
          "data": {
            "text/plain": [
              "torch.float32"
            ]
          },
          "metadata": {},
          "execution_count": 217
        }
      ]
    },
    {
      "cell_type": "code",
      "source": [
        "# def test3():\n",
        "#   a = Value(-2.0, label='a')\n",
        "#   b = Value(3.0, label='b')\n",
        "#   c = Value(10.0, label='c')\n",
        "#   d = a * b + a; d.label = 'd'\n",
        "#   e = a + b * c; e.label = 'e'\n",
        "#   f = d * e * c * c; f.label = 'f'\n",
        "\n",
        "#   f.backward()\n",
        "#   return f\n",
        "\n",
        "# draw_dot(test3())\n",
        "a = torch.Tensor([-2.0]).double(); a.requires_grad = True\n",
        "b = torch.Tensor([3.0]).double(); b.requires_grad = True\n",
        "c = torch.Tensor([10.0]).double(); c.requires_grad = True\n",
        "\n",
        "d = a * b + a\n",
        "e = a + b * c\n",
        "f = d * e * c * c\n",
        "\n",
        "f.backward()\n",
        "print(f.data.item())\n",
        "\n",
        "print(\"----\")\n",
        "print(f\"a: {a.grad.item()}\")\n",
        "print(f\"b: {b.grad.item()}\")\n",
        "print(f\"c: {c.grad.item()}\")"
      ],
      "metadata": {
        "colab": {
          "base_uri": "https://localhost:8080/"
        },
        "id": "Mxlqbu_fksj_",
        "outputId": "807b356f-846c-426f-a3bc-5a0d7292d160"
      },
      "execution_count": 218,
      "outputs": [
        {
          "output_type": "stream",
          "name": "stdout",
          "text": [
            "-22400.0\n",
            "----\n",
            "a: 10400.0\n",
            "b: -13600.0\n",
            "c: -6880.0\n"
          ]
        }
      ]
    },
    {
      "cell_type": "code",
      "source": [
        "draw_dot(test3())"
      ],
      "metadata": {
        "colab": {
          "base_uri": "https://localhost:8080/",
          "height": 366
        },
        "id": "JwRI1YXFq7HO",
        "outputId": "268695fc-86d7-4c41-fdcf-33c5a3d061b8"
      },
      "execution_count": 219,
      "outputs": [
        {
          "output_type": "execute_result",
          "data": {
            "text/plain": [
              "<graphviz.dot.Digraph at 0x7f7855324d60>"
            ],
            "image/svg+xml": "<?xml version=\"1.0\" encoding=\"UTF-8\" standalone=\"no\"?>\n<!DOCTYPE svg PUBLIC \"-//W3C//DTD SVG 1.1//EN\"\n \"http://www.w3.org/Graphics/SVG/1.1/DTD/svg11.dtd\">\n<!-- Generated by graphviz version 2.43.0 (0)\n -->\n<!-- Title: %3 Pages: 1 -->\n<svg width=\"1914pt\" height=\"244pt\"\n viewBox=\"0.00 0.00 1914.00 243.50\" xmlns=\"http://www.w3.org/2000/svg\" xmlns:xlink=\"http://www.w3.org/1999/xlink\">\n<g id=\"graph0\" class=\"graph\" transform=\"scale(1 1) rotate(0) translate(4 239.5)\">\n<title>%3</title>\n<polygon fill=\"white\" stroke=\"transparent\" points=\"-4,4 -4,-239.5 1910,-239.5 1910,4 -4,4\"/>\n<!-- 140154802363456 -->\n<g id=\"node1\" class=\"node\">\n<title>140154802363456</title>\n<polygon fill=\"none\" stroke=\"black\" points=\"676,-125.5 676,-161.5 886,-161.5 886,-125.5 676,-125.5\"/>\n<text text-anchor=\"middle\" x=\"687.5\" y=\"-139.8\" font-family=\"Times,serif\" font-size=\"14.00\">e</text>\n<polyline fill=\"none\" stroke=\"black\" points=\"699,-125.5 699,-161.5 \"/>\n<text text-anchor=\"middle\" x=\"742.5\" y=\"-139.8\" font-family=\"Times,serif\" font-size=\"14.00\">data 28.0000</text>\n<polyline fill=\"none\" stroke=\"black\" points=\"786,-125.5 786,-161.5 \"/>\n<text text-anchor=\"middle\" x=\"836\" y=\"-139.8\" font-family=\"Times,serif\" font-size=\"14.00\">grad &#45;800.0000</text>\n</g>\n<!-- 140154802163568* -->\n<g id=\"node11\" class=\"node\">\n<title>140154802163568*</title>\n<ellipse fill=\"none\" stroke=\"black\" cx=\"949\" cy=\"-143.5\" rx=\"27\" ry=\"18\"/>\n<text text-anchor=\"middle\" x=\"949\" y=\"-139.8\" font-family=\"Times,serif\" font-size=\"14.00\">*</text>\n</g>\n<!-- 140154802363456&#45;&gt;140154802163568* -->\n<g id=\"edge12\" class=\"edge\">\n<title>140154802363456&#45;&gt;140154802163568*</title>\n<path fill=\"none\" stroke=\"black\" d=\"M886.19,-143.5C895.23,-143.5 903.92,-143.5 911.78,-143.5\"/>\n<polygon fill=\"black\" stroke=\"black\" points=\"911.93,-147 921.93,-143.5 911.93,-140 911.93,-147\"/>\n</g>\n<!-- 140154802363456+ -->\n<g id=\"node2\" class=\"node\">\n<title>140154802363456+</title>\n<ellipse fill=\"none\" stroke=\"black\" cx=\"613\" cy=\"-143.5\" rx=\"27\" ry=\"18\"/>\n<text text-anchor=\"middle\" x=\"613\" y=\"-139.8\" font-family=\"Times,serif\" font-size=\"14.00\">+</text>\n</g>\n<!-- 140154802363456+&#45;&gt;140154802363456 -->\n<g id=\"edge1\" class=\"edge\">\n<title>140154802363456+&#45;&gt;140154802363456</title>\n<path fill=\"none\" stroke=\"black\" d=\"M640.3,-143.5C647.76,-143.5 656.38,-143.5 665.6,-143.5\"/>\n<polygon fill=\"black\" stroke=\"black\" points=\"665.83,-147 675.83,-143.5 665.83,-140 665.83,-147\"/>\n</g>\n<!-- 140154802082432 -->\n<g id=\"node3\" class=\"node\">\n<title>140154802082432</title>\n<polygon fill=\"none\" stroke=\"black\" points=\"0,-56.5 0,-92.5 217,-92.5 217,-56.5 0,-56.5\"/>\n<text text-anchor=\"middle\" x=\"11.5\" y=\"-70.8\" font-family=\"Times,serif\" font-size=\"14.00\">a</text>\n<polyline fill=\"none\" stroke=\"black\" points=\"23,-56.5 23,-92.5 \"/>\n<text text-anchor=\"middle\" x=\"65.5\" y=\"-70.8\" font-family=\"Times,serif\" font-size=\"14.00\">data &#45;2.0000</text>\n<polyline fill=\"none\" stroke=\"black\" points=\"108,-56.5 108,-92.5 \"/>\n<text text-anchor=\"middle\" x=\"162.5\" y=\"-70.8\" font-family=\"Times,serif\" font-size=\"14.00\">grad 10400.0000</text>\n</g>\n<!-- 140154802082432&#45;&gt;140154802363456+ -->\n<g id=\"edge17\" class=\"edge\">\n<title>140154802082432&#45;&gt;140154802363456+</title>\n<path fill=\"none\" stroke=\"black\" d=\"M139.56,-92.58C167.74,-108.43 211.61,-130.32 253,-139.5 368.86,-165.19 510.97,-154.88 576.19,-147.91\"/>\n<polygon fill=\"black\" stroke=\"black\" points=\"576.79,-151.36 586.35,-146.78 576.02,-144.4 576.79,-151.36\"/>\n</g>\n<!-- 140154802083152+ -->\n<g id=\"node8\" class=\"node\">\n<title>140154802083152+</title>\n<ellipse fill=\"none\" stroke=\"black\" cx=\"613\" cy=\"-65.5\" rx=\"27\" ry=\"18\"/>\n<text text-anchor=\"middle\" x=\"613\" y=\"-61.8\" font-family=\"Times,serif\" font-size=\"14.00\">+</text>\n</g>\n<!-- 140154802082432&#45;&gt;140154802083152+ -->\n<g id=\"edge21\" class=\"edge\">\n<title>140154802082432&#45;&gt;140154802083152+</title>\n<path fill=\"none\" stroke=\"black\" d=\"M217.3,-72.57C330.27,-70.55 501.42,-67.48 575.6,-66.15\"/>\n<polygon fill=\"black\" stroke=\"black\" points=\"575.88,-69.65 585.82,-65.97 575.76,-62.65 575.88,-69.65\"/>\n</g>\n<!-- 140154802083824* -->\n<g id=\"node17\" class=\"node\">\n<title>140154802083824*</title>\n<ellipse fill=\"none\" stroke=\"black\" cx=\"280\" cy=\"-19.5\" rx=\"27\" ry=\"18\"/>\n<text text-anchor=\"middle\" x=\"280\" y=\"-15.8\" font-family=\"Times,serif\" font-size=\"14.00\">*</text>\n</g>\n<!-- 140154802082432&#45;&gt;140154802083824* -->\n<g id=\"edge10\" class=\"edge\">\n<title>140154802082432&#45;&gt;140154802083824*</title>\n<path fill=\"none\" stroke=\"black\" d=\"M184.84,-56.47C195.71,-53.41 206.7,-50.06 217,-46.5 227.32,-42.93 238.32,-38.39 248.15,-34.06\"/>\n<polygon fill=\"black\" stroke=\"black\" points=\"249.84,-37.14 257.52,-29.84 246.97,-30.76 249.84,-37.14\"/>\n</g>\n<!-- 140154802085024 -->\n<g id=\"node4\" class=\"node\">\n<title>140154802085024</title>\n<polygon fill=\"none\" stroke=\"black\" points=\"0,-179.5 0,-215.5 217,-215.5 217,-179.5 0,-179.5\"/>\n<text text-anchor=\"middle\" x=\"11.5\" y=\"-193.8\" font-family=\"Times,serif\" font-size=\"14.00\">c</text>\n<polyline fill=\"none\" stroke=\"black\" points=\"23,-179.5 23,-215.5 \"/>\n<text text-anchor=\"middle\" x=\"66.5\" y=\"-193.8\" font-family=\"Times,serif\" font-size=\"14.00\">data 10.0000</text>\n<polyline fill=\"none\" stroke=\"black\" points=\"110,-179.5 110,-215.5 \"/>\n<text text-anchor=\"middle\" x=\"163.5\" y=\"-193.8\" font-family=\"Times,serif\" font-size=\"14.00\">grad &#45;6880.0000</text>\n</g>\n<!-- 140154802364176* -->\n<g id=\"node6\" class=\"node\">\n<title>140154802364176*</title>\n<ellipse fill=\"none\" stroke=\"black\" cx=\"280\" cy=\"-112.5\" rx=\"27\" ry=\"18\"/>\n<text text-anchor=\"middle\" x=\"280\" y=\"-108.8\" font-family=\"Times,serif\" font-size=\"14.00\">*</text>\n</g>\n<!-- 140154802085024&#45;&gt;140154802364176* -->\n<g id=\"edge13\" class=\"edge\">\n<title>140154802085024&#45;&gt;140154802364176*</title>\n<path fill=\"none\" stroke=\"black\" d=\"M145.45,-179.47C176.18,-164.06 219.9,-142.14 248.84,-127.63\"/>\n<polygon fill=\"black\" stroke=\"black\" points=\"250.68,-130.62 258.05,-123.01 247.54,-124.36 250.68,-130.62\"/>\n</g>\n<!-- 140154802163136* -->\n<g id=\"node13\" class=\"node\">\n<title>140154802163136*</title>\n<ellipse fill=\"none\" stroke=\"black\" cx=\"1288\" cy=\"-188.5\" rx=\"27\" ry=\"18\"/>\n<text text-anchor=\"middle\" x=\"1288\" y=\"-184.8\" font-family=\"Times,serif\" font-size=\"14.00\">*</text>\n</g>\n<!-- 140154802085024&#45;&gt;140154802163136* -->\n<g id=\"edge14\" class=\"edge\">\n<title>140154802085024&#45;&gt;140154802163136*</title>\n<path fill=\"none\" stroke=\"black\" d=\"M217.32,-197.5C283.22,-197.5 369.23,-197.5 445.5,-197.5 445.5,-197.5 445.5,-197.5 950,-197.5 1059.55,-197.5 1189.05,-192.69 1250.77,-190.1\"/>\n<polygon fill=\"black\" stroke=\"black\" points=\"1250.95,-193.6 1260.79,-189.68 1250.65,-186.6 1250.95,-193.6\"/>\n</g>\n<!-- 140154802163664* -->\n<g id=\"node15\" class=\"node\">\n<title>140154802163664*</title>\n<ellipse fill=\"none\" stroke=\"black\" cx=\"1628\" cy=\"-211.5\" rx=\"27\" ry=\"18\"/>\n<text text-anchor=\"middle\" x=\"1628\" y=\"-207.8\" font-family=\"Times,serif\" font-size=\"14.00\">*</text>\n</g>\n<!-- 140154802085024&#45;&gt;140154802163664* -->\n<g id=\"edge11\" class=\"edge\">\n<title>140154802085024&#45;&gt;140154802163664*</title>\n<path fill=\"none\" stroke=\"black\" d=\"M214.71,-215.55C280.77,-225.36 367.86,-235.5 445.5,-235.5 445.5,-235.5 445.5,-235.5 1289,-235.5 1399.39,-235.5 1529.55,-222.61 1591.19,-215.72\"/>\n<polygon fill=\"black\" stroke=\"black\" points=\"1591.64,-219.19 1601.18,-214.59 1590.85,-212.24 1591.64,-219.19\"/>\n</g>\n<!-- 140154802364176 -->\n<g id=\"node5\" class=\"node\">\n<title>140154802364176</title>\n<polygon fill=\"none\" stroke=\"black\" points=\"343,-94.5 343,-130.5 550,-130.5 550,-94.5 343,-94.5\"/>\n<text text-anchor=\"middle\" x=\"353\" y=\"-108.8\" font-family=\"Times,serif\" font-size=\"14.00\"> </text>\n<polyline fill=\"none\" stroke=\"black\" points=\"363,-94.5 363,-130.5 \"/>\n<text text-anchor=\"middle\" x=\"406.5\" y=\"-108.8\" font-family=\"Times,serif\" font-size=\"14.00\">data 30.0000</text>\n<polyline fill=\"none\" stroke=\"black\" points=\"450,-94.5 450,-130.5 \"/>\n<text text-anchor=\"middle\" x=\"500\" y=\"-108.8\" font-family=\"Times,serif\" font-size=\"14.00\">grad &#45;800.0000</text>\n</g>\n<!-- 140154802364176&#45;&gt;140154802363456+ -->\n<g id=\"edge19\" class=\"edge\">\n<title>140154802364176&#45;&gt;140154802363456+</title>\n<path fill=\"none\" stroke=\"black\" d=\"M543.19,-130.53C555.15,-132.79 566.72,-134.97 576.85,-136.88\"/>\n<polygon fill=\"black\" stroke=\"black\" points=\"576.37,-140.35 586.85,-138.76 577.67,-133.47 576.37,-140.35\"/>\n</g>\n<!-- 140154802364176*&#45;&gt;140154802364176 -->\n<g id=\"edge2\" class=\"edge\">\n<title>140154802364176*&#45;&gt;140154802364176</title>\n<path fill=\"none\" stroke=\"black\" d=\"M307.07,-112.5C314.66,-112.5 323.49,-112.5 332.93,-112.5\"/>\n<polygon fill=\"black\" stroke=\"black\" points=\"332.97,-116 342.97,-112.5 332.97,-109 332.97,-116\"/>\n</g>\n<!-- 140154802083152 -->\n<g id=\"node7\" class=\"node\">\n<title>140154802083152</title>\n<polygon fill=\"none\" stroke=\"black\" points=\"676,-55.5 676,-91.5 886,-91.5 886,-55.5 676,-55.5\"/>\n<text text-anchor=\"middle\" x=\"687.5\" y=\"-69.8\" font-family=\"Times,serif\" font-size=\"14.00\">d</text>\n<polyline fill=\"none\" stroke=\"black\" points=\"699,-55.5 699,-91.5 \"/>\n<text text-anchor=\"middle\" x=\"741.5\" y=\"-69.8\" font-family=\"Times,serif\" font-size=\"14.00\">data &#45;8.0000</text>\n<polyline fill=\"none\" stroke=\"black\" points=\"784,-55.5 784,-91.5 \"/>\n<text text-anchor=\"middle\" x=\"835\" y=\"-69.8\" font-family=\"Times,serif\" font-size=\"14.00\">grad 2800.0000</text>\n</g>\n<!-- 140154802083152&#45;&gt;140154802163568* -->\n<g id=\"edge9\" class=\"edge\">\n<title>140154802083152&#45;&gt;140154802163568*</title>\n<path fill=\"none\" stroke=\"black\" d=\"M827.73,-91.5C845.93,-98.79 867.02,-107.39 886,-115.5 896.1,-119.82 907.04,-124.69 916.89,-129.15\"/>\n<polygon fill=\"black\" stroke=\"black\" points=\"915.74,-132.48 926.29,-133.44 918.64,-126.11 915.74,-132.48\"/>\n</g>\n<!-- 140154802083152+&#45;&gt;140154802083152 -->\n<g id=\"edge3\" class=\"edge\">\n<title>140154802083152+&#45;&gt;140154802083152</title>\n<path fill=\"none\" stroke=\"black\" d=\"M639.94,-66.75C647.52,-67.12 656.33,-67.54 665.77,-67.99\"/>\n<polygon fill=\"black\" stroke=\"black\" points=\"665.66,-71.49 675.81,-68.48 665.99,-64.5 665.66,-71.49\"/>\n</g>\n<!-- 140154802082144 -->\n<g id=\"node9\" class=\"node\">\n<title>140154802082144</title>\n<polygon fill=\"none\" stroke=\"black\" points=\"0.5,-1.5 0.5,-37.5 216.5,-37.5 216.5,-1.5 0.5,-1.5\"/>\n<text text-anchor=\"middle\" x=\"12\" y=\"-15.8\" font-family=\"Times,serif\" font-size=\"14.00\">b</text>\n<polyline fill=\"none\" stroke=\"black\" points=\"23.5,-1.5 23.5,-37.5 \"/>\n<text text-anchor=\"middle\" x=\"63.5\" y=\"-15.8\" font-family=\"Times,serif\" font-size=\"14.00\">data 3.0000</text>\n<polyline fill=\"none\" stroke=\"black\" points=\"103.5,-1.5 103.5,-37.5 \"/>\n<text text-anchor=\"middle\" x=\"160\" y=\"-15.8\" font-family=\"Times,serif\" font-size=\"14.00\">grad &#45;13600.0000</text>\n</g>\n<!-- 140154802082144&#45;&gt;140154802364176* -->\n<g id=\"edge16\" class=\"edge\">\n<title>140154802082144&#45;&gt;140154802364176*</title>\n<path fill=\"none\" stroke=\"black\" d=\"M198.81,-37.61C205.14,-40.19 211.28,-43.14 217,-46.5 234.62,-56.86 250.34,-73.72 261.54,-87.8\"/>\n<polygon fill=\"black\" stroke=\"black\" points=\"259.05,-90.31 267.9,-96.13 264.61,-86.06 259.05,-90.31\"/>\n</g>\n<!-- 140154802082144&#45;&gt;140154802083824* -->\n<g id=\"edge20\" class=\"edge\">\n<title>140154802082144&#45;&gt;140154802083824*</title>\n<path fill=\"none\" stroke=\"black\" d=\"M216.85,-19.5C225.97,-19.5 234.72,-19.5 242.62,-19.5\"/>\n<polygon fill=\"black\" stroke=\"black\" points=\"242.83,-23 252.83,-19.5 242.83,-16 242.83,-23\"/>\n</g>\n<!-- 140154802163568 -->\n<g id=\"node10\" class=\"node\">\n<title>140154802163568</title>\n<polygon fill=\"none\" stroke=\"black\" points=\"1012,-129.5 1012,-165.5 1225,-165.5 1225,-129.5 1012,-129.5\"/>\n<text text-anchor=\"middle\" x=\"1022\" y=\"-143.8\" font-family=\"Times,serif\" font-size=\"14.00\"> </text>\n<polyline fill=\"none\" stroke=\"black\" points=\"1032,-129.5 1032,-165.5 \"/>\n<text text-anchor=\"middle\" x=\"1081\" y=\"-143.8\" font-family=\"Times,serif\" font-size=\"14.00\">data &#45;224.0000</text>\n<polyline fill=\"none\" stroke=\"black\" points=\"1130,-129.5 1130,-165.5 \"/>\n<text text-anchor=\"middle\" x=\"1177.5\" y=\"-143.8\" font-family=\"Times,serif\" font-size=\"14.00\">grad 100.0000</text>\n</g>\n<!-- 140154802163568&#45;&gt;140154802163136* -->\n<g id=\"edge18\" class=\"edge\">\n<title>140154802163568&#45;&gt;140154802163136*</title>\n<path fill=\"none\" stroke=\"black\" d=\"M1193.46,-165.6C1213.92,-170.61 1235.18,-175.82 1252.25,-179.99\"/>\n<polygon fill=\"black\" stroke=\"black\" points=\"1251.75,-183.47 1262.29,-182.45 1253.41,-176.67 1251.75,-183.47\"/>\n</g>\n<!-- 140154802163568*&#45;&gt;140154802163568 -->\n<g id=\"edge4\" class=\"edge\">\n<title>140154802163568*&#45;&gt;140154802163568</title>\n<path fill=\"none\" stroke=\"black\" d=\"M976.17,-144.12C983.6,-144.3 992.21,-144.51 1001.43,-144.73\"/>\n<polygon fill=\"black\" stroke=\"black\" points=\"1001.58,-148.23 1011.66,-144.97 1001.74,-141.23 1001.58,-148.23\"/>\n</g>\n<!-- 140154802163136 -->\n<g id=\"node12\" class=\"node\">\n<title>140154802163136</title>\n<polygon fill=\"none\" stroke=\"black\" points=\"1351,-170.5 1351,-206.5 1565,-206.5 1565,-170.5 1351,-170.5\"/>\n<text text-anchor=\"middle\" x=\"1361\" y=\"-184.8\" font-family=\"Times,serif\" font-size=\"14.00\"> </text>\n<polyline fill=\"none\" stroke=\"black\" points=\"1371,-170.5 1371,-206.5 \"/>\n<text text-anchor=\"middle\" x=\"1423.5\" y=\"-184.8\" font-family=\"Times,serif\" font-size=\"14.00\">data &#45;2240.0000</text>\n<polyline fill=\"none\" stroke=\"black\" points=\"1476,-170.5 1476,-206.5 \"/>\n<text text-anchor=\"middle\" x=\"1520.5\" y=\"-184.8\" font-family=\"Times,serif\" font-size=\"14.00\">grad 10.0000</text>\n</g>\n<!-- 140154802163136&#45;&gt;140154802163664* -->\n<g id=\"edge15\" class=\"edge\">\n<title>140154802163136&#45;&gt;140154802163664*</title>\n<path fill=\"none\" stroke=\"black\" d=\"M1565.4,-203.07C1574.63,-204.33 1583.48,-205.54 1591.44,-206.63\"/>\n<polygon fill=\"black\" stroke=\"black\" points=\"1590.98,-210.1 1601.36,-207.99 1591.93,-203.17 1590.98,-210.1\"/>\n</g>\n<!-- 140154802163136*&#45;&gt;140154802163136 -->\n<g id=\"edge5\" class=\"edge\">\n<title>140154802163136*&#45;&gt;140154802163136</title>\n<path fill=\"none\" stroke=\"black\" d=\"M1315.25,-188.5C1322.7,-188.5 1331.34,-188.5 1340.59,-188.5\"/>\n<polygon fill=\"black\" stroke=\"black\" points=\"1340.84,-192 1350.84,-188.5 1340.84,-185 1340.84,-192\"/>\n</g>\n<!-- 140154802163664 -->\n<g id=\"node14\" class=\"node\">\n<title>140154802163664</title>\n<polygon fill=\"none\" stroke=\"black\" points=\"1691,-193.5 1691,-229.5 1906,-229.5 1906,-193.5 1691,-193.5\"/>\n<text text-anchor=\"middle\" x=\"1701.5\" y=\"-207.8\" font-family=\"Times,serif\" font-size=\"14.00\">f</text>\n<polyline fill=\"none\" stroke=\"black\" points=\"1712,-193.5 1712,-229.5 \"/>\n<text text-anchor=\"middle\" x=\"1768\" y=\"-207.8\" font-family=\"Times,serif\" font-size=\"14.00\">data &#45;22400.0000</text>\n<polyline fill=\"none\" stroke=\"black\" points=\"1824,-193.5 1824,-229.5 \"/>\n<text text-anchor=\"middle\" x=\"1865\" y=\"-207.8\" font-family=\"Times,serif\" font-size=\"14.00\">grad 1.0000</text>\n</g>\n<!-- 140154802163664*&#45;&gt;140154802163664 -->\n<g id=\"edge6\" class=\"edge\">\n<title>140154802163664*&#45;&gt;140154802163664</title>\n<path fill=\"none\" stroke=\"black\" d=\"M1655.33,-211.5C1662.74,-211.5 1671.3,-211.5 1680.49,-211.5\"/>\n<polygon fill=\"black\" stroke=\"black\" points=\"1680.67,-215 1690.67,-211.5 1680.67,-208 1680.67,-215\"/>\n</g>\n<!-- 140154802083824 -->\n<g id=\"node16\" class=\"node\">\n<title>140154802083824</title>\n<polygon fill=\"none\" stroke=\"black\" points=\"343,-0.5 343,-36.5 550,-36.5 550,-0.5 343,-0.5\"/>\n<text text-anchor=\"middle\" x=\"353\" y=\"-14.8\" font-family=\"Times,serif\" font-size=\"14.00\"> </text>\n<polyline fill=\"none\" stroke=\"black\" points=\"363,-0.5 363,-36.5 \"/>\n<text text-anchor=\"middle\" x=\"405.5\" y=\"-14.8\" font-family=\"Times,serif\" font-size=\"14.00\">data &#45;6.0000</text>\n<polyline fill=\"none\" stroke=\"black\" points=\"448,-0.5 448,-36.5 \"/>\n<text text-anchor=\"middle\" x=\"499\" y=\"-14.8\" font-family=\"Times,serif\" font-size=\"14.00\">grad 2800.0000</text>\n</g>\n<!-- 140154802083824&#45;&gt;140154802083152+ -->\n<g id=\"edge8\" class=\"edge\">\n<title>140154802083824&#45;&gt;140154802083152+</title>\n<path fill=\"none\" stroke=\"black\" d=\"M510.63,-36.54C533.62,-43.11 558.72,-50.28 578.2,-55.84\"/>\n<polygon fill=\"black\" stroke=\"black\" points=\"577.25,-59.21 587.83,-58.59 579.17,-52.48 577.25,-59.21\"/>\n</g>\n<!-- 140154802083824*&#45;&gt;140154802083824 -->\n<g id=\"edge7\" class=\"edge\">\n<title>140154802083824*&#45;&gt;140154802083824</title>\n<path fill=\"none\" stroke=\"black\" d=\"M307.07,-19.34C314.66,-19.3 323.49,-19.24 332.93,-19.18\"/>\n<polygon fill=\"black\" stroke=\"black\" points=\"332.99,-22.68 342.97,-19.12 332.95,-15.68 332.99,-22.68\"/>\n</g>\n</g>\n</svg>\n"
          },
          "metadata": {},
          "execution_count": 219
        }
      ]
    },
    {
      "cell_type": "markdown",
      "source": [
        "# Implementing `Neuron` Class"
      ],
      "metadata": {
        "id": "5JI1Jz0Im3Oc"
      }
    },
    {
      "cell_type": "code",
      "source": [
        "import random\n",
        "from typing import Any, List\n",
        "\n",
        "class Neuron:\n",
        "\n",
        "  def __init__(self, nin: int) -> None:\n",
        "    self.w = [Value(random.uniform(-1, 1)) for _ in range(nin)]\n",
        "    self.b = Value(random.uniform(-1, 1)) # bias\n",
        "  \n",
        "  def _activation(self, v: Value) -> Value:\n",
        "    return v.tanh()\n",
        "\n",
        "  def __call__(self, x: Any) -> Value:\n",
        "    # activation(w * x + b)\n",
        "    act = np.dot(self.w, x) + self.b\n",
        "    out = self._activation(act)\n",
        "    return out\n",
        "  \n",
        "  def parameters(self) -> List[Value]:\n",
        "    return self.w + [self.b]"
      ],
      "metadata": {
        "id": "HOIrwm1rq-6a"
      },
      "execution_count": 220,
      "outputs": []
    },
    {
      "cell_type": "code",
      "source": [
        "x = [2.0, 3.0]\n",
        "n = Neuron(len(x))\n",
        "n(x)"
      ],
      "metadata": {
        "colab": {
          "base_uri": "https://localhost:8080/"
        },
        "id": "tMCTLsvyySdG",
        "outputId": "bc9c8ba3-1602-4bf7-9cc6-26e89bae404d"
      },
      "execution_count": 221,
      "outputs": [
        {
          "output_type": "execute_result",
          "data": {
            "text/plain": [
              "Value(data=0.3819165660454811)"
            ]
          },
          "metadata": {},
          "execution_count": 221
        }
      ]
    },
    {
      "cell_type": "markdown",
      "source": [
        "# `Layer` Class"
      ],
      "metadata": {
        "id": "5RKZ6Yt_-JxT"
      }
    },
    {
      "cell_type": "code",
      "source": [
        "class Layer:\n",
        "\n",
        "  def __init__(self, nin, nout) -> None:\n",
        "    self.neurons = [Neuron(nin) for _ in range(nout)]\n",
        "  \n",
        "  def __call__(self, x):\n",
        "    outs = [n(x) for n in self.neurons]\n",
        "    return outs[0] if len(outs) == 1 else outs\n",
        "  \n",
        "  def parameters(self):\n",
        "    return [p for n in self.neurons for p in n.parameters()]\n",
        "    \n",
        "  "
      ],
      "metadata": {
        "id": "5uaLA1Kh-Ows"
      },
      "execution_count": 222,
      "outputs": []
    },
    {
      "cell_type": "code",
      "source": [
        "x = [2.0, 3.0]\n",
        "n = Layer(len(x), 3)\n",
        "n(x)"
      ],
      "metadata": {
        "id": "s_KlVCAN2heL",
        "colab": {
          "base_uri": "https://localhost:8080/"
        },
        "outputId": "64a7c877-263f-45fc-d929-6c528d736f7c"
      },
      "execution_count": 223,
      "outputs": [
        {
          "output_type": "execute_result",
          "data": {
            "text/plain": [
              "[Value(data=-0.7674029183400974),\n",
              " Value(data=0.9713663174614785),\n",
              " Value(data=0.9207463757421062)]"
            ]
          },
          "metadata": {},
          "execution_count": 223
        }
      ]
    },
    {
      "cell_type": "markdown",
      "source": [
        "# `MLP` Class"
      ],
      "metadata": {
        "id": "nD7VlirVcClm"
      }
    },
    {
      "cell_type": "code",
      "source": [
        "from typing import List\n",
        "\n",
        "class MLP:\n",
        "\n",
        "  def __init__(self, nin: int, nouts: List[int]):\n",
        "    sz = [nin] + nouts\n",
        "    self.layers = [Layer(sz[i], sz[i+1]) for i in range(len(nouts))]\n",
        "\n",
        "  def __call__(self, x):\n",
        "    for layer in self.layers:\n",
        "      x = layer(x)\n",
        "    return x\n",
        "  \n",
        "  def parameters(self):\n",
        "    return [p for l in self.layers for p in l.parameters()]\n"
      ],
      "metadata": {
        "id": "jj3BVHNCbs_H"
      },
      "execution_count": 224,
      "outputs": []
    },
    {
      "cell_type": "markdown",
      "source": [
        "# Loss Functions"
      ],
      "metadata": {
        "id": "Q2HBqOb-yRDj"
      }
    },
    {
      "cell_type": "code",
      "source": [
        "class LossFunction:\n",
        "\n",
        "  def __call__(self, outputs: List[Value], targets: List[Value]):\n",
        "    raise NotImplementedError(\"Loss function not implemented by sublcass\")\n",
        "\n",
        "class MSE(LossFunction):\n",
        "\n",
        "  def _mse(self, outputs: List[Value], targets: List[Value]):\n",
        "    \"\"\"Implements MSE loss function for a list of outputs & targets\"\"\"\n",
        "    return sum((yout - ygt)**2 for ygt, yout in zip(targets, outputs))\n",
        "\n",
        "  def __call__(self, outputs: List[Value], targets: List[Value]):\n",
        "    return self._mse(outputs, targets)"
      ],
      "metadata": {
        "id": "Kry5bhwCyWFL"
      },
      "execution_count": 225,
      "outputs": []
    },
    {
      "cell_type": "code",
      "source": [
        "x = [2.0, 3.0, -1.0]\n",
        "n = MLP(len(x), [4, 4, 1])\n",
        "loss_func = MSE()\n",
        "n(x)"
      ],
      "metadata": {
        "colab": {
          "base_uri": "https://localhost:8080/"
        },
        "id": "Nhbtyw1ZcenK",
        "outputId": "7d6d7fb6-6c96-4f36-db57-329a1d5abe6f"
      },
      "execution_count": 226,
      "outputs": [
        {
          "output_type": "execute_result",
          "data": {
            "text/plain": [
              "Value(data=0.0884815788063107)"
            ]
          },
          "metadata": {},
          "execution_count": 226
        }
      ]
    },
    {
      "cell_type": "code",
      "source": [
        "n.parameters()"
      ],
      "metadata": {
        "colab": {
          "base_uri": "https://localhost:8080/"
        },
        "id": "JXxQVfWHMq9i",
        "outputId": "1b73651e-6cff-42ba-f538-8ac6aa41a1c3"
      },
      "execution_count": 227,
      "outputs": [
        {
          "output_type": "execute_result",
          "data": {
            "text/plain": [
              "[Value(data=0.31255526637777775),\n",
              " Value(data=0.8246106857787521),\n",
              " Value(data=-0.7814232047574572),\n",
              " Value(data=0.6408752595662697),\n",
              " Value(data=-0.20252189189007108),\n",
              " Value(data=-0.8693137391598071),\n",
              " Value(data=0.39841666323128555),\n",
              " Value(data=-0.3037961142013801),\n",
              " Value(data=-0.19282493884310759),\n",
              " Value(data=0.6032250931493106),\n",
              " Value(data=0.6001302646227185),\n",
              " Value(data=0.32749776568749045),\n",
              " Value(data=0.6650130652363544),\n",
              " Value(data=0.1889136153241595),\n",
              " Value(data=-0.07813264062433589),\n",
              " Value(data=0.9151267732861252),\n",
              " Value(data=0.5914405264235476),\n",
              " Value(data=-0.3725442040076463),\n",
              " Value(data=0.3810827422406471),\n",
              " Value(data=0.8301999957053683),\n",
              " Value(data=-0.08568482691922008),\n",
              " Value(data=-0.4702876239420326),\n",
              " Value(data=-0.598037011209763),\n",
              " Value(data=-0.8653994554527067),\n",
              " Value(data=0.05088685407468296),\n",
              " Value(data=0.23734644010332318),\n",
              " Value(data=0.15459549089529045),\n",
              " Value(data=-0.9122391928398941),\n",
              " Value(data=-0.18505999501786086),\n",
              " Value(data=0.30584552737905213),\n",
              " Value(data=0.23949109098065002),\n",
              " Value(data=0.35119774963171047),\n",
              " Value(data=0.26999576683073867),\n",
              " Value(data=-0.6059558972032326),\n",
              " Value(data=-0.4301483303818887),\n",
              " Value(data=-0.09534359352124744),\n",
              " Value(data=0.833061635489087),\n",
              " Value(data=0.5964776511293395),\n",
              " Value(data=-0.37143418174288434),\n",
              " Value(data=0.5908148577342738),\n",
              " Value(data=0.22158648570764017)]"
            ]
          },
          "metadata": {},
          "execution_count": 227
        }
      ]
    },
    {
      "cell_type": "code",
      "source": [
        "draw_dot(n(x))"
      ],
      "metadata": {
        "colab": {
          "base_uri": "https://localhost:8080/",
          "height": 1000
        },
        "id": "GMeLLONQcj51",
        "outputId": "2645a18c-cb7e-4303-b2da-683cef871cbc"
      },
      "execution_count": 228,
      "outputs": [
        {
          "output_type": "execute_result",
          "data": {
            "text/plain": [
              "<graphviz.dot.Digraph at 0x7f78552acc40>"
            ],
            "image/svg+xml": "<?xml version=\"1.0\" encoding=\"UTF-8\" standalone=\"no\"?>\n<!DOCTYPE svg PUBLIC \"-//W3C//DTD SVG 1.1//EN\"\n \"http://www.w3.org/Graphics/SVG/1.1/DTD/svg11.dtd\">\n<!-- Generated by graphviz version 2.43.0 (0)\n -->\n<!-- Title: %3 Pages: 1 -->\n<svg width=\"5697pt\" height=\"998pt\"\n viewBox=\"0.00 0.00 5697.00 998.00\" xmlns=\"http://www.w3.org/2000/svg\" xmlns:xlink=\"http://www.w3.org/1999/xlink\">\n<g id=\"graph0\" class=\"graph\" transform=\"scale(1 1) rotate(0) translate(4 994)\">\n<title>%3</title>\n<polygon fill=\"white\" stroke=\"transparent\" points=\"-4,4 -4,-994 5693,-994 5693,4 -4,4\"/>\n<!-- 140154801881152 -->\n<g id=\"node1\" class=\"node\">\n<title>140154801881152</title>\n<polygon fill=\"none\" stroke=\"black\" points=\"1943.5,-219.5 1943.5,-255.5 2125.5,-255.5 2125.5,-219.5 1943.5,-219.5\"/>\n<text text-anchor=\"middle\" x=\"1953.5\" y=\"-233.8\" font-family=\"Times,serif\" font-size=\"14.00\"> </text>\n<polyline fill=\"none\" stroke=\"black\" points=\"1963.5,-219.5 1963.5,-255.5 \"/>\n<text text-anchor=\"middle\" x=\"2003.5\" y=\"-233.8\" font-family=\"Times,serif\" font-size=\"14.00\">data 0.1546</text>\n<polyline fill=\"none\" stroke=\"black\" points=\"2043.5,-219.5 2043.5,-255.5 \"/>\n<text text-anchor=\"middle\" x=\"2084.5\" y=\"-233.8\" font-family=\"Times,serif\" font-size=\"14.00\">grad 0.0000</text>\n</g>\n<!-- 140154801881584+ -->\n<g id=\"node14\" class=\"node\">\n<title>140154801881584+</title>\n<ellipse fill=\"none\" stroke=\"black\" cx=\"2191\" cy=\"-244.5\" rx=\"27\" ry=\"18\"/>\n<text text-anchor=\"middle\" x=\"2191\" y=\"-240.8\" font-family=\"Times,serif\" font-size=\"14.00\">+</text>\n</g>\n<!-- 140154801881152&#45;&gt;140154801881584+ -->\n<g id=\"edge108\" class=\"edge\">\n<title>140154801881152&#45;&gt;140154801881584+</title>\n<path fill=\"none\" stroke=\"black\" d=\"M2125.82,-241.59C2135.57,-242.03 2145.04,-242.46 2153.57,-242.85\"/>\n<polygon fill=\"black\" stroke=\"black\" points=\"2153.68,-246.36 2163.83,-243.31 2154,-239.37 2153.68,-246.36\"/>\n</g>\n<!-- 140154801881152* -->\n<g id=\"node2\" class=\"node\">\n<title>140154801881152*</title>\n<ellipse fill=\"none\" stroke=\"black\" cx=\"1878\" cy=\"-251.5\" rx=\"27\" ry=\"18\"/>\n<text text-anchor=\"middle\" x=\"1878\" y=\"-247.8\" font-family=\"Times,serif\" font-size=\"14.00\">*</text>\n</g>\n<!-- 140154801881152*&#45;&gt;140154801881152 -->\n<g id=\"edge1\" class=\"edge\">\n<title>140154801881152*&#45;&gt;140154801881152</title>\n<path fill=\"none\" stroke=\"black\" d=\"M1904.86,-249.16C1913.13,-248.41 1922.83,-247.53 1933.14,-246.59\"/>\n<polygon fill=\"black\" stroke=\"black\" points=\"1933.54,-250.07 1943.18,-245.68 1932.91,-243.1 1933.54,-250.07\"/>\n</g>\n<!-- 140154801856672 -->\n<g id=\"node3\" class=\"node\">\n<title>140154801856672</title>\n<polygon fill=\"none\" stroke=\"black\" points=\"1943.5,-549.5 1943.5,-585.5 2125.5,-585.5 2125.5,-549.5 1943.5,-549.5\"/>\n<text text-anchor=\"middle\" x=\"1953.5\" y=\"-563.8\" font-family=\"Times,serif\" font-size=\"14.00\"> </text>\n<polyline fill=\"none\" stroke=\"black\" points=\"1963.5,-549.5 1963.5,-585.5 \"/>\n<text text-anchor=\"middle\" x=\"2003.5\" y=\"-563.8\" font-family=\"Times,serif\" font-size=\"14.00\">data 0.5913</text>\n<polyline fill=\"none\" stroke=\"black\" points=\"2043.5,-549.5 2043.5,-585.5 \"/>\n<text text-anchor=\"middle\" x=\"2084.5\" y=\"-563.8\" font-family=\"Times,serif\" font-size=\"14.00\">grad 0.0000</text>\n</g>\n<!-- 140154801857104+ -->\n<g id=\"node18\" class=\"node\">\n<title>140154801857104+</title>\n<ellipse fill=\"none\" stroke=\"black\" cx=\"2191\" cy=\"-574.5\" rx=\"27\" ry=\"18\"/>\n<text text-anchor=\"middle\" x=\"2191\" y=\"-570.8\" font-family=\"Times,serif\" font-size=\"14.00\">+</text>\n</g>\n<!-- 140154801856672&#45;&gt;140154801857104+ -->\n<g id=\"edge129\" class=\"edge\">\n<title>140154801856672&#45;&gt;140154801857104+</title>\n<path fill=\"none\" stroke=\"black\" d=\"M2125.82,-571.59C2135.57,-572.03 2145.04,-572.46 2153.57,-572.85\"/>\n<polygon fill=\"black\" stroke=\"black\" points=\"2153.68,-576.36 2163.83,-573.31 2154,-569.37 2153.68,-576.36\"/>\n</g>\n<!-- 140154801856672* -->\n<g id=\"node4\" class=\"node\">\n<title>140154801856672*</title>\n<ellipse fill=\"none\" stroke=\"black\" cx=\"1878\" cy=\"-567.5\" rx=\"27\" ry=\"18\"/>\n<text text-anchor=\"middle\" x=\"1878\" y=\"-563.8\" font-family=\"Times,serif\" font-size=\"14.00\">*</text>\n</g>\n<!-- 140154801856672*&#45;&gt;140154801856672 -->\n<g id=\"edge2\" class=\"edge\">\n<title>140154801856672*&#45;&gt;140154801856672</title>\n<path fill=\"none\" stroke=\"black\" d=\"M1905.21,-567.5C1913.34,-567.5 1922.85,-567.5 1932.94,-567.5\"/>\n<polygon fill=\"black\" stroke=\"black\" points=\"1933.19,-571 1943.19,-567.5 1933.19,-564 1933.19,-571\"/>\n</g>\n<!-- 140154801742032 -->\n<g id=\"node5\" class=\"node\">\n<title>140154801742032</title>\n<polygon fill=\"none\" stroke=\"black\" points=\"7,-623.5 7,-659.5 189,-659.5 189,-623.5 7,-623.5\"/>\n<text text-anchor=\"middle\" x=\"17\" y=\"-637.8\" font-family=\"Times,serif\" font-size=\"14.00\"> </text>\n<polyline fill=\"none\" stroke=\"black\" points=\"27,-623.5 27,-659.5 \"/>\n<text text-anchor=\"middle\" x=\"67\" y=\"-637.8\" font-family=\"Times,serif\" font-size=\"14.00\">data 0.8246</text>\n<polyline fill=\"none\" stroke=\"black\" points=\"107,-623.5 107,-659.5 \"/>\n<text text-anchor=\"middle\" x=\"148\" y=\"-637.8\" font-family=\"Times,serif\" font-size=\"14.00\">grad 0.0000</text>\n</g>\n<!-- 140154801813200* -->\n<g id=\"node157\" class=\"node\">\n<title>140154801813200*</title>\n<ellipse fill=\"none\" stroke=\"black\" cx=\"259\" cy=\"-641.5\" rx=\"27\" ry=\"18\"/>\n<text text-anchor=\"middle\" x=\"259\" y=\"-637.8\" font-family=\"Times,serif\" font-size=\"14.00\">*</text>\n</g>\n<!-- 140154801742032&#45;&gt;140154801813200* -->\n<g id=\"edge125\" class=\"edge\">\n<title>140154801742032&#45;&gt;140154801813200*</title>\n<path fill=\"none\" stroke=\"black\" d=\"M189.19,-641.5C200.61,-641.5 211.74,-641.5 221.6,-641.5\"/>\n<polygon fill=\"black\" stroke=\"black\" points=\"221.75,-645 231.75,-641.5 221.75,-638 221.75,-645\"/>\n</g>\n<!-- 140154801742080 -->\n<g id=\"node6\" class=\"node\">\n<title>140154801742080</title>\n<polygon fill=\"none\" stroke=\"black\" points=\"331,-568.5 331,-604.5 518,-604.5 518,-568.5 331,-568.5\"/>\n<text text-anchor=\"middle\" x=\"341\" y=\"-582.8\" font-family=\"Times,serif\" font-size=\"14.00\"> </text>\n<polyline fill=\"none\" stroke=\"black\" points=\"351,-568.5 351,-604.5 \"/>\n<text text-anchor=\"middle\" x=\"393.5\" y=\"-582.8\" font-family=\"Times,serif\" font-size=\"14.00\">data &#45;0.7814</text>\n<polyline fill=\"none\" stroke=\"black\" points=\"436,-568.5 436,-604.5 \"/>\n<text text-anchor=\"middle\" x=\"477\" y=\"-582.8\" font-family=\"Times,serif\" font-size=\"14.00\">grad 0.0000</text>\n</g>\n<!-- 140154801813728* -->\n<g id=\"node166\" class=\"node\">\n<title>140154801813728*</title>\n<ellipse fill=\"none\" stroke=\"black\" cx=\"590\" cy=\"-586.5\" rx=\"27\" ry=\"18\"/>\n<text text-anchor=\"middle\" x=\"590\" y=\"-582.8\" font-family=\"Times,serif\" font-size=\"14.00\">*</text>\n</g>\n<!-- 140154801742080&#45;&gt;140154801813728* -->\n<g id=\"edge119\" class=\"edge\">\n<title>140154801742080&#45;&gt;140154801813728*</title>\n<path fill=\"none\" stroke=\"black\" d=\"M518.24,-586.5C530.33,-586.5 542.09,-586.5 552.44,-586.5\"/>\n<polygon fill=\"black\" stroke=\"black\" points=\"552.68,-590 562.68,-586.5 552.68,-583 552.68,-590\"/>\n</g>\n<!-- 140154801742128 -->\n<g id=\"node7\" class=\"node\">\n<title>140154801742128</title>\n<polygon fill=\"none\" stroke=\"black\" points=\"995.5,-635.5 995.5,-671.5 1177.5,-671.5 1177.5,-635.5 995.5,-635.5\"/>\n<text text-anchor=\"middle\" x=\"1005.5\" y=\"-649.8\" font-family=\"Times,serif\" font-size=\"14.00\"> </text>\n<polyline fill=\"none\" stroke=\"black\" points=\"1015.5,-635.5 1015.5,-671.5 \"/>\n<text text-anchor=\"middle\" x=\"1055.5\" y=\"-649.8\" font-family=\"Times,serif\" font-size=\"14.00\">data 0.6409</text>\n<polyline fill=\"none\" stroke=\"black\" points=\"1095.5,-635.5 1095.5,-671.5 \"/>\n<text text-anchor=\"middle\" x=\"1136.5\" y=\"-649.8\" font-family=\"Times,serif\" font-size=\"14.00\">grad 0.0000</text>\n</g>\n<!-- 140154801814160+ -->\n<g id=\"node174\" class=\"node\">\n<title>140154801814160+</title>\n<ellipse fill=\"none\" stroke=\"black\" cx=\"1252\" cy=\"-622.5\" rx=\"27\" ry=\"18\"/>\n<text text-anchor=\"middle\" x=\"1252\" y=\"-618.8\" font-family=\"Times,serif\" font-size=\"14.00\">+</text>\n</g>\n<!-- 140154801742128&#45;&gt;140154801814160+ -->\n<g id=\"edge77\" class=\"edge\">\n<title>140154801742128&#45;&gt;140154801814160+</title>\n<path fill=\"none\" stroke=\"black\" d=\"M1177.86,-636.37C1191.32,-633.82 1204.46,-631.32 1215.81,-629.17\"/>\n<polygon fill=\"black\" stroke=\"black\" points=\"1216.51,-632.6 1225.68,-627.3 1215.2,-625.72 1216.51,-632.6\"/>\n</g>\n<!-- 140154801881392 -->\n<g id=\"node8\" class=\"node\">\n<title>140154801881392</title>\n<polygon fill=\"none\" stroke=\"black\" points=\"1943.5,-274.5 1943.5,-310.5 2125.5,-310.5 2125.5,-274.5 1943.5,-274.5\"/>\n<text text-anchor=\"middle\" x=\"1953.5\" y=\"-288.8\" font-family=\"Times,serif\" font-size=\"14.00\"> </text>\n<polyline fill=\"none\" stroke=\"black\" points=\"1963.5,-274.5 1963.5,-310.5 \"/>\n<text text-anchor=\"middle\" x=\"2003.5\" y=\"-288.8\" font-family=\"Times,serif\" font-size=\"14.00\">data 0.9112</text>\n<polyline fill=\"none\" stroke=\"black\" points=\"2043.5,-274.5 2043.5,-310.5 \"/>\n<text text-anchor=\"middle\" x=\"2084.5\" y=\"-288.8\" font-family=\"Times,serif\" font-size=\"14.00\">grad 0.0000</text>\n</g>\n<!-- 140154801881392&#45;&gt;140154801881584+ -->\n<g id=\"edge75\" class=\"edge\">\n<title>140154801881392&#45;&gt;140154801881584+</title>\n<path fill=\"none\" stroke=\"black\" d=\"M2095.76,-274.43C2106.5,-271.16 2117.59,-267.75 2128,-264.5 2137.35,-261.58 2147.48,-258.34 2156.78,-255.34\"/>\n<polygon fill=\"black\" stroke=\"black\" points=\"2158.04,-258.61 2166.48,-252.2 2155.89,-251.95 2158.04,-258.61\"/>\n</g>\n<!-- 140154801881392* -->\n<g id=\"node9\" class=\"node\">\n<title>140154801881392*</title>\n<ellipse fill=\"none\" stroke=\"black\" cx=\"1878\" cy=\"-361.5\" rx=\"27\" ry=\"18\"/>\n<text text-anchor=\"middle\" x=\"1878\" y=\"-357.8\" font-family=\"Times,serif\" font-size=\"14.00\">*</text>\n</g>\n<!-- 140154801881392*&#45;&gt;140154801881392 -->\n<g id=\"edge3\" class=\"edge\">\n<title>140154801881392*&#45;&gt;140154801881392</title>\n<path fill=\"none\" stroke=\"black\" d=\"M1896.03,-347.82C1908.02,-338.75 1924.77,-327.14 1941,-319.5 1945.03,-317.61 1949.21,-315.81 1953.49,-314.12\"/>\n<polygon fill=\"black\" stroke=\"black\" points=\"1954.8,-317.37 1962.94,-310.59 1952.35,-310.81 1954.8,-317.37\"/>\n</g>\n<!-- 140154801856912 -->\n<g id=\"node10\" class=\"node\">\n<title>140154801856912</title>\n<polygon fill=\"none\" stroke=\"black\" points=\"1943.5,-604.5 1943.5,-640.5 2125.5,-640.5 2125.5,-604.5 1943.5,-604.5\"/>\n<text text-anchor=\"middle\" x=\"1953.5\" y=\"-618.8\" font-family=\"Times,serif\" font-size=\"14.00\"> </text>\n<polyline fill=\"none\" stroke=\"black\" points=\"1963.5,-604.5 1963.5,-640.5 \"/>\n<text text-anchor=\"middle\" x=\"2003.5\" y=\"-618.8\" font-family=\"Times,serif\" font-size=\"14.00\">data 0.3721</text>\n<polyline fill=\"none\" stroke=\"black\" points=\"2043.5,-604.5 2043.5,-640.5 \"/>\n<text text-anchor=\"middle\" x=\"2084.5\" y=\"-618.8\" font-family=\"Times,serif\" font-size=\"14.00\">grad 0.0000</text>\n</g>\n<!-- 140154801856912&#45;&gt;140154801857104+ -->\n<g id=\"edge144\" class=\"edge\">\n<title>140154801856912&#45;&gt;140154801857104+</title>\n<path fill=\"none\" stroke=\"black\" d=\"M2095.76,-604.43C2106.5,-601.16 2117.59,-597.75 2128,-594.5 2137.35,-591.58 2147.48,-588.34 2156.78,-585.34\"/>\n<polygon fill=\"black\" stroke=\"black\" points=\"2158.04,-588.61 2166.48,-582.2 2155.89,-581.95 2158.04,-588.61\"/>\n</g>\n<!-- 140154801856912* -->\n<g id=\"node11\" class=\"node\">\n<title>140154801856912*</title>\n<ellipse fill=\"none\" stroke=\"black\" cx=\"1878\" cy=\"-622.5\" rx=\"27\" ry=\"18\"/>\n<text text-anchor=\"middle\" x=\"1878\" y=\"-618.8\" font-family=\"Times,serif\" font-size=\"14.00\">*</text>\n</g>\n<!-- 140154801856912*&#45;&gt;140154801856912 -->\n<g id=\"edge4\" class=\"edge\">\n<title>140154801856912*&#45;&gt;140154801856912</title>\n<path fill=\"none\" stroke=\"black\" d=\"M1905.21,-622.5C1913.34,-622.5 1922.85,-622.5 1932.94,-622.5\"/>\n<polygon fill=\"black\" stroke=\"black\" points=\"1933.19,-626 1943.19,-622.5 1933.19,-619 1933.19,-626\"/>\n</g>\n<!-- 140154801742272 -->\n<g id=\"node12\" class=\"node\">\n<title>140154801742272</title>\n<polygon fill=\"none\" stroke=\"black\" points=\"4.5,-953.5 4.5,-989.5 191.5,-989.5 191.5,-953.5 4.5,-953.5\"/>\n<text text-anchor=\"middle\" x=\"14.5\" y=\"-967.8\" font-family=\"Times,serif\" font-size=\"14.00\"> </text>\n<polyline fill=\"none\" stroke=\"black\" points=\"24.5,-953.5 24.5,-989.5 \"/>\n<text text-anchor=\"middle\" x=\"67\" y=\"-967.8\" font-family=\"Times,serif\" font-size=\"14.00\">data &#45;0.2025</text>\n<polyline fill=\"none\" stroke=\"black\" points=\"109.5,-953.5 109.5,-989.5 \"/>\n<text text-anchor=\"middle\" x=\"150.5\" y=\"-967.8\" font-family=\"Times,serif\" font-size=\"14.00\">grad 0.0000</text>\n</g>\n<!-- 140154801814688* -->\n<g id=\"node184\" class=\"node\">\n<title>140154801814688*</title>\n<ellipse fill=\"none\" stroke=\"black\" cx=\"259\" cy=\"-916.5\" rx=\"27\" ry=\"18\"/>\n<text text-anchor=\"middle\" x=\"259\" y=\"-912.8\" font-family=\"Times,serif\" font-size=\"14.00\">*</text>\n</g>\n<!-- 140154801742272&#45;&gt;140154801814688* -->\n<g id=\"edge146\" class=\"edge\">\n<title>140154801742272&#45;&gt;140154801814688*</title>\n<path fill=\"none\" stroke=\"black\" d=\"M168.82,-953.45C178.03,-950.67 187.29,-947.66 196,-944.5 206.52,-940.69 217.74,-935.86 227.71,-931.3\"/>\n<polygon fill=\"black\" stroke=\"black\" points=\"229.24,-934.44 236.81,-927.04 226.27,-928.1 229.24,-934.44\"/>\n</g>\n<!-- 140154801881584 -->\n<g id=\"node13\" class=\"node\">\n<title>140154801881584</title>\n<polygon fill=\"none\" stroke=\"black\" points=\"2256.5,-226.5 2256.5,-262.5 2438.5,-262.5 2438.5,-226.5 2256.5,-226.5\"/>\n<text text-anchor=\"middle\" x=\"2266.5\" y=\"-240.8\" font-family=\"Times,serif\" font-size=\"14.00\"> </text>\n<polyline fill=\"none\" stroke=\"black\" points=\"2276.5,-226.5 2276.5,-262.5 \"/>\n<text text-anchor=\"middle\" x=\"2316.5\" y=\"-240.8\" font-family=\"Times,serif\" font-size=\"14.00\">data 1.0657</text>\n<polyline fill=\"none\" stroke=\"black\" points=\"2356.5,-226.5 2356.5,-262.5 \"/>\n<text text-anchor=\"middle\" x=\"2397.5\" y=\"-240.8\" font-family=\"Times,serif\" font-size=\"14.00\">grad 0.0000</text>\n</g>\n<!-- 140154801882016+ -->\n<g id=\"node29\" class=\"node\">\n<title>140154801882016+</title>\n<ellipse fill=\"none\" stroke=\"black\" cx=\"2504\" cy=\"-245.5\" rx=\"27\" ry=\"18\"/>\n<text text-anchor=\"middle\" x=\"2504\" y=\"-241.8\" font-family=\"Times,serif\" font-size=\"14.00\">+</text>\n</g>\n<!-- 140154801881584&#45;&gt;140154801882016+ -->\n<g id=\"edge206\" class=\"edge\">\n<title>140154801881584&#45;&gt;140154801882016+</title>\n<path fill=\"none\" stroke=\"black\" d=\"M2438.82,-245.08C2448.57,-245.15 2458.04,-245.21 2466.57,-245.26\"/>\n<polygon fill=\"black\" stroke=\"black\" points=\"2466.81,-248.77 2476.83,-245.33 2466.85,-241.77 2466.81,-248.77\"/>\n</g>\n<!-- 140154801881584+&#45;&gt;140154801881584 -->\n<g id=\"edge5\" class=\"edge\">\n<title>140154801881584+&#45;&gt;140154801881584</title>\n<path fill=\"none\" stroke=\"black\" d=\"M2218.21,-244.5C2226.34,-244.5 2235.85,-244.5 2245.94,-244.5\"/>\n<polygon fill=\"black\" stroke=\"black\" points=\"2246.19,-248 2256.19,-244.5 2246.19,-241 2246.19,-248\"/>\n</g>\n<!-- 140154801742368 -->\n<g id=\"node15\" class=\"node\">\n<title>140154801742368</title>\n<polygon fill=\"none\" stroke=\"black\" points=\"4.5,-843.5 4.5,-879.5 191.5,-879.5 191.5,-843.5 4.5,-843.5\"/>\n<text text-anchor=\"middle\" x=\"14.5\" y=\"-857.8\" font-family=\"Times,serif\" font-size=\"14.00\"> </text>\n<polyline fill=\"none\" stroke=\"black\" points=\"24.5,-843.5 24.5,-879.5 \"/>\n<text text-anchor=\"middle\" x=\"67\" y=\"-857.8\" font-family=\"Times,serif\" font-size=\"14.00\">data &#45;0.8693</text>\n<polyline fill=\"none\" stroke=\"black\" points=\"109.5,-843.5 109.5,-879.5 \"/>\n<text text-anchor=\"middle\" x=\"150.5\" y=\"-857.8\" font-family=\"Times,serif\" font-size=\"14.00\">grad 0.0000</text>\n</g>\n<!-- 140154801814976* -->\n<g id=\"node192\" class=\"node\">\n<title>140154801814976*</title>\n<ellipse fill=\"none\" stroke=\"black\" cx=\"259\" cy=\"-861.5\" rx=\"27\" ry=\"18\"/>\n<text text-anchor=\"middle\" x=\"259\" y=\"-857.8\" font-family=\"Times,serif\" font-size=\"14.00\">*</text>\n</g>\n<!-- 140154801742368&#45;&gt;140154801814976* -->\n<g id=\"edge159\" class=\"edge\">\n<title>140154801742368&#45;&gt;140154801814976*</title>\n<path fill=\"none\" stroke=\"black\" d=\"M191.95,-861.5C202.4,-861.5 212.54,-861.5 221.6,-861.5\"/>\n<polygon fill=\"black\" stroke=\"black\" points=\"221.7,-865 231.7,-861.5 221.7,-858 221.7,-865\"/>\n</g>\n<!-- 140154801742416 -->\n<g id=\"node16\" class=\"node\">\n<title>140154801742416</title>\n<polygon fill=\"none\" stroke=\"black\" points=\"333.5,-788.5 333.5,-824.5 515.5,-824.5 515.5,-788.5 333.5,-788.5\"/>\n<text text-anchor=\"middle\" x=\"343.5\" y=\"-802.8\" font-family=\"Times,serif\" font-size=\"14.00\"> </text>\n<polyline fill=\"none\" stroke=\"black\" points=\"353.5,-788.5 353.5,-824.5 \"/>\n<text text-anchor=\"middle\" x=\"393.5\" y=\"-802.8\" font-family=\"Times,serif\" font-size=\"14.00\">data 0.3984</text>\n<polyline fill=\"none\" stroke=\"black\" points=\"433.5,-788.5 433.5,-824.5 \"/>\n<text text-anchor=\"middle\" x=\"474.5\" y=\"-802.8\" font-family=\"Times,serif\" font-size=\"14.00\">grad 0.0000</text>\n</g>\n<!-- 140154801815456* -->\n<g id=\"node199\" class=\"node\">\n<title>140154801815456*</title>\n<ellipse fill=\"none\" stroke=\"black\" cx=\"590\" cy=\"-765.5\" rx=\"27\" ry=\"18\"/>\n<text text-anchor=\"middle\" x=\"590\" y=\"-761.8\" font-family=\"Times,serif\" font-size=\"14.00\">*</text>\n</g>\n<!-- 140154801742416&#45;&gt;140154801815456* -->\n<g id=\"edge83\" class=\"edge\">\n<title>140154801742416&#45;&gt;140154801815456*</title>\n<path fill=\"none\" stroke=\"black\" d=\"M497.69,-788.4C517.53,-783.42 538.12,-778.26 554.72,-774.1\"/>\n<polygon fill=\"black\" stroke=\"black\" points=\"555.65,-777.47 564.5,-771.64 553.95,-770.68 555.65,-777.47\"/>\n</g>\n<!-- 140154801857104 -->\n<g id=\"node17\" class=\"node\">\n<title>140154801857104</title>\n<polygon fill=\"none\" stroke=\"black\" points=\"2256.5,-556.5 2256.5,-592.5 2438.5,-592.5 2438.5,-556.5 2256.5,-556.5\"/>\n<text text-anchor=\"middle\" x=\"2266.5\" y=\"-570.8\" font-family=\"Times,serif\" font-size=\"14.00\"> </text>\n<polyline fill=\"none\" stroke=\"black\" points=\"2276.5,-556.5 2276.5,-592.5 \"/>\n<text text-anchor=\"middle\" x=\"2316.5\" y=\"-570.8\" font-family=\"Times,serif\" font-size=\"14.00\">data 0.9634</text>\n<polyline fill=\"none\" stroke=\"black\" points=\"2356.5,-556.5 2356.5,-592.5 \"/>\n<text text-anchor=\"middle\" x=\"2397.5\" y=\"-570.8\" font-family=\"Times,serif\" font-size=\"14.00\">grad 0.0000</text>\n</g>\n<!-- 140154801857536+ -->\n<g id=\"node32\" class=\"node\">\n<title>140154801857536+</title>\n<ellipse fill=\"none\" stroke=\"black\" cx=\"2504\" cy=\"-464.5\" rx=\"27\" ry=\"18\"/>\n<text text-anchor=\"middle\" x=\"2504\" y=\"-460.8\" font-family=\"Times,serif\" font-size=\"14.00\">+</text>\n</g>\n<!-- 140154801857104&#45;&gt;140154801857536+ -->\n<g id=\"edge95\" class=\"edge\">\n<title>140154801857104&#45;&gt;140154801857536+</title>\n<path fill=\"none\" stroke=\"black\" d=\"M2424.35,-556.43C2430.24,-553.59 2435.88,-550.3 2441,-546.5 2464.16,-529.31 2459.13,-515.14 2477,-492.5 2478.4,-490.72 2479.89,-488.92 2481.42,-487.14\"/>\n<polygon fill=\"black\" stroke=\"black\" points=\"2484.18,-489.3 2488.24,-479.51 2478.96,-484.64 2484.18,-489.3\"/>\n</g>\n<!-- 140154801857104+&#45;&gt;140154801857104 -->\n<g id=\"edge6\" class=\"edge\">\n<title>140154801857104+&#45;&gt;140154801857104</title>\n<path fill=\"none\" stroke=\"black\" d=\"M2218.21,-574.5C2226.34,-574.5 2235.85,-574.5 2245.94,-574.5\"/>\n<polygon fill=\"black\" stroke=\"black\" points=\"2246.19,-578 2256.19,-574.5 2246.19,-571 2246.19,-578\"/>\n</g>\n<!-- 140154801742464 -->\n<g id=\"node19\" class=\"node\">\n<title>140154801742464</title>\n<polygon fill=\"none\" stroke=\"black\" points=\"993,-794.5 993,-830.5 1180,-830.5 1180,-794.5 993,-794.5\"/>\n<text text-anchor=\"middle\" x=\"1003\" y=\"-808.8\" font-family=\"Times,serif\" font-size=\"14.00\"> </text>\n<polyline fill=\"none\" stroke=\"black\" points=\"1013,-794.5 1013,-830.5 \"/>\n<text text-anchor=\"middle\" x=\"1055.5\" y=\"-808.8\" font-family=\"Times,serif\" font-size=\"14.00\">data &#45;0.3038</text>\n<polyline fill=\"none\" stroke=\"black\" points=\"1098,-794.5 1098,-830.5 \"/>\n<text text-anchor=\"middle\" x=\"1139\" y=\"-808.8\" font-family=\"Times,serif\" font-size=\"14.00\">grad 0.0000</text>\n</g>\n<!-- 140154801844576+ -->\n<g id=\"node123\" class=\"node\">\n<title>140154801844576+</title>\n<ellipse fill=\"none\" stroke=\"black\" cx=\"1252\" cy=\"-757.5\" rx=\"27\" ry=\"18\"/>\n<text text-anchor=\"middle\" x=\"1252\" y=\"-753.8\" font-family=\"Times,serif\" font-size=\"14.00\">+</text>\n</g>\n<!-- 140154801742464&#45;&gt;140154801844576+ -->\n<g id=\"edge94\" class=\"edge\">\n<title>140154801742464&#45;&gt;140154801844576+</title>\n<path fill=\"none\" stroke=\"black\" d=\"M1158.07,-794.42C1168.51,-791.35 1179.09,-788 1189,-784.5 1199.29,-780.86 1210.29,-776.3 1220.12,-771.97\"/>\n<polygon fill=\"black\" stroke=\"black\" points=\"1221.81,-775.05 1229.49,-767.76 1218.94,-768.67 1221.81,-775.05\"/>\n</g>\n<!-- 140154801742560 -->\n<g id=\"node20\" class=\"node\">\n<title>140154801742560</title>\n<polygon fill=\"none\" stroke=\"black\" points=\"331,-458.5 331,-494.5 518,-494.5 518,-458.5 331,-458.5\"/>\n<text text-anchor=\"middle\" x=\"341\" y=\"-472.8\" font-family=\"Times,serif\" font-size=\"14.00\"> </text>\n<polyline fill=\"none\" stroke=\"black\" points=\"351,-458.5 351,-494.5 \"/>\n<text text-anchor=\"middle\" x=\"393.5\" y=\"-472.8\" font-family=\"Times,serif\" font-size=\"14.00\">data &#45;0.1928</text>\n<polyline fill=\"none\" stroke=\"black\" points=\"436,-458.5 436,-494.5 \"/>\n<text text-anchor=\"middle\" x=\"477\" y=\"-472.8\" font-family=\"Times,serif\" font-size=\"14.00\">grad 0.0000</text>\n</g>\n<!-- 140154801845104* -->\n<g id=\"node134\" class=\"node\">\n<title>140154801845104*</title>\n<ellipse fill=\"none\" stroke=\"black\" cx=\"590\" cy=\"-465.5\" rx=\"27\" ry=\"18\"/>\n<text text-anchor=\"middle\" x=\"590\" y=\"-461.8\" font-family=\"Times,serif\" font-size=\"14.00\">*</text>\n</g>\n<!-- 140154801742560&#45;&gt;140154801845104* -->\n<g id=\"edge138\" class=\"edge\">\n<title>140154801742560&#45;&gt;140154801845104*</title>\n<path fill=\"none\" stroke=\"black\" d=\"M518.24,-470.26C530.43,-469.44 542.3,-468.64 552.72,-467.94\"/>\n<polygon fill=\"black\" stroke=\"black\" points=\"553.26,-471.41 563.01,-467.25 552.79,-464.43 553.26,-471.41\"/>\n</g>\n<!-- 140154801881824 -->\n<g id=\"node21\" class=\"node\">\n<title>140154801881824</title>\n<polygon fill=\"none\" stroke=\"black\" points=\"2254,-281.5 2254,-317.5 2441,-317.5 2441,-281.5 2254,-281.5\"/>\n<text text-anchor=\"middle\" x=\"2264\" y=\"-295.8\" font-family=\"Times,serif\" font-size=\"14.00\"> </text>\n<polyline fill=\"none\" stroke=\"black\" points=\"2274,-281.5 2274,-317.5 \"/>\n<text text-anchor=\"middle\" x=\"2316.5\" y=\"-295.8\" font-family=\"Times,serif\" font-size=\"14.00\">data &#45;0.1514</text>\n<polyline fill=\"none\" stroke=\"black\" points=\"2359,-281.5 2359,-317.5 \"/>\n<text text-anchor=\"middle\" x=\"2400\" y=\"-295.8\" font-family=\"Times,serif\" font-size=\"14.00\">grad 0.0000</text>\n</g>\n<!-- 140154801881824&#45;&gt;140154801882016+ -->\n<g id=\"edge114\" class=\"edge\">\n<title>140154801881824&#45;&gt;140154801882016+</title>\n<path fill=\"none\" stroke=\"black\" d=\"M2411.48,-281.39C2421.41,-278.26 2431.53,-274.91 2441,-271.5 2451.13,-267.85 2462.01,-263.46 2471.79,-259.33\"/>\n<polygon fill=\"black\" stroke=\"black\" points=\"2473.31,-262.48 2481.12,-255.32 2470.55,-256.05 2473.31,-262.48\"/>\n</g>\n<!-- 140154801881824* -->\n<g id=\"node22\" class=\"node\">\n<title>140154801881824*</title>\n<ellipse fill=\"none\" stroke=\"black\" cx=\"2191\" cy=\"-347.5\" rx=\"27\" ry=\"18\"/>\n<text text-anchor=\"middle\" x=\"2191\" y=\"-343.8\" font-family=\"Times,serif\" font-size=\"14.00\">*</text>\n</g>\n<!-- 140154801881824*&#45;&gt;140154801881824 -->\n<g id=\"edge7\" class=\"edge\">\n<title>140154801881824*&#45;&gt;140154801881824</title>\n<path fill=\"none\" stroke=\"black\" d=\"M2215.18,-339.39C2226.8,-335.39 2241.1,-330.56 2254,-326.5 2260.32,-324.51 2266.91,-322.48 2273.52,-320.49\"/>\n<polygon fill=\"black\" stroke=\"black\" points=\"2274.62,-323.81 2283.2,-317.59 2272.62,-317.1 2274.62,-323.81\"/>\n</g>\n<!-- 140154801742656 -->\n<g id=\"node23\" class=\"node\">\n<title>140154801742656</title>\n<polygon fill=\"none\" stroke=\"black\" points=\"333.5,-348.5 333.5,-384.5 515.5,-384.5 515.5,-348.5 333.5,-348.5\"/>\n<text text-anchor=\"middle\" x=\"343.5\" y=\"-362.8\" font-family=\"Times,serif\" font-size=\"14.00\"> </text>\n<polyline fill=\"none\" stroke=\"black\" points=\"353.5,-348.5 353.5,-384.5 \"/>\n<text text-anchor=\"middle\" x=\"393.5\" y=\"-362.8\" font-family=\"Times,serif\" font-size=\"14.00\">data 0.6032</text>\n<polyline fill=\"none\" stroke=\"black\" points=\"433.5,-348.5 433.5,-384.5 \"/>\n<text text-anchor=\"middle\" x=\"474.5\" y=\"-362.8\" font-family=\"Times,serif\" font-size=\"14.00\">grad 0.0000</text>\n</g>\n<!-- 140154801845392* -->\n<g id=\"node139\" class=\"node\">\n<title>140154801845392*</title>\n<ellipse fill=\"none\" stroke=\"black\" cx=\"590\" cy=\"-366.5\" rx=\"27\" ry=\"18\"/>\n<text text-anchor=\"middle\" x=\"590\" y=\"-362.8\" font-family=\"Times,serif\" font-size=\"14.00\">*</text>\n</g>\n<!-- 140154801742656&#45;&gt;140154801845392* -->\n<g id=\"edge154\" class=\"edge\">\n<title>140154801742656&#45;&gt;140154801845392*</title>\n<path fill=\"none\" stroke=\"black\" d=\"M515.86,-366.5C528.84,-366.5 541.53,-366.5 552.6,-366.5\"/>\n<polygon fill=\"black\" stroke=\"black\" points=\"552.67,-370 562.67,-366.5 552.67,-363 552.67,-370\"/>\n</g>\n<!-- 140154801857344 -->\n<g id=\"node24\" class=\"node\">\n<title>140154801857344</title>\n<polygon fill=\"none\" stroke=\"black\" points=\"2256.5,-446.5 2256.5,-482.5 2438.5,-482.5 2438.5,-446.5 2256.5,-446.5\"/>\n<text text-anchor=\"middle\" x=\"2266.5\" y=\"-460.8\" font-family=\"Times,serif\" font-size=\"14.00\"> </text>\n<polyline fill=\"none\" stroke=\"black\" points=\"2276.5,-446.5 2276.5,-482.5 \"/>\n<text text-anchor=\"middle\" x=\"2316.5\" y=\"-460.8\" font-family=\"Times,serif\" font-size=\"14.00\">data 0.3118</text>\n<polyline fill=\"none\" stroke=\"black\" points=\"2356.5,-446.5 2356.5,-482.5 \"/>\n<text text-anchor=\"middle\" x=\"2397.5\" y=\"-460.8\" font-family=\"Times,serif\" font-size=\"14.00\">grad 0.0000</text>\n</g>\n<!-- 140154801857344&#45;&gt;140154801857536+ -->\n<g id=\"edge99\" class=\"edge\">\n<title>140154801857344&#45;&gt;140154801857536+</title>\n<path fill=\"none\" stroke=\"black\" d=\"M2438.82,-464.5C2448.57,-464.5 2458.04,-464.5 2466.57,-464.5\"/>\n<polygon fill=\"black\" stroke=\"black\" points=\"2466.83,-468 2476.83,-464.5 2466.83,-461 2466.83,-468\"/>\n</g>\n<!-- 140154801857344* -->\n<g id=\"node25\" class=\"node\">\n<title>140154801857344*</title>\n<ellipse fill=\"none\" stroke=\"black\" cx=\"2191\" cy=\"-457.5\" rx=\"27\" ry=\"18\"/>\n<text text-anchor=\"middle\" x=\"2191\" y=\"-453.8\" font-family=\"Times,serif\" font-size=\"14.00\">*</text>\n</g>\n<!-- 140154801857344*&#45;&gt;140154801857344 -->\n<g id=\"edge8\" class=\"edge\">\n<title>140154801857344*&#45;&gt;140154801857344</title>\n<path fill=\"none\" stroke=\"black\" d=\"M2218.21,-458.69C2226.34,-459.06 2235.85,-459.49 2245.94,-459.94\"/>\n<polygon fill=\"black\" stroke=\"black\" points=\"2246.04,-463.45 2256.19,-460.41 2246.36,-456.46 2246.04,-463.45\"/>\n</g>\n<!-- 140154801742704 -->\n<g id=\"node26\" class=\"node\">\n<title>140154801742704</title>\n<polygon fill=\"none\" stroke=\"black\" points=\"664.5,-337.5 664.5,-373.5 846.5,-373.5 846.5,-337.5 664.5,-337.5\"/>\n<text text-anchor=\"middle\" x=\"674.5\" y=\"-351.8\" font-family=\"Times,serif\" font-size=\"14.00\"> </text>\n<polyline fill=\"none\" stroke=\"black\" points=\"684.5,-337.5 684.5,-373.5 \"/>\n<text text-anchor=\"middle\" x=\"724.5\" y=\"-351.8\" font-family=\"Times,serif\" font-size=\"14.00\">data 0.6001</text>\n<polyline fill=\"none\" stroke=\"black\" points=\"764.5,-337.5 764.5,-373.5 \"/>\n<text text-anchor=\"middle\" x=\"805.5\" y=\"-351.8\" font-family=\"Times,serif\" font-size=\"14.00\">grad 0.0000</text>\n</g>\n<!-- 140154801845872* -->\n<g id=\"node151\" class=\"node\">\n<title>140154801845872*</title>\n<ellipse fill=\"none\" stroke=\"black\" cx=\"921\" cy=\"-355.5\" rx=\"27\" ry=\"18\"/>\n<text text-anchor=\"middle\" x=\"921\" y=\"-351.8\" font-family=\"Times,serif\" font-size=\"14.00\">*</text>\n</g>\n<!-- 140154801742704&#45;&gt;140154801845872* -->\n<g id=\"edge179\" class=\"edge\">\n<title>140154801742704&#45;&gt;140154801845872*</title>\n<path fill=\"none\" stroke=\"black\" d=\"M846.86,-355.5C859.84,-355.5 872.53,-355.5 883.6,-355.5\"/>\n<polygon fill=\"black\" stroke=\"black\" points=\"883.67,-359 893.67,-355.5 883.67,-352 883.67,-359\"/>\n</g>\n<!-- 140154801742752 -->\n<g id=\"node27\" class=\"node\">\n<title>140154801742752</title>\n<polygon fill=\"none\" stroke=\"black\" points=\"1317.5,-368.5 1317.5,-404.5 1499.5,-404.5 1499.5,-368.5 1317.5,-368.5\"/>\n<text text-anchor=\"middle\" x=\"1327.5\" y=\"-382.8\" font-family=\"Times,serif\" font-size=\"14.00\"> </text>\n<polyline fill=\"none\" stroke=\"black\" points=\"1337.5,-368.5 1337.5,-404.5 \"/>\n<text text-anchor=\"middle\" x=\"1377.5\" y=\"-382.8\" font-family=\"Times,serif\" font-size=\"14.00\">data 0.3275</text>\n<polyline fill=\"none\" stroke=\"black\" points=\"1417.5,-368.5 1417.5,-404.5 \"/>\n<text text-anchor=\"middle\" x=\"1458.5\" y=\"-382.8\" font-family=\"Times,serif\" font-size=\"14.00\">grad 0.0000</text>\n</g>\n<!-- 140154801846256+ -->\n<g id=\"node162\" class=\"node\">\n<title>140154801846256+</title>\n<ellipse fill=\"none\" stroke=\"black\" cx=\"1565\" cy=\"-441.5\" rx=\"27\" ry=\"18\"/>\n<text text-anchor=\"middle\" x=\"1565\" y=\"-437.8\" font-family=\"Times,serif\" font-size=\"14.00\">+</text>\n</g>\n<!-- 140154801742752&#45;&gt;140154801846256+ -->\n<g id=\"edge169\" class=\"edge\">\n<title>140154801742752&#45;&gt;140154801846256+</title>\n<path fill=\"none\" stroke=\"black\" d=\"M1475.56,-404.55C1484.51,-407.36 1493.53,-410.37 1502,-413.5 1512.49,-417.38 1523.71,-422.22 1533.68,-426.78\"/>\n<polygon fill=\"black\" stroke=\"black\" points=\"1532.25,-429.98 1542.79,-431.03 1535.2,-423.63 1532.25,-429.98\"/>\n</g>\n<!-- 140154801882016 -->\n<g id=\"node28\" class=\"node\">\n<title>140154801882016</title>\n<polygon fill=\"none\" stroke=\"black\" points=\"2569.5,-227.5 2569.5,-263.5 2751.5,-263.5 2751.5,-227.5 2569.5,-227.5\"/>\n<text text-anchor=\"middle\" x=\"2579.5\" y=\"-241.8\" font-family=\"Times,serif\" font-size=\"14.00\"> </text>\n<polyline fill=\"none\" stroke=\"black\" points=\"2589.5,-227.5 2589.5,-263.5 \"/>\n<text text-anchor=\"middle\" x=\"2629.5\" y=\"-241.8\" font-family=\"Times,serif\" font-size=\"14.00\">data 0.9143</text>\n<polyline fill=\"none\" stroke=\"black\" points=\"2669.5,-227.5 2669.5,-263.5 \"/>\n<text text-anchor=\"middle\" x=\"2710.5\" y=\"-241.8\" font-family=\"Times,serif\" font-size=\"14.00\">grad 0.0000</text>\n</g>\n<!-- 140154801882448+ -->\n<g id=\"node43\" class=\"node\">\n<title>140154801882448+</title>\n<ellipse fill=\"none\" stroke=\"black\" cx=\"2817\" cy=\"-162.5\" rx=\"27\" ry=\"18\"/>\n<text text-anchor=\"middle\" x=\"2817\" y=\"-158.8\" font-family=\"Times,serif\" font-size=\"14.00\">+</text>\n</g>\n<!-- 140154801882016&#45;&gt;140154801882448+ -->\n<g id=\"edge197\" class=\"edge\">\n<title>140154801882016&#45;&gt;140154801882448+</title>\n<path fill=\"none\" stroke=\"black\" d=\"M2732.51,-227.49C2739.96,-224.58 2747.26,-221.27 2754,-217.5 2769.1,-209.06 2783.7,-196.41 2794.93,-185.37\"/>\n<polygon fill=\"black\" stroke=\"black\" points=\"2797.61,-187.64 2802.13,-178.06 2792.62,-182.73 2797.61,-187.64\"/>\n</g>\n<!-- 140154801882016+&#45;&gt;140154801882016 -->\n<g id=\"edge9\" class=\"edge\">\n<title>140154801882016+&#45;&gt;140154801882016</title>\n<path fill=\"none\" stroke=\"black\" d=\"M2531.21,-245.5C2539.34,-245.5 2548.85,-245.5 2558.94,-245.5\"/>\n<polygon fill=\"black\" stroke=\"black\" points=\"2559.19,-249 2569.19,-245.5 2559.19,-242 2559.19,-249\"/>\n</g>\n<!-- 140154801742848 -->\n<g id=\"node30\" class=\"node\">\n<title>140154801742848</title>\n<polygon fill=\"none\" stroke=\"black\" points=\"664.5,-220.5 664.5,-256.5 846.5,-256.5 846.5,-220.5 664.5,-220.5\"/>\n<text text-anchor=\"middle\" x=\"674.5\" y=\"-234.8\" font-family=\"Times,serif\" font-size=\"14.00\"> </text>\n<polyline fill=\"none\" stroke=\"black\" points=\"684.5,-220.5 684.5,-256.5 \"/>\n<text text-anchor=\"middle\" x=\"724.5\" y=\"-234.8\" font-family=\"Times,serif\" font-size=\"14.00\">data 0.6650</text>\n<polyline fill=\"none\" stroke=\"black\" points=\"764.5,-220.5 764.5,-256.5 \"/>\n<text text-anchor=\"middle\" x=\"805.5\" y=\"-234.8\" font-family=\"Times,serif\" font-size=\"14.00\">grad 0.0000</text>\n</g>\n<!-- 140154801846784* -->\n<g id=\"node172\" class=\"node\">\n<title>140154801846784*</title>\n<ellipse fill=\"none\" stroke=\"black\" cx=\"921\" cy=\"-183.5\" rx=\"27\" ry=\"18\"/>\n<text text-anchor=\"middle\" x=\"921\" y=\"-179.8\" font-family=\"Times,serif\" font-size=\"14.00\">*</text>\n</g>\n<!-- 140154801742848&#45;&gt;140154801846784* -->\n<g id=\"edge89\" class=\"edge\">\n<title>140154801742848&#45;&gt;140154801846784*</title>\n<path fill=\"none\" stroke=\"black\" d=\"M827.07,-220.42C837.51,-217.35 848.09,-214 858,-210.5 868.29,-206.86 879.29,-202.3 889.12,-197.97\"/>\n<polygon fill=\"black\" stroke=\"black\" points=\"890.81,-201.05 898.49,-193.76 887.94,-194.67 890.81,-201.05\"/>\n</g>\n<!-- 140154801857536 -->\n<g id=\"node31\" class=\"node\">\n<title>140154801857536</title>\n<polygon fill=\"none\" stroke=\"black\" points=\"2569.5,-446.5 2569.5,-482.5 2751.5,-482.5 2751.5,-446.5 2569.5,-446.5\"/>\n<text text-anchor=\"middle\" x=\"2579.5\" y=\"-460.8\" font-family=\"Times,serif\" font-size=\"14.00\"> </text>\n<polyline fill=\"none\" stroke=\"black\" points=\"2589.5,-446.5 2589.5,-482.5 \"/>\n<text text-anchor=\"middle\" x=\"2629.5\" y=\"-460.8\" font-family=\"Times,serif\" font-size=\"14.00\">data 1.2752</text>\n<polyline fill=\"none\" stroke=\"black\" points=\"2669.5,-446.5 2669.5,-482.5 \"/>\n<text text-anchor=\"middle\" x=\"2710.5\" y=\"-460.8\" font-family=\"Times,serif\" font-size=\"14.00\">grad 0.0000</text>\n</g>\n<!-- 140154801857968+ -->\n<g id=\"node45\" class=\"node\">\n<title>140154801857968+</title>\n<ellipse fill=\"none\" stroke=\"black\" cx=\"2817\" cy=\"-313.5\" rx=\"27\" ry=\"18\"/>\n<text text-anchor=\"middle\" x=\"2817\" y=\"-309.8\" font-family=\"Times,serif\" font-size=\"14.00\">+</text>\n</g>\n<!-- 140154801857536&#45;&gt;140154801857968+ -->\n<g id=\"edge86\" class=\"edge\">\n<title>140154801857536&#45;&gt;140154801857968+</title>\n<path fill=\"none\" stroke=\"black\" d=\"M2740.57,-446.38C2745.41,-443.55 2749.95,-440.28 2754,-436.5 2787,-405.68 2766.2,-379.87 2790,-341.5 2791.19,-339.58 2792.53,-337.67 2793.95,-335.81\"/>\n<polygon fill=\"black\" stroke=\"black\" points=\"2796.75,-337.92 2800.54,-328.02 2791.41,-333.39 2796.75,-337.92\"/>\n</g>\n<!-- 140154801857536+&#45;&gt;140154801857536 -->\n<g id=\"edge10\" class=\"edge\">\n<title>140154801857536+&#45;&gt;140154801857536</title>\n<path fill=\"none\" stroke=\"black\" d=\"M2531.21,-464.5C2539.34,-464.5 2548.85,-464.5 2558.94,-464.5\"/>\n<polygon fill=\"black\" stroke=\"black\" points=\"2559.19,-468 2569.19,-464.5 2559.19,-461 2559.19,-468\"/>\n</g>\n<!-- 140154801742944 -->\n<g id=\"node33\" class=\"node\">\n<title>140154801742944</title>\n<polygon fill=\"none\" stroke=\"black\" points=\"2880,-515.5 2880,-551.5 3067,-551.5 3067,-515.5 2880,-515.5\"/>\n<text text-anchor=\"middle\" x=\"2890\" y=\"-529.8\" font-family=\"Times,serif\" font-size=\"14.00\"> </text>\n<polyline fill=\"none\" stroke=\"black\" points=\"2900,-515.5 2900,-551.5 \"/>\n<text text-anchor=\"middle\" x=\"2942.5\" y=\"-529.8\" font-family=\"Times,serif\" font-size=\"14.00\">data &#45;0.0953</text>\n<polyline fill=\"none\" stroke=\"black\" points=\"2985,-515.5 2985,-551.5 \"/>\n<text text-anchor=\"middle\" x=\"3026\" y=\"-529.8\" font-family=\"Times,serif\" font-size=\"14.00\">grad 0.0000</text>\n</g>\n<!-- 140154801884608+ -->\n<g id=\"node109\" class=\"node\">\n<title>140154801884608+</title>\n<ellipse fill=\"none\" stroke=\"black\" cx=\"3130\" cy=\"-478.5\" rx=\"27\" ry=\"18\"/>\n<text text-anchor=\"middle\" x=\"3130\" y=\"-474.8\" font-family=\"Times,serif\" font-size=\"14.00\">+</text>\n</g>\n<!-- 140154801742944&#45;&gt;140154801884608+ -->\n<g id=\"edge162\" class=\"edge\">\n<title>140154801742944&#45;&gt;140154801884608+</title>\n<path fill=\"none\" stroke=\"black\" d=\"M3038.02,-515.35C3047.79,-512.24 3057.71,-508.92 3067,-505.5 3077.25,-501.73 3088.23,-497.14 3098.07,-492.82\"/>\n<polygon fill=\"black\" stroke=\"black\" points=\"3099.74,-495.9 3107.45,-488.63 3096.89,-489.51 3099.74,-495.9\"/>\n</g>\n<!-- 140154801742992 -->\n<g id=\"node34\" class=\"node\">\n<title>140154801742992</title>\n<polygon fill=\"none\" stroke=\"black\" points=\"664.5,-110.5 664.5,-146.5 846.5,-146.5 846.5,-110.5 664.5,-110.5\"/>\n<text text-anchor=\"middle\" x=\"674.5\" y=\"-124.8\" font-family=\"Times,serif\" font-size=\"14.00\"> </text>\n<polyline fill=\"none\" stroke=\"black\" points=\"684.5,-110.5 684.5,-146.5 \"/>\n<text text-anchor=\"middle\" x=\"724.5\" y=\"-124.8\" font-family=\"Times,serif\" font-size=\"14.00\">data 0.1889</text>\n<polyline fill=\"none\" stroke=\"black\" points=\"764.5,-110.5 764.5,-146.5 \"/>\n<text text-anchor=\"middle\" x=\"805.5\" y=\"-124.8\" font-family=\"Times,serif\" font-size=\"14.00\">grad 0.0000</text>\n</g>\n<!-- 140154801847072* -->\n<g id=\"node177\" class=\"node\">\n<title>140154801847072*</title>\n<ellipse fill=\"none\" stroke=\"black\" cx=\"921\" cy=\"-128.5\" rx=\"27\" ry=\"18\"/>\n<text text-anchor=\"middle\" x=\"921\" y=\"-124.8\" font-family=\"Times,serif\" font-size=\"14.00\">*</text>\n</g>\n<!-- 140154801742992&#45;&gt;140154801847072* -->\n<g id=\"edge158\" class=\"edge\">\n<title>140154801742992&#45;&gt;140154801847072*</title>\n<path fill=\"none\" stroke=\"black\" d=\"M846.86,-128.5C859.84,-128.5 872.53,-128.5 883.6,-128.5\"/>\n<polygon fill=\"black\" stroke=\"black\" points=\"883.67,-132 893.67,-128.5 883.67,-125 883.67,-132\"/>\n</g>\n<!-- 140154801882256 -->\n<g id=\"node35\" class=\"node\">\n<title>140154801882256</title>\n<polygon fill=\"none\" stroke=\"black\" points=\"2569.5,-117.5 2569.5,-153.5 2751.5,-153.5 2751.5,-117.5 2569.5,-117.5\"/>\n<text text-anchor=\"middle\" x=\"2579.5\" y=\"-131.8\" font-family=\"Times,serif\" font-size=\"14.00\"> </text>\n<polyline fill=\"none\" stroke=\"black\" points=\"2589.5,-117.5 2589.5,-153.5 \"/>\n<text text-anchor=\"middle\" x=\"2629.5\" y=\"-131.8\" font-family=\"Times,serif\" font-size=\"14.00\">data 0.3040</text>\n<polyline fill=\"none\" stroke=\"black\" points=\"2669.5,-117.5 2669.5,-153.5 \"/>\n<text text-anchor=\"middle\" x=\"2710.5\" y=\"-131.8\" font-family=\"Times,serif\" font-size=\"14.00\">grad 0.0000</text>\n</g>\n<!-- 140154801882256&#45;&gt;140154801882448+ -->\n<g id=\"edge201\" class=\"edge\">\n<title>140154801882256&#45;&gt;140154801882448+</title>\n<path fill=\"none\" stroke=\"black\" d=\"M2751.82,-151.28C2762.07,-153.08 2772.01,-154.81 2780.88,-156.36\"/>\n<polygon fill=\"black\" stroke=\"black\" points=\"2780.3,-159.81 2790.75,-158.09 2781.5,-152.92 2780.3,-159.81\"/>\n</g>\n<!-- 140154801882256* -->\n<g id=\"node36\" class=\"node\">\n<title>140154801882256*</title>\n<ellipse fill=\"none\" stroke=\"black\" cx=\"2504\" cy=\"-135.5\" rx=\"27\" ry=\"18\"/>\n<text text-anchor=\"middle\" x=\"2504\" y=\"-131.8\" font-family=\"Times,serif\" font-size=\"14.00\">*</text>\n</g>\n<!-- 140154801882256*&#45;&gt;140154801882256 -->\n<g id=\"edge11\" class=\"edge\">\n<title>140154801882256*&#45;&gt;140154801882256</title>\n<path fill=\"none\" stroke=\"black\" d=\"M2531.21,-135.5C2539.34,-135.5 2548.85,-135.5 2558.94,-135.5\"/>\n<polygon fill=\"black\" stroke=\"black\" points=\"2559.19,-139 2569.19,-135.5 2559.19,-132 2559.19,-139\"/>\n</g>\n<!-- 140154801743040 -->\n<g id=\"node37\" class=\"node\">\n<title>140154801743040</title>\n<polygon fill=\"none\" stroke=\"black\" points=\"1941,-494.5 1941,-530.5 2128,-530.5 2128,-494.5 1941,-494.5\"/>\n<text text-anchor=\"middle\" x=\"1951\" y=\"-508.8\" font-family=\"Times,serif\" font-size=\"14.00\"> </text>\n<polyline fill=\"none\" stroke=\"black\" points=\"1961,-494.5 1961,-530.5 \"/>\n<text text-anchor=\"middle\" x=\"2003.5\" y=\"-508.8\" font-family=\"Times,serif\" font-size=\"14.00\">data &#45;0.8654</text>\n<polyline fill=\"none\" stroke=\"black\" points=\"2046,-494.5 2046,-530.5 \"/>\n<text text-anchor=\"middle\" x=\"2087\" y=\"-508.8\" font-family=\"Times,serif\" font-size=\"14.00\">grad 0.0000</text>\n</g>\n<!-- 140154801859312* -->\n<g id=\"node90\" class=\"node\">\n<title>140154801859312*</title>\n<ellipse fill=\"none\" stroke=\"black\" cx=\"2191\" cy=\"-512.5\" rx=\"27\" ry=\"18\"/>\n<text text-anchor=\"middle\" x=\"2191\" y=\"-508.8\" font-family=\"Times,serif\" font-size=\"14.00\">*</text>\n</g>\n<!-- 140154801743040&#45;&gt;140154801859312* -->\n<g id=\"edge80\" class=\"edge\">\n<title>140154801743040&#45;&gt;140154801859312*</title>\n<path fill=\"none\" stroke=\"black\" d=\"M2128.05,-512.5C2137.06,-512.5 2145.79,-512.5 2153.7,-512.5\"/>\n<polygon fill=\"black\" stroke=\"black\" points=\"2153.95,-516 2163.95,-512.5 2153.95,-509 2153.95,-516\"/>\n</g>\n<!-- 140154801743088 -->\n<g id=\"node38\" class=\"node\">\n<title>140154801743088</title>\n<polygon fill=\"none\" stroke=\"black\" points=\"993,-55.5 993,-91.5 1180,-91.5 1180,-55.5 993,-55.5\"/>\n<text text-anchor=\"middle\" x=\"1003\" y=\"-69.8\" font-family=\"Times,serif\" font-size=\"14.00\"> </text>\n<polyline fill=\"none\" stroke=\"black\" points=\"1013,-55.5 1013,-91.5 \"/>\n<text text-anchor=\"middle\" x=\"1055.5\" y=\"-69.8\" font-family=\"Times,serif\" font-size=\"14.00\">data &#45;0.0781</text>\n<polyline fill=\"none\" stroke=\"black\" points=\"1098,-55.5 1098,-91.5 \"/>\n<text text-anchor=\"middle\" x=\"1139\" y=\"-69.8\" font-family=\"Times,serif\" font-size=\"14.00\">grad 0.0000</text>\n</g>\n<!-- 140154801847552* -->\n<g id=\"node187\" class=\"node\">\n<title>140154801847552*</title>\n<ellipse fill=\"none\" stroke=\"black\" cx=\"1252\" cy=\"-73.5\" rx=\"27\" ry=\"18\"/>\n<text text-anchor=\"middle\" x=\"1252\" y=\"-69.8\" font-family=\"Times,serif\" font-size=\"14.00\">*</text>\n</g>\n<!-- 140154801743088&#45;&gt;140154801847552* -->\n<g id=\"edge104\" class=\"edge\">\n<title>140154801743088&#45;&gt;140154801847552*</title>\n<path fill=\"none\" stroke=\"black\" d=\"M1180.24,-73.5C1192.33,-73.5 1204.09,-73.5 1214.44,-73.5\"/>\n<polygon fill=\"black\" stroke=\"black\" points=\"1214.68,-77 1224.68,-73.5 1214.68,-70 1214.68,-77\"/>\n</g>\n<!-- 140154801857776 -->\n<g id=\"node39\" class=\"node\">\n<title>140154801857776</title>\n<polygon fill=\"none\" stroke=\"black\" points=\"2569.5,-172.5 2569.5,-208.5 2751.5,-208.5 2751.5,-172.5 2569.5,-172.5\"/>\n<text text-anchor=\"middle\" x=\"2579.5\" y=\"-186.8\" font-family=\"Times,serif\" font-size=\"14.00\"> </text>\n<polyline fill=\"none\" stroke=\"black\" points=\"2589.5,-172.5 2589.5,-208.5 \"/>\n<text text-anchor=\"middle\" x=\"2629.5\" y=\"-186.8\" font-family=\"Times,serif\" font-size=\"14.00\">data 0.8251</text>\n<polyline fill=\"none\" stroke=\"black\" points=\"2669.5,-172.5 2669.5,-208.5 \"/>\n<text text-anchor=\"middle\" x=\"2710.5\" y=\"-186.8\" font-family=\"Times,serif\" font-size=\"14.00\">grad 0.0000</text>\n</g>\n<!-- 140154801857776&#45;&gt;140154801857968+ -->\n<g id=\"edge131\" class=\"edge\">\n<title>140154801857776&#45;&gt;140154801857968+</title>\n<path fill=\"none\" stroke=\"black\" d=\"M2739.25,-208.53C2744.46,-211.13 2749.44,-214.1 2754,-217.5 2777.72,-235.19 2794.85,-264.85 2805.01,-286.54\"/>\n<polygon fill=\"black\" stroke=\"black\" points=\"2801.91,-288.17 2809.19,-295.86 2808.3,-285.31 2801.91,-288.17\"/>\n</g>\n<!-- 140154801857776* -->\n<g id=\"node40\" class=\"node\">\n<title>140154801857776*</title>\n<ellipse fill=\"none\" stroke=\"black\" cx=\"2504\" cy=\"-189.5\" rx=\"27\" ry=\"18\"/>\n<text text-anchor=\"middle\" x=\"2504\" y=\"-185.8\" font-family=\"Times,serif\" font-size=\"14.00\">*</text>\n</g>\n<!-- 140154801857776*&#45;&gt;140154801857776 -->\n<g id=\"edge12\" class=\"edge\">\n<title>140154801857776*&#45;&gt;140154801857776</title>\n<path fill=\"none\" stroke=\"black\" d=\"M2531.21,-189.67C2539.34,-189.72 2548.85,-189.78 2558.94,-189.85\"/>\n<polygon fill=\"black\" stroke=\"black\" points=\"2559.17,-193.35 2569.19,-189.92 2559.21,-186.35 2559.17,-193.35\"/>\n</g>\n<!-- 140154801743136 -->\n<g id=\"node41\" class=\"node\">\n<title>140154801743136</title>\n<polygon fill=\"none\" stroke=\"black\" points=\"1630.5,-165.5 1630.5,-201.5 1812.5,-201.5 1812.5,-165.5 1630.5,-165.5\"/>\n<text text-anchor=\"middle\" x=\"1640.5\" y=\"-179.8\" font-family=\"Times,serif\" font-size=\"14.00\"> </text>\n<polyline fill=\"none\" stroke=\"black\" points=\"1650.5,-165.5 1650.5,-201.5 \"/>\n<text text-anchor=\"middle\" x=\"1690.5\" y=\"-179.8\" font-family=\"Times,serif\" font-size=\"14.00\">data 0.9151</text>\n<polyline fill=\"none\" stroke=\"black\" points=\"1730.5,-165.5 1730.5,-201.5 \"/>\n<text text-anchor=\"middle\" x=\"1771.5\" y=\"-179.8\" font-family=\"Times,serif\" font-size=\"14.00\">grad 0.0000</text>\n</g>\n<!-- 140154801847936+ -->\n<g id=\"node194\" class=\"node\">\n<title>140154801847936+</title>\n<ellipse fill=\"none\" stroke=\"black\" cx=\"1878\" cy=\"-182.5\" rx=\"27\" ry=\"18\"/>\n<text text-anchor=\"middle\" x=\"1878\" y=\"-178.8\" font-family=\"Times,serif\" font-size=\"14.00\">+</text>\n</g>\n<!-- 140154801743136&#45;&gt;140154801847936+ -->\n<g id=\"edge184\" class=\"edge\">\n<title>140154801743136&#45;&gt;140154801847936+</title>\n<path fill=\"none\" stroke=\"black\" d=\"M1812.82,-182.92C1822.57,-182.85 1832.04,-182.79 1840.57,-182.74\"/>\n<polygon fill=\"black\" stroke=\"black\" points=\"1840.85,-186.23 1850.83,-182.67 1840.81,-179.23 1840.85,-186.23\"/>\n</g>\n<!-- 140154801882448 -->\n<g id=\"node42\" class=\"node\">\n<title>140154801882448</title>\n<polygon fill=\"none\" stroke=\"black\" points=\"2882.5,-144.5 2882.5,-180.5 3064.5,-180.5 3064.5,-144.5 2882.5,-144.5\"/>\n<text text-anchor=\"middle\" x=\"2892.5\" y=\"-158.8\" font-family=\"Times,serif\" font-size=\"14.00\"> </text>\n<polyline fill=\"none\" stroke=\"black\" points=\"2902.5,-144.5 2902.5,-180.5 \"/>\n<text text-anchor=\"middle\" x=\"2942.5\" y=\"-158.8\" font-family=\"Times,serif\" font-size=\"14.00\">data 1.2183</text>\n<polyline fill=\"none\" stroke=\"black\" points=\"2982.5,-144.5 2982.5,-180.5 \"/>\n<text text-anchor=\"middle\" x=\"3023.5\" y=\"-158.8\" font-family=\"Times,serif\" font-size=\"14.00\">grad 0.0000</text>\n</g>\n<!-- 140154801882640+ -->\n<g id=\"node48\" class=\"node\">\n<title>140154801882640+</title>\n<ellipse fill=\"none\" stroke=\"black\" cx=\"3130\" cy=\"-148.5\" rx=\"27\" ry=\"18\"/>\n<text text-anchor=\"middle\" x=\"3130\" y=\"-144.8\" font-family=\"Times,serif\" font-size=\"14.00\">+</text>\n</g>\n<!-- 140154801882448&#45;&gt;140154801882640+ -->\n<g id=\"edge123\" class=\"edge\">\n<title>140154801882448&#45;&gt;140154801882640+</title>\n<path fill=\"none\" stroke=\"black\" d=\"M3064.82,-154.32C3074.77,-153.41 3084.43,-152.54 3093.1,-151.75\"/>\n<polygon fill=\"black\" stroke=\"black\" points=\"3093.49,-155.23 3103.14,-150.84 3092.86,-148.26 3093.49,-155.23\"/>\n</g>\n<!-- 140154801882448+&#45;&gt;140154801882448 -->\n<g id=\"edge13\" class=\"edge\">\n<title>140154801882448+&#45;&gt;140154801882448</title>\n<path fill=\"none\" stroke=\"black\" d=\"M2844.21,-162.5C2852.34,-162.5 2861.85,-162.5 2871.94,-162.5\"/>\n<polygon fill=\"black\" stroke=\"black\" points=\"2872.19,-166 2882.19,-162.5 2872.19,-159 2872.19,-166\"/>\n</g>\n<!-- 140154801857968 -->\n<g id=\"node44\" class=\"node\">\n<title>140154801857968</title>\n<polygon fill=\"none\" stroke=\"black\" points=\"2882.5,-295.5 2882.5,-331.5 3064.5,-331.5 3064.5,-295.5 2882.5,-295.5\"/>\n<text text-anchor=\"middle\" x=\"2892.5\" y=\"-309.8\" font-family=\"Times,serif\" font-size=\"14.00\"> </text>\n<polyline fill=\"none\" stroke=\"black\" points=\"2902.5,-295.5 2902.5,-331.5 \"/>\n<text text-anchor=\"middle\" x=\"2942.5\" y=\"-309.8\" font-family=\"Times,serif\" font-size=\"14.00\">data 2.1003</text>\n<polyline fill=\"none\" stroke=\"black\" points=\"2982.5,-295.5 2982.5,-331.5 \"/>\n<text text-anchor=\"middle\" x=\"3023.5\" y=\"-309.8\" font-family=\"Times,serif\" font-size=\"14.00\">grad 0.0000</text>\n</g>\n<!-- 140154801858160+ -->\n<g id=\"node52\" class=\"node\">\n<title>140154801858160+</title>\n<ellipse fill=\"none\" stroke=\"black\" cx=\"3130\" cy=\"-313.5\" rx=\"27\" ry=\"18\"/>\n<text text-anchor=\"middle\" x=\"3130\" y=\"-309.8\" font-family=\"Times,serif\" font-size=\"14.00\">+</text>\n</g>\n<!-- 140154801857968&#45;&gt;140154801858160+ -->\n<g id=\"edge153\" class=\"edge\">\n<title>140154801857968&#45;&gt;140154801858160+</title>\n<path fill=\"none\" stroke=\"black\" d=\"M3064.82,-313.5C3074.57,-313.5 3084.04,-313.5 3092.57,-313.5\"/>\n<polygon fill=\"black\" stroke=\"black\" points=\"3092.83,-317 3102.83,-313.5 3092.83,-310 3092.83,-317\"/>\n</g>\n<!-- 140154801857968+&#45;&gt;140154801857968 -->\n<g id=\"edge14\" class=\"edge\">\n<title>140154801857968+&#45;&gt;140154801857968</title>\n<path fill=\"none\" stroke=\"black\" d=\"M2844.21,-313.5C2852.34,-313.5 2861.85,-313.5 2871.94,-313.5\"/>\n<polygon fill=\"black\" stroke=\"black\" points=\"2872.19,-317 2882.19,-313.5 2872.19,-310 2872.19,-317\"/>\n</g>\n<!-- 140154801743328 -->\n<g id=\"node46\" class=\"node\">\n<title>140154801743328</title>\n<polygon fill=\"none\" stroke=\"black\" points=\"1630.5,-494.5 1630.5,-530.5 1812.5,-530.5 1812.5,-494.5 1630.5,-494.5\"/>\n<text text-anchor=\"middle\" x=\"1640.5\" y=\"-508.8\" font-family=\"Times,serif\" font-size=\"14.00\"> </text>\n<polyline fill=\"none\" stroke=\"black\" points=\"1650.5,-494.5 1650.5,-530.5 \"/>\n<text text-anchor=\"middle\" x=\"1690.5\" y=\"-508.8\" font-family=\"Times,serif\" font-size=\"14.00\">data 0.5914</text>\n<polyline fill=\"none\" stroke=\"black\" points=\"1730.5,-494.5 1730.5,-530.5 \"/>\n<text text-anchor=\"middle\" x=\"1771.5\" y=\"-508.8\" font-family=\"Times,serif\" font-size=\"14.00\">grad 0.0000</text>\n</g>\n<!-- 140154801743328&#45;&gt;140154801856672* -->\n<g id=\"edge74\" class=\"edge\">\n<title>140154801743328&#45;&gt;140154801856672*</title>\n<path fill=\"none\" stroke=\"black\" d=\"M1788.56,-530.55C1797.51,-533.36 1806.53,-536.37 1815,-539.5 1825.49,-543.38 1836.71,-548.22 1846.68,-552.78\"/>\n<polygon fill=\"black\" stroke=\"black\" points=\"1845.25,-555.98 1855.79,-557.03 1848.2,-549.63 1845.25,-555.98\"/>\n</g>\n<!-- 140154801882640 -->\n<g id=\"node47\" class=\"node\">\n<title>140154801882640</title>\n<polygon fill=\"none\" stroke=\"black\" points=\"3195.5,-130.5 3195.5,-166.5 3377.5,-166.5 3377.5,-130.5 3195.5,-130.5\"/>\n<text text-anchor=\"middle\" x=\"3205.5\" y=\"-144.8\" font-family=\"Times,serif\" font-size=\"14.00\"> </text>\n<polyline fill=\"none\" stroke=\"black\" points=\"3215.5,-130.5 3215.5,-166.5 \"/>\n<text text-anchor=\"middle\" x=\"3255.5\" y=\"-144.8\" font-family=\"Times,serif\" font-size=\"14.00\">data 1.4578</text>\n<polyline fill=\"none\" stroke=\"black\" points=\"3295.5,-130.5 3295.5,-166.5 \"/>\n<text text-anchor=\"middle\" x=\"3336.5\" y=\"-144.8\" font-family=\"Times,serif\" font-size=\"14.00\">grad 0.0000</text>\n</g>\n<!-- 140154801882880tanh -->\n<g id=\"node56\" class=\"node\">\n<title>140154801882880tanh</title>\n<ellipse fill=\"none\" stroke=\"black\" cx=\"3443\" cy=\"-148.5\" rx=\"27\" ry=\"18\"/>\n<text text-anchor=\"middle\" x=\"3443\" y=\"-144.8\" font-family=\"Times,serif\" font-size=\"14.00\">tanh</text>\n</g>\n<!-- 140154801882640&#45;&gt;140154801882880tanh -->\n<g id=\"edge151\" class=\"edge\">\n<title>140154801882640&#45;&gt;140154801882880tanh</title>\n<path fill=\"none\" stroke=\"black\" d=\"M3377.82,-148.5C3387.57,-148.5 3397.04,-148.5 3405.57,-148.5\"/>\n<polygon fill=\"black\" stroke=\"black\" points=\"3405.83,-152 3415.83,-148.5 3405.83,-145 3405.83,-152\"/>\n</g>\n<!-- 140154801882640+&#45;&gt;140154801882640 -->\n<g id=\"edge15\" class=\"edge\">\n<title>140154801882640+&#45;&gt;140154801882640</title>\n<path fill=\"none\" stroke=\"black\" d=\"M3157.21,-148.5C3165.34,-148.5 3174.85,-148.5 3184.94,-148.5\"/>\n<polygon fill=\"black\" stroke=\"black\" points=\"3185.19,-152 3195.19,-148.5 3185.19,-145 3185.19,-152\"/>\n</g>\n<!-- 140154801743424 -->\n<g id=\"node49\" class=\"node\">\n<title>140154801743424</title>\n<polygon fill=\"none\" stroke=\"black\" points=\"1628,-549.5 1628,-585.5 1815,-585.5 1815,-549.5 1628,-549.5\"/>\n<text text-anchor=\"middle\" x=\"1638\" y=\"-563.8\" font-family=\"Times,serif\" font-size=\"14.00\"> </text>\n<polyline fill=\"none\" stroke=\"black\" points=\"1648,-549.5 1648,-585.5 \"/>\n<text text-anchor=\"middle\" x=\"1690.5\" y=\"-563.8\" font-family=\"Times,serif\" font-size=\"14.00\">data &#45;0.3725</text>\n<polyline fill=\"none\" stroke=\"black\" points=\"1733,-549.5 1733,-585.5 \"/>\n<text text-anchor=\"middle\" x=\"1774\" y=\"-563.8\" font-family=\"Times,serif\" font-size=\"14.00\">grad 0.0000</text>\n</g>\n<!-- 140154801743424&#45;&gt;140154801856912* -->\n<g id=\"edge91\" class=\"edge\">\n<title>140154801743424&#45;&gt;140154801856912*</title>\n<path fill=\"none\" stroke=\"black\" d=\"M1788.56,-585.55C1797.51,-588.36 1806.53,-591.37 1815,-594.5 1825.49,-598.38 1836.71,-603.22 1846.68,-607.78\"/>\n<polygon fill=\"black\" stroke=\"black\" points=\"1845.25,-610.98 1855.79,-612.03 1848.2,-604.63 1845.25,-610.98\"/>\n</g>\n<!-- 140154801743472 -->\n<g id=\"node50\" class=\"node\">\n<title>140154801743472</title>\n<polygon fill=\"none\" stroke=\"black\" points=\"2882.5,-89.5 2882.5,-125.5 3064.5,-125.5 3064.5,-89.5 2882.5,-89.5\"/>\n<text text-anchor=\"middle\" x=\"2892.5\" y=\"-103.8\" font-family=\"Times,serif\" font-size=\"14.00\"> </text>\n<polyline fill=\"none\" stroke=\"black\" points=\"2902.5,-89.5 2902.5,-125.5 \"/>\n<text text-anchor=\"middle\" x=\"2942.5\" y=\"-103.8\" font-family=\"Times,serif\" font-size=\"14.00\">data 0.2395</text>\n<polyline fill=\"none\" stroke=\"black\" points=\"2982.5,-89.5 2982.5,-125.5 \"/>\n<text text-anchor=\"middle\" x=\"3023.5\" y=\"-103.8\" font-family=\"Times,serif\" font-size=\"14.00\">grad 0.0000</text>\n</g>\n<!-- 140154801743472&#45;&gt;140154801882640+ -->\n<g id=\"edge172\" class=\"edge\">\n<title>140154801743472&#45;&gt;140154801882640+</title>\n<path fill=\"none\" stroke=\"black\" d=\"M3042.72,-125.6C3060.71,-130.38 3079.37,-135.33 3094.71,-139.4\"/>\n<polygon fill=\"black\" stroke=\"black\" points=\"3094.2,-142.88 3104.76,-142.07 3095.99,-136.12 3094.2,-142.88\"/>\n</g>\n<!-- 140154801858160 -->\n<g id=\"node51\" class=\"node\">\n<title>140154801858160</title>\n<polygon fill=\"none\" stroke=\"black\" points=\"3195.5,-295.5 3195.5,-331.5 3377.5,-331.5 3377.5,-295.5 3195.5,-295.5\"/>\n<text text-anchor=\"middle\" x=\"3205.5\" y=\"-309.8\" font-family=\"Times,serif\" font-size=\"14.00\"> </text>\n<polyline fill=\"none\" stroke=\"black\" points=\"3215.5,-295.5 3215.5,-331.5 \"/>\n<text text-anchor=\"middle\" x=\"3255.5\" y=\"-309.8\" font-family=\"Times,serif\" font-size=\"14.00\">data 2.0146</text>\n<polyline fill=\"none\" stroke=\"black\" points=\"3295.5,-295.5 3295.5,-331.5 \"/>\n<text text-anchor=\"middle\" x=\"3336.5\" y=\"-309.8\" font-family=\"Times,serif\" font-size=\"14.00\">grad 0.0000</text>\n</g>\n<!-- 140154801858400tanh -->\n<g id=\"node59\" class=\"node\">\n<title>140154801858400tanh</title>\n<ellipse fill=\"none\" stroke=\"black\" cx=\"3443\" cy=\"-313.5\" rx=\"27\" ry=\"18\"/>\n<text text-anchor=\"middle\" x=\"3443\" y=\"-309.8\" font-family=\"Times,serif\" font-size=\"14.00\">tanh</text>\n</g>\n<!-- 140154801858160&#45;&gt;140154801858400tanh -->\n<g id=\"edge140\" class=\"edge\">\n<title>140154801858160&#45;&gt;140154801858400tanh</title>\n<path fill=\"none\" stroke=\"black\" d=\"M3377.82,-313.5C3387.57,-313.5 3397.04,-313.5 3405.57,-313.5\"/>\n<polygon fill=\"black\" stroke=\"black\" points=\"3405.83,-317 3415.83,-313.5 3405.83,-310 3405.83,-317\"/>\n</g>\n<!-- 140154801858160+&#45;&gt;140154801858160 -->\n<g id=\"edge16\" class=\"edge\">\n<title>140154801858160+&#45;&gt;140154801858160</title>\n<path fill=\"none\" stroke=\"black\" d=\"M3157.21,-313.5C3165.34,-313.5 3174.85,-313.5 3184.94,-313.5\"/>\n<polygon fill=\"black\" stroke=\"black\" points=\"3185.19,-317 3195.19,-313.5 3185.19,-310 3185.19,-317\"/>\n</g>\n<!-- 140154801743520 -->\n<g id=\"node53\" class=\"node\">\n<title>140154801743520</title>\n<polygon fill=\"none\" stroke=\"black\" points=\"1943.5,-384.5 1943.5,-420.5 2125.5,-420.5 2125.5,-384.5 1943.5,-384.5\"/>\n<text text-anchor=\"middle\" x=\"1953.5\" y=\"-398.8\" font-family=\"Times,serif\" font-size=\"14.00\"> </text>\n<polyline fill=\"none\" stroke=\"black\" points=\"1963.5,-384.5 1963.5,-420.5 \"/>\n<text text-anchor=\"middle\" x=\"2003.5\" y=\"-398.8\" font-family=\"Times,serif\" font-size=\"14.00\">data 0.3811</text>\n<polyline fill=\"none\" stroke=\"black\" points=\"2043.5,-384.5 2043.5,-420.5 \"/>\n<text text-anchor=\"middle\" x=\"2084.5\" y=\"-398.8\" font-family=\"Times,serif\" font-size=\"14.00\">grad 0.0000</text>\n</g>\n<!-- 140154801743520&#45;&gt;140154801857344* -->\n<g id=\"edge106\" class=\"edge\">\n<title>140154801743520&#45;&gt;140154801857344*</title>\n<path fill=\"none\" stroke=\"black\" d=\"M2101.56,-420.55C2110.51,-423.36 2119.53,-426.37 2128,-429.5 2138.49,-433.38 2149.71,-438.22 2159.68,-442.78\"/>\n<polygon fill=\"black\" stroke=\"black\" points=\"2158.25,-445.98 2168.79,-447.03 2161.2,-439.63 2158.25,-445.98\"/>\n</g>\n<!-- 140154801743568 -->\n<g id=\"node54\" class=\"node\">\n<title>140154801743568</title>\n<polygon fill=\"none\" stroke=\"black\" points=\"2256.5,-116.5 2256.5,-152.5 2438.5,-152.5 2438.5,-116.5 2256.5,-116.5\"/>\n<text text-anchor=\"middle\" x=\"2266.5\" y=\"-130.8\" font-family=\"Times,serif\" font-size=\"14.00\"> </text>\n<polyline fill=\"none\" stroke=\"black\" points=\"2276.5,-116.5 2276.5,-152.5 \"/>\n<text text-anchor=\"middle\" x=\"2316.5\" y=\"-130.8\" font-family=\"Times,serif\" font-size=\"14.00\">data 0.8302</text>\n<polyline fill=\"none\" stroke=\"black\" points=\"2356.5,-116.5 2356.5,-152.5 \"/>\n<text text-anchor=\"middle\" x=\"2397.5\" y=\"-130.8\" font-family=\"Times,serif\" font-size=\"14.00\">grad 0.0000</text>\n</g>\n<!-- 140154801743568&#45;&gt;140154801857776* -->\n<g id=\"edge166\" class=\"edge\">\n<title>140154801743568&#45;&gt;140154801857776*</title>\n<path fill=\"none\" stroke=\"black\" d=\"M2414.56,-152.55C2423.51,-155.36 2432.53,-158.37 2441,-161.5 2451.49,-165.38 2462.71,-170.22 2472.68,-174.78\"/>\n<polygon fill=\"black\" stroke=\"black\" points=\"2471.25,-177.98 2481.79,-179.03 2474.2,-171.63 2471.25,-177.98\"/>\n</g>\n<!-- 140154801882880 -->\n<g id=\"node55\" class=\"node\">\n<title>140154801882880</title>\n<polygon fill=\"none\" stroke=\"black\" points=\"3508.5,-130.5 3508.5,-166.5 3690.5,-166.5 3690.5,-130.5 3508.5,-130.5\"/>\n<text text-anchor=\"middle\" x=\"3518.5\" y=\"-144.8\" font-family=\"Times,serif\" font-size=\"14.00\"> </text>\n<polyline fill=\"none\" stroke=\"black\" points=\"3528.5,-130.5 3528.5,-166.5 \"/>\n<text text-anchor=\"middle\" x=\"3568.5\" y=\"-144.8\" font-family=\"Times,serif\" font-size=\"14.00\">data 0.8972</text>\n<polyline fill=\"none\" stroke=\"black\" points=\"3608.5,-130.5 3608.5,-166.5 \"/>\n<text text-anchor=\"middle\" x=\"3649.5\" y=\"-144.8\" font-family=\"Times,serif\" font-size=\"14.00\">grad 0.0000</text>\n</g>\n<!-- 140154801894016* -->\n<g id=\"node129\" class=\"node\">\n<title>140154801894016*</title>\n<ellipse fill=\"none\" stroke=\"black\" cx=\"3756\" cy=\"-203.5\" rx=\"27\" ry=\"18\"/>\n<text text-anchor=\"middle\" x=\"3756\" y=\"-199.8\" font-family=\"Times,serif\" font-size=\"14.00\">*</text>\n</g>\n<!-- 140154801882880&#45;&gt;140154801894016* -->\n<g id=\"edge78\" class=\"edge\">\n<title>140154801882880&#45;&gt;140154801894016*</title>\n<path fill=\"none\" stroke=\"black\" d=\"M3666.56,-166.55C3675.51,-169.36 3684.53,-172.37 3693,-175.5 3703.49,-179.38 3714.71,-184.22 3724.68,-188.78\"/>\n<polygon fill=\"black\" stroke=\"black\" points=\"3723.25,-191.98 3733.79,-193.03 3726.2,-185.63 3723.25,-191.98\"/>\n</g>\n<!-- 140154801882880tanh&#45;&gt;140154801882880 -->\n<g id=\"edge17\" class=\"edge\">\n<title>140154801882880tanh&#45;&gt;140154801882880</title>\n<path fill=\"none\" stroke=\"black\" d=\"M3470.21,-148.5C3478.34,-148.5 3487.85,-148.5 3497.94,-148.5\"/>\n<polygon fill=\"black\" stroke=\"black\" points=\"3498.19,-152 3508.19,-148.5 3498.19,-145 3498.19,-152\"/>\n</g>\n<!-- 140154801743616 -->\n<g id=\"node57\" class=\"node\">\n<title>140154801743616</title>\n<polygon fill=\"none\" stroke=\"black\" points=\"2880,-240.5 2880,-276.5 3067,-276.5 3067,-240.5 2880,-240.5\"/>\n<text text-anchor=\"middle\" x=\"2890\" y=\"-254.8\" font-family=\"Times,serif\" font-size=\"14.00\"> </text>\n<polyline fill=\"none\" stroke=\"black\" points=\"2900,-240.5 2900,-276.5 \"/>\n<text text-anchor=\"middle\" x=\"2942.5\" y=\"-254.8\" font-family=\"Times,serif\" font-size=\"14.00\">data &#45;0.0857</text>\n<polyline fill=\"none\" stroke=\"black\" points=\"2985,-240.5 2985,-276.5 \"/>\n<text text-anchor=\"middle\" x=\"3026\" y=\"-254.8\" font-family=\"Times,serif\" font-size=\"14.00\">grad 0.0000</text>\n</g>\n<!-- 140154801743616&#45;&gt;140154801858160+ -->\n<g id=\"edge157\" class=\"edge\">\n<title>140154801743616&#45;&gt;140154801858160+</title>\n<path fill=\"none\" stroke=\"black\" d=\"M3040.56,-276.55C3049.51,-279.36 3058.53,-282.37 3067,-285.5 3077.49,-289.38 3088.71,-294.22 3098.68,-298.78\"/>\n<polygon fill=\"black\" stroke=\"black\" points=\"3097.25,-301.98 3107.79,-303.03 3100.2,-295.63 3097.25,-301.98\"/>\n</g>\n<!-- 140154801858400 -->\n<g id=\"node58\" class=\"node\">\n<title>140154801858400</title>\n<polygon fill=\"none\" stroke=\"black\" points=\"3508.5,-295.5 3508.5,-331.5 3690.5,-331.5 3690.5,-295.5 3508.5,-295.5\"/>\n<text text-anchor=\"middle\" x=\"3518.5\" y=\"-309.8\" font-family=\"Times,serif\" font-size=\"14.00\"> </text>\n<polyline fill=\"none\" stroke=\"black\" points=\"3528.5,-295.5 3528.5,-331.5 \"/>\n<text text-anchor=\"middle\" x=\"3568.5\" y=\"-309.8\" font-family=\"Times,serif\" font-size=\"14.00\">data 0.9650</text>\n<polyline fill=\"none\" stroke=\"black\" points=\"3608.5,-295.5 3608.5,-331.5 \"/>\n<text text-anchor=\"middle\" x=\"3649.5\" y=\"-309.8\" font-family=\"Times,serif\" font-size=\"14.00\">grad 0.0000</text>\n</g>\n<!-- 140154801885088* -->\n<g id=\"node117\" class=\"node\">\n<title>140154801885088*</title>\n<ellipse fill=\"none\" stroke=\"black\" cx=\"3756\" cy=\"-313.5\" rx=\"27\" ry=\"18\"/>\n<text text-anchor=\"middle\" x=\"3756\" y=\"-309.8\" font-family=\"Times,serif\" font-size=\"14.00\">*</text>\n</g>\n<!-- 140154801858400&#45;&gt;140154801885088* -->\n<g id=\"edge183\" class=\"edge\">\n<title>140154801858400&#45;&gt;140154801885088*</title>\n<path fill=\"none\" stroke=\"black\" d=\"M3690.82,-313.5C3700.57,-313.5 3710.04,-313.5 3718.57,-313.5\"/>\n<polygon fill=\"black\" stroke=\"black\" points=\"3718.83,-317 3728.83,-313.5 3718.83,-310 3718.83,-317\"/>\n</g>\n<!-- 140154801858400tanh&#45;&gt;140154801858400 -->\n<g id=\"edge18\" class=\"edge\">\n<title>140154801858400tanh&#45;&gt;140154801858400</title>\n<path fill=\"none\" stroke=\"black\" d=\"M3470.21,-313.5C3478.34,-313.5 3487.85,-313.5 3497.94,-313.5\"/>\n<polygon fill=\"black\" stroke=\"black\" points=\"3498.19,-317 3508.19,-313.5 3498.19,-310 3498.19,-317\"/>\n</g>\n<!-- 140154801743760 -->\n<g id=\"node60\" class=\"node\">\n<title>140154801743760</title>\n<polygon fill=\"none\" stroke=\"black\" points=\"1628,-714.5 1628,-750.5 1815,-750.5 1815,-714.5 1628,-714.5\"/>\n<text text-anchor=\"middle\" x=\"1638\" y=\"-728.8\" font-family=\"Times,serif\" font-size=\"14.00\"> </text>\n<polyline fill=\"none\" stroke=\"black\" points=\"1648,-714.5 1648,-750.5 \"/>\n<text text-anchor=\"middle\" x=\"1690.5\" y=\"-728.8\" font-family=\"Times,serif\" font-size=\"14.00\">data &#45;0.4703</text>\n<polyline fill=\"none\" stroke=\"black\" points=\"1733,-714.5 1733,-750.5 \"/>\n<text text-anchor=\"middle\" x=\"1774\" y=\"-728.8\" font-family=\"Times,serif\" font-size=\"14.00\">grad 0.0000</text>\n</g>\n<!-- 140154801858640* -->\n<g id=\"node67\" class=\"node\">\n<title>140154801858640*</title>\n<ellipse fill=\"none\" stroke=\"black\" cx=\"1878\" cy=\"-732.5\" rx=\"27\" ry=\"18\"/>\n<text text-anchor=\"middle\" x=\"1878\" y=\"-728.8\" font-family=\"Times,serif\" font-size=\"14.00\">*</text>\n</g>\n<!-- 140154801743760&#45;&gt;140154801858640* -->\n<g id=\"edge160\" class=\"edge\">\n<title>140154801743760&#45;&gt;140154801858640*</title>\n<path fill=\"none\" stroke=\"black\" d=\"M1815.05,-732.5C1824.06,-732.5 1832.79,-732.5 1840.7,-732.5\"/>\n<polygon fill=\"black\" stroke=\"black\" points=\"1840.95,-736 1850.95,-732.5 1840.95,-729 1840.95,-736\"/>\n</g>\n<!-- 140154801743808 -->\n<g id=\"node61\" class=\"node\">\n<title>140154801743808</title>\n<polygon fill=\"none\" stroke=\"black\" points=\"1628,-769.5 1628,-805.5 1815,-805.5 1815,-769.5 1628,-769.5\"/>\n<text text-anchor=\"middle\" x=\"1638\" y=\"-783.8\" font-family=\"Times,serif\" font-size=\"14.00\"> </text>\n<polyline fill=\"none\" stroke=\"black\" points=\"1648,-769.5 1648,-805.5 \"/>\n<text text-anchor=\"middle\" x=\"1690.5\" y=\"-783.8\" font-family=\"Times,serif\" font-size=\"14.00\">data &#45;0.5980</text>\n<polyline fill=\"none\" stroke=\"black\" points=\"1733,-769.5 1733,-805.5 \"/>\n<text text-anchor=\"middle\" x=\"1774\" y=\"-783.8\" font-family=\"Times,serif\" font-size=\"14.00\">grad 0.0000</text>\n</g>\n<!-- 140154801858880* -->\n<g id=\"node77\" class=\"node\">\n<title>140154801858880*</title>\n<ellipse fill=\"none\" stroke=\"black\" cx=\"1878\" cy=\"-787.5\" rx=\"27\" ry=\"18\"/>\n<text text-anchor=\"middle\" x=\"1878\" y=\"-783.8\" font-family=\"Times,serif\" font-size=\"14.00\">*</text>\n</g>\n<!-- 140154801743808&#45;&gt;140154801858880* -->\n<g id=\"edge118\" class=\"edge\">\n<title>140154801743808&#45;&gt;140154801858880*</title>\n<path fill=\"none\" stroke=\"black\" d=\"M1815.05,-787.5C1824.06,-787.5 1832.79,-787.5 1840.7,-787.5\"/>\n<polygon fill=\"black\" stroke=\"black\" points=\"1840.95,-791 1850.95,-787.5 1840.95,-784 1840.95,-791\"/>\n</g>\n<!-- 140154801883120 -->\n<g id=\"node62\" class=\"node\">\n<title>140154801883120</title>\n<polygon fill=\"none\" stroke=\"black\" points=\"1943.5,-824.5 1943.5,-860.5 2125.5,-860.5 2125.5,-824.5 1943.5,-824.5\"/>\n<text text-anchor=\"middle\" x=\"1953.5\" y=\"-838.8\" font-family=\"Times,serif\" font-size=\"14.00\"> </text>\n<polyline fill=\"none\" stroke=\"black\" points=\"1963.5,-824.5 1963.5,-860.5 \"/>\n<text text-anchor=\"middle\" x=\"2003.5\" y=\"-838.8\" font-family=\"Times,serif\" font-size=\"14.00\">data 0.3511</text>\n<polyline fill=\"none\" stroke=\"black\" points=\"2043.5,-824.5 2043.5,-860.5 \"/>\n<text text-anchor=\"middle\" x=\"2084.5\" y=\"-838.8\" font-family=\"Times,serif\" font-size=\"14.00\">grad 0.0000</text>\n</g>\n<!-- 140154801883552+ -->\n<g id=\"node79\" class=\"node\">\n<title>140154801883552+</title>\n<ellipse fill=\"none\" stroke=\"black\" cx=\"2191\" cy=\"-842.5\" rx=\"27\" ry=\"18\"/>\n<text text-anchor=\"middle\" x=\"2191\" y=\"-838.8\" font-family=\"Times,serif\" font-size=\"14.00\">+</text>\n</g>\n<!-- 140154801883120&#45;&gt;140154801883552+ -->\n<g id=\"edge100\" class=\"edge\">\n<title>140154801883120&#45;&gt;140154801883552+</title>\n<path fill=\"none\" stroke=\"black\" d=\"M2125.82,-842.5C2135.57,-842.5 2145.04,-842.5 2153.57,-842.5\"/>\n<polygon fill=\"black\" stroke=\"black\" points=\"2153.83,-846 2163.83,-842.5 2153.83,-839 2153.83,-846\"/>\n</g>\n<!-- 140154801883120* -->\n<g id=\"node63\" class=\"node\">\n<title>140154801883120*</title>\n<ellipse fill=\"none\" stroke=\"black\" cx=\"1878\" cy=\"-842.5\" rx=\"27\" ry=\"18\"/>\n<text text-anchor=\"middle\" x=\"1878\" y=\"-838.8\" font-family=\"Times,serif\" font-size=\"14.00\">*</text>\n</g>\n<!-- 140154801883120*&#45;&gt;140154801883120 -->\n<g id=\"edge19\" class=\"edge\">\n<title>140154801883120*&#45;&gt;140154801883120</title>\n<path fill=\"none\" stroke=\"black\" d=\"M1905.21,-842.5C1913.34,-842.5 1922.85,-842.5 1932.94,-842.5\"/>\n<polygon fill=\"black\" stroke=\"black\" points=\"1933.19,-846 1943.19,-842.5 1933.19,-839 1933.19,-846\"/>\n</g>\n<!-- 140154801743856 -->\n<g id=\"node64\" class=\"node\">\n<title>140154801743856</title>\n<polygon fill=\"none\" stroke=\"black\" points=\"2256.5,-336.5 2256.5,-372.5 2438.5,-372.5 2438.5,-336.5 2256.5,-336.5\"/>\n<text text-anchor=\"middle\" x=\"2266.5\" y=\"-350.8\" font-family=\"Times,serif\" font-size=\"14.00\"> </text>\n<polyline fill=\"none\" stroke=\"black\" points=\"2276.5,-336.5 2276.5,-372.5 \"/>\n<text text-anchor=\"middle\" x=\"2316.5\" y=\"-350.8\" font-family=\"Times,serif\" font-size=\"14.00\">data 0.0509</text>\n<polyline fill=\"none\" stroke=\"black\" points=\"2356.5,-336.5 2356.5,-372.5 \"/>\n<text text-anchor=\"middle\" x=\"2397.5\" y=\"-350.8\" font-family=\"Times,serif\" font-size=\"14.00\">grad 0.0000</text>\n</g>\n<!-- 140154801859744* -->\n<g id=\"node103\" class=\"node\">\n<title>140154801859744*</title>\n<ellipse fill=\"none\" stroke=\"black\" cx=\"2504\" cy=\"-354.5\" rx=\"27\" ry=\"18\"/>\n<text text-anchor=\"middle\" x=\"2504\" y=\"-350.8\" font-family=\"Times,serif\" font-size=\"14.00\">*</text>\n</g>\n<!-- 140154801743856&#45;&gt;140154801859744* -->\n<g id=\"edge147\" class=\"edge\">\n<title>140154801743856&#45;&gt;140154801859744*</title>\n<path fill=\"none\" stroke=\"black\" d=\"M2438.82,-354.5C2448.57,-354.5 2458.04,-354.5 2466.57,-354.5\"/>\n<polygon fill=\"black\" stroke=\"black\" points=\"2466.83,-358 2476.83,-354.5 2466.83,-351 2466.83,-358\"/>\n</g>\n<!-- 140154801743904 -->\n<g id=\"node65\" class=\"node\">\n<title>140154801743904</title>\n<polygon fill=\"none\" stroke=\"black\" points=\"2882.5,-405.5 2882.5,-441.5 3064.5,-441.5 3064.5,-405.5 2882.5,-405.5\"/>\n<text text-anchor=\"middle\" x=\"2892.5\" y=\"-419.8\" font-family=\"Times,serif\" font-size=\"14.00\"> </text>\n<polyline fill=\"none\" stroke=\"black\" points=\"2902.5,-405.5 2902.5,-441.5 \"/>\n<text text-anchor=\"middle\" x=\"2942.5\" y=\"-419.8\" font-family=\"Times,serif\" font-size=\"14.00\">data 0.2373</text>\n<polyline fill=\"none\" stroke=\"black\" points=\"2982.5,-405.5 2982.5,-441.5 \"/>\n<text text-anchor=\"middle\" x=\"3023.5\" y=\"-419.8\" font-family=\"Times,serif\" font-size=\"14.00\">grad 0.0000</text>\n</g>\n<!-- 140154801860128+ -->\n<g id=\"node111\" class=\"node\">\n<title>140154801860128+</title>\n<ellipse fill=\"none\" stroke=\"black\" cx=\"3130\" cy=\"-368.5\" rx=\"27\" ry=\"18\"/>\n<text text-anchor=\"middle\" x=\"3130\" y=\"-364.8\" font-family=\"Times,serif\" font-size=\"14.00\">+</text>\n</g>\n<!-- 140154801743904&#45;&gt;140154801860128+ -->\n<g id=\"edge111\" class=\"edge\">\n<title>140154801743904&#45;&gt;140154801860128+</title>\n<path fill=\"none\" stroke=\"black\" d=\"M3038.02,-405.35C3047.79,-402.24 3057.71,-398.92 3067,-395.5 3077.25,-391.73 3088.23,-387.14 3098.07,-382.82\"/>\n<polygon fill=\"black\" stroke=\"black\" points=\"3099.74,-385.9 3107.45,-378.63 3096.89,-379.51 3099.74,-385.9\"/>\n</g>\n<!-- 140154801858640 -->\n<g id=\"node66\" class=\"node\">\n<title>140154801858640</title>\n<polygon fill=\"none\" stroke=\"black\" points=\"1941,-714.5 1941,-750.5 2128,-750.5 2128,-714.5 1941,-714.5\"/>\n<text text-anchor=\"middle\" x=\"1951\" y=\"-728.8\" font-family=\"Times,serif\" font-size=\"14.00\"> </text>\n<polyline fill=\"none\" stroke=\"black\" points=\"1961,-714.5 1961,-750.5 \"/>\n<text text-anchor=\"middle\" x=\"2003.5\" y=\"-728.8\" font-family=\"Times,serif\" font-size=\"14.00\">data &#45;0.4702</text>\n<polyline fill=\"none\" stroke=\"black\" points=\"2046,-714.5 2046,-750.5 \"/>\n<text text-anchor=\"middle\" x=\"2087\" y=\"-728.8\" font-family=\"Times,serif\" font-size=\"14.00\">grad 0.0000</text>\n</g>\n<!-- 140154801859072+ -->\n<g id=\"node84\" class=\"node\">\n<title>140154801859072+</title>\n<ellipse fill=\"none\" stroke=\"black\" cx=\"2191\" cy=\"-732.5\" rx=\"27\" ry=\"18\"/>\n<text text-anchor=\"middle\" x=\"2191\" y=\"-728.8\" font-family=\"Times,serif\" font-size=\"14.00\">+</text>\n</g>\n<!-- 140154801858640&#45;&gt;140154801859072+ -->\n<g id=\"edge124\" class=\"edge\">\n<title>140154801858640&#45;&gt;140154801859072+</title>\n<path fill=\"none\" stroke=\"black\" d=\"M2128.05,-732.5C2137.06,-732.5 2145.79,-732.5 2153.7,-732.5\"/>\n<polygon fill=\"black\" stroke=\"black\" points=\"2153.95,-736 2163.95,-732.5 2153.95,-729 2153.95,-736\"/>\n</g>\n<!-- 140154801858640*&#45;&gt;140154801858640 -->\n<g id=\"edge20\" class=\"edge\">\n<title>140154801858640*&#45;&gt;140154801858640</title>\n<path fill=\"none\" stroke=\"black\" d=\"M1905.21,-732.5C1912.73,-732.5 1921.43,-732.5 1930.67,-732.5\"/>\n<polygon fill=\"black\" stroke=\"black\" points=\"1930.89,-736 1940.89,-732.5 1930.89,-729 1930.89,-736\"/>\n</g>\n<!-- 140154801744000 -->\n<g id=\"node68\" class=\"node\">\n<title>140154801744000</title>\n<polygon fill=\"none\" stroke=\"black\" points=\"1630.5,-233.5 1630.5,-269.5 1812.5,-269.5 1812.5,-233.5 1630.5,-233.5\"/>\n<text text-anchor=\"middle\" x=\"1640.5\" y=\"-247.8\" font-family=\"Times,serif\" font-size=\"14.00\"> </text>\n<polyline fill=\"none\" stroke=\"black\" points=\"1650.5,-233.5 1650.5,-269.5 \"/>\n<text text-anchor=\"middle\" x=\"1690.5\" y=\"-247.8\" font-family=\"Times,serif\" font-size=\"14.00\">data 0.1546</text>\n<polyline fill=\"none\" stroke=\"black\" points=\"1730.5,-233.5 1730.5,-269.5 \"/>\n<text text-anchor=\"middle\" x=\"1771.5\" y=\"-247.8\" font-family=\"Times,serif\" font-size=\"14.00\">grad 0.0000</text>\n</g>\n<!-- 140154801744000&#45;&gt;140154801881152* -->\n<g id=\"edge132\" class=\"edge\">\n<title>140154801744000&#45;&gt;140154801881152*</title>\n<path fill=\"none\" stroke=\"black\" d=\"M1812.82,-251.5C1822.57,-251.5 1832.04,-251.5 1840.57,-251.5\"/>\n<polygon fill=\"black\" stroke=\"black\" points=\"1840.83,-255 1850.83,-251.5 1840.83,-248 1840.83,-255\"/>\n</g>\n<!-- 140154801883360 -->\n<g id=\"node69\" class=\"node\">\n<title>140154801883360</title>\n<polygon fill=\"none\" stroke=\"black\" points=\"1941,-879.5 1941,-915.5 2128,-915.5 2128,-879.5 1941,-879.5\"/>\n<text text-anchor=\"middle\" x=\"1951\" y=\"-893.8\" font-family=\"Times,serif\" font-size=\"14.00\"> </text>\n<polyline fill=\"none\" stroke=\"black\" points=\"1961,-879.5 1961,-915.5 \"/>\n<text text-anchor=\"middle\" x=\"2003.5\" y=\"-893.8\" font-family=\"Times,serif\" font-size=\"14.00\">data &#45;0.2697</text>\n<polyline fill=\"none\" stroke=\"black\" points=\"2046,-879.5 2046,-915.5 \"/>\n<text text-anchor=\"middle\" x=\"2087\" y=\"-893.8\" font-family=\"Times,serif\" font-size=\"14.00\">grad 0.0000</text>\n</g>\n<!-- 140154801883360&#45;&gt;140154801883552+ -->\n<g id=\"edge110\" class=\"edge\">\n<title>140154801883360&#45;&gt;140154801883552+</title>\n<path fill=\"none\" stroke=\"black\" d=\"M2101.56,-879.45C2110.51,-876.64 2119.53,-873.63 2128,-870.5 2138.49,-866.62 2149.71,-861.78 2159.68,-857.22\"/>\n<polygon fill=\"black\" stroke=\"black\" points=\"2161.2,-860.37 2168.79,-852.97 2158.25,-854.02 2161.2,-860.37\"/>\n</g>\n<!-- 140154801883360* -->\n<g id=\"node70\" class=\"node\">\n<title>140154801883360*</title>\n<ellipse fill=\"none\" stroke=\"black\" cx=\"1878\" cy=\"-897.5\" rx=\"27\" ry=\"18\"/>\n<text text-anchor=\"middle\" x=\"1878\" y=\"-893.8\" font-family=\"Times,serif\" font-size=\"14.00\">*</text>\n</g>\n<!-- 140154801883360*&#45;&gt;140154801883360 -->\n<g id=\"edge21\" class=\"edge\">\n<title>140154801883360*&#45;&gt;140154801883360</title>\n<path fill=\"none\" stroke=\"black\" d=\"M1905.21,-897.5C1912.73,-897.5 1921.43,-897.5 1930.67,-897.5\"/>\n<polygon fill=\"black\" stroke=\"black\" points=\"1930.89,-901 1940.89,-897.5 1930.89,-894 1930.89,-901\"/>\n</g>\n<!-- 140154801744096 -->\n<g id=\"node71\" class=\"node\">\n<title>140154801744096</title>\n<polygon fill=\"none\" stroke=\"black\" points=\"1628,-343.5 1628,-379.5 1815,-379.5 1815,-343.5 1628,-343.5\"/>\n<text text-anchor=\"middle\" x=\"1638\" y=\"-357.8\" font-family=\"Times,serif\" font-size=\"14.00\"> </text>\n<polyline fill=\"none\" stroke=\"black\" points=\"1648,-343.5 1648,-379.5 \"/>\n<text text-anchor=\"middle\" x=\"1690.5\" y=\"-357.8\" font-family=\"Times,serif\" font-size=\"14.00\">data &#45;0.9122</text>\n<polyline fill=\"none\" stroke=\"black\" points=\"1733,-343.5 1733,-379.5 \"/>\n<text text-anchor=\"middle\" x=\"1774\" y=\"-357.8\" font-family=\"Times,serif\" font-size=\"14.00\">grad 0.0000</text>\n</g>\n<!-- 140154801744096&#45;&gt;140154801881392* -->\n<g id=\"edge107\" class=\"edge\">\n<title>140154801744096&#45;&gt;140154801881392*</title>\n<path fill=\"none\" stroke=\"black\" d=\"M1815.05,-361.5C1824.06,-361.5 1832.79,-361.5 1840.7,-361.5\"/>\n<polygon fill=\"black\" stroke=\"black\" points=\"1840.95,-365 1850.95,-361.5 1840.95,-358 1840.95,-365\"/>\n</g>\n<!-- 140154801744144 -->\n<g id=\"node72\" class=\"node\">\n<title>140154801744144</title>\n<polygon fill=\"none\" stroke=\"black\" points=\"1941,-329.5 1941,-365.5 2128,-365.5 2128,-329.5 1941,-329.5\"/>\n<text text-anchor=\"middle\" x=\"1951\" y=\"-343.8\" font-family=\"Times,serif\" font-size=\"14.00\"> </text>\n<polyline fill=\"none\" stroke=\"black\" points=\"1961,-329.5 1961,-365.5 \"/>\n<text text-anchor=\"middle\" x=\"2003.5\" y=\"-343.8\" font-family=\"Times,serif\" font-size=\"14.00\">data &#45;0.1851</text>\n<polyline fill=\"none\" stroke=\"black\" points=\"2046,-329.5 2046,-365.5 \"/>\n<text text-anchor=\"middle\" x=\"2087\" y=\"-343.8\" font-family=\"Times,serif\" font-size=\"14.00\">grad 0.0000</text>\n</g>\n<!-- 140154801744144&#45;&gt;140154801881824* -->\n<g id=\"edge194\" class=\"edge\">\n<title>140154801744144&#45;&gt;140154801881824*</title>\n<path fill=\"none\" stroke=\"black\" d=\"M2128.05,-347.5C2137.06,-347.5 2145.79,-347.5 2153.7,-347.5\"/>\n<polygon fill=\"black\" stroke=\"black\" points=\"2153.95,-351 2163.95,-347.5 2153.95,-344 2153.95,-351\"/>\n</g>\n<!-- 140154801848176 -->\n<g id=\"node73\" class=\"node\">\n<title>140154801848176</title>\n<polygon fill=\"none\" stroke=\"black\" points=\"2256.5,-171.5 2256.5,-207.5 2438.5,-207.5 2438.5,-171.5 2256.5,-171.5\"/>\n<text text-anchor=\"middle\" x=\"2266.5\" y=\"-185.8\" font-family=\"Times,serif\" font-size=\"14.00\"> </text>\n<polyline fill=\"none\" stroke=\"black\" points=\"2276.5,-171.5 2276.5,-207.5 \"/>\n<text text-anchor=\"middle\" x=\"2316.5\" y=\"-185.8\" font-family=\"Times,serif\" font-size=\"14.00\">data 0.9938</text>\n<polyline fill=\"none\" stroke=\"black\" points=\"2356.5,-171.5 2356.5,-207.5 \"/>\n<text text-anchor=\"middle\" x=\"2397.5\" y=\"-185.8\" font-family=\"Times,serif\" font-size=\"14.00\">grad 0.0000</text>\n</g>\n<!-- 140154801848176&#45;&gt;140154801882256* -->\n<g id=\"edge191\" class=\"edge\">\n<title>140154801848176&#45;&gt;140154801882256*</title>\n<path fill=\"none\" stroke=\"black\" d=\"M2411.48,-171.39C2421.41,-168.26 2431.53,-164.91 2441,-161.5 2451.13,-157.85 2462.01,-153.46 2471.79,-149.33\"/>\n<polygon fill=\"black\" stroke=\"black\" points=\"2473.31,-152.48 2481.12,-145.32 2470.55,-146.05 2473.31,-152.48\"/>\n</g>\n<!-- 140154801848176&#45;&gt;140154801857776* -->\n<g id=\"edge113\" class=\"edge\">\n<title>140154801848176&#45;&gt;140154801857776*</title>\n<path fill=\"none\" stroke=\"black\" d=\"M2438.82,-189.5C2448.57,-189.5 2458.04,-189.5 2466.57,-189.5\"/>\n<polygon fill=\"black\" stroke=\"black\" points=\"2466.83,-193 2476.83,-189.5 2466.83,-186 2466.83,-193\"/>\n</g>\n<!-- 140154801884224* -->\n<g id=\"node99\" class=\"node\">\n<title>140154801884224*</title>\n<ellipse fill=\"none\" stroke=\"black\" cx=\"2504\" cy=\"-409.5\" rx=\"27\" ry=\"18\"/>\n<text text-anchor=\"middle\" x=\"2504\" y=\"-405.8\" font-family=\"Times,serif\" font-size=\"14.00\">*</text>\n</g>\n<!-- 140154801848176&#45;&gt;140154801884224* -->\n<g id=\"edge79\" class=\"edge\">\n<title>140154801848176&#45;&gt;140154801884224*</title>\n<path fill=\"none\" stroke=\"black\" d=\"M2430.73,-207.73C2434.46,-210.29 2437.92,-213.2 2441,-216.5 2492.21,-271.38 2442.23,-314.98 2477,-381.5 2478.05,-383.51 2479.28,-385.48 2480.63,-387.38\"/>\n<polygon fill=\"black\" stroke=\"black\" points=\"2478.02,-389.72 2487.06,-395.25 2483.44,-385.29 2478.02,-389.72\"/>\n</g>\n<!-- 140154801848176&#45;&gt;140154801859744* -->\n<g id=\"edge135\" class=\"edge\">\n<title>140154801848176&#45;&gt;140154801859744*</title>\n<path fill=\"none\" stroke=\"black\" d=\"M2428.19,-207.52C2432.77,-210.12 2437.09,-213.09 2441,-216.5 2458.44,-231.69 2481.23,-291.29 2493.75,-327.01\"/>\n<polygon fill=\"black\" stroke=\"black\" points=\"2490.57,-328.52 2497.15,-336.82 2497.19,-326.23 2490.57,-328.52\"/>\n</g>\n<!-- 140154801848176tanh -->\n<g id=\"node74\" class=\"node\">\n<title>140154801848176tanh</title>\n<ellipse fill=\"none\" stroke=\"black\" cx=\"2191\" cy=\"-182.5\" rx=\"27\" ry=\"18\"/>\n<text text-anchor=\"middle\" x=\"2191\" y=\"-178.8\" font-family=\"Times,serif\" font-size=\"14.00\">tanh</text>\n</g>\n<!-- 140154801848176tanh&#45;&gt;140154801848176 -->\n<g id=\"edge22\" class=\"edge\">\n<title>140154801848176tanh&#45;&gt;140154801848176</title>\n<path fill=\"none\" stroke=\"black\" d=\"M2218.21,-183.69C2226.34,-184.06 2235.85,-184.49 2245.94,-184.94\"/>\n<polygon fill=\"black\" stroke=\"black\" points=\"2246.04,-188.45 2256.19,-185.41 2246.36,-181.46 2246.04,-188.45\"/>\n</g>\n<!-- 140154801744192 -->\n<g id=\"node75\" class=\"node\">\n<title>140154801744192</title>\n<polygon fill=\"none\" stroke=\"black\" points=\"2256.5,-61.5 2256.5,-97.5 2438.5,-97.5 2438.5,-61.5 2256.5,-61.5\"/>\n<text text-anchor=\"middle\" x=\"2266.5\" y=\"-75.8\" font-family=\"Times,serif\" font-size=\"14.00\"> </text>\n<polyline fill=\"none\" stroke=\"black\" points=\"2276.5,-61.5 2276.5,-97.5 \"/>\n<text text-anchor=\"middle\" x=\"2316.5\" y=\"-75.8\" font-family=\"Times,serif\" font-size=\"14.00\">data 0.3058</text>\n<polyline fill=\"none\" stroke=\"black\" points=\"2356.5,-61.5 2356.5,-97.5 \"/>\n<text text-anchor=\"middle\" x=\"2397.5\" y=\"-75.8\" font-family=\"Times,serif\" font-size=\"14.00\">grad 0.0000</text>\n</g>\n<!-- 140154801744192&#45;&gt;140154801882256* -->\n<g id=\"edge189\" class=\"edge\">\n<title>140154801744192&#45;&gt;140154801882256*</title>\n<path fill=\"none\" stroke=\"black\" d=\"M2415.1,-97.6C2423.88,-100.38 2432.7,-103.37 2441,-106.5 2451.62,-110.51 2462.94,-115.56 2472.96,-120.32\"/>\n<polygon fill=\"black\" stroke=\"black\" points=\"2471.59,-123.54 2482.11,-124.75 2474.64,-117.24 2471.59,-123.54\"/>\n</g>\n<!-- 140154801858880 -->\n<g id=\"node76\" class=\"node\">\n<title>140154801858880</title>\n<polygon fill=\"none\" stroke=\"black\" points=\"1943.5,-769.5 1943.5,-805.5 2125.5,-805.5 2125.5,-769.5 1943.5,-769.5\"/>\n<text text-anchor=\"middle\" x=\"1953.5\" y=\"-783.8\" font-family=\"Times,serif\" font-size=\"14.00\"> </text>\n<polyline fill=\"none\" stroke=\"black\" points=\"1963.5,-769.5 1963.5,-805.5 \"/>\n<text text-anchor=\"middle\" x=\"2003.5\" y=\"-783.8\" font-family=\"Times,serif\" font-size=\"14.00\">data 0.5973</text>\n<polyline fill=\"none\" stroke=\"black\" points=\"2043.5,-769.5 2043.5,-805.5 \"/>\n<text text-anchor=\"middle\" x=\"2084.5\" y=\"-783.8\" font-family=\"Times,serif\" font-size=\"14.00\">grad 0.0000</text>\n</g>\n<!-- 140154801858880&#45;&gt;140154801859072+ -->\n<g id=\"edge97\" class=\"edge\">\n<title>140154801858880&#45;&gt;140154801859072+</title>\n<path fill=\"none\" stroke=\"black\" d=\"M2099.02,-769.35C2108.79,-766.24 2118.71,-762.92 2128,-759.5 2138.25,-755.73 2149.23,-751.14 2159.07,-746.82\"/>\n<polygon fill=\"black\" stroke=\"black\" points=\"2160.74,-749.9 2168.45,-742.63 2157.89,-743.51 2160.74,-749.9\"/>\n</g>\n<!-- 140154801858880*&#45;&gt;140154801858880 -->\n<g id=\"edge23\" class=\"edge\">\n<title>140154801858880*&#45;&gt;140154801858880</title>\n<path fill=\"none\" stroke=\"black\" d=\"M1905.21,-787.5C1913.34,-787.5 1922.85,-787.5 1932.94,-787.5\"/>\n<polygon fill=\"black\" stroke=\"black\" points=\"1933.19,-791 1943.19,-787.5 1933.19,-784 1933.19,-791\"/>\n</g>\n<!-- 140154801883552 -->\n<g id=\"node78\" class=\"node\">\n<title>140154801883552</title>\n<polygon fill=\"none\" stroke=\"black\" points=\"2256.5,-790.5 2256.5,-826.5 2438.5,-826.5 2438.5,-790.5 2256.5,-790.5\"/>\n<text text-anchor=\"middle\" x=\"2266.5\" y=\"-804.8\" font-family=\"Times,serif\" font-size=\"14.00\"> </text>\n<polyline fill=\"none\" stroke=\"black\" points=\"2276.5,-790.5 2276.5,-826.5 \"/>\n<text text-anchor=\"middle\" x=\"2316.5\" y=\"-804.8\" font-family=\"Times,serif\" font-size=\"14.00\">data 0.0814</text>\n<polyline fill=\"none\" stroke=\"black\" points=\"2356.5,-790.5 2356.5,-826.5 \"/>\n<text text-anchor=\"middle\" x=\"2397.5\" y=\"-804.8\" font-family=\"Times,serif\" font-size=\"14.00\">grad 0.0000</text>\n</g>\n<!-- 140154801883984+ -->\n<g id=\"node92\" class=\"node\">\n<title>140154801883984+</title>\n<ellipse fill=\"none\" stroke=\"black\" cx=\"2504\" cy=\"-656.5\" rx=\"27\" ry=\"18\"/>\n<text text-anchor=\"middle\" x=\"2504\" y=\"-652.8\" font-family=\"Times,serif\" font-size=\"14.00\">+</text>\n</g>\n<!-- 140154801883552&#45;&gt;140154801883984+ -->\n<g id=\"edge103\" class=\"edge\">\n<title>140154801883552&#45;&gt;140154801883984+</title>\n<path fill=\"none\" stroke=\"black\" d=\"M2381.05,-790.39C2399.83,-778.99 2423.18,-763.13 2441,-745.5 2460.21,-726.49 2477.37,-700.82 2488.74,-681.94\"/>\n<polygon fill=\"black\" stroke=\"black\" points=\"2491.78,-683.66 2493.83,-673.27 2485.75,-680.12 2491.78,-683.66\"/>\n</g>\n<!-- 140154801883552+&#45;&gt;140154801883552 -->\n<g id=\"edge24\" class=\"edge\">\n<title>140154801883552+&#45;&gt;140154801883552</title>\n<path fill=\"none\" stroke=\"black\" d=\"M2216.82,-837.04C2227.46,-834.7 2240.61,-831.8 2254.42,-828.76\"/>\n<polygon fill=\"black\" stroke=\"black\" points=\"2255.55,-832.1 2264.57,-826.53 2254.05,-825.26 2255.55,-832.1\"/>\n</g>\n<!-- 140154801744288 -->\n<g id=\"node80\" class=\"node\">\n<title>140154801744288</title>\n<polygon fill=\"none\" stroke=\"black\" points=\"1630.5,-824.5 1630.5,-860.5 1812.5,-860.5 1812.5,-824.5 1630.5,-824.5\"/>\n<text text-anchor=\"middle\" x=\"1640.5\" y=\"-838.8\" font-family=\"Times,serif\" font-size=\"14.00\"> </text>\n<polyline fill=\"none\" stroke=\"black\" points=\"1650.5,-824.5 1650.5,-860.5 \"/>\n<text text-anchor=\"middle\" x=\"1690.5\" y=\"-838.8\" font-family=\"Times,serif\" font-size=\"14.00\">data 0.3512</text>\n<polyline fill=\"none\" stroke=\"black\" points=\"1730.5,-824.5 1730.5,-860.5 \"/>\n<text text-anchor=\"middle\" x=\"1771.5\" y=\"-838.8\" font-family=\"Times,serif\" font-size=\"14.00\">grad 0.0000</text>\n</g>\n<!-- 140154801744288&#45;&gt;140154801883120* -->\n<g id=\"edge177\" class=\"edge\">\n<title>140154801744288&#45;&gt;140154801883120*</title>\n<path fill=\"none\" stroke=\"black\" d=\"M1812.82,-842.5C1822.57,-842.5 1832.04,-842.5 1840.57,-842.5\"/>\n<polygon fill=\"black\" stroke=\"black\" points=\"1840.83,-846 1850.83,-842.5 1840.83,-839 1840.83,-846\"/>\n</g>\n<!-- 140154801670608 -->\n<g id=\"node81\" class=\"node\">\n<title>140154801670608</title>\n<polygon fill=\"none\" stroke=\"black\" points=\"7,-733.5 7,-769.5 189,-769.5 189,-733.5 7,-733.5\"/>\n<text text-anchor=\"middle\" x=\"17\" y=\"-747.8\" font-family=\"Times,serif\" font-size=\"14.00\"> </text>\n<polyline fill=\"none\" stroke=\"black\" points=\"27,-733.5 27,-769.5 \"/>\n<text text-anchor=\"middle\" x=\"67\" y=\"-747.8\" font-family=\"Times,serif\" font-size=\"14.00\">data 0.3126</text>\n<polyline fill=\"none\" stroke=\"black\" points=\"107,-733.5 107,-769.5 \"/>\n<text text-anchor=\"middle\" x=\"148\" y=\"-747.8\" font-family=\"Times,serif\" font-size=\"14.00\">grad 0.0000</text>\n</g>\n<!-- 140154801813152* -->\n<g id=\"node155\" class=\"node\">\n<title>140154801813152*</title>\n<ellipse fill=\"none\" stroke=\"black\" cx=\"259\" cy=\"-696.5\" rx=\"27\" ry=\"18\"/>\n<text text-anchor=\"middle\" x=\"259\" y=\"-692.8\" font-family=\"Times,serif\" font-size=\"14.00\">*</text>\n</g>\n<!-- 140154801670608&#45;&gt;140154801813152* -->\n<g id=\"edge200\" class=\"edge\">\n<title>140154801670608&#45;&gt;140154801813152*</title>\n<path fill=\"none\" stroke=\"black\" d=\"M165.89,-733.43C176.05,-730.33 186.35,-726.98 196,-723.5 206.27,-719.8 217.26,-715.22 227.1,-710.9\"/>\n<polygon fill=\"black\" stroke=\"black\" points=\"228.78,-713.98 236.47,-706.7 225.91,-707.59 228.78,-713.98\"/>\n</g>\n<!-- 140154801744384 -->\n<g id=\"node82\" class=\"node\">\n<title>140154801744384</title>\n<polygon fill=\"none\" stroke=\"black\" points=\"1630.5,-879.5 1630.5,-915.5 1812.5,-915.5 1812.5,-879.5 1630.5,-879.5\"/>\n<text text-anchor=\"middle\" x=\"1640.5\" y=\"-893.8\" font-family=\"Times,serif\" font-size=\"14.00\"> </text>\n<polyline fill=\"none\" stroke=\"black\" points=\"1650.5,-879.5 1650.5,-915.5 \"/>\n<text text-anchor=\"middle\" x=\"1690.5\" y=\"-893.8\" font-family=\"Times,serif\" font-size=\"14.00\">data 0.2700</text>\n<polyline fill=\"none\" stroke=\"black\" points=\"1730.5,-879.5 1730.5,-915.5 \"/>\n<text text-anchor=\"middle\" x=\"1771.5\" y=\"-893.8\" font-family=\"Times,serif\" font-size=\"14.00\">grad 0.0000</text>\n</g>\n<!-- 140154801744384&#45;&gt;140154801883360* -->\n<g id=\"edge87\" class=\"edge\">\n<title>140154801744384&#45;&gt;140154801883360*</title>\n<path fill=\"none\" stroke=\"black\" d=\"M1812.82,-897.5C1822.57,-897.5 1832.04,-897.5 1840.57,-897.5\"/>\n<polygon fill=\"black\" stroke=\"black\" points=\"1840.83,-901 1850.83,-897.5 1840.83,-894 1840.83,-901\"/>\n</g>\n<!-- 140154801859072 -->\n<g id=\"node83\" class=\"node\">\n<title>140154801859072</title>\n<polygon fill=\"none\" stroke=\"black\" points=\"2256.5,-700.5 2256.5,-736.5 2438.5,-736.5 2438.5,-700.5 2256.5,-700.5\"/>\n<text text-anchor=\"middle\" x=\"2266.5\" y=\"-714.8\" font-family=\"Times,serif\" font-size=\"14.00\"> </text>\n<polyline fill=\"none\" stroke=\"black\" points=\"2276.5,-700.5 2276.5,-736.5 \"/>\n<text text-anchor=\"middle\" x=\"2316.5\" y=\"-714.8\" font-family=\"Times,serif\" font-size=\"14.00\">data 0.1272</text>\n<polyline fill=\"none\" stroke=\"black\" points=\"2356.5,-700.5 2356.5,-736.5 \"/>\n<text text-anchor=\"middle\" x=\"2397.5\" y=\"-714.8\" font-family=\"Times,serif\" font-size=\"14.00\">grad 0.0000</text>\n</g>\n<!-- 140154801859504+ -->\n<g id=\"node95\" class=\"node\">\n<title>140154801859504+</title>\n<ellipse fill=\"none\" stroke=\"black\" cx=\"2504\" cy=\"-519.5\" rx=\"27\" ry=\"18\"/>\n<text text-anchor=\"middle\" x=\"2504\" y=\"-515.8\" font-family=\"Times,serif\" font-size=\"14.00\">+</text>\n</g>\n<!-- 140154801859072&#45;&gt;140154801859504+ -->\n<g id=\"edge84\" class=\"edge\">\n<title>140154801859072&#45;&gt;140154801859504+</title>\n<path fill=\"none\" stroke=\"black\" d=\"M2416.74,-700.48C2425.66,-696 2434.08,-690.42 2441,-683.5 2478.35,-646.14 2493.55,-584.06 2499.47,-547.95\"/>\n<polygon fill=\"black\" stroke=\"black\" points=\"2503,-548.05 2501.02,-537.64 2496.07,-547 2503,-548.05\"/>\n</g>\n<!-- 140154801859072+&#45;&gt;140154801859072 -->\n<g id=\"edge25\" class=\"edge\">\n<title>140154801859072+&#45;&gt;140154801859072</title>\n<path fill=\"none\" stroke=\"black\" d=\"M2217.86,-730.16C2226.13,-729.41 2235.83,-728.53 2246.14,-727.59\"/>\n<polygon fill=\"black\" stroke=\"black\" points=\"2246.54,-731.07 2256.18,-726.68 2245.91,-724.1 2246.54,-731.07\"/>\n</g>\n<!-- 140154801744432 -->\n<g id=\"node85\" class=\"node\">\n<title>140154801744432</title>\n<polygon fill=\"none\" stroke=\"black\" points=\"1941,-659.5 1941,-695.5 2128,-695.5 2128,-659.5 1941,-659.5\"/>\n<text text-anchor=\"middle\" x=\"1951\" y=\"-673.8\" font-family=\"Times,serif\" font-size=\"14.00\"> </text>\n<polyline fill=\"none\" stroke=\"black\" points=\"1961,-659.5 1961,-695.5 \"/>\n<text text-anchor=\"middle\" x=\"2003.5\" y=\"-673.8\" font-family=\"Times,serif\" font-size=\"14.00\">data &#45;0.6060</text>\n<polyline fill=\"none\" stroke=\"black\" points=\"2046,-659.5 2046,-695.5 \"/>\n<text text-anchor=\"middle\" x=\"2087\" y=\"-673.8\" font-family=\"Times,serif\" font-size=\"14.00\">grad 0.0000</text>\n</g>\n<!-- 140154801883792* -->\n<g id=\"node88\" class=\"node\">\n<title>140154801883792*</title>\n<ellipse fill=\"none\" stroke=\"black\" cx=\"2191\" cy=\"-656.5\" rx=\"27\" ry=\"18\"/>\n<text text-anchor=\"middle\" x=\"2191\" y=\"-652.8\" font-family=\"Times,serif\" font-size=\"14.00\">*</text>\n</g>\n<!-- 140154801744432&#45;&gt;140154801883792* -->\n<g id=\"edge148\" class=\"edge\">\n<title>140154801744432&#45;&gt;140154801883792*</title>\n<path fill=\"none\" stroke=\"black\" d=\"M2128.05,-664.92C2137.25,-663.67 2146.16,-662.46 2154.21,-661.37\"/>\n<polygon fill=\"black\" stroke=\"black\" points=\"2154.81,-664.81 2164.25,-660 2153.87,-657.88 2154.81,-664.81\"/>\n</g>\n<!-- 140154801744528 -->\n<g id=\"node86\" class=\"node\">\n<title>140154801744528</title>\n<polygon fill=\"none\" stroke=\"black\" points=\"2254,-391.5 2254,-427.5 2441,-427.5 2441,-391.5 2254,-391.5\"/>\n<text text-anchor=\"middle\" x=\"2264\" y=\"-405.8\" font-family=\"Times,serif\" font-size=\"14.00\"> </text>\n<polyline fill=\"none\" stroke=\"black\" points=\"2274,-391.5 2274,-427.5 \"/>\n<text text-anchor=\"middle\" x=\"2316.5\" y=\"-405.8\" font-family=\"Times,serif\" font-size=\"14.00\">data &#45;0.4301</text>\n<polyline fill=\"none\" stroke=\"black\" points=\"2359,-391.5 2359,-427.5 \"/>\n<text text-anchor=\"middle\" x=\"2400\" y=\"-405.8\" font-family=\"Times,serif\" font-size=\"14.00\">grad 0.0000</text>\n</g>\n<!-- 140154801744528&#45;&gt;140154801884224* -->\n<g id=\"edge195\" class=\"edge\">\n<title>140154801744528&#45;&gt;140154801884224*</title>\n<path fill=\"none\" stroke=\"black\" d=\"M2441.05,-409.5C2450.06,-409.5 2458.79,-409.5 2466.7,-409.5\"/>\n<polygon fill=\"black\" stroke=\"black\" points=\"2466.95,-413 2476.95,-409.5 2466.95,-406 2466.95,-413\"/>\n</g>\n<!-- 140154801883792 -->\n<g id=\"node87\" class=\"node\">\n<title>140154801883792</title>\n<polygon fill=\"none\" stroke=\"black\" points=\"2254,-638.5 2254,-674.5 2441,-674.5 2441,-638.5 2254,-638.5\"/>\n<text text-anchor=\"middle\" x=\"2264\" y=\"-652.8\" font-family=\"Times,serif\" font-size=\"14.00\"> </text>\n<polyline fill=\"none\" stroke=\"black\" points=\"2274,-638.5 2274,-674.5 \"/>\n<text text-anchor=\"middle\" x=\"2316.5\" y=\"-652.8\" font-family=\"Times,serif\" font-size=\"14.00\">data &#45;0.4958</text>\n<polyline fill=\"none\" stroke=\"black\" points=\"2359,-638.5 2359,-674.5 \"/>\n<text text-anchor=\"middle\" x=\"2400\" y=\"-652.8\" font-family=\"Times,serif\" font-size=\"14.00\">grad 0.0000</text>\n</g>\n<!-- 140154801883792&#45;&gt;140154801883984+ -->\n<g id=\"edge198\" class=\"edge\">\n<title>140154801883792&#45;&gt;140154801883984+</title>\n<path fill=\"none\" stroke=\"black\" d=\"M2441.05,-656.5C2450.06,-656.5 2458.79,-656.5 2466.7,-656.5\"/>\n<polygon fill=\"black\" stroke=\"black\" points=\"2466.95,-660 2476.95,-656.5 2466.95,-653 2466.95,-660\"/>\n</g>\n<!-- 140154801883792*&#45;&gt;140154801883792 -->\n<g id=\"edge26\" class=\"edge\">\n<title>140154801883792*&#45;&gt;140154801883792</title>\n<path fill=\"none\" stroke=\"black\" d=\"M2218.21,-656.5C2225.73,-656.5 2234.43,-656.5 2243.67,-656.5\"/>\n<polygon fill=\"black\" stroke=\"black\" points=\"2243.89,-660 2253.89,-656.5 2243.89,-653 2243.89,-660\"/>\n</g>\n<!-- 140154801859312 -->\n<g id=\"node89\" class=\"node\">\n<title>140154801859312</title>\n<polygon fill=\"none\" stroke=\"black\" points=\"2254,-501.5 2254,-537.5 2441,-537.5 2441,-501.5 2254,-501.5\"/>\n<text text-anchor=\"middle\" x=\"2264\" y=\"-515.8\" font-family=\"Times,serif\" font-size=\"14.00\"> </text>\n<polyline fill=\"none\" stroke=\"black\" points=\"2274,-501.5 2274,-537.5 \"/>\n<text text-anchor=\"middle\" x=\"2316.5\" y=\"-515.8\" font-family=\"Times,serif\" font-size=\"14.00\">data &#45;0.7081</text>\n<polyline fill=\"none\" stroke=\"black\" points=\"2359,-501.5 2359,-537.5 \"/>\n<text text-anchor=\"middle\" x=\"2400\" y=\"-515.8\" font-family=\"Times,serif\" font-size=\"14.00\">grad 0.0000</text>\n</g>\n<!-- 140154801859312&#45;&gt;140154801859504+ -->\n<g id=\"edge128\" class=\"edge\">\n<title>140154801859312&#45;&gt;140154801859504+</title>\n<path fill=\"none\" stroke=\"black\" d=\"M2441.05,-519.5C2450.06,-519.5 2458.79,-519.5 2466.7,-519.5\"/>\n<polygon fill=\"black\" stroke=\"black\" points=\"2466.95,-523 2476.95,-519.5 2466.95,-516 2466.95,-523\"/>\n</g>\n<!-- 140154801859312*&#45;&gt;140154801859312 -->\n<g id=\"edge27\" class=\"edge\">\n<title>140154801859312*&#45;&gt;140154801859312</title>\n<path fill=\"none\" stroke=\"black\" d=\"M2218.21,-513.69C2225.73,-514.03 2234.43,-514.42 2243.67,-514.84\"/>\n<polygon fill=\"black\" stroke=\"black\" points=\"2243.74,-518.35 2253.89,-515.3 2244.06,-511.35 2243.74,-518.35\"/>\n</g>\n<!-- 140154801883984 -->\n<g id=\"node91\" class=\"node\">\n<title>140154801883984</title>\n<polygon fill=\"none\" stroke=\"black\" points=\"2567,-597.5 2567,-633.5 2754,-633.5 2754,-597.5 2567,-597.5\"/>\n<text text-anchor=\"middle\" x=\"2577\" y=\"-611.8\" font-family=\"Times,serif\" font-size=\"14.00\"> </text>\n<polyline fill=\"none\" stroke=\"black\" points=\"2587,-597.5 2587,-633.5 \"/>\n<text text-anchor=\"middle\" x=\"2629.5\" y=\"-611.8\" font-family=\"Times,serif\" font-size=\"14.00\">data &#45;0.4144</text>\n<polyline fill=\"none\" stroke=\"black\" points=\"2672,-597.5 2672,-633.5 \"/>\n<text text-anchor=\"middle\" x=\"2713\" y=\"-611.8\" font-family=\"Times,serif\" font-size=\"14.00\">grad 0.0000</text>\n</g>\n<!-- 140154801884416+ -->\n<g id=\"node105\" class=\"node\">\n<title>140154801884416+</title>\n<ellipse fill=\"none\" stroke=\"black\" cx=\"2817\" cy=\"-478.5\" rx=\"27\" ry=\"18\"/>\n<text text-anchor=\"middle\" x=\"2817\" y=\"-474.8\" font-family=\"Times,serif\" font-size=\"14.00\">+</text>\n</g>\n<!-- 140154801883984&#45;&gt;140154801884416+ -->\n<g id=\"edge187\" class=\"edge\">\n<title>140154801883984&#45;&gt;140154801884416+</title>\n<path fill=\"none\" stroke=\"black\" d=\"M2688.46,-597.44C2707.5,-584.2 2733.22,-565.33 2754,-546.5 2769.2,-532.73 2784.74,-515.67 2796.46,-502.09\"/>\n<polygon fill=\"black\" stroke=\"black\" points=\"2799.41,-504.02 2803.23,-494.14 2794.08,-499.48 2799.41,-504.02\"/>\n</g>\n<!-- 140154801883984+&#45;&gt;140154801883984 -->\n<g id=\"edge28\" class=\"edge\">\n<title>140154801883984+&#45;&gt;140154801883984</title>\n<path fill=\"none\" stroke=\"black\" d=\"M2529.48,-650C2543.76,-646.22 2562.63,-641.21 2581.57,-636.18\"/>\n<polygon fill=\"black\" stroke=\"black\" points=\"2582.68,-639.51 2591.45,-633.56 2580.89,-632.74 2582.68,-639.51\"/>\n</g>\n<!-- 140154801744720 -->\n<g id=\"node93\" class=\"node\">\n<title>140154801744720</title>\n<polygon fill=\"none\" stroke=\"black\" points=\"3508.5,-240.5 3508.5,-276.5 3690.5,-276.5 3690.5,-240.5 3508.5,-240.5\"/>\n<text text-anchor=\"middle\" x=\"3518.5\" y=\"-254.8\" font-family=\"Times,serif\" font-size=\"14.00\"> </text>\n<polyline fill=\"none\" stroke=\"black\" points=\"3528.5,-240.5 3528.5,-276.5 \"/>\n<text text-anchor=\"middle\" x=\"3568.5\" y=\"-254.8\" font-family=\"Times,serif\" font-size=\"14.00\">data 0.8331</text>\n<polyline fill=\"none\" stroke=\"black\" points=\"3608.5,-240.5 3608.5,-276.5 \"/>\n<text text-anchor=\"middle\" x=\"3649.5\" y=\"-254.8\" font-family=\"Times,serif\" font-size=\"14.00\">grad 0.0000</text>\n</g>\n<!-- 140154801744720&#45;&gt;140154801885088* -->\n<g id=\"edge188\" class=\"edge\">\n<title>140154801744720&#45;&gt;140154801885088*</title>\n<path fill=\"none\" stroke=\"black\" d=\"M3666.56,-276.55C3675.51,-279.36 3684.53,-282.37 3693,-285.5 3703.49,-289.38 3714.71,-294.22 3724.68,-298.78\"/>\n<polygon fill=\"black\" stroke=\"black\" points=\"3723.25,-301.98 3733.79,-303.03 3726.2,-295.63 3723.25,-301.98\"/>\n</g>\n<!-- 140154801859504 -->\n<g id=\"node94\" class=\"node\">\n<title>140154801859504</title>\n<polygon fill=\"none\" stroke=\"black\" points=\"2567,-501.5 2567,-537.5 2754,-537.5 2754,-501.5 2567,-501.5\"/>\n<text text-anchor=\"middle\" x=\"2577\" y=\"-515.8\" font-family=\"Times,serif\" font-size=\"14.00\"> </text>\n<polyline fill=\"none\" stroke=\"black\" points=\"2587,-501.5 2587,-537.5 \"/>\n<text text-anchor=\"middle\" x=\"2629.5\" y=\"-515.8\" font-family=\"Times,serif\" font-size=\"14.00\">data &#45;0.5809</text>\n<polyline fill=\"none\" stroke=\"black\" points=\"2672,-501.5 2672,-537.5 \"/>\n<text text-anchor=\"middle\" x=\"2713\" y=\"-515.8\" font-family=\"Times,serif\" font-size=\"14.00\">grad 0.0000</text>\n</g>\n<!-- 140154801859936+ -->\n<g id=\"node107\" class=\"node\">\n<title>140154801859936+</title>\n<ellipse fill=\"none\" stroke=\"black\" cx=\"2817\" cy=\"-368.5\" rx=\"27\" ry=\"18\"/>\n<text text-anchor=\"middle\" x=\"2817\" y=\"-364.8\" font-family=\"Times,serif\" font-size=\"14.00\">+</text>\n</g>\n<!-- 140154801859504&#45;&gt;140154801859936+ -->\n<g id=\"edge76\" class=\"edge\">\n<title>140154801859504&#45;&gt;140154801859936+</title>\n<path fill=\"none\" stroke=\"black\" d=\"M2739.23,-501.37C2744.51,-498.55 2749.5,-495.28 2754,-491.5 2783.54,-466.67 2800.48,-424.26 2808.96,-396.31\"/>\n<polygon fill=\"black\" stroke=\"black\" points=\"2812.42,-396.95 2811.81,-386.37 2805.69,-395.02 2812.42,-396.95\"/>\n</g>\n<!-- 140154801859504+&#45;&gt;140154801859504 -->\n<g id=\"edge29\" class=\"edge\">\n<title>140154801859504+&#45;&gt;140154801859504</title>\n<path fill=\"none\" stroke=\"black\" d=\"M2531.21,-519.5C2538.73,-519.5 2547.43,-519.5 2556.67,-519.5\"/>\n<polygon fill=\"black\" stroke=\"black\" points=\"2556.89,-523 2566.89,-519.5 2556.89,-516 2556.89,-523\"/>\n</g>\n<!-- 140154801744816 -->\n<g id=\"node96\" class=\"node\">\n<title>140154801744816</title>\n<polygon fill=\"none\" stroke=\"black\" points=\"3508.5,-405.5 3508.5,-441.5 3690.5,-441.5 3690.5,-405.5 3508.5,-405.5\"/>\n<text text-anchor=\"middle\" x=\"3518.5\" y=\"-419.8\" font-family=\"Times,serif\" font-size=\"14.00\"> </text>\n<polyline fill=\"none\" stroke=\"black\" points=\"3528.5,-405.5 3528.5,-441.5 \"/>\n<text text-anchor=\"middle\" x=\"3568.5\" y=\"-419.8\" font-family=\"Times,serif\" font-size=\"14.00\">data 0.5965</text>\n<polyline fill=\"none\" stroke=\"black\" points=\"3608.5,-405.5 3608.5,-441.5 \"/>\n<text text-anchor=\"middle\" x=\"3649.5\" y=\"-419.8\" font-family=\"Times,serif\" font-size=\"14.00\">grad 0.0000</text>\n</g>\n<!-- 140154801893584* -->\n<g id=\"node121\" class=\"node\">\n<title>140154801893584*</title>\n<ellipse fill=\"none\" stroke=\"black\" cx=\"3756\" cy=\"-368.5\" rx=\"27\" ry=\"18\"/>\n<text text-anchor=\"middle\" x=\"3756\" y=\"-364.8\" font-family=\"Times,serif\" font-size=\"14.00\">*</text>\n</g>\n<!-- 140154801744816&#45;&gt;140154801893584* -->\n<g id=\"edge102\" class=\"edge\">\n<title>140154801744816&#45;&gt;140154801893584*</title>\n<path fill=\"none\" stroke=\"black\" d=\"M3664.02,-405.35C3673.79,-402.24 3683.71,-398.92 3693,-395.5 3703.25,-391.73 3714.23,-387.14 3724.07,-382.82\"/>\n<polygon fill=\"black\" stroke=\"black\" points=\"3725.74,-385.9 3733.45,-378.63 3722.89,-379.51 3725.74,-385.9\"/>\n</g>\n<!-- 140154801744912 -->\n<g id=\"node97\" class=\"node\">\n<title>140154801744912</title>\n<polygon fill=\"none\" stroke=\"black\" points=\"3506,-185.5 3506,-221.5 3693,-221.5 3693,-185.5 3506,-185.5\"/>\n<text text-anchor=\"middle\" x=\"3516\" y=\"-199.8\" font-family=\"Times,serif\" font-size=\"14.00\"> </text>\n<polyline fill=\"none\" stroke=\"black\" points=\"3526,-185.5 3526,-221.5 \"/>\n<text text-anchor=\"middle\" x=\"3568.5\" y=\"-199.8\" font-family=\"Times,serif\" font-size=\"14.00\">data &#45;0.3714</text>\n<polyline fill=\"none\" stroke=\"black\" points=\"3611,-185.5 3611,-221.5 \"/>\n<text text-anchor=\"middle\" x=\"3652\" y=\"-199.8\" font-family=\"Times,serif\" font-size=\"14.00\">grad 0.0000</text>\n</g>\n<!-- 140154801744912&#45;&gt;140154801894016* -->\n<g id=\"edge115\" class=\"edge\">\n<title>140154801744912&#45;&gt;140154801894016*</title>\n<path fill=\"none\" stroke=\"black\" d=\"M3693.05,-203.5C3702.06,-203.5 3710.79,-203.5 3718.7,-203.5\"/>\n<polygon fill=\"black\" stroke=\"black\" points=\"3718.95,-207 3728.95,-203.5 3718.95,-200 3718.95,-207\"/>\n</g>\n<!-- 140154801884224 -->\n<g id=\"node98\" class=\"node\">\n<title>140154801884224</title>\n<polygon fill=\"none\" stroke=\"black\" points=\"2567,-391.5 2567,-427.5 2754,-427.5 2754,-391.5 2567,-391.5\"/>\n<text text-anchor=\"middle\" x=\"2577\" y=\"-405.8\" font-family=\"Times,serif\" font-size=\"14.00\"> </text>\n<polyline fill=\"none\" stroke=\"black\" points=\"2587,-391.5 2587,-427.5 \"/>\n<text text-anchor=\"middle\" x=\"2629.5\" y=\"-405.8\" font-family=\"Times,serif\" font-size=\"14.00\">data &#45;0.4275</text>\n<polyline fill=\"none\" stroke=\"black\" points=\"2672,-391.5 2672,-427.5 \"/>\n<text text-anchor=\"middle\" x=\"2713\" y=\"-405.8\" font-family=\"Times,serif\" font-size=\"14.00\">grad 0.0000</text>\n</g>\n<!-- 140154801884224&#45;&gt;140154801884416+ -->\n<g id=\"edge101\" class=\"edge\">\n<title>140154801884224&#45;&gt;140154801884416+</title>\n<path fill=\"none\" stroke=\"black\" d=\"M2732.06,-427.59C2739.59,-430.25 2747.04,-433.22 2754,-436.5 2766.81,-442.53 2779.94,-451.02 2790.8,-458.8\"/>\n<polygon fill=\"black\" stroke=\"black\" points=\"2788.85,-461.71 2798.97,-464.82 2793,-456.07 2788.85,-461.71\"/>\n</g>\n<!-- 140154801884224*&#45;&gt;140154801884224 -->\n<g id=\"edge30\" class=\"edge\">\n<title>140154801884224*&#45;&gt;140154801884224</title>\n<path fill=\"none\" stroke=\"black\" d=\"M2531.21,-409.5C2538.73,-409.5 2547.43,-409.5 2556.67,-409.5\"/>\n<polygon fill=\"black\" stroke=\"black\" points=\"2556.89,-413 2566.89,-409.5 2556.89,-406 2556.89,-413\"/>\n</g>\n<!-- 140154801744960 -->\n<g id=\"node100\" class=\"node\">\n<title>140154801744960</title>\n<polygon fill=\"none\" stroke=\"black\" points=\"3508.5,-515.5 3508.5,-551.5 3690.5,-551.5 3690.5,-515.5 3508.5,-515.5\"/>\n<text text-anchor=\"middle\" x=\"3518.5\" y=\"-529.8\" font-family=\"Times,serif\" font-size=\"14.00\"> </text>\n<polyline fill=\"none\" stroke=\"black\" points=\"3528.5,-515.5 3528.5,-551.5 \"/>\n<text text-anchor=\"middle\" x=\"3568.5\" y=\"-529.8\" font-family=\"Times,serif\" font-size=\"14.00\">data 0.5908</text>\n<polyline fill=\"none\" stroke=\"black\" points=\"3608.5,-515.5 3608.5,-551.5 \"/>\n<text text-anchor=\"middle\" x=\"3649.5\" y=\"-529.8\" font-family=\"Times,serif\" font-size=\"14.00\">grad 0.0000</text>\n</g>\n<!-- 140154801894448* -->\n<g id=\"node136\" class=\"node\">\n<title>140154801894448*</title>\n<ellipse fill=\"none\" stroke=\"black\" cx=\"3756\" cy=\"-478.5\" rx=\"27\" ry=\"18\"/>\n<text text-anchor=\"middle\" x=\"3756\" y=\"-474.8\" font-family=\"Times,serif\" font-size=\"14.00\">*</text>\n</g>\n<!-- 140154801744960&#45;&gt;140154801894448* -->\n<g id=\"edge205\" class=\"edge\">\n<title>140154801744960&#45;&gt;140154801894448*</title>\n<path fill=\"none\" stroke=\"black\" d=\"M3664.02,-515.35C3673.79,-512.24 3683.71,-508.92 3693,-505.5 3703.25,-501.73 3714.23,-497.14 3724.07,-492.82\"/>\n<polygon fill=\"black\" stroke=\"black\" points=\"3725.74,-495.9 3733.45,-488.63 3722.89,-489.51 3725.74,-495.9\"/>\n</g>\n<!-- 140154801745008 -->\n<g id=\"node101\" class=\"node\">\n<title>140154801745008</title>\n<polygon fill=\"none\" stroke=\"black\" points=\"4888.5,-393.5 4888.5,-429.5 5070.5,-429.5 5070.5,-393.5 4888.5,-393.5\"/>\n<text text-anchor=\"middle\" x=\"4898.5\" y=\"-407.8\" font-family=\"Times,serif\" font-size=\"14.00\"> </text>\n<polyline fill=\"none\" stroke=\"black\" points=\"4908.5,-393.5 4908.5,-429.5 \"/>\n<text text-anchor=\"middle\" x=\"4948.5\" y=\"-407.8\" font-family=\"Times,serif\" font-size=\"14.00\">data 0.2216</text>\n<polyline fill=\"none\" stroke=\"black\" points=\"4988.5,-393.5 4988.5,-429.5 \"/>\n<text text-anchor=\"middle\" x=\"5029.5\" y=\"-407.8\" font-family=\"Times,serif\" font-size=\"14.00\">grad 0.0000</text>\n</g>\n<!-- 140154801894832+ -->\n<g id=\"node147\" class=\"node\">\n<title>140154801894832+</title>\n<ellipse fill=\"none\" stroke=\"black\" cx=\"5136\" cy=\"-383.5\" rx=\"27\" ry=\"18\"/>\n<text text-anchor=\"middle\" x=\"5136\" y=\"-379.8\" font-family=\"Times,serif\" font-size=\"14.00\">+</text>\n</g>\n<!-- 140154801745008&#45;&gt;140154801894832+ -->\n<g id=\"edge163\" class=\"edge\">\n<title>140154801745008&#45;&gt;140154801894832+</title>\n<path fill=\"none\" stroke=\"black\" d=\"M5070.82,-395.13C5081.07,-393.27 5091.01,-391.47 5099.88,-389.87\"/>\n<polygon fill=\"black\" stroke=\"black\" points=\"5100.54,-393.3 5109.75,-388.08 5099.29,-386.42 5100.54,-393.3\"/>\n</g>\n<!-- 140154801859744 -->\n<g id=\"node102\" class=\"node\">\n<title>140154801859744</title>\n<polygon fill=\"none\" stroke=\"black\" points=\"2569.5,-336.5 2569.5,-372.5 2751.5,-372.5 2751.5,-336.5 2569.5,-336.5\"/>\n<text text-anchor=\"middle\" x=\"2579.5\" y=\"-350.8\" font-family=\"Times,serif\" font-size=\"14.00\"> </text>\n<polyline fill=\"none\" stroke=\"black\" points=\"2589.5,-336.5 2589.5,-372.5 \"/>\n<text text-anchor=\"middle\" x=\"2629.5\" y=\"-350.8\" font-family=\"Times,serif\" font-size=\"14.00\">data 0.0506</text>\n<polyline fill=\"none\" stroke=\"black\" points=\"2669.5,-336.5 2669.5,-372.5 \"/>\n<text text-anchor=\"middle\" x=\"2710.5\" y=\"-350.8\" font-family=\"Times,serif\" font-size=\"14.00\">grad 0.0000</text>\n</g>\n<!-- 140154801859744&#45;&gt;140154801859936+ -->\n<g id=\"edge81\" class=\"edge\">\n<title>140154801859744&#45;&gt;140154801859936+</title>\n<path fill=\"none\" stroke=\"black\" d=\"M2751.82,-362.68C2761.77,-363.59 2771.43,-364.46 2780.1,-365.25\"/>\n<polygon fill=\"black\" stroke=\"black\" points=\"2779.86,-368.74 2790.14,-366.16 2780.49,-361.77 2779.86,-368.74\"/>\n</g>\n<!-- 140154801859744*&#45;&gt;140154801859744 -->\n<g id=\"edge31\" class=\"edge\">\n<title>140154801859744*&#45;&gt;140154801859744</title>\n<path fill=\"none\" stroke=\"black\" d=\"M2531.21,-354.5C2539.34,-354.5 2548.85,-354.5 2558.94,-354.5\"/>\n<polygon fill=\"black\" stroke=\"black\" points=\"2559.19,-358 2569.19,-354.5 2559.19,-351 2559.19,-358\"/>\n</g>\n<!-- 140154801884416 -->\n<g id=\"node104\" class=\"node\">\n<title>140154801884416</title>\n<polygon fill=\"none\" stroke=\"black\" points=\"2880,-460.5 2880,-496.5 3067,-496.5 3067,-460.5 2880,-460.5\"/>\n<text text-anchor=\"middle\" x=\"2890\" y=\"-474.8\" font-family=\"Times,serif\" font-size=\"14.00\"> </text>\n<polyline fill=\"none\" stroke=\"black\" points=\"2900,-460.5 2900,-496.5 \"/>\n<text text-anchor=\"middle\" x=\"2942.5\" y=\"-474.8\" font-family=\"Times,serif\" font-size=\"14.00\">data &#45;0.8419</text>\n<polyline fill=\"none\" stroke=\"black\" points=\"2985,-460.5 2985,-496.5 \"/>\n<text text-anchor=\"middle\" x=\"3026\" y=\"-474.8\" font-family=\"Times,serif\" font-size=\"14.00\">grad 0.0000</text>\n</g>\n<!-- 140154801884416&#45;&gt;140154801884608+ -->\n<g id=\"edge149\" class=\"edge\">\n<title>140154801884416&#45;&gt;140154801884608+</title>\n<path fill=\"none\" stroke=\"black\" d=\"M3067.05,-478.5C3076.06,-478.5 3084.79,-478.5 3092.7,-478.5\"/>\n<polygon fill=\"black\" stroke=\"black\" points=\"3092.95,-482 3102.95,-478.5 3092.95,-475 3092.95,-482\"/>\n</g>\n<!-- 140154801884416+&#45;&gt;140154801884416 -->\n<g id=\"edge32\" class=\"edge\">\n<title>140154801884416+&#45;&gt;140154801884416</title>\n<path fill=\"none\" stroke=\"black\" d=\"M2844.21,-478.5C2851.73,-478.5 2860.43,-478.5 2869.67,-478.5\"/>\n<polygon fill=\"black\" stroke=\"black\" points=\"2869.89,-482 2879.89,-478.5 2869.89,-475 2869.89,-482\"/>\n</g>\n<!-- 140154801859936 -->\n<g id=\"node106\" class=\"node\">\n<title>140154801859936</title>\n<polygon fill=\"none\" stroke=\"black\" points=\"2880,-350.5 2880,-386.5 3067,-386.5 3067,-350.5 2880,-350.5\"/>\n<text text-anchor=\"middle\" x=\"2890\" y=\"-364.8\" font-family=\"Times,serif\" font-size=\"14.00\"> </text>\n<polyline fill=\"none\" stroke=\"black\" points=\"2900,-350.5 2900,-386.5 \"/>\n<text text-anchor=\"middle\" x=\"2942.5\" y=\"-364.8\" font-family=\"Times,serif\" font-size=\"14.00\">data &#45;0.5304</text>\n<polyline fill=\"none\" stroke=\"black\" points=\"2985,-350.5 2985,-386.5 \"/>\n<text text-anchor=\"middle\" x=\"3026\" y=\"-364.8\" font-family=\"Times,serif\" font-size=\"14.00\">grad 0.0000</text>\n</g>\n<!-- 140154801859936&#45;&gt;140154801860128+ -->\n<g id=\"edge141\" class=\"edge\">\n<title>140154801859936&#45;&gt;140154801860128+</title>\n<path fill=\"none\" stroke=\"black\" d=\"M3067.05,-368.5C3076.06,-368.5 3084.79,-368.5 3092.7,-368.5\"/>\n<polygon fill=\"black\" stroke=\"black\" points=\"3092.95,-372 3102.95,-368.5 3092.95,-365 3092.95,-372\"/>\n</g>\n<!-- 140154801859936+&#45;&gt;140154801859936 -->\n<g id=\"edge33\" class=\"edge\">\n<title>140154801859936+&#45;&gt;140154801859936</title>\n<path fill=\"none\" stroke=\"black\" d=\"M2844.21,-368.5C2851.73,-368.5 2860.43,-368.5 2869.67,-368.5\"/>\n<polygon fill=\"black\" stroke=\"black\" points=\"2869.89,-372 2879.89,-368.5 2869.89,-365 2869.89,-372\"/>\n</g>\n<!-- 140154801884608 -->\n<g id=\"node108\" class=\"node\">\n<title>140154801884608</title>\n<polygon fill=\"none\" stroke=\"black\" points=\"3193,-460.5 3193,-496.5 3380,-496.5 3380,-460.5 3193,-460.5\"/>\n<text text-anchor=\"middle\" x=\"3203\" y=\"-474.8\" font-family=\"Times,serif\" font-size=\"14.00\"> </text>\n<polyline fill=\"none\" stroke=\"black\" points=\"3213,-460.5 3213,-496.5 \"/>\n<text text-anchor=\"middle\" x=\"3255.5\" y=\"-474.8\" font-family=\"Times,serif\" font-size=\"14.00\">data &#45;0.9372</text>\n<polyline fill=\"none\" stroke=\"black\" points=\"3298,-460.5 3298,-496.5 \"/>\n<text text-anchor=\"middle\" x=\"3339\" y=\"-474.8\" font-family=\"Times,serif\" font-size=\"14.00\">grad 0.0000</text>\n</g>\n<!-- 140154801884848tanh -->\n<g id=\"node113\" class=\"node\">\n<title>140154801884848tanh</title>\n<ellipse fill=\"none\" stroke=\"black\" cx=\"3443\" cy=\"-478.5\" rx=\"27\" ry=\"18\"/>\n<text text-anchor=\"middle\" x=\"3443\" y=\"-474.8\" font-family=\"Times,serif\" font-size=\"14.00\">tanh</text>\n</g>\n<!-- 140154801884608&#45;&gt;140154801884848tanh -->\n<g id=\"edge137\" class=\"edge\">\n<title>140154801884608&#45;&gt;140154801884848tanh</title>\n<path fill=\"none\" stroke=\"black\" d=\"M3380.05,-478.5C3389.06,-478.5 3397.79,-478.5 3405.7,-478.5\"/>\n<polygon fill=\"black\" stroke=\"black\" points=\"3405.95,-482 3415.95,-478.5 3405.95,-475 3405.95,-482\"/>\n</g>\n<!-- 140154801884608+&#45;&gt;140154801884608 -->\n<g id=\"edge34\" class=\"edge\">\n<title>140154801884608+&#45;&gt;140154801884608</title>\n<path fill=\"none\" stroke=\"black\" d=\"M3157.21,-478.5C3164.73,-478.5 3173.43,-478.5 3182.67,-478.5\"/>\n<polygon fill=\"black\" stroke=\"black\" points=\"3182.89,-482 3192.89,-478.5 3182.89,-475 3182.89,-482\"/>\n</g>\n<!-- 140154801860128 -->\n<g id=\"node110\" class=\"node\">\n<title>140154801860128</title>\n<polygon fill=\"none\" stroke=\"black\" points=\"3193,-350.5 3193,-386.5 3380,-386.5 3380,-350.5 3193,-350.5\"/>\n<text text-anchor=\"middle\" x=\"3203\" y=\"-364.8\" font-family=\"Times,serif\" font-size=\"14.00\"> </text>\n<polyline fill=\"none\" stroke=\"black\" points=\"3213,-350.5 3213,-386.5 \"/>\n<text text-anchor=\"middle\" x=\"3255.5\" y=\"-364.8\" font-family=\"Times,serif\" font-size=\"14.00\">data &#45;0.2930</text>\n<polyline fill=\"none\" stroke=\"black\" points=\"3298,-350.5 3298,-386.5 \"/>\n<text text-anchor=\"middle\" x=\"3339\" y=\"-364.8\" font-family=\"Times,serif\" font-size=\"14.00\">grad 0.0000</text>\n</g>\n<!-- 140154801860368tanh -->\n<g id=\"node115\" class=\"node\">\n<title>140154801860368tanh</title>\n<ellipse fill=\"none\" stroke=\"black\" cx=\"3443\" cy=\"-368.5\" rx=\"27\" ry=\"18\"/>\n<text text-anchor=\"middle\" x=\"3443\" y=\"-364.8\" font-family=\"Times,serif\" font-size=\"14.00\">tanh</text>\n</g>\n<!-- 140154801860128&#45;&gt;140154801860368tanh -->\n<g id=\"edge168\" class=\"edge\">\n<title>140154801860128&#45;&gt;140154801860368tanh</title>\n<path fill=\"none\" stroke=\"black\" d=\"M3380.05,-368.5C3389.06,-368.5 3397.79,-368.5 3405.7,-368.5\"/>\n<polygon fill=\"black\" stroke=\"black\" points=\"3405.95,-372 3415.95,-368.5 3405.95,-365 3405.95,-372\"/>\n</g>\n<!-- 140154801860128+&#45;&gt;140154801860128 -->\n<g id=\"edge35\" class=\"edge\">\n<title>140154801860128+&#45;&gt;140154801860128</title>\n<path fill=\"none\" stroke=\"black\" d=\"M3157.21,-368.5C3164.73,-368.5 3173.43,-368.5 3182.67,-368.5\"/>\n<polygon fill=\"black\" stroke=\"black\" points=\"3182.89,-372 3192.89,-368.5 3182.89,-365 3182.89,-372\"/>\n</g>\n<!-- 140154801884848 -->\n<g id=\"node112\" class=\"node\">\n<title>140154801884848</title>\n<polygon fill=\"none\" stroke=\"black\" points=\"3506,-460.5 3506,-496.5 3693,-496.5 3693,-460.5 3506,-460.5\"/>\n<text text-anchor=\"middle\" x=\"3516\" y=\"-474.8\" font-family=\"Times,serif\" font-size=\"14.00\"> </text>\n<polyline fill=\"none\" stroke=\"black\" points=\"3526,-460.5 3526,-496.5 \"/>\n<text text-anchor=\"middle\" x=\"3568.5\" y=\"-474.8\" font-family=\"Times,serif\" font-size=\"14.00\">data &#45;0.7339</text>\n<polyline fill=\"none\" stroke=\"black\" points=\"3611,-460.5 3611,-496.5 \"/>\n<text text-anchor=\"middle\" x=\"3652\" y=\"-474.8\" font-family=\"Times,serif\" font-size=\"14.00\">grad 0.0000</text>\n</g>\n<!-- 140154801884848&#45;&gt;140154801894448* -->\n<g id=\"edge93\" class=\"edge\">\n<title>140154801884848&#45;&gt;140154801894448*</title>\n<path fill=\"none\" stroke=\"black\" d=\"M3693.05,-478.5C3702.06,-478.5 3710.79,-478.5 3718.7,-478.5\"/>\n<polygon fill=\"black\" stroke=\"black\" points=\"3718.95,-482 3728.95,-478.5 3718.95,-475 3718.95,-482\"/>\n</g>\n<!-- 140154801884848tanh&#45;&gt;140154801884848 -->\n<g id=\"edge36\" class=\"edge\">\n<title>140154801884848tanh&#45;&gt;140154801884848</title>\n<path fill=\"none\" stroke=\"black\" d=\"M3470.21,-478.5C3477.73,-478.5 3486.43,-478.5 3495.67,-478.5\"/>\n<polygon fill=\"black\" stroke=\"black\" points=\"3495.89,-482 3505.89,-478.5 3495.89,-475 3495.89,-482\"/>\n</g>\n<!-- 140154801860368 -->\n<g id=\"node114\" class=\"node\">\n<title>140154801860368</title>\n<polygon fill=\"none\" stroke=\"black\" points=\"3506,-350.5 3506,-386.5 3693,-386.5 3693,-350.5 3506,-350.5\"/>\n<text text-anchor=\"middle\" x=\"3516\" y=\"-364.8\" font-family=\"Times,serif\" font-size=\"14.00\"> </text>\n<polyline fill=\"none\" stroke=\"black\" points=\"3526,-350.5 3526,-386.5 \"/>\n<text text-anchor=\"middle\" x=\"3568.5\" y=\"-364.8\" font-family=\"Times,serif\" font-size=\"14.00\">data &#45;0.2849</text>\n<polyline fill=\"none\" stroke=\"black\" points=\"3611,-350.5 3611,-386.5 \"/>\n<text text-anchor=\"middle\" x=\"3652\" y=\"-364.8\" font-family=\"Times,serif\" font-size=\"14.00\">grad 0.0000</text>\n</g>\n<!-- 140154801860368&#45;&gt;140154801893584* -->\n<g id=\"edge122\" class=\"edge\">\n<title>140154801860368&#45;&gt;140154801893584*</title>\n<path fill=\"none\" stroke=\"black\" d=\"M3693.05,-368.5C3702.06,-368.5 3710.79,-368.5 3718.7,-368.5\"/>\n<polygon fill=\"black\" stroke=\"black\" points=\"3718.95,-372 3728.95,-368.5 3718.95,-365 3718.95,-372\"/>\n</g>\n<!-- 140154801860368tanh&#45;&gt;140154801860368 -->\n<g id=\"edge37\" class=\"edge\">\n<title>140154801860368tanh&#45;&gt;140154801860368</title>\n<path fill=\"none\" stroke=\"black\" d=\"M3470.21,-368.5C3477.73,-368.5 3486.43,-368.5 3495.67,-368.5\"/>\n<polygon fill=\"black\" stroke=\"black\" points=\"3495.89,-372 3505.89,-368.5 3495.89,-365 3495.89,-372\"/>\n</g>\n<!-- 140154801885088 -->\n<g id=\"node116\" class=\"node\">\n<title>140154801885088</title>\n<polygon fill=\"none\" stroke=\"black\" points=\"3821.5,-295.5 3821.5,-331.5 4003.5,-331.5 4003.5,-295.5 3821.5,-295.5\"/>\n<text text-anchor=\"middle\" x=\"3831.5\" y=\"-309.8\" font-family=\"Times,serif\" font-size=\"14.00\"> </text>\n<polyline fill=\"none\" stroke=\"black\" points=\"3841.5,-295.5 3841.5,-331.5 \"/>\n<text text-anchor=\"middle\" x=\"3881.5\" y=\"-309.8\" font-family=\"Times,serif\" font-size=\"14.00\">data 0.8039</text>\n<polyline fill=\"none\" stroke=\"black\" points=\"3921.5,-295.5 3921.5,-331.5 \"/>\n<text text-anchor=\"middle\" x=\"3962.5\" y=\"-309.8\" font-family=\"Times,serif\" font-size=\"14.00\">grad 0.0000</text>\n</g>\n<!-- 140154801893776+ -->\n<g id=\"node125\" class=\"node\">\n<title>140154801893776+</title>\n<ellipse fill=\"none\" stroke=\"black\" cx=\"4135.5\" cy=\"-329.5\" rx=\"27\" ry=\"18\"/>\n<text text-anchor=\"middle\" x=\"4135.5\" y=\"-325.8\" font-family=\"Times,serif\" font-size=\"14.00\">+</text>\n</g>\n<!-- 140154801885088&#45;&gt;140154801893776+ -->\n<g id=\"edge156\" class=\"edge\">\n<title>140154801885088&#45;&gt;140154801893776+</title>\n<path fill=\"none\" stroke=\"black\" d=\"M4003.71,-320.03C4036.86,-322.43 4072.53,-325.01 4098.23,-326.87\"/>\n<polygon fill=\"black\" stroke=\"black\" points=\"4098.03,-330.37 4108.25,-327.6 4098.53,-323.39 4098.03,-330.37\"/>\n</g>\n<!-- 140154801885088*&#45;&gt;140154801885088 -->\n<g id=\"edge38\" class=\"edge\">\n<title>140154801885088*&#45;&gt;140154801885088</title>\n<path fill=\"none\" stroke=\"black\" d=\"M3783.21,-313.5C3791.34,-313.5 3800.85,-313.5 3810.94,-313.5\"/>\n<polygon fill=\"black\" stroke=\"black\" points=\"3811.19,-317 3821.19,-313.5 3811.19,-310 3811.19,-317\"/>\n</g>\n<!-- 140154801844384 -->\n<g id=\"node118\" class=\"node\">\n<title>140154801844384</title>\n<polygon fill=\"none\" stroke=\"black\" points=\"993,-739.5 993,-775.5 1180,-775.5 1180,-739.5 993,-739.5\"/>\n<text text-anchor=\"middle\" x=\"1003\" y=\"-753.8\" font-family=\"Times,serif\" font-size=\"14.00\"> </text>\n<polyline fill=\"none\" stroke=\"black\" points=\"1013,-739.5 1013,-775.5 \"/>\n<text text-anchor=\"middle\" x=\"1055.5\" y=\"-753.8\" font-family=\"Times,serif\" font-size=\"14.00\">data &#45;3.4114</text>\n<polyline fill=\"none\" stroke=\"black\" points=\"1098,-739.5 1098,-775.5 \"/>\n<text text-anchor=\"middle\" x=\"1139\" y=\"-753.8\" font-family=\"Times,serif\" font-size=\"14.00\">grad 0.0000</text>\n</g>\n<!-- 140154801844384&#45;&gt;140154801844576+ -->\n<g id=\"edge181\" class=\"edge\">\n<title>140154801844384&#45;&gt;140154801844576+</title>\n<path fill=\"none\" stroke=\"black\" d=\"M1180.24,-757.5C1192.33,-757.5 1204.09,-757.5 1214.44,-757.5\"/>\n<polygon fill=\"black\" stroke=\"black\" points=\"1214.68,-761 1224.68,-757.5 1214.68,-754 1214.68,-761\"/>\n</g>\n<!-- 140154801844384+ -->\n<g id=\"node119\" class=\"node\">\n<title>140154801844384+</title>\n<ellipse fill=\"none\" stroke=\"black\" cx=\"921\" cy=\"-765.5\" rx=\"27\" ry=\"18\"/>\n<text text-anchor=\"middle\" x=\"921\" y=\"-761.8\" font-family=\"Times,serif\" font-size=\"14.00\">+</text>\n</g>\n<!-- 140154801844384+&#45;&gt;140154801844384 -->\n<g id=\"edge39\" class=\"edge\">\n<title>140154801844384+&#45;&gt;140154801844384</title>\n<path fill=\"none\" stroke=\"black\" d=\"M948.27,-764.21C958.1,-763.73 969.95,-763.15 982.53,-762.54\"/>\n<polygon fill=\"black\" stroke=\"black\" points=\"982.93,-766.02 992.74,-762.04 982.58,-759.03 982.93,-766.02\"/>\n</g>\n<!-- 140154801893584 -->\n<g id=\"node120\" class=\"node\">\n<title>140154801893584</title>\n<polygon fill=\"none\" stroke=\"black\" points=\"3819,-350.5 3819,-386.5 4006,-386.5 4006,-350.5 3819,-350.5\"/>\n<text text-anchor=\"middle\" x=\"3829\" y=\"-364.8\" font-family=\"Times,serif\" font-size=\"14.00\"> </text>\n<polyline fill=\"none\" stroke=\"black\" points=\"3839,-350.5 3839,-386.5 \"/>\n<text text-anchor=\"middle\" x=\"3881.5\" y=\"-364.8\" font-family=\"Times,serif\" font-size=\"14.00\">data &#45;0.1699</text>\n<polyline fill=\"none\" stroke=\"black\" points=\"3924,-350.5 3924,-386.5 \"/>\n<text text-anchor=\"middle\" x=\"3965\" y=\"-364.8\" font-family=\"Times,serif\" font-size=\"14.00\">grad 0.0000</text>\n</g>\n<!-- 140154801893584&#45;&gt;140154801893776+ -->\n<g id=\"edge117\" class=\"edge\">\n<title>140154801893584&#45;&gt;140154801893776+</title>\n<path fill=\"none\" stroke=\"black\" d=\"M4006.26,-352.13C4038.92,-346.37 4073.71,-340.23 4098.8,-335.8\"/>\n<polygon fill=\"black\" stroke=\"black\" points=\"4099.68,-339.2 4108.92,-334.01 4098.46,-332.31 4099.68,-339.2\"/>\n</g>\n<!-- 140154801893584*&#45;&gt;140154801893584 -->\n<g id=\"edge40\" class=\"edge\">\n<title>140154801893584*&#45;&gt;140154801893584</title>\n<path fill=\"none\" stroke=\"black\" d=\"M3783.21,-368.5C3790.73,-368.5 3799.43,-368.5 3808.67,-368.5\"/>\n<polygon fill=\"black\" stroke=\"black\" points=\"3808.89,-372 3818.89,-368.5 3808.89,-365 3808.89,-372\"/>\n</g>\n<!-- 140154801844576 -->\n<g id=\"node122\" class=\"node\">\n<title>140154801844576</title>\n<polygon fill=\"none\" stroke=\"black\" points=\"1315,-724.5 1315,-760.5 1502,-760.5 1502,-724.5 1315,-724.5\"/>\n<text text-anchor=\"middle\" x=\"1325\" y=\"-738.8\" font-family=\"Times,serif\" font-size=\"14.00\"> </text>\n<polyline fill=\"none\" stroke=\"black\" points=\"1335,-724.5 1335,-760.5 \"/>\n<text text-anchor=\"middle\" x=\"1377.5\" y=\"-738.8\" font-family=\"Times,serif\" font-size=\"14.00\">data &#45;3.7152</text>\n<polyline fill=\"none\" stroke=\"black\" points=\"1420,-724.5 1420,-760.5 \"/>\n<text text-anchor=\"middle\" x=\"1461\" y=\"-738.8\" font-family=\"Times,serif\" font-size=\"14.00\">grad 0.0000</text>\n</g>\n<!-- 140154801844816tanh -->\n<g id=\"node127\" class=\"node\">\n<title>140154801844816tanh</title>\n<ellipse fill=\"none\" stroke=\"black\" cx=\"1565\" cy=\"-708.5\" rx=\"27\" ry=\"18\"/>\n<text text-anchor=\"middle\" x=\"1565\" y=\"-704.8\" font-family=\"Times,serif\" font-size=\"14.00\">tanh</text>\n</g>\n<!-- 140154801844576&#45;&gt;140154801844816tanh -->\n<g id=\"edge167\" class=\"edge\">\n<title>140154801844576&#45;&gt;140154801844816tanh</title>\n<path fill=\"none\" stroke=\"black\" d=\"M1491.73,-724.4C1504.97,-721.49 1518.01,-718.62 1529.3,-716.14\"/>\n<polygon fill=\"black\" stroke=\"black\" points=\"1530.11,-719.54 1539.12,-713.97 1528.6,-712.71 1530.11,-719.54\"/>\n</g>\n<!-- 140154801844576+&#45;&gt;140154801844576 -->\n<g id=\"edge41\" class=\"edge\">\n<title>140154801844576+&#45;&gt;140154801844576</title>\n<path fill=\"none\" stroke=\"black\" d=\"M1278.86,-754.99C1286.51,-754.25 1295.39,-753.38 1304.84,-752.47\"/>\n<polygon fill=\"black\" stroke=\"black\" points=\"1305.26,-755.94 1314.87,-751.49 1304.58,-748.98 1305.26,-755.94\"/>\n</g>\n<!-- 140154801893776 -->\n<g id=\"node124\" class=\"node\">\n<title>140154801893776</title>\n<polygon fill=\"none\" stroke=\"black\" points=\"4267.5,-311.5 4267.5,-347.5 4449.5,-347.5 4449.5,-311.5 4267.5,-311.5\"/>\n<text text-anchor=\"middle\" x=\"4277.5\" y=\"-325.8\" font-family=\"Times,serif\" font-size=\"14.00\"> </text>\n<polyline fill=\"none\" stroke=\"black\" points=\"4287.5,-311.5 4287.5,-347.5 \"/>\n<text text-anchor=\"middle\" x=\"4327.5\" y=\"-325.8\" font-family=\"Times,serif\" font-size=\"14.00\">data 0.6340</text>\n<polyline fill=\"none\" stroke=\"black\" points=\"4367.5,-311.5 4367.5,-347.5 \"/>\n<text text-anchor=\"middle\" x=\"4408.5\" y=\"-325.8\" font-family=\"Times,serif\" font-size=\"14.00\">grad 0.0000</text>\n</g>\n<!-- 140154801894208+ -->\n<g id=\"node132\" class=\"node\">\n<title>140154801894208+</title>\n<ellipse fill=\"none\" stroke=\"black\" cx=\"4515\" cy=\"-329.5\" rx=\"27\" ry=\"18\"/>\n<text text-anchor=\"middle\" x=\"4515\" y=\"-325.8\" font-family=\"Times,serif\" font-size=\"14.00\">+</text>\n</g>\n<!-- 140154801893776&#45;&gt;140154801894208+ -->\n<g id=\"edge202\" class=\"edge\">\n<title>140154801893776&#45;&gt;140154801894208+</title>\n<path fill=\"none\" stroke=\"black\" d=\"M4449.82,-329.5C4459.57,-329.5 4469.04,-329.5 4477.57,-329.5\"/>\n<polygon fill=\"black\" stroke=\"black\" points=\"4477.83,-333 4487.83,-329.5 4477.83,-326 4477.83,-333\"/>\n</g>\n<!-- 140154801893776+&#45;&gt;140154801893776 -->\n<g id=\"edge42\" class=\"edge\">\n<title>140154801893776+&#45;&gt;140154801893776</title>\n<path fill=\"none\" stroke=\"black\" d=\"M4162.72,-329.5C4186.24,-329.5 4222.3,-329.5 4257.03,-329.5\"/>\n<polygon fill=\"black\" stroke=\"black\" points=\"4257.26,-333 4267.26,-329.5 4257.26,-326 4257.26,-333\"/>\n</g>\n<!-- 140154801844816 -->\n<g id=\"node126\" class=\"node\">\n<title>140154801844816</title>\n<polygon fill=\"none\" stroke=\"black\" points=\"1628,-659.5 1628,-695.5 1815,-695.5 1815,-659.5 1628,-659.5\"/>\n<text text-anchor=\"middle\" x=\"1638\" y=\"-673.8\" font-family=\"Times,serif\" font-size=\"14.00\"> </text>\n<polyline fill=\"none\" stroke=\"black\" points=\"1648,-659.5 1648,-695.5 \"/>\n<text text-anchor=\"middle\" x=\"1690.5\" y=\"-673.8\" font-family=\"Times,serif\" font-size=\"14.00\">data &#45;0.9988</text>\n<polyline fill=\"none\" stroke=\"black\" points=\"1733,-659.5 1733,-695.5 \"/>\n<text text-anchor=\"middle\" x=\"1774\" y=\"-673.8\" font-family=\"Times,serif\" font-size=\"14.00\">grad 0.0000</text>\n</g>\n<!-- 140154801844816&#45;&gt;140154801881392* -->\n<g id=\"edge196\" class=\"edge\">\n<title>140154801844816&#45;&gt;140154801881392*</title>\n<path fill=\"none\" stroke=\"black\" d=\"M1803.75,-659.43C1807.89,-656.58 1811.69,-653.29 1815,-649.5 1881.87,-572.86 1823.13,-521.32 1851,-423.5 1854.43,-411.47 1859.54,-398.64 1864.33,-387.8\"/>\n<polygon fill=\"black\" stroke=\"black\" points=\"1867.62,-389.02 1868.58,-378.47 1861.25,-386.12 1867.62,-389.02\"/>\n</g>\n<!-- 140154801844816&#45;&gt;140154801856912* -->\n<g id=\"edge120\" class=\"edge\">\n<title>140154801844816&#45;&gt;140154801856912*</title>\n<path fill=\"none\" stroke=\"black\" d=\"M1786.02,-659.35C1795.79,-656.24 1805.71,-652.92 1815,-649.5 1825.25,-645.73 1836.23,-641.14 1846.07,-636.82\"/>\n<polygon fill=\"black\" stroke=\"black\" points=\"1847.74,-639.9 1855.45,-632.63 1844.89,-633.51 1847.74,-639.9\"/>\n</g>\n<!-- 140154801844816&#45;&gt;140154801883360* -->\n<g id=\"edge88\" class=\"edge\">\n<title>140154801844816&#45;&gt;140154801883360*</title>\n<path fill=\"none\" stroke=\"black\" d=\"M1804.73,-695.73C1808.46,-698.29 1811.92,-701.2 1815,-704.5 1866.21,-759.38 1816.23,-802.98 1851,-869.5 1852.05,-871.51 1853.28,-873.48 1854.63,-875.38\"/>\n<polygon fill=\"black\" stroke=\"black\" points=\"1852.02,-877.72 1861.06,-883.25 1857.44,-873.29 1852.02,-877.72\"/>\n</g>\n<!-- 140154801844816&#45;&gt;140154801858880* -->\n<g id=\"edge142\" class=\"edge\">\n<title>140154801844816&#45;&gt;140154801858880*</title>\n<path fill=\"none\" stroke=\"black\" d=\"M1800.23,-695.56C1805.44,-698.15 1810.43,-701.11 1815,-704.5 1838.47,-721.89 1833,-736.49 1851,-759.5 1852.4,-761.28 1853.88,-763.09 1855.41,-764.88\"/>\n<polygon fill=\"black\" stroke=\"black\" points=\"1852.94,-767.37 1862.21,-772.51 1858.17,-762.72 1852.94,-767.37\"/>\n</g>\n<!-- 140154801844816tanh&#45;&gt;140154801844816 -->\n<g id=\"edge43\" class=\"edge\">\n<title>140154801844816tanh&#45;&gt;140154801844816</title>\n<path fill=\"none\" stroke=\"black\" d=\"M1591.17,-703.45C1599.68,-701.74 1609.77,-699.72 1620.5,-697.56\"/>\n<polygon fill=\"black\" stroke=\"black\" points=\"1621.39,-700.96 1630.51,-695.56 1620.02,-694.09 1621.39,-700.96\"/>\n</g>\n<!-- 140154801894016 -->\n<g id=\"node128\" class=\"node\">\n<title>140154801894016</title>\n<polygon fill=\"none\" stroke=\"black\" points=\"4042,-251.5 4042,-287.5 4229,-287.5 4229,-251.5 4042,-251.5\"/>\n<text text-anchor=\"middle\" x=\"4052\" y=\"-265.8\" font-family=\"Times,serif\" font-size=\"14.00\"> </text>\n<polyline fill=\"none\" stroke=\"black\" points=\"4062,-251.5 4062,-287.5 \"/>\n<text text-anchor=\"middle\" x=\"4104.5\" y=\"-265.8\" font-family=\"Times,serif\" font-size=\"14.00\">data &#45;0.3333</text>\n<polyline fill=\"none\" stroke=\"black\" points=\"4147,-251.5 4147,-287.5 \"/>\n<text text-anchor=\"middle\" x=\"4188\" y=\"-265.8\" font-family=\"Times,serif\" font-size=\"14.00\">grad 0.0000</text>\n</g>\n<!-- 140154801894016&#45;&gt;140154801894208+ -->\n<g id=\"edge175\" class=\"edge\">\n<title>140154801894016&#45;&gt;140154801894208+</title>\n<path fill=\"none\" stroke=\"black\" d=\"M4229.04,-271.06C4292.68,-274.02 4378.63,-281.77 4452,-301.5 4462.98,-304.45 4474.46,-309.14 4484.52,-313.84\"/>\n<polygon fill=\"black\" stroke=\"black\" points=\"4483.15,-317.07 4493.67,-318.3 4486.22,-310.77 4483.15,-317.07\"/>\n</g>\n<!-- 140154801894016*&#45;&gt;140154801894016 -->\n<g id=\"edge44\" class=\"edge\">\n<title>140154801894016*&#45;&gt;140154801894016</title>\n<path fill=\"none\" stroke=\"black\" d=\"M3782.36,-207.93C3832.52,-216.7 3946.94,-236.71 4031.82,-251.55\"/>\n<polygon fill=\"black\" stroke=\"black\" points=\"4031.3,-255.01 4041.75,-253.28 4032.51,-248.11 4031.3,-255.01\"/>\n</g>\n<!-- 140154801845056 -->\n<g id=\"node130\" class=\"node\">\n<title>140154801845056</title>\n<polygon fill=\"none\" stroke=\"black\" points=\"326.5,-403.5 326.5,-439.5 522.5,-439.5 522.5,-403.5 326.5,-403.5\"/>\n<text text-anchor=\"middle\" x=\"343.5\" y=\"-417.8\" font-family=\"Times,serif\" font-size=\"14.00\">2.0</text>\n<polyline fill=\"none\" stroke=\"black\" points=\"360.5,-403.5 360.5,-439.5 \"/>\n<text text-anchor=\"middle\" x=\"400.5\" y=\"-417.8\" font-family=\"Times,serif\" font-size=\"14.00\">data 2.0000</text>\n<polyline fill=\"none\" stroke=\"black\" points=\"440.5,-403.5 440.5,-439.5 \"/>\n<text text-anchor=\"middle\" x=\"481.5\" y=\"-417.8\" font-family=\"Times,serif\" font-size=\"14.00\">grad 0.0000</text>\n</g>\n<!-- 140154801845056&#45;&gt;140154801845104* -->\n<g id=\"edge85\" class=\"edge\">\n<title>140154801845056&#45;&gt;140154801845104*</title>\n<path fill=\"none\" stroke=\"black\" d=\"M493.49,-439.51C504.69,-442.5 516.17,-445.58 527,-448.5 536.08,-450.95 545.9,-453.63 554.99,-456.13\"/>\n<polygon fill=\"black\" stroke=\"black\" points=\"554.3,-459.56 564.87,-458.84 556.15,-452.81 554.3,-459.56\"/>\n</g>\n<!-- 140154801894208 -->\n<g id=\"node131\" class=\"node\">\n<title>140154801894208</title>\n<polygon fill=\"none\" stroke=\"black\" points=\"4578,-315.5 4578,-351.5 4760,-351.5 4760,-315.5 4578,-315.5\"/>\n<text text-anchor=\"middle\" x=\"4588\" y=\"-329.8\" font-family=\"Times,serif\" font-size=\"14.00\"> </text>\n<polyline fill=\"none\" stroke=\"black\" points=\"4598,-315.5 4598,-351.5 \"/>\n<text text-anchor=\"middle\" x=\"4638\" y=\"-329.8\" font-family=\"Times,serif\" font-size=\"14.00\">data 0.3007</text>\n<polyline fill=\"none\" stroke=\"black\" points=\"4678,-315.5 4678,-351.5 \"/>\n<text text-anchor=\"middle\" x=\"4719\" y=\"-329.8\" font-family=\"Times,serif\" font-size=\"14.00\">grad 0.0000</text>\n</g>\n<!-- 140154801894640+ -->\n<g id=\"node141\" class=\"node\">\n<title>140154801894640+</title>\n<ellipse fill=\"none\" stroke=\"black\" cx=\"4823\" cy=\"-356.5\" rx=\"27\" ry=\"18\"/>\n<text text-anchor=\"middle\" x=\"4823\" y=\"-352.8\" font-family=\"Times,serif\" font-size=\"14.00\">+</text>\n</g>\n<!-- 140154801894208&#45;&gt;140154801894640+ -->\n<g id=\"edge165\" class=\"edge\">\n<title>140154801894208&#45;&gt;140154801894640+</title>\n<path fill=\"none\" stroke=\"black\" d=\"M4760.18,-347.15C4769.42,-348.54 4778.38,-349.9 4786.47,-351.12\"/>\n<polygon fill=\"black\" stroke=\"black\" points=\"4786.15,-354.61 4796.56,-352.65 4787.19,-347.69 4786.15,-354.61\"/>\n</g>\n<!-- 140154801894208+&#45;&gt;140154801894208 -->\n<g id=\"edge45\" class=\"edge\">\n<title>140154801894208+&#45;&gt;140154801894208</title>\n<path fill=\"none\" stroke=\"black\" d=\"M4542.13,-330.19C4549.67,-330.39 4558.39,-330.62 4567.64,-330.86\"/>\n<polygon fill=\"black\" stroke=\"black\" points=\"4567.78,-334.36 4577.87,-331.13 4567.96,-327.37 4567.78,-334.36\"/>\n</g>\n<!-- 140154801845104 -->\n<g id=\"node133\" class=\"node\">\n<title>140154801845104</title>\n<polygon fill=\"none\" stroke=\"black\" points=\"662,-447.5 662,-483.5 849,-483.5 849,-447.5 662,-447.5\"/>\n<text text-anchor=\"middle\" x=\"672\" y=\"-461.8\" font-family=\"Times,serif\" font-size=\"14.00\"> </text>\n<polyline fill=\"none\" stroke=\"black\" points=\"682,-447.5 682,-483.5 \"/>\n<text text-anchor=\"middle\" x=\"724.5\" y=\"-461.8\" font-family=\"Times,serif\" font-size=\"14.00\">data &#45;0.3856</text>\n<polyline fill=\"none\" stroke=\"black\" points=\"767,-447.5 767,-483.5 \"/>\n<text text-anchor=\"middle\" x=\"808\" y=\"-461.8\" font-family=\"Times,serif\" font-size=\"14.00\">grad 0.0000</text>\n</g>\n<!-- 140154801845584+ -->\n<g id=\"node143\" class=\"node\">\n<title>140154801845584+</title>\n<ellipse fill=\"none\" stroke=\"black\" cx=\"921\" cy=\"-438.5\" rx=\"27\" ry=\"18\"/>\n<text text-anchor=\"middle\" x=\"921\" y=\"-434.8\" font-family=\"Times,serif\" font-size=\"14.00\">+</text>\n</g>\n<!-- 140154801845104&#45;&gt;140154801845584+ -->\n<g id=\"edge112\" class=\"edge\">\n<title>140154801845104&#45;&gt;140154801845584+</title>\n<path fill=\"none\" stroke=\"black\" d=\"M849.24,-450.19C861.78,-448.11 873.97,-446.1 884.6,-444.35\"/>\n<polygon fill=\"black\" stroke=\"black\" points=\"885.36,-447.77 894.66,-442.68 884.22,-440.86 885.36,-447.77\"/>\n</g>\n<!-- 140154801845104*&#45;&gt;140154801845104 -->\n<g id=\"edge46\" class=\"edge\">\n<title>140154801845104*&#45;&gt;140154801845104</title>\n<path fill=\"none\" stroke=\"black\" d=\"M617.27,-465.5C627.1,-465.5 638.95,-465.5 651.53,-465.5\"/>\n<polygon fill=\"black\" stroke=\"black\" points=\"651.74,-469 661.74,-465.5 651.74,-462 651.74,-469\"/>\n</g>\n<!-- 140154801894448 -->\n<g id=\"node135\" class=\"node\">\n<title>140154801894448</title>\n<polygon fill=\"none\" stroke=\"black\" points=\"4265,-376.5 4265,-412.5 4452,-412.5 4452,-376.5 4265,-376.5\"/>\n<text text-anchor=\"middle\" x=\"4275\" y=\"-390.8\" font-family=\"Times,serif\" font-size=\"14.00\"> </text>\n<polyline fill=\"none\" stroke=\"black\" points=\"4285,-376.5 4285,-412.5 \"/>\n<text text-anchor=\"middle\" x=\"4327.5\" y=\"-390.8\" font-family=\"Times,serif\" font-size=\"14.00\">data &#45;0.4336</text>\n<polyline fill=\"none\" stroke=\"black\" points=\"4370,-376.5 4370,-412.5 \"/>\n<text text-anchor=\"middle\" x=\"4411\" y=\"-390.8\" font-family=\"Times,serif\" font-size=\"14.00\">grad 0.0000</text>\n</g>\n<!-- 140154801894448&#45;&gt;140154801894640+ -->\n<g id=\"edge209\" class=\"edge\">\n<title>140154801894448&#45;&gt;140154801894640+</title>\n<path fill=\"none\" stroke=\"black\" d=\"M4452.26,-386.88C4554.6,-378.47 4714.22,-365.36 4785.49,-359.5\"/>\n<polygon fill=\"black\" stroke=\"black\" points=\"4786.07,-362.96 4795.75,-358.66 4785.5,-355.99 4786.07,-362.96\"/>\n</g>\n<!-- 140154801894448*&#45;&gt;140154801894448 -->\n<g id=\"edge47\" class=\"edge\">\n<title>140154801894448*&#45;&gt;140154801894448</title>\n<path fill=\"none\" stroke=\"black\" d=\"M3782.8,-474.89C3863.21,-463.64 4112.34,-428.79 4254.8,-408.87\"/>\n<polygon fill=\"black\" stroke=\"black\" points=\"4255.45,-412.31 4264.86,-407.46 4254.48,-405.38 4255.45,-412.31\"/>\n</g>\n<!-- 140154801845344 -->\n<g id=\"node137\" class=\"node\">\n<title>140154801845344</title>\n<polygon fill=\"none\" stroke=\"black\" points=\"326.5,-293.5 326.5,-329.5 522.5,-329.5 522.5,-293.5 326.5,-293.5\"/>\n<text text-anchor=\"middle\" x=\"343.5\" y=\"-307.8\" font-family=\"Times,serif\" font-size=\"14.00\">3.0</text>\n<polyline fill=\"none\" stroke=\"black\" points=\"360.5,-293.5 360.5,-329.5 \"/>\n<text text-anchor=\"middle\" x=\"400.5\" y=\"-307.8\" font-family=\"Times,serif\" font-size=\"14.00\">data 3.0000</text>\n<polyline fill=\"none\" stroke=\"black\" points=\"440.5,-293.5 440.5,-329.5 \"/>\n<text text-anchor=\"middle\" x=\"481.5\" y=\"-307.8\" font-family=\"Times,serif\" font-size=\"14.00\">grad 0.0000</text>\n</g>\n<!-- 140154801845344&#45;&gt;140154801845392* -->\n<g id=\"edge182\" class=\"edge\">\n<title>140154801845344&#45;&gt;140154801845392*</title>\n<path fill=\"none\" stroke=\"black\" d=\"M499.12,-329.55C508.58,-332.32 518.07,-335.32 527,-338.5 537.54,-342.25 548.77,-347.06 558.73,-351.63\"/>\n<polygon fill=\"black\" stroke=\"black\" points=\"557.3,-354.82 567.84,-355.9 560.27,-348.49 557.3,-354.82\"/>\n</g>\n<!-- 140154801845392 -->\n<g id=\"node138\" class=\"node\">\n<title>140154801845392</title>\n<polygon fill=\"none\" stroke=\"black\" points=\"664.5,-392.5 664.5,-428.5 846.5,-428.5 846.5,-392.5 664.5,-392.5\"/>\n<text text-anchor=\"middle\" x=\"674.5\" y=\"-406.8\" font-family=\"Times,serif\" font-size=\"14.00\"> </text>\n<polyline fill=\"none\" stroke=\"black\" points=\"684.5,-392.5 684.5,-428.5 \"/>\n<text text-anchor=\"middle\" x=\"724.5\" y=\"-406.8\" font-family=\"Times,serif\" font-size=\"14.00\">data 1.8097</text>\n<polyline fill=\"none\" stroke=\"black\" points=\"764.5,-392.5 764.5,-428.5 \"/>\n<text text-anchor=\"middle\" x=\"805.5\" y=\"-406.8\" font-family=\"Times,serif\" font-size=\"14.00\">grad 0.0000</text>\n</g>\n<!-- 140154801845392&#45;&gt;140154801845584+ -->\n<g id=\"edge174\" class=\"edge\">\n<title>140154801845392&#45;&gt;140154801845584+</title>\n<path fill=\"none\" stroke=\"black\" d=\"M846.86,-425.97C860.32,-428.28 873.46,-430.53 884.81,-432.47\"/>\n<polygon fill=\"black\" stroke=\"black\" points=\"884.23,-435.93 894.68,-434.16 885.41,-429.03 884.23,-435.93\"/>\n</g>\n<!-- 140154801845392*&#45;&gt;140154801845392 -->\n<g id=\"edge48\" class=\"edge\">\n<title>140154801845392*&#45;&gt;140154801845392</title>\n<path fill=\"none\" stroke=\"black\" d=\"M615.48,-373.09C632.08,-377.56 655.03,-383.73 677.49,-389.78\"/>\n<polygon fill=\"black\" stroke=\"black\" points=\"676.84,-393.23 687.41,-392.45 678.66,-386.47 676.84,-393.23\"/>\n</g>\n<!-- 140154801894640 -->\n<g id=\"node140\" class=\"node\">\n<title>140154801894640</title>\n<polygon fill=\"none\" stroke=\"black\" points=\"4886,-338.5 4886,-374.5 5073,-374.5 5073,-338.5 4886,-338.5\"/>\n<text text-anchor=\"middle\" x=\"4896\" y=\"-352.8\" font-family=\"Times,serif\" font-size=\"14.00\"> </text>\n<polyline fill=\"none\" stroke=\"black\" points=\"4906,-338.5 4906,-374.5 \"/>\n<text text-anchor=\"middle\" x=\"4948.5\" y=\"-352.8\" font-family=\"Times,serif\" font-size=\"14.00\">data &#45;0.1329</text>\n<polyline fill=\"none\" stroke=\"black\" points=\"4991,-338.5 4991,-374.5 \"/>\n<text text-anchor=\"middle\" x=\"5032\" y=\"-352.8\" font-family=\"Times,serif\" font-size=\"14.00\">grad 0.0000</text>\n</g>\n<!-- 140154801894640&#45;&gt;140154801894832+ -->\n<g id=\"edge127\" class=\"edge\">\n<title>140154801894640&#45;&gt;140154801894832+</title>\n<path fill=\"none\" stroke=\"black\" d=\"M5073.05,-372.67C5082.34,-374.3 5091.33,-375.87 5099.44,-377.29\"/>\n<polygon fill=\"black\" stroke=\"black\" points=\"5099.1,-380.78 5109.55,-379.05 5100.3,-373.88 5099.1,-380.78\"/>\n</g>\n<!-- 140154801894640+&#45;&gt;140154801894640 -->\n<g id=\"edge49\" class=\"edge\">\n<title>140154801894640+&#45;&gt;140154801894640</title>\n<path fill=\"none\" stroke=\"black\" d=\"M4850.21,-356.5C4857.73,-356.5 4866.43,-356.5 4875.67,-356.5\"/>\n<polygon fill=\"black\" stroke=\"black\" points=\"4875.89,-360 4885.89,-356.5 4875.89,-353 4875.89,-360\"/>\n</g>\n<!-- 140154801845584 -->\n<g id=\"node142\" class=\"node\">\n<title>140154801845584</title>\n<polygon fill=\"none\" stroke=\"black\" points=\"995.5,-420.5 995.5,-456.5 1177.5,-456.5 1177.5,-420.5 995.5,-420.5\"/>\n<text text-anchor=\"middle\" x=\"1005.5\" y=\"-434.8\" font-family=\"Times,serif\" font-size=\"14.00\"> </text>\n<polyline fill=\"none\" stroke=\"black\" points=\"1015.5,-420.5 1015.5,-456.5 \"/>\n<text text-anchor=\"middle\" x=\"1055.5\" y=\"-434.8\" font-family=\"Times,serif\" font-size=\"14.00\">data 1.4240</text>\n<polyline fill=\"none\" stroke=\"black\" points=\"1095.5,-420.5 1095.5,-456.5 \"/>\n<text text-anchor=\"middle\" x=\"1136.5\" y=\"-434.8\" font-family=\"Times,serif\" font-size=\"14.00\">grad 0.0000</text>\n</g>\n<!-- 140154801846064+ -->\n<g id=\"node159\" class=\"node\">\n<title>140154801846064+</title>\n<ellipse fill=\"none\" stroke=\"black\" cx=\"1252\" cy=\"-438.5\" rx=\"27\" ry=\"18\"/>\n<text text-anchor=\"middle\" x=\"1252\" y=\"-434.8\" font-family=\"Times,serif\" font-size=\"14.00\">+</text>\n</g>\n<!-- 140154801845584&#45;&gt;140154801846064+ -->\n<g id=\"edge98\" class=\"edge\">\n<title>140154801845584&#45;&gt;140154801846064+</title>\n<path fill=\"none\" stroke=\"black\" d=\"M1177.86,-438.5C1190.84,-438.5 1203.53,-438.5 1214.6,-438.5\"/>\n<polygon fill=\"black\" stroke=\"black\" points=\"1214.67,-442 1224.67,-438.5 1214.67,-435 1214.67,-442\"/>\n</g>\n<!-- 140154801845584+&#45;&gt;140154801845584 -->\n<g id=\"edge50\" class=\"edge\">\n<title>140154801845584+&#45;&gt;140154801845584</title>\n<path fill=\"none\" stroke=\"black\" d=\"M948.27,-438.5C958.7,-438.5 971.41,-438.5 984.84,-438.5\"/>\n<polygon fill=\"black\" stroke=\"black\" points=\"985.23,-442 995.23,-438.5 985.23,-435 985.23,-442\"/>\n</g>\n<!-- 140154801812864 -->\n<g id=\"node144\" class=\"node\">\n<title>140154801812864</title>\n<polygon fill=\"none\" stroke=\"black\" points=\"664.5,-623.5 664.5,-659.5 846.5,-659.5 846.5,-623.5 664.5,-623.5\"/>\n<text text-anchor=\"middle\" x=\"674.5\" y=\"-637.8\" font-family=\"Times,serif\" font-size=\"14.00\"> </text>\n<polyline fill=\"none\" stroke=\"black\" points=\"684.5,-623.5 684.5,-659.5 \"/>\n<text text-anchor=\"middle\" x=\"724.5\" y=\"-637.8\" font-family=\"Times,serif\" font-size=\"14.00\">data 3.0989</text>\n<polyline fill=\"none\" stroke=\"black\" points=\"764.5,-623.5 764.5,-659.5 \"/>\n<text text-anchor=\"middle\" x=\"805.5\" y=\"-637.8\" font-family=\"Times,serif\" font-size=\"14.00\">grad 0.0000</text>\n</g>\n<!-- 140154801813968+ -->\n<g id=\"node170\" class=\"node\">\n<title>140154801813968+</title>\n<ellipse fill=\"none\" stroke=\"black\" cx=\"921\" cy=\"-598.5\" rx=\"27\" ry=\"18\"/>\n<text text-anchor=\"middle\" x=\"921\" y=\"-594.8\" font-family=\"Times,serif\" font-size=\"14.00\">+</text>\n</g>\n<!-- 140154801812864&#45;&gt;140154801813968+ -->\n<g id=\"edge150\" class=\"edge\">\n<title>140154801812864&#45;&gt;140154801813968+</title>\n<path fill=\"none\" stroke=\"black\" d=\"M825.36,-623.39C846.23,-617.9 868.24,-612.11 885.78,-607.5\"/>\n<polygon fill=\"black\" stroke=\"black\" points=\"886.77,-610.86 895.55,-604.93 884.99,-604.09 886.77,-610.86\"/>\n</g>\n<!-- 140154801812864+ -->\n<g id=\"node145\" class=\"node\">\n<title>140154801812864+</title>\n<ellipse fill=\"none\" stroke=\"black\" cx=\"590\" cy=\"-641.5\" rx=\"27\" ry=\"18\"/>\n<text text-anchor=\"middle\" x=\"590\" y=\"-637.8\" font-family=\"Times,serif\" font-size=\"14.00\">+</text>\n</g>\n<!-- 140154801812864+&#45;&gt;140154801812864 -->\n<g id=\"edge51\" class=\"edge\">\n<title>140154801812864+&#45;&gt;140154801812864</title>\n<path fill=\"none\" stroke=\"black\" d=\"M617.27,-641.5C627.7,-641.5 640.41,-641.5 653.84,-641.5\"/>\n<polygon fill=\"black\" stroke=\"black\" points=\"654.23,-645 664.23,-641.5 654.23,-638 654.23,-645\"/>\n</g>\n<!-- 140154801894832 -->\n<g id=\"node146\" class=\"node\">\n<title>140154801894832</title>\n<polygon fill=\"none\" stroke=\"black\" points=\"5199,-365.5 5199,-401.5 5381,-401.5 5381,-365.5 5199,-365.5\"/>\n<text text-anchor=\"middle\" x=\"5209\" y=\"-379.8\" font-family=\"Times,serif\" font-size=\"14.00\"> </text>\n<polyline fill=\"none\" stroke=\"black\" points=\"5219,-365.5 5219,-401.5 \"/>\n<text text-anchor=\"middle\" x=\"5259\" y=\"-379.8\" font-family=\"Times,serif\" font-size=\"14.00\">data 0.0887</text>\n<polyline fill=\"none\" stroke=\"black\" points=\"5299,-365.5 5299,-401.5 \"/>\n<text text-anchor=\"middle\" x=\"5340\" y=\"-379.8\" font-family=\"Times,serif\" font-size=\"14.00\">grad 0.0000</text>\n</g>\n<!-- 140154801895072tanh -->\n<g id=\"node153\" class=\"node\">\n<title>140154801895072tanh</title>\n<ellipse fill=\"none\" stroke=\"black\" cx=\"5444\" cy=\"-383.5\" rx=\"27\" ry=\"18\"/>\n<text text-anchor=\"middle\" x=\"5444\" y=\"-379.8\" font-family=\"Times,serif\" font-size=\"14.00\">tanh</text>\n</g>\n<!-- 140154801894832&#45;&gt;140154801895072tanh -->\n<g id=\"edge116\" class=\"edge\">\n<title>140154801894832&#45;&gt;140154801895072tanh</title>\n<path fill=\"none\" stroke=\"black\" d=\"M5381.18,-383.5C5390.14,-383.5 5398.83,-383.5 5406.73,-383.5\"/>\n<polygon fill=\"black\" stroke=\"black\" points=\"5406.96,-387 5416.96,-383.5 5406.96,-380 5406.96,-387\"/>\n</g>\n<!-- 140154801894832+&#45;&gt;140154801894832 -->\n<g id=\"edge52\" class=\"edge\">\n<title>140154801894832+&#45;&gt;140154801894832</title>\n<path fill=\"none\" stroke=\"black\" d=\"M5163.13,-383.5C5170.67,-383.5 5179.39,-383.5 5188.64,-383.5\"/>\n<polygon fill=\"black\" stroke=\"black\" points=\"5188.87,-387 5198.87,-383.5 5188.87,-380 5188.87,-387\"/>\n</g>\n<!-- 140154801845824 -->\n<g id=\"node148\" class=\"node\">\n<title>140154801845824</title>\n<polygon fill=\"none\" stroke=\"black\" points=\"653,-282.5 653,-318.5 858,-318.5 858,-282.5 653,-282.5\"/>\n<text text-anchor=\"middle\" x=\"672\" y=\"-296.8\" font-family=\"Times,serif\" font-size=\"14.00\">&#45;1.0</text>\n<polyline fill=\"none\" stroke=\"black\" points=\"691,-282.5 691,-318.5 \"/>\n<text text-anchor=\"middle\" x=\"733.5\" y=\"-296.8\" font-family=\"Times,serif\" font-size=\"14.00\">data &#45;1.0000</text>\n<polyline fill=\"none\" stroke=\"black\" points=\"776,-282.5 776,-318.5 \"/>\n<text text-anchor=\"middle\" x=\"817\" y=\"-296.8\" font-family=\"Times,serif\" font-size=\"14.00\">grad 0.0000</text>\n</g>\n<!-- 140154801845824&#45;&gt;140154801845872* -->\n<g id=\"edge207\" class=\"edge\">\n<title>140154801845824&#45;&gt;140154801845872*</title>\n<path fill=\"none\" stroke=\"black\" d=\"M830.12,-318.55C839.58,-321.32 849.07,-324.32 858,-327.5 868.54,-331.25 879.77,-336.06 889.73,-340.63\"/>\n<polygon fill=\"black\" stroke=\"black\" points=\"888.3,-343.82 898.84,-344.9 891.27,-337.49 888.3,-343.82\"/>\n</g>\n<!-- 140154801813056 -->\n<g id=\"node149\" class=\"node\">\n<title>140154801813056</title>\n<polygon fill=\"none\" stroke=\"black\" points=\"0,-568.5 0,-604.5 196,-604.5 196,-568.5 0,-568.5\"/>\n<text text-anchor=\"middle\" x=\"17\" y=\"-582.8\" font-family=\"Times,serif\" font-size=\"14.00\">3.0</text>\n<polyline fill=\"none\" stroke=\"black\" points=\"34,-568.5 34,-604.5 \"/>\n<text text-anchor=\"middle\" x=\"74\" y=\"-582.8\" font-family=\"Times,serif\" font-size=\"14.00\">data 3.0000</text>\n<polyline fill=\"none\" stroke=\"black\" points=\"114,-568.5 114,-604.5 \"/>\n<text text-anchor=\"middle\" x=\"155\" y=\"-582.8\" font-family=\"Times,serif\" font-size=\"14.00\">grad 0.0000</text>\n</g>\n<!-- 140154801813056&#45;&gt;140154801813200* -->\n<g id=\"edge130\" class=\"edge\">\n<title>140154801813056&#45;&gt;140154801813200*</title>\n<path fill=\"none\" stroke=\"black\" d=\"M168.82,-604.55C178.03,-607.33 187.29,-610.34 196,-613.5 206.52,-617.31 217.74,-622.14 227.71,-626.7\"/>\n<polygon fill=\"black\" stroke=\"black\" points=\"226.27,-629.9 236.81,-630.96 229.24,-623.56 226.27,-629.9\"/>\n</g>\n<!-- 140154801845872 -->\n<g id=\"node150\" class=\"node\">\n<title>140154801845872</title>\n<polygon fill=\"none\" stroke=\"black\" points=\"993,-338.5 993,-374.5 1180,-374.5 1180,-338.5 993,-338.5\"/>\n<text text-anchor=\"middle\" x=\"1003\" y=\"-352.8\" font-family=\"Times,serif\" font-size=\"14.00\"> </text>\n<polyline fill=\"none\" stroke=\"black\" points=\"1013,-338.5 1013,-374.5 \"/>\n<text text-anchor=\"middle\" x=\"1055.5\" y=\"-352.8\" font-family=\"Times,serif\" font-size=\"14.00\">data &#45;0.6001</text>\n<polyline fill=\"none\" stroke=\"black\" points=\"1098,-338.5 1098,-374.5 \"/>\n<text text-anchor=\"middle\" x=\"1139\" y=\"-352.8\" font-family=\"Times,serif\" font-size=\"14.00\">grad 0.0000</text>\n</g>\n<!-- 140154801845872&#45;&gt;140154801846064+ -->\n<g id=\"edge186\" class=\"edge\">\n<title>140154801845872&#45;&gt;140154801846064+</title>\n<path fill=\"none\" stroke=\"black\" d=\"M1123.79,-374.7C1152.9,-389.3 1193.31,-409.56 1220.71,-423.31\"/>\n<polygon fill=\"black\" stroke=\"black\" points=\"1219.31,-426.52 1229.82,-427.88 1222.45,-420.27 1219.31,-426.52\"/>\n</g>\n<!-- 140154801845872*&#45;&gt;140154801845872 -->\n<g id=\"edge53\" class=\"edge\">\n<title>140154801845872*&#45;&gt;140154801845872</title>\n<path fill=\"none\" stroke=\"black\" d=\"M948.27,-355.66C958.1,-355.72 969.95,-355.79 982.53,-355.87\"/>\n<polygon fill=\"black\" stroke=\"black\" points=\"982.72,-359.37 992.74,-355.93 982.77,-352.37 982.72,-359.37\"/>\n</g>\n<!-- 140154801895072 -->\n<g id=\"node152\" class=\"node\">\n<title>140154801895072</title>\n<polygon fill=\"none\" stroke=\"black\" points=\"5507,-365.5 5507,-401.5 5689,-401.5 5689,-365.5 5507,-365.5\"/>\n<text text-anchor=\"middle\" x=\"5517\" y=\"-379.8\" font-family=\"Times,serif\" font-size=\"14.00\"> </text>\n<polyline fill=\"none\" stroke=\"black\" points=\"5527,-365.5 5527,-401.5 \"/>\n<text text-anchor=\"middle\" x=\"5567\" y=\"-379.8\" font-family=\"Times,serif\" font-size=\"14.00\">data 0.0885</text>\n<polyline fill=\"none\" stroke=\"black\" points=\"5607,-365.5 5607,-401.5 \"/>\n<text text-anchor=\"middle\" x=\"5648\" y=\"-379.8\" font-family=\"Times,serif\" font-size=\"14.00\">grad 0.0000</text>\n</g>\n<!-- 140154801895072tanh&#45;&gt;140154801895072 -->\n<g id=\"edge54\" class=\"edge\">\n<title>140154801895072tanh&#45;&gt;140154801895072</title>\n<path fill=\"none\" stroke=\"black\" d=\"M5471.13,-383.5C5478.67,-383.5 5487.39,-383.5 5496.64,-383.5\"/>\n<polygon fill=\"black\" stroke=\"black\" points=\"5496.87,-387 5506.87,-383.5 5496.87,-380 5496.87,-387\"/>\n</g>\n<!-- 140154801813152 -->\n<g id=\"node154\" class=\"node\">\n<title>140154801813152</title>\n<polygon fill=\"none\" stroke=\"black\" points=\"333.5,-678.5 333.5,-714.5 515.5,-714.5 515.5,-678.5 333.5,-678.5\"/>\n<text text-anchor=\"middle\" x=\"343.5\" y=\"-692.8\" font-family=\"Times,serif\" font-size=\"14.00\"> </text>\n<polyline fill=\"none\" stroke=\"black\" points=\"353.5,-678.5 353.5,-714.5 \"/>\n<text text-anchor=\"middle\" x=\"393.5\" y=\"-692.8\" font-family=\"Times,serif\" font-size=\"14.00\">data 0.6251</text>\n<polyline fill=\"none\" stroke=\"black\" points=\"433.5,-678.5 433.5,-714.5 \"/>\n<text text-anchor=\"middle\" x=\"474.5\" y=\"-692.8\" font-family=\"Times,serif\" font-size=\"14.00\">grad 0.0000</text>\n</g>\n<!-- 140154801813152&#45;&gt;140154801812864+ -->\n<g id=\"edge139\" class=\"edge\">\n<title>140154801813152&#45;&gt;140154801812864+</title>\n<path fill=\"none\" stroke=\"black\" d=\"M496.07,-678.42C506.51,-675.35 517.09,-672 527,-668.5 537.29,-664.86 548.29,-660.3 558.12,-655.97\"/>\n<polygon fill=\"black\" stroke=\"black\" points=\"559.81,-659.05 567.49,-651.76 556.94,-652.67 559.81,-659.05\"/>\n</g>\n<!-- 140154801813152*&#45;&gt;140154801813152 -->\n<g id=\"edge55\" class=\"edge\">\n<title>140154801813152*&#45;&gt;140154801813152</title>\n<path fill=\"none\" stroke=\"black\" d=\"M286.27,-696.5C296.7,-696.5 309.41,-696.5 322.84,-696.5\"/>\n<polygon fill=\"black\" stroke=\"black\" points=\"323.23,-700 333.23,-696.5 323.23,-693 323.23,-700\"/>\n</g>\n<!-- 140154801813200 -->\n<g id=\"node156\" class=\"node\">\n<title>140154801813200</title>\n<polygon fill=\"none\" stroke=\"black\" points=\"333.5,-623.5 333.5,-659.5 515.5,-659.5 515.5,-623.5 333.5,-623.5\"/>\n<text text-anchor=\"middle\" x=\"343.5\" y=\"-637.8\" font-family=\"Times,serif\" font-size=\"14.00\"> </text>\n<polyline fill=\"none\" stroke=\"black\" points=\"353.5,-623.5 353.5,-659.5 \"/>\n<text text-anchor=\"middle\" x=\"393.5\" y=\"-637.8\" font-family=\"Times,serif\" font-size=\"14.00\">data 2.4738</text>\n<polyline fill=\"none\" stroke=\"black\" points=\"433.5,-623.5 433.5,-659.5 \"/>\n<text text-anchor=\"middle\" x=\"474.5\" y=\"-637.8\" font-family=\"Times,serif\" font-size=\"14.00\">grad 0.0000</text>\n</g>\n<!-- 140154801813200&#45;&gt;140154801812864+ -->\n<g id=\"edge185\" class=\"edge\">\n<title>140154801813200&#45;&gt;140154801812864+</title>\n<path fill=\"none\" stroke=\"black\" d=\"M515.86,-641.5C528.84,-641.5 541.53,-641.5 552.6,-641.5\"/>\n<polygon fill=\"black\" stroke=\"black\" points=\"552.67,-645 562.67,-641.5 552.67,-638 552.67,-645\"/>\n</g>\n<!-- 140154801813200*&#45;&gt;140154801813200 -->\n<g id=\"edge56\" class=\"edge\">\n<title>140154801813200*&#45;&gt;140154801813200</title>\n<path fill=\"none\" stroke=\"black\" d=\"M286.27,-641.5C296.7,-641.5 309.41,-641.5 322.84,-641.5\"/>\n<polygon fill=\"black\" stroke=\"black\" points=\"323.23,-645 333.23,-641.5 323.23,-638 323.23,-645\"/>\n</g>\n<!-- 140154801846064 -->\n<g id=\"node158\" class=\"node\">\n<title>140154801846064</title>\n<polygon fill=\"none\" stroke=\"black\" points=\"1317.5,-423.5 1317.5,-459.5 1499.5,-459.5 1499.5,-423.5 1317.5,-423.5\"/>\n<text text-anchor=\"middle\" x=\"1327.5\" y=\"-437.8\" font-family=\"Times,serif\" font-size=\"14.00\"> </text>\n<polyline fill=\"none\" stroke=\"black\" points=\"1337.5,-423.5 1337.5,-459.5 \"/>\n<text text-anchor=\"middle\" x=\"1377.5\" y=\"-437.8\" font-family=\"Times,serif\" font-size=\"14.00\">data 0.8239</text>\n<polyline fill=\"none\" stroke=\"black\" points=\"1417.5,-423.5 1417.5,-459.5 \"/>\n<text text-anchor=\"middle\" x=\"1458.5\" y=\"-437.8\" font-family=\"Times,serif\" font-size=\"14.00\">grad 0.0000</text>\n</g>\n<!-- 140154801846064&#45;&gt;140154801846256+ -->\n<g id=\"edge109\" class=\"edge\">\n<title>140154801846064&#45;&gt;140154801846256+</title>\n<path fill=\"none\" stroke=\"black\" d=\"M1499.82,-441.5C1509.57,-441.5 1519.04,-441.5 1527.57,-441.5\"/>\n<polygon fill=\"black\" stroke=\"black\" points=\"1527.83,-445 1537.83,-441.5 1527.83,-438 1527.83,-445\"/>\n</g>\n<!-- 140154801846064+&#45;&gt;140154801846064 -->\n<g id=\"edge57\" class=\"edge\">\n<title>140154801846064+&#45;&gt;140154801846064</title>\n<path fill=\"none\" stroke=\"black\" d=\"M1279.21,-439.01C1287.34,-439.17 1296.85,-439.35 1306.94,-439.55\"/>\n<polygon fill=\"black\" stroke=\"black\" points=\"1307.12,-443.05 1317.19,-439.75 1307.26,-436.05 1307.12,-443.05\"/>\n</g>\n<!-- 140154801813296 -->\n<g id=\"node160\" class=\"node\">\n<title>140154801813296</title>\n<polygon fill=\"none\" stroke=\"black\" points=\"0,-678.5 0,-714.5 196,-714.5 196,-678.5 0,-678.5\"/>\n<text text-anchor=\"middle\" x=\"17\" y=\"-692.8\" font-family=\"Times,serif\" font-size=\"14.00\">2.0</text>\n<polyline fill=\"none\" stroke=\"black\" points=\"34,-678.5 34,-714.5 \"/>\n<text text-anchor=\"middle\" x=\"74\" y=\"-692.8\" font-family=\"Times,serif\" font-size=\"14.00\">data 2.0000</text>\n<polyline fill=\"none\" stroke=\"black\" points=\"114,-678.5 114,-714.5 \"/>\n<text text-anchor=\"middle\" x=\"155\" y=\"-692.8\" font-family=\"Times,serif\" font-size=\"14.00\">grad 0.0000</text>\n</g>\n<!-- 140154801813296&#45;&gt;140154801813152* -->\n<g id=\"edge136\" class=\"edge\">\n<title>140154801813296&#45;&gt;140154801813152*</title>\n<path fill=\"none\" stroke=\"black\" d=\"M196.07,-696.5C205.05,-696.5 213.71,-696.5 221.57,-696.5\"/>\n<polygon fill=\"black\" stroke=\"black\" points=\"221.75,-700 231.75,-696.5 221.75,-693 221.75,-700\"/>\n</g>\n<!-- 140154801846256 -->\n<g id=\"node161\" class=\"node\">\n<title>140154801846256</title>\n<polygon fill=\"none\" stroke=\"black\" points=\"1630.5,-425.5 1630.5,-461.5 1812.5,-461.5 1812.5,-425.5 1630.5,-425.5\"/>\n<text text-anchor=\"middle\" x=\"1640.5\" y=\"-439.8\" font-family=\"Times,serif\" font-size=\"14.00\"> </text>\n<polyline fill=\"none\" stroke=\"black\" points=\"1650.5,-425.5 1650.5,-461.5 \"/>\n<text text-anchor=\"middle\" x=\"1690.5\" y=\"-439.8\" font-family=\"Times,serif\" font-size=\"14.00\">data 1.1514</text>\n<polyline fill=\"none\" stroke=\"black\" points=\"1730.5,-425.5 1730.5,-461.5 \"/>\n<text text-anchor=\"middle\" x=\"1771.5\" y=\"-439.8\" font-family=\"Times,serif\" font-size=\"14.00\">grad 0.0000</text>\n</g>\n<!-- 140154801846496tanh -->\n<g id=\"node164\" class=\"node\">\n<title>140154801846496tanh</title>\n<ellipse fill=\"none\" stroke=\"black\" cx=\"1878\" cy=\"-450.5\" rx=\"27\" ry=\"18\"/>\n<text text-anchor=\"middle\" x=\"1878\" y=\"-446.8\" font-family=\"Times,serif\" font-size=\"14.00\">tanh</text>\n</g>\n<!-- 140154801846256&#45;&gt;140154801846496tanh -->\n<g id=\"edge133\" class=\"edge\">\n<title>140154801846256&#45;&gt;140154801846496tanh</title>\n<path fill=\"none\" stroke=\"black\" d=\"M1812.82,-447.59C1822.57,-448.03 1832.04,-448.46 1840.57,-448.85\"/>\n<polygon fill=\"black\" stroke=\"black\" points=\"1840.68,-452.36 1850.83,-449.31 1841,-445.37 1840.68,-452.36\"/>\n</g>\n<!-- 140154801846256+&#45;&gt;140154801846256 -->\n<g id=\"edge58\" class=\"edge\">\n<title>140154801846256+&#45;&gt;140154801846256</title>\n<path fill=\"none\" stroke=\"black\" d=\"M1592.21,-441.84C1600.34,-441.94 1609.85,-442.07 1619.94,-442.2\"/>\n<polygon fill=\"black\" stroke=\"black\" points=\"1620.15,-445.7 1630.19,-442.33 1620.24,-438.7 1620.15,-445.7\"/>\n</g>\n<!-- 140154801846496 -->\n<g id=\"node163\" class=\"node\">\n<title>140154801846496</title>\n<polygon fill=\"none\" stroke=\"black\" points=\"1943.5,-439.5 1943.5,-475.5 2125.5,-475.5 2125.5,-439.5 1943.5,-439.5\"/>\n<text text-anchor=\"middle\" x=\"1953.5\" y=\"-453.8\" font-family=\"Times,serif\" font-size=\"14.00\"> </text>\n<polyline fill=\"none\" stroke=\"black\" points=\"1963.5,-439.5 1963.5,-475.5 \"/>\n<text text-anchor=\"middle\" x=\"2003.5\" y=\"-453.8\" font-family=\"Times,serif\" font-size=\"14.00\">data 0.8182</text>\n<polyline fill=\"none\" stroke=\"black\" points=\"2043.5,-439.5 2043.5,-475.5 \"/>\n<text text-anchor=\"middle\" x=\"2084.5\" y=\"-453.8\" font-family=\"Times,serif\" font-size=\"14.00\">grad 0.0000</text>\n</g>\n<!-- 140154801846496&#45;&gt;140154801881824* -->\n<g id=\"edge152\" class=\"edge\">\n<title>140154801846496&#45;&gt;140154801881824*</title>\n<path fill=\"none\" stroke=\"black\" d=\"M2110.64,-439.32C2116.75,-436.49 2122.63,-433.24 2128,-429.5 2148.7,-415.07 2165.44,-391.58 2176.29,-373.43\"/>\n<polygon fill=\"black\" stroke=\"black\" points=\"2179.47,-374.91 2181.41,-364.5 2173.4,-371.43 2179.47,-374.91\"/>\n</g>\n<!-- 140154801846496&#45;&gt;140154801857344* -->\n<g id=\"edge203\" class=\"edge\">\n<title>140154801846496&#45;&gt;140154801857344*</title>\n<path fill=\"none\" stroke=\"black\" d=\"M2125.82,-457.5C2135.57,-457.5 2145.04,-457.5 2153.57,-457.5\"/>\n<polygon fill=\"black\" stroke=\"black\" points=\"2153.83,-461 2163.83,-457.5 2153.83,-454 2153.83,-461\"/>\n</g>\n<!-- 140154801846496&#45;&gt;140154801883792* -->\n<g id=\"edge173\" class=\"edge\">\n<title>140154801846496&#45;&gt;140154801883792*</title>\n<path fill=\"none\" stroke=\"black\" d=\"M2116.56,-475.51C2120.69,-478.11 2124.54,-481.09 2128,-484.5 2166.75,-522.69 2144.32,-550.78 2164,-601.5 2167.7,-611.05 2172.33,-621.25 2176.65,-630.24\"/>\n<polygon fill=\"black\" stroke=\"black\" points=\"2173.61,-632 2181.16,-639.44 2179.9,-628.92 2173.61,-632\"/>\n</g>\n<!-- 140154801846496&#45;&gt;140154801859312* -->\n<g id=\"edge90\" class=\"edge\">\n<title>140154801846496&#45;&gt;140154801859312*</title>\n<path fill=\"none\" stroke=\"black\" d=\"M2101.56,-475.55C2110.51,-478.36 2119.53,-481.37 2128,-484.5 2138.49,-488.38 2149.71,-493.22 2159.68,-497.78\"/>\n<polygon fill=\"black\" stroke=\"black\" points=\"2158.25,-500.98 2168.79,-502.03 2161.2,-494.63 2158.25,-500.98\"/>\n</g>\n<!-- 140154801846496tanh&#45;&gt;140154801846496 -->\n<g id=\"edge59\" class=\"edge\">\n<title>140154801846496tanh&#45;&gt;140154801846496</title>\n<path fill=\"none\" stroke=\"black\" d=\"M1905.21,-451.69C1913.34,-452.06 1922.85,-452.49 1932.94,-452.94\"/>\n<polygon fill=\"black\" stroke=\"black\" points=\"1933.04,-456.45 1943.19,-453.41 1933.36,-449.46 1933.04,-456.45\"/>\n</g>\n<!-- 140154801813728 -->\n<g id=\"node165\" class=\"node\">\n<title>140154801813728</title>\n<polygon fill=\"none\" stroke=\"black\" points=\"664.5,-568.5 664.5,-604.5 846.5,-604.5 846.5,-568.5 664.5,-568.5\"/>\n<text text-anchor=\"middle\" x=\"674.5\" y=\"-582.8\" font-family=\"Times,serif\" font-size=\"14.00\"> </text>\n<polyline fill=\"none\" stroke=\"black\" points=\"684.5,-568.5 684.5,-604.5 \"/>\n<text text-anchor=\"middle\" x=\"724.5\" y=\"-582.8\" font-family=\"Times,serif\" font-size=\"14.00\">data 0.7814</text>\n<polyline fill=\"none\" stroke=\"black\" points=\"764.5,-568.5 764.5,-604.5 \"/>\n<text text-anchor=\"middle\" x=\"805.5\" y=\"-582.8\" font-family=\"Times,serif\" font-size=\"14.00\">grad 0.0000</text>\n</g>\n<!-- 140154801813728&#45;&gt;140154801813968+ -->\n<g id=\"edge199\" class=\"edge\">\n<title>140154801813728&#45;&gt;140154801813968+</title>\n<path fill=\"none\" stroke=\"black\" d=\"M846.86,-593.13C859.95,-594.09 872.75,-595.03 883.89,-595.85\"/>\n<polygon fill=\"black\" stroke=\"black\" points=\"883.78,-599.35 894.01,-596.59 884.29,-592.37 883.78,-599.35\"/>\n</g>\n<!-- 140154801813728*&#45;&gt;140154801813728 -->\n<g id=\"edge60\" class=\"edge\">\n<title>140154801813728*&#45;&gt;140154801813728</title>\n<path fill=\"none\" stroke=\"black\" d=\"M617.27,-586.5C627.7,-586.5 640.41,-586.5 653.84,-586.5\"/>\n<polygon fill=\"black\" stroke=\"black\" points=\"654.23,-590 664.23,-586.5 654.23,-583 654.23,-590\"/>\n</g>\n<!-- 140154801813776 -->\n<g id=\"node167\" class=\"node\">\n<title>140154801813776</title>\n<polygon fill=\"none\" stroke=\"black\" points=\"322,-513.5 322,-549.5 527,-549.5 527,-513.5 322,-513.5\"/>\n<text text-anchor=\"middle\" x=\"341\" y=\"-527.8\" font-family=\"Times,serif\" font-size=\"14.00\">&#45;1.0</text>\n<polyline fill=\"none\" stroke=\"black\" points=\"360,-513.5 360,-549.5 \"/>\n<text text-anchor=\"middle\" x=\"402.5\" y=\"-527.8\" font-family=\"Times,serif\" font-size=\"14.00\">data &#45;1.0000</text>\n<polyline fill=\"none\" stroke=\"black\" points=\"445,-513.5 445,-549.5 \"/>\n<text text-anchor=\"middle\" x=\"486\" y=\"-527.8\" font-family=\"Times,serif\" font-size=\"14.00\">grad 0.0000</text>\n</g>\n<!-- 140154801813776&#45;&gt;140154801813728* -->\n<g id=\"edge82\" class=\"edge\">\n<title>140154801813776&#45;&gt;140154801813728*</title>\n<path fill=\"none\" stroke=\"black\" d=\"M499.12,-549.55C508.58,-552.32 518.07,-555.32 527,-558.5 537.54,-562.25 548.77,-567.06 558.73,-571.63\"/>\n<polygon fill=\"black\" stroke=\"black\" points=\"557.3,-574.82 567.84,-575.9 560.27,-568.49 557.3,-574.82\"/>\n</g>\n<!-- 140154801846736 -->\n<g id=\"node168\" class=\"node\">\n<title>140154801846736</title>\n<polygon fill=\"none\" stroke=\"black\" points=\"657.5,-165.5 657.5,-201.5 853.5,-201.5 853.5,-165.5 657.5,-165.5\"/>\n<text text-anchor=\"middle\" x=\"674.5\" y=\"-179.8\" font-family=\"Times,serif\" font-size=\"14.00\">2.0</text>\n<polyline fill=\"none\" stroke=\"black\" points=\"691.5,-165.5 691.5,-201.5 \"/>\n<text text-anchor=\"middle\" x=\"731.5\" y=\"-179.8\" font-family=\"Times,serif\" font-size=\"14.00\">data 2.0000</text>\n<polyline fill=\"none\" stroke=\"black\" points=\"771.5,-165.5 771.5,-201.5 \"/>\n<text text-anchor=\"middle\" x=\"812.5\" y=\"-179.8\" font-family=\"Times,serif\" font-size=\"14.00\">grad 0.0000</text>\n</g>\n<!-- 140154801846736&#45;&gt;140154801846784* -->\n<g id=\"edge145\" class=\"edge\">\n<title>140154801846736&#45;&gt;140154801846784*</title>\n<path fill=\"none\" stroke=\"black\" d=\"M853.97,-183.5C864.49,-183.5 874.65,-183.5 883.71,-183.5\"/>\n<polygon fill=\"black\" stroke=\"black\" points=\"883.81,-187 893.81,-183.5 883.81,-180 883.81,-187\"/>\n</g>\n<!-- 140154801813968 -->\n<g id=\"node169\" class=\"node\">\n<title>140154801813968</title>\n<polygon fill=\"none\" stroke=\"black\" points=\"995.5,-580.5 995.5,-616.5 1177.5,-616.5 1177.5,-580.5 995.5,-580.5\"/>\n<text text-anchor=\"middle\" x=\"1005.5\" y=\"-594.8\" font-family=\"Times,serif\" font-size=\"14.00\"> </text>\n<polyline fill=\"none\" stroke=\"black\" points=\"1015.5,-580.5 1015.5,-616.5 \"/>\n<text text-anchor=\"middle\" x=\"1055.5\" y=\"-594.8\" font-family=\"Times,serif\" font-size=\"14.00\">data 3.8804</text>\n<polyline fill=\"none\" stroke=\"black\" points=\"1095.5,-580.5 1095.5,-616.5 \"/>\n<text text-anchor=\"middle\" x=\"1136.5\" y=\"-594.8\" font-family=\"Times,serif\" font-size=\"14.00\">grad 0.0000</text>\n</g>\n<!-- 140154801813968&#45;&gt;140154801814160+ -->\n<g id=\"edge171\" class=\"edge\">\n<title>140154801813968&#45;&gt;140154801814160+</title>\n<path fill=\"none\" stroke=\"black\" d=\"M1177.86,-611.76C1191.07,-613.7 1203.97,-615.6 1215.17,-617.24\"/>\n<polygon fill=\"black\" stroke=\"black\" points=\"1214.94,-620.74 1225.35,-618.73 1215.96,-613.82 1214.94,-620.74\"/>\n</g>\n<!-- 140154801813968+&#45;&gt;140154801813968 -->\n<g id=\"edge61\" class=\"edge\">\n<title>140154801813968+&#45;&gt;140154801813968</title>\n<path fill=\"none\" stroke=\"black\" d=\"M948.27,-598.5C958.7,-598.5 971.41,-598.5 984.84,-598.5\"/>\n<polygon fill=\"black\" stroke=\"black\" points=\"985.23,-602 995.23,-598.5 985.23,-595 985.23,-602\"/>\n</g>\n<!-- 140154801846784 -->\n<g id=\"node171\" class=\"node\">\n<title>140154801846784</title>\n<polygon fill=\"none\" stroke=\"black\" points=\"995.5,-165.5 995.5,-201.5 1177.5,-201.5 1177.5,-165.5 995.5,-165.5\"/>\n<text text-anchor=\"middle\" x=\"1005.5\" y=\"-179.8\" font-family=\"Times,serif\" font-size=\"14.00\"> </text>\n<polyline fill=\"none\" stroke=\"black\" points=\"1015.5,-165.5 1015.5,-201.5 \"/>\n<text text-anchor=\"middle\" x=\"1055.5\" y=\"-179.8\" font-family=\"Times,serif\" font-size=\"14.00\">data 1.3300</text>\n<polyline fill=\"none\" stroke=\"black\" points=\"1095.5,-165.5 1095.5,-201.5 \"/>\n<text text-anchor=\"middle\" x=\"1136.5\" y=\"-179.8\" font-family=\"Times,serif\" font-size=\"14.00\">grad 0.0000</text>\n</g>\n<!-- 140154801847264+ -->\n<g id=\"node181\" class=\"node\">\n<title>140154801847264+</title>\n<ellipse fill=\"none\" stroke=\"black\" cx=\"1252\" cy=\"-128.5\" rx=\"27\" ry=\"18\"/>\n<text text-anchor=\"middle\" x=\"1252\" y=\"-124.8\" font-family=\"Times,serif\" font-size=\"14.00\">+</text>\n</g>\n<!-- 140154801846784&#45;&gt;140154801847264+ -->\n<g id=\"edge170\" class=\"edge\">\n<title>140154801846784&#45;&gt;140154801847264+</title>\n<path fill=\"none\" stroke=\"black\" d=\"M1158.07,-165.42C1168.51,-162.35 1179.09,-159 1189,-155.5 1199.29,-151.86 1210.29,-147.3 1220.12,-142.97\"/>\n<polygon fill=\"black\" stroke=\"black\" points=\"1221.81,-146.05 1229.49,-138.76 1218.94,-139.67 1221.81,-146.05\"/>\n</g>\n<!-- 140154801846784*&#45;&gt;140154801846784 -->\n<g id=\"edge62\" class=\"edge\">\n<title>140154801846784*&#45;&gt;140154801846784</title>\n<path fill=\"none\" stroke=\"black\" d=\"M948.27,-183.5C958.7,-183.5 971.41,-183.5 984.84,-183.5\"/>\n<polygon fill=\"black\" stroke=\"black\" points=\"985.23,-187 995.23,-183.5 985.23,-180 985.23,-187\"/>\n</g>\n<!-- 140154801814160 -->\n<g id=\"node173\" class=\"node\">\n<title>140154801814160</title>\n<polygon fill=\"none\" stroke=\"black\" points=\"1317.5,-604.5 1317.5,-640.5 1499.5,-640.5 1499.5,-604.5 1317.5,-604.5\"/>\n<text text-anchor=\"middle\" x=\"1327.5\" y=\"-618.8\" font-family=\"Times,serif\" font-size=\"14.00\"> </text>\n<polyline fill=\"none\" stroke=\"black\" points=\"1337.5,-604.5 1337.5,-640.5 \"/>\n<text text-anchor=\"middle\" x=\"1377.5\" y=\"-618.8\" font-family=\"Times,serif\" font-size=\"14.00\">data 4.5212</text>\n<polyline fill=\"none\" stroke=\"black\" points=\"1417.5,-604.5 1417.5,-640.5 \"/>\n<text text-anchor=\"middle\" x=\"1458.5\" y=\"-618.8\" font-family=\"Times,serif\" font-size=\"14.00\">grad 0.0000</text>\n</g>\n<!-- 140154801814400tanh -->\n<g id=\"node179\" class=\"node\">\n<title>140154801814400tanh</title>\n<ellipse fill=\"none\" stroke=\"black\" cx=\"1565\" cy=\"-622.5\" rx=\"27\" ry=\"18\"/>\n<text text-anchor=\"middle\" x=\"1565\" y=\"-618.8\" font-family=\"Times,serif\" font-size=\"14.00\">tanh</text>\n</g>\n<!-- 140154801814160&#45;&gt;140154801814400tanh -->\n<g id=\"edge204\" class=\"edge\">\n<title>140154801814160&#45;&gt;140154801814400tanh</title>\n<path fill=\"none\" stroke=\"black\" d=\"M1499.82,-622.5C1509.57,-622.5 1519.04,-622.5 1527.57,-622.5\"/>\n<polygon fill=\"black\" stroke=\"black\" points=\"1527.83,-626 1537.83,-622.5 1527.83,-619 1527.83,-626\"/>\n</g>\n<!-- 140154801814160+&#45;&gt;140154801814160 -->\n<g id=\"edge63\" class=\"edge\">\n<title>140154801814160+&#45;&gt;140154801814160</title>\n<path fill=\"none\" stroke=\"black\" d=\"M1279.21,-622.5C1287.34,-622.5 1296.85,-622.5 1306.94,-622.5\"/>\n<polygon fill=\"black\" stroke=\"black\" points=\"1307.19,-626 1317.19,-622.5 1307.19,-619 1307.19,-626\"/>\n</g>\n<!-- 140154801847024 -->\n<g id=\"node175\" class=\"node\">\n<title>140154801847024</title>\n<polygon fill=\"none\" stroke=\"black\" points=\"657.5,-55.5 657.5,-91.5 853.5,-91.5 853.5,-55.5 657.5,-55.5\"/>\n<text text-anchor=\"middle\" x=\"674.5\" y=\"-69.8\" font-family=\"Times,serif\" font-size=\"14.00\">3.0</text>\n<polyline fill=\"none\" stroke=\"black\" points=\"691.5,-55.5 691.5,-91.5 \"/>\n<text text-anchor=\"middle\" x=\"731.5\" y=\"-69.8\" font-family=\"Times,serif\" font-size=\"14.00\">data 3.0000</text>\n<polyline fill=\"none\" stroke=\"black\" points=\"771.5,-55.5 771.5,-91.5 \"/>\n<text text-anchor=\"middle\" x=\"812.5\" y=\"-69.8\" font-family=\"Times,serif\" font-size=\"14.00\">grad 0.0000</text>\n</g>\n<!-- 140154801847024&#45;&gt;140154801847072* -->\n<g id=\"edge121\" class=\"edge\">\n<title>140154801847024&#45;&gt;140154801847072*</title>\n<path fill=\"none\" stroke=\"black\" d=\"M830.12,-91.55C839.58,-94.32 849.07,-97.32 858,-100.5 868.54,-104.25 879.77,-109.06 889.73,-113.63\"/>\n<polygon fill=\"black\" stroke=\"black\" points=\"888.3,-116.82 898.84,-117.9 891.27,-110.49 888.3,-116.82\"/>\n</g>\n<!-- 140154801847072 -->\n<g id=\"node176\" class=\"node\">\n<title>140154801847072</title>\n<polygon fill=\"none\" stroke=\"black\" points=\"995.5,-110.5 995.5,-146.5 1177.5,-146.5 1177.5,-110.5 995.5,-110.5\"/>\n<text text-anchor=\"middle\" x=\"1005.5\" y=\"-124.8\" font-family=\"Times,serif\" font-size=\"14.00\"> </text>\n<polyline fill=\"none\" stroke=\"black\" points=\"1015.5,-110.5 1015.5,-146.5 \"/>\n<text text-anchor=\"middle\" x=\"1055.5\" y=\"-124.8\" font-family=\"Times,serif\" font-size=\"14.00\">data 0.5667</text>\n<polyline fill=\"none\" stroke=\"black\" points=\"1095.5,-110.5 1095.5,-146.5 \"/>\n<text text-anchor=\"middle\" x=\"1136.5\" y=\"-124.8\" font-family=\"Times,serif\" font-size=\"14.00\">grad 0.0000</text>\n</g>\n<!-- 140154801847072&#45;&gt;140154801847264+ -->\n<g id=\"edge105\" class=\"edge\">\n<title>140154801847072&#45;&gt;140154801847264+</title>\n<path fill=\"none\" stroke=\"black\" d=\"M1177.86,-128.5C1190.84,-128.5 1203.53,-128.5 1214.6,-128.5\"/>\n<polygon fill=\"black\" stroke=\"black\" points=\"1214.67,-132 1224.67,-128.5 1214.67,-125 1214.67,-132\"/>\n</g>\n<!-- 140154801847072*&#45;&gt;140154801847072 -->\n<g id=\"edge64\" class=\"edge\">\n<title>140154801847072*&#45;&gt;140154801847072</title>\n<path fill=\"none\" stroke=\"black\" d=\"M948.27,-128.5C958.7,-128.5 971.41,-128.5 984.84,-128.5\"/>\n<polygon fill=\"black\" stroke=\"black\" points=\"985.23,-132 995.23,-128.5 985.23,-125 985.23,-132\"/>\n</g>\n<!-- 140154801814400 -->\n<g id=\"node178\" class=\"node\">\n<title>140154801814400</title>\n<polygon fill=\"none\" stroke=\"black\" points=\"1630.5,-604.5 1630.5,-640.5 1812.5,-640.5 1812.5,-604.5 1630.5,-604.5\"/>\n<text text-anchor=\"middle\" x=\"1640.5\" y=\"-618.8\" font-family=\"Times,serif\" font-size=\"14.00\"> </text>\n<polyline fill=\"none\" stroke=\"black\" points=\"1650.5,-604.5 1650.5,-640.5 \"/>\n<text text-anchor=\"middle\" x=\"1690.5\" y=\"-618.8\" font-family=\"Times,serif\" font-size=\"14.00\">data 0.9998</text>\n<polyline fill=\"none\" stroke=\"black\" points=\"1730.5,-604.5 1730.5,-640.5 \"/>\n<text text-anchor=\"middle\" x=\"1771.5\" y=\"-618.8\" font-family=\"Times,serif\" font-size=\"14.00\">grad 0.0000</text>\n</g>\n<!-- 140154801814400&#45;&gt;140154801881152* -->\n<g id=\"edge155\" class=\"edge\">\n<title>140154801814400&#45;&gt;140154801881152*</title>\n<path fill=\"none\" stroke=\"black\" d=\"M1804.25,-604.22C1808.21,-601.42 1811.84,-598.2 1815,-594.5 1852.9,-550.16 1838.24,-391.42 1851,-334.5 1855.23,-315.64 1861.73,-294.9 1867.17,-278.87\"/>\n<polygon fill=\"black\" stroke=\"black\" points=\"1870.59,-279.67 1870.56,-269.08 1863.98,-277.38 1870.59,-279.67\"/>\n</g>\n<!-- 140154801814400&#45;&gt;140154801856672* -->\n<g id=\"edge208\" class=\"edge\">\n<title>140154801814400&#45;&gt;140154801856672*</title>\n<path fill=\"none\" stroke=\"black\" d=\"M1786.02,-604.35C1795.79,-601.24 1805.71,-597.92 1815,-594.5 1825.25,-590.73 1836.23,-586.14 1846.07,-581.82\"/>\n<polygon fill=\"black\" stroke=\"black\" points=\"1847.74,-584.9 1855.45,-577.63 1844.89,-578.51 1847.74,-584.9\"/>\n</g>\n<!-- 140154801814400&#45;&gt;140154801883120* -->\n<g id=\"edge178\" class=\"edge\">\n<title>140154801814400&#45;&gt;140154801883120*</title>\n<path fill=\"none\" stroke=\"black\" d=\"M1804.73,-640.73C1808.46,-643.29 1811.92,-646.2 1815,-649.5 1866.21,-704.38 1816.23,-747.98 1851,-814.5 1852.05,-816.51 1853.28,-818.48 1854.63,-820.38\"/>\n<polygon fill=\"black\" stroke=\"black\" points=\"1852.02,-822.72 1861.06,-828.25 1857.44,-818.29 1852.02,-822.72\"/>\n</g>\n<!-- 140154801814400&#45;&gt;140154801858640* -->\n<g id=\"edge96\" class=\"edge\">\n<title>140154801814400&#45;&gt;140154801858640*</title>\n<path fill=\"none\" stroke=\"black\" d=\"M1799.53,-640.66C1804.97,-643.23 1810.19,-646.16 1815,-649.5 1836.11,-664.15 1852.97,-688.3 1863.74,-706.78\"/>\n<polygon fill=\"black\" stroke=\"black\" points=\"1860.74,-708.57 1868.68,-715.59 1866.85,-705.15 1860.74,-708.57\"/>\n</g>\n<!-- 140154801814400tanh&#45;&gt;140154801814400 -->\n<g id=\"edge65\" class=\"edge\">\n<title>140154801814400tanh&#45;&gt;140154801814400</title>\n<path fill=\"none\" stroke=\"black\" d=\"M1592.21,-622.5C1600.34,-622.5 1609.85,-622.5 1619.94,-622.5\"/>\n<polygon fill=\"black\" stroke=\"black\" points=\"1620.19,-626 1630.19,-622.5 1620.19,-619 1620.19,-626\"/>\n</g>\n<!-- 140154801847264 -->\n<g id=\"node180\" class=\"node\">\n<title>140154801847264</title>\n<polygon fill=\"none\" stroke=\"black\" points=\"1317.5,-110.5 1317.5,-146.5 1499.5,-146.5 1499.5,-110.5 1317.5,-110.5\"/>\n<text text-anchor=\"middle\" x=\"1327.5\" y=\"-124.8\" font-family=\"Times,serif\" font-size=\"14.00\"> </text>\n<polyline fill=\"none\" stroke=\"black\" points=\"1337.5,-110.5 1337.5,-146.5 \"/>\n<text text-anchor=\"middle\" x=\"1377.5\" y=\"-124.8\" font-family=\"Times,serif\" font-size=\"14.00\">data 1.8968</text>\n<polyline fill=\"none\" stroke=\"black\" points=\"1417.5,-110.5 1417.5,-146.5 \"/>\n<text text-anchor=\"middle\" x=\"1458.5\" y=\"-124.8\" font-family=\"Times,serif\" font-size=\"14.00\">grad 0.0000</text>\n</g>\n<!-- 140154801847744+ -->\n<g id=\"node190\" class=\"node\">\n<title>140154801847744+</title>\n<ellipse fill=\"none\" stroke=\"black\" cx=\"1565\" cy=\"-128.5\" rx=\"27\" ry=\"18\"/>\n<text text-anchor=\"middle\" x=\"1565\" y=\"-124.8\" font-family=\"Times,serif\" font-size=\"14.00\">+</text>\n</g>\n<!-- 140154801847264&#45;&gt;140154801847744+ -->\n<g id=\"edge190\" class=\"edge\">\n<title>140154801847264&#45;&gt;140154801847744+</title>\n<path fill=\"none\" stroke=\"black\" d=\"M1499.82,-128.5C1509.57,-128.5 1519.04,-128.5 1527.57,-128.5\"/>\n<polygon fill=\"black\" stroke=\"black\" points=\"1527.83,-132 1537.83,-128.5 1527.83,-125 1527.83,-132\"/>\n</g>\n<!-- 140154801847264+&#45;&gt;140154801847264 -->\n<g id=\"edge66\" class=\"edge\">\n<title>140154801847264+&#45;&gt;140154801847264</title>\n<path fill=\"none\" stroke=\"black\" d=\"M1279.21,-128.5C1287.34,-128.5 1296.85,-128.5 1306.94,-128.5\"/>\n<polygon fill=\"black\" stroke=\"black\" points=\"1307.19,-132 1317.19,-128.5 1307.19,-125 1307.19,-132\"/>\n</g>\n<!-- 140154801814640 -->\n<g id=\"node182\" class=\"node\">\n<title>140154801814640</title>\n<polygon fill=\"none\" stroke=\"black\" points=\"0,-898.5 0,-934.5 196,-934.5 196,-898.5 0,-898.5\"/>\n<text text-anchor=\"middle\" x=\"17\" y=\"-912.8\" font-family=\"Times,serif\" font-size=\"14.00\">2.0</text>\n<polyline fill=\"none\" stroke=\"black\" points=\"34,-898.5 34,-934.5 \"/>\n<text text-anchor=\"middle\" x=\"74\" y=\"-912.8\" font-family=\"Times,serif\" font-size=\"14.00\">data 2.0000</text>\n<polyline fill=\"none\" stroke=\"black\" points=\"114,-898.5 114,-934.5 \"/>\n<text text-anchor=\"middle\" x=\"155\" y=\"-912.8\" font-family=\"Times,serif\" font-size=\"14.00\">grad 0.0000</text>\n</g>\n<!-- 140154801814640&#45;&gt;140154801814688* -->\n<g id=\"edge210\" class=\"edge\">\n<title>140154801814640&#45;&gt;140154801814688*</title>\n<path fill=\"none\" stroke=\"black\" d=\"M196.07,-916.5C205.05,-916.5 213.71,-916.5 221.57,-916.5\"/>\n<polygon fill=\"black\" stroke=\"black\" points=\"221.75,-920 231.75,-916.5 221.75,-913 221.75,-920\"/>\n</g>\n<!-- 140154801814688 -->\n<g id=\"node183\" class=\"node\">\n<title>140154801814688</title>\n<polygon fill=\"none\" stroke=\"black\" points=\"331,-898.5 331,-934.5 518,-934.5 518,-898.5 331,-898.5\"/>\n<text text-anchor=\"middle\" x=\"341\" y=\"-912.8\" font-family=\"Times,serif\" font-size=\"14.00\"> </text>\n<polyline fill=\"none\" stroke=\"black\" points=\"351,-898.5 351,-934.5 \"/>\n<text text-anchor=\"middle\" x=\"393.5\" y=\"-912.8\" font-family=\"Times,serif\" font-size=\"14.00\">data &#45;0.4050</text>\n<polyline fill=\"none\" stroke=\"black\" points=\"436,-898.5 436,-934.5 \"/>\n<text text-anchor=\"middle\" x=\"477\" y=\"-912.8\" font-family=\"Times,serif\" font-size=\"14.00\">grad 0.0000</text>\n</g>\n<!-- 140154801815168+ -->\n<g id=\"node196\" class=\"node\">\n<title>140154801815168+</title>\n<ellipse fill=\"none\" stroke=\"black\" cx=\"590\" cy=\"-861.5\" rx=\"27\" ry=\"18\"/>\n<text text-anchor=\"middle\" x=\"590\" y=\"-857.8\" font-family=\"Times,serif\" font-size=\"14.00\">+</text>\n</g>\n<!-- 140154801814688&#45;&gt;140154801815168+ -->\n<g id=\"edge143\" class=\"edge\">\n<title>140154801814688&#45;&gt;140154801815168+</title>\n<path fill=\"none\" stroke=\"black\" d=\"M499.12,-898.45C508.58,-895.68 518.07,-892.68 527,-889.5 537.54,-885.75 548.77,-880.94 558.73,-876.37\"/>\n<polygon fill=\"black\" stroke=\"black\" points=\"560.27,-879.51 567.84,-872.1 557.3,-873.18 560.27,-879.51\"/>\n</g>\n<!-- 140154801814688*&#45;&gt;140154801814688 -->\n<g id=\"edge67\" class=\"edge\">\n<title>140154801814688*&#45;&gt;140154801814688</title>\n<path fill=\"none\" stroke=\"black\" d=\"M286.27,-916.5C296.1,-916.5 307.95,-916.5 320.53,-916.5\"/>\n<polygon fill=\"black\" stroke=\"black\" points=\"320.74,-920 330.74,-916.5 320.74,-913 320.74,-920\"/>\n</g>\n<!-- 140154801847504 -->\n<g id=\"node185\" class=\"node\">\n<title>140154801847504</title>\n<polygon fill=\"none\" stroke=\"black\" points=\"984,-0.5 984,-36.5 1189,-36.5 1189,-0.5 984,-0.5\"/>\n<text text-anchor=\"middle\" x=\"1003\" y=\"-14.8\" font-family=\"Times,serif\" font-size=\"14.00\">&#45;1.0</text>\n<polyline fill=\"none\" stroke=\"black\" points=\"1022,-0.5 1022,-36.5 \"/>\n<text text-anchor=\"middle\" x=\"1064.5\" y=\"-14.8\" font-family=\"Times,serif\" font-size=\"14.00\">data &#45;1.0000</text>\n<polyline fill=\"none\" stroke=\"black\" points=\"1107,-0.5 1107,-36.5 \"/>\n<text text-anchor=\"middle\" x=\"1148\" y=\"-14.8\" font-family=\"Times,serif\" font-size=\"14.00\">grad 0.0000</text>\n</g>\n<!-- 140154801847504&#45;&gt;140154801847552* -->\n<g id=\"edge92\" class=\"edge\">\n<title>140154801847504&#45;&gt;140154801847552*</title>\n<path fill=\"none\" stroke=\"black\" d=\"M1161.12,-36.55C1170.58,-39.32 1180.07,-42.32 1189,-45.5 1199.54,-49.25 1210.77,-54.06 1220.73,-58.63\"/>\n<polygon fill=\"black\" stroke=\"black\" points=\"1219.3,-61.82 1229.84,-62.9 1222.27,-55.49 1219.3,-61.82\"/>\n</g>\n<!-- 140154801847552 -->\n<g id=\"node186\" class=\"node\">\n<title>140154801847552</title>\n<polygon fill=\"none\" stroke=\"black\" points=\"1317.5,-55.5 1317.5,-91.5 1499.5,-91.5 1499.5,-55.5 1317.5,-55.5\"/>\n<text text-anchor=\"middle\" x=\"1327.5\" y=\"-69.8\" font-family=\"Times,serif\" font-size=\"14.00\"> </text>\n<polyline fill=\"none\" stroke=\"black\" points=\"1337.5,-55.5 1337.5,-91.5 \"/>\n<text text-anchor=\"middle\" x=\"1377.5\" y=\"-69.8\" font-family=\"Times,serif\" font-size=\"14.00\">data 0.0781</text>\n<polyline fill=\"none\" stroke=\"black\" points=\"1417.5,-55.5 1417.5,-91.5 \"/>\n<text text-anchor=\"middle\" x=\"1458.5\" y=\"-69.8\" font-family=\"Times,serif\" font-size=\"14.00\">grad 0.0000</text>\n</g>\n<!-- 140154801847552&#45;&gt;140154801847744+ -->\n<g id=\"edge126\" class=\"edge\">\n<title>140154801847552&#45;&gt;140154801847744+</title>\n<path fill=\"none\" stroke=\"black\" d=\"M1475.56,-91.55C1484.51,-94.36 1493.53,-97.37 1502,-100.5 1512.49,-104.38 1523.71,-109.22 1533.68,-113.78\"/>\n<polygon fill=\"black\" stroke=\"black\" points=\"1532.25,-116.98 1542.79,-118.03 1535.2,-110.63 1532.25,-116.98\"/>\n</g>\n<!-- 140154801847552*&#45;&gt;140154801847552 -->\n<g id=\"edge68\" class=\"edge\">\n<title>140154801847552*&#45;&gt;140154801847552</title>\n<path fill=\"none\" stroke=\"black\" d=\"M1279.21,-73.5C1287.34,-73.5 1296.85,-73.5 1306.94,-73.5\"/>\n<polygon fill=\"black\" stroke=\"black\" points=\"1307.19,-77 1317.19,-73.5 1307.19,-70 1307.19,-77\"/>\n</g>\n<!-- 140154801814928 -->\n<g id=\"node188\" class=\"node\">\n<title>140154801814928</title>\n<polygon fill=\"none\" stroke=\"black\" points=\"0,-788.5 0,-824.5 196,-824.5 196,-788.5 0,-788.5\"/>\n<text text-anchor=\"middle\" x=\"17\" y=\"-802.8\" font-family=\"Times,serif\" font-size=\"14.00\">3.0</text>\n<polyline fill=\"none\" stroke=\"black\" points=\"34,-788.5 34,-824.5 \"/>\n<text text-anchor=\"middle\" x=\"74\" y=\"-802.8\" font-family=\"Times,serif\" font-size=\"14.00\">data 3.0000</text>\n<polyline fill=\"none\" stroke=\"black\" points=\"114,-788.5 114,-824.5 \"/>\n<text text-anchor=\"middle\" x=\"155\" y=\"-802.8\" font-family=\"Times,serif\" font-size=\"14.00\">grad 0.0000</text>\n</g>\n<!-- 140154801814928&#45;&gt;140154801814976* -->\n<g id=\"edge180\" class=\"edge\">\n<title>140154801814928&#45;&gt;140154801814976*</title>\n<path fill=\"none\" stroke=\"black\" d=\"M165.89,-824.57C176.05,-827.67 186.35,-831.02 196,-834.5 206.27,-838.2 217.26,-842.78 227.1,-847.1\"/>\n<polygon fill=\"black\" stroke=\"black\" points=\"225.91,-850.41 236.47,-851.3 228.78,-844.02 225.91,-850.41\"/>\n</g>\n<!-- 140154801847744 -->\n<g id=\"node189\" class=\"node\">\n<title>140154801847744</title>\n<polygon fill=\"none\" stroke=\"black\" points=\"1630.5,-110.5 1630.5,-146.5 1812.5,-146.5 1812.5,-110.5 1630.5,-110.5\"/>\n<text text-anchor=\"middle\" x=\"1640.5\" y=\"-124.8\" font-family=\"Times,serif\" font-size=\"14.00\"> </text>\n<polyline fill=\"none\" stroke=\"black\" points=\"1650.5,-110.5 1650.5,-146.5 \"/>\n<text text-anchor=\"middle\" x=\"1690.5\" y=\"-124.8\" font-family=\"Times,serif\" font-size=\"14.00\">data 1.9749</text>\n<polyline fill=\"none\" stroke=\"black\" points=\"1730.5,-110.5 1730.5,-146.5 \"/>\n<text text-anchor=\"middle\" x=\"1771.5\" y=\"-124.8\" font-family=\"Times,serif\" font-size=\"14.00\">grad 0.0000</text>\n</g>\n<!-- 140154801847744&#45;&gt;140154801847936+ -->\n<g id=\"edge176\" class=\"edge\">\n<title>140154801847744&#45;&gt;140154801847936+</title>\n<path fill=\"none\" stroke=\"black\" d=\"M1788.03,-146.5C1797.14,-149.34 1806.35,-152.37 1815,-155.5 1825.27,-159.22 1836.26,-163.8 1846.09,-168.12\"/>\n<polygon fill=\"black\" stroke=\"black\" points=\"1844.91,-171.43 1855.47,-172.32 1847.77,-165.04 1844.91,-171.43\"/>\n</g>\n<!-- 140154801847744+&#45;&gt;140154801847744 -->\n<g id=\"edge69\" class=\"edge\">\n<title>140154801847744+&#45;&gt;140154801847744</title>\n<path fill=\"none\" stroke=\"black\" d=\"M1592.21,-128.5C1600.34,-128.5 1609.85,-128.5 1619.94,-128.5\"/>\n<polygon fill=\"black\" stroke=\"black\" points=\"1620.19,-132 1630.19,-128.5 1620.19,-125 1620.19,-132\"/>\n</g>\n<!-- 140154801814976 -->\n<g id=\"node191\" class=\"node\">\n<title>140154801814976</title>\n<polygon fill=\"none\" stroke=\"black\" points=\"331,-843.5 331,-879.5 518,-879.5 518,-843.5 331,-843.5\"/>\n<text text-anchor=\"middle\" x=\"341\" y=\"-857.8\" font-family=\"Times,serif\" font-size=\"14.00\"> </text>\n<polyline fill=\"none\" stroke=\"black\" points=\"351,-843.5 351,-879.5 \"/>\n<text text-anchor=\"middle\" x=\"393.5\" y=\"-857.8\" font-family=\"Times,serif\" font-size=\"14.00\">data &#45;2.6079</text>\n<polyline fill=\"none\" stroke=\"black\" points=\"436,-843.5 436,-879.5 \"/>\n<text text-anchor=\"middle\" x=\"477\" y=\"-857.8\" font-family=\"Times,serif\" font-size=\"14.00\">grad 0.0000</text>\n</g>\n<!-- 140154801814976&#45;&gt;140154801815168+ -->\n<g id=\"edge164\" class=\"edge\">\n<title>140154801814976&#45;&gt;140154801815168+</title>\n<path fill=\"none\" stroke=\"black\" d=\"M518.24,-861.5C530.33,-861.5 542.09,-861.5 552.44,-861.5\"/>\n<polygon fill=\"black\" stroke=\"black\" points=\"552.68,-865 562.68,-861.5 552.68,-858 552.68,-865\"/>\n</g>\n<!-- 140154801814976*&#45;&gt;140154801814976 -->\n<g id=\"edge70\" class=\"edge\">\n<title>140154801814976*&#45;&gt;140154801814976</title>\n<path fill=\"none\" stroke=\"black\" d=\"M286.27,-861.5C296.1,-861.5 307.95,-861.5 320.53,-861.5\"/>\n<polygon fill=\"black\" stroke=\"black\" points=\"320.74,-865 330.74,-861.5 320.74,-858 320.74,-865\"/>\n</g>\n<!-- 140154801847936 -->\n<g id=\"node193\" class=\"node\">\n<title>140154801847936</title>\n<polygon fill=\"none\" stroke=\"black\" points=\"1943.5,-164.5 1943.5,-200.5 2125.5,-200.5 2125.5,-164.5 1943.5,-164.5\"/>\n<text text-anchor=\"middle\" x=\"1953.5\" y=\"-178.8\" font-family=\"Times,serif\" font-size=\"14.00\"> </text>\n<polyline fill=\"none\" stroke=\"black\" points=\"1963.5,-164.5 1963.5,-200.5 \"/>\n<text text-anchor=\"middle\" x=\"2003.5\" y=\"-178.8\" font-family=\"Times,serif\" font-size=\"14.00\">data 2.8900</text>\n<polyline fill=\"none\" stroke=\"black\" points=\"2043.5,-164.5 2043.5,-200.5 \"/>\n<text text-anchor=\"middle\" x=\"2084.5\" y=\"-178.8\" font-family=\"Times,serif\" font-size=\"14.00\">grad 0.0000</text>\n</g>\n<!-- 140154801847936&#45;&gt;140154801848176tanh -->\n<g id=\"edge161\" class=\"edge\">\n<title>140154801847936&#45;&gt;140154801848176tanh</title>\n<path fill=\"none\" stroke=\"black\" d=\"M2125.82,-182.5C2135.57,-182.5 2145.04,-182.5 2153.57,-182.5\"/>\n<polygon fill=\"black\" stroke=\"black\" points=\"2153.83,-186 2163.83,-182.5 2153.83,-179 2153.83,-186\"/>\n</g>\n<!-- 140154801847936+&#45;&gt;140154801847936 -->\n<g id=\"edge71\" class=\"edge\">\n<title>140154801847936+&#45;&gt;140154801847936</title>\n<path fill=\"none\" stroke=\"black\" d=\"M1905.21,-182.5C1913.34,-182.5 1922.85,-182.5 1932.94,-182.5\"/>\n<polygon fill=\"black\" stroke=\"black\" points=\"1933.19,-186 1943.19,-182.5 1933.19,-179 1933.19,-186\"/>\n</g>\n<!-- 140154801815168 -->\n<g id=\"node195\" class=\"node\">\n<title>140154801815168</title>\n<polygon fill=\"none\" stroke=\"black\" points=\"662,-816.5 662,-852.5 849,-852.5 849,-816.5 662,-816.5\"/>\n<text text-anchor=\"middle\" x=\"672\" y=\"-830.8\" font-family=\"Times,serif\" font-size=\"14.00\"> </text>\n<polyline fill=\"none\" stroke=\"black\" points=\"682,-816.5 682,-852.5 \"/>\n<text text-anchor=\"middle\" x=\"724.5\" y=\"-830.8\" font-family=\"Times,serif\" font-size=\"14.00\">data &#45;3.0130</text>\n<polyline fill=\"none\" stroke=\"black\" points=\"767,-816.5 767,-852.5 \"/>\n<text text-anchor=\"middle\" x=\"808\" y=\"-830.8\" font-family=\"Times,serif\" font-size=\"14.00\">grad 0.0000</text>\n</g>\n<!-- 140154801815168&#45;&gt;140154801844384+ -->\n<g id=\"edge134\" class=\"edge\">\n<title>140154801815168&#45;&gt;140154801844384+</title>\n<path fill=\"none\" stroke=\"black\" d=\"M800.54,-816.48C818.4,-809.12 839.22,-800.47 858,-792.5 867.97,-788.27 878.8,-783.58 888.59,-779.31\"/>\n<polygon fill=\"black\" stroke=\"black\" points=\"890.19,-782.43 897.95,-775.22 887.38,-776.02 890.19,-782.43\"/>\n</g>\n<!-- 140154801815168+&#45;&gt;140154801815168 -->\n<g id=\"edge72\" class=\"edge\">\n<title>140154801815168+&#45;&gt;140154801815168</title>\n<path fill=\"none\" stroke=\"black\" d=\"M616.55,-857.28C626.57,-855.63 638.77,-853.61 651.73,-851.47\"/>\n<polygon fill=\"black\" stroke=\"black\" points=\"652.47,-854.9 661.76,-849.81 651.33,-847.99 652.47,-854.9\"/>\n</g>\n<!-- 140154801815408 -->\n<g id=\"node197\" class=\"node\">\n<title>140154801815408</title>\n<polygon fill=\"none\" stroke=\"black\" points=\"322,-733.5 322,-769.5 527,-769.5 527,-733.5 322,-733.5\"/>\n<text text-anchor=\"middle\" x=\"341\" y=\"-747.8\" font-family=\"Times,serif\" font-size=\"14.00\">&#45;1.0</text>\n<polyline fill=\"none\" stroke=\"black\" points=\"360,-733.5 360,-769.5 \"/>\n<text text-anchor=\"middle\" x=\"402.5\" y=\"-747.8\" font-family=\"Times,serif\" font-size=\"14.00\">data &#45;1.0000</text>\n<polyline fill=\"none\" stroke=\"black\" points=\"445,-733.5 445,-769.5 \"/>\n<text text-anchor=\"middle\" x=\"486\" y=\"-747.8\" font-family=\"Times,serif\" font-size=\"14.00\">grad 0.0000</text>\n</g>\n<!-- 140154801815408&#45;&gt;140154801815456* -->\n<g id=\"edge192\" class=\"edge\">\n<title>140154801815408&#45;&gt;140154801815456*</title>\n<path fill=\"none\" stroke=\"black\" d=\"M527.19,-760.21C536.3,-760.99 545.05,-761.74 552.97,-762.41\"/>\n<polygon fill=\"black\" stroke=\"black\" points=\"552.93,-765.92 563.19,-763.29 553.52,-758.95 552.93,-765.92\"/>\n</g>\n<!-- 140154801815456 -->\n<g id=\"node198\" class=\"node\">\n<title>140154801815456</title>\n<polygon fill=\"none\" stroke=\"black\" points=\"662,-747.5 662,-783.5 849,-783.5 849,-747.5 662,-747.5\"/>\n<text text-anchor=\"middle\" x=\"672\" y=\"-761.8\" font-family=\"Times,serif\" font-size=\"14.00\"> </text>\n<polyline fill=\"none\" stroke=\"black\" points=\"682,-747.5 682,-783.5 \"/>\n<text text-anchor=\"middle\" x=\"724.5\" y=\"-761.8\" font-family=\"Times,serif\" font-size=\"14.00\">data &#45;0.3984</text>\n<polyline fill=\"none\" stroke=\"black\" points=\"767,-747.5 767,-783.5 \"/>\n<text text-anchor=\"middle\" x=\"808\" y=\"-761.8\" font-family=\"Times,serif\" font-size=\"14.00\">grad 0.0000</text>\n</g>\n<!-- 140154801815456&#45;&gt;140154801844384+ -->\n<g id=\"edge193\" class=\"edge\">\n<title>140154801815456&#45;&gt;140154801844384+</title>\n<path fill=\"none\" stroke=\"black\" d=\"M849.24,-765.5C861.33,-765.5 873.09,-765.5 883.44,-765.5\"/>\n<polygon fill=\"black\" stroke=\"black\" points=\"883.68,-769 893.68,-765.5 883.68,-762 883.68,-769\"/>\n</g>\n<!-- 140154801815456*&#45;&gt;140154801815456 -->\n<g id=\"edge73\" class=\"edge\">\n<title>140154801815456*&#45;&gt;140154801815456</title>\n<path fill=\"none\" stroke=\"black\" d=\"M617.27,-765.5C627.1,-765.5 638.95,-765.5 651.53,-765.5\"/>\n<polygon fill=\"black\" stroke=\"black\" points=\"651.74,-769 661.74,-765.5 651.74,-762 651.74,-769\"/>\n</g>\n</g>\n</svg>\n"
          },
          "metadata": {},
          "execution_count": 228
        }
      ]
    },
    {
      "cell_type": "markdown",
      "source": [
        "# Toy Dataset"
      ],
      "metadata": {
        "id": "AjdhTDWwfa5E"
      }
    },
    {
      "cell_type": "code",
      "source": [
        "xs = [\n",
        "    [2.0, 3.0, -1.0],\n",
        "    [3.0, -1.0, 0.5],\n",
        "    [0.5, 1.0, 1.0],\n",
        "    [1.0, 1.0, -1.0],\n",
        "]\n",
        "\n",
        "ys = [1.0, -1.0, -1.0, 1.0] # desired targets"
      ],
      "metadata": {
        "id": "VRB_r6UUeRfB"
      },
      "execution_count": 229,
      "outputs": []
    },
    {
      "cell_type": "code",
      "source": [
        "ypred = [n(x) for x in xs]"
      ],
      "metadata": {
        "id": "igUxAzUvfjDP"
      },
      "execution_count": 230,
      "outputs": []
    },
    {
      "cell_type": "code",
      "source": [
        "ypred"
      ],
      "metadata": {
        "colab": {
          "base_uri": "https://localhost:8080/"
        },
        "id": "Re5ViH9Ufx9n",
        "outputId": "677e34cc-5d9e-43d3-db9d-dc531c5e6e27"
      },
      "execution_count": 231,
      "outputs": [
        {
          "output_type": "execute_result",
          "data": {
            "text/plain": [
              "[Value(data=0.0884815788063107),\n",
              " Value(data=0.6440588710922028),\n",
              " Value(data=0.03644613266348931),\n",
              " Value(data=0.4985391127317591)]"
            ]
          },
          "metadata": {},
          "execution_count": 231
        }
      ]
    },
    {
      "cell_type": "code",
      "source": [
        "loss = loss_func(ypred, ys)\n",
        "loss"
      ],
      "metadata": {
        "colab": {
          "base_uri": "https://localhost:8080/"
        },
        "id": "cvsaQuTmfy-J",
        "outputId": "f019dd10-aff1-494e-b09f-4984f5af92bd"
      },
      "execution_count": 232,
      "outputs": [
        {
          "output_type": "execute_result",
          "data": {
            "text/plain": [
              "Value(data=4.859479011165359)"
            ]
          },
          "metadata": {},
          "execution_count": 232
        }
      ]
    },
    {
      "cell_type": "code",
      "source": [
        "loss.backward()"
      ],
      "metadata": {
        "id": "O1nWMSEggdzQ"
      },
      "execution_count": 233,
      "outputs": []
    },
    {
      "cell_type": "markdown",
      "source": [
        "## Massive Comp Graph for Entire Dataset Forward Pass"
      ],
      "metadata": {
        "id": "ZE6fBCkbTmGf"
      }
    },
    {
      "cell_type": "code",
      "source": [
        "# draw_dot(loss)"
      ],
      "metadata": {
        "id": "RcwDEXruhhp1"
      },
      "execution_count": 234,
      "outputs": []
    },
    {
      "cell_type": "code",
      "source": [
        "n.layers[0].neurons[0].w[0].grad"
      ],
      "metadata": {
        "id": "V-KsN4aVhjQV",
        "colab": {
          "base_uri": "https://localhost:8080/"
        },
        "outputId": "9f25b435-d5c0-41ce-fa79-077fb4c2f39e"
      },
      "execution_count": 235,
      "outputs": [
        {
          "output_type": "execute_result",
          "data": {
            "text/plain": [
              "1.223273989149899"
            ]
          },
          "metadata": {},
          "execution_count": 235
        }
      ]
    },
    {
      "cell_type": "code",
      "source": [
        "n.layers[0].neurons[0].w[0].data"
      ],
      "metadata": {
        "colab": {
          "base_uri": "https://localhost:8080/"
        },
        "id": "URzRaRIhJ8yi",
        "outputId": "4370e936-4924-4572-d079-ce748429735c"
      },
      "execution_count": 236,
      "outputs": [
        {
          "output_type": "execute_result",
          "data": {
            "text/plain": [
              "0.31255526637777775"
            ]
          },
          "metadata": {},
          "execution_count": 236
        }
      ]
    },
    {
      "cell_type": "markdown",
      "source": [
        "# Manually Implementing Gradient Descent"
      ],
      "metadata": {
        "id": "Em1Dlj0_RXTU"
      }
    },
    {
      "cell_type": "code",
      "source": [
        "eta = 0.1 \n",
        "for p in n.parameters():\n",
        "  # update = val + -eta * grad\n",
        "  p.data += -eta * p.grad\n",
        "\n",
        "n.layers[0].neurons[0].w[0].data"
      ],
      "metadata": {
        "colab": {
          "base_uri": "https://localhost:8080/"
        },
        "id": "jvM66v9qQXH7",
        "outputId": "52cfc2f3-30ac-4a5c-bfce-64c6877154f1"
      },
      "execution_count": 237,
      "outputs": [
        {
          "output_type": "execute_result",
          "data": {
            "text/plain": [
              "0.19022786746278786"
            ]
          },
          "metadata": {},
          "execution_count": 237
        }
      ]
    },
    {
      "cell_type": "markdown",
      "source": [
        "# Making a Training Loop"
      ],
      "metadata": {
        "id": "7RoT1E-4wq_F"
      }
    },
    {
      "cell_type": "code",
      "source": [
        "import sys\n",
        "import copy\n",
        "from typing import Callable, Any\n",
        "\n",
        "class MLPTrainer:\n",
        "\n",
        "  def __init__(self, nn: MLP, loss: LossFunction):\n",
        "    self.nn = nn\n",
        "    self.best_checkpoint = nn\n",
        "    self.loss_func = loss\n",
        "  \n",
        "  def model(self) -> MLP:\n",
        "    return self.best_checkpoint\n",
        "  \n",
        "  def zero_grad(self) -> None:\n",
        "    for p in self.nn.parameters():\n",
        "      p.grad = 0.0\n",
        "  \n",
        "  def update(self, eta):\n",
        "    for p in self.nn.parameters():\n",
        "      p.data += -eta * p.grad\n",
        "  \n",
        "  def curr_loss(self, \n",
        "                ypred: List[Any],\n",
        "                labels: List[Any]):\n",
        "    return self.loss_func(ypred, labels)\n",
        "  \n",
        "  def train_stats(self,\n",
        "                  training_data: List[Any],\n",
        "                  labels: List[Any]):\n",
        "    # Final stats\n",
        "    final_pred = [self.best_checkpoint(x) for x in training_data]\n",
        "    final_loss = self.curr_loss(final_pred, labels)\n",
        "\n",
        "    # final outputs\n",
        "    print(f\"Training complete! Final loss: {final_loss.data}\")\n",
        "\n",
        "  def train(self, \n",
        "            training_data: List[Any],\n",
        "            labels: List[Any],\n",
        "            learning_rate: float = 0.01, \n",
        "            learning_rate_decay: float = 0.0,\n",
        "            max_training_steps: int = 100,\n",
        "            early_stopping_loss: float = 1.0e-5):\n",
        "    \n",
        "    # sanity check\n",
        "    assert len(labels) == len(training_data)\n",
        "    \n",
        "    # min loss\n",
        "    init_pred = [self.best_checkpoint(x) for x in training_data]\n",
        "    min_loss = self.curr_loss(init_pred, labels).data\n",
        "\n",
        "    # Training loop\n",
        "    for k in range(max_training_steps):\n",
        "      \n",
        "      # forward pass\n",
        "      ypred = [self.nn(x) for x in training_data]\n",
        "\n",
        "      # calculate loss\n",
        "      loss = self.curr_loss(ypred, labels)\n",
        "      print(f\"Iteration {k+1}: LR: {learning_rate}, Loss: {loss.data}\")\n",
        "      \n",
        "      # update pointer to best model\n",
        "      if loss.data < min_loss:\n",
        "        self.best_checkpoint = copy.deepcopy(self.nn)\n",
        "        min_loss = loss.data\n",
        "\n",
        "      if loss.data <= early_stopping_loss:\n",
        "        print(f\"loss <= {early_stopping_loss}... Exiting!\")\n",
        "        break\n",
        "\n",
        "      # zero out the grad\n",
        "      self.zero_grad()\n",
        "\n",
        "      # Backward pass\n",
        "      loss.backward()\n",
        "\n",
        "      # Weight update\n",
        "      self.update(eta=learning_rate)\n",
        "\n",
        "      # update/decay learning rate\n",
        "      learning_rate -= learning_rate * learning_rate_decay\n"
      ],
      "metadata": {
        "id": "SUSEf7xVNO4l"
      },
      "execution_count": 238,
      "outputs": []
    },
    {
      "cell_type": "markdown",
      "source": [
        "# Use Trainer to Train MLP"
      ],
      "metadata": {
        "id": "6msrvVCC6swL"
      }
    },
    {
      "cell_type": "code",
      "source": [
        "# Random mapping onto outputs\n",
        "# xs = [\n",
        "#     [2.0, 3.0, -1.0],\n",
        "#     [3.0, -1.0, 0.5],\n",
        "#     [0.5, 1.0, 1.0],\n",
        "#     [1.0, 1.0, -1.0],\n",
        "# ]\n",
        "\n",
        "# ys = [1.0, -1.0, -1.0, 1.0] # desired targets\n",
        "\n",
        "# Learn the Cosine Function\n",
        "xs = [[x] for x in np.linspace(-(2 * np.pi), 2 * np.pi, 100).tolist()]\n",
        "random.shuffle(xs)\n",
        "\n",
        "ys = [math.cos(x[0]) for x in xs] # targets\n",
        "\n",
        "# example of the training data\n",
        "input_dim = 1 if not isinstance(xs[0], List) else len(xs[0])\n",
        "\n",
        "# initialize MLP\n",
        "nn = MLP(input_dim, [10, 1])\n",
        "\n",
        "# initialize MLP trainer\n",
        "trainer = MLPTrainer(nn=nn, loss=MSE())\n",
        "\n",
        "# Run training\n",
        "trainer.train(training_data=xs, \n",
        "              labels=ys,\n",
        "              max_training_steps=100, \n",
        "              learning_rate=0.000125, \n",
        "              learning_rate_decay=0.0001)\n",
        "\n",
        "trainer.train_stats(training_data=xs, labels=ys)"
      ],
      "metadata": {
        "colab": {
          "base_uri": "https://localhost:8080/"
        },
        "id": "edCaE5hsS8oe",
        "outputId": "a003229a-4c06-47fc-8b64-bf6ddcbb275d"
      },
      "execution_count": 239,
      "outputs": [
        {
          "output_type": "stream",
          "name": "stdout",
          "text": [
            "Iteration 1: LR: 0.000125, Loss: 94.25807090226085\n",
            "Iteration 2: LR: 0.0001249875, Loss: 91.85782168992503\n",
            "Iteration 3: LR: 0.00012497500124999998, Loss: 89.41358264305651\n",
            "Iteration 4: LR: 0.00012496250374987498, Loss: 86.92946165205959\n",
            "Iteration 5: LR: 0.0001249500074995, Loss: 84.40955207494113\n",
            "Iteration 6: LR: 0.00012493751249875005, Loss: 81.85903073823035\n",
            "Iteration 7: LR: 0.00012492501874750018, Loss: 79.28563815403697\n",
            "Iteration 8: LR: 0.00012491252624562542, Loss: 76.70131648982684\n",
            "Iteration 9: LR: 0.00012490003499300085, Loss: 74.12364011978623\n",
            "Iteration 10: LR: 0.00012488754498950154, Loss: 71.57656179084407\n",
            "Iteration 11: LR: 0.0001248750562350026, Loss: 69.0899822266499\n",
            "Iteration 12: LR: 0.0001248625687293791, Loss: 66.69781734986013\n",
            "Iteration 13: LR: 0.00012485008247250617, Loss: 64.43462929249561\n",
            "Iteration 14: LR: 0.00012483759746425893, Loss: 62.33142258994607\n",
            "Iteration 15: LR: 0.0001248251137045125, Loss: 60.411645274894745\n",
            "Iteration 16: LR: 0.00012481263119314205, Loss: 58.688492340292385\n",
            "Iteration 17: LR: 0.00012480014993002274, Loss: 57.16418284496863\n",
            "Iteration 18: LR: 0.00012478766991502974, Loss: 55.831177088197705\n",
            "Iteration 19: LR: 0.00012477519114803824, Loss: 54.67469768930888\n",
            "Iteration 20: LR: 0.00012476271362892345, Loss: 53.675689175404585\n",
            "Iteration 21: LR: 0.00012475023735756055, Loss: 52.813495661089554\n",
            "Iteration 22: LR: 0.0001247377623338248, Loss: 52.06786496919418\n",
            "Iteration 23: LR: 0.0001247252885575914, Loss: 51.420199445097914\n",
            "Iteration 24: LR: 0.00012471281602873565, Loss: 50.85416736778484\n",
            "Iteration 25: LR: 0.00012470034474713277, Loss: 50.35586075695743\n",
            "Iteration 26: LR: 0.00012468787471265805, Loss: 49.9136780750536\n",
            "Iteration 27: LR: 0.00012467540592518678, Loss: 49.51806876258707\n",
            "Iteration 28: LR: 0.00012466293838459425, Loss: 49.16123003327851\n",
            "Iteration 29: LR: 0.0001246504720907558, Loss: 48.83680824914305\n",
            "Iteration 30: LR: 0.00012463800704354673, Loss: 48.539630700039574\n",
            "Iteration 31: LR: 0.00012462554324284237, Loss: 48.26547725104004\n",
            "Iteration 32: LR: 0.00012461308068851808, Loss: 48.010892281212804\n",
            "Iteration 33: LR: 0.0001246006193804492, Loss: 47.7730329991411\n",
            "Iteration 34: LR: 0.00012458815931851118, Loss: 47.549548630424354\n",
            "Iteration 35: LR: 0.00012457570050257932, Loss: 47.338484841697294\n",
            "Iteration 36: LR: 0.00012456324293252905, Loss: 47.13820831474674\n",
            "Iteration 37: LR: 0.0001245507866082358, Loss: 46.94734717643411\n",
            "Iteration 38: LR: 0.00012453833152957497, Loss: 46.76474380101466\n",
            "Iteration 39: LR: 0.000124525877696422, Loss: 46.58941722963378\n",
            "Iteration 40: LR: 0.00012451342510865236, Loss: 46.420533062452456\n",
            "Iteration 41: LR: 0.0001245009737661415, Loss: 46.25737917044547\n",
            "Iteration 42: LR: 0.0001244885236687649, Loss: 46.09934595947201\n",
            "Iteration 43: LR: 0.00012447607481639802, Loss: 45.945910216527786\n",
            "Iteration 44: LR: 0.00012446362720891637, Loss: 45.796621794876664\n",
            "Iteration 45: LR: 0.00012445118084619547, Loss: 45.65109256664389\n",
            "Iteration 46: LR: 0.00012443873572811086, Loss: 45.508987201330115\n",
            "Iteration 47: LR: 0.00012442629185453806, Loss: 45.37001542680713\n",
            "Iteration 48: LR: 0.0001244138492253526, Loss: 45.23392550359931\n",
            "Iteration 49: LR: 0.00012440140784043008, Loss: 45.10049869966078\n",
            "Iteration 50: LR: 0.00012438896769964604, Loss: 44.96954459594287\n",
            "Iteration 51: LR: 0.00012437652880287607, Loss: 44.84089708618818\n",
            "Iteration 52: LR: 0.00012436409114999577, Loss: 44.714410960078595\n",
            "Iteration 53: LR: 0.00012435165474088076, Loss: 44.589958978959366\n",
            "Iteration 54: LR: 0.0001243392195754067, Loss: 44.46742936922413\n",
            "Iteration 55: LR: 0.00012432678565344916, Loss: 44.34672367108872\n",
            "Iteration 56: LR: 0.00012431435297488382, Loss: 44.22775489065385\n",
            "Iteration 57: LR: 0.00012430192153958634, Loss: 44.11044591141992\n",
            "Iteration 58: LR: 0.0001242894913474324, Loss: 43.99472812818471\n",
            "Iteration 59: LR: 0.00012427706239829763, Loss: 43.88054027184627\n",
            "Iteration 60: LR: 0.0001242646346920578, Loss: 43.76782739828627\n",
            "Iteration 61: LR: 0.0001242522082285886, Loss: 43.656540018405494\n",
            "Iteration 62: LR: 0.00012423978300776575, Loss: 43.546633349667296\n",
            "Iteration 63: LR: 0.000124227359029465, Loss: 43.43806667228482\n",
            "Iteration 64: LR: 0.00012421493629356204, Loss: 43.33080277555236\n",
            "Iteration 65: LR: 0.00012420251479993268, Loss: 43.22480748183844\n",
            "Iteration 66: LR: 0.0001241900945484527, Loss: 43.120049237486704\n",
            "Iteration 67: LR: 0.00012417767553899784, Loss: 43.01649876135123\n",
            "Iteration 68: LR: 0.00012416525777144395, Loss: 42.914128742967925\n",
            "Iteration 69: LR: 0.0001241528412456668, Loss: 42.81291358346115\n",
            "Iteration 70: LR: 0.00012414042596154223, Loss: 42.7128291732294\n",
            "Iteration 71: LR: 0.00012412801191894607, Loss: 42.613852701271846\n",
            "Iteration 72: LR: 0.0001241155991177542, Loss: 42.51596249172087\n",
            "Iteration 73: LR: 0.0001241031875578424, Loss: 42.41913786375517\n",
            "Iteration 74: LR: 0.00012409077723908664, Loss: 42.32335901159456\n",
            "Iteration 75: LR: 0.00012407836816136274, Loss: 42.228606901731624\n",
            "Iteration 76: LR: 0.0001240659603245466, Loss: 42.134863184948706\n",
            "Iteration 77: LR: 0.00012405355372851416, Loss: 42.04211012100839\n",
            "Iteration 78: LR: 0.0001240411483731413, Loss: 41.95033051419893\n",
            "Iteration 79: LR: 0.00012402874425830398, Loss: 41.859507658169285\n",
            "Iteration 80: LR: 0.00012401634138387816, Loss: 41.769625288708035\n",
            "Iteration 81: LR: 0.00012400393974973978, Loss: 41.68066754330833\n",
            "Iteration 82: LR: 0.0001239915393557648, Loss: 41.59261892652545\n",
            "Iteration 83: LR: 0.00012397914020182923, Loss: 41.50546428027205\n",
            "Iteration 84: LR: 0.00012396674228780906, Loss: 41.419188758320125\n",
            "Iteration 85: LR: 0.00012395434561358028, Loss: 41.333777804380716\n",
            "Iteration 86: LR: 0.0001239419501790189, Loss: 41.24921713322367\n",
            "Iteration 87: LR: 0.000123929555984001, Loss: 41.165492714377145\n",
            "Iteration 88: LR: 0.0001239171630284026, Loss: 41.08259075801211\n",
            "Iteration 89: LR: 0.00012390477131209976, Loss: 41.000497702676284\n",
            "Iteration 90: LR: 0.00012389238083496855, Loss: 40.91920020458914\n",
            "Iteration 91: LR: 0.00012387999159688506, Loss: 40.83868512825285\n",
            "Iteration 92: LR: 0.00012386760359772538, Loss: 40.758939538170786\n",
            "Iteration 93: LR: 0.0001238552168373656, Loss: 40.679950691495144\n",
            "Iteration 94: LR: 0.00012384283131568186, Loss: 40.601706031452494\n",
            "Iteration 95: LR: 0.00012383044703255028, Loss: 40.52419318141957\n",
            "Iteration 96: LR: 0.00012381806398784702, Loss: 40.44739993953921\n",
            "Iteration 97: LR: 0.00012380568218144824, Loss: 40.37131427378562\n",
            "Iteration 98: LR: 0.0001237933016132301, Loss: 40.29592431740007\n",
            "Iteration 99: LR: 0.00012378092228306877, Loss: 40.22121836463177\n",
            "Iteration 100: LR: 0.00012376854419084046, Loss: 40.14718486672836\n",
            "Training complete! Final loss: 40.14718486672836\n"
          ]
        }
      ]
    },
    {
      "cell_type": "code",
      "source": [
        "# Print final outputs\n",
        "print(\"Summary outputs:\\n-----------------\")\n",
        "model = trainer.model()\n",
        "model_pred = [model(x) for x in xs]\n",
        "model_loss = trainer.curr_loss(model_pred, ys)\n",
        "print(f\"Final Training Loss: {model_loss.data}\")\n",
        "for o, t in zip(model_pred, ys):\n",
        "  print(\"---------------------\\n\"\\\n",
        "        f\"Truth: {t:.3f}\\n\"\\\n",
        "        f\"Model: {o.data:.3f}\")"
      ],
      "metadata": {
        "id": "sLBplLw1k4_q",
        "colab": {
          "base_uri": "https://localhost:8080/"
        },
        "outputId": "b00b387a-9217-43f2-8d5f-fba0c958ae88"
      },
      "execution_count": 240,
      "outputs": [
        {
          "output_type": "stream",
          "name": "stdout",
          "text": [
            "Summary outputs:\n",
            "-----------------\n",
            "Final Training Loss: 40.14718486672836\n",
            "---------------------\n",
            "Truth: 0.982\n",
            "Model: 0.207\n",
            "---------------------\n",
            "Truth: -0.824\n",
            "Model: -0.007\n",
            "---------------------\n",
            "Truth: -0.701\n",
            "Model: 0.047\n",
            "---------------------\n",
            "Truth: -0.016\n",
            "Model: 0.093\n",
            "---------------------\n",
            "Truth: 0.998\n",
            "Model: 0.215\n",
            "---------------------\n",
            "Truth: 0.472\n",
            "Model: 0.133\n",
            "---------------------\n",
            "Truth: 0.174\n",
            "Model: -0.026\n",
            "---------------------\n",
            "Truth: -0.205\n",
            "Model: 0.017\n",
            "---------------------\n",
            "Truth: -0.205\n",
            "Model: -0.022\n",
            "---------------------\n",
            "Truth: 0.766\n",
            "Model: 0.167\n",
            "---------------------\n",
            "Truth: -0.987\n",
            "Model: 0.018\n",
            "---------------------\n",
            "Truth: -0.655\n",
            "Model: -0.058\n",
            "---------------------\n",
            "Truth: 0.982\n",
            "Model: 0.213\n",
            "---------------------\n",
            "Truth: 0.903\n",
            "Model: 0.189\n",
            "---------------------\n",
            "Truth: 0.679\n",
            "Model: 0.155\n",
            "---------------------\n",
            "Truth: 1.000\n",
            "Model: -0.031\n",
            "---------------------\n",
            "Truth: 0.992\n",
            "Model: -0.031\n",
            "---------------------\n",
            "Truth: 0.992\n",
            "Model: 0.199\n",
            "---------------------\n",
            "Truth: -0.327\n",
            "Model: -0.020\n",
            "---------------------\n",
            "Truth: -0.916\n",
            "Model: 0.028\n",
            "---------------------\n",
            "Truth: -0.142\n",
            "Model: 0.084\n",
            "---------------------\n",
            "Truth: -0.327\n",
            "Model: -0.001\n",
            "---------------------\n",
            "Truth: -0.444\n",
            "Model: -0.020\n",
            "---------------------\n",
            "Truth: -0.745\n",
            "Model: -0.010\n",
            "---------------------\n",
            "Truth: -0.745\n",
            "Model: -0.078\n",
            "---------------------\n",
            "Truth: -0.386\n",
            "Model: -0.226\n",
            "---------------------\n",
            "Truth: 0.950\n",
            "Model: 0.206\n",
            "---------------------\n",
            "Truth: -0.701\n",
            "Model: -0.252\n",
            "---------------------\n",
            "Truth: 0.874\n",
            "Model: 0.165\n",
            "---------------------\n",
            "Truth: 0.111\n",
            "Model: -0.101\n",
            "---------------------\n",
            "Truth: -0.554\n",
            "Model: -0.015\n",
            "---------------------\n",
            "Truth: 0.998\n",
            "Model: 0.213\n",
            "---------------------\n",
            "Truth: -0.999\n",
            "Model: 0.013\n",
            "---------------------\n",
            "Truth: -0.786\n",
            "Model: 0.040\n",
            "---------------------\n",
            "Truth: 0.928\n",
            "Model: 0.177\n",
            "---------------------\n",
            "Truth: 0.048\n",
            "Model: -0.025\n",
            "---------------------\n",
            "Truth: 0.527\n",
            "Model: 0.113\n",
            "---------------------\n",
            "Truth: 0.357\n",
            "Model: -0.011\n",
            "---------------------\n",
            "Truth: 0.580\n",
            "Model: 0.144\n",
            "---------------------\n",
            "Truth: -0.079\n",
            "Model: -0.023\n",
            "---------------------\n",
            "Truth: 0.874\n",
            "Model: -0.030\n",
            "---------------------\n",
            "Truth: -0.266\n",
            "Model: -0.204\n",
            "---------------------\n",
            "Truth: -0.940\n",
            "Model: -0.137\n",
            "---------------------\n",
            "Truth: 0.968\n",
            "Model: 0.188\n",
            "---------------------\n",
            "Truth: 0.297\n",
            "Model: 0.083\n",
            "---------------------\n",
            "Truth: 0.580\n",
            "Model: 0.078\n",
            "---------------------\n",
            "Truth: 1.000\n",
            "Model: 0.209\n",
            "---------------------\n",
            "Truth: 0.950\n",
            "Model: 0.199\n",
            "---------------------\n",
            "Truth: -0.655\n",
            "Model: -0.013\n",
            "---------------------\n",
            "Truth: 0.841\n",
            "Model: 0.175\n",
            "---------------------\n",
            "Truth: 0.968\n",
            "Model: -0.031\n",
            "---------------------\n",
            "Truth: -0.995\n",
            "Model: -0.175\n",
            "---------------------\n",
            "Truth: 0.111\n",
            "Model: 0.102\n",
            "---------------------\n",
            "Truth: -0.940\n",
            "Model: -0.000\n",
            "---------------------\n",
            "Truth: 0.415\n",
            "Model: 0.098\n",
            "---------------------\n",
            "Truth: 0.415\n",
            "Model: -0.028\n",
            "---------------------\n",
            "Truth: -0.266\n",
            "Model: 0.076\n",
            "---------------------\n",
            "Truth: -0.824\n",
            "Model: -0.097\n",
            "---------------------\n",
            "Truth: 0.724\n",
            "Model: 0.140\n",
            "---------------------\n",
            "Truth: -0.975\n",
            "Model: -0.156\n",
            "---------------------\n",
            "Truth: 0.903\n",
            "Model: 0.194\n",
            "---------------------\n",
            "Truth: -0.386\n",
            "Model: 0.068\n",
            "---------------------\n",
            "Truth: 0.236\n",
            "Model: -0.057\n",
            "---------------------\n",
            "Truth: 0.679\n",
            "Model: 0.116\n",
            "---------------------\n",
            "Truth: -0.995\n",
            "Model: 0.008\n",
            "---------------------\n",
            "Truth: 0.297\n",
            "Model: -0.027\n",
            "---------------------\n",
            "Truth: 0.357\n",
            "Model: 0.122\n",
            "---------------------\n",
            "Truth: -0.889\n",
            "Model: -0.004\n",
            "---------------------\n",
            "Truth: 0.631\n",
            "Model: -0.029\n",
            "---------------------\n",
            "Truth: -0.444\n",
            "Model: -0.018\n",
            "---------------------\n",
            "Truth: 0.527\n",
            "Model: -0.029\n",
            "---------------------\n",
            "Truth: -0.500\n",
            "Model: 0.061\n",
            "---------------------\n",
            "Truth: -0.606\n",
            "Model: 0.054\n",
            "---------------------\n",
            "Truth: -0.959\n",
            "Model: -0.223\n",
            "---------------------\n",
            "Truth: 0.805\n",
            "Model: 0.153\n",
            "---------------------\n",
            "Truth: 0.841\n",
            "Model: 0.178\n",
            "---------------------\n",
            "Truth: -0.786\n",
            "Model: -0.251\n",
            "---------------------\n",
            "Truth: -0.016\n",
            "Model: -0.141\n",
            "---------------------\n",
            "Truth: -0.500\n",
            "Model: -0.241\n",
            "---------------------\n",
            "Truth: 0.928\n",
            "Model: -0.031\n",
            "---------------------\n",
            "Truth: 0.472\n",
            "Model: 0.035\n",
            "---------------------\n",
            "Truth: -0.999\n",
            "Model: -0.192\n",
            "---------------------\n",
            "Truth: -0.142\n",
            "Model: -0.176\n",
            "---------------------\n",
            "Truth: 0.724\n",
            "Model: -0.030\n",
            "---------------------\n",
            "Truth: 0.174\n",
            "Model: 0.067\n",
            "---------------------\n",
            "Truth: -0.079\n",
            "Model: 0.034\n",
            "---------------------\n",
            "Truth: 0.048\n",
            "Model: 0.051\n",
            "---------------------\n",
            "Truth: -0.606\n",
            "Model: -0.249\n",
            "---------------------\n",
            "Truth: -0.975\n",
            "Model: 0.004\n",
            "---------------------\n",
            "Truth: -0.889\n",
            "Model: -0.117\n",
            "---------------------\n",
            "Truth: -0.959\n",
            "Model: 0.023\n",
            "---------------------\n",
            "Truth: 0.236\n",
            "Model: 0.112\n",
            "---------------------\n",
            "Truth: -0.554\n",
            "Model: -0.039\n",
            "---------------------\n",
            "Truth: 0.631\n",
            "Model: 0.127\n",
            "---------------------\n",
            "Truth: -0.916\n",
            "Model: -0.235\n",
            "---------------------\n",
            "Truth: 0.805\n",
            "Model: -0.030\n",
            "---------------------\n",
            "Truth: -0.858\n",
            "Model: -0.245\n",
            "---------------------\n",
            "Truth: -0.858\n",
            "Model: 0.034\n",
            "---------------------\n",
            "Truth: -0.987\n",
            "Model: -0.209\n",
            "---------------------\n",
            "Truth: 0.766\n",
            "Model: 0.149\n"
          ]
        }
      ]
    },
    {
      "cell_type": "code",
      "source": [
        "len(x[:1])"
      ],
      "metadata": {
        "colab": {
          "base_uri": "https://localhost:8080/"
        },
        "id": "rRoo5nmr_nrf",
        "outputId": "fe341f8d-463b-46bc-fd86-6eac407a942a"
      },
      "execution_count": 241,
      "outputs": [
        {
          "output_type": "execute_result",
          "data": {
            "text/plain": [
              "1"
            ]
          },
          "metadata": {},
          "execution_count": 241
        }
      ]
    },
    {
      "cell_type": "code",
      "source": [
        "model_pred = model(xs[0])\n",
        "model_loss = trainer.curr_loss([model_pred], [ys[0]])\n",
        "model_loss.backward()\n",
        "# draw_dot(model_loss)"
      ],
      "metadata": {
        "id": "M2uZIkqBaFAn"
      },
      "execution_count": 242,
      "outputs": []
    },
    {
      "cell_type": "markdown",
      "source": [
        "# Trying a Different Problem & Loss Function"
      ],
      "metadata": {
        "id": "T8j6S-vsfxWy"
      }
    },
    {
      "cell_type": "markdown",
      "source": [
        "Initialize a model"
      ],
      "metadata": {
        "id": "ujINfB62gSX9"
      }
    },
    {
      "cell_type": "code",
      "source": [
        "# initialize a model \n",
        "model = MLP(2, [16, 16, 1]) # 2-layer neural network\n",
        "print(model)\n",
        "print(\"number of parameters\", len(model.parameters()))"
      ],
      "metadata": {
        "colab": {
          "base_uri": "https://localhost:8080/"
        },
        "id": "pvhSKE-nf4CL",
        "outputId": "14cb8e5b-13f9-48e0-ab4e-599614f98130"
      },
      "execution_count": 243,
      "outputs": [
        {
          "output_type": "stream",
          "name": "stdout",
          "text": [
            "<__main__.MLP object at 0x7f78545c78e0>\n",
            "number of parameters 337\n"
          ]
        }
      ]
    },
    {
      "cell_type": "code",
      "source": [
        "np.random.seed(1337)\n",
        "random.seed(1337)\n",
        "\n",
        "# make up a dataset\n",
        "\n",
        "from sklearn.datasets import make_moons, make_blobs\n",
        "X, y = make_moons(n_samples=100, noise=0.1)\n",
        "\n",
        "y = y*2 - 1 # make y be -1 or 1\n",
        "# visualize in 2D\n",
        "plt.figure(figsize=(5,5))\n",
        "plt.scatter(X[:,0], X[:,1], c=y, s=20, cmap='jet')"
      ],
      "metadata": {
        "colab": {
          "base_uri": "https://localhost:8080/",
          "height": 338
        },
        "id": "Ss2V-ny0f1cY",
        "outputId": "7649cb65-bd6b-47d5-9cf5-74aebb5e3dea"
      },
      "execution_count": 244,
      "outputs": [
        {
          "output_type": "execute_result",
          "data": {
            "text/plain": [
              "<matplotlib.collections.PathCollection at 0x7f7854527be0>"
            ]
          },
          "metadata": {},
          "execution_count": 244
        },
        {
          "output_type": "display_data",
          "data": {
            "text/plain": [
              "<Figure size 360x360 with 1 Axes>"
            ],
            "image/png": "[encoded data removed]"
          },
          "metadata": {
            "needs_background": "light"
          }
        }
      ]
    },
    {
      "cell_type": "code",
      "source": [
        "y"
      ],
      "metadata": {
        "colab": {
          "base_uri": "https://localhost:8080/"
        },
        "id": "aUQ2FsSagUwc",
        "outputId": "167963a3-e497-4f1d-b46b-f83f26e829f9"
      },
      "execution_count": 245,
      "outputs": [
        {
          "output_type": "execute_result",
          "data": {
            "text/plain": [
              "array([-1, -1,  1, -1,  1,  1,  1,  1,  1, -1,  1, -1, -1,  1, -1, -1,  1,\n",
              "        1, -1, -1, -1,  1,  1,  1,  1, -1, -1,  1, -1,  1, -1, -1, -1, -1,\n",
              "        1, -1,  1,  1,  1, -1, -1, -1, -1, -1, -1,  1,  1, -1,  1, -1, -1,\n",
              "        1, -1,  1,  1, -1, -1,  1, -1, -1, -1, -1, -1, -1, -1,  1, -1,  1,\n",
              "        1,  1,  1, -1, -1,  1,  1,  1, -1,  1,  1,  1,  1, -1,  1, -1, -1,\n",
              "       -1,  1,  1, -1, -1,  1,  1,  1,  1,  1,  1, -1,  1,  1, -1])"
            ]
          },
          "metadata": {},
          "execution_count": 245
        }
      ]
    },
    {
      "cell_type": "code",
      "source": [
        "type(X[:3])"
      ],
      "metadata": {
        "colab": {
          "base_uri": "https://localhost:8080/"
        },
        "id": "AbiyN43fggBw",
        "outputId": "03414b95-4288-42aa-ae86-9316eeeb7333"
      },
      "execution_count": 246,
      "outputs": [
        {
          "output_type": "execute_result",
          "data": {
            "text/plain": [
              "numpy.ndarray"
            ]
          },
          "metadata": {},
          "execution_count": 246
        }
      ]
    },
    {
      "cell_type": "code",
      "source": [
        "def loss(batch_size=None):\n",
        "\n",
        "  # Data loader\n",
        "  if batch_size is None:\n",
        "    Xb, yb = X, y\n",
        "  else:\n",
        "    ri = np.random.permutation(X.shape[0])[:batch_size]\n",
        "    Xb, yb = X[ri], y[ri]\n",
        "\n",
        "  inputs = [list(map(Value, xrow)) for xrow in Xb]\n",
        "\n",
        "  # forward pass\n",
        "  scores = list(map(model, inputs))\n",
        "\n",
        "  # SVM max-margin loss\n",
        "  losses = [(1 + -yi * scorei).relu() for yi, scorei in zip(yb, scores)]\n",
        "  data_loss = sum(losses) * (1.0 / len(losses))\n",
        "\n",
        "  # L2 regularization\n",
        "  # alpha * ||w||_2^2\n",
        "  alpha = 1e-4\n",
        "  reg_loss = alpha * sum((p * p for p in model.parameters()))\n",
        "  total_loss = data_loss + reg_loss\n",
        "\n",
        "  # also get accuracy\n",
        "  accuracy = [(yi > 0) == (scorei.data > 0) for yi, scorei in zip(yb, scores)]\n",
        "  return total_loss, sum(accuracy) / len(accuracy)\n"
      ],
      "metadata": {
        "id": "R9qlDG9aZGsM"
      },
      "execution_count": 247,
      "outputs": []
    },
    {
      "cell_type": "code",
      "source": [
        "total_loss, acc = loss()\n",
        "print(f\"total_loss: {total_loss}, accuracy: {acc}\")"
      ],
      "metadata": {
        "colab": {
          "base_uri": "https://localhost:8080/"
        },
        "id": "je4fn4beqMwf",
        "outputId": "f048cdfc-1643-4219-b722-24358bbae965"
      },
      "execution_count": 248,
      "outputs": [
        {
          "output_type": "stream",
          "name": "stdout",
          "text": [
            "total_loss: Value(data=0.7691342604056346), accuracy: 0.67\n"
          ]
        }
      ]
    },
    {
      "cell_type": "code",
      "source": [
        "# optimization\n",
        "for k in range(100):\n",
        "\n",
        "  # forward\n",
        "  total_loss, acc = loss()\n",
        "  print(f\"ITER {k} -- total_loss: {total_loss.data:.6f}, accuracy: {acc}\")\n",
        "\n",
        "  # backward\n",
        "  # model.zero_grad()\n",
        "  for p in model.parameters():\n",
        "    p.grad = 0.0\n",
        "  \n",
        "  total_loss.backward()\n",
        "\n",
        "  # update (with learning rate decay)\n",
        "  learning_rate = 1.0 - 0.9*k/100\n",
        "  for p in model.parameters():\n",
        "    p.data += -learning_rate * p.grad\n",
        "  \n",
        "  # break early if acc is 100%\n",
        "  if acc >= 1.0:\n",
        "    print(f\"Acc reached: {acc}, breaking early!\")\n",
        "    break\n"
      ],
      "metadata": {
        "colab": {
          "base_uri": "https://localhost:8080/",
          "height": 621
        },
        "id": "cNDnilXqqYmL",
        "outputId": "34985db8-9138-4adc-e547-5436d38508ff"
      },
      "execution_count": 249,
      "outputs": [
        {
          "output_type": "stream",
          "name": "stdout",
          "text": [
            "ITER 0 -- total_loss: 0.769134, accuracy: 0.67\n",
            "ITER 1 -- total_loss: 0.576677, accuracy: 0.71\n",
            "ITER 2 -- total_loss: 0.496437, accuracy: 0.76\n",
            "ITER 3 -- total_loss: 0.467540, accuracy: 0.78\n",
            "ITER 4 -- total_loss: 0.441887, accuracy: 0.8\n",
            "ITER 5 -- total_loss: 0.418867, accuracy: 0.8\n",
            "ITER 6 -- total_loss: 0.399194, accuracy: 0.82\n",
            "ITER 7 -- total_loss: 0.383543, accuracy: 0.82\n",
            "ITER 8 -- total_loss: 0.371238, accuracy: 0.83\n",
            "ITER 9 -- total_loss: 0.360421, accuracy: 0.84\n",
            "ITER 10 -- total_loss: 0.347484, accuracy: 0.82\n"
          ]
        },
        {
          "output_type": "error",
          "ename": "KeyboardInterrupt",
          "evalue": "ignored",
          "traceback": [
            "\u001b[0;31m---------------------------------------------------------------------------\u001b[0m",
            "\u001b[0;31mKeyboardInterrupt\u001b[0m                         Traceback (most recent call last)",
            "\u001b[0;32m<ipython-input-249-1a7cba9cc8bf>\u001b[0m in \u001b[0;36m<module>\u001b[0;34m\u001b[0m\n\u001b[1;32m      3\u001b[0m \u001b[0;34m\u001b[0m\u001b[0m\n\u001b[1;32m      4\u001b[0m   \u001b[0;31m# forward\u001b[0m\u001b[0;34m\u001b[0m\u001b[0;34m\u001b[0m\u001b[0;34m\u001b[0m\u001b[0m\n\u001b[0;32m----> 5\u001b[0;31m   \u001b[0mtotal_loss\u001b[0m\u001b[0;34m,\u001b[0m \u001b[0macc\u001b[0m \u001b[0;34m=\u001b[0m \u001b[0mloss\u001b[0m\u001b[0;34m(\u001b[0m\u001b[0;34m)\u001b[0m\u001b[0;34m\u001b[0m\u001b[0;34m\u001b[0m\u001b[0m\n\u001b[0m\u001b[1;32m      6\u001b[0m   \u001b[0mprint\u001b[0m\u001b[0;34m(\u001b[0m\u001b[0;34mf\"ITER {k} -- total_loss: {total_loss.data:.6f}, accuracy: {acc}\"\u001b[0m\u001b[0;34m)\u001b[0m\u001b[0;34m\u001b[0m\u001b[0;34m\u001b[0m\u001b[0m\n\u001b[1;32m      7\u001b[0m \u001b[0;34m\u001b[0m\u001b[0m\n",
            "\u001b[0;32m<ipython-input-247-0c9c68b9d1ec>\u001b[0m in \u001b[0;36mloss\u001b[0;34m(batch_size)\u001b[0m\n\u001b[1;32m     11\u001b[0m \u001b[0;34m\u001b[0m\u001b[0m\n\u001b[1;32m     12\u001b[0m   \u001b[0;31m# forward pass\u001b[0m\u001b[0;34m\u001b[0m\u001b[0;34m\u001b[0m\u001b[0;34m\u001b[0m\u001b[0m\n\u001b[0;32m---> 13\u001b[0;31m   \u001b[0mscores\u001b[0m \u001b[0;34m=\u001b[0m \u001b[0mlist\u001b[0m\u001b[0;34m(\u001b[0m\u001b[0mmap\u001b[0m\u001b[0;34m(\u001b[0m\u001b[0mmodel\u001b[0m\u001b[0;34m,\u001b[0m \u001b[0minputs\u001b[0m\u001b[0;34m)\u001b[0m\u001b[0;34m)\u001b[0m\u001b[0;34m\u001b[0m\u001b[0;34m\u001b[0m\u001b[0m\n\u001b[0m\u001b[1;32m     14\u001b[0m \u001b[0;34m\u001b[0m\u001b[0m\n\u001b[1;32m     15\u001b[0m   \u001b[0;31m# SVM max-margin loss\u001b[0m\u001b[0;34m\u001b[0m\u001b[0;34m\u001b[0m\u001b[0;34m\u001b[0m\u001b[0m\n",
            "\u001b[0;32m<ipython-input-224-465043c0416e>\u001b[0m in \u001b[0;36m__call__\u001b[0;34m(self, x)\u001b[0m\n\u001b[1;32m      9\u001b[0m   \u001b[0;32mdef\u001b[0m \u001b[0m__call__\u001b[0m\u001b[0;34m(\u001b[0m\u001b[0mself\u001b[0m\u001b[0;34m,\u001b[0m \u001b[0mx\u001b[0m\u001b[0;34m)\u001b[0m\u001b[0;34m:\u001b[0m\u001b[0;34m\u001b[0m\u001b[0;34m\u001b[0m\u001b[0m\n\u001b[1;32m     10\u001b[0m     \u001b[0;32mfor\u001b[0m \u001b[0mlayer\u001b[0m \u001b[0;32min\u001b[0m \u001b[0mself\u001b[0m\u001b[0;34m.\u001b[0m\u001b[0mlayers\u001b[0m\u001b[0;34m:\u001b[0m\u001b[0;34m\u001b[0m\u001b[0;34m\u001b[0m\u001b[0m\n\u001b[0;32m---> 11\u001b[0;31m       \u001b[0mx\u001b[0m \u001b[0;34m=\u001b[0m \u001b[0mlayer\u001b[0m\u001b[0;34m(\u001b[0m\u001b[0mx\u001b[0m\u001b[0;34m)\u001b[0m\u001b[0;34m\u001b[0m\u001b[0;34m\u001b[0m\u001b[0m\n\u001b[0m\u001b[1;32m     12\u001b[0m     \u001b[0;32mreturn\u001b[0m \u001b[0mx\u001b[0m\u001b[0;34m\u001b[0m\u001b[0;34m\u001b[0m\u001b[0m\n\u001b[1;32m     13\u001b[0m \u001b[0;34m\u001b[0m\u001b[0m\n",
            "\u001b[0;32m<ipython-input-222-14caaa33fda4>\u001b[0m in \u001b[0;36m__call__\u001b[0;34m(self, x)\u001b[0m\n\u001b[1;32m      5\u001b[0m \u001b[0;34m\u001b[0m\u001b[0m\n\u001b[1;32m      6\u001b[0m   \u001b[0;32mdef\u001b[0m \u001b[0m__call__\u001b[0m\u001b[0;34m(\u001b[0m\u001b[0mself\u001b[0m\u001b[0;34m,\u001b[0m \u001b[0mx\u001b[0m\u001b[0;34m)\u001b[0m\u001b[0;34m:\u001b[0m\u001b[0;34m\u001b[0m\u001b[0;34m\u001b[0m\u001b[0m\n\u001b[0;32m----> 7\u001b[0;31m     \u001b[0mouts\u001b[0m \u001b[0;34m=\u001b[0m \u001b[0;34m[\u001b[0m\u001b[0mn\u001b[0m\u001b[0;34m(\u001b[0m\u001b[0mx\u001b[0m\u001b[0;34m)\u001b[0m \u001b[0;32mfor\u001b[0m \u001b[0mn\u001b[0m \u001b[0;32min\u001b[0m \u001b[0mself\u001b[0m\u001b[0;34m.\u001b[0m\u001b[0mneurons\u001b[0m\u001b[0;34m]\u001b[0m\u001b[0;34m\u001b[0m\u001b[0;34m\u001b[0m\u001b[0m\n\u001b[0m\u001b[1;32m      8\u001b[0m     \u001b[0;32mreturn\u001b[0m \u001b[0mouts\u001b[0m\u001b[0;34m[\u001b[0m\u001b[0;36m0\u001b[0m\u001b[0;34m]\u001b[0m \u001b[0;32mif\u001b[0m \u001b[0mlen\u001b[0m\u001b[0;34m(\u001b[0m\u001b[0mouts\u001b[0m\u001b[0;34m)\u001b[0m \u001b[0;34m==\u001b[0m \u001b[0;36m1\u001b[0m \u001b[0;32melse\u001b[0m \u001b[0mouts\u001b[0m\u001b[0;34m\u001b[0m\u001b[0;34m\u001b[0m\u001b[0m\n\u001b[1;32m      9\u001b[0m \u001b[0;34m\u001b[0m\u001b[0m\n",
            "\u001b[0;32m<ipython-input-222-14caaa33fda4>\u001b[0m in \u001b[0;36m<listcomp>\u001b[0;34m(.0)\u001b[0m\n\u001b[1;32m      5\u001b[0m \u001b[0;34m\u001b[0m\u001b[0m\n\u001b[1;32m      6\u001b[0m   \u001b[0;32mdef\u001b[0m \u001b[0m__call__\u001b[0m\u001b[0;34m(\u001b[0m\u001b[0mself\u001b[0m\u001b[0;34m,\u001b[0m \u001b[0mx\u001b[0m\u001b[0;34m)\u001b[0m\u001b[0;34m:\u001b[0m\u001b[0;34m\u001b[0m\u001b[0;34m\u001b[0m\u001b[0m\n\u001b[0;32m----> 7\u001b[0;31m     \u001b[0mouts\u001b[0m \u001b[0;34m=\u001b[0m \u001b[0;34m[\u001b[0m\u001b[0mn\u001b[0m\u001b[0;34m(\u001b[0m\u001b[0mx\u001b[0m\u001b[0;34m)\u001b[0m \u001b[0;32mfor\u001b[0m \u001b[0mn\u001b[0m \u001b[0;32min\u001b[0m \u001b[0mself\u001b[0m\u001b[0;34m.\u001b[0m\u001b[0mneurons\u001b[0m\u001b[0;34m]\u001b[0m\u001b[0;34m\u001b[0m\u001b[0;34m\u001b[0m\u001b[0m\n\u001b[0m\u001b[1;32m      8\u001b[0m     \u001b[0;32mreturn\u001b[0m \u001b[0mouts\u001b[0m\u001b[0;34m[\u001b[0m\u001b[0;36m0\u001b[0m\u001b[0;34m]\u001b[0m \u001b[0;32mif\u001b[0m \u001b[0mlen\u001b[0m\u001b[0;34m(\u001b[0m\u001b[0mouts\u001b[0m\u001b[0;34m)\u001b[0m \u001b[0;34m==\u001b[0m \u001b[0;36m1\u001b[0m \u001b[0;32melse\u001b[0m \u001b[0mouts\u001b[0m\u001b[0;34m\u001b[0m\u001b[0;34m\u001b[0m\u001b[0m\n\u001b[1;32m      9\u001b[0m \u001b[0;34m\u001b[0m\u001b[0m\n",
            "\u001b[0;32m<ipython-input-220-cca322c70622>\u001b[0m in \u001b[0;36m__call__\u001b[0;34m(self, x)\u001b[0m\n\u001b[1;32m     13\u001b[0m   \u001b[0;32mdef\u001b[0m \u001b[0m__call__\u001b[0m\u001b[0;34m(\u001b[0m\u001b[0mself\u001b[0m\u001b[0;34m,\u001b[0m \u001b[0mx\u001b[0m\u001b[0;34m:\u001b[0m \u001b[0mAny\u001b[0m\u001b[0;34m)\u001b[0m \u001b[0;34m->\u001b[0m \u001b[0mValue\u001b[0m\u001b[0;34m:\u001b[0m\u001b[0;34m\u001b[0m\u001b[0;34m\u001b[0m\u001b[0m\n\u001b[1;32m     14\u001b[0m     \u001b[0;31m# activation(w * x + b)\u001b[0m\u001b[0;34m\u001b[0m\u001b[0;34m\u001b[0m\u001b[0;34m\u001b[0m\u001b[0m\n\u001b[0;32m---> 15\u001b[0;31m     \u001b[0mact\u001b[0m \u001b[0;34m=\u001b[0m \u001b[0mnp\u001b[0m\u001b[0;34m.\u001b[0m\u001b[0mdot\u001b[0m\u001b[0;34m(\u001b[0m\u001b[0mself\u001b[0m\u001b[0;34m.\u001b[0m\u001b[0mw\u001b[0m\u001b[0;34m,\u001b[0m \u001b[0mx\u001b[0m\u001b[0;34m)\u001b[0m \u001b[0;34m+\u001b[0m \u001b[0mself\u001b[0m\u001b[0;34m.\u001b[0m\u001b[0mb\u001b[0m\u001b[0;34m\u001b[0m\u001b[0;34m\u001b[0m\u001b[0m\n\u001b[0m\u001b[1;32m     16\u001b[0m     \u001b[0mout\u001b[0m \u001b[0;34m=\u001b[0m \u001b[0mself\u001b[0m\u001b[0;34m.\u001b[0m\u001b[0m_activation\u001b[0m\u001b[0;34m(\u001b[0m\u001b[0mact\u001b[0m\u001b[0;34m)\u001b[0m\u001b[0;34m\u001b[0m\u001b[0;34m\u001b[0m\u001b[0m\n\u001b[1;32m     17\u001b[0m     \u001b[0;32mreturn\u001b[0m \u001b[0mout\u001b[0m\u001b[0;34m\u001b[0m\u001b[0;34m\u001b[0m\u001b[0m\n",
            "\u001b[0;32m<__array_function__ internals>\u001b[0m in \u001b[0;36mdot\u001b[0;34m(*args, **kwargs)\u001b[0m\n",
            "\u001b[0;32m<ipython-input-176-145ccdc5a18d>\u001b[0m in \u001b[0;36m__mul__\u001b[0;34m(self, other)\u001b[0m\n\u001b[1;32m     56\u001b[0m   \u001b[0;32mdef\u001b[0m \u001b[0m__mul__\u001b[0m\u001b[0;34m(\u001b[0m\u001b[0mself\u001b[0m\u001b[0;34m,\u001b[0m \u001b[0mother\u001b[0m\u001b[0;34m)\u001b[0m\u001b[0;34m:\u001b[0m\u001b[0;34m\u001b[0m\u001b[0;34m\u001b[0m\u001b[0m\n\u001b[1;32m     57\u001b[0m     \u001b[0mother\u001b[0m \u001b[0;34m=\u001b[0m \u001b[0mother\u001b[0m \u001b[0;32mif\u001b[0m \u001b[0misinstance\u001b[0m\u001b[0;34m(\u001b[0m\u001b[0mother\u001b[0m\u001b[0;34m,\u001b[0m \u001b[0mValue\u001b[0m\u001b[0;34m)\u001b[0m \u001b[0;32melse\u001b[0m \u001b[0mValue\u001b[0m\u001b[0;34m(\u001b[0m\u001b[0mother\u001b[0m\u001b[0;34m,\u001b[0m \u001b[0mlabel\u001b[0m\u001b[0;34m=\u001b[0m\u001b[0mstr\u001b[0m\u001b[0;34m(\u001b[0m\u001b[0mother\u001b[0m\u001b[0;34m)\u001b[0m\u001b[0;34m)\u001b[0m\u001b[0;34m\u001b[0m\u001b[0;34m\u001b[0m\u001b[0m\n\u001b[0;32m---> 58\u001b[0;31m     \u001b[0;32mdef\u001b[0m \u001b[0m_mul\u001b[0m\u001b[0;34m(\u001b[0m\u001b[0ma\u001b[0m\u001b[0;34m,\u001b[0m \u001b[0mb\u001b[0m\u001b[0;34m)\u001b[0m\u001b[0;34m:\u001b[0m\u001b[0;34m\u001b[0m\u001b[0;34m\u001b[0m\u001b[0m\n\u001b[0m\u001b[1;32m     59\u001b[0m       \u001b[0;32mreturn\u001b[0m \u001b[0ma\u001b[0m\u001b[0;34m.\u001b[0m\u001b[0mdata\u001b[0m \u001b[0;34m*\u001b[0m \u001b[0mb\u001b[0m\u001b[0;34m.\u001b[0m\u001b[0mdata\u001b[0m\u001b[0;34m\u001b[0m\u001b[0;34m\u001b[0m\u001b[0m\n\u001b[1;32m     60\u001b[0m \u001b[0;34m\u001b[0m\u001b[0m\n",
            "\u001b[0;31mKeyboardInterrupt\u001b[0m: "
          ]
        }
      ]
    },
    {
      "cell_type": "code",
      "source": [
        " # visualize decision boundary\n",
        "\n",
        "h = 0.25\n",
        "x_min, x_max = X[:, 0].min() - 1, X[:, 0].max() + 1\n",
        "y_min, y_max = X[:, 1].min() - 1, X[:, 1].max() + 1\n",
        "xx, yy = np.meshgrid(np.arange(x_min, x_max, h),\n",
        "                     np.arange(y_min, y_max, h))\n",
        "Xmesh = np.c_[xx.ravel(), yy.ravel()]\n",
        "inputs = [list(map(Value, xrow)) for xrow in Xmesh]\n",
        "scores = list(map(model, inputs))\n",
        "Z = np.array([s.data > 0 for s in scores])\n",
        "Z = Z.reshape(xx.shape)\n",
        "\n",
        "fig = plt.figure()\n",
        "plt.contourf(xx, yy, Z, cmap=plt.cm.Spectral, alpha=0.8)\n",
        "plt.scatter(X[:, 0], X[:, 1], c=y, s=40, cmap=plt.cm.Spectral)\n",
        "plt.xlim(xx.min(), xx.max())\n",
        "plt.ylim(yy.min(), yy.max())"
      ],
      "metadata": {
        "colab": {
          "base_uri": "https://localhost:8080/",
          "height": 283
        },
        "id": "uWtNqk6try9K",
        "outputId": "d623a8c8-4da5-4981-b64a-1e3afddb8986"
      },
      "execution_count": 250,
      "outputs": [
        {
          "output_type": "execute_result",
          "data": {
            "text/plain": [
              "(-1.548639298268643, 1.951360701731357)"
            ]
          },
          "metadata": {},
          "execution_count": 250
        },
        {
          "output_type": "display_data",
          "data": {
            "text/plain": [
              "<Figure size 432x288 with 1 Axes>"
            ],
            "image/png": "[encoded data removed]"
          },
          "metadata": {
            "needs_background": "light"
          }
        }
      ]
    },
    {
      "cell_type": "code",
      "source": [
        "def test_sanity_check():\n",
        "\n",
        "    x = Value(-4.0)\n",
        "    z = 2 * x + 2 + x\n",
        "    q = z.tanh() + z * x\n",
        "    h = (z * z).tanh()\n",
        "    # q = z.relu() + z * x\n",
        "    # h = (z * z).relu()\n",
        "    # q = z.softplus() + z * x\n",
        "    # h = (z * z).softplus()\n",
        "    y = h + q + q * x\n",
        "    y.backward()\n",
        "    xmg, ymg = x, y\n",
        "\n",
        "    x = torch.Tensor([-4.0]).double()\n",
        "    x.requires_grad = True\n",
        "    z = 2 * x + 2 + x\n",
        "    # q = z.relu() + z * x\n",
        "    # h = (z * z).relu()\n",
        "    q = z.tanh() + z * x\n",
        "    h = (z * z).tanh()\n",
        "    y = h + q + q * x\n",
        "    y.backward()\n",
        "    xpt, ypt = x, y\n",
        "\n",
        "    tolerance = 1e-3\n",
        "    # forward pass went well\n",
        "    print(f\"ymg.data: {ymg.data}, ypt.data: {ypt.data.item()}\")\n",
        "    assert abs(ymg.data - ypt.data.item()) <= tolerance\n",
        "    # backward pass went well\n",
        "    print(f\"xmg.grad: {xmg.grad}, xpt.grad: {xpt.grad.item()}\")\n",
        "    assert abs(xmg.grad - xpt.grad.item()) <= tolerance\n",
        "\n",
        "test_sanity_check()"
      ],
      "metadata": {
        "colab": {
          "base_uri": "https://localhost:8080/"
        },
        "id": "Cb7_fhDA16ei",
        "outputId": "e8e59316-1570-4ec4-a820-a18277750550"
      },
      "execution_count": 305,
      "outputs": [
        {
          "output_type": "stream",
          "name": "stdout",
          "text": [
            "ymg.data: -116.00000001236691, ypt.data: -116.00000001236691\n",
            "xmg.grad: 104.99999992992078, xpt.grad: 104.99999992992078\n"
          ]
        }
      ]
    },
    {
      "cell_type": "code",
      "source": [
        "def test_more_ops():\n",
        "\n",
        "    a = Value(-4.0)\n",
        "    b = Value(2.0)\n",
        "    c = a + b\n",
        "    d = a * b + b**3\n",
        "    c += c + 1\n",
        "    c += 1 + c + (-a)\n",
        "    # d += d * 2 + (b + a).relu()\n",
        "    # d += 3 * d + (b - a).relu()\n",
        "    d += d * 2 + (b + a).tanh()\n",
        "    d += 3 * d + (b - a).tanh()\n",
        "    e = c - d\n",
        "    f = e**2\n",
        "    g = f / 2.0\n",
        "    g += Value(10.0) / f\n",
        "    g.backward()\n",
        "    amg, bmg, gmg = a, b, g\n",
        "\n",
        "    a = torch.Tensor([-4.0]).double()\n",
        "    b = torch.Tensor([2.0]).double()\n",
        "    a.requires_grad = True\n",
        "    b.requires_grad = True\n",
        "    c = a + b\n",
        "    d = a * b + b**3\n",
        "    c = c + c + 1\n",
        "    c = c + 1 + c + (-a)\n",
        "    # d = d + d * 2 + (b + a).relu()\n",
        "    # d = d + 3 * d + (b - a).relu()\n",
        "    d = d + d * 2 + (b + a).tanh()\n",
        "    d = d + 3 * d + (b - a).tanh()\n",
        "    e = c - d\n",
        "    f = e**2\n",
        "    g = f / 2.0\n",
        "    g = g + 10.0 / f\n",
        "    g.backward()\n",
        "    apt, bpt, gpt = a, b, g\n",
        "\n",
        "    tol = 1e-6\n",
        "    # forward pass went well\n",
        "    print(f\"gmg.data: {gmg.data}, gpt.data: {gpt.data.item()}\")\n",
        "    assert abs(gmg.data - gpt.data.item()) < tol\n",
        "    \n",
        "    # backward pass went well\n",
        "    print(f\"amg.grad: {amg.grad}, apt.grad: {apt.grad.item()}\")\n",
        "    # assert abs(amg.grad - apt.grad.item()) < tol\n",
        "\n",
        "    print(f\"bmg.grad: {bmg.grad}, bpt.grad: {bpt.grad.item()}\")\n",
        "    assert abs(bmg.grad - bpt.grad.item()) < tol\n",
        "\n",
        "test_more_ops()"
      ],
      "metadata": {
        "colab": {
          "base_uri": "https://localhost:8080/"
        },
        "id": "fd3qWtp2MeEX",
        "outputId": "6000db7c-be88-48d3-b100-557f0d3b7f07"
      },
      "execution_count": 304,
      "outputs": [
        {
          "output_type": "stream",
          "name": "stdout",
          "text": [
            "gmg.data: 4.625192144640556, gpt.data: 4.625192144640555\n",
            "amg.grad: 27.060135135849574, apt.grad: 27.060135135849503\n",
            "bmg.grad: 117.33448345392071, bpt.grad: 117.33448345392043\n"
          ]
        }
      ]
    },
    {
      "cell_type": "code",
      "source": [],
      "metadata": {
        "id": "3miMoyu9Rmij"
      },
      "execution_count": null,
      "outputs": []
    }
  ]
}