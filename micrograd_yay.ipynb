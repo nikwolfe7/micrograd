{
  "nbformat": 4,
  "nbformat_minor": 0,
  "metadata": {
    "colab": {
      "provenance": [],
      "authorship_tag": "ABX9TyONxlIpb/5JkjXDtgHx4c9p",
      "include_colab_link": true
    },
    "kernelspec": {
      "name": "python3",
      "display_name": "Python 3"
    },
    "language_info": {
      "name": "python"
    }
  },
  "cells": [
    {
      "cell_type": "markdown",
      "metadata": {
        "id": "view-in-github",
        "colab_type": "text"
      },
      "source": [
        "<a href=\"https://colab.research.google.com/github/nikwolfe7/micrograd/blob/master/micrograd_yay.ipynb\" target=\"_parent\"><img src=\"https://colab.research.google.com/assets/colab-badge.svg\" alt=\"Open In Colab\"/></a>"
      ]
    },
    {
      "cell_type": "code",
      "execution_count": 94,
      "metadata": {
        "id": "4t3r9lDvHB62"
      },
      "outputs": [],
      "source": [
        "import math\n",
        "import numpy as np\n",
        "import matplotlib.pyplot as plt\n",
        "import copy\n",
        "%matplotlib inline"
      ]
    },
    {
      "cell_type": "code",
      "source": [
        "def f(x):\n",
        "  return 3 * x ** 2 - 4 * x + 5"
      ],
      "metadata": {
        "id": "p_9R4vurHgZ5"
      },
      "execution_count": 95,
      "outputs": []
    },
    {
      "cell_type": "code",
      "source": [
        "f(3.0)"
      ],
      "metadata": {
        "colab": {
          "base_uri": "https://localhost:8080/"
        },
        "id": "cab9LHbvHwh9",
        "outputId": "00b36a5b-dfe6-46b5-d65c-8cdca058244c"
      },
      "execution_count": 96,
      "outputs": [
        {
          "output_type": "execute_result",
          "data": {
            "text/plain": [
              "20.0"
            ]
          },
          "metadata": {},
          "execution_count": 96
        }
      ]
    },
    {
      "cell_type": "code",
      "source": [
        "# range of numbers from -5 to 5, steps of 0.25\n",
        "xs = np.arange(-5, 5, 0.25)\n",
        "# get a set of values for f(x)\n",
        "ys = f(xs)\n",
        "ys"
      ],
      "metadata": {
        "colab": {
          "base_uri": "https://localhost:8080/"
        },
        "id": "nxYN6IDsHxdw",
        "outputId": "51298caf-e676-4ab7-a5c0-99b53e9833fe"
      },
      "execution_count": 97,
      "outputs": [
        {
          "output_type": "execute_result",
          "data": {
            "text/plain": [
              "array([100.    ,  91.6875,  83.75  ,  76.1875,  69.    ,  62.1875,\n",
              "        55.75  ,  49.6875,  44.    ,  38.6875,  33.75  ,  29.1875,\n",
              "        25.    ,  21.1875,  17.75  ,  14.6875,  12.    ,   9.6875,\n",
              "         7.75  ,   6.1875,   5.    ,   4.1875,   3.75  ,   3.6875,\n",
              "         4.    ,   4.6875,   5.75  ,   7.1875,   9.    ,  11.1875,\n",
              "        13.75  ,  16.6875,  20.    ,  23.6875,  27.75  ,  32.1875,\n",
              "        37.    ,  42.1875,  47.75  ,  53.6875])"
            ]
          },
          "metadata": {},
          "execution_count": 97
        }
      ]
    },
    {
      "cell_type": "code",
      "source": [
        "plt.plot(xs, ys)"
      ],
      "metadata": {
        "colab": {
          "base_uri": "https://localhost:8080/",
          "height": 283
        },
        "id": "4b4WQQ0vH-3k",
        "outputId": "ed54a9ff-4e31-4b6d-b5da-9d61bfe714d0"
      },
      "execution_count": 98,
      "outputs": [
        {
          "output_type": "execute_result",
          "data": {
            "text/plain": [
              "[<matplotlib.lines.Line2D at 0x7f8a594ad280>]"
            ]
          },
          "metadata": {},
          "execution_count": 98
        },
        {
          "output_type": "display_data",
          "data": {
            "text/plain": [
              "<Figure size 432x288 with 1 Axes>"
            ],
            "image/png": "[encoded data removed]"
          },
          "metadata": {
            "needs_background": "light"
          }
        }
      ]
    },
    {
      "cell_type": "markdown",
      "source": [
        "From https://en.wikipedia.org/wiki/Derivative"
      ],
      "metadata": {
        "id": "riNpWcZMK8w5"
      }
    },
    {
      "cell_type": "code",
      "source": [
        "# h = 0.00000000000000001 # note this value is too small, leads to underflow\n",
        "h = 0.00000001\n",
        "x = 3.0\n",
        "\n",
        "# definition of the derivative\n",
        "# (f(x + h) - f(x)) / h"
      ],
      "metadata": {
        "id": "GeLVcz7GIxRi"
      },
      "execution_count": 99,
      "outputs": []
    },
    {
      "cell_type": "markdown",
      "source": [
        "Derivative of the function using power rule"
      ],
      "metadata": {
        "id": "CyB2ww14LvFQ"
      }
    },
    {
      "cell_type": "code",
      "source": [
        "# 3 * x ** 2 - 4 * x + 5\n",
        "def dfdx(x):\n",
        "  return 6 * x - 4"
      ],
      "metadata": {
        "id": "wcm4bjD-K1YC"
      },
      "execution_count": 100,
      "outputs": []
    },
    {
      "cell_type": "markdown",
      "source": [
        "See it's the same value. Yay."
      ],
      "metadata": {
        "id": "6MUj0nIlMH6W"
      }
    },
    {
      "cell_type": "code",
      "source": [
        "dfdx(x)"
      ],
      "metadata": {
        "colab": {
          "base_uri": "https://localhost:8080/"
        },
        "id": "_0B0ALrNMDYm",
        "outputId": "73c468e8-0f3b-47b4-f633-1a44b3895ee0"
      },
      "execution_count": 101,
      "outputs": [
        {
          "output_type": "execute_result",
          "data": {
            "text/plain": [
              "14.0"
            ]
          },
          "metadata": {},
          "execution_count": 101
        }
      ]
    },
    {
      "cell_type": "markdown",
      "source": [
        "Getting more complex..."
      ],
      "metadata": {
        "id": "p0oCBSKFMdw3"
      }
    },
    {
      "cell_type": "code",
      "source": [
        "def fd(a, b, c):\n",
        "  return a * b + c"
      ],
      "metadata": {
        "id": "nU_L6llIN3wx"
      },
      "execution_count": 102,
      "outputs": []
    },
    {
      "cell_type": "code",
      "source": [
        "a = 2.0\n",
        "b = -3.0\n",
        "c = 10.0\n",
        "d = fd(a, b, c)\n",
        "print(d)"
      ],
      "metadata": {
        "colab": {
          "base_uri": "https://localhost:8080/"
        },
        "id": "fjKBb9W5MGHU",
        "outputId": "dedb6edf-27d0-49b2-ea20-7fc0096c8d7a"
      },
      "execution_count": 103,
      "outputs": [
        {
          "output_type": "stream",
          "name": "stdout",
          "text": [
            "4.0\n"
          ]
        }
      ]
    },
    {
      "cell_type": "markdown",
      "source": [
        "Evaluating the derivative of the function above `a * b + c` with respect to each variable"
      ],
      "metadata": {
        "id": "0dmWnR5kNAJN"
      }
    },
    {
      "cell_type": "code",
      "source": [
        "h = 0.00001\n",
        "\n",
        "# fix the inputs\n",
        "a = 2.0\n",
        "b = -3.0\n",
        "c = 10.0\n",
        "\n",
        "d1 = fd(a, b, c)\n",
        "# increas a by h to get small change in function\n",
        "c += h\n",
        "d2 = fd(a, b, c)\n",
        "\n",
        "print(f\"d1 = {d1}, d2 = {d2}, slope = {(d2 - d1)/h}\")"
      ],
      "metadata": {
        "colab": {
          "base_uri": "https://localhost:8080/"
        },
        "id": "6p-UUlUrMwxs",
        "outputId": "e6157a14-1432-44ad-9e3c-0eec6110ccb8"
      },
      "execution_count": 104,
      "outputs": [
        {
          "output_type": "stream",
          "name": "stdout",
          "text": [
            "d1 = 4.0, d2 = 4.00001, slope = 0.9999999999621422\n"
          ]
        }
      ]
    },
    {
      "cell_type": "markdown",
      "source": [
        "Making the code above more modular..."
      ],
      "metadata": {
        "id": "l7GE4ZLDQUfq"
      }
    },
    {
      "cell_type": "code",
      "source": [
        "h = 0.00001\n",
        "\n",
        "# fix the inputs\n",
        "a = 2.0\n",
        "b = -3.0\n",
        "c = 10.0\n",
        "\n",
        "# differentiability\n",
        "# L = lim(h -> 0) (f(a + h) - f(a)) / h\n",
        "\n",
        "# Derivative with respect to a\n",
        "df_da = (fd(a+h, b, c) - fd(a, b, c)) / h\n",
        "\n",
        "print(f\"df/da:\\n d1 = {fd(a,b,c)}, d2 = {fd(a+h,b,c)}, slope = {df_da}\")\n",
        "\n",
        "# Derivative with respect to b\n",
        "df_db = (fd(a, b+h, c) - fd(a, b, c)) / h\n",
        "\n",
        "print(f\"df/db:\\n d1 = {fd(a,b,c)}, d2 = {fd(a,b+h,c)}, slope = {df_db}\")\n",
        "\n",
        "# Derivative with respect to c\n",
        "df_dc = (fd(a, b, c+h) - fd(a, b, c)) / h\n",
        "\n",
        "print(f\"df/db:\\n d1 = {fd(a,b,c)}, d2 = {fd(a,b,c+h)}, slope = {df_dc}\")"
      ],
      "metadata": {
        "colab": {
          "base_uri": "https://localhost:8080/"
        },
        "id": "3O8vRWEmQXLA",
        "outputId": "9466d92f-8879-4ba4-dfc5-1259babb3779"
      },
      "execution_count": 105,
      "outputs": [
        {
          "output_type": "stream",
          "name": "stdout",
          "text": [
            "df/da:\n",
            " d1 = 4.0, d2 = 3.9999699999999994, slope = -3.000000000064062\n",
            "df/db:\n",
            " d1 = 4.0, d2 = 4.00002, slope = 2.0000000000131024\n",
            "df/db:\n",
            " d1 = 4.0, d2 = 4.00001, slope = 0.9999999999621422\n"
          ]
        }
      ]
    },
    {
      "cell_type": "markdown",
      "source": [
        "Test function to compute derivative of arbitrary function w.r.t (with respect to) a variable in the args list"
      ],
      "metadata": {
        "id": "6oIluDyftNfz"
      }
    },
    {
      "cell_type": "code",
      "source": [
        "def gradient(func, args, wrt):\n",
        "    h = 0.00001\n",
        "    # find which arg we're deriving with respect to\n",
        "    h_args = []\n",
        "    for arg in list(args):\n",
        "      if wrt is arg:\n",
        "        arg += h\n",
        "      h_args.append(arg)\n",
        "    h_args = tuple(h_args)\n",
        "    # (f(a+h) - f(a)) / h\n",
        "    g = (func(*h_args) - func(*args)) / h\n",
        "    return g"
      ],
      "metadata": {
        "id": "e8wgdZL9orra"
      },
      "execution_count": 106,
      "outputs": []
    },
    {
      "cell_type": "code",
      "source": [
        "# fix the inputs\n",
        "a = 2.0\n",
        "b = -3.0\n",
        "c = 10.0\n",
        "\n",
        "# Derivative with respect to a\n",
        "df_da = (fd(a+h, b, c) - fd(a, b, c)) / h\n",
        "print(f\"df_da: {df_da}\")\n",
        "\n",
        "# Derivative with respect to b\n",
        "df_db = (fd(a, b+h, c) - fd(a, b, c)) / h\n",
        "print(f\"df_db: {df_db}\")\n",
        "\n",
        "# Derivative with respect to c\n",
        "df_dc = (fd(a, b, c+h) - fd(a, b, c)) / h\n",
        "print(f\"df_dc: {df_dc}\")"
      ],
      "metadata": {
        "colab": {
          "base_uri": "https://localhost:8080/"
        },
        "id": "HVXnQxRHo4kO",
        "outputId": "e13275f5-ff11-4eb1-89d2-7007997a2173"
      },
      "execution_count": 107,
      "outputs": [
        {
          "output_type": "stream",
          "name": "stdout",
          "text": [
            "df_da: -3.000000000064062\n",
            "df_db: 2.0000000000131024\n",
            "df_dc: 0.9999999999621422\n"
          ]
        }
      ]
    },
    {
      "cell_type": "code",
      "source": [
        "print(f\"df_da: {gradient(fd, (a,b,c), wrt=a)}\")\n",
        "print(f\"df_db: {gradient(fd, (a,b,c), wrt=b)}\")\n",
        "print(f\"df_dc: {gradient(fd, (a,b,c), wrt=c)}\")"
      ],
      "metadata": {
        "colab": {
          "base_uri": "https://localhost:8080/"
        },
        "id": "_3uinm02pINS",
        "outputId": "9ef59096-c558-42be-d770-500f7f311d19"
      },
      "execution_count": 108,
      "outputs": [
        {
          "output_type": "stream",
          "name": "stdout",
          "text": [
            "df_da: -3.000000000064062\n",
            "df_db: 2.0000000000131024\n",
            "df_dc: 0.9999999999621422\n"
          ]
        }
      ]
    },
    {
      "cell_type": "markdown",
      "source": [
        "# Implementing `Value` Class"
      ],
      "metadata": {
        "id": "Ird1SjTPP8v6"
      }
    },
    {
      "cell_type": "code",
      "source": [
        "import copy\n",
        "\n",
        "class Value:\n",
        "\n",
        "  # used for computing gradients\n",
        "  h = 0.000000001\n",
        "  # TODO(nikwolfe7): Remove autograd flag when we confirm it works\n",
        "  do_autograd = True\n",
        "\n",
        "  def __init__(self, data, _children=(), _op='', label=''):\n",
        "    self.data = data\n",
        "    self.grad = 0.0\n",
        "    self._backward = lambda: None\n",
        "    self._prev = set(_children)\n",
        "    self._op = _op\n",
        "    self.label = label\n",
        "  \n",
        "\n",
        "  def __repr__(self):\n",
        "    return f\"Value(data={self.data})\"\n",
        "\n",
        "  \n",
        "  def _autograd(self, func, args, wrt):\n",
        "    # find which arg we're deriving with respect to\n",
        "    h_args = []\n",
        "    for arg in args:\n",
        "      # must point to same reference\n",
        "      if wrt is arg: \n",
        "        # arg must be a new value object\n",
        "        arg = Value(arg.data)\n",
        "        arg.data += self.h\n",
        "      h_args.append(arg)\n",
        "    h_args = tuple(h_args)\n",
        "    # definition of derivative\n",
        "    # (f(a+h) - f(a)) / h\n",
        "    g = (func(*h_args) - func(*args)) * (self.h ** -1)\n",
        "    return g\n",
        "\n",
        "\n",
        "  def __add__(self, other):\n",
        "    other = other if isinstance(other, Value) else Value(other, label=str(other))\n",
        "    def _add(a, b):\n",
        "      return a.data + b.data\n",
        "\n",
        "    v = _add(self, other)\n",
        "    out = Value(v, (self, other), '+')\n",
        "\n",
        "    def _backward():\n",
        "      self.grad += out.grad\n",
        "      other.grad += out.grad\n",
        "    \n",
        "    out._backward = _backward\n",
        "    return out\n",
        "\n",
        "\n",
        "  def __mul__(self, other):\n",
        "    other = other if isinstance(other, Value) else Value(other, label=str(other))\n",
        "    def _mul(a, b):\n",
        "      return a.data * b.data\n",
        "    \n",
        "    v = _mul(self, other)\n",
        "    out = Value(v, (self, other), '*')\n",
        "\n",
        "    def _backward():\n",
        "      if self.do_autograd:\n",
        "        self.grad += self._autograd(_mul, (self, other), wrt=self) * out.grad\n",
        "        other.grad += self._autograd(_mul, (self, other), wrt=other) * out.grad\n",
        "      else:\n",
        "        self.grad += other.data * out.grad\n",
        "        other.grad += self.data * out.grad\n",
        "\n",
        "    out._backward = _backward\n",
        "    return out\n",
        "\n",
        "\n",
        "  def tanh(self):\n",
        "    def _tanh(a):\n",
        "      return (math.exp(2 * a.data) - 1.0) / (math.exp(2 * a.data) + 1.0) \n",
        "    \n",
        "    v = _tanh(self)\n",
        "    out = Value(v, _children=(self, ), _op='tanh')\n",
        "\n",
        "    def _backward():\n",
        "      if self.do_autograd:\n",
        "        self.grad += self._autograd(_tanh, (self,), wrt=self) * out.grad\n",
        "      else:\n",
        "        # d/dx tanh(x) = 1 - tanh(x)^2\n",
        "        self.grad += (1.0 - v ** 2) * out.grad\n",
        "\n",
        "    out._backward = _backward\n",
        "    return out\n",
        "\n",
        "  \n",
        "  def sigmoid(self):\n",
        "    def _sigmoid(a):\n",
        "      # 1 / (1 + e^(-x))\n",
        "      return (1 + math.exp(-a.data)) ** -1\n",
        "    \n",
        "    v = _sigmoid(self)\n",
        "    out = Value(v, _children=(self,), _op='sigmoid')\n",
        "\n",
        "    def _backward():\n",
        "      if self.do_autograd:\n",
        "        self.grad += self._autograd(_sigmoid, (self,), wrt=self) * out.grad\n",
        "      else:\n",
        "        # d/dx sig(x) = sig(x)(1 - sig(x))\n",
        "        self.grad += out.data * (1 - out.data) * out.grad\n",
        "    \n",
        "    out._backward = _backward\n",
        "    return out\n",
        "\n",
        "\n",
        "  def softplus(self):\n",
        "    def _softplus(a):\n",
        "      # f(x) = log(1 + exp(x))\n",
        "      return math.log(1 + math.exp(a.data))\n",
        "    \n",
        "    v = _softplus(self)\n",
        "    out = Value(v, _children=(self,), _op='softplus')\n",
        "\n",
        "    def _backward():\n",
        "      if self.do_autograd:\n",
        "        self.grad += self._autograd(_softplus, (self,), wrt=self) * out.grad\n",
        "      else:\n",
        "        # d/dx softplus(x) = sigmoid(x)\n",
        "        self.grad += self.sigmoid().data * out.grad\n",
        "    \n",
        "    out._backward = _backward\n",
        "    return out\n",
        "  \n",
        "\n",
        "  def relu(self):\n",
        "    def _relu(a):\n",
        "      return max(0, a.data)\n",
        "    \n",
        "    v = _relu(self)\n",
        "    out = Value(v, _children=(self,), _op='ReLU')\n",
        "\n",
        "    def _backward():\n",
        "      if self.do_autograd:\n",
        "        self.grad += self._autograd(_relu, (self,), wrt=self) * out.grad\n",
        "      else:\n",
        "        self.grad += (self.data > 0) * out.grad\n",
        "    \n",
        "    out._backward = _backward\n",
        "    return out\n",
        "\n",
        "\n",
        "  def __pow__(self, other): \n",
        "    assert isinstance(other, (int, float)), \"only supporting int/float powers for now\"\n",
        "    def _pow(a, b):\n",
        "      return a.data ** b\n",
        "\n",
        "    v = _pow(self, other)  \n",
        "    out = Value(v, (self,), f\"**{other}\")\n",
        "\n",
        "    def _backward():\n",
        "      if self.do_autograd:\n",
        "        self.grad += self._autograd(_pow, (self, other), self) * out.grad\n",
        "      else:\n",
        "        # power rule...\n",
        "        self.grad += other * _pow(self, other - 1) * out.grad\n",
        "\n",
        "    out._backward = _backward\n",
        "    return out\n",
        "\n",
        "\n",
        "  def exp(self):\n",
        "    \"\"\"returns e^(data)\"\"\"\n",
        "    def _exp(a):\n",
        "      return math.exp(a.data)\n",
        "    \n",
        "    v = _exp(self)\n",
        "    out = Value(v, (self,), _op='exp')\n",
        "\n",
        "    def _backward():\n",
        "      if self.do_autograd:\n",
        "        self.grad += self._autograd(_exp, (self,), wrt=self) * out.grad\n",
        "      else:\n",
        "        # d/dx e^x = e^x\n",
        "        self.grad += out.data * out.grad\n",
        "    \n",
        "    out._backward = _backward\n",
        "    return out\n",
        "  \n",
        "\n",
        "  def __neg__(self): # -self\n",
        "    return self * -1\n",
        "\n",
        "\n",
        "  def __sub__(self, other): # subtraction\n",
        "    return self + (-other)  \n",
        "\n",
        "\n",
        "  def __rmul__(self, other): # other is self\n",
        "    return self * other\n",
        "\n",
        "  \n",
        "  def __radd__(self, other): # other is self\n",
        "    return self + other\n",
        "\n",
        "\n",
        "  def __truediv__(self, other): # self / other\n",
        "    return self * other ** -1\n",
        "\n",
        "\n",
        "  def backward(self):\n",
        "    topo = []\n",
        "    visited = set()\n",
        "    def build_topo(v):\n",
        "      if v not in visited:\n",
        "        visited.add(v)\n",
        "        for child in v._prev:\n",
        "          build_topo(child)\n",
        "        topo.append(v)\n",
        "    build_topo(self)\n",
        "\n",
        "    # run backprop in reverse topological order\n",
        "    self.grad = 1.0\n",
        "    for val in reversed(topo):\n",
        "      val._backward()\n"
      ],
      "metadata": {
        "id": "g3nTKEOvOh-D"
      },
      "execution_count": 109,
      "outputs": []
    },
    {
      "cell_type": "code",
      "source": [
        "def test():\n",
        "  a = Value(2.0, label='a')\n",
        "  b = Value(4.0, label='b')\n",
        "  a.do_autograd = True\n",
        "  b.do_autograd = True\n",
        "  print(a / b)\n",
        "\n",
        "  a.backward()\n",
        "  print(a.grad)\n",
        "\n",
        "test()"
      ],
      "metadata": {
        "colab": {
          "base_uri": "https://localhost:8080/"
        },
        "id": "BT-HYctOIN29",
        "outputId": "7c7d60ee-e53f-40f2-8fd4-1c0cf503e6cf"
      },
      "execution_count": 110,
      "outputs": [
        {
          "output_type": "stream",
          "name": "stdout",
          "text": [
            "Value(data=0.5)\n",
            "1.0\n"
          ]
        }
      ]
    },
    {
      "cell_type": "markdown",
      "source": [
        "# GraphViz Functions to Display Computation Graph"
      ],
      "metadata": {
        "id": "iaUBXttoSJI4"
      }
    },
    {
      "cell_type": "code",
      "source": [
        "from graphviz import Digraph\n",
        "\n",
        "def trace(root):\n",
        "  # builds a set of all nodes and edges in a graph\n",
        "  nodes, edges = set(), set()\n",
        "  def build(v):\n",
        "    if v not in nodes:\n",
        "      nodes.add(v)\n",
        "      for child in v._prev:\n",
        "        edges.add((child, v))\n",
        "        build(child)\n",
        "  build(root)\n",
        "  return nodes, edges\n",
        "\n",
        "def draw_dot(root):\n",
        "  dot = Digraph(format='svg', graph_attr={'rankdir': 'LR'}) # LR = left to right\n",
        "  \n",
        "  nodes, edges = trace(root)\n",
        "  for n in nodes:\n",
        "    uid = str(id(n))\n",
        "    # for any value in the graph, create a rectangular ('record') node for it\n",
        "    dot.node(name = uid, label = \"{ %s | data %.4f | grad %.4f }\" % (n.label, n.data, n.grad), shape = 'record')\n",
        "    if n._op:\n",
        "      # if this value is a result of some operation , create a node op for it\n",
        "      dot.node(name = uid + n._op, label = n._op)\n",
        "      # and connect this node to it\n",
        "      dot.edge(uid + n._op, uid)\n",
        "  \n",
        "  for n1, n2 in edges:\n",
        "    # connect n1 to the op node of n2\n",
        "    dot.edge(str(id(n1)), str(id(n2)) + n2._op)\n",
        "\n",
        "  return dot"
      ],
      "metadata": {
        "id": "04A55Iu5Wei3"
      },
      "execution_count": 111,
      "outputs": []
    },
    {
      "cell_type": "markdown",
      "source": [
        "Let's create some values! And do ops on them!"
      ],
      "metadata": {
        "id": "F23lJHH6fLZV"
      }
    },
    {
      "cell_type": "code",
      "source": [
        "a = Value(2.0, label='a')\n",
        "b = Value(-3.0, label='b')\n",
        "c = Value(10.0, label='c')\n",
        "f = Value(-2.0, label='f')\n",
        "\n",
        "e = a * b; e.label = 'e'\n",
        "d = e + c; d.label = 'd' \n",
        "L = d * f; L.label = 'L'\n",
        "\n",
        "print(a + b)\n",
        "print(a * b)\n",
        "print(a * b + c)\n",
        "\n",
        "# using the function fd() from above\n",
        "# d = fd(a, b, c)\n",
        "\n",
        "print(d._prev)\n",
        "print(d._op)"
      ],
      "metadata": {
        "colab": {
          "base_uri": "https://localhost:8080/"
        },
        "id": "cQoprolkfIPr",
        "outputId": "d62382df-ba72-46dd-90fc-e941f6f07275"
      },
      "execution_count": 112,
      "outputs": [
        {
          "output_type": "stream",
          "name": "stdout",
          "text": [
            "Value(data=-1.0)\n",
            "Value(data=-6.0)\n",
            "Value(data=4.0)\n",
            "{Value(data=-6.0), Value(data=10.0)}\n",
            "+\n"
          ]
        }
      ]
    },
    {
      "cell_type": "code",
      "source": [
        "draw_dot(L)"
      ],
      "metadata": {
        "colab": {
          "base_uri": "https://localhost:8080/",
          "height": 249
        },
        "id": "B5QQSgvAwKwz",
        "outputId": "9e1328cd-c499-4f21-979e-0d1d16dd1d07"
      },
      "execution_count": 113,
      "outputs": [
        {
          "output_type": "execute_result",
          "data": {
            "text/plain": [
              "<graphviz.dot.Digraph at 0x7f8a587c3cd0>"
            ],
            "image/svg+xml": "<?xml version=\"1.0\" encoding=\"UTF-8\" standalone=\"no\"?>\n<!DOCTYPE svg PUBLIC \"-//W3C//DTD SVG 1.1//EN\"\n \"http://www.w3.org/Graphics/SVG/1.1/DTD/svg11.dtd\">\n<!-- Generated by graphviz version 2.43.0 (0)\n -->\n<!-- Title: %3 Pages: 1 -->\n<svg width=\"1148pt\" height=\"156pt\"\n viewBox=\"0.00 0.00 1148.00 156.00\" xmlns=\"http://www.w3.org/2000/svg\" xmlns:xlink=\"http://www.w3.org/1999/xlink\">\n<g id=\"graph0\" class=\"graph\" transform=\"scale(1 1) rotate(0) translate(4 152)\">\n<title>%3</title>\n<polygon fill=\"white\" stroke=\"transparent\" points=\"-4,4 -4,-152 1144,-152 1144,4 -4,4\"/>\n<!-- 140232177810448 -->\n<g id=\"node1\" class=\"node\">\n<title>140232177810448</title>\n<polygon fill=\"none\" stroke=\"black\" points=\"0,-111.5 0,-147.5 190,-147.5 190,-111.5 0,-111.5\"/>\n<text text-anchor=\"middle\" x=\"11.5\" y=\"-125.8\" font-family=\"Times,serif\" font-size=\"14.00\">b</text>\n<polyline fill=\"none\" stroke=\"black\" points=\"23,-111.5 23,-147.5 \"/>\n<text text-anchor=\"middle\" x=\"65.5\" y=\"-125.8\" font-family=\"Times,serif\" font-size=\"14.00\">data &#45;3.0000</text>\n<polyline fill=\"none\" stroke=\"black\" points=\"108,-111.5 108,-147.5 \"/>\n<text text-anchor=\"middle\" x=\"149\" y=\"-125.8\" font-family=\"Times,serif\" font-size=\"14.00\">grad 0.0000</text>\n</g>\n<!-- 140232177810832* -->\n<g id=\"node9\" class=\"node\">\n<title>140232177810832*</title>\n<ellipse fill=\"none\" stroke=\"black\" cx=\"253\" cy=\"-101.5\" rx=\"27\" ry=\"18\"/>\n<text text-anchor=\"middle\" x=\"253\" y=\"-97.8\" font-family=\"Times,serif\" font-size=\"14.00\">*</text>\n</g>\n<!-- 140232177810448&#45;&gt;140232177810832* -->\n<g id=\"edge9\" class=\"edge\">\n<title>140232177810448&#45;&gt;140232177810832*</title>\n<path fill=\"none\" stroke=\"black\" d=\"M190.34,-112.57C199.62,-110.9 208.58,-109.29 216.66,-107.84\"/>\n<polygon fill=\"black\" stroke=\"black\" points=\"217.49,-111.25 226.72,-106.04 216.26,-104.36 217.49,-111.25\"/>\n</g>\n<!-- 140232177810544 -->\n<g id=\"node2\" class=\"node\">\n<title>140232177810544</title>\n<polygon fill=\"none\" stroke=\"black\" points=\"316,-28.5 316,-64.5 508,-64.5 508,-28.5 316,-28.5\"/>\n<text text-anchor=\"middle\" x=\"327.5\" y=\"-42.8\" font-family=\"Times,serif\" font-size=\"14.00\">c</text>\n<polyline fill=\"none\" stroke=\"black\" points=\"339,-28.5 339,-64.5 \"/>\n<text text-anchor=\"middle\" x=\"382.5\" y=\"-42.8\" font-family=\"Times,serif\" font-size=\"14.00\">data 10.0000</text>\n<polyline fill=\"none\" stroke=\"black\" points=\"426,-28.5 426,-64.5 \"/>\n<text text-anchor=\"middle\" x=\"467\" y=\"-42.8\" font-family=\"Times,serif\" font-size=\"14.00\">grad 0.0000</text>\n</g>\n<!-- 140232177811072+ -->\n<g id=\"node4\" class=\"node\">\n<title>140232177811072+</title>\n<ellipse fill=\"none\" stroke=\"black\" cx=\"571\" cy=\"-73.5\" rx=\"27\" ry=\"18\"/>\n<text text-anchor=\"middle\" x=\"571\" y=\"-69.8\" font-family=\"Times,serif\" font-size=\"14.00\">+</text>\n</g>\n<!-- 140232177810544&#45;&gt;140232177811072+ -->\n<g id=\"edge5\" class=\"edge\">\n<title>140232177810544&#45;&gt;140232177811072+</title>\n<path fill=\"none\" stroke=\"black\" d=\"M508.4,-62.91C517.69,-64.5 526.64,-66.04 534.71,-67.43\"/>\n<polygon fill=\"black\" stroke=\"black\" points=\"534.32,-70.91 544.76,-69.16 535.5,-64.02 534.32,-70.91\"/>\n</g>\n<!-- 140232177811072 -->\n<g id=\"node3\" class=\"node\">\n<title>140232177811072</title>\n<polygon fill=\"none\" stroke=\"black\" points=\"635.5,-55.5 635.5,-91.5 820.5,-91.5 820.5,-55.5 635.5,-55.5\"/>\n<text text-anchor=\"middle\" x=\"647\" y=\"-69.8\" font-family=\"Times,serif\" font-size=\"14.00\">d</text>\n<polyline fill=\"none\" stroke=\"black\" points=\"658.5,-55.5 658.5,-91.5 \"/>\n<text text-anchor=\"middle\" x=\"698.5\" y=\"-69.8\" font-family=\"Times,serif\" font-size=\"14.00\">data 4.0000</text>\n<polyline fill=\"none\" stroke=\"black\" points=\"738.5,-55.5 738.5,-91.5 \"/>\n<text text-anchor=\"middle\" x=\"779.5\" y=\"-69.8\" font-family=\"Times,serif\" font-size=\"14.00\">grad 0.0000</text>\n</g>\n<!-- 140232177827552* -->\n<g id=\"node7\" class=\"node\">\n<title>140232177827552*</title>\n<ellipse fill=\"none\" stroke=\"black\" cx=\"885\" cy=\"-45.5\" rx=\"27\" ry=\"18\"/>\n<text text-anchor=\"middle\" x=\"885\" y=\"-41.8\" font-family=\"Times,serif\" font-size=\"14.00\">*</text>\n</g>\n<!-- 140232177811072&#45;&gt;140232177827552* -->\n<g id=\"edge6\" class=\"edge\">\n<title>140232177811072&#45;&gt;140232177827552*</title>\n<path fill=\"none\" stroke=\"black\" d=\"M820.51,-56.97C830.48,-55.17 840.13,-53.42 848.77,-51.86\"/>\n<polygon fill=\"black\" stroke=\"black\" points=\"849.55,-55.28 858.77,-50.06 848.3,-48.39 849.55,-55.28\"/>\n</g>\n<!-- 140232177811072+&#45;&gt;140232177811072 -->\n<g id=\"edge1\" class=\"edge\">\n<title>140232177811072+&#45;&gt;140232177811072</title>\n<path fill=\"none\" stroke=\"black\" d=\"M598.29,-73.5C606.26,-73.5 615.54,-73.5 625.39,-73.5\"/>\n<polygon fill=\"black\" stroke=\"black\" points=\"625.41,-77 635.41,-73.5 625.41,-70 625.41,-77\"/>\n</g>\n<!-- 140232177810064 -->\n<g id=\"node5\" class=\"node\">\n<title>140232177810064</title>\n<polygon fill=\"none\" stroke=\"black\" points=\"2.5,-56.5 2.5,-92.5 187.5,-92.5 187.5,-56.5 2.5,-56.5\"/>\n<text text-anchor=\"middle\" x=\"14\" y=\"-70.8\" font-family=\"Times,serif\" font-size=\"14.00\">a</text>\n<polyline fill=\"none\" stroke=\"black\" points=\"25.5,-56.5 25.5,-92.5 \"/>\n<text text-anchor=\"middle\" x=\"65.5\" y=\"-70.8\" font-family=\"Times,serif\" font-size=\"14.00\">data 2.0000</text>\n<polyline fill=\"none\" stroke=\"black\" points=\"105.5,-56.5 105.5,-92.5 \"/>\n<text text-anchor=\"middle\" x=\"146.5\" y=\"-70.8\" font-family=\"Times,serif\" font-size=\"14.00\">grad 0.0000</text>\n</g>\n<!-- 140232177810064&#45;&gt;140232177810832* -->\n<g id=\"edge8\" class=\"edge\">\n<title>140232177810064&#45;&gt;140232177810832*</title>\n<path fill=\"none\" stroke=\"black\" d=\"M187.65,-90.36C197.94,-92.14 207.91,-93.87 216.81,-95.41\"/>\n<polygon fill=\"black\" stroke=\"black\" points=\"216.26,-98.87 226.71,-97.12 217.45,-91.97 216.26,-98.87\"/>\n</g>\n<!-- 140232177827552 -->\n<g id=\"node6\" class=\"node\">\n<title>140232177827552</title>\n<polygon fill=\"none\" stroke=\"black\" points=\"948,-27.5 948,-63.5 1140,-63.5 1140,-27.5 948,-27.5\"/>\n<text text-anchor=\"middle\" x=\"960.5\" y=\"-41.8\" font-family=\"Times,serif\" font-size=\"14.00\">L</text>\n<polyline fill=\"none\" stroke=\"black\" points=\"973,-27.5 973,-63.5 \"/>\n<text text-anchor=\"middle\" x=\"1015.5\" y=\"-41.8\" font-family=\"Times,serif\" font-size=\"14.00\">data &#45;8.0000</text>\n<polyline fill=\"none\" stroke=\"black\" points=\"1058,-27.5 1058,-63.5 \"/>\n<text text-anchor=\"middle\" x=\"1099\" y=\"-41.8\" font-family=\"Times,serif\" font-size=\"14.00\">grad 0.0000</text>\n</g>\n<!-- 140232177827552*&#45;&gt;140232177827552 -->\n<g id=\"edge2\" class=\"edge\">\n<title>140232177827552*&#45;&gt;140232177827552</title>\n<path fill=\"none\" stroke=\"black\" d=\"M912.28,-45.5C919.78,-45.5 928.44,-45.5 937.67,-45.5\"/>\n<polygon fill=\"black\" stroke=\"black\" points=\"937.87,-49 947.87,-45.5 937.87,-42 937.87,-49\"/>\n</g>\n<!-- 140232177810832 -->\n<g id=\"node8\" class=\"node\">\n<title>140232177810832</title>\n<polygon fill=\"none\" stroke=\"black\" points=\"317,-83.5 317,-119.5 507,-119.5 507,-83.5 317,-83.5\"/>\n<text text-anchor=\"middle\" x=\"328.5\" y=\"-97.8\" font-family=\"Times,serif\" font-size=\"14.00\">e</text>\n<polyline fill=\"none\" stroke=\"black\" points=\"340,-83.5 340,-119.5 \"/>\n<text text-anchor=\"middle\" x=\"382.5\" y=\"-97.8\" font-family=\"Times,serif\" font-size=\"14.00\">data &#45;6.0000</text>\n<polyline fill=\"none\" stroke=\"black\" points=\"425,-83.5 425,-119.5 \"/>\n<text text-anchor=\"middle\" x=\"466\" y=\"-97.8\" font-family=\"Times,serif\" font-size=\"14.00\">grad 0.0000</text>\n</g>\n<!-- 140232177810832&#45;&gt;140232177811072+ -->\n<g id=\"edge7\" class=\"edge\">\n<title>140232177810832&#45;&gt;140232177811072+</title>\n<path fill=\"none\" stroke=\"black\" d=\"M507.05,-84.73C516.89,-82.97 526.39,-81.28 534.9,-79.76\"/>\n<polygon fill=\"black\" stroke=\"black\" points=\"535.52,-83.2 544.75,-78 534.29,-76.31 535.52,-83.2\"/>\n</g>\n<!-- 140232177810832*&#45;&gt;140232177810832 -->\n<g id=\"edge3\" class=\"edge\">\n<title>140232177810832*&#45;&gt;140232177810832</title>\n<path fill=\"none\" stroke=\"black\" d=\"M280.28,-101.5C288.05,-101.5 297.08,-101.5 306.68,-101.5\"/>\n<polygon fill=\"black\" stroke=\"black\" points=\"306.88,-105 316.88,-101.5 306.88,-98 306.88,-105\"/>\n</g>\n<!-- 140232177810880 -->\n<g id=\"node10\" class=\"node\">\n<title>140232177810880</title>\n<polygon fill=\"none\" stroke=\"black\" points=\"634,-0.5 634,-36.5 822,-36.5 822,-0.5 634,-0.5\"/>\n<text text-anchor=\"middle\" x=\"644.5\" y=\"-14.8\" font-family=\"Times,serif\" font-size=\"14.00\">f</text>\n<polyline fill=\"none\" stroke=\"black\" points=\"655,-0.5 655,-36.5 \"/>\n<text text-anchor=\"middle\" x=\"697.5\" y=\"-14.8\" font-family=\"Times,serif\" font-size=\"14.00\">data &#45;2.0000</text>\n<polyline fill=\"none\" stroke=\"black\" points=\"740,-0.5 740,-36.5 \"/>\n<text text-anchor=\"middle\" x=\"781\" y=\"-14.8\" font-family=\"Times,serif\" font-size=\"14.00\">grad 0.0000</text>\n</g>\n<!-- 140232177810880&#45;&gt;140232177827552* -->\n<g id=\"edge4\" class=\"edge\">\n<title>140232177810880&#45;&gt;140232177827552*</title>\n<path fill=\"none\" stroke=\"black\" d=\"M822.29,-34.75C831.57,-36.37 840.52,-37.93 848.61,-39.33\"/>\n<polygon fill=\"black\" stroke=\"black\" points=\"848.22,-42.82 858.68,-41.09 849.42,-35.92 848.22,-42.82\"/>\n</g>\n</g>\n</svg>\n"
          },
          "metadata": {},
          "execution_count": 113
        }
      ]
    },
    {
      "cell_type": "markdown",
      "source": [
        "Adding derivatives... "
      ],
      "metadata": {
        "id": "0Y2oA7r4jG-O"
      }
    },
    {
      "cell_type": "code",
      "source": [
        "L.grad = 1.0\n",
        "d.grad = f.data\n",
        "f.grad = d.data\n",
        "\n",
        "# Applying the chain rule for c.grad and e.grad\n",
        "# dL/dc = (dL/dd) * (dd/dc)\n",
        "# dL/de = (dL/dd) * (dd/de)\n",
        "# since d = c + e, dd/dc = 1.0\n",
        "# since d = c + e, dd/de = 1.0\n",
        "# dL/dd = d.grad\n",
        "c.grad = d.grad * 1.0\n",
        "e.grad = d.grad * 1.0 \n",
        "\n",
        "# Applying the chain rule for a.grad and b.grad\n",
        "# dL/da = (dL/de) * (de/da)\n",
        "# dL/db = (dL/de) * (de/db)\n",
        "# since e = a * b, de/da = b\n",
        "# since e = a * b, de/db = a\n",
        "# dL/de = e.grad\n",
        "a.grad = e.grad * b.data\n",
        "b.grad = e.grad * a.data\n",
        "\n",
        "draw_dot(L)"
      ],
      "metadata": {
        "colab": {
          "base_uri": "https://localhost:8080/",
          "height": 249
        },
        "id": "kDzYhB81jEsY",
        "outputId": "c6dbf18d-3352-4e2a-9ac9-243dc29e4540"
      },
      "execution_count": 114,
      "outputs": [
        {
          "output_type": "execute_result",
          "data": {
            "text/plain": [
              "<graphviz.dot.Digraph at 0x7f8a587b53a0>"
            ],
            "image/svg+xml": "<?xml version=\"1.0\" encoding=\"UTF-8\" standalone=\"no\"?>\n<!DOCTYPE svg PUBLIC \"-//W3C//DTD SVG 1.1//EN\"\n \"http://www.w3.org/Graphics/SVG/1.1/DTD/svg11.dtd\">\n<!-- Generated by graphviz version 2.43.0 (0)\n -->\n<!-- Title: %3 Pages: 1 -->\n<svg width=\"1157pt\" height=\"156pt\"\n viewBox=\"0.00 0.00 1157.00 156.00\" xmlns=\"http://www.w3.org/2000/svg\" xmlns:xlink=\"http://www.w3.org/1999/xlink\">\n<g id=\"graph0\" class=\"graph\" transform=\"scale(1 1) rotate(0) translate(4 152)\">\n<title>%3</title>\n<polygon fill=\"white\" stroke=\"transparent\" points=\"-4,4 -4,-152 1153,-152 1153,4 -4,4\"/>\n<!-- 140232177810448 -->\n<g id=\"node1\" class=\"node\">\n<title>140232177810448</title>\n<polygon fill=\"none\" stroke=\"black\" points=\"0,-111.5 0,-147.5 194,-147.5 194,-111.5 0,-111.5\"/>\n<text text-anchor=\"middle\" x=\"11.5\" y=\"-125.8\" font-family=\"Times,serif\" font-size=\"14.00\">b</text>\n<polyline fill=\"none\" stroke=\"black\" points=\"23,-111.5 23,-147.5 \"/>\n<text text-anchor=\"middle\" x=\"65.5\" y=\"-125.8\" font-family=\"Times,serif\" font-size=\"14.00\">data &#45;3.0000</text>\n<polyline fill=\"none\" stroke=\"black\" points=\"108,-111.5 108,-147.5 \"/>\n<text text-anchor=\"middle\" x=\"151\" y=\"-125.8\" font-family=\"Times,serif\" font-size=\"14.00\">grad &#45;4.0000</text>\n</g>\n<!-- 140232177810832* -->\n<g id=\"node9\" class=\"node\">\n<title>140232177810832*</title>\n<ellipse fill=\"none\" stroke=\"black\" cx=\"257\" cy=\"-101.5\" rx=\"27\" ry=\"18\"/>\n<text text-anchor=\"middle\" x=\"257\" y=\"-97.8\" font-family=\"Times,serif\" font-size=\"14.00\">*</text>\n</g>\n<!-- 140232177810448&#45;&gt;140232177810832* -->\n<g id=\"edge9\" class=\"edge\">\n<title>140232177810448&#45;&gt;140232177810832*</title>\n<path fill=\"none\" stroke=\"black\" d=\"M194.01,-112.49C203.35,-110.83 212.37,-109.23 220.49,-107.79\"/>\n<polygon fill=\"black\" stroke=\"black\" points=\"221.37,-111.19 230.6,-106 220.15,-104.3 221.37,-111.19\"/>\n</g>\n<!-- 140232177810544 -->\n<g id=\"node2\" class=\"node\">\n<title>140232177810544</title>\n<polygon fill=\"none\" stroke=\"black\" points=\"320,-28.5 320,-64.5 516,-64.5 516,-28.5 320,-28.5\"/>\n<text text-anchor=\"middle\" x=\"331.5\" y=\"-42.8\" font-family=\"Times,serif\" font-size=\"14.00\">c</text>\n<polyline fill=\"none\" stroke=\"black\" points=\"343,-28.5 343,-64.5 \"/>\n<text text-anchor=\"middle\" x=\"386.5\" y=\"-42.8\" font-family=\"Times,serif\" font-size=\"14.00\">data 10.0000</text>\n<polyline fill=\"none\" stroke=\"black\" points=\"430,-28.5 430,-64.5 \"/>\n<text text-anchor=\"middle\" x=\"473\" y=\"-42.8\" font-family=\"Times,serif\" font-size=\"14.00\">grad &#45;2.0000</text>\n</g>\n<!-- 140232177811072+ -->\n<g id=\"node4\" class=\"node\">\n<title>140232177811072+</title>\n<ellipse fill=\"none\" stroke=\"black\" cx=\"579\" cy=\"-73.5\" rx=\"27\" ry=\"18\"/>\n<text text-anchor=\"middle\" x=\"579\" y=\"-69.8\" font-family=\"Times,serif\" font-size=\"14.00\">+</text>\n</g>\n<!-- 140232177810544&#45;&gt;140232177811072+ -->\n<g id=\"edge5\" class=\"edge\">\n<title>140232177810544&#45;&gt;140232177811072+</title>\n<path fill=\"none\" stroke=\"black\" d=\"M516.07,-62.98C525.42,-64.57 534.43,-66.1 542.55,-67.48\"/>\n<polygon fill=\"black\" stroke=\"black\" points=\"542.21,-70.97 552.65,-69.2 543.38,-64.07 542.21,-70.97\"/>\n</g>\n<!-- 140232177811072 -->\n<g id=\"node3\" class=\"node\">\n<title>140232177811072</title>\n<polygon fill=\"none\" stroke=\"black\" points=\"642,-55.5 642,-91.5 831,-91.5 831,-55.5 642,-55.5\"/>\n<text text-anchor=\"middle\" x=\"653.5\" y=\"-69.8\" font-family=\"Times,serif\" font-size=\"14.00\">d</text>\n<polyline fill=\"none\" stroke=\"black\" points=\"665,-55.5 665,-91.5 \"/>\n<text text-anchor=\"middle\" x=\"705\" y=\"-69.8\" font-family=\"Times,serif\" font-size=\"14.00\">data 4.0000</text>\n<polyline fill=\"none\" stroke=\"black\" points=\"745,-55.5 745,-91.5 \"/>\n<text text-anchor=\"middle\" x=\"788\" y=\"-69.8\" font-family=\"Times,serif\" font-size=\"14.00\">grad &#45;2.0000</text>\n</g>\n<!-- 140232177827552* -->\n<g id=\"node7\" class=\"node\">\n<title>140232177827552*</title>\n<ellipse fill=\"none\" stroke=\"black\" cx=\"894\" cy=\"-45.5\" rx=\"27\" ry=\"18\"/>\n<text text-anchor=\"middle\" x=\"894\" y=\"-41.8\" font-family=\"Times,serif\" font-size=\"14.00\">*</text>\n</g>\n<!-- 140232177811072&#45;&gt;140232177827552* -->\n<g id=\"edge6\" class=\"edge\">\n<title>140232177811072&#45;&gt;140232177827552*</title>\n<path fill=\"none\" stroke=\"black\" d=\"M831.1,-56.65C840.4,-54.97 849.38,-53.35 857.49,-51.89\"/>\n<polygon fill=\"black\" stroke=\"black\" points=\"858.37,-55.29 867.59,-50.07 857.13,-48.4 858.37,-55.29\"/>\n</g>\n<!-- 140232177811072+&#45;&gt;140232177811072 -->\n<g id=\"edge1\" class=\"edge\">\n<title>140232177811072+&#45;&gt;140232177811072</title>\n<path fill=\"none\" stroke=\"black\" d=\"M606.03,-73.5C613.66,-73.5 622.52,-73.5 631.94,-73.5\"/>\n<polygon fill=\"black\" stroke=\"black\" points=\"631.94,-77 641.94,-73.5 631.94,-70 631.94,-77\"/>\n</g>\n<!-- 140232177810064 -->\n<g id=\"node5\" class=\"node\">\n<title>140232177810064</title>\n<polygon fill=\"none\" stroke=\"black\" points=\"4.5,-56.5 4.5,-92.5 189.5,-92.5 189.5,-56.5 4.5,-56.5\"/>\n<text text-anchor=\"middle\" x=\"16\" y=\"-70.8\" font-family=\"Times,serif\" font-size=\"14.00\">a</text>\n<polyline fill=\"none\" stroke=\"black\" points=\"27.5,-56.5 27.5,-92.5 \"/>\n<text text-anchor=\"middle\" x=\"67.5\" y=\"-70.8\" font-family=\"Times,serif\" font-size=\"14.00\">data 2.0000</text>\n<polyline fill=\"none\" stroke=\"black\" points=\"107.5,-56.5 107.5,-92.5 \"/>\n<text text-anchor=\"middle\" x=\"148.5\" y=\"-70.8\" font-family=\"Times,serif\" font-size=\"14.00\">grad 6.0000</text>\n</g>\n<!-- 140232177810064&#45;&gt;140232177810832* -->\n<g id=\"edge8\" class=\"edge\">\n<title>140232177810064&#45;&gt;140232177810832*</title>\n<path fill=\"none\" stroke=\"black\" d=\"M189.91,-90.21C200.76,-92.06 211.28,-93.86 220.61,-95.45\"/>\n<polygon fill=\"black\" stroke=\"black\" points=\"220.16,-98.93 230.6,-97.16 221.34,-92.03 220.16,-98.93\"/>\n</g>\n<!-- 140232177827552 -->\n<g id=\"node6\" class=\"node\">\n<title>140232177827552</title>\n<polygon fill=\"none\" stroke=\"black\" points=\"957,-27.5 957,-63.5 1149,-63.5 1149,-27.5 957,-27.5\"/>\n<text text-anchor=\"middle\" x=\"969.5\" y=\"-41.8\" font-family=\"Times,serif\" font-size=\"14.00\">L</text>\n<polyline fill=\"none\" stroke=\"black\" points=\"982,-27.5 982,-63.5 \"/>\n<text text-anchor=\"middle\" x=\"1024.5\" y=\"-41.8\" font-family=\"Times,serif\" font-size=\"14.00\">data &#45;8.0000</text>\n<polyline fill=\"none\" stroke=\"black\" points=\"1067,-27.5 1067,-63.5 \"/>\n<text text-anchor=\"middle\" x=\"1108\" y=\"-41.8\" font-family=\"Times,serif\" font-size=\"14.00\">grad 1.0000</text>\n</g>\n<!-- 140232177827552*&#45;&gt;140232177827552 -->\n<g id=\"edge2\" class=\"edge\">\n<title>140232177827552*&#45;&gt;140232177827552</title>\n<path fill=\"none\" stroke=\"black\" d=\"M921.28,-45.5C928.78,-45.5 937.44,-45.5 946.67,-45.5\"/>\n<polygon fill=\"black\" stroke=\"black\" points=\"946.87,-49 956.87,-45.5 946.87,-42 946.87,-49\"/>\n</g>\n<!-- 140232177810832 -->\n<g id=\"node8\" class=\"node\">\n<title>140232177810832</title>\n<polygon fill=\"none\" stroke=\"black\" points=\"321,-83.5 321,-119.5 515,-119.5 515,-83.5 321,-83.5\"/>\n<text text-anchor=\"middle\" x=\"332.5\" y=\"-97.8\" font-family=\"Times,serif\" font-size=\"14.00\">e</text>\n<polyline fill=\"none\" stroke=\"black\" points=\"344,-83.5 344,-119.5 \"/>\n<text text-anchor=\"middle\" x=\"386.5\" y=\"-97.8\" font-family=\"Times,serif\" font-size=\"14.00\">data &#45;6.0000</text>\n<polyline fill=\"none\" stroke=\"black\" points=\"429,-83.5 429,-119.5 \"/>\n<text text-anchor=\"middle\" x=\"472\" y=\"-97.8\" font-family=\"Times,serif\" font-size=\"14.00\">grad &#45;2.0000</text>\n</g>\n<!-- 140232177810832&#45;&gt;140232177811072+ -->\n<g id=\"edge7\" class=\"edge\">\n<title>140232177810832&#45;&gt;140232177811072+</title>\n<path fill=\"none\" stroke=\"black\" d=\"M515.16,-84.57C524.82,-82.87 534.13,-81.23 542.49,-79.75\"/>\n<polygon fill=\"black\" stroke=\"black\" points=\"543.3,-83.17 552.54,-77.98 542.08,-76.27 543.3,-83.17\"/>\n</g>\n<!-- 140232177810832*&#45;&gt;140232177810832 -->\n<g id=\"edge3\" class=\"edge\">\n<title>140232177810832*&#45;&gt;140232177810832</title>\n<path fill=\"none\" stroke=\"black\" d=\"M284.26,-101.5C292.05,-101.5 301.1,-101.5 310.75,-101.5\"/>\n<polygon fill=\"black\" stroke=\"black\" points=\"310.99,-105 320.99,-101.5 310.99,-98 310.99,-105\"/>\n</g>\n<!-- 140232177810880 -->\n<g id=\"node10\" class=\"node\">\n<title>140232177810880</title>\n<polygon fill=\"none\" stroke=\"black\" points=\"642.5,-0.5 642.5,-36.5 830.5,-36.5 830.5,-0.5 642.5,-0.5\"/>\n<text text-anchor=\"middle\" x=\"653\" y=\"-14.8\" font-family=\"Times,serif\" font-size=\"14.00\">f</text>\n<polyline fill=\"none\" stroke=\"black\" points=\"663.5,-0.5 663.5,-36.5 \"/>\n<text text-anchor=\"middle\" x=\"706\" y=\"-14.8\" font-family=\"Times,serif\" font-size=\"14.00\">data &#45;2.0000</text>\n<polyline fill=\"none\" stroke=\"black\" points=\"748.5,-0.5 748.5,-36.5 \"/>\n<text text-anchor=\"middle\" x=\"789.5\" y=\"-14.8\" font-family=\"Times,serif\" font-size=\"14.00\">grad 4.0000</text>\n</g>\n<!-- 140232177810880&#45;&gt;140232177827552* -->\n<g id=\"edge4\" class=\"edge\">\n<title>140232177810880&#45;&gt;140232177827552*</title>\n<path fill=\"none\" stroke=\"black\" d=\"M830.65,-34.67C840.2,-36.33 849.43,-37.93 857.72,-39.37\"/>\n<polygon fill=\"black\" stroke=\"black\" points=\"857.24,-42.84 867.69,-41.11 858.44,-35.95 857.24,-42.84\"/>\n</g>\n</g>\n</svg>\n"
          },
          "metadata": {},
          "execution_count": 114
        }
      ]
    },
    {
      "cell_type": "markdown",
      "source": [
        "# Manual Graph Update\n",
        "\n",
        "Applying gradient update rule...\n",
        "\n",
        "The new value should be ... `current value += eta * gradient`"
      ],
      "metadata": {
        "id": "woCJBFz1t_8R"
      }
    },
    {
      "cell_type": "code",
      "source": [
        "eta = 0.01\n",
        "\n",
        "a.data += eta * a.grad\n",
        "b.data += eta * b.grad\n",
        "c.data += eta * c.grad\n",
        "f.data += eta * f.grad\n",
        "\n",
        "# forward pass... \n",
        "e = a * b; e.label = 'e'\n",
        "d = e + c; d.label = 'd'\n",
        "L = d * f; L.label = 'L' \n",
        "\n",
        "draw_dot(L)"
      ],
      "metadata": {
        "colab": {
          "base_uri": "https://localhost:8080/",
          "height": 249
        },
        "id": "Fm8qIbw-ub_P",
        "outputId": "d9adbe5f-fa05-4307-d493-0fc20296c1da"
      },
      "execution_count": 115,
      "outputs": [
        {
          "output_type": "execute_result",
          "data": {
            "text/plain": [
              "<graphviz.dot.Digraph at 0x7f8a587bfdc0>"
            ],
            "image/svg+xml": "<?xml version=\"1.0\" encoding=\"UTF-8\" standalone=\"no\"?>\n<!DOCTYPE svg PUBLIC \"-//W3C//DTD SVG 1.1//EN\"\n \"http://www.w3.org/Graphics/SVG/1.1/DTD/svg11.dtd\">\n<!-- Generated by graphviz version 2.43.0 (0)\n -->\n<!-- Title: %3 Pages: 1 -->\n<svg width=\"1150pt\" height=\"156pt\"\n viewBox=\"0.00 0.00 1150.00 156.00\" xmlns=\"http://www.w3.org/2000/svg\" xmlns:xlink=\"http://www.w3.org/1999/xlink\">\n<g id=\"graph0\" class=\"graph\" transform=\"scale(1 1) rotate(0) translate(4 152)\">\n<title>%3</title>\n<polygon fill=\"white\" stroke=\"transparent\" points=\"-4,4 -4,-152 1146,-152 1146,4 -4,4\"/>\n<!-- 140232177810448 -->\n<g id=\"node1\" class=\"node\">\n<title>140232177810448</title>\n<polygon fill=\"none\" stroke=\"black\" points=\"0,-111.5 0,-147.5 194,-147.5 194,-111.5 0,-111.5\"/>\n<text text-anchor=\"middle\" x=\"11.5\" y=\"-125.8\" font-family=\"Times,serif\" font-size=\"14.00\">b</text>\n<polyline fill=\"none\" stroke=\"black\" points=\"23,-111.5 23,-147.5 \"/>\n<text text-anchor=\"middle\" x=\"65.5\" y=\"-125.8\" font-family=\"Times,serif\" font-size=\"14.00\">data &#45;3.0400</text>\n<polyline fill=\"none\" stroke=\"black\" points=\"108,-111.5 108,-147.5 \"/>\n<text text-anchor=\"middle\" x=\"151\" y=\"-125.8\" font-family=\"Times,serif\" font-size=\"14.00\">grad &#45;4.0000</text>\n</g>\n<!-- 140232166734720* -->\n<g id=\"node7\" class=\"node\">\n<title>140232166734720*</title>\n<ellipse fill=\"none\" stroke=\"black\" cx=\"257\" cy=\"-101.5\" rx=\"27\" ry=\"18\"/>\n<text text-anchor=\"middle\" x=\"257\" y=\"-97.8\" font-family=\"Times,serif\" font-size=\"14.00\">*</text>\n</g>\n<!-- 140232177810448&#45;&gt;140232166734720* -->\n<g id=\"edge9\" class=\"edge\">\n<title>140232177810448&#45;&gt;140232166734720*</title>\n<path fill=\"none\" stroke=\"black\" d=\"M194.01,-112.49C203.35,-110.83 212.37,-109.23 220.49,-107.79\"/>\n<polygon fill=\"black\" stroke=\"black\" points=\"221.37,-111.19 230.6,-106 220.15,-104.3 221.37,-111.19\"/>\n</g>\n<!-- 140232177810544 -->\n<g id=\"node2\" class=\"node\">\n<title>140232177810544</title>\n<polygon fill=\"none\" stroke=\"black\" points=\"320.5,-28.5 320.5,-64.5 509.5,-64.5 509.5,-28.5 320.5,-28.5\"/>\n<text text-anchor=\"middle\" x=\"332\" y=\"-42.8\" font-family=\"Times,serif\" font-size=\"14.00\">c</text>\n<polyline fill=\"none\" stroke=\"black\" points=\"343.5,-28.5 343.5,-64.5 \"/>\n<text text-anchor=\"middle\" x=\"383.5\" y=\"-42.8\" font-family=\"Times,serif\" font-size=\"14.00\">data 9.9800</text>\n<polyline fill=\"none\" stroke=\"black\" points=\"423.5,-28.5 423.5,-64.5 \"/>\n<text text-anchor=\"middle\" x=\"466.5\" y=\"-42.8\" font-family=\"Times,serif\" font-size=\"14.00\">grad &#45;2.0000</text>\n</g>\n<!-- 140232166733136+ -->\n<g id=\"node5\" class=\"node\">\n<title>140232166733136+</title>\n<ellipse fill=\"none\" stroke=\"black\" cx=\"573\" cy=\"-73.5\" rx=\"27\" ry=\"18\"/>\n<text text-anchor=\"middle\" x=\"573\" y=\"-69.8\" font-family=\"Times,serif\" font-size=\"14.00\">+</text>\n</g>\n<!-- 140232177810544&#45;&gt;140232166733136+ -->\n<g id=\"edge7\" class=\"edge\">\n<title>140232177810544&#45;&gt;140232166733136+</title>\n<path fill=\"none\" stroke=\"black\" d=\"M509.9,-62.75C519.33,-64.38 528.45,-65.96 536.65,-67.38\"/>\n<polygon fill=\"black\" stroke=\"black\" points=\"536.06,-70.83 546.51,-69.09 537.26,-63.93 536.06,-70.83\"/>\n</g>\n<!-- 140232177810064 -->\n<g id=\"node3\" class=\"node\">\n<title>140232177810064</title>\n<polygon fill=\"none\" stroke=\"black\" points=\"4.5,-56.5 4.5,-92.5 189.5,-92.5 189.5,-56.5 4.5,-56.5\"/>\n<text text-anchor=\"middle\" x=\"16\" y=\"-70.8\" font-family=\"Times,serif\" font-size=\"14.00\">a</text>\n<polyline fill=\"none\" stroke=\"black\" points=\"27.5,-56.5 27.5,-92.5 \"/>\n<text text-anchor=\"middle\" x=\"67.5\" y=\"-70.8\" font-family=\"Times,serif\" font-size=\"14.00\">data 2.0600</text>\n<polyline fill=\"none\" stroke=\"black\" points=\"107.5,-56.5 107.5,-92.5 \"/>\n<text text-anchor=\"middle\" x=\"148.5\" y=\"-70.8\" font-family=\"Times,serif\" font-size=\"14.00\">grad 6.0000</text>\n</g>\n<!-- 140232177810064&#45;&gt;140232166734720* -->\n<g id=\"edge8\" class=\"edge\">\n<title>140232177810064&#45;&gt;140232166734720*</title>\n<path fill=\"none\" stroke=\"black\" d=\"M189.91,-90.21C200.76,-92.06 211.28,-93.86 220.61,-95.45\"/>\n<polygon fill=\"black\" stroke=\"black\" points=\"220.16,-98.93 230.6,-97.16 221.34,-92.03 220.16,-98.93\"/>\n</g>\n<!-- 140232166733136 -->\n<g id=\"node4\" class=\"node\">\n<title>140232166733136</title>\n<polygon fill=\"none\" stroke=\"black\" points=\"637.5,-55.5 637.5,-91.5 822.5,-91.5 822.5,-55.5 637.5,-55.5\"/>\n<text text-anchor=\"middle\" x=\"649\" y=\"-69.8\" font-family=\"Times,serif\" font-size=\"14.00\">d</text>\n<polyline fill=\"none\" stroke=\"black\" points=\"660.5,-55.5 660.5,-91.5 \"/>\n<text text-anchor=\"middle\" x=\"700.5\" y=\"-69.8\" font-family=\"Times,serif\" font-size=\"14.00\">data 3.7176</text>\n<polyline fill=\"none\" stroke=\"black\" points=\"740.5,-55.5 740.5,-91.5 \"/>\n<text text-anchor=\"middle\" x=\"781.5\" y=\"-69.8\" font-family=\"Times,serif\" font-size=\"14.00\">grad 0.0000</text>\n</g>\n<!-- 140232166733232* -->\n<g id=\"node9\" class=\"node\">\n<title>140232166733232*</title>\n<ellipse fill=\"none\" stroke=\"black\" cx=\"887\" cy=\"-45.5\" rx=\"27\" ry=\"18\"/>\n<text text-anchor=\"middle\" x=\"887\" y=\"-41.8\" font-family=\"Times,serif\" font-size=\"14.00\">*</text>\n</g>\n<!-- 140232166733136&#45;&gt;140232166733232* -->\n<g id=\"edge4\" class=\"edge\">\n<title>140232166733136&#45;&gt;140232166733232*</title>\n<path fill=\"none\" stroke=\"black\" d=\"M822.51,-56.97C832.48,-55.17 842.13,-53.42 850.77,-51.86\"/>\n<polygon fill=\"black\" stroke=\"black\" points=\"851.55,-55.28 860.77,-50.06 850.3,-48.39 851.55,-55.28\"/>\n</g>\n<!-- 140232166733136+&#45;&gt;140232166733136 -->\n<g id=\"edge1\" class=\"edge\">\n<title>140232166733136+&#45;&gt;140232166733136</title>\n<path fill=\"none\" stroke=\"black\" d=\"M600.29,-73.5C608.26,-73.5 617.54,-73.5 627.39,-73.5\"/>\n<polygon fill=\"black\" stroke=\"black\" points=\"627.41,-77 637.41,-73.5 627.41,-70 627.41,-77\"/>\n</g>\n<!-- 140232166734720 -->\n<g id=\"node6\" class=\"node\">\n<title>140232166734720</title>\n<polygon fill=\"none\" stroke=\"black\" points=\"320,-83.5 320,-119.5 510,-119.5 510,-83.5 320,-83.5\"/>\n<text text-anchor=\"middle\" x=\"331.5\" y=\"-97.8\" font-family=\"Times,serif\" font-size=\"14.00\">e</text>\n<polyline fill=\"none\" stroke=\"black\" points=\"343,-83.5 343,-119.5 \"/>\n<text text-anchor=\"middle\" x=\"385.5\" y=\"-97.8\" font-family=\"Times,serif\" font-size=\"14.00\">data &#45;6.2624</text>\n<polyline fill=\"none\" stroke=\"black\" points=\"428,-83.5 428,-119.5 \"/>\n<text text-anchor=\"middle\" x=\"469\" y=\"-97.8\" font-family=\"Times,serif\" font-size=\"14.00\">grad 0.0000</text>\n</g>\n<!-- 140232166734720&#45;&gt;140232166733136+ -->\n<g id=\"edge6\" class=\"edge\">\n<title>140232166734720&#45;&gt;140232166733136+</title>\n<path fill=\"none\" stroke=\"black\" d=\"M510.34,-84.57C519.62,-82.9 528.58,-81.29 536.66,-79.84\"/>\n<polygon fill=\"black\" stroke=\"black\" points=\"537.49,-83.25 546.72,-78.04 536.26,-76.36 537.49,-83.25\"/>\n</g>\n<!-- 140232166734720*&#45;&gt;140232166734720 -->\n<g id=\"edge2\" class=\"edge\">\n<title>140232166734720*&#45;&gt;140232166734720</title>\n<path fill=\"none\" stroke=\"black\" d=\"M284.11,-101.5C291.63,-101.5 300.32,-101.5 309.58,-101.5\"/>\n<polygon fill=\"black\" stroke=\"black\" points=\"309.81,-105 319.81,-101.5 309.81,-98 309.81,-105\"/>\n</g>\n<!-- 140232166733232 -->\n<g id=\"node8\" class=\"node\">\n<title>140232166733232</title>\n<polygon fill=\"none\" stroke=\"black\" points=\"950,-27.5 950,-63.5 1142,-63.5 1142,-27.5 950,-27.5\"/>\n<text text-anchor=\"middle\" x=\"962.5\" y=\"-41.8\" font-family=\"Times,serif\" font-size=\"14.00\">L</text>\n<polyline fill=\"none\" stroke=\"black\" points=\"975,-27.5 975,-63.5 \"/>\n<text text-anchor=\"middle\" x=\"1017.5\" y=\"-41.8\" font-family=\"Times,serif\" font-size=\"14.00\">data &#45;7.2865</text>\n<polyline fill=\"none\" stroke=\"black\" points=\"1060,-27.5 1060,-63.5 \"/>\n<text text-anchor=\"middle\" x=\"1101\" y=\"-41.8\" font-family=\"Times,serif\" font-size=\"14.00\">grad 0.0000</text>\n</g>\n<!-- 140232166733232*&#45;&gt;140232166733232 -->\n<g id=\"edge3\" class=\"edge\">\n<title>140232166733232*&#45;&gt;140232166733232</title>\n<path fill=\"none\" stroke=\"black\" d=\"M914.28,-45.5C921.78,-45.5 930.44,-45.5 939.67,-45.5\"/>\n<polygon fill=\"black\" stroke=\"black\" points=\"939.87,-49 949.87,-45.5 939.87,-42 939.87,-49\"/>\n</g>\n<!-- 140232177810880 -->\n<g id=\"node10\" class=\"node\">\n<title>140232177810880</title>\n<polygon fill=\"none\" stroke=\"black\" points=\"636,-0.5 636,-36.5 824,-36.5 824,-0.5 636,-0.5\"/>\n<text text-anchor=\"middle\" x=\"646.5\" y=\"-14.8\" font-family=\"Times,serif\" font-size=\"14.00\">f</text>\n<polyline fill=\"none\" stroke=\"black\" points=\"657,-0.5 657,-36.5 \"/>\n<text text-anchor=\"middle\" x=\"699.5\" y=\"-14.8\" font-family=\"Times,serif\" font-size=\"14.00\">data &#45;1.9600</text>\n<polyline fill=\"none\" stroke=\"black\" points=\"742,-0.5 742,-36.5 \"/>\n<text text-anchor=\"middle\" x=\"783\" y=\"-14.8\" font-family=\"Times,serif\" font-size=\"14.00\">grad 4.0000</text>\n</g>\n<!-- 140232177810880&#45;&gt;140232166733232* -->\n<g id=\"edge5\" class=\"edge\">\n<title>140232177810880&#45;&gt;140232166733232*</title>\n<path fill=\"none\" stroke=\"black\" d=\"M824.29,-34.75C833.57,-36.37 842.52,-37.93 850.61,-39.33\"/>\n<polygon fill=\"black\" stroke=\"black\" points=\"850.22,-42.82 860.68,-41.09 851.42,-35.92 850.22,-42.82\"/>\n</g>\n</g>\n</svg>\n"
          },
          "metadata": {},
          "execution_count": 115
        }
      ]
    },
    {
      "cell_type": "markdown",
      "source": [
        "# LOL function for manually computing derivatives\n",
        "\n",
        "Manually computing a derivative... \n",
        "\n",
        "Create all of our variables in a function to keep from polluting the global scope"
      ],
      "metadata": {
        "id": "jbg83G2PfxwS"
      }
    },
    {
      "cell_type": "code",
      "source": [
        "def lol():\n",
        "  # h\n",
        "  h = 0.0000001\n",
        "\n",
        "  # values\n",
        "  a = Value(2.0,  label='a')\n",
        "  b = Value(-3.0, label='b')\n",
        "  c = Value(10.0, label='c')\n",
        "  f = Value(-2.0, label='f')\n",
        "\n",
        "  # ops\n",
        "  e = a * b; e.label = 'e'\n",
        "  d = e + c; d.label = 'd'\n",
        "  L = d * f; L.label = 'L' \n",
        "  L1 = L.data\n",
        "\n",
        "  # add h \n",
        "  # a.data += h\n",
        "  b.data += h\n",
        "  # f.data += h\n",
        "  # c.data += h\n",
        "  \n",
        "\n",
        "  # ops\n",
        "  e = a * b; e.label = 'e'\n",
        "  # e.data += h\n",
        "  d = e + c; d.label = 'd'\n",
        "  # d.data += h\n",
        "  L = d * f; L.label = 'L' \n",
        "  L2 = L.data # + h # adding h to L to take that derivative\n",
        "\n",
        "  print(f\"dL/d? = {(L2 - L1) / h}\")\n",
        "\n",
        "lol()"
      ],
      "metadata": {
        "colab": {
          "base_uri": "https://localhost:8080/"
        },
        "id": "gdzBxGAbf5W_",
        "outputId": "0ddaf4dd-275b-4f7d-ee16-a4c4260d5c0c"
      },
      "execution_count": 116,
      "outputs": [
        {
          "output_type": "stream",
          "name": "stdout",
          "text": [
            "dL/d? = -3.9999999934536845\n"
          ]
        }
      ]
    },
    {
      "cell_type": "markdown",
      "source": [
        "A nice quote about the chain rule from https://en.wikipedia.org/wiki/Chain_rule\n",
        "\n",
        "\"if a car travels twice as fast as a bicycle and the bicycle is four times as fast as a walking man, then the car travels 2 × 4 = 8 times as fast as the man.\""
      ],
      "metadata": {
        "id": "EkuZ8DR9meOl"
      }
    },
    {
      "cell_type": "markdown",
      "source": [
        "# Neuron Backprop"
      ],
      "metadata": {
        "id": "7MIk1aQF4v_-"
      }
    },
    {
      "cell_type": "code",
      "source": [
        "plt.plot(np.arange(-5,5,0.2), np.tanh(np.arange(-5,5,0.2))); plt.grid();"
      ],
      "metadata": {
        "id": "CSJ2UNjahgN0",
        "colab": {
          "base_uri": "https://localhost:8080/",
          "height": 265
        },
        "outputId": "c7c14712-6c44-4aca-a0ee-77c22a709088"
      },
      "execution_count": 117,
      "outputs": [
        {
          "output_type": "display_data",
          "data": {
            "text/plain": [
              "<Figure size 432x288 with 1 Axes>"
            ],
            "image/png": "[encoded data removed]"
          },
          "metadata": {
            "needs_background": "light"
          }
        }
      ]
    },
    {
      "cell_type": "markdown",
      "source": [
        "Some values for our neuron..."
      ],
      "metadata": {
        "id": "vNluUblb5sBb"
      }
    },
    {
      "cell_type": "code",
      "source": [
        "def build_graph():\n",
        "  # inputs\n",
        "  x1 = Value(2.0, label='x1')\n",
        "  x2 = Value(0.0, label='x2')\n",
        "\n",
        "  # weights\n",
        "  w1 = Value(-3.0, label='w1')\n",
        "  w2 = Value(1.0, label='w2')\n",
        "\n",
        "  # bias\n",
        "  b = Value(6.8813735870195432, label='b')\n",
        "\n",
        "  # weights x inputs\n",
        "  x1w1 = x1 * w1; x1w1.label = 'x1*w1'\n",
        "  x2w2 = x2 * w2; x2w2.label = 'x2*w2'\n",
        "\n",
        "  # dot product\n",
        "  x1w1x2w2 = x1w1 + x2w2; x1w1x2w2.label = 'x1*w1 + x2*w2'\n",
        "\n",
        "  # adding the bias\n",
        "  n = x1w1x2w2 + b; n.label = 'n'\n",
        "\n",
        "  o = n.tanh(); o.label = 'o'\n",
        "\n",
        "  return o\n"
      ],
      "metadata": {
        "id": "K_Yho4815UTG"
      },
      "execution_count": 118,
      "outputs": []
    },
    {
      "cell_type": "code",
      "source": [
        "o = build_graph()"
      ],
      "metadata": {
        "id": "An7O9dBOkb3n"
      },
      "execution_count": 119,
      "outputs": []
    },
    {
      "cell_type": "markdown",
      "source": [
        "Running the backward function on our values..."
      ],
      "metadata": {
        "id": "BzB83meMKSel"
      }
    },
    {
      "cell_type": "code",
      "source": [
        "o.grad = 1.0 # since grad initialized as 0.0"
      ],
      "metadata": {
        "id": "o-6hKE_xLnV1"
      },
      "execution_count": 120,
      "outputs": []
    },
    {
      "cell_type": "markdown",
      "source": [
        "## Example 1:\n",
        "hard coding the gradients..."
      ],
      "metadata": {
        "id": "5SGDLleLAI03"
      }
    },
    {
      "cell_type": "code",
      "source": [
        "# o.grad = 1.0\n",
        "\n",
        "# # o = tanh(n)\n",
        "# # do/dn = 1 - tanh(n)^2\n",
        "# #       = 1 - o^2\n",
        "# n.grad = 1 - o.data ** 2\n",
        "\n",
        "# # do/dx1w1... = do/dn * dn/dx1w1...\n",
        "# # n = x1w1x2w2 + b\n",
        "# # dn/dx1w1... = 1.0\n",
        "# x1w1x2w2.grad = 1.0 * n.grad\n",
        "# b.grad = 1.0 * n.grad\n",
        "\n",
        "# # do/dx1w1 = do/dx1w1x2w2 * dx1w1x2w2/dx1w1\n",
        "# # do/dx1w1x2w2 = x1w1x2w2.grad\n",
        "# # x1w1x2w2 = x1w1 + x2w2\n",
        "# # dx1w1x2w2/dx1w1 = 1.0\n",
        "# # dx1w1x2w2/dx2w2 = 1.0\n",
        "# x1w1.grad = x1w1x2w2.grad * 1.0\n",
        "# x2w2.grad = x1w1x2w2.grad * 1.0\n",
        "\n",
        "# # do/dx2 = do/dx2w2 * dx2w2/dx2\n",
        "# # do/dx2w2 = x2w2.grad\n",
        "# # x2w2 = x2 * w2\n",
        "# # dx2w2/dx2 = w2\n",
        "# # dx2w2/dw2 = x2\n",
        "# x2.grad = x2w2.grad * w2.data\n",
        "# w2.grad = x2w2.grad * x2.data\n",
        "\n",
        "# # do/dx1 = do/dx1w1 * dx1w1/dx1\n",
        "# # do/dx1w1 = x1w1.grad\n",
        "# # x1w1 = x1 * w1\n",
        "# # dx1w1/dx1 = w1\n",
        "# # dx1w1/dw1 = x1\n",
        "# x1.grad = x1w1.grad * w1.data\n",
        "# w1.grad = x1w1.grad * x1.data"
      ],
      "metadata": {
        "id": "SiYpRD_t54OL"
      },
      "execution_count": 121,
      "outputs": []
    },
    {
      "cell_type": "code",
      "source": [
        "# draw_dot(o)"
      ],
      "metadata": {
        "id": "CdzSYcZk97k4"
      },
      "execution_count": 122,
      "outputs": []
    },
    {
      "cell_type": "markdown",
      "source": [
        "## Example 2:\n",
        "Running backprop in topological order manually"
      ],
      "metadata": {
        "id": "nyrhUqsBkov0"
      }
    },
    {
      "cell_type": "code",
      "source": [
        "# inputs\n",
        "x1 = Value(2.0, label='x1')\n",
        "x2 = Value(0.0, label='x2')\n",
        "\n",
        "# weights\n",
        "w1 = Value(-3.0, label='w1')\n",
        "w2 = Value(1.0, label='w2')\n",
        "\n",
        "# bias\n",
        "b = Value(6.8813735870195432, label='b')\n",
        "\n",
        "# weights x inputs\n",
        "x1w1 = x1 * w1; x1w1.label = 'x1*w1'\n",
        "x2w2 = x2 * w2; x2w2.label = 'x2*w2'\n",
        "\n",
        "# dot product\n",
        "x1w1x2w2 = x1w1 + x2w2; x1w1x2w2.label = 'x1*w1 + x2*w2'\n",
        "\n",
        "# adding the bias\n",
        "n = x1w1x2w2 + b; n.label = 'n'\n",
        "\n",
        "o = n.tanh(); o.label = 'o'\n",
        "o.grad = 1.0\n",
        "\n",
        "# Run the backprop in order on the graph\n",
        "o._backward()\n",
        "n._backward()\n",
        "x1w1x2w2._backward()\n",
        "b._backward()\n",
        "x1w1._backward()\n",
        "x2w2._backward()\n",
        "w1._backward()\n",
        "x1._backward()\n",
        "w2._backward()\n",
        "x2._backward()"
      ],
      "metadata": {
        "id": "OCYA016sKV48"
      },
      "execution_count": 123,
      "outputs": []
    },
    {
      "cell_type": "code",
      "source": [
        "draw_dot(o)"
      ],
      "metadata": {
        "colab": {
          "base_uri": "https://localhost:8080/",
          "height": 321
        },
        "id": "VgJgULkYKl9P",
        "outputId": "820e56e6-e5fa-4520-aeb5-48ff9ff56c6e"
      },
      "execution_count": 124,
      "outputs": [
        {
          "output_type": "execute_result",
          "data": {
            "text/plain": [
              "<graphviz.dot.Digraph at 0x7f8a59219100>"
            ],
            "image/svg+xml": "<?xml version=\"1.0\" encoding=\"UTF-8\" standalone=\"no\"?>\n<!DOCTYPE svg PUBLIC \"-//W3C//DTD SVG 1.1//EN\"\n \"http://www.w3.org/Graphics/SVG/1.1/DTD/svg11.dtd\">\n<!-- Generated by graphviz version 2.43.0 (0)\n -->\n<!-- Title: %3 Pages: 1 -->\n<svg width=\"1575pt\" height=\"210pt\"\n viewBox=\"0.00 0.00 1575.00 210.00\" xmlns=\"http://www.w3.org/2000/svg\" xmlns:xlink=\"http://www.w3.org/1999/xlink\">\n<g id=\"graph0\" class=\"graph\" transform=\"scale(1 1) rotate(0) translate(4 206)\">\n<title>%3</title>\n<polygon fill=\"white\" stroke=\"transparent\" points=\"-4,4 -4,-206 1571,-206 1571,4 -4,4\"/>\n<!-- 140232180242944 -->\n<g id=\"node1\" class=\"node\">\n<title>140232180242944</title>\n<polygon fill=\"none\" stroke=\"black\" points=\"716,-137.5 716,-173.5 901,-173.5 901,-137.5 716,-137.5\"/>\n<text text-anchor=\"middle\" x=\"727.5\" y=\"-151.8\" font-family=\"Times,serif\" font-size=\"14.00\">b</text>\n<polyline fill=\"none\" stroke=\"black\" points=\"739,-137.5 739,-173.5 \"/>\n<text text-anchor=\"middle\" x=\"779\" y=\"-151.8\" font-family=\"Times,serif\" font-size=\"14.00\">data 6.8814</text>\n<polyline fill=\"none\" stroke=\"black\" points=\"819,-137.5 819,-173.5 \"/>\n<text text-anchor=\"middle\" x=\"860\" y=\"-151.8\" font-family=\"Times,serif\" font-size=\"14.00\">grad 0.5000</text>\n</g>\n<!-- 140232165804976+ -->\n<g id=\"node14\" class=\"node\">\n<title>140232165804976+</title>\n<ellipse fill=\"none\" stroke=\"black\" cx=\"1008\" cy=\"-127.5\" rx=\"27\" ry=\"18\"/>\n<text text-anchor=\"middle\" x=\"1008\" y=\"-123.8\" font-family=\"Times,serif\" font-size=\"14.00\">+</text>\n</g>\n<!-- 140232180242944&#45;&gt;140232165804976+ -->\n<g id=\"edge11\" class=\"edge\">\n<title>140232180242944&#45;&gt;140232165804976+</title>\n<path fill=\"none\" stroke=\"black\" d=\"M901.02,-142.52C926,-138.98 951.59,-135.36 971.37,-132.55\"/>\n<polygon fill=\"black\" stroke=\"black\" points=\"972.03,-135.99 981.43,-131.12 971.04,-129.06 972.03,-135.99\"/>\n</g>\n<!-- 140232165804064 -->\n<g id=\"node2\" class=\"node\">\n<title>140232165804064</title>\n<polygon fill=\"none\" stroke=\"black\" points=\"326,-110.5 326,-146.5 546,-146.5 546,-110.5 326,-110.5\"/>\n<text text-anchor=\"middle\" x=\"352.5\" y=\"-124.8\" font-family=\"Times,serif\" font-size=\"14.00\">x1*w1</text>\n<polyline fill=\"none\" stroke=\"black\" points=\"379,-110.5 379,-146.5 \"/>\n<text text-anchor=\"middle\" x=\"421.5\" y=\"-124.8\" font-family=\"Times,serif\" font-size=\"14.00\">data &#45;6.0000</text>\n<polyline fill=\"none\" stroke=\"black\" points=\"464,-110.5 464,-146.5 \"/>\n<text text-anchor=\"middle\" x=\"505\" y=\"-124.8\" font-family=\"Times,serif\" font-size=\"14.00\">grad 0.5000</text>\n</g>\n<!-- 140232165804256+ -->\n<g id=\"node12\" class=\"node\">\n<title>140232165804256+</title>\n<ellipse fill=\"none\" stroke=\"black\" cx=\"609\" cy=\"-100.5\" rx=\"27\" ry=\"18\"/>\n<text text-anchor=\"middle\" x=\"609\" y=\"-96.8\" font-family=\"Times,serif\" font-size=\"14.00\">+</text>\n</g>\n<!-- 140232165804064&#45;&gt;140232165804256+ -->\n<g id=\"edge8\" class=\"edge\">\n<title>140232165804064&#45;&gt;140232165804256+</title>\n<path fill=\"none\" stroke=\"black\" d=\"M546.27,-110.61C555.64,-109.07 564.6,-107.61 572.65,-106.29\"/>\n<polygon fill=\"black\" stroke=\"black\" points=\"573.35,-109.72 582.65,-104.65 572.22,-102.81 573.35,-109.72\"/>\n</g>\n<!-- 140232165804064* -->\n<g id=\"node3\" class=\"node\">\n<title>140232165804064*</title>\n<ellipse fill=\"none\" stroke=\"black\" cx=\"263\" cy=\"-128.5\" rx=\"27\" ry=\"18\"/>\n<text text-anchor=\"middle\" x=\"263\" y=\"-124.8\" font-family=\"Times,serif\" font-size=\"14.00\">*</text>\n</g>\n<!-- 140232165804064*&#45;&gt;140232165804064 -->\n<g id=\"edge1\" class=\"edge\">\n<title>140232165804064*&#45;&gt;140232165804064</title>\n<path fill=\"none\" stroke=\"black\" d=\"M290.34,-128.5C297.77,-128.5 306.37,-128.5 315.6,-128.5\"/>\n<polygon fill=\"black\" stroke=\"black\" points=\"315.84,-132 325.84,-128.5 315.84,-125 315.84,-132\"/>\n</g>\n<!-- 140232165804688 -->\n<g id=\"node4\" class=\"node\">\n<title>140232165804688</title>\n<polygon fill=\"none\" stroke=\"black\" points=\"1382,-109.5 1382,-145.5 1567,-145.5 1567,-109.5 1382,-109.5\"/>\n<text text-anchor=\"middle\" x=\"1393.5\" y=\"-123.8\" font-family=\"Times,serif\" font-size=\"14.00\">o</text>\n<polyline fill=\"none\" stroke=\"black\" points=\"1405,-109.5 1405,-145.5 \"/>\n<text text-anchor=\"middle\" x=\"1445\" y=\"-123.8\" font-family=\"Times,serif\" font-size=\"14.00\">data 0.7071</text>\n<polyline fill=\"none\" stroke=\"black\" points=\"1485,-109.5 1485,-145.5 \"/>\n<text text-anchor=\"middle\" x=\"1526\" y=\"-123.8\" font-family=\"Times,serif\" font-size=\"14.00\">grad 1.0000</text>\n</g>\n<!-- 140232165804688tanh -->\n<g id=\"node5\" class=\"node\">\n<title>140232165804688tanh</title>\n<ellipse fill=\"none\" stroke=\"black\" cx=\"1319\" cy=\"-127.5\" rx=\"27\" ry=\"18\"/>\n<text text-anchor=\"middle\" x=\"1319\" y=\"-123.8\" font-family=\"Times,serif\" font-size=\"14.00\">tanh</text>\n</g>\n<!-- 140232165804688tanh&#45;&gt;140232165804688 -->\n<g id=\"edge2\" class=\"edge\">\n<title>140232165804688tanh&#45;&gt;140232165804688</title>\n<path fill=\"none\" stroke=\"black\" d=\"M1346.04,-127.5C1353.58,-127.5 1362.3,-127.5 1371.57,-127.5\"/>\n<polygon fill=\"black\" stroke=\"black\" points=\"1371.81,-131 1381.81,-127.5 1371.81,-124 1371.81,-131\"/>\n</g>\n<!-- 140232180241552 -->\n<g id=\"node6\" class=\"node\">\n<title>140232180241552</title>\n<polygon fill=\"none\" stroke=\"black\" points=\"2,-165.5 2,-201.5 198,-201.5 198,-165.5 2,-165.5\"/>\n<text text-anchor=\"middle\" x=\"17\" y=\"-179.8\" font-family=\"Times,serif\" font-size=\"14.00\">x1</text>\n<polyline fill=\"none\" stroke=\"black\" points=\"32,-165.5 32,-201.5 \"/>\n<text text-anchor=\"middle\" x=\"72\" y=\"-179.8\" font-family=\"Times,serif\" font-size=\"14.00\">data 2.0000</text>\n<polyline fill=\"none\" stroke=\"black\" points=\"112,-165.5 112,-201.5 \"/>\n<text text-anchor=\"middle\" x=\"155\" y=\"-179.8\" font-family=\"Times,serif\" font-size=\"14.00\">grad &#45;1.5000</text>\n</g>\n<!-- 140232180241552&#45;&gt;140232165804064* -->\n<g id=\"edge9\" class=\"edge\">\n<title>140232180241552&#45;&gt;140232165804064*</title>\n<path fill=\"none\" stroke=\"black\" d=\"M172.53,-165.44C181.84,-162.67 191.2,-159.67 200,-156.5 210.53,-152.71 221.75,-147.9 231.72,-143.33\"/>\n<polygon fill=\"black\" stroke=\"black\" points=\"233.25,-146.48 240.82,-139.07 230.28,-140.14 233.25,-146.48\"/>\n</g>\n<!-- 140232180243088 -->\n<g id=\"node7\" class=\"node\">\n<title>140232180243088</title>\n<polygon fill=\"none\" stroke=\"black\" points=\"0,-110.5 0,-146.5 200,-146.5 200,-110.5 0,-110.5\"/>\n<text text-anchor=\"middle\" x=\"16.5\" y=\"-124.8\" font-family=\"Times,serif\" font-size=\"14.00\">w1</text>\n<polyline fill=\"none\" stroke=\"black\" points=\"33,-110.5 33,-146.5 \"/>\n<text text-anchor=\"middle\" x=\"75.5\" y=\"-124.8\" font-family=\"Times,serif\" font-size=\"14.00\">data &#45;3.0000</text>\n<polyline fill=\"none\" stroke=\"black\" points=\"118,-110.5 118,-146.5 \"/>\n<text text-anchor=\"middle\" x=\"159\" y=\"-124.8\" font-family=\"Times,serif\" font-size=\"14.00\">grad 1.0000</text>\n</g>\n<!-- 140232180243088&#45;&gt;140232165804064* -->\n<g id=\"edge7\" class=\"edge\">\n<title>140232180243088&#45;&gt;140232165804064*</title>\n<path fill=\"none\" stroke=\"black\" d=\"M200.21,-128.5C209.2,-128.5 217.86,-128.5 225.7,-128.5\"/>\n<polygon fill=\"black\" stroke=\"black\" points=\"225.85,-132 235.85,-128.5 225.85,-125 225.85,-132\"/>\n</g>\n<!-- 140232180244144 -->\n<g id=\"node8\" class=\"node\">\n<title>140232180244144</title>\n<polygon fill=\"none\" stroke=\"black\" points=\"4,-55.5 4,-91.5 196,-91.5 196,-55.5 4,-55.5\"/>\n<text text-anchor=\"middle\" x=\"19\" y=\"-69.8\" font-family=\"Times,serif\" font-size=\"14.00\">x2</text>\n<polyline fill=\"none\" stroke=\"black\" points=\"34,-55.5 34,-91.5 \"/>\n<text text-anchor=\"middle\" x=\"74\" y=\"-69.8\" font-family=\"Times,serif\" font-size=\"14.00\">data 0.0000</text>\n<polyline fill=\"none\" stroke=\"black\" points=\"114,-55.5 114,-91.5 \"/>\n<text text-anchor=\"middle\" x=\"155\" y=\"-69.8\" font-family=\"Times,serif\" font-size=\"14.00\">grad 0.5000</text>\n</g>\n<!-- 140232165802192* -->\n<g id=\"node10\" class=\"node\">\n<title>140232165802192*</title>\n<ellipse fill=\"none\" stroke=\"black\" cx=\"263\" cy=\"-73.5\" rx=\"27\" ry=\"18\"/>\n<text text-anchor=\"middle\" x=\"263\" y=\"-69.8\" font-family=\"Times,serif\" font-size=\"14.00\">*</text>\n</g>\n<!-- 140232180244144&#45;&gt;140232165802192* -->\n<g id=\"edge14\" class=\"edge\">\n<title>140232180244144&#45;&gt;140232165802192*</title>\n<path fill=\"none\" stroke=\"black\" d=\"M196.05,-73.5C206.52,-73.5 216.65,-73.5 225.71,-73.5\"/>\n<polygon fill=\"black\" stroke=\"black\" points=\"225.79,-77 235.79,-73.5 225.79,-70 225.79,-77\"/>\n</g>\n<!-- 140232165802192 -->\n<g id=\"node9\" class=\"node\">\n<title>140232165802192</title>\n<polygon fill=\"none\" stroke=\"black\" points=\"328.5,-55.5 328.5,-91.5 543.5,-91.5 543.5,-55.5 328.5,-55.5\"/>\n<text text-anchor=\"middle\" x=\"355\" y=\"-69.8\" font-family=\"Times,serif\" font-size=\"14.00\">x2*w2</text>\n<polyline fill=\"none\" stroke=\"black\" points=\"381.5,-55.5 381.5,-91.5 \"/>\n<text text-anchor=\"middle\" x=\"421.5\" y=\"-69.8\" font-family=\"Times,serif\" font-size=\"14.00\">data 0.0000</text>\n<polyline fill=\"none\" stroke=\"black\" points=\"461.5,-55.5 461.5,-91.5 \"/>\n<text text-anchor=\"middle\" x=\"502.5\" y=\"-69.8\" font-family=\"Times,serif\" font-size=\"14.00\">grad 0.5000</text>\n</g>\n<!-- 140232165802192&#45;&gt;140232165804256+ -->\n<g id=\"edge13\" class=\"edge\">\n<title>140232165802192&#45;&gt;140232165804256+</title>\n<path fill=\"none\" stroke=\"black\" d=\"M543.84,-90.37C554.01,-91.98 563.76,-93.51 572.44,-94.89\"/>\n<polygon fill=\"black\" stroke=\"black\" points=\"572.05,-98.37 582.47,-96.47 573.14,-91.45 572.05,-98.37\"/>\n</g>\n<!-- 140232165802192*&#45;&gt;140232165802192 -->\n<g id=\"edge3\" class=\"edge\">\n<title>140232165802192*&#45;&gt;140232165802192</title>\n<path fill=\"none\" stroke=\"black\" d=\"M290.34,-73.5C298.51,-73.5 308.08,-73.5 318.36,-73.5\"/>\n<polygon fill=\"black\" stroke=\"black\" points=\"318.39,-77 328.39,-73.5 318.39,-70 318.39,-77\"/>\n</g>\n<!-- 140232165804256 -->\n<g id=\"node11\" class=\"node\">\n<title>140232165804256</title>\n<polygon fill=\"none\" stroke=\"black\" points=\"672,-82.5 672,-118.5 945,-118.5 945,-82.5 672,-82.5\"/>\n<text text-anchor=\"middle\" x=\"725\" y=\"-96.8\" font-family=\"Times,serif\" font-size=\"14.00\">x1*w1 + x2*w2</text>\n<polyline fill=\"none\" stroke=\"black\" points=\"778,-82.5 778,-118.5 \"/>\n<text text-anchor=\"middle\" x=\"820.5\" y=\"-96.8\" font-family=\"Times,serif\" font-size=\"14.00\">data &#45;6.0000</text>\n<polyline fill=\"none\" stroke=\"black\" points=\"863,-82.5 863,-118.5 \"/>\n<text text-anchor=\"middle\" x=\"904\" y=\"-96.8\" font-family=\"Times,serif\" font-size=\"14.00\">grad 0.5000</text>\n</g>\n<!-- 140232165804256&#45;&gt;140232165804976+ -->\n<g id=\"edge10\" class=\"edge\">\n<title>140232165804256&#45;&gt;140232165804976+</title>\n<path fill=\"none\" stroke=\"black\" d=\"M941.24,-118.51C952.12,-120 962.4,-121.4 971.45,-122.64\"/>\n<polygon fill=\"black\" stroke=\"black\" points=\"971.11,-126.13 981.49,-124.01 972.05,-119.19 971.11,-126.13\"/>\n</g>\n<!-- 140232165804256+&#45;&gt;140232165804256 -->\n<g id=\"edge4\" class=\"edge\">\n<title>140232165804256+&#45;&gt;140232165804256</title>\n<path fill=\"none\" stroke=\"black\" d=\"M636.23,-100.5C643.7,-100.5 652.41,-100.5 661.87,-100.5\"/>\n<polygon fill=\"black\" stroke=\"black\" points=\"661.98,-104 671.98,-100.5 661.98,-97 661.98,-104\"/>\n</g>\n<!-- 140232165804976 -->\n<g id=\"node13\" class=\"node\">\n<title>140232165804976</title>\n<polygon fill=\"none\" stroke=\"black\" points=\"1071,-109.5 1071,-145.5 1256,-145.5 1256,-109.5 1071,-109.5\"/>\n<text text-anchor=\"middle\" x=\"1082.5\" y=\"-123.8\" font-family=\"Times,serif\" font-size=\"14.00\">n</text>\n<polyline fill=\"none\" stroke=\"black\" points=\"1094,-109.5 1094,-145.5 \"/>\n<text text-anchor=\"middle\" x=\"1134\" y=\"-123.8\" font-family=\"Times,serif\" font-size=\"14.00\">data 0.8814</text>\n<polyline fill=\"none\" stroke=\"black\" points=\"1174,-109.5 1174,-145.5 \"/>\n<text text-anchor=\"middle\" x=\"1215\" y=\"-123.8\" font-family=\"Times,serif\" font-size=\"14.00\">grad 0.5000</text>\n</g>\n<!-- 140232165804976&#45;&gt;140232165804688tanh -->\n<g id=\"edge6\" class=\"edge\">\n<title>140232165804976&#45;&gt;140232165804688tanh</title>\n<path fill=\"none\" stroke=\"black\" d=\"M1256.01,-127.5C1265.01,-127.5 1273.74,-127.5 1281.66,-127.5\"/>\n<polygon fill=\"black\" stroke=\"black\" points=\"1281.91,-131 1291.91,-127.5 1281.91,-124 1281.91,-131\"/>\n</g>\n<!-- 140232165804976+&#45;&gt;140232165804976 -->\n<g id=\"edge5\" class=\"edge\">\n<title>140232165804976+&#45;&gt;140232165804976</title>\n<path fill=\"none\" stroke=\"black\" d=\"M1035.04,-127.5C1042.58,-127.5 1051.3,-127.5 1060.57,-127.5\"/>\n<polygon fill=\"black\" stroke=\"black\" points=\"1060.81,-131 1070.81,-127.5 1060.81,-124 1060.81,-131\"/>\n</g>\n<!-- 140232180241360 -->\n<g id=\"node15\" class=\"node\">\n<title>140232180241360</title>\n<polygon fill=\"none\" stroke=\"black\" points=\"2.5,-0.5 2.5,-36.5 197.5,-36.5 197.5,-0.5 2.5,-0.5\"/>\n<text text-anchor=\"middle\" x=\"19\" y=\"-14.8\" font-family=\"Times,serif\" font-size=\"14.00\">w2</text>\n<polyline fill=\"none\" stroke=\"black\" points=\"35.5,-0.5 35.5,-36.5 \"/>\n<text text-anchor=\"middle\" x=\"75.5\" y=\"-14.8\" font-family=\"Times,serif\" font-size=\"14.00\">data 1.0000</text>\n<polyline fill=\"none\" stroke=\"black\" points=\"115.5,-0.5 115.5,-36.5 \"/>\n<text text-anchor=\"middle\" x=\"156.5\" y=\"-14.8\" font-family=\"Times,serif\" font-size=\"14.00\">grad 0.0000</text>\n</g>\n<!-- 140232180241360&#45;&gt;140232165802192* -->\n<g id=\"edge12\" class=\"edge\">\n<title>140232180241360&#45;&gt;140232165802192*</title>\n<path fill=\"none\" stroke=\"black\" d=\"M169.28,-36.5C179.65,-39.61 190.16,-42.98 200,-46.5 210.28,-50.17 221.28,-54.74 231.11,-59.07\"/>\n<polygon fill=\"black\" stroke=\"black\" points=\"229.93,-62.37 240.48,-63.27 232.79,-55.99 229.93,-62.37\"/>\n</g>\n</g>\n</svg>\n"
          },
          "metadata": {},
          "execution_count": 124
        }
      ]
    },
    {
      "cell_type": "code",
      "source": [
        "# draw_dot(o)"
      ],
      "metadata": {
        "id": "moiMc8dPAdGQ"
      },
      "execution_count": 125,
      "outputs": []
    },
    {
      "cell_type": "markdown",
      "source": [
        "# Topologically Sorting Graph for Backprop\n"
      ],
      "metadata": {
        "id": "zysRHrmyijea"
      }
    },
    {
      "cell_type": "code",
      "source": [
        "# Function to topologically sort a graph of values\n",
        "def topological_sort(val):\n",
        "  topo = []\n",
        "  visited = set()\n",
        "  def build_topo(v):\n",
        "    if v not in visited:\n",
        "      visited.add(v)\n",
        "      for child in v._prev:\n",
        "        build_topo(child)\n",
        "      topo.append(v)\n",
        "  build_topo(val)\n",
        "  return topo"
      ],
      "metadata": {
        "id": "N2akEhgHAaIn"
      },
      "execution_count": 126,
      "outputs": []
    },
    {
      "cell_type": "code",
      "source": [
        "o = build_graph() # reset the graph\n",
        "o.grad = 1.0 # default gradient for output"
      ],
      "metadata": {
        "id": "F5ptU4lFku7L"
      },
      "execution_count": 127,
      "outputs": []
    },
    {
      "cell_type": "code",
      "source": [
        "topological_sort(o)"
      ],
      "metadata": {
        "colab": {
          "base_uri": "https://localhost:8080/"
        },
        "id": "faEVCZngjcHS",
        "outputId": "a6212e20-0a49-4e0b-ac93-66e0111c00c9"
      },
      "execution_count": 128,
      "outputs": [
        {
          "output_type": "execute_result",
          "data": {
            "text/plain": [
              "[Value(data=0.0),\n",
              " Value(data=1.0),\n",
              " Value(data=0.0),\n",
              " Value(data=-3.0),\n",
              " Value(data=2.0),\n",
              " Value(data=-6.0),\n",
              " Value(data=-6.0),\n",
              " Value(data=6.881373587019543),\n",
              " Value(data=0.8813735870195432),\n",
              " Value(data=0.7071067811865476)]"
            ]
          },
          "metadata": {},
          "execution_count": 128
        }
      ]
    },
    {
      "cell_type": "code",
      "source": [
        "draw_dot(o)"
      ],
      "metadata": {
        "colab": {
          "base_uri": "https://localhost:8080/",
          "height": 321
        },
        "id": "_wX5Joytjd34",
        "outputId": "9e88ac4a-9e12-49c9-881b-ff300a97b0f4"
      },
      "execution_count": 129,
      "outputs": [
        {
          "output_type": "execute_result",
          "data": {
            "text/plain": [
              "<graphviz.dot.Digraph at 0x7f8a59249850>"
            ],
            "image/svg+xml": "<?xml version=\"1.0\" encoding=\"UTF-8\" standalone=\"no\"?>\n<!DOCTYPE svg PUBLIC \"-//W3C//DTD SVG 1.1//EN\"\n \"http://www.w3.org/Graphics/SVG/1.1/DTD/svg11.dtd\">\n<!-- Generated by graphviz version 2.43.0 (0)\n -->\n<!-- Title: %3 Pages: 1 -->\n<svg width=\"1575pt\" height=\"210pt\"\n viewBox=\"0.00 0.00 1575.00 210.00\" xmlns=\"http://www.w3.org/2000/svg\" xmlns:xlink=\"http://www.w3.org/1999/xlink\">\n<g id=\"graph0\" class=\"graph\" transform=\"scale(1 1) rotate(0) translate(4 206)\">\n<title>%3</title>\n<polygon fill=\"white\" stroke=\"transparent\" points=\"-4,4 -4,-206 1571,-206 1571,4 -4,4\"/>\n<!-- 140232177603104 -->\n<g id=\"node1\" class=\"node\">\n<title>140232177603104</title>\n<polygon fill=\"none\" stroke=\"black\" points=\"672,-82.5 672,-118.5 945,-118.5 945,-82.5 672,-82.5\"/>\n<text text-anchor=\"middle\" x=\"725\" y=\"-96.8\" font-family=\"Times,serif\" font-size=\"14.00\">x1*w1 + x2*w2</text>\n<polyline fill=\"none\" stroke=\"black\" points=\"778,-82.5 778,-118.5 \"/>\n<text text-anchor=\"middle\" x=\"820.5\" y=\"-96.8\" font-family=\"Times,serif\" font-size=\"14.00\">data &#45;6.0000</text>\n<polyline fill=\"none\" stroke=\"black\" points=\"863,-82.5 863,-118.5 \"/>\n<text text-anchor=\"middle\" x=\"904\" y=\"-96.8\" font-family=\"Times,serif\" font-size=\"14.00\">grad 0.0000</text>\n</g>\n<!-- 140232166159936+ -->\n<g id=\"node4\" class=\"node\">\n<title>140232166159936+</title>\n<ellipse fill=\"none\" stroke=\"black\" cx=\"1008\" cy=\"-127.5\" rx=\"27\" ry=\"18\"/>\n<text text-anchor=\"middle\" x=\"1008\" y=\"-123.8\" font-family=\"Times,serif\" font-size=\"14.00\">+</text>\n</g>\n<!-- 140232177603104&#45;&gt;140232166159936+ -->\n<g id=\"edge14\" class=\"edge\">\n<title>140232177603104&#45;&gt;140232166159936+</title>\n<path fill=\"none\" stroke=\"black\" d=\"M941.24,-118.51C952.12,-120 962.4,-121.4 971.45,-122.64\"/>\n<polygon fill=\"black\" stroke=\"black\" points=\"971.11,-126.13 981.49,-124.01 972.05,-119.19 971.11,-126.13\"/>\n</g>\n<!-- 140232177603104+ -->\n<g id=\"node2\" class=\"node\">\n<title>140232177603104+</title>\n<ellipse fill=\"none\" stroke=\"black\" cx=\"609\" cy=\"-100.5\" rx=\"27\" ry=\"18\"/>\n<text text-anchor=\"middle\" x=\"609\" y=\"-96.8\" font-family=\"Times,serif\" font-size=\"14.00\">+</text>\n</g>\n<!-- 140232177603104+&#45;&gt;140232177603104 -->\n<g id=\"edge1\" class=\"edge\">\n<title>140232177603104+&#45;&gt;140232177603104</title>\n<path fill=\"none\" stroke=\"black\" d=\"M636.23,-100.5C643.7,-100.5 652.41,-100.5 661.87,-100.5\"/>\n<polygon fill=\"black\" stroke=\"black\" points=\"661.98,-104 671.98,-100.5 661.98,-97 661.98,-104\"/>\n</g>\n<!-- 140232166159936 -->\n<g id=\"node3\" class=\"node\">\n<title>140232166159936</title>\n<polygon fill=\"none\" stroke=\"black\" points=\"1071,-109.5 1071,-145.5 1256,-145.5 1256,-109.5 1071,-109.5\"/>\n<text text-anchor=\"middle\" x=\"1082.5\" y=\"-123.8\" font-family=\"Times,serif\" font-size=\"14.00\">n</text>\n<polyline fill=\"none\" stroke=\"black\" points=\"1094,-109.5 1094,-145.5 \"/>\n<text text-anchor=\"middle\" x=\"1134\" y=\"-123.8\" font-family=\"Times,serif\" font-size=\"14.00\">data 0.8814</text>\n<polyline fill=\"none\" stroke=\"black\" points=\"1174,-109.5 1174,-145.5 \"/>\n<text text-anchor=\"middle\" x=\"1215\" y=\"-123.8\" font-family=\"Times,serif\" font-size=\"14.00\">grad 0.0000</text>\n</g>\n<!-- 140232166159984tanh -->\n<g id=\"node6\" class=\"node\">\n<title>140232166159984tanh</title>\n<ellipse fill=\"none\" stroke=\"black\" cx=\"1319\" cy=\"-127.5\" rx=\"27\" ry=\"18\"/>\n<text text-anchor=\"middle\" x=\"1319\" y=\"-123.8\" font-family=\"Times,serif\" font-size=\"14.00\">tanh</text>\n</g>\n<!-- 140232166159936&#45;&gt;140232166159984tanh -->\n<g id=\"edge7\" class=\"edge\">\n<title>140232166159936&#45;&gt;140232166159984tanh</title>\n<path fill=\"none\" stroke=\"black\" d=\"M1256.01,-127.5C1265.01,-127.5 1273.74,-127.5 1281.66,-127.5\"/>\n<polygon fill=\"black\" stroke=\"black\" points=\"1281.91,-131 1291.91,-127.5 1281.91,-124 1281.91,-131\"/>\n</g>\n<!-- 140232166159936+&#45;&gt;140232166159936 -->\n<g id=\"edge2\" class=\"edge\">\n<title>140232166159936+&#45;&gt;140232166159936</title>\n<path fill=\"none\" stroke=\"black\" d=\"M1035.04,-127.5C1042.58,-127.5 1051.3,-127.5 1060.57,-127.5\"/>\n<polygon fill=\"black\" stroke=\"black\" points=\"1060.81,-131 1070.81,-127.5 1060.81,-124 1060.81,-131\"/>\n</g>\n<!-- 140232166159984 -->\n<g id=\"node5\" class=\"node\">\n<title>140232166159984</title>\n<polygon fill=\"none\" stroke=\"black\" points=\"1382,-109.5 1382,-145.5 1567,-145.5 1567,-109.5 1382,-109.5\"/>\n<text text-anchor=\"middle\" x=\"1393.5\" y=\"-123.8\" font-family=\"Times,serif\" font-size=\"14.00\">o</text>\n<polyline fill=\"none\" stroke=\"black\" points=\"1405,-109.5 1405,-145.5 \"/>\n<text text-anchor=\"middle\" x=\"1445\" y=\"-123.8\" font-family=\"Times,serif\" font-size=\"14.00\">data 0.7071</text>\n<polyline fill=\"none\" stroke=\"black\" points=\"1485,-109.5 1485,-145.5 \"/>\n<text text-anchor=\"middle\" x=\"1526\" y=\"-123.8\" font-family=\"Times,serif\" font-size=\"14.00\">grad 1.0000</text>\n</g>\n<!-- 140232166159984tanh&#45;&gt;140232166159984 -->\n<g id=\"edge3\" class=\"edge\">\n<title>140232166159984tanh&#45;&gt;140232166159984</title>\n<path fill=\"none\" stroke=\"black\" d=\"M1346.04,-127.5C1353.58,-127.5 1362.3,-127.5 1371.57,-127.5\"/>\n<polygon fill=\"black\" stroke=\"black\" points=\"1371.81,-131 1381.81,-127.5 1371.81,-124 1371.81,-131\"/>\n</g>\n<!-- 140232177605792 -->\n<g id=\"node7\" class=\"node\">\n<title>140232177605792</title>\n<polygon fill=\"none\" stroke=\"black\" points=\"328.5,-110.5 328.5,-146.5 543.5,-146.5 543.5,-110.5 328.5,-110.5\"/>\n<text text-anchor=\"middle\" x=\"355\" y=\"-124.8\" font-family=\"Times,serif\" font-size=\"14.00\">x2*w2</text>\n<polyline fill=\"none\" stroke=\"black\" points=\"381.5,-110.5 381.5,-146.5 \"/>\n<text text-anchor=\"middle\" x=\"421.5\" y=\"-124.8\" font-family=\"Times,serif\" font-size=\"14.00\">data 0.0000</text>\n<polyline fill=\"none\" stroke=\"black\" points=\"461.5,-110.5 461.5,-146.5 \"/>\n<text text-anchor=\"middle\" x=\"502.5\" y=\"-124.8\" font-family=\"Times,serif\" font-size=\"14.00\">grad 0.0000</text>\n</g>\n<!-- 140232177605792&#45;&gt;140232177603104+ -->\n<g id=\"edge12\" class=\"edge\">\n<title>140232177605792&#45;&gt;140232177603104+</title>\n<path fill=\"none\" stroke=\"black\" d=\"M543.84,-111.01C554.01,-109.34 563.76,-107.74 572.44,-106.32\"/>\n<polygon fill=\"black\" stroke=\"black\" points=\"573.17,-109.75 582.47,-104.68 572.04,-102.84 573.17,-109.75\"/>\n</g>\n<!-- 140232177605792* -->\n<g id=\"node8\" class=\"node\">\n<title>140232177605792*</title>\n<ellipse fill=\"none\" stroke=\"black\" cx=\"263\" cy=\"-128.5\" rx=\"27\" ry=\"18\"/>\n<text text-anchor=\"middle\" x=\"263\" y=\"-124.8\" font-family=\"Times,serif\" font-size=\"14.00\">*</text>\n</g>\n<!-- 140232177605792*&#45;&gt;140232177605792 -->\n<g id=\"edge4\" class=\"edge\">\n<title>140232177605792*&#45;&gt;140232177605792</title>\n<path fill=\"none\" stroke=\"black\" d=\"M290.34,-128.5C298.51,-128.5 308.08,-128.5 318.36,-128.5\"/>\n<polygon fill=\"black\" stroke=\"black\" points=\"318.39,-132 328.39,-128.5 318.39,-125 318.39,-132\"/>\n</g>\n<!-- 140232177809056 -->\n<g id=\"node9\" class=\"node\">\n<title>140232177809056</title>\n<polygon fill=\"none\" stroke=\"black\" points=\"716,-137.5 716,-173.5 901,-173.5 901,-137.5 716,-137.5\"/>\n<text text-anchor=\"middle\" x=\"727.5\" y=\"-151.8\" font-family=\"Times,serif\" font-size=\"14.00\">b</text>\n<polyline fill=\"none\" stroke=\"black\" points=\"739,-137.5 739,-173.5 \"/>\n<text text-anchor=\"middle\" x=\"779\" y=\"-151.8\" font-family=\"Times,serif\" font-size=\"14.00\">data 6.8814</text>\n<polyline fill=\"none\" stroke=\"black\" points=\"819,-137.5 819,-173.5 \"/>\n<text text-anchor=\"middle\" x=\"860\" y=\"-151.8\" font-family=\"Times,serif\" font-size=\"14.00\">grad 0.0000</text>\n</g>\n<!-- 140232177809056&#45;&gt;140232166159936+ -->\n<g id=\"edge6\" class=\"edge\">\n<title>140232177809056&#45;&gt;140232166159936+</title>\n<path fill=\"none\" stroke=\"black\" d=\"M901.02,-142.52C926,-138.98 951.59,-135.36 971.37,-132.55\"/>\n<polygon fill=\"black\" stroke=\"black\" points=\"972.03,-135.99 981.43,-131.12 971.04,-129.06 972.03,-135.99\"/>\n</g>\n<!-- 140232177810112 -->\n<g id=\"node10\" class=\"node\">\n<title>140232177810112</title>\n<polygon fill=\"none\" stroke=\"black\" points=\"4,-165.5 4,-201.5 196,-201.5 196,-165.5 4,-165.5\"/>\n<text text-anchor=\"middle\" x=\"19\" y=\"-179.8\" font-family=\"Times,serif\" font-size=\"14.00\">x2</text>\n<polyline fill=\"none\" stroke=\"black\" points=\"34,-165.5 34,-201.5 \"/>\n<text text-anchor=\"middle\" x=\"74\" y=\"-179.8\" font-family=\"Times,serif\" font-size=\"14.00\">data 0.0000</text>\n<polyline fill=\"none\" stroke=\"black\" points=\"114,-165.5 114,-201.5 \"/>\n<text text-anchor=\"middle\" x=\"155\" y=\"-179.8\" font-family=\"Times,serif\" font-size=\"14.00\">grad 0.0000</text>\n</g>\n<!-- 140232177810112&#45;&gt;140232177605792* -->\n<g id=\"edge11\" class=\"edge\">\n<title>140232177810112&#45;&gt;140232177605792*</title>\n<path fill=\"none\" stroke=\"black\" d=\"M172.53,-165.44C181.84,-162.67 191.2,-159.67 200,-156.5 210.53,-152.71 221.75,-147.9 231.72,-143.33\"/>\n<polygon fill=\"black\" stroke=\"black\" points=\"233.25,-146.48 240.82,-139.07 230.28,-140.14 233.25,-146.48\"/>\n</g>\n<!-- 140232177809680 -->\n<g id=\"node11\" class=\"node\">\n<title>140232177809680</title>\n<polygon fill=\"none\" stroke=\"black\" points=\"0,-55.5 0,-91.5 200,-91.5 200,-55.5 0,-55.5\"/>\n<text text-anchor=\"middle\" x=\"16.5\" y=\"-69.8\" font-family=\"Times,serif\" font-size=\"14.00\">w1</text>\n<polyline fill=\"none\" stroke=\"black\" points=\"33,-55.5 33,-91.5 \"/>\n<text text-anchor=\"middle\" x=\"75.5\" y=\"-69.8\" font-family=\"Times,serif\" font-size=\"14.00\">data &#45;3.0000</text>\n<polyline fill=\"none\" stroke=\"black\" points=\"118,-55.5 118,-91.5 \"/>\n<text text-anchor=\"middle\" x=\"159\" y=\"-69.8\" font-family=\"Times,serif\" font-size=\"14.00\">grad 0.0000</text>\n</g>\n<!-- 140232177807664* -->\n<g id=\"node13\" class=\"node\">\n<title>140232177807664*</title>\n<ellipse fill=\"none\" stroke=\"black\" cx=\"263\" cy=\"-73.5\" rx=\"27\" ry=\"18\"/>\n<text text-anchor=\"middle\" x=\"263\" y=\"-69.8\" font-family=\"Times,serif\" font-size=\"14.00\">*</text>\n</g>\n<!-- 140232177809680&#45;&gt;140232177807664* -->\n<g id=\"edge10\" class=\"edge\">\n<title>140232177809680&#45;&gt;140232177807664*</title>\n<path fill=\"none\" stroke=\"black\" d=\"M200.21,-73.5C209.2,-73.5 217.86,-73.5 225.7,-73.5\"/>\n<polygon fill=\"black\" stroke=\"black\" points=\"225.85,-77 235.85,-73.5 225.85,-70 225.85,-77\"/>\n</g>\n<!-- 140232177807664 -->\n<g id=\"node12\" class=\"node\">\n<title>140232177807664</title>\n<polygon fill=\"none\" stroke=\"black\" points=\"326,-55.5 326,-91.5 546,-91.5 546,-55.5 326,-55.5\"/>\n<text text-anchor=\"middle\" x=\"352.5\" y=\"-69.8\" font-family=\"Times,serif\" font-size=\"14.00\">x1*w1</text>\n<polyline fill=\"none\" stroke=\"black\" points=\"379,-55.5 379,-91.5 \"/>\n<text text-anchor=\"middle\" x=\"421.5\" y=\"-69.8\" font-family=\"Times,serif\" font-size=\"14.00\">data &#45;6.0000</text>\n<polyline fill=\"none\" stroke=\"black\" points=\"464,-55.5 464,-91.5 \"/>\n<text text-anchor=\"middle\" x=\"505\" y=\"-69.8\" font-family=\"Times,serif\" font-size=\"14.00\">grad 0.0000</text>\n</g>\n<!-- 140232177807664&#45;&gt;140232177603104+ -->\n<g id=\"edge8\" class=\"edge\">\n<title>140232177807664&#45;&gt;140232177603104+</title>\n<path fill=\"none\" stroke=\"black\" d=\"M546.27,-90.75C555.64,-92.23 564.6,-93.65 572.65,-94.92\"/>\n<polygon fill=\"black\" stroke=\"black\" points=\"572.23,-98.4 582.65,-96.5 573.32,-91.48 572.23,-98.4\"/>\n</g>\n<!-- 140232177807664*&#45;&gt;140232177807664 -->\n<g id=\"edge5\" class=\"edge\">\n<title>140232177807664*&#45;&gt;140232177807664</title>\n<path fill=\"none\" stroke=\"black\" d=\"M290.34,-73.5C297.77,-73.5 306.37,-73.5 315.6,-73.5\"/>\n<polygon fill=\"black\" stroke=\"black\" points=\"315.84,-77 325.84,-73.5 315.84,-70 315.84,-77\"/>\n</g>\n<!-- 140232177810784 -->\n<g id=\"node14\" class=\"node\">\n<title>140232177810784</title>\n<polygon fill=\"none\" stroke=\"black\" points=\"4,-0.5 4,-36.5 196,-36.5 196,-0.5 4,-0.5\"/>\n<text text-anchor=\"middle\" x=\"19\" y=\"-14.8\" font-family=\"Times,serif\" font-size=\"14.00\">x1</text>\n<polyline fill=\"none\" stroke=\"black\" points=\"34,-0.5 34,-36.5 \"/>\n<text text-anchor=\"middle\" x=\"74\" y=\"-14.8\" font-family=\"Times,serif\" font-size=\"14.00\">data 2.0000</text>\n<polyline fill=\"none\" stroke=\"black\" points=\"114,-0.5 114,-36.5 \"/>\n<text text-anchor=\"middle\" x=\"155\" y=\"-14.8\" font-family=\"Times,serif\" font-size=\"14.00\">grad 0.0000</text>\n</g>\n<!-- 140232177810784&#45;&gt;140232177807664* -->\n<g id=\"edge9\" class=\"edge\">\n<title>140232177810784&#45;&gt;140232177807664*</title>\n<path fill=\"none\" stroke=\"black\" d=\"M169.28,-36.5C179.65,-39.61 190.16,-42.98 200,-46.5 210.28,-50.17 221.28,-54.74 231.11,-59.07\"/>\n<polygon fill=\"black\" stroke=\"black\" points=\"229.93,-62.37 240.48,-63.27 232.79,-55.99 229.93,-62.37\"/>\n</g>\n<!-- 140232177811408 -->\n<g id=\"node15\" class=\"node\">\n<title>140232177811408</title>\n<polygon fill=\"none\" stroke=\"black\" points=\"2.5,-110.5 2.5,-146.5 197.5,-146.5 197.5,-110.5 2.5,-110.5\"/>\n<text text-anchor=\"middle\" x=\"19\" y=\"-124.8\" font-family=\"Times,serif\" font-size=\"14.00\">w2</text>\n<polyline fill=\"none\" stroke=\"black\" points=\"35.5,-110.5 35.5,-146.5 \"/>\n<text text-anchor=\"middle\" x=\"75.5\" y=\"-124.8\" font-family=\"Times,serif\" font-size=\"14.00\">data 1.0000</text>\n<polyline fill=\"none\" stroke=\"black\" points=\"115.5,-110.5 115.5,-146.5 \"/>\n<text text-anchor=\"middle\" x=\"156.5\" y=\"-124.8\" font-family=\"Times,serif\" font-size=\"14.00\">grad 0.0000</text>\n</g>\n<!-- 140232177811408&#45;&gt;140232177605792* -->\n<g id=\"edge13\" class=\"edge\">\n<title>140232177811408&#45;&gt;140232177605792*</title>\n<path fill=\"none\" stroke=\"black\" d=\"M197.91,-128.5C207.65,-128.5 217.05,-128.5 225.52,-128.5\"/>\n<polygon fill=\"black\" stroke=\"black\" points=\"225.7,-132 235.7,-128.5 225.7,-125 225.7,-132\"/>\n</g>\n</g>\n</svg>\n"
          },
          "metadata": {},
          "execution_count": 129
        }
      ]
    },
    {
      "cell_type": "markdown",
      "source": [
        "Run backprop in reversed topological order"
      ],
      "metadata": {
        "id": "OhZgNIx1lCIw"
      }
    },
    {
      "cell_type": "code",
      "source": [
        "for val in reversed(topological_sort(o)):\n",
        "  val._backward()"
      ],
      "metadata": {
        "id": "SC5LEaEJk9DQ"
      },
      "execution_count": 130,
      "outputs": []
    },
    {
      "cell_type": "code",
      "source": [
        "draw_dot(o)"
      ],
      "metadata": {
        "colab": {
          "base_uri": "https://localhost:8080/",
          "height": 321
        },
        "id": "0zTZF3VxlROw",
        "outputId": "e1ca6d4b-27fb-4564-b95e-0acbff8bd1cb"
      },
      "execution_count": 131,
      "outputs": [
        {
          "output_type": "execute_result",
          "data": {
            "text/plain": [
              "<graphviz.dot.Digraph at 0x7f8a58756dc0>"
            ],
            "image/svg+xml": "<?xml version=\"1.0\" encoding=\"UTF-8\" standalone=\"no\"?>\n<!DOCTYPE svg PUBLIC \"-//W3C//DTD SVG 1.1//EN\"\n \"http://www.w3.org/Graphics/SVG/1.1/DTD/svg11.dtd\">\n<!-- Generated by graphviz version 2.43.0 (0)\n -->\n<!-- Title: %3 Pages: 1 -->\n<svg width=\"1575pt\" height=\"210pt\"\n viewBox=\"0.00 0.00 1575.00 210.00\" xmlns=\"http://www.w3.org/2000/svg\" xmlns:xlink=\"http://www.w3.org/1999/xlink\">\n<g id=\"graph0\" class=\"graph\" transform=\"scale(1 1) rotate(0) translate(4 206)\">\n<title>%3</title>\n<polygon fill=\"white\" stroke=\"transparent\" points=\"-4,4 -4,-206 1571,-206 1571,4 -4,4\"/>\n<!-- 140232177603104 -->\n<g id=\"node1\" class=\"node\">\n<title>140232177603104</title>\n<polygon fill=\"none\" stroke=\"black\" points=\"672,-82.5 672,-118.5 945,-118.5 945,-82.5 672,-82.5\"/>\n<text text-anchor=\"middle\" x=\"725\" y=\"-96.8\" font-family=\"Times,serif\" font-size=\"14.00\">x1*w1 + x2*w2</text>\n<polyline fill=\"none\" stroke=\"black\" points=\"778,-82.5 778,-118.5 \"/>\n<text text-anchor=\"middle\" x=\"820.5\" y=\"-96.8\" font-family=\"Times,serif\" font-size=\"14.00\">data &#45;6.0000</text>\n<polyline fill=\"none\" stroke=\"black\" points=\"863,-82.5 863,-118.5 \"/>\n<text text-anchor=\"middle\" x=\"904\" y=\"-96.8\" font-family=\"Times,serif\" font-size=\"14.00\">grad 0.5000</text>\n</g>\n<!-- 140232166159936+ -->\n<g id=\"node4\" class=\"node\">\n<title>140232166159936+</title>\n<ellipse fill=\"none\" stroke=\"black\" cx=\"1008\" cy=\"-127.5\" rx=\"27\" ry=\"18\"/>\n<text text-anchor=\"middle\" x=\"1008\" y=\"-123.8\" font-family=\"Times,serif\" font-size=\"14.00\">+</text>\n</g>\n<!-- 140232177603104&#45;&gt;140232166159936+ -->\n<g id=\"edge14\" class=\"edge\">\n<title>140232177603104&#45;&gt;140232166159936+</title>\n<path fill=\"none\" stroke=\"black\" d=\"M941.24,-118.51C952.12,-120 962.4,-121.4 971.45,-122.64\"/>\n<polygon fill=\"black\" stroke=\"black\" points=\"971.11,-126.13 981.49,-124.01 972.05,-119.19 971.11,-126.13\"/>\n</g>\n<!-- 140232177603104+ -->\n<g id=\"node2\" class=\"node\">\n<title>140232177603104+</title>\n<ellipse fill=\"none\" stroke=\"black\" cx=\"609\" cy=\"-100.5\" rx=\"27\" ry=\"18\"/>\n<text text-anchor=\"middle\" x=\"609\" y=\"-96.8\" font-family=\"Times,serif\" font-size=\"14.00\">+</text>\n</g>\n<!-- 140232177603104+&#45;&gt;140232177603104 -->\n<g id=\"edge1\" class=\"edge\">\n<title>140232177603104+&#45;&gt;140232177603104</title>\n<path fill=\"none\" stroke=\"black\" d=\"M636.23,-100.5C643.7,-100.5 652.41,-100.5 661.87,-100.5\"/>\n<polygon fill=\"black\" stroke=\"black\" points=\"661.98,-104 671.98,-100.5 661.98,-97 661.98,-104\"/>\n</g>\n<!-- 140232166159936 -->\n<g id=\"node3\" class=\"node\">\n<title>140232166159936</title>\n<polygon fill=\"none\" stroke=\"black\" points=\"1071,-109.5 1071,-145.5 1256,-145.5 1256,-109.5 1071,-109.5\"/>\n<text text-anchor=\"middle\" x=\"1082.5\" y=\"-123.8\" font-family=\"Times,serif\" font-size=\"14.00\">n</text>\n<polyline fill=\"none\" stroke=\"black\" points=\"1094,-109.5 1094,-145.5 \"/>\n<text text-anchor=\"middle\" x=\"1134\" y=\"-123.8\" font-family=\"Times,serif\" font-size=\"14.00\">data 0.8814</text>\n<polyline fill=\"none\" stroke=\"black\" points=\"1174,-109.5 1174,-145.5 \"/>\n<text text-anchor=\"middle\" x=\"1215\" y=\"-123.8\" font-family=\"Times,serif\" font-size=\"14.00\">grad 0.5000</text>\n</g>\n<!-- 140232166159984tanh -->\n<g id=\"node6\" class=\"node\">\n<title>140232166159984tanh</title>\n<ellipse fill=\"none\" stroke=\"black\" cx=\"1319\" cy=\"-127.5\" rx=\"27\" ry=\"18\"/>\n<text text-anchor=\"middle\" x=\"1319\" y=\"-123.8\" font-family=\"Times,serif\" font-size=\"14.00\">tanh</text>\n</g>\n<!-- 140232166159936&#45;&gt;140232166159984tanh -->\n<g id=\"edge7\" class=\"edge\">\n<title>140232166159936&#45;&gt;140232166159984tanh</title>\n<path fill=\"none\" stroke=\"black\" d=\"M1256.01,-127.5C1265.01,-127.5 1273.74,-127.5 1281.66,-127.5\"/>\n<polygon fill=\"black\" stroke=\"black\" points=\"1281.91,-131 1291.91,-127.5 1281.91,-124 1281.91,-131\"/>\n</g>\n<!-- 140232166159936+&#45;&gt;140232166159936 -->\n<g id=\"edge2\" class=\"edge\">\n<title>140232166159936+&#45;&gt;140232166159936</title>\n<path fill=\"none\" stroke=\"black\" d=\"M1035.04,-127.5C1042.58,-127.5 1051.3,-127.5 1060.57,-127.5\"/>\n<polygon fill=\"black\" stroke=\"black\" points=\"1060.81,-131 1070.81,-127.5 1060.81,-124 1060.81,-131\"/>\n</g>\n<!-- 140232166159984 -->\n<g id=\"node5\" class=\"node\">\n<title>140232166159984</title>\n<polygon fill=\"none\" stroke=\"black\" points=\"1382,-109.5 1382,-145.5 1567,-145.5 1567,-109.5 1382,-109.5\"/>\n<text text-anchor=\"middle\" x=\"1393.5\" y=\"-123.8\" font-family=\"Times,serif\" font-size=\"14.00\">o</text>\n<polyline fill=\"none\" stroke=\"black\" points=\"1405,-109.5 1405,-145.5 \"/>\n<text text-anchor=\"middle\" x=\"1445\" y=\"-123.8\" font-family=\"Times,serif\" font-size=\"14.00\">data 0.7071</text>\n<polyline fill=\"none\" stroke=\"black\" points=\"1485,-109.5 1485,-145.5 \"/>\n<text text-anchor=\"middle\" x=\"1526\" y=\"-123.8\" font-family=\"Times,serif\" font-size=\"14.00\">grad 1.0000</text>\n</g>\n<!-- 140232166159984tanh&#45;&gt;140232166159984 -->\n<g id=\"edge3\" class=\"edge\">\n<title>140232166159984tanh&#45;&gt;140232166159984</title>\n<path fill=\"none\" stroke=\"black\" d=\"M1346.04,-127.5C1353.58,-127.5 1362.3,-127.5 1371.57,-127.5\"/>\n<polygon fill=\"black\" stroke=\"black\" points=\"1371.81,-131 1381.81,-127.5 1371.81,-124 1371.81,-131\"/>\n</g>\n<!-- 140232177605792 -->\n<g id=\"node7\" class=\"node\">\n<title>140232177605792</title>\n<polygon fill=\"none\" stroke=\"black\" points=\"328.5,-110.5 328.5,-146.5 543.5,-146.5 543.5,-110.5 328.5,-110.5\"/>\n<text text-anchor=\"middle\" x=\"355\" y=\"-124.8\" font-family=\"Times,serif\" font-size=\"14.00\">x2*w2</text>\n<polyline fill=\"none\" stroke=\"black\" points=\"381.5,-110.5 381.5,-146.5 \"/>\n<text text-anchor=\"middle\" x=\"421.5\" y=\"-124.8\" font-family=\"Times,serif\" font-size=\"14.00\">data 0.0000</text>\n<polyline fill=\"none\" stroke=\"black\" points=\"461.5,-110.5 461.5,-146.5 \"/>\n<text text-anchor=\"middle\" x=\"502.5\" y=\"-124.8\" font-family=\"Times,serif\" font-size=\"14.00\">grad 0.5000</text>\n</g>\n<!-- 140232177605792&#45;&gt;140232177603104+ -->\n<g id=\"edge12\" class=\"edge\">\n<title>140232177605792&#45;&gt;140232177603104+</title>\n<path fill=\"none\" stroke=\"black\" d=\"M543.84,-111.01C554.01,-109.34 563.76,-107.74 572.44,-106.32\"/>\n<polygon fill=\"black\" stroke=\"black\" points=\"573.17,-109.75 582.47,-104.68 572.04,-102.84 573.17,-109.75\"/>\n</g>\n<!-- 140232177605792* -->\n<g id=\"node8\" class=\"node\">\n<title>140232177605792*</title>\n<ellipse fill=\"none\" stroke=\"black\" cx=\"263\" cy=\"-128.5\" rx=\"27\" ry=\"18\"/>\n<text text-anchor=\"middle\" x=\"263\" y=\"-124.8\" font-family=\"Times,serif\" font-size=\"14.00\">*</text>\n</g>\n<!-- 140232177605792*&#45;&gt;140232177605792 -->\n<g id=\"edge4\" class=\"edge\">\n<title>140232177605792*&#45;&gt;140232177605792</title>\n<path fill=\"none\" stroke=\"black\" d=\"M290.34,-128.5C298.51,-128.5 308.08,-128.5 318.36,-128.5\"/>\n<polygon fill=\"black\" stroke=\"black\" points=\"318.39,-132 328.39,-128.5 318.39,-125 318.39,-132\"/>\n</g>\n<!-- 140232177809056 -->\n<g id=\"node9\" class=\"node\">\n<title>140232177809056</title>\n<polygon fill=\"none\" stroke=\"black\" points=\"716,-137.5 716,-173.5 901,-173.5 901,-137.5 716,-137.5\"/>\n<text text-anchor=\"middle\" x=\"727.5\" y=\"-151.8\" font-family=\"Times,serif\" font-size=\"14.00\">b</text>\n<polyline fill=\"none\" stroke=\"black\" points=\"739,-137.5 739,-173.5 \"/>\n<text text-anchor=\"middle\" x=\"779\" y=\"-151.8\" font-family=\"Times,serif\" font-size=\"14.00\">data 6.8814</text>\n<polyline fill=\"none\" stroke=\"black\" points=\"819,-137.5 819,-173.5 \"/>\n<text text-anchor=\"middle\" x=\"860\" y=\"-151.8\" font-family=\"Times,serif\" font-size=\"14.00\">grad 0.5000</text>\n</g>\n<!-- 140232177809056&#45;&gt;140232166159936+ -->\n<g id=\"edge6\" class=\"edge\">\n<title>140232177809056&#45;&gt;140232166159936+</title>\n<path fill=\"none\" stroke=\"black\" d=\"M901.02,-142.52C926,-138.98 951.59,-135.36 971.37,-132.55\"/>\n<polygon fill=\"black\" stroke=\"black\" points=\"972.03,-135.99 981.43,-131.12 971.04,-129.06 972.03,-135.99\"/>\n</g>\n<!-- 140232177810112 -->\n<g id=\"node10\" class=\"node\">\n<title>140232177810112</title>\n<polygon fill=\"none\" stroke=\"black\" points=\"4,-165.5 4,-201.5 196,-201.5 196,-165.5 4,-165.5\"/>\n<text text-anchor=\"middle\" x=\"19\" y=\"-179.8\" font-family=\"Times,serif\" font-size=\"14.00\">x2</text>\n<polyline fill=\"none\" stroke=\"black\" points=\"34,-165.5 34,-201.5 \"/>\n<text text-anchor=\"middle\" x=\"74\" y=\"-179.8\" font-family=\"Times,serif\" font-size=\"14.00\">data 0.0000</text>\n<polyline fill=\"none\" stroke=\"black\" points=\"114,-165.5 114,-201.5 \"/>\n<text text-anchor=\"middle\" x=\"155\" y=\"-179.8\" font-family=\"Times,serif\" font-size=\"14.00\">grad 0.5000</text>\n</g>\n<!-- 140232177810112&#45;&gt;140232177605792* -->\n<g id=\"edge11\" class=\"edge\">\n<title>140232177810112&#45;&gt;140232177605792*</title>\n<path fill=\"none\" stroke=\"black\" d=\"M172.53,-165.44C181.84,-162.67 191.2,-159.67 200,-156.5 210.53,-152.71 221.75,-147.9 231.72,-143.33\"/>\n<polygon fill=\"black\" stroke=\"black\" points=\"233.25,-146.48 240.82,-139.07 230.28,-140.14 233.25,-146.48\"/>\n</g>\n<!-- 140232177809680 -->\n<g id=\"node11\" class=\"node\">\n<title>140232177809680</title>\n<polygon fill=\"none\" stroke=\"black\" points=\"0,-55.5 0,-91.5 200,-91.5 200,-55.5 0,-55.5\"/>\n<text text-anchor=\"middle\" x=\"16.5\" y=\"-69.8\" font-family=\"Times,serif\" font-size=\"14.00\">w1</text>\n<polyline fill=\"none\" stroke=\"black\" points=\"33,-55.5 33,-91.5 \"/>\n<text text-anchor=\"middle\" x=\"75.5\" y=\"-69.8\" font-family=\"Times,serif\" font-size=\"14.00\">data &#45;3.0000</text>\n<polyline fill=\"none\" stroke=\"black\" points=\"118,-55.5 118,-91.5 \"/>\n<text text-anchor=\"middle\" x=\"159\" y=\"-69.8\" font-family=\"Times,serif\" font-size=\"14.00\">grad 1.0000</text>\n</g>\n<!-- 140232177807664* -->\n<g id=\"node13\" class=\"node\">\n<title>140232177807664*</title>\n<ellipse fill=\"none\" stroke=\"black\" cx=\"263\" cy=\"-73.5\" rx=\"27\" ry=\"18\"/>\n<text text-anchor=\"middle\" x=\"263\" y=\"-69.8\" font-family=\"Times,serif\" font-size=\"14.00\">*</text>\n</g>\n<!-- 140232177809680&#45;&gt;140232177807664* -->\n<g id=\"edge10\" class=\"edge\">\n<title>140232177809680&#45;&gt;140232177807664*</title>\n<path fill=\"none\" stroke=\"black\" d=\"M200.21,-73.5C209.2,-73.5 217.86,-73.5 225.7,-73.5\"/>\n<polygon fill=\"black\" stroke=\"black\" points=\"225.85,-77 235.85,-73.5 225.85,-70 225.85,-77\"/>\n</g>\n<!-- 140232177807664 -->\n<g id=\"node12\" class=\"node\">\n<title>140232177807664</title>\n<polygon fill=\"none\" stroke=\"black\" points=\"326,-55.5 326,-91.5 546,-91.5 546,-55.5 326,-55.5\"/>\n<text text-anchor=\"middle\" x=\"352.5\" y=\"-69.8\" font-family=\"Times,serif\" font-size=\"14.00\">x1*w1</text>\n<polyline fill=\"none\" stroke=\"black\" points=\"379,-55.5 379,-91.5 \"/>\n<text text-anchor=\"middle\" x=\"421.5\" y=\"-69.8\" font-family=\"Times,serif\" font-size=\"14.00\">data &#45;6.0000</text>\n<polyline fill=\"none\" stroke=\"black\" points=\"464,-55.5 464,-91.5 \"/>\n<text text-anchor=\"middle\" x=\"505\" y=\"-69.8\" font-family=\"Times,serif\" font-size=\"14.00\">grad 0.5000</text>\n</g>\n<!-- 140232177807664&#45;&gt;140232177603104+ -->\n<g id=\"edge8\" class=\"edge\">\n<title>140232177807664&#45;&gt;140232177603104+</title>\n<path fill=\"none\" stroke=\"black\" d=\"M546.27,-90.75C555.64,-92.23 564.6,-93.65 572.65,-94.92\"/>\n<polygon fill=\"black\" stroke=\"black\" points=\"572.23,-98.4 582.65,-96.5 573.32,-91.48 572.23,-98.4\"/>\n</g>\n<!-- 140232177807664*&#45;&gt;140232177807664 -->\n<g id=\"edge5\" class=\"edge\">\n<title>140232177807664*&#45;&gt;140232177807664</title>\n<path fill=\"none\" stroke=\"black\" d=\"M290.34,-73.5C297.77,-73.5 306.37,-73.5 315.6,-73.5\"/>\n<polygon fill=\"black\" stroke=\"black\" points=\"315.84,-77 325.84,-73.5 315.84,-70 315.84,-77\"/>\n</g>\n<!-- 140232177810784 -->\n<g id=\"node14\" class=\"node\">\n<title>140232177810784</title>\n<polygon fill=\"none\" stroke=\"black\" points=\"2,-0.5 2,-36.5 198,-36.5 198,-0.5 2,-0.5\"/>\n<text text-anchor=\"middle\" x=\"17\" y=\"-14.8\" font-family=\"Times,serif\" font-size=\"14.00\">x1</text>\n<polyline fill=\"none\" stroke=\"black\" points=\"32,-0.5 32,-36.5 \"/>\n<text text-anchor=\"middle\" x=\"72\" y=\"-14.8\" font-family=\"Times,serif\" font-size=\"14.00\">data 2.0000</text>\n<polyline fill=\"none\" stroke=\"black\" points=\"112,-0.5 112,-36.5 \"/>\n<text text-anchor=\"middle\" x=\"155\" y=\"-14.8\" font-family=\"Times,serif\" font-size=\"14.00\">grad &#45;1.5000</text>\n</g>\n<!-- 140232177810784&#45;&gt;140232177807664* -->\n<g id=\"edge9\" class=\"edge\">\n<title>140232177810784&#45;&gt;140232177807664*</title>\n<path fill=\"none\" stroke=\"black\" d=\"M169.28,-36.5C179.65,-39.61 190.16,-42.98 200,-46.5 210.28,-50.17 221.28,-54.74 231.11,-59.07\"/>\n<polygon fill=\"black\" stroke=\"black\" points=\"229.93,-62.37 240.48,-63.27 232.79,-55.99 229.93,-62.37\"/>\n</g>\n<!-- 140232177811408 -->\n<g id=\"node15\" class=\"node\">\n<title>140232177811408</title>\n<polygon fill=\"none\" stroke=\"black\" points=\"2.5,-110.5 2.5,-146.5 197.5,-146.5 197.5,-110.5 2.5,-110.5\"/>\n<text text-anchor=\"middle\" x=\"19\" y=\"-124.8\" font-family=\"Times,serif\" font-size=\"14.00\">w2</text>\n<polyline fill=\"none\" stroke=\"black\" points=\"35.5,-110.5 35.5,-146.5 \"/>\n<text text-anchor=\"middle\" x=\"75.5\" y=\"-124.8\" font-family=\"Times,serif\" font-size=\"14.00\">data 1.0000</text>\n<polyline fill=\"none\" stroke=\"black\" points=\"115.5,-110.5 115.5,-146.5 \"/>\n<text text-anchor=\"middle\" x=\"156.5\" y=\"-124.8\" font-family=\"Times,serif\" font-size=\"14.00\">grad 0.0000</text>\n</g>\n<!-- 140232177811408&#45;&gt;140232177605792* -->\n<g id=\"edge13\" class=\"edge\">\n<title>140232177811408&#45;&gt;140232177605792*</title>\n<path fill=\"none\" stroke=\"black\" d=\"M197.91,-128.5C207.65,-128.5 217.05,-128.5 225.52,-128.5\"/>\n<polygon fill=\"black\" stroke=\"black\" points=\"225.7,-132 235.7,-128.5 225.7,-125 225.7,-132\"/>\n</g>\n</g>\n</svg>\n"
          },
          "metadata": {},
          "execution_count": 131
        }
      ]
    },
    {
      "cell_type": "markdown",
      "source": [
        "# Using Backprop From The Value Class"
      ],
      "metadata": {
        "id": "tGMkt7UUOVsf"
      }
    },
    {
      "cell_type": "code",
      "source": [
        "o = build_graph() # reset the graph\n",
        "draw_dot(o)"
      ],
      "metadata": {
        "colab": {
          "base_uri": "https://localhost:8080/",
          "height": 321
        },
        "id": "VAr-sGuZlS-S",
        "outputId": "17b9f1f7-4e93-4870-970f-abcd7fd3ccde"
      },
      "execution_count": 132,
      "outputs": [
        {
          "output_type": "execute_result",
          "data": {
            "text/plain": [
              "<graphviz.dot.Digraph at 0x7f8ae8733790>"
            ],
            "image/svg+xml": "<?xml version=\"1.0\" encoding=\"UTF-8\" standalone=\"no\"?>\n<!DOCTYPE svg PUBLIC \"-//W3C//DTD SVG 1.1//EN\"\n \"http://www.w3.org/Graphics/SVG/1.1/DTD/svg11.dtd\">\n<!-- Generated by graphviz version 2.43.0 (0)\n -->\n<!-- Title: %3 Pages: 1 -->\n<svg width=\"1575pt\" height=\"210pt\"\n viewBox=\"0.00 0.00 1575.00 210.00\" xmlns=\"http://www.w3.org/2000/svg\" xmlns:xlink=\"http://www.w3.org/1999/xlink\">\n<g id=\"graph0\" class=\"graph\" transform=\"scale(1 1) rotate(0) translate(4 206)\">\n<title>%3</title>\n<polygon fill=\"white\" stroke=\"transparent\" points=\"-4,4 -4,-206 1571,-206 1571,4 -4,4\"/>\n<!-- 140234582078464 -->\n<g id=\"node1\" class=\"node\">\n<title>140234582078464</title>\n<polygon fill=\"none\" stroke=\"black\" points=\"326,-55.5 326,-91.5 546,-91.5 546,-55.5 326,-55.5\"/>\n<text text-anchor=\"middle\" x=\"352.5\" y=\"-69.8\" font-family=\"Times,serif\" font-size=\"14.00\">x1*w1</text>\n<polyline fill=\"none\" stroke=\"black\" points=\"379,-55.5 379,-91.5 \"/>\n<text text-anchor=\"middle\" x=\"421.5\" y=\"-69.8\" font-family=\"Times,serif\" font-size=\"14.00\">data &#45;6.0000</text>\n<polyline fill=\"none\" stroke=\"black\" points=\"464,-55.5 464,-91.5 \"/>\n<text text-anchor=\"middle\" x=\"505\" y=\"-69.8\" font-family=\"Times,serif\" font-size=\"14.00\">grad 0.0000</text>\n</g>\n<!-- 140232166231920+ -->\n<g id=\"node14\" class=\"node\">\n<title>140232166231920+</title>\n<ellipse fill=\"none\" stroke=\"black\" cx=\"609\" cy=\"-100.5\" rx=\"27\" ry=\"18\"/>\n<text text-anchor=\"middle\" x=\"609\" y=\"-96.8\" font-family=\"Times,serif\" font-size=\"14.00\">+</text>\n</g>\n<!-- 140234582078464&#45;&gt;140232166231920+ -->\n<g id=\"edge6\" class=\"edge\">\n<title>140234582078464&#45;&gt;140232166231920+</title>\n<path fill=\"none\" stroke=\"black\" d=\"M546.27,-90.75C555.64,-92.23 564.6,-93.65 572.65,-94.92\"/>\n<polygon fill=\"black\" stroke=\"black\" points=\"572.23,-98.4 582.65,-96.5 573.32,-91.48 572.23,-98.4\"/>\n</g>\n<!-- 140234582078464* -->\n<g id=\"node2\" class=\"node\">\n<title>140234582078464*</title>\n<ellipse fill=\"none\" stroke=\"black\" cx=\"263\" cy=\"-73.5\" rx=\"27\" ry=\"18\"/>\n<text text-anchor=\"middle\" x=\"263\" y=\"-69.8\" font-family=\"Times,serif\" font-size=\"14.00\">*</text>\n</g>\n<!-- 140234582078464*&#45;&gt;140234582078464 -->\n<g id=\"edge1\" class=\"edge\">\n<title>140234582078464*&#45;&gt;140234582078464</title>\n<path fill=\"none\" stroke=\"black\" d=\"M290.34,-73.5C297.77,-73.5 306.37,-73.5 315.6,-73.5\"/>\n<polygon fill=\"black\" stroke=\"black\" points=\"315.84,-77 325.84,-73.5 315.84,-70 315.84,-77\"/>\n</g>\n<!-- 140234582079520 -->\n<g id=\"node3\" class=\"node\">\n<title>140234582079520</title>\n<polygon fill=\"none\" stroke=\"black\" points=\"0,-55.5 0,-91.5 200,-91.5 200,-55.5 0,-55.5\"/>\n<text text-anchor=\"middle\" x=\"16.5\" y=\"-69.8\" font-family=\"Times,serif\" font-size=\"14.00\">w1</text>\n<polyline fill=\"none\" stroke=\"black\" points=\"33,-55.5 33,-91.5 \"/>\n<text text-anchor=\"middle\" x=\"75.5\" y=\"-69.8\" font-family=\"Times,serif\" font-size=\"14.00\">data &#45;3.0000</text>\n<polyline fill=\"none\" stroke=\"black\" points=\"118,-55.5 118,-91.5 \"/>\n<text text-anchor=\"middle\" x=\"159\" y=\"-69.8\" font-family=\"Times,serif\" font-size=\"14.00\">grad 0.0000</text>\n</g>\n<!-- 140234582079520&#45;&gt;140234582078464* -->\n<g id=\"edge12\" class=\"edge\">\n<title>140234582079520&#45;&gt;140234582078464*</title>\n<path fill=\"none\" stroke=\"black\" d=\"M200.21,-73.5C209.2,-73.5 217.86,-73.5 225.7,-73.5\"/>\n<polygon fill=\"black\" stroke=\"black\" points=\"225.85,-77 235.85,-73.5 225.85,-70 225.85,-77\"/>\n</g>\n<!-- 140232166231104 -->\n<g id=\"node4\" class=\"node\">\n<title>140232166231104</title>\n<polygon fill=\"none\" stroke=\"black\" points=\"1071,-109.5 1071,-145.5 1256,-145.5 1256,-109.5 1071,-109.5\"/>\n<text text-anchor=\"middle\" x=\"1082.5\" y=\"-123.8\" font-family=\"Times,serif\" font-size=\"14.00\">n</text>\n<polyline fill=\"none\" stroke=\"black\" points=\"1094,-109.5 1094,-145.5 \"/>\n<text text-anchor=\"middle\" x=\"1134\" y=\"-123.8\" font-family=\"Times,serif\" font-size=\"14.00\">data 0.8814</text>\n<polyline fill=\"none\" stroke=\"black\" points=\"1174,-109.5 1174,-145.5 \"/>\n<text text-anchor=\"middle\" x=\"1215\" y=\"-123.8\" font-family=\"Times,serif\" font-size=\"14.00\">grad 0.0000</text>\n</g>\n<!-- 140232165803728tanh -->\n<g id=\"node8\" class=\"node\">\n<title>140232165803728tanh</title>\n<ellipse fill=\"none\" stroke=\"black\" cx=\"1319\" cy=\"-127.5\" rx=\"27\" ry=\"18\"/>\n<text text-anchor=\"middle\" x=\"1319\" y=\"-123.8\" font-family=\"Times,serif\" font-size=\"14.00\">tanh</text>\n</g>\n<!-- 140232166231104&#45;&gt;140232165803728tanh -->\n<g id=\"edge11\" class=\"edge\">\n<title>140232166231104&#45;&gt;140232165803728tanh</title>\n<path fill=\"none\" stroke=\"black\" d=\"M1256.01,-127.5C1265.01,-127.5 1273.74,-127.5 1281.66,-127.5\"/>\n<polygon fill=\"black\" stroke=\"black\" points=\"1281.91,-131 1291.91,-127.5 1281.91,-124 1281.91,-131\"/>\n</g>\n<!-- 140232166231104+ -->\n<g id=\"node5\" class=\"node\">\n<title>140232166231104+</title>\n<ellipse fill=\"none\" stroke=\"black\" cx=\"1008\" cy=\"-127.5\" rx=\"27\" ry=\"18\"/>\n<text text-anchor=\"middle\" x=\"1008\" y=\"-123.8\" font-family=\"Times,serif\" font-size=\"14.00\">+</text>\n</g>\n<!-- 140232166231104+&#45;&gt;140232166231104 -->\n<g id=\"edge2\" class=\"edge\">\n<title>140232166231104+&#45;&gt;140232166231104</title>\n<path fill=\"none\" stroke=\"black\" d=\"M1035.04,-127.5C1042.58,-127.5 1051.3,-127.5 1060.57,-127.5\"/>\n<polygon fill=\"black\" stroke=\"black\" points=\"1060.81,-131 1070.81,-127.5 1060.81,-124 1060.81,-131\"/>\n</g>\n<!-- 140234582081200 -->\n<g id=\"node6\" class=\"node\">\n<title>140234582081200</title>\n<polygon fill=\"none\" stroke=\"black\" points=\"716,-137.5 716,-173.5 901,-173.5 901,-137.5 716,-137.5\"/>\n<text text-anchor=\"middle\" x=\"727.5\" y=\"-151.8\" font-family=\"Times,serif\" font-size=\"14.00\">b</text>\n<polyline fill=\"none\" stroke=\"black\" points=\"739,-137.5 739,-173.5 \"/>\n<text text-anchor=\"middle\" x=\"779\" y=\"-151.8\" font-family=\"Times,serif\" font-size=\"14.00\">data 6.8814</text>\n<polyline fill=\"none\" stroke=\"black\" points=\"819,-137.5 819,-173.5 \"/>\n<text text-anchor=\"middle\" x=\"860\" y=\"-151.8\" font-family=\"Times,serif\" font-size=\"14.00\">grad 0.0000</text>\n</g>\n<!-- 140234582081200&#45;&gt;140232166231104+ -->\n<g id=\"edge13\" class=\"edge\">\n<title>140234582081200&#45;&gt;140232166231104+</title>\n<path fill=\"none\" stroke=\"black\" d=\"M901.02,-142.52C926,-138.98 951.59,-135.36 971.37,-132.55\"/>\n<polygon fill=\"black\" stroke=\"black\" points=\"972.03,-135.99 981.43,-131.12 971.04,-129.06 972.03,-135.99\"/>\n</g>\n<!-- 140232165803728 -->\n<g id=\"node7\" class=\"node\">\n<title>140232165803728</title>\n<polygon fill=\"none\" stroke=\"black\" points=\"1382,-109.5 1382,-145.5 1567,-145.5 1567,-109.5 1382,-109.5\"/>\n<text text-anchor=\"middle\" x=\"1393.5\" y=\"-123.8\" font-family=\"Times,serif\" font-size=\"14.00\">o</text>\n<polyline fill=\"none\" stroke=\"black\" points=\"1405,-109.5 1405,-145.5 \"/>\n<text text-anchor=\"middle\" x=\"1445\" y=\"-123.8\" font-family=\"Times,serif\" font-size=\"14.00\">data 0.7071</text>\n<polyline fill=\"none\" stroke=\"black\" points=\"1485,-109.5 1485,-145.5 \"/>\n<text text-anchor=\"middle\" x=\"1526\" y=\"-123.8\" font-family=\"Times,serif\" font-size=\"14.00\">grad 0.0000</text>\n</g>\n<!-- 140232165803728tanh&#45;&gt;140232165803728 -->\n<g id=\"edge3\" class=\"edge\">\n<title>140232165803728tanh&#45;&gt;140232165803728</title>\n<path fill=\"none\" stroke=\"black\" d=\"M1346.04,-127.5C1353.58,-127.5 1362.3,-127.5 1371.57,-127.5\"/>\n<polygon fill=\"black\" stroke=\"black\" points=\"1371.81,-131 1381.81,-127.5 1371.81,-124 1371.81,-131\"/>\n</g>\n<!-- 140232166691600 -->\n<g id=\"node9\" class=\"node\">\n<title>140232166691600</title>\n<polygon fill=\"none\" stroke=\"black\" points=\"4,-0.5 4,-36.5 196,-36.5 196,-0.5 4,-0.5\"/>\n<text text-anchor=\"middle\" x=\"19\" y=\"-14.8\" font-family=\"Times,serif\" font-size=\"14.00\">x1</text>\n<polyline fill=\"none\" stroke=\"black\" points=\"34,-0.5 34,-36.5 \"/>\n<text text-anchor=\"middle\" x=\"74\" y=\"-14.8\" font-family=\"Times,serif\" font-size=\"14.00\">data 2.0000</text>\n<polyline fill=\"none\" stroke=\"black\" points=\"114,-0.5 114,-36.5 \"/>\n<text text-anchor=\"middle\" x=\"155\" y=\"-14.8\" font-family=\"Times,serif\" font-size=\"14.00\">grad 0.0000</text>\n</g>\n<!-- 140232166691600&#45;&gt;140234582078464* -->\n<g id=\"edge9\" class=\"edge\">\n<title>140232166691600&#45;&gt;140234582078464*</title>\n<path fill=\"none\" stroke=\"black\" d=\"M169.28,-36.5C179.65,-39.61 190.16,-42.98 200,-46.5 210.28,-50.17 221.28,-54.74 231.11,-59.07\"/>\n<polygon fill=\"black\" stroke=\"black\" points=\"229.93,-62.37 240.48,-63.27 232.79,-55.99 229.93,-62.37\"/>\n</g>\n<!-- 140234582078224 -->\n<g id=\"node10\" class=\"node\">\n<title>140234582078224</title>\n<polygon fill=\"none\" stroke=\"black\" points=\"2.5,-165.5 2.5,-201.5 197.5,-201.5 197.5,-165.5 2.5,-165.5\"/>\n<text text-anchor=\"middle\" x=\"19\" y=\"-179.8\" font-family=\"Times,serif\" font-size=\"14.00\">w2</text>\n<polyline fill=\"none\" stroke=\"black\" points=\"35.5,-165.5 35.5,-201.5 \"/>\n<text text-anchor=\"middle\" x=\"75.5\" y=\"-179.8\" font-family=\"Times,serif\" font-size=\"14.00\">data 1.0000</text>\n<polyline fill=\"none\" stroke=\"black\" points=\"115.5,-165.5 115.5,-201.5 \"/>\n<text text-anchor=\"middle\" x=\"156.5\" y=\"-179.8\" font-family=\"Times,serif\" font-size=\"14.00\">grad 0.0000</text>\n</g>\n<!-- 140232166228320* -->\n<g id=\"node12\" class=\"node\">\n<title>140232166228320*</title>\n<ellipse fill=\"none\" stroke=\"black\" cx=\"263\" cy=\"-128.5\" rx=\"27\" ry=\"18\"/>\n<text text-anchor=\"middle\" x=\"263\" y=\"-124.8\" font-family=\"Times,serif\" font-size=\"14.00\">*</text>\n</g>\n<!-- 140234582078224&#45;&gt;140232166228320* -->\n<g id=\"edge7\" class=\"edge\">\n<title>140234582078224&#45;&gt;140232166228320*</title>\n<path fill=\"none\" stroke=\"black\" d=\"M172.53,-165.44C181.84,-162.67 191.2,-159.67 200,-156.5 210.53,-152.71 221.75,-147.9 231.72,-143.33\"/>\n<polygon fill=\"black\" stroke=\"black\" points=\"233.25,-146.48 240.82,-139.07 230.28,-140.14 233.25,-146.48\"/>\n</g>\n<!-- 140232166228320 -->\n<g id=\"node11\" class=\"node\">\n<title>140232166228320</title>\n<polygon fill=\"none\" stroke=\"black\" points=\"328.5,-110.5 328.5,-146.5 543.5,-146.5 543.5,-110.5 328.5,-110.5\"/>\n<text text-anchor=\"middle\" x=\"355\" y=\"-124.8\" font-family=\"Times,serif\" font-size=\"14.00\">x2*w2</text>\n<polyline fill=\"none\" stroke=\"black\" points=\"381.5,-110.5 381.5,-146.5 \"/>\n<text text-anchor=\"middle\" x=\"421.5\" y=\"-124.8\" font-family=\"Times,serif\" font-size=\"14.00\">data 0.0000</text>\n<polyline fill=\"none\" stroke=\"black\" points=\"461.5,-110.5 461.5,-146.5 \"/>\n<text text-anchor=\"middle\" x=\"502.5\" y=\"-124.8\" font-family=\"Times,serif\" font-size=\"14.00\">grad 0.0000</text>\n</g>\n<!-- 140232166228320&#45;&gt;140232166231920+ -->\n<g id=\"edge10\" class=\"edge\">\n<title>140232166228320&#45;&gt;140232166231920+</title>\n<path fill=\"none\" stroke=\"black\" d=\"M543.84,-111.01C554.01,-109.34 563.76,-107.74 572.44,-106.32\"/>\n<polygon fill=\"black\" stroke=\"black\" points=\"573.17,-109.75 582.47,-104.68 572.04,-102.84 573.17,-109.75\"/>\n</g>\n<!-- 140232166228320*&#45;&gt;140232166228320 -->\n<g id=\"edge4\" class=\"edge\">\n<title>140232166228320*&#45;&gt;140232166228320</title>\n<path fill=\"none\" stroke=\"black\" d=\"M290.34,-128.5C298.51,-128.5 308.08,-128.5 318.36,-128.5\"/>\n<polygon fill=\"black\" stroke=\"black\" points=\"318.39,-132 328.39,-128.5 318.39,-125 318.39,-132\"/>\n</g>\n<!-- 140232166231920 -->\n<g id=\"node13\" class=\"node\">\n<title>140232166231920</title>\n<polygon fill=\"none\" stroke=\"black\" points=\"672,-82.5 672,-118.5 945,-118.5 945,-82.5 672,-82.5\"/>\n<text text-anchor=\"middle\" x=\"725\" y=\"-96.8\" font-family=\"Times,serif\" font-size=\"14.00\">x1*w1 + x2*w2</text>\n<polyline fill=\"none\" stroke=\"black\" points=\"778,-82.5 778,-118.5 \"/>\n<text text-anchor=\"middle\" x=\"820.5\" y=\"-96.8\" font-family=\"Times,serif\" font-size=\"14.00\">data &#45;6.0000</text>\n<polyline fill=\"none\" stroke=\"black\" points=\"863,-82.5 863,-118.5 \"/>\n<text text-anchor=\"middle\" x=\"904\" y=\"-96.8\" font-family=\"Times,serif\" font-size=\"14.00\">grad 0.0000</text>\n</g>\n<!-- 140232166231920&#45;&gt;140232166231104+ -->\n<g id=\"edge8\" class=\"edge\">\n<title>140232166231920&#45;&gt;140232166231104+</title>\n<path fill=\"none\" stroke=\"black\" d=\"M941.24,-118.51C952.12,-120 962.4,-121.4 971.45,-122.64\"/>\n<polygon fill=\"black\" stroke=\"black\" points=\"971.11,-126.13 981.49,-124.01 972.05,-119.19 971.11,-126.13\"/>\n</g>\n<!-- 140232166231920+&#45;&gt;140232166231920 -->\n<g id=\"edge5\" class=\"edge\">\n<title>140232166231920+&#45;&gt;140232166231920</title>\n<path fill=\"none\" stroke=\"black\" d=\"M636.23,-100.5C643.7,-100.5 652.41,-100.5 661.87,-100.5\"/>\n<polygon fill=\"black\" stroke=\"black\" points=\"661.98,-104 671.98,-100.5 661.98,-97 661.98,-104\"/>\n</g>\n<!-- 140234582081488 -->\n<g id=\"node15\" class=\"node\">\n<title>140234582081488</title>\n<polygon fill=\"none\" stroke=\"black\" points=\"4,-110.5 4,-146.5 196,-146.5 196,-110.5 4,-110.5\"/>\n<text text-anchor=\"middle\" x=\"19\" y=\"-124.8\" font-family=\"Times,serif\" font-size=\"14.00\">x2</text>\n<polyline fill=\"none\" stroke=\"black\" points=\"34,-110.5 34,-146.5 \"/>\n<text text-anchor=\"middle\" x=\"74\" y=\"-124.8\" font-family=\"Times,serif\" font-size=\"14.00\">data 0.0000</text>\n<polyline fill=\"none\" stroke=\"black\" points=\"114,-110.5 114,-146.5 \"/>\n<text text-anchor=\"middle\" x=\"155\" y=\"-124.8\" font-family=\"Times,serif\" font-size=\"14.00\">grad 0.0000</text>\n</g>\n<!-- 140234582081488&#45;&gt;140232166228320* -->\n<g id=\"edge14\" class=\"edge\">\n<title>140234582081488&#45;&gt;140232166228320*</title>\n<path fill=\"none\" stroke=\"black\" d=\"M196.05,-128.5C206.52,-128.5 216.65,-128.5 225.71,-128.5\"/>\n<polygon fill=\"black\" stroke=\"black\" points=\"225.79,-132 235.79,-128.5 225.79,-125 225.79,-132\"/>\n</g>\n</g>\n</svg>\n"
          },
          "metadata": {},
          "execution_count": 132
        }
      ]
    },
    {
      "cell_type": "markdown",
      "source": [
        "Calling `backward` now is one line"
      ],
      "metadata": {
        "id": "dG2Fejf1Oz9U"
      }
    },
    {
      "cell_type": "code",
      "source": [
        "o.backward()\n",
        "draw_dot(o)"
      ],
      "metadata": {
        "colab": {
          "base_uri": "https://localhost:8080/",
          "height": 321
        },
        "id": "0PDIBTsROf-c",
        "outputId": "20c90901-4121-4ade-cd58-51279caecb69"
      },
      "execution_count": 133,
      "outputs": [
        {
          "output_type": "execute_result",
          "data": {
            "text/plain": [
              "<graphviz.dot.Digraph at 0x7f8a58752ee0>"
            ],
            "image/svg+xml": "<?xml version=\"1.0\" encoding=\"UTF-8\" standalone=\"no\"?>\n<!DOCTYPE svg PUBLIC \"-//W3C//DTD SVG 1.1//EN\"\n \"http://www.w3.org/Graphics/SVG/1.1/DTD/svg11.dtd\">\n<!-- Generated by graphviz version 2.43.0 (0)\n -->\n<!-- Title: %3 Pages: 1 -->\n<svg width=\"1575pt\" height=\"210pt\"\n viewBox=\"0.00 0.00 1575.00 210.00\" xmlns=\"http://www.w3.org/2000/svg\" xmlns:xlink=\"http://www.w3.org/1999/xlink\">\n<g id=\"graph0\" class=\"graph\" transform=\"scale(1 1) rotate(0) translate(4 206)\">\n<title>%3</title>\n<polygon fill=\"white\" stroke=\"transparent\" points=\"-4,4 -4,-206 1571,-206 1571,4 -4,4\"/>\n<!-- 140234582078464 -->\n<g id=\"node1\" class=\"node\">\n<title>140234582078464</title>\n<polygon fill=\"none\" stroke=\"black\" points=\"326,-55.5 326,-91.5 546,-91.5 546,-55.5 326,-55.5\"/>\n<text text-anchor=\"middle\" x=\"352.5\" y=\"-69.8\" font-family=\"Times,serif\" font-size=\"14.00\">x1*w1</text>\n<polyline fill=\"none\" stroke=\"black\" points=\"379,-55.5 379,-91.5 \"/>\n<text text-anchor=\"middle\" x=\"421.5\" y=\"-69.8\" font-family=\"Times,serif\" font-size=\"14.00\">data &#45;6.0000</text>\n<polyline fill=\"none\" stroke=\"black\" points=\"464,-55.5 464,-91.5 \"/>\n<text text-anchor=\"middle\" x=\"505\" y=\"-69.8\" font-family=\"Times,serif\" font-size=\"14.00\">grad 0.5000</text>\n</g>\n<!-- 140232166231920+ -->\n<g id=\"node14\" class=\"node\">\n<title>140232166231920+</title>\n<ellipse fill=\"none\" stroke=\"black\" cx=\"609\" cy=\"-100.5\" rx=\"27\" ry=\"18\"/>\n<text text-anchor=\"middle\" x=\"609\" y=\"-96.8\" font-family=\"Times,serif\" font-size=\"14.00\">+</text>\n</g>\n<!-- 140234582078464&#45;&gt;140232166231920+ -->\n<g id=\"edge6\" class=\"edge\">\n<title>140234582078464&#45;&gt;140232166231920+</title>\n<path fill=\"none\" stroke=\"black\" d=\"M546.27,-90.75C555.64,-92.23 564.6,-93.65 572.65,-94.92\"/>\n<polygon fill=\"black\" stroke=\"black\" points=\"572.23,-98.4 582.65,-96.5 573.32,-91.48 572.23,-98.4\"/>\n</g>\n<!-- 140234582078464* -->\n<g id=\"node2\" class=\"node\">\n<title>140234582078464*</title>\n<ellipse fill=\"none\" stroke=\"black\" cx=\"263\" cy=\"-73.5\" rx=\"27\" ry=\"18\"/>\n<text text-anchor=\"middle\" x=\"263\" y=\"-69.8\" font-family=\"Times,serif\" font-size=\"14.00\">*</text>\n</g>\n<!-- 140234582078464*&#45;&gt;140234582078464 -->\n<g id=\"edge1\" class=\"edge\">\n<title>140234582078464*&#45;&gt;140234582078464</title>\n<path fill=\"none\" stroke=\"black\" d=\"M290.34,-73.5C297.77,-73.5 306.37,-73.5 315.6,-73.5\"/>\n<polygon fill=\"black\" stroke=\"black\" points=\"315.84,-77 325.84,-73.5 315.84,-70 315.84,-77\"/>\n</g>\n<!-- 140234582079520 -->\n<g id=\"node3\" class=\"node\">\n<title>140234582079520</title>\n<polygon fill=\"none\" stroke=\"black\" points=\"0,-55.5 0,-91.5 200,-91.5 200,-55.5 0,-55.5\"/>\n<text text-anchor=\"middle\" x=\"16.5\" y=\"-69.8\" font-family=\"Times,serif\" font-size=\"14.00\">w1</text>\n<polyline fill=\"none\" stroke=\"black\" points=\"33,-55.5 33,-91.5 \"/>\n<text text-anchor=\"middle\" x=\"75.5\" y=\"-69.8\" font-family=\"Times,serif\" font-size=\"14.00\">data &#45;3.0000</text>\n<polyline fill=\"none\" stroke=\"black\" points=\"118,-55.5 118,-91.5 \"/>\n<text text-anchor=\"middle\" x=\"159\" y=\"-69.8\" font-family=\"Times,serif\" font-size=\"14.00\">grad 1.0000</text>\n</g>\n<!-- 140234582079520&#45;&gt;140234582078464* -->\n<g id=\"edge12\" class=\"edge\">\n<title>140234582079520&#45;&gt;140234582078464*</title>\n<path fill=\"none\" stroke=\"black\" d=\"M200.21,-73.5C209.2,-73.5 217.86,-73.5 225.7,-73.5\"/>\n<polygon fill=\"black\" stroke=\"black\" points=\"225.85,-77 235.85,-73.5 225.85,-70 225.85,-77\"/>\n</g>\n<!-- 140232166231104 -->\n<g id=\"node4\" class=\"node\">\n<title>140232166231104</title>\n<polygon fill=\"none\" stroke=\"black\" points=\"1071,-109.5 1071,-145.5 1256,-145.5 1256,-109.5 1071,-109.5\"/>\n<text text-anchor=\"middle\" x=\"1082.5\" y=\"-123.8\" font-family=\"Times,serif\" font-size=\"14.00\">n</text>\n<polyline fill=\"none\" stroke=\"black\" points=\"1094,-109.5 1094,-145.5 \"/>\n<text text-anchor=\"middle\" x=\"1134\" y=\"-123.8\" font-family=\"Times,serif\" font-size=\"14.00\">data 0.8814</text>\n<polyline fill=\"none\" stroke=\"black\" points=\"1174,-109.5 1174,-145.5 \"/>\n<text text-anchor=\"middle\" x=\"1215\" y=\"-123.8\" font-family=\"Times,serif\" font-size=\"14.00\">grad 0.5000</text>\n</g>\n<!-- 140232165803728tanh -->\n<g id=\"node8\" class=\"node\">\n<title>140232165803728tanh</title>\n<ellipse fill=\"none\" stroke=\"black\" cx=\"1319\" cy=\"-127.5\" rx=\"27\" ry=\"18\"/>\n<text text-anchor=\"middle\" x=\"1319\" y=\"-123.8\" font-family=\"Times,serif\" font-size=\"14.00\">tanh</text>\n</g>\n<!-- 140232166231104&#45;&gt;140232165803728tanh -->\n<g id=\"edge11\" class=\"edge\">\n<title>140232166231104&#45;&gt;140232165803728tanh</title>\n<path fill=\"none\" stroke=\"black\" d=\"M1256.01,-127.5C1265.01,-127.5 1273.74,-127.5 1281.66,-127.5\"/>\n<polygon fill=\"black\" stroke=\"black\" points=\"1281.91,-131 1291.91,-127.5 1281.91,-124 1281.91,-131\"/>\n</g>\n<!-- 140232166231104+ -->\n<g id=\"node5\" class=\"node\">\n<title>140232166231104+</title>\n<ellipse fill=\"none\" stroke=\"black\" cx=\"1008\" cy=\"-127.5\" rx=\"27\" ry=\"18\"/>\n<text text-anchor=\"middle\" x=\"1008\" y=\"-123.8\" font-family=\"Times,serif\" font-size=\"14.00\">+</text>\n</g>\n<!-- 140232166231104+&#45;&gt;140232166231104 -->\n<g id=\"edge2\" class=\"edge\">\n<title>140232166231104+&#45;&gt;140232166231104</title>\n<path fill=\"none\" stroke=\"black\" d=\"M1035.04,-127.5C1042.58,-127.5 1051.3,-127.5 1060.57,-127.5\"/>\n<polygon fill=\"black\" stroke=\"black\" points=\"1060.81,-131 1070.81,-127.5 1060.81,-124 1060.81,-131\"/>\n</g>\n<!-- 140234582081200 -->\n<g id=\"node6\" class=\"node\">\n<title>140234582081200</title>\n<polygon fill=\"none\" stroke=\"black\" points=\"716,-137.5 716,-173.5 901,-173.5 901,-137.5 716,-137.5\"/>\n<text text-anchor=\"middle\" x=\"727.5\" y=\"-151.8\" font-family=\"Times,serif\" font-size=\"14.00\">b</text>\n<polyline fill=\"none\" stroke=\"black\" points=\"739,-137.5 739,-173.5 \"/>\n<text text-anchor=\"middle\" x=\"779\" y=\"-151.8\" font-family=\"Times,serif\" font-size=\"14.00\">data 6.8814</text>\n<polyline fill=\"none\" stroke=\"black\" points=\"819,-137.5 819,-173.5 \"/>\n<text text-anchor=\"middle\" x=\"860\" y=\"-151.8\" font-family=\"Times,serif\" font-size=\"14.00\">grad 0.5000</text>\n</g>\n<!-- 140234582081200&#45;&gt;140232166231104+ -->\n<g id=\"edge13\" class=\"edge\">\n<title>140234582081200&#45;&gt;140232166231104+</title>\n<path fill=\"none\" stroke=\"black\" d=\"M901.02,-142.52C926,-138.98 951.59,-135.36 971.37,-132.55\"/>\n<polygon fill=\"black\" stroke=\"black\" points=\"972.03,-135.99 981.43,-131.12 971.04,-129.06 972.03,-135.99\"/>\n</g>\n<!-- 140232165803728 -->\n<g id=\"node7\" class=\"node\">\n<title>140232165803728</title>\n<polygon fill=\"none\" stroke=\"black\" points=\"1382,-109.5 1382,-145.5 1567,-145.5 1567,-109.5 1382,-109.5\"/>\n<text text-anchor=\"middle\" x=\"1393.5\" y=\"-123.8\" font-family=\"Times,serif\" font-size=\"14.00\">o</text>\n<polyline fill=\"none\" stroke=\"black\" points=\"1405,-109.5 1405,-145.5 \"/>\n<text text-anchor=\"middle\" x=\"1445\" y=\"-123.8\" font-family=\"Times,serif\" font-size=\"14.00\">data 0.7071</text>\n<polyline fill=\"none\" stroke=\"black\" points=\"1485,-109.5 1485,-145.5 \"/>\n<text text-anchor=\"middle\" x=\"1526\" y=\"-123.8\" font-family=\"Times,serif\" font-size=\"14.00\">grad 1.0000</text>\n</g>\n<!-- 140232165803728tanh&#45;&gt;140232165803728 -->\n<g id=\"edge3\" class=\"edge\">\n<title>140232165803728tanh&#45;&gt;140232165803728</title>\n<path fill=\"none\" stroke=\"black\" d=\"M1346.04,-127.5C1353.58,-127.5 1362.3,-127.5 1371.57,-127.5\"/>\n<polygon fill=\"black\" stroke=\"black\" points=\"1371.81,-131 1381.81,-127.5 1371.81,-124 1371.81,-131\"/>\n</g>\n<!-- 140232166691600 -->\n<g id=\"node9\" class=\"node\">\n<title>140232166691600</title>\n<polygon fill=\"none\" stroke=\"black\" points=\"2,-0.5 2,-36.5 198,-36.5 198,-0.5 2,-0.5\"/>\n<text text-anchor=\"middle\" x=\"17\" y=\"-14.8\" font-family=\"Times,serif\" font-size=\"14.00\">x1</text>\n<polyline fill=\"none\" stroke=\"black\" points=\"32,-0.5 32,-36.5 \"/>\n<text text-anchor=\"middle\" x=\"72\" y=\"-14.8\" font-family=\"Times,serif\" font-size=\"14.00\">data 2.0000</text>\n<polyline fill=\"none\" stroke=\"black\" points=\"112,-0.5 112,-36.5 \"/>\n<text text-anchor=\"middle\" x=\"155\" y=\"-14.8\" font-family=\"Times,serif\" font-size=\"14.00\">grad &#45;1.5000</text>\n</g>\n<!-- 140232166691600&#45;&gt;140234582078464* -->\n<g id=\"edge9\" class=\"edge\">\n<title>140232166691600&#45;&gt;140234582078464*</title>\n<path fill=\"none\" stroke=\"black\" d=\"M169.28,-36.5C179.65,-39.61 190.16,-42.98 200,-46.5 210.28,-50.17 221.28,-54.74 231.11,-59.07\"/>\n<polygon fill=\"black\" stroke=\"black\" points=\"229.93,-62.37 240.48,-63.27 232.79,-55.99 229.93,-62.37\"/>\n</g>\n<!-- 140234582078224 -->\n<g id=\"node10\" class=\"node\">\n<title>140234582078224</title>\n<polygon fill=\"none\" stroke=\"black\" points=\"2.5,-165.5 2.5,-201.5 197.5,-201.5 197.5,-165.5 2.5,-165.5\"/>\n<text text-anchor=\"middle\" x=\"19\" y=\"-179.8\" font-family=\"Times,serif\" font-size=\"14.00\">w2</text>\n<polyline fill=\"none\" stroke=\"black\" points=\"35.5,-165.5 35.5,-201.5 \"/>\n<text text-anchor=\"middle\" x=\"75.5\" y=\"-179.8\" font-family=\"Times,serif\" font-size=\"14.00\">data 1.0000</text>\n<polyline fill=\"none\" stroke=\"black\" points=\"115.5,-165.5 115.5,-201.5 \"/>\n<text text-anchor=\"middle\" x=\"156.5\" y=\"-179.8\" font-family=\"Times,serif\" font-size=\"14.00\">grad 0.0000</text>\n</g>\n<!-- 140232166228320* -->\n<g id=\"node12\" class=\"node\">\n<title>140232166228320*</title>\n<ellipse fill=\"none\" stroke=\"black\" cx=\"263\" cy=\"-128.5\" rx=\"27\" ry=\"18\"/>\n<text text-anchor=\"middle\" x=\"263\" y=\"-124.8\" font-family=\"Times,serif\" font-size=\"14.00\">*</text>\n</g>\n<!-- 140234582078224&#45;&gt;140232166228320* -->\n<g id=\"edge7\" class=\"edge\">\n<title>140234582078224&#45;&gt;140232166228320*</title>\n<path fill=\"none\" stroke=\"black\" d=\"M172.53,-165.44C181.84,-162.67 191.2,-159.67 200,-156.5 210.53,-152.71 221.75,-147.9 231.72,-143.33\"/>\n<polygon fill=\"black\" stroke=\"black\" points=\"233.25,-146.48 240.82,-139.07 230.28,-140.14 233.25,-146.48\"/>\n</g>\n<!-- 140232166228320 -->\n<g id=\"node11\" class=\"node\">\n<title>140232166228320</title>\n<polygon fill=\"none\" stroke=\"black\" points=\"328.5,-110.5 328.5,-146.5 543.5,-146.5 543.5,-110.5 328.5,-110.5\"/>\n<text text-anchor=\"middle\" x=\"355\" y=\"-124.8\" font-family=\"Times,serif\" font-size=\"14.00\">x2*w2</text>\n<polyline fill=\"none\" stroke=\"black\" points=\"381.5,-110.5 381.5,-146.5 \"/>\n<text text-anchor=\"middle\" x=\"421.5\" y=\"-124.8\" font-family=\"Times,serif\" font-size=\"14.00\">data 0.0000</text>\n<polyline fill=\"none\" stroke=\"black\" points=\"461.5,-110.5 461.5,-146.5 \"/>\n<text text-anchor=\"middle\" x=\"502.5\" y=\"-124.8\" font-family=\"Times,serif\" font-size=\"14.00\">grad 0.5000</text>\n</g>\n<!-- 140232166228320&#45;&gt;140232166231920+ -->\n<g id=\"edge10\" class=\"edge\">\n<title>140232166228320&#45;&gt;140232166231920+</title>\n<path fill=\"none\" stroke=\"black\" d=\"M543.84,-111.01C554.01,-109.34 563.76,-107.74 572.44,-106.32\"/>\n<polygon fill=\"black\" stroke=\"black\" points=\"573.17,-109.75 582.47,-104.68 572.04,-102.84 573.17,-109.75\"/>\n</g>\n<!-- 140232166228320*&#45;&gt;140232166228320 -->\n<g id=\"edge4\" class=\"edge\">\n<title>140232166228320*&#45;&gt;140232166228320</title>\n<path fill=\"none\" stroke=\"black\" d=\"M290.34,-128.5C298.51,-128.5 308.08,-128.5 318.36,-128.5\"/>\n<polygon fill=\"black\" stroke=\"black\" points=\"318.39,-132 328.39,-128.5 318.39,-125 318.39,-132\"/>\n</g>\n<!-- 140232166231920 -->\n<g id=\"node13\" class=\"node\">\n<title>140232166231920</title>\n<polygon fill=\"none\" stroke=\"black\" points=\"672,-82.5 672,-118.5 945,-118.5 945,-82.5 672,-82.5\"/>\n<text text-anchor=\"middle\" x=\"725\" y=\"-96.8\" font-family=\"Times,serif\" font-size=\"14.00\">x1*w1 + x2*w2</text>\n<polyline fill=\"none\" stroke=\"black\" points=\"778,-82.5 778,-118.5 \"/>\n<text text-anchor=\"middle\" x=\"820.5\" y=\"-96.8\" font-family=\"Times,serif\" font-size=\"14.00\">data &#45;6.0000</text>\n<polyline fill=\"none\" stroke=\"black\" points=\"863,-82.5 863,-118.5 \"/>\n<text text-anchor=\"middle\" x=\"904\" y=\"-96.8\" font-family=\"Times,serif\" font-size=\"14.00\">grad 0.5000</text>\n</g>\n<!-- 140232166231920&#45;&gt;140232166231104+ -->\n<g id=\"edge8\" class=\"edge\">\n<title>140232166231920&#45;&gt;140232166231104+</title>\n<path fill=\"none\" stroke=\"black\" d=\"M941.24,-118.51C952.12,-120 962.4,-121.4 971.45,-122.64\"/>\n<polygon fill=\"black\" stroke=\"black\" points=\"971.11,-126.13 981.49,-124.01 972.05,-119.19 971.11,-126.13\"/>\n</g>\n<!-- 140232166231920+&#45;&gt;140232166231920 -->\n<g id=\"edge5\" class=\"edge\">\n<title>140232166231920+&#45;&gt;140232166231920</title>\n<path fill=\"none\" stroke=\"black\" d=\"M636.23,-100.5C643.7,-100.5 652.41,-100.5 661.87,-100.5\"/>\n<polygon fill=\"black\" stroke=\"black\" points=\"661.98,-104 671.98,-100.5 661.98,-97 661.98,-104\"/>\n</g>\n<!-- 140234582081488 -->\n<g id=\"node15\" class=\"node\">\n<title>140234582081488</title>\n<polygon fill=\"none\" stroke=\"black\" points=\"4,-110.5 4,-146.5 196,-146.5 196,-110.5 4,-110.5\"/>\n<text text-anchor=\"middle\" x=\"19\" y=\"-124.8\" font-family=\"Times,serif\" font-size=\"14.00\">x2</text>\n<polyline fill=\"none\" stroke=\"black\" points=\"34,-110.5 34,-146.5 \"/>\n<text text-anchor=\"middle\" x=\"74\" y=\"-124.8\" font-family=\"Times,serif\" font-size=\"14.00\">data 0.0000</text>\n<polyline fill=\"none\" stroke=\"black\" points=\"114,-110.5 114,-146.5 \"/>\n<text text-anchor=\"middle\" x=\"155\" y=\"-124.8\" font-family=\"Times,serif\" font-size=\"14.00\">grad 0.5000</text>\n</g>\n<!-- 140234582081488&#45;&gt;140232166228320* -->\n<g id=\"edge14\" class=\"edge\">\n<title>140234582081488&#45;&gt;140232166228320*</title>\n<path fill=\"none\" stroke=\"black\" d=\"M196.05,-128.5C206.52,-128.5 216.65,-128.5 225.71,-128.5\"/>\n<polygon fill=\"black\" stroke=\"black\" points=\"225.79,-132 235.79,-128.5 225.79,-125 225.79,-132\"/>\n</g>\n</g>\n</svg>\n"
          },
          "metadata": {},
          "execution_count": 133
        }
      ]
    },
    {
      "cell_type": "markdown",
      "source": [
        "Testing a bug stated in the video..."
      ],
      "metadata": {
        "id": "MaRtoKDsQJ2y"
      }
    },
    {
      "cell_type": "code",
      "source": [
        "def test0():\n",
        "  a = Value(3.0, label='a')\n",
        "  b = a + a; b.label = 'b'\n",
        "  b.backward()\n",
        "  return b\n",
        "draw_dot(test0())"
      ],
      "metadata": {
        "colab": {
          "base_uri": "https://localhost:8080/",
          "height": 81
        },
        "id": "uU0wCPv1OkRR",
        "outputId": "e24132c9-477a-4365-f03c-d8e6d03ff11f"
      },
      "execution_count": 134,
      "outputs": [
        {
          "output_type": "execute_result",
          "data": {
            "text/plain": [
              "<graphviz.dot.Digraph at 0x7f8a586dc940>"
            ],
            "image/svg+xml": "<?xml version=\"1.0\" encoding=\"UTF-8\" standalone=\"no\"?>\n<!DOCTYPE svg PUBLIC \"-//W3C//DTD SVG 1.1//EN\"\n \"http://www.w3.org/Graphics/SVG/1.1/DTD/svg11.dtd\">\n<!-- Generated by graphviz version 2.43.0 (0)\n -->\n<!-- Title: %3 Pages: 1 -->\n<svg width=\"504pt\" height=\"45pt\"\n viewBox=\"0.00 0.00 504.00 45.00\" xmlns=\"http://www.w3.org/2000/svg\" xmlns:xlink=\"http://www.w3.org/1999/xlink\">\n<g id=\"graph0\" class=\"graph\" transform=\"scale(1 1) rotate(0) translate(4 41)\">\n<title>%3</title>\n<polygon fill=\"white\" stroke=\"transparent\" points=\"-4,4 -4,-41 500,-41 500,4 -4,4\"/>\n<!-- 140232165804208 -->\n<g id=\"node1\" class=\"node\">\n<title>140232165804208</title>\n<polygon fill=\"none\" stroke=\"black\" points=\"0,-0.5 0,-36.5 185,-36.5 185,-0.5 0,-0.5\"/>\n<text text-anchor=\"middle\" x=\"11.5\" y=\"-14.8\" font-family=\"Times,serif\" font-size=\"14.00\">a</text>\n<polyline fill=\"none\" stroke=\"black\" points=\"23,-0.5 23,-36.5 \"/>\n<text text-anchor=\"middle\" x=\"63\" y=\"-14.8\" font-family=\"Times,serif\" font-size=\"14.00\">data 3.0000</text>\n<polyline fill=\"none\" stroke=\"black\" points=\"103,-0.5 103,-36.5 \"/>\n<text text-anchor=\"middle\" x=\"144\" y=\"-14.8\" font-family=\"Times,serif\" font-size=\"14.00\">grad 2.0000</text>\n</g>\n<!-- 140232165804784+ -->\n<g id=\"node3\" class=\"node\">\n<title>140232165804784+</title>\n<ellipse fill=\"none\" stroke=\"black\" cx=\"248\" cy=\"-18.5\" rx=\"27\" ry=\"18\"/>\n<text text-anchor=\"middle\" x=\"248\" y=\"-14.8\" font-family=\"Times,serif\" font-size=\"14.00\">+</text>\n</g>\n<!-- 140232165804208&#45;&gt;140232165804784+ -->\n<g id=\"edge2\" class=\"edge\">\n<title>140232165804208&#45;&gt;140232165804784+</title>\n<path fill=\"none\" stroke=\"black\" d=\"M185.01,-18.5C194.01,-18.5 202.74,-18.5 210.66,-18.5\"/>\n<polygon fill=\"black\" stroke=\"black\" points=\"210.91,-22 220.91,-18.5 210.91,-15 210.91,-22\"/>\n</g>\n<!-- 140232165804784 -->\n<g id=\"node2\" class=\"node\">\n<title>140232165804784</title>\n<polygon fill=\"none\" stroke=\"black\" points=\"311,-0.5 311,-36.5 496,-36.5 496,-0.5 311,-0.5\"/>\n<text text-anchor=\"middle\" x=\"322.5\" y=\"-14.8\" font-family=\"Times,serif\" font-size=\"14.00\">b</text>\n<polyline fill=\"none\" stroke=\"black\" points=\"334,-0.5 334,-36.5 \"/>\n<text text-anchor=\"middle\" x=\"374\" y=\"-14.8\" font-family=\"Times,serif\" font-size=\"14.00\">data 6.0000</text>\n<polyline fill=\"none\" stroke=\"black\" points=\"414,-0.5 414,-36.5 \"/>\n<text text-anchor=\"middle\" x=\"455\" y=\"-14.8\" font-family=\"Times,serif\" font-size=\"14.00\">grad 1.0000</text>\n</g>\n<!-- 140232165804784+&#45;&gt;140232165804784 -->\n<g id=\"edge1\" class=\"edge\">\n<title>140232165804784+&#45;&gt;140232165804784</title>\n<path fill=\"none\" stroke=\"black\" d=\"M275.04,-18.5C282.58,-18.5 291.3,-18.5 300.57,-18.5\"/>\n<polygon fill=\"black\" stroke=\"black\" points=\"300.81,-22 310.81,-18.5 300.81,-15 300.81,-22\"/>\n</g>\n</g>\n</svg>\n"
          },
          "metadata": {},
          "execution_count": 134
        }
      ]
    },
    {
      "cell_type": "code",
      "source": [
        "def test1():\n",
        "  a = Value(3.0, label='a')\n",
        "  b = a * 2; b.label = 'b'\n",
        "  b.backward()\n",
        "  return b\n",
        "draw_dot(test1())"
      ],
      "metadata": {
        "colab": {
          "base_uri": "https://localhost:8080/",
          "height": 154
        },
        "id": "Ok_uq7gDLaAt",
        "outputId": "e0577413-bc6b-45a4-afba-0eb2f4029bf0"
      },
      "execution_count": 135,
      "outputs": [
        {
          "output_type": "execute_result",
          "data": {
            "text/plain": [
              "<graphviz.dot.Digraph at 0x7f8a586dcf70>"
            ],
            "image/svg+xml": "<?xml version=\"1.0\" encoding=\"UTF-8\" standalone=\"no\"?>\n<!DOCTYPE svg PUBLIC \"-//W3C//DTD SVG 1.1//EN\"\n \"http://www.w3.org/Graphics/SVG/1.1/DTD/svg11.dtd\">\n<!-- Generated by graphviz version 2.43.0 (0)\n -->\n<!-- Title: %3 Pages: 1 -->\n<svg width=\"504pt\" height=\"100pt\"\n viewBox=\"0.00 0.00 504.00 100.00\" xmlns=\"http://www.w3.org/2000/svg\" xmlns:xlink=\"http://www.w3.org/1999/xlink\">\n<g id=\"graph0\" class=\"graph\" transform=\"scale(1 1) rotate(0) translate(4 96)\">\n<title>%3</title>\n<polygon fill=\"white\" stroke=\"transparent\" points=\"-4,4 -4,-96 500,-96 500,4 -4,4\"/>\n<!-- 140232165805600 -->\n<g id=\"node1\" class=\"node\">\n<title>140232165805600</title>\n<polygon fill=\"none\" stroke=\"black\" points=\"311,-27.5 311,-63.5 496,-63.5 496,-27.5 311,-27.5\"/>\n<text text-anchor=\"middle\" x=\"322.5\" y=\"-41.8\" font-family=\"Times,serif\" font-size=\"14.00\">b</text>\n<polyline fill=\"none\" stroke=\"black\" points=\"334,-27.5 334,-63.5 \"/>\n<text text-anchor=\"middle\" x=\"374\" y=\"-41.8\" font-family=\"Times,serif\" font-size=\"14.00\">data 6.0000</text>\n<polyline fill=\"none\" stroke=\"black\" points=\"414,-27.5 414,-63.5 \"/>\n<text text-anchor=\"middle\" x=\"455\" y=\"-41.8\" font-family=\"Times,serif\" font-size=\"14.00\">grad 1.0000</text>\n</g>\n<!-- 140232165805600* -->\n<g id=\"node2\" class=\"node\">\n<title>140232165805600*</title>\n<ellipse fill=\"none\" stroke=\"black\" cx=\"248\" cy=\"-45.5\" rx=\"27\" ry=\"18\"/>\n<text text-anchor=\"middle\" x=\"248\" y=\"-41.8\" font-family=\"Times,serif\" font-size=\"14.00\">*</text>\n</g>\n<!-- 140232165805600*&#45;&gt;140232165805600 -->\n<g id=\"edge1\" class=\"edge\">\n<title>140232165805600*&#45;&gt;140232165805600</title>\n<path fill=\"none\" stroke=\"black\" d=\"M275.04,-45.5C282.58,-45.5 291.3,-45.5 300.57,-45.5\"/>\n<polygon fill=\"black\" stroke=\"black\" points=\"300.81,-49 310.81,-45.5 300.81,-42 300.81,-49\"/>\n</g>\n<!-- 140232165802912 -->\n<g id=\"node3\" class=\"node\">\n<title>140232165802912</title>\n<polygon fill=\"none\" stroke=\"black\" points=\"0,-55.5 0,-91.5 185,-91.5 185,-55.5 0,-55.5\"/>\n<text text-anchor=\"middle\" x=\"11.5\" y=\"-69.8\" font-family=\"Times,serif\" font-size=\"14.00\">a</text>\n<polyline fill=\"none\" stroke=\"black\" points=\"23,-55.5 23,-91.5 \"/>\n<text text-anchor=\"middle\" x=\"63\" y=\"-69.8\" font-family=\"Times,serif\" font-size=\"14.00\">data 3.0000</text>\n<polyline fill=\"none\" stroke=\"black\" points=\"103,-55.5 103,-91.5 \"/>\n<text text-anchor=\"middle\" x=\"144\" y=\"-69.8\" font-family=\"Times,serif\" font-size=\"14.00\">grad 2.0000</text>\n</g>\n<!-- 140232165802912&#45;&gt;140232165805600* -->\n<g id=\"edge2\" class=\"edge\">\n<title>140232165802912&#45;&gt;140232165805600*</title>\n<path fill=\"none\" stroke=\"black\" d=\"M185.01,-56.81C194.49,-55.08 203.66,-53.41 211.9,-51.9\"/>\n<polygon fill=\"black\" stroke=\"black\" points=\"212.6,-55.33 221.81,-50.09 211.35,-48.45 212.6,-55.33\"/>\n</g>\n<!-- 140232165803680 -->\n<g id=\"node4\" class=\"node\">\n<title>140232165803680</title>\n<polygon fill=\"none\" stroke=\"black\" points=\"0,-0.5 0,-36.5 185,-36.5 185,-0.5 0,-0.5\"/>\n<text text-anchor=\"middle\" x=\"11.5\" y=\"-14.8\" font-family=\"Times,serif\" font-size=\"14.00\">2</text>\n<polyline fill=\"none\" stroke=\"black\" points=\"23,-0.5 23,-36.5 \"/>\n<text text-anchor=\"middle\" x=\"63\" y=\"-14.8\" font-family=\"Times,serif\" font-size=\"14.00\">data 2.0000</text>\n<polyline fill=\"none\" stroke=\"black\" points=\"103,-0.5 103,-36.5 \"/>\n<text text-anchor=\"middle\" x=\"144\" y=\"-14.8\" font-family=\"Times,serif\" font-size=\"14.00\">grad 3.0000</text>\n</g>\n<!-- 140232165803680&#45;&gt;140232165805600* -->\n<g id=\"edge3\" class=\"edge\">\n<title>140232165803680&#45;&gt;140232165805600*</title>\n<path fill=\"none\" stroke=\"black\" d=\"M185.01,-34.6C194.49,-36.26 203.66,-37.88 211.9,-39.33\"/>\n<polygon fill=\"black\" stroke=\"black\" points=\"211.36,-42.78 221.81,-41.07 212.57,-35.89 211.36,-42.78\"/>\n</g>\n</g>\n</svg>\n"
          },
          "metadata": {},
          "execution_count": 135
        }
      ]
    },
    {
      "cell_type": "code",
      "source": [
        "def test2():\n",
        "  a = Value(-2.0, label='a')\n",
        "  b = Value(3.0, label='b')\n",
        "  d = a * b; d.label = 'd'\n",
        "  e = a + b; e.label = 'e'\n",
        "  f = d * e; f.label = 'f'\n",
        "\n",
        "  f.backward()\n",
        "  return f\n",
        "\n",
        "draw_dot(test2())"
      ],
      "metadata": {
        "colab": {
          "base_uri": "https://localhost:8080/",
          "height": 154
        },
        "id": "_tvKYqIgQXsB",
        "outputId": "ee7524a5-898b-4c3d-fba3-74c591c3e002"
      },
      "execution_count": 136,
      "outputs": [
        {
          "output_type": "execute_result",
          "data": {
            "text/plain": [
              "<graphviz.dot.Digraph at 0x7f8a587712b0>"
            ],
            "image/svg+xml": "<?xml version=\"1.0\" encoding=\"UTF-8\" standalone=\"no\"?>\n<!DOCTYPE svg PUBLIC \"-//W3C//DTD SVG 1.1//EN\"\n \"http://www.w3.org/Graphics/SVG/1.1/DTD/svg11.dtd\">\n<!-- Generated by graphviz version 2.43.0 (0)\n -->\n<!-- Title: %3 Pages: 1 -->\n<svg width=\"832pt\" height=\"100pt\"\n viewBox=\"0.00 0.00 832.00 100.00\" xmlns=\"http://www.w3.org/2000/svg\" xmlns:xlink=\"http://www.w3.org/1999/xlink\">\n<g id=\"graph0\" class=\"graph\" transform=\"scale(1 1) rotate(0) translate(4 96)\">\n<title>%3</title>\n<polygon fill=\"white\" stroke=\"transparent\" points=\"-4,4 -4,-96 828,-96 828,4 -4,4\"/>\n<!-- 140232166236224 -->\n<g id=\"node1\" class=\"node\">\n<title>140232166236224</title>\n<polygon fill=\"none\" stroke=\"black\" points=\"320,-55.5 320,-91.5 510,-91.5 510,-55.5 320,-55.5\"/>\n<text text-anchor=\"middle\" x=\"331.5\" y=\"-69.8\" font-family=\"Times,serif\" font-size=\"14.00\">d</text>\n<polyline fill=\"none\" stroke=\"black\" points=\"343,-55.5 343,-91.5 \"/>\n<text text-anchor=\"middle\" x=\"385.5\" y=\"-69.8\" font-family=\"Times,serif\" font-size=\"14.00\">data &#45;6.0000</text>\n<polyline fill=\"none\" stroke=\"black\" points=\"428,-55.5 428,-91.5 \"/>\n<text text-anchor=\"middle\" x=\"469\" y=\"-69.8\" font-family=\"Times,serif\" font-size=\"14.00\">grad 1.0000</text>\n</g>\n<!-- 140232166413696* -->\n<g id=\"node7\" class=\"node\">\n<title>140232166413696*</title>\n<ellipse fill=\"none\" stroke=\"black\" cx=\"573\" cy=\"-45.5\" rx=\"27\" ry=\"18\"/>\n<text text-anchor=\"middle\" x=\"573\" y=\"-41.8\" font-family=\"Times,serif\" font-size=\"14.00\">*</text>\n</g>\n<!-- 140232166236224&#45;&gt;140232166413696* -->\n<g id=\"edge4\" class=\"edge\">\n<title>140232166236224&#45;&gt;140232166413696*</title>\n<path fill=\"none\" stroke=\"black\" d=\"M510.34,-56.57C519.62,-54.9 528.58,-53.29 536.66,-51.84\"/>\n<polygon fill=\"black\" stroke=\"black\" points=\"537.49,-55.25 546.72,-50.04 536.26,-48.36 537.49,-55.25\"/>\n</g>\n<!-- 140232166236224* -->\n<g id=\"node2\" class=\"node\">\n<title>140232166236224*</title>\n<ellipse fill=\"none\" stroke=\"black\" cx=\"257\" cy=\"-73.5\" rx=\"27\" ry=\"18\"/>\n<text text-anchor=\"middle\" x=\"257\" y=\"-69.8\" font-family=\"Times,serif\" font-size=\"14.00\">*</text>\n</g>\n<!-- 140232166236224*&#45;&gt;140232166236224 -->\n<g id=\"edge1\" class=\"edge\">\n<title>140232166236224*&#45;&gt;140232166236224</title>\n<path fill=\"none\" stroke=\"black\" d=\"M284.11,-73.5C291.63,-73.5 300.32,-73.5 309.58,-73.5\"/>\n<polygon fill=\"black\" stroke=\"black\" points=\"309.81,-77 319.81,-73.5 309.81,-70 309.81,-77\"/>\n</g>\n<!-- 140232166239968 -->\n<g id=\"node3\" class=\"node\">\n<title>140232166239968</title>\n<polygon fill=\"none\" stroke=\"black\" points=\"0,-55.5 0,-91.5 194,-91.5 194,-55.5 0,-55.5\"/>\n<text text-anchor=\"middle\" x=\"11.5\" y=\"-69.8\" font-family=\"Times,serif\" font-size=\"14.00\">a</text>\n<polyline fill=\"none\" stroke=\"black\" points=\"23,-55.5 23,-91.5 \"/>\n<text text-anchor=\"middle\" x=\"65.5\" y=\"-69.8\" font-family=\"Times,serif\" font-size=\"14.00\">data &#45;2.0000</text>\n<polyline fill=\"none\" stroke=\"black\" points=\"108,-55.5 108,-91.5 \"/>\n<text text-anchor=\"middle\" x=\"151\" y=\"-69.8\" font-family=\"Times,serif\" font-size=\"14.00\">grad &#45;3.0000</text>\n</g>\n<!-- 140232166239968&#45;&gt;140232166236224* -->\n<g id=\"edge5\" class=\"edge\">\n<title>140232166239968&#45;&gt;140232166236224*</title>\n<path fill=\"none\" stroke=\"black\" d=\"M194.01,-73.5C202.98,-73.5 211.65,-73.5 219.51,-73.5\"/>\n<polygon fill=\"black\" stroke=\"black\" points=\"219.7,-77 229.7,-73.5 219.7,-70 219.7,-77\"/>\n</g>\n<!-- 140232166413648+ -->\n<g id=\"node5\" class=\"node\">\n<title>140232166413648+</title>\n<ellipse fill=\"none\" stroke=\"black\" cx=\"257\" cy=\"-18.5\" rx=\"27\" ry=\"18\"/>\n<text text-anchor=\"middle\" x=\"257\" y=\"-14.8\" font-family=\"Times,serif\" font-size=\"14.00\">+</text>\n</g>\n<!-- 140232166239968&#45;&gt;140232166413648+ -->\n<g id=\"edge6\" class=\"edge\">\n<title>140232166239968&#45;&gt;140232166413648+</title>\n<path fill=\"none\" stroke=\"black\" d=\"M166.84,-55.49C176.04,-52.69 185.3,-49.67 194,-46.5 204.51,-42.67 215.73,-37.84 225.7,-33.28\"/>\n<polygon fill=\"black\" stroke=\"black\" points=\"227.23,-36.43 234.81,-29.02 224.27,-30.09 227.23,-36.43\"/>\n</g>\n<!-- 140232166413648 -->\n<g id=\"node4\" class=\"node\">\n<title>140232166413648</title>\n<polygon fill=\"none\" stroke=\"black\" points=\"320.5,-0.5 320.5,-36.5 509.5,-36.5 509.5,-0.5 320.5,-0.5\"/>\n<text text-anchor=\"middle\" x=\"332\" y=\"-14.8\" font-family=\"Times,serif\" font-size=\"14.00\">e</text>\n<polyline fill=\"none\" stroke=\"black\" points=\"343.5,-0.5 343.5,-36.5 \"/>\n<text text-anchor=\"middle\" x=\"383.5\" y=\"-14.8\" font-family=\"Times,serif\" font-size=\"14.00\">data 1.0000</text>\n<polyline fill=\"none\" stroke=\"black\" points=\"423.5,-0.5 423.5,-36.5 \"/>\n<text text-anchor=\"middle\" x=\"466.5\" y=\"-14.8\" font-family=\"Times,serif\" font-size=\"14.00\">grad &#45;6.0000</text>\n</g>\n<!-- 140232166413648&#45;&gt;140232166413696* -->\n<g id=\"edge7\" class=\"edge\">\n<title>140232166413648&#45;&gt;140232166413696*</title>\n<path fill=\"none\" stroke=\"black\" d=\"M509.9,-34.75C519.33,-36.38 528.45,-37.96 536.65,-39.38\"/>\n<polygon fill=\"black\" stroke=\"black\" points=\"536.06,-42.83 546.51,-41.09 537.26,-35.93 536.06,-42.83\"/>\n</g>\n<!-- 140232166413648+&#45;&gt;140232166413648 -->\n<g id=\"edge2\" class=\"edge\">\n<title>140232166413648+&#45;&gt;140232166413648</title>\n<path fill=\"none\" stroke=\"black\" d=\"M284.11,-18.5C291.84,-18.5 300.8,-18.5 310.35,-18.5\"/>\n<polygon fill=\"black\" stroke=\"black\" points=\"310.48,-22 320.48,-18.5 310.48,-15 310.48,-22\"/>\n</g>\n<!-- 140232166413696 -->\n<g id=\"node6\" class=\"node\">\n<title>140232166413696</title>\n<polygon fill=\"none\" stroke=\"black\" points=\"636,-27.5 636,-63.5 824,-63.5 824,-27.5 636,-27.5\"/>\n<text text-anchor=\"middle\" x=\"646.5\" y=\"-41.8\" font-family=\"Times,serif\" font-size=\"14.00\">f</text>\n<polyline fill=\"none\" stroke=\"black\" points=\"657,-27.5 657,-63.5 \"/>\n<text text-anchor=\"middle\" x=\"699.5\" y=\"-41.8\" font-family=\"Times,serif\" font-size=\"14.00\">data &#45;6.0000</text>\n<polyline fill=\"none\" stroke=\"black\" points=\"742,-27.5 742,-63.5 \"/>\n<text text-anchor=\"middle\" x=\"783\" y=\"-41.8\" font-family=\"Times,serif\" font-size=\"14.00\">grad 1.0000</text>\n</g>\n<!-- 140232166413696*&#45;&gt;140232166413696 -->\n<g id=\"edge3\" class=\"edge\">\n<title>140232166413696*&#45;&gt;140232166413696</title>\n<path fill=\"none\" stroke=\"black\" d=\"M600.29,-45.5C607.78,-45.5 616.42,-45.5 625.6,-45.5\"/>\n<polygon fill=\"black\" stroke=\"black\" points=\"625.76,-49 635.76,-45.5 625.76,-42 625.76,-49\"/>\n</g>\n<!-- 140232166239728 -->\n<g id=\"node8\" class=\"node\">\n<title>140232166239728</title>\n<polygon fill=\"none\" stroke=\"black\" points=\"2.5,-0.5 2.5,-36.5 191.5,-36.5 191.5,-0.5 2.5,-0.5\"/>\n<text text-anchor=\"middle\" x=\"14\" y=\"-14.8\" font-family=\"Times,serif\" font-size=\"14.00\">b</text>\n<polyline fill=\"none\" stroke=\"black\" points=\"25.5,-0.5 25.5,-36.5 \"/>\n<text text-anchor=\"middle\" x=\"65.5\" y=\"-14.8\" font-family=\"Times,serif\" font-size=\"14.00\">data 3.0000</text>\n<polyline fill=\"none\" stroke=\"black\" points=\"105.5,-0.5 105.5,-36.5 \"/>\n<text text-anchor=\"middle\" x=\"148.5\" y=\"-14.8\" font-family=\"Times,serif\" font-size=\"14.00\">grad &#45;8.0000</text>\n</g>\n<!-- 140232166239728&#45;&gt;140232166236224* -->\n<g id=\"edge8\" class=\"edge\">\n<title>140232166239728&#45;&gt;140232166236224*</title>\n<path fill=\"none\" stroke=\"black\" d=\"M163.94,-36.53C174.08,-39.65 184.37,-43.01 194,-46.5 204.27,-50.22 215.26,-54.8 225.09,-59.12\"/>\n<polygon fill=\"black\" stroke=\"black\" points=\"223.91,-62.43 234.47,-63.32 226.77,-56.04 223.91,-62.43\"/>\n</g>\n<!-- 140232166239728&#45;&gt;140232166413648+ -->\n<g id=\"edge9\" class=\"edge\">\n<title>140232166239728&#45;&gt;140232166413648+</title>\n<path fill=\"none\" stroke=\"black\" d=\"M191.74,-18.5C201.55,-18.5 211.04,-18.5 219.59,-18.5\"/>\n<polygon fill=\"black\" stroke=\"black\" points=\"219.87,-22 229.87,-18.5 219.87,-15 219.87,-22\"/>\n</g>\n</g>\n</svg>\n"
          },
          "metadata": {},
          "execution_count": 136
        }
      ]
    },
    {
      "cell_type": "code",
      "source": [
        "def test3():\n",
        "  a = Value(-2.0, label='a')\n",
        "  b = Value(3.0, label='b')\n",
        "  c = Value(10.0, label='c')\n",
        "  d = a * b + a; d.label = 'd'\n",
        "  e = a + b * c; e.label = 'e'\n",
        "  f = d * e * c * c; f.label = 'f'\n",
        "\n",
        "  f.backward()\n",
        "  return f\n",
        "\n",
        "draw_dot(test3())"
      ],
      "metadata": {
        "colab": {
          "base_uri": "https://localhost:8080/",
          "height": 360
        },
        "id": "NvRamCrVCCVW",
        "outputId": "5012a4c2-e2c5-4576-bcdc-1a64ce2374fb"
      },
      "execution_count": 137,
      "outputs": [
        {
          "output_type": "execute_result",
          "data": {
            "text/plain": [
              "<graphviz.dot.Digraph at 0x7f8a58701940>"
            ],
            "image/svg+xml": "<?xml version=\"1.0\" encoding=\"UTF-8\" standalone=\"no\"?>\n<!DOCTYPE svg PUBLIC \"-//W3C//DTD SVG 1.1//EN\"\n \"http://www.w3.org/Graphics/SVG/1.1/DTD/svg11.dtd\">\n<!-- Generated by graphviz version 2.43.0 (0)\n -->\n<!-- Title: %3 Pages: 1 -->\n<svg width=\"1914pt\" height=\"239pt\"\n viewBox=\"0.00 0.00 1914.00 238.93\" xmlns=\"http://www.w3.org/2000/svg\" xmlns:xlink=\"http://www.w3.org/1999/xlink\">\n<g id=\"graph0\" class=\"graph\" transform=\"scale(1 1) rotate(0) translate(4 234.93)\">\n<title>%3</title>\n<polygon fill=\"white\" stroke=\"transparent\" points=\"-4,4 -4,-234.93 1910,-234.93 1910,4 -4,4\"/>\n<!-- 140232165954560 -->\n<g id=\"node1\" class=\"node\">\n<title>140232165954560</title>\n<polygon fill=\"none\" stroke=\"black\" points=\"676,-72.93 676,-108.93 886,-108.93 886,-72.93 676,-72.93\"/>\n<text text-anchor=\"middle\" x=\"687.5\" y=\"-87.23\" font-family=\"Times,serif\" font-size=\"14.00\">d</text>\n<polyline fill=\"none\" stroke=\"black\" points=\"699,-72.93 699,-108.93 \"/>\n<text text-anchor=\"middle\" x=\"741.5\" y=\"-87.23\" font-family=\"Times,serif\" font-size=\"14.00\">data &#45;8.0000</text>\n<polyline fill=\"none\" stroke=\"black\" points=\"784,-72.93 784,-108.93 \"/>\n<text text-anchor=\"middle\" x=\"835\" y=\"-87.23\" font-family=\"Times,serif\" font-size=\"14.00\">grad 2800.1942</text>\n</g>\n<!-- 140232165955328* -->\n<g id=\"node14\" class=\"node\">\n<title>140232165955328*</title>\n<ellipse fill=\"none\" stroke=\"black\" cx=\"949\" cy=\"-145.93\" rx=\"27\" ry=\"18\"/>\n<text text-anchor=\"middle\" x=\"949\" y=\"-142.23\" font-family=\"Times,serif\" font-size=\"14.00\">*</text>\n</g>\n<!-- 140232165954560&#45;&gt;140232165955328* -->\n<g id=\"edge16\" class=\"edge\">\n<title>140232165954560&#45;&gt;140232165955328*</title>\n<path fill=\"none\" stroke=\"black\" d=\"M854.59,-108.99C865.21,-112.06 875.94,-115.4 886,-118.93 896.3,-122.54 907.3,-127.09 917.14,-131.42\"/>\n<polygon fill=\"black\" stroke=\"black\" points=\"915.95,-134.72 926.51,-135.63 918.82,-128.34 915.95,-134.72\"/>\n</g>\n<!-- 140232165954560+ -->\n<g id=\"node2\" class=\"node\">\n<title>140232165954560+</title>\n<ellipse fill=\"none\" stroke=\"black\" cx=\"613\" cy=\"-90.93\" rx=\"27\" ry=\"18\"/>\n<text text-anchor=\"middle\" x=\"613\" y=\"-87.23\" font-family=\"Times,serif\" font-size=\"14.00\">+</text>\n</g>\n<!-- 140232165954560+&#45;&gt;140232165954560 -->\n<g id=\"edge1\" class=\"edge\">\n<title>140232165954560+&#45;&gt;140232165954560</title>\n<path fill=\"none\" stroke=\"black\" d=\"M640.3,-90.93C647.76,-90.93 656.38,-90.93 665.6,-90.93\"/>\n<polygon fill=\"black\" stroke=\"black\" points=\"665.83,-94.43 675.83,-90.93 665.83,-87.43 665.83,-94.43\"/>\n</g>\n<!-- 140232165955088 -->\n<g id=\"node3\" class=\"node\">\n<title>140232165955088</title>\n<polygon fill=\"none\" stroke=\"black\" points=\"676,-127.93 676,-163.93 886,-163.93 886,-127.93 676,-127.93\"/>\n<text text-anchor=\"middle\" x=\"687.5\" y=\"-142.23\" font-family=\"Times,serif\" font-size=\"14.00\">e</text>\n<polyline fill=\"none\" stroke=\"black\" points=\"699,-127.93 699,-163.93 \"/>\n<text text-anchor=\"middle\" x=\"742.5\" y=\"-142.23\" font-family=\"Times,serif\" font-size=\"14.00\">data 28.0000</text>\n<polyline fill=\"none\" stroke=\"black\" points=\"786,-127.93 786,-163.93 \"/>\n<text text-anchor=\"middle\" x=\"836\" y=\"-142.23\" font-family=\"Times,serif\" font-size=\"14.00\">grad &#45;800.0559</text>\n</g>\n<!-- 140232165955088&#45;&gt;140232165955328* -->\n<g id=\"edge12\" class=\"edge\">\n<title>140232165955088&#45;&gt;140232165955328*</title>\n<path fill=\"none\" stroke=\"black\" d=\"M886.19,-145.93C895.23,-145.93 903.92,-145.93 911.78,-145.93\"/>\n<polygon fill=\"black\" stroke=\"black\" points=\"911.93,-149.43 921.93,-145.93 911.93,-142.43 911.93,-149.43\"/>\n</g>\n<!-- 140232165955088+ -->\n<g id=\"node4\" class=\"node\">\n<title>140232165955088+</title>\n<ellipse fill=\"none\" stroke=\"black\" cx=\"613\" cy=\"-145.93\" rx=\"27\" ry=\"18\"/>\n<text text-anchor=\"middle\" x=\"613\" y=\"-142.23\" font-family=\"Times,serif\" font-size=\"14.00\">+</text>\n</g>\n<!-- 140232165955088+&#45;&gt;140232165955088 -->\n<g id=\"edge2\" class=\"edge\">\n<title>140232165955088+&#45;&gt;140232165955088</title>\n<path fill=\"none\" stroke=\"black\" d=\"M640.3,-145.93C647.76,-145.93 656.38,-145.93 665.6,-145.93\"/>\n<polygon fill=\"black\" stroke=\"black\" points=\"665.83,-149.43 675.83,-145.93 665.83,-142.43 665.83,-149.43\"/>\n</g>\n<!-- 140232165953600 -->\n<g id=\"node5\" class=\"node\">\n<title>140232165953600</title>\n<polygon fill=\"none\" stroke=\"black\" points=\"343,-72.93 343,-108.93 550,-108.93 550,-72.93 343,-72.93\"/>\n<text text-anchor=\"middle\" x=\"353\" y=\"-87.23\" font-family=\"Times,serif\" font-size=\"14.00\"> </text>\n<polyline fill=\"none\" stroke=\"black\" points=\"363,-72.93 363,-108.93 \"/>\n<text text-anchor=\"middle\" x=\"405.5\" y=\"-87.23\" font-family=\"Times,serif\" font-size=\"14.00\">data &#45;6.0000</text>\n<polyline fill=\"none\" stroke=\"black\" points=\"448,-72.93 448,-108.93 \"/>\n<text text-anchor=\"middle\" x=\"499\" y=\"-87.23\" font-family=\"Times,serif\" font-size=\"14.00\">grad 2800.1942</text>\n</g>\n<!-- 140232165953600&#45;&gt;140232165954560+ -->\n<g id=\"edge13\" class=\"edge\">\n<title>140232165953600&#45;&gt;140232165954560+</title>\n<path fill=\"none\" stroke=\"black\" d=\"M550.28,-90.93C559.3,-90.93 567.96,-90.93 575.81,-90.93\"/>\n<polygon fill=\"black\" stroke=\"black\" points=\"575.95,-94.43 585.95,-90.93 575.95,-87.43 575.95,-94.43\"/>\n</g>\n<!-- 140232165953600* -->\n<g id=\"node6\" class=\"node\">\n<title>140232165953600*</title>\n<ellipse fill=\"none\" stroke=\"black\" cx=\"280\" cy=\"-90.93\" rx=\"27\" ry=\"18\"/>\n<text text-anchor=\"middle\" x=\"280\" y=\"-87.23\" font-family=\"Times,serif\" font-size=\"14.00\">*</text>\n</g>\n<!-- 140232165953600*&#45;&gt;140232165953600 -->\n<g id=\"edge3\" class=\"edge\">\n<title>140232165953600*&#45;&gt;140232165953600</title>\n<path fill=\"none\" stroke=\"black\" d=\"M307.07,-90.93C314.66,-90.93 323.49,-90.93 332.93,-90.93\"/>\n<polygon fill=\"black\" stroke=\"black\" points=\"332.97,-94.43 342.97,-90.93 332.97,-87.43 332.97,-94.43\"/>\n</g>\n<!-- 140232165955712 -->\n<g id=\"node7\" class=\"node\">\n<title>140232165955712</title>\n<polygon fill=\"none\" stroke=\"black\" points=\"1691,-188.93 1691,-224.93 1906,-224.93 1906,-188.93 1691,-188.93\"/>\n<text text-anchor=\"middle\" x=\"1701.5\" y=\"-203.23\" font-family=\"Times,serif\" font-size=\"14.00\">f</text>\n<polyline fill=\"none\" stroke=\"black\" points=\"1712,-188.93 1712,-224.93 \"/>\n<text text-anchor=\"middle\" x=\"1768\" y=\"-203.23\" font-family=\"Times,serif\" font-size=\"14.00\">data &#45;22400.0000</text>\n<polyline fill=\"none\" stroke=\"black\" points=\"1824,-188.93 1824,-224.93 \"/>\n<text text-anchor=\"middle\" x=\"1865\" y=\"-203.23\" font-family=\"Times,serif\" font-size=\"14.00\">grad 1.0000</text>\n</g>\n<!-- 140232165955712* -->\n<g id=\"node8\" class=\"node\">\n<title>140232165955712*</title>\n<ellipse fill=\"none\" stroke=\"black\" cx=\"1628\" cy=\"-206.93\" rx=\"27\" ry=\"18\"/>\n<text text-anchor=\"middle\" x=\"1628\" y=\"-203.23\" font-family=\"Times,serif\" font-size=\"14.00\">*</text>\n</g>\n<!-- 140232165955712*&#45;&gt;140232165955712 -->\n<g id=\"edge4\" class=\"edge\">\n<title>140232165955712*&#45;&gt;140232165955712</title>\n<path fill=\"none\" stroke=\"black\" d=\"M1655.33,-206.93C1662.74,-206.93 1671.3,-206.93 1680.49,-206.93\"/>\n<polygon fill=\"black\" stroke=\"black\" points=\"1680.67,-210.43 1690.67,-206.93 1680.67,-203.43 1680.67,-210.43\"/>\n</g>\n<!-- 140232165954704 -->\n<g id=\"node9\" class=\"node\">\n<title>140232165954704</title>\n<polygon fill=\"none\" stroke=\"black\" points=\"1351,-165.93 1351,-201.93 1565,-201.93 1565,-165.93 1351,-165.93\"/>\n<text text-anchor=\"middle\" x=\"1361\" y=\"-180.23\" font-family=\"Times,serif\" font-size=\"14.00\"> </text>\n<polyline fill=\"none\" stroke=\"black\" points=\"1371,-165.93 1371,-201.93 \"/>\n<text text-anchor=\"middle\" x=\"1423.5\" y=\"-180.23\" font-family=\"Times,serif\" font-size=\"14.00\">data &#45;2240.0000</text>\n<polyline fill=\"none\" stroke=\"black\" points=\"1476,-165.93 1476,-201.93 \"/>\n<text text-anchor=\"middle\" x=\"1520.5\" y=\"-180.23\" font-family=\"Times,serif\" font-size=\"14.00\">grad 10.0008</text>\n</g>\n<!-- 140232165954704&#45;&gt;140232165955712* -->\n<g id=\"edge11\" class=\"edge\">\n<title>140232165954704&#45;&gt;140232165955712*</title>\n<path fill=\"none\" stroke=\"black\" d=\"M1565.4,-198.49C1574.63,-199.76 1583.48,-200.97 1591.44,-202.06\"/>\n<polygon fill=\"black\" stroke=\"black\" points=\"1590.98,-205.53 1601.36,-203.42 1591.93,-198.59 1590.98,-205.53\"/>\n</g>\n<!-- 140232165954704* -->\n<g id=\"node10\" class=\"node\">\n<title>140232165954704*</title>\n<ellipse fill=\"none\" stroke=\"black\" cx=\"1288\" cy=\"-183.93\" rx=\"27\" ry=\"18\"/>\n<text text-anchor=\"middle\" x=\"1288\" y=\"-180.23\" font-family=\"Times,serif\" font-size=\"14.00\">*</text>\n</g>\n<!-- 140232165954704*&#45;&gt;140232165954704 -->\n<g id=\"edge5\" class=\"edge\">\n<title>140232165954704*&#45;&gt;140232165954704</title>\n<path fill=\"none\" stroke=\"black\" d=\"M1315.25,-183.93C1322.7,-183.93 1331.34,-183.93 1340.59,-183.93\"/>\n<polygon fill=\"black\" stroke=\"black\" points=\"1340.84,-187.43 1350.84,-183.93 1340.84,-180.43 1340.84,-187.43\"/>\n</g>\n<!-- 140232165954800 -->\n<g id=\"node11\" class=\"node\">\n<title>140232165954800</title>\n<polygon fill=\"none\" stroke=\"black\" points=\"343,-127.93 343,-163.93 550,-163.93 550,-127.93 343,-127.93\"/>\n<text text-anchor=\"middle\" x=\"353\" y=\"-142.23\" font-family=\"Times,serif\" font-size=\"14.00\"> </text>\n<polyline fill=\"none\" stroke=\"black\" points=\"363,-127.93 363,-163.93 \"/>\n<text text-anchor=\"middle\" x=\"406.5\" y=\"-142.23\" font-family=\"Times,serif\" font-size=\"14.00\">data 30.0000</text>\n<polyline fill=\"none\" stroke=\"black\" points=\"450,-127.93 450,-163.93 \"/>\n<text text-anchor=\"middle\" x=\"500\" y=\"-142.23\" font-family=\"Times,serif\" font-size=\"14.00\">grad &#45;800.0559</text>\n</g>\n<!-- 140232165954800&#45;&gt;140232165955088+ -->\n<g id=\"edge14\" class=\"edge\">\n<title>140232165954800&#45;&gt;140232165955088+</title>\n<path fill=\"none\" stroke=\"black\" d=\"M550.28,-145.93C559.3,-145.93 567.96,-145.93 575.81,-145.93\"/>\n<polygon fill=\"black\" stroke=\"black\" points=\"575.95,-149.43 585.95,-145.93 575.95,-142.43 575.95,-149.43\"/>\n</g>\n<!-- 140232165954800* -->\n<g id=\"node12\" class=\"node\">\n<title>140232165954800*</title>\n<ellipse fill=\"none\" stroke=\"black\" cx=\"280\" cy=\"-145.93\" rx=\"27\" ry=\"18\"/>\n<text text-anchor=\"middle\" x=\"280\" y=\"-142.23\" font-family=\"Times,serif\" font-size=\"14.00\">*</text>\n</g>\n<!-- 140232165954800*&#45;&gt;140232165954800 -->\n<g id=\"edge6\" class=\"edge\">\n<title>140232165954800*&#45;&gt;140232165954800</title>\n<path fill=\"none\" stroke=\"black\" d=\"M307.07,-145.93C314.66,-145.93 323.49,-145.93 332.93,-145.93\"/>\n<polygon fill=\"black\" stroke=\"black\" points=\"332.97,-149.43 342.97,-145.93 332.97,-142.43 332.97,-149.43\"/>\n</g>\n<!-- 140232165955328 -->\n<g id=\"node13\" class=\"node\">\n<title>140232165955328</title>\n<polygon fill=\"none\" stroke=\"black\" points=\"1012,-127.93 1012,-163.93 1225,-163.93 1225,-127.93 1012,-127.93\"/>\n<text text-anchor=\"middle\" x=\"1022\" y=\"-142.23\" font-family=\"Times,serif\" font-size=\"14.00\"> </text>\n<polyline fill=\"none\" stroke=\"black\" points=\"1032,-127.93 1032,-163.93 \"/>\n<text text-anchor=\"middle\" x=\"1081\" y=\"-142.23\" font-family=\"Times,serif\" font-size=\"14.00\">data &#45;224.0000</text>\n<polyline fill=\"none\" stroke=\"black\" points=\"1130,-127.93 1130,-163.93 \"/>\n<text text-anchor=\"middle\" x=\"1177.5\" y=\"-142.23\" font-family=\"Times,serif\" font-size=\"14.00\">grad 100.0070</text>\n</g>\n<!-- 140232165955328&#45;&gt;140232165954704* -->\n<g id=\"edge19\" class=\"edge\">\n<title>140232165955328&#45;&gt;140232165954704*</title>\n<path fill=\"none\" stroke=\"black\" d=\"M1199.33,-164.04C1217.81,-168.23 1236.55,-172.48 1251.93,-175.97\"/>\n<polygon fill=\"black\" stroke=\"black\" points=\"1251.48,-179.46 1262,-178.26 1253.02,-172.63 1251.48,-179.46\"/>\n</g>\n<!-- 140232165955328*&#45;&gt;140232165955328 -->\n<g id=\"edge7\" class=\"edge\">\n<title>140232165955328*&#45;&gt;140232165955328</title>\n<path fill=\"none\" stroke=\"black\" d=\"M976.17,-145.93C983.6,-145.93 992.21,-145.93 1001.43,-145.93\"/>\n<polygon fill=\"black\" stroke=\"black\" points=\"1001.66,-149.43 1011.66,-145.93 1001.66,-142.43 1001.66,-149.43\"/>\n</g>\n<!-- 140232165953888 -->\n<g id=\"node15\" class=\"node\">\n<title>140232165953888</title>\n<polygon fill=\"none\" stroke=\"black\" points=\"0,-25.93 0,-61.93 217,-61.93 217,-25.93 0,-25.93\"/>\n<text text-anchor=\"middle\" x=\"11.5\" y=\"-40.23\" font-family=\"Times,serif\" font-size=\"14.00\">a</text>\n<polyline fill=\"none\" stroke=\"black\" points=\"23,-25.93 23,-61.93 \"/>\n<text text-anchor=\"middle\" x=\"65.5\" y=\"-40.23\" font-family=\"Times,serif\" font-size=\"14.00\">data &#45;2.0000</text>\n<polyline fill=\"none\" stroke=\"black\" points=\"108,-25.93 108,-61.93 \"/>\n<text text-anchor=\"middle\" x=\"162.5\" y=\"-40.23\" font-family=\"Times,serif\" font-size=\"14.00\">grad 10400.7218</text>\n</g>\n<!-- 140232165953888&#45;&gt;140232165954560+ -->\n<g id=\"edge17\" class=\"edge\">\n<title>140232165953888&#45;&gt;140232165954560+</title>\n<path fill=\"none\" stroke=\"black\" d=\"M174.4,-25.91C262.99,-4.8 425.02,21.25 550,-29.93 568.17,-37.37 583.87,-52.98 594.93,-66.55\"/>\n<polygon fill=\"black\" stroke=\"black\" points=\"592.31,-68.88 601.2,-74.65 597.84,-64.6 592.31,-68.88\"/>\n</g>\n<!-- 140232165953888&#45;&gt;140232165955088+ -->\n<g id=\"edge10\" class=\"edge\">\n<title>140232165953888&#45;&gt;140232165955088+</title>\n<path fill=\"none\" stroke=\"black\" d=\"M217.12,-37.54C328.99,-32.83 495.27,-31.8 550,-62.93 575.39,-77.37 568,-94.92 586,-117.93 587.4,-119.71 588.88,-121.51 590.41,-123.3\"/>\n<polygon fill=\"black\" stroke=\"black\" points=\"587.94,-125.8 597.21,-130.94 593.17,-121.14 587.94,-125.8\"/>\n</g>\n<!-- 140232165953888&#45;&gt;140232165953600* -->\n<g id=\"edge8\" class=\"edge\">\n<title>140232165953888&#45;&gt;140232165953600*</title>\n<path fill=\"none\" stroke=\"black\" d=\"M174.55,-61.96C198.51,-68.61 224.69,-75.87 244.85,-81.46\"/>\n<polygon fill=\"black\" stroke=\"black\" points=\"243.94,-84.84 254.51,-84.14 245.81,-78.09 243.94,-84.84\"/>\n</g>\n<!-- 140232165953936 -->\n<g id=\"node16\" class=\"node\">\n<title>140232165953936</title>\n<polygon fill=\"none\" stroke=\"black\" points=\"0,-174.93 0,-210.93 217,-210.93 217,-174.93 0,-174.93\"/>\n<text text-anchor=\"middle\" x=\"11.5\" y=\"-189.23\" font-family=\"Times,serif\" font-size=\"14.00\">c</text>\n<polyline fill=\"none\" stroke=\"black\" points=\"23,-174.93 23,-210.93 \"/>\n<text text-anchor=\"middle\" x=\"66.5\" y=\"-189.23\" font-family=\"Times,serif\" font-size=\"14.00\">data 10.0000</text>\n<polyline fill=\"none\" stroke=\"black\" points=\"110,-174.93 110,-210.93 \"/>\n<text text-anchor=\"middle\" x=\"163.5\" y=\"-189.23\" font-family=\"Times,serif\" font-size=\"14.00\">grad &#45;6880.3488</text>\n</g>\n<!-- 140232165953936&#45;&gt;140232165955712* -->\n<g id=\"edge21\" class=\"edge\">\n<title>140232165953936&#45;&gt;140232165955712*</title>\n<path fill=\"none\" stroke=\"black\" d=\"M214.71,-210.98C280.77,-220.79 367.86,-230.93 445.5,-230.93 445.5,-230.93 445.5,-230.93 1289,-230.93 1399.39,-230.93 1529.55,-218.03 1591.19,-211.15\"/>\n<polygon fill=\"black\" stroke=\"black\" points=\"1591.64,-214.62 1601.18,-210.02 1590.85,-207.66 1591.64,-214.62\"/>\n</g>\n<!-- 140232165953936&#45;&gt;140232165954704* -->\n<g id=\"edge15\" class=\"edge\">\n<title>140232165953936&#45;&gt;140232165954704*</title>\n<path fill=\"none\" stroke=\"black\" d=\"M217.32,-192.93C283.22,-192.93 369.23,-192.93 445.5,-192.93 445.5,-192.93 445.5,-192.93 950,-192.93 1059.55,-192.93 1189.05,-188.12 1250.77,-185.53\"/>\n<polygon fill=\"black\" stroke=\"black\" points=\"1250.95,-189.02 1260.79,-185.1 1250.65,-182.03 1250.95,-189.02\"/>\n</g>\n<!-- 140232165953936&#45;&gt;140232165954800* -->\n<g id=\"edge18\" class=\"edge\">\n<title>140232165953936&#45;&gt;140232165954800*</title>\n<path fill=\"none\" stroke=\"black\" d=\"M174.55,-174.89C198.51,-168.25 224.69,-160.99 244.85,-155.4\"/>\n<polygon fill=\"black\" stroke=\"black\" points=\"245.81,-158.76 254.51,-152.72 243.94,-152.02 245.81,-158.76\"/>\n</g>\n<!-- 140232165953984 -->\n<g id=\"node17\" class=\"node\">\n<title>140232165953984</title>\n<polygon fill=\"none\" stroke=\"black\" points=\"0.5,-100.93 0.5,-136.93 216.5,-136.93 216.5,-100.93 0.5,-100.93\"/>\n<text text-anchor=\"middle\" x=\"12\" y=\"-115.23\" font-family=\"Times,serif\" font-size=\"14.00\">b</text>\n<polyline fill=\"none\" stroke=\"black\" points=\"23.5,-100.93 23.5,-136.93 \"/>\n<text text-anchor=\"middle\" x=\"63.5\" y=\"-115.23\" font-family=\"Times,serif\" font-size=\"14.00\">data 3.0000</text>\n<polyline fill=\"none\" stroke=\"black\" points=\"103.5,-100.93 103.5,-136.93 \"/>\n<text text-anchor=\"middle\" x=\"160\" y=\"-115.23\" font-family=\"Times,serif\" font-size=\"14.00\">grad &#45;13600.9487</text>\n</g>\n<!-- 140232165953984&#45;&gt;140232165953600* -->\n<g id=\"edge9\" class=\"edge\">\n<title>140232165953984&#45;&gt;140232165953600*</title>\n<path fill=\"none\" stroke=\"black\" d=\"M216.85,-101.19C226.26,-99.64 235.27,-98.15 243.36,-96.81\"/>\n<polygon fill=\"black\" stroke=\"black\" points=\"244.14,-100.23 253.44,-95.15 243,-93.33 244.14,-100.23\"/>\n</g>\n<!-- 140232165953984&#45;&gt;140232165954800* -->\n<g id=\"edge20\" class=\"edge\">\n<title>140232165953984&#45;&gt;140232165954800*</title>\n<path fill=\"none\" stroke=\"black\" d=\"M216.85,-136.03C226.26,-137.53 235.27,-138.96 243.36,-140.25\"/>\n<polygon fill=\"black\" stroke=\"black\" points=\"243.01,-143.74 253.44,-141.86 244.11,-136.83 243.01,-143.74\"/>\n</g>\n</g>\n</svg>\n"
          },
          "metadata": {},
          "execution_count": 137
        }
      ]
    },
    {
      "cell_type": "code",
      "source": [
        "# set autograd to False/True \n",
        "draw_dot(test3())"
      ],
      "metadata": {
        "colab": {
          "base_uri": "https://localhost:8080/",
          "height": 360
        },
        "id": "T1ZOc_tnAQRZ",
        "outputId": "01cf1282-12dd-499d-b982-b6ab0ffd5c22"
      },
      "execution_count": 138,
      "outputs": [
        {
          "output_type": "execute_result",
          "data": {
            "text/plain": [
              "<graphviz.dot.Digraph at 0x7f8a587cc0d0>"
            ],
            "image/svg+xml": "<?xml version=\"1.0\" encoding=\"UTF-8\" standalone=\"no\"?>\n<!DOCTYPE svg PUBLIC \"-//W3C//DTD SVG 1.1//EN\"\n \"http://www.w3.org/Graphics/SVG/1.1/DTD/svg11.dtd\">\n<!-- Generated by graphviz version 2.43.0 (0)\n -->\n<!-- Title: %3 Pages: 1 -->\n<svg width=\"1914pt\" height=\"239pt\"\n viewBox=\"0.00 0.00 1914.00 238.93\" xmlns=\"http://www.w3.org/2000/svg\" xmlns:xlink=\"http://www.w3.org/1999/xlink\">\n<g id=\"graph0\" class=\"graph\" transform=\"scale(1 1) rotate(0) translate(4 234.93)\">\n<title>%3</title>\n<polygon fill=\"white\" stroke=\"transparent\" points=\"-4,4 -4,-234.93 1910,-234.93 1910,4 -4,4\"/>\n<!-- 140232166413360 -->\n<g id=\"node1\" class=\"node\">\n<title>140232166413360</title>\n<polygon fill=\"none\" stroke=\"black\" points=\"676,-127.93 676,-163.93 886,-163.93 886,-127.93 676,-127.93\"/>\n<text text-anchor=\"middle\" x=\"687.5\" y=\"-142.23\" font-family=\"Times,serif\" font-size=\"14.00\">e</text>\n<polyline fill=\"none\" stroke=\"black\" points=\"699,-127.93 699,-163.93 \"/>\n<text text-anchor=\"middle\" x=\"742.5\" y=\"-142.23\" font-family=\"Times,serif\" font-size=\"14.00\">data 28.0000</text>\n<polyline fill=\"none\" stroke=\"black\" points=\"786,-127.93 786,-163.93 \"/>\n<text text-anchor=\"middle\" x=\"836\" y=\"-142.23\" font-family=\"Times,serif\" font-size=\"14.00\">grad &#45;800.0559</text>\n</g>\n<!-- 140232166305648* -->\n<g id=\"node14\" class=\"node\">\n<title>140232166305648*</title>\n<ellipse fill=\"none\" stroke=\"black\" cx=\"949\" cy=\"-145.93\" rx=\"27\" ry=\"18\"/>\n<text text-anchor=\"middle\" x=\"949\" y=\"-142.23\" font-family=\"Times,serif\" font-size=\"14.00\">*</text>\n</g>\n<!-- 140232166413360&#45;&gt;140232166305648* -->\n<g id=\"edge11\" class=\"edge\">\n<title>140232166413360&#45;&gt;140232166305648*</title>\n<path fill=\"none\" stroke=\"black\" d=\"M886.19,-145.93C895.23,-145.93 903.92,-145.93 911.78,-145.93\"/>\n<polygon fill=\"black\" stroke=\"black\" points=\"911.93,-149.43 921.93,-145.93 911.93,-142.43 911.93,-149.43\"/>\n</g>\n<!-- 140232166413360+ -->\n<g id=\"node2\" class=\"node\">\n<title>140232166413360+</title>\n<ellipse fill=\"none\" stroke=\"black\" cx=\"613\" cy=\"-145.93\" rx=\"27\" ry=\"18\"/>\n<text text-anchor=\"middle\" x=\"613\" y=\"-142.23\" font-family=\"Times,serif\" font-size=\"14.00\">+</text>\n</g>\n<!-- 140232166413360+&#45;&gt;140232166413360 -->\n<g id=\"edge1\" class=\"edge\">\n<title>140232166413360+&#45;&gt;140232166413360</title>\n<path fill=\"none\" stroke=\"black\" d=\"M640.3,-145.93C647.76,-145.93 656.38,-145.93 665.6,-145.93\"/>\n<polygon fill=\"black\" stroke=\"black\" points=\"665.83,-149.43 675.83,-145.93 665.83,-142.43 665.83,-149.43\"/>\n</g>\n<!-- 140232166694480 -->\n<g id=\"node3\" class=\"node\">\n<title>140232166694480</title>\n<polygon fill=\"none\" stroke=\"black\" points=\"1691,-188.93 1691,-224.93 1906,-224.93 1906,-188.93 1691,-188.93\"/>\n<text text-anchor=\"middle\" x=\"1701.5\" y=\"-203.23\" font-family=\"Times,serif\" font-size=\"14.00\">f</text>\n<polyline fill=\"none\" stroke=\"black\" points=\"1712,-188.93 1712,-224.93 \"/>\n<text text-anchor=\"middle\" x=\"1768\" y=\"-203.23\" font-family=\"Times,serif\" font-size=\"14.00\">data &#45;22400.0000</text>\n<polyline fill=\"none\" stroke=\"black\" points=\"1824,-188.93 1824,-224.93 \"/>\n<text text-anchor=\"middle\" x=\"1865\" y=\"-203.23\" font-family=\"Times,serif\" font-size=\"14.00\">grad 1.0000</text>\n</g>\n<!-- 140232166694480* -->\n<g id=\"node4\" class=\"node\">\n<title>140232166694480*</title>\n<ellipse fill=\"none\" stroke=\"black\" cx=\"1628\" cy=\"-206.93\" rx=\"27\" ry=\"18\"/>\n<text text-anchor=\"middle\" x=\"1628\" y=\"-203.23\" font-family=\"Times,serif\" font-size=\"14.00\">*</text>\n</g>\n<!-- 140232166694480*&#45;&gt;140232166694480 -->\n<g id=\"edge2\" class=\"edge\">\n<title>140232166694480*&#45;&gt;140232166694480</title>\n<path fill=\"none\" stroke=\"black\" d=\"M1655.33,-206.93C1662.74,-206.93 1671.3,-206.93 1680.49,-206.93\"/>\n<polygon fill=\"black\" stroke=\"black\" points=\"1680.67,-210.43 1690.67,-206.93 1680.67,-203.43 1680.67,-210.43\"/>\n</g>\n<!-- 140232166694576 -->\n<g id=\"node5\" class=\"node\">\n<title>140232166694576</title>\n<polygon fill=\"none\" stroke=\"black\" points=\"1351,-165.93 1351,-201.93 1565,-201.93 1565,-165.93 1351,-165.93\"/>\n<text text-anchor=\"middle\" x=\"1361\" y=\"-180.23\" font-family=\"Times,serif\" font-size=\"14.00\"> </text>\n<polyline fill=\"none\" stroke=\"black\" points=\"1371,-165.93 1371,-201.93 \"/>\n<text text-anchor=\"middle\" x=\"1423.5\" y=\"-180.23\" font-family=\"Times,serif\" font-size=\"14.00\">data &#45;2240.0000</text>\n<polyline fill=\"none\" stroke=\"black\" points=\"1476,-165.93 1476,-201.93 \"/>\n<text text-anchor=\"middle\" x=\"1520.5\" y=\"-180.23\" font-family=\"Times,serif\" font-size=\"14.00\">grad 10.0008</text>\n</g>\n<!-- 140232166694576&#45;&gt;140232166694480* -->\n<g id=\"edge13\" class=\"edge\">\n<title>140232166694576&#45;&gt;140232166694480*</title>\n<path fill=\"none\" stroke=\"black\" d=\"M1565.4,-198.49C1574.63,-199.76 1583.48,-200.97 1591.44,-202.06\"/>\n<polygon fill=\"black\" stroke=\"black\" points=\"1590.98,-205.53 1601.36,-203.42 1591.93,-198.59 1590.98,-205.53\"/>\n</g>\n<!-- 140232166694576* -->\n<g id=\"node6\" class=\"node\">\n<title>140232166694576*</title>\n<ellipse fill=\"none\" stroke=\"black\" cx=\"1288\" cy=\"-183.93\" rx=\"27\" ry=\"18\"/>\n<text text-anchor=\"middle\" x=\"1288\" y=\"-180.23\" font-family=\"Times,serif\" font-size=\"14.00\">*</text>\n</g>\n<!-- 140232166694576*&#45;&gt;140232166694576 -->\n<g id=\"edge3\" class=\"edge\">\n<title>140232166694576*&#45;&gt;140232166694576</title>\n<path fill=\"none\" stroke=\"black\" d=\"M1315.25,-183.93C1322.7,-183.93 1331.34,-183.93 1340.59,-183.93\"/>\n<polygon fill=\"black\" stroke=\"black\" points=\"1340.84,-187.43 1350.84,-183.93 1340.84,-180.43 1340.84,-187.43\"/>\n</g>\n<!-- 140232165804736 -->\n<g id=\"node7\" class=\"node\">\n<title>140232165804736</title>\n<polygon fill=\"none\" stroke=\"black\" points=\"0,-174.93 0,-210.93 217,-210.93 217,-174.93 0,-174.93\"/>\n<text text-anchor=\"middle\" x=\"11.5\" y=\"-189.23\" font-family=\"Times,serif\" font-size=\"14.00\">c</text>\n<polyline fill=\"none\" stroke=\"black\" points=\"23,-174.93 23,-210.93 \"/>\n<text text-anchor=\"middle\" x=\"66.5\" y=\"-189.23\" font-family=\"Times,serif\" font-size=\"14.00\">data 10.0000</text>\n<polyline fill=\"none\" stroke=\"black\" points=\"110,-174.93 110,-210.93 \"/>\n<text text-anchor=\"middle\" x=\"163.5\" y=\"-189.23\" font-family=\"Times,serif\" font-size=\"14.00\">grad &#45;6880.3488</text>\n</g>\n<!-- 140232165804736&#45;&gt;140232166694480* -->\n<g id=\"edge19\" class=\"edge\">\n<title>140232165804736&#45;&gt;140232166694480*</title>\n<path fill=\"none\" stroke=\"black\" d=\"M214.71,-210.98C280.77,-220.79 367.86,-230.93 445.5,-230.93 445.5,-230.93 445.5,-230.93 1289,-230.93 1399.39,-230.93 1529.55,-218.03 1591.19,-211.15\"/>\n<polygon fill=\"black\" stroke=\"black\" points=\"1591.64,-214.62 1601.18,-210.02 1590.85,-207.66 1591.64,-214.62\"/>\n</g>\n<!-- 140232165804736&#45;&gt;140232166694576* -->\n<g id=\"edge18\" class=\"edge\">\n<title>140232165804736&#45;&gt;140232166694576*</title>\n<path fill=\"none\" stroke=\"black\" d=\"M217.32,-192.93C283.22,-192.93 369.23,-192.93 445.5,-192.93 445.5,-192.93 445.5,-192.93 950,-192.93 1059.55,-192.93 1189.05,-188.12 1250.77,-185.53\"/>\n<polygon fill=\"black\" stroke=\"black\" points=\"1250.95,-189.02 1260.79,-185.1 1250.65,-182.03 1250.95,-189.02\"/>\n</g>\n<!-- 140232166414224* -->\n<g id=\"node16\" class=\"node\">\n<title>140232166414224*</title>\n<ellipse fill=\"none\" stroke=\"black\" cx=\"280\" cy=\"-145.93\" rx=\"27\" ry=\"18\"/>\n<text text-anchor=\"middle\" x=\"280\" y=\"-142.23\" font-family=\"Times,serif\" font-size=\"14.00\">*</text>\n</g>\n<!-- 140232165804736&#45;&gt;140232166414224* -->\n<g id=\"edge21\" class=\"edge\">\n<title>140232165804736&#45;&gt;140232166414224*</title>\n<path fill=\"none\" stroke=\"black\" d=\"M174.55,-174.89C198.51,-168.25 224.69,-160.99 244.85,-155.4\"/>\n<polygon fill=\"black\" stroke=\"black\" points=\"245.81,-158.76 254.51,-152.72 243.94,-152.02 245.81,-158.76\"/>\n</g>\n<!-- 140232166413504 -->\n<g id=\"node8\" class=\"node\">\n<title>140232166413504</title>\n<polygon fill=\"none\" stroke=\"black\" points=\"676,-72.93 676,-108.93 886,-108.93 886,-72.93 676,-72.93\"/>\n<text text-anchor=\"middle\" x=\"687.5\" y=\"-87.23\" font-family=\"Times,serif\" font-size=\"14.00\">d</text>\n<polyline fill=\"none\" stroke=\"black\" points=\"699,-72.93 699,-108.93 \"/>\n<text text-anchor=\"middle\" x=\"741.5\" y=\"-87.23\" font-family=\"Times,serif\" font-size=\"14.00\">data &#45;8.0000</text>\n<polyline fill=\"none\" stroke=\"black\" points=\"784,-72.93 784,-108.93 \"/>\n<text text-anchor=\"middle\" x=\"835\" y=\"-87.23\" font-family=\"Times,serif\" font-size=\"14.00\">grad 2800.1942</text>\n</g>\n<!-- 140232166413504&#45;&gt;140232166305648* -->\n<g id=\"edge8\" class=\"edge\">\n<title>140232166413504&#45;&gt;140232166305648*</title>\n<path fill=\"none\" stroke=\"black\" d=\"M854.59,-108.99C865.21,-112.06 875.94,-115.4 886,-118.93 896.3,-122.54 907.3,-127.09 917.14,-131.42\"/>\n<polygon fill=\"black\" stroke=\"black\" points=\"915.95,-134.72 926.51,-135.63 918.82,-128.34 915.95,-134.72\"/>\n</g>\n<!-- 140232166413504+ -->\n<g id=\"node9\" class=\"node\">\n<title>140232166413504+</title>\n<ellipse fill=\"none\" stroke=\"black\" cx=\"613\" cy=\"-90.93\" rx=\"27\" ry=\"18\"/>\n<text text-anchor=\"middle\" x=\"613\" y=\"-87.23\" font-family=\"Times,serif\" font-size=\"14.00\">+</text>\n</g>\n<!-- 140232166413504+&#45;&gt;140232166413504 -->\n<g id=\"edge4\" class=\"edge\">\n<title>140232166413504+&#45;&gt;140232166413504</title>\n<path fill=\"none\" stroke=\"black\" d=\"M640.3,-90.93C647.76,-90.93 656.38,-90.93 665.6,-90.93\"/>\n<polygon fill=\"black\" stroke=\"black\" points=\"665.83,-94.43 675.83,-90.93 665.83,-87.43 665.83,-94.43\"/>\n</g>\n<!-- 140232166238096 -->\n<g id=\"node10\" class=\"node\">\n<title>140232166238096</title>\n<polygon fill=\"none\" stroke=\"black\" points=\"0.5,-100.93 0.5,-136.93 216.5,-136.93 216.5,-100.93 0.5,-100.93\"/>\n<text text-anchor=\"middle\" x=\"12\" y=\"-115.23\" font-family=\"Times,serif\" font-size=\"14.00\">b</text>\n<polyline fill=\"none\" stroke=\"black\" points=\"23.5,-100.93 23.5,-136.93 \"/>\n<text text-anchor=\"middle\" x=\"63.5\" y=\"-115.23\" font-family=\"Times,serif\" font-size=\"14.00\">data 3.0000</text>\n<polyline fill=\"none\" stroke=\"black\" points=\"103.5,-100.93 103.5,-136.93 \"/>\n<text text-anchor=\"middle\" x=\"160\" y=\"-115.23\" font-family=\"Times,serif\" font-size=\"14.00\">grad &#45;13600.9487</text>\n</g>\n<!-- 140232166412592* -->\n<g id=\"node12\" class=\"node\">\n<title>140232166412592*</title>\n<ellipse fill=\"none\" stroke=\"black\" cx=\"280\" cy=\"-90.93\" rx=\"27\" ry=\"18\"/>\n<text text-anchor=\"middle\" x=\"280\" y=\"-87.23\" font-family=\"Times,serif\" font-size=\"14.00\">*</text>\n</g>\n<!-- 140232166238096&#45;&gt;140232166412592* -->\n<g id=\"edge16\" class=\"edge\">\n<title>140232166238096&#45;&gt;140232166412592*</title>\n<path fill=\"none\" stroke=\"black\" d=\"M216.85,-101.19C226.26,-99.64 235.27,-98.15 243.36,-96.81\"/>\n<polygon fill=\"black\" stroke=\"black\" points=\"244.14,-100.23 253.44,-95.15 243,-93.33 244.14,-100.23\"/>\n</g>\n<!-- 140232166238096&#45;&gt;140232166414224* -->\n<g id=\"edge20\" class=\"edge\">\n<title>140232166238096&#45;&gt;140232166414224*</title>\n<path fill=\"none\" stroke=\"black\" d=\"M216.85,-136.03C226.26,-137.53 235.27,-138.96 243.36,-140.25\"/>\n<polygon fill=\"black\" stroke=\"black\" points=\"243.01,-143.74 253.44,-141.86 244.11,-136.83 243.01,-143.74\"/>\n</g>\n<!-- 140232166412592 -->\n<g id=\"node11\" class=\"node\">\n<title>140232166412592</title>\n<polygon fill=\"none\" stroke=\"black\" points=\"343,-72.93 343,-108.93 550,-108.93 550,-72.93 343,-72.93\"/>\n<text text-anchor=\"middle\" x=\"353\" y=\"-87.23\" font-family=\"Times,serif\" font-size=\"14.00\"> </text>\n<polyline fill=\"none\" stroke=\"black\" points=\"363,-72.93 363,-108.93 \"/>\n<text text-anchor=\"middle\" x=\"405.5\" y=\"-87.23\" font-family=\"Times,serif\" font-size=\"14.00\">data &#45;6.0000</text>\n<polyline fill=\"none\" stroke=\"black\" points=\"448,-72.93 448,-108.93 \"/>\n<text text-anchor=\"middle\" x=\"499\" y=\"-87.23\" font-family=\"Times,serif\" font-size=\"14.00\">grad 2800.1942</text>\n</g>\n<!-- 140232166412592&#45;&gt;140232166413504+ -->\n<g id=\"edge10\" class=\"edge\">\n<title>140232166412592&#45;&gt;140232166413504+</title>\n<path fill=\"none\" stroke=\"black\" d=\"M550.28,-90.93C559.3,-90.93 567.96,-90.93 575.81,-90.93\"/>\n<polygon fill=\"black\" stroke=\"black\" points=\"575.95,-94.43 585.95,-90.93 575.95,-87.43 575.95,-94.43\"/>\n</g>\n<!-- 140232166412592*&#45;&gt;140232166412592 -->\n<g id=\"edge5\" class=\"edge\">\n<title>140232166412592*&#45;&gt;140232166412592</title>\n<path fill=\"none\" stroke=\"black\" d=\"M307.07,-90.93C314.66,-90.93 323.49,-90.93 332.93,-90.93\"/>\n<polygon fill=\"black\" stroke=\"black\" points=\"332.97,-94.43 342.97,-90.93 332.97,-87.43 332.97,-94.43\"/>\n</g>\n<!-- 140232166305648 -->\n<g id=\"node13\" class=\"node\">\n<title>140232166305648</title>\n<polygon fill=\"none\" stroke=\"black\" points=\"1012,-127.93 1012,-163.93 1225,-163.93 1225,-127.93 1012,-127.93\"/>\n<text text-anchor=\"middle\" x=\"1022\" y=\"-142.23\" font-family=\"Times,serif\" font-size=\"14.00\"> </text>\n<polyline fill=\"none\" stroke=\"black\" points=\"1032,-127.93 1032,-163.93 \"/>\n<text text-anchor=\"middle\" x=\"1081\" y=\"-142.23\" font-family=\"Times,serif\" font-size=\"14.00\">data &#45;224.0000</text>\n<polyline fill=\"none\" stroke=\"black\" points=\"1130,-127.93 1130,-163.93 \"/>\n<text text-anchor=\"middle\" x=\"1177.5\" y=\"-142.23\" font-family=\"Times,serif\" font-size=\"14.00\">grad 100.0070</text>\n</g>\n<!-- 140232166305648&#45;&gt;140232166694576* -->\n<g id=\"edge9\" class=\"edge\">\n<title>140232166305648&#45;&gt;140232166694576*</title>\n<path fill=\"none\" stroke=\"black\" d=\"M1199.33,-164.04C1217.81,-168.23 1236.55,-172.48 1251.93,-175.97\"/>\n<polygon fill=\"black\" stroke=\"black\" points=\"1251.48,-179.46 1262,-178.26 1253.02,-172.63 1251.48,-179.46\"/>\n</g>\n<!-- 140232166305648*&#45;&gt;140232166305648 -->\n<g id=\"edge6\" class=\"edge\">\n<title>140232166305648*&#45;&gt;140232166305648</title>\n<path fill=\"none\" stroke=\"black\" d=\"M976.17,-145.93C983.6,-145.93 992.21,-145.93 1001.43,-145.93\"/>\n<polygon fill=\"black\" stroke=\"black\" points=\"1001.66,-149.43 1011.66,-145.93 1001.66,-142.43 1001.66,-149.43\"/>\n</g>\n<!-- 140232166414224 -->\n<g id=\"node15\" class=\"node\">\n<title>140232166414224</title>\n<polygon fill=\"none\" stroke=\"black\" points=\"343,-127.93 343,-163.93 550,-163.93 550,-127.93 343,-127.93\"/>\n<text text-anchor=\"middle\" x=\"353\" y=\"-142.23\" font-family=\"Times,serif\" font-size=\"14.00\"> </text>\n<polyline fill=\"none\" stroke=\"black\" points=\"363,-127.93 363,-163.93 \"/>\n<text text-anchor=\"middle\" x=\"406.5\" y=\"-142.23\" font-family=\"Times,serif\" font-size=\"14.00\">data 30.0000</text>\n<polyline fill=\"none\" stroke=\"black\" points=\"450,-127.93 450,-163.93 \"/>\n<text text-anchor=\"middle\" x=\"500\" y=\"-142.23\" font-family=\"Times,serif\" font-size=\"14.00\">grad &#45;800.0559</text>\n</g>\n<!-- 140232166414224&#45;&gt;140232166413360+ -->\n<g id=\"edge17\" class=\"edge\">\n<title>140232166414224&#45;&gt;140232166413360+</title>\n<path fill=\"none\" stroke=\"black\" d=\"M550.28,-145.93C559.3,-145.93 567.96,-145.93 575.81,-145.93\"/>\n<polygon fill=\"black\" stroke=\"black\" points=\"575.95,-149.43 585.95,-145.93 575.95,-142.43 575.95,-149.43\"/>\n</g>\n<!-- 140232166414224*&#45;&gt;140232166414224 -->\n<g id=\"edge7\" class=\"edge\">\n<title>140232166414224*&#45;&gt;140232166414224</title>\n<path fill=\"none\" stroke=\"black\" d=\"M307.07,-145.93C314.66,-145.93 323.49,-145.93 332.93,-145.93\"/>\n<polygon fill=\"black\" stroke=\"black\" points=\"332.97,-149.43 342.97,-145.93 332.97,-142.43 332.97,-149.43\"/>\n</g>\n<!-- 140232166239680 -->\n<g id=\"node17\" class=\"node\">\n<title>140232166239680</title>\n<polygon fill=\"none\" stroke=\"black\" points=\"0,-25.93 0,-61.93 217,-61.93 217,-25.93 0,-25.93\"/>\n<text text-anchor=\"middle\" x=\"11.5\" y=\"-40.23\" font-family=\"Times,serif\" font-size=\"14.00\">a</text>\n<polyline fill=\"none\" stroke=\"black\" points=\"23,-25.93 23,-61.93 \"/>\n<text text-anchor=\"middle\" x=\"65.5\" y=\"-40.23\" font-family=\"Times,serif\" font-size=\"14.00\">data &#45;2.0000</text>\n<polyline fill=\"none\" stroke=\"black\" points=\"108,-25.93 108,-61.93 \"/>\n<text text-anchor=\"middle\" x=\"162.5\" y=\"-40.23\" font-family=\"Times,serif\" font-size=\"14.00\">grad 10400.7218</text>\n</g>\n<!-- 140232166239680&#45;&gt;140232166413360+ -->\n<g id=\"edge14\" class=\"edge\">\n<title>140232166239680&#45;&gt;140232166413360+</title>\n<path fill=\"none\" stroke=\"black\" d=\"M217.12,-37.54C328.99,-32.83 495.27,-31.8 550,-62.93 575.39,-77.37 568,-94.92 586,-117.93 587.4,-119.71 588.88,-121.51 590.41,-123.3\"/>\n<polygon fill=\"black\" stroke=\"black\" points=\"587.94,-125.8 597.21,-130.94 593.17,-121.14 587.94,-125.8\"/>\n</g>\n<!-- 140232166239680&#45;&gt;140232166413504+ -->\n<g id=\"edge15\" class=\"edge\">\n<title>140232166239680&#45;&gt;140232166413504+</title>\n<path fill=\"none\" stroke=\"black\" d=\"M174.4,-25.91C262.99,-4.8 425.02,21.25 550,-29.93 568.17,-37.37 583.87,-52.98 594.93,-66.55\"/>\n<polygon fill=\"black\" stroke=\"black\" points=\"592.31,-68.88 601.2,-74.65 597.84,-64.6 592.31,-68.88\"/>\n</g>\n<!-- 140232166239680&#45;&gt;140232166412592* -->\n<g id=\"edge12\" class=\"edge\">\n<title>140232166239680&#45;&gt;140232166412592*</title>\n<path fill=\"none\" stroke=\"black\" d=\"M174.55,-61.96C198.51,-68.61 224.69,-75.87 244.85,-81.46\"/>\n<polygon fill=\"black\" stroke=\"black\" points=\"243.94,-84.84 254.51,-84.14 245.81,-78.09 243.94,-84.84\"/>\n</g>\n</g>\n</svg>\n"
          },
          "metadata": {},
          "execution_count": 138
        }
      ]
    },
    {
      "cell_type": "markdown",
      "source": [
        "# Playing with Division & Power Operations"
      ],
      "metadata": {
        "id": "ptEBwCB_LkM1"
      }
    },
    {
      "cell_type": "code",
      "source": [
        "def build_graph_tanh():\n",
        "  # inputs\n",
        "  x1 = Value(2.0, label='x1')\n",
        "  x2 = Value(0.0, label='x2')\n",
        "\n",
        "  # weights\n",
        "  w1 = Value(-3.0, label='w1')\n",
        "  w2 = Value(1.0, label='w2')\n",
        "\n",
        "  # bias\n",
        "  b = Value(6.8813735870195432, label='b')\n",
        "\n",
        "  # weights x inputs\n",
        "  x1w1 = x1 * w1; x1w1.label = 'x1*w1'\n",
        "  x2w2 = x2 * w2; x2w2.label = 'x2*w2'\n",
        "\n",
        "  # dot product\n",
        "  x1w1x2w2 = x1w1 + x2w2; x1w1x2w2.label = 'x1*w1 + x2*w2'\n",
        "\n",
        "  # adding the bias\n",
        "  n = x1w1x2w2 + b; n.label = 'n'\n",
        "\n",
        "  # implement tanh expression exactly...\n",
        "  # (e^2x - 1) / (e^2x + 1)\n",
        "  e = (2 * n).exp(); e.label = 'e'\n",
        "  o = (e - 1) / (e + 1)\n",
        "  o.label = 'o'\n",
        "\n",
        "  return o"
      ],
      "metadata": {
        "id": "YVJrFuN1MFWL"
      },
      "execution_count": 139,
      "outputs": []
    },
    {
      "cell_type": "code",
      "source": [
        "o = build_graph()\n",
        "o.backward()\n",
        "draw_dot(o)"
      ],
      "metadata": {
        "colab": {
          "base_uri": "https://localhost:8080/",
          "height": 321
        },
        "id": "oICk6X9mEWtz",
        "outputId": "cad3e846-9953-4a7b-ed74-422ce27fe69f"
      },
      "execution_count": 140,
      "outputs": [
        {
          "output_type": "execute_result",
          "data": {
            "text/plain": [
              "<graphviz.dot.Digraph at 0x7f8a587b5a00>"
            ],
            "image/svg+xml": "<?xml version=\"1.0\" encoding=\"UTF-8\" standalone=\"no\"?>\n<!DOCTYPE svg PUBLIC \"-//W3C//DTD SVG 1.1//EN\"\n \"http://www.w3.org/Graphics/SVG/1.1/DTD/svg11.dtd\">\n<!-- Generated by graphviz version 2.43.0 (0)\n -->\n<!-- Title: %3 Pages: 1 -->\n<svg width=\"1575pt\" height=\"210pt\"\n viewBox=\"0.00 0.00 1575.00 210.00\" xmlns=\"http://www.w3.org/2000/svg\" xmlns:xlink=\"http://www.w3.org/1999/xlink\">\n<g id=\"graph0\" class=\"graph\" transform=\"scale(1 1) rotate(0) translate(4 206)\">\n<title>%3</title>\n<polygon fill=\"white\" stroke=\"transparent\" points=\"-4,4 -4,-206 1571,-206 1571,4 -4,4\"/>\n<!-- 140232166239824 -->\n<g id=\"node1\" class=\"node\">\n<title>140232166239824</title>\n<polygon fill=\"none\" stroke=\"black\" points=\"1382,-109.5 1382,-145.5 1567,-145.5 1567,-109.5 1382,-109.5\"/>\n<text text-anchor=\"middle\" x=\"1393.5\" y=\"-123.8\" font-family=\"Times,serif\" font-size=\"14.00\">o</text>\n<polyline fill=\"none\" stroke=\"black\" points=\"1405,-109.5 1405,-145.5 \"/>\n<text text-anchor=\"middle\" x=\"1445\" y=\"-123.8\" font-family=\"Times,serif\" font-size=\"14.00\">data 0.7071</text>\n<polyline fill=\"none\" stroke=\"black\" points=\"1485,-109.5 1485,-145.5 \"/>\n<text text-anchor=\"middle\" x=\"1526\" y=\"-123.8\" font-family=\"Times,serif\" font-size=\"14.00\">grad 1.0000</text>\n</g>\n<!-- 140232166239824tanh -->\n<g id=\"node2\" class=\"node\">\n<title>140232166239824tanh</title>\n<ellipse fill=\"none\" stroke=\"black\" cx=\"1319\" cy=\"-127.5\" rx=\"27\" ry=\"18\"/>\n<text text-anchor=\"middle\" x=\"1319\" y=\"-123.8\" font-family=\"Times,serif\" font-size=\"14.00\">tanh</text>\n</g>\n<!-- 140232166239824tanh&#45;&gt;140232166239824 -->\n<g id=\"edge1\" class=\"edge\">\n<title>140232166239824tanh&#45;&gt;140232166239824</title>\n<path fill=\"none\" stroke=\"black\" d=\"M1346.04,-127.5C1353.58,-127.5 1362.3,-127.5 1371.57,-127.5\"/>\n<polygon fill=\"black\" stroke=\"black\" points=\"1371.81,-131 1381.81,-127.5 1371.81,-124 1371.81,-131\"/>\n</g>\n<!-- 140232166412928 -->\n<g id=\"node3\" class=\"node\">\n<title>140232166412928</title>\n<polygon fill=\"none\" stroke=\"black\" points=\"716,-137.5 716,-173.5 901,-173.5 901,-137.5 716,-137.5\"/>\n<text text-anchor=\"middle\" x=\"727.5\" y=\"-151.8\" font-family=\"Times,serif\" font-size=\"14.00\">b</text>\n<polyline fill=\"none\" stroke=\"black\" points=\"739,-137.5 739,-173.5 \"/>\n<text text-anchor=\"middle\" x=\"779\" y=\"-151.8\" font-family=\"Times,serif\" font-size=\"14.00\">data 6.8814</text>\n<polyline fill=\"none\" stroke=\"black\" points=\"819,-137.5 819,-173.5 \"/>\n<text text-anchor=\"middle\" x=\"860\" y=\"-151.8\" font-family=\"Times,serif\" font-size=\"14.00\">grad 0.5000</text>\n</g>\n<!-- 140232166236944+ -->\n<g id=\"node6\" class=\"node\">\n<title>140232166236944+</title>\n<ellipse fill=\"none\" stroke=\"black\" cx=\"1008\" cy=\"-127.5\" rx=\"27\" ry=\"18\"/>\n<text text-anchor=\"middle\" x=\"1008\" y=\"-123.8\" font-family=\"Times,serif\" font-size=\"14.00\">+</text>\n</g>\n<!-- 140232166412928&#45;&gt;140232166236944+ -->\n<g id=\"edge6\" class=\"edge\">\n<title>140232166412928&#45;&gt;140232166236944+</title>\n<path fill=\"none\" stroke=\"black\" d=\"M901.02,-142.52C926,-138.98 951.59,-135.36 971.37,-132.55\"/>\n<polygon fill=\"black\" stroke=\"black\" points=\"972.03,-135.99 981.43,-131.12 971.04,-129.06 972.03,-135.99\"/>\n</g>\n<!-- 140232166414080 -->\n<g id=\"node4\" class=\"node\">\n<title>140232166414080</title>\n<polygon fill=\"none\" stroke=\"black\" points=\"2,-165.5 2,-201.5 198,-201.5 198,-165.5 2,-165.5\"/>\n<text text-anchor=\"middle\" x=\"17\" y=\"-179.8\" font-family=\"Times,serif\" font-size=\"14.00\">x1</text>\n<polyline fill=\"none\" stroke=\"black\" points=\"32,-165.5 32,-201.5 \"/>\n<text text-anchor=\"middle\" x=\"72\" y=\"-179.8\" font-family=\"Times,serif\" font-size=\"14.00\">data 2.0000</text>\n<polyline fill=\"none\" stroke=\"black\" points=\"112,-165.5 112,-201.5 \"/>\n<text text-anchor=\"middle\" x=\"155\" y=\"-179.8\" font-family=\"Times,serif\" font-size=\"14.00\">grad &#45;1.5000</text>\n</g>\n<!-- 140232166413696* -->\n<g id=\"node10\" class=\"node\">\n<title>140232166413696*</title>\n<ellipse fill=\"none\" stroke=\"black\" cx=\"263\" cy=\"-128.5\" rx=\"27\" ry=\"18\"/>\n<text text-anchor=\"middle\" x=\"263\" y=\"-124.8\" font-family=\"Times,serif\" font-size=\"14.00\">*</text>\n</g>\n<!-- 140232166414080&#45;&gt;140232166413696* -->\n<g id=\"edge8\" class=\"edge\">\n<title>140232166414080&#45;&gt;140232166413696*</title>\n<path fill=\"none\" stroke=\"black\" d=\"M172.53,-165.44C181.84,-162.67 191.2,-159.67 200,-156.5 210.53,-152.71 221.75,-147.9 231.72,-143.33\"/>\n<polygon fill=\"black\" stroke=\"black\" points=\"233.25,-146.48 240.82,-139.07 230.28,-140.14 233.25,-146.48\"/>\n</g>\n<!-- 140232166236944 -->\n<g id=\"node5\" class=\"node\">\n<title>140232166236944</title>\n<polygon fill=\"none\" stroke=\"black\" points=\"1071,-109.5 1071,-145.5 1256,-145.5 1256,-109.5 1071,-109.5\"/>\n<text text-anchor=\"middle\" x=\"1082.5\" y=\"-123.8\" font-family=\"Times,serif\" font-size=\"14.00\">n</text>\n<polyline fill=\"none\" stroke=\"black\" points=\"1094,-109.5 1094,-145.5 \"/>\n<text text-anchor=\"middle\" x=\"1134\" y=\"-123.8\" font-family=\"Times,serif\" font-size=\"14.00\">data 0.8814</text>\n<polyline fill=\"none\" stroke=\"black\" points=\"1174,-109.5 1174,-145.5 \"/>\n<text text-anchor=\"middle\" x=\"1215\" y=\"-123.8\" font-family=\"Times,serif\" font-size=\"14.00\">grad 0.5000</text>\n</g>\n<!-- 140232166236944&#45;&gt;140232166239824tanh -->\n<g id=\"edge11\" class=\"edge\">\n<title>140232166236944&#45;&gt;140232166239824tanh</title>\n<path fill=\"none\" stroke=\"black\" d=\"M1256.01,-127.5C1265.01,-127.5 1273.74,-127.5 1281.66,-127.5\"/>\n<polygon fill=\"black\" stroke=\"black\" points=\"1281.91,-131 1291.91,-127.5 1281.91,-124 1281.91,-131\"/>\n</g>\n<!-- 140232166236944+&#45;&gt;140232166236944 -->\n<g id=\"edge2\" class=\"edge\">\n<title>140232166236944+&#45;&gt;140232166236944</title>\n<path fill=\"none\" stroke=\"black\" d=\"M1035.04,-127.5C1042.58,-127.5 1051.3,-127.5 1060.57,-127.5\"/>\n<polygon fill=\"black\" stroke=\"black\" points=\"1060.81,-131 1070.81,-127.5 1060.81,-124 1060.81,-131\"/>\n</g>\n<!-- 140232166413600 -->\n<g id=\"node7\" class=\"node\">\n<title>140232166413600</title>\n<polygon fill=\"none\" stroke=\"black\" points=\"2.5,-55.5 2.5,-91.5 197.5,-91.5 197.5,-55.5 2.5,-55.5\"/>\n<text text-anchor=\"middle\" x=\"19\" y=\"-69.8\" font-family=\"Times,serif\" font-size=\"14.00\">w2</text>\n<polyline fill=\"none\" stroke=\"black\" points=\"35.5,-55.5 35.5,-91.5 \"/>\n<text text-anchor=\"middle\" x=\"75.5\" y=\"-69.8\" font-family=\"Times,serif\" font-size=\"14.00\">data 1.0000</text>\n<polyline fill=\"none\" stroke=\"black\" points=\"115.5,-55.5 115.5,-91.5 \"/>\n<text text-anchor=\"middle\" x=\"156.5\" y=\"-69.8\" font-family=\"Times,serif\" font-size=\"14.00\">grad 0.0000</text>\n</g>\n<!-- 140232166239632* -->\n<g id=\"node12\" class=\"node\">\n<title>140232166239632*</title>\n<ellipse fill=\"none\" stroke=\"black\" cx=\"263\" cy=\"-73.5\" rx=\"27\" ry=\"18\"/>\n<text text-anchor=\"middle\" x=\"263\" y=\"-69.8\" font-family=\"Times,serif\" font-size=\"14.00\">*</text>\n</g>\n<!-- 140232166413600&#45;&gt;140232166239632* -->\n<g id=\"edge10\" class=\"edge\">\n<title>140232166413600&#45;&gt;140232166239632*</title>\n<path fill=\"none\" stroke=\"black\" d=\"M197.91,-73.5C207.65,-73.5 217.05,-73.5 225.52,-73.5\"/>\n<polygon fill=\"black\" stroke=\"black\" points=\"225.7,-77 235.7,-73.5 225.7,-70 225.7,-77\"/>\n</g>\n<!-- 140232166414128 -->\n<g id=\"node8\" class=\"node\">\n<title>140232166414128</title>\n<polygon fill=\"none\" stroke=\"black\" points=\"4,-0.5 4,-36.5 196,-36.5 196,-0.5 4,-0.5\"/>\n<text text-anchor=\"middle\" x=\"19\" y=\"-14.8\" font-family=\"Times,serif\" font-size=\"14.00\">x2</text>\n<polyline fill=\"none\" stroke=\"black\" points=\"34,-0.5 34,-36.5 \"/>\n<text text-anchor=\"middle\" x=\"74\" y=\"-14.8\" font-family=\"Times,serif\" font-size=\"14.00\">data 0.0000</text>\n<polyline fill=\"none\" stroke=\"black\" points=\"114,-0.5 114,-36.5 \"/>\n<text text-anchor=\"middle\" x=\"155\" y=\"-14.8\" font-family=\"Times,serif\" font-size=\"14.00\">grad 0.5000</text>\n</g>\n<!-- 140232166414128&#45;&gt;140232166239632* -->\n<g id=\"edge12\" class=\"edge\">\n<title>140232166414128&#45;&gt;140232166239632*</title>\n<path fill=\"none\" stroke=\"black\" d=\"M169.28,-36.5C179.65,-39.61 190.16,-42.98 200,-46.5 210.28,-50.17 221.28,-54.74 231.11,-59.07\"/>\n<polygon fill=\"black\" stroke=\"black\" points=\"229.93,-62.37 240.48,-63.27 232.79,-55.99 229.93,-62.37\"/>\n</g>\n<!-- 140232166413696 -->\n<g id=\"node9\" class=\"node\">\n<title>140232166413696</title>\n<polygon fill=\"none\" stroke=\"black\" points=\"326,-110.5 326,-146.5 546,-146.5 546,-110.5 326,-110.5\"/>\n<text text-anchor=\"middle\" x=\"352.5\" y=\"-124.8\" font-family=\"Times,serif\" font-size=\"14.00\">x1*w1</text>\n<polyline fill=\"none\" stroke=\"black\" points=\"379,-110.5 379,-146.5 \"/>\n<text text-anchor=\"middle\" x=\"421.5\" y=\"-124.8\" font-family=\"Times,serif\" font-size=\"14.00\">data &#45;6.0000</text>\n<polyline fill=\"none\" stroke=\"black\" points=\"464,-110.5 464,-146.5 \"/>\n<text text-anchor=\"middle\" x=\"505\" y=\"-124.8\" font-family=\"Times,serif\" font-size=\"14.00\">grad 0.5000</text>\n</g>\n<!-- 140232166239680+ -->\n<g id=\"node14\" class=\"node\">\n<title>140232166239680+</title>\n<ellipse fill=\"none\" stroke=\"black\" cx=\"609\" cy=\"-100.5\" rx=\"27\" ry=\"18\"/>\n<text text-anchor=\"middle\" x=\"609\" y=\"-96.8\" font-family=\"Times,serif\" font-size=\"14.00\">+</text>\n</g>\n<!-- 140232166413696&#45;&gt;140232166239680+ -->\n<g id=\"edge14\" class=\"edge\">\n<title>140232166413696&#45;&gt;140232166239680+</title>\n<path fill=\"none\" stroke=\"black\" d=\"M546.27,-110.61C555.64,-109.07 564.6,-107.61 572.65,-106.29\"/>\n<polygon fill=\"black\" stroke=\"black\" points=\"573.35,-109.72 582.65,-104.65 572.22,-102.81 573.35,-109.72\"/>\n</g>\n<!-- 140232166413696*&#45;&gt;140232166413696 -->\n<g id=\"edge3\" class=\"edge\">\n<title>140232166413696*&#45;&gt;140232166413696</title>\n<path fill=\"none\" stroke=\"black\" d=\"M290.34,-128.5C297.77,-128.5 306.37,-128.5 315.6,-128.5\"/>\n<polygon fill=\"black\" stroke=\"black\" points=\"315.84,-132 325.84,-128.5 315.84,-125 315.84,-132\"/>\n</g>\n<!-- 140232166239632 -->\n<g id=\"node11\" class=\"node\">\n<title>140232166239632</title>\n<polygon fill=\"none\" stroke=\"black\" points=\"328.5,-55.5 328.5,-91.5 543.5,-91.5 543.5,-55.5 328.5,-55.5\"/>\n<text text-anchor=\"middle\" x=\"355\" y=\"-69.8\" font-family=\"Times,serif\" font-size=\"14.00\">x2*w2</text>\n<polyline fill=\"none\" stroke=\"black\" points=\"381.5,-55.5 381.5,-91.5 \"/>\n<text text-anchor=\"middle\" x=\"421.5\" y=\"-69.8\" font-family=\"Times,serif\" font-size=\"14.00\">data 0.0000</text>\n<polyline fill=\"none\" stroke=\"black\" points=\"461.5,-55.5 461.5,-91.5 \"/>\n<text text-anchor=\"middle\" x=\"502.5\" y=\"-69.8\" font-family=\"Times,serif\" font-size=\"14.00\">grad 0.5000</text>\n</g>\n<!-- 140232166239632&#45;&gt;140232166239680+ -->\n<g id=\"edge13\" class=\"edge\">\n<title>140232166239632&#45;&gt;140232166239680+</title>\n<path fill=\"none\" stroke=\"black\" d=\"M543.84,-90.37C554.01,-91.98 563.76,-93.51 572.44,-94.89\"/>\n<polygon fill=\"black\" stroke=\"black\" points=\"572.05,-98.37 582.47,-96.47 573.14,-91.45 572.05,-98.37\"/>\n</g>\n<!-- 140232166239632*&#45;&gt;140232166239632 -->\n<g id=\"edge4\" class=\"edge\">\n<title>140232166239632*&#45;&gt;140232166239632</title>\n<path fill=\"none\" stroke=\"black\" d=\"M290.34,-73.5C298.51,-73.5 308.08,-73.5 318.36,-73.5\"/>\n<polygon fill=\"black\" stroke=\"black\" points=\"318.39,-77 328.39,-73.5 318.39,-70 318.39,-77\"/>\n</g>\n<!-- 140232166239680 -->\n<g id=\"node13\" class=\"node\">\n<title>140232166239680</title>\n<polygon fill=\"none\" stroke=\"black\" points=\"672,-82.5 672,-118.5 945,-118.5 945,-82.5 672,-82.5\"/>\n<text text-anchor=\"middle\" x=\"725\" y=\"-96.8\" font-family=\"Times,serif\" font-size=\"14.00\">x1*w1 + x2*w2</text>\n<polyline fill=\"none\" stroke=\"black\" points=\"778,-82.5 778,-118.5 \"/>\n<text text-anchor=\"middle\" x=\"820.5\" y=\"-96.8\" font-family=\"Times,serif\" font-size=\"14.00\">data &#45;6.0000</text>\n<polyline fill=\"none\" stroke=\"black\" points=\"863,-82.5 863,-118.5 \"/>\n<text text-anchor=\"middle\" x=\"904\" y=\"-96.8\" font-family=\"Times,serif\" font-size=\"14.00\">grad 0.5000</text>\n</g>\n<!-- 140232166239680&#45;&gt;140232166236944+ -->\n<g id=\"edge9\" class=\"edge\">\n<title>140232166239680&#45;&gt;140232166236944+</title>\n<path fill=\"none\" stroke=\"black\" d=\"M941.24,-118.51C952.12,-120 962.4,-121.4 971.45,-122.64\"/>\n<polygon fill=\"black\" stroke=\"black\" points=\"971.11,-126.13 981.49,-124.01 972.05,-119.19 971.11,-126.13\"/>\n</g>\n<!-- 140232166239680+&#45;&gt;140232166239680 -->\n<g id=\"edge5\" class=\"edge\">\n<title>140232166239680+&#45;&gt;140232166239680</title>\n<path fill=\"none\" stroke=\"black\" d=\"M636.23,-100.5C643.7,-100.5 652.41,-100.5 661.87,-100.5\"/>\n<polygon fill=\"black\" stroke=\"black\" points=\"661.98,-104 671.98,-100.5 661.98,-97 661.98,-104\"/>\n</g>\n<!-- 140232166413264 -->\n<g id=\"node15\" class=\"node\">\n<title>140232166413264</title>\n<polygon fill=\"none\" stroke=\"black\" points=\"0,-110.5 0,-146.5 200,-146.5 200,-110.5 0,-110.5\"/>\n<text text-anchor=\"middle\" x=\"16.5\" y=\"-124.8\" font-family=\"Times,serif\" font-size=\"14.00\">w1</text>\n<polyline fill=\"none\" stroke=\"black\" points=\"33,-110.5 33,-146.5 \"/>\n<text text-anchor=\"middle\" x=\"75.5\" y=\"-124.8\" font-family=\"Times,serif\" font-size=\"14.00\">data &#45;3.0000</text>\n<polyline fill=\"none\" stroke=\"black\" points=\"118,-110.5 118,-146.5 \"/>\n<text text-anchor=\"middle\" x=\"159\" y=\"-124.8\" font-family=\"Times,serif\" font-size=\"14.00\">grad 1.0000</text>\n</g>\n<!-- 140232166413264&#45;&gt;140232166413696* -->\n<g id=\"edge7\" class=\"edge\">\n<title>140232166413264&#45;&gt;140232166413696*</title>\n<path fill=\"none\" stroke=\"black\" d=\"M200.21,-128.5C209.2,-128.5 217.86,-128.5 225.7,-128.5\"/>\n<polygon fill=\"black\" stroke=\"black\" points=\"225.85,-132 235.85,-128.5 225.85,-125 225.85,-132\"/>\n</g>\n</g>\n</svg>\n"
          },
          "metadata": {},
          "execution_count": 140
        }
      ]
    },
    {
      "cell_type": "code",
      "source": [
        "o = build_graph_tanh()\n",
        "o.backward()\n",
        "draw_dot(o)"
      ],
      "metadata": {
        "colab": {
          "base_uri": "https://localhost:8080/",
          "height": 321
        },
        "id": "TtK0hpCPLqaN",
        "outputId": "35b55770-5716-45af-8577-2279b3b966fd"
      },
      "execution_count": 141,
      "outputs": [
        {
          "output_type": "execute_result",
          "data": {
            "text/plain": [
              "<graphviz.dot.Digraph at 0x7f8a587018e0>"
            ],
            "image/svg+xml": "<?xml version=\"1.0\" encoding=\"UTF-8\" standalone=\"no\"?>\n<!DOCTYPE svg PUBLIC \"-//W3C//DTD SVG 1.1//EN\"\n \"http://www.w3.org/Graphics/SVG/1.1/DTD/svg11.dtd\">\n<!-- Generated by graphviz version 2.43.0 (0)\n -->\n<!-- Title: %3 Pages: 1 -->\n<svg width=\"2952pt\" height=\"210pt\"\n viewBox=\"0.00 0.00 2952.00 210.00\" xmlns=\"http://www.w3.org/2000/svg\" xmlns:xlink=\"http://www.w3.org/1999/xlink\">\n<g id=\"graph0\" class=\"graph\" transform=\"scale(1 1) rotate(0) translate(4 206)\">\n<title>%3</title>\n<polygon fill=\"white\" stroke=\"transparent\" points=\"-4,4 -4,-206 2948,-206 2948,4 -4,4\"/>\n<!-- 140232165805072 -->\n<g id=\"node1\" class=\"node\">\n<title>140232165805072</title>\n<polygon fill=\"none\" stroke=\"black\" points=\"1071,-54.5 1071,-90.5 1256,-90.5 1256,-54.5 1071,-54.5\"/>\n<text text-anchor=\"middle\" x=\"1082.5\" y=\"-68.8\" font-family=\"Times,serif\" font-size=\"14.00\">n</text>\n<polyline fill=\"none\" stroke=\"black\" points=\"1094,-54.5 1094,-90.5 \"/>\n<text text-anchor=\"middle\" x=\"1134\" y=\"-68.8\" font-family=\"Times,serif\" font-size=\"14.00\">data 0.8814</text>\n<polyline fill=\"none\" stroke=\"black\" points=\"1174,-54.5 1174,-90.5 \"/>\n<text text-anchor=\"middle\" x=\"1215\" y=\"-68.8\" font-family=\"Times,serif\" font-size=\"14.00\">grad 0.5000</text>\n</g>\n<!-- 140232165804592* -->\n<g id=\"node4\" class=\"node\">\n<title>140232165804592*</title>\n<ellipse fill=\"none\" stroke=\"black\" cx=\"1319\" cy=\"-99.5\" rx=\"27\" ry=\"18\"/>\n<text text-anchor=\"middle\" x=\"1319\" y=\"-95.8\" font-family=\"Times,serif\" font-size=\"14.00\">*</text>\n</g>\n<!-- 140232165805072&#45;&gt;140232165804592* -->\n<g id=\"edge14\" class=\"edge\">\n<title>140232165805072&#45;&gt;140232165804592*</title>\n<path fill=\"none\" stroke=\"black\" d=\"M1256.01,-88.6C1265.49,-90.26 1274.66,-91.88 1282.9,-93.33\"/>\n<polygon fill=\"black\" stroke=\"black\" points=\"1282.36,-96.78 1292.81,-95.07 1283.57,-89.89 1282.36,-96.78\"/>\n</g>\n<!-- 140232165805072+ -->\n<g id=\"node2\" class=\"node\">\n<title>140232165805072+</title>\n<ellipse fill=\"none\" stroke=\"black\" cx=\"1008\" cy=\"-72.5\" rx=\"27\" ry=\"18\"/>\n<text text-anchor=\"middle\" x=\"1008\" y=\"-68.8\" font-family=\"Times,serif\" font-size=\"14.00\">+</text>\n</g>\n<!-- 140232165805072+&#45;&gt;140232165805072 -->\n<g id=\"edge1\" class=\"edge\">\n<title>140232165805072+&#45;&gt;140232165805072</title>\n<path fill=\"none\" stroke=\"black\" d=\"M1035.04,-72.5C1042.58,-72.5 1051.3,-72.5 1060.57,-72.5\"/>\n<polygon fill=\"black\" stroke=\"black\" points=\"1060.81,-76 1070.81,-72.5 1060.81,-69 1060.81,-76\"/>\n</g>\n<!-- 140232165804592 -->\n<g id=\"node3\" class=\"node\">\n<title>140232165804592</title>\n<polygon fill=\"none\" stroke=\"black\" points=\"1382,-81.5 1382,-117.5 1564,-117.5 1564,-81.5 1382,-81.5\"/>\n<text text-anchor=\"middle\" x=\"1392\" y=\"-95.8\" font-family=\"Times,serif\" font-size=\"14.00\"> </text>\n<polyline fill=\"none\" stroke=\"black\" points=\"1402,-81.5 1402,-117.5 \"/>\n<text text-anchor=\"middle\" x=\"1442\" y=\"-95.8\" font-family=\"Times,serif\" font-size=\"14.00\">data 1.7627</text>\n<polyline fill=\"none\" stroke=\"black\" points=\"1482,-81.5 1482,-117.5 \"/>\n<text text-anchor=\"middle\" x=\"1523\" y=\"-95.8\" font-family=\"Times,serif\" font-size=\"14.00\">grad 0.2500</text>\n</g>\n<!-- 140232165802144exp -->\n<g id=\"node13\" class=\"node\">\n<title>140232165802144exp</title>\n<ellipse fill=\"none\" stroke=\"black\" cx=\"1627\" cy=\"-99.5\" rx=\"27\" ry=\"18\"/>\n<text text-anchor=\"middle\" x=\"1627\" y=\"-95.8\" font-family=\"Times,serif\" font-size=\"14.00\">exp</text>\n</g>\n<!-- 140232165804592&#45;&gt;140232165802144exp -->\n<g id=\"edge22\" class=\"edge\">\n<title>140232165804592&#45;&gt;140232165802144exp</title>\n<path fill=\"none\" stroke=\"black\" d=\"M1564.18,-99.5C1573.14,-99.5 1581.83,-99.5 1589.73,-99.5\"/>\n<polygon fill=\"black\" stroke=\"black\" points=\"1589.96,-103 1599.96,-99.5 1589.96,-96 1589.96,-103\"/>\n</g>\n<!-- 140232165804592*&#45;&gt;140232165804592 -->\n<g id=\"edge2\" class=\"edge\">\n<title>140232165804592*&#45;&gt;140232165804592</title>\n<path fill=\"none\" stroke=\"black\" d=\"M1346.13,-99.5C1353.67,-99.5 1362.39,-99.5 1371.64,-99.5\"/>\n<polygon fill=\"black\" stroke=\"black\" points=\"1371.87,-103 1381.87,-99.5 1371.87,-96 1371.87,-103\"/>\n</g>\n<!-- 140232165805120 -->\n<g id=\"node5\" class=\"node\">\n<title>140232165805120</title>\n<polygon fill=\"none\" stroke=\"black\" points=\"1071,-109.5 1071,-145.5 1256,-145.5 1256,-109.5 1071,-109.5\"/>\n<text text-anchor=\"middle\" x=\"1082.5\" y=\"-123.8\" font-family=\"Times,serif\" font-size=\"14.00\">2</text>\n<polyline fill=\"none\" stroke=\"black\" points=\"1094,-109.5 1094,-145.5 \"/>\n<text text-anchor=\"middle\" x=\"1134\" y=\"-123.8\" font-family=\"Times,serif\" font-size=\"14.00\">data 2.0000</text>\n<polyline fill=\"none\" stroke=\"black\" points=\"1174,-109.5 1174,-145.5 \"/>\n<text text-anchor=\"middle\" x=\"1215\" y=\"-123.8\" font-family=\"Times,serif\" font-size=\"14.00\">grad 0.2203</text>\n</g>\n<!-- 140232165805120&#45;&gt;140232165804592* -->\n<g id=\"edge27\" class=\"edge\">\n<title>140232165805120&#45;&gt;140232165804592*</title>\n<path fill=\"none\" stroke=\"black\" d=\"M1256.01,-110.81C1265.49,-109.08 1274.66,-107.41 1282.9,-105.9\"/>\n<polygon fill=\"black\" stroke=\"black\" points=\"1283.6,-109.33 1292.81,-104.09 1282.35,-102.45 1283.6,-109.33\"/>\n</g>\n<!-- 140232165805648 -->\n<g id=\"node6\" class=\"node\">\n<title>140232165805648</title>\n<polygon fill=\"none\" stroke=\"black\" points=\"1690,-26.5 1690,-62.5 1885,-62.5 1885,-26.5 1690,-26.5\"/>\n<text text-anchor=\"middle\" x=\"1704\" y=\"-40.8\" font-family=\"Times,serif\" font-size=\"14.00\">&#45;1</text>\n<polyline fill=\"none\" stroke=\"black\" points=\"1718,-26.5 1718,-62.5 \"/>\n<text text-anchor=\"middle\" x=\"1760.5\" y=\"-40.8\" font-family=\"Times,serif\" font-size=\"14.00\">data &#45;1.0000</text>\n<polyline fill=\"none\" stroke=\"black\" points=\"1803,-26.5 1803,-62.5 \"/>\n<text text-anchor=\"middle\" x=\"1844\" y=\"-40.8\" font-family=\"Times,serif\" font-size=\"14.00\">grad 0.1464</text>\n</g>\n<!-- 140232165804640+ -->\n<g id=\"node8\" class=\"node\">\n<title>140232165804640+</title>\n<ellipse fill=\"none\" stroke=\"black\" cx=\"1948\" cy=\"-71.5\" rx=\"27\" ry=\"18\"/>\n<text text-anchor=\"middle\" x=\"1948\" y=\"-67.8\" font-family=\"Times,serif\" font-size=\"14.00\">+</text>\n</g>\n<!-- 140232165805648&#45;&gt;140232165804640+ -->\n<g id=\"edge19\" class=\"edge\">\n<title>140232165805648&#45;&gt;140232165804640+</title>\n<path fill=\"none\" stroke=\"black\" d=\"M1885.27,-60.98C1894.59,-62.57 1903.57,-64.1 1911.66,-65.48\"/>\n<polygon fill=\"black\" stroke=\"black\" points=\"1911.29,-68.97 1921.73,-67.2 1912.46,-62.07 1911.29,-68.97\"/>\n</g>\n<!-- 140232165804640 -->\n<g id=\"node7\" class=\"node\">\n<title>140232165804640</title>\n<polygon fill=\"none\" stroke=\"black\" points=\"2233,-53.5 2233,-89.5 2415,-89.5 2415,-53.5 2233,-53.5\"/>\n<text text-anchor=\"middle\" x=\"2243\" y=\"-67.8\" font-family=\"Times,serif\" font-size=\"14.00\"> </text>\n<polyline fill=\"none\" stroke=\"black\" points=\"2253,-53.5 2253,-89.5 \"/>\n<text text-anchor=\"middle\" x=\"2293\" y=\"-67.8\" font-family=\"Times,serif\" font-size=\"14.00\">data 4.8284</text>\n<polyline fill=\"none\" stroke=\"black\" points=\"2333,-53.5 2333,-89.5 \"/>\n<text text-anchor=\"middle\" x=\"2374\" y=\"-67.8\" font-family=\"Times,serif\" font-size=\"14.00\">grad 0.1464</text>\n</g>\n<!-- 140232165955760* -->\n<g id=\"node15\" class=\"node\">\n<title>140232165955760*</title>\n<ellipse fill=\"none\" stroke=\"black\" cx=\"2696\" cy=\"-98.5\" rx=\"27\" ry=\"18\"/>\n<text text-anchor=\"middle\" x=\"2696\" y=\"-94.8\" font-family=\"Times,serif\" font-size=\"14.00\">*</text>\n</g>\n<!-- 140232165804640&#45;&gt;140232165955760* -->\n<g id=\"edge25\" class=\"edge\">\n<title>140232165804640&#45;&gt;140232165955760*</title>\n<path fill=\"none\" stroke=\"black\" d=\"M2415.04,-78.07C2493.41,-83.79 2602.98,-91.79 2658.96,-95.87\"/>\n<polygon fill=\"black\" stroke=\"black\" points=\"2658.87,-99.37 2669.1,-96.61 2659.38,-92.39 2658.87,-99.37\"/>\n</g>\n<!-- 140232165804640+&#45;&gt;140232165804640 -->\n<g id=\"edge3\" class=\"edge\">\n<title>140232165804640+&#45;&gt;140232165804640</title>\n<path fill=\"none\" stroke=\"black\" d=\"M1975,-71.5C2025.46,-71.5 2139.06,-71.5 2222.81,-71.5\"/>\n<polygon fill=\"black\" stroke=\"black\" points=\"2222.87,-75 2232.87,-71.5 2222.87,-68 2222.87,-75\"/>\n</g>\n<!-- 140232165953936 -->\n<g id=\"node9\" class=\"node\">\n<title>140232165953936</title>\n<polygon fill=\"none\" stroke=\"black\" points=\"2011,-108.5 2011,-144.5 2197,-144.5 2197,-108.5 2011,-108.5\"/>\n<text text-anchor=\"middle\" x=\"2021\" y=\"-122.8\" font-family=\"Times,serif\" font-size=\"14.00\"> </text>\n<polyline fill=\"none\" stroke=\"black\" points=\"2031,-108.5 2031,-144.5 \"/>\n<text text-anchor=\"middle\" x=\"2071\" y=\"-122.8\" font-family=\"Times,serif\" font-size=\"14.00\">data 6.8284</text>\n<polyline fill=\"none\" stroke=\"black\" points=\"2111,-108.5 2111,-144.5 \"/>\n<text text-anchor=\"middle\" x=\"2154\" y=\"-122.8\" font-family=\"Times,serif\" font-size=\"14.00\">grad &#45;0.1036</text>\n</g>\n<!-- 140232165953888**&#45;1 -->\n<g id=\"node22\" class=\"node\">\n<title>140232165953888**&#45;1</title>\n<ellipse fill=\"none\" stroke=\"black\" cx=\"2324\" cy=\"-126.5\" rx=\"27\" ry=\"18\"/>\n<text text-anchor=\"middle\" x=\"2324\" y=\"-122.8\" font-family=\"Times,serif\" font-size=\"14.00\">**&#45;1</text>\n</g>\n<!-- 140232165953936&#45;&gt;140232165953888**&#45;1 -->\n<g id=\"edge18\" class=\"edge\">\n<title>140232165953936&#45;&gt;140232165953888**&#45;1</title>\n<path fill=\"none\" stroke=\"black\" d=\"M2197.14,-126.5C2228.72,-126.5 2262.24,-126.5 2286.74,-126.5\"/>\n<polygon fill=\"black\" stroke=\"black\" points=\"2286.98,-130 2296.98,-126.5 2286.98,-123 2286.98,-130\"/>\n</g>\n<!-- 140232165953936+ -->\n<g id=\"node10\" class=\"node\">\n<title>140232165953936+</title>\n<ellipse fill=\"none\" stroke=\"black\" cx=\"1948\" cy=\"-126.5\" rx=\"27\" ry=\"18\"/>\n<text text-anchor=\"middle\" x=\"1948\" y=\"-122.8\" font-family=\"Times,serif\" font-size=\"14.00\">+</text>\n</g>\n<!-- 140232165953936+&#45;&gt;140232165953936 -->\n<g id=\"edge4\" class=\"edge\">\n<title>140232165953936+&#45;&gt;140232165953936</title>\n<path fill=\"none\" stroke=\"black\" d=\"M1975.12,-126.5C1982.62,-126.5 1991.29,-126.5 2000.5,-126.5\"/>\n<polygon fill=\"black\" stroke=\"black\" points=\"2000.69,-130 2010.69,-126.5 2000.69,-123 2000.69,-130\"/>\n</g>\n<!-- 140232165802624 -->\n<g id=\"node11\" class=\"node\">\n<title>140232165802624</title>\n<polygon fill=\"none\" stroke=\"black\" points=\"4,-55.5 4,-91.5 196,-91.5 196,-55.5 4,-55.5\"/>\n<text text-anchor=\"middle\" x=\"19\" y=\"-69.8\" font-family=\"Times,serif\" font-size=\"14.00\">x2</text>\n<polyline fill=\"none\" stroke=\"black\" points=\"34,-55.5 34,-91.5 \"/>\n<text text-anchor=\"middle\" x=\"74\" y=\"-69.8\" font-family=\"Times,serif\" font-size=\"14.00\">data 0.0000</text>\n<polyline fill=\"none\" stroke=\"black\" points=\"114,-55.5 114,-91.5 \"/>\n<text text-anchor=\"middle\" x=\"155\" y=\"-69.8\" font-family=\"Times,serif\" font-size=\"14.00\">grad 0.5000</text>\n</g>\n<!-- 140232165802960* -->\n<g id=\"node28\" class=\"node\">\n<title>140232165802960*</title>\n<ellipse fill=\"none\" stroke=\"black\" cx=\"263\" cy=\"-73.5\" rx=\"27\" ry=\"18\"/>\n<text text-anchor=\"middle\" x=\"263\" y=\"-69.8\" font-family=\"Times,serif\" font-size=\"14.00\">*</text>\n</g>\n<!-- 140232165802624&#45;&gt;140232165802960* -->\n<g id=\"edge21\" class=\"edge\">\n<title>140232165802624&#45;&gt;140232165802960*</title>\n<path fill=\"none\" stroke=\"black\" d=\"M196.05,-73.5C206.52,-73.5 216.65,-73.5 225.71,-73.5\"/>\n<polygon fill=\"black\" stroke=\"black\" points=\"225.79,-77 235.79,-73.5 225.79,-70 225.79,-77\"/>\n</g>\n<!-- 140232165802144 -->\n<g id=\"node12\" class=\"node\">\n<title>140232165802144</title>\n<polygon fill=\"none\" stroke=\"black\" points=\"1695,-81.5 1695,-117.5 1880,-117.5 1880,-81.5 1695,-81.5\"/>\n<text text-anchor=\"middle\" x=\"1706.5\" y=\"-95.8\" font-family=\"Times,serif\" font-size=\"14.00\">e</text>\n<polyline fill=\"none\" stroke=\"black\" points=\"1718,-81.5 1718,-117.5 \"/>\n<text text-anchor=\"middle\" x=\"1758\" y=\"-95.8\" font-family=\"Times,serif\" font-size=\"14.00\">data 5.8284</text>\n<polyline fill=\"none\" stroke=\"black\" points=\"1798,-81.5 1798,-117.5 \"/>\n<text text-anchor=\"middle\" x=\"1839\" y=\"-95.8\" font-family=\"Times,serif\" font-size=\"14.00\">grad 0.0429</text>\n</g>\n<!-- 140232165802144&#45;&gt;140232165804640+ -->\n<g id=\"edge28\" class=\"edge\">\n<title>140232165802144&#45;&gt;140232165804640+</title>\n<path fill=\"none\" stroke=\"black\" d=\"M1880.24,-83.29C1891.28,-81.34 1901.99,-79.45 1911.49,-77.77\"/>\n<polygon fill=\"black\" stroke=\"black\" points=\"1912.4,-81.17 1921.64,-75.98 1911.18,-74.27 1912.4,-81.17\"/>\n</g>\n<!-- 140232165802144&#45;&gt;140232165953936+ -->\n<g id=\"edge16\" class=\"edge\">\n<title>140232165802144&#45;&gt;140232165953936+</title>\n<path fill=\"none\" stroke=\"black\" d=\"M1880.24,-115.13C1891.28,-117.01 1901.99,-118.83 1911.49,-120.45\"/>\n<polygon fill=\"black\" stroke=\"black\" points=\"1911.19,-123.95 1921.64,-122.18 1912.37,-117.05 1911.19,-123.95\"/>\n</g>\n<!-- 140232165802144exp&#45;&gt;140232165802144 -->\n<g id=\"edge5\" class=\"edge\">\n<title>140232165802144exp&#45;&gt;140232165802144</title>\n<path fill=\"none\" stroke=\"black\" d=\"M1654.17,-99.5C1662.99,-99.5 1673.43,-99.5 1684.52,-99.5\"/>\n<polygon fill=\"black\" stroke=\"black\" points=\"1684.86,-103 1694.86,-99.5 1684.86,-96 1684.86,-103\"/>\n</g>\n<!-- 140232165955760 -->\n<g id=\"node14\" class=\"node\">\n<title>140232165955760</title>\n<polygon fill=\"none\" stroke=\"black\" points=\"2759,-80.5 2759,-116.5 2944,-116.5 2944,-80.5 2759,-80.5\"/>\n<text text-anchor=\"middle\" x=\"2770.5\" y=\"-94.8\" font-family=\"Times,serif\" font-size=\"14.00\">o</text>\n<polyline fill=\"none\" stroke=\"black\" points=\"2782,-80.5 2782,-116.5 \"/>\n<text text-anchor=\"middle\" x=\"2822\" y=\"-94.8\" font-family=\"Times,serif\" font-size=\"14.00\">data 0.7071</text>\n<polyline fill=\"none\" stroke=\"black\" points=\"2862,-80.5 2862,-116.5 \"/>\n<text text-anchor=\"middle\" x=\"2903\" y=\"-94.8\" font-family=\"Times,serif\" font-size=\"14.00\">grad 1.0000</text>\n</g>\n<!-- 140232165955760*&#45;&gt;140232165955760 -->\n<g id=\"edge6\" class=\"edge\">\n<title>140232165955760*&#45;&gt;140232165955760</title>\n<path fill=\"none\" stroke=\"black\" d=\"M2723.04,-98.5C2730.58,-98.5 2739.3,-98.5 2748.57,-98.5\"/>\n<polygon fill=\"black\" stroke=\"black\" points=\"2748.81,-102 2758.81,-98.5 2748.81,-95 2748.81,-102\"/>\n</g>\n<!-- 140232165802672 -->\n<g id=\"node16\" class=\"node\">\n<title>140232165802672</title>\n<polygon fill=\"none\" stroke=\"black\" points=\"0,-165.5 0,-201.5 200,-201.5 200,-165.5 0,-165.5\"/>\n<text text-anchor=\"middle\" x=\"16.5\" y=\"-179.8\" font-family=\"Times,serif\" font-size=\"14.00\">w1</text>\n<polyline fill=\"none\" stroke=\"black\" points=\"33,-165.5 33,-201.5 \"/>\n<text text-anchor=\"middle\" x=\"75.5\" y=\"-179.8\" font-family=\"Times,serif\" font-size=\"14.00\">data &#45;3.0000</text>\n<polyline fill=\"none\" stroke=\"black\" points=\"118,-165.5 118,-201.5 \"/>\n<text text-anchor=\"middle\" x=\"159\" y=\"-179.8\" font-family=\"Times,serif\" font-size=\"14.00\">grad 1.0000</text>\n</g>\n<!-- 140232165806032* -->\n<g id=\"node25\" class=\"node\">\n<title>140232165806032*</title>\n<ellipse fill=\"none\" stroke=\"black\" cx=\"263\" cy=\"-128.5\" rx=\"27\" ry=\"18\"/>\n<text text-anchor=\"middle\" x=\"263\" y=\"-124.8\" font-family=\"Times,serif\" font-size=\"14.00\">*</text>\n</g>\n<!-- 140232165802672&#45;&gt;140232165806032* -->\n<g id=\"edge24\" class=\"edge\">\n<title>140232165802672&#45;&gt;140232165806032*</title>\n<path fill=\"none\" stroke=\"black\" d=\"M172.53,-165.44C181.84,-162.67 191.2,-159.67 200,-156.5 210.53,-152.71 221.75,-147.9 231.72,-143.33\"/>\n<polygon fill=\"black\" stroke=\"black\" points=\"233.25,-146.48 240.82,-139.07 230.28,-140.14 233.25,-146.48\"/>\n</g>\n<!-- 140232165805792 -->\n<g id=\"node17\" class=\"node\">\n<title>140232165805792</title>\n<polygon fill=\"none\" stroke=\"black\" points=\"2,-110.5 2,-146.5 198,-146.5 198,-110.5 2,-110.5\"/>\n<text text-anchor=\"middle\" x=\"17\" y=\"-124.8\" font-family=\"Times,serif\" font-size=\"14.00\">x1</text>\n<polyline fill=\"none\" stroke=\"black\" points=\"32,-110.5 32,-146.5 \"/>\n<text text-anchor=\"middle\" x=\"72\" y=\"-124.8\" font-family=\"Times,serif\" font-size=\"14.00\">data 2.0000</text>\n<polyline fill=\"none\" stroke=\"black\" points=\"112,-110.5 112,-146.5 \"/>\n<text text-anchor=\"middle\" x=\"155\" y=\"-124.8\" font-family=\"Times,serif\" font-size=\"14.00\">grad &#45;1.5000</text>\n</g>\n<!-- 140232165805792&#45;&gt;140232165806032* -->\n<g id=\"edge17\" class=\"edge\">\n<title>140232165805792&#45;&gt;140232165806032*</title>\n<path fill=\"none\" stroke=\"black\" d=\"M198.37,-128.5C208.05,-128.5 217.4,-128.5 225.8,-128.5\"/>\n<polygon fill=\"black\" stroke=\"black\" points=\"225.91,-132 235.91,-128.5 225.91,-125 225.91,-132\"/>\n</g>\n<!-- 140232165803248 -->\n<g id=\"node18\" class=\"node\">\n<title>140232165803248</title>\n<polygon fill=\"none\" stroke=\"black\" points=\"2.5,-0.5 2.5,-36.5 197.5,-36.5 197.5,-0.5 2.5,-0.5\"/>\n<text text-anchor=\"middle\" x=\"19\" y=\"-14.8\" font-family=\"Times,serif\" font-size=\"14.00\">w2</text>\n<polyline fill=\"none\" stroke=\"black\" points=\"35.5,-0.5 35.5,-36.5 \"/>\n<text text-anchor=\"middle\" x=\"75.5\" y=\"-14.8\" font-family=\"Times,serif\" font-size=\"14.00\">data 1.0000</text>\n<polyline fill=\"none\" stroke=\"black\" points=\"115.5,-0.5 115.5,-36.5 \"/>\n<text text-anchor=\"middle\" x=\"156.5\" y=\"-14.8\" font-family=\"Times,serif\" font-size=\"14.00\">grad 0.0000</text>\n</g>\n<!-- 140232165803248&#45;&gt;140232165802960* -->\n<g id=\"edge26\" class=\"edge\">\n<title>140232165803248&#45;&gt;140232165802960*</title>\n<path fill=\"none\" stroke=\"black\" d=\"M172.53,-36.56C181.84,-39.33 191.2,-42.33 200,-45.5 210.53,-49.29 221.75,-54.1 231.72,-58.67\"/>\n<polygon fill=\"black\" stroke=\"black\" points=\"230.28,-61.86 240.82,-62.93 233.25,-55.52 230.28,-61.86\"/>\n</g>\n<!-- 140232165804880 -->\n<g id=\"node19\" class=\"node\">\n<title>140232165804880</title>\n<polygon fill=\"none\" stroke=\"black\" points=\"672,-82.5 672,-118.5 945,-118.5 945,-82.5 672,-82.5\"/>\n<text text-anchor=\"middle\" x=\"725\" y=\"-96.8\" font-family=\"Times,serif\" font-size=\"14.00\">x1*w1 + x2*w2</text>\n<polyline fill=\"none\" stroke=\"black\" points=\"778,-82.5 778,-118.5 \"/>\n<text text-anchor=\"middle\" x=\"820.5\" y=\"-96.8\" font-family=\"Times,serif\" font-size=\"14.00\">data &#45;6.0000</text>\n<polyline fill=\"none\" stroke=\"black\" points=\"863,-82.5 863,-118.5 \"/>\n<text text-anchor=\"middle\" x=\"904\" y=\"-96.8\" font-family=\"Times,serif\" font-size=\"14.00\">grad 0.5000</text>\n</g>\n<!-- 140232165804880&#45;&gt;140232165805072+ -->\n<g id=\"edge23\" class=\"edge\">\n<title>140232165804880&#45;&gt;140232165805072+</title>\n<path fill=\"none\" stroke=\"black\" d=\"M936.53,-82.49C949.09,-80.71 960.99,-79.02 971.3,-77.56\"/>\n<polygon fill=\"black\" stroke=\"black\" points=\"972.03,-80.99 981.44,-76.12 971.05,-74.06 972.03,-80.99\"/>\n</g>\n<!-- 140232165804880+ -->\n<g id=\"node20\" class=\"node\">\n<title>140232165804880+</title>\n<ellipse fill=\"none\" stroke=\"black\" cx=\"609\" cy=\"-100.5\" rx=\"27\" ry=\"18\"/>\n<text text-anchor=\"middle\" x=\"609\" y=\"-96.8\" font-family=\"Times,serif\" font-size=\"14.00\">+</text>\n</g>\n<!-- 140232165804880+&#45;&gt;140232165804880 -->\n<g id=\"edge7\" class=\"edge\">\n<title>140232165804880+&#45;&gt;140232165804880</title>\n<path fill=\"none\" stroke=\"black\" d=\"M636.23,-100.5C643.7,-100.5 652.41,-100.5 661.87,-100.5\"/>\n<polygon fill=\"black\" stroke=\"black\" points=\"661.98,-104 671.98,-100.5 661.98,-97 661.98,-104\"/>\n</g>\n<!-- 140232165953888 -->\n<g id=\"node21\" class=\"node\">\n<title>140232165953888</title>\n<polygon fill=\"none\" stroke=\"black\" points=\"2451,-106.5 2451,-142.5 2633,-142.5 2633,-106.5 2451,-106.5\"/>\n<text text-anchor=\"middle\" x=\"2461\" y=\"-120.8\" font-family=\"Times,serif\" font-size=\"14.00\"> </text>\n<polyline fill=\"none\" stroke=\"black\" points=\"2471,-106.5 2471,-142.5 \"/>\n<text text-anchor=\"middle\" x=\"2511\" y=\"-120.8\" font-family=\"Times,serif\" font-size=\"14.00\">data 0.1464</text>\n<polyline fill=\"none\" stroke=\"black\" points=\"2551,-106.5 2551,-142.5 \"/>\n<text text-anchor=\"middle\" x=\"2592\" y=\"-120.8\" font-family=\"Times,serif\" font-size=\"14.00\">grad 4.8284</text>\n</g>\n<!-- 140232165953888&#45;&gt;140232165955760* -->\n<g id=\"edge15\" class=\"edge\">\n<title>140232165953888&#45;&gt;140232165955760*</title>\n<path fill=\"none\" stroke=\"black\" d=\"M2633.18,-109.08C2642.42,-107.49 2651.38,-105.96 2659.47,-104.58\"/>\n<polygon fill=\"black\" stroke=\"black\" points=\"2660.29,-107.99 2669.56,-102.85 2659.11,-101.09 2660.29,-107.99\"/>\n</g>\n<!-- 140232165953888**&#45;1&#45;&gt;140232165953888 -->\n<g id=\"edge8\" class=\"edge\">\n<title>140232165953888**&#45;1&#45;&gt;140232165953888</title>\n<path fill=\"none\" stroke=\"black\" d=\"M2351.05,-126.26C2373.53,-126.05 2407.48,-125.74 2440.5,-125.43\"/>\n<polygon fill=\"black\" stroke=\"black\" points=\"2440.74,-128.93 2450.7,-125.34 2440.67,-121.93 2440.74,-128.93\"/>\n</g>\n<!-- 140232165955952 -->\n<g id=\"node23\" class=\"node\">\n<title>140232165955952</title>\n<polygon fill=\"none\" stroke=\"black\" points=\"1693,-136.5 1693,-172.5 1882,-172.5 1882,-136.5 1693,-136.5\"/>\n<text text-anchor=\"middle\" x=\"1704.5\" y=\"-150.8\" font-family=\"Times,serif\" font-size=\"14.00\">1</text>\n<polyline fill=\"none\" stroke=\"black\" points=\"1716,-136.5 1716,-172.5 \"/>\n<text text-anchor=\"middle\" x=\"1756\" y=\"-150.8\" font-family=\"Times,serif\" font-size=\"14.00\">data 1.0000</text>\n<polyline fill=\"none\" stroke=\"black\" points=\"1796,-136.5 1796,-172.5 \"/>\n<text text-anchor=\"middle\" x=\"1839\" y=\"-150.8\" font-family=\"Times,serif\" font-size=\"14.00\">grad &#45;0.1036</text>\n</g>\n<!-- 140232165955952&#45;&gt;140232165953936+ -->\n<g id=\"edge20\" class=\"edge\">\n<title>140232165955952&#45;&gt;140232165953936+</title>\n<path fill=\"none\" stroke=\"black\" d=\"M1882.07,-137.97C1892.58,-136.11 1902.73,-134.32 1911.77,-132.72\"/>\n<polygon fill=\"black\" stroke=\"black\" points=\"1912.58,-136.14 1921.82,-130.95 1911.36,-129.24 1912.58,-136.14\"/>\n</g>\n<!-- 140232165806032 -->\n<g id=\"node24\" class=\"node\">\n<title>140232165806032</title>\n<polygon fill=\"none\" stroke=\"black\" points=\"326,-110.5 326,-146.5 546,-146.5 546,-110.5 326,-110.5\"/>\n<text text-anchor=\"middle\" x=\"352.5\" y=\"-124.8\" font-family=\"Times,serif\" font-size=\"14.00\">x1*w1</text>\n<polyline fill=\"none\" stroke=\"black\" points=\"379,-110.5 379,-146.5 \"/>\n<text text-anchor=\"middle\" x=\"421.5\" y=\"-124.8\" font-family=\"Times,serif\" font-size=\"14.00\">data &#45;6.0000</text>\n<polyline fill=\"none\" stroke=\"black\" points=\"464,-110.5 464,-146.5 \"/>\n<text text-anchor=\"middle\" x=\"505\" y=\"-124.8\" font-family=\"Times,serif\" font-size=\"14.00\">grad 0.5000</text>\n</g>\n<!-- 140232165806032&#45;&gt;140232165804880+ -->\n<g id=\"edge11\" class=\"edge\">\n<title>140232165806032&#45;&gt;140232165804880+</title>\n<path fill=\"none\" stroke=\"black\" d=\"M546.27,-110.61C555.64,-109.07 564.6,-107.61 572.65,-106.29\"/>\n<polygon fill=\"black\" stroke=\"black\" points=\"573.35,-109.72 582.65,-104.65 572.22,-102.81 573.35,-109.72\"/>\n</g>\n<!-- 140232165806032*&#45;&gt;140232165806032 -->\n<g id=\"edge9\" class=\"edge\">\n<title>140232165806032*&#45;&gt;140232165806032</title>\n<path fill=\"none\" stroke=\"black\" d=\"M290.34,-128.5C297.77,-128.5 306.37,-128.5 315.6,-128.5\"/>\n<polygon fill=\"black\" stroke=\"black\" points=\"315.84,-132 325.84,-128.5 315.84,-125 315.84,-132\"/>\n</g>\n<!-- 140232165802912 -->\n<g id=\"node26\" class=\"node\">\n<title>140232165802912</title>\n<polygon fill=\"none\" stroke=\"black\" points=\"716,-27.5 716,-63.5 901,-63.5 901,-27.5 716,-27.5\"/>\n<text text-anchor=\"middle\" x=\"727.5\" y=\"-41.8\" font-family=\"Times,serif\" font-size=\"14.00\">b</text>\n<polyline fill=\"none\" stroke=\"black\" points=\"739,-27.5 739,-63.5 \"/>\n<text text-anchor=\"middle\" x=\"779\" y=\"-41.8\" font-family=\"Times,serif\" font-size=\"14.00\">data 6.8814</text>\n<polyline fill=\"none\" stroke=\"black\" points=\"819,-27.5 819,-63.5 \"/>\n<text text-anchor=\"middle\" x=\"860\" y=\"-41.8\" font-family=\"Times,serif\" font-size=\"14.00\">grad 0.5000</text>\n</g>\n<!-- 140232165802912&#45;&gt;140232165805072+ -->\n<g id=\"edge12\" class=\"edge\">\n<title>140232165802912&#45;&gt;140232165805072+</title>\n<path fill=\"none\" stroke=\"black\" d=\"M901.02,-58.01C926,-61.43 951.59,-64.93 971.37,-67.63\"/>\n<polygon fill=\"black\" stroke=\"black\" points=\"971.05,-71.12 981.43,-69.01 972,-64.18 971.05,-71.12\"/>\n</g>\n<!-- 140232165802960 -->\n<g id=\"node27\" class=\"node\">\n<title>140232165802960</title>\n<polygon fill=\"none\" stroke=\"black\" points=\"328.5,-55.5 328.5,-91.5 543.5,-91.5 543.5,-55.5 328.5,-55.5\"/>\n<text text-anchor=\"middle\" x=\"355\" y=\"-69.8\" font-family=\"Times,serif\" font-size=\"14.00\">x2*w2</text>\n<polyline fill=\"none\" stroke=\"black\" points=\"381.5,-55.5 381.5,-91.5 \"/>\n<text text-anchor=\"middle\" x=\"421.5\" y=\"-69.8\" font-family=\"Times,serif\" font-size=\"14.00\">data 0.0000</text>\n<polyline fill=\"none\" stroke=\"black\" points=\"461.5,-55.5 461.5,-91.5 \"/>\n<text text-anchor=\"middle\" x=\"502.5\" y=\"-69.8\" font-family=\"Times,serif\" font-size=\"14.00\">grad 0.5000</text>\n</g>\n<!-- 140232165802960&#45;&gt;140232165804880+ -->\n<g id=\"edge13\" class=\"edge\">\n<title>140232165802960&#45;&gt;140232165804880+</title>\n<path fill=\"none\" stroke=\"black\" d=\"M543.84,-90.37C554.01,-91.98 563.76,-93.51 572.44,-94.89\"/>\n<polygon fill=\"black\" stroke=\"black\" points=\"572.05,-98.37 582.47,-96.47 573.14,-91.45 572.05,-98.37\"/>\n</g>\n<!-- 140232165802960*&#45;&gt;140232165802960 -->\n<g id=\"edge10\" class=\"edge\">\n<title>140232165802960*&#45;&gt;140232165802960</title>\n<path fill=\"none\" stroke=\"black\" d=\"M290.34,-73.5C298.51,-73.5 308.08,-73.5 318.36,-73.5\"/>\n<polygon fill=\"black\" stroke=\"black\" points=\"318.39,-77 328.39,-73.5 318.39,-70 318.39,-77\"/>\n</g>\n</g>\n</svg>\n"
          },
          "metadata": {},
          "execution_count": 141
        }
      ]
    },
    {
      "cell_type": "code",
      "source": [
        "o = build_graph_tanh()\n",
        "o.backward()\n",
        "draw_dot(o)"
      ],
      "metadata": {
        "colab": {
          "base_uri": "https://localhost:8080/",
          "height": 360
        },
        "id": "aaAthC04Mo-e",
        "outputId": "92414ab4-dfad-4d30-e8e7-8e8a42dffeb3"
      },
      "execution_count": 142,
      "outputs": [
        {
          "output_type": "execute_result",
          "data": {
            "text/plain": [
              "<graphviz.dot.Digraph at 0x7f8a58701ac0>"
            ],
            "image/svg+xml": "<?xml version=\"1.0\" encoding=\"UTF-8\" standalone=\"no\"?>\n<!DOCTYPE svg PUBLIC \"-//W3C//DTD SVG 1.1//EN\"\n \"http://www.w3.org/Graphics/SVG/1.1/DTD/svg11.dtd\">\n<!-- Generated by graphviz version 2.43.0 (0)\n -->\n<!-- Title: %3 Pages: 1 -->\n<svg width=\"2952pt\" height=\"239pt\"\n viewBox=\"0.00 0.00 2952.00 239.00\" xmlns=\"http://www.w3.org/2000/svg\" xmlns:xlink=\"http://www.w3.org/1999/xlink\">\n<g id=\"graph0\" class=\"graph\" transform=\"scale(1 1) rotate(0) translate(4 235)\">\n<title>%3</title>\n<polygon fill=\"white\" stroke=\"transparent\" points=\"-4,4 -4,-235 2948,-235 2948,4 -4,4\"/>\n<!-- 140232165957152 -->\n<g id=\"node1\" class=\"node\">\n<title>140232165957152</title>\n<polygon fill=\"none\" stroke=\"black\" points=\"2.5,-194.5 2.5,-230.5 197.5,-230.5 197.5,-194.5 2.5,-194.5\"/>\n<text text-anchor=\"middle\" x=\"19\" y=\"-208.8\" font-family=\"Times,serif\" font-size=\"14.00\">w2</text>\n<polyline fill=\"none\" stroke=\"black\" points=\"35.5,-194.5 35.5,-230.5 \"/>\n<text text-anchor=\"middle\" x=\"75.5\" y=\"-208.8\" font-family=\"Times,serif\" font-size=\"14.00\">data 1.0000</text>\n<polyline fill=\"none\" stroke=\"black\" points=\"115.5,-194.5 115.5,-230.5 \"/>\n<text text-anchor=\"middle\" x=\"156.5\" y=\"-208.8\" font-family=\"Times,serif\" font-size=\"14.00\">grad 0.0000</text>\n</g>\n<!-- 140232165955184* -->\n<g id=\"node13\" class=\"node\">\n<title>140232165955184*</title>\n<ellipse fill=\"none\" stroke=\"black\" cx=\"263\" cy=\"-157.5\" rx=\"27\" ry=\"18\"/>\n<text text-anchor=\"middle\" x=\"263\" y=\"-153.8\" font-family=\"Times,serif\" font-size=\"14.00\">*</text>\n</g>\n<!-- 140232165957152&#45;&gt;140232165955184* -->\n<g id=\"edge21\" class=\"edge\">\n<title>140232165957152&#45;&gt;140232165955184*</title>\n<path fill=\"none\" stroke=\"black\" d=\"M172.53,-194.44C181.84,-191.67 191.2,-188.67 200,-185.5 210.53,-181.71 221.75,-176.9 231.72,-172.33\"/>\n<polygon fill=\"black\" stroke=\"black\" points=\"233.25,-175.48 240.82,-168.07 230.28,-169.14 233.25,-175.48\"/>\n</g>\n<!-- 140232165954608 -->\n<g id=\"node2\" class=\"node\">\n<title>140232165954608</title>\n<polygon fill=\"none\" stroke=\"black\" points=\"672,-111.5 672,-147.5 945,-147.5 945,-111.5 672,-111.5\"/>\n<text text-anchor=\"middle\" x=\"725\" y=\"-125.8\" font-family=\"Times,serif\" font-size=\"14.00\">x1*w1 + x2*w2</text>\n<polyline fill=\"none\" stroke=\"black\" points=\"778,-111.5 778,-147.5 \"/>\n<text text-anchor=\"middle\" x=\"820.5\" y=\"-125.8\" font-family=\"Times,serif\" font-size=\"14.00\">data &#45;6.0000</text>\n<polyline fill=\"none\" stroke=\"black\" points=\"863,-111.5 863,-147.5 \"/>\n<text text-anchor=\"middle\" x=\"904\" y=\"-125.8\" font-family=\"Times,serif\" font-size=\"14.00\">grad 0.5000</text>\n</g>\n<!-- 140232165955712+ -->\n<g id=\"node11\" class=\"node\">\n<title>140232165955712+</title>\n<ellipse fill=\"none\" stroke=\"black\" cx=\"1008\" cy=\"-101.5\" rx=\"27\" ry=\"18\"/>\n<text text-anchor=\"middle\" x=\"1008\" y=\"-97.8\" font-family=\"Times,serif\" font-size=\"14.00\">+</text>\n</g>\n<!-- 140232165954608&#45;&gt;140232165955712+ -->\n<g id=\"edge12\" class=\"edge\">\n<title>140232165954608&#45;&gt;140232165955712+</title>\n<path fill=\"none\" stroke=\"black\" d=\"M936.53,-111.49C949.09,-109.71 960.99,-108.02 971.3,-106.56\"/>\n<polygon fill=\"black\" stroke=\"black\" points=\"972.03,-109.99 981.44,-105.12 971.05,-103.06 972.03,-109.99\"/>\n</g>\n<!-- 140232165954608+ -->\n<g id=\"node3\" class=\"node\">\n<title>140232165954608+</title>\n<ellipse fill=\"none\" stroke=\"black\" cx=\"609\" cy=\"-129.5\" rx=\"27\" ry=\"18\"/>\n<text text-anchor=\"middle\" x=\"609\" y=\"-125.8\" font-family=\"Times,serif\" font-size=\"14.00\">+</text>\n</g>\n<!-- 140232165954608+&#45;&gt;140232165954608 -->\n<g id=\"edge1\" class=\"edge\">\n<title>140232165954608+&#45;&gt;140232165954608</title>\n<path fill=\"none\" stroke=\"black\" d=\"M636.23,-129.5C643.7,-129.5 652.41,-129.5 661.87,-129.5\"/>\n<polygon fill=\"black\" stroke=\"black\" points=\"661.98,-133 671.98,-129.5 661.98,-126 661.98,-133\"/>\n</g>\n<!-- 140232165956144 -->\n<g id=\"node4\" class=\"node\">\n<title>140232165956144</title>\n<polygon fill=\"none\" stroke=\"black\" points=\"0,-84.5 0,-120.5 200,-120.5 200,-84.5 0,-84.5\"/>\n<text text-anchor=\"middle\" x=\"16.5\" y=\"-98.8\" font-family=\"Times,serif\" font-size=\"14.00\">w1</text>\n<polyline fill=\"none\" stroke=\"black\" points=\"33,-84.5 33,-120.5 \"/>\n<text text-anchor=\"middle\" x=\"75.5\" y=\"-98.8\" font-family=\"Times,serif\" font-size=\"14.00\">data &#45;3.0000</text>\n<polyline fill=\"none\" stroke=\"black\" points=\"118,-84.5 118,-120.5 \"/>\n<text text-anchor=\"middle\" x=\"159\" y=\"-98.8\" font-family=\"Times,serif\" font-size=\"14.00\">grad 1.0000</text>\n</g>\n<!-- 140232165955376* -->\n<g id=\"node24\" class=\"node\">\n<title>140232165955376*</title>\n<ellipse fill=\"none\" stroke=\"black\" cx=\"263\" cy=\"-102.5\" rx=\"27\" ry=\"18\"/>\n<text text-anchor=\"middle\" x=\"263\" y=\"-98.8\" font-family=\"Times,serif\" font-size=\"14.00\">*</text>\n</g>\n<!-- 140232165956144&#45;&gt;140232165955376* -->\n<g id=\"edge20\" class=\"edge\">\n<title>140232165956144&#45;&gt;140232165955376*</title>\n<path fill=\"none\" stroke=\"black\" d=\"M200.21,-102.5C209.2,-102.5 217.86,-102.5 225.7,-102.5\"/>\n<polygon fill=\"black\" stroke=\"black\" points=\"225.85,-106 235.85,-102.5 225.85,-99 225.85,-106\"/>\n</g>\n<!-- 140232165957200 -->\n<g id=\"node5\" class=\"node\">\n<title>140232165957200</title>\n<polygon fill=\"none\" stroke=\"black\" points=\"2759,-54.5 2759,-90.5 2944,-90.5 2944,-54.5 2759,-54.5\"/>\n<text text-anchor=\"middle\" x=\"2770.5\" y=\"-68.8\" font-family=\"Times,serif\" font-size=\"14.00\">o</text>\n<polyline fill=\"none\" stroke=\"black\" points=\"2782,-54.5 2782,-90.5 \"/>\n<text text-anchor=\"middle\" x=\"2822\" y=\"-68.8\" font-family=\"Times,serif\" font-size=\"14.00\">data 0.7071</text>\n<polyline fill=\"none\" stroke=\"black\" points=\"2862,-54.5 2862,-90.5 \"/>\n<text text-anchor=\"middle\" x=\"2903\" y=\"-68.8\" font-family=\"Times,serif\" font-size=\"14.00\">grad 1.0000</text>\n</g>\n<!-- 140232165957200* -->\n<g id=\"node6\" class=\"node\">\n<title>140232165957200*</title>\n<ellipse fill=\"none\" stroke=\"black\" cx=\"2696\" cy=\"-72.5\" rx=\"27\" ry=\"18\"/>\n<text text-anchor=\"middle\" x=\"2696\" y=\"-68.8\" font-family=\"Times,serif\" font-size=\"14.00\">*</text>\n</g>\n<!-- 140232165957200*&#45;&gt;140232165957200 -->\n<g id=\"edge2\" class=\"edge\">\n<title>140232165957200*&#45;&gt;140232165957200</title>\n<path fill=\"none\" stroke=\"black\" d=\"M2723.04,-72.5C2730.58,-72.5 2739.3,-72.5 2748.57,-72.5\"/>\n<polygon fill=\"black\" stroke=\"black\" points=\"2748.81,-76 2758.81,-72.5 2748.81,-69 2748.81,-76\"/>\n</g>\n<!-- 140232165956192 -->\n<g id=\"node7\" class=\"node\">\n<title>140232165956192</title>\n<polygon fill=\"none\" stroke=\"black\" points=\"1695,-55.5 1695,-91.5 1880,-91.5 1880,-55.5 1695,-55.5\"/>\n<text text-anchor=\"middle\" x=\"1706.5\" y=\"-69.8\" font-family=\"Times,serif\" font-size=\"14.00\">e</text>\n<polyline fill=\"none\" stroke=\"black\" points=\"1718,-55.5 1718,-91.5 \"/>\n<text text-anchor=\"middle\" x=\"1758\" y=\"-69.8\" font-family=\"Times,serif\" font-size=\"14.00\">data 5.8284</text>\n<polyline fill=\"none\" stroke=\"black\" points=\"1798,-55.5 1798,-91.5 \"/>\n<text text-anchor=\"middle\" x=\"1839\" y=\"-69.8\" font-family=\"Times,serif\" font-size=\"14.00\">grad 0.0429</text>\n</g>\n<!-- 140232165956816+ -->\n<g id=\"node19\" class=\"node\">\n<title>140232165956816+</title>\n<ellipse fill=\"none\" stroke=\"black\" cx=\"1948\" cy=\"-100.5\" rx=\"27\" ry=\"18\"/>\n<text text-anchor=\"middle\" x=\"1948\" y=\"-96.8\" font-family=\"Times,serif\" font-size=\"14.00\">+</text>\n</g>\n<!-- 140232165956192&#45;&gt;140232165956816+ -->\n<g id=\"edge26\" class=\"edge\">\n<title>140232165956192&#45;&gt;140232165956816+</title>\n<path fill=\"none\" stroke=\"black\" d=\"M1880.24,-89.13C1891.28,-91.01 1901.99,-92.83 1911.49,-94.45\"/>\n<polygon fill=\"black\" stroke=\"black\" points=\"1911.19,-97.95 1921.64,-96.18 1912.37,-91.05 1911.19,-97.95\"/>\n</g>\n<!-- 140232165956384+ -->\n<g id=\"node22\" class=\"node\">\n<title>140232165956384+</title>\n<ellipse fill=\"none\" stroke=\"black\" cx=\"1948\" cy=\"-45.5\" rx=\"27\" ry=\"18\"/>\n<text text-anchor=\"middle\" x=\"1948\" y=\"-41.8\" font-family=\"Times,serif\" font-size=\"14.00\">+</text>\n</g>\n<!-- 140232165956192&#45;&gt;140232165956384+ -->\n<g id=\"edge11\" class=\"edge\">\n<title>140232165956192&#45;&gt;140232165956384+</title>\n<path fill=\"none\" stroke=\"black\" d=\"M1880.24,-57.29C1891.28,-55.34 1901.99,-53.45 1911.49,-51.77\"/>\n<polygon fill=\"black\" stroke=\"black\" points=\"1912.4,-55.17 1921.64,-49.98 1911.18,-48.27 1912.4,-55.17\"/>\n</g>\n<!-- 140232165956192exp -->\n<g id=\"node8\" class=\"node\">\n<title>140232165956192exp</title>\n<ellipse fill=\"none\" stroke=\"black\" cx=\"1627\" cy=\"-73.5\" rx=\"27\" ry=\"18\"/>\n<text text-anchor=\"middle\" x=\"1627\" y=\"-69.8\" font-family=\"Times,serif\" font-size=\"14.00\">exp</text>\n</g>\n<!-- 140232165956192exp&#45;&gt;140232165956192 -->\n<g id=\"edge3\" class=\"edge\">\n<title>140232165956192exp&#45;&gt;140232165956192</title>\n<path fill=\"none\" stroke=\"black\" d=\"M1654.17,-73.5C1662.99,-73.5 1673.43,-73.5 1684.52,-73.5\"/>\n<polygon fill=\"black\" stroke=\"black\" points=\"1684.86,-77 1694.86,-73.5 1684.86,-70 1684.86,-77\"/>\n</g>\n<!-- 140232166691936 -->\n<g id=\"node9\" class=\"node\">\n<title>140232166691936</title>\n<polygon fill=\"none\" stroke=\"black\" points=\"2,-29.5 2,-65.5 198,-65.5 198,-29.5 2,-29.5\"/>\n<text text-anchor=\"middle\" x=\"17\" y=\"-43.8\" font-family=\"Times,serif\" font-size=\"14.00\">x1</text>\n<polyline fill=\"none\" stroke=\"black\" points=\"32,-29.5 32,-65.5 \"/>\n<text text-anchor=\"middle\" x=\"72\" y=\"-43.8\" font-family=\"Times,serif\" font-size=\"14.00\">data 2.0000</text>\n<polyline fill=\"none\" stroke=\"black\" points=\"112,-29.5 112,-65.5 \"/>\n<text text-anchor=\"middle\" x=\"155\" y=\"-43.8\" font-family=\"Times,serif\" font-size=\"14.00\">grad &#45;1.5000</text>\n</g>\n<!-- 140232166691936&#45;&gt;140232165955376* -->\n<g id=\"edge13\" class=\"edge\">\n<title>140232166691936&#45;&gt;140232165955376*</title>\n<path fill=\"none\" stroke=\"black\" d=\"M169.28,-65.5C179.65,-68.61 190.16,-71.98 200,-75.5 210.28,-79.17 221.28,-83.74 231.11,-88.07\"/>\n<polygon fill=\"black\" stroke=\"black\" points=\"229.93,-91.37 240.48,-92.27 232.79,-84.99 229.93,-91.37\"/>\n</g>\n<!-- 140232165955712 -->\n<g id=\"node10\" class=\"node\">\n<title>140232165955712</title>\n<polygon fill=\"none\" stroke=\"black\" points=\"1071,-83.5 1071,-119.5 1256,-119.5 1256,-83.5 1071,-83.5\"/>\n<text text-anchor=\"middle\" x=\"1082.5\" y=\"-97.8\" font-family=\"Times,serif\" font-size=\"14.00\">n</text>\n<polyline fill=\"none\" stroke=\"black\" points=\"1094,-83.5 1094,-119.5 \"/>\n<text text-anchor=\"middle\" x=\"1134\" y=\"-97.8\" font-family=\"Times,serif\" font-size=\"14.00\">data 0.8814</text>\n<polyline fill=\"none\" stroke=\"black\" points=\"1174,-83.5 1174,-119.5 \"/>\n<text text-anchor=\"middle\" x=\"1215\" y=\"-97.8\" font-family=\"Times,serif\" font-size=\"14.00\">grad 0.5000</text>\n</g>\n<!-- 140232165953696* -->\n<g id=\"node15\" class=\"node\">\n<title>140232165953696*</title>\n<ellipse fill=\"none\" stroke=\"black\" cx=\"1319\" cy=\"-73.5\" rx=\"27\" ry=\"18\"/>\n<text text-anchor=\"middle\" x=\"1319\" y=\"-69.8\" font-family=\"Times,serif\" font-size=\"14.00\">*</text>\n</g>\n<!-- 140232165955712&#45;&gt;140232165953696* -->\n<g id=\"edge22\" class=\"edge\">\n<title>140232165955712&#45;&gt;140232165953696*</title>\n<path fill=\"none\" stroke=\"black\" d=\"M1256.01,-84.81C1265.49,-83.08 1274.66,-81.41 1282.9,-79.9\"/>\n<polygon fill=\"black\" stroke=\"black\" points=\"1283.6,-83.33 1292.81,-78.09 1282.35,-76.45 1283.6,-83.33\"/>\n</g>\n<!-- 140232165955712+&#45;&gt;140232165955712 -->\n<g id=\"edge4\" class=\"edge\">\n<title>140232165955712+&#45;&gt;140232165955712</title>\n<path fill=\"none\" stroke=\"black\" d=\"M1035.04,-101.5C1042.58,-101.5 1051.3,-101.5 1060.57,-101.5\"/>\n<polygon fill=\"black\" stroke=\"black\" points=\"1060.81,-105 1070.81,-101.5 1060.81,-98 1060.81,-105\"/>\n</g>\n<!-- 140232165955184 -->\n<g id=\"node12\" class=\"node\">\n<title>140232165955184</title>\n<polygon fill=\"none\" stroke=\"black\" points=\"328.5,-139.5 328.5,-175.5 543.5,-175.5 543.5,-139.5 328.5,-139.5\"/>\n<text text-anchor=\"middle\" x=\"355\" y=\"-153.8\" font-family=\"Times,serif\" font-size=\"14.00\">x2*w2</text>\n<polyline fill=\"none\" stroke=\"black\" points=\"381.5,-139.5 381.5,-175.5 \"/>\n<text text-anchor=\"middle\" x=\"421.5\" y=\"-153.8\" font-family=\"Times,serif\" font-size=\"14.00\">data 0.0000</text>\n<polyline fill=\"none\" stroke=\"black\" points=\"461.5,-139.5 461.5,-175.5 \"/>\n<text text-anchor=\"middle\" x=\"502.5\" y=\"-153.8\" font-family=\"Times,serif\" font-size=\"14.00\">grad 0.5000</text>\n</g>\n<!-- 140232165955184&#45;&gt;140232165954608+ -->\n<g id=\"edge18\" class=\"edge\">\n<title>140232165955184&#45;&gt;140232165954608+</title>\n<path fill=\"none\" stroke=\"black\" d=\"M543.84,-140.01C554.01,-138.34 563.76,-136.74 572.44,-135.32\"/>\n<polygon fill=\"black\" stroke=\"black\" points=\"573.17,-138.75 582.47,-133.68 572.04,-131.84 573.17,-138.75\"/>\n</g>\n<!-- 140232165955184*&#45;&gt;140232165955184 -->\n<g id=\"edge5\" class=\"edge\">\n<title>140232165955184*&#45;&gt;140232165955184</title>\n<path fill=\"none\" stroke=\"black\" d=\"M290.34,-157.5C298.51,-157.5 308.08,-157.5 318.36,-157.5\"/>\n<polygon fill=\"black\" stroke=\"black\" points=\"318.39,-161 328.39,-157.5 318.39,-154 318.39,-161\"/>\n</g>\n<!-- 140232165953696 -->\n<g id=\"node14\" class=\"node\">\n<title>140232165953696</title>\n<polygon fill=\"none\" stroke=\"black\" points=\"1382,-55.5 1382,-91.5 1564,-91.5 1564,-55.5 1382,-55.5\"/>\n<text text-anchor=\"middle\" x=\"1392\" y=\"-69.8\" font-family=\"Times,serif\" font-size=\"14.00\"> </text>\n<polyline fill=\"none\" stroke=\"black\" points=\"1402,-55.5 1402,-91.5 \"/>\n<text text-anchor=\"middle\" x=\"1442\" y=\"-69.8\" font-family=\"Times,serif\" font-size=\"14.00\">data 1.7627</text>\n<polyline fill=\"none\" stroke=\"black\" points=\"1482,-55.5 1482,-91.5 \"/>\n<text text-anchor=\"middle\" x=\"1523\" y=\"-69.8\" font-family=\"Times,serif\" font-size=\"14.00\">grad 0.2500</text>\n</g>\n<!-- 140232165953696&#45;&gt;140232165956192exp -->\n<g id=\"edge25\" class=\"edge\">\n<title>140232165953696&#45;&gt;140232165956192exp</title>\n<path fill=\"none\" stroke=\"black\" d=\"M1564.18,-73.5C1573.14,-73.5 1581.83,-73.5 1589.73,-73.5\"/>\n<polygon fill=\"black\" stroke=\"black\" points=\"1589.96,-77 1599.96,-73.5 1589.96,-70 1589.96,-77\"/>\n</g>\n<!-- 140232165953696*&#45;&gt;140232165953696 -->\n<g id=\"edge6\" class=\"edge\">\n<title>140232165953696*&#45;&gt;140232165953696</title>\n<path fill=\"none\" stroke=\"black\" d=\"M1346.13,-73.5C1353.67,-73.5 1362.39,-73.5 1371.64,-73.5\"/>\n<polygon fill=\"black\" stroke=\"black\" points=\"1371.87,-77 1381.87,-73.5 1371.87,-70 1371.87,-77\"/>\n</g>\n<!-- 140232166694576 -->\n<g id=\"node16\" class=\"node\">\n<title>140232166694576</title>\n<polygon fill=\"none\" stroke=\"black\" points=\"4,-139.5 4,-175.5 196,-175.5 196,-139.5 4,-139.5\"/>\n<text text-anchor=\"middle\" x=\"19\" y=\"-153.8\" font-family=\"Times,serif\" font-size=\"14.00\">x2</text>\n<polyline fill=\"none\" stroke=\"black\" points=\"34,-139.5 34,-175.5 \"/>\n<text text-anchor=\"middle\" x=\"74\" y=\"-153.8\" font-family=\"Times,serif\" font-size=\"14.00\">data 0.0000</text>\n<polyline fill=\"none\" stroke=\"black\" points=\"114,-139.5 114,-175.5 \"/>\n<text text-anchor=\"middle\" x=\"155\" y=\"-153.8\" font-family=\"Times,serif\" font-size=\"14.00\">grad 0.5000</text>\n</g>\n<!-- 140232166694576&#45;&gt;140232165955184* -->\n<g id=\"edge15\" class=\"edge\">\n<title>140232166694576&#45;&gt;140232165955184*</title>\n<path fill=\"none\" stroke=\"black\" d=\"M196.05,-157.5C206.52,-157.5 216.65,-157.5 225.71,-157.5\"/>\n<polygon fill=\"black\" stroke=\"black\" points=\"225.79,-161 235.79,-157.5 225.79,-154 225.79,-161\"/>\n</g>\n<!-- 140232165956672 -->\n<g id=\"node17\" class=\"node\">\n<title>140232165956672</title>\n<polygon fill=\"none\" stroke=\"black\" points=\"1693,-110.5 1693,-146.5 1882,-146.5 1882,-110.5 1693,-110.5\"/>\n<text text-anchor=\"middle\" x=\"1704.5\" y=\"-124.8\" font-family=\"Times,serif\" font-size=\"14.00\">1</text>\n<polyline fill=\"none\" stroke=\"black\" points=\"1716,-110.5 1716,-146.5 \"/>\n<text text-anchor=\"middle\" x=\"1756\" y=\"-124.8\" font-family=\"Times,serif\" font-size=\"14.00\">data 1.0000</text>\n<polyline fill=\"none\" stroke=\"black\" points=\"1796,-110.5 1796,-146.5 \"/>\n<text text-anchor=\"middle\" x=\"1839\" y=\"-124.8\" font-family=\"Times,serif\" font-size=\"14.00\">grad &#45;0.1036</text>\n</g>\n<!-- 140232165956672&#45;&gt;140232165956816+ -->\n<g id=\"edge24\" class=\"edge\">\n<title>140232165956672&#45;&gt;140232165956816+</title>\n<path fill=\"none\" stroke=\"black\" d=\"M1882.07,-111.97C1892.58,-110.11 1902.73,-108.32 1911.77,-106.72\"/>\n<polygon fill=\"black\" stroke=\"black\" points=\"1912.58,-110.14 1921.82,-104.95 1911.36,-103.24 1912.58,-110.14\"/>\n</g>\n<!-- 140232165956816 -->\n<g id=\"node18\" class=\"node\">\n<title>140232165956816</title>\n<polygon fill=\"none\" stroke=\"black\" points=\"2011,-82.5 2011,-118.5 2197,-118.5 2197,-82.5 2011,-82.5\"/>\n<text text-anchor=\"middle\" x=\"2021\" y=\"-96.8\" font-family=\"Times,serif\" font-size=\"14.00\"> </text>\n<polyline fill=\"none\" stroke=\"black\" points=\"2031,-82.5 2031,-118.5 \"/>\n<text text-anchor=\"middle\" x=\"2071\" y=\"-96.8\" font-family=\"Times,serif\" font-size=\"14.00\">data 6.8284</text>\n<polyline fill=\"none\" stroke=\"black\" points=\"2111,-82.5 2111,-118.5 \"/>\n<text text-anchor=\"middle\" x=\"2154\" y=\"-96.8\" font-family=\"Times,serif\" font-size=\"14.00\">grad &#45;0.1036</text>\n</g>\n<!-- 140232165956960**&#45;1 -->\n<g id=\"node28\" class=\"node\">\n<title>140232165956960**&#45;1</title>\n<ellipse fill=\"none\" stroke=\"black\" cx=\"2324\" cy=\"-100.5\" rx=\"27\" ry=\"18\"/>\n<text text-anchor=\"middle\" x=\"2324\" y=\"-96.8\" font-family=\"Times,serif\" font-size=\"14.00\">**&#45;1</text>\n</g>\n<!-- 140232165956816&#45;&gt;140232165956960**&#45;1 -->\n<g id=\"edge23\" class=\"edge\">\n<title>140232165956816&#45;&gt;140232165956960**&#45;1</title>\n<path fill=\"none\" stroke=\"black\" d=\"M2197.14,-100.5C2228.72,-100.5 2262.24,-100.5 2286.74,-100.5\"/>\n<polygon fill=\"black\" stroke=\"black\" points=\"2286.98,-104 2296.98,-100.5 2286.98,-97 2286.98,-104\"/>\n</g>\n<!-- 140232165956816+&#45;&gt;140232165956816 -->\n<g id=\"edge7\" class=\"edge\">\n<title>140232165956816+&#45;&gt;140232165956816</title>\n<path fill=\"none\" stroke=\"black\" d=\"M1975.12,-100.5C1982.62,-100.5 1991.29,-100.5 2000.5,-100.5\"/>\n<polygon fill=\"black\" stroke=\"black\" points=\"2000.69,-104 2010.69,-100.5 2000.69,-97 2000.69,-104\"/>\n</g>\n<!-- 140232165956336 -->\n<g id=\"node20\" class=\"node\">\n<title>140232165956336</title>\n<polygon fill=\"none\" stroke=\"black\" points=\"1690,-0.5 1690,-36.5 1885,-36.5 1885,-0.5 1690,-0.5\"/>\n<text text-anchor=\"middle\" x=\"1704\" y=\"-14.8\" font-family=\"Times,serif\" font-size=\"14.00\">&#45;1</text>\n<polyline fill=\"none\" stroke=\"black\" points=\"1718,-0.5 1718,-36.5 \"/>\n<text text-anchor=\"middle\" x=\"1760.5\" y=\"-14.8\" font-family=\"Times,serif\" font-size=\"14.00\">data &#45;1.0000</text>\n<polyline fill=\"none\" stroke=\"black\" points=\"1803,-0.5 1803,-36.5 \"/>\n<text text-anchor=\"middle\" x=\"1844\" y=\"-14.8\" font-family=\"Times,serif\" font-size=\"14.00\">grad 0.1464</text>\n</g>\n<!-- 140232165956336&#45;&gt;140232165956384+ -->\n<g id=\"edge28\" class=\"edge\">\n<title>140232165956336&#45;&gt;140232165956384+</title>\n<path fill=\"none\" stroke=\"black\" d=\"M1885.27,-34.98C1894.59,-36.57 1903.57,-38.1 1911.66,-39.48\"/>\n<polygon fill=\"black\" stroke=\"black\" points=\"1911.29,-42.97 1921.73,-41.2 1912.46,-36.07 1911.29,-42.97\"/>\n</g>\n<!-- 140232165956384 -->\n<g id=\"node21\" class=\"node\">\n<title>140232165956384</title>\n<polygon fill=\"none\" stroke=\"black\" points=\"2233,-27.5 2233,-63.5 2415,-63.5 2415,-27.5 2233,-27.5\"/>\n<text text-anchor=\"middle\" x=\"2243\" y=\"-41.8\" font-family=\"Times,serif\" font-size=\"14.00\"> </text>\n<polyline fill=\"none\" stroke=\"black\" points=\"2253,-27.5 2253,-63.5 \"/>\n<text text-anchor=\"middle\" x=\"2293\" y=\"-41.8\" font-family=\"Times,serif\" font-size=\"14.00\">data 4.8284</text>\n<polyline fill=\"none\" stroke=\"black\" points=\"2333,-27.5 2333,-63.5 \"/>\n<text text-anchor=\"middle\" x=\"2374\" y=\"-41.8\" font-family=\"Times,serif\" font-size=\"14.00\">grad 0.1464</text>\n</g>\n<!-- 140232165956384&#45;&gt;140232165957200* -->\n<g id=\"edge19\" class=\"edge\">\n<title>140232165956384&#45;&gt;140232165957200*</title>\n<path fill=\"none\" stroke=\"black\" d=\"M2415.04,-52.07C2493.41,-57.79 2602.98,-65.79 2658.96,-69.87\"/>\n<polygon fill=\"black\" stroke=\"black\" points=\"2658.87,-73.37 2669.1,-70.61 2659.38,-66.39 2658.87,-73.37\"/>\n</g>\n<!-- 140232165956384+&#45;&gt;140232165956384 -->\n<g id=\"edge8\" class=\"edge\">\n<title>140232165956384+&#45;&gt;140232165956384</title>\n<path fill=\"none\" stroke=\"black\" d=\"M1975,-45.5C2025.46,-45.5 2139.06,-45.5 2222.81,-45.5\"/>\n<polygon fill=\"black\" stroke=\"black\" points=\"2222.87,-49 2232.87,-45.5 2222.87,-42 2222.87,-49\"/>\n</g>\n<!-- 140232165955376 -->\n<g id=\"node23\" class=\"node\">\n<title>140232165955376</title>\n<polygon fill=\"none\" stroke=\"black\" points=\"326,-84.5 326,-120.5 546,-120.5 546,-84.5 326,-84.5\"/>\n<text text-anchor=\"middle\" x=\"352.5\" y=\"-98.8\" font-family=\"Times,serif\" font-size=\"14.00\">x1*w1</text>\n<polyline fill=\"none\" stroke=\"black\" points=\"379,-84.5 379,-120.5 \"/>\n<text text-anchor=\"middle\" x=\"421.5\" y=\"-98.8\" font-family=\"Times,serif\" font-size=\"14.00\">data &#45;6.0000</text>\n<polyline fill=\"none\" stroke=\"black\" points=\"464,-84.5 464,-120.5 \"/>\n<text text-anchor=\"middle\" x=\"505\" y=\"-98.8\" font-family=\"Times,serif\" font-size=\"14.00\">grad 0.5000</text>\n</g>\n<!-- 140232165955376&#45;&gt;140232165954608+ -->\n<g id=\"edge16\" class=\"edge\">\n<title>140232165955376&#45;&gt;140232165954608+</title>\n<path fill=\"none\" stroke=\"black\" d=\"M546.27,-119.75C555.64,-121.23 564.6,-122.65 572.65,-123.92\"/>\n<polygon fill=\"black\" stroke=\"black\" points=\"572.23,-127.4 582.65,-125.5 573.32,-120.48 572.23,-127.4\"/>\n</g>\n<!-- 140232165955376*&#45;&gt;140232165955376 -->\n<g id=\"edge9\" class=\"edge\">\n<title>140232165955376*&#45;&gt;140232165955376</title>\n<path fill=\"none\" stroke=\"black\" d=\"M290.34,-102.5C297.77,-102.5 306.37,-102.5 315.6,-102.5\"/>\n<polygon fill=\"black\" stroke=\"black\" points=\"315.84,-106 325.84,-102.5 315.84,-99 315.84,-106\"/>\n</g>\n<!-- 140232165954368 -->\n<g id=\"node25\" class=\"node\">\n<title>140232165954368</title>\n<polygon fill=\"none\" stroke=\"black\" points=\"1071,-28.5 1071,-64.5 1256,-64.5 1256,-28.5 1071,-28.5\"/>\n<text text-anchor=\"middle\" x=\"1082.5\" y=\"-42.8\" font-family=\"Times,serif\" font-size=\"14.00\">2</text>\n<polyline fill=\"none\" stroke=\"black\" points=\"1094,-28.5 1094,-64.5 \"/>\n<text text-anchor=\"middle\" x=\"1134\" y=\"-42.8\" font-family=\"Times,serif\" font-size=\"14.00\">data 2.0000</text>\n<polyline fill=\"none\" stroke=\"black\" points=\"1174,-28.5 1174,-64.5 \"/>\n<text text-anchor=\"middle\" x=\"1215\" y=\"-42.8\" font-family=\"Times,serif\" font-size=\"14.00\">grad 0.2203</text>\n</g>\n<!-- 140232165954368&#45;&gt;140232165953696* -->\n<g id=\"edge14\" class=\"edge\">\n<title>140232165954368&#45;&gt;140232165953696*</title>\n<path fill=\"none\" stroke=\"black\" d=\"M1256.01,-62.6C1265.49,-64.26 1274.66,-65.88 1282.9,-67.33\"/>\n<polygon fill=\"black\" stroke=\"black\" points=\"1282.36,-70.78 1292.81,-69.07 1283.57,-63.89 1282.36,-70.78\"/>\n</g>\n<!-- 140232165955424 -->\n<g id=\"node26\" class=\"node\">\n<title>140232165955424</title>\n<polygon fill=\"none\" stroke=\"black\" points=\"716,-56.5 716,-92.5 901,-92.5 901,-56.5 716,-56.5\"/>\n<text text-anchor=\"middle\" x=\"727.5\" y=\"-70.8\" font-family=\"Times,serif\" font-size=\"14.00\">b</text>\n<polyline fill=\"none\" stroke=\"black\" points=\"739,-56.5 739,-92.5 \"/>\n<text text-anchor=\"middle\" x=\"779\" y=\"-70.8\" font-family=\"Times,serif\" font-size=\"14.00\">data 6.8814</text>\n<polyline fill=\"none\" stroke=\"black\" points=\"819,-56.5 819,-92.5 \"/>\n<text text-anchor=\"middle\" x=\"860\" y=\"-70.8\" font-family=\"Times,serif\" font-size=\"14.00\">grad 0.5000</text>\n</g>\n<!-- 140232165955424&#45;&gt;140232165955712+ -->\n<g id=\"edge27\" class=\"edge\">\n<title>140232165955424&#45;&gt;140232165955712+</title>\n<path fill=\"none\" stroke=\"black\" d=\"M901.02,-87.01C926,-90.43 951.59,-93.93 971.37,-96.63\"/>\n<polygon fill=\"black\" stroke=\"black\" points=\"971.05,-100.12 981.43,-98.01 972,-93.18 971.05,-100.12\"/>\n</g>\n<!-- 140232165956960 -->\n<g id=\"node27\" class=\"node\">\n<title>140232165956960</title>\n<polygon fill=\"none\" stroke=\"black\" points=\"2451,-80.5 2451,-116.5 2633,-116.5 2633,-80.5 2451,-80.5\"/>\n<text text-anchor=\"middle\" x=\"2461\" y=\"-94.8\" font-family=\"Times,serif\" font-size=\"14.00\"> </text>\n<polyline fill=\"none\" stroke=\"black\" points=\"2471,-80.5 2471,-116.5 \"/>\n<text text-anchor=\"middle\" x=\"2511\" y=\"-94.8\" font-family=\"Times,serif\" font-size=\"14.00\">data 0.1464</text>\n<polyline fill=\"none\" stroke=\"black\" points=\"2551,-80.5 2551,-116.5 \"/>\n<text text-anchor=\"middle\" x=\"2592\" y=\"-94.8\" font-family=\"Times,serif\" font-size=\"14.00\">grad 4.8284</text>\n</g>\n<!-- 140232165956960&#45;&gt;140232165957200* -->\n<g id=\"edge17\" class=\"edge\">\n<title>140232165956960&#45;&gt;140232165957200*</title>\n<path fill=\"none\" stroke=\"black\" d=\"M2633.18,-83.08C2642.42,-81.49 2651.38,-79.96 2659.47,-78.58\"/>\n<polygon fill=\"black\" stroke=\"black\" points=\"2660.29,-81.99 2669.56,-76.85 2659.11,-75.09 2660.29,-81.99\"/>\n</g>\n<!-- 140232165956960**&#45;1&#45;&gt;140232165956960 -->\n<g id=\"edge10\" class=\"edge\">\n<title>140232165956960**&#45;1&#45;&gt;140232165956960</title>\n<path fill=\"none\" stroke=\"black\" d=\"M2351.05,-100.26C2373.53,-100.05 2407.48,-99.74 2440.5,-99.43\"/>\n<polygon fill=\"black\" stroke=\"black\" points=\"2440.74,-102.93 2450.7,-99.34 2440.67,-95.93 2440.74,-102.93\"/>\n</g>\n</g>\n</svg>\n"
          },
          "metadata": {},
          "execution_count": 142
        }
      ]
    },
    {
      "cell_type": "code",
      "source": [
        "def build_graph_sigmoid():\n",
        "  # inputs\n",
        "  x1 = Value(2.0, label='x1')\n",
        "  x2 = Value(0.0, label='x2')\n",
        "\n",
        "  # weights\n",
        "  w1 = Value(-3.0, label='w1')\n",
        "  w2 = Value(1.0, label='w2')\n",
        "\n",
        "  # bias\n",
        "  b = Value(6.8813735870195432, label='b')\n",
        "\n",
        "  # weights x inputs\n",
        "  x1w1 = x1 * w1; x1w1.label = 'x1*w1'\n",
        "  x2w2 = x2 * w2; x2w2.label = 'x2*w2'\n",
        "\n",
        "  # dot product\n",
        "  x1w1x2w2 = x1w1 + x2w2; x1w1x2w2.label = 'x1*w1 + x2*w2'\n",
        "\n",
        "  # adding the bias\n",
        "  n = x1w1x2w2 + b; n.label = 'n'\n",
        "\n",
        "  o = n.sigmoid()\n",
        "  o.label = 'o'\n",
        "  return o\n",
        "\n",
        "def build_graph_softplus():\n",
        "  # inputs\n",
        "  x1 = Value(2.0, label='x1')\n",
        "  x2 = Value(0.0, label='x2')\n",
        "\n",
        "  # weights\n",
        "  w1 = Value(-3.0, label='w1')\n",
        "  w2 = Value(1.0, label='w2')\n",
        "\n",
        "  # bias\n",
        "  b = Value(6.8813735870195432, label='b')\n",
        "\n",
        "  # weights x inputs\n",
        "  x1w1 = x1 * w1; x1w1.label = 'x1*w1'\n",
        "  x2w2 = x2 * w2; x2w2.label = 'x2*w2'\n",
        "\n",
        "  # dot product\n",
        "  x1w1x2w2 = x1w1 + x2w2; x1w1x2w2.label = 'x1*w1 + x2*w2'\n",
        "\n",
        "  # adding the bias\n",
        "  n = x1w1x2w2 + b; n.label = 'n'\n",
        "\n",
        "  o = n.softplus()\n",
        "  o.label = 'o'\n",
        "  return o\n",
        "\n",
        "def build_graph_relu():\n",
        "  # inputs\n",
        "  x1 = Value(2.0, label='x1')\n",
        "  x2 = Value(0.0, label='x2')\n",
        "\n",
        "  # weights\n",
        "  w1 = Value(-3.0, label='w1')\n",
        "  w2 = Value(1.0, label='w2')\n",
        "\n",
        "  # bias\n",
        "  b = Value(6.8813735870195432, label='b')\n",
        "\n",
        "  # weights x inputs\n",
        "  x1w1 = x1 * w1; x1w1.label = 'x1*w1'\n",
        "  x2w2 = x2 * w2; x2w2.label = 'x2*w2'\n",
        "\n",
        "  # dot product\n",
        "  x1w1x2w2 = x1w1 + x2w2; x1w1x2w2.label = 'x1*w1 + x2*w2'\n",
        "\n",
        "  # adding the bias\n",
        "  n = x1w1x2w2 + b; n.label = 'n'\n",
        "\n",
        "  o = n.relu()\n",
        "  o.label = 'o'\n",
        "  return o"
      ],
      "metadata": {
        "id": "NHMCejwyRi0T"
      },
      "execution_count": 143,
      "outputs": []
    },
    {
      "cell_type": "code",
      "source": [
        "o = build_graph_softplus()\n",
        "o.backward()\n",
        "draw_dot(o)"
      ],
      "metadata": {
        "colab": {
          "base_uri": "https://localhost:8080/",
          "height": 321
        },
        "id": "7Hgr6_z2WEdo",
        "outputId": "6f87bef9-73ad-48f1-90b8-043f49b5ee96"
      },
      "execution_count": 144,
      "outputs": [
        {
          "output_type": "execute_result",
          "data": {
            "text/plain": [
              "<graphviz.dot.Digraph at 0x7f8a586dcee0>"
            ],
            "image/svg+xml": "<?xml version=\"1.0\" encoding=\"UTF-8\" standalone=\"no\"?>\n<!DOCTYPE svg PUBLIC \"-//W3C//DTD SVG 1.1//EN\"\n \"http://www.w3.org/Graphics/SVG/1.1/DTD/svg11.dtd\">\n<!-- Generated by graphviz version 2.43.0 (0)\n -->\n<!-- Title: %3 Pages: 1 -->\n<svg width=\"1598pt\" height=\"210pt\"\n viewBox=\"0.00 0.00 1597.69 210.00\" xmlns=\"http://www.w3.org/2000/svg\" xmlns:xlink=\"http://www.w3.org/1999/xlink\">\n<g id=\"graph0\" class=\"graph\" transform=\"scale(1 1) rotate(0) translate(4 206)\">\n<title>%3</title>\n<polygon fill=\"white\" stroke=\"transparent\" points=\"-4,4 -4,-206 1593.69,-206 1593.69,4 -4,4\"/>\n<!-- 140232165804640 -->\n<g id=\"node1\" class=\"node\">\n<title>140232165804640</title>\n<polygon fill=\"none\" stroke=\"black\" points=\"1404.69,-109.5 1404.69,-145.5 1589.69,-145.5 1589.69,-109.5 1404.69,-109.5\"/>\n<text text-anchor=\"middle\" x=\"1416.19\" y=\"-123.8\" font-family=\"Times,serif\" font-size=\"14.00\">o</text>\n<polyline fill=\"none\" stroke=\"black\" points=\"1427.69,-109.5 1427.69,-145.5 \"/>\n<text text-anchor=\"middle\" x=\"1467.69\" y=\"-123.8\" font-family=\"Times,serif\" font-size=\"14.00\">data 1.2279</text>\n<polyline fill=\"none\" stroke=\"black\" points=\"1507.69,-109.5 1507.69,-145.5 \"/>\n<text text-anchor=\"middle\" x=\"1548.69\" y=\"-123.8\" font-family=\"Times,serif\" font-size=\"14.00\">grad 1.0000</text>\n</g>\n<!-- 140232165804640softplus -->\n<g id=\"node2\" class=\"node\">\n<title>140232165804640softplus</title>\n<ellipse fill=\"none\" stroke=\"black\" cx=\"1330.35\" cy=\"-127.5\" rx=\"38.19\" ry=\"18\"/>\n<text text-anchor=\"middle\" x=\"1330.35\" y=\"-123.8\" font-family=\"Times,serif\" font-size=\"14.00\">softplus</text>\n</g>\n<!-- 140232165804640softplus&#45;&gt;140232165804640 -->\n<g id=\"edge1\" class=\"edge\">\n<title>140232165804640softplus&#45;&gt;140232165804640</title>\n<path fill=\"none\" stroke=\"black\" d=\"M1368.75,-127.5C1376.62,-127.5 1385.28,-127.5 1394.26,-127.5\"/>\n<polygon fill=\"black\" stroke=\"black\" points=\"1394.52,-131 1404.52,-127.5 1394.52,-124 1394.52,-131\"/>\n</g>\n<!-- 140232166412928 -->\n<g id=\"node3\" class=\"node\">\n<title>140232166412928</title>\n<polygon fill=\"none\" stroke=\"black\" points=\"716,-137.5 716,-173.5 901,-173.5 901,-137.5 716,-137.5\"/>\n<text text-anchor=\"middle\" x=\"727.5\" y=\"-151.8\" font-family=\"Times,serif\" font-size=\"14.00\">b</text>\n<polyline fill=\"none\" stroke=\"black\" points=\"739,-137.5 739,-173.5 \"/>\n<text text-anchor=\"middle\" x=\"779\" y=\"-151.8\" font-family=\"Times,serif\" font-size=\"14.00\">data 6.8814</text>\n<polyline fill=\"none\" stroke=\"black\" points=\"819,-137.5 819,-173.5 \"/>\n<text text-anchor=\"middle\" x=\"860\" y=\"-151.8\" font-family=\"Times,serif\" font-size=\"14.00\">grad 0.7071</text>\n</g>\n<!-- 140232165804880+ -->\n<g id=\"node8\" class=\"node\">\n<title>140232165804880+</title>\n<ellipse fill=\"none\" stroke=\"black\" cx=\"1008\" cy=\"-127.5\" rx=\"27\" ry=\"18\"/>\n<text text-anchor=\"middle\" x=\"1008\" y=\"-123.8\" font-family=\"Times,serif\" font-size=\"14.00\">+</text>\n</g>\n<!-- 140232166412928&#45;&gt;140232165804880+ -->\n<g id=\"edge9\" class=\"edge\">\n<title>140232166412928&#45;&gt;140232165804880+</title>\n<path fill=\"none\" stroke=\"black\" d=\"M901.02,-142.52C926,-138.98 951.59,-135.36 971.37,-132.55\"/>\n<polygon fill=\"black\" stroke=\"black\" points=\"972.03,-135.99 981.43,-131.12 971.04,-129.06 972.03,-135.99\"/>\n</g>\n<!-- 140232166412496 -->\n<g id=\"node4\" class=\"node\">\n<title>140232166412496</title>\n<polygon fill=\"none\" stroke=\"black\" points=\"2.5,-165.5 2.5,-201.5 197.5,-201.5 197.5,-165.5 2.5,-165.5\"/>\n<text text-anchor=\"middle\" x=\"19\" y=\"-179.8\" font-family=\"Times,serif\" font-size=\"14.00\">w2</text>\n<polyline fill=\"none\" stroke=\"black\" points=\"35.5,-165.5 35.5,-201.5 \"/>\n<text text-anchor=\"middle\" x=\"75.5\" y=\"-179.8\" font-family=\"Times,serif\" font-size=\"14.00\">data 1.0000</text>\n<polyline fill=\"none\" stroke=\"black\" points=\"115.5,-165.5 115.5,-201.5 \"/>\n<text text-anchor=\"middle\" x=\"156.5\" y=\"-179.8\" font-family=\"Times,serif\" font-size=\"14.00\">grad 0.0000</text>\n</g>\n<!-- 140232165957392* -->\n<g id=\"node6\" class=\"node\">\n<title>140232165957392*</title>\n<ellipse fill=\"none\" stroke=\"black\" cx=\"263\" cy=\"-128.5\" rx=\"27\" ry=\"18\"/>\n<text text-anchor=\"middle\" x=\"263\" y=\"-124.8\" font-family=\"Times,serif\" font-size=\"14.00\">*</text>\n</g>\n<!-- 140232166412496&#45;&gt;140232165957392* -->\n<g id=\"edge12\" class=\"edge\">\n<title>140232166412496&#45;&gt;140232165957392*</title>\n<path fill=\"none\" stroke=\"black\" d=\"M172.53,-165.44C181.84,-162.67 191.2,-159.67 200,-156.5 210.53,-152.71 221.75,-147.9 231.72,-143.33\"/>\n<polygon fill=\"black\" stroke=\"black\" points=\"233.25,-146.48 240.82,-139.07 230.28,-140.14 233.25,-146.48\"/>\n</g>\n<!-- 140232165957392 -->\n<g id=\"node5\" class=\"node\">\n<title>140232165957392</title>\n<polygon fill=\"none\" stroke=\"black\" points=\"328.5,-110.5 328.5,-146.5 543.5,-146.5 543.5,-110.5 328.5,-110.5\"/>\n<text text-anchor=\"middle\" x=\"355\" y=\"-124.8\" font-family=\"Times,serif\" font-size=\"14.00\">x2*w2</text>\n<polyline fill=\"none\" stroke=\"black\" points=\"381.5,-110.5 381.5,-146.5 \"/>\n<text text-anchor=\"middle\" x=\"421.5\" y=\"-124.8\" font-family=\"Times,serif\" font-size=\"14.00\">data 0.0000</text>\n<polyline fill=\"none\" stroke=\"black\" points=\"461.5,-110.5 461.5,-146.5 \"/>\n<text text-anchor=\"middle\" x=\"502.5\" y=\"-124.8\" font-family=\"Times,serif\" font-size=\"14.00\">grad 0.7071</text>\n</g>\n<!-- 140232165953984+ -->\n<g id=\"node13\" class=\"node\">\n<title>140232165953984+</title>\n<ellipse fill=\"none\" stroke=\"black\" cx=\"609\" cy=\"-100.5\" rx=\"27\" ry=\"18\"/>\n<text text-anchor=\"middle\" x=\"609\" y=\"-96.8\" font-family=\"Times,serif\" font-size=\"14.00\">+</text>\n</g>\n<!-- 140232165957392&#45;&gt;140232165953984+ -->\n<g id=\"edge11\" class=\"edge\">\n<title>140232165957392&#45;&gt;140232165953984+</title>\n<path fill=\"none\" stroke=\"black\" d=\"M543.84,-111.01C554.01,-109.34 563.76,-107.74 572.44,-106.32\"/>\n<polygon fill=\"black\" stroke=\"black\" points=\"573.17,-109.75 582.47,-104.68 572.04,-102.84 573.17,-109.75\"/>\n</g>\n<!-- 140232165957392*&#45;&gt;140232165957392 -->\n<g id=\"edge2\" class=\"edge\">\n<title>140232165957392*&#45;&gt;140232165957392</title>\n<path fill=\"none\" stroke=\"black\" d=\"M290.34,-128.5C298.51,-128.5 308.08,-128.5 318.36,-128.5\"/>\n<polygon fill=\"black\" stroke=\"black\" points=\"318.39,-132 328.39,-128.5 318.39,-125 318.39,-132\"/>\n</g>\n<!-- 140232165804880 -->\n<g id=\"node7\" class=\"node\">\n<title>140232165804880</title>\n<polygon fill=\"none\" stroke=\"black\" points=\"1071,-109.5 1071,-145.5 1256,-145.5 1256,-109.5 1071,-109.5\"/>\n<text text-anchor=\"middle\" x=\"1082.5\" y=\"-123.8\" font-family=\"Times,serif\" font-size=\"14.00\">n</text>\n<polyline fill=\"none\" stroke=\"black\" points=\"1094,-109.5 1094,-145.5 \"/>\n<text text-anchor=\"middle\" x=\"1134\" y=\"-123.8\" font-family=\"Times,serif\" font-size=\"14.00\">data 0.8814</text>\n<polyline fill=\"none\" stroke=\"black\" points=\"1174,-109.5 1174,-145.5 \"/>\n<text text-anchor=\"middle\" x=\"1215\" y=\"-123.8\" font-family=\"Times,serif\" font-size=\"14.00\">grad 0.7071</text>\n</g>\n<!-- 140232165804880&#45;&gt;140232165804640softplus -->\n<g id=\"edge8\" class=\"edge\">\n<title>140232165804880&#45;&gt;140232165804640softplus</title>\n<path fill=\"none\" stroke=\"black\" d=\"M1256.08,-127.5C1264.94,-127.5 1273.66,-127.5 1281.81,-127.5\"/>\n<polygon fill=\"black\" stroke=\"black\" points=\"1281.81,-131 1291.81,-127.5 1281.81,-124 1281.81,-131\"/>\n</g>\n<!-- 140232165804880+&#45;&gt;140232165804880 -->\n<g id=\"edge3\" class=\"edge\">\n<title>140232165804880+&#45;&gt;140232165804880</title>\n<path fill=\"none\" stroke=\"black\" d=\"M1035.04,-127.5C1042.58,-127.5 1051.3,-127.5 1060.57,-127.5\"/>\n<polygon fill=\"black\" stroke=\"black\" points=\"1060.81,-131 1070.81,-127.5 1060.81,-124 1060.81,-131\"/>\n</g>\n<!-- 140232166413168 -->\n<g id=\"node9\" class=\"node\">\n<title>140232166413168</title>\n<polygon fill=\"none\" stroke=\"black\" points=\"2,-55.5 2,-91.5 198,-91.5 198,-55.5 2,-55.5\"/>\n<text text-anchor=\"middle\" x=\"17\" y=\"-69.8\" font-family=\"Times,serif\" font-size=\"14.00\">x1</text>\n<polyline fill=\"none\" stroke=\"black\" points=\"32,-55.5 32,-91.5 \"/>\n<text text-anchor=\"middle\" x=\"72\" y=\"-69.8\" font-family=\"Times,serif\" font-size=\"14.00\">data 2.0000</text>\n<polyline fill=\"none\" stroke=\"black\" points=\"112,-55.5 112,-91.5 \"/>\n<text text-anchor=\"middle\" x=\"155\" y=\"-69.8\" font-family=\"Times,serif\" font-size=\"14.00\">grad &#45;2.1213</text>\n</g>\n<!-- 140232165954032* -->\n<g id=\"node15\" class=\"node\">\n<title>140232165954032*</title>\n<ellipse fill=\"none\" stroke=\"black\" cx=\"263\" cy=\"-73.5\" rx=\"27\" ry=\"18\"/>\n<text text-anchor=\"middle\" x=\"263\" y=\"-69.8\" font-family=\"Times,serif\" font-size=\"14.00\">*</text>\n</g>\n<!-- 140232166413168&#45;&gt;140232165954032* -->\n<g id=\"edge13\" class=\"edge\">\n<title>140232166413168&#45;&gt;140232165954032*</title>\n<path fill=\"none\" stroke=\"black\" d=\"M198.37,-73.5C208.05,-73.5 217.4,-73.5 225.8,-73.5\"/>\n<polygon fill=\"black\" stroke=\"black\" points=\"225.91,-77 235.91,-73.5 225.91,-70 225.91,-77\"/>\n</g>\n<!-- 140232166412688 -->\n<g id=\"node10\" class=\"node\">\n<title>140232166412688</title>\n<polygon fill=\"none\" stroke=\"black\" points=\"4,-110.5 4,-146.5 196,-146.5 196,-110.5 4,-110.5\"/>\n<text text-anchor=\"middle\" x=\"19\" y=\"-124.8\" font-family=\"Times,serif\" font-size=\"14.00\">x2</text>\n<polyline fill=\"none\" stroke=\"black\" points=\"34,-110.5 34,-146.5 \"/>\n<text text-anchor=\"middle\" x=\"74\" y=\"-124.8\" font-family=\"Times,serif\" font-size=\"14.00\">data 0.0000</text>\n<polyline fill=\"none\" stroke=\"black\" points=\"114,-110.5 114,-146.5 \"/>\n<text text-anchor=\"middle\" x=\"155\" y=\"-124.8\" font-family=\"Times,serif\" font-size=\"14.00\">grad 0.7071</text>\n</g>\n<!-- 140232166412688&#45;&gt;140232165957392* -->\n<g id=\"edge14\" class=\"edge\">\n<title>140232166412688&#45;&gt;140232165957392*</title>\n<path fill=\"none\" stroke=\"black\" d=\"M196.05,-128.5C206.52,-128.5 216.65,-128.5 225.71,-128.5\"/>\n<polygon fill=\"black\" stroke=\"black\" points=\"225.79,-132 235.79,-128.5 225.79,-125 225.79,-132\"/>\n</g>\n<!-- 140232166413216 -->\n<g id=\"node11\" class=\"node\">\n<title>140232166413216</title>\n<polygon fill=\"none\" stroke=\"black\" points=\"0,-0.5 0,-36.5 200,-36.5 200,-0.5 0,-0.5\"/>\n<text text-anchor=\"middle\" x=\"16.5\" y=\"-14.8\" font-family=\"Times,serif\" font-size=\"14.00\">w1</text>\n<polyline fill=\"none\" stroke=\"black\" points=\"33,-0.5 33,-36.5 \"/>\n<text text-anchor=\"middle\" x=\"75.5\" y=\"-14.8\" font-family=\"Times,serif\" font-size=\"14.00\">data &#45;3.0000</text>\n<polyline fill=\"none\" stroke=\"black\" points=\"118,-0.5 118,-36.5 \"/>\n<text text-anchor=\"middle\" x=\"159\" y=\"-14.8\" font-family=\"Times,serif\" font-size=\"14.00\">grad 1.4142</text>\n</g>\n<!-- 140232166413216&#45;&gt;140232165954032* -->\n<g id=\"edge7\" class=\"edge\">\n<title>140232166413216&#45;&gt;140232165954032*</title>\n<path fill=\"none\" stroke=\"black\" d=\"M169.28,-36.5C179.65,-39.61 190.16,-42.98 200,-46.5 210.28,-50.17 221.28,-54.74 231.11,-59.07\"/>\n<polygon fill=\"black\" stroke=\"black\" points=\"229.93,-62.37 240.48,-63.27 232.79,-55.99 229.93,-62.37\"/>\n</g>\n<!-- 140232165953984 -->\n<g id=\"node12\" class=\"node\">\n<title>140232165953984</title>\n<polygon fill=\"none\" stroke=\"black\" points=\"672,-82.5 672,-118.5 945,-118.5 945,-82.5 672,-82.5\"/>\n<text text-anchor=\"middle\" x=\"725\" y=\"-96.8\" font-family=\"Times,serif\" font-size=\"14.00\">x1*w1 + x2*w2</text>\n<polyline fill=\"none\" stroke=\"black\" points=\"778,-82.5 778,-118.5 \"/>\n<text text-anchor=\"middle\" x=\"820.5\" y=\"-96.8\" font-family=\"Times,serif\" font-size=\"14.00\">data &#45;6.0000</text>\n<polyline fill=\"none\" stroke=\"black\" points=\"863,-82.5 863,-118.5 \"/>\n<text text-anchor=\"middle\" x=\"904\" y=\"-96.8\" font-family=\"Times,serif\" font-size=\"14.00\">grad 0.7071</text>\n</g>\n<!-- 140232165953984&#45;&gt;140232165804880+ -->\n<g id=\"edge6\" class=\"edge\">\n<title>140232165953984&#45;&gt;140232165804880+</title>\n<path fill=\"none\" stroke=\"black\" d=\"M941.24,-118.51C952.12,-120 962.4,-121.4 971.45,-122.64\"/>\n<polygon fill=\"black\" stroke=\"black\" points=\"971.11,-126.13 981.49,-124.01 972.05,-119.19 971.11,-126.13\"/>\n</g>\n<!-- 140232165953984+&#45;&gt;140232165953984 -->\n<g id=\"edge4\" class=\"edge\">\n<title>140232165953984+&#45;&gt;140232165953984</title>\n<path fill=\"none\" stroke=\"black\" d=\"M636.23,-100.5C643.7,-100.5 652.41,-100.5 661.87,-100.5\"/>\n<polygon fill=\"black\" stroke=\"black\" points=\"661.98,-104 671.98,-100.5 661.98,-97 661.98,-104\"/>\n</g>\n<!-- 140232165954032 -->\n<g id=\"node14\" class=\"node\">\n<title>140232165954032</title>\n<polygon fill=\"none\" stroke=\"black\" points=\"326,-55.5 326,-91.5 546,-91.5 546,-55.5 326,-55.5\"/>\n<text text-anchor=\"middle\" x=\"352.5\" y=\"-69.8\" font-family=\"Times,serif\" font-size=\"14.00\">x1*w1</text>\n<polyline fill=\"none\" stroke=\"black\" points=\"379,-55.5 379,-91.5 \"/>\n<text text-anchor=\"middle\" x=\"421.5\" y=\"-69.8\" font-family=\"Times,serif\" font-size=\"14.00\">data &#45;6.0000</text>\n<polyline fill=\"none\" stroke=\"black\" points=\"464,-55.5 464,-91.5 \"/>\n<text text-anchor=\"middle\" x=\"505\" y=\"-69.8\" font-family=\"Times,serif\" font-size=\"14.00\">grad 0.7071</text>\n</g>\n<!-- 140232165954032&#45;&gt;140232165953984+ -->\n<g id=\"edge10\" class=\"edge\">\n<title>140232165954032&#45;&gt;140232165953984+</title>\n<path fill=\"none\" stroke=\"black\" d=\"M546.27,-90.75C555.64,-92.23 564.6,-93.65 572.65,-94.92\"/>\n<polygon fill=\"black\" stroke=\"black\" points=\"572.23,-98.4 582.65,-96.5 573.32,-91.48 572.23,-98.4\"/>\n</g>\n<!-- 140232165954032*&#45;&gt;140232165954032 -->\n<g id=\"edge5\" class=\"edge\">\n<title>140232165954032*&#45;&gt;140232165954032</title>\n<path fill=\"none\" stroke=\"black\" d=\"M290.34,-73.5C297.77,-73.5 306.37,-73.5 315.6,-73.5\"/>\n<polygon fill=\"black\" stroke=\"black\" points=\"315.84,-77 325.84,-73.5 315.84,-70 315.84,-77\"/>\n</g>\n</g>\n</svg>\n"
          },
          "metadata": {},
          "execution_count": 144
        }
      ]
    },
    {
      "cell_type": "code",
      "source": [
        "o = build_graph_relu()\n",
        "o.backward()\n",
        "draw_dot(o)"
      ],
      "metadata": {
        "colab": {
          "base_uri": "https://localhost:8080/",
          "height": 321
        },
        "id": "KbH0zYXfWKgx",
        "outputId": "233d23a8-31fa-45cd-8bed-a2bf2b5fef2e"
      },
      "execution_count": 145,
      "outputs": [
        {
          "output_type": "execute_result",
          "data": {
            "text/plain": [
              "<graphviz.dot.Digraph at 0x7f8a58771340>"
            ],
            "image/svg+xml": "<?xml version=\"1.0\" encoding=\"UTF-8\" standalone=\"no\"?>\n<!DOCTYPE svg PUBLIC \"-//W3C//DTD SVG 1.1//EN\"\n \"http://www.w3.org/Graphics/SVG/1.1/DTD/svg11.dtd\">\n<!-- Generated by graphviz version 2.43.0 (0)\n -->\n<!-- Title: %3 Pages: 1 -->\n<svg width=\"1586pt\" height=\"210pt\"\n viewBox=\"0.00 0.00 1585.99 210.00\" xmlns=\"http://www.w3.org/2000/svg\" xmlns:xlink=\"http://www.w3.org/1999/xlink\">\n<g id=\"graph0\" class=\"graph\" transform=\"scale(1 1) rotate(0) translate(4 206)\">\n<title>%3</title>\n<polygon fill=\"white\" stroke=\"transparent\" points=\"-4,4 -4,-206 1581.99,-206 1581.99,4 -4,4\"/>\n<!-- 140232165954560 -->\n<g id=\"node1\" class=\"node\">\n<title>140232165954560</title>\n<polygon fill=\"none\" stroke=\"black\" points=\"672,-82.5 672,-118.5 945,-118.5 945,-82.5 672,-82.5\"/>\n<text text-anchor=\"middle\" x=\"725\" y=\"-96.8\" font-family=\"Times,serif\" font-size=\"14.00\">x1*w1 + x2*w2</text>\n<polyline fill=\"none\" stroke=\"black\" points=\"778,-82.5 778,-118.5 \"/>\n<text text-anchor=\"middle\" x=\"820.5\" y=\"-96.8\" font-family=\"Times,serif\" font-size=\"14.00\">data &#45;6.0000</text>\n<polyline fill=\"none\" stroke=\"black\" points=\"863,-82.5 863,-118.5 \"/>\n<text text-anchor=\"middle\" x=\"904\" y=\"-96.8\" font-family=\"Times,serif\" font-size=\"14.00\">grad 1.0000</text>\n</g>\n<!-- 140232166412592+ -->\n<g id=\"node9\" class=\"node\">\n<title>140232166412592+</title>\n<ellipse fill=\"none\" stroke=\"black\" cx=\"1008\" cy=\"-127.5\" rx=\"27\" ry=\"18\"/>\n<text text-anchor=\"middle\" x=\"1008\" y=\"-123.8\" font-family=\"Times,serif\" font-size=\"14.00\">+</text>\n</g>\n<!-- 140232165954560&#45;&gt;140232166412592+ -->\n<g id=\"edge6\" class=\"edge\">\n<title>140232165954560&#45;&gt;140232166412592+</title>\n<path fill=\"none\" stroke=\"black\" d=\"M941.24,-118.51C952.12,-120 962.4,-121.4 971.45,-122.64\"/>\n<polygon fill=\"black\" stroke=\"black\" points=\"971.11,-126.13 981.49,-124.01 972.05,-119.19 971.11,-126.13\"/>\n</g>\n<!-- 140232165954560+ -->\n<g id=\"node2\" class=\"node\">\n<title>140232165954560+</title>\n<ellipse fill=\"none\" stroke=\"black\" cx=\"609\" cy=\"-100.5\" rx=\"27\" ry=\"18\"/>\n<text text-anchor=\"middle\" x=\"609\" y=\"-96.8\" font-family=\"Times,serif\" font-size=\"14.00\">+</text>\n</g>\n<!-- 140232165954560+&#45;&gt;140232165954560 -->\n<g id=\"edge1\" class=\"edge\">\n<title>140232165954560+&#45;&gt;140232165954560</title>\n<path fill=\"none\" stroke=\"black\" d=\"M636.23,-100.5C643.7,-100.5 652.41,-100.5 661.87,-100.5\"/>\n<polygon fill=\"black\" stroke=\"black\" points=\"661.98,-104 671.98,-100.5 661.98,-97 661.98,-104\"/>\n</g>\n<!-- 140232166414368 -->\n<g id=\"node3\" class=\"node\">\n<title>140232166414368</title>\n<polygon fill=\"none\" stroke=\"black\" points=\"1392.99,-109.5 1392.99,-145.5 1577.99,-145.5 1577.99,-109.5 1392.99,-109.5\"/>\n<text text-anchor=\"middle\" x=\"1404.49\" y=\"-123.8\" font-family=\"Times,serif\" font-size=\"14.00\">o</text>\n<polyline fill=\"none\" stroke=\"black\" points=\"1415.99,-109.5 1415.99,-145.5 \"/>\n<text text-anchor=\"middle\" x=\"1455.99\" y=\"-123.8\" font-family=\"Times,serif\" font-size=\"14.00\">data 0.8814</text>\n<polyline fill=\"none\" stroke=\"black\" points=\"1495.99,-109.5 1495.99,-145.5 \"/>\n<text text-anchor=\"middle\" x=\"1536.99\" y=\"-123.8\" font-family=\"Times,serif\" font-size=\"14.00\">grad 1.0000</text>\n</g>\n<!-- 140232166414368ReLU -->\n<g id=\"node4\" class=\"node\">\n<title>140232166414368ReLU</title>\n<ellipse fill=\"none\" stroke=\"black\" cx=\"1324.5\" cy=\"-127.5\" rx=\"32.49\" ry=\"18\"/>\n<text text-anchor=\"middle\" x=\"1324.5\" y=\"-123.8\" font-family=\"Times,serif\" font-size=\"14.00\">ReLU</text>\n</g>\n<!-- 140232166414368ReLU&#45;&gt;140232166414368 -->\n<g id=\"edge2\" class=\"edge\">\n<title>140232166414368ReLU&#45;&gt;140232166414368</title>\n<path fill=\"none\" stroke=\"black\" d=\"M1357.29,-127.5C1365.01,-127.5 1373.68,-127.5 1382.78,-127.5\"/>\n<polygon fill=\"black\" stroke=\"black\" points=\"1382.79,-131 1392.79,-127.5 1382.79,-124 1382.79,-131\"/>\n</g>\n<!-- 140232165805696 -->\n<g id=\"node5\" class=\"node\">\n<title>140232165805696</title>\n<polygon fill=\"none\" stroke=\"black\" points=\"0,-55.5 0,-91.5 200,-91.5 200,-55.5 0,-55.5\"/>\n<text text-anchor=\"middle\" x=\"16.5\" y=\"-69.8\" font-family=\"Times,serif\" font-size=\"14.00\">w1</text>\n<polyline fill=\"none\" stroke=\"black\" points=\"33,-55.5 33,-91.5 \"/>\n<text text-anchor=\"middle\" x=\"75.5\" y=\"-69.8\" font-family=\"Times,serif\" font-size=\"14.00\">data &#45;3.0000</text>\n<polyline fill=\"none\" stroke=\"black\" points=\"118,-55.5 118,-91.5 \"/>\n<text text-anchor=\"middle\" x=\"159\" y=\"-69.8\" font-family=\"Times,serif\" font-size=\"14.00\">grad 2.0000</text>\n</g>\n<!-- 140232165806032* -->\n<g id=\"node15\" class=\"node\">\n<title>140232165806032*</title>\n<ellipse fill=\"none\" stroke=\"black\" cx=\"263\" cy=\"-73.5\" rx=\"27\" ry=\"18\"/>\n<text text-anchor=\"middle\" x=\"263\" y=\"-69.8\" font-family=\"Times,serif\" font-size=\"14.00\">*</text>\n</g>\n<!-- 140232165805696&#45;&gt;140232165806032* -->\n<g id=\"edge12\" class=\"edge\">\n<title>140232165805696&#45;&gt;140232165806032*</title>\n<path fill=\"none\" stroke=\"black\" d=\"M200.21,-73.5C209.2,-73.5 217.86,-73.5 225.7,-73.5\"/>\n<polygon fill=\"black\" stroke=\"black\" points=\"225.85,-77 235.85,-73.5 225.85,-70 225.85,-77\"/>\n</g>\n<!-- 140232165805216 -->\n<g id=\"node6\" class=\"node\">\n<title>140232165805216</title>\n<polygon fill=\"none\" stroke=\"black\" points=\"716,-137.5 716,-173.5 901,-173.5 901,-137.5 716,-137.5\"/>\n<text text-anchor=\"middle\" x=\"727.5\" y=\"-151.8\" font-family=\"Times,serif\" font-size=\"14.00\">b</text>\n<polyline fill=\"none\" stroke=\"black\" points=\"739,-137.5 739,-173.5 \"/>\n<text text-anchor=\"middle\" x=\"779\" y=\"-151.8\" font-family=\"Times,serif\" font-size=\"14.00\">data 6.8814</text>\n<polyline fill=\"none\" stroke=\"black\" points=\"819,-137.5 819,-173.5 \"/>\n<text text-anchor=\"middle\" x=\"860\" y=\"-151.8\" font-family=\"Times,serif\" font-size=\"14.00\">grad 1.0000</text>\n</g>\n<!-- 140232165805216&#45;&gt;140232166412592+ -->\n<g id=\"edge14\" class=\"edge\">\n<title>140232165805216&#45;&gt;140232166412592+</title>\n<path fill=\"none\" stroke=\"black\" d=\"M901.02,-142.52C926,-138.98 951.59,-135.36 971.37,-132.55\"/>\n<polygon fill=\"black\" stroke=\"black\" points=\"972.03,-135.99 981.43,-131.12 971.04,-129.06 972.03,-135.99\"/>\n</g>\n<!-- 140232165804208 -->\n<g id=\"node7\" class=\"node\">\n<title>140232165804208</title>\n<polygon fill=\"none\" stroke=\"black\" points=\"2,-0.5 2,-36.5 198,-36.5 198,-0.5 2,-0.5\"/>\n<text text-anchor=\"middle\" x=\"17\" y=\"-14.8\" font-family=\"Times,serif\" font-size=\"14.00\">x1</text>\n<polyline fill=\"none\" stroke=\"black\" points=\"32,-0.5 32,-36.5 \"/>\n<text text-anchor=\"middle\" x=\"72\" y=\"-14.8\" font-family=\"Times,serif\" font-size=\"14.00\">data 2.0000</text>\n<polyline fill=\"none\" stroke=\"black\" points=\"112,-0.5 112,-36.5 \"/>\n<text text-anchor=\"middle\" x=\"155\" y=\"-14.8\" font-family=\"Times,serif\" font-size=\"14.00\">grad &#45;3.0000</text>\n</g>\n<!-- 140232165804208&#45;&gt;140232165806032* -->\n<g id=\"edge11\" class=\"edge\">\n<title>140232165804208&#45;&gt;140232165806032*</title>\n<path fill=\"none\" stroke=\"black\" d=\"M169.28,-36.5C179.65,-39.61 190.16,-42.98 200,-46.5 210.28,-50.17 221.28,-54.74 231.11,-59.07\"/>\n<polygon fill=\"black\" stroke=\"black\" points=\"229.93,-62.37 240.48,-63.27 232.79,-55.99 229.93,-62.37\"/>\n</g>\n<!-- 140232166412592 -->\n<g id=\"node8\" class=\"node\">\n<title>140232166412592</title>\n<polygon fill=\"none\" stroke=\"black\" points=\"1071,-109.5 1071,-145.5 1256,-145.5 1256,-109.5 1071,-109.5\"/>\n<text text-anchor=\"middle\" x=\"1082.5\" y=\"-123.8\" font-family=\"Times,serif\" font-size=\"14.00\">n</text>\n<polyline fill=\"none\" stroke=\"black\" points=\"1094,-109.5 1094,-145.5 \"/>\n<text text-anchor=\"middle\" x=\"1134\" y=\"-123.8\" font-family=\"Times,serif\" font-size=\"14.00\">data 0.8814</text>\n<polyline fill=\"none\" stroke=\"black\" points=\"1174,-109.5 1174,-145.5 \"/>\n<text text-anchor=\"middle\" x=\"1215\" y=\"-123.8\" font-family=\"Times,serif\" font-size=\"14.00\">grad 1.0000</text>\n</g>\n<!-- 140232166412592&#45;&gt;140232166414368ReLU -->\n<g id=\"edge7\" class=\"edge\">\n<title>140232166412592&#45;&gt;140232166414368ReLU</title>\n<path fill=\"none\" stroke=\"black\" d=\"M1256.07,-127.5C1265,-127.5 1273.72,-127.5 1281.76,-127.5\"/>\n<polygon fill=\"black\" stroke=\"black\" points=\"1281.92,-131 1291.92,-127.5 1281.92,-124 1281.92,-131\"/>\n</g>\n<!-- 140232166412592+&#45;&gt;140232166412592 -->\n<g id=\"edge3\" class=\"edge\">\n<title>140232166412592+&#45;&gt;140232166412592</title>\n<path fill=\"none\" stroke=\"black\" d=\"M1035.04,-127.5C1042.58,-127.5 1051.3,-127.5 1060.57,-127.5\"/>\n<polygon fill=\"black\" stroke=\"black\" points=\"1060.81,-131 1070.81,-127.5 1060.81,-124 1060.81,-131\"/>\n</g>\n<!-- 140232165805360 -->\n<g id=\"node10\" class=\"node\">\n<title>140232165805360</title>\n<polygon fill=\"none\" stroke=\"black\" points=\"4,-165.5 4,-201.5 196,-201.5 196,-165.5 4,-165.5\"/>\n<text text-anchor=\"middle\" x=\"19\" y=\"-179.8\" font-family=\"Times,serif\" font-size=\"14.00\">x2</text>\n<polyline fill=\"none\" stroke=\"black\" points=\"34,-165.5 34,-201.5 \"/>\n<text text-anchor=\"middle\" x=\"74\" y=\"-179.8\" font-family=\"Times,serif\" font-size=\"14.00\">data 0.0000</text>\n<polyline fill=\"none\" stroke=\"black\" points=\"114,-165.5 114,-201.5 \"/>\n<text text-anchor=\"middle\" x=\"155\" y=\"-179.8\" font-family=\"Times,serif\" font-size=\"14.00\">grad 1.0000</text>\n</g>\n<!-- 140232165953888* -->\n<g id=\"node12\" class=\"node\">\n<title>140232165953888*</title>\n<ellipse fill=\"none\" stroke=\"black\" cx=\"263\" cy=\"-128.5\" rx=\"27\" ry=\"18\"/>\n<text text-anchor=\"middle\" x=\"263\" y=\"-124.8\" font-family=\"Times,serif\" font-size=\"14.00\">*</text>\n</g>\n<!-- 140232165805360&#45;&gt;140232165953888* -->\n<g id=\"edge13\" class=\"edge\">\n<title>140232165805360&#45;&gt;140232165953888*</title>\n<path fill=\"none\" stroke=\"black\" d=\"M172.53,-165.44C181.84,-162.67 191.2,-159.67 200,-156.5 210.53,-152.71 221.75,-147.9 231.72,-143.33\"/>\n<polygon fill=\"black\" stroke=\"black\" points=\"233.25,-146.48 240.82,-139.07 230.28,-140.14 233.25,-146.48\"/>\n</g>\n<!-- 140232165953888 -->\n<g id=\"node11\" class=\"node\">\n<title>140232165953888</title>\n<polygon fill=\"none\" stroke=\"black\" points=\"328.5,-110.5 328.5,-146.5 543.5,-146.5 543.5,-110.5 328.5,-110.5\"/>\n<text text-anchor=\"middle\" x=\"355\" y=\"-124.8\" font-family=\"Times,serif\" font-size=\"14.00\">x2*w2</text>\n<polyline fill=\"none\" stroke=\"black\" points=\"381.5,-110.5 381.5,-146.5 \"/>\n<text text-anchor=\"middle\" x=\"421.5\" y=\"-124.8\" font-family=\"Times,serif\" font-size=\"14.00\">data 0.0000</text>\n<polyline fill=\"none\" stroke=\"black\" points=\"461.5,-110.5 461.5,-146.5 \"/>\n<text text-anchor=\"middle\" x=\"502.5\" y=\"-124.8\" font-family=\"Times,serif\" font-size=\"14.00\">grad 1.0000</text>\n</g>\n<!-- 140232165953888&#45;&gt;140232165954560+ -->\n<g id=\"edge9\" class=\"edge\">\n<title>140232165953888&#45;&gt;140232165954560+</title>\n<path fill=\"none\" stroke=\"black\" d=\"M543.84,-111.01C554.01,-109.34 563.76,-107.74 572.44,-106.32\"/>\n<polygon fill=\"black\" stroke=\"black\" points=\"573.17,-109.75 582.47,-104.68 572.04,-102.84 573.17,-109.75\"/>\n</g>\n<!-- 140232165953888*&#45;&gt;140232165953888 -->\n<g id=\"edge4\" class=\"edge\">\n<title>140232165953888*&#45;&gt;140232165953888</title>\n<path fill=\"none\" stroke=\"black\" d=\"M290.34,-128.5C298.51,-128.5 308.08,-128.5 318.36,-128.5\"/>\n<polygon fill=\"black\" stroke=\"black\" points=\"318.39,-132 328.39,-128.5 318.39,-125 318.39,-132\"/>\n</g>\n<!-- 140232165805984 -->\n<g id=\"node13\" class=\"node\">\n<title>140232165805984</title>\n<polygon fill=\"none\" stroke=\"black\" points=\"2.5,-110.5 2.5,-146.5 197.5,-146.5 197.5,-110.5 2.5,-110.5\"/>\n<text text-anchor=\"middle\" x=\"19\" y=\"-124.8\" font-family=\"Times,serif\" font-size=\"14.00\">w2</text>\n<polyline fill=\"none\" stroke=\"black\" points=\"35.5,-110.5 35.5,-146.5 \"/>\n<text text-anchor=\"middle\" x=\"75.5\" y=\"-124.8\" font-family=\"Times,serif\" font-size=\"14.00\">data 1.0000</text>\n<polyline fill=\"none\" stroke=\"black\" points=\"115.5,-110.5 115.5,-146.5 \"/>\n<text text-anchor=\"middle\" x=\"156.5\" y=\"-124.8\" font-family=\"Times,serif\" font-size=\"14.00\">grad 0.0000</text>\n</g>\n<!-- 140232165805984&#45;&gt;140232165953888* -->\n<g id=\"edge8\" class=\"edge\">\n<title>140232165805984&#45;&gt;140232165953888*</title>\n<path fill=\"none\" stroke=\"black\" d=\"M197.91,-128.5C207.65,-128.5 217.05,-128.5 225.52,-128.5\"/>\n<polygon fill=\"black\" stroke=\"black\" points=\"225.7,-132 235.7,-128.5 225.7,-125 225.7,-132\"/>\n</g>\n<!-- 140232165806032 -->\n<g id=\"node14\" class=\"node\">\n<title>140232165806032</title>\n<polygon fill=\"none\" stroke=\"black\" points=\"326,-55.5 326,-91.5 546,-91.5 546,-55.5 326,-55.5\"/>\n<text text-anchor=\"middle\" x=\"352.5\" y=\"-69.8\" font-family=\"Times,serif\" font-size=\"14.00\">x1*w1</text>\n<polyline fill=\"none\" stroke=\"black\" points=\"379,-55.5 379,-91.5 \"/>\n<text text-anchor=\"middle\" x=\"421.5\" y=\"-69.8\" font-family=\"Times,serif\" font-size=\"14.00\">data &#45;6.0000</text>\n<polyline fill=\"none\" stroke=\"black\" points=\"464,-55.5 464,-91.5 \"/>\n<text text-anchor=\"middle\" x=\"505\" y=\"-69.8\" font-family=\"Times,serif\" font-size=\"14.00\">grad 1.0000</text>\n</g>\n<!-- 140232165806032&#45;&gt;140232165954560+ -->\n<g id=\"edge10\" class=\"edge\">\n<title>140232165806032&#45;&gt;140232165954560+</title>\n<path fill=\"none\" stroke=\"black\" d=\"M546.27,-90.75C555.64,-92.23 564.6,-93.65 572.65,-94.92\"/>\n<polygon fill=\"black\" stroke=\"black\" points=\"572.23,-98.4 582.65,-96.5 573.32,-91.48 572.23,-98.4\"/>\n</g>\n<!-- 140232165806032*&#45;&gt;140232165806032 -->\n<g id=\"edge5\" class=\"edge\">\n<title>140232165806032*&#45;&gt;140232165806032</title>\n<path fill=\"none\" stroke=\"black\" d=\"M290.34,-73.5C297.77,-73.5 306.37,-73.5 315.6,-73.5\"/>\n<polygon fill=\"black\" stroke=\"black\" points=\"315.84,-77 325.84,-73.5 315.84,-70 315.84,-77\"/>\n</g>\n</g>\n</svg>\n"
          },
          "metadata": {},
          "execution_count": 145
        }
      ]
    },
    {
      "cell_type": "code",
      "source": [
        "# swap autograd True/False\n",
        "o = build_graph_relu()\n",
        "o.backward()\n",
        "draw_dot(o)"
      ],
      "metadata": {
        "colab": {
          "base_uri": "https://localhost:8080/",
          "height": 321
        },
        "id": "kv_KHadgX_Hf",
        "outputId": "2c5bf4ba-3534-4754-d7d1-db7d24a6fc67"
      },
      "execution_count": 146,
      "outputs": [
        {
          "output_type": "execute_result",
          "data": {
            "text/plain": [
              "<graphviz.dot.Digraph at 0x7f8a58713610>"
            ],
            "image/svg+xml": "<?xml version=\"1.0\" encoding=\"UTF-8\" standalone=\"no\"?>\n<!DOCTYPE svg PUBLIC \"-//W3C//DTD SVG 1.1//EN\"\n \"http://www.w3.org/Graphics/SVG/1.1/DTD/svg11.dtd\">\n<!-- Generated by graphviz version 2.43.0 (0)\n -->\n<!-- Title: %3 Pages: 1 -->\n<svg width=\"1586pt\" height=\"210pt\"\n viewBox=\"0.00 0.00 1585.99 210.00\" xmlns=\"http://www.w3.org/2000/svg\" xmlns:xlink=\"http://www.w3.org/1999/xlink\">\n<g id=\"graph0\" class=\"graph\" transform=\"scale(1 1) rotate(0) translate(4 206)\">\n<title>%3</title>\n<polygon fill=\"white\" stroke=\"transparent\" points=\"-4,4 -4,-206 1581.99,-206 1581.99,4 -4,4\"/>\n<!-- 140232166027808 -->\n<g id=\"node1\" class=\"node\">\n<title>140232166027808</title>\n<polygon fill=\"none\" stroke=\"black\" points=\"0,-165.5 0,-201.5 200,-201.5 200,-165.5 0,-165.5\"/>\n<text text-anchor=\"middle\" x=\"16.5\" y=\"-179.8\" font-family=\"Times,serif\" font-size=\"14.00\">w1</text>\n<polyline fill=\"none\" stroke=\"black\" points=\"33,-165.5 33,-201.5 \"/>\n<text text-anchor=\"middle\" x=\"75.5\" y=\"-179.8\" font-family=\"Times,serif\" font-size=\"14.00\">data &#45;3.0000</text>\n<polyline fill=\"none\" stroke=\"black\" points=\"118,-165.5 118,-201.5 \"/>\n<text text-anchor=\"middle\" x=\"159\" y=\"-179.8\" font-family=\"Times,serif\" font-size=\"14.00\">grad 2.0000</text>\n</g>\n<!-- 140232166027904* -->\n<g id=\"node5\" class=\"node\">\n<title>140232166027904*</title>\n<ellipse fill=\"none\" stroke=\"black\" cx=\"263\" cy=\"-128.5\" rx=\"27\" ry=\"18\"/>\n<text text-anchor=\"middle\" x=\"263\" y=\"-124.8\" font-family=\"Times,serif\" font-size=\"14.00\">*</text>\n</g>\n<!-- 140232166027808&#45;&gt;140232166027904* -->\n<g id=\"edge12\" class=\"edge\">\n<title>140232166027808&#45;&gt;140232166027904*</title>\n<path fill=\"none\" stroke=\"black\" d=\"M172.53,-165.44C181.84,-162.67 191.2,-159.67 200,-156.5 210.53,-152.71 221.75,-147.9 231.72,-143.33\"/>\n<polygon fill=\"black\" stroke=\"black\" points=\"233.25,-146.48 240.82,-139.07 230.28,-140.14 233.25,-146.48\"/>\n</g>\n<!-- 140232166028336 -->\n<g id=\"node2\" class=\"node\">\n<title>140232166028336</title>\n<polygon fill=\"none\" stroke=\"black\" points=\"672,-82.5 672,-118.5 945,-118.5 945,-82.5 672,-82.5\"/>\n<text text-anchor=\"middle\" x=\"725\" y=\"-96.8\" font-family=\"Times,serif\" font-size=\"14.00\">x1*w1 + x2*w2</text>\n<polyline fill=\"none\" stroke=\"black\" points=\"778,-82.5 778,-118.5 \"/>\n<text text-anchor=\"middle\" x=\"820.5\" y=\"-96.8\" font-family=\"Times,serif\" font-size=\"14.00\">data &#45;6.0000</text>\n<polyline fill=\"none\" stroke=\"black\" points=\"863,-82.5 863,-118.5 \"/>\n<text text-anchor=\"middle\" x=\"904\" y=\"-96.8\" font-family=\"Times,serif\" font-size=\"14.00\">grad 1.0000</text>\n</g>\n<!-- 140232166028528+ -->\n<g id=\"node9\" class=\"node\">\n<title>140232166028528+</title>\n<ellipse fill=\"none\" stroke=\"black\" cx=\"1008\" cy=\"-72.5\" rx=\"27\" ry=\"18\"/>\n<text text-anchor=\"middle\" x=\"1008\" y=\"-68.8\" font-family=\"Times,serif\" font-size=\"14.00\">+</text>\n</g>\n<!-- 140232166028336&#45;&gt;140232166028528+ -->\n<g id=\"edge6\" class=\"edge\">\n<title>140232166028336&#45;&gt;140232166028528+</title>\n<path fill=\"none\" stroke=\"black\" d=\"M936.53,-82.49C949.09,-80.71 960.99,-79.02 971.3,-77.56\"/>\n<polygon fill=\"black\" stroke=\"black\" points=\"972.03,-80.99 981.44,-76.12 971.05,-74.06 972.03,-80.99\"/>\n</g>\n<!-- 140232166028336+ -->\n<g id=\"node3\" class=\"node\">\n<title>140232166028336+</title>\n<ellipse fill=\"none\" stroke=\"black\" cx=\"609\" cy=\"-100.5\" rx=\"27\" ry=\"18\"/>\n<text text-anchor=\"middle\" x=\"609\" y=\"-96.8\" font-family=\"Times,serif\" font-size=\"14.00\">+</text>\n</g>\n<!-- 140232166028336+&#45;&gt;140232166028336 -->\n<g id=\"edge1\" class=\"edge\">\n<title>140232166028336+&#45;&gt;140232166028336</title>\n<path fill=\"none\" stroke=\"black\" d=\"M636.23,-100.5C643.7,-100.5 652.41,-100.5 661.87,-100.5\"/>\n<polygon fill=\"black\" stroke=\"black\" points=\"661.98,-104 671.98,-100.5 661.98,-97 661.98,-104\"/>\n</g>\n<!-- 140232166027904 -->\n<g id=\"node4\" class=\"node\">\n<title>140232166027904</title>\n<polygon fill=\"none\" stroke=\"black\" points=\"326,-110.5 326,-146.5 546,-146.5 546,-110.5 326,-110.5\"/>\n<text text-anchor=\"middle\" x=\"352.5\" y=\"-124.8\" font-family=\"Times,serif\" font-size=\"14.00\">x1*w1</text>\n<polyline fill=\"none\" stroke=\"black\" points=\"379,-110.5 379,-146.5 \"/>\n<text text-anchor=\"middle\" x=\"421.5\" y=\"-124.8\" font-family=\"Times,serif\" font-size=\"14.00\">data &#45;6.0000</text>\n<polyline fill=\"none\" stroke=\"black\" points=\"464,-110.5 464,-146.5 \"/>\n<text text-anchor=\"middle\" x=\"505\" y=\"-124.8\" font-family=\"Times,serif\" font-size=\"14.00\">grad 1.0000</text>\n</g>\n<!-- 140232166027904&#45;&gt;140232166028336+ -->\n<g id=\"edge8\" class=\"edge\">\n<title>140232166027904&#45;&gt;140232166028336+</title>\n<path fill=\"none\" stroke=\"black\" d=\"M546.27,-110.61C555.64,-109.07 564.6,-107.61 572.65,-106.29\"/>\n<polygon fill=\"black\" stroke=\"black\" points=\"573.35,-109.72 582.65,-104.65 572.22,-102.81 573.35,-109.72\"/>\n</g>\n<!-- 140232166027904*&#45;&gt;140232166027904 -->\n<g id=\"edge2\" class=\"edge\">\n<title>140232166027904*&#45;&gt;140232166027904</title>\n<path fill=\"none\" stroke=\"black\" d=\"M290.34,-128.5C297.77,-128.5 306.37,-128.5 315.6,-128.5\"/>\n<polygon fill=\"black\" stroke=\"black\" points=\"315.84,-132 325.84,-128.5 315.84,-125 315.84,-132\"/>\n</g>\n<!-- 140232166027424 -->\n<g id=\"node6\" class=\"node\">\n<title>140232166027424</title>\n<polygon fill=\"none\" stroke=\"black\" points=\"2,-110.5 2,-146.5 198,-146.5 198,-110.5 2,-110.5\"/>\n<text text-anchor=\"middle\" x=\"17\" y=\"-124.8\" font-family=\"Times,serif\" font-size=\"14.00\">x1</text>\n<polyline fill=\"none\" stroke=\"black\" points=\"32,-110.5 32,-146.5 \"/>\n<text text-anchor=\"middle\" x=\"72\" y=\"-124.8\" font-family=\"Times,serif\" font-size=\"14.00\">data 2.0000</text>\n<polyline fill=\"none\" stroke=\"black\" points=\"112,-110.5 112,-146.5 \"/>\n<text text-anchor=\"middle\" x=\"155\" y=\"-124.8\" font-family=\"Times,serif\" font-size=\"14.00\">grad &#45;3.0000</text>\n</g>\n<!-- 140232166027424&#45;&gt;140232166027904* -->\n<g id=\"edge9\" class=\"edge\">\n<title>140232166027424&#45;&gt;140232166027904*</title>\n<path fill=\"none\" stroke=\"black\" d=\"M198.37,-128.5C208.05,-128.5 217.4,-128.5 225.8,-128.5\"/>\n<polygon fill=\"black\" stroke=\"black\" points=\"225.91,-132 235.91,-128.5 225.91,-125 225.91,-132\"/>\n</g>\n<!-- 140232166027472 -->\n<g id=\"node7\" class=\"node\">\n<title>140232166027472</title>\n<polygon fill=\"none\" stroke=\"black\" points=\"4,-55.5 4,-91.5 196,-91.5 196,-55.5 4,-55.5\"/>\n<text text-anchor=\"middle\" x=\"19\" y=\"-69.8\" font-family=\"Times,serif\" font-size=\"14.00\">x2</text>\n<polyline fill=\"none\" stroke=\"black\" points=\"34,-55.5 34,-91.5 \"/>\n<text text-anchor=\"middle\" x=\"74\" y=\"-69.8\" font-family=\"Times,serif\" font-size=\"14.00\">data 0.0000</text>\n<polyline fill=\"none\" stroke=\"black\" points=\"114,-55.5 114,-91.5 \"/>\n<text text-anchor=\"middle\" x=\"155\" y=\"-69.8\" font-family=\"Times,serif\" font-size=\"14.00\">grad 1.0000</text>\n</g>\n<!-- 140232166028144* -->\n<g id=\"node13\" class=\"node\">\n<title>140232166028144*</title>\n<ellipse fill=\"none\" stroke=\"black\" cx=\"263\" cy=\"-73.5\" rx=\"27\" ry=\"18\"/>\n<text text-anchor=\"middle\" x=\"263\" y=\"-69.8\" font-family=\"Times,serif\" font-size=\"14.00\">*</text>\n</g>\n<!-- 140232166027472&#45;&gt;140232166028144* -->\n<g id=\"edge13\" class=\"edge\">\n<title>140232166027472&#45;&gt;140232166028144*</title>\n<path fill=\"none\" stroke=\"black\" d=\"M196.05,-73.5C206.52,-73.5 216.65,-73.5 225.71,-73.5\"/>\n<polygon fill=\"black\" stroke=\"black\" points=\"225.79,-77 235.79,-73.5 225.79,-70 225.79,-77\"/>\n</g>\n<!-- 140232166028528 -->\n<g id=\"node8\" class=\"node\">\n<title>140232166028528</title>\n<polygon fill=\"none\" stroke=\"black\" points=\"1071,-54.5 1071,-90.5 1256,-90.5 1256,-54.5 1071,-54.5\"/>\n<text text-anchor=\"middle\" x=\"1082.5\" y=\"-68.8\" font-family=\"Times,serif\" font-size=\"14.00\">n</text>\n<polyline fill=\"none\" stroke=\"black\" points=\"1094,-54.5 1094,-90.5 \"/>\n<text text-anchor=\"middle\" x=\"1134\" y=\"-68.8\" font-family=\"Times,serif\" font-size=\"14.00\">data 0.8814</text>\n<polyline fill=\"none\" stroke=\"black\" points=\"1174,-54.5 1174,-90.5 \"/>\n<text text-anchor=\"middle\" x=\"1215\" y=\"-68.8\" font-family=\"Times,serif\" font-size=\"14.00\">grad 1.0000</text>\n</g>\n<!-- 140232166028720ReLU -->\n<g id=\"node15\" class=\"node\">\n<title>140232166028720ReLU</title>\n<ellipse fill=\"none\" stroke=\"black\" cx=\"1324.5\" cy=\"-72.5\" rx=\"32.49\" ry=\"18\"/>\n<text text-anchor=\"middle\" x=\"1324.5\" y=\"-68.8\" font-family=\"Times,serif\" font-size=\"14.00\">ReLU</text>\n</g>\n<!-- 140232166028528&#45;&gt;140232166028720ReLU -->\n<g id=\"edge11\" class=\"edge\">\n<title>140232166028528&#45;&gt;140232166028720ReLU</title>\n<path fill=\"none\" stroke=\"black\" d=\"M1256.07,-72.5C1265,-72.5 1273.72,-72.5 1281.76,-72.5\"/>\n<polygon fill=\"black\" stroke=\"black\" points=\"1281.92,-76 1291.92,-72.5 1281.92,-69 1281.92,-76\"/>\n</g>\n<!-- 140232166028528+&#45;&gt;140232166028528 -->\n<g id=\"edge3\" class=\"edge\">\n<title>140232166028528+&#45;&gt;140232166028528</title>\n<path fill=\"none\" stroke=\"black\" d=\"M1035.04,-72.5C1042.58,-72.5 1051.3,-72.5 1060.57,-72.5\"/>\n<polygon fill=\"black\" stroke=\"black\" points=\"1060.81,-76 1070.81,-72.5 1060.81,-69 1060.81,-76\"/>\n</g>\n<!-- 140232166027520 -->\n<g id=\"node10\" class=\"node\">\n<title>140232166027520</title>\n<polygon fill=\"none\" stroke=\"black\" points=\"2.5,-0.5 2.5,-36.5 197.5,-36.5 197.5,-0.5 2.5,-0.5\"/>\n<text text-anchor=\"middle\" x=\"19\" y=\"-14.8\" font-family=\"Times,serif\" font-size=\"14.00\">w2</text>\n<polyline fill=\"none\" stroke=\"black\" points=\"35.5,-0.5 35.5,-36.5 \"/>\n<text text-anchor=\"middle\" x=\"75.5\" y=\"-14.8\" font-family=\"Times,serif\" font-size=\"14.00\">data 1.0000</text>\n<polyline fill=\"none\" stroke=\"black\" points=\"115.5,-0.5 115.5,-36.5 \"/>\n<text text-anchor=\"middle\" x=\"156.5\" y=\"-14.8\" font-family=\"Times,serif\" font-size=\"14.00\">grad 0.0000</text>\n</g>\n<!-- 140232166027520&#45;&gt;140232166028144* -->\n<g id=\"edge14\" class=\"edge\">\n<title>140232166027520&#45;&gt;140232166028144*</title>\n<path fill=\"none\" stroke=\"black\" d=\"M169.28,-36.5C179.65,-39.61 190.16,-42.98 200,-46.5 210.28,-50.17 221.28,-54.74 231.11,-59.07\"/>\n<polygon fill=\"black\" stroke=\"black\" points=\"229.93,-62.37 240.48,-63.27 232.79,-55.99 229.93,-62.37\"/>\n</g>\n<!-- 140232166027616 -->\n<g id=\"node11\" class=\"node\">\n<title>140232166027616</title>\n<polygon fill=\"none\" stroke=\"black\" points=\"716,-27.5 716,-63.5 901,-63.5 901,-27.5 716,-27.5\"/>\n<text text-anchor=\"middle\" x=\"727.5\" y=\"-41.8\" font-family=\"Times,serif\" font-size=\"14.00\">b</text>\n<polyline fill=\"none\" stroke=\"black\" points=\"739,-27.5 739,-63.5 \"/>\n<text text-anchor=\"middle\" x=\"779\" y=\"-41.8\" font-family=\"Times,serif\" font-size=\"14.00\">data 6.8814</text>\n<polyline fill=\"none\" stroke=\"black\" points=\"819,-27.5 819,-63.5 \"/>\n<text text-anchor=\"middle\" x=\"860\" y=\"-41.8\" font-family=\"Times,serif\" font-size=\"14.00\">grad 1.0000</text>\n</g>\n<!-- 140232166027616&#45;&gt;140232166028528+ -->\n<g id=\"edge10\" class=\"edge\">\n<title>140232166027616&#45;&gt;140232166028528+</title>\n<path fill=\"none\" stroke=\"black\" d=\"M901.02,-58.01C926,-61.43 951.59,-64.93 971.37,-67.63\"/>\n<polygon fill=\"black\" stroke=\"black\" points=\"971.05,-71.12 981.43,-69.01 972,-64.18 971.05,-71.12\"/>\n</g>\n<!-- 140232166028144 -->\n<g id=\"node12\" class=\"node\">\n<title>140232166028144</title>\n<polygon fill=\"none\" stroke=\"black\" points=\"328.5,-55.5 328.5,-91.5 543.5,-91.5 543.5,-55.5 328.5,-55.5\"/>\n<text text-anchor=\"middle\" x=\"355\" y=\"-69.8\" font-family=\"Times,serif\" font-size=\"14.00\">x2*w2</text>\n<polyline fill=\"none\" stroke=\"black\" points=\"381.5,-55.5 381.5,-91.5 \"/>\n<text text-anchor=\"middle\" x=\"421.5\" y=\"-69.8\" font-family=\"Times,serif\" font-size=\"14.00\">data 0.0000</text>\n<polyline fill=\"none\" stroke=\"black\" points=\"461.5,-55.5 461.5,-91.5 \"/>\n<text text-anchor=\"middle\" x=\"502.5\" y=\"-69.8\" font-family=\"Times,serif\" font-size=\"14.00\">grad 1.0000</text>\n</g>\n<!-- 140232166028144&#45;&gt;140232166028336+ -->\n<g id=\"edge7\" class=\"edge\">\n<title>140232166028144&#45;&gt;140232166028336+</title>\n<path fill=\"none\" stroke=\"black\" d=\"M543.84,-90.37C554.01,-91.98 563.76,-93.51 572.44,-94.89\"/>\n<polygon fill=\"black\" stroke=\"black\" points=\"572.05,-98.37 582.47,-96.47 573.14,-91.45 572.05,-98.37\"/>\n</g>\n<!-- 140232166028144*&#45;&gt;140232166028144 -->\n<g id=\"edge4\" class=\"edge\">\n<title>140232166028144*&#45;&gt;140232166028144</title>\n<path fill=\"none\" stroke=\"black\" d=\"M290.34,-73.5C298.51,-73.5 308.08,-73.5 318.36,-73.5\"/>\n<polygon fill=\"black\" stroke=\"black\" points=\"318.39,-77 328.39,-73.5 318.39,-70 318.39,-77\"/>\n</g>\n<!-- 140232166028720 -->\n<g id=\"node14\" class=\"node\">\n<title>140232166028720</title>\n<polygon fill=\"none\" stroke=\"black\" points=\"1392.99,-54.5 1392.99,-90.5 1577.99,-90.5 1577.99,-54.5 1392.99,-54.5\"/>\n<text text-anchor=\"middle\" x=\"1404.49\" y=\"-68.8\" font-family=\"Times,serif\" font-size=\"14.00\">o</text>\n<polyline fill=\"none\" stroke=\"black\" points=\"1415.99,-54.5 1415.99,-90.5 \"/>\n<text text-anchor=\"middle\" x=\"1455.99\" y=\"-68.8\" font-family=\"Times,serif\" font-size=\"14.00\">data 0.8814</text>\n<polyline fill=\"none\" stroke=\"black\" points=\"1495.99,-54.5 1495.99,-90.5 \"/>\n<text text-anchor=\"middle\" x=\"1536.99\" y=\"-68.8\" font-family=\"Times,serif\" font-size=\"14.00\">grad 1.0000</text>\n</g>\n<!-- 140232166028720ReLU&#45;&gt;140232166028720 -->\n<g id=\"edge5\" class=\"edge\">\n<title>140232166028720ReLU&#45;&gt;140232166028720</title>\n<path fill=\"none\" stroke=\"black\" d=\"M1357.29,-72.5C1365.01,-72.5 1373.68,-72.5 1382.78,-72.5\"/>\n<polygon fill=\"black\" stroke=\"black\" points=\"1382.79,-76 1392.79,-72.5 1382.79,-69 1382.79,-76\"/>\n</g>\n</g>\n</svg>\n"
          },
          "metadata": {},
          "execution_count": 146
        }
      ]
    },
    {
      "cell_type": "code",
      "source": [
        "o = build_graph_sigmoid()\n",
        "o.backward()\n",
        "draw_dot(o)"
      ],
      "metadata": {
        "colab": {
          "base_uri": "https://localhost:8080/",
          "height": 321
        },
        "id": "IE9hAMT5lXdv",
        "outputId": "2ad73f84-53ec-412b-8892-220f14787b7d"
      },
      "execution_count": 147,
      "outputs": [
        {
          "output_type": "execute_result",
          "data": {
            "text/plain": [
              "<graphviz.dot.Digraph at 0x7f8a58713d30>"
            ],
            "image/svg+xml": "<?xml version=\"1.0\" encoding=\"UTF-8\" standalone=\"no\"?>\n<!DOCTYPE svg PUBLIC \"-//W3C//DTD SVG 1.1//EN\"\n \"http://www.w3.org/Graphics/SVG/1.1/DTD/svg11.dtd\">\n<!-- Generated by graphviz version 2.43.0 (0)\n -->\n<!-- Title: %3 Pages: 1 -->\n<svg width=\"1600pt\" height=\"210pt\"\n viewBox=\"0.00 0.00 1600.29 210.00\" xmlns=\"http://www.w3.org/2000/svg\" xmlns:xlink=\"http://www.w3.org/1999/xlink\">\n<g id=\"graph0\" class=\"graph\" transform=\"scale(1 1) rotate(0) translate(4 206)\">\n<title>%3</title>\n<polygon fill=\"white\" stroke=\"transparent\" points=\"-4,4 -4,-206 1596.29,-206 1596.29,4 -4,4\"/>\n<!-- 140232166030352 -->\n<g id=\"node1\" class=\"node\">\n<title>140232166030352</title>\n<polygon fill=\"none\" stroke=\"black\" points=\"1071,-109.5 1071,-145.5 1256,-145.5 1256,-109.5 1071,-109.5\"/>\n<text text-anchor=\"middle\" x=\"1082.5\" y=\"-123.8\" font-family=\"Times,serif\" font-size=\"14.00\">n</text>\n<polyline fill=\"none\" stroke=\"black\" points=\"1094,-109.5 1094,-145.5 \"/>\n<text text-anchor=\"middle\" x=\"1134\" y=\"-123.8\" font-family=\"Times,serif\" font-size=\"14.00\">data 0.8814</text>\n<polyline fill=\"none\" stroke=\"black\" points=\"1174,-109.5 1174,-145.5 \"/>\n<text text-anchor=\"middle\" x=\"1215\" y=\"-123.8\" font-family=\"Times,serif\" font-size=\"14.00\">grad 0.2071</text>\n</g>\n<!-- 140232166030544sigmoid -->\n<g id=\"node8\" class=\"node\">\n<title>140232166030544sigmoid</title>\n<ellipse fill=\"none\" stroke=\"black\" cx=\"1331.65\" cy=\"-127.5\" rx=\"39.79\" ry=\"18\"/>\n<text text-anchor=\"middle\" x=\"1331.65\" y=\"-123.8\" font-family=\"Times,serif\" font-size=\"14.00\">sigmoid</text>\n</g>\n<!-- 140232166030352&#45;&gt;140232166030544sigmoid -->\n<g id=\"edge9\" class=\"edge\">\n<title>140232166030352&#45;&gt;140232166030544sigmoid</title>\n<path fill=\"none\" stroke=\"black\" d=\"M1256.32,-127.5C1264.98,-127.5 1273.52,-127.5 1281.54,-127.5\"/>\n<polygon fill=\"black\" stroke=\"black\" points=\"1281.76,-131 1291.76,-127.5 1281.76,-124 1281.76,-131\"/>\n</g>\n<!-- 140232166030352+ -->\n<g id=\"node2\" class=\"node\">\n<title>140232166030352+</title>\n<ellipse fill=\"none\" stroke=\"black\" cx=\"1008\" cy=\"-127.5\" rx=\"27\" ry=\"18\"/>\n<text text-anchor=\"middle\" x=\"1008\" y=\"-123.8\" font-family=\"Times,serif\" font-size=\"14.00\">+</text>\n</g>\n<!-- 140232166030352+&#45;&gt;140232166030352 -->\n<g id=\"edge1\" class=\"edge\">\n<title>140232166030352+&#45;&gt;140232166030352</title>\n<path fill=\"none\" stroke=\"black\" d=\"M1035.04,-127.5C1042.58,-127.5 1051.3,-127.5 1060.57,-127.5\"/>\n<polygon fill=\"black\" stroke=\"black\" points=\"1060.81,-131 1070.81,-127.5 1060.81,-124 1060.81,-131\"/>\n</g>\n<!-- 140232166029344 -->\n<g id=\"node3\" class=\"node\">\n<title>140232166029344</title>\n<polygon fill=\"none\" stroke=\"black\" points=\"4,-165.5 4,-201.5 196,-201.5 196,-165.5 4,-165.5\"/>\n<text text-anchor=\"middle\" x=\"19\" y=\"-179.8\" font-family=\"Times,serif\" font-size=\"14.00\">x2</text>\n<polyline fill=\"none\" stroke=\"black\" points=\"34,-165.5 34,-201.5 \"/>\n<text text-anchor=\"middle\" x=\"74\" y=\"-179.8\" font-family=\"Times,serif\" font-size=\"14.00\">data 0.0000</text>\n<polyline fill=\"none\" stroke=\"black\" points=\"114,-165.5 114,-201.5 \"/>\n<text text-anchor=\"middle\" x=\"155\" y=\"-179.8\" font-family=\"Times,serif\" font-size=\"14.00\">grad 0.2071</text>\n</g>\n<!-- 140232166030016* -->\n<g id=\"node6\" class=\"node\">\n<title>140232166030016*</title>\n<ellipse fill=\"none\" stroke=\"black\" cx=\"263\" cy=\"-128.5\" rx=\"27\" ry=\"18\"/>\n<text text-anchor=\"middle\" x=\"263\" y=\"-124.8\" font-family=\"Times,serif\" font-size=\"14.00\">*</text>\n</g>\n<!-- 140232166029344&#45;&gt;140232166030016* -->\n<g id=\"edge13\" class=\"edge\">\n<title>140232166029344&#45;&gt;140232166030016*</title>\n<path fill=\"none\" stroke=\"black\" d=\"M172.53,-165.44C181.84,-162.67 191.2,-159.67 200,-156.5 210.53,-152.71 221.75,-147.9 231.72,-143.33\"/>\n<polygon fill=\"black\" stroke=\"black\" points=\"233.25,-146.48 240.82,-139.07 230.28,-140.14 233.25,-146.48\"/>\n</g>\n<!-- 140232166029392 -->\n<g id=\"node4\" class=\"node\">\n<title>140232166029392</title>\n<polygon fill=\"none\" stroke=\"black\" points=\"2.5,-110.5 2.5,-146.5 197.5,-146.5 197.5,-110.5 2.5,-110.5\"/>\n<text text-anchor=\"middle\" x=\"19\" y=\"-124.8\" font-family=\"Times,serif\" font-size=\"14.00\">w2</text>\n<polyline fill=\"none\" stroke=\"black\" points=\"35.5,-110.5 35.5,-146.5 \"/>\n<text text-anchor=\"middle\" x=\"75.5\" y=\"-124.8\" font-family=\"Times,serif\" font-size=\"14.00\">data 1.0000</text>\n<polyline fill=\"none\" stroke=\"black\" points=\"115.5,-110.5 115.5,-146.5 \"/>\n<text text-anchor=\"middle\" x=\"156.5\" y=\"-124.8\" font-family=\"Times,serif\" font-size=\"14.00\">grad 0.0000</text>\n</g>\n<!-- 140232166029392&#45;&gt;140232166030016* -->\n<g id=\"edge8\" class=\"edge\">\n<title>140232166029392&#45;&gt;140232166030016*</title>\n<path fill=\"none\" stroke=\"black\" d=\"M197.91,-128.5C207.65,-128.5 217.05,-128.5 225.52,-128.5\"/>\n<polygon fill=\"black\" stroke=\"black\" points=\"225.7,-132 235.7,-128.5 225.7,-125 225.7,-132\"/>\n</g>\n<!-- 140232166030016 -->\n<g id=\"node5\" class=\"node\">\n<title>140232166030016</title>\n<polygon fill=\"none\" stroke=\"black\" points=\"328.5,-110.5 328.5,-146.5 543.5,-146.5 543.5,-110.5 328.5,-110.5\"/>\n<text text-anchor=\"middle\" x=\"355\" y=\"-124.8\" font-family=\"Times,serif\" font-size=\"14.00\">x2*w2</text>\n<polyline fill=\"none\" stroke=\"black\" points=\"381.5,-110.5 381.5,-146.5 \"/>\n<text text-anchor=\"middle\" x=\"421.5\" y=\"-124.8\" font-family=\"Times,serif\" font-size=\"14.00\">data 0.0000</text>\n<polyline fill=\"none\" stroke=\"black\" points=\"461.5,-110.5 461.5,-146.5 \"/>\n<text text-anchor=\"middle\" x=\"502.5\" y=\"-124.8\" font-family=\"Times,serif\" font-size=\"14.00\">grad 0.2071</text>\n</g>\n<!-- 140232166030160+ -->\n<g id=\"node13\" class=\"node\">\n<title>140232166030160+</title>\n<ellipse fill=\"none\" stroke=\"black\" cx=\"609\" cy=\"-100.5\" rx=\"27\" ry=\"18\"/>\n<text text-anchor=\"middle\" x=\"609\" y=\"-96.8\" font-family=\"Times,serif\" font-size=\"14.00\">+</text>\n</g>\n<!-- 140232166030016&#45;&gt;140232166030160+ -->\n<g id=\"edge14\" class=\"edge\">\n<title>140232166030016&#45;&gt;140232166030160+</title>\n<path fill=\"none\" stroke=\"black\" d=\"M543.84,-111.01C554.01,-109.34 563.76,-107.74 572.44,-106.32\"/>\n<polygon fill=\"black\" stroke=\"black\" points=\"573.17,-109.75 582.47,-104.68 572.04,-102.84 573.17,-109.75\"/>\n</g>\n<!-- 140232166030016*&#45;&gt;140232166030016 -->\n<g id=\"edge2\" class=\"edge\">\n<title>140232166030016*&#45;&gt;140232166030016</title>\n<path fill=\"none\" stroke=\"black\" d=\"M290.34,-128.5C298.51,-128.5 308.08,-128.5 318.36,-128.5\"/>\n<polygon fill=\"black\" stroke=\"black\" points=\"318.39,-132 328.39,-128.5 318.39,-125 318.39,-132\"/>\n</g>\n<!-- 140232166030544 -->\n<g id=\"node7\" class=\"node\">\n<title>140232166030544</title>\n<polygon fill=\"none\" stroke=\"black\" points=\"1407.29,-109.5 1407.29,-145.5 1592.29,-145.5 1592.29,-109.5 1407.29,-109.5\"/>\n<text text-anchor=\"middle\" x=\"1418.79\" y=\"-123.8\" font-family=\"Times,serif\" font-size=\"14.00\">o</text>\n<polyline fill=\"none\" stroke=\"black\" points=\"1430.29,-109.5 1430.29,-145.5 \"/>\n<text text-anchor=\"middle\" x=\"1470.29\" y=\"-123.8\" font-family=\"Times,serif\" font-size=\"14.00\">data 0.7071</text>\n<polyline fill=\"none\" stroke=\"black\" points=\"1510.29,-109.5 1510.29,-145.5 \"/>\n<text text-anchor=\"middle\" x=\"1551.29\" y=\"-123.8\" font-family=\"Times,serif\" font-size=\"14.00\">grad 1.0000</text>\n</g>\n<!-- 140232166030544sigmoid&#45;&gt;140232166030544 -->\n<g id=\"edge3\" class=\"edge\">\n<title>140232166030544sigmoid&#45;&gt;140232166030544</title>\n<path fill=\"none\" stroke=\"black\" d=\"M1371.6,-127.5C1379.48,-127.5 1388.09,-127.5 1397.02,-127.5\"/>\n<polygon fill=\"black\" stroke=\"black\" points=\"1397.2,-131 1407.2,-127.5 1397.2,-124 1397.2,-131\"/>\n</g>\n<!-- 140232166029536 -->\n<g id=\"node9\" class=\"node\">\n<title>140232166029536</title>\n<polygon fill=\"none\" stroke=\"black\" points=\"716,-137.5 716,-173.5 901,-173.5 901,-137.5 716,-137.5\"/>\n<text text-anchor=\"middle\" x=\"727.5\" y=\"-151.8\" font-family=\"Times,serif\" font-size=\"14.00\">b</text>\n<polyline fill=\"none\" stroke=\"black\" points=\"739,-137.5 739,-173.5 \"/>\n<text text-anchor=\"middle\" x=\"779\" y=\"-151.8\" font-family=\"Times,serif\" font-size=\"14.00\">data 6.8814</text>\n<polyline fill=\"none\" stroke=\"black\" points=\"819,-137.5 819,-173.5 \"/>\n<text text-anchor=\"middle\" x=\"860\" y=\"-151.8\" font-family=\"Times,serif\" font-size=\"14.00\">grad 0.2071</text>\n</g>\n<!-- 140232166029536&#45;&gt;140232166030352+ -->\n<g id=\"edge11\" class=\"edge\">\n<title>140232166029536&#45;&gt;140232166030352+</title>\n<path fill=\"none\" stroke=\"black\" d=\"M901.02,-142.52C926,-138.98 951.59,-135.36 971.37,-132.55\"/>\n<polygon fill=\"black\" stroke=\"black\" points=\"972.03,-135.99 981.43,-131.12 971.04,-129.06 972.03,-135.99\"/>\n</g>\n<!-- 140232166029632 -->\n<g id=\"node10\" class=\"node\">\n<title>140232166029632</title>\n<polygon fill=\"none\" stroke=\"black\" points=\"326,-55.5 326,-91.5 546,-91.5 546,-55.5 326,-55.5\"/>\n<text text-anchor=\"middle\" x=\"352.5\" y=\"-69.8\" font-family=\"Times,serif\" font-size=\"14.00\">x1*w1</text>\n<polyline fill=\"none\" stroke=\"black\" points=\"379,-55.5 379,-91.5 \"/>\n<text text-anchor=\"middle\" x=\"421.5\" y=\"-69.8\" font-family=\"Times,serif\" font-size=\"14.00\">data &#45;6.0000</text>\n<polyline fill=\"none\" stroke=\"black\" points=\"464,-55.5 464,-91.5 \"/>\n<text text-anchor=\"middle\" x=\"505\" y=\"-69.8\" font-family=\"Times,serif\" font-size=\"14.00\">grad 0.2071</text>\n</g>\n<!-- 140232166029632&#45;&gt;140232166030160+ -->\n<g id=\"edge10\" class=\"edge\">\n<title>140232166029632&#45;&gt;140232166030160+</title>\n<path fill=\"none\" stroke=\"black\" d=\"M546.27,-90.75C555.64,-92.23 564.6,-93.65 572.65,-94.92\"/>\n<polygon fill=\"black\" stroke=\"black\" points=\"572.23,-98.4 582.65,-96.5 573.32,-91.48 572.23,-98.4\"/>\n</g>\n<!-- 140232166029632* -->\n<g id=\"node11\" class=\"node\">\n<title>140232166029632*</title>\n<ellipse fill=\"none\" stroke=\"black\" cx=\"263\" cy=\"-73.5\" rx=\"27\" ry=\"18\"/>\n<text text-anchor=\"middle\" x=\"263\" y=\"-69.8\" font-family=\"Times,serif\" font-size=\"14.00\">*</text>\n</g>\n<!-- 140232166029632*&#45;&gt;140232166029632 -->\n<g id=\"edge4\" class=\"edge\">\n<title>140232166029632*&#45;&gt;140232166029632</title>\n<path fill=\"none\" stroke=\"black\" d=\"M290.34,-73.5C297.77,-73.5 306.37,-73.5 315.6,-73.5\"/>\n<polygon fill=\"black\" stroke=\"black\" points=\"315.84,-77 325.84,-73.5 315.84,-70 315.84,-77\"/>\n</g>\n<!-- 140232166030160 -->\n<g id=\"node12\" class=\"node\">\n<title>140232166030160</title>\n<polygon fill=\"none\" stroke=\"black\" points=\"672,-82.5 672,-118.5 945,-118.5 945,-82.5 672,-82.5\"/>\n<text text-anchor=\"middle\" x=\"725\" y=\"-96.8\" font-family=\"Times,serif\" font-size=\"14.00\">x1*w1 + x2*w2</text>\n<polyline fill=\"none\" stroke=\"black\" points=\"778,-82.5 778,-118.5 \"/>\n<text text-anchor=\"middle\" x=\"820.5\" y=\"-96.8\" font-family=\"Times,serif\" font-size=\"14.00\">data &#45;6.0000</text>\n<polyline fill=\"none\" stroke=\"black\" points=\"863,-82.5 863,-118.5 \"/>\n<text text-anchor=\"middle\" x=\"904\" y=\"-96.8\" font-family=\"Times,serif\" font-size=\"14.00\">grad 0.2071</text>\n</g>\n<!-- 140232166030160&#45;&gt;140232166030352+ -->\n<g id=\"edge6\" class=\"edge\">\n<title>140232166030160&#45;&gt;140232166030352+</title>\n<path fill=\"none\" stroke=\"black\" d=\"M941.24,-118.51C952.12,-120 962.4,-121.4 971.45,-122.64\"/>\n<polygon fill=\"black\" stroke=\"black\" points=\"971.11,-126.13 981.49,-124.01 972.05,-119.19 971.11,-126.13\"/>\n</g>\n<!-- 140232166030160+&#45;&gt;140232166030160 -->\n<g id=\"edge5\" class=\"edge\">\n<title>140232166030160+&#45;&gt;140232166030160</title>\n<path fill=\"none\" stroke=\"black\" d=\"M636.23,-100.5C643.7,-100.5 652.41,-100.5 661.87,-100.5\"/>\n<polygon fill=\"black\" stroke=\"black\" points=\"661.98,-104 671.98,-100.5 661.98,-97 661.98,-104\"/>\n</g>\n<!-- 140232166029200 -->\n<g id=\"node14\" class=\"node\">\n<title>140232166029200</title>\n<polygon fill=\"none\" stroke=\"black\" points=\"0,-55.5 0,-91.5 200,-91.5 200,-55.5 0,-55.5\"/>\n<text text-anchor=\"middle\" x=\"16.5\" y=\"-69.8\" font-family=\"Times,serif\" font-size=\"14.00\">w1</text>\n<polyline fill=\"none\" stroke=\"black\" points=\"33,-55.5 33,-91.5 \"/>\n<text text-anchor=\"middle\" x=\"75.5\" y=\"-69.8\" font-family=\"Times,serif\" font-size=\"14.00\">data &#45;3.0000</text>\n<polyline fill=\"none\" stroke=\"black\" points=\"118,-55.5 118,-91.5 \"/>\n<text text-anchor=\"middle\" x=\"159\" y=\"-69.8\" font-family=\"Times,serif\" font-size=\"14.00\">grad 0.4142</text>\n</g>\n<!-- 140232166029200&#45;&gt;140232166029632* -->\n<g id=\"edge12\" class=\"edge\">\n<title>140232166029200&#45;&gt;140232166029632*</title>\n<path fill=\"none\" stroke=\"black\" d=\"M200.21,-73.5C209.2,-73.5 217.86,-73.5 225.7,-73.5\"/>\n<polygon fill=\"black\" stroke=\"black\" points=\"225.85,-77 235.85,-73.5 225.85,-70 225.85,-77\"/>\n</g>\n<!-- 140232166029296 -->\n<g id=\"node15\" class=\"node\">\n<title>140232166029296</title>\n<polygon fill=\"none\" stroke=\"black\" points=\"2,-0.5 2,-36.5 198,-36.5 198,-0.5 2,-0.5\"/>\n<text text-anchor=\"middle\" x=\"17\" y=\"-14.8\" font-family=\"Times,serif\" font-size=\"14.00\">x1</text>\n<polyline fill=\"none\" stroke=\"black\" points=\"32,-0.5 32,-36.5 \"/>\n<text text-anchor=\"middle\" x=\"72\" y=\"-14.8\" font-family=\"Times,serif\" font-size=\"14.00\">data 2.0000</text>\n<polyline fill=\"none\" stroke=\"black\" points=\"112,-0.5 112,-36.5 \"/>\n<text text-anchor=\"middle\" x=\"155\" y=\"-14.8\" font-family=\"Times,serif\" font-size=\"14.00\">grad &#45;0.6213</text>\n</g>\n<!-- 140232166029296&#45;&gt;140232166029632* -->\n<g id=\"edge7\" class=\"edge\">\n<title>140232166029296&#45;&gt;140232166029632*</title>\n<path fill=\"none\" stroke=\"black\" d=\"M169.28,-36.5C179.65,-39.61 190.16,-42.98 200,-46.5 210.28,-50.17 221.28,-54.74 231.11,-59.07\"/>\n<polygon fill=\"black\" stroke=\"black\" points=\"229.93,-62.37 240.48,-63.27 232.79,-55.99 229.93,-62.37\"/>\n</g>\n</g>\n</svg>\n"
          },
          "metadata": {},
          "execution_count": 147
        }
      ]
    },
    {
      "cell_type": "markdown",
      "source": [
        "# Trying This With Torch"
      ],
      "metadata": {
        "id": "_zPvPNs8htQn"
      }
    },
    {
      "cell_type": "code",
      "source": [
        "import torch\n",
        "torch.version"
      ],
      "metadata": {
        "colab": {
          "base_uri": "https://localhost:8080/"
        },
        "id": "IHx-_KiUhKTB",
        "outputId": "12edd069-3f0a-405c-e069-dec1a610ff28"
      },
      "execution_count": 148,
      "outputs": [
        {
          "output_type": "execute_result",
          "data": {
            "text/plain": [
              "<module 'torch.version' from '/usr/local/lib/python3.8/dist-packages/torch/version.py'>"
            ]
          },
          "metadata": {},
          "execution_count": 148
        }
      ]
    },
    {
      "cell_type": "code",
      "source": [
        "rg = True\n",
        "x1 = torch.Tensor([2.0]).double();                x1.requires_grad = rg\n",
        "x2 = torch.Tensor([0.0]).double();                x2.requires_grad = rg\n",
        "w1 = torch.Tensor([-3.0]).double();               w1.requires_grad = rg\n",
        "w2 = torch.Tensor([1.0]).double();                w2.requires_grad = rg\n",
        "b = torch.Tensor([6.8813735870195432]).double();  b.requires_grad = rg\n",
        "\n",
        "n = x1 * w1 + x2 * w2 + b\n",
        "# o = torch.sigmoid(n)\n",
        "# o = torch.relu(n)\n",
        "o = torch.tanh(n)\n",
        "\n",
        "print(o.data.item())\n",
        "o.backward()\n",
        "\n",
        "print(\"------\")\n",
        "print(f\"x1: {x1.grad.item()}\")\n",
        "print(f\"w1: {w1.grad.item()}\")\n",
        "print(f\"x2: {x2.grad.item()}\")\n",
        "print(f\"w2: {w2.grad.item()}\")"
      ],
      "metadata": {
        "colab": {
          "base_uri": "https://localhost:8080/"
        },
        "id": "PjQVSl4Dhrr0",
        "outputId": "e7a9e508-07e4-43b0-c532-c64c6a24ada2"
      },
      "execution_count": 149,
      "outputs": [
        {
          "output_type": "stream",
          "name": "stdout",
          "text": [
            "0.7071066904050358\n",
            "------\n",
            "x1: -1.5000003851533106\n",
            "w1: 1.0000002567688737\n",
            "x2: 0.5000001283844369\n",
            "w2: 0.0\n"
          ]
        }
      ]
    },
    {
      "cell_type": "code",
      "source": [
        "torch.Tensor([[1,2,3],[4,5,6]]).dtype"
      ],
      "metadata": {
        "colab": {
          "base_uri": "https://localhost:8080/"
        },
        "id": "vrQFdUwcjWe-",
        "outputId": "d3f568e2-c455-4847-c22a-8b16b2e961e0"
      },
      "execution_count": 150,
      "outputs": [
        {
          "output_type": "execute_result",
          "data": {
            "text/plain": [
              "torch.float32"
            ]
          },
          "metadata": {},
          "execution_count": 150
        }
      ]
    },
    {
      "cell_type": "code",
      "source": [
        "# def test3():\n",
        "#   a = Value(-2.0, label='a')\n",
        "#   b = Value(3.0, label='b')\n",
        "#   c = Value(10.0, label='c')\n",
        "#   d = a * b + a; d.label = 'd'\n",
        "#   e = a + b * c; e.label = 'e'\n",
        "#   f = d * e * c * c; f.label = 'f'\n",
        "\n",
        "#   f.backward()\n",
        "#   return f\n",
        "\n",
        "# draw_dot(test3())\n",
        "a = torch.Tensor([-2.0]).double(); a.requires_grad = True\n",
        "b = torch.Tensor([3.0]).double(); b.requires_grad = True\n",
        "c = torch.Tensor([10.0]).double(); c.requires_grad = True\n",
        "\n",
        "d = a * b + a\n",
        "e = a + b * c\n",
        "f = d * e * c * c\n",
        "\n",
        "f.backward()\n",
        "print(f.data.item())\n",
        "\n",
        "print(\"----\")\n",
        "print(f\"a: {a.grad.item()}\")\n",
        "print(f\"b: {b.grad.item()}\")\n",
        "print(f\"c: {c.grad.item()}\")"
      ],
      "metadata": {
        "colab": {
          "base_uri": "https://localhost:8080/"
        },
        "id": "Mxlqbu_fksj_",
        "outputId": "3a14f7d1-607e-44bd-d0d6-c3e018b8f5eb"
      },
      "execution_count": 151,
      "outputs": [
        {
          "output_type": "stream",
          "name": "stdout",
          "text": [
            "-22400.0\n",
            "----\n",
            "a: 10400.0\n",
            "b: -13600.0\n",
            "c: -6880.0\n"
          ]
        }
      ]
    },
    {
      "cell_type": "code",
      "source": [
        "draw_dot(test3())"
      ],
      "metadata": {
        "colab": {
          "base_uri": "https://localhost:8080/",
          "height": 360
        },
        "id": "JwRI1YXFq7HO",
        "outputId": "3d7b5f2f-57dc-42e3-f859-098ae6cf6024"
      },
      "execution_count": 152,
      "outputs": [
        {
          "output_type": "execute_result",
          "data": {
            "text/plain": [
              "<graphviz.dot.Digraph at 0x7f8a58771280>"
            ],
            "image/svg+xml": "<?xml version=\"1.0\" encoding=\"UTF-8\" standalone=\"no\"?>\n<!DOCTYPE svg PUBLIC \"-//W3C//DTD SVG 1.1//EN\"\n \"http://www.w3.org/Graphics/SVG/1.1/DTD/svg11.dtd\">\n<!-- Generated by graphviz version 2.43.0 (0)\n -->\n<!-- Title: %3 Pages: 1 -->\n<svg width=\"1914pt\" height=\"239pt\"\n viewBox=\"0.00 0.00 1914.00 238.93\" xmlns=\"http://www.w3.org/2000/svg\" xmlns:xlink=\"http://www.w3.org/1999/xlink\">\n<g id=\"graph0\" class=\"graph\" transform=\"scale(1 1) rotate(0) translate(4 234.93)\">\n<title>%3</title>\n<polygon fill=\"white\" stroke=\"transparent\" points=\"-4,4 -4,-234.93 1910,-234.93 1910,4 -4,4\"/>\n<!-- 140232165805120 -->\n<g id=\"node1\" class=\"node\">\n<title>140232165805120</title>\n<polygon fill=\"none\" stroke=\"black\" points=\"0,-169 0,-205 217,-205 217,-169 0,-169\"/>\n<text text-anchor=\"middle\" x=\"11.5\" y=\"-183.3\" font-family=\"Times,serif\" font-size=\"14.00\">a</text>\n<polyline fill=\"none\" stroke=\"black\" points=\"23,-169 23,-205 \"/>\n<text text-anchor=\"middle\" x=\"65.5\" y=\"-183.3\" font-family=\"Times,serif\" font-size=\"14.00\">data &#45;2.0000</text>\n<polyline fill=\"none\" stroke=\"black\" points=\"108,-169 108,-205 \"/>\n<text text-anchor=\"middle\" x=\"162.5\" y=\"-183.3\" font-family=\"Times,serif\" font-size=\"14.00\">grad 10400.7218</text>\n</g>\n<!-- 140232165804208+ -->\n<g id=\"node5\" class=\"node\">\n<title>140232165804208+</title>\n<ellipse fill=\"none\" stroke=\"black\" cx=\"613\" cy=\"-140\" rx=\"27\" ry=\"18\"/>\n<text text-anchor=\"middle\" x=\"613\" y=\"-136.3\" font-family=\"Times,serif\" font-size=\"14.00\">+</text>\n</g>\n<!-- 140232165805120&#45;&gt;140232165804208+ -->\n<g id=\"edge12\" class=\"edge\">\n<title>140232165805120&#45;&gt;140232165804208+</title>\n<path fill=\"none\" stroke=\"black\" d=\"M174.4,-205.02C262.99,-226.13 425.02,-252.17 550,-201 568.17,-193.56 583.87,-177.94 594.93,-164.37\"/>\n<polygon fill=\"black\" stroke=\"black\" points=\"597.84,-166.33 601.2,-156.28 592.31,-162.05 597.84,-166.33\"/>\n</g>\n<!-- 140232165802960* -->\n<g id=\"node9\" class=\"node\">\n<title>140232165802960*</title>\n<ellipse fill=\"none\" stroke=\"black\" cx=\"280\" cy=\"-140\" rx=\"27\" ry=\"18\"/>\n<text text-anchor=\"middle\" x=\"280\" y=\"-136.3\" font-family=\"Times,serif\" font-size=\"14.00\">*</text>\n</g>\n<!-- 140232165805120&#45;&gt;140232165802960* -->\n<g id=\"edge17\" class=\"edge\">\n<title>140232165805120&#45;&gt;140232165802960*</title>\n<path fill=\"none\" stroke=\"black\" d=\"M174.55,-168.96C198.51,-162.32 224.69,-155.06 244.85,-149.47\"/>\n<polygon fill=\"black\" stroke=\"black\" points=\"245.81,-152.84 254.51,-146.79 243.94,-146.09 245.81,-152.84\"/>\n</g>\n<!-- 140232166030832+ -->\n<g id=\"node17\" class=\"node\">\n<title>140232166030832+</title>\n<ellipse fill=\"none\" stroke=\"black\" cx=\"613\" cy=\"-85\" rx=\"27\" ry=\"18\"/>\n<text text-anchor=\"middle\" x=\"613\" y=\"-81.3\" font-family=\"Times,serif\" font-size=\"14.00\">+</text>\n</g>\n<!-- 140232165805120&#45;&gt;140232166030832+ -->\n<g id=\"edge20\" class=\"edge\">\n<title>140232165805120&#45;&gt;140232166030832+</title>\n<path fill=\"none\" stroke=\"black\" d=\"M217.12,-193.38C328.99,-198.1 495.27,-199.13 550,-168 575.39,-153.56 568,-136.01 586,-113 587.4,-111.22 588.88,-109.41 590.41,-107.62\"/>\n<polygon fill=\"black\" stroke=\"black\" points=\"593.17,-109.78 597.21,-99.99 587.94,-105.13 593.17,-109.78\"/>\n</g>\n<!-- 140232166027376 -->\n<g id=\"node2\" class=\"node\">\n<title>140232166027376</title>\n<polygon fill=\"none\" stroke=\"black\" points=\"1351,-29 1351,-65 1565,-65 1565,-29 1351,-29\"/>\n<text text-anchor=\"middle\" x=\"1361\" y=\"-43.3\" font-family=\"Times,serif\" font-size=\"14.00\"> </text>\n<polyline fill=\"none\" stroke=\"black\" points=\"1371,-29 1371,-65 \"/>\n<text text-anchor=\"middle\" x=\"1423.5\" y=\"-43.3\" font-family=\"Times,serif\" font-size=\"14.00\">data &#45;2240.0000</text>\n<polyline fill=\"none\" stroke=\"black\" points=\"1476,-29 1476,-65 \"/>\n<text text-anchor=\"middle\" x=\"1520.5\" y=\"-43.3\" font-family=\"Times,serif\" font-size=\"14.00\">grad 10.0008</text>\n</g>\n<!-- 140232166028768* -->\n<g id=\"node15\" class=\"node\">\n<title>140232166028768*</title>\n<ellipse fill=\"none\" stroke=\"black\" cx=\"1628\" cy=\"-23\" rx=\"27\" ry=\"18\"/>\n<text text-anchor=\"middle\" x=\"1628\" y=\"-19.3\" font-family=\"Times,serif\" font-size=\"14.00\">*</text>\n</g>\n<!-- 140232166027376&#45;&gt;140232166028768* -->\n<g id=\"edge15\" class=\"edge\">\n<title>140232166027376&#45;&gt;140232166028768*</title>\n<path fill=\"none\" stroke=\"black\" d=\"M1565.4,-31.8C1574.63,-30.48 1583.48,-29.22 1591.44,-28.08\"/>\n<polygon fill=\"black\" stroke=\"black\" points=\"1591.96,-31.54 1601.36,-26.66 1590.97,-24.61 1591.96,-31.54\"/>\n</g>\n<!-- 140232166027376* -->\n<g id=\"node3\" class=\"node\">\n<title>140232166027376*</title>\n<ellipse fill=\"none\" stroke=\"black\" cx=\"1288\" cy=\"-47\" rx=\"27\" ry=\"18\"/>\n<text text-anchor=\"middle\" x=\"1288\" y=\"-43.3\" font-family=\"Times,serif\" font-size=\"14.00\">*</text>\n</g>\n<!-- 140232166027376*&#45;&gt;140232166027376 -->\n<g id=\"edge1\" class=\"edge\">\n<title>140232166027376*&#45;&gt;140232166027376</title>\n<path fill=\"none\" stroke=\"black\" d=\"M1315.25,-47C1322.7,-47 1331.34,-47 1340.59,-47\"/>\n<polygon fill=\"black\" stroke=\"black\" points=\"1340.84,-50.5 1350.84,-47 1340.84,-43.5 1340.84,-50.5\"/>\n</g>\n<!-- 140232165804208 -->\n<g id=\"node4\" class=\"node\">\n<title>140232165804208</title>\n<polygon fill=\"none\" stroke=\"black\" points=\"676,-122 676,-158 886,-158 886,-122 676,-122\"/>\n<text text-anchor=\"middle\" x=\"687.5\" y=\"-136.3\" font-family=\"Times,serif\" font-size=\"14.00\">d</text>\n<polyline fill=\"none\" stroke=\"black\" points=\"699,-122 699,-158 \"/>\n<text text-anchor=\"middle\" x=\"741.5\" y=\"-136.3\" font-family=\"Times,serif\" font-size=\"14.00\">data &#45;8.0000</text>\n<polyline fill=\"none\" stroke=\"black\" points=\"784,-122 784,-158 \"/>\n<text text-anchor=\"middle\" x=\"835\" y=\"-136.3\" font-family=\"Times,serif\" font-size=\"14.00\">grad 2800.1942</text>\n</g>\n<!-- 140232166031312* -->\n<g id=\"node13\" class=\"node\">\n<title>140232166031312*</title>\n<ellipse fill=\"none\" stroke=\"black\" cx=\"949\" cy=\"-85\" rx=\"27\" ry=\"18\"/>\n<text text-anchor=\"middle\" x=\"949\" y=\"-81.3\" font-family=\"Times,serif\" font-size=\"14.00\">*</text>\n</g>\n<!-- 140232165804208&#45;&gt;140232166031312* -->\n<g id=\"edge13\" class=\"edge\">\n<title>140232165804208&#45;&gt;140232166031312*</title>\n<path fill=\"none\" stroke=\"black\" d=\"M854.59,-121.93C865.21,-118.86 875.94,-115.52 886,-112 896.3,-108.39 907.3,-103.84 917.14,-99.51\"/>\n<polygon fill=\"black\" stroke=\"black\" points=\"918.82,-102.59 926.51,-95.29 915.95,-96.21 918.82,-102.59\"/>\n</g>\n<!-- 140232165804208+&#45;&gt;140232165804208 -->\n<g id=\"edge2\" class=\"edge\">\n<title>140232165804208+&#45;&gt;140232165804208</title>\n<path fill=\"none\" stroke=\"black\" d=\"M640.3,-140C647.76,-140 656.38,-140 665.6,-140\"/>\n<polygon fill=\"black\" stroke=\"black\" points=\"665.83,-143.5 675.83,-140 665.83,-136.5 665.83,-143.5\"/>\n</g>\n<!-- 140232165805840 -->\n<g id=\"node6\" class=\"node\">\n<title>140232165805840</title>\n<polygon fill=\"none\" stroke=\"black\" points=\"343,-67 343,-103 550,-103 550,-67 343,-67\"/>\n<text text-anchor=\"middle\" x=\"353\" y=\"-81.3\" font-family=\"Times,serif\" font-size=\"14.00\"> </text>\n<polyline fill=\"none\" stroke=\"black\" points=\"363,-67 363,-103 \"/>\n<text text-anchor=\"middle\" x=\"406.5\" y=\"-81.3\" font-family=\"Times,serif\" font-size=\"14.00\">data 30.0000</text>\n<polyline fill=\"none\" stroke=\"black\" points=\"450,-67 450,-103 \"/>\n<text text-anchor=\"middle\" x=\"500\" y=\"-81.3\" font-family=\"Times,serif\" font-size=\"14.00\">grad &#45;800.0559</text>\n</g>\n<!-- 140232165805840&#45;&gt;140232166030832+ -->\n<g id=\"edge14\" class=\"edge\">\n<title>140232165805840&#45;&gt;140232166030832+</title>\n<path fill=\"none\" stroke=\"black\" d=\"M550.28,-85C559.3,-85 567.96,-85 575.81,-85\"/>\n<polygon fill=\"black\" stroke=\"black\" points=\"575.95,-88.5 585.95,-85 575.95,-81.5 575.95,-88.5\"/>\n</g>\n<!-- 140232165805840* -->\n<g id=\"node7\" class=\"node\">\n<title>140232165805840*</title>\n<ellipse fill=\"none\" stroke=\"black\" cx=\"280\" cy=\"-85\" rx=\"27\" ry=\"18\"/>\n<text text-anchor=\"middle\" x=\"280\" y=\"-81.3\" font-family=\"Times,serif\" font-size=\"14.00\">*</text>\n</g>\n<!-- 140232165805840*&#45;&gt;140232165805840 -->\n<g id=\"edge3\" class=\"edge\">\n<title>140232165805840*&#45;&gt;140232165805840</title>\n<path fill=\"none\" stroke=\"black\" d=\"M307.07,-85C314.66,-85 323.49,-85 332.93,-85\"/>\n<polygon fill=\"black\" stroke=\"black\" points=\"332.97,-88.5 342.97,-85 332.97,-81.5 332.97,-88.5\"/>\n</g>\n<!-- 140232165802960 -->\n<g id=\"node8\" class=\"node\">\n<title>140232165802960</title>\n<polygon fill=\"none\" stroke=\"black\" points=\"343,-122 343,-158 550,-158 550,-122 343,-122\"/>\n<text text-anchor=\"middle\" x=\"353\" y=\"-136.3\" font-family=\"Times,serif\" font-size=\"14.00\"> </text>\n<polyline fill=\"none\" stroke=\"black\" points=\"363,-122 363,-158 \"/>\n<text text-anchor=\"middle\" x=\"405.5\" y=\"-136.3\" font-family=\"Times,serif\" font-size=\"14.00\">data &#45;6.0000</text>\n<polyline fill=\"none\" stroke=\"black\" points=\"448,-122 448,-158 \"/>\n<text text-anchor=\"middle\" x=\"499\" y=\"-136.3\" font-family=\"Times,serif\" font-size=\"14.00\">grad 2800.1942</text>\n</g>\n<!-- 140232165802960&#45;&gt;140232165804208+ -->\n<g id=\"edge9\" class=\"edge\">\n<title>140232165802960&#45;&gt;140232165804208+</title>\n<path fill=\"none\" stroke=\"black\" d=\"M550.28,-140C559.3,-140 567.96,-140 575.81,-140\"/>\n<polygon fill=\"black\" stroke=\"black\" points=\"575.95,-143.5 585.95,-140 575.95,-136.5 575.95,-143.5\"/>\n</g>\n<!-- 140232165802960*&#45;&gt;140232165802960 -->\n<g id=\"edge4\" class=\"edge\">\n<title>140232165802960*&#45;&gt;140232165802960</title>\n<path fill=\"none\" stroke=\"black\" d=\"M307.07,-140C314.66,-140 323.49,-140 332.93,-140\"/>\n<polygon fill=\"black\" stroke=\"black\" points=\"332.97,-143.5 342.97,-140 332.97,-136.5 332.97,-143.5\"/>\n</g>\n<!-- 140232165802288 -->\n<g id=\"node10\" class=\"node\">\n<title>140232165802288</title>\n<polygon fill=\"none\" stroke=\"black\" points=\"0.5,-95 0.5,-131 216.5,-131 216.5,-95 0.5,-95\"/>\n<text text-anchor=\"middle\" x=\"12\" y=\"-109.3\" font-family=\"Times,serif\" font-size=\"14.00\">b</text>\n<polyline fill=\"none\" stroke=\"black\" points=\"23.5,-95 23.5,-131 \"/>\n<text text-anchor=\"middle\" x=\"63.5\" y=\"-109.3\" font-family=\"Times,serif\" font-size=\"14.00\">data 3.0000</text>\n<polyline fill=\"none\" stroke=\"black\" points=\"103.5,-95 103.5,-131 \"/>\n<text text-anchor=\"middle\" x=\"160\" y=\"-109.3\" font-family=\"Times,serif\" font-size=\"14.00\">grad &#45;13600.9487</text>\n</g>\n<!-- 140232165802288&#45;&gt;140232165805840* -->\n<g id=\"edge18\" class=\"edge\">\n<title>140232165802288&#45;&gt;140232165805840*</title>\n<path fill=\"none\" stroke=\"black\" d=\"M216.85,-95.27C226.26,-93.71 235.27,-92.22 243.36,-90.89\"/>\n<polygon fill=\"black\" stroke=\"black\" points=\"244.14,-94.31 253.44,-89.22 243,-87.4 244.14,-94.31\"/>\n</g>\n<!-- 140232165802288&#45;&gt;140232165802960* -->\n<g id=\"edge16\" class=\"edge\">\n<title>140232165802288&#45;&gt;140232165802960*</title>\n<path fill=\"none\" stroke=\"black\" d=\"M216.85,-130.1C226.26,-131.6 235.27,-133.03 243.36,-134.32\"/>\n<polygon fill=\"black\" stroke=\"black\" points=\"243.01,-137.81 253.44,-135.93 244.11,-130.9 243.01,-137.81\"/>\n</g>\n<!-- 140232165802864 -->\n<g id=\"node11\" class=\"node\">\n<title>140232165802864</title>\n<polygon fill=\"none\" stroke=\"black\" points=\"0,-20 0,-56 217,-56 217,-20 0,-20\"/>\n<text text-anchor=\"middle\" x=\"11.5\" y=\"-34.3\" font-family=\"Times,serif\" font-size=\"14.00\">c</text>\n<polyline fill=\"none\" stroke=\"black\" points=\"23,-20 23,-56 \"/>\n<text text-anchor=\"middle\" x=\"66.5\" y=\"-34.3\" font-family=\"Times,serif\" font-size=\"14.00\">data 10.0000</text>\n<polyline fill=\"none\" stroke=\"black\" points=\"110,-20 110,-56 \"/>\n<text text-anchor=\"middle\" x=\"163.5\" y=\"-34.3\" font-family=\"Times,serif\" font-size=\"14.00\">grad &#45;6880.3488</text>\n</g>\n<!-- 140232165802864&#45;&gt;140232166027376* -->\n<g id=\"edge11\" class=\"edge\">\n<title>140232165802864&#45;&gt;140232166027376*</title>\n<path fill=\"none\" stroke=\"black\" d=\"M217.32,-38C283.22,-38 369.23,-38 445.5,-38 445.5,-38 445.5,-38 950,-38 1059.55,-38 1189.05,-42.81 1250.77,-45.4\"/>\n<polygon fill=\"black\" stroke=\"black\" points=\"1250.65,-48.9 1260.79,-45.82 1250.95,-41.9 1250.65,-48.9\"/>\n</g>\n<!-- 140232165802864&#45;&gt;140232165805840* -->\n<g id=\"edge19\" class=\"edge\">\n<title>140232165802864&#45;&gt;140232165805840*</title>\n<path fill=\"none\" stroke=\"black\" d=\"M174.55,-56.04C198.51,-62.68 224.69,-69.94 244.85,-75.53\"/>\n<polygon fill=\"black\" stroke=\"black\" points=\"243.94,-78.91 254.51,-78.21 245.81,-72.16 243.94,-78.91\"/>\n</g>\n<!-- 140232165802864&#45;&gt;140232166028768* -->\n<g id=\"edge8\" class=\"edge\">\n<title>140232165802864&#45;&gt;140232166028768*</title>\n<path fill=\"none\" stroke=\"black\" d=\"M214.71,-19.95C280.77,-10.14 367.86,0 445.5,0 445.5,0 445.5,0 1289,0 1399.37,0 1529.54,-12.36 1591.18,-18.96\"/>\n<polygon fill=\"black\" stroke=\"black\" points=\"1590.86,-22.44 1601.17,-20.04 1591.61,-15.48 1590.86,-22.44\"/>\n</g>\n<!-- 140232166031312 -->\n<g id=\"node12\" class=\"node\">\n<title>140232166031312</title>\n<polygon fill=\"none\" stroke=\"black\" points=\"1012,-67 1012,-103 1225,-103 1225,-67 1012,-67\"/>\n<text text-anchor=\"middle\" x=\"1022\" y=\"-81.3\" font-family=\"Times,serif\" font-size=\"14.00\"> </text>\n<polyline fill=\"none\" stroke=\"black\" points=\"1032,-67 1032,-103 \"/>\n<text text-anchor=\"middle\" x=\"1081\" y=\"-81.3\" font-family=\"Times,serif\" font-size=\"14.00\">data &#45;224.0000</text>\n<polyline fill=\"none\" stroke=\"black\" points=\"1130,-67 1130,-103 \"/>\n<text text-anchor=\"middle\" x=\"1177.5\" y=\"-81.3\" font-family=\"Times,serif\" font-size=\"14.00\">grad 100.0070</text>\n</g>\n<!-- 140232166031312&#45;&gt;140232166027376* -->\n<g id=\"edge21\" class=\"edge\">\n<title>140232166031312&#45;&gt;140232166027376*</title>\n<path fill=\"none\" stroke=\"black\" d=\"M1199.33,-66.89C1217.81,-62.7 1236.55,-58.45 1251.93,-54.96\"/>\n<polygon fill=\"black\" stroke=\"black\" points=\"1253.02,-58.3 1262,-52.67 1251.48,-51.47 1253.02,-58.3\"/>\n</g>\n<!-- 140232166031312*&#45;&gt;140232166031312 -->\n<g id=\"edge5\" class=\"edge\">\n<title>140232166031312*&#45;&gt;140232166031312</title>\n<path fill=\"none\" stroke=\"black\" d=\"M976.17,-85C983.6,-85 992.21,-85 1001.43,-85\"/>\n<polygon fill=\"black\" stroke=\"black\" points=\"1001.66,-88.5 1011.66,-85 1001.66,-81.5 1001.66,-88.5\"/>\n</g>\n<!-- 140232166028768 -->\n<g id=\"node14\" class=\"node\">\n<title>140232166028768</title>\n<polygon fill=\"none\" stroke=\"black\" points=\"1691,-5 1691,-41 1906,-41 1906,-5 1691,-5\"/>\n<text text-anchor=\"middle\" x=\"1701.5\" y=\"-19.3\" font-family=\"Times,serif\" font-size=\"14.00\">f</text>\n<polyline fill=\"none\" stroke=\"black\" points=\"1712,-5 1712,-41 \"/>\n<text text-anchor=\"middle\" x=\"1768\" y=\"-19.3\" font-family=\"Times,serif\" font-size=\"14.00\">data &#45;22400.0000</text>\n<polyline fill=\"none\" stroke=\"black\" points=\"1824,-5 1824,-41 \"/>\n<text text-anchor=\"middle\" x=\"1865\" y=\"-19.3\" font-family=\"Times,serif\" font-size=\"14.00\">grad 1.0000</text>\n</g>\n<!-- 140232166028768*&#45;&gt;140232166028768 -->\n<g id=\"edge6\" class=\"edge\">\n<title>140232166028768*&#45;&gt;140232166028768</title>\n<path fill=\"none\" stroke=\"black\" d=\"M1655.33,-23C1662.74,-23 1671.3,-23 1680.49,-23\"/>\n<polygon fill=\"black\" stroke=\"black\" points=\"1680.67,-26.5 1690.67,-23 1680.67,-19.5 1680.67,-26.5\"/>\n</g>\n<!-- 140232166030832 -->\n<g id=\"node16\" class=\"node\">\n<title>140232166030832</title>\n<polygon fill=\"none\" stroke=\"black\" points=\"676,-67 676,-103 886,-103 886,-67 676,-67\"/>\n<text text-anchor=\"middle\" x=\"687.5\" y=\"-81.3\" font-family=\"Times,serif\" font-size=\"14.00\">e</text>\n<polyline fill=\"none\" stroke=\"black\" points=\"699,-67 699,-103 \"/>\n<text text-anchor=\"middle\" x=\"742.5\" y=\"-81.3\" font-family=\"Times,serif\" font-size=\"14.00\">data 28.0000</text>\n<polyline fill=\"none\" stroke=\"black\" points=\"786,-67 786,-103 \"/>\n<text text-anchor=\"middle\" x=\"836\" y=\"-81.3\" font-family=\"Times,serif\" font-size=\"14.00\">grad &#45;800.0559</text>\n</g>\n<!-- 140232166030832&#45;&gt;140232166031312* -->\n<g id=\"edge10\" class=\"edge\">\n<title>140232166030832&#45;&gt;140232166031312*</title>\n<path fill=\"none\" stroke=\"black\" d=\"M886.19,-85C895.23,-85 903.92,-85 911.78,-85\"/>\n<polygon fill=\"black\" stroke=\"black\" points=\"911.93,-88.5 921.93,-85 911.93,-81.5 911.93,-88.5\"/>\n</g>\n<!-- 140232166030832+&#45;&gt;140232166030832 -->\n<g id=\"edge7\" class=\"edge\">\n<title>140232166030832+&#45;&gt;140232166030832</title>\n<path fill=\"none\" stroke=\"black\" d=\"M640.3,-85C647.76,-85 656.38,-85 665.6,-85\"/>\n<polygon fill=\"black\" stroke=\"black\" points=\"665.83,-88.5 675.83,-85 665.83,-81.5 665.83,-88.5\"/>\n</g>\n</g>\n</svg>\n"
          },
          "metadata": {},
          "execution_count": 152
        }
      ]
    },
    {
      "cell_type": "markdown",
      "source": [
        "# Implementing `Neuron` Class"
      ],
      "metadata": {
        "id": "5JI1Jz0Im3Oc"
      }
    },
    {
      "cell_type": "code",
      "source": [
        "import random\n",
        "from typing import Any, List\n",
        "\n",
        "class Neuron:\n",
        "\n",
        "  def __init__(self, nin: int) -> None:\n",
        "    self.w = [Value(random.uniform(-1, 1)) for _ in range(nin)]\n",
        "    self.b = Value(random.uniform(-1, 1)) # bias\n",
        "  \n",
        "  def _activation(self, v: Value) -> Value:\n",
        "    return v.tanh()\n",
        "\n",
        "  def __call__(self, x: Any) -> Value:\n",
        "    # activation(w * x + b)\n",
        "    act = np.dot(self.w, x) + self.b\n",
        "    out = self._activation(act)\n",
        "    return out\n",
        "  \n",
        "  def parameters(self) -> List[Value]:\n",
        "    return self.w + [self.b]"
      ],
      "metadata": {
        "id": "HOIrwm1rq-6a"
      },
      "execution_count": 153,
      "outputs": []
    },
    {
      "cell_type": "code",
      "source": [
        "x = [2.0, 3.0]\n",
        "n = Neuron(len(x))\n",
        "n(x)"
      ],
      "metadata": {
        "colab": {
          "base_uri": "https://localhost:8080/"
        },
        "id": "tMCTLsvyySdG",
        "outputId": "0d9a6fe4-a9b9-4696-97f6-b01cc39a33a1"
      },
      "execution_count": 154,
      "outputs": [
        {
          "output_type": "execute_result",
          "data": {
            "text/plain": [
              "Value(data=0.3819165660454811)"
            ]
          },
          "metadata": {},
          "execution_count": 154
        }
      ]
    },
    {
      "cell_type": "markdown",
      "source": [
        "# `Layer` Class"
      ],
      "metadata": {
        "id": "5RKZ6Yt_-JxT"
      }
    },
    {
      "cell_type": "code",
      "source": [
        "class Layer:\n",
        "\n",
        "  def __init__(self, nin, nout) -> None:\n",
        "    self.neurons = [Neuron(nin) for _ in range(nout)]\n",
        "  \n",
        "  def __call__(self, x):\n",
        "    outs = [n(x) for n in self.neurons]\n",
        "    return outs[0] if len(outs) == 1 else outs\n",
        "  \n",
        "  def parameters(self):\n",
        "    return [p for n in self.neurons for p in n.parameters()]\n",
        "    \n",
        "  "
      ],
      "metadata": {
        "id": "5uaLA1Kh-Ows"
      },
      "execution_count": 155,
      "outputs": []
    },
    {
      "cell_type": "code",
      "source": [
        "x = [2.0, 3.0]\n",
        "n = Layer(len(x), 3)\n",
        "n(x)"
      ],
      "metadata": {
        "id": "s_KlVCAN2heL",
        "colab": {
          "base_uri": "https://localhost:8080/"
        },
        "outputId": "a7613114-4401-4194-d392-d4dd9dc01a3f"
      },
      "execution_count": 156,
      "outputs": [
        {
          "output_type": "execute_result",
          "data": {
            "text/plain": [
              "[Value(data=-0.7674029183400974),\n",
              " Value(data=0.9713663174614785),\n",
              " Value(data=0.9207463757421062)]"
            ]
          },
          "metadata": {},
          "execution_count": 156
        }
      ]
    },
    {
      "cell_type": "markdown",
      "source": [
        "# `MLP` Class"
      ],
      "metadata": {
        "id": "nD7VlirVcClm"
      }
    },
    {
      "cell_type": "code",
      "source": [
        "from typing import List\n",
        "\n",
        "class MLP:\n",
        "\n",
        "  def __init__(self, nin: int, nouts: List[int]):\n",
        "    sz = [nin] + nouts\n",
        "    self.layers = [Layer(sz[i], sz[i+1]) for i in range(len(nouts))]\n",
        "\n",
        "  def __call__(self, x):\n",
        "    for layer in self.layers:\n",
        "      x = layer(x)\n",
        "    return x\n",
        "  \n",
        "  def parameters(self):\n",
        "    return [p for l in self.layers for p in l.parameters()]\n"
      ],
      "metadata": {
        "id": "jj3BVHNCbs_H"
      },
      "execution_count": 157,
      "outputs": []
    },
    {
      "cell_type": "markdown",
      "source": [
        "# Loss Functions"
      ],
      "metadata": {
        "id": "Q2HBqOb-yRDj"
      }
    },
    {
      "cell_type": "code",
      "source": [
        "class LossFunction:\n",
        "\n",
        "  def __call__(self, outputs: List[Value], targets: List[Value]):\n",
        "    raise NotImplementedError(\"Loss function not implemented by sublcass\")\n",
        "\n",
        "class MSE(LossFunction):\n",
        "\n",
        "  def _mse(self, outputs: List[Value], targets: List[Value]):\n",
        "    \"\"\"Implements MSE loss function for a list of outputs & targets\"\"\"\n",
        "    return sum((yout - ygt)**2 for ygt, yout in zip(targets, outputs))\n",
        "\n",
        "  def __call__(self, outputs: List[Value], targets: List[Value]):\n",
        "    return self._mse(outputs, targets)"
      ],
      "metadata": {
        "id": "Kry5bhwCyWFL"
      },
      "execution_count": 158,
      "outputs": []
    },
    {
      "cell_type": "code",
      "source": [
        "x = [2.0, 3.0, -1.0]\n",
        "n = MLP(len(x), [4, 4, 1])\n",
        "loss_func = MSE()\n",
        "n(x)"
      ],
      "metadata": {
        "colab": {
          "base_uri": "https://localhost:8080/"
        },
        "id": "Nhbtyw1ZcenK",
        "outputId": "a7c2c38f-8f9f-472e-e0a9-974961dd966e"
      },
      "execution_count": 159,
      "outputs": [
        {
          "output_type": "execute_result",
          "data": {
            "text/plain": [
              "Value(data=0.0884815788063107)"
            ]
          },
          "metadata": {},
          "execution_count": 159
        }
      ]
    },
    {
      "cell_type": "code",
      "source": [
        "n.parameters()"
      ],
      "metadata": {
        "colab": {
          "base_uri": "https://localhost:8080/"
        },
        "id": "JXxQVfWHMq9i",
        "outputId": "5821a48a-1639-4cf2-f29f-ccc6ba428b9b"
      },
      "execution_count": 160,
      "outputs": [
        {
          "output_type": "execute_result",
          "data": {
            "text/plain": [
              "[Value(data=0.31255526637777775),\n",
              " Value(data=0.8246106857787521),\n",
              " Value(data=-0.7814232047574572),\n",
              " Value(data=0.6408752595662697),\n",
              " Value(data=-0.20252189189007108),\n",
              " Value(data=-0.8693137391598071),\n",
              " Value(data=0.39841666323128555),\n",
              " Value(data=-0.3037961142013801),\n",
              " Value(data=-0.19282493884310759),\n",
              " Value(data=0.6032250931493106),\n",
              " Value(data=0.6001302646227185),\n",
              " Value(data=0.32749776568749045),\n",
              " Value(data=0.6650130652363544),\n",
              " Value(data=0.1889136153241595),\n",
              " Value(data=-0.07813264062433589),\n",
              " Value(data=0.9151267732861252),\n",
              " Value(data=0.5914405264235476),\n",
              " Value(data=-0.3725442040076463),\n",
              " Value(data=0.3810827422406471),\n",
              " Value(data=0.8301999957053683),\n",
              " Value(data=-0.08568482691922008),\n",
              " Value(data=-0.4702876239420326),\n",
              " Value(data=-0.598037011209763),\n",
              " Value(data=-0.8653994554527067),\n",
              " Value(data=0.05088685407468296),\n",
              " Value(data=0.23734644010332318),\n",
              " Value(data=0.15459549089529045),\n",
              " Value(data=-0.9122391928398941),\n",
              " Value(data=-0.18505999501786086),\n",
              " Value(data=0.30584552737905213),\n",
              " Value(data=0.23949109098065002),\n",
              " Value(data=0.35119774963171047),\n",
              " Value(data=0.26999576683073867),\n",
              " Value(data=-0.6059558972032326),\n",
              " Value(data=-0.4301483303818887),\n",
              " Value(data=-0.09534359352124744),\n",
              " Value(data=0.833061635489087),\n",
              " Value(data=0.5964776511293395),\n",
              " Value(data=-0.37143418174288434),\n",
              " Value(data=0.5908148577342738),\n",
              " Value(data=0.22158648570764017)]"
            ]
          },
          "metadata": {},
          "execution_count": 160
        }
      ]
    },
    {
      "cell_type": "code",
      "source": [
        "draw_dot(n(x))"
      ],
      "metadata": {
        "colab": {
          "base_uri": "https://localhost:8080/",
          "height": 1000
        },
        "id": "GMeLLONQcj51",
        "outputId": "9f5f3c14-c6ab-4356-9326-b611756a2214"
      },
      "execution_count": 161,
      "outputs": [
        {
          "output_type": "execute_result",
          "data": {
            "text/plain": [
              "<graphviz.dot.Digraph at 0x7f8a5869f5b0>"
            ],
            "image/svg+xml": "<?xml version=\"1.0\" encoding=\"UTF-8\" standalone=\"no\"?>\n<!DOCTYPE svg PUBLIC \"-//W3C//DTD SVG 1.1//EN\"\n \"http://www.w3.org/Graphics/SVG/1.1/DTD/svg11.dtd\">\n<!-- Generated by graphviz version 2.43.0 (0)\n -->\n<!-- Title: %3 Pages: 1 -->\n<svg width=\"5697pt\" height=\"897pt\"\n viewBox=\"0.00 0.00 5697.00 897.00\" xmlns=\"http://www.w3.org/2000/svg\" xmlns:xlink=\"http://www.w3.org/1999/xlink\">\n<g id=\"graph0\" class=\"graph\" transform=\"scale(1 1) rotate(0) translate(4 893)\">\n<title>%3</title>\n<polygon fill=\"white\" stroke=\"transparent\" points=\"-4,4 -4,-893 5693,-893 5693,4 -4,4\"/>\n<!-- 140232165752992 -->\n<g id=\"node1\" class=\"node\">\n<title>140232165752992</title>\n<polygon fill=\"none\" stroke=\"black\" points=\"1943.5,-275.5 1943.5,-311.5 2125.5,-311.5 2125.5,-275.5 1943.5,-275.5\"/>\n<text text-anchor=\"middle\" x=\"1953.5\" y=\"-289.8\" font-family=\"Times,serif\" font-size=\"14.00\"> </text>\n<polyline fill=\"none\" stroke=\"black\" points=\"1963.5,-275.5 1963.5,-311.5 \"/>\n<text text-anchor=\"middle\" x=\"2003.5\" y=\"-289.8\" font-family=\"Times,serif\" font-size=\"14.00\">data 0.8182</text>\n<polyline fill=\"none\" stroke=\"black\" points=\"2043.5,-275.5 2043.5,-311.5 \"/>\n<text text-anchor=\"middle\" x=\"2084.5\" y=\"-289.8\" font-family=\"Times,serif\" font-size=\"14.00\">grad 0.0000</text>\n</g>\n<!-- 140232165769904* -->\n<g id=\"node14\" class=\"node\">\n<title>140232165769904*</title>\n<ellipse fill=\"none\" stroke=\"black\" cx=\"2191\" cy=\"-293.5\" rx=\"27\" ry=\"18\"/>\n<text text-anchor=\"middle\" x=\"2191\" y=\"-289.8\" font-family=\"Times,serif\" font-size=\"14.00\">*</text>\n</g>\n<!-- 140232165752992&#45;&gt;140232165769904* -->\n<g id=\"edge191\" class=\"edge\">\n<title>140232165752992&#45;&gt;140232165769904*</title>\n<path fill=\"none\" stroke=\"black\" d=\"M2125.82,-293.5C2135.57,-293.5 2145.04,-293.5 2153.57,-293.5\"/>\n<polygon fill=\"black\" stroke=\"black\" points=\"2153.83,-297 2163.83,-293.5 2153.83,-290 2153.83,-297\"/>\n</g>\n<!-- 140232165771872* -->\n<g id=\"node67\" class=\"node\">\n<title>140232165771872*</title>\n<ellipse fill=\"none\" stroke=\"black\" cx=\"2191\" cy=\"-403.5\" rx=\"27\" ry=\"18\"/>\n<text text-anchor=\"middle\" x=\"2191\" y=\"-399.8\" font-family=\"Times,serif\" font-size=\"14.00\">*</text>\n</g>\n<!-- 140232165752992&#45;&gt;140232165771872* -->\n<g id=\"edge103\" class=\"edge\">\n<title>140232165752992&#45;&gt;140232165771872*</title>\n<path fill=\"none\" stroke=\"black\" d=\"M2111.35,-311.57C2117.24,-314.41 2122.88,-317.7 2128,-321.5 2151.16,-338.69 2146.13,-352.86 2164,-375.5 2165.4,-377.28 2166.89,-379.08 2168.42,-380.86\"/>\n<polygon fill=\"black\" stroke=\"black\" points=\"2165.96,-383.36 2175.24,-388.49 2171.18,-378.7 2165.96,-383.36\"/>\n</g>\n<!-- 140232165755584* -->\n<g id=\"node72\" class=\"node\">\n<title>140232165755584*</title>\n<ellipse fill=\"none\" stroke=\"black\" cx=\"2191\" cy=\"-224.5\" rx=\"27\" ry=\"18\"/>\n<text text-anchor=\"middle\" x=\"2191\" y=\"-220.8\" font-family=\"Times,serif\" font-size=\"14.00\">*</text>\n</g>\n<!-- 140232165752992&#45;&gt;140232165755584* -->\n<g id=\"edge129\" class=\"edge\">\n<title>140232165752992&#45;&gt;140232165755584*</title>\n<path fill=\"none\" stroke=\"black\" d=\"M2106.06,-275.41C2113.59,-272.75 2121.04,-269.78 2128,-266.5 2140.81,-260.47 2153.94,-251.98 2164.8,-244.2\"/>\n<polygon fill=\"black\" stroke=\"black\" points=\"2167,-246.93 2172.97,-238.18 2162.85,-241.29 2167,-246.93\"/>\n</g>\n<!-- 140232165266000* -->\n<g id=\"node131\" class=\"node\">\n<title>140232165266000*</title>\n<ellipse fill=\"none\" stroke=\"black\" cx=\"2191\" cy=\"-458.5\" rx=\"27\" ry=\"18\"/>\n<text text-anchor=\"middle\" x=\"2191\" y=\"-454.8\" font-family=\"Times,serif\" font-size=\"14.00\">*</text>\n</g>\n<!-- 140232165752992&#45;&gt;140232165266000* -->\n<g id=\"edge113\" class=\"edge\">\n<title>140232165752992&#45;&gt;140232165266000*</title>\n<path fill=\"none\" stroke=\"black\" d=\"M2115.2,-311.69C2119.83,-314.5 2124.16,-317.75 2128,-321.5 2164.52,-357.12 2138.05,-386.58 2164,-430.5 2165.15,-432.45 2166.46,-434.38 2167.86,-436.25\"/>\n<polygon fill=\"black\" stroke=\"black\" points=\"2165.3,-438.64 2174.4,-444.06 2170.66,-434.15 2165.3,-438.64\"/>\n</g>\n<!-- 140232165752992tanh -->\n<g id=\"node2\" class=\"node\">\n<title>140232165752992tanh</title>\n<ellipse fill=\"none\" stroke=\"black\" cx=\"1878\" cy=\"-293.5\" rx=\"27\" ry=\"18\"/>\n<text text-anchor=\"middle\" x=\"1878\" y=\"-289.8\" font-family=\"Times,serif\" font-size=\"14.00\">tanh</text>\n</g>\n<!-- 140232165752992tanh&#45;&gt;140232165752992 -->\n<g id=\"edge1\" class=\"edge\">\n<title>140232165752992tanh&#45;&gt;140232165752992</title>\n<path fill=\"none\" stroke=\"black\" d=\"M1905.21,-293.5C1913.34,-293.5 1922.85,-293.5 1932.94,-293.5\"/>\n<polygon fill=\"black\" stroke=\"black\" points=\"1933.19,-297 1943.19,-293.5 1933.19,-290 1933.19,-297\"/>\n</g>\n<!-- 140232165769472 -->\n<g id=\"node3\" class=\"node\">\n<title>140232165769472</title>\n<polygon fill=\"none\" stroke=\"black\" points=\"1943.5,-55.5 1943.5,-91.5 2125.5,-91.5 2125.5,-55.5 1943.5,-55.5\"/>\n<text text-anchor=\"middle\" x=\"1953.5\" y=\"-69.8\" font-family=\"Times,serif\" font-size=\"14.00\"> </text>\n<polyline fill=\"none\" stroke=\"black\" points=\"1963.5,-55.5 1963.5,-91.5 \"/>\n<text text-anchor=\"middle\" x=\"2003.5\" y=\"-69.8\" font-family=\"Times,serif\" font-size=\"14.00\">data 0.5973</text>\n<polyline fill=\"none\" stroke=\"black\" points=\"2043.5,-55.5 2043.5,-91.5 \"/>\n<text text-anchor=\"middle\" x=\"2084.5\" y=\"-69.8\" font-family=\"Times,serif\" font-size=\"14.00\">grad 0.0000</text>\n</g>\n<!-- 140232165769664+ -->\n<g id=\"node11\" class=\"node\">\n<title>140232165769664+</title>\n<ellipse fill=\"none\" stroke=\"black\" cx=\"2191\" cy=\"-348.5\" rx=\"27\" ry=\"18\"/>\n<text text-anchor=\"middle\" x=\"2191\" y=\"-344.8\" font-family=\"Times,serif\" font-size=\"14.00\">+</text>\n</g>\n<!-- 140232165769472&#45;&gt;140232165769664+ -->\n<g id=\"edge194\" class=\"edge\">\n<title>140232165769472&#45;&gt;140232165769664+</title>\n<path fill=\"none\" stroke=\"black\" d=\"M2117.94,-91.54C2121.62,-94.15 2125.01,-97.12 2128,-100.5 2193.66,-174.69 2120.43,-231.51 2164,-320.5 2165,-322.53 2166.19,-324.52 2167.51,-326.44\"/>\n<polygon fill=\"black\" stroke=\"black\" points=\"2164.88,-328.76 2173.88,-334.34 2170.33,-324.36 2164.88,-328.76\"/>\n</g>\n<!-- 140232165769472* -->\n<g id=\"node4\" class=\"node\">\n<title>140232165769472*</title>\n<ellipse fill=\"none\" stroke=\"black\" cx=\"1878\" cy=\"-73.5\" rx=\"27\" ry=\"18\"/>\n<text text-anchor=\"middle\" x=\"1878\" y=\"-69.8\" font-family=\"Times,serif\" font-size=\"14.00\">*</text>\n</g>\n<!-- 140232165769472*&#45;&gt;140232165769472 -->\n<g id=\"edge2\" class=\"edge\">\n<title>140232165769472*&#45;&gt;140232165769472</title>\n<path fill=\"none\" stroke=\"black\" d=\"M1905.21,-73.5C1913.34,-73.5 1922.85,-73.5 1932.94,-73.5\"/>\n<polygon fill=\"black\" stroke=\"black\" points=\"1933.19,-77 1943.19,-73.5 1933.19,-70 1933.19,-77\"/>\n</g>\n<!-- 140232165802288 -->\n<g id=\"node5\" class=\"node\">\n<title>140232165802288</title>\n<polygon fill=\"none\" stroke=\"black\" points=\"333.5,-605.5 333.5,-641.5 515.5,-641.5 515.5,-605.5 333.5,-605.5\"/>\n<text text-anchor=\"middle\" x=\"343.5\" y=\"-619.8\" font-family=\"Times,serif\" font-size=\"14.00\"> </text>\n<polyline fill=\"none\" stroke=\"black\" points=\"353.5,-605.5 353.5,-641.5 \"/>\n<text text-anchor=\"middle\" x=\"393.5\" y=\"-619.8\" font-family=\"Times,serif\" font-size=\"14.00\">data 2.4738</text>\n<polyline fill=\"none\" stroke=\"black\" points=\"433.5,-605.5 433.5,-641.5 \"/>\n<text text-anchor=\"middle\" x=\"474.5\" y=\"-619.8\" font-family=\"Times,serif\" font-size=\"14.00\">grad 0.0000</text>\n</g>\n<!-- 140232165606400+ -->\n<g id=\"node22\" class=\"node\">\n<title>140232165606400+</title>\n<ellipse fill=\"none\" stroke=\"black\" cx=\"590\" cy=\"-568.5\" rx=\"27\" ry=\"18\"/>\n<text text-anchor=\"middle\" x=\"590\" y=\"-564.8\" font-family=\"Times,serif\" font-size=\"14.00\">+</text>\n</g>\n<!-- 140232165802288&#45;&gt;140232165606400+ -->\n<g id=\"edge108\" class=\"edge\">\n<title>140232165802288&#45;&gt;140232165606400+</title>\n<path fill=\"none\" stroke=\"black\" d=\"M499.12,-605.45C508.58,-602.68 518.07,-599.68 527,-596.5 537.54,-592.75 548.77,-587.94 558.73,-583.37\"/>\n<polygon fill=\"black\" stroke=\"black\" points=\"560.27,-586.51 567.84,-579.1 557.3,-580.18 560.27,-586.51\"/>\n</g>\n<!-- 140232165802288* -->\n<g id=\"node6\" class=\"node\">\n<title>140232165802288*</title>\n<ellipse fill=\"none\" stroke=\"black\" cx=\"259\" cy=\"-623.5\" rx=\"27\" ry=\"18\"/>\n<text text-anchor=\"middle\" x=\"259\" y=\"-619.8\" font-family=\"Times,serif\" font-size=\"14.00\">*</text>\n</g>\n<!-- 140232165802288*&#45;&gt;140232165802288 -->\n<g id=\"edge3\" class=\"edge\">\n<title>140232165802288*&#45;&gt;140232165802288</title>\n<path fill=\"none\" stroke=\"black\" d=\"M286.27,-623.5C296.7,-623.5 309.41,-623.5 322.84,-623.5\"/>\n<polygon fill=\"black\" stroke=\"black\" points=\"323.23,-627 333.23,-623.5 323.23,-620 323.23,-627\"/>\n</g>\n<!-- 140232165753232 -->\n<g id=\"node7\" class=\"node\">\n<title>140232165753232</title>\n<polygon fill=\"none\" stroke=\"black\" points=\"657.5,-852.5 657.5,-888.5 853.5,-888.5 853.5,-852.5 657.5,-852.5\"/>\n<text text-anchor=\"middle\" x=\"674.5\" y=\"-866.8\" font-family=\"Times,serif\" font-size=\"14.00\">2.0</text>\n<polyline fill=\"none\" stroke=\"black\" points=\"691.5,-852.5 691.5,-888.5 \"/>\n<text text-anchor=\"middle\" x=\"731.5\" y=\"-866.8\" font-family=\"Times,serif\" font-size=\"14.00\">data 2.0000</text>\n<polyline fill=\"none\" stroke=\"black\" points=\"771.5,-852.5 771.5,-888.5 \"/>\n<text text-anchor=\"middle\" x=\"812.5\" y=\"-866.8\" font-family=\"Times,serif\" font-size=\"14.00\">grad 0.0000</text>\n</g>\n<!-- 140232165753280* -->\n<g id=\"node9\" class=\"node\">\n<title>140232165753280*</title>\n<ellipse fill=\"none\" stroke=\"black\" cx=\"921\" cy=\"-815.5\" rx=\"27\" ry=\"18\"/>\n<text text-anchor=\"middle\" x=\"921\" y=\"-811.8\" font-family=\"Times,serif\" font-size=\"14.00\">*</text>\n</g>\n<!-- 140232165753232&#45;&gt;140232165753280* -->\n<g id=\"edge184\" class=\"edge\">\n<title>140232165753232&#45;&gt;140232165753280*</title>\n<path fill=\"none\" stroke=\"black\" d=\"M830.12,-852.45C839.58,-849.68 849.07,-846.68 858,-843.5 868.54,-839.75 879.77,-834.94 889.73,-830.37\"/>\n<polygon fill=\"black\" stroke=\"black\" points=\"891.27,-833.51 898.84,-826.1 888.3,-827.18 891.27,-833.51\"/>\n</g>\n<!-- 140232165753280 -->\n<g id=\"node8\" class=\"node\">\n<title>140232165753280</title>\n<polygon fill=\"none\" stroke=\"black\" points=\"995.5,-797.5 995.5,-833.5 1177.5,-833.5 1177.5,-797.5 995.5,-797.5\"/>\n<text text-anchor=\"middle\" x=\"1005.5\" y=\"-811.8\" font-family=\"Times,serif\" font-size=\"14.00\"> </text>\n<polyline fill=\"none\" stroke=\"black\" points=\"1015.5,-797.5 1015.5,-833.5 \"/>\n<text text-anchor=\"middle\" x=\"1055.5\" y=\"-811.8\" font-family=\"Times,serif\" font-size=\"14.00\">data 1.3300</text>\n<polyline fill=\"none\" stroke=\"black\" points=\"1095.5,-797.5 1095.5,-833.5 \"/>\n<text text-anchor=\"middle\" x=\"1136.5\" y=\"-811.8\" font-family=\"Times,serif\" font-size=\"14.00\">grad 0.0000</text>\n</g>\n<!-- 140232165753760+ -->\n<g id=\"node20\" class=\"node\">\n<title>140232165753760+</title>\n<ellipse fill=\"none\" stroke=\"black\" cx=\"1252\" cy=\"-760.5\" rx=\"27\" ry=\"18\"/>\n<text text-anchor=\"middle\" x=\"1252\" y=\"-756.8\" font-family=\"Times,serif\" font-size=\"14.00\">+</text>\n</g>\n<!-- 140232165753280&#45;&gt;140232165753760+ -->\n<g id=\"edge209\" class=\"edge\">\n<title>140232165753280&#45;&gt;140232165753760+</title>\n<path fill=\"none\" stroke=\"black\" d=\"M1161.12,-797.45C1170.58,-794.68 1180.07,-791.68 1189,-788.5 1199.54,-784.75 1210.77,-779.94 1220.73,-775.37\"/>\n<polygon fill=\"black\" stroke=\"black\" points=\"1222.27,-778.51 1229.84,-771.1 1219.3,-772.18 1222.27,-778.51\"/>\n</g>\n<!-- 140232165753280*&#45;&gt;140232165753280 -->\n<g id=\"edge4\" class=\"edge\">\n<title>140232165753280*&#45;&gt;140232165753280</title>\n<path fill=\"none\" stroke=\"black\" d=\"M948.27,-815.5C958.7,-815.5 971.41,-815.5 984.84,-815.5\"/>\n<polygon fill=\"black\" stroke=\"black\" points=\"985.23,-819 995.23,-815.5 985.23,-812 985.23,-819\"/>\n</g>\n<!-- 140232165769664 -->\n<g id=\"node10\" class=\"node\">\n<title>140232165769664</title>\n<polygon fill=\"none\" stroke=\"black\" points=\"2256.5,-330.5 2256.5,-366.5 2438.5,-366.5 2438.5,-330.5 2256.5,-330.5\"/>\n<text text-anchor=\"middle\" x=\"2266.5\" y=\"-344.8\" font-family=\"Times,serif\" font-size=\"14.00\"> </text>\n<polyline fill=\"none\" stroke=\"black\" points=\"2276.5,-330.5 2276.5,-366.5 \"/>\n<text text-anchor=\"middle\" x=\"2316.5\" y=\"-344.8\" font-family=\"Times,serif\" font-size=\"14.00\">data 0.1272</text>\n<polyline fill=\"none\" stroke=\"black\" points=\"2356.5,-330.5 2356.5,-366.5 \"/>\n<text text-anchor=\"middle\" x=\"2397.5\" y=\"-344.8\" font-family=\"Times,serif\" font-size=\"14.00\">grad 0.0000</text>\n</g>\n<!-- 140232165770096+ -->\n<g id=\"node18\" class=\"node\">\n<title>140232165770096+</title>\n<ellipse fill=\"none\" stroke=\"black\" cx=\"2504\" cy=\"-348.5\" rx=\"27\" ry=\"18\"/>\n<text text-anchor=\"middle\" x=\"2504\" y=\"-344.8\" font-family=\"Times,serif\" font-size=\"14.00\">+</text>\n</g>\n<!-- 140232165769664&#45;&gt;140232165770096+ -->\n<g id=\"edge183\" class=\"edge\">\n<title>140232165769664&#45;&gt;140232165770096+</title>\n<path fill=\"none\" stroke=\"black\" d=\"M2438.82,-348.5C2448.57,-348.5 2458.04,-348.5 2466.57,-348.5\"/>\n<polygon fill=\"black\" stroke=\"black\" points=\"2466.83,-352 2476.83,-348.5 2466.83,-345 2466.83,-352\"/>\n</g>\n<!-- 140232165769664+&#45;&gt;140232165769664 -->\n<g id=\"edge5\" class=\"edge\">\n<title>140232165769664+&#45;&gt;140232165769664</title>\n<path fill=\"none\" stroke=\"black\" d=\"M2218.21,-348.5C2226.34,-348.5 2235.85,-348.5 2245.94,-348.5\"/>\n<polygon fill=\"black\" stroke=\"black\" points=\"2246.19,-352 2256.19,-348.5 2246.19,-345 2246.19,-352\"/>\n</g>\n<!-- 140232165753520 -->\n<g id=\"node12\" class=\"node\">\n<title>140232165753520</title>\n<polygon fill=\"none\" stroke=\"black\" points=\"657.5,-742.5 657.5,-778.5 853.5,-778.5 853.5,-742.5 657.5,-742.5\"/>\n<text text-anchor=\"middle\" x=\"674.5\" y=\"-756.8\" font-family=\"Times,serif\" font-size=\"14.00\">3.0</text>\n<polyline fill=\"none\" stroke=\"black\" points=\"691.5,-742.5 691.5,-778.5 \"/>\n<text text-anchor=\"middle\" x=\"731.5\" y=\"-756.8\" font-family=\"Times,serif\" font-size=\"14.00\">data 3.0000</text>\n<polyline fill=\"none\" stroke=\"black\" points=\"771.5,-742.5 771.5,-778.5 \"/>\n<text text-anchor=\"middle\" x=\"812.5\" y=\"-756.8\" font-family=\"Times,serif\" font-size=\"14.00\">grad 0.0000</text>\n</g>\n<!-- 140232165753568* -->\n<g id=\"node16\" class=\"node\">\n<title>140232165753568*</title>\n<ellipse fill=\"none\" stroke=\"black\" cx=\"921\" cy=\"-760.5\" rx=\"27\" ry=\"18\"/>\n<text text-anchor=\"middle\" x=\"921\" y=\"-756.8\" font-family=\"Times,serif\" font-size=\"14.00\">*</text>\n</g>\n<!-- 140232165753520&#45;&gt;140232165753568* -->\n<g id=\"edge150\" class=\"edge\">\n<title>140232165753520&#45;&gt;140232165753568*</title>\n<path fill=\"none\" stroke=\"black\" d=\"M853.97,-760.5C864.49,-760.5 874.65,-760.5 883.71,-760.5\"/>\n<polygon fill=\"black\" stroke=\"black\" points=\"883.81,-764 893.81,-760.5 883.81,-757 883.81,-764\"/>\n</g>\n<!-- 140232165769904 -->\n<g id=\"node13\" class=\"node\">\n<title>140232165769904</title>\n<polygon fill=\"none\" stroke=\"black\" points=\"2254,-275.5 2254,-311.5 2441,-311.5 2441,-275.5 2254,-275.5\"/>\n<text text-anchor=\"middle\" x=\"2264\" y=\"-289.8\" font-family=\"Times,serif\" font-size=\"14.00\"> </text>\n<polyline fill=\"none\" stroke=\"black\" points=\"2274,-275.5 2274,-311.5 \"/>\n<text text-anchor=\"middle\" x=\"2316.5\" y=\"-289.8\" font-family=\"Times,serif\" font-size=\"14.00\">data &#45;0.7081</text>\n<polyline fill=\"none\" stroke=\"black\" points=\"2359,-275.5 2359,-311.5 \"/>\n<text text-anchor=\"middle\" x=\"2400\" y=\"-289.8\" font-family=\"Times,serif\" font-size=\"14.00\">grad 0.0000</text>\n</g>\n<!-- 140232165769904&#45;&gt;140232165770096+ -->\n<g id=\"edge187\" class=\"edge\">\n<title>140232165769904&#45;&gt;140232165770096+</title>\n<path fill=\"none\" stroke=\"black\" d=\"M2412.02,-311.65C2421.79,-314.76 2431.71,-318.08 2441,-321.5 2451.25,-325.27 2462.23,-329.86 2472.07,-334.18\"/>\n<polygon fill=\"black\" stroke=\"black\" points=\"2470.89,-337.49 2481.45,-338.37 2473.74,-331.1 2470.89,-337.49\"/>\n</g>\n<!-- 140232165769904*&#45;&gt;140232165769904 -->\n<g id=\"edge6\" class=\"edge\">\n<title>140232165769904*&#45;&gt;140232165769904</title>\n<path fill=\"none\" stroke=\"black\" d=\"M2218.21,-293.5C2225.73,-293.5 2234.43,-293.5 2243.67,-293.5\"/>\n<polygon fill=\"black\" stroke=\"black\" points=\"2243.89,-297 2253.89,-293.5 2243.89,-290 2243.89,-297\"/>\n</g>\n<!-- 140232165753568 -->\n<g id=\"node15\" class=\"node\">\n<title>140232165753568</title>\n<polygon fill=\"none\" stroke=\"black\" points=\"995.5,-742.5 995.5,-778.5 1177.5,-778.5 1177.5,-742.5 995.5,-742.5\"/>\n<text text-anchor=\"middle\" x=\"1005.5\" y=\"-756.8\" font-family=\"Times,serif\" font-size=\"14.00\"> </text>\n<polyline fill=\"none\" stroke=\"black\" points=\"1015.5,-742.5 1015.5,-778.5 \"/>\n<text text-anchor=\"middle\" x=\"1055.5\" y=\"-756.8\" font-family=\"Times,serif\" font-size=\"14.00\">data 0.5667</text>\n<polyline fill=\"none\" stroke=\"black\" points=\"1095.5,-742.5 1095.5,-778.5 \"/>\n<text text-anchor=\"middle\" x=\"1136.5\" y=\"-756.8\" font-family=\"Times,serif\" font-size=\"14.00\">grad 0.0000</text>\n</g>\n<!-- 140232165753568&#45;&gt;140232165753760+ -->\n<g id=\"edge130\" class=\"edge\">\n<title>140232165753568&#45;&gt;140232165753760+</title>\n<path fill=\"none\" stroke=\"black\" d=\"M1177.86,-760.5C1190.84,-760.5 1203.53,-760.5 1214.6,-760.5\"/>\n<polygon fill=\"black\" stroke=\"black\" points=\"1214.67,-764 1224.67,-760.5 1214.67,-757 1214.67,-764\"/>\n</g>\n<!-- 140232165753568*&#45;&gt;140232165753568 -->\n<g id=\"edge7\" class=\"edge\">\n<title>140232165753568*&#45;&gt;140232165753568</title>\n<path fill=\"none\" stroke=\"black\" d=\"M948.27,-760.5C958.7,-760.5 971.41,-760.5 984.84,-760.5\"/>\n<polygon fill=\"black\" stroke=\"black\" points=\"985.23,-764 995.23,-760.5 985.23,-757 985.23,-764\"/>\n</g>\n<!-- 140232165770096 -->\n<g id=\"node17\" class=\"node\">\n<title>140232165770096</title>\n<polygon fill=\"none\" stroke=\"black\" points=\"2567,-392.5 2567,-428.5 2754,-428.5 2754,-392.5 2567,-392.5\"/>\n<text text-anchor=\"middle\" x=\"2577\" y=\"-406.8\" font-family=\"Times,serif\" font-size=\"14.00\"> </text>\n<polyline fill=\"none\" stroke=\"black\" points=\"2587,-392.5 2587,-428.5 \"/>\n<text text-anchor=\"middle\" x=\"2629.5\" y=\"-406.8\" font-family=\"Times,serif\" font-size=\"14.00\">data &#45;0.5809</text>\n<polyline fill=\"none\" stroke=\"black\" points=\"2672,-392.5 2672,-428.5 \"/>\n<text text-anchor=\"middle\" x=\"2713\" y=\"-406.8\" font-family=\"Times,serif\" font-size=\"14.00\">grad 0.0000</text>\n</g>\n<!-- 140232165770528+ -->\n<g id=\"node32\" class=\"node\">\n<title>140232165770528+</title>\n<ellipse fill=\"none\" stroke=\"black\" cx=\"2817\" cy=\"-451.5\" rx=\"27\" ry=\"18\"/>\n<text text-anchor=\"middle\" x=\"2817\" y=\"-447.8\" font-family=\"Times,serif\" font-size=\"14.00\">+</text>\n</g>\n<!-- 140232165770096&#45;&gt;140232165770528+ -->\n<g id=\"edge134\" class=\"edge\">\n<title>140232165770096&#45;&gt;140232165770528+</title>\n<path fill=\"none\" stroke=\"black\" d=\"M2729.72,-428.6C2747.71,-433.38 2766.37,-438.33 2781.71,-442.4\"/>\n<polygon fill=\"black\" stroke=\"black\" points=\"2781.2,-445.88 2791.76,-445.07 2782.99,-439.12 2781.2,-445.88\"/>\n</g>\n<!-- 140232165770096+&#45;&gt;140232165770096 -->\n<g id=\"edge8\" class=\"edge\">\n<title>140232165770096+&#45;&gt;140232165770096</title>\n<path fill=\"none\" stroke=\"black\" d=\"M2527.47,-357.52C2547.67,-365.62 2578.16,-377.86 2604.76,-388.53\"/>\n<polygon fill=\"black\" stroke=\"black\" points=\"2603.77,-391.91 2614.35,-392.38 2606.38,-385.41 2603.77,-391.91\"/>\n</g>\n<!-- 140232165753760 -->\n<g id=\"node19\" class=\"node\">\n<title>140232165753760</title>\n<polygon fill=\"none\" stroke=\"black\" points=\"1317.5,-742.5 1317.5,-778.5 1499.5,-778.5 1499.5,-742.5 1317.5,-742.5\"/>\n<text text-anchor=\"middle\" x=\"1327.5\" y=\"-756.8\" font-family=\"Times,serif\" font-size=\"14.00\"> </text>\n<polyline fill=\"none\" stroke=\"black\" points=\"1337.5,-742.5 1337.5,-778.5 \"/>\n<text text-anchor=\"middle\" x=\"1377.5\" y=\"-756.8\" font-family=\"Times,serif\" font-size=\"14.00\">data 1.8968</text>\n<polyline fill=\"none\" stroke=\"black\" points=\"1417.5,-742.5 1417.5,-778.5 \"/>\n<text text-anchor=\"middle\" x=\"1458.5\" y=\"-756.8\" font-family=\"Times,serif\" font-size=\"14.00\">grad 0.0000</text>\n</g>\n<!-- 140232165754240+ -->\n<g id=\"node34\" class=\"node\">\n<title>140232165754240+</title>\n<ellipse fill=\"none\" stroke=\"black\" cx=\"1565\" cy=\"-733.5\" rx=\"27\" ry=\"18\"/>\n<text text-anchor=\"middle\" x=\"1565\" y=\"-729.8\" font-family=\"Times,serif\" font-size=\"14.00\">+</text>\n</g>\n<!-- 140232165753760&#45;&gt;140232165754240+ -->\n<g id=\"edge86\" class=\"edge\">\n<title>140232165753760&#45;&gt;140232165754240+</title>\n<path fill=\"none\" stroke=\"black\" d=\"M1499.82,-744.72C1510.07,-742.92 1520.01,-741.19 1528.88,-739.64\"/>\n<polygon fill=\"black\" stroke=\"black\" points=\"1529.5,-743.08 1538.75,-737.91 1528.3,-736.19 1529.5,-743.08\"/>\n</g>\n<!-- 140232165753760+&#45;&gt;140232165753760 -->\n<g id=\"edge9\" class=\"edge\">\n<title>140232165753760+&#45;&gt;140232165753760</title>\n<path fill=\"none\" stroke=\"black\" d=\"M1279.21,-760.5C1287.34,-760.5 1296.85,-760.5 1306.94,-760.5\"/>\n<polygon fill=\"black\" stroke=\"black\" points=\"1307.19,-764 1317.19,-760.5 1307.19,-757 1307.19,-764\"/>\n</g>\n<!-- 140232165606400 -->\n<g id=\"node21\" class=\"node\">\n<title>140232165606400</title>\n<polygon fill=\"none\" stroke=\"black\" points=\"664.5,-550.5 664.5,-586.5 846.5,-586.5 846.5,-550.5 664.5,-550.5\"/>\n<text text-anchor=\"middle\" x=\"674.5\" y=\"-564.8\" font-family=\"Times,serif\" font-size=\"14.00\"> </text>\n<polyline fill=\"none\" stroke=\"black\" points=\"684.5,-550.5 684.5,-586.5 \"/>\n<text text-anchor=\"middle\" x=\"724.5\" y=\"-564.8\" font-family=\"Times,serif\" font-size=\"14.00\">data 3.0989</text>\n<polyline fill=\"none\" stroke=\"black\" points=\"764.5,-550.5 764.5,-586.5 \"/>\n<text text-anchor=\"middle\" x=\"805.5\" y=\"-564.8\" font-family=\"Times,serif\" font-size=\"14.00\">grad 0.0000</text>\n</g>\n<!-- 140232165740944+ -->\n<g id=\"node127\" class=\"node\">\n<title>140232165740944+</title>\n<ellipse fill=\"none\" stroke=\"black\" cx=\"921\" cy=\"-513.5\" rx=\"27\" ry=\"18\"/>\n<text text-anchor=\"middle\" x=\"921\" y=\"-509.8\" font-family=\"Times,serif\" font-size=\"14.00\">+</text>\n</g>\n<!-- 140232165606400&#45;&gt;140232165740944+ -->\n<g id=\"edge161\" class=\"edge\">\n<title>140232165606400&#45;&gt;140232165740944+</title>\n<path fill=\"none\" stroke=\"black\" d=\"M830.12,-550.45C839.58,-547.68 849.07,-544.68 858,-541.5 868.54,-537.75 879.77,-532.94 889.73,-528.37\"/>\n<polygon fill=\"black\" stroke=\"black\" points=\"891.27,-531.51 898.84,-524.1 888.3,-525.18 891.27,-531.51\"/>\n</g>\n<!-- 140232165606400+&#45;&gt;140232165606400 -->\n<g id=\"edge10\" class=\"edge\">\n<title>140232165606400+&#45;&gt;140232165606400</title>\n<path fill=\"none\" stroke=\"black\" d=\"M617.27,-568.5C627.7,-568.5 640.41,-568.5 653.84,-568.5\"/>\n<polygon fill=\"black\" stroke=\"black\" points=\"654.23,-572 664.23,-568.5 654.23,-565 654.23,-572\"/>\n</g>\n<!-- 140232165606496 -->\n<g id=\"node23\" class=\"node\">\n<title>140232165606496</title>\n<polygon fill=\"none\" stroke=\"black\" points=\"7,-660.5 7,-696.5 189,-696.5 189,-660.5 7,-660.5\"/>\n<text text-anchor=\"middle\" x=\"17\" y=\"-674.8\" font-family=\"Times,serif\" font-size=\"14.00\"> </text>\n<polyline fill=\"none\" stroke=\"black\" points=\"27,-660.5 27,-696.5 \"/>\n<text text-anchor=\"middle\" x=\"67\" y=\"-674.8\" font-family=\"Times,serif\" font-size=\"14.00\">data 0.8246</text>\n<polyline fill=\"none\" stroke=\"black\" points=\"107,-660.5 107,-696.5 \"/>\n<text text-anchor=\"middle\" x=\"148\" y=\"-674.8\" font-family=\"Times,serif\" font-size=\"14.00\">grad 0.0000</text>\n</g>\n<!-- 140232165606496&#45;&gt;140232165802288* -->\n<g id=\"edge101\" class=\"edge\">\n<title>140232165606496&#45;&gt;140232165802288*</title>\n<path fill=\"none\" stroke=\"black\" d=\"M168.82,-660.45C178.03,-657.67 187.29,-654.66 196,-651.5 206.52,-647.69 217.74,-642.86 227.71,-638.3\"/>\n<polygon fill=\"black\" stroke=\"black\" points=\"229.24,-641.44 236.81,-634.04 226.27,-635.1 229.24,-641.44\"/>\n</g>\n<!-- 140232165770336 -->\n<g id=\"node24\" class=\"node\">\n<title>140232165770336</title>\n<polygon fill=\"none\" stroke=\"black\" points=\"2569.5,-660.5 2569.5,-696.5 2751.5,-696.5 2751.5,-660.5 2569.5,-660.5\"/>\n<text text-anchor=\"middle\" x=\"2579.5\" y=\"-674.8\" font-family=\"Times,serif\" font-size=\"14.00\"> </text>\n<polyline fill=\"none\" stroke=\"black\" points=\"2589.5,-660.5 2589.5,-696.5 \"/>\n<text text-anchor=\"middle\" x=\"2629.5\" y=\"-674.8\" font-family=\"Times,serif\" font-size=\"14.00\">data 0.0506</text>\n<polyline fill=\"none\" stroke=\"black\" points=\"2669.5,-660.5 2669.5,-696.5 \"/>\n<text text-anchor=\"middle\" x=\"2710.5\" y=\"-674.8\" font-family=\"Times,serif\" font-size=\"14.00\">grad 0.0000</text>\n</g>\n<!-- 140232165770336&#45;&gt;140232165770528+ -->\n<g id=\"edge148\" class=\"edge\">\n<title>140232165770336&#45;&gt;140232165770528+</title>\n<path fill=\"none\" stroke=\"black\" d=\"M2742.56,-660.49C2746.69,-657.89 2750.54,-654.91 2754,-651.5 2792.75,-613.31 2773.87,-586.46 2790,-534.5 2795.77,-515.93 2802.31,-495.04 2807.39,-478.86\"/>\n<polygon fill=\"black\" stroke=\"black\" points=\"2810.84,-479.57 2810.5,-468.98 2804.16,-477.47 2810.84,-479.57\"/>\n</g>\n<!-- 140232165770336* -->\n<g id=\"node25\" class=\"node\">\n<title>140232165770336*</title>\n<ellipse fill=\"none\" stroke=\"black\" cx=\"2504\" cy=\"-678.5\" rx=\"27\" ry=\"18\"/>\n<text text-anchor=\"middle\" x=\"2504\" y=\"-674.8\" font-family=\"Times,serif\" font-size=\"14.00\">*</text>\n</g>\n<!-- 140232165770336*&#45;&gt;140232165770336 -->\n<g id=\"edge11\" class=\"edge\">\n<title>140232165770336*&#45;&gt;140232165770336</title>\n<path fill=\"none\" stroke=\"black\" d=\"M2531.21,-678.5C2539.34,-678.5 2548.85,-678.5 2558.94,-678.5\"/>\n<polygon fill=\"black\" stroke=\"black\" points=\"2559.19,-682 2569.19,-678.5 2559.19,-675 2559.19,-682\"/>\n</g>\n<!-- 140232165754000 -->\n<g id=\"node26\" class=\"node\">\n<title>140232165754000</title>\n<polygon fill=\"none\" stroke=\"black\" points=\"984,-687.5 984,-723.5 1189,-723.5 1189,-687.5 984,-687.5\"/>\n<text text-anchor=\"middle\" x=\"1003\" y=\"-701.8\" font-family=\"Times,serif\" font-size=\"14.00\">&#45;1.0</text>\n<polyline fill=\"none\" stroke=\"black\" points=\"1022,-687.5 1022,-723.5 \"/>\n<text text-anchor=\"middle\" x=\"1064.5\" y=\"-701.8\" font-family=\"Times,serif\" font-size=\"14.00\">data &#45;1.0000</text>\n<polyline fill=\"none\" stroke=\"black\" points=\"1107,-687.5 1107,-723.5 \"/>\n<text text-anchor=\"middle\" x=\"1148\" y=\"-701.8\" font-family=\"Times,serif\" font-size=\"14.00\">grad 0.0000</text>\n</g>\n<!-- 140232165754048* -->\n<g id=\"node28\" class=\"node\">\n<title>140232165754048*</title>\n<ellipse fill=\"none\" stroke=\"black\" cx=\"1252\" cy=\"-705.5\" rx=\"27\" ry=\"18\"/>\n<text text-anchor=\"middle\" x=\"1252\" y=\"-701.8\" font-family=\"Times,serif\" font-size=\"14.00\">*</text>\n</g>\n<!-- 140232165754000&#45;&gt;140232165754048* -->\n<g id=\"edge92\" class=\"edge\">\n<title>140232165754000&#45;&gt;140232165754048*</title>\n<path fill=\"none\" stroke=\"black\" d=\"M1189.19,-705.5C1198.21,-705.5 1206.88,-705.5 1214.73,-705.5\"/>\n<polygon fill=\"black\" stroke=\"black\" points=\"1214.89,-709 1224.89,-705.5 1214.89,-702 1214.89,-709\"/>\n</g>\n<!-- 140232165754048 -->\n<g id=\"node27\" class=\"node\">\n<title>140232165754048</title>\n<polygon fill=\"none\" stroke=\"black\" points=\"1317.5,-687.5 1317.5,-723.5 1499.5,-723.5 1499.5,-687.5 1317.5,-687.5\"/>\n<text text-anchor=\"middle\" x=\"1327.5\" y=\"-701.8\" font-family=\"Times,serif\" font-size=\"14.00\"> </text>\n<polyline fill=\"none\" stroke=\"black\" points=\"1337.5,-687.5 1337.5,-723.5 \"/>\n<text text-anchor=\"middle\" x=\"1377.5\" y=\"-701.8\" font-family=\"Times,serif\" font-size=\"14.00\">data 0.0781</text>\n<polyline fill=\"none\" stroke=\"black\" points=\"1417.5,-687.5 1417.5,-723.5 \"/>\n<text text-anchor=\"middle\" x=\"1458.5\" y=\"-701.8\" font-family=\"Times,serif\" font-size=\"14.00\">grad 0.0000</text>\n</g>\n<!-- 140232165754048&#45;&gt;140232165754240+ -->\n<g id=\"edge157\" class=\"edge\">\n<title>140232165754048&#45;&gt;140232165754240+</title>\n<path fill=\"none\" stroke=\"black\" d=\"M1499.82,-721.87C1510.07,-723.73 1520.01,-725.53 1528.88,-727.13\"/>\n<polygon fill=\"black\" stroke=\"black\" points=\"1528.29,-730.58 1538.75,-728.92 1529.54,-723.7 1528.29,-730.58\"/>\n</g>\n<!-- 140232165754048*&#45;&gt;140232165754048 -->\n<g id=\"edge12\" class=\"edge\">\n<title>140232165754048*&#45;&gt;140232165754048</title>\n<path fill=\"none\" stroke=\"black\" d=\"M1279.21,-705.5C1287.34,-705.5 1296.85,-705.5 1306.94,-705.5\"/>\n<polygon fill=\"black\" stroke=\"black\" points=\"1307.19,-709 1317.19,-705.5 1307.19,-702 1307.19,-709\"/>\n</g>\n<!-- 140232165606640 -->\n<g id=\"node29\" class=\"node\">\n<title>140232165606640</title>\n<polygon fill=\"none\" stroke=\"black\" points=\"333.5,-275.5 333.5,-311.5 515.5,-311.5 515.5,-275.5 333.5,-275.5\"/>\n<text text-anchor=\"middle\" x=\"343.5\" y=\"-289.8\" font-family=\"Times,serif\" font-size=\"14.00\"> </text>\n<polyline fill=\"none\" stroke=\"black\" points=\"353.5,-275.5 353.5,-311.5 \"/>\n<text text-anchor=\"middle\" x=\"393.5\" y=\"-289.8\" font-family=\"Times,serif\" font-size=\"14.00\">data 0.6032</text>\n<polyline fill=\"none\" stroke=\"black\" points=\"433.5,-275.5 433.5,-311.5 \"/>\n<text text-anchor=\"middle\" x=\"474.5\" y=\"-289.8\" font-family=\"Times,serif\" font-size=\"14.00\">grad 0.0000</text>\n</g>\n<!-- 140232165743632* -->\n<g id=\"node184\" class=\"node\">\n<title>140232165743632*</title>\n<ellipse fill=\"none\" stroke=\"black\" cx=\"590\" cy=\"-293.5\" rx=\"27\" ry=\"18\"/>\n<text text-anchor=\"middle\" x=\"590\" y=\"-289.8\" font-family=\"Times,serif\" font-size=\"14.00\">*</text>\n</g>\n<!-- 140232165606640&#45;&gt;140232165743632* -->\n<g id=\"edge128\" class=\"edge\">\n<title>140232165606640&#45;&gt;140232165743632*</title>\n<path fill=\"none\" stroke=\"black\" d=\"M515.86,-293.5C528.84,-293.5 541.53,-293.5 552.6,-293.5\"/>\n<polygon fill=\"black\" stroke=\"black\" points=\"552.67,-297 562.67,-293.5 552.67,-290 552.67,-297\"/>\n</g>\n<!-- 140232165606688 -->\n<g id=\"node30\" class=\"node\">\n<title>140232165606688</title>\n<polygon fill=\"none\" stroke=\"black\" points=\"331,-385.5 331,-421.5 518,-421.5 518,-385.5 331,-385.5\"/>\n<text text-anchor=\"middle\" x=\"341\" y=\"-399.8\" font-family=\"Times,serif\" font-size=\"14.00\"> </text>\n<polyline fill=\"none\" stroke=\"black\" points=\"351,-385.5 351,-421.5 \"/>\n<text text-anchor=\"middle\" x=\"393.5\" y=\"-399.8\" font-family=\"Times,serif\" font-size=\"14.00\">data &#45;0.1928</text>\n<polyline fill=\"none\" stroke=\"black\" points=\"436,-385.5 436,-421.5 \"/>\n<text text-anchor=\"middle\" x=\"477\" y=\"-399.8\" font-family=\"Times,serif\" font-size=\"14.00\">grad 0.0000</text>\n</g>\n<!-- 140232165743344* -->\n<g id=\"node179\" class=\"node\">\n<title>140232165743344*</title>\n<ellipse fill=\"none\" stroke=\"black\" cx=\"590\" cy=\"-348.5\" rx=\"27\" ry=\"18\"/>\n<text text-anchor=\"middle\" x=\"590\" y=\"-344.8\" font-family=\"Times,serif\" font-size=\"14.00\">*</text>\n</g>\n<!-- 140232165606688&#45;&gt;140232165743344* -->\n<g id=\"edge152\" class=\"edge\">\n<title>140232165606688&#45;&gt;140232165743344*</title>\n<path fill=\"none\" stroke=\"black\" d=\"M499.12,-385.45C508.58,-382.68 518.07,-379.68 527,-376.5 537.54,-372.75 548.77,-367.94 558.73,-363.37\"/>\n<polygon fill=\"black\" stroke=\"black\" points=\"560.27,-366.51 567.84,-359.1 557.3,-360.18 560.27,-366.51\"/>\n</g>\n<!-- 140232165770528 -->\n<g id=\"node31\" class=\"node\">\n<title>140232165770528</title>\n<polygon fill=\"none\" stroke=\"black\" points=\"2880,-433.5 2880,-469.5 3067,-469.5 3067,-433.5 2880,-433.5\"/>\n<text text-anchor=\"middle\" x=\"2890\" y=\"-447.8\" font-family=\"Times,serif\" font-size=\"14.00\"> </text>\n<polyline fill=\"none\" stroke=\"black\" points=\"2900,-433.5 2900,-469.5 \"/>\n<text text-anchor=\"middle\" x=\"2942.5\" y=\"-447.8\" font-family=\"Times,serif\" font-size=\"14.00\">data &#45;0.5304</text>\n<polyline fill=\"none\" stroke=\"black\" points=\"2985,-433.5 2985,-469.5 \"/>\n<text text-anchor=\"middle\" x=\"3026\" y=\"-447.8\" font-family=\"Times,serif\" font-size=\"14.00\">grad 0.0000</text>\n</g>\n<!-- 140232165770720+ -->\n<g id=\"node37\" class=\"node\">\n<title>140232165770720+</title>\n<ellipse fill=\"none\" stroke=\"black\" cx=\"3130\" cy=\"-451.5\" rx=\"27\" ry=\"18\"/>\n<text text-anchor=\"middle\" x=\"3130\" y=\"-447.8\" font-family=\"Times,serif\" font-size=\"14.00\">+</text>\n</g>\n<!-- 140232165770528&#45;&gt;140232165770720+ -->\n<g id=\"edge204\" class=\"edge\">\n<title>140232165770528&#45;&gt;140232165770720+</title>\n<path fill=\"none\" stroke=\"black\" d=\"M3067.05,-451.5C3076.06,-451.5 3084.79,-451.5 3092.7,-451.5\"/>\n<polygon fill=\"black\" stroke=\"black\" points=\"3092.95,-455 3102.95,-451.5 3092.95,-448 3092.95,-455\"/>\n</g>\n<!-- 140232165770528+&#45;&gt;140232165770528 -->\n<g id=\"edge13\" class=\"edge\">\n<title>140232165770528+&#45;&gt;140232165770528</title>\n<path fill=\"none\" stroke=\"black\" d=\"M2844.21,-451.5C2851.73,-451.5 2860.43,-451.5 2869.67,-451.5\"/>\n<polygon fill=\"black\" stroke=\"black\" points=\"2869.89,-455 2879.89,-451.5 2869.89,-448 2869.89,-455\"/>\n</g>\n<!-- 140232165754240 -->\n<g id=\"node33\" class=\"node\">\n<title>140232165754240</title>\n<polygon fill=\"none\" stroke=\"black\" points=\"1630.5,-715.5 1630.5,-751.5 1812.5,-751.5 1812.5,-715.5 1630.5,-715.5\"/>\n<text text-anchor=\"middle\" x=\"1640.5\" y=\"-729.8\" font-family=\"Times,serif\" font-size=\"14.00\"> </text>\n<polyline fill=\"none\" stroke=\"black\" points=\"1650.5,-715.5 1650.5,-751.5 \"/>\n<text text-anchor=\"middle\" x=\"1690.5\" y=\"-729.8\" font-family=\"Times,serif\" font-size=\"14.00\">data 1.9749</text>\n<polyline fill=\"none\" stroke=\"black\" points=\"1730.5,-715.5 1730.5,-751.5 \"/>\n<text text-anchor=\"middle\" x=\"1771.5\" y=\"-729.8\" font-family=\"Times,serif\" font-size=\"14.00\">grad 0.0000</text>\n</g>\n<!-- 140232165754432+ -->\n<g id=\"node39\" class=\"node\">\n<title>140232165754432+</title>\n<ellipse fill=\"none\" stroke=\"black\" cx=\"1878\" cy=\"-733.5\" rx=\"27\" ry=\"18\"/>\n<text text-anchor=\"middle\" x=\"1878\" y=\"-729.8\" font-family=\"Times,serif\" font-size=\"14.00\">+</text>\n</g>\n<!-- 140232165754240&#45;&gt;140232165754432+ -->\n<g id=\"edge207\" class=\"edge\">\n<title>140232165754240&#45;&gt;140232165754432+</title>\n<path fill=\"none\" stroke=\"black\" d=\"M1812.82,-733.5C1822.57,-733.5 1832.04,-733.5 1840.57,-733.5\"/>\n<polygon fill=\"black\" stroke=\"black\" points=\"1840.83,-737 1850.83,-733.5 1840.83,-730 1840.83,-737\"/>\n</g>\n<!-- 140232165754240+&#45;&gt;140232165754240 -->\n<g id=\"edge14\" class=\"edge\">\n<title>140232165754240+&#45;&gt;140232165754240</title>\n<path fill=\"none\" stroke=\"black\" d=\"M1592.21,-733.5C1600.34,-733.5 1609.85,-733.5 1619.94,-733.5\"/>\n<polygon fill=\"black\" stroke=\"black\" points=\"1620.19,-737 1630.19,-733.5 1620.19,-730 1620.19,-737\"/>\n</g>\n<!-- 140232165606832 -->\n<g id=\"node35\" class=\"node\">\n<title>140232165606832</title>\n<polygon fill=\"none\" stroke=\"black\" points=\"7,-550.5 7,-586.5 189,-586.5 189,-550.5 7,-550.5\"/>\n<text text-anchor=\"middle\" x=\"17\" y=\"-564.8\" font-family=\"Times,serif\" font-size=\"14.00\"> </text>\n<polyline fill=\"none\" stroke=\"black\" points=\"27,-550.5 27,-586.5 \"/>\n<text text-anchor=\"middle\" x=\"67\" y=\"-564.8\" font-family=\"Times,serif\" font-size=\"14.00\">data 0.3126</text>\n<polyline fill=\"none\" stroke=\"black\" points=\"107,-550.5 107,-586.5 \"/>\n<text text-anchor=\"middle\" x=\"148\" y=\"-564.8\" font-family=\"Times,serif\" font-size=\"14.00\">grad 0.0000</text>\n</g>\n<!-- 140232165804160* -->\n<g id=\"node54\" class=\"node\">\n<title>140232165804160*</title>\n<ellipse fill=\"none\" stroke=\"black\" cx=\"259\" cy=\"-568.5\" rx=\"27\" ry=\"18\"/>\n<text text-anchor=\"middle\" x=\"259\" y=\"-564.8\" font-family=\"Times,serif\" font-size=\"14.00\">*</text>\n</g>\n<!-- 140232165606832&#45;&gt;140232165804160* -->\n<g id=\"edge76\" class=\"edge\">\n<title>140232165606832&#45;&gt;140232165804160*</title>\n<path fill=\"none\" stroke=\"black\" d=\"M189.19,-568.5C200.61,-568.5 211.74,-568.5 221.6,-568.5\"/>\n<polygon fill=\"black\" stroke=\"black\" points=\"221.75,-572 231.75,-568.5 221.75,-565 221.75,-572\"/>\n</g>\n<!-- 140232165770720 -->\n<g id=\"node36\" class=\"node\">\n<title>140232165770720</title>\n<polygon fill=\"none\" stroke=\"black\" points=\"3193,-433.5 3193,-469.5 3380,-469.5 3380,-433.5 3193,-433.5\"/>\n<text text-anchor=\"middle\" x=\"3203\" y=\"-447.8\" font-family=\"Times,serif\" font-size=\"14.00\"> </text>\n<polyline fill=\"none\" stroke=\"black\" points=\"3213,-433.5 3213,-469.5 \"/>\n<text text-anchor=\"middle\" x=\"3255.5\" y=\"-447.8\" font-family=\"Times,serif\" font-size=\"14.00\">data &#45;0.2930</text>\n<polyline fill=\"none\" stroke=\"black\" points=\"3298,-433.5 3298,-469.5 \"/>\n<text text-anchor=\"middle\" x=\"3339\" y=\"-447.8\" font-family=\"Times,serif\" font-size=\"14.00\">grad 0.0000</text>\n</g>\n<!-- 140232165770960tanh -->\n<g id=\"node41\" class=\"node\">\n<title>140232165770960tanh</title>\n<ellipse fill=\"none\" stroke=\"black\" cx=\"3443\" cy=\"-451.5\" rx=\"27\" ry=\"18\"/>\n<text text-anchor=\"middle\" x=\"3443\" y=\"-447.8\" font-family=\"Times,serif\" font-size=\"14.00\">tanh</text>\n</g>\n<!-- 140232165770720&#45;&gt;140232165770960tanh -->\n<g id=\"edge82\" class=\"edge\">\n<title>140232165770720&#45;&gt;140232165770960tanh</title>\n<path fill=\"none\" stroke=\"black\" d=\"M3380.05,-451.5C3389.06,-451.5 3397.79,-451.5 3405.7,-451.5\"/>\n<polygon fill=\"black\" stroke=\"black\" points=\"3405.95,-455 3415.95,-451.5 3405.95,-448 3405.95,-455\"/>\n</g>\n<!-- 140232165770720+&#45;&gt;140232165770720 -->\n<g id=\"edge15\" class=\"edge\">\n<title>140232165770720+&#45;&gt;140232165770720</title>\n<path fill=\"none\" stroke=\"black\" d=\"M3157.21,-451.5C3164.73,-451.5 3173.43,-451.5 3182.67,-451.5\"/>\n<polygon fill=\"black\" stroke=\"black\" points=\"3182.89,-455 3192.89,-451.5 3182.89,-448 3182.89,-455\"/>\n</g>\n<!-- 140232165754432 -->\n<g id=\"node38\" class=\"node\">\n<title>140232165754432</title>\n<polygon fill=\"none\" stroke=\"black\" points=\"1943.5,-715.5 1943.5,-751.5 2125.5,-751.5 2125.5,-715.5 1943.5,-715.5\"/>\n<text text-anchor=\"middle\" x=\"1953.5\" y=\"-729.8\" font-family=\"Times,serif\" font-size=\"14.00\"> </text>\n<polyline fill=\"none\" stroke=\"black\" points=\"1963.5,-715.5 1963.5,-751.5 \"/>\n<text text-anchor=\"middle\" x=\"2003.5\" y=\"-729.8\" font-family=\"Times,serif\" font-size=\"14.00\">data 2.8900</text>\n<polyline fill=\"none\" stroke=\"black\" points=\"2043.5,-715.5 2043.5,-751.5 \"/>\n<text text-anchor=\"middle\" x=\"2084.5\" y=\"-729.8\" font-family=\"Times,serif\" font-size=\"14.00\">grad 0.0000</text>\n</g>\n<!-- 140232165754672tanh -->\n<g id=\"node44\" class=\"node\">\n<title>140232165754672tanh</title>\n<ellipse fill=\"none\" stroke=\"black\" cx=\"2191\" cy=\"-733.5\" rx=\"27\" ry=\"18\"/>\n<text text-anchor=\"middle\" x=\"2191\" y=\"-729.8\" font-family=\"Times,serif\" font-size=\"14.00\">tanh</text>\n</g>\n<!-- 140232165754432&#45;&gt;140232165754672tanh -->\n<g id=\"edge202\" class=\"edge\">\n<title>140232165754432&#45;&gt;140232165754672tanh</title>\n<path fill=\"none\" stroke=\"black\" d=\"M2125.82,-733.5C2135.57,-733.5 2145.04,-733.5 2153.57,-733.5\"/>\n<polygon fill=\"black\" stroke=\"black\" points=\"2153.83,-737 2163.83,-733.5 2153.83,-730 2153.83,-737\"/>\n</g>\n<!-- 140232165754432+&#45;&gt;140232165754432 -->\n<g id=\"edge16\" class=\"edge\">\n<title>140232165754432+&#45;&gt;140232165754432</title>\n<path fill=\"none\" stroke=\"black\" d=\"M1905.21,-733.5C1913.34,-733.5 1922.85,-733.5 1932.94,-733.5\"/>\n<polygon fill=\"black\" stroke=\"black\" points=\"1933.19,-737 1943.19,-733.5 1933.19,-730 1933.19,-737\"/>\n</g>\n<!-- 140232165770960 -->\n<g id=\"node40\" class=\"node\">\n<title>140232165770960</title>\n<polygon fill=\"none\" stroke=\"black\" points=\"3506,-433.5 3506,-469.5 3693,-469.5 3693,-433.5 3506,-433.5\"/>\n<text text-anchor=\"middle\" x=\"3516\" y=\"-447.8\" font-family=\"Times,serif\" font-size=\"14.00\"> </text>\n<polyline fill=\"none\" stroke=\"black\" points=\"3526,-433.5 3526,-469.5 \"/>\n<text text-anchor=\"middle\" x=\"3568.5\" y=\"-447.8\" font-family=\"Times,serif\" font-size=\"14.00\">data &#45;0.2849</text>\n<polyline fill=\"none\" stroke=\"black\" points=\"3611,-433.5 3611,-469.5 \"/>\n<text text-anchor=\"middle\" x=\"3652\" y=\"-447.8\" font-family=\"Times,serif\" font-size=\"14.00\">grad 0.0000</text>\n</g>\n<!-- 140232165267536* -->\n<g id=\"node165\" class=\"node\">\n<title>140232165267536*</title>\n<ellipse fill=\"none\" stroke=\"black\" cx=\"3756\" cy=\"-492.5\" rx=\"27\" ry=\"18\"/>\n<text text-anchor=\"middle\" x=\"3756\" y=\"-488.8\" font-family=\"Times,serif\" font-size=\"14.00\">*</text>\n</g>\n<!-- 140232165770960&#45;&gt;140232165267536* -->\n<g id=\"edge169\" class=\"edge\">\n<title>140232165770960&#45;&gt;140232165267536*</title>\n<path fill=\"none\" stroke=\"black\" d=\"M3668.72,-469.6C3686.71,-474.38 3705.37,-479.33 3720.71,-483.4\"/>\n<polygon fill=\"black\" stroke=\"black\" points=\"3720.2,-486.88 3730.76,-486.07 3721.99,-480.12 3720.2,-486.88\"/>\n</g>\n<!-- 140232165770960tanh&#45;&gt;140232165770960 -->\n<g id=\"edge17\" class=\"edge\">\n<title>140232165770960tanh&#45;&gt;140232165770960</title>\n<path fill=\"none\" stroke=\"black\" d=\"M3470.21,-451.5C3477.73,-451.5 3486.43,-451.5 3495.67,-451.5\"/>\n<polygon fill=\"black\" stroke=\"black\" points=\"3495.89,-455 3505.89,-451.5 3495.89,-448 3495.89,-455\"/>\n</g>\n<!-- 140232165607168 -->\n<g id=\"node42\" class=\"node\">\n<title>140232165607168</title>\n<polygon fill=\"none\" stroke=\"black\" points=\"1317.5,-303.5 1317.5,-339.5 1499.5,-339.5 1499.5,-303.5 1317.5,-303.5\"/>\n<text text-anchor=\"middle\" x=\"1327.5\" y=\"-317.8\" font-family=\"Times,serif\" font-size=\"14.00\"> </text>\n<polyline fill=\"none\" stroke=\"black\" points=\"1337.5,-303.5 1337.5,-339.5 \"/>\n<text text-anchor=\"middle\" x=\"1377.5\" y=\"-317.8\" font-family=\"Times,serif\" font-size=\"14.00\">data 0.3275</text>\n<polyline fill=\"none\" stroke=\"black\" points=\"1417.5,-303.5 1417.5,-339.5 \"/>\n<text text-anchor=\"middle\" x=\"1458.5\" y=\"-317.8\" font-family=\"Times,serif\" font-size=\"14.00\">grad 0.0000</text>\n</g>\n<!-- 140232165744496+ -->\n<g id=\"node199\" class=\"node\">\n<title>140232165744496+</title>\n<ellipse fill=\"none\" stroke=\"black\" cx=\"1565\" cy=\"-293.5\" rx=\"27\" ry=\"18\"/>\n<text text-anchor=\"middle\" x=\"1565\" y=\"-289.8\" font-family=\"Times,serif\" font-size=\"14.00\">+</text>\n</g>\n<!-- 140232165607168&#45;&gt;140232165744496+ -->\n<g id=\"edge100\" class=\"edge\">\n<title>140232165607168&#45;&gt;140232165744496+</title>\n<path fill=\"none\" stroke=\"black\" d=\"M1499.82,-305.13C1510.07,-303.27 1520.01,-301.47 1528.88,-299.87\"/>\n<polygon fill=\"black\" stroke=\"black\" points=\"1529.54,-303.3 1538.75,-298.08 1528.29,-296.42 1529.54,-303.3\"/>\n</g>\n<!-- 140232165754672 -->\n<g id=\"node43\" class=\"node\">\n<title>140232165754672</title>\n<polygon fill=\"none\" stroke=\"black\" points=\"2256.5,-715.5 2256.5,-751.5 2438.5,-751.5 2438.5,-715.5 2256.5,-715.5\"/>\n<text text-anchor=\"middle\" x=\"2266.5\" y=\"-729.8\" font-family=\"Times,serif\" font-size=\"14.00\"> </text>\n<polyline fill=\"none\" stroke=\"black\" points=\"2276.5,-715.5 2276.5,-751.5 \"/>\n<text text-anchor=\"middle\" x=\"2316.5\" y=\"-729.8\" font-family=\"Times,serif\" font-size=\"14.00\">data 0.9938</text>\n<polyline fill=\"none\" stroke=\"black\" points=\"2356.5,-715.5 2356.5,-751.5 \"/>\n<text text-anchor=\"middle\" x=\"2397.5\" y=\"-729.8\" font-family=\"Times,serif\" font-size=\"14.00\">grad 0.0000</text>\n</g>\n<!-- 140232165754672&#45;&gt;140232165770336* -->\n<g id=\"edge171\" class=\"edge\">\n<title>140232165754672&#45;&gt;140232165770336*</title>\n<path fill=\"none\" stroke=\"black\" d=\"M2414.56,-715.45C2423.51,-712.64 2432.53,-709.63 2441,-706.5 2451.49,-702.62 2462.71,-697.78 2472.68,-693.22\"/>\n<polygon fill=\"black\" stroke=\"black\" points=\"2474.2,-696.37 2481.79,-688.97 2471.25,-690.02 2474.2,-696.37\"/>\n</g>\n<!-- 140232165772304* -->\n<g id=\"node82\" class=\"node\">\n<title>140232165772304*</title>\n<ellipse fill=\"none\" stroke=\"black\" cx=\"2504\" cy=\"-733.5\" rx=\"27\" ry=\"18\"/>\n<text text-anchor=\"middle\" x=\"2504\" y=\"-729.8\" font-family=\"Times,serif\" font-size=\"14.00\">*</text>\n</g>\n<!-- 140232165754672&#45;&gt;140232165772304* -->\n<g id=\"edge198\" class=\"edge\">\n<title>140232165754672&#45;&gt;140232165772304*</title>\n<path fill=\"none\" stroke=\"black\" d=\"M2438.82,-733.5C2448.57,-733.5 2458.04,-733.5 2466.57,-733.5\"/>\n<polygon fill=\"black\" stroke=\"black\" points=\"2466.83,-737 2476.83,-733.5 2466.83,-730 2466.83,-737\"/>\n</g>\n<!-- 140232165756016* -->\n<g id=\"node86\" class=\"node\">\n<title>140232165756016*</title>\n<ellipse fill=\"none\" stroke=\"black\" cx=\"2504\" cy=\"-623.5\" rx=\"27\" ry=\"18\"/>\n<text text-anchor=\"middle\" x=\"2504\" y=\"-619.8\" font-family=\"Times,serif\" font-size=\"14.00\">*</text>\n</g>\n<!-- 140232165754672&#45;&gt;140232165756016* -->\n<g id=\"edge107\" class=\"edge\">\n<title>140232165754672&#45;&gt;140232165756016*</title>\n<path fill=\"none\" stroke=\"black\" d=\"M2426.23,-715.44C2431.44,-712.85 2436.43,-709.89 2441,-706.5 2464.47,-689.11 2459,-674.51 2477,-651.5 2478.4,-649.72 2479.88,-647.91 2481.41,-646.12\"/>\n<polygon fill=\"black\" stroke=\"black\" points=\"2484.17,-648.28 2488.21,-638.49 2478.94,-643.63 2484.17,-648.28\"/>\n</g>\n<!-- 140232165266432* -->\n<g id=\"node142\" class=\"node\">\n<title>140232165266432*</title>\n<ellipse fill=\"none\" stroke=\"black\" cx=\"2504\" cy=\"-788.5\" rx=\"27\" ry=\"18\"/>\n<text text-anchor=\"middle\" x=\"2504\" y=\"-784.8\" font-family=\"Times,serif\" font-size=\"14.00\">*</text>\n</g>\n<!-- 140232165754672&#45;&gt;140232165266432* -->\n<g id=\"edge98\" class=\"edge\">\n<title>140232165754672&#45;&gt;140232165266432*</title>\n<path fill=\"none\" stroke=\"black\" d=\"M2412.02,-751.65C2421.79,-754.76 2431.71,-758.08 2441,-761.5 2451.25,-765.27 2462.23,-769.86 2472.07,-774.18\"/>\n<polygon fill=\"black\" stroke=\"black\" points=\"2470.89,-777.49 2481.45,-778.37 2473.74,-771.1 2470.89,-777.49\"/>\n</g>\n<!-- 140232165754672tanh&#45;&gt;140232165754672 -->\n<g id=\"edge18\" class=\"edge\">\n<title>140232165754672tanh&#45;&gt;140232165754672</title>\n<path fill=\"none\" stroke=\"black\" d=\"M2218.21,-733.5C2226.34,-733.5 2235.85,-733.5 2245.94,-733.5\"/>\n<polygon fill=\"black\" stroke=\"black\" points=\"2246.19,-737 2256.19,-733.5 2246.19,-730 2246.19,-737\"/>\n</g>\n<!-- 140232165607216 -->\n<g id=\"node45\" class=\"node\">\n<title>140232165607216</title>\n<polygon fill=\"none\" stroke=\"black\" points=\"331,-495.5 331,-531.5 518,-531.5 518,-495.5 331,-495.5\"/>\n<text text-anchor=\"middle\" x=\"341\" y=\"-509.8\" font-family=\"Times,serif\" font-size=\"14.00\"> </text>\n<polyline fill=\"none\" stroke=\"black\" points=\"351,-495.5 351,-531.5 \"/>\n<text text-anchor=\"middle\" x=\"393.5\" y=\"-509.8\" font-family=\"Times,serif\" font-size=\"14.00\">data &#45;0.7814</text>\n<polyline fill=\"none\" stroke=\"black\" points=\"436,-495.5 436,-531.5 \"/>\n<text text-anchor=\"middle\" x=\"477\" y=\"-509.8\" font-family=\"Times,serif\" font-size=\"14.00\">grad 0.0000</text>\n</g>\n<!-- 140232165740752* -->\n<g id=\"node121\" class=\"node\">\n<title>140232165740752*</title>\n<ellipse fill=\"none\" stroke=\"black\" cx=\"590\" cy=\"-513.5\" rx=\"27\" ry=\"18\"/>\n<text text-anchor=\"middle\" x=\"590\" y=\"-509.8\" font-family=\"Times,serif\" font-size=\"14.00\">*</text>\n</g>\n<!-- 140232165607216&#45;&gt;140232165740752* -->\n<g id=\"edge78\" class=\"edge\">\n<title>140232165607216&#45;&gt;140232165740752*</title>\n<path fill=\"none\" stroke=\"black\" d=\"M518.24,-513.5C530.33,-513.5 542.09,-513.5 552.44,-513.5\"/>\n<polygon fill=\"black\" stroke=\"black\" points=\"552.68,-517 562.68,-513.5 552.68,-510 552.68,-517\"/>\n</g>\n<!-- 140232165607312 -->\n<g id=\"node46\" class=\"node\">\n<title>140232165607312</title>\n<polygon fill=\"none\" stroke=\"black\" points=\"993,-632.5 993,-668.5 1180,-668.5 1180,-632.5 993,-632.5\"/>\n<text text-anchor=\"middle\" x=\"1003\" y=\"-646.8\" font-family=\"Times,serif\" font-size=\"14.00\"> </text>\n<polyline fill=\"none\" stroke=\"black\" points=\"1013,-632.5 1013,-668.5 \"/>\n<text text-anchor=\"middle\" x=\"1055.5\" y=\"-646.8\" font-family=\"Times,serif\" font-size=\"14.00\">data &#45;0.0781</text>\n<polyline fill=\"none\" stroke=\"black\" points=\"1098,-632.5 1098,-668.5 \"/>\n<text text-anchor=\"middle\" x=\"1139\" y=\"-646.8\" font-family=\"Times,serif\" font-size=\"14.00\">grad 0.0000</text>\n</g>\n<!-- 140232165607312&#45;&gt;140232165754048* -->\n<g id=\"edge109\" class=\"edge\">\n<title>140232165607312&#45;&gt;140232165754048*</title>\n<path fill=\"none\" stroke=\"black\" d=\"M1158.07,-668.58C1168.51,-671.65 1179.09,-675 1189,-678.5 1199.29,-682.14 1210.29,-686.7 1220.12,-691.03\"/>\n<polygon fill=\"black\" stroke=\"black\" points=\"1218.94,-694.33 1229.49,-695.24 1221.81,-687.95 1218.94,-694.33\"/>\n</g>\n<!-- 140232165771200 -->\n<g id=\"node47\" class=\"node\">\n<title>140232165771200</title>\n<polygon fill=\"none\" stroke=\"black\" points=\"1943.5,-605.5 1943.5,-641.5 2125.5,-641.5 2125.5,-605.5 1943.5,-605.5\"/>\n<text text-anchor=\"middle\" x=\"1953.5\" y=\"-619.8\" font-family=\"Times,serif\" font-size=\"14.00\"> </text>\n<polyline fill=\"none\" stroke=\"black\" points=\"1963.5,-605.5 1963.5,-641.5 \"/>\n<text text-anchor=\"middle\" x=\"2003.5\" y=\"-619.8\" font-family=\"Times,serif\" font-size=\"14.00\">data 0.1546</text>\n<polyline fill=\"none\" stroke=\"black\" points=\"2043.5,-605.5 2043.5,-641.5 \"/>\n<text text-anchor=\"middle\" x=\"2084.5\" y=\"-619.8\" font-family=\"Times,serif\" font-size=\"14.00\">grad 0.0000</text>\n</g>\n<!-- 140232165771632+ -->\n<g id=\"node63\" class=\"node\">\n<title>140232165771632+</title>\n<ellipse fill=\"none\" stroke=\"black\" cx=\"2191\" cy=\"-513.5\" rx=\"27\" ry=\"18\"/>\n<text text-anchor=\"middle\" x=\"2191\" y=\"-509.8\" font-family=\"Times,serif\" font-size=\"14.00\">+</text>\n</g>\n<!-- 140232165771200&#45;&gt;140232165771632+ -->\n<g id=\"edge181\" class=\"edge\">\n<title>140232165771200&#45;&gt;140232165771632+</title>\n<path fill=\"none\" stroke=\"black\" d=\"M2113.23,-605.44C2118.44,-602.85 2123.43,-599.89 2128,-596.5 2151.47,-579.11 2146,-564.51 2164,-541.5 2165.4,-539.72 2166.88,-537.91 2168.41,-536.12\"/>\n<polygon fill=\"black\" stroke=\"black\" points=\"2171.17,-538.28 2175.21,-528.49 2165.94,-533.63 2171.17,-538.28\"/>\n</g>\n<!-- 140232165771200* -->\n<g id=\"node48\" class=\"node\">\n<title>140232165771200*</title>\n<ellipse fill=\"none\" stroke=\"black\" cx=\"1878\" cy=\"-623.5\" rx=\"27\" ry=\"18\"/>\n<text text-anchor=\"middle\" x=\"1878\" y=\"-619.8\" font-family=\"Times,serif\" font-size=\"14.00\">*</text>\n</g>\n<!-- 140232165771200*&#45;&gt;140232165771200 -->\n<g id=\"edge19\" class=\"edge\">\n<title>140232165771200*&#45;&gt;140232165771200</title>\n<path fill=\"none\" stroke=\"black\" d=\"M1905.21,-623.5C1913.34,-623.5 1922.85,-623.5 1932.94,-623.5\"/>\n<polygon fill=\"black\" stroke=\"black\" points=\"1933.19,-627 1943.19,-623.5 1933.19,-620 1933.19,-627\"/>\n</g>\n<!-- 140232165607408 -->\n<g id=\"node49\" class=\"node\">\n<title>140232165607408</title>\n<polygon fill=\"none\" stroke=\"black\" points=\"333.5,-55.5 333.5,-91.5 515.5,-91.5 515.5,-55.5 333.5,-55.5\"/>\n<text text-anchor=\"middle\" x=\"343.5\" y=\"-69.8\" font-family=\"Times,serif\" font-size=\"14.00\"> </text>\n<polyline fill=\"none\" stroke=\"black\" points=\"353.5,-55.5 353.5,-91.5 \"/>\n<text text-anchor=\"middle\" x=\"393.5\" y=\"-69.8\" font-family=\"Times,serif\" font-size=\"14.00\">data 0.3984</text>\n<polyline fill=\"none\" stroke=\"black\" points=\"433.5,-55.5 433.5,-91.5 \"/>\n<text text-anchor=\"middle\" x=\"474.5\" y=\"-69.8\" font-family=\"Times,serif\" font-size=\"14.00\">grad 0.0000</text>\n</g>\n<!-- 140232165742432* -->\n<g id=\"node159\" class=\"node\">\n<title>140232165742432*</title>\n<ellipse fill=\"none\" stroke=\"black\" cx=\"590\" cy=\"-73.5\" rx=\"27\" ry=\"18\"/>\n<text text-anchor=\"middle\" x=\"590\" y=\"-69.8\" font-family=\"Times,serif\" font-size=\"14.00\">*</text>\n</g>\n<!-- 140232165607408&#45;&gt;140232165742432* -->\n<g id=\"edge117\" class=\"edge\">\n<title>140232165607408&#45;&gt;140232165742432*</title>\n<path fill=\"none\" stroke=\"black\" d=\"M515.86,-73.5C528.84,-73.5 541.53,-73.5 552.6,-73.5\"/>\n<polygon fill=\"black\" stroke=\"black\" points=\"552.67,-77 562.67,-73.5 552.67,-70 552.67,-77\"/>\n</g>\n<!-- 140232165754912 -->\n<g id=\"node50\" class=\"node\">\n<title>140232165754912</title>\n<polygon fill=\"none\" stroke=\"black\" points=\"1943.5,-110.5 1943.5,-146.5 2125.5,-146.5 2125.5,-110.5 1943.5,-110.5\"/>\n<text text-anchor=\"middle\" x=\"1953.5\" y=\"-124.8\" font-family=\"Times,serif\" font-size=\"14.00\"> </text>\n<polyline fill=\"none\" stroke=\"black\" points=\"1963.5,-110.5 1963.5,-146.5 \"/>\n<text text-anchor=\"middle\" x=\"2003.5\" y=\"-124.8\" font-family=\"Times,serif\" font-size=\"14.00\">data 0.5913</text>\n<polyline fill=\"none\" stroke=\"black\" points=\"2043.5,-110.5 2043.5,-146.5 \"/>\n<text text-anchor=\"middle\" x=\"2084.5\" y=\"-124.8\" font-family=\"Times,serif\" font-size=\"14.00\">grad 0.0000</text>\n</g>\n<!-- 140232165755344+ -->\n<g id=\"node65\" class=\"node\">\n<title>140232165755344+</title>\n<ellipse fill=\"none\" stroke=\"black\" cx=\"2191\" cy=\"-128.5\" rx=\"27\" ry=\"18\"/>\n<text text-anchor=\"middle\" x=\"2191\" y=\"-124.8\" font-family=\"Times,serif\" font-size=\"14.00\">+</text>\n</g>\n<!-- 140232165754912&#45;&gt;140232165755344+ -->\n<g id=\"edge190\" class=\"edge\">\n<title>140232165754912&#45;&gt;140232165755344+</title>\n<path fill=\"none\" stroke=\"black\" d=\"M2125.82,-128.5C2135.57,-128.5 2145.04,-128.5 2153.57,-128.5\"/>\n<polygon fill=\"black\" stroke=\"black\" points=\"2153.83,-132 2163.83,-128.5 2153.83,-125 2153.83,-132\"/>\n</g>\n<!-- 140232165754912* -->\n<g id=\"node51\" class=\"node\">\n<title>140232165754912*</title>\n<ellipse fill=\"none\" stroke=\"black\" cx=\"1878\" cy=\"-128.5\" rx=\"27\" ry=\"18\"/>\n<text text-anchor=\"middle\" x=\"1878\" y=\"-124.8\" font-family=\"Times,serif\" font-size=\"14.00\">*</text>\n</g>\n<!-- 140232165754912*&#45;&gt;140232165754912 -->\n<g id=\"edge20\" class=\"edge\">\n<title>140232165754912*&#45;&gt;140232165754912</title>\n<path fill=\"none\" stroke=\"black\" d=\"M1905.21,-128.5C1913.34,-128.5 1922.85,-128.5 1932.94,-128.5\"/>\n<polygon fill=\"black\" stroke=\"black\" points=\"1933.19,-132 1943.19,-128.5 1933.19,-125 1933.19,-132\"/>\n</g>\n<!-- 140232165607504 -->\n<g id=\"node52\" class=\"node\">\n<title>140232165607504</title>\n<polygon fill=\"none\" stroke=\"black\" points=\"993,-165.5 993,-201.5 1180,-201.5 1180,-165.5 993,-165.5\"/>\n<text text-anchor=\"middle\" x=\"1003\" y=\"-179.8\" font-family=\"Times,serif\" font-size=\"14.00\"> </text>\n<polyline fill=\"none\" stroke=\"black\" points=\"1013,-165.5 1013,-201.5 \"/>\n<text text-anchor=\"middle\" x=\"1055.5\" y=\"-179.8\" font-family=\"Times,serif\" font-size=\"14.00\">data &#45;0.3038</text>\n<polyline fill=\"none\" stroke=\"black\" points=\"1098,-165.5 1098,-201.5 \"/>\n<text text-anchor=\"middle\" x=\"1139\" y=\"-179.8\" font-family=\"Times,serif\" font-size=\"14.00\">grad 0.0000</text>\n</g>\n<!-- 140232165742816+ -->\n<g id=\"node167\" class=\"node\">\n<title>140232165742816+</title>\n<ellipse fill=\"none\" stroke=\"black\" cx=\"1252\" cy=\"-183.5\" rx=\"27\" ry=\"18\"/>\n<text text-anchor=\"middle\" x=\"1252\" y=\"-179.8\" font-family=\"Times,serif\" font-size=\"14.00\">+</text>\n</g>\n<!-- 140232165607504&#45;&gt;140232165742816+ -->\n<g id=\"edge206\" class=\"edge\">\n<title>140232165607504&#45;&gt;140232165742816+</title>\n<path fill=\"none\" stroke=\"black\" d=\"M1180.24,-183.5C1192.33,-183.5 1204.09,-183.5 1214.44,-183.5\"/>\n<polygon fill=\"black\" stroke=\"black\" points=\"1214.68,-187 1224.68,-183.5 1214.68,-180 1214.68,-187\"/>\n</g>\n<!-- 140232165804160 -->\n<g id=\"node53\" class=\"node\">\n<title>140232165804160</title>\n<polygon fill=\"none\" stroke=\"black\" points=\"333.5,-550.5 333.5,-586.5 515.5,-586.5 515.5,-550.5 333.5,-550.5\"/>\n<text text-anchor=\"middle\" x=\"343.5\" y=\"-564.8\" font-family=\"Times,serif\" font-size=\"14.00\"> </text>\n<polyline fill=\"none\" stroke=\"black\" points=\"353.5,-550.5 353.5,-586.5 \"/>\n<text text-anchor=\"middle\" x=\"393.5\" y=\"-564.8\" font-family=\"Times,serif\" font-size=\"14.00\">data 0.6251</text>\n<polyline fill=\"none\" stroke=\"black\" points=\"433.5,-550.5 433.5,-586.5 \"/>\n<text text-anchor=\"middle\" x=\"474.5\" y=\"-564.8\" font-family=\"Times,serif\" font-size=\"14.00\">grad 0.0000</text>\n</g>\n<!-- 140232165804160&#45;&gt;140232165606400+ -->\n<g id=\"edge144\" class=\"edge\">\n<title>140232165804160&#45;&gt;140232165606400+</title>\n<path fill=\"none\" stroke=\"black\" d=\"M515.86,-568.5C528.84,-568.5 541.53,-568.5 552.6,-568.5\"/>\n<polygon fill=\"black\" stroke=\"black\" points=\"552.67,-572 562.67,-568.5 552.67,-565 552.67,-572\"/>\n</g>\n<!-- 140232165804160*&#45;&gt;140232165804160 -->\n<g id=\"edge21\" class=\"edge\">\n<title>140232165804160*&#45;&gt;140232165804160</title>\n<path fill=\"none\" stroke=\"black\" d=\"M286.27,-568.5C296.7,-568.5 309.41,-568.5 322.84,-568.5\"/>\n<polygon fill=\"black\" stroke=\"black\" points=\"323.23,-572 333.23,-568.5 323.23,-565 323.23,-572\"/>\n</g>\n<!-- 140232165607600 -->\n<g id=\"node55\" class=\"node\">\n<title>140232165607600</title>\n<polygon fill=\"none\" stroke=\"black\" points=\"4.5,-220.5 4.5,-256.5 191.5,-256.5 191.5,-220.5 4.5,-220.5\"/>\n<text text-anchor=\"middle\" x=\"14.5\" y=\"-234.8\" font-family=\"Times,serif\" font-size=\"14.00\"> </text>\n<polyline fill=\"none\" stroke=\"black\" points=\"24.5,-220.5 24.5,-256.5 \"/>\n<text text-anchor=\"middle\" x=\"67\" y=\"-234.8\" font-family=\"Times,serif\" font-size=\"14.00\">data &#45;0.2025</text>\n<polyline fill=\"none\" stroke=\"black\" points=\"109.5,-220.5 109.5,-256.5 \"/>\n<text text-anchor=\"middle\" x=\"150.5\" y=\"-234.8\" font-family=\"Times,serif\" font-size=\"14.00\">grad 0.0000</text>\n</g>\n<!-- 140232165741664* -->\n<g id=\"node145\" class=\"node\">\n<title>140232165741664*</title>\n<ellipse fill=\"none\" stroke=\"black\" cx=\"259\" cy=\"-183.5\" rx=\"27\" ry=\"18\"/>\n<text text-anchor=\"middle\" x=\"259\" y=\"-179.8\" font-family=\"Times,serif\" font-size=\"14.00\">*</text>\n</g>\n<!-- 140232165607600&#45;&gt;140232165741664* -->\n<g id=\"edge94\" class=\"edge\">\n<title>140232165607600&#45;&gt;140232165741664*</title>\n<path fill=\"none\" stroke=\"black\" d=\"M168.82,-220.45C178.03,-217.67 187.29,-214.66 196,-211.5 206.52,-207.69 217.74,-202.86 227.71,-198.3\"/>\n<polygon fill=\"black\" stroke=\"black\" points=\"229.24,-201.44 236.81,-194.04 226.27,-195.1 229.24,-201.44\"/>\n</g>\n<!-- 140232165771440 -->\n<g id=\"node56\" class=\"node\">\n<title>140232165771440</title>\n<polygon fill=\"none\" stroke=\"black\" points=\"1943.5,-330.5 1943.5,-366.5 2125.5,-366.5 2125.5,-330.5 1943.5,-330.5\"/>\n<text text-anchor=\"middle\" x=\"1953.5\" y=\"-344.8\" font-family=\"Times,serif\" font-size=\"14.00\"> </text>\n<polyline fill=\"none\" stroke=\"black\" points=\"1963.5,-330.5 1963.5,-366.5 \"/>\n<text text-anchor=\"middle\" x=\"2003.5\" y=\"-344.8\" font-family=\"Times,serif\" font-size=\"14.00\">data 0.9112</text>\n<polyline fill=\"none\" stroke=\"black\" points=\"2043.5,-330.5 2043.5,-366.5 \"/>\n<text text-anchor=\"middle\" x=\"2084.5\" y=\"-344.8\" font-family=\"Times,serif\" font-size=\"14.00\">grad 0.0000</text>\n</g>\n<!-- 140232165771440&#45;&gt;140232165771632+ -->\n<g id=\"edge185\" class=\"edge\">\n<title>140232165771440&#45;&gt;140232165771632+</title>\n<path fill=\"none\" stroke=\"black\" d=\"M2115.2,-366.69C2119.83,-369.5 2124.16,-372.75 2128,-376.5 2164.52,-412.12 2138.05,-441.58 2164,-485.5 2165.15,-487.45 2166.46,-489.38 2167.86,-491.25\"/>\n<polygon fill=\"black\" stroke=\"black\" points=\"2165.3,-493.64 2174.4,-499.06 2170.66,-489.15 2165.3,-493.64\"/>\n</g>\n<!-- 140232165771440* -->\n<g id=\"node57\" class=\"node\">\n<title>140232165771440*</title>\n<ellipse fill=\"none\" stroke=\"black\" cx=\"1878\" cy=\"-348.5\" rx=\"27\" ry=\"18\"/>\n<text text-anchor=\"middle\" x=\"1878\" y=\"-344.8\" font-family=\"Times,serif\" font-size=\"14.00\">*</text>\n</g>\n<!-- 140232165771440*&#45;&gt;140232165771440 -->\n<g id=\"edge22\" class=\"edge\">\n<title>140232165771440*&#45;&gt;140232165771440</title>\n<path fill=\"none\" stroke=\"black\" d=\"M1905.21,-348.5C1913.34,-348.5 1922.85,-348.5 1932.94,-348.5\"/>\n<polygon fill=\"black\" stroke=\"black\" points=\"1933.19,-352 1943.19,-348.5 1933.19,-345 1933.19,-352\"/>\n</g>\n<!-- 140232165607648 -->\n<g id=\"node58\" class=\"node\">\n<title>140232165607648</title>\n<polygon fill=\"none\" stroke=\"black\" points=\"4.5,-110.5 4.5,-146.5 191.5,-146.5 191.5,-110.5 4.5,-110.5\"/>\n<text text-anchor=\"middle\" x=\"14.5\" y=\"-124.8\" font-family=\"Times,serif\" font-size=\"14.00\"> </text>\n<polyline fill=\"none\" stroke=\"black\" points=\"24.5,-110.5 24.5,-146.5 \"/>\n<text text-anchor=\"middle\" x=\"67\" y=\"-124.8\" font-family=\"Times,serif\" font-size=\"14.00\">data &#45;0.8693</text>\n<polyline fill=\"none\" stroke=\"black\" points=\"109.5,-110.5 109.5,-146.5 \"/>\n<text text-anchor=\"middle\" x=\"150.5\" y=\"-124.8\" font-family=\"Times,serif\" font-size=\"14.00\">grad 0.0000</text>\n</g>\n<!-- 140232165741952* -->\n<g id=\"node152\" class=\"node\">\n<title>140232165741952*</title>\n<ellipse fill=\"none\" stroke=\"black\" cx=\"259\" cy=\"-128.5\" rx=\"27\" ry=\"18\"/>\n<text text-anchor=\"middle\" x=\"259\" y=\"-124.8\" font-family=\"Times,serif\" font-size=\"14.00\">*</text>\n</g>\n<!-- 140232165607648&#45;&gt;140232165741952* -->\n<g id=\"edge199\" class=\"edge\">\n<title>140232165607648&#45;&gt;140232165741952*</title>\n<path fill=\"none\" stroke=\"black\" d=\"M191.95,-128.5C202.4,-128.5 212.54,-128.5 221.6,-128.5\"/>\n<polygon fill=\"black\" stroke=\"black\" points=\"221.7,-132 231.7,-128.5 221.7,-125 221.7,-132\"/>\n</g>\n<!-- 140232165755152 -->\n<g id=\"node59\" class=\"node\">\n<title>140232165755152</title>\n<polygon fill=\"none\" stroke=\"black\" points=\"1943.5,-0.5 1943.5,-36.5 2125.5,-36.5 2125.5,-0.5 1943.5,-0.5\"/>\n<text text-anchor=\"middle\" x=\"1953.5\" y=\"-14.8\" font-family=\"Times,serif\" font-size=\"14.00\"> </text>\n<polyline fill=\"none\" stroke=\"black\" points=\"1963.5,-0.5 1963.5,-36.5 \"/>\n<text text-anchor=\"middle\" x=\"2003.5\" y=\"-14.8\" font-family=\"Times,serif\" font-size=\"14.00\">data 0.3721</text>\n<polyline fill=\"none\" stroke=\"black\" points=\"2043.5,-0.5 2043.5,-36.5 \"/>\n<text text-anchor=\"middle\" x=\"2084.5\" y=\"-14.8\" font-family=\"Times,serif\" font-size=\"14.00\">grad 0.0000</text>\n</g>\n<!-- 140232165755152&#45;&gt;140232165755344+ -->\n<g id=\"edge153\" class=\"edge\">\n<title>140232165755152&#45;&gt;140232165755344+</title>\n<path fill=\"none\" stroke=\"black\" d=\"M2112.53,-36.66C2117.97,-39.23 2123.19,-42.16 2128,-45.5 2149.11,-60.15 2165.97,-84.3 2176.74,-102.78\"/>\n<polygon fill=\"black\" stroke=\"black\" points=\"2173.74,-104.57 2181.68,-111.59 2179.85,-101.15 2173.74,-104.57\"/>\n</g>\n<!-- 140232165755152* -->\n<g id=\"node60\" class=\"node\">\n<title>140232165755152*</title>\n<ellipse fill=\"none\" stroke=\"black\" cx=\"1878\" cy=\"-18.5\" rx=\"27\" ry=\"18\"/>\n<text text-anchor=\"middle\" x=\"1878\" y=\"-14.8\" font-family=\"Times,serif\" font-size=\"14.00\">*</text>\n</g>\n<!-- 140232165755152*&#45;&gt;140232165755152 -->\n<g id=\"edge23\" class=\"edge\">\n<title>140232165755152*&#45;&gt;140232165755152</title>\n<path fill=\"none\" stroke=\"black\" d=\"M1905.21,-18.5C1913.34,-18.5 1922.85,-18.5 1932.94,-18.5\"/>\n<polygon fill=\"black\" stroke=\"black\" points=\"1933.19,-22 1943.19,-18.5 1933.19,-15 1933.19,-22\"/>\n</g>\n<!-- 140232165607792 -->\n<g id=\"node61\" class=\"node\">\n<title>140232165607792</title>\n<polygon fill=\"none\" stroke=\"black\" points=\"995.5,-550.5 995.5,-586.5 1177.5,-586.5 1177.5,-550.5 995.5,-550.5\"/>\n<text text-anchor=\"middle\" x=\"1005.5\" y=\"-564.8\" font-family=\"Times,serif\" font-size=\"14.00\"> </text>\n<polyline fill=\"none\" stroke=\"black\" points=\"1015.5,-550.5 1015.5,-586.5 \"/>\n<text text-anchor=\"middle\" x=\"1055.5\" y=\"-564.8\" font-family=\"Times,serif\" font-size=\"14.00\">data 0.6409</text>\n<polyline fill=\"none\" stroke=\"black\" points=\"1095.5,-550.5 1095.5,-586.5 \"/>\n<text text-anchor=\"middle\" x=\"1136.5\" y=\"-564.8\" font-family=\"Times,serif\" font-size=\"14.00\">grad 0.0000</text>\n</g>\n<!-- 140232165741136+ -->\n<g id=\"node133\" class=\"node\">\n<title>140232165741136+</title>\n<ellipse fill=\"none\" stroke=\"black\" cx=\"1252\" cy=\"-513.5\" rx=\"27\" ry=\"18\"/>\n<text text-anchor=\"middle\" x=\"1252\" y=\"-509.8\" font-family=\"Times,serif\" font-size=\"14.00\">+</text>\n</g>\n<!-- 140232165607792&#45;&gt;140232165741136+ -->\n<g id=\"edge151\" class=\"edge\">\n<title>140232165607792&#45;&gt;140232165741136+</title>\n<path fill=\"none\" stroke=\"black\" d=\"M1161.12,-550.45C1170.58,-547.68 1180.07,-544.68 1189,-541.5 1199.54,-537.75 1210.77,-532.94 1220.73,-528.37\"/>\n<polygon fill=\"black\" stroke=\"black\" points=\"1222.27,-531.51 1229.84,-524.1 1219.3,-525.18 1222.27,-531.51\"/>\n</g>\n<!-- 140232165771632 -->\n<g id=\"node62\" class=\"node\">\n<title>140232165771632</title>\n<polygon fill=\"none\" stroke=\"black\" points=\"2256.5,-495.5 2256.5,-531.5 2438.5,-531.5 2438.5,-495.5 2256.5,-495.5\"/>\n<text text-anchor=\"middle\" x=\"2266.5\" y=\"-509.8\" font-family=\"Times,serif\" font-size=\"14.00\"> </text>\n<polyline fill=\"none\" stroke=\"black\" points=\"2276.5,-495.5 2276.5,-531.5 \"/>\n<text text-anchor=\"middle\" x=\"2316.5\" y=\"-509.8\" font-family=\"Times,serif\" font-size=\"14.00\">data 1.0657</text>\n<polyline fill=\"none\" stroke=\"black\" points=\"2356.5,-495.5 2356.5,-531.5 \"/>\n<text text-anchor=\"middle\" x=\"2397.5\" y=\"-509.8\" font-family=\"Times,serif\" font-size=\"14.00\">grad 0.0000</text>\n</g>\n<!-- 140232165772064+ -->\n<g id=\"node75\" class=\"node\">\n<title>140232165772064+</title>\n<ellipse fill=\"none\" stroke=\"black\" cx=\"2504\" cy=\"-513.5\" rx=\"27\" ry=\"18\"/>\n<text text-anchor=\"middle\" x=\"2504\" y=\"-509.8\" font-family=\"Times,serif\" font-size=\"14.00\">+</text>\n</g>\n<!-- 140232165771632&#45;&gt;140232165772064+ -->\n<g id=\"edge132\" class=\"edge\">\n<title>140232165771632&#45;&gt;140232165772064+</title>\n<path fill=\"none\" stroke=\"black\" d=\"M2438.82,-513.5C2448.57,-513.5 2458.04,-513.5 2466.57,-513.5\"/>\n<polygon fill=\"black\" stroke=\"black\" points=\"2466.83,-517 2476.83,-513.5 2466.83,-510 2466.83,-517\"/>\n</g>\n<!-- 140232165771632+&#45;&gt;140232165771632 -->\n<g id=\"edge24\" class=\"edge\">\n<title>140232165771632+&#45;&gt;140232165771632</title>\n<path fill=\"none\" stroke=\"black\" d=\"M2218.21,-513.5C2226.34,-513.5 2235.85,-513.5 2245.94,-513.5\"/>\n<polygon fill=\"black\" stroke=\"black\" points=\"2246.19,-517 2256.19,-513.5 2246.19,-510 2246.19,-517\"/>\n</g>\n<!-- 140232165755344 -->\n<g id=\"node64\" class=\"node\">\n<title>140232165755344</title>\n<polygon fill=\"none\" stroke=\"black\" points=\"2256.5,-137.5 2256.5,-173.5 2438.5,-173.5 2438.5,-137.5 2256.5,-137.5\"/>\n<text text-anchor=\"middle\" x=\"2266.5\" y=\"-151.8\" font-family=\"Times,serif\" font-size=\"14.00\"> </text>\n<polyline fill=\"none\" stroke=\"black\" points=\"2276.5,-137.5 2276.5,-173.5 \"/>\n<text text-anchor=\"middle\" x=\"2316.5\" y=\"-151.8\" font-family=\"Times,serif\" font-size=\"14.00\">data 0.9634</text>\n<polyline fill=\"none\" stroke=\"black\" points=\"2356.5,-137.5 2356.5,-173.5 \"/>\n<text text-anchor=\"middle\" x=\"2397.5\" y=\"-151.8\" font-family=\"Times,serif\" font-size=\"14.00\">grad 0.0000</text>\n</g>\n<!-- 140232165755776+ -->\n<g id=\"node78\" class=\"node\">\n<title>140232165755776+</title>\n<ellipse fill=\"none\" stroke=\"black\" cx=\"2504\" cy=\"-224.5\" rx=\"27\" ry=\"18\"/>\n<text text-anchor=\"middle\" x=\"2504\" y=\"-220.8\" font-family=\"Times,serif\" font-size=\"14.00\">+</text>\n</g>\n<!-- 140232165755344&#45;&gt;140232165755776+ -->\n<g id=\"edge146\" class=\"edge\">\n<title>140232165755344&#45;&gt;140232165755776+</title>\n<path fill=\"none\" stroke=\"black\" d=\"M2389.09,-173.63C2415.02,-185.21 2448.13,-199.99 2471.96,-210.64\"/>\n<polygon fill=\"black\" stroke=\"black\" points=\"2470.68,-213.9 2481.24,-214.78 2473.53,-207.51 2470.68,-213.9\"/>\n</g>\n<!-- 140232165755344+&#45;&gt;140232165755344 -->\n<g id=\"edge25\" class=\"edge\">\n<title>140232165755344+&#45;&gt;140232165755344</title>\n<path fill=\"none\" stroke=\"black\" d=\"M2217.51,-132.96C2225.83,-134.41 2235.62,-136.12 2246.03,-137.94\"/>\n<polygon fill=\"black\" stroke=\"black\" points=\"2245.73,-141.44 2256.18,-139.72 2246.93,-134.55 2245.73,-141.44\"/>\n</g>\n<!-- 140232165771872 -->\n<g id=\"node66\" class=\"node\">\n<title>140232165771872</title>\n<polygon fill=\"none\" stroke=\"black\" points=\"2254,-385.5 2254,-421.5 2441,-421.5 2441,-385.5 2254,-385.5\"/>\n<text text-anchor=\"middle\" x=\"2264\" y=\"-399.8\" font-family=\"Times,serif\" font-size=\"14.00\"> </text>\n<polyline fill=\"none\" stroke=\"black\" points=\"2274,-385.5 2274,-421.5 \"/>\n<text text-anchor=\"middle\" x=\"2316.5\" y=\"-399.8\" font-family=\"Times,serif\" font-size=\"14.00\">data &#45;0.1514</text>\n<polyline fill=\"none\" stroke=\"black\" points=\"2359,-385.5 2359,-421.5 \"/>\n<text text-anchor=\"middle\" x=\"2400\" y=\"-399.8\" font-family=\"Times,serif\" font-size=\"14.00\">grad 0.0000</text>\n</g>\n<!-- 140232165771872&#45;&gt;140232165772064+ -->\n<g id=\"edge178\" class=\"edge\">\n<title>140232165771872&#45;&gt;140232165772064+</title>\n<path fill=\"none\" stroke=\"black\" d=\"M2423.64,-421.68C2429.75,-424.51 2435.63,-427.76 2441,-431.5 2461.7,-445.93 2478.44,-469.42 2489.29,-487.57\"/>\n<polygon fill=\"black\" stroke=\"black\" points=\"2486.4,-489.57 2494.41,-496.5 2492.47,-486.09 2486.4,-489.57\"/>\n</g>\n<!-- 140232165771872*&#45;&gt;140232165771872 -->\n<g id=\"edge26\" class=\"edge\">\n<title>140232165771872*&#45;&gt;140232165771872</title>\n<path fill=\"none\" stroke=\"black\" d=\"M2218.21,-403.5C2225.73,-403.5 2234.43,-403.5 2243.67,-403.5\"/>\n<polygon fill=\"black\" stroke=\"black\" points=\"2243.89,-407 2253.89,-403.5 2243.89,-400 2243.89,-407\"/>\n</g>\n<!-- 140232165608032 -->\n<g id=\"node68\" class=\"node\">\n<title>140232165608032</title>\n<polygon fill=\"none\" stroke=\"black\" points=\"2256.5,-605.5 2256.5,-641.5 2438.5,-641.5 2438.5,-605.5 2256.5,-605.5\"/>\n<text text-anchor=\"middle\" x=\"2266.5\" y=\"-619.8\" font-family=\"Times,serif\" font-size=\"14.00\"> </text>\n<polyline fill=\"none\" stroke=\"black\" points=\"2276.5,-605.5 2276.5,-641.5 \"/>\n<text text-anchor=\"middle\" x=\"2316.5\" y=\"-619.8\" font-family=\"Times,serif\" font-size=\"14.00\">data 0.8302</text>\n<polyline fill=\"none\" stroke=\"black\" points=\"2356.5,-605.5 2356.5,-641.5 \"/>\n<text text-anchor=\"middle\" x=\"2397.5\" y=\"-619.8\" font-family=\"Times,serif\" font-size=\"14.00\">grad 0.0000</text>\n</g>\n<!-- 140232165608032&#45;&gt;140232165756016* -->\n<g id=\"edge159\" class=\"edge\">\n<title>140232165608032&#45;&gt;140232165756016*</title>\n<path fill=\"none\" stroke=\"black\" d=\"M2438.82,-623.5C2448.57,-623.5 2458.04,-623.5 2466.57,-623.5\"/>\n<polygon fill=\"black\" stroke=\"black\" points=\"2466.83,-627 2476.83,-623.5 2466.83,-620 2466.83,-627\"/>\n</g>\n<!-- 140232165608080 -->\n<g id=\"node69\" class=\"node\">\n<title>140232165608080</title>\n<polygon fill=\"none\" stroke=\"black\" points=\"664.5,-220.5 664.5,-256.5 846.5,-256.5 846.5,-220.5 664.5,-220.5\"/>\n<text text-anchor=\"middle\" x=\"674.5\" y=\"-234.8\" font-family=\"Times,serif\" font-size=\"14.00\"> </text>\n<polyline fill=\"none\" stroke=\"black\" points=\"684.5,-220.5 684.5,-256.5 \"/>\n<text text-anchor=\"middle\" x=\"724.5\" y=\"-234.8\" font-family=\"Times,serif\" font-size=\"14.00\">data 0.6001</text>\n<polyline fill=\"none\" stroke=\"black\" points=\"764.5,-220.5 764.5,-256.5 \"/>\n<text text-anchor=\"middle\" x=\"805.5\" y=\"-234.8\" font-family=\"Times,serif\" font-size=\"14.00\">grad 0.0000</text>\n</g>\n<!-- 140232165744112* -->\n<g id=\"node193\" class=\"node\">\n<title>140232165744112*</title>\n<ellipse fill=\"none\" stroke=\"black\" cx=\"921\" cy=\"-238.5\" rx=\"27\" ry=\"18\"/>\n<text text-anchor=\"middle\" x=\"921\" y=\"-234.8\" font-family=\"Times,serif\" font-size=\"14.00\">*</text>\n</g>\n<!-- 140232165608080&#45;&gt;140232165744112* -->\n<g id=\"edge136\" class=\"edge\">\n<title>140232165608080&#45;&gt;140232165744112*</title>\n<path fill=\"none\" stroke=\"black\" d=\"M846.86,-238.5C859.84,-238.5 872.53,-238.5 883.6,-238.5\"/>\n<polygon fill=\"black\" stroke=\"black\" points=\"883.67,-242 893.67,-238.5 883.67,-235 883.67,-242\"/>\n</g>\n<!-- 140232165608128 -->\n<g id=\"node70\" class=\"node\">\n<title>140232165608128</title>\n<polygon fill=\"none\" stroke=\"black\" points=\"1628,-330.5 1628,-366.5 1815,-366.5 1815,-330.5 1628,-330.5\"/>\n<text text-anchor=\"middle\" x=\"1638\" y=\"-344.8\" font-family=\"Times,serif\" font-size=\"14.00\"> </text>\n<polyline fill=\"none\" stroke=\"black\" points=\"1648,-330.5 1648,-366.5 \"/>\n<text text-anchor=\"middle\" x=\"1690.5\" y=\"-344.8\" font-family=\"Times,serif\" font-size=\"14.00\">data &#45;0.9122</text>\n<polyline fill=\"none\" stroke=\"black\" points=\"1733,-330.5 1733,-366.5 \"/>\n<text text-anchor=\"middle\" x=\"1774\" y=\"-344.8\" font-family=\"Times,serif\" font-size=\"14.00\">grad 0.0000</text>\n</g>\n<!-- 140232165608128&#45;&gt;140232165771440* -->\n<g id=\"edge172\" class=\"edge\">\n<title>140232165608128&#45;&gt;140232165771440*</title>\n<path fill=\"none\" stroke=\"black\" d=\"M1815.05,-348.5C1824.06,-348.5 1832.79,-348.5 1840.7,-348.5\"/>\n<polygon fill=\"black\" stroke=\"black\" points=\"1840.95,-352 1850.95,-348.5 1840.95,-345 1840.95,-352\"/>\n</g>\n<!-- 140232165755584 -->\n<g id=\"node71\" class=\"node\">\n<title>140232165755584</title>\n<polygon fill=\"none\" stroke=\"black\" points=\"2256.5,-206.5 2256.5,-242.5 2438.5,-242.5 2438.5,-206.5 2256.5,-206.5\"/>\n<text text-anchor=\"middle\" x=\"2266.5\" y=\"-220.8\" font-family=\"Times,serif\" font-size=\"14.00\"> </text>\n<polyline fill=\"none\" stroke=\"black\" points=\"2276.5,-206.5 2276.5,-242.5 \"/>\n<text text-anchor=\"middle\" x=\"2316.5\" y=\"-220.8\" font-family=\"Times,serif\" font-size=\"14.00\">data 0.3118</text>\n<polyline fill=\"none\" stroke=\"black\" points=\"2356.5,-206.5 2356.5,-242.5 \"/>\n<text text-anchor=\"middle\" x=\"2397.5\" y=\"-220.8\" font-family=\"Times,serif\" font-size=\"14.00\">grad 0.0000</text>\n</g>\n<!-- 140232165755584&#45;&gt;140232165755776+ -->\n<g id=\"edge156\" class=\"edge\">\n<title>140232165755584&#45;&gt;140232165755776+</title>\n<path fill=\"none\" stroke=\"black\" d=\"M2438.82,-224.5C2448.57,-224.5 2458.04,-224.5 2466.57,-224.5\"/>\n<polygon fill=\"black\" stroke=\"black\" points=\"2466.83,-228 2476.83,-224.5 2466.83,-221 2466.83,-228\"/>\n</g>\n<!-- 140232165755584*&#45;&gt;140232165755584 -->\n<g id=\"edge27\" class=\"edge\">\n<title>140232165755584*&#45;&gt;140232165755584</title>\n<path fill=\"none\" stroke=\"black\" d=\"M2218.21,-224.5C2226.34,-224.5 2235.85,-224.5 2245.94,-224.5\"/>\n<polygon fill=\"black\" stroke=\"black\" points=\"2246.19,-228 2256.19,-224.5 2246.19,-221 2246.19,-228\"/>\n</g>\n<!-- 140232165804832 -->\n<g id=\"node73\" class=\"node\">\n<title>140232165804832</title>\n<polygon fill=\"none\" stroke=\"black\" points=\"0,-495.5 0,-531.5 196,-531.5 196,-495.5 0,-495.5\"/>\n<text text-anchor=\"middle\" x=\"17\" y=\"-509.8\" font-family=\"Times,serif\" font-size=\"14.00\">2.0</text>\n<polyline fill=\"none\" stroke=\"black\" points=\"34,-495.5 34,-531.5 \"/>\n<text text-anchor=\"middle\" x=\"74\" y=\"-509.8\" font-family=\"Times,serif\" font-size=\"14.00\">data 2.0000</text>\n<polyline fill=\"none\" stroke=\"black\" points=\"114,-495.5 114,-531.5 \"/>\n<text text-anchor=\"middle\" x=\"155\" y=\"-509.8\" font-family=\"Times,serif\" font-size=\"14.00\">grad 0.0000</text>\n</g>\n<!-- 140232165804832&#45;&gt;140232165804160* -->\n<g id=\"edge165\" class=\"edge\">\n<title>140232165804832&#45;&gt;140232165804160*</title>\n<path fill=\"none\" stroke=\"black\" d=\"M165.89,-531.57C176.05,-534.67 186.35,-538.02 196,-541.5 206.27,-545.2 217.26,-549.78 227.1,-554.1\"/>\n<polygon fill=\"black\" stroke=\"black\" points=\"225.91,-557.41 236.47,-558.3 228.78,-551.02 225.91,-557.41\"/>\n</g>\n<!-- 140232165772064 -->\n<g id=\"node74\" class=\"node\">\n<title>140232165772064</title>\n<polygon fill=\"none\" stroke=\"black\" points=\"2569.5,-495.5 2569.5,-531.5 2751.5,-531.5 2751.5,-495.5 2569.5,-495.5\"/>\n<text text-anchor=\"middle\" x=\"2579.5\" y=\"-509.8\" font-family=\"Times,serif\" font-size=\"14.00\"> </text>\n<polyline fill=\"none\" stroke=\"black\" points=\"2589.5,-495.5 2589.5,-531.5 \"/>\n<text text-anchor=\"middle\" x=\"2629.5\" y=\"-509.8\" font-family=\"Times,serif\" font-size=\"14.00\">data 0.9143</text>\n<polyline fill=\"none\" stroke=\"black\" points=\"2669.5,-495.5 2669.5,-531.5 \"/>\n<text text-anchor=\"middle\" x=\"2710.5\" y=\"-509.8\" font-family=\"Times,serif\" font-size=\"14.00\">grad 0.0000</text>\n</g>\n<!-- 140232165772496+ -->\n<g id=\"node89\" class=\"node\">\n<title>140232165772496+</title>\n<ellipse fill=\"none\" stroke=\"black\" cx=\"2817\" cy=\"-561.5\" rx=\"27\" ry=\"18\"/>\n<text text-anchor=\"middle\" x=\"2817\" y=\"-557.8\" font-family=\"Times,serif\" font-size=\"14.00\">+</text>\n</g>\n<!-- 140232165772064&#45;&gt;140232165772496+ -->\n<g id=\"edge167\" class=\"edge\">\n<title>140232165772064&#45;&gt;140232165772496+</title>\n<path fill=\"none\" stroke=\"black\" d=\"M2721.76,-531.57C2732.5,-534.84 2743.59,-538.25 2754,-541.5 2763.35,-544.42 2773.48,-547.66 2782.78,-550.66\"/>\n<polygon fill=\"black\" stroke=\"black\" points=\"2781.89,-554.05 2792.48,-553.8 2784.04,-547.39 2781.89,-554.05\"/>\n</g>\n<!-- 140232165772064+&#45;&gt;140232165772064 -->\n<g id=\"edge28\" class=\"edge\">\n<title>140232165772064+&#45;&gt;140232165772064</title>\n<path fill=\"none\" stroke=\"black\" d=\"M2531.21,-513.5C2539.34,-513.5 2548.85,-513.5 2558.94,-513.5\"/>\n<polygon fill=\"black\" stroke=\"black\" points=\"2559.19,-517 2569.19,-513.5 2559.19,-510 2559.19,-517\"/>\n</g>\n<!-- 140232165608272 -->\n<g id=\"node76\" class=\"node\">\n<title>140232165608272</title>\n<polygon fill=\"none\" stroke=\"black\" points=\"664.5,-797.5 664.5,-833.5 846.5,-833.5 846.5,-797.5 664.5,-797.5\"/>\n<text text-anchor=\"middle\" x=\"674.5\" y=\"-811.8\" font-family=\"Times,serif\" font-size=\"14.00\"> </text>\n<polyline fill=\"none\" stroke=\"black\" points=\"684.5,-797.5 684.5,-833.5 \"/>\n<text text-anchor=\"middle\" x=\"724.5\" y=\"-811.8\" font-family=\"Times,serif\" font-size=\"14.00\">data 0.6650</text>\n<polyline fill=\"none\" stroke=\"black\" points=\"764.5,-797.5 764.5,-833.5 \"/>\n<text text-anchor=\"middle\" x=\"805.5\" y=\"-811.8\" font-family=\"Times,serif\" font-size=\"14.00\">grad 0.0000</text>\n</g>\n<!-- 140232165608272&#45;&gt;140232165753280* -->\n<g id=\"edge122\" class=\"edge\">\n<title>140232165608272&#45;&gt;140232165753280*</title>\n<path fill=\"none\" stroke=\"black\" d=\"M846.86,-815.5C859.84,-815.5 872.53,-815.5 883.6,-815.5\"/>\n<polygon fill=\"black\" stroke=\"black\" points=\"883.67,-819 893.67,-815.5 883.67,-812 883.67,-819\"/>\n</g>\n<!-- 140232165755776 -->\n<g id=\"node77\" class=\"node\">\n<title>140232165755776</title>\n<polygon fill=\"none\" stroke=\"black\" points=\"2569.5,-296.5 2569.5,-332.5 2751.5,-332.5 2751.5,-296.5 2569.5,-296.5\"/>\n<text text-anchor=\"middle\" x=\"2579.5\" y=\"-310.8\" font-family=\"Times,serif\" font-size=\"14.00\"> </text>\n<polyline fill=\"none\" stroke=\"black\" points=\"2589.5,-296.5 2589.5,-332.5 \"/>\n<text text-anchor=\"middle\" x=\"2629.5\" y=\"-310.8\" font-family=\"Times,serif\" font-size=\"14.00\">data 1.2752</text>\n<polyline fill=\"none\" stroke=\"black\" points=\"2669.5,-296.5 2669.5,-332.5 \"/>\n<text text-anchor=\"middle\" x=\"2710.5\" y=\"-310.8\" font-family=\"Times,serif\" font-size=\"14.00\">grad 0.0000</text>\n</g>\n<!-- 140232165756208+ -->\n<g id=\"node92\" class=\"node\">\n<title>140232165756208+</title>\n<ellipse fill=\"none\" stroke=\"black\" cx=\"2817\" cy=\"-396.5\" rx=\"27\" ry=\"18\"/>\n<text text-anchor=\"middle\" x=\"2817\" y=\"-392.8\" font-family=\"Times,serif\" font-size=\"14.00\">+</text>\n</g>\n<!-- 140232165755776&#45;&gt;140232165756208+ -->\n<g id=\"edge147\" class=\"edge\">\n<title>140232165755776&#45;&gt;140232165756208+</title>\n<path fill=\"none\" stroke=\"black\" d=\"M2695.79,-332.7C2722.87,-347.07 2760.27,-366.92 2786.13,-380.65\"/>\n<polygon fill=\"black\" stroke=\"black\" points=\"2784.62,-383.81 2795.1,-385.41 2787.91,-377.63 2784.62,-383.81\"/>\n</g>\n<!-- 140232165755776+&#45;&gt;140232165755776 -->\n<g id=\"edge29\" class=\"edge\">\n<title>140232165755776+&#45;&gt;140232165755776</title>\n<path fill=\"none\" stroke=\"black\" d=\"M2524.88,-236.08C2548.77,-250 2589.42,-273.67 2619.81,-291.38\"/>\n<polygon fill=\"black\" stroke=\"black\" points=\"2618.08,-294.42 2628.49,-296.43 2621.61,-288.38 2618.08,-294.42\"/>\n</g>\n<!-- 140232165608368 -->\n<g id=\"node79\" class=\"node\">\n<title>140232165608368</title>\n<polygon fill=\"none\" stroke=\"black\" points=\"1941,-440.5 1941,-476.5 2128,-476.5 2128,-440.5 1941,-440.5\"/>\n<text text-anchor=\"middle\" x=\"1951\" y=\"-454.8\" font-family=\"Times,serif\" font-size=\"14.00\"> </text>\n<polyline fill=\"none\" stroke=\"black\" points=\"1961,-440.5 1961,-476.5 \"/>\n<text text-anchor=\"middle\" x=\"2003.5\" y=\"-454.8\" font-family=\"Times,serif\" font-size=\"14.00\">data &#45;0.1851</text>\n<polyline fill=\"none\" stroke=\"black\" points=\"2046,-440.5 2046,-476.5 \"/>\n<text text-anchor=\"middle\" x=\"2087\" y=\"-454.8\" font-family=\"Times,serif\" font-size=\"14.00\">grad 0.0000</text>\n</g>\n<!-- 140232165608368&#45;&gt;140232165771872* -->\n<g id=\"edge180\" class=\"edge\">\n<title>140232165608368&#45;&gt;140232165771872*</title>\n<path fill=\"none\" stroke=\"black\" d=\"M2101.56,-440.45C2110.51,-437.64 2119.53,-434.63 2128,-431.5 2138.49,-427.62 2149.71,-422.78 2159.68,-418.22\"/>\n<polygon fill=\"black\" stroke=\"black\" points=\"2161.2,-421.37 2168.79,-413.97 2158.25,-415.02 2161.2,-421.37\"/>\n</g>\n<!-- 140232165608416 -->\n<g id=\"node80\" class=\"node\">\n<title>140232165608416</title>\n<polygon fill=\"none\" stroke=\"black\" points=\"664.5,-687.5 664.5,-723.5 846.5,-723.5 846.5,-687.5 664.5,-687.5\"/>\n<text text-anchor=\"middle\" x=\"674.5\" y=\"-701.8\" font-family=\"Times,serif\" font-size=\"14.00\"> </text>\n<polyline fill=\"none\" stroke=\"black\" points=\"684.5,-687.5 684.5,-723.5 \"/>\n<text text-anchor=\"middle\" x=\"724.5\" y=\"-701.8\" font-family=\"Times,serif\" font-size=\"14.00\">data 0.1889</text>\n<polyline fill=\"none\" stroke=\"black\" points=\"764.5,-687.5 764.5,-723.5 \"/>\n<text text-anchor=\"middle\" x=\"805.5\" y=\"-701.8\" font-family=\"Times,serif\" font-size=\"14.00\">grad 0.0000</text>\n</g>\n<!-- 140232165608416&#45;&gt;140232165753568* -->\n<g id=\"edge164\" class=\"edge\">\n<title>140232165608416&#45;&gt;140232165753568*</title>\n<path fill=\"none\" stroke=\"black\" d=\"M827.07,-723.58C837.51,-726.65 848.09,-730 858,-733.5 868.29,-737.14 879.29,-741.7 889.12,-746.03\"/>\n<polygon fill=\"black\" stroke=\"black\" points=\"887.94,-749.33 898.49,-750.24 890.81,-742.95 887.94,-749.33\"/>\n</g>\n<!-- 140232165772304 -->\n<g id=\"node81\" class=\"node\">\n<title>140232165772304</title>\n<polygon fill=\"none\" stroke=\"black\" points=\"2569.5,-715.5 2569.5,-751.5 2751.5,-751.5 2751.5,-715.5 2569.5,-715.5\"/>\n<text text-anchor=\"middle\" x=\"2579.5\" y=\"-729.8\" font-family=\"Times,serif\" font-size=\"14.00\"> </text>\n<polyline fill=\"none\" stroke=\"black\" points=\"2589.5,-715.5 2589.5,-751.5 \"/>\n<text text-anchor=\"middle\" x=\"2629.5\" y=\"-729.8\" font-family=\"Times,serif\" font-size=\"14.00\">data 0.3040</text>\n<polyline fill=\"none\" stroke=\"black\" points=\"2669.5,-715.5 2669.5,-751.5 \"/>\n<text text-anchor=\"middle\" x=\"2710.5\" y=\"-729.8\" font-family=\"Times,serif\" font-size=\"14.00\">grad 0.0000</text>\n</g>\n<!-- 140232165772304&#45;&gt;140232165772496+ -->\n<g id=\"edge139\" class=\"edge\">\n<title>140232165772304&#45;&gt;140232165772496+</title>\n<path fill=\"none\" stroke=\"black\" d=\"M2741.71,-715.31C2746.1,-712.75 2750.24,-709.83 2754,-706.5 2772.3,-690.27 2795.26,-626.05 2807.46,-588.74\"/>\n<polygon fill=\"black\" stroke=\"black\" points=\"2810.87,-589.58 2810.6,-578.99 2804.2,-587.44 2810.87,-589.58\"/>\n</g>\n<!-- 140232165772304*&#45;&gt;140232165772304 -->\n<g id=\"edge30\" class=\"edge\">\n<title>140232165772304*&#45;&gt;140232165772304</title>\n<path fill=\"none\" stroke=\"black\" d=\"M2531.21,-733.5C2539.34,-733.5 2548.85,-733.5 2558.94,-733.5\"/>\n<polygon fill=\"black\" stroke=\"black\" points=\"2559.19,-737 2569.19,-733.5 2559.19,-730 2559.19,-737\"/>\n</g>\n<!-- 140232165608464 -->\n<g id=\"node83\" class=\"node\">\n<title>140232165608464</title>\n<polygon fill=\"none\" stroke=\"black\" points=\"2256.5,-770.5 2256.5,-806.5 2438.5,-806.5 2438.5,-770.5 2256.5,-770.5\"/>\n<text text-anchor=\"middle\" x=\"2266.5\" y=\"-784.8\" font-family=\"Times,serif\" font-size=\"14.00\"> </text>\n<polyline fill=\"none\" stroke=\"black\" points=\"2276.5,-770.5 2276.5,-806.5 \"/>\n<text text-anchor=\"middle\" x=\"2316.5\" y=\"-784.8\" font-family=\"Times,serif\" font-size=\"14.00\">data 0.3058</text>\n<polyline fill=\"none\" stroke=\"black\" points=\"2356.5,-770.5 2356.5,-806.5 \"/>\n<text text-anchor=\"middle\" x=\"2397.5\" y=\"-784.8\" font-family=\"Times,serif\" font-size=\"14.00\">grad 0.0000</text>\n</g>\n<!-- 140232165608464&#45;&gt;140232165772304* -->\n<g id=\"edge85\" class=\"edge\">\n<title>140232165608464&#45;&gt;140232165772304*</title>\n<path fill=\"none\" stroke=\"black\" d=\"M2414.56,-770.45C2423.51,-767.64 2432.53,-764.63 2441,-761.5 2451.49,-757.62 2462.71,-752.78 2472.68,-748.22\"/>\n<polygon fill=\"black\" stroke=\"black\" points=\"2474.2,-751.37 2481.79,-743.97 2471.25,-745.02 2474.2,-751.37\"/>\n</g>\n<!-- 140232165608512 -->\n<g id=\"node84\" class=\"node\">\n<title>140232165608512</title>\n<polygon fill=\"none\" stroke=\"black\" points=\"1630.5,-770.5 1630.5,-806.5 1812.5,-806.5 1812.5,-770.5 1630.5,-770.5\"/>\n<text text-anchor=\"middle\" x=\"1640.5\" y=\"-784.8\" font-family=\"Times,serif\" font-size=\"14.00\"> </text>\n<polyline fill=\"none\" stroke=\"black\" points=\"1650.5,-770.5 1650.5,-806.5 \"/>\n<text text-anchor=\"middle\" x=\"1690.5\" y=\"-784.8\" font-family=\"Times,serif\" font-size=\"14.00\">data 0.9151</text>\n<polyline fill=\"none\" stroke=\"black\" points=\"1730.5,-770.5 1730.5,-806.5 \"/>\n<text text-anchor=\"middle\" x=\"1771.5\" y=\"-784.8\" font-family=\"Times,serif\" font-size=\"14.00\">grad 0.0000</text>\n</g>\n<!-- 140232165608512&#45;&gt;140232165754432+ -->\n<g id=\"edge80\" class=\"edge\">\n<title>140232165608512&#45;&gt;140232165754432+</title>\n<path fill=\"none\" stroke=\"black\" d=\"M1788.56,-770.45C1797.51,-767.64 1806.53,-764.63 1815,-761.5 1825.49,-757.62 1836.71,-752.78 1846.68,-748.22\"/>\n<polygon fill=\"black\" stroke=\"black\" points=\"1848.2,-751.37 1855.79,-743.97 1845.25,-745.02 1848.2,-751.37\"/>\n</g>\n<!-- 140232165756016 -->\n<g id=\"node85\" class=\"node\">\n<title>140232165756016</title>\n<polygon fill=\"none\" stroke=\"black\" points=\"2569.5,-605.5 2569.5,-641.5 2751.5,-641.5 2751.5,-605.5 2569.5,-605.5\"/>\n<text text-anchor=\"middle\" x=\"2579.5\" y=\"-619.8\" font-family=\"Times,serif\" font-size=\"14.00\"> </text>\n<polyline fill=\"none\" stroke=\"black\" points=\"2589.5,-605.5 2589.5,-641.5 \"/>\n<text text-anchor=\"middle\" x=\"2629.5\" y=\"-619.8\" font-family=\"Times,serif\" font-size=\"14.00\">data 0.8251</text>\n<polyline fill=\"none\" stroke=\"black\" points=\"2669.5,-605.5 2669.5,-641.5 \"/>\n<text text-anchor=\"middle\" x=\"2710.5\" y=\"-619.8\" font-family=\"Times,serif\" font-size=\"14.00\">grad 0.0000</text>\n</g>\n<!-- 140232165756016&#45;&gt;140232165756208+ -->\n<g id=\"edge104\" class=\"edge\">\n<title>140232165756016&#45;&gt;140232165756208+</title>\n<path fill=\"none\" stroke=\"black\" d=\"M2743.77,-605.3C2747.48,-602.73 2750.93,-599.82 2754,-596.5 2807.04,-539.17 2754.12,-493.87 2790,-424.5 2791.04,-422.49 2792.26,-420.52 2793.61,-418.61\"/>\n<polygon fill=\"black\" stroke=\"black\" points=\"2796.42,-420.69 2800.03,-410.73 2791,-416.27 2796.42,-420.69\"/>\n</g>\n<!-- 140232165756016*&#45;&gt;140232165756016 -->\n<g id=\"edge31\" class=\"edge\">\n<title>140232165756016*&#45;&gt;140232165756016</title>\n<path fill=\"none\" stroke=\"black\" d=\"M2531.21,-623.5C2539.34,-623.5 2548.85,-623.5 2558.94,-623.5\"/>\n<polygon fill=\"black\" stroke=\"black\" points=\"2559.19,-627 2569.19,-623.5 2559.19,-620 2559.19,-627\"/>\n</g>\n<!-- 140232165608656 -->\n<g id=\"node87\" class=\"node\">\n<title>140232165608656</title>\n<polygon fill=\"none\" stroke=\"black\" points=\"2882.5,-598.5 2882.5,-634.5 3064.5,-634.5 3064.5,-598.5 2882.5,-598.5\"/>\n<text text-anchor=\"middle\" x=\"2892.5\" y=\"-612.8\" font-family=\"Times,serif\" font-size=\"14.00\"> </text>\n<polyline fill=\"none\" stroke=\"black\" points=\"2902.5,-598.5 2902.5,-634.5 \"/>\n<text text-anchor=\"middle\" x=\"2942.5\" y=\"-612.8\" font-family=\"Times,serif\" font-size=\"14.00\">data 0.2395</text>\n<polyline fill=\"none\" stroke=\"black\" points=\"2982.5,-598.5 2982.5,-634.5 \"/>\n<text text-anchor=\"middle\" x=\"3023.5\" y=\"-612.8\" font-family=\"Times,serif\" font-size=\"14.00\">grad 0.0000</text>\n</g>\n<!-- 140232165772688+ -->\n<g id=\"node95\" class=\"node\">\n<title>140232165772688+</title>\n<ellipse fill=\"none\" stroke=\"black\" cx=\"3130\" cy=\"-561.5\" rx=\"27\" ry=\"18\"/>\n<text text-anchor=\"middle\" x=\"3130\" y=\"-557.8\" font-family=\"Times,serif\" font-size=\"14.00\">+</text>\n</g>\n<!-- 140232165608656&#45;&gt;140232165772688+ -->\n<g id=\"edge106\" class=\"edge\">\n<title>140232165608656&#45;&gt;140232165772688+</title>\n<path fill=\"none\" stroke=\"black\" d=\"M3040.56,-598.45C3049.51,-595.64 3058.53,-592.63 3067,-589.5 3077.49,-585.62 3088.71,-580.78 3098.68,-576.22\"/>\n<polygon fill=\"black\" stroke=\"black\" points=\"3100.2,-579.37 3107.79,-571.97 3097.25,-573.02 3100.2,-579.37\"/>\n</g>\n<!-- 140232165772496 -->\n<g id=\"node88\" class=\"node\">\n<title>140232165772496</title>\n<polygon fill=\"none\" stroke=\"black\" points=\"2882.5,-543.5 2882.5,-579.5 3064.5,-579.5 3064.5,-543.5 2882.5,-543.5\"/>\n<text text-anchor=\"middle\" x=\"2892.5\" y=\"-557.8\" font-family=\"Times,serif\" font-size=\"14.00\"> </text>\n<polyline fill=\"none\" stroke=\"black\" points=\"2902.5,-543.5 2902.5,-579.5 \"/>\n<text text-anchor=\"middle\" x=\"2942.5\" y=\"-557.8\" font-family=\"Times,serif\" font-size=\"14.00\">data 1.2183</text>\n<polyline fill=\"none\" stroke=\"black\" points=\"2982.5,-543.5 2982.5,-579.5 \"/>\n<text text-anchor=\"middle\" x=\"3023.5\" y=\"-557.8\" font-family=\"Times,serif\" font-size=\"14.00\">grad 0.0000</text>\n</g>\n<!-- 140232165772496&#45;&gt;140232165772688+ -->\n<g id=\"edge93\" class=\"edge\">\n<title>140232165772496&#45;&gt;140232165772688+</title>\n<path fill=\"none\" stroke=\"black\" d=\"M3064.82,-561.5C3074.57,-561.5 3084.04,-561.5 3092.57,-561.5\"/>\n<polygon fill=\"black\" stroke=\"black\" points=\"3092.83,-565 3102.83,-561.5 3092.83,-558 3092.83,-565\"/>\n</g>\n<!-- 140232165772496+&#45;&gt;140232165772496 -->\n<g id=\"edge32\" class=\"edge\">\n<title>140232165772496+&#45;&gt;140232165772496</title>\n<path fill=\"none\" stroke=\"black\" d=\"M2844.21,-561.5C2852.34,-561.5 2861.85,-561.5 2871.94,-561.5\"/>\n<polygon fill=\"black\" stroke=\"black\" points=\"2872.19,-565 2882.19,-561.5 2872.19,-558 2872.19,-565\"/>\n</g>\n<!-- 140232165608752 -->\n<g id=\"node90\" class=\"node\">\n<title>140232165608752</title>\n<polygon fill=\"none\" stroke=\"black\" points=\"1630.5,-605.5 1630.5,-641.5 1812.5,-641.5 1812.5,-605.5 1630.5,-605.5\"/>\n<text text-anchor=\"middle\" x=\"1640.5\" y=\"-619.8\" font-family=\"Times,serif\" font-size=\"14.00\"> </text>\n<polyline fill=\"none\" stroke=\"black\" points=\"1650.5,-605.5 1650.5,-641.5 \"/>\n<text text-anchor=\"middle\" x=\"1690.5\" y=\"-619.8\" font-family=\"Times,serif\" font-size=\"14.00\">data 0.1546</text>\n<polyline fill=\"none\" stroke=\"black\" points=\"1730.5,-605.5 1730.5,-641.5 \"/>\n<text text-anchor=\"middle\" x=\"1771.5\" y=\"-619.8\" font-family=\"Times,serif\" font-size=\"14.00\">grad 0.0000</text>\n</g>\n<!-- 140232165608752&#45;&gt;140232165771200* -->\n<g id=\"edge138\" class=\"edge\">\n<title>140232165608752&#45;&gt;140232165771200*</title>\n<path fill=\"none\" stroke=\"black\" d=\"M1812.82,-623.5C1822.57,-623.5 1832.04,-623.5 1840.57,-623.5\"/>\n<polygon fill=\"black\" stroke=\"black\" points=\"1840.83,-627 1850.83,-623.5 1840.83,-620 1840.83,-627\"/>\n</g>\n<!-- 140232165756208 -->\n<g id=\"node91\" class=\"node\">\n<title>140232165756208</title>\n<polygon fill=\"none\" stroke=\"black\" points=\"2882.5,-378.5 2882.5,-414.5 3064.5,-414.5 3064.5,-378.5 2882.5,-378.5\"/>\n<text text-anchor=\"middle\" x=\"2892.5\" y=\"-392.8\" font-family=\"Times,serif\" font-size=\"14.00\"> </text>\n<polyline fill=\"none\" stroke=\"black\" points=\"2902.5,-378.5 2902.5,-414.5 \"/>\n<text text-anchor=\"middle\" x=\"2942.5\" y=\"-392.8\" font-family=\"Times,serif\" font-size=\"14.00\">data 2.1003</text>\n<polyline fill=\"none\" stroke=\"black\" points=\"2982.5,-378.5 2982.5,-414.5 \"/>\n<text text-anchor=\"middle\" x=\"3023.5\" y=\"-392.8\" font-family=\"Times,serif\" font-size=\"14.00\">grad 0.0000</text>\n</g>\n<!-- 140232165756400+ -->\n<g id=\"node99\" class=\"node\">\n<title>140232165756400+</title>\n<ellipse fill=\"none\" stroke=\"black\" cx=\"3130\" cy=\"-396.5\" rx=\"27\" ry=\"18\"/>\n<text text-anchor=\"middle\" x=\"3130\" y=\"-392.8\" font-family=\"Times,serif\" font-size=\"14.00\">+</text>\n</g>\n<!-- 140232165756208&#45;&gt;140232165756400+ -->\n<g id=\"edge168\" class=\"edge\">\n<title>140232165756208&#45;&gt;140232165756400+</title>\n<path fill=\"none\" stroke=\"black\" d=\"M3064.82,-396.5C3074.57,-396.5 3084.04,-396.5 3092.57,-396.5\"/>\n<polygon fill=\"black\" stroke=\"black\" points=\"3092.83,-400 3102.83,-396.5 3092.83,-393 3092.83,-400\"/>\n</g>\n<!-- 140232165756208+&#45;&gt;140232165756208 -->\n<g id=\"edge33\" class=\"edge\">\n<title>140232165756208+&#45;&gt;140232165756208</title>\n<path fill=\"none\" stroke=\"black\" d=\"M2844.21,-396.5C2852.34,-396.5 2861.85,-396.5 2871.94,-396.5\"/>\n<polygon fill=\"black\" stroke=\"black\" points=\"2872.19,-400 2882.19,-396.5 2872.19,-393 2872.19,-400\"/>\n</g>\n<!-- 140232165608800 -->\n<g id=\"node93\" class=\"node\">\n<title>140232165608800</title>\n<polygon fill=\"none\" stroke=\"black\" points=\"1630.5,-110.5 1630.5,-146.5 1812.5,-146.5 1812.5,-110.5 1630.5,-110.5\"/>\n<text text-anchor=\"middle\" x=\"1640.5\" y=\"-124.8\" font-family=\"Times,serif\" font-size=\"14.00\"> </text>\n<polyline fill=\"none\" stroke=\"black\" points=\"1650.5,-110.5 1650.5,-146.5 \"/>\n<text text-anchor=\"middle\" x=\"1690.5\" y=\"-124.8\" font-family=\"Times,serif\" font-size=\"14.00\">data 0.5914</text>\n<polyline fill=\"none\" stroke=\"black\" points=\"1730.5,-110.5 1730.5,-146.5 \"/>\n<text text-anchor=\"middle\" x=\"1771.5\" y=\"-124.8\" font-family=\"Times,serif\" font-size=\"14.00\">grad 0.0000</text>\n</g>\n<!-- 140232165608800&#45;&gt;140232165754912* -->\n<g id=\"edge105\" class=\"edge\">\n<title>140232165608800&#45;&gt;140232165754912*</title>\n<path fill=\"none\" stroke=\"black\" d=\"M1812.82,-128.5C1822.57,-128.5 1832.04,-128.5 1840.57,-128.5\"/>\n<polygon fill=\"black\" stroke=\"black\" points=\"1840.83,-132 1850.83,-128.5 1840.83,-125 1840.83,-132\"/>\n</g>\n<!-- 140232165772688 -->\n<g id=\"node94\" class=\"node\">\n<title>140232165772688</title>\n<polygon fill=\"none\" stroke=\"black\" points=\"3195.5,-543.5 3195.5,-579.5 3377.5,-579.5 3377.5,-543.5 3195.5,-543.5\"/>\n<text text-anchor=\"middle\" x=\"3205.5\" y=\"-557.8\" font-family=\"Times,serif\" font-size=\"14.00\"> </text>\n<polyline fill=\"none\" stroke=\"black\" points=\"3215.5,-543.5 3215.5,-579.5 \"/>\n<text text-anchor=\"middle\" x=\"3255.5\" y=\"-557.8\" font-family=\"Times,serif\" font-size=\"14.00\">data 1.4578</text>\n<polyline fill=\"none\" stroke=\"black\" points=\"3295.5,-543.5 3295.5,-579.5 \"/>\n<text text-anchor=\"middle\" x=\"3336.5\" y=\"-557.8\" font-family=\"Times,serif\" font-size=\"14.00\">grad 0.0000</text>\n</g>\n<!-- 140232165772928tanh -->\n<g id=\"node104\" class=\"node\">\n<title>140232165772928tanh</title>\n<ellipse fill=\"none\" stroke=\"black\" cx=\"3443\" cy=\"-561.5\" rx=\"27\" ry=\"18\"/>\n<text text-anchor=\"middle\" x=\"3443\" y=\"-557.8\" font-family=\"Times,serif\" font-size=\"14.00\">tanh</text>\n</g>\n<!-- 140232165772688&#45;&gt;140232165772928tanh -->\n<g id=\"edge111\" class=\"edge\">\n<title>140232165772688&#45;&gt;140232165772928tanh</title>\n<path fill=\"none\" stroke=\"black\" d=\"M3377.82,-561.5C3387.57,-561.5 3397.04,-561.5 3405.57,-561.5\"/>\n<polygon fill=\"black\" stroke=\"black\" points=\"3405.83,-565 3415.83,-561.5 3405.83,-558 3405.83,-565\"/>\n</g>\n<!-- 140232165772688+&#45;&gt;140232165772688 -->\n<g id=\"edge34\" class=\"edge\">\n<title>140232165772688+&#45;&gt;140232165772688</title>\n<path fill=\"none\" stroke=\"black\" d=\"M3157.21,-561.5C3165.34,-561.5 3174.85,-561.5 3184.94,-561.5\"/>\n<polygon fill=\"black\" stroke=\"black\" points=\"3185.19,-565 3195.19,-561.5 3185.19,-558 3185.19,-565\"/>\n</g>\n<!-- 140232165608896 -->\n<g id=\"node96\" class=\"node\">\n<title>140232165608896</title>\n<polygon fill=\"none\" stroke=\"black\" points=\"1628,-0.5 1628,-36.5 1815,-36.5 1815,-0.5 1628,-0.5\"/>\n<text text-anchor=\"middle\" x=\"1638\" y=\"-14.8\" font-family=\"Times,serif\" font-size=\"14.00\"> </text>\n<polyline fill=\"none\" stroke=\"black\" points=\"1648,-0.5 1648,-36.5 \"/>\n<text text-anchor=\"middle\" x=\"1690.5\" y=\"-14.8\" font-family=\"Times,serif\" font-size=\"14.00\">data &#45;0.3725</text>\n<polyline fill=\"none\" stroke=\"black\" points=\"1733,-0.5 1733,-36.5 \"/>\n<text text-anchor=\"middle\" x=\"1774\" y=\"-14.8\" font-family=\"Times,serif\" font-size=\"14.00\">grad 0.0000</text>\n</g>\n<!-- 140232165608896&#45;&gt;140232165755152* -->\n<g id=\"edge125\" class=\"edge\">\n<title>140232165608896&#45;&gt;140232165755152*</title>\n<path fill=\"none\" stroke=\"black\" d=\"M1815.05,-18.5C1824.06,-18.5 1832.79,-18.5 1840.7,-18.5\"/>\n<polygon fill=\"black\" stroke=\"black\" points=\"1840.95,-22 1850.95,-18.5 1840.95,-15 1840.95,-22\"/>\n</g>\n<!-- 140232165805552 -->\n<g id=\"node97\" class=\"node\">\n<title>140232165805552</title>\n<polygon fill=\"none\" stroke=\"black\" points=\"0,-605.5 0,-641.5 196,-641.5 196,-605.5 0,-605.5\"/>\n<text text-anchor=\"middle\" x=\"17\" y=\"-619.8\" font-family=\"Times,serif\" font-size=\"14.00\">3.0</text>\n<polyline fill=\"none\" stroke=\"black\" points=\"34,-605.5 34,-641.5 \"/>\n<text text-anchor=\"middle\" x=\"74\" y=\"-619.8\" font-family=\"Times,serif\" font-size=\"14.00\">data 3.0000</text>\n<polyline fill=\"none\" stroke=\"black\" points=\"114,-605.5 114,-641.5 \"/>\n<text text-anchor=\"middle\" x=\"155\" y=\"-619.8\" font-family=\"Times,serif\" font-size=\"14.00\">grad 0.0000</text>\n</g>\n<!-- 140232165805552&#45;&gt;140232165802288* -->\n<g id=\"edge88\" class=\"edge\">\n<title>140232165805552&#45;&gt;140232165802288*</title>\n<path fill=\"none\" stroke=\"black\" d=\"M196.07,-623.5C205.05,-623.5 213.71,-623.5 221.57,-623.5\"/>\n<polygon fill=\"black\" stroke=\"black\" points=\"221.75,-627 231.75,-623.5 221.75,-620 221.75,-627\"/>\n</g>\n<!-- 140232165756400 -->\n<g id=\"node98\" class=\"node\">\n<title>140232165756400</title>\n<polygon fill=\"none\" stroke=\"black\" points=\"3195.5,-378.5 3195.5,-414.5 3377.5,-414.5 3377.5,-378.5 3195.5,-378.5\"/>\n<text text-anchor=\"middle\" x=\"3205.5\" y=\"-392.8\" font-family=\"Times,serif\" font-size=\"14.00\"> </text>\n<polyline fill=\"none\" stroke=\"black\" points=\"3215.5,-378.5 3215.5,-414.5 \"/>\n<text text-anchor=\"middle\" x=\"3255.5\" y=\"-392.8\" font-family=\"Times,serif\" font-size=\"14.00\">data 2.0146</text>\n<polyline fill=\"none\" stroke=\"black\" points=\"3295.5,-378.5 3295.5,-414.5 \"/>\n<text text-anchor=\"middle\" x=\"3336.5\" y=\"-392.8\" font-family=\"Times,serif\" font-size=\"14.00\">grad 0.0000</text>\n</g>\n<!-- 140232165756640tanh -->\n<g id=\"node107\" class=\"node\">\n<title>140232165756640tanh</title>\n<ellipse fill=\"none\" stroke=\"black\" cx=\"3443\" cy=\"-396.5\" rx=\"27\" ry=\"18\"/>\n<text text-anchor=\"middle\" x=\"3443\" y=\"-392.8\" font-family=\"Times,serif\" font-size=\"14.00\">tanh</text>\n</g>\n<!-- 140232165756400&#45;&gt;140232165756640tanh -->\n<g id=\"edge192\" class=\"edge\">\n<title>140232165756400&#45;&gt;140232165756640tanh</title>\n<path fill=\"none\" stroke=\"black\" d=\"M3377.82,-396.5C3387.57,-396.5 3397.04,-396.5 3405.57,-396.5\"/>\n<polygon fill=\"black\" stroke=\"black\" points=\"3405.83,-400 3415.83,-396.5 3405.83,-393 3405.83,-400\"/>\n</g>\n<!-- 140232165756400+&#45;&gt;140232165756400 -->\n<g id=\"edge35\" class=\"edge\">\n<title>140232165756400+&#45;&gt;140232165756400</title>\n<path fill=\"none\" stroke=\"black\" d=\"M3157.21,-396.5C3165.34,-396.5 3174.85,-396.5 3184.94,-396.5\"/>\n<polygon fill=\"black\" stroke=\"black\" points=\"3185.19,-400 3195.19,-396.5 3185.19,-393 3185.19,-400\"/>\n</g>\n<!-- 140232165608944 -->\n<g id=\"node100\" class=\"node\">\n<title>140232165608944</title>\n<polygon fill=\"none\" stroke=\"black\" points=\"2880,-323.5 2880,-359.5 3067,-359.5 3067,-323.5 2880,-323.5\"/>\n<text text-anchor=\"middle\" x=\"2890\" y=\"-337.8\" font-family=\"Times,serif\" font-size=\"14.00\"> </text>\n<polyline fill=\"none\" stroke=\"black\" points=\"2900,-323.5 2900,-359.5 \"/>\n<text text-anchor=\"middle\" x=\"2942.5\" y=\"-337.8\" font-family=\"Times,serif\" font-size=\"14.00\">data &#45;0.0857</text>\n<polyline fill=\"none\" stroke=\"black\" points=\"2985,-323.5 2985,-359.5 \"/>\n<text text-anchor=\"middle\" x=\"3026\" y=\"-337.8\" font-family=\"Times,serif\" font-size=\"14.00\">grad 0.0000</text>\n</g>\n<!-- 140232165608944&#45;&gt;140232165756400+ -->\n<g id=\"edge163\" class=\"edge\">\n<title>140232165608944&#45;&gt;140232165756400+</title>\n<path fill=\"none\" stroke=\"black\" d=\"M3038.02,-359.65C3047.79,-362.76 3057.71,-366.08 3067,-369.5 3077.25,-373.27 3088.23,-377.86 3098.07,-382.18\"/>\n<polygon fill=\"black\" stroke=\"black\" points=\"3096.89,-385.49 3107.45,-386.37 3099.74,-379.1 3096.89,-385.49\"/>\n</g>\n<!-- 140232165608992 -->\n<g id=\"node101\" class=\"node\">\n<title>140232165608992</title>\n<polygon fill=\"none\" stroke=\"black\" points=\"1943.5,-165.5 1943.5,-201.5 2125.5,-201.5 2125.5,-165.5 1943.5,-165.5\"/>\n<text text-anchor=\"middle\" x=\"1953.5\" y=\"-179.8\" font-family=\"Times,serif\" font-size=\"14.00\"> </text>\n<polyline fill=\"none\" stroke=\"black\" points=\"1963.5,-165.5 1963.5,-201.5 \"/>\n<text text-anchor=\"middle\" x=\"2003.5\" y=\"-179.8\" font-family=\"Times,serif\" font-size=\"14.00\">data 0.3811</text>\n<polyline fill=\"none\" stroke=\"black\" points=\"2043.5,-165.5 2043.5,-201.5 \"/>\n<text text-anchor=\"middle\" x=\"2084.5\" y=\"-179.8\" font-family=\"Times,serif\" font-size=\"14.00\">grad 0.0000</text>\n</g>\n<!-- 140232165608992&#45;&gt;140232165755584* -->\n<g id=\"edge179\" class=\"edge\">\n<title>140232165608992&#45;&gt;140232165755584*</title>\n<path fill=\"none\" stroke=\"black\" d=\"M2103.72,-201.6C2121.71,-206.38 2140.37,-211.33 2155.71,-215.4\"/>\n<polygon fill=\"black\" stroke=\"black\" points=\"2155.2,-218.88 2165.76,-218.07 2156.99,-212.12 2155.2,-218.88\"/>\n</g>\n<!-- 140232165609040 -->\n<g id=\"node102\" class=\"node\">\n<title>140232165609040</title>\n<polygon fill=\"none\" stroke=\"black\" points=\"1628,-413.5 1628,-449.5 1815,-449.5 1815,-413.5 1628,-413.5\"/>\n<text text-anchor=\"middle\" x=\"1638\" y=\"-427.8\" font-family=\"Times,serif\" font-size=\"14.00\"> </text>\n<polyline fill=\"none\" stroke=\"black\" points=\"1648,-413.5 1648,-449.5 \"/>\n<text text-anchor=\"middle\" x=\"1690.5\" y=\"-427.8\" font-family=\"Times,serif\" font-size=\"14.00\">data &#45;0.4703</text>\n<polyline fill=\"none\" stroke=\"black\" points=\"1733,-413.5 1733,-449.5 \"/>\n<text text-anchor=\"middle\" x=\"1774\" y=\"-427.8\" font-family=\"Times,serif\" font-size=\"14.00\">grad 0.0000</text>\n</g>\n<!-- 140232165756880* -->\n<g id=\"node114\" class=\"node\">\n<title>140232165756880*</title>\n<ellipse fill=\"none\" stroke=\"black\" cx=\"1878\" cy=\"-431.5\" rx=\"27\" ry=\"18\"/>\n<text text-anchor=\"middle\" x=\"1878\" y=\"-427.8\" font-family=\"Times,serif\" font-size=\"14.00\">*</text>\n</g>\n<!-- 140232165609040&#45;&gt;140232165756880* -->\n<g id=\"edge149\" class=\"edge\">\n<title>140232165609040&#45;&gt;140232165756880*</title>\n<path fill=\"none\" stroke=\"black\" d=\"M1815.05,-431.5C1824.06,-431.5 1832.79,-431.5 1840.7,-431.5\"/>\n<polygon fill=\"black\" stroke=\"black\" points=\"1840.95,-435 1850.95,-431.5 1840.95,-428 1840.95,-435\"/>\n</g>\n<!-- 140232165772928 -->\n<g id=\"node103\" class=\"node\">\n<title>140232165772928</title>\n<polygon fill=\"none\" stroke=\"black\" points=\"3508.5,-543.5 3508.5,-579.5 3690.5,-579.5 3690.5,-543.5 3508.5,-543.5\"/>\n<text text-anchor=\"middle\" x=\"3518.5\" y=\"-557.8\" font-family=\"Times,serif\" font-size=\"14.00\"> </text>\n<polyline fill=\"none\" stroke=\"black\" points=\"3528.5,-543.5 3528.5,-579.5 \"/>\n<text text-anchor=\"middle\" x=\"3568.5\" y=\"-557.8\" font-family=\"Times,serif\" font-size=\"14.00\">data 0.8972</text>\n<polyline fill=\"none\" stroke=\"black\" points=\"3608.5,-543.5 3608.5,-579.5 \"/>\n<text text-anchor=\"middle\" x=\"3649.5\" y=\"-557.8\" font-family=\"Times,serif\" font-size=\"14.00\">grad 0.0000</text>\n</g>\n<!-- 140232165267968* -->\n<g id=\"node174\" class=\"node\">\n<title>140232165267968*</title>\n<ellipse fill=\"none\" stroke=\"black\" cx=\"3756\" cy=\"-589.5\" rx=\"27\" ry=\"18\"/>\n<text text-anchor=\"middle\" x=\"3756\" y=\"-585.8\" font-family=\"Times,serif\" font-size=\"14.00\">*</text>\n</g>\n<!-- 140232165772928&#45;&gt;140232165267968* -->\n<g id=\"edge141\" class=\"edge\">\n<title>140232165772928&#45;&gt;140232165267968*</title>\n<path fill=\"none\" stroke=\"black\" d=\"M3690.82,-577.87C3701.07,-579.73 3711.01,-581.53 3719.88,-583.13\"/>\n<polygon fill=\"black\" stroke=\"black\" points=\"3719.29,-586.58 3729.75,-584.92 3720.54,-579.7 3719.29,-586.58\"/>\n</g>\n<!-- 140232165772928tanh&#45;&gt;140232165772928 -->\n<g id=\"edge36\" class=\"edge\">\n<title>140232165772928tanh&#45;&gt;140232165772928</title>\n<path fill=\"none\" stroke=\"black\" d=\"M3470.21,-561.5C3478.34,-561.5 3487.85,-561.5 3497.94,-561.5\"/>\n<polygon fill=\"black\" stroke=\"black\" points=\"3498.19,-565 3508.19,-561.5 3498.19,-558 3498.19,-565\"/>\n</g>\n<!-- 140232165609184 -->\n<g id=\"node105\" class=\"node\">\n<title>140232165609184</title>\n<polygon fill=\"none\" stroke=\"black\" points=\"1628,-55.5 1628,-91.5 1815,-91.5 1815,-55.5 1628,-55.5\"/>\n<text text-anchor=\"middle\" x=\"1638\" y=\"-69.8\" font-family=\"Times,serif\" font-size=\"14.00\"> </text>\n<polyline fill=\"none\" stroke=\"black\" points=\"1648,-55.5 1648,-91.5 \"/>\n<text text-anchor=\"middle\" x=\"1690.5\" y=\"-69.8\" font-family=\"Times,serif\" font-size=\"14.00\">data &#45;0.5980</text>\n<polyline fill=\"none\" stroke=\"black\" points=\"1733,-55.5 1733,-91.5 \"/>\n<text text-anchor=\"middle\" x=\"1774\" y=\"-69.8\" font-family=\"Times,serif\" font-size=\"14.00\">grad 0.0000</text>\n</g>\n<!-- 140232165609184&#45;&gt;140232165769472* -->\n<g id=\"edge145\" class=\"edge\">\n<title>140232165609184&#45;&gt;140232165769472*</title>\n<path fill=\"none\" stroke=\"black\" d=\"M1815.05,-73.5C1824.06,-73.5 1832.79,-73.5 1840.7,-73.5\"/>\n<polygon fill=\"black\" stroke=\"black\" points=\"1840.95,-77 1850.95,-73.5 1840.95,-70 1840.95,-77\"/>\n</g>\n<!-- 140232165756640 -->\n<g id=\"node106\" class=\"node\">\n<title>140232165756640</title>\n<polygon fill=\"none\" stroke=\"black\" points=\"3508.5,-378.5 3508.5,-414.5 3690.5,-414.5 3690.5,-378.5 3508.5,-378.5\"/>\n<text text-anchor=\"middle\" x=\"3518.5\" y=\"-392.8\" font-family=\"Times,serif\" font-size=\"14.00\"> </text>\n<polyline fill=\"none\" stroke=\"black\" points=\"3528.5,-378.5 3528.5,-414.5 \"/>\n<text text-anchor=\"middle\" x=\"3568.5\" y=\"-392.8\" font-family=\"Times,serif\" font-size=\"14.00\">data 0.9650</text>\n<polyline fill=\"none\" stroke=\"black\" points=\"3608.5,-378.5 3608.5,-414.5 \"/>\n<text text-anchor=\"middle\" x=\"3649.5\" y=\"-392.8\" font-family=\"Times,serif\" font-size=\"14.00\">grad 0.0000</text>\n</g>\n<!-- 140232165267296* -->\n<g id=\"node161\" class=\"node\">\n<title>140232165267296*</title>\n<ellipse fill=\"none\" stroke=\"black\" cx=\"3756\" cy=\"-396.5\" rx=\"27\" ry=\"18\"/>\n<text text-anchor=\"middle\" x=\"3756\" y=\"-392.8\" font-family=\"Times,serif\" font-size=\"14.00\">*</text>\n</g>\n<!-- 140232165756640&#45;&gt;140232165267296* -->\n<g id=\"edge110\" class=\"edge\">\n<title>140232165756640&#45;&gt;140232165267296*</title>\n<path fill=\"none\" stroke=\"black\" d=\"M3690.82,-396.5C3700.57,-396.5 3710.04,-396.5 3718.57,-396.5\"/>\n<polygon fill=\"black\" stroke=\"black\" points=\"3718.83,-400 3728.83,-396.5 3718.83,-393 3718.83,-400\"/>\n</g>\n<!-- 140232165756640tanh&#45;&gt;140232165756640 -->\n<g id=\"edge37\" class=\"edge\">\n<title>140232165756640tanh&#45;&gt;140232165756640</title>\n<path fill=\"none\" stroke=\"black\" d=\"M3470.21,-396.5C3478.34,-396.5 3487.85,-396.5 3497.94,-396.5\"/>\n<polygon fill=\"black\" stroke=\"black\" points=\"3498.19,-400 3508.19,-396.5 3498.19,-393 3498.19,-400\"/>\n</g>\n<!-- 140232165609232 -->\n<g id=\"node108\" class=\"node\">\n<title>140232165609232</title>\n<polygon fill=\"none\" stroke=\"black\" points=\"2256.5,-660.5 2256.5,-696.5 2438.5,-696.5 2438.5,-660.5 2256.5,-660.5\"/>\n<text text-anchor=\"middle\" x=\"2266.5\" y=\"-674.8\" font-family=\"Times,serif\" font-size=\"14.00\"> </text>\n<polyline fill=\"none\" stroke=\"black\" points=\"2276.5,-660.5 2276.5,-696.5 \"/>\n<text text-anchor=\"middle\" x=\"2316.5\" y=\"-674.8\" font-family=\"Times,serif\" font-size=\"14.00\">data 0.0509</text>\n<polyline fill=\"none\" stroke=\"black\" points=\"2356.5,-660.5 2356.5,-696.5 \"/>\n<text text-anchor=\"middle\" x=\"2397.5\" y=\"-674.8\" font-family=\"Times,serif\" font-size=\"14.00\">grad 0.0000</text>\n</g>\n<!-- 140232165609232&#45;&gt;140232165770336* -->\n<g id=\"edge102\" class=\"edge\">\n<title>140232165609232&#45;&gt;140232165770336*</title>\n<path fill=\"none\" stroke=\"black\" d=\"M2438.82,-678.5C2448.57,-678.5 2458.04,-678.5 2466.57,-678.5\"/>\n<polygon fill=\"black\" stroke=\"black\" points=\"2466.83,-682 2476.83,-678.5 2466.83,-675 2466.83,-682\"/>\n</g>\n<!-- 140232165609280 -->\n<g id=\"node109\" class=\"node\">\n<title>140232165609280</title>\n<polygon fill=\"none\" stroke=\"black\" points=\"1941,-220.5 1941,-256.5 2128,-256.5 2128,-220.5 1941,-220.5\"/>\n<text text-anchor=\"middle\" x=\"1951\" y=\"-234.8\" font-family=\"Times,serif\" font-size=\"14.00\"> </text>\n<polyline fill=\"none\" stroke=\"black\" points=\"1961,-220.5 1961,-256.5 \"/>\n<text text-anchor=\"middle\" x=\"2003.5\" y=\"-234.8\" font-family=\"Times,serif\" font-size=\"14.00\">data &#45;0.8654</text>\n<polyline fill=\"none\" stroke=\"black\" points=\"2046,-220.5 2046,-256.5 \"/>\n<text text-anchor=\"middle\" x=\"2087\" y=\"-234.8\" font-family=\"Times,serif\" font-size=\"14.00\">grad 0.0000</text>\n</g>\n<!-- 140232165609280&#45;&gt;140232165769904* -->\n<g id=\"edge118\" class=\"edge\">\n<title>140232165609280&#45;&gt;140232165769904*</title>\n<path fill=\"none\" stroke=\"black\" d=\"M2099.02,-256.65C2108.79,-259.76 2118.71,-263.08 2128,-266.5 2138.25,-270.27 2149.23,-274.86 2159.07,-279.18\"/>\n<polygon fill=\"black\" stroke=\"black\" points=\"2157.89,-282.49 2168.45,-283.37 2160.74,-276.1 2157.89,-282.49\"/>\n</g>\n<!-- 140232165773168 -->\n<g id=\"node110\" class=\"node\">\n<title>140232165773168</title>\n<polygon fill=\"none\" stroke=\"black\" points=\"1943.5,-660.5 1943.5,-696.5 2125.5,-696.5 2125.5,-660.5 1943.5,-660.5\"/>\n<text text-anchor=\"middle\" x=\"1953.5\" y=\"-674.8\" font-family=\"Times,serif\" font-size=\"14.00\"> </text>\n<polyline fill=\"none\" stroke=\"black\" points=\"1963.5,-660.5 1963.5,-696.5 \"/>\n<text text-anchor=\"middle\" x=\"2003.5\" y=\"-674.8\" font-family=\"Times,serif\" font-size=\"14.00\">data 0.3511</text>\n<polyline fill=\"none\" stroke=\"black\" points=\"2043.5,-660.5 2043.5,-696.5 \"/>\n<text text-anchor=\"middle\" x=\"2084.5\" y=\"-674.8\" font-family=\"Times,serif\" font-size=\"14.00\">grad 0.0000</text>\n</g>\n<!-- 140232165265760+ -->\n<g id=\"node125\" class=\"node\">\n<title>140232165265760+</title>\n<ellipse fill=\"none\" stroke=\"black\" cx=\"2191\" cy=\"-568.5\" rx=\"27\" ry=\"18\"/>\n<text text-anchor=\"middle\" x=\"2191\" y=\"-564.8\" font-family=\"Times,serif\" font-size=\"14.00\">+</text>\n</g>\n<!-- 140232165773168&#45;&gt;140232165265760+ -->\n<g id=\"edge91\" class=\"edge\">\n<title>140232165773168&#45;&gt;140232165265760+</title>\n<path fill=\"none\" stroke=\"black\" d=\"M2112.53,-660.34C2117.97,-657.77 2123.19,-654.84 2128,-651.5 2149.11,-636.85 2165.97,-612.7 2176.74,-594.22\"/>\n<polygon fill=\"black\" stroke=\"black\" points=\"2179.85,-595.85 2181.68,-585.41 2173.74,-592.43 2179.85,-595.85\"/>\n</g>\n<!-- 140232165773168* -->\n<g id=\"node111\" class=\"node\">\n<title>140232165773168*</title>\n<ellipse fill=\"none\" stroke=\"black\" cx=\"1878\" cy=\"-678.5\" rx=\"27\" ry=\"18\"/>\n<text text-anchor=\"middle\" x=\"1878\" y=\"-674.8\" font-family=\"Times,serif\" font-size=\"14.00\">*</text>\n</g>\n<!-- 140232165773168*&#45;&gt;140232165773168 -->\n<g id=\"edge38\" class=\"edge\">\n<title>140232165773168*&#45;&gt;140232165773168</title>\n<path fill=\"none\" stroke=\"black\" d=\"M1905.21,-678.5C1913.34,-678.5 1922.85,-678.5 1932.94,-678.5\"/>\n<polygon fill=\"black\" stroke=\"black\" points=\"1933.19,-682 1943.19,-678.5 1933.19,-675 1933.19,-682\"/>\n</g>\n<!-- 140232165609328 -->\n<g id=\"node112\" class=\"node\">\n<title>140232165609328</title>\n<polygon fill=\"none\" stroke=\"black\" points=\"2882.5,-488.5 2882.5,-524.5 3064.5,-524.5 3064.5,-488.5 2882.5,-488.5\"/>\n<text text-anchor=\"middle\" x=\"2892.5\" y=\"-502.8\" font-family=\"Times,serif\" font-size=\"14.00\"> </text>\n<polyline fill=\"none\" stroke=\"black\" points=\"2902.5,-488.5 2902.5,-524.5 \"/>\n<text text-anchor=\"middle\" x=\"2942.5\" y=\"-502.8\" font-family=\"Times,serif\" font-size=\"14.00\">data 0.2373</text>\n<polyline fill=\"none\" stroke=\"black\" points=\"2982.5,-488.5 2982.5,-524.5 \"/>\n<text text-anchor=\"middle\" x=\"3023.5\" y=\"-502.8\" font-family=\"Times,serif\" font-size=\"14.00\">grad 0.0000</text>\n</g>\n<!-- 140232165609328&#45;&gt;140232165770720+ -->\n<g id=\"edge197\" class=\"edge\">\n<title>140232165609328&#45;&gt;140232165770720+</title>\n<path fill=\"none\" stroke=\"black\" d=\"M3040.56,-488.45C3049.51,-485.64 3058.53,-482.63 3067,-479.5 3077.49,-475.62 3088.71,-470.78 3098.68,-466.22\"/>\n<polygon fill=\"black\" stroke=\"black\" points=\"3100.2,-469.37 3107.79,-461.97 3097.25,-463.02 3100.2,-469.37\"/>\n</g>\n<!-- 140232165756880 -->\n<g id=\"node113\" class=\"node\">\n<title>140232165756880</title>\n<polygon fill=\"none\" stroke=\"black\" points=\"1941,-385.5 1941,-421.5 2128,-421.5 2128,-385.5 1941,-385.5\"/>\n<text text-anchor=\"middle\" x=\"1951\" y=\"-399.8\" font-family=\"Times,serif\" font-size=\"14.00\"> </text>\n<polyline fill=\"none\" stroke=\"black\" points=\"1961,-385.5 1961,-421.5 \"/>\n<text text-anchor=\"middle\" x=\"2003.5\" y=\"-399.8\" font-family=\"Times,serif\" font-size=\"14.00\">data &#45;0.4702</text>\n<polyline fill=\"none\" stroke=\"black\" points=\"2046,-385.5 2046,-421.5 \"/>\n<text text-anchor=\"middle\" x=\"2087\" y=\"-399.8\" font-family=\"Times,serif\" font-size=\"14.00\">grad 0.0000</text>\n</g>\n<!-- 140232165756880&#45;&gt;140232165769664+ -->\n<g id=\"edge177\" class=\"edge\">\n<title>140232165756880&#45;&gt;140232165769664+</title>\n<path fill=\"none\" stroke=\"black\" d=\"M2101.56,-385.45C2110.51,-382.64 2119.53,-379.63 2128,-376.5 2138.49,-372.62 2149.71,-367.78 2159.68,-363.22\"/>\n<polygon fill=\"black\" stroke=\"black\" points=\"2161.2,-366.37 2168.79,-358.97 2158.25,-360.02 2161.2,-366.37\"/>\n</g>\n<!-- 140232165756880*&#45;&gt;140232165756880 -->\n<g id=\"edge39\" class=\"edge\">\n<title>140232165756880*&#45;&gt;140232165756880</title>\n<path fill=\"none\" stroke=\"black\" d=\"M1904.17,-426.94C1911.99,-425.52 1921.15,-423.86 1930.91,-422.09\"/>\n<polygon fill=\"black\" stroke=\"black\" points=\"1931.64,-425.52 1940.86,-420.29 1930.39,-418.63 1931.64,-425.52\"/>\n</g>\n<!-- 140232165552192 -->\n<g id=\"node115\" class=\"node\">\n<title>140232165552192</title>\n<polygon fill=\"none\" stroke=\"black\" points=\"2880,-708.5 2880,-744.5 3067,-744.5 3067,-708.5 2880,-708.5\"/>\n<text text-anchor=\"middle\" x=\"2890\" y=\"-722.8\" font-family=\"Times,serif\" font-size=\"14.00\"> </text>\n<polyline fill=\"none\" stroke=\"black\" points=\"2900,-708.5 2900,-744.5 \"/>\n<text text-anchor=\"middle\" x=\"2942.5\" y=\"-722.8\" font-family=\"Times,serif\" font-size=\"14.00\">data &#45;0.0953</text>\n<polyline fill=\"none\" stroke=\"black\" points=\"2985,-708.5 2985,-744.5 \"/>\n<text text-anchor=\"middle\" x=\"3026\" y=\"-722.8\" font-family=\"Times,serif\" font-size=\"14.00\">grad 0.0000</text>\n</g>\n<!-- 140232165266816+ -->\n<g id=\"node150\" class=\"node\">\n<title>140232165266816+</title>\n<ellipse fill=\"none\" stroke=\"black\" cx=\"3130\" cy=\"-671.5\" rx=\"27\" ry=\"18\"/>\n<text text-anchor=\"middle\" x=\"3130\" y=\"-667.8\" font-family=\"Times,serif\" font-size=\"14.00\">+</text>\n</g>\n<!-- 140232165552192&#45;&gt;140232165266816+ -->\n<g id=\"edge137\" class=\"edge\">\n<title>140232165552192&#45;&gt;140232165266816+</title>\n<path fill=\"none\" stroke=\"black\" d=\"M3040.56,-708.45C3049.51,-705.64 3058.53,-702.63 3067,-699.5 3077.49,-695.62 3088.71,-690.78 3098.68,-686.22\"/>\n<polygon fill=\"black\" stroke=\"black\" points=\"3100.2,-689.37 3107.79,-681.97 3097.25,-683.02 3100.2,-689.37\"/>\n</g>\n<!-- 140232165552240 -->\n<g id=\"node116\" class=\"node\">\n<title>140232165552240</title>\n<polygon fill=\"none\" stroke=\"black\" points=\"2254,-825.5 2254,-861.5 2441,-861.5 2441,-825.5 2254,-825.5\"/>\n<text text-anchor=\"middle\" x=\"2264\" y=\"-839.8\" font-family=\"Times,serif\" font-size=\"14.00\"> </text>\n<polyline fill=\"none\" stroke=\"black\" points=\"2274,-825.5 2274,-861.5 \"/>\n<text text-anchor=\"middle\" x=\"2316.5\" y=\"-839.8\" font-family=\"Times,serif\" font-size=\"14.00\">data &#45;0.4301</text>\n<polyline fill=\"none\" stroke=\"black\" points=\"2359,-825.5 2359,-861.5 \"/>\n<text text-anchor=\"middle\" x=\"2400\" y=\"-839.8\" font-family=\"Times,serif\" font-size=\"14.00\">grad 0.0000</text>\n</g>\n<!-- 140232165552240&#45;&gt;140232165266432* -->\n<g id=\"edge83\" class=\"edge\">\n<title>140232165552240&#45;&gt;140232165266432*</title>\n<path fill=\"none\" stroke=\"black\" d=\"M2414.56,-825.45C2423.51,-822.64 2432.53,-819.63 2441,-816.5 2451.49,-812.62 2462.71,-807.78 2472.68,-803.22\"/>\n<polygon fill=\"black\" stroke=\"black\" points=\"2474.2,-806.37 2481.79,-798.97 2471.25,-800.02 2474.2,-806.37\"/>\n</g>\n<!-- 140232165265568 -->\n<g id=\"node117\" class=\"node\">\n<title>140232165265568</title>\n<polygon fill=\"none\" stroke=\"black\" points=\"1941,-550.5 1941,-586.5 2128,-586.5 2128,-550.5 1941,-550.5\"/>\n<text text-anchor=\"middle\" x=\"1951\" y=\"-564.8\" font-family=\"Times,serif\" font-size=\"14.00\"> </text>\n<polyline fill=\"none\" stroke=\"black\" points=\"1961,-550.5 1961,-586.5 \"/>\n<text text-anchor=\"middle\" x=\"2003.5\" y=\"-564.8\" font-family=\"Times,serif\" font-size=\"14.00\">data &#45;0.2697</text>\n<polyline fill=\"none\" stroke=\"black\" points=\"2046,-550.5 2046,-586.5 \"/>\n<text text-anchor=\"middle\" x=\"2087\" y=\"-564.8\" font-family=\"Times,serif\" font-size=\"14.00\">grad 0.0000</text>\n</g>\n<!-- 140232165265568&#45;&gt;140232165265760+ -->\n<g id=\"edge95\" class=\"edge\">\n<title>140232165265568&#45;&gt;140232165265760+</title>\n<path fill=\"none\" stroke=\"black\" d=\"M2128.05,-568.5C2137.06,-568.5 2145.79,-568.5 2153.7,-568.5\"/>\n<polygon fill=\"black\" stroke=\"black\" points=\"2153.95,-572 2163.95,-568.5 2153.95,-565 2153.95,-572\"/>\n</g>\n<!-- 140232165265568* -->\n<g id=\"node118\" class=\"node\">\n<title>140232165265568*</title>\n<ellipse fill=\"none\" stroke=\"black\" cx=\"1878\" cy=\"-568.5\" rx=\"27\" ry=\"18\"/>\n<text text-anchor=\"middle\" x=\"1878\" y=\"-564.8\" font-family=\"Times,serif\" font-size=\"14.00\">*</text>\n</g>\n<!-- 140232165265568*&#45;&gt;140232165265568 -->\n<g id=\"edge40\" class=\"edge\">\n<title>140232165265568*&#45;&gt;140232165265568</title>\n<path fill=\"none\" stroke=\"black\" d=\"M1905.21,-568.5C1912.73,-568.5 1921.43,-568.5 1930.67,-568.5\"/>\n<polygon fill=\"black\" stroke=\"black\" points=\"1930.89,-572 1940.89,-568.5 1930.89,-565 1930.89,-572\"/>\n</g>\n<!-- 140232165740704 -->\n<g id=\"node119\" class=\"node\">\n<title>140232165740704</title>\n<polygon fill=\"none\" stroke=\"black\" points=\"322,-440.5 322,-476.5 527,-476.5 527,-440.5 322,-440.5\"/>\n<text text-anchor=\"middle\" x=\"341\" y=\"-454.8\" font-family=\"Times,serif\" font-size=\"14.00\">&#45;1.0</text>\n<polyline fill=\"none\" stroke=\"black\" points=\"360,-440.5 360,-476.5 \"/>\n<text text-anchor=\"middle\" x=\"402.5\" y=\"-454.8\" font-family=\"Times,serif\" font-size=\"14.00\">data &#45;1.0000</text>\n<polyline fill=\"none\" stroke=\"black\" points=\"445,-440.5 445,-476.5 \"/>\n<text text-anchor=\"middle\" x=\"486\" y=\"-454.8\" font-family=\"Times,serif\" font-size=\"14.00\">grad 0.0000</text>\n</g>\n<!-- 140232165740704&#45;&gt;140232165740752* -->\n<g id=\"edge201\" class=\"edge\">\n<title>140232165740704&#45;&gt;140232165740752*</title>\n<path fill=\"none\" stroke=\"black\" d=\"M496.07,-476.58C506.51,-479.65 517.09,-483 527,-486.5 537.29,-490.14 548.29,-494.7 558.12,-499.03\"/>\n<polygon fill=\"black\" stroke=\"black\" points=\"556.94,-502.33 567.49,-503.24 559.81,-495.95 556.94,-502.33\"/>\n</g>\n<!-- 140232165740752 -->\n<g id=\"node120\" class=\"node\">\n<title>140232165740752</title>\n<polygon fill=\"none\" stroke=\"black\" points=\"664.5,-495.5 664.5,-531.5 846.5,-531.5 846.5,-495.5 664.5,-495.5\"/>\n<text text-anchor=\"middle\" x=\"674.5\" y=\"-509.8\" font-family=\"Times,serif\" font-size=\"14.00\"> </text>\n<polyline fill=\"none\" stroke=\"black\" points=\"684.5,-495.5 684.5,-531.5 \"/>\n<text text-anchor=\"middle\" x=\"724.5\" y=\"-509.8\" font-family=\"Times,serif\" font-size=\"14.00\">data 0.7814</text>\n<polyline fill=\"none\" stroke=\"black\" points=\"764.5,-495.5 764.5,-531.5 \"/>\n<text text-anchor=\"middle\" x=\"805.5\" y=\"-509.8\" font-family=\"Times,serif\" font-size=\"14.00\">grad 0.0000</text>\n</g>\n<!-- 140232165740752&#45;&gt;140232165740944+ -->\n<g id=\"edge154\" class=\"edge\">\n<title>140232165740752&#45;&gt;140232165740944+</title>\n<path fill=\"none\" stroke=\"black\" d=\"M846.86,-513.5C859.84,-513.5 872.53,-513.5 883.6,-513.5\"/>\n<polygon fill=\"black\" stroke=\"black\" points=\"883.67,-517 893.67,-513.5 883.67,-510 883.67,-517\"/>\n</g>\n<!-- 140232165740752*&#45;&gt;140232165740752 -->\n<g id=\"edge41\" class=\"edge\">\n<title>140232165740752*&#45;&gt;140232165740752</title>\n<path fill=\"none\" stroke=\"black\" d=\"M617.27,-513.5C627.7,-513.5 640.41,-513.5 653.84,-513.5\"/>\n<polygon fill=\"black\" stroke=\"black\" points=\"654.23,-517 664.23,-513.5 654.23,-510 654.23,-517\"/>\n</g>\n<!-- 140232165552384 -->\n<g id=\"node122\" class=\"node\">\n<title>140232165552384</title>\n<polygon fill=\"none\" stroke=\"black\" points=\"3506,-598.5 3506,-634.5 3693,-634.5 3693,-598.5 3506,-598.5\"/>\n<text text-anchor=\"middle\" x=\"3516\" y=\"-612.8\" font-family=\"Times,serif\" font-size=\"14.00\"> </text>\n<polyline fill=\"none\" stroke=\"black\" points=\"3526,-598.5 3526,-634.5 \"/>\n<text text-anchor=\"middle\" x=\"3568.5\" y=\"-612.8\" font-family=\"Times,serif\" font-size=\"14.00\">data &#45;0.3714</text>\n<polyline fill=\"none\" stroke=\"black\" points=\"3611,-598.5 3611,-634.5 \"/>\n<text text-anchor=\"middle\" x=\"3652\" y=\"-612.8\" font-family=\"Times,serif\" font-size=\"14.00\">grad 0.0000</text>\n</g>\n<!-- 140232165552384&#45;&gt;140232165267968* -->\n<g id=\"edge140\" class=\"edge\">\n<title>140232165552384&#45;&gt;140232165267968*</title>\n<path fill=\"none\" stroke=\"black\" d=\"M3693.05,-600.33C3702.34,-598.7 3711.33,-597.13 3719.44,-595.71\"/>\n<polygon fill=\"black\" stroke=\"black\" points=\"3720.3,-599.12 3729.55,-593.95 3719.1,-592.22 3720.3,-599.12\"/>\n</g>\n<!-- 140232165552432 -->\n<g id=\"node123\" class=\"node\">\n<title>140232165552432</title>\n<polygon fill=\"none\" stroke=\"black\" points=\"1941,-495.5 1941,-531.5 2128,-531.5 2128,-495.5 1941,-495.5\"/>\n<text text-anchor=\"middle\" x=\"1951\" y=\"-509.8\" font-family=\"Times,serif\" font-size=\"14.00\"> </text>\n<polyline fill=\"none\" stroke=\"black\" points=\"1961,-495.5 1961,-531.5 \"/>\n<text text-anchor=\"middle\" x=\"2003.5\" y=\"-509.8\" font-family=\"Times,serif\" font-size=\"14.00\">data &#45;0.6060</text>\n<polyline fill=\"none\" stroke=\"black\" points=\"2046,-495.5 2046,-531.5 \"/>\n<text text-anchor=\"middle\" x=\"2087\" y=\"-509.8\" font-family=\"Times,serif\" font-size=\"14.00\">grad 0.0000</text>\n</g>\n<!-- 140232165552432&#45;&gt;140232165266000* -->\n<g id=\"edge131\" class=\"edge\">\n<title>140232165552432&#45;&gt;140232165266000*</title>\n<path fill=\"none\" stroke=\"black\" d=\"M2101.56,-495.45C2110.51,-492.64 2119.53,-489.63 2128,-486.5 2138.49,-482.62 2149.71,-477.78 2159.68,-473.22\"/>\n<polygon fill=\"black\" stroke=\"black\" points=\"2161.2,-476.37 2168.79,-468.97 2158.25,-470.02 2161.2,-476.37\"/>\n</g>\n<!-- 140232165265760 -->\n<g id=\"node124\" class=\"node\">\n<title>140232165265760</title>\n<polygon fill=\"none\" stroke=\"black\" points=\"2256.5,-550.5 2256.5,-586.5 2438.5,-586.5 2438.5,-550.5 2256.5,-550.5\"/>\n<text text-anchor=\"middle\" x=\"2266.5\" y=\"-564.8\" font-family=\"Times,serif\" font-size=\"14.00\"> </text>\n<polyline fill=\"none\" stroke=\"black\" points=\"2276.5,-550.5 2276.5,-586.5 \"/>\n<text text-anchor=\"middle\" x=\"2316.5\" y=\"-564.8\" font-family=\"Times,serif\" font-size=\"14.00\">data 0.0814</text>\n<polyline fill=\"none\" stroke=\"black\" points=\"2356.5,-550.5 2356.5,-586.5 \"/>\n<text text-anchor=\"middle\" x=\"2397.5\" y=\"-564.8\" font-family=\"Times,serif\" font-size=\"14.00\">grad 0.0000</text>\n</g>\n<!-- 140232165266192+ -->\n<g id=\"node136\" class=\"node\">\n<title>140232165266192+</title>\n<ellipse fill=\"none\" stroke=\"black\" cx=\"2504\" cy=\"-568.5\" rx=\"27\" ry=\"18\"/>\n<text text-anchor=\"middle\" x=\"2504\" y=\"-564.8\" font-family=\"Times,serif\" font-size=\"14.00\">+</text>\n</g>\n<!-- 140232165265760&#45;&gt;140232165266192+ -->\n<g id=\"edge123\" class=\"edge\">\n<title>140232165265760&#45;&gt;140232165266192+</title>\n<path fill=\"none\" stroke=\"black\" d=\"M2438.82,-568.5C2448.57,-568.5 2458.04,-568.5 2466.57,-568.5\"/>\n<polygon fill=\"black\" stroke=\"black\" points=\"2466.83,-572 2476.83,-568.5 2466.83,-565 2466.83,-572\"/>\n</g>\n<!-- 140232165265760+&#45;&gt;140232165265760 -->\n<g id=\"edge42\" class=\"edge\">\n<title>140232165265760+&#45;&gt;140232165265760</title>\n<path fill=\"none\" stroke=\"black\" d=\"M2218.21,-568.5C2226.34,-568.5 2235.85,-568.5 2245.94,-568.5\"/>\n<polygon fill=\"black\" stroke=\"black\" points=\"2246.19,-572 2256.19,-568.5 2246.19,-565 2246.19,-572\"/>\n</g>\n<!-- 140232165740944 -->\n<g id=\"node126\" class=\"node\">\n<title>140232165740944</title>\n<polygon fill=\"none\" stroke=\"black\" points=\"995.5,-495.5 995.5,-531.5 1177.5,-531.5 1177.5,-495.5 995.5,-495.5\"/>\n<text text-anchor=\"middle\" x=\"1005.5\" y=\"-509.8\" font-family=\"Times,serif\" font-size=\"14.00\"> </text>\n<polyline fill=\"none\" stroke=\"black\" points=\"1015.5,-495.5 1015.5,-531.5 \"/>\n<text text-anchor=\"middle\" x=\"1055.5\" y=\"-509.8\" font-family=\"Times,serif\" font-size=\"14.00\">data 3.8804</text>\n<polyline fill=\"none\" stroke=\"black\" points=\"1095.5,-495.5 1095.5,-531.5 \"/>\n<text text-anchor=\"middle\" x=\"1136.5\" y=\"-509.8\" font-family=\"Times,serif\" font-size=\"14.00\">grad 0.0000</text>\n</g>\n<!-- 140232165740944&#45;&gt;140232165741136+ -->\n<g id=\"edge175\" class=\"edge\">\n<title>140232165740944&#45;&gt;140232165741136+</title>\n<path fill=\"none\" stroke=\"black\" d=\"M1177.86,-513.5C1190.84,-513.5 1203.53,-513.5 1214.6,-513.5\"/>\n<polygon fill=\"black\" stroke=\"black\" points=\"1214.67,-517 1224.67,-513.5 1214.67,-510 1214.67,-517\"/>\n</g>\n<!-- 140232165740944+&#45;&gt;140232165740944 -->\n<g id=\"edge43\" class=\"edge\">\n<title>140232165740944+&#45;&gt;140232165740944</title>\n<path fill=\"none\" stroke=\"black\" d=\"M948.27,-513.5C958.7,-513.5 971.41,-513.5 984.84,-513.5\"/>\n<polygon fill=\"black\" stroke=\"black\" points=\"985.23,-517 995.23,-513.5 985.23,-510 985.23,-517\"/>\n</g>\n<!-- 140232165552672 -->\n<g id=\"node128\" class=\"node\">\n<title>140232165552672</title>\n<polygon fill=\"none\" stroke=\"black\" points=\"1630.5,-550.5 1630.5,-586.5 1812.5,-586.5 1812.5,-550.5 1630.5,-550.5\"/>\n<text text-anchor=\"middle\" x=\"1640.5\" y=\"-564.8\" font-family=\"Times,serif\" font-size=\"14.00\"> </text>\n<polyline fill=\"none\" stroke=\"black\" points=\"1650.5,-550.5 1650.5,-586.5 \"/>\n<text text-anchor=\"middle\" x=\"1690.5\" y=\"-564.8\" font-family=\"Times,serif\" font-size=\"14.00\">data 0.2700</text>\n<polyline fill=\"none\" stroke=\"black\" points=\"1730.5,-550.5 1730.5,-586.5 \"/>\n<text text-anchor=\"middle\" x=\"1771.5\" y=\"-564.8\" font-family=\"Times,serif\" font-size=\"14.00\">grad 0.0000</text>\n</g>\n<!-- 140232165552672&#45;&gt;140232165265568* -->\n<g id=\"edge174\" class=\"edge\">\n<title>140232165552672&#45;&gt;140232165265568*</title>\n<path fill=\"none\" stroke=\"black\" d=\"M1812.82,-568.5C1822.57,-568.5 1832.04,-568.5 1840.57,-568.5\"/>\n<polygon fill=\"black\" stroke=\"black\" points=\"1840.83,-572 1850.83,-568.5 1840.83,-565 1840.83,-572\"/>\n</g>\n<!-- 140232165552720 -->\n<g id=\"node129\" class=\"node\">\n<title>140232165552720</title>\n<polygon fill=\"none\" stroke=\"black\" points=\"4888.5,-664.5 4888.5,-700.5 5070.5,-700.5 5070.5,-664.5 4888.5,-664.5\"/>\n<text text-anchor=\"middle\" x=\"4898.5\" y=\"-678.8\" font-family=\"Times,serif\" font-size=\"14.00\"> </text>\n<polyline fill=\"none\" stroke=\"black\" points=\"4908.5,-664.5 4908.5,-700.5 \"/>\n<text text-anchor=\"middle\" x=\"4948.5\" y=\"-678.8\" font-family=\"Times,serif\" font-size=\"14.00\">data 0.2216</text>\n<polyline fill=\"none\" stroke=\"black\" points=\"4988.5,-664.5 4988.5,-700.5 \"/>\n<text text-anchor=\"middle\" x=\"5029.5\" y=\"-678.8\" font-family=\"Times,serif\" font-size=\"14.00\">grad 0.0000</text>\n</g>\n<!-- 140232165268784+ -->\n<g id=\"node190\" class=\"node\">\n<title>140232165268784+</title>\n<ellipse fill=\"none\" stroke=\"black\" cx=\"5136\" cy=\"-654.5\" rx=\"27\" ry=\"18\"/>\n<text text-anchor=\"middle\" x=\"5136\" y=\"-650.8\" font-family=\"Times,serif\" font-size=\"14.00\">+</text>\n</g>\n<!-- 140232165552720&#45;&gt;140232165268784+ -->\n<g id=\"edge90\" class=\"edge\">\n<title>140232165552720&#45;&gt;140232165268784+</title>\n<path fill=\"none\" stroke=\"black\" d=\"M5070.82,-666.13C5081.07,-664.27 5091.01,-662.47 5099.88,-660.87\"/>\n<polygon fill=\"black\" stroke=\"black\" points=\"5100.54,-664.3 5109.75,-659.08 5099.29,-657.42 5100.54,-664.3\"/>\n</g>\n<!-- 140232165266000 -->\n<g id=\"node130\" class=\"node\">\n<title>140232165266000</title>\n<polygon fill=\"none\" stroke=\"black\" points=\"2254,-440.5 2254,-476.5 2441,-476.5 2441,-440.5 2254,-440.5\"/>\n<text text-anchor=\"middle\" x=\"2264\" y=\"-454.8\" font-family=\"Times,serif\" font-size=\"14.00\"> </text>\n<polyline fill=\"none\" stroke=\"black\" points=\"2274,-440.5 2274,-476.5 \"/>\n<text text-anchor=\"middle\" x=\"2316.5\" y=\"-454.8\" font-family=\"Times,serif\" font-size=\"14.00\">data &#45;0.4958</text>\n<polyline fill=\"none\" stroke=\"black\" points=\"2359,-440.5 2359,-476.5 \"/>\n<text text-anchor=\"middle\" x=\"2400\" y=\"-454.8\" font-family=\"Times,serif\" font-size=\"14.00\">grad 0.0000</text>\n</g>\n<!-- 140232165266000&#45;&gt;140232165266192+ -->\n<g id=\"edge96\" class=\"edge\">\n<title>140232165266000&#45;&gt;140232165266192+</title>\n<path fill=\"none\" stroke=\"black\" d=\"M2424.35,-476.57C2430.24,-479.41 2435.88,-482.7 2441,-486.5 2464.16,-503.69 2459.13,-517.86 2477,-540.5 2478.4,-542.28 2479.89,-544.08 2481.42,-545.86\"/>\n<polygon fill=\"black\" stroke=\"black\" points=\"2478.96,-548.36 2488.24,-553.49 2484.18,-543.7 2478.96,-548.36\"/>\n</g>\n<!-- 140232165266000*&#45;&gt;140232165266000 -->\n<g id=\"edge44\" class=\"edge\">\n<title>140232165266000*&#45;&gt;140232165266000</title>\n<path fill=\"none\" stroke=\"black\" d=\"M2218.21,-458.5C2225.73,-458.5 2234.43,-458.5 2243.67,-458.5\"/>\n<polygon fill=\"black\" stroke=\"black\" points=\"2243.89,-462 2253.89,-458.5 2243.89,-455 2243.89,-462\"/>\n</g>\n<!-- 140232165741136 -->\n<g id=\"node132\" class=\"node\">\n<title>140232165741136</title>\n<polygon fill=\"none\" stroke=\"black\" points=\"1317.5,-495.5 1317.5,-531.5 1499.5,-531.5 1499.5,-495.5 1317.5,-495.5\"/>\n<text text-anchor=\"middle\" x=\"1327.5\" y=\"-509.8\" font-family=\"Times,serif\" font-size=\"14.00\"> </text>\n<polyline fill=\"none\" stroke=\"black\" points=\"1337.5,-495.5 1337.5,-531.5 \"/>\n<text text-anchor=\"middle\" x=\"1377.5\" y=\"-509.8\" font-family=\"Times,serif\" font-size=\"14.00\">data 4.5212</text>\n<polyline fill=\"none\" stroke=\"black\" points=\"1417.5,-495.5 1417.5,-531.5 \"/>\n<text text-anchor=\"middle\" x=\"1458.5\" y=\"-509.8\" font-family=\"Times,serif\" font-size=\"14.00\">grad 0.0000</text>\n</g>\n<!-- 140232165741376tanh -->\n<g id=\"node138\" class=\"node\">\n<title>140232165741376tanh</title>\n<ellipse fill=\"none\" stroke=\"black\" cx=\"1565\" cy=\"-513.5\" rx=\"27\" ry=\"18\"/>\n<text text-anchor=\"middle\" x=\"1565\" y=\"-509.8\" font-family=\"Times,serif\" font-size=\"14.00\">tanh</text>\n</g>\n<!-- 140232165741136&#45;&gt;140232165741376tanh -->\n<g id=\"edge200\" class=\"edge\">\n<title>140232165741136&#45;&gt;140232165741376tanh</title>\n<path fill=\"none\" stroke=\"black\" d=\"M1499.82,-513.5C1509.57,-513.5 1519.04,-513.5 1527.57,-513.5\"/>\n<polygon fill=\"black\" stroke=\"black\" points=\"1527.83,-517 1537.83,-513.5 1527.83,-510 1527.83,-517\"/>\n</g>\n<!-- 140232165741136+&#45;&gt;140232165741136 -->\n<g id=\"edge45\" class=\"edge\">\n<title>140232165741136+&#45;&gt;140232165741136</title>\n<path fill=\"none\" stroke=\"black\" d=\"M1279.21,-513.5C1287.34,-513.5 1296.85,-513.5 1306.94,-513.5\"/>\n<polygon fill=\"black\" stroke=\"black\" points=\"1307.19,-517 1317.19,-513.5 1307.19,-510 1307.19,-517\"/>\n</g>\n<!-- 140232165552768 -->\n<g id=\"node134\" class=\"node\">\n<title>140232165552768</title>\n<polygon fill=\"none\" stroke=\"black\" points=\"1630.5,-660.5 1630.5,-696.5 1812.5,-696.5 1812.5,-660.5 1630.5,-660.5\"/>\n<text text-anchor=\"middle\" x=\"1640.5\" y=\"-674.8\" font-family=\"Times,serif\" font-size=\"14.00\"> </text>\n<polyline fill=\"none\" stroke=\"black\" points=\"1650.5,-660.5 1650.5,-696.5 \"/>\n<text text-anchor=\"middle\" x=\"1690.5\" y=\"-674.8\" font-family=\"Times,serif\" font-size=\"14.00\">data 0.3512</text>\n<polyline fill=\"none\" stroke=\"black\" points=\"1730.5,-660.5 1730.5,-696.5 \"/>\n<text text-anchor=\"middle\" x=\"1771.5\" y=\"-674.8\" font-family=\"Times,serif\" font-size=\"14.00\">grad 0.0000</text>\n</g>\n<!-- 140232165552768&#45;&gt;140232165773168* -->\n<g id=\"edge155\" class=\"edge\">\n<title>140232165552768&#45;&gt;140232165773168*</title>\n<path fill=\"none\" stroke=\"black\" d=\"M1812.82,-678.5C1822.57,-678.5 1832.04,-678.5 1840.57,-678.5\"/>\n<polygon fill=\"black\" stroke=\"black\" points=\"1840.83,-682 1850.83,-678.5 1840.83,-675 1840.83,-682\"/>\n</g>\n<!-- 140232165266192 -->\n<g id=\"node135\" class=\"node\">\n<title>140232165266192</title>\n<polygon fill=\"none\" stroke=\"black\" points=\"2567,-550.5 2567,-586.5 2754,-586.5 2754,-550.5 2567,-550.5\"/>\n<text text-anchor=\"middle\" x=\"2577\" y=\"-564.8\" font-family=\"Times,serif\" font-size=\"14.00\"> </text>\n<polyline fill=\"none\" stroke=\"black\" points=\"2587,-550.5 2587,-586.5 \"/>\n<text text-anchor=\"middle\" x=\"2629.5\" y=\"-564.8\" font-family=\"Times,serif\" font-size=\"14.00\">data &#45;0.4144</text>\n<polyline fill=\"none\" stroke=\"black\" points=\"2672,-550.5 2672,-586.5 \"/>\n<text text-anchor=\"middle\" x=\"2713\" y=\"-564.8\" font-family=\"Times,serif\" font-size=\"14.00\">grad 0.0000</text>\n</g>\n<!-- 140232165266624+ -->\n<g id=\"node147\" class=\"node\">\n<title>140232165266624+</title>\n<ellipse fill=\"none\" stroke=\"black\" cx=\"2817\" cy=\"-671.5\" rx=\"27\" ry=\"18\"/>\n<text text-anchor=\"middle\" x=\"2817\" y=\"-667.8\" font-family=\"Times,serif\" font-size=\"14.00\">+</text>\n</g>\n<!-- 140232165266192&#45;&gt;140232165266624+ -->\n<g id=\"edge84\" class=\"edge\">\n<title>140232165266192&#45;&gt;140232165266624+</title>\n<path fill=\"none\" stroke=\"black\" d=\"M2735.52,-586.51C2742.01,-589.38 2748.27,-592.69 2754,-596.5 2773.23,-609.29 2789.6,-629.8 2800.68,-646.15\"/>\n<polygon fill=\"black\" stroke=\"black\" points=\"2797.88,-648.26 2806.28,-654.72 2803.74,-644.43 2797.88,-648.26\"/>\n</g>\n<!-- 140232165266192+&#45;&gt;140232165266192 -->\n<g id=\"edge46\" class=\"edge\">\n<title>140232165266192+&#45;&gt;140232165266192</title>\n<path fill=\"none\" stroke=\"black\" d=\"M2531.21,-568.5C2538.73,-568.5 2547.43,-568.5 2556.67,-568.5\"/>\n<polygon fill=\"black\" stroke=\"black\" points=\"2556.89,-572 2566.89,-568.5 2556.89,-565 2556.89,-572\"/>\n</g>\n<!-- 140232165741376 -->\n<g id=\"node137\" class=\"node\">\n<title>140232165741376</title>\n<polygon fill=\"none\" stroke=\"black\" points=\"1630.5,-495.5 1630.5,-531.5 1812.5,-531.5 1812.5,-495.5 1630.5,-495.5\"/>\n<text text-anchor=\"middle\" x=\"1640.5\" y=\"-509.8\" font-family=\"Times,serif\" font-size=\"14.00\"> </text>\n<polyline fill=\"none\" stroke=\"black\" points=\"1650.5,-495.5 1650.5,-531.5 \"/>\n<text text-anchor=\"middle\" x=\"1690.5\" y=\"-509.8\" font-family=\"Times,serif\" font-size=\"14.00\">data 0.9998</text>\n<polyline fill=\"none\" stroke=\"black\" points=\"1730.5,-495.5 1730.5,-531.5 \"/>\n<text text-anchor=\"middle\" x=\"1771.5\" y=\"-509.8\" font-family=\"Times,serif\" font-size=\"14.00\">grad 0.0000</text>\n</g>\n<!-- 140232165741376&#45;&gt;140232165771200* -->\n<g id=\"edge97\" class=\"edge\">\n<title>140232165741376&#45;&gt;140232165771200*</title>\n<path fill=\"none\" stroke=\"black\" d=\"M1798.35,-531.57C1804.24,-534.41 1809.88,-537.7 1815,-541.5 1838.16,-558.69 1833.13,-572.86 1851,-595.5 1852.4,-597.28 1853.89,-599.08 1855.42,-600.86\"/>\n<polygon fill=\"black\" stroke=\"black\" points=\"1852.96,-603.36 1862.24,-608.49 1858.18,-598.7 1852.96,-603.36\"/>\n</g>\n<!-- 140232165741376&#45;&gt;140232165754912* -->\n<g id=\"edge160\" class=\"edge\">\n<title>140232165741376&#45;&gt;140232165754912*</title>\n<path fill=\"none\" stroke=\"black\" d=\"M1770.31,-495.47C1786.85,-486.96 1803.97,-475.16 1815,-459.5 1865.23,-388.15 1834.92,-352.26 1851,-266.5 1858.17,-228.25 1866.51,-184.06 1871.77,-156.19\"/>\n<polygon fill=\"black\" stroke=\"black\" points=\"1875.21,-156.84 1873.62,-146.36 1868.33,-155.54 1875.21,-156.84\"/>\n</g>\n<!-- 140232165741376&#45;&gt;140232165773168* -->\n<g id=\"edge120\" class=\"edge\">\n<title>140232165741376&#45;&gt;140232165773168*</title>\n<path fill=\"none\" stroke=\"black\" d=\"M1802.2,-531.69C1806.83,-534.5 1811.16,-537.75 1815,-541.5 1851.52,-577.12 1825.05,-606.58 1851,-650.5 1852.15,-652.45 1853.46,-654.38 1854.86,-656.25\"/>\n<polygon fill=\"black\" stroke=\"black\" points=\"1852.3,-658.64 1861.4,-664.06 1857.66,-654.15 1852.3,-658.64\"/>\n</g>\n<!-- 140232165741376&#45;&gt;140232165756880* -->\n<g id=\"edge186\" class=\"edge\">\n<title>140232165741376&#45;&gt;140232165756880*</title>\n<path fill=\"none\" stroke=\"black\" d=\"M1756.79,-495.3C1783.87,-480.93 1821.27,-461.08 1847.13,-447.35\"/>\n<polygon fill=\"black\" stroke=\"black\" points=\"1848.91,-450.37 1856.1,-442.59 1845.62,-444.19 1848.91,-450.37\"/>\n</g>\n<!-- 140232165741376tanh&#45;&gt;140232165741376 -->\n<g id=\"edge47\" class=\"edge\">\n<title>140232165741376tanh&#45;&gt;140232165741376</title>\n<path fill=\"none\" stroke=\"black\" d=\"M1592.21,-513.5C1600.34,-513.5 1609.85,-513.5 1619.94,-513.5\"/>\n<polygon fill=\"black\" stroke=\"black\" points=\"1620.19,-517 1630.19,-513.5 1620.19,-510 1620.19,-517\"/>\n</g>\n<!-- 140232165553056 -->\n<g id=\"node139\" class=\"node\">\n<title>140232165553056</title>\n<polygon fill=\"none\" stroke=\"black\" points=\"3508.5,-323.5 3508.5,-359.5 3690.5,-359.5 3690.5,-323.5 3508.5,-323.5\"/>\n<text text-anchor=\"middle\" x=\"3518.5\" y=\"-337.8\" font-family=\"Times,serif\" font-size=\"14.00\"> </text>\n<polyline fill=\"none\" stroke=\"black\" points=\"3528.5,-323.5 3528.5,-359.5 \"/>\n<text text-anchor=\"middle\" x=\"3568.5\" y=\"-337.8\" font-family=\"Times,serif\" font-size=\"14.00\">data 0.8331</text>\n<polyline fill=\"none\" stroke=\"black\" points=\"3608.5,-323.5 3608.5,-359.5 \"/>\n<text text-anchor=\"middle\" x=\"3649.5\" y=\"-337.8\" font-family=\"Times,serif\" font-size=\"14.00\">grad 0.0000</text>\n</g>\n<!-- 140232165553056&#45;&gt;140232165267296* -->\n<g id=\"edge162\" class=\"edge\">\n<title>140232165553056&#45;&gt;140232165267296*</title>\n<path fill=\"none\" stroke=\"black\" d=\"M3664.02,-359.65C3673.79,-362.76 3683.71,-366.08 3693,-369.5 3703.25,-373.27 3714.23,-377.86 3724.07,-382.18\"/>\n<polygon fill=\"black\" stroke=\"black\" points=\"3722.89,-385.49 3733.45,-386.37 3725.74,-379.1 3722.89,-385.49\"/>\n</g>\n<!-- 140232165553152 -->\n<g id=\"node140\" class=\"node\">\n<title>140232165553152</title>\n<polygon fill=\"none\" stroke=\"black\" points=\"3508.5,-708.5 3508.5,-744.5 3690.5,-744.5 3690.5,-708.5 3508.5,-708.5\"/>\n<text text-anchor=\"middle\" x=\"3518.5\" y=\"-722.8\" font-family=\"Times,serif\" font-size=\"14.00\"> </text>\n<polyline fill=\"none\" stroke=\"black\" points=\"3528.5,-708.5 3528.5,-744.5 \"/>\n<text text-anchor=\"middle\" x=\"3568.5\" y=\"-722.8\" font-family=\"Times,serif\" font-size=\"14.00\">data 0.5908</text>\n<polyline fill=\"none\" stroke=\"black\" points=\"3608.5,-708.5 3608.5,-744.5 \"/>\n<text text-anchor=\"middle\" x=\"3649.5\" y=\"-722.8\" font-family=\"Times,serif\" font-size=\"14.00\">grad 0.0000</text>\n</g>\n<!-- 140232165268400* -->\n<g id=\"node181\" class=\"node\">\n<title>140232165268400*</title>\n<ellipse fill=\"none\" stroke=\"black\" cx=\"3756\" cy=\"-671.5\" rx=\"27\" ry=\"18\"/>\n<text text-anchor=\"middle\" x=\"3756\" y=\"-667.8\" font-family=\"Times,serif\" font-size=\"14.00\">*</text>\n</g>\n<!-- 140232165553152&#45;&gt;140232165268400* -->\n<g id=\"edge75\" class=\"edge\">\n<title>140232165553152&#45;&gt;140232165268400*</title>\n<path fill=\"none\" stroke=\"black\" d=\"M3666.56,-708.45C3675.51,-705.64 3684.53,-702.63 3693,-699.5 3703.49,-695.62 3714.71,-690.78 3724.68,-686.22\"/>\n<polygon fill=\"black\" stroke=\"black\" points=\"3726.2,-689.37 3733.79,-681.97 3723.25,-683.02 3726.2,-689.37\"/>\n</g>\n<!-- 140232165266432 -->\n<g id=\"node141\" class=\"node\">\n<title>140232165266432</title>\n<polygon fill=\"none\" stroke=\"black\" points=\"2567,-770.5 2567,-806.5 2754,-806.5 2754,-770.5 2567,-770.5\"/>\n<text text-anchor=\"middle\" x=\"2577\" y=\"-784.8\" font-family=\"Times,serif\" font-size=\"14.00\"> </text>\n<polyline fill=\"none\" stroke=\"black\" points=\"2587,-770.5 2587,-806.5 \"/>\n<text text-anchor=\"middle\" x=\"2629.5\" y=\"-784.8\" font-family=\"Times,serif\" font-size=\"14.00\">data &#45;0.4275</text>\n<polyline fill=\"none\" stroke=\"black\" points=\"2672,-770.5 2672,-806.5 \"/>\n<text text-anchor=\"middle\" x=\"2713\" y=\"-784.8\" font-family=\"Times,serif\" font-size=\"14.00\">grad 0.0000</text>\n</g>\n<!-- 140232165266432&#45;&gt;140232165266624+ -->\n<g id=\"edge89\" class=\"edge\">\n<title>140232165266432&#45;&gt;140232165266624+</title>\n<path fill=\"none\" stroke=\"black\" d=\"M2739.14,-770.32C2744.37,-767.75 2749.39,-764.83 2754,-761.5 2776.57,-745.19 2793.64,-718 2804.09,-697.77\"/>\n<polygon fill=\"black\" stroke=\"black\" points=\"2807.26,-699.26 2808.56,-688.75 2800.99,-696.16 2807.26,-699.26\"/>\n</g>\n<!-- 140232165266432*&#45;&gt;140232165266432 -->\n<g id=\"edge48\" class=\"edge\">\n<title>140232165266432*&#45;&gt;140232165266432</title>\n<path fill=\"none\" stroke=\"black\" d=\"M2531.21,-788.5C2538.73,-788.5 2547.43,-788.5 2556.67,-788.5\"/>\n<polygon fill=\"black\" stroke=\"black\" points=\"2556.89,-792 2566.89,-788.5 2556.89,-785 2556.89,-792\"/>\n</g>\n<!-- 140232165741616 -->\n<g id=\"node143\" class=\"node\">\n<title>140232165741616</title>\n<polygon fill=\"none\" stroke=\"black\" points=\"0,-165.5 0,-201.5 196,-201.5 196,-165.5 0,-165.5\"/>\n<text text-anchor=\"middle\" x=\"17\" y=\"-179.8\" font-family=\"Times,serif\" font-size=\"14.00\">2.0</text>\n<polyline fill=\"none\" stroke=\"black\" points=\"34,-165.5 34,-201.5 \"/>\n<text text-anchor=\"middle\" x=\"74\" y=\"-179.8\" font-family=\"Times,serif\" font-size=\"14.00\">data 2.0000</text>\n<polyline fill=\"none\" stroke=\"black\" points=\"114,-165.5 114,-201.5 \"/>\n<text text-anchor=\"middle\" x=\"155\" y=\"-179.8\" font-family=\"Times,serif\" font-size=\"14.00\">grad 0.0000</text>\n</g>\n<!-- 140232165741616&#45;&gt;140232165741664* -->\n<g id=\"edge210\" class=\"edge\">\n<title>140232165741616&#45;&gt;140232165741664*</title>\n<path fill=\"none\" stroke=\"black\" d=\"M196.07,-183.5C205.05,-183.5 213.71,-183.5 221.57,-183.5\"/>\n<polygon fill=\"black\" stroke=\"black\" points=\"221.75,-187 231.75,-183.5 221.75,-180 221.75,-187\"/>\n</g>\n<!-- 140232165741664 -->\n<g id=\"node144\" class=\"node\">\n<title>140232165741664</title>\n<polygon fill=\"none\" stroke=\"black\" points=\"331,-165.5 331,-201.5 518,-201.5 518,-165.5 331,-165.5\"/>\n<text text-anchor=\"middle\" x=\"341\" y=\"-179.8\" font-family=\"Times,serif\" font-size=\"14.00\"> </text>\n<polyline fill=\"none\" stroke=\"black\" points=\"351,-165.5 351,-201.5 \"/>\n<text text-anchor=\"middle\" x=\"393.5\" y=\"-179.8\" font-family=\"Times,serif\" font-size=\"14.00\">data &#45;0.4050</text>\n<polyline fill=\"none\" stroke=\"black\" points=\"436,-165.5 436,-201.5 \"/>\n<text text-anchor=\"middle\" x=\"477\" y=\"-179.8\" font-family=\"Times,serif\" font-size=\"14.00\">grad 0.0000</text>\n</g>\n<!-- 140232165742144+ -->\n<g id=\"node154\" class=\"node\">\n<title>140232165742144+</title>\n<ellipse fill=\"none\" stroke=\"black\" cx=\"590\" cy=\"-128.5\" rx=\"27\" ry=\"18\"/>\n<text text-anchor=\"middle\" x=\"590\" y=\"-124.8\" font-family=\"Times,serif\" font-size=\"14.00\">+</text>\n</g>\n<!-- 140232165741664&#45;&gt;140232165742144+ -->\n<g id=\"edge135\" class=\"edge\">\n<title>140232165741664&#45;&gt;140232165742144+</title>\n<path fill=\"none\" stroke=\"black\" d=\"M496.07,-165.42C506.51,-162.35 517.09,-159 527,-155.5 537.29,-151.86 548.29,-147.3 558.12,-142.97\"/>\n<polygon fill=\"black\" stroke=\"black\" points=\"559.81,-146.05 567.49,-138.76 556.94,-139.67 559.81,-146.05\"/>\n</g>\n<!-- 140232165741664*&#45;&gt;140232165741664 -->\n<g id=\"edge49\" class=\"edge\">\n<title>140232165741664*&#45;&gt;140232165741664</title>\n<path fill=\"none\" stroke=\"black\" d=\"M286.27,-183.5C296.1,-183.5 307.95,-183.5 320.53,-183.5\"/>\n<polygon fill=\"black\" stroke=\"black\" points=\"320.74,-187 330.74,-183.5 320.74,-180 320.74,-187\"/>\n</g>\n<!-- 140232165266624 -->\n<g id=\"node146\" class=\"node\">\n<title>140232165266624</title>\n<polygon fill=\"none\" stroke=\"black\" points=\"2880,-653.5 2880,-689.5 3067,-689.5 3067,-653.5 2880,-653.5\"/>\n<text text-anchor=\"middle\" x=\"2890\" y=\"-667.8\" font-family=\"Times,serif\" font-size=\"14.00\"> </text>\n<polyline fill=\"none\" stroke=\"black\" points=\"2900,-653.5 2900,-689.5 \"/>\n<text text-anchor=\"middle\" x=\"2942.5\" y=\"-667.8\" font-family=\"Times,serif\" font-size=\"14.00\">data &#45;0.8419</text>\n<polyline fill=\"none\" stroke=\"black\" points=\"2985,-653.5 2985,-689.5 \"/>\n<text text-anchor=\"middle\" x=\"3026\" y=\"-667.8\" font-family=\"Times,serif\" font-size=\"14.00\">grad 0.0000</text>\n</g>\n<!-- 140232165266624&#45;&gt;140232165266816+ -->\n<g id=\"edge189\" class=\"edge\">\n<title>140232165266624&#45;&gt;140232165266816+</title>\n<path fill=\"none\" stroke=\"black\" d=\"M3067.05,-671.5C3076.06,-671.5 3084.79,-671.5 3092.7,-671.5\"/>\n<polygon fill=\"black\" stroke=\"black\" points=\"3092.95,-675 3102.95,-671.5 3092.95,-668 3092.95,-675\"/>\n</g>\n<!-- 140232165266624+&#45;&gt;140232165266624 -->\n<g id=\"edge50\" class=\"edge\">\n<title>140232165266624+&#45;&gt;140232165266624</title>\n<path fill=\"none\" stroke=\"black\" d=\"M2844.21,-671.5C2851.73,-671.5 2860.43,-671.5 2869.67,-671.5\"/>\n<polygon fill=\"black\" stroke=\"black\" points=\"2869.89,-675 2879.89,-671.5 2869.89,-668 2869.89,-675\"/>\n</g>\n<!-- 140232165741904 -->\n<g id=\"node148\" class=\"node\">\n<title>140232165741904</title>\n<polygon fill=\"none\" stroke=\"black\" points=\"0,-55.5 0,-91.5 196,-91.5 196,-55.5 0,-55.5\"/>\n<text text-anchor=\"middle\" x=\"17\" y=\"-69.8\" font-family=\"Times,serif\" font-size=\"14.00\">3.0</text>\n<polyline fill=\"none\" stroke=\"black\" points=\"34,-55.5 34,-91.5 \"/>\n<text text-anchor=\"middle\" x=\"74\" y=\"-69.8\" font-family=\"Times,serif\" font-size=\"14.00\">data 3.0000</text>\n<polyline fill=\"none\" stroke=\"black\" points=\"114,-55.5 114,-91.5 \"/>\n<text text-anchor=\"middle\" x=\"155\" y=\"-69.8\" font-family=\"Times,serif\" font-size=\"14.00\">grad 0.0000</text>\n</g>\n<!-- 140232165741904&#45;&gt;140232165741952* -->\n<g id=\"edge142\" class=\"edge\">\n<title>140232165741904&#45;&gt;140232165741952*</title>\n<path fill=\"none\" stroke=\"black\" d=\"M168.82,-91.55C178.03,-94.33 187.29,-97.34 196,-100.5 206.52,-104.31 217.74,-109.14 227.71,-113.7\"/>\n<polygon fill=\"black\" stroke=\"black\" points=\"226.27,-116.9 236.81,-117.96 229.24,-110.56 226.27,-116.9\"/>\n</g>\n<!-- 140232165266816 -->\n<g id=\"node149\" class=\"node\">\n<title>140232165266816</title>\n<polygon fill=\"none\" stroke=\"black\" points=\"3193,-653.5 3193,-689.5 3380,-689.5 3380,-653.5 3193,-653.5\"/>\n<text text-anchor=\"middle\" x=\"3203\" y=\"-667.8\" font-family=\"Times,serif\" font-size=\"14.00\"> </text>\n<polyline fill=\"none\" stroke=\"black\" points=\"3213,-653.5 3213,-689.5 \"/>\n<text text-anchor=\"middle\" x=\"3255.5\" y=\"-667.8\" font-family=\"Times,serif\" font-size=\"14.00\">data &#45;0.9372</text>\n<polyline fill=\"none\" stroke=\"black\" points=\"3298,-653.5 3298,-689.5 \"/>\n<text text-anchor=\"middle\" x=\"3339\" y=\"-667.8\" font-family=\"Times,serif\" font-size=\"14.00\">grad 0.0000</text>\n</g>\n<!-- 140232165267056tanh -->\n<g id=\"node156\" class=\"node\">\n<title>140232165267056tanh</title>\n<ellipse fill=\"none\" stroke=\"black\" cx=\"3443\" cy=\"-671.5\" rx=\"27\" ry=\"18\"/>\n<text text-anchor=\"middle\" x=\"3443\" y=\"-667.8\" font-family=\"Times,serif\" font-size=\"14.00\">tanh</text>\n</g>\n<!-- 140232165266816&#45;&gt;140232165267056tanh -->\n<g id=\"edge173\" class=\"edge\">\n<title>140232165266816&#45;&gt;140232165267056tanh</title>\n<path fill=\"none\" stroke=\"black\" d=\"M3380.05,-671.5C3389.06,-671.5 3397.79,-671.5 3405.7,-671.5\"/>\n<polygon fill=\"black\" stroke=\"black\" points=\"3405.95,-675 3415.95,-671.5 3405.95,-668 3405.95,-675\"/>\n</g>\n<!-- 140232165266816+&#45;&gt;140232165266816 -->\n<g id=\"edge51\" class=\"edge\">\n<title>140232165266816+&#45;&gt;140232165266816</title>\n<path fill=\"none\" stroke=\"black\" d=\"M3157.21,-671.5C3164.73,-671.5 3173.43,-671.5 3182.67,-671.5\"/>\n<polygon fill=\"black\" stroke=\"black\" points=\"3182.89,-675 3192.89,-671.5 3182.89,-668 3182.89,-675\"/>\n</g>\n<!-- 140232165741952 -->\n<g id=\"node151\" class=\"node\">\n<title>140232165741952</title>\n<polygon fill=\"none\" stroke=\"black\" points=\"331,-110.5 331,-146.5 518,-146.5 518,-110.5 331,-110.5\"/>\n<text text-anchor=\"middle\" x=\"341\" y=\"-124.8\" font-family=\"Times,serif\" font-size=\"14.00\"> </text>\n<polyline fill=\"none\" stroke=\"black\" points=\"351,-110.5 351,-146.5 \"/>\n<text text-anchor=\"middle\" x=\"393.5\" y=\"-124.8\" font-family=\"Times,serif\" font-size=\"14.00\">data &#45;2.6079</text>\n<polyline fill=\"none\" stroke=\"black\" points=\"436,-110.5 436,-146.5 \"/>\n<text text-anchor=\"middle\" x=\"477\" y=\"-124.8\" font-family=\"Times,serif\" font-size=\"14.00\">grad 0.0000</text>\n</g>\n<!-- 140232165741952&#45;&gt;140232165742144+ -->\n<g id=\"edge203\" class=\"edge\">\n<title>140232165741952&#45;&gt;140232165742144+</title>\n<path fill=\"none\" stroke=\"black\" d=\"M518.24,-128.5C530.33,-128.5 542.09,-128.5 552.44,-128.5\"/>\n<polygon fill=\"black\" stroke=\"black\" points=\"552.68,-132 562.68,-128.5 552.68,-125 552.68,-132\"/>\n</g>\n<!-- 140232165741952*&#45;&gt;140232165741952 -->\n<g id=\"edge52\" class=\"edge\">\n<title>140232165741952*&#45;&gt;140232165741952</title>\n<path fill=\"none\" stroke=\"black\" d=\"M286.27,-128.5C296.1,-128.5 307.95,-128.5 320.53,-128.5\"/>\n<polygon fill=\"black\" stroke=\"black\" points=\"320.74,-132 330.74,-128.5 320.74,-125 320.74,-132\"/>\n</g>\n<!-- 140232165742144 -->\n<g id=\"node153\" class=\"node\">\n<title>140232165742144</title>\n<polygon fill=\"none\" stroke=\"black\" points=\"662,-110.5 662,-146.5 849,-146.5 849,-110.5 662,-110.5\"/>\n<text text-anchor=\"middle\" x=\"672\" y=\"-124.8\" font-family=\"Times,serif\" font-size=\"14.00\"> </text>\n<polyline fill=\"none\" stroke=\"black\" points=\"682,-110.5 682,-146.5 \"/>\n<text text-anchor=\"middle\" x=\"724.5\" y=\"-124.8\" font-family=\"Times,serif\" font-size=\"14.00\">data &#45;3.0130</text>\n<polyline fill=\"none\" stroke=\"black\" points=\"767,-110.5 767,-146.5 \"/>\n<text text-anchor=\"middle\" x=\"808\" y=\"-124.8\" font-family=\"Times,serif\" font-size=\"14.00\">grad 0.0000</text>\n</g>\n<!-- 140232165742624+ -->\n<g id=\"node163\" class=\"node\">\n<title>140232165742624+</title>\n<ellipse fill=\"none\" stroke=\"black\" cx=\"921\" cy=\"-128.5\" rx=\"27\" ry=\"18\"/>\n<text text-anchor=\"middle\" x=\"921\" y=\"-124.8\" font-family=\"Times,serif\" font-size=\"14.00\">+</text>\n</g>\n<!-- 140232165742144&#45;&gt;140232165742624+ -->\n<g id=\"edge116\" class=\"edge\">\n<title>140232165742144&#45;&gt;140232165742624+</title>\n<path fill=\"none\" stroke=\"black\" d=\"M849.24,-128.5C861.33,-128.5 873.09,-128.5 883.44,-128.5\"/>\n<polygon fill=\"black\" stroke=\"black\" points=\"883.68,-132 893.68,-128.5 883.68,-125 883.68,-132\"/>\n</g>\n<!-- 140232165742144+&#45;&gt;140232165742144 -->\n<g id=\"edge53\" class=\"edge\">\n<title>140232165742144+&#45;&gt;140232165742144</title>\n<path fill=\"none\" stroke=\"black\" d=\"M617.27,-128.5C627.1,-128.5 638.95,-128.5 651.53,-128.5\"/>\n<polygon fill=\"black\" stroke=\"black\" points=\"651.74,-132 661.74,-128.5 651.74,-125 651.74,-132\"/>\n</g>\n<!-- 140232165267056 -->\n<g id=\"node155\" class=\"node\">\n<title>140232165267056</title>\n<polygon fill=\"none\" stroke=\"black\" points=\"3506,-653.5 3506,-689.5 3693,-689.5 3693,-653.5 3506,-653.5\"/>\n<text text-anchor=\"middle\" x=\"3516\" y=\"-667.8\" font-family=\"Times,serif\" font-size=\"14.00\"> </text>\n<polyline fill=\"none\" stroke=\"black\" points=\"3526,-653.5 3526,-689.5 \"/>\n<text text-anchor=\"middle\" x=\"3568.5\" y=\"-667.8\" font-family=\"Times,serif\" font-size=\"14.00\">data &#45;0.7339</text>\n<polyline fill=\"none\" stroke=\"black\" points=\"3611,-653.5 3611,-689.5 \"/>\n<text text-anchor=\"middle\" x=\"3652\" y=\"-667.8\" font-family=\"Times,serif\" font-size=\"14.00\">grad 0.0000</text>\n</g>\n<!-- 140232165267056&#45;&gt;140232165268400* -->\n<g id=\"edge193\" class=\"edge\">\n<title>140232165267056&#45;&gt;140232165268400*</title>\n<path fill=\"none\" stroke=\"black\" d=\"M3693.05,-671.5C3702.06,-671.5 3710.79,-671.5 3718.7,-671.5\"/>\n<polygon fill=\"black\" stroke=\"black\" points=\"3718.95,-675 3728.95,-671.5 3718.95,-668 3718.95,-675\"/>\n</g>\n<!-- 140232165267056tanh&#45;&gt;140232165267056 -->\n<g id=\"edge54\" class=\"edge\">\n<title>140232165267056tanh&#45;&gt;140232165267056</title>\n<path fill=\"none\" stroke=\"black\" d=\"M3470.21,-671.5C3477.73,-671.5 3486.43,-671.5 3495.67,-671.5\"/>\n<polygon fill=\"black\" stroke=\"black\" points=\"3495.89,-675 3505.89,-671.5 3495.89,-668 3495.89,-675\"/>\n</g>\n<!-- 140232165742384 -->\n<g id=\"node157\" class=\"node\">\n<title>140232165742384</title>\n<polygon fill=\"none\" stroke=\"black\" points=\"322,-0.5 322,-36.5 527,-36.5 527,-0.5 322,-0.5\"/>\n<text text-anchor=\"middle\" x=\"341\" y=\"-14.8\" font-family=\"Times,serif\" font-size=\"14.00\">&#45;1.0</text>\n<polyline fill=\"none\" stroke=\"black\" points=\"360,-0.5 360,-36.5 \"/>\n<text text-anchor=\"middle\" x=\"402.5\" y=\"-14.8\" font-family=\"Times,serif\" font-size=\"14.00\">data &#45;1.0000</text>\n<polyline fill=\"none\" stroke=\"black\" points=\"445,-0.5 445,-36.5 \"/>\n<text text-anchor=\"middle\" x=\"486\" y=\"-14.8\" font-family=\"Times,serif\" font-size=\"14.00\">grad 0.0000</text>\n</g>\n<!-- 140232165742384&#45;&gt;140232165742432* -->\n<g id=\"edge158\" class=\"edge\">\n<title>140232165742384&#45;&gt;140232165742432*</title>\n<path fill=\"none\" stroke=\"black\" d=\"M499.12,-36.55C508.58,-39.32 518.07,-42.32 527,-45.5 537.54,-49.25 548.77,-54.06 558.73,-58.63\"/>\n<polygon fill=\"black\" stroke=\"black\" points=\"557.3,-61.82 567.84,-62.9 560.27,-55.49 557.3,-61.82\"/>\n</g>\n<!-- 140232165742432 -->\n<g id=\"node158\" class=\"node\">\n<title>140232165742432</title>\n<polygon fill=\"none\" stroke=\"black\" points=\"662,-55.5 662,-91.5 849,-91.5 849,-55.5 662,-55.5\"/>\n<text text-anchor=\"middle\" x=\"672\" y=\"-69.8\" font-family=\"Times,serif\" font-size=\"14.00\"> </text>\n<polyline fill=\"none\" stroke=\"black\" points=\"682,-55.5 682,-91.5 \"/>\n<text text-anchor=\"middle\" x=\"724.5\" y=\"-69.8\" font-family=\"Times,serif\" font-size=\"14.00\">data &#45;0.3984</text>\n<polyline fill=\"none\" stroke=\"black\" points=\"767,-55.5 767,-91.5 \"/>\n<text text-anchor=\"middle\" x=\"808\" y=\"-69.8\" font-family=\"Times,serif\" font-size=\"14.00\">grad 0.0000</text>\n</g>\n<!-- 140232165742432&#45;&gt;140232165742624+ -->\n<g id=\"edge77\" class=\"edge\">\n<title>140232165742432&#45;&gt;140232165742624+</title>\n<path fill=\"none\" stroke=\"black\" d=\"M830.12,-91.55C839.58,-94.32 849.07,-97.32 858,-100.5 868.54,-104.25 879.77,-109.06 889.73,-113.63\"/>\n<polygon fill=\"black\" stroke=\"black\" points=\"888.3,-116.82 898.84,-117.9 891.27,-110.49 888.3,-116.82\"/>\n</g>\n<!-- 140232165742432*&#45;&gt;140232165742432 -->\n<g id=\"edge55\" class=\"edge\">\n<title>140232165742432*&#45;&gt;140232165742432</title>\n<path fill=\"none\" stroke=\"black\" d=\"M617.27,-73.5C627.1,-73.5 638.95,-73.5 651.53,-73.5\"/>\n<polygon fill=\"black\" stroke=\"black\" points=\"651.74,-77 661.74,-73.5 651.74,-70 651.74,-77\"/>\n</g>\n<!-- 140232165267296 -->\n<g id=\"node160\" class=\"node\">\n<title>140232165267296</title>\n<polygon fill=\"none\" stroke=\"black\" points=\"3821.5,-405.5 3821.5,-441.5 4003.5,-441.5 4003.5,-405.5 3821.5,-405.5\"/>\n<text text-anchor=\"middle\" x=\"3831.5\" y=\"-419.8\" font-family=\"Times,serif\" font-size=\"14.00\"> </text>\n<polyline fill=\"none\" stroke=\"black\" points=\"3841.5,-405.5 3841.5,-441.5 \"/>\n<text text-anchor=\"middle\" x=\"3881.5\" y=\"-419.8\" font-family=\"Times,serif\" font-size=\"14.00\">data 0.8039</text>\n<polyline fill=\"none\" stroke=\"black\" points=\"3921.5,-405.5 3921.5,-441.5 \"/>\n<text text-anchor=\"middle\" x=\"3962.5\" y=\"-419.8\" font-family=\"Times,serif\" font-size=\"14.00\">grad 0.0000</text>\n</g>\n<!-- 140232165267728+ -->\n<g id=\"node169\" class=\"node\">\n<title>140232165267728+</title>\n<ellipse fill=\"none\" stroke=\"black\" cx=\"4135.5\" cy=\"-492.5\" rx=\"27\" ry=\"18\"/>\n<text text-anchor=\"middle\" x=\"4135.5\" y=\"-488.8\" font-family=\"Times,serif\" font-size=\"14.00\">+</text>\n</g>\n<!-- 140232165267296&#45;&gt;140232165267728+ -->\n<g id=\"edge121\" class=\"edge\">\n<title>140232165267296&#45;&gt;140232165267728+</title>\n<path fill=\"none\" stroke=\"black\" d=\"M3971.28,-441.54C4012.6,-454.44 4066.77,-471.35 4101.12,-482.08\"/>\n<polygon fill=\"black\" stroke=\"black\" points=\"4100.09,-485.42 4110.68,-485.06 4102.17,-478.74 4100.09,-485.42\"/>\n</g>\n<!-- 140232165267296*&#45;&gt;140232165267296 -->\n<g id=\"edge56\" class=\"edge\">\n<title>140232165267296*&#45;&gt;140232165267296</title>\n<path fill=\"none\" stroke=\"black\" d=\"M3782.51,-400.96C3790.83,-402.41 3800.62,-404.12 3811.03,-405.94\"/>\n<polygon fill=\"black\" stroke=\"black\" points=\"3810.73,-409.44 3821.18,-407.72 3811.93,-402.55 3810.73,-409.44\"/>\n</g>\n<!-- 140232165742624 -->\n<g id=\"node162\" class=\"node\">\n<title>140232165742624</title>\n<polygon fill=\"none\" stroke=\"black\" points=\"993,-110.5 993,-146.5 1180,-146.5 1180,-110.5 993,-110.5\"/>\n<text text-anchor=\"middle\" x=\"1003\" y=\"-124.8\" font-family=\"Times,serif\" font-size=\"14.00\"> </text>\n<polyline fill=\"none\" stroke=\"black\" points=\"1013,-110.5 1013,-146.5 \"/>\n<text text-anchor=\"middle\" x=\"1055.5\" y=\"-124.8\" font-family=\"Times,serif\" font-size=\"14.00\">data &#45;3.4114</text>\n<polyline fill=\"none\" stroke=\"black\" points=\"1098,-110.5 1098,-146.5 \"/>\n<text text-anchor=\"middle\" x=\"1139\" y=\"-124.8\" font-family=\"Times,serif\" font-size=\"14.00\">grad 0.0000</text>\n</g>\n<!-- 140232165742624&#45;&gt;140232165742816+ -->\n<g id=\"edge99\" class=\"edge\">\n<title>140232165742624&#45;&gt;140232165742816+</title>\n<path fill=\"none\" stroke=\"black\" d=\"M1161.12,-146.55C1170.58,-149.32 1180.07,-152.32 1189,-155.5 1199.54,-159.25 1210.77,-164.06 1220.73,-168.63\"/>\n<polygon fill=\"black\" stroke=\"black\" points=\"1219.3,-171.82 1229.84,-172.9 1222.27,-165.49 1219.3,-171.82\"/>\n</g>\n<!-- 140232165742624+&#45;&gt;140232165742624 -->\n<g id=\"edge57\" class=\"edge\">\n<title>140232165742624+&#45;&gt;140232165742624</title>\n<path fill=\"none\" stroke=\"black\" d=\"M948.27,-128.5C958.1,-128.5 969.95,-128.5 982.53,-128.5\"/>\n<polygon fill=\"black\" stroke=\"black\" points=\"982.74,-132 992.74,-128.5 982.74,-125 982.74,-132\"/>\n</g>\n<!-- 140232165267536 -->\n<g id=\"node164\" class=\"node\">\n<title>140232165267536</title>\n<polygon fill=\"none\" stroke=\"black\" points=\"3819,-474.5 3819,-510.5 4006,-510.5 4006,-474.5 3819,-474.5\"/>\n<text text-anchor=\"middle\" x=\"3829\" y=\"-488.8\" font-family=\"Times,serif\" font-size=\"14.00\"> </text>\n<polyline fill=\"none\" stroke=\"black\" points=\"3839,-474.5 3839,-510.5 \"/>\n<text text-anchor=\"middle\" x=\"3881.5\" y=\"-488.8\" font-family=\"Times,serif\" font-size=\"14.00\">data &#45;0.1699</text>\n<polyline fill=\"none\" stroke=\"black\" points=\"3924,-474.5 3924,-510.5 \"/>\n<text text-anchor=\"middle\" x=\"3965\" y=\"-488.8\" font-family=\"Times,serif\" font-size=\"14.00\">grad 0.0000</text>\n</g>\n<!-- 140232165267536&#45;&gt;140232165267728+ -->\n<g id=\"edge126\" class=\"edge\">\n<title>140232165267536&#45;&gt;140232165267728+</title>\n<path fill=\"none\" stroke=\"black\" d=\"M4006.26,-492.5C4038.72,-492.5 4073.27,-492.5 4098.32,-492.5\"/>\n<polygon fill=\"black\" stroke=\"black\" points=\"4098.44,-496 4108.44,-492.5 4098.44,-489 4098.44,-496\"/>\n</g>\n<!-- 140232165267536*&#45;&gt;140232165267536 -->\n<g id=\"edge58\" class=\"edge\">\n<title>140232165267536*&#45;&gt;140232165267536</title>\n<path fill=\"none\" stroke=\"black\" d=\"M3783.21,-492.5C3790.73,-492.5 3799.43,-492.5 3808.67,-492.5\"/>\n<polygon fill=\"black\" stroke=\"black\" points=\"3808.89,-496 3818.89,-492.5 3808.89,-489 3808.89,-496\"/>\n</g>\n<!-- 140232165742816 -->\n<g id=\"node166\" class=\"node\">\n<title>140232165742816</title>\n<polygon fill=\"none\" stroke=\"black\" points=\"1315,-165.5 1315,-201.5 1502,-201.5 1502,-165.5 1315,-165.5\"/>\n<text text-anchor=\"middle\" x=\"1325\" y=\"-179.8\" font-family=\"Times,serif\" font-size=\"14.00\"> </text>\n<polyline fill=\"none\" stroke=\"black\" points=\"1335,-165.5 1335,-201.5 \"/>\n<text text-anchor=\"middle\" x=\"1377.5\" y=\"-179.8\" font-family=\"Times,serif\" font-size=\"14.00\">data &#45;3.7152</text>\n<polyline fill=\"none\" stroke=\"black\" points=\"1420,-165.5 1420,-201.5 \"/>\n<text text-anchor=\"middle\" x=\"1461\" y=\"-179.8\" font-family=\"Times,serif\" font-size=\"14.00\">grad 0.0000</text>\n</g>\n<!-- 140232165743056tanh -->\n<g id=\"node172\" class=\"node\">\n<title>140232165743056tanh</title>\n<ellipse fill=\"none\" stroke=\"black\" cx=\"1565\" cy=\"-183.5\" rx=\"27\" ry=\"18\"/>\n<text text-anchor=\"middle\" x=\"1565\" y=\"-179.8\" font-family=\"Times,serif\" font-size=\"14.00\">tanh</text>\n</g>\n<!-- 140232165742816&#45;&gt;140232165743056tanh -->\n<g id=\"edge87\" class=\"edge\">\n<title>140232165742816&#45;&gt;140232165743056tanh</title>\n<path fill=\"none\" stroke=\"black\" d=\"M1502.05,-183.5C1511.06,-183.5 1519.79,-183.5 1527.7,-183.5\"/>\n<polygon fill=\"black\" stroke=\"black\" points=\"1527.95,-187 1537.95,-183.5 1527.95,-180 1527.95,-187\"/>\n</g>\n<!-- 140232165742816+&#45;&gt;140232165742816 -->\n<g id=\"edge59\" class=\"edge\">\n<title>140232165742816+&#45;&gt;140232165742816</title>\n<path fill=\"none\" stroke=\"black\" d=\"M1279.21,-183.5C1286.73,-183.5 1295.43,-183.5 1304.67,-183.5\"/>\n<polygon fill=\"black\" stroke=\"black\" points=\"1304.89,-187 1314.89,-183.5 1304.89,-180 1304.89,-187\"/>\n</g>\n<!-- 140232165267728 -->\n<g id=\"node168\" class=\"node\">\n<title>140232165267728</title>\n<polygon fill=\"none\" stroke=\"black\" points=\"4267.5,-502.5 4267.5,-538.5 4449.5,-538.5 4449.5,-502.5 4267.5,-502.5\"/>\n<text text-anchor=\"middle\" x=\"4277.5\" y=\"-516.8\" font-family=\"Times,serif\" font-size=\"14.00\"> </text>\n<polyline fill=\"none\" stroke=\"black\" points=\"4287.5,-502.5 4287.5,-538.5 \"/>\n<text text-anchor=\"middle\" x=\"4327.5\" y=\"-516.8\" font-family=\"Times,serif\" font-size=\"14.00\">data 0.6340</text>\n<polyline fill=\"none\" stroke=\"black\" points=\"4367.5,-502.5 4367.5,-538.5 \"/>\n<text text-anchor=\"middle\" x=\"4408.5\" y=\"-516.8\" font-family=\"Times,serif\" font-size=\"14.00\">grad 0.0000</text>\n</g>\n<!-- 140232165268160+ -->\n<g id=\"node177\" class=\"node\">\n<title>140232165268160+</title>\n<ellipse fill=\"none\" stroke=\"black\" cx=\"4515\" cy=\"-589.5\" rx=\"27\" ry=\"18\"/>\n<text text-anchor=\"middle\" x=\"4515\" y=\"-585.8\" font-family=\"Times,serif\" font-size=\"14.00\">+</text>\n</g>\n<!-- 140232165267728&#45;&gt;140232165268160+ -->\n<g id=\"edge112\" class=\"edge\">\n<title>140232165267728&#45;&gt;140232165268160+</title>\n<path fill=\"none\" stroke=\"black\" d=\"M4400.09,-538.63C4426.02,-550.21 4459.13,-564.99 4482.96,-575.64\"/>\n<polygon fill=\"black\" stroke=\"black\" points=\"4481.68,-578.9 4492.24,-579.78 4484.53,-572.51 4481.68,-578.9\"/>\n</g>\n<!-- 140232165267728+&#45;&gt;140232165267728 -->\n<g id=\"edge60\" class=\"edge\">\n<title>140232165267728+&#45;&gt;140232165267728</title>\n<path fill=\"none\" stroke=\"black\" d=\"M4162.28,-495.77C4185.81,-498.75 4222.14,-503.35 4257.1,-507.78\"/>\n<polygon fill=\"black\" stroke=\"black\" points=\"4257.04,-511.3 4267.4,-509.08 4257.92,-504.36 4257.04,-511.3\"/>\n</g>\n<!-- 140232165554448 -->\n<g id=\"node170\" class=\"node\">\n<title>140232165554448</title>\n<polygon fill=\"none\" stroke=\"black\" points=\"3508.5,-488.5 3508.5,-524.5 3690.5,-524.5 3690.5,-488.5 3508.5,-488.5\"/>\n<text text-anchor=\"middle\" x=\"3518.5\" y=\"-502.8\" font-family=\"Times,serif\" font-size=\"14.00\"> </text>\n<polyline fill=\"none\" stroke=\"black\" points=\"3528.5,-488.5 3528.5,-524.5 \"/>\n<text text-anchor=\"middle\" x=\"3568.5\" y=\"-502.8\" font-family=\"Times,serif\" font-size=\"14.00\">data 0.5965</text>\n<polyline fill=\"none\" stroke=\"black\" points=\"3608.5,-488.5 3608.5,-524.5 \"/>\n<text text-anchor=\"middle\" x=\"3649.5\" y=\"-502.8\" font-family=\"Times,serif\" font-size=\"14.00\">grad 0.0000</text>\n</g>\n<!-- 140232165554448&#45;&gt;140232165267536* -->\n<g id=\"edge182\" class=\"edge\">\n<title>140232165554448&#45;&gt;140232165267536*</title>\n<path fill=\"none\" stroke=\"black\" d=\"M3690.82,-498.32C3700.77,-497.41 3710.43,-496.54 3719.1,-495.75\"/>\n<polygon fill=\"black\" stroke=\"black\" points=\"3719.49,-499.23 3729.14,-494.84 3718.86,-492.26 3719.49,-499.23\"/>\n</g>\n<!-- 140232165743056 -->\n<g id=\"node171\" class=\"node\">\n<title>140232165743056</title>\n<polygon fill=\"none\" stroke=\"black\" points=\"1628,-165.5 1628,-201.5 1815,-201.5 1815,-165.5 1628,-165.5\"/>\n<text text-anchor=\"middle\" x=\"1638\" y=\"-179.8\" font-family=\"Times,serif\" font-size=\"14.00\"> </text>\n<polyline fill=\"none\" stroke=\"black\" points=\"1648,-165.5 1648,-201.5 \"/>\n<text text-anchor=\"middle\" x=\"1690.5\" y=\"-179.8\" font-family=\"Times,serif\" font-size=\"14.00\">data &#45;0.9988</text>\n<polyline fill=\"none\" stroke=\"black\" points=\"1733,-165.5 1733,-201.5 \"/>\n<text text-anchor=\"middle\" x=\"1774\" y=\"-179.8\" font-family=\"Times,serif\" font-size=\"14.00\">grad 0.0000</text>\n</g>\n<!-- 140232165743056&#45;&gt;140232165769472* -->\n<g id=\"edge196\" class=\"edge\">\n<title>140232165743056&#45;&gt;140232165769472*</title>\n<path fill=\"none\" stroke=\"black\" d=\"M1798.35,-165.43C1804.24,-162.59 1809.88,-159.3 1815,-155.5 1838.16,-138.31 1833.13,-124.14 1851,-101.5 1852.4,-99.72 1853.89,-97.92 1855.42,-96.14\"/>\n<polygon fill=\"black\" stroke=\"black\" points=\"1858.18,-98.3 1862.24,-88.51 1852.96,-93.64 1858.18,-98.3\"/>\n</g>\n<!-- 140232165743056&#45;&gt;140232165771440* -->\n<g id=\"edge74\" class=\"edge\">\n<title>140232165743056&#45;&gt;140232165771440*</title>\n<path fill=\"none\" stroke=\"black\" d=\"M1745.65,-201.51C1765.32,-217.42 1793.67,-241.87 1815,-266.5 1833.88,-288.3 1833.13,-297.86 1851,-320.5 1852.4,-322.28 1853.89,-324.08 1855.42,-325.86\"/>\n<polygon fill=\"black\" stroke=\"black\" points=\"1852.96,-328.36 1862.24,-333.49 1858.18,-323.7 1852.96,-328.36\"/>\n</g>\n<!-- 140232165743056&#45;&gt;140232165755152* -->\n<g id=\"edge133\" class=\"edge\">\n<title>140232165743056&#45;&gt;140232165755152*</title>\n<path fill=\"none\" stroke=\"black\" d=\"M1802.2,-165.31C1806.83,-162.5 1811.16,-159.25 1815,-155.5 1851.52,-119.88 1825.05,-90.42 1851,-46.5 1852.15,-44.55 1853.46,-42.62 1854.86,-40.75\"/>\n<polygon fill=\"black\" stroke=\"black\" points=\"1857.66,-42.85 1861.4,-32.94 1852.3,-38.36 1857.66,-42.85\"/>\n</g>\n<!-- 140232165743056&#45;&gt;140232165265568* -->\n<g id=\"edge119\" class=\"edge\">\n<title>140232165743056&#45;&gt;140232165265568*</title>\n<path fill=\"none\" stroke=\"black\" d=\"M1751.38,-201.71C1772.4,-216.54 1799.77,-239.42 1815,-266.5 1857.57,-342.17 1833.01,-373.56 1851,-458.5 1856.97,-486.67 1864.64,-518.7 1870.1,-540.89\"/>\n<polygon fill=\"black\" stroke=\"black\" points=\"1866.71,-541.78 1872.51,-550.65 1873.51,-540.1 1866.71,-541.78\"/>\n</g>\n<!-- 140232165743056tanh&#45;&gt;140232165743056 -->\n<g id=\"edge61\" class=\"edge\">\n<title>140232165743056tanh&#45;&gt;140232165743056</title>\n<path fill=\"none\" stroke=\"black\" d=\"M1592.21,-183.5C1599.73,-183.5 1608.43,-183.5 1617.67,-183.5\"/>\n<polygon fill=\"black\" stroke=\"black\" points=\"1617.89,-187 1627.89,-183.5 1617.89,-180 1617.89,-187\"/>\n</g>\n<!-- 140232165267968 -->\n<g id=\"node173\" class=\"node\">\n<title>140232165267968</title>\n<polygon fill=\"none\" stroke=\"black\" points=\"4265,-571.5 4265,-607.5 4452,-607.5 4452,-571.5 4265,-571.5\"/>\n<text text-anchor=\"middle\" x=\"4275\" y=\"-585.8\" font-family=\"Times,serif\" font-size=\"14.00\"> </text>\n<polyline fill=\"none\" stroke=\"black\" points=\"4285,-571.5 4285,-607.5 \"/>\n<text text-anchor=\"middle\" x=\"4327.5\" y=\"-585.8\" font-family=\"Times,serif\" font-size=\"14.00\">data &#45;0.3333</text>\n<polyline fill=\"none\" stroke=\"black\" points=\"4370,-571.5 4370,-607.5 \"/>\n<text text-anchor=\"middle\" x=\"4411\" y=\"-585.8\" font-family=\"Times,serif\" font-size=\"14.00\">grad 0.0000</text>\n</g>\n<!-- 140232165267968&#45;&gt;140232165268160+ -->\n<g id=\"edge115\" class=\"edge\">\n<title>140232165267968&#45;&gt;140232165268160+</title>\n<path fill=\"none\" stroke=\"black\" d=\"M4452.05,-589.5C4461.06,-589.5 4469.79,-589.5 4477.7,-589.5\"/>\n<polygon fill=\"black\" stroke=\"black\" points=\"4477.95,-593 4487.95,-589.5 4477.95,-586 4477.95,-593\"/>\n</g>\n<!-- 140232165267968*&#45;&gt;140232165267968 -->\n<g id=\"edge62\" class=\"edge\">\n<title>140232165267968*&#45;&gt;140232165267968</title>\n<path fill=\"none\" stroke=\"black\" d=\"M3783.19,-589.5C3863.98,-589.5 4112.46,-589.5 4254.71,-589.5\"/>\n<polygon fill=\"black\" stroke=\"black\" points=\"4254.76,-593 4264.76,-589.5 4254.76,-586 4254.76,-593\"/>\n</g>\n<!-- 140232165743296 -->\n<g id=\"node175\" class=\"node\">\n<title>140232165743296</title>\n<polygon fill=\"none\" stroke=\"black\" points=\"326.5,-330.5 326.5,-366.5 522.5,-366.5 522.5,-330.5 326.5,-330.5\"/>\n<text text-anchor=\"middle\" x=\"343.5\" y=\"-344.8\" font-family=\"Times,serif\" font-size=\"14.00\">2.0</text>\n<polyline fill=\"none\" stroke=\"black\" points=\"360.5,-330.5 360.5,-366.5 \"/>\n<text text-anchor=\"middle\" x=\"400.5\" y=\"-344.8\" font-family=\"Times,serif\" font-size=\"14.00\">data 2.0000</text>\n<polyline fill=\"none\" stroke=\"black\" points=\"440.5,-330.5 440.5,-366.5 \"/>\n<text text-anchor=\"middle\" x=\"481.5\" y=\"-344.8\" font-family=\"Times,serif\" font-size=\"14.00\">grad 0.0000</text>\n</g>\n<!-- 140232165743296&#45;&gt;140232165743344* -->\n<g id=\"edge176\" class=\"edge\">\n<title>140232165743296&#45;&gt;140232165743344*</title>\n<path fill=\"none\" stroke=\"black\" d=\"M522.97,-348.5C533.49,-348.5 543.65,-348.5 552.71,-348.5\"/>\n<polygon fill=\"black\" stroke=\"black\" points=\"552.81,-352 562.81,-348.5 552.81,-345 552.81,-352\"/>\n</g>\n<!-- 140232165268160 -->\n<g id=\"node176\" class=\"node\">\n<title>140232165268160</title>\n<polygon fill=\"none\" stroke=\"black\" points=\"4578,-586.5 4578,-622.5 4760,-622.5 4760,-586.5 4578,-586.5\"/>\n<text text-anchor=\"middle\" x=\"4588\" y=\"-600.8\" font-family=\"Times,serif\" font-size=\"14.00\"> </text>\n<polyline fill=\"none\" stroke=\"black\" points=\"4598,-586.5 4598,-622.5 \"/>\n<text text-anchor=\"middle\" x=\"4638\" y=\"-600.8\" font-family=\"Times,serif\" font-size=\"14.00\">data 0.3007</text>\n<polyline fill=\"none\" stroke=\"black\" points=\"4678,-586.5 4678,-622.5 \"/>\n<text text-anchor=\"middle\" x=\"4719\" y=\"-600.8\" font-family=\"Times,serif\" font-size=\"14.00\">grad 0.0000</text>\n</g>\n<!-- 140232165268592+ -->\n<g id=\"node186\" class=\"node\">\n<title>140232165268592+</title>\n<ellipse fill=\"none\" stroke=\"black\" cx=\"4823\" cy=\"-627.5\" rx=\"27\" ry=\"18\"/>\n<text text-anchor=\"middle\" x=\"4823\" y=\"-623.8\" font-family=\"Times,serif\" font-size=\"14.00\">+</text>\n</g>\n<!-- 140232165268160&#45;&gt;140232165268592+ -->\n<g id=\"edge114\" class=\"edge\">\n<title>140232165268160&#45;&gt;140232165268592+</title>\n<path fill=\"none\" stroke=\"black\" d=\"M4760.18,-618.15C4769.42,-619.54 4778.38,-620.9 4786.47,-622.12\"/>\n<polygon fill=\"black\" stroke=\"black\" points=\"4786.15,-625.61 4796.56,-623.65 4787.19,-618.69 4786.15,-625.61\"/>\n</g>\n<!-- 140232165268160+&#45;&gt;140232165268160 -->\n<g id=\"edge63\" class=\"edge\">\n<title>140232165268160+&#45;&gt;140232165268160</title>\n<path fill=\"none\" stroke=\"black\" d=\"M4541.78,-592.04C4549.45,-592.8 4558.36,-593.68 4567.82,-594.61\"/>\n<polygon fill=\"black\" stroke=\"black\" points=\"4567.56,-598.11 4577.86,-595.6 4568.25,-591.14 4567.56,-598.11\"/>\n</g>\n<!-- 140232165743344 -->\n<g id=\"node178\" class=\"node\">\n<title>140232165743344</title>\n<polygon fill=\"none\" stroke=\"black\" points=\"662,-330.5 662,-366.5 849,-366.5 849,-330.5 662,-330.5\"/>\n<text text-anchor=\"middle\" x=\"672\" y=\"-344.8\" font-family=\"Times,serif\" font-size=\"14.00\"> </text>\n<polyline fill=\"none\" stroke=\"black\" points=\"682,-330.5 682,-366.5 \"/>\n<text text-anchor=\"middle\" x=\"724.5\" y=\"-344.8\" font-family=\"Times,serif\" font-size=\"14.00\">data &#45;0.3856</text>\n<polyline fill=\"none\" stroke=\"black\" points=\"767,-330.5 767,-366.5 \"/>\n<text text-anchor=\"middle\" x=\"808\" y=\"-344.8\" font-family=\"Times,serif\" font-size=\"14.00\">grad 0.0000</text>\n</g>\n<!-- 140232165743824+ -->\n<g id=\"node188\" class=\"node\">\n<title>140232165743824+</title>\n<ellipse fill=\"none\" stroke=\"black\" cx=\"921\" cy=\"-293.5\" rx=\"27\" ry=\"18\"/>\n<text text-anchor=\"middle\" x=\"921\" y=\"-289.8\" font-family=\"Times,serif\" font-size=\"14.00\">+</text>\n</g>\n<!-- 140232165743344&#45;&gt;140232165743824+ -->\n<g id=\"edge170\" class=\"edge\">\n<title>140232165743344&#45;&gt;140232165743824+</title>\n<path fill=\"none\" stroke=\"black\" d=\"M830.12,-330.45C839.58,-327.68 849.07,-324.68 858,-321.5 868.54,-317.75 879.77,-312.94 889.73,-308.37\"/>\n<polygon fill=\"black\" stroke=\"black\" points=\"891.27,-311.51 898.84,-304.1 888.3,-305.18 891.27,-311.51\"/>\n</g>\n<!-- 140232165743344*&#45;&gt;140232165743344 -->\n<g id=\"edge64\" class=\"edge\">\n<title>140232165743344*&#45;&gt;140232165743344</title>\n<path fill=\"none\" stroke=\"black\" d=\"M617.27,-348.5C627.1,-348.5 638.95,-348.5 651.53,-348.5\"/>\n<polygon fill=\"black\" stroke=\"black\" points=\"651.74,-352 661.74,-348.5 651.74,-345 651.74,-352\"/>\n</g>\n<!-- 140232165268400 -->\n<g id=\"node180\" class=\"node\">\n<title>140232165268400</title>\n<polygon fill=\"none\" stroke=\"black\" points=\"4042,-645.5 4042,-681.5 4229,-681.5 4229,-645.5 4042,-645.5\"/>\n<text text-anchor=\"middle\" x=\"4052\" y=\"-659.8\" font-family=\"Times,serif\" font-size=\"14.00\"> </text>\n<polyline fill=\"none\" stroke=\"black\" points=\"4062,-645.5 4062,-681.5 \"/>\n<text text-anchor=\"middle\" x=\"4104.5\" y=\"-659.8\" font-family=\"Times,serif\" font-size=\"14.00\">data &#45;0.4336</text>\n<polyline fill=\"none\" stroke=\"black\" points=\"4147,-645.5 4147,-681.5 \"/>\n<text text-anchor=\"middle\" x=\"4188\" y=\"-659.8\" font-family=\"Times,serif\" font-size=\"14.00\">grad 0.0000</text>\n</g>\n<!-- 140232165268400&#45;&gt;140232165268592+ -->\n<g id=\"edge81\" class=\"edge\">\n<title>140232165268400&#45;&gt;140232165268592+</title>\n<path fill=\"none\" stroke=\"black\" d=\"M4229.25,-659.78C4351.09,-654.69 4571.68,-644.77 4760,-632.5 4768.43,-631.95 4777.49,-631.27 4786.02,-630.59\"/>\n<polygon fill=\"black\" stroke=\"black\" points=\"4786.39,-634.07 4796.07,-629.77 4785.82,-627.1 4786.39,-634.07\"/>\n</g>\n<!-- 140232165268400*&#45;&gt;140232165268400 -->\n<g id=\"edge65\" class=\"edge\">\n<title>140232165268400*&#45;&gt;140232165268400</title>\n<path fill=\"none\" stroke=\"black\" d=\"M3783.25,-670.94C3833.86,-669.87 3947.4,-667.47 4031.77,-665.68\"/>\n<polygon fill=\"black\" stroke=\"black\" points=\"4031.98,-669.17 4041.9,-665.46 4031.83,-662.18 4031.98,-669.17\"/>\n</g>\n<!-- 140232165743584 -->\n<g id=\"node182\" class=\"node\">\n<title>140232165743584</title>\n<polygon fill=\"none\" stroke=\"black\" points=\"326.5,-220.5 326.5,-256.5 522.5,-256.5 522.5,-220.5 326.5,-220.5\"/>\n<text text-anchor=\"middle\" x=\"343.5\" y=\"-234.8\" font-family=\"Times,serif\" font-size=\"14.00\">3.0</text>\n<polyline fill=\"none\" stroke=\"black\" points=\"360.5,-220.5 360.5,-256.5 \"/>\n<text text-anchor=\"middle\" x=\"400.5\" y=\"-234.8\" font-family=\"Times,serif\" font-size=\"14.00\">data 3.0000</text>\n<polyline fill=\"none\" stroke=\"black\" points=\"440.5,-220.5 440.5,-256.5 \"/>\n<text text-anchor=\"middle\" x=\"481.5\" y=\"-234.8\" font-family=\"Times,serif\" font-size=\"14.00\">grad 0.0000</text>\n</g>\n<!-- 140232165743584&#45;&gt;140232165743632* -->\n<g id=\"edge205\" class=\"edge\">\n<title>140232165743584&#45;&gt;140232165743632*</title>\n<path fill=\"none\" stroke=\"black\" d=\"M496.07,-256.58C506.51,-259.65 517.09,-263 527,-266.5 537.29,-270.14 548.29,-274.7 558.12,-279.03\"/>\n<polygon fill=\"black\" stroke=\"black\" points=\"556.94,-282.33 567.49,-283.24 559.81,-275.95 556.94,-282.33\"/>\n</g>\n<!-- 140232165743632 -->\n<g id=\"node183\" class=\"node\">\n<title>140232165743632</title>\n<polygon fill=\"none\" stroke=\"black\" points=\"664.5,-275.5 664.5,-311.5 846.5,-311.5 846.5,-275.5 664.5,-275.5\"/>\n<text text-anchor=\"middle\" x=\"674.5\" y=\"-289.8\" font-family=\"Times,serif\" font-size=\"14.00\"> </text>\n<polyline fill=\"none\" stroke=\"black\" points=\"684.5,-275.5 684.5,-311.5 \"/>\n<text text-anchor=\"middle\" x=\"724.5\" y=\"-289.8\" font-family=\"Times,serif\" font-size=\"14.00\">data 1.8097</text>\n<polyline fill=\"none\" stroke=\"black\" points=\"764.5,-275.5 764.5,-311.5 \"/>\n<text text-anchor=\"middle\" x=\"805.5\" y=\"-289.8\" font-family=\"Times,serif\" font-size=\"14.00\">grad 0.0000</text>\n</g>\n<!-- 140232165743632&#45;&gt;140232165743824+ -->\n<g id=\"edge124\" class=\"edge\">\n<title>140232165743632&#45;&gt;140232165743824+</title>\n<path fill=\"none\" stroke=\"black\" d=\"M846.86,-293.5C859.84,-293.5 872.53,-293.5 883.6,-293.5\"/>\n<polygon fill=\"black\" stroke=\"black\" points=\"883.67,-297 893.67,-293.5 883.67,-290 883.67,-297\"/>\n</g>\n<!-- 140232165743632*&#45;&gt;140232165743632 -->\n<g id=\"edge66\" class=\"edge\">\n<title>140232165743632*&#45;&gt;140232165743632</title>\n<path fill=\"none\" stroke=\"black\" d=\"M617.27,-293.5C627.7,-293.5 640.41,-293.5 653.84,-293.5\"/>\n<polygon fill=\"black\" stroke=\"black\" points=\"654.23,-297 664.23,-293.5 654.23,-290 654.23,-297\"/>\n</g>\n<!-- 140232165268592 -->\n<g id=\"node185\" class=\"node\">\n<title>140232165268592</title>\n<polygon fill=\"none\" stroke=\"black\" points=\"4886,-609.5 4886,-645.5 5073,-645.5 5073,-609.5 4886,-609.5\"/>\n<text text-anchor=\"middle\" x=\"4896\" y=\"-623.8\" font-family=\"Times,serif\" font-size=\"14.00\"> </text>\n<polyline fill=\"none\" stroke=\"black\" points=\"4906,-609.5 4906,-645.5 \"/>\n<text text-anchor=\"middle\" x=\"4948.5\" y=\"-623.8\" font-family=\"Times,serif\" font-size=\"14.00\">data &#45;0.1329</text>\n<polyline fill=\"none\" stroke=\"black\" points=\"4991,-609.5 4991,-645.5 \"/>\n<text text-anchor=\"middle\" x=\"5032\" y=\"-623.8\" font-family=\"Times,serif\" font-size=\"14.00\">grad 0.0000</text>\n</g>\n<!-- 140232165268592&#45;&gt;140232165268784+ -->\n<g id=\"edge143\" class=\"edge\">\n<title>140232165268592&#45;&gt;140232165268784+</title>\n<path fill=\"none\" stroke=\"black\" d=\"M5073.05,-643.67C5082.34,-645.3 5091.33,-646.87 5099.44,-648.29\"/>\n<polygon fill=\"black\" stroke=\"black\" points=\"5099.1,-651.78 5109.55,-650.05 5100.3,-644.88 5099.1,-651.78\"/>\n</g>\n<!-- 140232165268592+&#45;&gt;140232165268592 -->\n<g id=\"edge67\" class=\"edge\">\n<title>140232165268592+&#45;&gt;140232165268592</title>\n<path fill=\"none\" stroke=\"black\" d=\"M4850.21,-627.5C4857.73,-627.5 4866.43,-627.5 4875.67,-627.5\"/>\n<polygon fill=\"black\" stroke=\"black\" points=\"4875.89,-631 4885.89,-627.5 4875.89,-624 4875.89,-631\"/>\n</g>\n<!-- 140232165743824 -->\n<g id=\"node187\" class=\"node\">\n<title>140232165743824</title>\n<polygon fill=\"none\" stroke=\"black\" points=\"995.5,-275.5 995.5,-311.5 1177.5,-311.5 1177.5,-275.5 995.5,-275.5\"/>\n<text text-anchor=\"middle\" x=\"1005.5\" y=\"-289.8\" font-family=\"Times,serif\" font-size=\"14.00\"> </text>\n<polyline fill=\"none\" stroke=\"black\" points=\"1015.5,-275.5 1015.5,-311.5 \"/>\n<text text-anchor=\"middle\" x=\"1055.5\" y=\"-289.8\" font-family=\"Times,serif\" font-size=\"14.00\">data 1.4240</text>\n<polyline fill=\"none\" stroke=\"black\" points=\"1095.5,-275.5 1095.5,-311.5 \"/>\n<text text-anchor=\"middle\" x=\"1136.5\" y=\"-289.8\" font-family=\"Times,serif\" font-size=\"14.00\">grad 0.0000</text>\n</g>\n<!-- 140232165744304+ -->\n<g id=\"node197\" class=\"node\">\n<title>140232165744304+</title>\n<ellipse fill=\"none\" stroke=\"black\" cx=\"1252\" cy=\"-266.5\" rx=\"27\" ry=\"18\"/>\n<text text-anchor=\"middle\" x=\"1252\" y=\"-262.8\" font-family=\"Times,serif\" font-size=\"14.00\">+</text>\n</g>\n<!-- 140232165743824&#45;&gt;140232165744304+ -->\n<g id=\"edge188\" class=\"edge\">\n<title>140232165743824&#45;&gt;140232165744304+</title>\n<path fill=\"none\" stroke=\"black\" d=\"M1177.86,-278.58C1191.32,-276.36 1204.46,-274.19 1215.81,-272.31\"/>\n<polygon fill=\"black\" stroke=\"black\" points=\"1216.38,-275.76 1225.68,-270.68 1215.24,-268.86 1216.38,-275.76\"/>\n</g>\n<!-- 140232165743824+&#45;&gt;140232165743824 -->\n<g id=\"edge68\" class=\"edge\">\n<title>140232165743824+&#45;&gt;140232165743824</title>\n<path fill=\"none\" stroke=\"black\" d=\"M948.27,-293.5C958.7,-293.5 971.41,-293.5 984.84,-293.5\"/>\n<polygon fill=\"black\" stroke=\"black\" points=\"985.23,-297 995.23,-293.5 985.23,-290 985.23,-297\"/>\n</g>\n<!-- 140232165268784 -->\n<g id=\"node189\" class=\"node\">\n<title>140232165268784</title>\n<polygon fill=\"none\" stroke=\"black\" points=\"5199,-636.5 5199,-672.5 5381,-672.5 5381,-636.5 5199,-636.5\"/>\n<text text-anchor=\"middle\" x=\"5209\" y=\"-650.8\" font-family=\"Times,serif\" font-size=\"14.00\"> </text>\n<polyline fill=\"none\" stroke=\"black\" points=\"5219,-636.5 5219,-672.5 \"/>\n<text text-anchor=\"middle\" x=\"5259\" y=\"-650.8\" font-family=\"Times,serif\" font-size=\"14.00\">data 0.0887</text>\n<polyline fill=\"none\" stroke=\"black\" points=\"5299,-636.5 5299,-672.5 \"/>\n<text text-anchor=\"middle\" x=\"5340\" y=\"-650.8\" font-family=\"Times,serif\" font-size=\"14.00\">grad 0.0000</text>\n</g>\n<!-- 140232165269024tanh -->\n<g id=\"node195\" class=\"node\">\n<title>140232165269024tanh</title>\n<ellipse fill=\"none\" stroke=\"black\" cx=\"5444\" cy=\"-654.5\" rx=\"27\" ry=\"18\"/>\n<text text-anchor=\"middle\" x=\"5444\" y=\"-650.8\" font-family=\"Times,serif\" font-size=\"14.00\">tanh</text>\n</g>\n<!-- 140232165268784&#45;&gt;140232165269024tanh -->\n<g id=\"edge166\" class=\"edge\">\n<title>140232165268784&#45;&gt;140232165269024tanh</title>\n<path fill=\"none\" stroke=\"black\" d=\"M5381.18,-654.5C5390.14,-654.5 5398.83,-654.5 5406.73,-654.5\"/>\n<polygon fill=\"black\" stroke=\"black\" points=\"5406.96,-658 5416.96,-654.5 5406.96,-651 5406.96,-658\"/>\n</g>\n<!-- 140232165268784+&#45;&gt;140232165268784 -->\n<g id=\"edge69\" class=\"edge\">\n<title>140232165268784+&#45;&gt;140232165268784</title>\n<path fill=\"none\" stroke=\"black\" d=\"M5163.13,-654.5C5170.67,-654.5 5179.39,-654.5 5188.64,-654.5\"/>\n<polygon fill=\"black\" stroke=\"black\" points=\"5188.87,-658 5198.87,-654.5 5188.87,-651 5188.87,-658\"/>\n</g>\n<!-- 140232165744064 -->\n<g id=\"node191\" class=\"node\">\n<title>140232165744064</title>\n<polygon fill=\"none\" stroke=\"black\" points=\"653,-165.5 653,-201.5 858,-201.5 858,-165.5 653,-165.5\"/>\n<text text-anchor=\"middle\" x=\"672\" y=\"-179.8\" font-family=\"Times,serif\" font-size=\"14.00\">&#45;1.0</text>\n<polyline fill=\"none\" stroke=\"black\" points=\"691,-165.5 691,-201.5 \"/>\n<text text-anchor=\"middle\" x=\"733.5\" y=\"-179.8\" font-family=\"Times,serif\" font-size=\"14.00\">data &#45;1.0000</text>\n<polyline fill=\"none\" stroke=\"black\" points=\"776,-165.5 776,-201.5 \"/>\n<text text-anchor=\"middle\" x=\"817\" y=\"-179.8\" font-family=\"Times,serif\" font-size=\"14.00\">grad 0.0000</text>\n</g>\n<!-- 140232165744064&#45;&gt;140232165744112* -->\n<g id=\"edge195\" class=\"edge\">\n<title>140232165744064&#45;&gt;140232165744112*</title>\n<path fill=\"none\" stroke=\"black\" d=\"M827.07,-201.58C837.51,-204.65 848.09,-208 858,-211.5 868.29,-215.14 879.29,-219.7 889.12,-224.03\"/>\n<polygon fill=\"black\" stroke=\"black\" points=\"887.94,-227.33 898.49,-228.24 890.81,-220.95 887.94,-227.33\"/>\n</g>\n<!-- 140232165744112 -->\n<g id=\"node192\" class=\"node\">\n<title>140232165744112</title>\n<polygon fill=\"none\" stroke=\"black\" points=\"993,-220.5 993,-256.5 1180,-256.5 1180,-220.5 993,-220.5\"/>\n<text text-anchor=\"middle\" x=\"1003\" y=\"-234.8\" font-family=\"Times,serif\" font-size=\"14.00\"> </text>\n<polyline fill=\"none\" stroke=\"black\" points=\"1013,-220.5 1013,-256.5 \"/>\n<text text-anchor=\"middle\" x=\"1055.5\" y=\"-234.8\" font-family=\"Times,serif\" font-size=\"14.00\">data &#45;0.6001</text>\n<polyline fill=\"none\" stroke=\"black\" points=\"1098,-220.5 1098,-256.5 \"/>\n<text text-anchor=\"middle\" x=\"1139\" y=\"-234.8\" font-family=\"Times,serif\" font-size=\"14.00\">grad 0.0000</text>\n</g>\n<!-- 140232165744112&#45;&gt;140232165744304+ -->\n<g id=\"edge208\" class=\"edge\">\n<title>140232165744112&#45;&gt;140232165744304+</title>\n<path fill=\"none\" stroke=\"black\" d=\"M1180.24,-254.38C1192.78,-256.53 1204.97,-258.62 1215.6,-260.44\"/>\n<polygon fill=\"black\" stroke=\"black\" points=\"1215.21,-263.92 1225.66,-262.16 1216.39,-257.02 1215.21,-263.92\"/>\n</g>\n<!-- 140232165744112*&#45;&gt;140232165744112 -->\n<g id=\"edge70\" class=\"edge\">\n<title>140232165744112*&#45;&gt;140232165744112</title>\n<path fill=\"none\" stroke=\"black\" d=\"M948.27,-238.5C958.1,-238.5 969.95,-238.5 982.53,-238.5\"/>\n<polygon fill=\"black\" stroke=\"black\" points=\"982.74,-242 992.74,-238.5 982.74,-235 982.74,-242\"/>\n</g>\n<!-- 140232165269024 -->\n<g id=\"node194\" class=\"node\">\n<title>140232165269024</title>\n<polygon fill=\"none\" stroke=\"black\" points=\"5507,-636.5 5507,-672.5 5689,-672.5 5689,-636.5 5507,-636.5\"/>\n<text text-anchor=\"middle\" x=\"5517\" y=\"-650.8\" font-family=\"Times,serif\" font-size=\"14.00\"> </text>\n<polyline fill=\"none\" stroke=\"black\" points=\"5527,-636.5 5527,-672.5 \"/>\n<text text-anchor=\"middle\" x=\"5567\" y=\"-650.8\" font-family=\"Times,serif\" font-size=\"14.00\">data 0.0885</text>\n<polyline fill=\"none\" stroke=\"black\" points=\"5607,-636.5 5607,-672.5 \"/>\n<text text-anchor=\"middle\" x=\"5648\" y=\"-650.8\" font-family=\"Times,serif\" font-size=\"14.00\">grad 0.0000</text>\n</g>\n<!-- 140232165269024tanh&#45;&gt;140232165269024 -->\n<g id=\"edge71\" class=\"edge\">\n<title>140232165269024tanh&#45;&gt;140232165269024</title>\n<path fill=\"none\" stroke=\"black\" d=\"M5471.13,-654.5C5478.67,-654.5 5487.39,-654.5 5496.64,-654.5\"/>\n<polygon fill=\"black\" stroke=\"black\" points=\"5496.87,-658 5506.87,-654.5 5496.87,-651 5496.87,-658\"/>\n</g>\n<!-- 140232165744304 -->\n<g id=\"node196\" class=\"node\">\n<title>140232165744304</title>\n<polygon fill=\"none\" stroke=\"black\" points=\"1317.5,-248.5 1317.5,-284.5 1499.5,-284.5 1499.5,-248.5 1317.5,-248.5\"/>\n<text text-anchor=\"middle\" x=\"1327.5\" y=\"-262.8\" font-family=\"Times,serif\" font-size=\"14.00\"> </text>\n<polyline fill=\"none\" stroke=\"black\" points=\"1337.5,-248.5 1337.5,-284.5 \"/>\n<text text-anchor=\"middle\" x=\"1377.5\" y=\"-262.8\" font-family=\"Times,serif\" font-size=\"14.00\">data 0.8239</text>\n<polyline fill=\"none\" stroke=\"black\" points=\"1417.5,-248.5 1417.5,-284.5 \"/>\n<text text-anchor=\"middle\" x=\"1458.5\" y=\"-262.8\" font-family=\"Times,serif\" font-size=\"14.00\">grad 0.0000</text>\n</g>\n<!-- 140232165744304&#45;&gt;140232165744496+ -->\n<g id=\"edge127\" class=\"edge\">\n<title>140232165744304&#45;&gt;140232165744496+</title>\n<path fill=\"none\" stroke=\"black\" d=\"M1499.82,-282.28C1510.07,-284.08 1520.01,-285.81 1528.88,-287.36\"/>\n<polygon fill=\"black\" stroke=\"black\" points=\"1528.3,-290.81 1538.75,-289.09 1529.5,-283.92 1528.3,-290.81\"/>\n</g>\n<!-- 140232165744304+&#45;&gt;140232165744304 -->\n<g id=\"edge72\" class=\"edge\">\n<title>140232165744304+&#45;&gt;140232165744304</title>\n<path fill=\"none\" stroke=\"black\" d=\"M1279.21,-266.5C1287.34,-266.5 1296.85,-266.5 1306.94,-266.5\"/>\n<polygon fill=\"black\" stroke=\"black\" points=\"1307.19,-270 1317.19,-266.5 1307.19,-263 1307.19,-270\"/>\n</g>\n<!-- 140232165744496 -->\n<g id=\"node198\" class=\"node\">\n<title>140232165744496</title>\n<polygon fill=\"none\" stroke=\"black\" points=\"1630.5,-275.5 1630.5,-311.5 1812.5,-311.5 1812.5,-275.5 1630.5,-275.5\"/>\n<text text-anchor=\"middle\" x=\"1640.5\" y=\"-289.8\" font-family=\"Times,serif\" font-size=\"14.00\"> </text>\n<polyline fill=\"none\" stroke=\"black\" points=\"1650.5,-275.5 1650.5,-311.5 \"/>\n<text text-anchor=\"middle\" x=\"1690.5\" y=\"-289.8\" font-family=\"Times,serif\" font-size=\"14.00\">data 1.1514</text>\n<polyline fill=\"none\" stroke=\"black\" points=\"1730.5,-275.5 1730.5,-311.5 \"/>\n<text text-anchor=\"middle\" x=\"1771.5\" y=\"-289.8\" font-family=\"Times,serif\" font-size=\"14.00\">grad 0.0000</text>\n</g>\n<!-- 140232165744496&#45;&gt;140232165752992tanh -->\n<g id=\"edge79\" class=\"edge\">\n<title>140232165744496&#45;&gt;140232165752992tanh</title>\n<path fill=\"none\" stroke=\"black\" d=\"M1812.82,-293.5C1822.57,-293.5 1832.04,-293.5 1840.57,-293.5\"/>\n<polygon fill=\"black\" stroke=\"black\" points=\"1840.83,-297 1850.83,-293.5 1840.83,-290 1840.83,-297\"/>\n</g>\n<!-- 140232165744496+&#45;&gt;140232165744496 -->\n<g id=\"edge73\" class=\"edge\">\n<title>140232165744496+&#45;&gt;140232165744496</title>\n<path fill=\"none\" stroke=\"black\" d=\"M1592.21,-293.5C1600.34,-293.5 1609.85,-293.5 1619.94,-293.5\"/>\n<polygon fill=\"black\" stroke=\"black\" points=\"1620.19,-297 1630.19,-293.5 1620.19,-290 1620.19,-297\"/>\n</g>\n</g>\n</svg>\n"
          },
          "metadata": {},
          "execution_count": 161
        }
      ]
    },
    {
      "cell_type": "markdown",
      "source": [
        "# Toy Dataset"
      ],
      "metadata": {
        "id": "AjdhTDWwfa5E"
      }
    },
    {
      "cell_type": "code",
      "source": [
        "xs = [\n",
        "    [2.0, 3.0, -1.0],\n",
        "    [3.0, -1.0, 0.5],\n",
        "    [0.5, 1.0, 1.0],\n",
        "    [1.0, 1.0, -1.0],\n",
        "]\n",
        "\n",
        "ys = [1.0, -1.0, -1.0, 1.0] # desired targets"
      ],
      "metadata": {
        "id": "VRB_r6UUeRfB"
      },
      "execution_count": 162,
      "outputs": []
    },
    {
      "cell_type": "code",
      "source": [
        "ypred = [n(x) for x in xs]"
      ],
      "metadata": {
        "id": "igUxAzUvfjDP"
      },
      "execution_count": 163,
      "outputs": []
    },
    {
      "cell_type": "code",
      "source": [
        "ypred"
      ],
      "metadata": {
        "colab": {
          "base_uri": "https://localhost:8080/"
        },
        "id": "Re5ViH9Ufx9n",
        "outputId": "5a67535b-a41b-43e0-b76c-b487d3dcc233"
      },
      "execution_count": 164,
      "outputs": [
        {
          "output_type": "execute_result",
          "data": {
            "text/plain": [
              "[Value(data=0.0884815788063107),\n",
              " Value(data=0.6440588710922028),\n",
              " Value(data=0.03644613266348931),\n",
              " Value(data=0.4985391127317591)]"
            ]
          },
          "metadata": {},
          "execution_count": 164
        }
      ]
    },
    {
      "cell_type": "code",
      "source": [
        "loss = loss_func(ypred, ys)\n",
        "loss"
      ],
      "metadata": {
        "colab": {
          "base_uri": "https://localhost:8080/"
        },
        "id": "cvsaQuTmfy-J",
        "outputId": "4b6c9076-2f53-4f01-d79c-752178c7d8fb"
      },
      "execution_count": 165,
      "outputs": [
        {
          "output_type": "execute_result",
          "data": {
            "text/plain": [
              "Value(data=4.859479011165359)"
            ]
          },
          "metadata": {},
          "execution_count": 165
        }
      ]
    },
    {
      "cell_type": "code",
      "source": [
        "loss.backward()"
      ],
      "metadata": {
        "id": "O1nWMSEggdzQ"
      },
      "execution_count": 166,
      "outputs": []
    },
    {
      "cell_type": "markdown",
      "source": [
        "## Massive Comp Graph for Entire Dataset Forward Pass"
      ],
      "metadata": {
        "id": "ZE6fBCkbTmGf"
      }
    },
    {
      "cell_type": "code",
      "source": [
        "# draw_dot(loss)"
      ],
      "metadata": {
        "id": "RcwDEXruhhp1"
      },
      "execution_count": 167,
      "outputs": []
    },
    {
      "cell_type": "code",
      "source": [
        "n.layers[0].neurons[0].w[0].grad"
      ],
      "metadata": {
        "id": "V-KsN4aVhjQV",
        "colab": {
          "base_uri": "https://localhost:8080/"
        },
        "outputId": "651d426d-c691-40e5-8675-6dfabc4293a0"
      },
      "execution_count": 168,
      "outputs": [
        {
          "output_type": "execute_result",
          "data": {
            "text/plain": [
              "1.2232737103333595"
            ]
          },
          "metadata": {},
          "execution_count": 168
        }
      ]
    },
    {
      "cell_type": "code",
      "source": [
        "n.layers[0].neurons[0].w[0].data"
      ],
      "metadata": {
        "colab": {
          "base_uri": "https://localhost:8080/"
        },
        "id": "URzRaRIhJ8yi",
        "outputId": "90358073-1f51-4ffe-b1bd-9de93ff1f4b9"
      },
      "execution_count": 169,
      "outputs": [
        {
          "output_type": "execute_result",
          "data": {
            "text/plain": [
              "0.31255526637777775"
            ]
          },
          "metadata": {},
          "execution_count": 169
        }
      ]
    },
    {
      "cell_type": "markdown",
      "source": [
        "# Manually Implementing Gradient Descent"
      ],
      "metadata": {
        "id": "Em1Dlj0_RXTU"
      }
    },
    {
      "cell_type": "code",
      "source": [
        "eta = 0.1 \n",
        "for p in n.parameters():\n",
        "  # update = val + -eta * grad\n",
        "  p.data += -eta * p.grad\n",
        "\n",
        "n.layers[0].neurons[0].w[0].data"
      ],
      "metadata": {
        "colab": {
          "base_uri": "https://localhost:8080/"
        },
        "id": "jvM66v9qQXH7",
        "outputId": "f8020ebe-d59e-4d73-a93c-82dc9b11d580"
      },
      "execution_count": 170,
      "outputs": [
        {
          "output_type": "execute_result",
          "data": {
            "text/plain": [
              "0.1902278953444418"
            ]
          },
          "metadata": {},
          "execution_count": 170
        }
      ]
    },
    {
      "cell_type": "markdown",
      "source": [
        "# Making a Training Loop"
      ],
      "metadata": {
        "id": "7RoT1E-4wq_F"
      }
    },
    {
      "cell_type": "code",
      "source": [
        "import sys\n",
        "import copy\n",
        "from typing import Callable, Any\n",
        "\n",
        "class MLPTrainer:\n",
        "\n",
        "  def __init__(self, nn: MLP, loss: LossFunction):\n",
        "    self.nn = nn\n",
        "    self.best_checkpoint = nn\n",
        "    self.loss_func = loss\n",
        "  \n",
        "  def model(self) -> MLP:\n",
        "    return self.best_checkpoint\n",
        "  \n",
        "  def zero_grad(self) -> None:\n",
        "    for p in self.nn.parameters():\n",
        "      p.grad = 0.0\n",
        "  \n",
        "  def update(self, eta):\n",
        "    for p in self.nn.parameters():\n",
        "      p.data += -eta * p.grad\n",
        "  \n",
        "  def curr_loss(self, \n",
        "                ypred: List[Any],\n",
        "                labels: List[Any]):\n",
        "    return self.loss_func(ypred, labels)\n",
        "  \n",
        "  def train_stats(self,\n",
        "                  training_data: List[Any],\n",
        "                  labels: List[Any]):\n",
        "    # Final stats\n",
        "    final_pred = [self.best_checkpoint(x) for x in training_data]\n",
        "    final_loss = self.curr_loss(final_pred, labels)\n",
        "\n",
        "    # final outputs\n",
        "    print(f\"Training complete! Final loss: {final_loss.data}\")\n",
        "\n",
        "  def train(self, \n",
        "            training_data: List[Any],\n",
        "            labels: List[Any],\n",
        "            learning_rate: float = 0.01, \n",
        "            learning_rate_decay: float = 0.0,\n",
        "            max_training_steps: int = 100,\n",
        "            early_stopping_loss: float = 1.0e-5):\n",
        "    \n",
        "    # sanity check\n",
        "    assert len(labels) == len(training_data)\n",
        "    \n",
        "    # min loss\n",
        "    init_pred = [self.best_checkpoint(x) for x in training_data]\n",
        "    min_loss = self.curr_loss(init_pred, labels).data\n",
        "\n",
        "    # Training loop\n",
        "    for k in range(max_training_steps):\n",
        "      \n",
        "      # forward pass\n",
        "      ypred = [self.nn(x) for x in training_data]\n",
        "\n",
        "      # calculate loss\n",
        "      loss = self.curr_loss(ypred, labels)\n",
        "      print(f\"Iteration {k+1}: LR: {learning_rate}, Loss: {loss.data}\")\n",
        "      \n",
        "      # update pointer to best model\n",
        "      if loss.data < min_loss:\n",
        "        self.best_checkpoint = copy.deepcopy(self.nn)\n",
        "        min_loss = loss.data\n",
        "\n",
        "      if loss.data <= early_stopping_loss:\n",
        "        print(f\"loss <= {early_stopping_loss}... Exiting!\")\n",
        "        break\n",
        "\n",
        "      # zero out the grad\n",
        "      self.zero_grad()\n",
        "\n",
        "      # Backward pass\n",
        "      loss.backward()\n",
        "\n",
        "      # Weight update\n",
        "      self.update(eta=learning_rate)\n",
        "\n",
        "      # update/decay learning rate\n",
        "      learning_rate -= learning_rate * learning_rate_decay\n"
      ],
      "metadata": {
        "id": "SUSEf7xVNO4l"
      },
      "execution_count": 171,
      "outputs": []
    },
    {
      "cell_type": "markdown",
      "source": [
        "# Use Trainer to Train MLP"
      ],
      "metadata": {
        "id": "6msrvVCC6swL"
      }
    },
    {
      "cell_type": "code",
      "source": [
        "# Random mapping onto outputs\n",
        "# xs = [\n",
        "#     [2.0, 3.0, -1.0],\n",
        "#     [3.0, -1.0, 0.5],\n",
        "#     [0.5, 1.0, 1.0],\n",
        "#     [1.0, 1.0, -1.0],\n",
        "# ]\n",
        "\n",
        "# ys = [1.0, -1.0, -1.0, 1.0] # desired targets\n",
        "\n",
        "# Learn the Cosine Function\n",
        "xs = [[x] for x in np.linspace(-(2 * np.pi), 2 * np.pi, 100).tolist()]\n",
        "random.shuffle(xs)\n",
        "\n",
        "ys = [math.cos(x[0]) for x in xs] # targets\n",
        "\n",
        "# example of the training data\n",
        "input_dim = 1 if not isinstance(xs[0], List) else len(xs[0])\n",
        "\n",
        "# initialize MLP\n",
        "nn = MLP(input_dim, [10, 1])\n",
        "\n",
        "# initialize MLP trainer\n",
        "trainer = MLPTrainer(nn=nn, loss=MSE())\n",
        "\n",
        "# Run training\n",
        "trainer.train(training_data=xs, \n",
        "              labels=ys,\n",
        "              max_training_steps=100, \n",
        "              learning_rate=0.000125, \n",
        "              learning_rate_decay=0.0001)\n",
        "\n",
        "trainer.train_stats(training_data=xs, labels=ys)"
      ],
      "metadata": {
        "colab": {
          "base_uri": "https://localhost:8080/"
        },
        "id": "edCaE5hsS8oe",
        "outputId": "c949cc1f-ab15-467c-c145-c292eca9d7c1"
      },
      "execution_count": 172,
      "outputs": [
        {
          "output_type": "stream",
          "name": "stdout",
          "text": [
            "Iteration 1: LR: 0.000125, Loss: 94.25807090226085\n",
            "Iteration 2: LR: 0.0001249875, Loss: 91.85782135169335\n",
            "Iteration 3: LR: 0.00012497500124999998, Loss: 89.41358215048633\n",
            "Iteration 4: LR: 0.00012496250374987498, Loss: 86.92946087718823\n",
            "Iteration 5: LR: 0.0001249500074995, Loss: 84.40955116811931\n",
            "Iteration 6: LR: 0.00012493751249875005, Loss: 81.85902953997285\n",
            "Iteration 7: LR: 0.00012492501874750018, Loss: 79.28563681823827\n",
            "Iteration 8: LR: 0.00012491252624562542, Loss: 76.70131497413477\n",
            "Iteration 9: LR: 0.00012490003499300085, Loss: 74.12363848728046\n",
            "Iteration 10: LR: 0.00012488754498950154, Loss: 71.57656007136839\n",
            "Iteration 11: LR: 0.0001248750562350026, Loss: 69.08998043194882\n",
            "Iteration 12: LR: 0.0001248625687293791, Loss: 66.69781559780088\n",
            "Iteration 13: LR: 0.00012485008247250617, Loss: 64.43462754074571\n",
            "Iteration 14: LR: 0.00012483759746425893, Loss: 62.33142081783327\n",
            "Iteration 15: LR: 0.0001248251137045125, Loss: 60.41164346176761\n",
            "Iteration 16: LR: 0.00012481263119314205, Loss: 58.688490564611\n",
            "Iteration 17: LR: 0.00012480014993002274, Loss: 57.16418112724895\n",
            "Iteration 18: LR: 0.00012478766991502974, Loss: 55.831175483383646\n",
            "Iteration 19: LR: 0.00012477519114803824, Loss: 54.674696211343615\n",
            "Iteration 20: LR: 0.00012476271362892345, Loss: 53.675687806726074\n",
            "Iteration 21: LR: 0.00012475023735756055, Loss: 52.81349440115555\n",
            "Iteration 22: LR: 0.0001247377623338248, Loss: 52.0678638154745\n",
            "Iteration 23: LR: 0.0001247252885575914, Loss: 51.42019840209136\n",
            "Iteration 24: LR: 0.00012471281602873565, Loss: 50.85416641597484\n",
            "Iteration 25: LR: 0.00012470034474713277, Loss: 50.35585987051998\n",
            "Iteration 26: LR: 0.00012468787471265805, Loss: 49.9136772467839\n",
            "Iteration 27: LR: 0.00012467540592518678, Loss: 49.518067971063616\n",
            "Iteration 28: LR: 0.00012466293838459425, Loss: 49.16122929200992\n",
            "Iteration 29: LR: 0.0001246504720907558, Loss: 48.8368075554389\n",
            "Iteration 30: LR: 0.00012463800704354673, Loss: 48.53963005248136\n",
            "Iteration 31: LR: 0.00012462554324284237, Loss: 48.26547663560381\n",
            "Iteration 32: LR: 0.00012461308068851808, Loss: 48.010891693208784\n",
            "Iteration 33: LR: 0.0001246006193804492, Loss: 47.77303243503545\n",
            "Iteration 34: LR: 0.00012458815931851118, Loss: 47.549548088539396\n",
            "Iteration 35: LR: 0.00012457570050257932, Loss: 47.338484319694956\n",
            "Iteration 36: LR: 0.00012456324293252905, Loss: 47.13820781474068\n",
            "Iteration 37: LR: 0.0001245507866082358, Loss: 46.94734669053305\n",
            "Iteration 38: LR: 0.00012453833152957497, Loss: 46.76474332976408\n",
            "Iteration 39: LR: 0.000124525877696422, Loss: 46.58941677954556\n",
            "Iteration 40: LR: 0.00012451342510865236, Loss: 46.42053262806241\n",
            "Iteration 41: LR: 0.0001245009737661415, Loss: 46.25737875018468\n",
            "Iteration 42: LR: 0.0001244885236687649, Loss: 46.09934555555375\n",
            "Iteration 43: LR: 0.00012447607481639802, Loss: 45.945909833524134\n",
            "Iteration 44: LR: 0.00012446362720891637, Loss: 45.79662142495983\n",
            "Iteration 45: LR: 0.00012445118084619547, Loss: 45.65109221226908\n",
            "Iteration 46: LR: 0.00012443873572811086, Loss: 45.50898685805856\n",
            "Iteration 47: LR: 0.00012442629185453806, Loss: 45.37001509077837\n",
            "Iteration 48: LR: 0.0001244138492253526, Loss: 45.233925171857315\n",
            "Iteration 49: LR: 0.00012440140784043008, Loss: 45.100498377925334\n",
            "Iteration 50: LR: 0.00012438896769964604, Loss: 44.969544282503264\n",
            "Iteration 51: LR: 0.00012437652880287607, Loss: 44.84089677889499\n",
            "Iteration 52: LR: 0.00012436409114999577, Loss: 44.71441065628704\n",
            "Iteration 53: LR: 0.00012435165474088076, Loss: 44.589958681914496\n",
            "Iteration 54: LR: 0.0001243392195754067, Loss: 44.467429077644184\n",
            "Iteration 55: LR: 0.00012432678565344916, Loss: 44.346723382931664\n",
            "Iteration 56: LR: 0.00012431435297488382, Loss: 44.22775460515047\n",
            "Iteration 57: LR: 0.00012430192153958634, Loss: 44.11044563110216\n",
            "Iteration 58: LR: 0.0001242894913474324, Loss: 43.99472786058106\n",
            "Iteration 59: LR: 0.00012427706239829763, Loss: 43.88054001392828\n",
            "Iteration 60: LR: 0.0001242646346920578, Loss: 43.76782714770074\n",
            "Iteration 61: LR: 0.0001242522082285886, Loss: 43.656539771424185\n",
            "Iteration 62: LR: 0.00012423978300776575, Loss: 43.54663310636526\n",
            "Iteration 63: LR: 0.000124227359029465, Loss: 43.438066429808075\n",
            "Iteration 64: LR: 0.00012421493629356204, Loss: 43.330802536036664\n",
            "Iteration 65: LR: 0.00012420251479993268, Loss: 43.22480724688751\n",
            "Iteration 66: LR: 0.0001241900945484527, Loss: 43.12004900518725\n",
            "Iteration 67: LR: 0.00012417767553899784, Loss: 43.016498534899696\n",
            "Iteration 68: LR: 0.00012416525777144395, Loss: 42.91412852031807\n",
            "Iteration 69: LR: 0.0001241528412456668, Loss: 42.81291336557462\n",
            "Iteration 70: LR: 0.00012414042596154223, Loss: 42.712828960528114\n",
            "Iteration 71: LR: 0.00012412801191894607, Loss: 42.61385249421197\n",
            "Iteration 72: LR: 0.0001241155991177542, Loss: 42.51596229259345\n",
            "Iteration 73: LR: 0.0001241031875578424, Loss: 42.41913766979496\n",
            "Iteration 74: LR: 0.00012409077723908664, Loss: 42.32335882408611\n",
            "Iteration 75: LR: 0.00012407836816136274, Loss: 42.228606719424356\n",
            "Iteration 76: LR: 0.0001240659603245466, Loss: 42.134863007140495\n",
            "Iteration 77: LR: 0.00012405355372851416, Loss: 42.04210994908556\n",
            "Iteration 78: LR: 0.0001240411483731413, Loss: 41.95033034819933\n",
            "Iteration 79: LR: 0.00012402874425830398, Loss: 41.85950749418421\n",
            "Iteration 80: LR: 0.00012401634138387816, Loss: 41.76962512503204\n",
            "Iteration 81: LR: 0.00012400393974973978, Loss: 41.68066738177235\n",
            "Iteration 82: LR: 0.0001239915393557648, Loss: 41.59261877019648\n",
            "Iteration 83: LR: 0.00012397914020182923, Loss: 41.50546412842639\n",
            "Iteration 84: LR: 0.00012396674228780906, Loss: 41.41918861005473\n",
            "Iteration 85: LR: 0.00012395434561358028, Loss: 41.33377765827499\n",
            "Iteration 86: LR: 0.0001239419501790189, Loss: 41.24921699273431\n",
            "Iteration 87: LR: 0.000123929555984001, Loss: 41.16549257902937\n",
            "Iteration 88: LR: 0.0001239171630284026, Loss: 41.08259062722798\n",
            "Iteration 89: LR: 0.00012390477131209976, Loss: 41.00049757690303\n",
            "Iteration 90: LR: 0.00012389238083496855, Loss: 40.919200081939\n",
            "Iteration 91: LR: 0.00012387999159688506, Loss: 40.83868500959499\n",
            "Iteration 92: LR: 0.00012386760359772538, Loss: 40.75893942307164\n",
            "Iteration 93: LR: 0.0001238552168373656, Loss: 40.679950580769024\n",
            "Iteration 94: LR: 0.00012384283131568186, Loss: 40.60170592415209\n",
            "Iteration 95: LR: 0.00012383044703255028, Loss: 40.52419307807323\n",
            "Iteration 96: LR: 0.00012381806398784702, Loss: 40.44739983873608\n",
            "Iteration 97: LR: 0.00012380568218144824, Loss: 40.37131417661458\n",
            "Iteration 98: LR: 0.0001237933016132301, Loss: 40.295924223442924\n",
            "Iteration 99: LR: 0.00012378092228306877, Loss: 40.221218276771225\n",
            "Iteration 100: LR: 0.00012376854419084046, Loss: 40.1471847837783\n",
            "Training complete! Final loss: 40.1471847837783\n"
          ]
        }
      ]
    },
    {
      "cell_type": "code",
      "source": [
        "# Print final outputs\n",
        "print(\"Summary outputs:\\n-----------------\")\n",
        "model = trainer.model()\n",
        "model_pred = [model(x) for x in xs]\n",
        "model_loss = trainer.curr_loss(model_pred, ys)\n",
        "print(f\"Final Training Loss: {model_loss.data}\")\n",
        "for o, t in zip(model_pred, ys):\n",
        "  print(\"---------------------\\n\"\\\n",
        "        f\"Truth: {t:.3f}\\n\"\\\n",
        "        f\"Model: {o.data:.3f}\")"
      ],
      "metadata": {
        "id": "sLBplLw1k4_q",
        "colab": {
          "base_uri": "https://localhost:8080/"
        },
        "outputId": "35715976-830a-4b96-98aa-bb469e32d26f"
      },
      "execution_count": 173,
      "outputs": [
        {
          "output_type": "stream",
          "name": "stdout",
          "text": [
            "Summary outputs:\n",
            "-----------------\n",
            "Final Training Loss: 40.1471847837783\n",
            "---------------------\n",
            "Truth: 0.982\n",
            "Model: 0.207\n",
            "---------------------\n",
            "Truth: -0.824\n",
            "Model: -0.007\n",
            "---------------------\n",
            "Truth: -0.701\n",
            "Model: 0.047\n",
            "---------------------\n",
            "Truth: -0.016\n",
            "Model: 0.093\n",
            "---------------------\n",
            "Truth: 0.998\n",
            "Model: 0.215\n",
            "---------------------\n",
            "Truth: 0.472\n",
            "Model: 0.133\n",
            "---------------------\n",
            "Truth: 0.174\n",
            "Model: -0.026\n",
            "---------------------\n",
            "Truth: -0.205\n",
            "Model: 0.017\n",
            "---------------------\n",
            "Truth: -0.205\n",
            "Model: -0.022\n",
            "---------------------\n",
            "Truth: 0.766\n",
            "Model: 0.167\n",
            "---------------------\n",
            "Truth: -0.987\n",
            "Model: 0.018\n",
            "---------------------\n",
            "Truth: -0.655\n",
            "Model: -0.058\n",
            "---------------------\n",
            "Truth: 0.982\n",
            "Model: 0.213\n",
            "---------------------\n",
            "Truth: 0.903\n",
            "Model: 0.189\n",
            "---------------------\n",
            "Truth: 0.679\n",
            "Model: 0.155\n",
            "---------------------\n",
            "Truth: 1.000\n",
            "Model: -0.031\n",
            "---------------------\n",
            "Truth: 0.992\n",
            "Model: -0.031\n",
            "---------------------\n",
            "Truth: 0.992\n",
            "Model: 0.199\n",
            "---------------------\n",
            "Truth: -0.327\n",
            "Model: -0.020\n",
            "---------------------\n",
            "Truth: -0.916\n",
            "Model: 0.028\n",
            "---------------------\n",
            "Truth: -0.142\n",
            "Model: 0.084\n",
            "---------------------\n",
            "Truth: -0.327\n",
            "Model: -0.001\n",
            "---------------------\n",
            "Truth: -0.444\n",
            "Model: -0.020\n",
            "---------------------\n",
            "Truth: -0.745\n",
            "Model: -0.010\n",
            "---------------------\n",
            "Truth: -0.745\n",
            "Model: -0.078\n",
            "---------------------\n",
            "Truth: -0.386\n",
            "Model: -0.226\n",
            "---------------------\n",
            "Truth: 0.950\n",
            "Model: 0.206\n",
            "---------------------\n",
            "Truth: -0.701\n",
            "Model: -0.252\n",
            "---------------------\n",
            "Truth: 0.874\n",
            "Model: 0.165\n",
            "---------------------\n",
            "Truth: 0.111\n",
            "Model: -0.101\n",
            "---------------------\n",
            "Truth: -0.554\n",
            "Model: -0.015\n",
            "---------------------\n",
            "Truth: 0.998\n",
            "Model: 0.213\n",
            "---------------------\n",
            "Truth: -0.999\n",
            "Model: 0.013\n",
            "---------------------\n",
            "Truth: -0.786\n",
            "Model: 0.040\n",
            "---------------------\n",
            "Truth: 0.928\n",
            "Model: 0.177\n",
            "---------------------\n",
            "Truth: 0.048\n",
            "Model: -0.025\n",
            "---------------------\n",
            "Truth: 0.527\n",
            "Model: 0.113\n",
            "---------------------\n",
            "Truth: 0.357\n",
            "Model: -0.011\n",
            "---------------------\n",
            "Truth: 0.580\n",
            "Model: 0.144\n",
            "---------------------\n",
            "Truth: -0.079\n",
            "Model: -0.023\n",
            "---------------------\n",
            "Truth: 0.874\n",
            "Model: -0.030\n",
            "---------------------\n",
            "Truth: -0.266\n",
            "Model: -0.204\n",
            "---------------------\n",
            "Truth: -0.940\n",
            "Model: -0.137\n",
            "---------------------\n",
            "Truth: 0.968\n",
            "Model: 0.188\n",
            "---------------------\n",
            "Truth: 0.297\n",
            "Model: 0.083\n",
            "---------------------\n",
            "Truth: 0.580\n",
            "Model: 0.078\n",
            "---------------------\n",
            "Truth: 1.000\n",
            "Model: 0.209\n",
            "---------------------\n",
            "Truth: 0.950\n",
            "Model: 0.199\n",
            "---------------------\n",
            "Truth: -0.655\n",
            "Model: -0.013\n",
            "---------------------\n",
            "Truth: 0.841\n",
            "Model: 0.175\n",
            "---------------------\n",
            "Truth: 0.968\n",
            "Model: -0.031\n",
            "---------------------\n",
            "Truth: -0.995\n",
            "Model: -0.175\n",
            "---------------------\n",
            "Truth: 0.111\n",
            "Model: 0.102\n",
            "---------------------\n",
            "Truth: -0.940\n",
            "Model: -0.000\n",
            "---------------------\n",
            "Truth: 0.415\n",
            "Model: 0.098\n",
            "---------------------\n",
            "Truth: 0.415\n",
            "Model: -0.028\n",
            "---------------------\n",
            "Truth: -0.266\n",
            "Model: 0.076\n",
            "---------------------\n",
            "Truth: -0.824\n",
            "Model: -0.097\n",
            "---------------------\n",
            "Truth: 0.724\n",
            "Model: 0.140\n",
            "---------------------\n",
            "Truth: -0.975\n",
            "Model: -0.156\n",
            "---------------------\n",
            "Truth: 0.903\n",
            "Model: 0.194\n",
            "---------------------\n",
            "Truth: -0.386\n",
            "Model: 0.068\n",
            "---------------------\n",
            "Truth: 0.236\n",
            "Model: -0.057\n",
            "---------------------\n",
            "Truth: 0.679\n",
            "Model: 0.116\n",
            "---------------------\n",
            "Truth: -0.995\n",
            "Model: 0.008\n",
            "---------------------\n",
            "Truth: 0.297\n",
            "Model: -0.027\n",
            "---------------------\n",
            "Truth: 0.357\n",
            "Model: 0.122\n",
            "---------------------\n",
            "Truth: -0.889\n",
            "Model: -0.004\n",
            "---------------------\n",
            "Truth: 0.631\n",
            "Model: -0.029\n",
            "---------------------\n",
            "Truth: -0.444\n",
            "Model: -0.018\n",
            "---------------------\n",
            "Truth: 0.527\n",
            "Model: -0.029\n",
            "---------------------\n",
            "Truth: -0.500\n",
            "Model: 0.061\n",
            "---------------------\n",
            "Truth: -0.606\n",
            "Model: 0.054\n",
            "---------------------\n",
            "Truth: -0.959\n",
            "Model: -0.223\n",
            "---------------------\n",
            "Truth: 0.805\n",
            "Model: 0.153\n",
            "---------------------\n",
            "Truth: 0.841\n",
            "Model: 0.178\n",
            "---------------------\n",
            "Truth: -0.786\n",
            "Model: -0.251\n",
            "---------------------\n",
            "Truth: -0.016\n",
            "Model: -0.141\n",
            "---------------------\n",
            "Truth: -0.500\n",
            "Model: -0.241\n",
            "---------------------\n",
            "Truth: 0.928\n",
            "Model: -0.031\n",
            "---------------------\n",
            "Truth: 0.472\n",
            "Model: 0.035\n",
            "---------------------\n",
            "Truth: -0.999\n",
            "Model: -0.192\n",
            "---------------------\n",
            "Truth: -0.142\n",
            "Model: -0.176\n",
            "---------------------\n",
            "Truth: 0.724\n",
            "Model: -0.030\n",
            "---------------------\n",
            "Truth: 0.174\n",
            "Model: 0.067\n",
            "---------------------\n",
            "Truth: -0.079\n",
            "Model: 0.034\n",
            "---------------------\n",
            "Truth: 0.048\n",
            "Model: 0.051\n",
            "---------------------\n",
            "Truth: -0.606\n",
            "Model: -0.249\n",
            "---------------------\n",
            "Truth: -0.975\n",
            "Model: 0.004\n",
            "---------------------\n",
            "Truth: -0.889\n",
            "Model: -0.117\n",
            "---------------------\n",
            "Truth: -0.959\n",
            "Model: 0.023\n",
            "---------------------\n",
            "Truth: 0.236\n",
            "Model: 0.112\n",
            "---------------------\n",
            "Truth: -0.554\n",
            "Model: -0.039\n",
            "---------------------\n",
            "Truth: 0.631\n",
            "Model: 0.127\n",
            "---------------------\n",
            "Truth: -0.916\n",
            "Model: -0.235\n",
            "---------------------\n",
            "Truth: 0.805\n",
            "Model: -0.030\n",
            "---------------------\n",
            "Truth: -0.858\n",
            "Model: -0.245\n",
            "---------------------\n",
            "Truth: -0.858\n",
            "Model: 0.034\n",
            "---------------------\n",
            "Truth: -0.987\n",
            "Model: -0.209\n",
            "---------------------\n",
            "Truth: 0.766\n",
            "Model: 0.149\n"
          ]
        }
      ]
    },
    {
      "cell_type": "code",
      "source": [
        "len(x[:1])"
      ],
      "metadata": {
        "colab": {
          "base_uri": "https://localhost:8080/"
        },
        "id": "rRoo5nmr_nrf",
        "outputId": "adab10e6-c9e3-4ebc-b374-96d1be66424d"
      },
      "execution_count": 174,
      "outputs": [
        {
          "output_type": "execute_result",
          "data": {
            "text/plain": [
              "1"
            ]
          },
          "metadata": {},
          "execution_count": 174
        }
      ]
    },
    {
      "cell_type": "code",
      "source": [
        "model_pred = model(xs[0])\n",
        "model_loss = trainer.curr_loss([model_pred], [ys[0]])\n",
        "model_loss.backward()\n",
        "# draw_dot(model_loss)"
      ],
      "metadata": {
        "id": "M2uZIkqBaFAn"
      },
      "execution_count": 175,
      "outputs": []
    },
    {
      "cell_type": "markdown",
      "source": [
        "# Trying a Different Problem & Loss Function"
      ],
      "metadata": {
        "id": "T8j6S-vsfxWy"
      }
    },
    {
      "cell_type": "markdown",
      "source": [
        "Initialize a model"
      ],
      "metadata": {
        "id": "ujINfB62gSX9"
      }
    },
    {
      "cell_type": "code",
      "source": [
        "# initialize a model \n",
        "model = MLP(2, [16, 16, 1]) # 2-layer neural network\n",
        "print(model)\n",
        "print(\"number of parameters\", len(model.parameters()))"
      ],
      "metadata": {
        "colab": {
          "base_uri": "https://localhost:8080/"
        },
        "id": "pvhSKE-nf4CL",
        "outputId": "742a1d78-cef9-495b-d344-b2bffc1a12fc"
      },
      "execution_count": 176,
      "outputs": [
        {
          "output_type": "stream",
          "name": "stdout",
          "text": [
            "<__main__.MLP object at 0x7f8a58746400>\n",
            "number of parameters 337\n"
          ]
        }
      ]
    },
    {
      "cell_type": "code",
      "source": [
        "np.random.seed(1337)\n",
        "random.seed(1337)\n",
        "\n",
        "# make up a dataset\n",
        "\n",
        "from sklearn.datasets import make_moons, make_blobs\n",
        "X, y = make_moons(n_samples=100, noise=0.1)\n",
        "\n",
        "y = y*2 - 1 # make y be -1 or 1\n",
        "# visualize in 2D\n",
        "plt.figure(figsize=(5,5))\n",
        "plt.scatter(X[:,0], X[:,1], c=y, s=20, cmap='jet')"
      ],
      "metadata": {
        "colab": {
          "base_uri": "https://localhost:8080/",
          "height": 338
        },
        "id": "Ss2V-ny0f1cY",
        "outputId": "b2474cc1-1e9f-490a-ffff-9c01ec64a8fe"
      },
      "execution_count": 177,
      "outputs": [
        {
          "output_type": "execute_result",
          "data": {
            "text/plain": [
              "<matplotlib.collections.PathCollection at 0x7f8a57dc3df0>"
            ]
          },
          "metadata": {},
          "execution_count": 177
        },
        {
          "output_type": "display_data",
          "data": {
            "text/plain": [
              "<Figure size 360x360 with 1 Axes>"
            ],
            "image/png": "[encoded data removed]"
          },
          "metadata": {
            "needs_background": "light"
          }
        }
      ]
    },
    {
      "cell_type": "code",
      "source": [
        "y"
      ],
      "metadata": {
        "colab": {
          "base_uri": "https://localhost:8080/"
        },
        "id": "aUQ2FsSagUwc",
        "outputId": "7794d323-5097-4256-e059-8f43126ba443"
      },
      "execution_count": 178,
      "outputs": [
        {
          "output_type": "execute_result",
          "data": {
            "text/plain": [
              "array([-1, -1,  1, -1,  1,  1,  1,  1,  1, -1,  1, -1, -1,  1, -1, -1,  1,\n",
              "        1, -1, -1, -1,  1,  1,  1,  1, -1, -1,  1, -1,  1, -1, -1, -1, -1,\n",
              "        1, -1,  1,  1,  1, -1, -1, -1, -1, -1, -1,  1,  1, -1,  1, -1, -1,\n",
              "        1, -1,  1,  1, -1, -1,  1, -1, -1, -1, -1, -1, -1, -1,  1, -1,  1,\n",
              "        1,  1,  1, -1, -1,  1,  1,  1, -1,  1,  1,  1,  1, -1,  1, -1, -1,\n",
              "       -1,  1,  1, -1, -1,  1,  1,  1,  1,  1,  1, -1,  1,  1, -1])"
            ]
          },
          "metadata": {},
          "execution_count": 178
        }
      ]
    },
    {
      "cell_type": "code",
      "source": [
        "type(X[:3])"
      ],
      "metadata": {
        "colab": {
          "base_uri": "https://localhost:8080/"
        },
        "id": "AbiyN43fggBw",
        "outputId": "9e4ecdac-06f6-4668-fd7f-e53b6611209a"
      },
      "execution_count": 179,
      "outputs": [
        {
          "output_type": "execute_result",
          "data": {
            "text/plain": [
              "numpy.ndarray"
            ]
          },
          "metadata": {},
          "execution_count": 179
        }
      ]
    },
    {
      "cell_type": "code",
      "source": [
        "def loss(batch_size=None):\n",
        "\n",
        "  # Data loader\n",
        "  if batch_size is None:\n",
        "    Xb, yb = X, y\n",
        "  else:\n",
        "    ri = np.random.permutation(X.shape[0])[:batch_size]\n",
        "    Xb, yb = X[ri], y[ri]\n",
        "\n",
        "  inputs = [list(map(Value, xrow)) for xrow in Xb]\n",
        "\n",
        "  # forward pass\n",
        "  scores = list(map(model, inputs))\n",
        "\n",
        "  # SVM max-margin loss\n",
        "  losses = [(1 + -yi * scorei).relu() for yi, scorei in zip(yb, scores)]\n",
        "  data_loss = sum(losses) * (1.0 / len(losses))\n",
        "\n",
        "  # L2 regularization\n",
        "  # alpha * ||w||_2^2\n",
        "  alpha = 1e-4\n",
        "  reg_loss = alpha * sum((p * p for p in model.parameters()))\n",
        "  total_loss = data_loss + reg_loss\n",
        "\n",
        "  # also get accuracy\n",
        "  accuracy = [(yi > 0) == (scorei.data > 0) for yi, scorei in zip(yb, scores)]\n",
        "  return total_loss, sum(accuracy) / len(accuracy)\n"
      ],
      "metadata": {
        "id": "R9qlDG9aZGsM"
      },
      "execution_count": 180,
      "outputs": []
    },
    {
      "cell_type": "code",
      "source": [
        "total_loss, acc = loss()\n",
        "print(f\"total_loss: {total_loss}, accuracy: {acc}\")"
      ],
      "metadata": {
        "colab": {
          "base_uri": "https://localhost:8080/"
        },
        "id": "je4fn4beqMwf",
        "outputId": "7620c755-a4c1-40fd-d394-ff55be28171e"
      },
      "execution_count": 181,
      "outputs": [
        {
          "output_type": "stream",
          "name": "stdout",
          "text": [
            "total_loss: Value(data=0.7691342604056346), accuracy: 0.67\n"
          ]
        }
      ]
    },
    {
      "cell_type": "code",
      "source": [
        "# optimization\n",
        "for k in range(100):\n",
        "\n",
        "  # forward\n",
        "  total_loss, acc = loss()\n",
        "  print(f\"ITER {k} -- total_loss: {total_loss.data:.6f}, accuracy: {acc}\")\n",
        "\n",
        "  # backward\n",
        "  # model.zero_grad()\n",
        "  for p in model.parameters():\n",
        "    p.grad = 0.0\n",
        "  \n",
        "  total_loss.backward()\n",
        "\n",
        "  # update (with learning rate decay)\n",
        "  learning_rate = 1.0 - 0.9*k/100\n",
        "  for p in model.parameters():\n",
        "    p.data += -learning_rate * p.grad\n",
        "  \n",
        "  # break early if acc is 100%\n",
        "  if acc >= 1.0:\n",
        "    print(f\"Acc reached: {acc}, breaking early!\")\n",
        "    break\n"
      ],
      "metadata": {
        "colab": {
          "base_uri": "https://localhost:8080/"
        },
        "id": "cNDnilXqqYmL",
        "outputId": "0561fffc-e626-43de-fc97-33cb31a05a12"
      },
      "execution_count": 188,
      "outputs": [
        {
          "output_type": "stream",
          "name": "stdout",
          "text": [
            "ITER 0 -- total_loss: 0.179562, accuracy: 0.94\n",
            "ITER 1 -- total_loss: 0.194283, accuracy: 0.93\n",
            "ITER 2 -- total_loss: 0.182498, accuracy: 0.93\n",
            "ITER 3 -- total_loss: 0.204180, accuracy: 0.91\n",
            "ITER 4 -- total_loss: 0.160076, accuracy: 0.94\n",
            "ITER 5 -- total_loss: 0.143377, accuracy: 0.95\n",
            "ITER 6 -- total_loss: 0.136516, accuracy: 0.96\n",
            "ITER 7 -- total_loss: 0.161079, accuracy: 0.94\n",
            "ITER 8 -- total_loss: 0.145664, accuracy: 0.96\n",
            "ITER 9 -- total_loss: 0.163147, accuracy: 0.93\n",
            "ITER 10 -- total_loss: 0.124322, accuracy: 0.95\n",
            "ITER 11 -- total_loss: 0.107046, accuracy: 0.97\n",
            "ITER 12 -- total_loss: 0.115175, accuracy: 0.98\n",
            "ITER 13 -- total_loss: 0.171338, accuracy: 0.93\n",
            "ITER 14 -- total_loss: 0.112924, accuracy: 0.95\n",
            "ITER 15 -- total_loss: 0.081759, accuracy: 0.98\n",
            "ITER 16 -- total_loss: 0.077760, accuracy: 0.99\n",
            "ITER 17 -- total_loss: 0.074158, accuracy: 0.99\n",
            "ITER 18 -- total_loss: 0.070889, accuracy: 0.99\n",
            "ITER 19 -- total_loss: 0.068133, accuracy: 0.99\n",
            "ITER 20 -- total_loss: 0.068007, accuracy: 1.0\n",
            "Acc reached: 1.0, breaking early!\n"
          ]
        }
      ]
    },
    {
      "cell_type": "code",
      "source": [
        " # visualize decision boundary\n",
        "\n",
        "h = 0.25\n",
        "x_min, x_max = X[:, 0].min() - 1, X[:, 0].max() + 1\n",
        "y_min, y_max = X[:, 1].min() - 1, X[:, 1].max() + 1\n",
        "xx, yy = np.meshgrid(np.arange(x_min, x_max, h),\n",
        "                     np.arange(y_min, y_max, h))\n",
        "Xmesh = np.c_[xx.ravel(), yy.ravel()]\n",
        "inputs = [list(map(Value, xrow)) for xrow in Xmesh]\n",
        "scores = list(map(model, inputs))\n",
        "Z = np.array([s.data > 0 for s in scores])\n",
        "Z = Z.reshape(xx.shape)\n",
        "\n",
        "fig = plt.figure()\n",
        "plt.contourf(xx, yy, Z, cmap=plt.cm.Spectral, alpha=0.8)\n",
        "plt.scatter(X[:, 0], X[:, 1], c=y, s=40, cmap=plt.cm.Spectral)\n",
        "plt.xlim(xx.min(), xx.max())\n",
        "plt.ylim(yy.min(), yy.max())"
      ],
      "metadata": {
        "colab": {
          "base_uri": "https://localhost:8080/",
          "height": 283
        },
        "id": "uWtNqk6try9K",
        "outputId": "6db46859-b2c8-4d0e-b672-5445d0f421cd"
      },
      "execution_count": 189,
      "outputs": [
        {
          "output_type": "execute_result",
          "data": {
            "text/plain": [
              "(-1.548639298268643, 1.951360701731357)"
            ]
          },
          "metadata": {},
          "execution_count": 189
        },
        {
          "output_type": "display_data",
          "data": {
            "text/plain": [
              "<Figure size 432x288 with 1 Axes>"
            ],
            "image/png": "[encoded data removed]"
          },
          "metadata": {
            "needs_background": "light"
          }
        }
      ]
    },
    {
      "cell_type": "code",
      "source": [
        "def test_sanity_check():\n",
        "\n",
        "    x = Value(-4.0)\n",
        "    z = 2 * x + 2 + x\n",
        "    q = z.tanh() + z * x\n",
        "    h = (z * z).tanh()\n",
        "    # q = z.relu() + z * x\n",
        "    # h = (z * z).relu()\n",
        "    # q = z.softplus() + z * x\n",
        "    # h = (z * z).softplus()\n",
        "    y = h + q + q * x\n",
        "    y.backward()\n",
        "    xmg, ymg = x, y\n",
        "\n",
        "    x = torch.Tensor([-4.0]).double()\n",
        "    x.requires_grad = True\n",
        "    z = 2 * x + 2 + x\n",
        "    # q = z.relu() + z * x\n",
        "    # h = (z * z).relu()\n",
        "    q = z.tanh() + z * x\n",
        "    h = (z * z).tanh()\n",
        "    y = h + q + q * x\n",
        "    y.backward()\n",
        "    xpt, ypt = x, y\n",
        "\n",
        "    tolerance = 1e-3\n",
        "    # forward pass went well\n",
        "    print(f\"ymg.data: {ymg.data}, ypt.data: {ypt.data.item()}\")\n",
        "    assert abs(ymg.data - ypt.data.item()) <= tolerance\n",
        "    # backward pass went well\n",
        "    print(f\"xmg.grad: {xmg.grad}, xpt.grad: {xpt.grad.item()}\")\n",
        "    assert abs(xmg.grad - xpt.grad.item()) <= tolerance\n",
        "\n",
        "test_sanity_check()"
      ],
      "metadata": {
        "colab": {
          "base_uri": "https://localhost:8080/"
        },
        "id": "Cb7_fhDA16ei",
        "outputId": "9c9a5421-7087-4ed0-db15-d216d40aa1d9"
      },
      "execution_count": 190,
      "outputs": [
        {
          "output_type": "stream",
          "name": "stdout",
          "text": [
            "ymg.data: -116.00000001236691, ypt.data: -116.00000001236691\n",
            "xmg.grad: 104.99971597396348, xpt.grad: 104.99999992992078\n"
          ]
        }
      ]
    },
    {
      "cell_type": "code",
      "source": [
        "def test_more_ops():\n",
        "\n",
        "    a = Value(-4.0)\n",
        "    b = Value(2.0)\n",
        "    c = a + b\n",
        "    d = a * b + b**3\n",
        "    c += c + 1\n",
        "    c += 1 + c + (-a)\n",
        "    # d += d * 2 + (b + a).relu()\n",
        "    # d += 3 * d + (b - a).relu()\n",
        "    d += d * 2 + (b + a).tanh()\n",
        "    d += 3 * d + (b - a).tanh()\n",
        "    e = c - d\n",
        "    f = e**2\n",
        "    g = f / 2.0\n",
        "    g += Value(10.0) / f\n",
        "    g.backward()\n",
        "    amg, bmg, gmg = a, b, g\n",
        "\n",
        "    a = torch.Tensor([-4.0]).double()\n",
        "    b = torch.Tensor([2.0]).double()\n",
        "    a.requires_grad = True\n",
        "    b.requires_grad = True\n",
        "    c = a + b\n",
        "    d = a * b + b**3\n",
        "    c = c + c + 1\n",
        "    c = c + 1 + c + (-a)\n",
        "    # d = d + d * 2 + (b + a).relu()\n",
        "    # d = d + 3 * d + (b - a).relu()\n",
        "    d = d + d * 2 + (b + a).tanh()\n",
        "    d = d + 3 * d + (b - a).tanh()\n",
        "    e = c - d\n",
        "    f = e**2\n",
        "    g = f / 2.0\n",
        "    g = g + 10.0 / f\n",
        "    g.backward()\n",
        "    apt, bpt, gpt = a, b, g\n",
        "\n",
        "    tol = 1e-4\n",
        "    # forward pass went well\n",
        "    print(f\"gmg.data: {gmg.data}, gpt.data: {gpt.data.item()}\")\n",
        "    assert abs(gmg.data - gpt.data.item()) < tol\n",
        "    \n",
        "    # backward pass went well\n",
        "    print(f\"amg.grad: {amg.grad}, apt.grad: {apt.grad.item()}\")\n",
        "    # assert abs(amg.grad - apt.grad.item()) < tol\n",
        "\n",
        "    print(f\"bmg.grad: {bmg.grad}, bpt.grad: {bpt.grad.item()}\")\n",
        "    assert abs(bmg.grad - bpt.grad.item()) < tol\n",
        "\n",
        "test_more_ops()"
      ],
      "metadata": {
        "colab": {
          "base_uri": "https://localhost:8080/"
        },
        "id": "fd3qWtp2MeEX",
        "outputId": "ba2d2870-e6ff-48c9-8706-f2a3b40d7f05"
      },
      "execution_count": 191,
      "outputs": [
        {
          "output_type": "stream",
          "name": "stdout",
          "text": [
            "gmg.data: 4.625192144640556, gpt.data: 4.625192144640555\n",
            "amg.grad: 27.060132170806668, apt.grad: 27.060135135849503\n",
            "bmg.grad: 117.33447062123975, bpt.grad: 117.33448345392043\n"
          ]
        }
      ]
    },
    {
      "cell_type": "code",
      "source": [],
      "metadata": {
        "id": "3miMoyu9Rmij"
      },
      "execution_count": 191,
      "outputs": []
    }
  ]
}